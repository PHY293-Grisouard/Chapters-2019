{
 "cells": [
  {
   "cell_type": "raw",
   "metadata": {
    "raw_mimetype": "text/latex",
    "scrolled": true,
    "slideshow": {
     "slide_type": "skip"
    }
   },
   "source": [
    "\\newcommand{\\rads}{~rad.s$^{-1}$}\n",
    "\\newcommand{\\bnabla}{\\boldsymbol{\\nabla}}\n",
    "\\newcommand{\\eexp}[1]{\\textrm{e}^{#1}}\n",
    "\\newcommand{\\glm}[1]{\\overline{#1}^L}\n",
    "\\newcommand{\\di}[0]{\\textrm{d}}\n",
    "\\newcommand{\\bs}[1]{\\boldsymbol{#1}}\n",
    "\\newcommand{\\ode}[2]{\\frac{\\di {#1}}{\\di {#2}}}\n",
    "\\newcommand{\\oden}[3]{\\frac{\\di^{#1} {#2}}{\\di {#3}^{#1}}}\n",
    "\\newcommand{\\odel}[2]{\\di {#1}/\\di {#2}}\n",
    "\\newcommand{\\odeln}[3]{\\di^{#1} {#2}/\\di {#3}^{#1}}\n",
    "\\newcommand{\\pde}[2]{\\frac{\\partial {#1}}{\\partial {#2}}}\n",
    "\\newcommand{\\pden}[3]{\\frac{\\partial^{#1} {#2}}{\\partial {#3}^{#1}}}\n",
    "\\newcommand{\\pdel}[2]{\\partial_{#2} {#1}}\n",
    "\\newcommand{\\pdenl}[3]{\\partial^{#1}_{#3} {#2}}\n",
    "\\newcommand{\\divr}[1]{\\vec\\nabla \\cdot {#1}}\n",
    "\\newcommand{\\divrb}[1]{\\boldsymbol{\\nabla} \\cdot {#1}}\n",
    "\\newcommand{\\grad}[1]{\\vec \\nabla {#1}}\n",
    "\\newcommand{\\gradb}[1]{\\boldsymbol\\nabla {#1}}\n",
    "\\newcommand{\\curl}[1]{\\vec\\nabla \\times {#1}}\n",
    "\\newcommand{\\curlb}[1]{\\boldsymbol{\\nabla}\\times\\boldsymbol{#1}}\n",
    "\\newcommand{\\lapl}[0]{\\vec\\nabla^2}\n",
    "\\newcommand{\\laplb}[0]{\\boldsymbol{\\nabla}^2}\n",
    "\\newcommand{\\cplxi}[0]{\\mathrm i}\n",
    "\\newcommand{\\unit}[1]{\\mathbf{\\hat{#1}}}\n",
    "\\newcommand{\\thrfor}[0]{\\quad\\Rightarrow\\quad}\n",
    "\\newcommand{\\and}[0]{\\quad\\textrm{and}\\quad}\n",
    "\\newcommand{\\oreq}[0]{\\quad\\textrm{or}\\quad}\n",
    "\\newcommand{\\red}[1]{\\textcolor{red}{#1}}\n",
    "\\newcommand{\\blue}[1]{\\textcolor{blue}{#1}}\n",
    "\\newcommand{\\mage}[1]{\\textcolor{magenta}{#1}}\n",
    "\\newcommand{\\stirling}[2]{\\genfrac{[}{]}{0pt}{}{#1}{#2}}"
   ]
  },
  {
   "cell_type": "raw",
   "metadata": {
    "raw_mimetype": "text/latex",
    "slideshow": {
     "slide_type": "skip"
    }
   },
   "source": [
    "\\DefineVerbatimEnvironment{Verbatim}{Verbatim}{fontsize=\\scriptsize}"
   ]
  },
  {
   "cell_type": "markdown",
   "metadata": {
    "slideshow": {
     "slide_type": "skip"
    }
   },
   "source": [
    "$\\newcommand{\\rads}{~rad.s$^{-1}$}$\n",
    "$\\newcommand{\\bnabla}{\\boldsymbol{\\nabla}}$\n",
    "$\\newcommand{\\eexp}[1]{\\textrm{e}^{#1}}$\n",
    "$\\newcommand{\\glm}[1]{\\overline{#1}^L}$\n",
    "$\\newcommand{\\di}[0]{\\textrm{d}}$\n",
    "$\\newcommand{\\bs}[1]{\\boldsymbol{#1}}$\n",
    "$\\newcommand{\\ode}[2]{\\frac{\\di {#1}}{\\di {#2}}}$\n",
    "$\\newcommand{\\oden}[3]{\\frac{\\di^{#1} {#2}}{\\di {#3}^{#1}}}$\n",
    "$\\newcommand{\\odel}[2]{\\di {#1}/\\di {#2}}$\n",
    "$\\newcommand{\\odeln}[3]{\\di^{#1} {#2}/\\di {#3}^{#1}}$\n",
    "$\\newcommand{\\pde}[2]{\\frac{\\partial {#1}}{\\partial {#2}}}$\n",
    "$\\newcommand{\\pden}[3]{\\frac{\\partial^{#1} {#2}}{\\partial {#3}^{#1}}}$\n",
    "$\\newcommand{\\pdel}[2]{\\partial_{#2} {#1}}$\n",
    "$\\newcommand{\\pdenl}[3]{\\partial^{#1}_{#3} {#2}}$\n",
    "$\\newcommand{\\mde}[1]{\\frac{\\textrm{D} {#1}}{\\textrm{D} t}}$\n",
    "$\\newcommand{\\mdel}[1]{\\textrm{D}_t {#1}}$\n",
    "$\\newcommand{\\divr}[1]{\\vec\\nabla \\cdot {#1}}$\n",
    "$\\newcommand{\\divrb}[1]{\\boldsymbol{\\nabla} \\cdot {#1}}$\n",
    "$\\newcommand{\\grad}[1]{\\vec \\nabla {#1}}$\n",
    "$\\newcommand{\\gradb}[1]{\\boldsymbol\\nabla {#1}}$\n",
    "$\\newcommand{\\curl}[1]{\\vec\\nabla \\times {#1}}$\n",
    "$\\newcommand{\\curlb}[1]{\\boldsymbol{\\nabla}\\times\\boldsymbol{#1}}$\n",
    "$\\newcommand{\\lapl}[0]{\\vec\\nabla^2}$\n",
    "$\\newcommand{\\laplb}[0]{\\boldsymbol{\\nabla}^2}$\n",
    "$\\newcommand{\\cplxi}[0]{\\mathrm i}$\n",
    "$\\newcommand{\\unit}[1]{\\mathbf{\\hat{#1}}}$\n",
    "$\\newcommand{\\thrfor}[0]{\\quad\\Rightarrow\\quad}$\n",
    "$\\newcommand{\\and}[0]{\\quad\\textrm{and}\\quad}$\n",
    "$\\newcommand{\\oreq}[0]{\\quad\\textrm{or}\\quad}$\n",
    "$\\newcommand{\\red}[1]{\\textcolor{red}{#1}}$\n",
    "$\\newcommand{\\blue}[1]{\\textcolor{blue}{#1}}$\n",
    "$\\newcommand{\\mage}[1]{\\textcolor{magenta}{#1}}$\n",
    "$\\newcommand{\\stirling}[2]{\\genfrac{[}{]}{0pt}{}{#1}{#2}}$"
   ]
  },
  {
   "cell_type": "code",
   "execution_count": 66,
   "metadata": {
    "raw_mimetype": "text/x-python",
    "slideshow": {
     "slide_type": "skip"
    }
   },
   "outputs": [],
   "source": [
    "from IPython.display import Image, display"
   ]
  },
  {
   "cell_type": "markdown",
   "metadata": {
    "slideshow": {
     "slide_type": "skip"
    }
   },
   "source": [
    "*[Book: chapter 4]*"
   ]
  },
  {
   "cell_type": "markdown",
   "metadata": {
    "slideshow": {
     "slide_type": "skip"
    }
   },
   "source": [
    "# Introduction"
   ]
  },
  {
   "cell_type": "markdown",
   "metadata": {
    "slideshow": {
     "slide_type": "skip"
    }
   },
   "source": [
    "This chapter is a pivotal chapter in this lecture series, and from past experience, one of the most challenging as well.\n",
    "It makes the transition between the behaviour of simple oscillators and wave behaviour.\n",
    "However, these two things look very, very different.\n",
    "Where does the connection happen?"
   ]
  },
  {
   "cell_type": "markdown",
   "metadata": {
    "slideshow": {
     "slide_type": "skip"
    }
   },
   "source": [
    "Here is the pivot, and pretty much the goal of this chapter: when two oscillators are coupled, i.e., the motion of one oscillator is influenced by the motion of the other, any motion that ensues can be thought of as a linear combination of two orthogonal types of motion.\n",
    "The features of these orthogonal types of motion can be found by solving for the eigenmodes of the matrix, corresponding to the $2\\times2$ linear system of equations of the two oscillators.\n",
    "Each orthogonal mode of motion evolves independently, and its evolution equation is that of a simple harmonic oscillator.\n",
    "Physically, the most visible manifestation of one single mode of motion is that all parts of the coupled system of oscillators oscillate at the same frequency, while a different mode will have those parts oscillate at different frequencies."
   ]
  },
  {
   "cell_type": "markdown",
   "metadata": {
    "slideshow": {
     "slide_type": "skip"
    }
   },
   "source": [
    "If now an infinite number of oscillators are coupled, the number of orthogonal modes of motions are not to the number of two, but are infinite.\n",
    "This model can be thought of as a model for a continuous medium, in which waves can propagate.\n",
    "The superposition of this infinite number of modes can lead to an infinite number of patterns that propagate: waves.\n",
    "Once again, each of these modes satisfies the same equation as that of a simple harmonic oscillator."
   ]
  },
  {
   "cell_type": "markdown",
   "metadata": {
    "slideshow": {
     "slide_type": "skip"
    }
   },
   "source": [
    "It is the circle of life, PHY293-style: from oscillators to waves, and back to oscillators.\n",
    "Hopefully, by the end of my lecture series, you will have started to understand this concept.\n",
    "It takes years to fully grasp."
   ]
  },
  {
   "cell_type": "markdown",
   "metadata": {
    "slideshow": {
     "slide_type": "skip"
    }
   },
   "source": [
    "Finally, throughout the chapter, and in order to simplify the presentation, we neglect damping unless otherwise stated."
   ]
  },
  {
   "cell_type": "markdown",
   "metadata": {
    "slideshow": {
     "slide_type": "skip"
    }
   },
   "source": [
    "# Expectations"
   ]
  },
  {
   "cell_type": "markdown",
   "metadata": {
    "slideshow": {
     "slide_type": "skip"
    }
   },
   "source": [
    "## Remember\n",
    "\n",
    "* a normal mode of oscillation is when all of the components of a coupled system of oscillators oscillate at the same frequency. It is an object that is shared globally, by *all* of the components of the oscillator;\n",
    "* that the modes are completely independent when the system is linear; they all have their own quantity of energy;\n",
    "* the definitions of eigenfrequencies, eigenmodes, eigencoordinates. And that the 'eigen' prefix is equivalent to replacing it with the word 'normal';\n",
    "* the determinant of a $2\\times2$ matrix.\n",
    "* in the case of an initial value problen, and as for any second-order system, the future evolution of the system can be predicted if one knows all of its physical characteristics (for pendulums, that would be masses, stiffness(es), lengths and gravitational acceleration), the initial positions of each element of the system, and their initial velocities;\n",
    "* any solution of an initial value problem (IVP) can be written as a linear combination of the $n$ eigenmodes."
   ]
  },
  {
   "cell_type": "markdown",
   "metadata": {
    "slideshow": {
     "slide_type": "skip"
    }
   },
   "source": [
    "## Understand\n",
    "\n",
    "* how results from linear algebra translate into solving the free oscillations of coupled systems of oscillators;\n",
    "* what the process of beating is;\n",
    "* what a degree of freedom is;\n",
    "* how projecting can help solving IVPs faster."
   ]
  },
  {
   "cell_type": "markdown",
   "metadata": {
    "slideshow": {
     "slide_type": "skip"
    }
   },
   "source": [
    "## Apply\n",
    "\n",
    "* a systematic approach to retrieve all of the eigen-stuff is to solve an eigenvalue/vector problem. Remember how to cast the equations of motion into a matrix equation, and how to proceed to find all of the eigen-stuff (solve for the roots of the determinant, replace $\\omega$ by $\\omega_n$ to find the eigenvectors, maybe normalize).\n",
    "* how to use initial conditions to completely solve an initial value problem;\n",
    "* how to use projections to solve IVPs.\n",
    "\n",
    "I am probably forgetting a lot more.\n",
    "See worked examples, tutorials and problem sets."
   ]
  },
  {
   "cell_type": "markdown",
   "metadata": {
    "slideshow": {
     "slide_type": "skip"
    }
   },
   "source": [
    "# Coupled Pendulums"
   ]
  },
  {
   "cell_type": "markdown",
   "metadata": {
    "slideshow": {
     "slide_type": "skip"
    }
   },
   "source": [
    "## Simple Pendulum\n",
    "\n",
    "You have seen in the first problem set that the equation of motion of one undamped pendulum of length $l$ is \n",
    "$$ \\ddot \\theta + \\omega_p^2\\theta = 0,$$ \n",
    "with $\\omega^2_p = g/l$ and $\\theta$ is the angle of the pendulum with respect to the direction of gravity (See King fig. 1.15)."
   ]
  },
  {
   "cell_type": "markdown",
   "metadata": {
    "slideshow": {
     "slide_type": "slide"
    }
   },
   "source": [
    "![Fig. 1: King 1.15](SimplePendulum.png)"
   ]
  },
  {
   "cell_type": "markdown",
   "metadata": {
    "slideshow": {
     "slide_type": "skip"
    }
   },
   "source": [
    "Let $x$ be the distance of the mass from the vertical axis (see King fig. 1.15).\n",
    "We have $x = l \\sin\\theta$.\n",
    "In order for the SHO model to be valid, we need the oscillations to remain small, i.e., $\\theta \\ll 1$ or $\\forall t,\\ x(t) \\ll l$.\n",
    "In this case, $\\sin\\theta \\approx \\theta$, meaning that an equivalent equation of motion for the mass is\n",
    "$$ \\ddot x + \\omega_p^2 x = 0. $$"
   ]
  },
  {
   "cell_type": "markdown",
   "metadata": {
    "slideshow": {
     "slide_type": "skip"
    }
   },
   "source": [
    "## Two Pendulums and a Spring\n",
    "\n",
    "### Qualitative considerations\n",
    "\n",
    "#### Setup\n",
    "\n",
    "Let me use the example of two pendulums of identical lengths $l$, at the end of which two identical masses $m$ hang.\n",
    "The masses are attached via a spring of stiffness $k$, as shown on King fig. 4.2. \n",
    "When the two masses are at rest, both pendulums are vertical, and the spring is not stretched nor compressed."
   ]
  },
  {
   "cell_type": "markdown",
   "metadata": {
    "slideshow": {
     "slide_type": "subslide"
    }
   },
   "source": [
    "![Fig. 2: King 4.2](CoupledPendula.png)"
   ]
  },
  {
   "cell_type": "markdown",
   "metadata": {
    "slideshow": {
     "slide_type": "skip"
    }
   },
   "source": [
    "Let's call $B$ the mass on the left, and $A$ the mass on the right.\n",
    "$x_A$ and $x_B$ are the horizontal distances of each mass from their respective rest positions."
   ]
  },
  {
   "cell_type": "markdown",
   "metadata": {
    "slideshow": {
     "slide_type": "skip"
    }
   },
   "source": [
    "I will show how a systematic mathematical treatment of the equations of motion reveals that there are two \"natural\", i.e., normal, modes of motion.\n",
    "But first, let me introduce them qualitatively."
   ]
  },
  {
   "cell_type": "markdown",
   "metadata": {
    "slideshow": {
     "slide_type": "skip"
    }
   },
   "source": [
    "#### Antisymmetric Normal Mode"
   ]
  },
  {
   "cell_type": "markdown",
   "metadata": {
    "slideshow": {
     "slide_type": "subslide"
    }
   },
   "source": [
    "![Fig. 3: the antisymmetric normal mode](pendulum_syn.gif)"
   ]
  },
  {
   "cell_type": "markdown",
   "metadata": {
    "slideshow": {
     "slide_type": "skip"
    }
   },
   "source": [
    "Imagine that at $t=0$, $x_{A0} = x_{B0} = A$, and both masses are held steady initially (no initial velocity).\n",
    "Since the motion of both masses is initialized in the same way, and both pendulums have the same natural frequency $g/l$, they would naturally oscillate in perfect sync, with same amplitude and in phase:\n",
    "$$ x_A(t) = x_B(t) = A\\cos(\\omega_1 t). $$"
   ]
  },
  {
   "cell_type": "markdown",
   "metadata": {
    "slideshow": {
     "slide_type": "skip"
    }
   },
   "source": [
    "The spring is neither stretched or compressed, and therefore plays no role in this motion.\n",
    "Here is why this mode of motion is what we call a normal mode:\n",
    "**all elements of the coupled system oscillate at the same frequency**, $\\omega_1 =\\omega_p$ here."
   ]
  },
  {
   "cell_type": "markdown",
   "metadata": {
    "slideshow": {
     "slide_type": "skip"
    }
   },
   "source": [
    "#### Symmetric Normal Mode"
   ]
  },
  {
   "cell_type": "markdown",
   "metadata": {
    "slideshow": {
     "slide_type": "skip"
    }
   },
   "source": [
    "![Fig. 4: the symmetric normal mode](pendulum_asyn.gif)"
   ]
  },
  {
   "cell_type": "markdown",
   "metadata": {
    "slideshow": {
     "slide_type": "skip"
    }
   },
   "source": [
    "We can come up with another type of motion, for which each mass will oscillate sinusoidally with a well-defined frequency."
   ]
  },
  {
   "cell_type": "markdown",
   "metadata": {
    "slideshow": {
     "slide_type": "skip"
    }
   },
   "source": [
    "Our initial conditions are now $x_{A0} = -x_{B0} = A$, with zero initial velocity again. By symmetry, one can expect that the motion is now described by \n",
    "$$ x_A(t) = A\\cos(\\omega_2 t)\\quad\\textrm{and}\\quad x_{B}(t) = A\\cos(\\omega_2 t +\\pi). $$"
   ]
  },
  {
   "cell_type": "markdown",
   "metadata": {
    "slideshow": {
     "slide_type": "skip"
    }
   },
   "source": [
    "I.e., both positions will oscillate $\\pi$ rad (or 180$^o$) out of phase, and with a single angular frequency $\\omega_2$.\n",
    "What $\\omega_2$ is, is not trivial at this point, because it will include effects due to both restoring forces, i.e., weight and the spring tension.\n",
    "I will derive it soon after, but at this point, I want you to remember that the type of motion is a normal mode because **both pendulums oscillate at the same frequency.**"
   ]
  },
  {
   "cell_type": "markdown",
   "metadata": {
    "slideshow": {
     "slide_type": "skip"
    }
   },
   "source": [
    "Could I find a third normal mode?\n",
    "The answer is no, because there are only two degrees of freedom (the positions of the masses).\n",
    "Is it obvious?\n",
    "Again, the answer is no.\n",
    "The definitive proof is a basic result of linear algebra.\n",
    "In this chapter, I will simply show that these forms of motion appear naturally out of the equations of motion, that no other normal mode is apparent, and that any other form of motion can be described as a linear combination of both forms of motion."
   ]
  },
  {
   "cell_type": "markdown",
   "metadata": {},
   "source": [
    "***\n",
    "\n",
    "*End of 09/20 lecture, beginning of 09/23 lecture.*\n",
    "\n",
    "***"
   ]
  },
  {
   "cell_type": "markdown",
   "metadata": {
    "slideshow": {
     "slide_type": "skip"
    }
   },
   "source": [
    "### Systematic Derivation"
   ]
  },
  {
   "cell_type": "markdown",
   "metadata": {
    "slideshow": {
     "slide_type": "subslide"
    }
   },
   "source": [
    "![Fig. 5: King 4.7: the general case](GeneralPendulums.png)"
   ]
  },
  {
   "cell_type": "markdown",
   "metadata": {
    "slideshow": {
     "slide_type": "skip"
    }
   },
   "source": [
    "#### Basic equations\n",
    "\n",
    "Let us now drop any symmetry assumption.\n",
    "The positions $x_A(t)$ and $x_B(t)$ are just what they are."
   ]
  },
  {
   "cell_type": "markdown",
   "metadata": {
    "slideshow": {
     "slide_type": "skip"
    }
   },
   "source": [
    "Let us first focus on mass $A$.\n",
    "The weight of $A$ projected on the direction of the velocity is $F_{WA} = -mg x_A/l$ (see Problem Set 1).\n",
    "The force of the spring on the mass is $F_{s\\to A} = -k(x_A - x_B)$.\n",
    "Strictly speaking, this force is aligned with the direction of the spring, but if the angles of displacement are small, we can also say that its projection on the direction of the trajectory is the same."
   ]
  },
  {
   "cell_type": "markdown",
   "metadata": {
    "slideshow": {
     "slide_type": "skip"
    }
   },
   "source": [
    "Newton's 2$^{nd}$ law applied to the mass is therefore \n",
    "$$ m\\ddot x_A + \\frac{mg}{l}x_A + k(x_A - x_B) = 0,$$\n",
    "or, after division by $m$,\n",
    "$$ \\ddot x_A + \\omega_p^2 x_A + \\omega_s^2(x_A - x_B) = 0, \\hspace{5cm} (1) $$\n",
    "with $\\omega_s^2 = k/m$ (recall that $\\omega_p^2 = g/l$).\n",
    "\n",
    "The same reasoning with mass $B$ yields\n",
    "$$ \\ddot x_B + \\omega_p^2x_B + \\omega_s^2(x_B - x_A) = 0. \\hspace{5cm} (2) $$"
   ]
  },
  {
   "cell_type": "markdown",
   "metadata": {
    "slideshow": {
     "slide_type": "skip"
    }
   },
   "source": [
    "Both equations are almost the same, except for the terms that result from the spring tension, which couples the motion of both masses."
   ]
  },
  {
   "cell_type": "markdown",
   "metadata": {
    "slideshow": {
     "slide_type": "skip"
    }
   },
   "source": [
    "#### Change of variables"
   ]
  },
  {
   "cell_type": "markdown",
   "metadata": {
    "slideshow": {
     "slide_type": "skip"
    }
   },
   "source": [
    "It is not obvious at first, how to solve for $x_A$ and $x_B$ with this coupling term involved.\n",
    "The method we use is a **change of variables.**\n",
    "Define\n",
    "$$ q_1 = x_A + x_B \\and q_2 = x_A - x_B.$$"
   ]
  },
  {
   "cell_type": "markdown",
   "metadata": {
    "slideshow": {
     "slide_type": "skip"
    }
   },
   "source": [
    "One simple way to make them appear is to sum and subtract eqns. (1) and (2):\n",
    "\n",
    "* $(1) + (2) \\quad\\Rightarrow\\quad \\ddot q_1 + \\omega_1^2 q_1 = 0$."
   ]
  },
  {
   "cell_type": "markdown",
   "metadata": {
    "slideshow": {
     "slide_type": "skip"
    }
   },
   "source": [
    "This is the equation for an SHO of angular frequency $\\omega_1 = \\omega_p$.\n",
    "The antisymmetric mode of motion that I described earlier on was also oscillating at frequency $\\omega_p$, because the spring wasn't stretching or compressing, and the presence of said string was not modifying the pendulum natural frequency $\\omega_p$.\n",
    "And since it was characterized by $x_A(t) = x_B(t)$, it corresponded to $q_1 = 2x_A = 2x_B \\neq 0$ and $q_2 = 0$."
   ]
  },
  {
   "cell_type": "markdown",
   "metadata": {
    "slideshow": {
     "slide_type": "skip"
    }
   },
   "source": [
    "*Note: why do I feel the need to introduce $\\omega_1$ on top of $\\omega_p$? Because in general, no frequency of the normal modes is equal to one of the frequencies of the uncoupled oscillators. In this simple case, yes, but I do not want to give false impressions.*"
   ]
  },
  {
   "cell_type": "markdown",
   "metadata": {
    "slideshow": {
     "slide_type": "skip"
    }
   },
   "source": [
    "* $(1) - (2) \\quad\\Rightarrow\\quad \\ddot q_2 + \\omega_p^2 q_2 + 2\\omega_s^2 q_2 = 0.$\n",
    "\n",
    "Or, defining $\\omega_2^2 = \\omega_p^2 + 2\\omega_s^2$,\n",
    "$$ \\ddot q_2 + \\omega_2^2 q_2 = 0. $$\n",
    "Recall the symmetric oscillation mode: it was characterized by $x_A = -x_B$, and therefore $q_1 = 0$ and $q_2 = 2x_A = -2x_B \\neq 0.$\n",
    "I had also mentioned, back then, that $\\omega_2^2$ was not trivial, because it was a mix of the influences of gravity and spring tension.\n",
    "Indeed, here, $\\omega_2$ does contain both the influences of gravity (via $\\omega_p^2$) and spring tension (via $2\\omega_s^2$).\n",
    "Therefore, this mode corresponds to the symmetric mode of motion."
   ]
  },
  {
   "cell_type": "markdown",
   "metadata": {
    "slideshow": {
     "slide_type": "skip"
    }
   },
   "source": [
    "#### Comments (to be remembered!)"
   ]
  },
  {
   "cell_type": "markdown",
   "metadata": {
    "slideshow": {
     "slide_type": "skip"
    }
   },
   "source": [
    "* Modes of oscillations cannot be thought on as simple oscillations anymore, with one object or easily identifiable quantity such as electric current describing an oscillation. It is a **global** concept in which **all** components of one coupled system of oscillators oscillate in phase, at the same frequency, as if described by a (D)SHO model.\n",
    "* The oscillations of each individual component are not independent from each other, but **the modes are completely independent**: there is no trace of $q_1$ in the equation for $q_2$, and vice-versa. It means that if one initiates the coupled system in a funky way, and the coupled system does a weird dance of oscillations, the degree of complexity is actually finite: one mode has a certain amplitude and a certain phase, and the other mode has a certain amplitude, presumably different, and a certain phase shift with the first mode. The pattern of oscillations might look crazy, but there are only two modes, and they don't exchange energy from one to the other as long as the system is linear.\n",
    "* $q_1$ and $q_2$ are called the **normal coordinates**, or **eigencoordinates**, of the **normal modes**, or **eigenmodes**. Their respective **normal frequencies**, or **eigenfrequencies**, are $\\omega_1$ and $\\omega_2$."
   ]
  },
  {
   "cell_type": "markdown",
   "metadata": {
    "slideshow": {
     "slide_type": "skip"
    }
   },
   "source": [
    "It is as if there is a physical space, in which physical coordinates $x_A$ and $x_B$ exist, and a dual space, in which $q_1$ and $q_2$ exist.\n",
    "Both spaces describe the same physical reality, but because they don't describe it in the same way, the \"dual\" space may be more useful in some cases, including this one."
   ]
  },
  {
   "cell_type": "markdown",
   "metadata": {
    "slideshow": {
     "slide_type": "skip"
    }
   },
   "source": [
    "When you start studying Fourier series and later on Fourier analysis, you may call this dual space the \"Fourier\" space, or \"spectral\" space.\n",
    "It has nothing to do with Halloween, and everything to do with the fact that the visualization of the physical reality in this dual space is called a (Fourier) spectrum, which looks like the display on a sound equalizer (and it is not a coincidence).\n",
    "I may use the term \"Fourier\" inadvertently, by sheer force of habit."
   ]
  },
  {
   "cell_type": "markdown",
   "metadata": {
    "slideshow": {
     "slide_type": "skip"
    }
   },
   "source": [
    "### More on the Independence of the Modes"
   ]
  },
  {
   "cell_type": "markdown",
   "metadata": {
    "slideshow": {
     "slide_type": "skip"
    }
   },
   "source": [
    "A bit more algebra, because I want to drive home the fact that the two modes are independent.\n",
    "If the coupled system is initiated somewhat randomly, both modes of oscillation will coexist.\n",
    "They both are solutions of two different SHO equations, and their expressions are therefore\n",
    "$$q_1 = C_1\\cos(\\omega_1 t + \\phi_1)\\and q_2 = C_2\\cos(\\omega_2 t + \\phi_2).$$"
   ]
  },
  {
   "cell_type": "markdown",
   "metadata": {
    "slideshow": {
     "slide_type": "skip"
    }
   },
   "source": [
    "In physical coordinates, this translates into\n",
    "$$ x_A = \\frac{q_1 + q_2}2 = \\frac12\\left[C_1\\cos(\\omega_1 t + \\phi_1) + C_2\\cos(\\omega_2 t + \\phi_2) \\right],$$\n",
    "$$ x_B = \\frac{q_1 - q_2}2 = \\frac12\\left[C_1\\cos(\\omega_1 t + \\phi_1) - C_2\\cos(\\omega_2 t + \\phi_2) \\right].$$"
   ]
  },
  {
   "cell_type": "markdown",
   "metadata": {
    "slideshow": {
     "slide_type": "skip"
    }
   },
   "source": [
    "Meaning that any motion can be considered a superposition of the two modes.\n",
    "For the motion of the antisymmetric mode, $C_2 = 0$, for the symmetric mode, $C_1 = 0$, and in general, $C_1\\neq 0$ and $C_2\\neq 0$."
   ]
  },
  {
   "cell_type": "markdown",
   "metadata": {
    "slideshow": {
     "slide_type": "skip"
    }
   },
   "source": [
    "Here I show that the two modes each have a certain amount of energy, and that this energy does not get traded from one mode to the other.\n",
    "The kinetic energies of $A$ and $B$ are \n",
    "$$ K_{A, B} = \\frac12 m(\\dot x_{A, B})^2, $$\n",
    "their gravitational potential energies are\n",
    "$$ U^{(g)}_{A, B} = \\frac12\\frac{mgx_{A, B}^2}{l} = \\frac12 m\\omega_p^2 x_{A, B}^2 \\quad\\textrm{(see PS1 or King § 1.3.2)}, $$"
   ]
  },
  {
   "cell_type": "markdown",
   "metadata": {
    "slideshow": {
     "slide_type": "skip"
    }
   },
   "source": [
    "and the potential energy stored in the spring is\n",
    "$$ U^{(s)}  = \\frac12 k (x_A - x_B)^2 = \\frac12 m\\omega_s^2 (x_A - x_B)^2.$$ "
   ]
  },
  {
   "cell_type": "markdown",
   "metadata": {
    "slideshow": {
     "slide_type": "skip"
    }
   },
   "source": [
    "The total energy stored in the coupled system is therefore\n",
    "\\begin{align*}\n",
    "    E & = K_A + K_B + U^{(g)}_A + U^{(g)}_B + U^{(s)}, \\\\ \n",
    "      & = \\frac m2\\left\\{(\\dot x_A)^2 + (\\dot x_B)^2 + \\omega_p^2 \\left[x_A^2 + x_B^2\\right] + \\omega_s^2 (x_A - x_B)^2\\right\\}, \\\\\n",
    "      & = E_1 + E_2,\n",
    "\\end{align*}\n",
    "with \n",
    "$$ E_1 = \\frac14 m \\left[(\\dot q_1)^2 + \\omega_1^2 q_1^2\\right]\\and E_2 = \\frac14 m \\left[(\\dot q_2)^2 + \\omega_2^2 q_2^2\\right].$$\n",
    "(Recall that $\\omega_1^2 = \\omega_p^2$ and $\\omega_2^2 = \\omega_p^2 + 2\\omega_s^2$)"
   ]
  },
  {
   "cell_type": "markdown",
   "metadata": {
    "slideshow": {
     "slide_type": "skip"
    }
   },
   "source": [
    "As for the coordinates, each reservoir of energy, $E_1$ and $E_2$, is uncoupled from the other one: **there is no exchange of energy from one mode of motion to the other**.\n",
    "This is true for any system of coupled oscillators, as long as the linear model is valid."
   ]
  },
  {
   "cell_type": "markdown",
   "metadata": {
    "slideshow": {
     "slide_type": "skip"
    }
   },
   "source": [
    "# Beating Phenomenon"
   ]
  },
  {
   "cell_type": "markdown",
   "metadata": {
    "slideshow": {
     "slide_type": "skip"
    }
   },
   "source": [
    "When a coupled system contains two frequencies that are very close to each other, we observe what is called a beating phenomenon in physical space."
   ]
  },
  {
   "cell_type": "markdown",
   "metadata": {
    "slideshow": {
     "slide_type": "skip"
    }
   },
   "source": [
    "Take the solutions we derived earlier in physical space, but let us assume that $\\phi_1 = \\phi_2 = 0$.\n",
    "It can be physically realized by choosing initial conditions appropriately, but it can also be decided so by realizing that what we are about to describe stays valid, no matter how the phases are shifted.\n",
    "$$ x_A = \\frac12\\left[C_1\\cos(\\omega_1 t) + C_2\\cos(\\omega_2 t) \\right],$$\n",
    "$$ x_B = \\frac12\\left[C_1\\cos(\\omega_1 t) - C_2\\cos(\\omega_2 t) \\right].$$"
   ]
  },
  {
   "cell_type": "markdown",
   "metadata": {
    "slideshow": {
     "slide_type": "skip"
    }
   },
   "source": [
    "Let us also consider the case $C_1 = C_2 = C$, because it is the simplest case that can illustrate the beating phenomenon:\n",
    "\n",
    "$$ x_A = \\frac C2\\left[\\cos(\\omega_1 t) + \\cos(\\omega_2 t) \\right] = C\\cos\\left(\\frac{\\omega_1 + \\omega_2}2 t\\right)\\cos\\left(\\frac{\\omega_2 - \\omega_1}2 t\\right),$$\n",
    "$$ x_B = \\frac C2\\left[\\cos(\\omega_1 t) - \\cos(\\omega_2 t) \\right] = C\\sin\\left(\\frac{\\omega_1 + \\omega_2}2 t\\right)\\sin\\left(\\frac{\\omega_2 - \\omega_1}2 t\\right).$$"
   ]
  },
  {
   "cell_type": "markdown",
   "metadata": {
    "slideshow": {
     "slide_type": "skip"
    }
   },
   "source": [
    "***\n",
    "\n",
    "This went fast, let me do it more slowly.\n",
    "A bit of trigonometry:\n",
    "recall that \n",
    "$$\\cos(a+b) = \\cos a \\cos b - \\sin a \\sin b$$\n",
    "and \n",
    "$$\\cos(a-b) = \\cos a \\cos b + \\sin a \\sin b.$$\n",
    "Sum those two and you get:\n",
    "$$ 2\\cos a\\cos b = \\cos(a-b) + \\cos(a+b). $$\n",
    "Subtract them and you obtain\n",
    "$$ 2\\sin a\\sin b = \\cos(a-b) - \\cos(a+b). $$\n",
    "\n",
    "Now, consider \n",
    "$$a - b = \\omega_1 t \\and a + b = \\omega_2 t $$\n",
    "$$\\thrfor a = \\frac{\\omega_1 + \\omega_2}2 t \\and b = \\frac{\\omega_2 - \\omega_1}2 t. $$\n",
    "\n",
    "Using these formulas yields the result.\n",
    "\n",
    "***"
   ]
  },
  {
   "cell_type": "markdown",
   "metadata": {
    "slideshow": {
     "slide_type": "skip"
    }
   },
   "source": [
    "Or, if we define $\\Delta\\omega = (\\omega_2 - \\omega_1)/2$,\n",
    "$$ x_A = C\\cos\\left((\\omega_1 + \\Delta\\omega) t\\right)\\cos\\left(\\Delta\\omega t\\right),$$\n",
    "$$ x_B = C\\sin\\left((\\omega_1 + \\Delta\\omega) t\\right)\\sin\\left(\\Delta\\omega t\\right).$$"
   ]
  },
  {
   "cell_type": "markdown",
   "metadata": {
    "slideshow": {
     "slide_type": "skip"
    }
   },
   "source": [
    "Now, what if $\\Delta\\omega \\ll \\omega_1$? Then, \n",
    "$$ x_A \\approx C\\cos\\left(\\omega_1 t\\right)\\cos\\left(\\Delta\\omega t\\right),$$\n",
    "$$ x_B \\approx C\\sin\\left(\\omega_1 t\\right)\\sin\\left(\\Delta\\omega t\\right).$$"
   ]
  },
  {
   "cell_type": "markdown",
   "metadata": {
    "slideshow": {
     "slide_type": "skip"
    }
   },
   "source": [
    "Because $\\Delta\\omega \\ll \\omega_1$, the curves look like an oscillation, oscillating at frequency $\\omega_1$, constrained by a sinusoidal envelope of frequency $\\omega_2$ (see figs. 6 & 7)."
   ]
  },
  {
   "cell_type": "code",
   "execution_count": 67,
   "metadata": {
    "slideshow": {
     "slide_type": "skip"
    }
   },
   "outputs": [],
   "source": [
    "import numpy as np\n",
    "import matplotlib.pyplot as plt\n",
    "\n",
    "# basic quantities\n",
    "k = 0.5  # spring stiffness [N/m]\n",
    "m = 0.4  # mass [kg]\n",
    "g = 9.81  # gravitational acceleration [m/s2]\n",
    "l = .5  # lengths of pendulums  [m]\n",
    "C = 1.e-1  # amplitude of motion [m]\n",
    "ftsz = 13  # font size on plots\n",
    "t_end = 60.\n",
    "\n",
    "# derived quantities\n",
    "t = np.linspace(0., t_end, 2048)\n",
    "omega_p = np.sqrt(g/l)  # natural frequency of uncoupled pendulum\n",
    "omega_s = np.sqrt(k/m)  # natural frequency of spring\n",
    "\n",
    "omega_1 = omega_p  # 1st eigenfrequency\n",
    "omega_2 = np.sqrt(omega_p**2 + 2.*omega_s**2)  # 2nd eigenfrequency\n",
    "\n",
    "xA = 0.5*C*(np.cos(omega_1*t) + np.cos(omega_2*t))  # position of A\n",
    "\n",
    "Domega = 0.5*(omega_2 - omega_1)  # Delta omega\n",
    "envelope = C*np.cos(Domega*t)\n",
    "\n",
    "# 1st plot: each mode individually\n",
    "plt.figure()\n",
    "plt.subplot(311)\n",
    "ax1 = plt.gca()\n",
    "#ax1.axvline(0., color='k')\n",
    "ax1.plot(t, 0.5*C*np.cos(omega_1*t), 'b')\n",
    "ax1.set_xlim([0., t_end])\n",
    "ax1.set_ylim([-0.05, 0.05])\n",
    "ax1.set_ylabel('$C\\,\\cos(\\omega_1 t)/2$', fontsize=ftsz)\n",
    "ax1.grid()\n",
    "\n",
    "plt.subplot(312, sharex=ax1, sharey=ax1)\n",
    "ax2 = plt.gca()\n",
    "#ax2.axvline(0., color='k')\n",
    "ax2.plot(t, 0.5*C*np.cos(omega_2*t), 'b')\n",
    "ax2.set_ylabel('$C\\,\\cos(\\omega_2 t)/2$', fontsize=ftsz)\n",
    "ax2.grid()\n",
    "\n",
    "plt.subplot(313, sharex=ax1, sharey=ax1)\n",
    "ax3 = plt.gca()\n",
    "#ax2.axvline(0., color='k')\n",
    "ax3.plot(t, 0.5*C*np.cos(omega_1*t), 'r', label='$C\\,\\cos(\\omega_1 t)/2$')\n",
    "ax3.plot(t, 0.5*C*np.cos(omega_2*t), 'b--', label='$C\\,\\cos(\\omega_2 t)/2$')\n",
    "ax3.set_ylabel('$C\\,\\cos(\\omega_2 t)/2$', fontsize=ftsz)\n",
    "ax3.set_xlabel('time [s]', fontsize=ftsz)\n",
    "ax3.legend()\n",
    "ax3.grid()\n",
    "\n",
    "# make these tick labels invisible\n",
    "plt.setp(ax2.get_xticklabels(), visible=False)\n",
    "plt.setp(ax1.get_xticklabels(), visible=False)\n",
    "plt.tight_layout()\n",
    "plt.autoscale(enable=True, axis='x', tight=True)\n",
    "plt.savefig('BeatingIndividual.png', dpi=100)\n",
    "plt.close()"
   ]
  },
  {
   "cell_type": "code",
   "execution_count": 68,
   "metadata": {
    "slideshow": {
     "slide_type": "skip"
    }
   },
   "outputs": [],
   "source": [
    "# 2nd plot: adding the two, the beating phenomenon\n",
    "plt.figure()\n",
    "ax = plt.gca()\n",
    "ax.axvline(0., color='k')\n",
    "ax.plot(t, xA, 'b', label='$x_A(t)$')\n",
    "ax.plot(t, envelope, 'r-.', label='$C\\,\\cos(\\Delta\\omega t)$')\n",
    "ax.plot(t, -envelope, 'r--', label='$-C\\,\\cos(\\Delta\\omega t)$')\n",
    "ax.set_ylim([-0.14, 0.16])\n",
    "ax.set_xlabel('time [s]', fontsize=ftsz)\n",
    "ax.set_ylabel('position [m]', fontsize=ftsz)\n",
    "ax.grid()\n",
    "ax.legend()\n",
    "\n",
    "# annotation to highlight the envelope period\n",
    "T = 2*np.pi/Domega\n",
    "ax.axvline(T/4, color='k', linestyle='-.')  # the t=T/2 mark\n",
    "ax.axvline(5*T/4, color='k', linestyle='-.')  # the t=3T/2 mark\n",
    "ax.annotate(s='', xy=(T/4, -.12), xytext=(5*T/4, -0.12),\n",
    "            arrowprops=dict(arrowstyle='<|-|>'))  # the double arrow\n",
    "ax.text(1.5*np.pi/Domega, -0.12, r'$2\\pi/\\Delta\\omega$',\n",
    "        verticalalignment='center', horizontalalignment='center',\n",
    "        backgroundcolor='w', fontsize=ftsz)\n",
    "\n",
    "# annotation to highlight the fast oscillation period\n",
    "T = 4.*np.pi/(omega_2 + omega_1)\n",
    "pp = 20.5\n",
    "t1 = pp*T\n",
    "t2 = (pp+1)*T\n",
    "ax.plot([t1]*2, [-C*np.cos(Domega*t1), 0.13],\n",
    "        color='k')  # the fast period mark #1\n",
    "ax.plot([t2]*2, [-C*np.cos(Domega*t2), 0.13],\n",
    "        color='k')  # the fast period mark #2\n",
    "ax.annotate(s='', xy=(t1, .11), xytext=(t2, 0.11),\n",
    "            arrowprops=dict(arrowstyle='<|-|>'))  # the double arrow\n",
    "ax.text((t1+t2)/2, 0.135, r'$2\\pi/(\\omega_1+\\Delta\\omega)$',\n",
    "        verticalalignment='center', horizontalalignment='center',\n",
    "        backgroundcolor='w', fontsize=ftsz)\n",
    "plt.tight_layout()\n",
    "plt.autoscale(enable=True, axis='x', tight=True)\n",
    "plt.savefig('Beating.png', dpi=100)\n",
    "plt.close()"
   ]
  },
  {
   "cell_type": "markdown",
   "metadata": {
    "slideshow": {
     "slide_type": "subslide"
    }
   },
   "source": [
    "![Fig. 6: upper and middle panels: two oscillations with slightly different frequencies. Bottom panel: the same two oscillations, superposed.](BeatingIndividual.png)\n",
    "![Fig. 7: sum the oscillations of fig. 6, and you obtain the oscillation above, called \"beating\".](Beating.png)"
   ]
  },
  {
   "cell_type": "markdown",
   "metadata": {
    "slideshow": {
     "slide_type": "skip"
    }
   },
   "source": [
    "***\n",
    "\n",
    "**Worked example: King p. 84.**\n",
    "\n",
    "***\n",
    "\n",
    "*Beyond this point, I stop following King's book. You might notice that in his preface, he mentions that his book is designed for a first-year class, for which eigenvalues and eigenvectors would be too advanced a topic. It is our strong opinion (all the instructors involved in PHY293 and 294) that we need to cover this topic in this second-year class, because it is foundational for a lot of other topics that will be tackled in the rest of PHY293-4. If you want a book for help, I can recommend John R. Taylor's \"Classical Mechanics\" (University Science Books), chapter 11, which I am loosely following.*\n",
    "\n",
    "***"
   ]
  },
  {
   "cell_type": "markdown",
   "metadata": {
    "slideshow": {
     "slide_type": "skip"
    }
   },
   "source": [
    "***\n",
    "\n",
    "*End of 09/23 lecture, beginning of 09/24 lecture.*\n",
    "\n",
    "***"
   ]
  },
  {
   "cell_type": "markdown",
   "metadata": {
    "slideshow": {
     "slide_type": "skip"
    }
   },
   "source": [
    "# General Solution Method"
   ]
  },
  {
   "cell_type": "markdown",
   "metadata": {
    "slideshow": {
     "slide_type": "skip"
    }
   },
   "source": [
    "In the previous case, we had only two coupled oscillators, which meant, two degrees of freedom (two normal coordinates).\n",
    "It was simple enough that we could solve it \"by hand\", by defining simple normal coordinates, and adding and subtracting the equations of motion."
   ]
  },
  {
   "cell_type": "markdown",
   "metadata": {
    "slideshow": {
     "slide_type": "skip"
    }
   },
   "source": [
    "But as with all things in linear algebra, difficulty increases rapidly with every equation that we add.\n",
    "For example, what if we coupled 5 oscillators?\n",
    "Not to mention the infinity of oscillators that approximate a continuous medium.\n",
    "We need the systematic and powerful approaches that are offered by linear algebra.\n",
    "And in particular, we will eventually need to use the eigenvector/eigenvalue formalism, which many of you find difficult.\n",
    "It is, however, a necessary step, and a key aspect of the theory of waves and oscillations.\n",
    "So, even though I will have to keep it in mind, my best piece of advice is to brace yourselves."
   ]
  },
  {
   "cell_type": "markdown",
   "metadata": {
    "slideshow": {
     "slide_type": "skip"
    }
   },
   "source": [
    "***\n",
    "\n",
    "*I will not cover the discussion that follows in class. Reading it may help you understand why and how everything works, but it is beyond what it traditionally expected from 2nd year students.*\n",
    "\n",
    "## Results from Linear Algebra"
   ]
  },
  {
   "cell_type": "markdown",
   "metadata": {
    "slideshow": {
     "slide_type": "skip"
    }
   },
   "source": [
    "### General results\n",
    "\n",
    "*Linear algebra can be messy, especially when it comes to whether a matrix is diagonalizable or not. \n",
    "Fortunately for us, I will only use a few of the most basic results of linear algebra.*\n",
    "\n",
    "* *Finding the eigenvectors and eigenvalues of an $n\\times n$ matrix $A$ means finding the vectors $\\vec V$ and scalars $\\lambda$ such that:\n",
    "    $$ A \\vec V = \\lambda \\vec V, \\oreq (A - \\lambda I)\\vec V = 0.\\hspace{5cm}(3)$$*\n",
    "* *Equation (3) has non-trivial (i.e., non-identically zero, i.e., oscillations with non-zero amplitudes in our case) solutions for $\\vec V$ if and only if\n",
    "    $$ \\det(A - \\lambda I_n) = 0,\\hspace{5cm}(4) $$\n",
    "    with $I_n$ the $n\\times n$ identity matrix.\n",
    "    The determinant of a matrix is a scalar. Here, it is a polynomial in $\\lambda$. It is called the characteristic polynomial, and its roots are the eigenvalues.*\n",
    "* *If there is a number $n$ of eigenvalues $\\lambda$ that are all distinct from each other, then the matrix is diagonalizable, and the set of the corresponding eigenvectors forms a basis for the space of solutions. In other words, if $\\vec V_i$, $i \\in \\{1\\dots{} n\\}$ is the complete set of eigenvectors, then any linear combination of them,* \n",
    "    $$\\vec X = \\sum_{i=1}^n a_n \\vec V_i,$$\n",
    "    *is a solution as well. In all our cases, $a_n \\in \\mathbb R$. Note that with damping, we could have $a_n \\in \\mathbb C$.*\n",
    "    *Furthermore, is $\\vec X$ is a solution of eqn. $(3)$, then it can be decomposed as a linear combination of eigenvectors,*\n",
    "    $$\\vec X = \\sum_{i=1}^n a_n \\vec V_i \\quad \\textrm{again},$$\n",
    "    *and this decomposition is unique.*\n",
    "    *Note: this condition is sufficient, not necessary. Namely, the converse is not true, and a matrix needs not have all* $n$ *eigenvalues distinct from each other to be diagonalizable. But in our cases, they will be, so let's enjoy it.*"
   ]
  },
  {
   "cell_type": "markdown",
   "metadata": {
    "slideshow": {
     "slide_type": "skip"
    }
   },
   "source": [
    "### *How does this translate into our results?*\n",
    "\n",
    "* *First of all, we will have $n = 2$ for two oscillators;*\n",
    "* *the eigenvectors $\\vec V_i$ will have some connection to our normal modes 1 and 2;*\n",
    "* *the eigenvalues $\\lambda_i$ some connection to $\\omega_{1,2}^2$ (they will be the same actually);*\n",
    "* *the eigenvectors, in the abstract case, form a basis of the space of solutions. This is a mathematical manifestation of the fact that any motion of the two masses can be decomposed as the linear combination of two modes, as we saw in the previous section;*\n",
    "* *solving $\\det(A - \\lambda I_2) = 0$ for $\\lambda$ shows the way for solving coupled systems of oscillators systematically. Finding the roots of the polynomial, however messy it might become, will give us $\\omega_1$ and $\\omega_2$. Once we have them, substitution into the original eqn. (3) will give us $\\vec V_1$ and $\\vec V_2$.*"
   ]
  },
  {
   "cell_type": "markdown",
   "metadata": {
    "slideshow": {
     "slide_type": "skip"
    }
   },
   "source": [
    "*The math will become super messy, but the procedure is well-defined, and easy to make systematic.*\n",
    "\n",
    "*Resuming the normal course of operations.*\n",
    "\n",
    "***"
   ]
  },
  {
   "cell_type": "markdown",
   "metadata": {
    "slideshow": {
     "slide_type": "skip"
    }
   },
   "source": [
    "## Coupled pendulums"
   ]
  },
  {
   "cell_type": "markdown",
   "metadata": {
    "slideshow": {
     "slide_type": "skip"
    }
   },
   "source": [
    "As an illustration of how powerful such an approach is, let me add the extra complexity that the two masses are different, and equal to $m_A$ and $m_B$.\n",
    "I hope to convince you that while it would have made it difficult in our previous approach, it does not represent any extra difficulty with the eigenvector method."
   ]
  },
  {
   "cell_type": "markdown",
   "metadata": {
    "slideshow": {
     "slide_type": "skip"
    }
   },
   "source": [
    "The equations are therefore\n",
    "$$ m_A\\ddot x_A + \\frac{m_A g}{l} x_A + k(x_A - x_B) = 0, \\hspace{5cm}(5)$$\n",
    "$$ m_B\\ddot x_B + \\frac{m_B g}{l} x_B - k(x_A - x_B) = 0, \\hspace{5cm}(6)$$"
   ]
  },
  {
   "cell_type": "markdown",
   "metadata": {
    "slideshow": {
     "slide_type": "skip"
    }
   },
   "source": [
    "Now, define a vector\n",
    "$$\n",
    "\\vec X = \n",
    "\\begin{bmatrix}\n",
    "    x_A \\\\ \n",
    "    x_B,\n",
    "\\end{bmatrix}$$\n",
    "and two matrices\n",
    "$$\n",
    "M = \n",
    "\\begin{bmatrix}\n",
    "    m_A & 0 \\\\ \n",
    "    0 & m_B\n",
    "\\end{bmatrix}\n",
    "\\and\n",
    "K = \n",
    "\\begin{bmatrix}\n",
    "     \\frac{m_A g}l + k & -k \\\\\n",
    "     -k & \\frac{m_B g}l + k\n",
    "\\end{bmatrix}.$$"
   ]
  },
  {
   "cell_type": "markdown",
   "metadata": {
    "slideshow": {
     "slide_type": "skip"
    }
   },
   "source": [
    "You can check that\n",
    "$$ M\\ddot{\\vec X} + K \\vec X = \n",
    "\\begin{bmatrix}\n",
    "    m_A\\ddot x_A + \\frac{m_A g}{l} x_A + k(x_A - x_B) \\\\\n",
    "    m_B\\ddot x_B + \\frac{m_B g}{l} x_B - k(x_A - x_B)\n",
    "\\end{bmatrix}\n",
    "= \n",
    "\\begin{bmatrix}\n",
    "    0 \\\\\n",
    "    0\n",
    "\\end{bmatrix},$$\n",
    "or, more simply, that \n",
    "$$\\boxed{ M\\ddot{\\vec X} + K \\vec X = 0. }$$"
   ]
  },
  {
   "cell_type": "markdown",
   "metadata": {
    "slideshow": {
     "slide_type": "skip"
    }
   },
   "source": [
    "This is our new equation of motion.\n",
    "It strongly resembles the SHO equation, and its resolution does involve the same steps:\n",
    "\n",
    "1. assume $\\vec X = \\vec A \\cos(\\omega t + \\phi)$,\n",
    "2. substitute in the EOM and solve for $\\omega$,\n",
    "3. use initial conditions to solve for $\\vec A$ and $\\phi$."
   ]
  },
  {
   "cell_type": "markdown",
   "metadata": {
    "slideshow": {
     "slide_type": "skip"
    }
   },
   "source": [
    "### The first step...\n",
    "... implies that $\\ddot{\\vec X} = -\\omega^2 \\vec X$.\n",
    "Moreover, $M\\ddot{\\vec X} = M(-\\omega^2 \\vec X) = -\\omega^2M \\vec X$ because the algebra is linear."
   ]
  },
  {
   "cell_type": "markdown",
   "metadata": {
    "slideshow": {
     "slide_type": "skip"
    }
   },
   "source": [
    "### For the second step (solving for $\\omega$),\n",
    "$$M\\ddot{\\vec X} + K \\vec X = -\\omega^2 M \\vec X + K\\vec X = \\boxed{(K -\\omega^2 M)\\vec X = 0.} \\hspace{4cm} (7) $$"
   ]
  },
  {
   "cell_type": "markdown",
   "metadata": {
    "slideshow": {
     "slide_type": "skip"
    }
   },
   "source": [
    "Let me recall one of the most important results of linear algebra: **A matrix equation** $\\bs{\\textsf{R}V = 0}$ **has non-trivial (i.e., non-identically zero) solutions if and only if** $\\bs{\\det[\\textsf{R}] =0}$, as I stated in a different form around eqn. (4).\n",
    "Physically, trivial solutions are zero-amplitude oscillations of each mass position or of each mode.\n",
    "Trivially speaking, it is nothing."
   ]
  },
  {
   "cell_type": "markdown",
   "metadata": {
    "slideshow": {
     "slide_type": "skip"
    }
   },
   "source": [
    "The matrices $M$ and $K$ both contain elements that are determined by the physics of the system: masses stiffness, length of pendulum and gravitational acceleration.\n",
    "The only parameter that can be varied is therefore $\\omega$, and it is $\\omega$ we are solving for."
   ]
  },
  {
   "cell_type": "markdown",
   "metadata": {
    "slideshow": {
     "slide_type": "skip"
    }
   },
   "source": [
    "Mathematically, this step corresponds to finding the **eigenvalues** of eqn. $(7)$.\n",
    "It looks different from eqn. $(3)$ though.\n",
    "However, we can cast our equation in this form very easily by multiplying it by \n",
    "$$ M^{-1} = \n",
    "\\begin{bmatrix}\n",
    "    1/m_A & 0 \\\\\n",
    "    0 & 1/m_B\n",
    "\\end{bmatrix},\n",
    "$$\n",
    "i.e.,\n",
    "$$\n",
    "M^{-1}K \\vec X = \\omega^2 \\vec X,\n",
    "$$\n",
    "which looks like a standard eigenvalue problem. The two ways of writing it are strictly equivalent, the form above would appear if I divided eqns. $(5)$ and $(6)$ by $m_A$ and $m_B$, respectively."
   ]
  },
  {
   "cell_type": "markdown",
   "metadata": {
    "slideshow": {
     "slide_type": "skip"
    }
   },
   "source": [
    "We will also need the following formula:\n",
    "$$\\boxed{ \\det\\left(\n",
    "\\begin{bmatrix}\n",
    "    a & b \\\\\n",
    "    c & d\n",
    "\\end{bmatrix}\n",
    "\\right) = ad - bc} \\quad\\textrm{(which I expect you to remember!!!)}.$$"
   ]
  },
  {
   "cell_type": "markdown",
   "metadata": {
    "slideshow": {
     "slide_type": "skip"
    }
   },
   "source": [
    "I am going to do it by hand once, but the real advantage to this method is that it is fairly easy to ask a symbolic calculator or symbolic math software to solve for it. I will do it later, but for now, it is instructional to do it by hand."
   ]
  },
  {
   "cell_type": "markdown",
   "metadata": {
    "slideshow": {
     "slide_type": "skip"
    }
   },
   "source": [
    "Here we go:\n",
    "\\begin{align*}\n",
    "    \\det(K - \\omega^2 M) & = \\det\\left(\n",
    "                                \\begin{bmatrix}\n",
    "                                    \\frac{m_A g}l + k - \\omega^2 m_A & -k \\\\\n",
    "                                    -k & \\frac{m_B g}l + k - \\omega^2 m_B\n",
    "                                \\end{bmatrix}\\right) \\\\\n",
    "                         & = \\left(\\frac{m_A g}l + k - \\omega^2 m_A\\right)\\left(\\frac{m_B g}l + k - \\omega^2 m_B\\right) - k^2 \\\\\n",
    "                         & = m_A m_B \\left[\\left(\\omega_p^2 + \\omega_{sA}^2 - \\omega^2 \\right)\\left(\\omega_p^2 + \\omega_{sB}^2 - \\omega^2\\right) - \\omega_{sA}^2\\omega_{sB}^2\\right] \\\\\n",
    "                         & = 0,\n",
    "\\end{align*}"
   ]
  },
  {
   "cell_type": "markdown",
   "metadata": {
    "slideshow": {
     "slide_type": "skip"
    }
   },
   "source": [
    "with $\\omega_p^2 = g/l$, $\\omega_{sA}^2 = k/m_A$ and $\\omega_{sB}^2 = k/m_B$.\n",
    "It is a second-degree polynomial in $\\omega^2$, which is not technically hard to solve, but this is a lot of symbols to keep track of."
   ]
  },
  {
   "cell_type": "markdown",
   "metadata": {
    "slideshow": {
     "slide_type": "skip"
    }
   },
   "source": [
    "Let us define $\\Omega^2 = \\omega_p^2 + \\omega_A^2 + \\omega_B^2$.\n",
    "If $m_A = m_B$, then $\\omega_{sA}^2 = \\omega_{sB}^2 = \\omega_s^2$ and $\\Omega^2 = \\omega_p^2 + 2\\omega_s^2 = \\omega_2^2$, which is a good sign.\n",
    "Let's plug $\\Omega^2$ in the last two lines of the set of equations above:\n",
    "$$\\omega_p^2\\Omega^2 - \\omega^2 \\left(\\omega_p^2 + \\Omega^2\\right) + \\omega^4 = 0. $$"
   ]
  },
  {
   "cell_type": "markdown",
   "metadata": {
    "slideshow": {
     "slide_type": "skip"
    }
   },
   "source": [
    "***\n",
    "\n",
    "*End of 09/25 lecture, beginning of 09/28 lecture.*\n",
    "\n",
    "***"
   ]
  },
  {
   "cell_type": "code",
   "execution_count": null,
   "metadata": {},
   "outputs": [],
   "source": []
  },
  {
   "cell_type": "markdown",
   "metadata": {
    "slideshow": {
     "slide_type": "skip"
    }
   },
   "source": [
    "The determinant of this polynomial is\n",
    "$$ \\Delta = \\left(\\omega_p^2 + \\Omega^2\\right)^2 - 4 \\omega_p^2\\Omega^2 = \\left(\\omega_p^2 - \\Omega^2\\right)^2 $$\n",
    "and its roots are\n",
    "\\begin{align*}\n",
    "    \\omega_1'^2 & = \\frac{\\omega_p^2 + \\Omega^2 - \\Omega^2 + \\omega_p^2}{2} = \\omega_p^2 \\\\\n",
    "    \\omega_2'^2 & = \\frac{\\omega_p^2 + \\Omega^2 + \\Omega^2 - \\omega_p^2}{2} = \\Omega^2 = \\omega_p^2 + \\omega_{sA}^2 + \\omega_{sB}^2.\n",
    "\\end{align*}"
   ]
  },
  {
   "cell_type": "markdown",
   "metadata": {
    "slideshow": {
     "slide_type": "skip"
    }
   },
   "source": [
    "You may notice that $\\omega_1'^2 = \\omega_1^2$ of the previous case, and that if $m_A = m_B = m$, then $\\omega_2'^2 = \\omega_2^2$.\n",
    "These are our two eigenfrequencies!"
   ]
  },
  {
   "cell_type": "markdown",
   "metadata": {
    "slideshow": {
     "slide_type": "skip"
    }
   },
   "source": [
    "Also, $\\omega_1'^2 \\neq \\omega_2'^2$. Therefore, based on the general results from linear algebra that I recalled earlier, we will have a basis of eigenvectors to decompose all our oscillations onto."
   ]
  },
  {
   "cell_type": "markdown",
   "metadata": {
    "slideshow": {
     "slide_type": "skip"
    }
   },
   "source": [
    "### The third step (solving for $\\vec A$ and $\\phi$)"
   ]
  },
  {
   "cell_type": "markdown",
   "metadata": {
    "slideshow": {
     "slide_type": "skip"
    }
   },
   "source": [
    "#### Polarization of the Eigenvectors\n",
    "\n",
    "We can actually separate $\\vec A$ into $C\\vec Y$, with $\\|\\vec Y\\| = 1$.\n",
    "This makes it easier in the sense that we separate the amplitude of the mode, its strength, or weight, if you will, which resides in $C$ and which is calculated with the knowledge of the initial condition, and $\\vec Y$, which is a feature of the matrix $K - \\omega^2 M$, or of the physical system, and does not depend on the initial conditions.\n",
    "However, requiring that $\\|\\vec Y\\| = 1$ is not required in order to solve a problem! I do it, some textbooks might do it differently."
   ]
  },
  {
   "cell_type": "markdown",
   "metadata": {
    "slideshow": {
     "slide_type": "skip"
    }
   },
   "source": [
    "In this case,\n",
    "$$ (K - \\omega^2 M)\\vec X = 0 = C (K - \\omega^2 M)\\vec Y \\cos(\\omega t + \\phi) \\quad\\Leftrightarrow\\quad (K - \\omega^2 M)\\vec Y = 0. $$"
   ]
  },
  {
   "cell_type": "markdown",
   "metadata": {
    "slideshow": {
     "slide_type": "skip"
    }
   },
   "source": [
    "Let \n",
    "$$\\vec Y = \n",
    "\\begin{bmatrix}\n",
    "    a \\\\ \n",
    "    b\n",
    "\\end{bmatrix}.$$\n",
    "Looking for the relationship between $a$ and $b$ for a given mode is called looking for the polarization of that mode."
   ]
  },
  {
   "cell_type": "markdown",
   "metadata": {
    "slideshow": {
     "slide_type": "skip"
    }
   },
   "source": [
    "\\begin{align*} \n",
    "    (K - \\omega^2 M)\\vec Y & = \\begin{bmatrix}\n",
    "                                \\frac{m_A g}l + k - \\omega^2 m_A & -k \\\\\n",
    "                                -k & \\frac{m_B g}l + k - \\omega^2 m_B\n",
    "                            \\end{bmatrix}\n",
    "                            \\begin{bmatrix}\n",
    "                                a \\\\ \n",
    "                                b\n",
    "                            \\end{bmatrix} \\\\\n",
    "                           & = \\begin{bmatrix}\n",
    "                                \\left(\\frac{m_A g}l + k - \\omega^2 m_A\\right)a - kb \\\\ \n",
    "                                -ka + \\left(\\frac{m_B g}l + k - \\omega^2 m_B\\right)b\n",
    "                            \\end{bmatrix} \\\\\n",
    "                           & = \\begin{bmatrix}\n",
    "                                   m_A\\left[(\\omega_p^2 + \\omega_{sA}^2 - \\omega^2 )a - \\omega_{sA}^2 b \\right] \\\\ \n",
    "                                   m_B\\left[-\\omega_{sB}^2 a + (\\omega_p^2 + \\omega_{sB}^2 - \\omega^2 )b\\right]\n",
    "                               \\end{bmatrix} = 0 . \\hspace{3cm} (8).\n",
    "\\end{align*}"
   ]
  },
  {
   "cell_type": "markdown",
   "metadata": {
    "slideshow": {
     "slide_type": "skip"
    }
   },
   "source": [
    "* Case $\\omega^2 = \\omega_1^2 = \\omega_p^2$:\n",
    "$$ \\begin{bmatrix}\n",
    "        ka - kb \\\\ \n",
    "        -ka + kb\n",
    "   \\end{bmatrix} = 0 \\thrfor a = b.$$\n",
    "*(Notice how the two equations are redundant.)*\n",
    "Therefore, $a=b$, and since $\\|\\vec Y\\| = \\sqrt{a^2 + b^2} = 1$, $a = b= 1/\\sqrt{2}$.\n",
    "This is the antisymmetric mode.\n",
    "*Note: that the masses are different does not have an impact. This is because the frequency of oscillations of each pendulum does not depend on the mass, attached to each one. Therefore, in this mode, the spring is never stretched or compressed.*"
   ]
  },
  {
   "cell_type": "markdown",
   "metadata": {
    "slideshow": {
     "slide_type": "skip"
    }
   },
   "source": [
    "![Fig. 8: the antisymmetric normal mode](pendulum_syn.gif)"
   ]
  },
  {
   "cell_type": "markdown",
   "metadata": {
    "slideshow": {
     "slide_type": "skip"
    }
   },
   "source": [
    "* Case $\\omega^2 = \\omega_2^2 = \\omega_p^2 + \\omega_{sA}^2 + \\omega_{sB}^2$.\n",
    "I just use the first line in eqn. (8) because the second line is redundant again:\n",
    "$$ -\\omega_{sB}^2a - \\omega_{sA}^2 b = 0.$$\n",
    "Therefore, $\\omega_{sB} a = -\\omega_{sA}b$.\n",
    "We get it: if $m_A = m_B = m$, this would be the symmetric mode, with $a = 1/\\sqrt{2} = -b$.\n",
    "With $m_A \\neq m_B$, $a$ and $b$ are weighted by some coefficient, i.e., $a = \\omega_{sA}^2/\\sqrt{\\omega_{sA}^4 + \\omega_{sB}^4}$, and $b = -\\omega_{sB}^2/\\sqrt{\\omega_{sA}^4 + \\omega_{sB}^4}$."
   ]
  },
  {
   "cell_type": "markdown",
   "metadata": {
    "slideshow": {
     "slide_type": "skip"
    }
   },
   "source": [
    "![Fig. 9: the symmetric normal mode, in the case $m_A = m_B$.](pendulum_asyn.gif)"
   ]
  },
  {
   "cell_type": "markdown",
   "metadata": {
    "slideshow": {
     "slide_type": "skip"
    }
   },
   "source": [
    "#### Eigenvectors as a basis for all the solutions\n",
    "\n"
   ]
  },
  {
   "cell_type": "markdown",
   "metadata": {
    "slideshow": {
     "slide_type": "skip"
    }
   },
   "source": [
    "So far, the connection with general linear algebra results is the following.\n",
    "$\\vec Y_1$ and $\\vec Y_2$ are eigenvectors of the matrix problem, $\\omega_1'^2$ and $\\omega_2'^2$ the eigenvalues (or $\\omega_1'$ and $\\omega_2'$ the eigenfrequencies) and $\\vec X_1$ and $\\vec X_2$ are the eigenmodes of oscillation."
   ]
  },
  {
   "cell_type": "markdown",
   "metadata": {
    "slideshow": {
     "slide_type": "skip"
    }
   },
   "source": [
    "Based on the results from linear algebra that I recalled earlier, it means that all solutions can be written as a linear combination of these eigenmodes:\n",
    "$$ \\vec X = C_1 \\vec Y_1\\cos(\\omega_1 t + \\phi_1) + C_2 \\vec Y_2\\cos(\\omega_2 t + \\phi_2). $$"
   ]
  },
  {
   "cell_type": "markdown",
   "metadata": {
    "slideshow": {
     "slide_type": "skip"
    }
   },
   "source": [
    "#### Amplitudes ($C$) and phases ($\\phi$)."
   ]
  },
  {
   "cell_type": "markdown",
   "metadata": {
    "slideshow": {
     "slide_type": "skip"
    }
   },
   "source": [
    "As with every initial value problem, it can get messy.\n",
    "Let me just do the cases we investigated before, i.e., the worked problem on King p. 84."
   ]
  },
  {
   "cell_type": "markdown",
   "metadata": {
    "slideshow": {
     "slide_type": "skip"
    }
   },
   "source": [
    "In all cases, it was assumed that the masses were released from rest.\n",
    "We could check that in this case, $\\phi_1 = \\phi_2 = 0$.\n",
    "It was also assumed that $m_A = m_B$."
   ]
  },
  {
   "cell_type": "markdown",
   "metadata": {
    "slideshow": {
     "slide_type": "skip"
    }
   },
   "source": [
    "The first example was $x_A = x_B = A$, which meant that the antisymmetric mode was selected by the initial conditions.\n",
    "In vector form, this means\n",
    "$$\\vec X_0 = \\vec X(t=0) = \\begin{bmatrix}\n",
    "    x_A(t=0) \\\\ \n",
    "    x_B(t=0)\n",
    "\\end{bmatrix}\n",
    "= \\begin{bmatrix}\n",
    "    A \\\\ \n",
    "    A\n",
    "\\end{bmatrix} =  \\sqrt{2} A \\vec Y_1 + 0\\vec Y_2.$$\n",
    "Bam! No need to do any sort of math, we know right away that the symmetric mode is zero."
   ]
  },
  {
   "cell_type": "markdown",
   "metadata": {
    "slideshow": {
     "slide_type": "skip"
    }
   },
   "source": [
    "The second example was $x_A = -x_B = A$, which meant that the symmetric mode was selected by the initial conditions.\n",
    "In vector form, this means\n",
    "$$\\vec X_0 =\n",
    "\\begin{bmatrix}\n",
    "    A \\\\ \n",
    "    -A\n",
    "\\end{bmatrix} =  0\\vec Y_1 + \\sqrt{2}A\\vec Y_2.$$\n",
    "And again! We know right away that the antisymmetric mode is zero."
   ]
  },
  {
   "cell_type": "markdown",
   "metadata": {
    "slideshow": {
     "slide_type": "slide"
    }
   },
   "source": [
    "### Numerical resolution"
   ]
  },
  {
   "cell_type": "markdown",
   "metadata": {
    "slideshow": {
     "slide_type": "skip"
    }
   },
   "source": [
    "This bit is outside of what is expected of you, but it is hard to realize the potential of the eigenmode method without realizing how easy it is to implement it numerically, and how it is possible to scale the numbers of oscillators up from there.\n",
    "So, let's give it a go."
   ]
  },
  {
   "cell_type": "code",
   "execution_count": 69,
   "metadata": {
    "slideshow": {
     "slide_type": "-"
    }
   },
   "outputs": [],
   "source": [
    "from sympy import *  # here I import the entire symbolic math package\n",
    "init_printing(use_unicode=True)  # to print pretty"
   ]
  },
  {
   "cell_type": "code",
   "execution_count": 70,
   "metadata": {
    "slideshow": {
     "slide_type": "fragment"
    }
   },
   "outputs": [],
   "source": [
    "# we need to declare some symbolic quantities\n",
    "# omega_sA, omega_p, omega = symbols('omega_sA, omega_p, omega', real=True)\n",
    "g, l = symbols('g, l', real=True)\n",
    "k, m_A, m_B = symbols('k, m_A, m_B', real=True)"
   ]
  },
  {
   "cell_type": "code",
   "execution_count": 71,
   "metadata": {},
   "outputs": [
    {
     "data": {
      "image/png": "[encoded data removed]",
      "text/latex": [
       "$$m_{A}$$"
      ],
      "text/plain": [
       "m_A"
      ]
     },
     "execution_count": 71,
     "metadata": {},
     "output_type": "execute_result"
    }
   ],
   "source": [
    "m_A"
   ]
  },
  {
   "cell_type": "code",
   "execution_count": 72,
   "metadata": {
    "slideshow": {
     "slide_type": "subslide"
    }
   },
   "outputs": [
    {
     "data": {
      "image/png": "[encoded data removed]",
      "text/latex": [
       "$$\\left[\\begin{matrix}m_{A} & 0\\\\0 & m_{B}\\end{matrix}\\right]$$"
      ],
      "text/plain": [
       "⎡m_A   0 ⎤\n",
       "⎢        ⎥\n",
       "⎣ 0   m_B⎦"
      ]
     },
     "execution_count": 72,
     "metadata": {},
     "output_type": "execute_result"
    }
   ],
   "source": [
    "# define the mass matrix\n",
    "M = Matrix([[m_A, 0],\n",
    "            [0, m_B]])\n",
    "M"
   ]
  },
  {
   "cell_type": "code",
   "execution_count": 73,
   "metadata": {
    "slideshow": {
     "slide_type": "fragment"
    }
   },
   "outputs": [
    {
     "data": {
      "image/png": "[encoded data removed]",
      "text/latex": [
       "$$\\left[\\begin{matrix}\\frac{g m_{A}}{l} + k & - k\\\\- k & \\frac{g m_{B}}{l} + k\\end{matrix}\\right]$$"
      ],
      "text/plain": [
       "⎡g⋅m_A               ⎤\n",
       "⎢───── + k     -k    ⎥\n",
       "⎢  l                 ⎥\n",
       "⎢                    ⎥\n",
       "⎢           g⋅m_B    ⎥\n",
       "⎢   -k      ───── + k⎥\n",
       "⎣             l      ⎦"
      ]
     },
     "execution_count": 73,
     "metadata": {},
     "output_type": "execute_result"
    }
   ],
   "source": [
    "# Define the stiffness matrix\n",
    "K = Matrix([[m_A*g/l + k, -k],\n",
    "            [-k, m_B*g/l + k]])\n",
    "K"
   ]
  },
  {
   "cell_type": "code",
   "execution_count": 74,
   "metadata": {
    "slideshow": {
     "slide_type": "subslide"
    }
   },
   "outputs": [
    {
     "data": {
      "image/png": "[encoded data removed]",
      "text/latex": [
       "$$\\left[\\begin{matrix}\\frac{g}{l} + \\frac{k}{m_{A}} & - \\frac{k}{m_{A}}\\\\- \\frac{k}{m_{B}} & \\frac{g}{l} + \\frac{k}{m_{B}}\\end{matrix}\\right]$$"
      ],
      "text/plain": [
       "⎡g    k     -k   ⎤\n",
       "⎢─ + ───    ───  ⎥\n",
       "⎢l   m_A    m_A  ⎥\n",
       "⎢                ⎥\n",
       "⎢  -k     g    k ⎥\n",
       "⎢  ───    ─ + ───⎥\n",
       "⎣  m_B    l   m_B⎦"
      ]
     },
     "execution_count": 74,
     "metadata": {},
     "output_type": "execute_result"
    }
   ],
   "source": [
    "# Compute M**(-1)*K\n",
    "EVecMat = M.inv()*K\n",
    "expand(EVecMat)"
   ]
  },
  {
   "cell_type": "code",
   "execution_count": 75,
   "metadata": {
    "slideshow": {
     "slide_type": "fragment"
    }
   },
   "outputs": [],
   "source": [
    "# A bit of refinement: we can substitute k/m_A by omega_SA, etc.\n",
    "# but first, we need to declare those symbolic variables\n",
    "omega_sA, omega_sB = symbols('omega_sA, omega_sB', real=True)\n",
    "omega_p = Symbol('omega_p', real=True)"
   ]
  },
  {
   "cell_type": "code",
   "execution_count": 76,
   "metadata": {
    "slideshow": {
     "slide_type": "subslide"
    }
   },
   "outputs": [
    {
     "data": {
      "image/png": "[encoded data removed]",
      "text/latex": [
       "$$\\left[\\begin{matrix}\\frac{g}{l} + \\omega_{sA}^{2} & - \\omega_{sA}^{2}\\\\- \\frac{k}{m_{B}} & \\frac{g}{l} + \\frac{k}{m_{B}}\\end{matrix}\\right]$$"
      ],
      "text/plain": [
       "⎡g       2       2 ⎤\n",
       "⎢─ + ω_sA   -ω_sA  ⎥\n",
       "⎢l                 ⎥\n",
       "⎢                  ⎥\n",
       "⎢   -k      g    k ⎥\n",
       "⎢   ───     ─ + ───⎥\n",
       "⎣   m_B     l   m_B⎦"
      ]
     },
     "execution_count": 76,
     "metadata": {},
     "output_type": "execute_result"
    }
   ],
   "source": [
    "New_EVMat = expand(EVecMat).subs(k/m_A, omega_sA**2); New_EVMat"
   ]
  },
  {
   "cell_type": "code",
   "execution_count": 77,
   "metadata": {
    "slideshow": {
     "slide_type": "fragment"
    }
   },
   "outputs": [
    {
     "data": {
      "image/png": "[encoded data removed]",
      "text/latex": [
       "$$\\left[\\begin{matrix}\\frac{g}{l} + \\omega_{sA}^{2} & - \\omega_{sA}^{2}\\\\- \\omega_{sB}^{2} & \\frac{g}{l} + \\omega_{sB}^{2}\\end{matrix}\\right]$$"
      ],
      "text/plain": [
       "⎡g       2        2  ⎤\n",
       "⎢─ + ω_sA    -ω_sA   ⎥\n",
       "⎢l                   ⎥\n",
       "⎢                    ⎥\n",
       "⎢      2    g       2⎥\n",
       "⎢ -ω_sB     ─ + ω_sB ⎥\n",
       "⎣           l        ⎦"
      ]
     },
     "execution_count": 77,
     "metadata": {},
     "output_type": "execute_result"
    }
   ],
   "source": [
    "New_EVMat = expand(New_EVMat).subs(k/m_B, omega_sB**2); New_EVMat"
   ]
  },
  {
   "cell_type": "code",
   "execution_count": 78,
   "metadata": {
    "slideshow": {
     "slide_type": "fragment"
    }
   },
   "outputs": [
    {
     "data": {
      "image/png": "[encoded data removed]",
      "text/latex": [
       "$$\\left[\\begin{matrix}\\omega_{p}^{2} + \\omega_{sA}^{2} & - \\omega_{sA}^{2}\\\\- \\omega_{sB}^{2} & \\omega_{p}^{2} + \\omega_{sB}^{2}\\end{matrix}\\right]$$"
      ],
      "text/plain": [
       "⎡  2       2         2   ⎤\n",
       "⎢ωₚ  + ω_sA     -ω_sA    ⎥\n",
       "⎢                        ⎥\n",
       "⎢       2       2       2⎥\n",
       "⎣  -ω_sB      ωₚ  + ω_sB ⎦"
      ]
     },
     "execution_count": 78,
     "metadata": {},
     "output_type": "execute_result"
    }
   ],
   "source": [
    "New_EVMat = expand(New_EVMat).subs(g/l, omega_p**2); New_EVMat"
   ]
  },
  {
   "cell_type": "code",
   "execution_count": 79,
   "metadata": {
    "slideshow": {
     "slide_type": "subslide"
    }
   },
   "outputs": [
    {
     "data": {
      "image/png": "[encoded data removed]",
      "text/latex": [
       "$$\\left[\\begin{matrix}\\omega_{p}^{2} + \\omega_{sA}^{2} & - \\omega_{sA}^{2}\\\\- \\omega_{sB}^{2} & \\omega_{p}^{2} + \\omega_{sB}^{2}\\end{matrix}\\right]$$"
      ],
      "text/plain": [
       "⎡  2       2         2   ⎤\n",
       "⎢ωₚ  + ω_sA     -ω_sA    ⎥\n",
       "⎢                        ⎥\n",
       "⎢       2       2       2⎥\n",
       "⎣  -ω_sB      ωₚ  + ω_sB ⎦"
      ]
     },
     "execution_count": 79,
     "metadata": {},
     "output_type": "execute_result"
    }
   ],
   "source": [
    "# Or it can be done in one fell swoop:\n",
    "New_EVMat = (expand(EVecMat).subs(k/m_A, omega_sA**2)\n",
    "                            .subs(k/m_B, omega_sB**2)\n",
    "                            .subs(g/l, omega_p**2))\n",
    "New_EVMat"
   ]
  },
  {
   "cell_type": "code",
   "execution_count": 80,
   "metadata": {
    "slideshow": {
     "slide_type": "subslide"
    }
   },
   "outputs": [
    {
     "data": {
      "image/png": "[encoded data removed]",
      "text/latex": [
       "$$\\left [ \\left ( \\omega_{p}^{2}, \\quad 1, \\quad \\left [ \\left[\\begin{matrix}1\\\\1\\end{matrix}\\right]\\right ]\\right ), \\quad \\left ( \\omega_{p}^{2} + \\omega_{sA}^{2} + \\omega_{sB}^{2}, \\quad 1, \\quad \\left [ \\left[\\begin{matrix}- \\frac{\\omega_{sA}^{2}}{\\omega_{sB}^{2}}\\\\1\\end{matrix}\\right]\\right ]\\right )\\right ]$$"
      ],
      "text/plain": [
       "⎡                 ⎛                        ⎡⎡     2 ⎤⎤⎞⎤\n",
       "⎢                 ⎜                        ⎢⎢-ω_sA  ⎥⎥⎟⎥\n",
       "⎢⎛  2     ⎡⎡1⎤⎤⎞  ⎜  2       2       2     ⎢⎢───────⎥⎥⎟⎥\n",
       "⎢⎜ωₚ , 1, ⎢⎢ ⎥⎥⎟, ⎜ωₚ  + ω_sA  + ω_sB , 1, ⎢⎢     2 ⎥⎥⎟⎥\n",
       "⎢⎝        ⎣⎣1⎦⎦⎠  ⎜                        ⎢⎢ ω_sB  ⎥⎥⎟⎥\n",
       "⎢                 ⎜                        ⎢⎢       ⎥⎥⎟⎥\n",
       "⎣                 ⎝                        ⎣⎣   1   ⎦⎦⎠⎦"
      ]
     },
     "execution_count": 80,
     "metadata": {},
     "output_type": "execute_result"
    }
   ],
   "source": [
    "# And now the finishing touch\n",
    "New_EVMat.eigenvects()"
   ]
  },
  {
   "cell_type": "markdown",
   "metadata": {
    "slideshow": {
     "slide_type": "-"
    }
   },
   "source": [
    "The line above is to be interpreted in the following way:\n",
    "\n",
    "1. There are two different eigenvalues, $\\omega_p^2$ and $\\omega_p^2+\\omega_{sA}^2+\\omega_{sB}^2$,\n",
    "2. each of these eigenvalues appears only once (this is what the \"1\" numbers mean in second positions),\n",
    "3. the eigenvectors are $[1, 1]$ (antisymmetric) and $[-\\omega_{sA}^2/\\omega_{sB}^2, 1]$ (pseudo-symmetric).\n",
    "Note how python doesn't care about normalizing the eigenvector norms, and that it used a different sign convention from me. It means that it does not really matter."
   ]
  },
  {
   "cell_type": "code",
   "execution_count": 81,
   "metadata": {
    "slideshow": {
     "slide_type": "subslide"
    }
   },
   "outputs": [
    {
     "data": {
      "image/png": "[encoded data removed]",
      "text/latex": [
       "$$\\left[\\begin{matrix}\\omega_{pA}^{2} + \\omega_{sA}^{2} & - \\omega_{sA}^{2}\\\\- \\omega_{sB}^{2} & \\omega_{pB}^{2} + \\omega_{sB}^{2}\\end{matrix}\\right]$$"
      ],
      "text/plain": [
       "⎡    2       2          2    ⎤\n",
       "⎢ω_pA  + ω_sA      -ω_sA     ⎥\n",
       "⎢                            ⎥\n",
       "⎢        2          2       2⎥\n",
       "⎣   -ω_sB       ω_pB  + ω_sB ⎦"
      ]
     },
     "execution_count": 81,
     "metadata": {},
     "output_type": "execute_result"
    }
   ],
   "source": [
    "# I can even do it with two different length of pendulums!\n",
    "l_A, l_B = symbols('l_A, l_B', real=True)\n",
    "omega_pA, omega_pB = symbols('omega_pA, omega_pB', real=True)\n",
    "\n",
    "# New stiffness matrix\n",
    "K_2 = Matrix([[m_A*g/l_A + k, -k],\n",
    "              [-k, m_B*g/l_B + k]])\n",
    "\n",
    "# new eigenvector problem\n",
    "EVecMat_2 = M.inv()*K_2\n",
    "New_EVMat_2 = (expand(EVecMat_2).subs(k/m_A, omega_sA**2)\n",
    "                                .subs(k/m_B, omega_sB**2)\n",
    "                                .subs(g/l_A, omega_pA**2)\n",
    "                                .subs(g/l_B, omega_pB**2))\n",
    "\n",
    "New_EVMat_2"
   ]
  },
  {
   "cell_type": "code",
   "execution_count": 82,
   "metadata": {
    "slideshow": {
     "slide_type": "subslide"
    }
   },
   "outputs": [
    {
     "data": {
      "image/png": "[encoded data removed]",
      "text/latex": [
       "$$\\left [ \\left ( \\frac{\\omega_{pA}^{2}}{2} + \\frac{\\omega_{pB}^{2}}{2} + \\frac{\\omega_{sA}^{2}}{2} + \\frac{\\omega_{sB}^{2}}{2} - \\frac{\\sqrt{\\omega_{pA}^{4} - 2 \\omega_{pA}^{2} \\omega_{pB}^{2} + 2 \\omega_{pA}^{2} \\omega_{sA}^{2} - 2 \\omega_{pA}^{2} \\omega_{sB}^{2} + \\omega_{pB}^{4} - 2 \\omega_{pB}^{2} \\omega_{sA}^{2} + 2 \\omega_{pB}^{2} \\omega_{sB}^{2} + \\omega_{sA}^{4} + 2 \\omega_{sA}^{2} \\omega_{sB}^{2} + \\omega_{sB}^{4}}}{2}, \\quad 1, \\quad \\left [ \\left[\\begin{matrix}\\frac{\\omega_{sA}^{2}}{\\frac{\\omega_{pA}^{2}}{2} - \\frac{\\omega_{pB}^{2}}{2} + \\frac{\\omega_{sA}^{2}}{2} - \\frac{\\omega_{sB}^{2}}{2} + \\frac{\\sqrt{\\omega_{pA}^{4} - 2 \\omega_{pA}^{2} \\omega_{pB}^{2} + 2 \\omega_{pA}^{2} \\omega_{sA}^{2} - 2 \\omega_{pA}^{2} \\omega_{sB}^{2} + \\omega_{pB}^{4} - 2 \\omega_{pB}^{2} \\omega_{sA}^{2} + 2 \\omega_{pB}^{2} \\omega_{sB}^{2} + \\omega_{sA}^{4} + 2 \\omega_{sA}^{2} \\omega_{sB}^{2} + \\omega_{sB}^{4}}}{2}}\\\\1\\end{matrix}\\right]\\right ]\\right ), \\quad \\left ( \\frac{\\omega_{pA}^{2}}{2} + \\frac{\\omega_{pB}^{2}}{2} + \\frac{\\omega_{sA}^{2}}{2} + \\frac{\\omega_{sB}^{2}}{2} + \\frac{\\sqrt{\\omega_{pA}^{4} - 2 \\omega_{pA}^{2} \\omega_{pB}^{2} + 2 \\omega_{pA}^{2} \\omega_{sA}^{2} - 2 \\omega_{pA}^{2} \\omega_{sB}^{2} + \\omega_{pB}^{4} - 2 \\omega_{pB}^{2} \\omega_{sA}^{2} + 2 \\omega_{pB}^{2} \\omega_{sB}^{2} + \\omega_{sA}^{4} + 2 \\omega_{sA}^{2} \\omega_{sB}^{2} + \\omega_{sB}^{4}}}{2}, \\quad 1, \\quad \\left [ \\left[\\begin{matrix}\\frac{\\omega_{sA}^{2}}{\\frac{\\omega_{pA}^{2}}{2} - \\frac{\\omega_{pB}^{2}}{2} + \\frac{\\omega_{sA}^{2}}{2} - \\frac{\\omega_{sB}^{2}}{2} - \\frac{\\sqrt{\\omega_{pA}^{4} - 2 \\omega_{pA}^{2} \\omega_{pB}^{2} + 2 \\omega_{pA}^{2} \\omega_{sA}^{2} - 2 \\omega_{pA}^{2} \\omega_{sB}^{2} + \\omega_{pB}^{4} - 2 \\omega_{pB}^{2} \\omega_{sA}^{2} + 2 \\omega_{pB}^{2} \\omega_{sB}^{2} + \\omega_{sA}^{4} + 2 \\omega_{sA}^{2} \\omega_{sB}^{2} + \\omega_{sB}^{4}}}{2}}\\\\1\\end{matrix}\\right]\\right ]\\right )\\right ]$$"
      ],
      "text/plain": [
       "⎡⎛                                                                            \n",
       "⎢⎜                                                                            \n",
       "⎢⎜                                   _________________________________________\n",
       "⎢⎜    2       2       2       2     ╱     4         2     2         2     2   \n",
       "⎢⎜ω_pA    ω_pB    ω_sA    ω_sB    ╲╱  ω_pA  - 2⋅ω_pA ⋅ω_pB  + 2⋅ω_pA ⋅ω_sA  - \n",
       "⎢⎜───── + ───── + ───── + ───── - ────────────────────────────────────────────\n",
       "⎢⎜  2       2       2       2                                                 \n",
       "⎢⎜                                                                            \n",
       "⎢⎜                                                                            \n",
       "⎣⎝                                                                            \n",
       "\n",
       "                                                                              \n",
       "                                                                              \n",
       "______________________________________________________________________________\n",
       "      2     2       4         2     2         2     2       4         2     2 \n",
       "2⋅ω_pA ⋅ω_sB  + ω_pB  - 2⋅ω_pB ⋅ω_sA  + 2⋅ω_pB ⋅ω_sB  + ω_sA  + 2⋅ω_sA ⋅ω_sB  \n",
       "──────────────────────────────────────────────────────────────────────────────\n",
       "                    2                                                         \n",
       "                                                                              \n",
       "                                                                              \n",
       "                                                                              \n",
       "\n",
       "             ⎡⎡                                                               \n",
       "             ⎢⎢                                                               \n",
       "________     ⎢⎢───────────────────────────────────────────────────────────────\n",
       "      4      ⎢⎢                                   ____________________________\n",
       "+ ω_sB       ⎢⎢    2       2       2       2     ╱     4         2     2      \n",
       "────────, 1, ⎢⎢ω_pA    ω_pB    ω_sA    ω_sB    ╲╱  ω_pA  - 2⋅ω_pA ⋅ω_pB  + 2⋅ω\n",
       "             ⎢⎢───── - ───── + ───── - ───── + ───────────────────────────────\n",
       "             ⎢⎢  2       2       2       2                                    \n",
       "             ⎢⎢                                                               \n",
       "             ⎣⎣                                                               \n",
       "\n",
       "                   2                                                          \n",
       "               ω_sA                                                           \n",
       "──────────────────────────────────────────────────────────────────────────────\n",
       "______________________________________________________________________________\n",
       "   2     2         2     2       4         2     2         2     2       4    \n",
       "_pA ⋅ω_sA  - 2⋅ω_pA ⋅ω_sB  + ω_pB  - 2⋅ω_pB ⋅ω_sA  + 2⋅ω_pB ⋅ω_sB  + ω_sA  + 2\n",
       "──────────────────────────────────────────────────────────────────────────────\n",
       "                                 2                                            \n",
       "                                                                              \n",
       "                 1                                                            \n",
       "\n",
       "                     ⎤⎤⎞  ⎛                                                   \n",
       "                     ⎥⎥⎟  ⎜                                                   \n",
       "─────────────────────⎥⎥⎟  ⎜                                   ________________\n",
       "_____________________⎥⎥⎟  ⎜    2       2       2       2     ╱     4         2\n",
       "     2     2       4 ⎥⎥⎟  ⎜ω_pA    ω_pB    ω_sA    ω_sB    ╲╱  ω_pA  - 2⋅ω_pA \n",
       "⋅ω_sA ⋅ω_sB  + ω_sB  ⎥⎥⎟, ⎜───── + ───── + ───── + ───── + ───────────────────\n",
       "─────────────────────⎥⎥⎟  ⎜  2       2       2       2                        \n",
       "                     ⎥⎥⎟  ⎜                                                   \n",
       "                     ⎥⎥⎟  ⎜                                                   \n",
       "                     ⎦⎦⎠  ⎝                                                   \n",
       "\n",
       "                                                                              \n",
       "                                                                              \n",
       "______________________________________________________________________________\n",
       "     2         2     2         2     2       4         2     2         2     2\n",
       "⋅ω_pB  + 2⋅ω_pA ⋅ω_sA  - 2⋅ω_pA ⋅ω_sB  + ω_pB  - 2⋅ω_pB ⋅ω_sA  + 2⋅ω_pB ⋅ω_sB \n",
       "──────────────────────────────────────────────────────────────────────────────\n",
       "                                             2                                \n",
       "                                                                              \n",
       "                                                                              \n",
       "                                                                              \n",
       "\n",
       "                                      ⎡⎡                                      \n",
       "                                      ⎢⎢                                      \n",
       "_________________________________     ⎢⎢──────────────────────────────────────\n",
       "       4         2     2       4      ⎢⎢                                   ___\n",
       " + ω_sA  + 2⋅ω_sA ⋅ω_sB  + ω_sB       ⎢⎢    2       2       2       2     ╱   \n",
       "─────────────────────────────────, 1, ⎢⎢ω_pA    ω_pB    ω_sA    ω_sB    ╲╱  ω_\n",
       "                                      ⎢⎢───── - ───── + ───── - ───── - ──────\n",
       "                                      ⎢⎢  2       2       2       2           \n",
       "                                      ⎢⎢                                      \n",
       "                                      ⎣⎣                                      \n",
       "\n",
       "                                            2                                 \n",
       "                                        ω_sA                                  \n",
       "──────────────────────────────────────────────────────────────────────────────\n",
       "______________________________________________________________________________\n",
       "  4         2     2         2     2         2     2       4         2     2   \n",
       "pA  - 2⋅ω_pA ⋅ω_pB  + 2⋅ω_pA ⋅ω_sA  - 2⋅ω_pA ⋅ω_sB  + ω_pB  - 2⋅ω_pB ⋅ω_sA  + \n",
       "──────────────────────────────────────────────────────────────────────────────\n",
       "                                                          2                   \n",
       "                                                                              \n",
       "                                          1                                   \n",
       "\n",
       "                                              ⎤⎤⎞⎤\n",
       "                                              ⎥⎥⎟⎥\n",
       "──────────────────────────────────────────────⎥⎥⎟⎥\n",
       "______________________________________________⎥⎥⎟⎥\n",
       "      2     2       4         2     2       4 ⎥⎥⎟⎥\n",
       "2⋅ω_pB ⋅ω_sB  + ω_sA  + 2⋅ω_sA ⋅ω_sB  + ω_sB  ⎥⎥⎟⎥\n",
       "──────────────────────────────────────────────⎥⎥⎟⎥\n",
       "                                              ⎥⎥⎟⎥\n",
       "                                              ⎥⎥⎟⎥\n",
       "                                              ⎦⎦⎠⎦"
      ]
     },
     "execution_count": 82,
     "metadata": {},
     "output_type": "execute_result"
    }
   ],
   "source": [
    "New_EVMat_2.eigenvects()"
   ]
  },
  {
   "cell_type": "markdown",
   "metadata": {
    "slideshow": {
     "slide_type": "skip"
    }
   },
   "source": [
    "*Note: the result above is so long that it will not display properly on the pdf version of the notes. Which is the message here: the result is so long, it is not practical to handle it symbolically.*"
   ]
  },
  {
   "cell_type": "markdown",
   "metadata": {
    "slideshow": {
     "slide_type": "skip"
    }
   },
   "source": [
    "Obviously, in a practical setting, we would be using a numerical math package, not a symbolic one!\n",
    "These excruciatingly complicated expressions would become mere numbers, which computers could crunch out."
   ]
  },
  {
   "cell_type": "markdown",
   "metadata": {
    "slideshow": {
     "slide_type": "skip"
    }
   },
   "source": [
    "# Other Examples\n",
    "\n",
    "## Masses Coupled by Springs"
   ]
  },
  {
   "cell_type": "markdown",
   "metadata": {
    "slideshow": {
     "slide_type": "slide"
    }
   },
   "source": [
    "See King fig. 4.11.\n",
    "![Fig. 10: King 4.11](CoupledMassesSprings.png)"
   ]
  },
  {
   "cell_type": "markdown",
   "metadata": {
    "slideshow": {
     "slide_type": "skip"
    }
   },
   "source": [
    "#### Equations of motion\n",
    "Let both masses be equal this time, and let all the stiffnesses be equal as well.\n",
    "Equations are:\n",
    "$$ m \\ddot x_A = -k x_A + k(x_B - x_A) = k x_B - 2 k x_A, $$\n",
    "$$ m \\ddot x_B = -k (x_B - x_A) - kx_B = k x_A - 2 k x_B. $$"
   ]
  },
  {
   "cell_type": "markdown",
   "metadata": {
    "slideshow": {
     "slide_type": "skip"
    }
   },
   "source": [
    "Dividing by $m$:\n",
    "$$ \\ddot x_A = \\omega_s^2 (x_B - 2 x_A), $$\n",
    "$$ \\ddot x_B = \\omega_s^2 (x_A - 2 x_B). $$"
   ]
  },
  {
   "cell_type": "markdown",
   "metadata": {
    "slideshow": {
     "slide_type": "skip"
    }
   },
   "source": [
    "#### Form of the solution\n",
    "We are looking for *normal modes*.\n",
    "Recall the definition of the normal modes: **normal modes are modes for which all elements of the coupled system oscillate at the same, unique frequency.**\n",
    "Therefore, we look for solutions of the form\n",
    "$$ \\vec X = C\\vec Y \\cos(\\omega t + \\phi). $$"
   ]
  },
  {
   "cell_type": "markdown",
   "metadata": {
    "slideshow": {
     "slide_type": "skip"
    }
   },
   "source": [
    "As before, solving the eigenvalue problem will yield the $\\omega$'s and $\\vec Y$'s, while the $C$'s and $\\phi$'s are determined in a second time, with the initial conditions."
   ]
  },
  {
   "cell_type": "markdown",
   "metadata": {
    "slideshow": {
     "slide_type": "skip"
    }
   },
   "source": [
    "#### Eigenproblem and solving for $\\vec Y$ and $\\omega$.\n",
    "The previous system of equations becomes\n",
    "$$ \\omega_s^2 (2x_A - x_B) = \\omega^2 x_A, \\hspace{6cm} (9a)$$\n",
    "$$ \\omega_s^2 (2x_B - x_A) = \\omega^2 x_B, \\hspace{6cm} (9b)$$\n",
    "which has the form of an eigenproblem."
   ]
  },
  {
   "cell_type": "markdown",
   "metadata": {
    "slideshow": {
     "slide_type": "skip"
    }
   },
   "source": [
    "Indeed, defining \n",
    "$$ M^{-1}K = \\omega_s^2 \\begin{bmatrix}\n",
    "                            2 & -1 \\\\\n",
    "                            -1 & 2\n",
    "                        \\end{bmatrix}, $$\n",
    "We can write the above system of equations as\n",
    "$$ M^{-1}K \\vec X = \\omega^2 \\vec X. $$"
   ]
  },
  {
   "cell_type": "markdown",
   "metadata": {
    "slideshow": {
     "slide_type": "skip"
    }
   },
   "source": [
    "We find the eigenfrequencies by finding the roots of the characteristic polynomial, i.e., of\n",
    "$$ \\det(M^-1 K - \\omega^2\\mathsf I_2) = 0 = (2\\omega_s^2 - \\omega^2)^2 - \\omega_s^4 = (\\omega^2 - \\omega_s^2)(\\omega^2 - 3\\omega^2_s). $$"
   ]
  },
  {
   "cell_type": "markdown",
   "metadata": {
    "slideshow": {
     "slide_type": "skip"
    }
   },
   "source": [
    "Thus, the eigenfrequencies are $\\omega_1=\\omega_s$ and $\\omega_2 = \\sqrt{3}\\omega_s$."
   ]
  },
  {
   "cell_type": "markdown",
   "metadata": {
    "slideshow": {
     "slide_type": "skip"
    }
   },
   "source": [
    "The mode, oscillating at $\\omega_1= \\omega_s$ can be qualified as \"antisymmetric\" again. It is the mode for which both masses oscillate in sync, and the central spring is neither stretched or compressed. Therefore, only the external springs stretch or compress, and their natural frequencies of oscillations are simply $\\omega_s$."
   ]
  },
  {
   "cell_type": "markdown",
   "metadata": {
    "slideshow": {
     "slide_type": "subslide"
    }
   },
   "source": [
    "![Fig. 11: the symmetric normal mode](spring_sym.gif)"
   ]
  },
  {
   "cell_type": "markdown",
   "metadata": {
    "slideshow": {
     "slide_type": "skip"
    }
   },
   "source": [
    "By process of elimination, and because the system is neatly symmetric around the central $x$, we can surmise that the other mode, oscillating at $\\omega_2 = \\sqrt3 \\omega_s$, is a symmetric mode of motion, the motion of both masses being symmetric with respect to the central plane."
   ]
  },
  {
   "cell_type": "markdown",
   "metadata": {
    "slideshow": {
     "slide_type": "subslide"
    }
   },
   "source": [
    "![Fig. 12: the antisymmetric normal mode.](spring_asyn.gif)"
   ]
  },
  {
   "cell_type": "markdown",
   "metadata": {
    "slideshow": {
     "slide_type": "skip"
    }
   },
   "source": [
    "Defining $\\vec Y = [a, b]$, we can find the orientation of the eigenvectors by replacing $x_A$ and $x_B$ by $a$ and $b$ in the system $(9)$, or in only one of the equations since they are redundant.\n",
    "\n",
    "In the case $\\omega = \\omega_s$, eqn. $(9a)$ becomes $a - b = 0$, or $a =b$. It is indeed the antisymmetric mode.\n",
    "Normalizing to have $\\|\\vec Y_1\\| = 1$ (*which I do, but isn't necessary!*) yields $a = b = 1/\\sqrt{2}$.\n",
    "\n",
    "In the case $\\omega = \\sqrt{3}\\omega_s$, eqn. $(9a)$ becomes $a = -b$. It is indeed the symmetric mode.\n",
    "Normalizing to have $\\|\\vec Y_2\\| = 1$ yields $a = -b = 1/\\sqrt{2}$."
   ]
  },
  {
   "cell_type": "markdown",
   "metadata": {
    "slideshow": {
     "slide_type": "skip"
    }
   },
   "source": [
    "Any solution of the coupled oscillator system is therefore\n",
    "$$ \\vec X = \\frac{C_1}{\\sqrt{2}}\\begin{bmatrix}\n",
    "                    1 \\\\ 1\n",
    "               \\end{bmatrix}\\cos(\\omega_s t + \\phi_1) + \n",
    "            \\frac{C_2}{\\sqrt{2}}\\begin{bmatrix}\n",
    "                    1 \\\\ -1\n",
    "            \\end{bmatrix}\\cos(\\sqrt3\\omega_s t + \\phi_2).$$"
   ]
  },
  {
   "cell_type": "markdown",
   "metadata": {
    "slideshow": {
     "slide_type": "skip"
    }
   },
   "source": [
    "Any problem would the completed by using initial conditions in order to solve for the $C$'s and $\\phi$'s.\n",
    "I won't do it."
   ]
  },
  {
   "cell_type": "markdown",
   "metadata": {
    "slideshow": {
     "slide_type": "slide"
    }
   },
   "source": [
    "## Ocean Tides"
   ]
  },
  {
   "cell_type": "markdown",
   "metadata": {
    "slideshow": {
     "slide_type": "subslide"
    }
   },
   "source": [
    "For your interest only. This discussion is based on the following two articles:\n",
    "\n",
    "* Arbic, Brian K., and Chris Garrett. 2010. \"A Coupled Oscillator Model of Shelf and Ocean Tides.\" Continental Shelf Research 30 (6). Pergamon: 564–74. doi:10.1016/j.csr.2009.07.008.\n",
    "* Arbic, Brian K., Richard H. Karsten, and Chris Garrett. 2009. \"On Tidal Resonance in the Global Ocean and the Back-effect of Coastal Tides upon Open-ocean Tides.\" Atmosphere-Ocean 47 (4): 239–66. doi:10.3137/OC311.2009.\n",
    "\n",
    "I have uploaded those two articles onto the portal along with these lecture notes."
   ]
  },
  {
   "cell_type": "markdown",
   "metadata": {
    "slideshow": {
     "slide_type": "skip"
    }
   },
   "source": [
    "Every continent is surrounded by continental shelves, i.e., regions where the ocean floor is relatively flat, and relatively shallow (less than 500 m deep).\n",
    "You may easily realize this by looking at google maps in satellite mode.\n",
    "In contrast, the \"open-ocean\" is in general much deeper (5 km).\n",
    "Because these two regions of the ocean are much different, they can be thought of as individual oscillators with respect to tidal forcing, with their own resonance frequencies, and their own damping rates: damping is much stronger for tides in shallower seas, because the proximity to the bottom creates much more fluid friction and turbulence."
   ]
  },
  {
   "cell_type": "markdown",
   "metadata": {
    "slideshow": {
     "slide_type": "skip"
    }
   },
   "source": [
    "Some continental shelves are fairly well isolated from the open ocean.\n",
    "The example that is closest to home, but also one of the best examples in the world, is Hudson Bay.\n",
    "It is very large (over 1000 km diameter) and shallow (about 100 m on average), and coupled to the open-ocean via a series of very narrow and even more shallow straits."
   ]
  },
  {
   "cell_type": "markdown",
   "metadata": {
    "slideshow": {
     "slide_type": "skip"
    }
   },
   "source": [
    "One would think that such an isolated body of water does its own thing, resonating with the tidal forcing without influencing the other bodies of water.\n",
    "This would be neglecting the peculiar properties of resonance, and in particular that even if the coupling is weak between two oscillators, if the forcing provided by the first oscillator to the second oscillator happens to be at a resonance frequency of the second oscillator, the second oscillator will react strongly.\n",
    "As a consequence, the coupled system will have a fundamentally different behaviour than if the two oscillators were uncoupled: modes of oscillation take over, and the behaviour becomes global."
   ]
  },
  {
   "cell_type": "markdown",
   "metadata": {
    "slideshow": {
     "slide_type": "skip"
    }
   },
   "source": [
    "Arbic and his colleagues were interested in paleo-oceanography, and in particular, what were the tides like during the last glacial maximum, were polar ice caps were retaining a lot of the world's water in solid form, above sea level?\n",
    "Then, sea level was more than 100 m below what it is now, and the oscillators as well as the couplings between them must have been very different.\n",
    "They realized it was very complicated, and that the slightest changes in the coastal configuration could change the global tides radically.\n",
    "Take a look at Arbic and Garrett 2010, page 2: they push the analogy as far as drawing two masses linked by springs, go over a discussion about damping, plot the same resonance curves that I drew in chapter 3, etc.!"
   ]
  },
  {
   "cell_type": "markdown",
   "metadata": {
    "slideshow": {
     "slide_type": "skip"
    }
   },
   "source": [
    "The two articles that I am citing are proof-of-concept kind of articles, where they run numerical simulations of ocean tides in which they artificially change tiny bits of coasts.\n",
    "In particular, they block Hudson Strait between Hudson Bay and the Atlantic Ocean, and find that the tides are completely modified everywhere in the Atlantic Ocean (see figure here, i.e., fig. 15a, b, c of Arbic et al. 2009, reproduced here.) and even as far as India, were a 20 cm increase in tidal amplitude happens!"
   ]
  },
  {
   "cell_type": "markdown",
   "metadata": {
    "slideshow": {
     "slide_type": "subslide"
    }
   },
   "source": [
    "![Fig. 13: Reproduction of fig. 15a, b and c of Arbic et al. 2009: \"(a) and (b) $M_2$ amplitudes (m) near Hudson Strait in nominal (unblocked) and blocked Hudson Strait experiments. (c) Global map of $M_2$ amplitude differences (m) between the blocked Hudson Strait experiment and the unblocked experiment.\" *Note:* $M_2 \\approx 2\\pi/(12.4 hours)$ *is the name of the lunar semidiurnal tide frequency.*](HudsonBlocked.png)"
   ]
  },
  {
   "cell_type": "markdown",
   "metadata": {
    "slideshow": {
     "slide_type": "skip"
    }
   },
   "source": [
    "Such considerations illustrate how delicate it is to predict adaptation to climate change.\n",
    "If the sea level is predicted to rise by metres, what will it entail e.g. for artifical ports, which have been designed to operate optimally under present-day tides? The changes in amplitudes and phases of tides might render some harbours less optimal than others, some breeding grounds might change, some touristic destinations might need to be redesigned..."
   ]
  },
  {
   "cell_type": "markdown",
   "metadata": {
    "slideshow": {
     "slide_type": "skip"
    }
   },
   "source": [
    "***\n",
    "\n",
    "*End of 09/28 lecture, beginning of 10/01 lecture.*\n",
    "\n",
    "***"
   ]
  },
  {
   "cell_type": "markdown",
   "metadata": {
    "slideshow": {
     "slide_type": "skip"
    }
   },
   "source": [
    "# On the Orthogonality of the Eigenmodes"
   ]
  },
  {
   "cell_type": "markdown",
   "metadata": {
    "slideshow": {
     "slide_type": "skip"
    }
   },
   "source": [
    "## One Last Bit of Linear Algebra"
   ]
  },
  {
   "cell_type": "markdown",
   "metadata": {
    "slideshow": {
     "slide_type": "skip"
    }
   },
   "source": [
    "The last bit of linear algebra that I will be using is that if a matrix $\\textsf P$ is real symmetric, i.e., all elements of $\\textsf P$ are real, and $\\textsf P^T = \\textsf P$, then the eigenvectors of $\\textsf P$ are orthogonal to each other.\n",
    "That is, for eigenvectors that have been normalized ($\\forall i\\in {1\\dots{}n}, \\|V_i\\| = 1$),\n",
    "$$\\forall (i, j) \\in \\{1\\dots n\\}^2, \\qquad V_i\\cdot V_j = \\delta_{ij}, $$\n",
    "where $\\delta_{ij} = 1$ if $i=j$, and $\\delta_{ij} = 0$ otherwise ($\\delta_{ij}$ is called the \"Kronecker Delta\")."
   ]
  },
  {
   "cell_type": "markdown",
   "metadata": {
    "slideshow": {
     "slide_type": "skip"
    }
   },
   "source": [
    "*Note: the generalization of a real symmetric matrix is called a Hermitian matrix, for which* $P_{ij} = P_{ji}^*$ *, where the asterisk means complex conjugate. The result above applies to Hermitian matrices, which will be very important very soon, in quantum mechanics.*"
   ]
  },
  {
   "cell_type": "markdown",
   "metadata": {
    "slideshow": {
     "slide_type": "skip"
    }
   },
   "source": [
    "In general, what the dot product is depends on the vector space. In our case, it is simply that if $\\vec Y_a = [a_1, a_2]$ and $\\vec Y_b = [b_1, b_2]$, then $\\vec Y_a \\cdot \\vec Y_b = a_1b_1 + a_2b_2$."
   ]
  },
  {
   "cell_type": "markdown",
   "metadata": {
    "slideshow": {
     "slide_type": "skip"
    }
   },
   "source": [
    "Let me re-use the example of the two coupled pendulums of different masses.\n",
    "The matrix $\\textsf P$ corresponded to\n",
    "$$ M^{-1}K = \\begin{bmatrix}\n",
    "                 \\frac{g}l + \\frac{k}{m_A} & -\\frac{k}{m_A} \\\\\n",
    "                 -\\frac{k}{m_B} & \\frac{g}l + \\frac{k}{m_B}\n",
    "             \\end{bmatrix},$$\n",
    "and the normalized eigenvectors were \n",
    "$$ \\vec Y_1 = \\frac{1}{\\sqrt{2}}\\begin{bmatrix}\n",
    "                                     1 \\\\ 1\n",
    "                                 \\end{bmatrix}\n",
    "\\and\n",
    "\\vec Y_2 = \\frac{1}{\\sqrt{\\omega_{sA}^4 + \\omega_{sB}^4}}\\begin{bmatrix}\n",
    "               \\omega_{sA}^2 \\\\\n",
    "               -\\omega_{sB}^2\n",
    "           \\end{bmatrix}\n",
    "         = \\frac1{\\sqrt{m_A^2 + m_B^2}}\\begin{bmatrix}\n",
    "                                           m_B \\\\\n",
    "                                           -m_A\n",
    "                                       \\end{bmatrix}.$$"
   ]
  },
  {
   "cell_type": "markdown",
   "metadata": {
    "slideshow": {
     "slide_type": "skip"
    }
   },
   "source": [
    "The projection of the two eigenvectors onto each other is therefore\n",
    "$$ \\vec Y_1 \\cdot \\vec Y_2 = \\frac{m_B - m_A}{\\sqrt{2(m_A^2 + m_B^2)}}. $$"
   ]
  },
  {
   "cell_type": "markdown",
   "metadata": {
    "slideshow": {
     "slide_type": "skip"
    }
   },
   "source": [
    "Therefore, if $m_A = m_B$, the two statements \"$\\vec Y_1 \\perp \\vec Y_2$\" and \"$M^{-1}K$ is real symmetric\" are both true. In light of the linear algebra result I recalled above, this is no coincidence.\n",
    "\n",
    "Cases in which the matrix is real symmetric correspond to a wide range of applications.\n",
    "In these cases, the orthogonality property simplifies the calculations greatly, especially when the number of oscillators becomes large.\n",
    "The reason is that it becomes very easy to isolate every mode.\n",
    "\n",
    "Here, I divide the examples of applications into two classes: initial value problems (the free response), and forced problems (the driven response).\n",
    "\n",
    "*Note: there are relatively easy ways to generalize these results to non-symmetric matrices, because $\\vec Y_i M\\vec Y_j = 0$ if $i\\neq j$. It represents an additional mathematical complexity level that, while not that difficult, is too much to deal with in the short amount of time I have.*"
   ]
  },
  {
   "cell_type": "markdown",
   "metadata": {
    "slideshow": {
     "slide_type": "skip"
    }
   },
   "source": [
    "## Initial Value Problems"
   ]
  },
  {
   "cell_type": "markdown",
   "metadata": {
    "slideshow": {
     "slide_type": "skip"
    }
   },
   "source": [
    "Recall that the free response of the coupled system of oscillators can be written\n",
    "$$ \\vec X = C_1 \\vec Y_1 \\cos(\\omega_1 t + \\phi_1) + C_2 \\vec Y_2 \\cos(\\omega_2 t + \\phi_2), $$\n",
    "and that at $t = 0$,\n",
    "$\\vec X(t=0) = \\vec X_0 = C_1 \\vec Y_1\\cos\\phi_1 + C_2 \\vec Y_2\\cos\\phi_2$.\n",
    "\n",
    "The velocity is\n",
    "$$ \\vec V = -\\omega_1 C_1 \\vec Y_1 \\sin(\\omega_1 t + \\phi_1) - \\omega_2 C_2 \\vec Y_2 \\sin(\\omega_2 t + \\phi_2),$$\n",
    "which initially is \n",
    "$\\vec V(t=0) = \\vec V_0 = -\\omega_1C_1 \\vec Y_1\\sin\\phi_1 -\\omega_2 C_2 \\vec Y_2\\sin\\phi_2$."
   ]
  },
  {
   "cell_type": "raw",
   "metadata": {
    "raw_mimetype": "text/markdown",
    "slideshow": {
     "slide_type": "skip"
    }
   },
   "source": [
    "### $M^{-1}K$ symmetric\n",
    "\n",
    "This is the only case you need to remember. "
   ]
  },
  {
   "cell_type": "markdown",
   "metadata": {
    "slideshow": {
     "slide_type": "skip"
    }
   },
   "source": [
    "Finding the initial conditions for the modes is merely about projecting onto $\\vec Y_1$ and $\\vec Y_2$:\n",
    "$$ \\vec X_0\\cdot \\vec Y_1 = C_1 \\cos\\phi_1, $$\n",
    "$$ \\vec X_0\\cdot \\vec Y_2 = C_2 \\cos\\phi_2, $$\n",
    "$$ \\vec V_0\\cdot \\vec Y_1 = -\\omega_1 C_1 \\sin\\phi_1, $$\n",
    "$$ \\vec V_0\\cdot \\vec Y_2 = -\\omega_2 C_2 \\sin\\phi_2, $$\n",
    "because $\\vec Y_1 \\cdot \\vec Y_2 = 0$."
   ]
  },
  {
   "cell_type": "markdown",
   "metadata": {
    "slideshow": {
     "slide_type": "skip"
    }
   },
   "source": [
    "*Note: if $\\vec Y_1$ and $\\vec Y_2$ are not normalized, you need to multiply these right-hand-sides by* $\\|\\vec Y_1\\|^2$ *and* $\\|\\vec Y_2\\|^2$!!!"
   ]
  },
  {
   "cell_type": "markdown",
   "metadata": {
    "slideshow": {
     "slide_type": "skip"
    }
   },
   "source": [
    "Take the example of the identical coupled pendulums, with $x_{A0} = A > 0$, $x_{B0} = 0$, $v_{A0} = v_{B0} = 0.$\n",
    "We had $\\vec Y_1 = [1, 1]/\\sqrt{2}$ and $\\vec Y_2 = [1, -1]/\\sqrt{2}$.\n",
    "$$ \\vec X_0\\cdot \\vec Y_1 = A/\\sqrt{2} + 0/\\sqrt{2} = A/\\sqrt{2} = C_1 \\cos\\phi_1, $$\n",
    "$$ \\vec X_0\\cdot \\vec Y_2 = A/\\sqrt{2} - 0/\\sqrt{2} = A/\\sqrt{2} = C_2 \\cos\\phi_2, $$\n",
    "$$ \\vec V_0\\cdot \\vec Y_1 = 0/\\sqrt{2} + 0/\\sqrt{2} = 0 = -\\omega_1 C_1 \\sin\\phi_1, $$\n",
    "$$ \\vec V_0\\cdot \\vec Y_2 = 0/\\sqrt{2} - 0/\\sqrt{2} = 0 = -\\omega_2 C_2 \\sin\\phi_2. $$"
   ]
  },
  {
   "cell_type": "markdown",
   "metadata": {
    "slideshow": {
     "slide_type": "skip"
    }
   },
   "source": [
    "The only way for the last two equations to be satisfied with $C_1 > 0$ and $C_2 > 0$ is $\\phi_1 = \\phi_2 = 0$, in which case $C_1 = C_2 = A/\\sqrt{2}$, and the solution is\n",
    "$$ \\vec X = \\frac{A}{\\sqrt2} \\vec Y_1 \\cos(\\omega_1 t) + \\frac{A}{\\sqrt2} \\vec Y_2 \\cos(\\omega_2 t) = \\frac{A}{2} \\stirling11 \\cos(\\omega_1 t) + \\frac{A}2 \\stirling{1}{-1} \\cos(\\omega_2 t), $$"
   ]
  },
  {
   "cell_type": "raw",
   "metadata": {
    "raw_mimetype": "text/markdown",
    "slideshow": {
     "slide_type": "skip"
    }
   },
   "source": [
    "### $M^{-1}K$ non-symmetric\n",
    "\n",
    "It is actually fairly simple to generalize the results above for a non-symmetric $M^{-1}K$ matrix, but you are not required to remember it.\n",
    "*So much so that I will skip it in class!*"
   ]
  },
  {
   "cell_type": "raw",
   "metadata": {
    "raw_mimetype": "text/markdown",
    "slideshow": {
     "slide_type": "skip"
    }
   },
   "source": [
    "In this case, $\\vec Y_1 \\cdot \\vec Y_2 \\neq 0$, but $\\vec Y_1 M \\vec Y_2 = 0$. Therefore, instead of computing $\\vec X_0 \\cdot \\vec Y_1$, etc, finding the coefficients entails computing $\\vec X_0 M \\vec Y_1$, etc."
   ]
  },
  {
   "cell_type": "raw",
   "metadata": {
    "raw_mimetype": "text/markdown",
    "slideshow": {
     "slide_type": "skip"
    }
   },
   "source": [
    "Take the example of the coupled pendulums, with $x_{A0} = A > 0$, $x_{B0} = 0$, $v_{A0} = v_{B0} = 0.$\n",
    "We now choose $m_A = m$, and $m_B = 2m$.\n",
    "Therefore, $\\vec Y_1 = [1, 1]/\\sqrt{2}$ and $\\vec Y_2 = [2, -1]/\\sqrt{5}$."
   ]
  },
  {
   "cell_type": "raw",
   "metadata": {
    "raw_mimetype": "text/markdown",
    "slideshow": {
     "slide_type": "skip"
    }
   },
   "source": [
    "Then, \n",
    "$$ M \\vec Y_1 = \\frac1{\\sqrt2}\\begin{bmatrix}m & 0 \\\\ 0 & 2 m\\end{bmatrix}\\stirling{1}{1} = \\frac{m}{\\sqrt{2}}\\stirling{1}{2} \\and M \\vec Y_1 = \\frac1{\\sqrt5}\\begin{bmatrix}m & 0 \\\\ 0 & 2 m\\end{bmatrix}\\stirling{2}{-1} = \\frac{2m}{\\sqrt{5}}\\stirling{1}{-1}.$$"
   ]
  },
  {
   "cell_type": "raw",
   "metadata": {
    "raw_mimetype": "text/markdown",
    "slideshow": {
     "slide_type": "skip"
    }
   },
   "source": [
    "You can check that \n",
    "$$ \\vec Y_1 M \\vec Y_2 = \\frac{1}{\\sqrt{10}} [1, 1]\\begin{bmatrix}m & 0 \\\\ 0 & 2 m\\end{bmatrix}\\stirling{2}{-1} = \\frac{2m}{\\sqrt{10}}[1, 1] \\stirling{1}{-1} = 0,$$\n",
    "and same for $\\vec Y_2 M \\vec Y_1.$"
   ]
  },
  {
   "cell_type": "raw",
   "metadata": {
    "raw_mimetype": "text/markdown",
    "slideshow": {
     "slide_type": "skip"
    }
   },
   "source": [
    "For the coefficients, the procedure becomes\n",
    "$$ \\vec X_0 M \\vec Y_1 = mA/\\sqrt{2} + 0\\times 2m/\\sqrt{2} = A/\\sqrt{2} = C_1 \\cos\\phi_1, $$\n",
    "$$ \\vec X_0 M \\vec Y_2 = A/\\sqrt{2} - 0/\\sqrt{2} = A/\\sqrt{2} = C_2 \\cos\\phi_2, $$\n",
    "$$ \\vec V_0 M \\vec Y_1 = 0/\\sqrt{2} + 0/\\sqrt{2} = 0 = -\\omega_1 C_1 \\sin\\phi_1, $$\n",
    "$$ \\vec V_0 M \\vec Y_2 = 0/\\sqrt{2} - 0/\\sqrt{2} = 0 = -\\omega_2 C_2 \\sin\\phi_2. $$"
   ]
  },
  {
   "cell_type": "markdown",
   "metadata": {
    "slideshow": {
     "slide_type": "slide"
    }
   },
   "source": [
    "***\n",
    "\n",
    "## Forced Problems\n",
    "\n",
    "I do not have the time to cover this piece this year, because I have one less lecture than before. However, I found it heartbreaking to delete all of this, and so, here it is. You will not be tested on it, but if you understand it, it may do a good job at consolidating what you learned in Chapter 3."
   ]
  },
  {
   "cell_type": "markdown",
   "metadata": {
    "slideshow": {
     "slide_type": "skip"
    }
   },
   "source": [
    "*Let us assume that there is some periodic force applied to the masses, and recall that $m_A = m_B = m$:\n",
    "$$ m\\ddot x_A + \\frac{mg}{l}x_A + k(x_A - x_B) = F_A\\cos(\\omega t),$$\n",
    "$$ m\\ddot x_B + \\frac{mg}{l}x_B -k(x_A - x_B) = F_B\\cos(\\omega t),$$\n",
    "which in matrix form can be written\n",
    "$$ \\ddot{\\vec X} + M^{-1}K \\vec X = \\vec \\Psi\\cos(\\omega t),\\hspace{5cm}(10) $$\n",
    "with $\\vec \\Psi = [F_A/m, F_B/m]$.\n",
    "Note that the problem is not an eigenvalue problem anymore.*"
   ]
  },
  {
   "cell_type": "markdown",
   "metadata": {
    "slideshow": {
     "slide_type": "skip"
    }
   },
   "source": [
    "*The vectors $\\vec Y_1$ and $\\vec Y_2$, which were eigenvectors of the free problem, form an orthogonal basis for any 2D vector.\n",
    "Let me repeat this: $\\vec Y_1$ and $\\vec Y_2$ lose their special status as eigenvectors, but they still form an orthogonal basis on which any vector can be decomposed.\n",
    "Meaning that we can write\n",
    "$$\\vec X = q_1\\vec Y_1 + q_2 \\vec Y_2.$$*"
   ]
  },
  {
   "cell_type": "markdown",
   "metadata": {
    "slideshow": {
     "slide_type": "skip"
    }
   },
   "source": [
    "*Let me reiterate that the projections of $\\vec X$ on $\\vec Y_1$ and $\\vec Y_2$, i.e., $q_1$  and $q_2$, are not eigenmodes of the forced problem. \"Eigenmodes of the forced problem\" makes as much sense as \"free oscillations of the forced oscillator\" in the case of just one oscillator, i.e., no sense at all.*"
   ]
  },
  {
   "cell_type": "markdown",
   "metadata": {
    "slideshow": {
     "slide_type": "skip"
    }
   },
   "source": [
    "*The forcing can also the projected onto $\\vec Y_1$ and $\\vec Y_2$:\n",
    "$$\\vec\\Psi = \\Psi_1 \\vec Y_1 + \\Psi_2 \\vec Y_2,$$\n",
    "with $\\Psi_1 = (F_A + F_B)/(\\sqrt{2}m)$ and $\\Psi_2 = (F_A - F_B)/(\\sqrt{2}m)$.*"
   ]
  },
  {
   "cell_type": "markdown",
   "metadata": {
    "slideshow": {
     "slide_type": "skip"
    }
   },
   "source": [
    "*However, the crucial point here is that $M^{-1}K \\vec Y_{1, 2} = \\omega^2_{1,2}\\vec Y_{1, 2}$ is still true, by construction of $\\vec Y_{1,2}$.\n",
    "Collecting all of these comments, equation $(10)$ can therefore be re-written*\n",
    "$$ \\ddot q_1{\\vec Y}_1 + \\ddot q_2 {\\vec Y}_2  + \\omega_1^2 q_1 \\vec Y_1 + \\omega_2^2 q_2 \\vec Y_2 = (\\Psi_1 \\vec Y_1 + \\Psi_2 \\vec Y_2)\\cos(\\omega t).$$"
   ]
  },
  {
   "cell_type": "markdown",
   "metadata": {
    "slideshow": {
     "slide_type": "skip"
    }
   },
   "source": [
    "*Projecting the equation above on $\\vec Y_1$ and $\\vec Y_2$ yields, respectively,*\n",
    "$$\\ddot q_1 + \\omega_1^2 q_1 = \\Psi_1\\cos(\\omega t).$$\n",
    "$$\\ddot q_2 + \\omega_1^2 q_2 = \\Psi_2\\cos(\\omega t).$$"
   ]
  },
  {
   "cell_type": "markdown",
   "metadata": {
    "slideshow": {
     "slide_type": "skip"
    }
   },
   "source": [
    "*Therefore, individual modes can resonate, just like a simple oscillator can resonate.\n",
    "This time however, the complexity of the possible cases increases.\n",
    "For one mode to resonate, two conditions need to be satisfied.\n",
    "For example, for the first mode to resonate, we need $\\omega = \\omega_1$, just like in the simple oscillator case, but we also need $\\Psi_1 \\neq 0$.*"
   ]
  },
  {
   "cell_type": "markdown",
   "metadata": {
    "slideshow": {
     "slide_type": "skip"
    }
   },
   "source": [
    "*In our coupled pendulums, the first mode (the antisymmetric one) does not grow if the forcing is symmetric, i.e., if $F_A = -F_B$, in which case $\\Psi_1 = 0$.\n",
    "In order to induce a resonance phenomenon, the frequency of the forcing has to match the corresponding frequency, and the forcing pattern needs to match the polarization of the mode, i.e., the \"shape of the mode\" (i.e. whether it is symmetric or antisymmetric, or whatever the pattern actually looks like), somewhat.\n",
    "\"Somewhat\" means that the projection of the force on the eigenvector has to be non-zero.\n",
    "For example, if only one mass feels a force, say, $F_A \\neq 0$ and $F_B = 0$, the pattern is not exactly matched, but $\\Psi_1 = F_A/\\sqrt{2}m + 0/\\sqrt{2} = F_A/\\sqrt2m \\neq 0$, which is enough to trigger a resonance.*"
   ]
  },
  {
   "cell_type": "markdown",
   "metadata": {
    "slideshow": {
     "slide_type": "skip"
    }
   },
   "source": [
    "*All of this is true for any coupled system of oscillators, and for however many degrees of freedom there are. It is also true for non-symmetric matrices, but the mathematics are more complicated to describe in the short amount of time I have.*"
   ]
  },
  {
   "cell_type": "markdown",
   "metadata": {
    "slideshow": {
     "slide_type": "skip"
    }
   },
   "source": [
    "*Of course, everything you have learned about damped harmonic oscillator resonance also applies to the modes.\n",
    "For example, if there is damping, the resonance curve will have a certain width:\n",
    "there can be amplification for frequencies that do not exactly match the eigenfrequencies of the free system.\n",
    "Each mode will have its own damping rate, and its own quality factor.*"
   ]
  },
  {
   "cell_type": "markdown",
   "metadata": {
    "slideshow": {
     "slide_type": "skip"
    }
   },
   "source": [
    "*For example, an atom in elemental form or a molecule can be thought of as a coupled system of oscillators.\n",
    "Atoms can move around, and energy levels of electrons can change, adding all sorts of degrees of freedom.\n",
    "This is how the atmospheric composition of the Sun can be determined from an absorption spectrum (cf. chapter 3).*"
   ]
  },
  {
   "cell_type": "markdown",
   "metadata": {
    "slideshow": {
     "slide_type": "skip"
    }
   },
   "source": [
    "*The reverse is true: every molecule has a specific emission spectrum, consisting of the emission of light at the resonance frequencies of the molecules.\n",
    "One just needs to excite the atom or molecule broadly, for example by heating it, and measure which frequencies are emitted by the atom or molecule.\n",
    "The more degrees of freedom there are, the more frequencies are emitted (cf. emission spectra of hydrogen vs. iron from Wikipedia, reproduced here).*"
   ]
  },
  {
   "cell_type": "markdown",
   "metadata": {
    "slideshow": {
     "slide_type": "slide"
    }
   },
   "source": [
    "![Fig. 14: Visible lines of the emission spectrumm of hydrogen, by Merikanto, Adrignola [CC0], via Wikimedia Commons](800px-Emission_spectrum-H.png)"
   ]
  },
  {
   "cell_type": "markdown",
   "metadata": {},
   "source": [
    "![Fig. 15: Visible lines of the emission spectrumm of iron, by User:nilda (Own work) [Public domain], via Wikimedia Commons](Emission_spectrum-Fe.png)"
   ]
  },
  {
   "cell_type": "markdown",
   "metadata": {
    "slideshow": {
     "slide_type": "skip"
    }
   },
   "source": [
    "***\n",
    "\n",
    "*End of skipped part, resuming the covered part.*"
   ]
  },
  {
   "cell_type": "markdown",
   "metadata": {
    "slideshow": {
     "slide_type": "slide"
    }
   },
   "source": [
    "# $n$ Coupled Oscillators"
   ]
  },
  {
   "cell_type": "markdown",
   "metadata": {
    "slideshow": {
     "slide_type": "skip"
    }
   },
   "source": [
    "While I have illustrated this entire chapter with two oscillators, all the qualitative results apply to any number of oscillators.\n",
    "Right after this chapter, we will study waves, which can be thought of as a superposition of a finite or infinite number of modes, which arise from the fact that waves propagate on a continuous medium made of an infinite number of coupled oscillators."
   ]
  },
  {
   "cell_type": "markdown",
   "metadata": {
    "slideshow": {
     "slide_type": "skip"
    }
   },
   "source": [
    "I actually hesitated between making this section the last section on coupled oscillators, or the first section on waves. \n",
    "Ultimately, it does not matter, as long as the transition is clearly understood."
   ]
  },
  {
   "cell_type": "markdown",
   "metadata": {
    "slideshow": {
     "slide_type": "skip"
    }
   },
   "source": [
    "I will illustrate this point with identical masses, coupled by identical springs (cf. King fig. 4.11, reproduced earlier), because it is simpler than the coupled pendula, but complex enough to illustrate the principle.\n",
    "With two masses, we had\n",
    "$$ m \\ddot x_A = -k x_A + k(x_B - x_A), $$\n",
    "$$ m \\ddot x_B = -k (x_B - x_A) - kx_B. $$"
   ]
  },
  {
   "cell_type": "markdown",
   "metadata": {
    "slideshow": {
     "slide_type": "skip"
    }
   },
   "source": [
    "With three masses $A$, $B$ and $C$, we would have\n",
    "$$ m \\ddot x_A = -k x_A + k(x_B - x_A), $$\n",
    "$$ m \\ddot x_B = -k (x_B - x_A) + k(x_C-x_B), $$\n",
    "$$ m \\ddot x_C = -k (x_C - x_B) - kx_C. $$"
   ]
  },
  {
   "cell_type": "markdown",
   "metadata": {
    "slideshow": {
     "slide_type": "skip"
    }
   },
   "source": [
    "And with $N$ masses, we would have (I now index the masses with numbers instead of letters)\n",
    "$$ m \\ddot x_1 = -k x_1 + k(x_2 - x_1) = - 2 k x_1 + k x_2, $$\n",
    "$$ m \\ddot x_n = -k (x_{n} - x_{n-1}) + k(x_{n+1} - x_{n}) = k(x_{n+1} -2x_n + x_{n-1})\\quad\\forall n\\neq 1, N, $$\n",
    "$$ m \\ddot x_N = -k (x_N - x_{N-1}) - kx_N = -2k x_N + k x_{N-1}. $$"
   ]
  },
  {
   "cell_type": "markdown",
   "metadata": {
    "slideshow": {
     "slide_type": "slide"
    }
   },
   "source": [
    "After division by $m$, we can turn this system into an $N \\times N$ eigenvalue problem\n",
    "$$ (M^{-1}K - \\omega^2 \\textsf I_N) \\vec X = 0, $$\n",
    "with\n",
    "$$ M^{-1}K = \\omega_s^2\\begin{bmatrix}\n",
    "                 2      & -1     & 0      & \\dots  &        &        & 0 \\\\\n",
    "                 -1     & 2      & -1     & 0      & \\dots  &        & 0 \\\\\n",
    "                 0      & \\ddots & \\ddots & \\ddots &        &        & \\\\\n",
    "                 \\vdots & 0      & -1     & 2      & -1     & 0      & \\\\\n",
    "                        &        &        & \\ddots & \\ddots & \\ddots & \\\\\n",
    "                 \\\\\n",
    "                 0      & \\dots  &        &        & 0      & -1     & 2\n",
    "             \\end{bmatrix}.\n",
    "$$"
   ]
  },
  {
   "cell_type": "markdown",
   "metadata": {
    "slideshow": {
     "slide_type": "skip"
    }
   },
   "source": [
    "This matrix is actually simple enough that we could find the eigenvalues analytically.\n",
    "My intention, however, is to show you that from a numerical point of view, a $3\\times 3$ matrix and a $N\\times N$ matrix are as hard to solve as each other as long as one understands how to use the methods of linear algebra.\n",
    "Instead of `SymPy`, Python's main symbolic math package, I will use `NumPy`, Python's main scientific computing package.\n",
    "Unlike `SymPy`, `NumPy` only understands numbers, not symbols."
   ]
  },
  {
   "cell_type": "code",
   "execution_count": 83,
   "metadata": {
    "slideshow": {
     "slide_type": "subslide"
    }
   },
   "outputs": [],
   "source": [
    "# We already imported NumPy, but it is useful to import\n",
    "# NumPy's linear algebra functions separately.\n",
    "import numpy.linalg as LA\n",
    "# the following two packages allow me to display the animation\n",
    "from matplotlib import animation\n",
    "from IPython.display import HTML\n",
    "# More about animations: \n",
    "# https://stackoverflow.com/questions/43445103/inline-animations-in-jupyter"
   ]
  },
  {
   "cell_type": "code",
   "execution_count": 84,
   "metadata": {
    "slideshow": {
     "slide_type": "subslide"
    }
   },
   "outputs": [],
   "source": [
    "N = 12  # number of oscillators"
   ]
  },
  {
   "cell_type": "code",
   "execution_count": 85,
   "metadata": {
    "slideshow": {
     "slide_type": "fragment"
    }
   },
   "outputs": [
    {
     "name": "stdout",
     "output_type": "stream",
     "text": [
      "[[ 2. -1.  0.  0.  0.  0.  0.  0.  0.  0.  0.  0.]\n",
      " [-1.  2. -1.  0.  0.  0.  0.  0.  0.  0.  0.  0.]\n",
      " [ 0. -1.  2. -1.  0.  0.  0.  0.  0.  0.  0.  0.]\n",
      " [ 0.  0. -1.  2. -1.  0.  0.  0.  0.  0.  0.  0.]\n",
      " [ 0.  0.  0. -1.  2. -1.  0.  0.  0.  0.  0.  0.]\n",
      " [ 0.  0.  0.  0. -1.  2. -1.  0.  0.  0.  0.  0.]\n",
      " [ 0.  0.  0.  0.  0. -1.  2. -1.  0.  0.  0.  0.]\n",
      " [ 0.  0.  0.  0.  0.  0. -1.  2. -1.  0.  0.  0.]\n",
      " [ 0.  0.  0.  0.  0.  0.  0. -1.  2. -1.  0.  0.]\n",
      " [ 0.  0.  0.  0.  0.  0.  0.  0. -1.  2. -1.  0.]\n",
      " [ 0.  0.  0.  0.  0.  0.  0.  0.  0. -1.  2. -1.]\n",
      " [ 0.  0.  0.  0.  0.  0.  0.  0.  0.  0. -1.  2.]]\n"
     ]
    }
   ],
   "source": [
    "iMK = np.zeros((N, N))  # creates a NxN square matrix filled with zeros\n",
    "# for simplicity, we set omega_s = 1 rad/s\n",
    "# I will fill the matrix in a somewhat clumsy way, for pedagogical reasons\n",
    "# However, there are functions to create tridiagonal matrices automatically\n",
    "iMK[0, 0] = 2.  # top left-hand corner\n",
    "iMK[0 , 1] = -1  # top line, one to the right\n",
    "iMK[-1, -1] = 2  # bottom right-hand corner\n",
    "iMK[-1, -2] = -1  # bottom line, one to the left\n",
    "if N > 2:\n",
    "    for n in range(1, N-1):  # this loop makes filling the matrix automatic\n",
    "        # we loop from the second to the penultimate line, which are all the same\n",
    "        iMK[n, n] = 2  # diagonal terms\n",
    "        iMK[n, n-1] = -1  # lower diagonal\n",
    "        iMK[n, n+1] = -1  # upper diagonal\n",
    "\n",
    "print(iMK)  "
   ]
  },
  {
   "cell_type": "code",
   "execution_count": 86,
   "metadata": {
    "slideshow": {
     "slide_type": "subslide"
    }
   },
   "outputs": [],
   "source": [
    "eigvals, eigvecs = LA.eig(iMK)"
   ]
  },
  {
   "cell_type": "code",
   "execution_count": 87,
   "metadata": {},
   "outputs": [
    {
     "name": "stdout",
     "output_type": "stream",
     "text": [
      "[3.94188363 3.77091205 3.4970215  3.13612949 2.70920977 2.24107336\n",
      " 1.75892664 0.05811637 0.22908795 0.5029785  1.29079023 0.86387051]\n"
     ]
    }
   ],
   "source": [
    "print(eigvals)"
   ]
  },
  {
   "cell_type": "code",
   "execution_count": 88,
   "metadata": {},
   "outputs": [
    {
     "name": "stdout",
     "output_type": "stream",
     "text": [
      "[1.98541775 1.94188363 1.87003249 1.77091205 1.64596773 1.4970215\n",
      " 1.32624532 0.24107336 0.47863133 0.70920977 1.13612949 0.92944634]\n"
     ]
    }
   ],
   "source": [
    "eigfreqs = np.sqrt(eigvals)\n",
    "print(eigfreqs)"
   ]
  },
  {
   "cell_type": "code",
   "execution_count": 89,
   "metadata": {},
   "outputs": [
    {
     "name": "stdout",
     "output_type": "stream",
     "text": [
      "[[-0.09386733 -0.18227942 -0.26009811  0.32280083  0.36674354 -0.38937246\n",
      "   0.38937246 -0.09386733  0.18227942 -0.26009811  0.36674354 -0.32280083]\n",
      " [ 0.18227942  0.32280083  0.38937246 -0.36674354 -0.26009811  0.09386733\n",
      "   0.09386733 -0.18227942  0.32280083 -0.38937246  0.26009811 -0.36674354]\n",
      " [-0.26009811 -0.38937246 -0.32280083  0.09386733 -0.18227942  0.36674354\n",
      "  -0.36674354 -0.26009811  0.38937246 -0.32280083 -0.18227942 -0.09386733]\n",
      " [ 0.32280083  0.36674354  0.09386733  0.26009811  0.38937246 -0.18227942\n",
      "  -0.18227942 -0.32280083  0.36674354 -0.09386733 -0.38937246  0.26009811]\n",
      " [-0.36674354 -0.26009811  0.18227942 -0.38937246 -0.09386733 -0.32280083\n",
      "   0.32280083 -0.36674354  0.26009811  0.18227942 -0.09386733  0.38937246]\n",
      " [ 0.38937246  0.09386733 -0.36674354  0.18227942 -0.32280083  0.26009811\n",
      "   0.26009811 -0.38937246  0.09386733  0.36674354  0.32280083  0.18227942]\n",
      " [-0.38937246  0.09386733  0.36674354  0.18227942  0.32280083  0.26009811\n",
      "  -0.26009811 -0.38937246 -0.09386733  0.36674354  0.32280083 -0.18227942]\n",
      " [ 0.36674354 -0.26009811 -0.18227942 -0.38937246  0.09386733 -0.32280083\n",
      "  -0.32280083 -0.36674354 -0.26009811  0.18227942 -0.09386733 -0.38937246]\n",
      " [-0.32280083  0.36674354 -0.09386733  0.26009811 -0.38937246 -0.18227942\n",
      "   0.18227942 -0.32280083 -0.36674354 -0.09386733 -0.38937246 -0.26009811]\n",
      " [ 0.26009811 -0.38937246  0.32280083  0.09386733  0.18227942  0.36674354\n",
      "   0.36674354 -0.26009811 -0.38937246 -0.32280083 -0.18227942  0.09386733]\n",
      " [-0.18227942  0.32280083 -0.38937246 -0.36674354  0.26009811  0.09386733\n",
      "  -0.09386733 -0.18227942 -0.32280083 -0.38937246  0.26009811  0.36674354]\n",
      " [ 0.09386733 -0.18227942  0.26009811  0.32280083 -0.36674354 -0.38937246\n",
      "  -0.38937246 -0.09386733 -0.18227942 -0.26009811  0.36674354  0.32280083]]\n"
     ]
    }
   ],
   "source": [
    "print(eigvecs)"
   ]
  },
  {
   "cell_type": "markdown",
   "metadata": {
    "slideshow": {
     "slide_type": "notes"
    }
   },
   "source": [
    "The `numpy.linalg.eig` function returns an output, that is different from the output of the SymPy `eigenvects` method we used earlier:\n",
    "\n",
    "1. the first array lists all eigenvalues (repeated eigenvalues are simply written multiple times).\n",
    "2. the second array provides the corresponding displacement amplitudes of each mass (the so-called polarization relations of each mode). The way it is displayed above, each column (`eigvecs[:, i]`) corresponds to the coefficients of the series of masses for one mode (e.g., all $a_n$ or $b_n$ for mode $n$), while each line (`eigvecs[i, :]`) corresponds to the coefficients of the series of modes for one mass (e.g., all $a_n$, $1 \\leq n \\leq N$, when there are $N$ modes)."
   ]
  },
  {
   "cell_type": "markdown",
   "metadata": {
    "slideshow": {
     "slide_type": "subslide"
    }
   },
   "source": [
    "It is still a bit obscure at this point, and plotting the results will help.\n",
    "But before that, I want to sort the eigenfrequencies from lowest to highest, because ```numpy.linalg.eig``` does not necessarily do it."
   ]
  },
  {
   "cell_type": "code",
   "execution_count": 90,
   "metadata": {},
   "outputs": [
    {
     "name": "stdout",
     "output_type": "stream",
     "text": [
      "[ 7  8  9 11 10  6  5  4  3  2  1  0]\n"
     ]
    }
   ],
   "source": [
    "# this function returns the sequence that would sort the eigenfrequencies\n",
    "seq = np.argsort(eigfreqs)\n",
    "print(seq)"
   ]
  },
  {
   "cell_type": "code",
   "execution_count": 91,
   "metadata": {},
   "outputs": [
    {
     "name": "stdout",
     "output_type": "stream",
     "text": [
      "[0.24107336 0.47863133 0.70920977 0.92944634 1.13612949 1.32624532\n",
      " 1.4970215  1.64596773 1.77091205 1.87003249 1.94188363 1.98541775]\n"
     ]
    }
   ],
   "source": [
    "# here are the sorted eigenfrequencies:\n",
    "print(eigfreqs[seq])"
   ]
  },
  {
   "cell_type": "code",
   "execution_count": 92,
   "metadata": {
    "slideshow": {
     "slide_type": "subslide"
    }
   },
   "outputs": [
    {
     "name": "stdout",
     "output_type": "stream",
     "text": [
      "[-0.09386733 -0.18227942 -0.26009811 -0.32280083 -0.36674354 -0.38937246\n",
      " -0.38937246 -0.36674354 -0.32280083 -0.26009811 -0.18227942 -0.09386733]\n",
      "[ 0.18227942  0.32280083  0.38937246  0.36674354  0.26009811  0.09386733\n",
      " -0.09386733 -0.26009811 -0.36674354 -0.38937246 -0.32280083 -0.18227942]\n",
      "[-0.26009811 -0.38937246 -0.32280083 -0.09386733  0.18227942  0.36674354\n",
      "  0.36674354  0.18227942 -0.09386733 -0.32280083 -0.38937246 -0.26009811]\n",
      "[-0.32280083 -0.36674354 -0.09386733  0.26009811  0.38937246  0.18227942\n",
      " -0.18227942 -0.38937246 -0.26009811  0.09386733  0.36674354  0.32280083]\n",
      "[ 0.36674354  0.26009811 -0.18227942 -0.38937246 -0.09386733  0.32280083\n",
      "  0.32280083 -0.09386733 -0.38937246 -0.18227942  0.26009811  0.36674354]\n",
      "[ 0.38937246  0.09386733 -0.36674354 -0.18227942  0.32280083  0.26009811\n",
      " -0.26009811 -0.32280083  0.18227942  0.36674354 -0.09386733 -0.38937246]\n",
      "[-0.38937246  0.09386733  0.36674354 -0.18227942 -0.32280083  0.26009811\n",
      "  0.26009811 -0.32280083 -0.18227942  0.36674354  0.09386733 -0.38937246]\n",
      "[ 0.36674354 -0.26009811 -0.18227942  0.38937246 -0.09386733 -0.32280083\n",
      "  0.32280083  0.09386733 -0.38937246  0.18227942  0.26009811 -0.36674354]\n",
      "[ 0.32280083 -0.36674354  0.09386733  0.26009811 -0.38937246  0.18227942\n",
      "  0.18227942 -0.38937246  0.26009811  0.09386733 -0.36674354  0.32280083]\n",
      "[-0.26009811  0.38937246 -0.32280083  0.09386733  0.18227942 -0.36674354\n",
      "  0.36674354 -0.18227942 -0.09386733  0.32280083 -0.38937246  0.26009811]\n",
      "[-0.18227942  0.32280083 -0.38937246  0.36674354 -0.26009811  0.09386733\n",
      "  0.09386733 -0.26009811  0.36674354 -0.38937246  0.32280083 -0.18227942]\n",
      "[-0.09386733  0.18227942 -0.26009811  0.32280083 -0.36674354  0.38937246\n",
      " -0.38937246  0.36674354 -0.32280083  0.26009811 -0.18227942  0.09386733]\n"
     ]
    }
   ],
   "source": [
    "# and the corresponding mass position amplitudes are\n",
    "for ii in range(N):\n",
    "    print(eigvecs[:, seq[ii]])"
   ]
  },
  {
   "cell_type": "code",
   "execution_count": 93,
   "metadata": {
    "slideshow": {
     "slide_type": "subslide"
    }
   },
   "outputs": [],
   "source": [
    "# Various quantities\n",
    "t_end = 2.*np.pi/eigfreqs.min() # time array spans one longest eigenperiod\n",
    "n_frames = 100  # number of frames for animation\n",
    "time = np.linspace(0., t_end, n_frames)  # time array\n",
    "max_amp = abs(eigvecs.max())  # maximum displacement of any mass in any eigenmode\n",
    "L_inter = 3*max_amp  # distance between the masses; this makes sure that it is enough\n",
    "L_tot = L_inter*float(N+1)  # total length between the two walls;\n",
    "rest_positions = np.arange(L_inter, (N+0.5)*L_inter, L_inter)  # positions at rest"
   ]
  },
  {
   "cell_type": "code",
   "execution_count": 94,
   "metadata": {},
   "outputs": [],
   "source": [
    "# prepping the coordinates on the plot: for each time step, we will plot the positions\n",
    "# on the x axis and the mode number on the y axis\n",
    "x_positions = np.zeros((N, N))  # N positions for N modes\n",
    "y_modes = np.zeros((N, N))  # N positions for N modes\n",
    "for mode_number in range(1, N+1):\n",
    "    y_modes[mode_number-1, :] = mode_number"
   ]
  },
  {
   "cell_type": "code",
   "execution_count": 95,
   "metadata": {
    "slideshow": {
     "slide_type": "subslide"
    }
   },
   "outputs": [],
   "source": [
    "imagelist = []  # list of frames to eventually animate\n",
    "\n",
    "fig = plt.figure()\n",
    "ax = plt.gca()\n",
    "ax.set_xlim([0., L_tot])\n",
    "ax.set_ylim([0., N+1])\n",
    "ax.set_xticks(rest_positions)\n",
    "ax.set_xlabel('positions')\n",
    "ax.set_yticks(range(1, N+1))\n",
    "ax.set_ylabel('mode number')\n",
    "ax.grid()\n",
    "for t in time:\n",
    "    # We loop over time to animate the masses\n",
    "    for mode_number in range(1, N+1):\n",
    "        ii = seq[mode_number-1]  # this will select the correct mode in the list\n",
    "        x_positions[mode_number-1, :] = (rest_positions\n",
    "                                         + eigvecs[:, ii]*np.cos(eigfreqs[ii]*t))\n",
    "    im = plt.scatter(x_positions, y_modes, c=y_modes, cmap='copper')\n",
    "    imagelist.append([im])\n",
    "    \n",
    "ani = animation.ArtistAnimation(fig, imagelist, interval=50, blit=True, repeat_delay=1000)\n",
    "plt.close()"
   ]
  },
  {
   "cell_type": "code",
   "execution_count": 96,
   "metadata": {
    "scrolled": true,
    "slideshow": {
     "slide_type": "subslide"
    }
   },
   "outputs": [
    {
     "data": {
      "text/html": [
       "<video width=\"432\" height=\"288\" controls autoplay loop>\n",
       "  <source type=\"video/mp4\" src=\"data:video/mp4;base64,AAAAHGZ0eXBNNFYgAAACAGlzb21pc28yYXZjMQAAAAhmcmVlAAL8om1kYXQAAAKuBgX//6rcRem9\n",
       "5tlIt5Ys2CDZI+7veDI2NCAtIGNvcmUgMTUyIHIyODU0IGU5YTU5MDMgLSBILjI2NC9NUEVHLTQg\n",
       "QVZDIGNvZGVjIC0gQ29weWxlZnQgMjAwMy0yMDE3IC0gaHR0cDovL3d3dy52aWRlb2xhbi5vcmcv\n",
       "eDI2NC5odG1sIC0gb3B0aW9uczogY2FiYWM9MSByZWY9MyBkZWJsb2NrPTE6MDowIGFuYWx5c2U9\n",
       "MHgzOjB4MTEzIG1lPWhleCBzdWJtZT03IHBzeT0xIHBzeV9yZD0xLjAwOjAuMDAgbWl4ZWRfcmVm\n",
       "PTEgbWVfcmFuZ2U9MTYgY2hyb21hX21lPTEgdHJlbGxpcz0xIDh4OGRjdD0xIGNxbT0wIGRlYWR6\n",
       "b25lPTIxLDExIGZhc3RfcHNraXA9MSBjaHJvbWFfcXBfb2Zmc2V0PS0yIHRocmVhZHM9OSBsb29r\n",
       "YWhlYWRfdGhyZWFkcz0xIHNsaWNlZF90aHJlYWRzPTAgbnI9MCBkZWNpbWF0ZT0xIGludGVybGFj\n",
       "ZWQ9MCBibHVyYXlfY29tcGF0PTAgY29uc3RyYWluZWRfaW50cmE9MCBiZnJhbWVzPTMgYl9weXJh\n",
       "bWlkPTIgYl9hZGFwdD0xIGJfYmlhcz0wIGRpcmVjdD0xIHdlaWdodGI9MSBvcGVuX2dvcD0wIHdl\n",
       "aWdodHA9MiBrZXlpbnQ9MjUwIGtleWludF9taW49MjAgc2NlbmVjdXQ9NDAgaW50cmFfcmVmcmVz\n",
       "aD0wIHJjX2xvb2thaGVhZD00MCByYz1jcmYgbWJ0cmVlPTEgY3JmPTIzLjAgcWNvbXA9MC42MCBx\n",
       "cG1pbj0wIHFwbWF4PTY5IHFwc3RlcD00IGlwX3JhdGlvPTEuNDAgYXE9MToxLjAwAIAAADU8ZYiE\n",
       "ADv//vdOvwKbRZdqA5JXCvbKpCZZuVJrAfKmAAADAAARsG58lw15q9IkAACxXj5wpJ7gA8wm5VgA\n",
       "BgkmXitj5Zdn9C3O13Go5/+kyoXlgl5efSpEPVsWtvh+K362SBlLWreXH5lF0FyhmHKiBTWgJlVm\n",
       "rXvEzkHmsRsajsLwhZQFfU6fwOTqtTdX06cRKdqyAX3JVyvJRSOxqUmByEKt8EaTMr/9WAK2oHBT\n",
       "qYpLcdiIWs29A6AgIvadqVG7Lz0pENCaA7jYY2yTCxcsXFvVgnNHX2O/CAZ2DWKTp+VJeyZpcqjd\n",
       "Jqt9DgGBm79Q+NKuvHWlYZnA1u8/QrHulh/pFHVo8bc+u3qKR5M48l/xkhNtDOqJLuuX5K5T+8fz\n",
       "fhC0LLQgbP2/Jb1vs9p4Tt0QEaegcDrnSyPGhBkVoxoMg3i3FeXbZoEwPtAnD56jz0Qb4EiysV8g\n",
       "GpO3eo8QdRsMK/BQn0gkhdBm6tq3QeiMsk7Eaek7jBecu867cyW3JSqo9tKWGsuvXzYkUPWkfkwI\n",
       "iK+sbpPFLh567nxcyVm1mBgn/zbCPFnMpVyZWe9Y9NNS3kZ/s57fze2+T2T78b4rE1js7mlYoggb\n",
       "1uJ02LkfT4yJ8/EyWDs4RkxjHVGgtymk4qqo9H2sR1m59XdGRJ/4AmMwwDusfxAKXPO6+6iUJ4qH\n",
       "X10si4M9T56e8bM0sloeWEoLFYiJ6gS0UMGg0mQXpkBZX1kJWVFwUUp2kFIbspIsdDjKELQqZD+0\n",
       "4w4NYR3HBLphvLEhgto8U/oC9InDL2Ous5dIct++qrsjaL10vkpf1kw3bskT7cQPoJCtjCqhGQMa\n",
       "BiirHmP8ZBsjTC7KGvfc8SIqIU/CvpCSDw8x0VtAItMDTtvI0ggP3pMUmGpbV5ZcredK7YGw+I5g\n",
       "irLgkvzO01pHzfoQF/f4G6XaQHnNSk6NfxpzhZkUJaqYzKqduedH3VT6hOIumoYP1SUwDY3wZZ8E\n",
       "vspkNb4hS+Mi8ZZ5LdTyCFzvhsTe7bjyKxr5q33XdVw4PTKWMhf7EXJfY9xJM9xgtGMR+0sI4YnR\n",
       "JUgF1h7ZwYygyfuNj2/ZJZs9+vzlo0XekySotdoAPJ32RrO30Zs71rNyV33JJkbemCm0MlaxA4eH\n",
       "TToNMadWo0ELApOK43lRueE8OdeC0p16ELgTg7lOR9g6vZ61u72Wnn4/a0KB9+mCiSvNepDeJpzE\n",
       "LYcnJyGslmZBqm8IMM1tSJOTNuNz07ZUTm1I5C11oSwwUhIj9MvODjlowaB74AtEmGZ4d5NBXRcZ\n",
       "f4JNOuxqPyrRcCC6xdZsz4UoBlIz9bWSQCLsctNA7qPHeCI+xyzKrrV5Sn2iE4n6HqoR7j9EACzn\n",
       "gL1aUgui5YwmjHy60+qudsp62b6g+T8hrj/7DiA+FBpzvBFcEIlqOlSR+KZhL2Jh4WIxeGcHHVxN\n",
       "bmYH/AoIy3jzO3u+5YhR/XeOcEf1vd/E+8iOmaoRPCzkN0qcvEd17YYq9zfmVnNWv4CKgPJe4yZf\n",
       "OqG8TMSDTyNC6bu25gywBrft1Wzm9UDTpFeHIvvxlewUhtLZe3nTprwZJoB92oriP4YabnrDBSP9\n",
       "lpWugEa3qpqC+aYS/XWazeJ6oxjf/LW68TmUBYa1sqF8pdeoQQgDmnuixH3MZ9i79p0wMd79iOvZ\n",
       "a6MgNF3wNXrAc4GNA7J/9B8Y64b/8cJD6nt1ysNAKq8vhkydY/YtSsAZjzLWm7VU+85yCjOka7lF\n",
       "ZN0bLcWuLl+QRcAE5yJj1B4E9zV5r2+vWbaKHZ7rZ/8NafyV+UFrglcf3wKqWJPc4sH8UiuCMmhw\n",
       "hARJCQ71oqKsF6rpY8YSgvuLPhVdrZDbW8MsWLf9LzAOKvUVKs2Q3GkJeI2x0154zbe80URaTnwW\n",
       "R+AxWgsPMVByyGrvPcJAzFtUfV3qgy3DSJVGzVT1fT+oplJDbR7z2lTPiCey+S5mD5oKmrhUTvfE\n",
       "jYVkNpiZWcBBLK/hdd5kRYcnf4HiDUKPLSE7ViUzNioeSVGbiQoSmSwiUWGNjatXyFmEYXiGleQs\n",
       "dmQLv0VO4Le/FUMgecSNf2UxpOYwRsUNlOGQGluaUucXDBcpNgcquozU52rGbkNsz9EkKgHTpRvc\n",
       "LvqsFEx75VftX+ayqjoTvYIoufHpNbbUoeFXfTBo1oohvmFc07Bzh9k79aXnKQwX24rfbdNc4aM+\n",
       "CP3o/CiBU+ZswcN5j2pgS44byZSttJmv+ch1lIzqHvUT8gQA8pVBx+H4Ftbgi0rOZ7KQt594cCEh\n",
       "nEBUG2rwluow8kPrwNsKKeSxXorDTZd5lhSGZ4Vz6BX6SHeESxunkdWXgJPjg2mUxZjy3pFSHbbp\n",
       "GxaHpt+jzRRQmftrkesZSQupYpqyV0sA4pxcne1SmRJvkn6OQk6uiTdY3co2IHP1Lro2oqzWmE+H\n",
       "qYRmK4zGbKt3EzAIEYLvw8Gozp2xQ9ONTt0dJ7DcfobAjKO27OuAN7ub1vKHPOoGZSNnLjxRkWSy\n",
       "tx320xh4QK2G/HuSTGwMe1zZQF+kDULZeFsgp5fMfphEWjfoYttUZ0Z0JOTRIDlQRopr8xz0RTxQ\n",
       "BfuG45AE9WCAQ4Jks8PCysI1K89mnvLp87W2fOrDYz2sEym170CQXqbCmKHUpLFABlPRL62zQxow\n",
       "KLrmtcT4dhDbW5XrJLZQgwoCDsQTTPKwSs06CcqAi4G407lnAUAZiINYCMPlvx2VYdtfO4uH8LPs\n",
       "ItaMuPvz/kBBXsrbG9iUOQRzF9Log6Bz/RfjMuoY/2l21v4v7EEO4Qu5daUHJvunq7UtklSUnLHh\n",
       "csJBOtNbB8Or1BeYR2E9qCii1HOdYcYCbd6Cve10gic5/eZa/pOWT0+b53QtRCo1kqAXoqBzDuOA\n",
       "lW5MhDKZc8sWC6cmxQY3/ZTwNYjRv/QvRtSZXV4pwcwjvRSDqcDz7rd2K1B7rInlXECyOHxHUZoy\n",
       "q6WSbwnKIlC7B7UtBeIBT1DbdnjFcYwXUGyodFA9/EWLPMbDBlzr6XArrWJaG6T3F8mJXVYN3rUQ\n",
       "atVsldLdWILDPT8k14zB88xvB0Joq3jjVtjywqh3BEw594VHWu9b01K+X0rsYNs2AnB29VITagL7\n",
       "l65KcY9IU1WFqL6ei9XQFomGGMVWkc7suQr+de5iqzOnRoOc+OLxFgPaH1wP6nfoyP9CkOfUJzDz\n",
       "uMMjS3fSRKSlaUQU4Kcj/NLy9yK1qXHJiyspLYzOEcyrpxEhuDOr6NZBSJeLjJwFXn5olhL+IV6c\n",
       "F5YIxNmo05L5rslt2JbmcBTrFNJID4cUN+iMUSj9tT7052zw6uRNOrIIFGzqLXjQToY6q7sZSrTS\n",
       "Wl8TIXwTr0T5pu7cj2SYy/3lYTbt2kJ2jBIDGol1OXZ3nxi2BBz+8pTNXocSp0MDVNXGHgnHOS5P\n",
       "K8pY/dkR91KHEkdniqzQI2p4P+VtL/ySVK+FZrgTefShiqZPkSy9YJAMq3L3qINc2cL9zOQ+ofg+\n",
       "bvZy8WURlEtBLlS4MumvS0nMXHkZKEDbAMJqcoOM72Il5GlhGQOKuyO7JHOwcEiP+0abbl/vej4f\n",
       "iu+0m4g/pfAv7kwAR6SLJlQME63B/Dp1XNkiIg0jKnjWzG/GRG9QFg4J+D94HVK/sUlm0PQ7yj5Q\n",
       "B95iTqYQ78YV2BhGjTF2/vl5V2ZceKcU5n3IYkieVVW3otFvdb/2usnvVVOWqtG0AHktlkbR5jpj\n",
       "LOhqazfyCjiaXjfWNqILCyK4eX9NBOBXZkObpaiHWYL3VrtxXLY2BGsCX0E+rd9dRsQFNHL7R9E0\n",
       "RMb/hEYYFhQeTKuXf3lJxb3p4f+R6jHsOI07wrpcLcgLLe5WEofeoZESkV7JNJ/EjgvrSV7fA5G9\n",
       "BTPSct7OkjRmMT67nuX/HfMwDWg5PTckI7AYI0/oMGk3MnxFOEVX/oUbCzjNJa0e/dHSaxZRujOU\n",
       "IyQKvzbfetgaa0cictR8M0jb/YrCaZyXibmvM4zY9IdsyIBgskjjhNU0eBm+4LQy2HJIUbBbI/DX\n",
       "O8nfV9h99rmyOcRyLzxjGWwTk3chqlWXojnVguIxsFAceKT8at/p6hzocHn0sZIO3IduS3k0QEFL\n",
       "lN2JNomXJu4JUtMyYr2b0lfQ1LSFtpthZYQMxOuu9oXvMjSk5M50aZVQSRUX9XSMQ0w6EdQuGbRs\n",
       "4DLu/OAP/c7KtFA9v5YZbDJv6VE2b2fSD3Kwi0zCdVUfh3LtH1C7eFTiVaQzt+zrta3JaWHiHz4F\n",
       "xHVqtDYPn/bYJTL7bUs1vXy13btHvHOseObXB2U+ugbAN6ExVg+JbmgwtJ8QawfaCQQjdNuhsEhA\n",
       "qzHdURIloXeBnoth6zU1R+VsuTyo5xEOxpXQjpn+epJVcNLAwPMYw5qeh9XQOTXEkKXiZOVraEz/\n",
       "dT+Hh7AfyBZtVcdvFMSgl6cOezeFp8vzeff4RotHcNt+5P33HgCbz+DGH0oWK0OryDcJQjN3g7oW\n",
       "7ULzYClcNI/+ljjRw/BCs3EnZFMi6AI5WYhGKXogrtyDYzeLQLgvFon9D/Ip4swCv+JBmZovmKey\n",
       "8Sn0Fq6PXMb2cXEqTeEYxfM+K0ngtByFVJUV83pMZyq1wFDznmDWYNcHMgoSfvFmnC+xDSHuhFZJ\n",
       "l/+RmdDt8fWeDs2ud+sQdqpns0KqcRHn/G4dOn09AC45fR+TU1t+LN/oXR7d1mmuo54PI5qopc2B\n",
       "8nnCeWiUiWToN7V/fv5pVaxGHfog2zgByPeGYBwvsc+8DthMGNE7WIsOibfHdSaUtURASq0RxjkT\n",
       "lf6lXpLTAnB84PDjfojBSpKwkWj+zNq9A5SFpi3wyWOu/+pHOpHWDRlf/qbgAHoWV+Emkzeh9n1r\n",
       "lOZ9sS3dXP5zKhOrmaf78LidOLX85Q9BneoCLyHbs8cNzjcjTSWBGKUmlwwK2bEWjLnbaGqYYn7K\n",
       "Xvo3AEUuCROyoiZyqUxDGOklosncosj7Se3ZHFUrPeuSVSxHBa7P+ibYuM16kI17Lty9e9lBNFdI\n",
       "/I9X73EWjtxhGEK6K3zQFbFVyg7/xWqAXW2hODQTzVB4Ib9wUp8yC4NHgG2wHYyutov8IB6dfr5N\n",
       "Fmra/ZcabK+pJE9ucpeh7v2bhw4ofik1PCNZPxuLops8m7H9v0vuygDwBMB4lRGpfMdOU9fa6Dnt\n",
       "bm+abR6fpH+AvbJYIT46pkjHj3zgvKuy2R9tjQDBBFc7TEYCYT+eexdK02CWdKzjH41mcbvy54mV\n",
       "KS8ZHlLjcnd8H4fGOXhIK+EW7zGxinSl8lF+eiuskW6k+hR+nFHWkQ7hakIzHv/kvfwgUNNaEP3z\n",
       "oNAkprArrrUA6QVsw6NrCqlD4DTCFtEiTQ3GumO/YGIXR2Adz2gK9JGPL1LSmIvBB4bq7Wvb/h7L\n",
       "CFKdsKi9c75dsU7mDyIYDeW4QTfuqpQ0PITLqqVGZOHw/J1avMfB6Lks5Qc+/Px7Qd6/6yQZSO1k\n",
       "QIm6DhWPro934knro/KUtO7qHJXh6wwIHVAHAG3RTZABHo9NfFNqgaOAxvy4pcxEwiRrvQCnp++H\n",
       "u1w/L6RvVBDwu0dI7KP0AHo2yloKJ0nkYder9vj8OKygamCIIk+PYnj5na7ogFXIaeWxbAVxtvYJ\n",
       "WRpTeVHzpDCz/SjNzSMyTnAjvQ2bfrFobRsAuT44/wL+BwiT9pvtm0+HIDP48EVh1oXSaHRQZ/Hj\n",
       "Eh2Obp3gPC0cWBSSnQx+UNzGo1KbBlDlZAommhfjcyjvioYle4FXm7A74towB8vjCGW1Z0m0f58e\n",
       "tDnDjdBI8qYdbwyt2zYHcM2rMh2Z8V4se45E0A5MO5N6LSwgZ0aL+rzjduUtN/4NaReL9veCXcIr\n",
       "k3WV3d6+6uOKlAhraeHu2IyPTYXG8vn6PdZ1G9oCP4zhkE9pVc+lk5eUETpnpfbIzQJMCpSaVz3g\n",
       "tVaXY5ygoqdrm6hVlCPYUr0ZhnqoXZX9rJWVkyzkUKl93TrLXgpydayiEFbomFfDN2MlfkOwOYXM\n",
       "8UTFoLJJacwBIzdpAwrFB/c3oYLrlH7jI3sXH6E7bfCYCUDBnsTYTjsXFCwGQKj7T605fB46Hebv\n",
       "jqUwyT8Up7+WE7CGYYAnQGm36T9HmdlnPNT9HruUBh1Mt4z+jbp9lLz42JwhiLPmvxSo/MaJs7Qg\n",
       "q0HjOh2qbkpOkfMWBLAw1iJSnOKzrdrdhRO5rLAYCmAr7TAoCrJG6d7sGqUfS+TdXwNYdQjuIbzf\n",
       "SJPG+vNug5FxFsVWmEb/6gB/wUKpTCisvwGlJM3VIU36inqhVbfr/l2oQcV0pbGtxn1ZzYOQf/mT\n",
       "XQ2EoM/fwsKn+ZuEv9ZrhGnRkGDtLNrvA17wwE+nZybrhqQzPehPr3ORUUTurNwjmZNgtQ282Zf8\n",
       "ErOUWTfqqIZ7QiENS2wgZ69xaeIpV1tG4U5S5yzArtxTxuIylg8P8cPvix8PRwdfX0cp5SrZ3B4R\n",
       "PKnaH3nVPbpFpGE/d2uPuiMf18U2fNR0SKq8c5cznhCDOZ0bIMXR360ALSXEKWpawQfZCBxS85zt\n",
       "MctDzPU3Fl4LXZkJM5sp7cyqw5dIMSk24Q/nS6a3A5ToQmRVV3uVYo4cwWV9Arv3icspiVAwELU/\n",
       "O4V/Sa0421e9IMugLoMILgNxS15HaZtCWQzKloqByrZxkXK/NpHx0wQyG+XFlAOVr50SCpmeq39c\n",
       "tPtCHfqRsemHD//koiWusonCXmOU3YszxLRoDBb/7FlQDCSQW/W776OEJ1cocfzodLNTvTA6muWb\n",
       "GSSh++6cGOM41ag7PzHF1NjfkLYzn0JKjUZjiiDs6B5vIF2FRv6U86I7iH0Lv5hpBvt1DLumy6t1\n",
       "vC4qSqW9PwMe3XFBfPo42yoEck6B5cTtLOVpNm+WqQLMp8gQu+v+J4nCQcrv7/cn29Z3l+5vyGk6\n",
       "WnNCvZ1nzZANNH4l/iFX9+ihQybN8GhDKO8//5EtGj34pv6DFdCDBvzn2EoOw0bRjIEEnItLsOb4\n",
       "47EyWXt2IpCLT65p/1zL9KA3BA5nYzQwsimS+1SUj9RnU4xGf/TxWOTMrSVPWDsVjw3Teaah6CCa\n",
       "deRKLrr4D2nkAwBPclOQ/Yf+2Q1/ubYOmMwUAHLJse5ivhoA1TFES0ekOsfE3xza+/hBzWGZcL5Y\n",
       "U/8OW/+v0oUG0i3Ggb5r3QC3vf4PUZB13pwvDQUxGB/9qR+Dgjq6+SINloSyJU7j/eyyVJ3wr0HV\n",
       "U1HLPSG6FTK03W5LUprlA5mpeHJI90G8eNG6dzxueTi8R1zGFFN8GgM8qmjbQrkjp+7JKnl/2Igt\n",
       "GDUmgi9YO/XSfyQ/1X2lReS1zGJzfnks6+QQwaZzpTZ6Ggp4BR++V65bolCXoavynni3/VIJog5E\n",
       "ynTW2IHacCH2T+4+/ybgy76dLd6u2cF7HwFzLdcwFP/zlfS/QT1MBUWkc91AhoyCeIdw5ACIW0JW\n",
       "6OcAunRYgjKrtL81VcrYJMnXIfqfP5+n6sTQHB1At4v4H/gewj28/5vX5xIL91qhRmWR+1h+b69l\n",
       "sc6l4lzQRi5g+GMCysjuRbMKv2N5NzJkmlyLn3IDuP+438ZiC/L7cKFK7Ll5f988Sga1JwdYA91y\n",
       "d/MW+dO5tFpyv+kMrWV9UlR0gGPfrytGxknTJpevTPoc2epSyTV4LhOgUfz5LpD3nSPtfnyrx5wm\n",
       "qgEandSU7IXRJJ+OE+MMGDs+lxDRNzmcmPxbZtn5hIIJtGMBFHYYeI7zird0edQV9+GfRjs9vNd3\n",
       "nvr+0QishBQmB3PkTX8fXWL86+aFDQU129D3Wqeme6+d85FFkHQjkBKBN7TH28YR3VhYeiG5U8X5\n",
       "RdSvcvx0eDCiNdjplZt0WZe1ueVxV7VYjhf73dFQ632JojASsMEvIvHLGBRNLLrxAbeV0BvLLC7N\n",
       "o5HyoYcKU/ChnKM5Qeg0tbNquC4/x73qBSMmnplKBp/ZKQmdt+6APlvIFKTLIrgsXlK8lIQemxJV\n",
       "rtIFVlWe1+6pxouXACKUVz25Smf0PB36cY8I0v24gbrMNkQPqYds9q98yYBCwmuHM4vMMZFU2BkU\n",
       "d4T+vaNxc+oojqgmAG6IlBPh3vuJjLh7i64clf4qG8uYDeGjycW4zh47f1B7w+cb6Tjgh+AARtff\n",
       "9myyTsygtZCn0CEByYDq6xJumNdBk3ajz0agpjQE8PrEAiy12x2HHKmQvY6t6Z/6cZRhAAyARNV1\n",
       "6cUy9XJKQlG38RKq74HWpTdrJgHw89ShI2lZRVDbaKkV+hRVjBONHX0F+0sVQN+oleLDVXSx9qjS\n",
       "8W2DK6NYqCo2vhJVF2RW4Hr5Mt4i/E4QhkZcYzs5dNZrqOOvAGM2W5IYBxOJt71IBdwz0orZsV0Q\n",
       "PmEGgeXCmlcdzHpitVjloJmtU/Fe1JZRTOGVDXT+eQErxe9ailI1SnCX2H2yHj367u87PDQgLVkm\n",
       "FrwVZcr37j2pPGo14+hFmRC6yec2OzKf392k8hOlH/stiAZloBv+iz9As0imi3k9Jt9DN5cSvrFA\n",
       "Cge+wpg+q2nK9wbJ5h4GxXiNLhK5zuXv5czyVCcUfajECxuIc/xnlMqL9VpuShW44sPlxXoPsPrd\n",
       "EtlZI9npi/QsgJFPBpHELM3xS7BZn5Mnw7w+kn/BsBJ1lE3yqhzeyzIiCHX9RfIWecBGmREfrKx4\n",
       "8Dyt8TiN0k5Ju8L0bthFefe+a8cnlunpMSNiaeuhbrtp1lJnRZzdz//YVJ3eUq0qbc0bS3AmpPKn\n",
       "6NT9VtmkgpBabheWpS8ofwlFkxvvzQ78VNwutDSDLNvxL/FeaOuRC3JcdD8p999ucu/ENxfZSY5j\n",
       "vtiMLUPTyCbQiEVkpva6ngQO4uL8y9F4AJUhlnRpPGoWtszrJk3pKE4eHV/4GX/RcgViS3E7ro1a\n",
       "+74g0KhAxBh/NraGCL1OwJaxwg/vB1cguDkDV/KL6Gdba11l40GdfL2rtYYDaF2yraXCgzSYjIQw\n",
       "V6ohH4XS1wa552tn6ZKMXqXPgp5cS01ppWqf9YpYNlVsTQhujlsJp93F5IxV/DOzwGOFPh2eLVEy\n",
       "ENKJKiD6LW9ff3Q5tBiZP3zmW/4bCUyCk+pgyOM3nHnBjNW+uP11QOMLZWk3kK4jFdm46xVGpwm3\n",
       "NKM0fMEF7W8m+nFhdiBuBTMkobH1agtUWqvpMmFFZW7XhAdb9A9UpdnFfKw8JyEC+lK72iEKxE9N\n",
       "EkAk778aoKxKQXIbYpQrAL7Yb1pJT9H18UixiOdPtOpueYbgXZXcN/h24SdLHrA/x3dxE5D0dfEy\n",
       "JN3PuoVlDQeVWR8rBHNEz38DDCKllJs8WMYE2Mr0cA1KB7dt5kP0HCJEeq3tQmWdA9Z9ufNbPunH\n",
       "M6ZYVqiPSD6yQdHtNQM7jtMcD6keUIXEDJ8VxYZbsigBwI6ERWLP4aLIJrM4Qp6PJ6Ip9ofg6UcD\n",
       "ezBrP4afoWD7l1+8lVCfDDKBrA5tNCdHfObgRCDdAmCU4IghbwE4C88/CNSAIhce5/ewRXn4aYAF\n",
       "94+NpTBzQJ6mz/dqg0Fn+YPviCKLK8q2KH/HPBOHdHdt2tuf7XxXivKJBk9m2FQHlPeknU4W3I9d\n",
       "AW6RRtn/nhIaWc1ad8te8A0gJx1OHDD2LJhDqyvc0/6jkOacpeo+msk6aDpLVPIk5jYfMKVH5bkl\n",
       "LpRbOa/iBIK2sqkpv0ti8fZ1X9V2c18VGyHReXR2Cep6nhnNEhd/35t8ngXH/qvIdJ2q45ZcyF7A\n",
       "ETSDchoz5K2uMypwWJCjpz8NluuCWWYgozz6S/X0zES/1jLNLH0OeOf9WYeDp30asv6qd8nfkkOx\n",
       "vcmyPIiPTUAVW6KhkWvVCQ7/6AFawENptYHL/9y5kLqcsK5wxKw5Fv3g0gnEpZfncJKlPiIbolcy\n",
       "/5IqQSVh8b2elqut94gOvOOd5YYAVCDDv/184w/lhcKX5I85Z2t9fn8UmQpriM8onMc/ZhY3juVx\n",
       "xyXOrZwo8/V75E+mdLmyzrXdS38X9Y5AHUFCLgAjuPJYTtYalwxNU9FlaKpbkW+ETwboevdJUfdK\n",
       "UT4tXsCRNHRl1K2P4pSbXIEyUpwapzhvuOOuby3EMa3RBfgF2gh9ODFkZejz3+he/hFVjM9muvmJ\n",
       "MLly9HFJt6ZjqipMH2/i1O8OMb4d0Vs+xFtTf4nhulYKWUkSxqtzZiDgJiXKw3hH6uF7xa80z2y/\n",
       "WzyA3qbsCvMwdvzudBktZZuw2pHaql+rxOe0cQub4/7BSoFnbujt4CDePvo/eo2KeqRPGg8JPUE2\n",
       "wDr7mI7KwEtZoZqhDJXMSx4LJfRz0YQaw1x9GIJbkUQYTGx62UsbHmZg8Eud19OkEiHlPY4+rfu8\n",
       "kJ3UtfaDH9MvaYfZdpONrt388LSBacr+1gVasmBjigE5F1YRHzezxtPgQroTAqatj47JNK4N+C5J\n",
       "G8A1nu8LS/KYvCjllvjBQNSL8VlUx0yHAmyQogvsDU/JkMi79azF063SS/BnnySwR4zIf/zwDp0Q\n",
       "qnkq/wM1hGzuTqSKo9BhMoXnShq7VsdXnSDJBtovzQNebPy9Dkpg5wGfe5f0K1AL+BjUKHAhvoD0\n",
       "CL1UmuPv3TtpvgEhGBEnWuO4bJqhaRKow8DRhPJaLjQ+hEfKqn7Qbrl7wUnp1Bd4YfvHYTfLk2gC\n",
       "Dlwoz/P9ktcaVzmhGSXlnpkqmWkdyl4FgFNtJ2yDd5G/sWiZEcLq1IzPOn51BB9hgEBXh7m+fyEP\n",
       "i8YVaMSrhdBeebMt0WNHjBekdaShiAPD/eCDLMHtueAdq1IsI/CLGBDlvX2bJ++Mg2aui53ao8Y9\n",
       "lvgwGbHSeSwqPXQri2vhq2s4Z0b1IZ9fgCsicvtLszon1E5HaIP7ujY7dXW3vRR/zwhpGN3akFfH\n",
       "gvci8hh9N8lzHfFs+WzdVYzM4+qyfQrlzN0rKxLnAO2od5rjP90J326FIdLWnJEm/37L9F31sww2\n",
       "spyHFOfLNU0eYcSD7Wxi0nD0pm3wXff2kkLNYwCyP5BXPTaEkH8jM4npyGr0vaUQQVJVYaTh8Xxf\n",
       "2az+XJLIzGiCl+uf7Jfov43qfBk9ET7hcNM+FVwqyd+TEIxfcQyEM4d6XXQHB2oOyCaQL7dBIiW/\n",
       "ZVWkaQ8LzXzcYkRZtZcWWSibFyk9odQlDUpr7yE1CY2EKoBQKJvjmZNjFEEkwkkR7bhuCkQcUSva\n",
       "12X2kU06mr9nXzhgUdzp44hheyB4vu0sIzmnLGTqLUBi6e37dl4uWpF1QXWLdtjZB+k2+l7s65S/\n",
       "p9l8j/ok584eC0WagX8pNkTnQrw0fk2vH88pfDqu6XFe6O72Yp4xJWhehsKiTLLOvYGyntvhtDgK\n",
       "YUwEWFtNcrMdUo1QRC2Ka3hG47y0z8zuG2rbbhQETyLy1910qyb0mgfrlNwhFkZCCy0wD222e/H/\n",
       "PGOEeVgZhjdV3UuYTlzYhsO3tavSESL7el1CosASMZLWa6W1ew4/9ix+L/4DCEKxj3tnV2wkRB5S\n",
       "TTx74iqONlCRsK7Pq6libXJZWjf3dr8zpjwOQWkbLprDNCqHv72l2PT9iYmnBEp7/ls/7FDBL3K/\n",
       "6dzbUWS9Q0xgVXjeT+49NIq44JgDFzfUHPbyEW28wMq3FvZIOucKlT3N33DqE110B6LvDA6Jz4FO\n",
       "p7X3QlN3cRID/e+08CG/eHQ8n6vLeouA6ccobxYzz9tob9DkaOJStVx6lUbg1OcuK8P1MA6PBIz7\n",
       "KMXXE2stNWAxh7HIfwQcoqrQovau8kVK416BcINEipbHmyDz7RqYlBGLLwyMPPkl/idJkSLZqw6P\n",
       "nc+lDLzbReRl9+kcOghJCJ9yP/23OiO5gn/XBY/ZzmF//32Hl0Y84v4tKekJnMDAnAOYeB0NMWfE\n",
       "bCFjRU+FEarB0ScHFt9UM1tNgAOVjNyk4euSCIvJsFYpWIXdX5CRvtHtcXfrxAlautW59NkMEoq9\n",
       "Bmm8iI+DwOwhsUTeGi7Mt2IQDVuLmxnN4GvjRFhO3HDPpNq/hEFM8xLZJn44xsnpQUBH/2JYKGdW\n",
       "Oo0wtbrGW9Qifn6jWW/64FXyv4JjhWN1vj2t2NGzwK9of88j4+TDjDQ6NXJcqoDZxqciraJkoEFh\n",
       "ZH2T/v04MIFrz7N+vjDeBL/sAZgB9OEFd1Wp9E3gkZ0Q4quzceh7K3oakRNb442zy5xYBTFs5++y\n",
       "SnZt2VG7CG+TryYNSVGiDrwQGtHfbd3rOqZTFSTTFx9t5BaCS95YA3V2O+oUEb5JGqhwXZDvKQaF\n",
       "5NI3/7geCa7YGwOrmpqK4BeuSuq8/MpkEsdJ2cuBbFgxjbW+87/PedeWrSB1VkhC9QpTvw5JtFq+\n",
       "fYBhv1S+Kf7S27/SBQKZNvA+XUW3092f79hLp7sts1MNAB7Nk65JRVwaxBG79fhKCNPl66/XH1+a\n",
       "jxzLeJ3Eohv14ZW21eyKPfETG98nvIUAZZJaAkaec3OGJPOr+HTOCrey5F/AL0FxclSBQZMzDi6W\n",
       "dhI1D8PvE9wnQeer5d+E0ZGchb2wGE88yulvxRtZDNDEwHs8xj4LPvDQ7kXc/SBIZ9IhEewGyUwu\n",
       "4RoAbeiyLSprQZApqpGGD27/AN0RujQk6a8ivAA9nJBZbLlMcriaeS6ZSpQNW8Yc/1Pj4wQ2TrYD\n",
       "sPYuu9mNOweJtBOfstAxJCOvRN4+0fQzN9RkcSZnLNfYgFYvaulGE1AnvxfH6WW8CVColmAbq+5C\n",
       "BxY2onZg8YB+UcwT+eoGebAt9pJ79+I6/ao88OAzzkCgLNmyy1WkrkTRfFCiHAvwkqGlFQuo4aOA\n",
       "UJcqOdwVQPygcFI20kKGpssEF+5SGcnDaS+rCgNolCXMiy3wV4iPFZpZIah9j9mhK+wrJSpvbz/y\n",
       "9/uy6ln6eNMCC50sjoewDkYUi6zrlWyIU4RIWdI7fnRqrsbXpTUkMGXtuAKT71hKjwePtj4Z9Y9X\n",
       "X6XTQ+oWQP7oR+m0EYSBf2YS7+5TWgfhL8ktoGL3/Z/DpJMVohNpf53ILXFBfyvS1OTyDf9fdiXm\n",
       "op7dARUeoqV2a0S91zECyTq0e5K1I1bz+gdD/6Wj8ZetXWGc2B0Ehq15D3WF+FtkoVmfKjxR2Do/\n",
       "4PQ7mhFx/zW3pShzuH0y0bs9V54CPbJ7FsVPGuve82G/nQ4ORmNzAux8mXPnyeQ7Ee8DKE6mE498\n",
       "uyum5Ddgn+OdH+zq1TlcyiFY0ZcYIpqWzfy4qJuMe/O2pG79wRIksg8sBLwU/ZTLOyFj/4TYga6h\n",
       "WHNFIDBueAkLMEEmE5Bv4xwIjQjDm++LiL1cb/hHeAeCEr5kmrpESqEa1VjbM30k3TFX4i3ipga6\n",
       "V1D/E9PBYFiltyfgbkf6yMcgax6RuNjQMxj7qaxRP5CZex2+VrFaBzb2FfjLUueG5H7hMV8S6rX+\n",
       "yWH8BbkyI8H3X8bl4x5YeHwod77B/XPyOTzojqPLgyJQGu6v8h97wKo79EKOL2zyeLz2NTDtP3nx\n",
       "mSmatKx2ls+4N9w1UbqfjrGd5JayHO7wqzeXtgiWvWzEI39oeJyKajbv3GiaUAd7gU5jHjla7S++\n",
       "vp299jzkgEkCLf8m066C6hcO/Vg0yOoMxH+7UZ1j8HUwK1HPXcZuJbPpqm293iOgFjZgJE1teryL\n",
       "phvMueXcD2t7Wu/UDXhUIfmO8mVub65Y0YQaJyu0+n2qj/uVX6daYrbU1wkOWZCRvgMdN280AlmB\n",
       "WOVCWLI20nKwyzjnI4n/jwXYXp9kl4C4lT/sYA92oImQp60tIcjXtDazXW74hJPW/RlOmsEQ10tZ\n",
       "mD2YSUAFuf48Zi5k38dxBSGD5mVQg/MhGp8nENuMHMF8qupcumF8JM+CrhU9N1g8te0WOPSX2ayO\n",
       "V1PGlH6CRPC5Ka5BFu1VJcLEgAch5YZkFzg+sJjS2eMwy9f9YQYVAQwBniyUPJ0ezDLNjj+iSeY0\n",
       "7bN5txzjDbjUNkdCye5EBN3E/MbRGuMj8l/NEpJWH0KO9V6wbILu4QsSrZ/dxOVPmjsIrVvWgfXD\n",
       "bo/90UE8wbFs/vE+TPZp6Tk36d2QSp9XmXoKNOuVHaA4KzvNvrkllDpyb6HTB4Xi8wpfVLhk7cYD\n",
       "ZUMN+v0HN3gGdDtunf3zqWvia072agFoqw9G2846WxdUYuQu1eqOUqjj3vGePH3wWjEtJOGYAV0z\n",
       "7566sgusuR4cecmLbGZWGZqzdJFGsVxPnCNfkZP7yUfvyQKcHYuog92fyvRtyzkLjjZtgN4JXSVc\n",
       "d7OV/AJpIoVPUNVH9NpjIWte/AwW3BKBEnuegybVSvPSiYUCnCx4cLK1QYTi0rg87n3DWnSVpuyb\n",
       "gGjAYMqTRN59t4IbZH9EZtmqGVaJ3Jfe5gZhk3GeDYUKRo1DOsPSJ/epiZ0hvfxXfjtwdCF4/cVA\n",
       "omSGr4HxrYZX5O9nUBJNMM3rbL2kAaqPGHEX7Bwzqd0SG6TtnmHGau3y23SGoTeQFEiHSnR5lXkp\n",
       "OvxCzSnkEIrQDiJi2VbR3Yz9POu2nqVNy7dzXQT+GTxlKfat+ZtyDbKgJjfsEswM7cxmb2cH9MKT\n",
       "AFLU+hUGf382fONtP0vqbUiy41tEIF6s8pvwXfv16I884CKrmXDvUoTf6UCcwqRsordab6LHmF3v\n",
       "jY3gOuFQjFUVsLf9xdMwoxZuDdbpaLtaqeVQyIosb9T9p/D3mlyk0YYMBBa59xx6z3mCmybu7TOS\n",
       "rEue4xIsRstxmsrcRZK9MbIrQt2YBA1+qVIHEoIojKYSyMQqPzKDOx7/AeukEvm7UFDcf/wyKCBN\n",
       "gumSyM8bM39yu6VPFY9v9GsHUH6zHnPFTTH1UjwKuIlro1Mp4e/56SRheNu3q4rMG2vmpdFet4rH\n",
       "t/o1g5a79CYEq0slAprj0tkAIrhNxUt3FjKaMyJx/rzwrNGqB9KNvUCdbdWXNoQsicFbU+1Os04s\n",
       "hLT5dJteeFZo1QcakJSbQkT/JNVEelVXPPvUcqgtmrknG60cAB59r1cRLXW0sgGv/rJUJL+yLojn\n",
       "Ev+5obLQqTR50/zhdHpGUACy5n8mnccW1GPNxPKa4SuFnYwN8qFULd/YyEahamopBHvMdbS7tplI\n",
       "Nl134fr94corTiLwtXFSe5/ty91VJ5mNukoCllrWVA/tTlRuiXsJkjJjEsltBCFP5LbG58pxD7N8\n",
       "DkS+GD6o65mDy19lOUYidh3oA8tTTT6T7ka2OicIOof5bRP1Vp4YrUphErIM8xmv+XaIt1i5ft98\n",
       "blkO7NFfm3mpofNu4F9wp/zrXHSUJT5lY2PaclSRr7IgMl/8wTNCLUqz7fO0/IlFP8N0B7v++zQq\n",
       "1nG2zCFaAT+O/F8o6pTysSXTQVXjNMBXuR4gXHXBW02uqPzHCGOJ5he6GvEgZuw5Eqx+sbOzBnwP\n",
       "dKHzIGMJUaAmUWngurW43mWQosjqwO5KcbqlEbrV9baiCdcOYak7j42Eoi8KBV6ml+QyNocXOmPy\n",
       "uuJWgMAzTITojC0zKJWLuPzh2CEdHyNO/JYwXT8P3WxYRwndYUYtkXYbjP/wgBQ9P7gJ/MZkqJqi\n",
       "nW2K17r2LwlnOjLhDQTDIz/bZUl9cM6knFmrP4Bni/5lcKq3SclvVAkjGtJwUMnf2eELuKKW6jX/\n",
       "dW6UuBK8plyF5F6314Oa7TsiR76goxMNONSbeAXK3OvXtDIrTgIz1tmM8LnVNlXNVKqiv5ko5A2S\n",
       "Ts9EehuxASzRXOOPAKoYDYgXh8nMJXsWy2+rrLUmdikDtKfqL1V3jkiCRiF52pE1bTnlJSIVUOJC\n",
       "qFOfnjpys9Qo4SaoE1PCT1wlqP3GyUPNxi3SW9g3D4/kS385yissJxpNkfynYzAX5PaT6VjReTQb\n",
       "4RxZ5xhIANtjm2iQ8E6sLh6a5qkS75OCQkRH8SfPrmYZuFCsw3maI5SS5Xe3lhusCExR4NkYe08K\n",
       "zPL6zX8B7bg6otycT6zPx692M2s/HpDLRgn7gKHh6xAjhoYQzqx1q3Czgj8UzzDOPMGrQelHAXHD\n",
       "aRdB5IvGQvD5l5+qM+kLcNyhxXQ7t0cdZTOogZMDZWKMbY1wd00zHQJC16K/LeLjbUiKccA01dfz\n",
       "M8zU6cTHrSI17FHXC2KeVxNvobNrFoLZ0xw7HXMiOOwQetHUP++Ei3an8cjwbYt2As8oCkmfMzzk\n",
       "eKGUogcu6Z+otI2dzFOAjXtvMFXetooJna2nbKp4fFcjU2NjHlNSDNvtvKFW78Ry1T1k9OdUfFIM\n",
       "02Bcx2s9oYFK/vPoJHx5JsWHy7n3m1BerBMj4jj/rxyqwrpUWE5QseUUijaPHHSYqJvAD7swbJon\n",
       "2lILE2j0RY6HrnXUC/58U25vJVD0f2nheKuDauxAQryJb0vnbxgUPa4tYZVduvM+aTiualkQu0jE\n",
       "kwI3hFgRn9eBu4FlqYvk7rdttwO40e1ae3wovm9uLjfxUojIzm3Z7wjqr8RfjFNodbTr08+Xgm/T\n",
       "rbp1Svv8HfXjYZEepu2HHj9dFHLsVddF2gHyeTr6TckKPp6rIvgAkKm5EnACCanQfOCHo406g8Sm\n",
       "i0+ene/KU59apRxb6UlQpx/ewJSeTwx080dGaKCAMvClb1jwDeSrSosq6jacx6T0SPOgclyGRYdE\n",
       "tcKQ8bqIL8xFTFkr0s3okXWvAaBP8aGXsMSIk5Jpi+QWE0aw/vvnHzVI5xEbEqOAgcFowPSuNmqw\n",
       "2JK71ZfHSKqfSJBB60C/SSfm5CdHevCm7AysaUX+lDITp9ZBBVRrWGhtgxUk4vEtIzd/dH82eF+m\n",
       "eDcmoHF1GteOnAyS5RGO4pr0DyGNV7LGdbda2q0bpLCiaQ89nSth2+9+MUeb5D/HLLRmiwe35kSn\n",
       "NJCJlYTnxkTwMEyDyoKGS5RCC58+C/iC0r1RVLcp9dIKXf6iOBncGIpZVY+p+U32yXMBh3jb7wSS\n",
       "DDZoi4UTmeil4qWPaxRthPI02a4vnO3nRCfgJqT6WhImMFqR9i3ZXJ3Z245VK373jyUYlZsuV76P\n",
       "EihceoWLct1givu5qgUez8SKb8AvGN11F/qrbw9qEipshcVdUpNtcMbfjg0FyMDLB45fa1wc/OCE\n",
       "OmO9NyVCFbFvKSxEPk8mDYlWaqikVoht3YFrxeB7PJp92Gu7JcLAzu2CxGG/qJLRiDbplxW0JpZk\n",
       "S5CbZBlaR7ZDAukBRX2zV8aANeEoygSY7SLagD8MxczS/KLOtwrl2q19/xfvMzL0vxbmmBLPhD9t\n",
       "fNF3u+YEDyojvl5Spq9tlzI3u303pduYYfzxbnXPN82vO04542Rjy81x8Y9SVJ5cvEOpiNrI59e9\n",
       "0xWdTxfAjzJL32Sr4lY3H5guuJzA391A0TKRFUKcPmZ+qZ7L9tUoRnpXA4Xsb77vvZy/7bdSnT2y\n",
       "sV2lOgIFUJqoYDZ13xW3n9o6exrzCw5r+xTatBXjU5BfLEvaVFRbNc8NlhE1IN/njmW4v1KLwKyj\n",
       "qvI4PCaAKkESizfITjU+M9gYPbNnq6byO3unlW2pZl/bCWPiK0Cz3dSL6JA5UaG61hcphGxcqZTA\n",
       "C7SDby50qNXmGuh6NAlp9fz+0Fu6snXPMLHIHvGlPGqOYNt6Habay8b6pqD55BuUUtQKkrW8u6/m\n",
       "JrDnz5DOicwOtA+MoLTktenX8LdPyWO5FEfO1G0yHBkNJtKQWCTUNCsYCzoc2DiqbdAsb3qY1Oqi\n",
       "yL1UZ8HbssD3nEp4Uh6ZcqNv9lQl1Xy2mz0aIDPBxKAY747qUIEKeN1X0fkXU+KzDIQAAGMpd5MF\n",
       "CXdK58wKTOTcJyBd5/9TL1mkO67PT89eW367wdQ1ug4aej/YRtIS67kusevwI35ogZxV6I6Zgiua\n",
       "Y4s9NPyrweBholv+L+LTj6selfIISyQcudEH+JhJjjJdJPNh1LdqGJvZ/nK7un3Ax/9cB1sqgdsa\n",
       "UME++NEPclyPXubXNp4EQ97rMFeHtG3B07w1dsm7O2FEcbjmmADMDRSxu6KMxjpAdHiDqcLji9v2\n",
       "2PNSBH4+KeeKvd357TcPZxmFRonmkXbnweNaH5BZJhltriV1MbNFwPNV8mGOca4HG2YSoD4Fg++f\n",
       "ABXNgzLjUq4tsKVGiVKaT35cfFuYovf2E7reR3rbWPlDZ72hQOxuZGKsCad4ZUxwoka7mAZZIK10\n",
       "T8iQ3CqCaYONLxvDpyzl8ahvK6XpkepWCDjlaGoeqxCwfSY9HPuT2QKas8v5kRyJHlPvtARpvgkA\n",
       "AnsAAAfSQZohbEO//qmWANIjtLAJo3gNRdc9BL/kFbHs/w7efxhHpWxQMxzQKuNqg+9YABAnWjtI\n",
       "C+1WefY+HQJ0Hm35uORJmSh+gzrrsOfNw1djaQY6rGpuSLBi9xFFcBdh21DPvw3m3Iv1WMWMUu8D\n",
       "QV+mX5YjJw3FLNxtNxgeMuP2MDCz2zKxtBdZ4OowRIXgyuGJKjELg5UWAL7OGfuusLWIV7Gx4WwU\n",
       "jKYx7QHmxbEZXCMIql/kwZbEPBnJLbJk7NzwObETbPKoNuKkpTvj6Ovwt/GtEr0ynr1Z7BA7CmDy\n",
       "qqR0hfQE6o06HS1WYgZ1nDiatv24dDnW58UmCJMq4sZ1WYUlAU+KGomQvnlaWudu9N7yW0hMSeBW\n",
       "fYRDgiW9/3HBsgd/dVNXsy0cnISbU29O7HaAAhaxVCHEYT+kQN4kNK6dx7YJN/zFkqC7Vfh4j8Pc\n",
       "/1l5yTFMb95q7rM4ZgdooUTxQtuFH33/A2uAhTQiSUh7IVbWTohl2H5vwKt/ehzTRF/XEjnzLwc+\n",
       "JYnUlm+PCWF205ihKnzh5NiyxXg4h0skTFwAxmWkrrykKyxHAYjWDOiV/krtknYCMDi44C8UqBIF\n",
       "GDJgSIwGcoG+4/z8sxXRg63GIBqAT9R30Jm40OFQA/XWLBM+x6TTT4Dehz4TxYeH8uBO2QrrWSyJ\n",
       "xEzUFqH+6eU9gMeb1/Bo1m4g2M7mnIsbAWK0BN6cKNK7o2ceWQLF1blLu5z8y3TRdjSSFtEXLS0A\n",
       "hzmBSrFFM3EGaNlF2O9QTBu3OZdsH0vhonMJbpVnQzWNW2tWl+23qQEEkpBGi+r0bEo5jO/u1R1E\n",
       "ANGSTrDPx46xXf8Y9uGUwTQrLQG9FsZcnJS6zy1OAsBDex8Ld5MJONNN9DiwhWTLYIb2FS6zMQ42\n",
       "J45tULoBFWhYukSC9iyEYXOaJsCyj6lkWNKIl2k534PM5hC3xf28owPXpnYocBpue4o6Dtv9+pYb\n",
       "asZ1Zhw4sKe0wPZW9Df2cr1FwcrjULJyW4fXYPUf+WgSlQmDYWXqnDhA1D4hmNtRssfdbyW65NJH\n",
       "QFTUHwYKq/5yQqQeatb6GmcwpNGp/HPJjv9X9GLg3jJLP9TqHJbTLZfzAnr1v/5RgPw/kWr56VuI\n",
       "XZTSsnwAXmQ4m90CUPXasEBFrM5l0mEfGz/AXPPv5hH1TMarrfzzNZNlPRBwL3y0kngUHA03b0/P\n",
       "KmVsP46VGdUcM3IFHbq0TD17Z6Bh5fc+eUYHFfPUx1ROILVymozjke9qgoIqYUJMNlLhlApEL25C\n",
       "Zrh717f8q4S8riiGotsPw4maIX8Gmqj9YwDLmFOAQra9nYR9HHDWlcwenwamXmNoFC4BZdcAe/iU\n",
       "hYnXVvCjfD4h7MCJeq5bZBJLbmubyKTaAXBMj5QL1bo5arqDAuVmgdyPWRtoqbbehcJ4lrY7azLS\n",
       "c502/2CZaIT153v+uIKPqC1hIE9mvr0Xe51FRhMrqqNG8F4JjLmMaY2INrYAH6qQlOJEB16WsIRi\n",
       "aPTMsvvu2puqEpQS++220EfSLDIEs3jDUA8cDMD1TYDjecFM8A04SrdPT8a0j3jlKpYgYnw/DjfK\n",
       "iOKIJk9ngdqWVmTWHoIeKWJ7mrRyhY3qxGVvpIuS5bq//nNh3KDjyoM32G6RmOsTCexYrf1DXnKH\n",
       "hp9qexn9YwlfKxFTH2o/iIJDYu9U5apIekYigtHnzXxOuW9razKUQ7rHgfRJ3vuD53qwrA5XdanD\n",
       "usCszdVPaWP1I0JUUq8uVxrRUHvitcpWGDzcHCUiAhY+l9f4+0z9RmZ1CAmtpjoykBiiXqUsq+L1\n",
       "ARGfEH0TkyJ58dMRdZtlx/N0lKHp/PNtYa249lnC4INibmzNOYDjmUslhi42d8RxtUnIWcpS2ym4\n",
       "jX2TNIQRO9J7UCpv72vRRWr/0MdWPDA+XhUdfD6LWCFBFw0TTMoL1lxMLssotMR2/f/s+pkqQoVI\n",
       "w2FQ1U4NjK4dntEg93A1QUmJQdAV37b9twsuBNwhxIfe1Bodceq85/kMHQnS8/ue6FVLpaZlP+Y2\n",
       "rfOr35RfLTz1H52LYQP7HqUxeOQOAki/sbKiIf2xK1pT8Gi1e4cuGjD0xD1xubf94xvueXcuHZ/0\n",
       "8Z/r8KeH7vbLoUREzrnhd58jI7t2vmbxu+cvH/HSNzFAtfjeBD9gbUVr5383tYgJKrYRIh3ulid3\n",
       "pJSje1LCxrsTNxVAZdqbaYUV8/Au8/wZpQHIWLAhh/rGimbumwjmmT4TW+QUGf6t1fx03VV6KErR\n",
       "VB+tRK9AOcfKWT390DWPmiLQqOhAkZ5QdumOGoNthi8MHMkKLUXK3Y5p/lKBvOx/0y4my95CP+k8\n",
       "SFMPyeeejydGQli0g2WkORa7ZuRkVllaP7pke13yCeh0NvJx0vBy/QjC+RcxCEOFBbfQ8HAobdAl\n",
       "7vgFIkeRUAjsakUGzppoCzDmUg5vepfKi9PxaLKuUGdotn//L0+40/B1Fbt6Z4bH5MW8nSmBDNqn\n",
       "TYvRgA5iEwClQGW2qp/F/+7YV8E4DOLODRqrGWDPq2Vebxiqa21y7sSPf+vSgHl4B/eIQtz1aWNw\n",
       "zO7ZGypI7bM5ynSUnxkKb1qUk77seKRKsYgHmFNcg9KctdWxFXe5KEwACeG3hLFzaAPFuKA4rDEb\n",
       "F1609b54jqXjUq4PQAAAEuFBmkQ8IZMphDv//qmWAMR6ZUCbtASf39wT+h197PN/hes9P0HyFrX/\n",
       "3hdI3D286SdpemJZLuP0og4CwxC/9kltuhRuuP3iDF8Y1W9PjnSB5zUr6hpk4Yoqs0Ebfu4K0djL\n",
       "4KUpNN1cEN/A21GEVuGZCuPm0Reg/IDs7DjKTcEoziP+H7Hp0MzIM37DmGwHDgkI0LsobR/m8Qc2\n",
       "/jQNRDkHHfh3p6mO8WwmvQ2Wwzi4C2QCYBRWA0GCrdiEjDmmXJakwhmSGpbL0A6GIxbb+pX/aJMJ\n",
       "cmqtMedFzMlSMM4w8KjnaWlUb0T4cLroVknP1Lfm5BvclWVNFttWtZxx3+T6KR6ddgDT9b7Gl1JJ\n",
       "0H22RfovyjgzLMqYUsuKcKqW9Fzhdjkn9n/qaQXjdC5idIESMzld0Z8nH86P6Vz7fy7szDmSg2Pq\n",
       "Kh6Ymh2D0OKArvMgOBoATPiqrvpxMdrQrQ5RE4py3/xTkphZuVTx3HuPkLy0l2dcIcF/N8hcJ7C2\n",
       "Dn2O/YQOIa66fIAk9cjKUAyW22BQYskwyafZz9tFpoNulgcKp+hkLpH8prY+/RzuQp5fQx6EDhQc\n",
       "ggVktzVgbe4uawITW3wyOtrImmTT2CCj6Yk9k0kzKCusOF4NCiV8eXum/s4UvKB0Oni/KBW6CERJ\n",
       "SSASqcXt7DEZGCXKFJf8loWgiLMkgmuqiZppLJ9YGBXQ1+llzkHj/0HfadfRTb4YYp2+vKtjec3N\n",
       "U9tZ3ILB8079ARz8+O9itpSsvk3xRo52p3m2Cn1DZWfKSpS78ZKlpa38fFNu0+km8+Y1V0tJh/Q0\n",
       "mDUGdxI6fIMP8z5vEpJG/HZTKC6dRHmBLL8SoiAMgHEI4t/wAWBTQnTjnM1YB/fBJ0AQ6xDjgkYb\n",
       "cOcQj1v4ADEvVwIEBlhc6Dq0hrJkWE2mFaAUSUbgxgIvU0/dq2/Xr+ViyGMMgQlMe0chbvZ5MVUi\n",
       "QyVHZ82bmEyqQiY2W38PQULUYDvgKKzumLoDRHJ0ELc+MWP97xtVbBUd/uFkRJW5SSn3rlvW3pfO\n",
       "k8z9u0Hxvtvg6+9p58de6CD0tA/bydr3DhG56qxkX8Mquz/xcdNyoYcYw1HEMrr8V8oYfHwcmVWa\n",
       "3f/IqLz+Ja6T5mSou5StHJp1UMlmOa/UrVc0LlWjcRdbzhlwWATnH6kYFxs+xBp+eBjiAgesBvoq\n",
       "tSu4TnSP4U+S9ITjiV4412EqNqXNuMb49W03vRIeZL/KRFq0Xxa6XLaG/J5a0zJUc/J6gAFeJZdU\n",
       "BiW3tjk+K/RHbfggWJrc3vbgwacJe/FYT0KN5MrooMjC3eOmEwult9zJlAsBQCm9qobfrvaT2rlG\n",
       "lFQzd2cviI9Pn9ruXHsQuf34UkbnXKx85Swc4Vwa98VcMRslYYWa8g5s/YWvNitoXZPXYjKk+0PS\n",
       "B7xKCCid9GHpqMxVF+8YrLLLrSpzq43s5Yv+uj+03vfH+Bn0Kxu1eLBJz3U0gTWAMs7ArrVeoST8\n",
       "k6TVxdz7b2BZ4j9FbAUY9DVi+LFqgD2h1pVMGGPaEjh6OlKrujgGhy+uit5YHSj+hnMz/Mp4+Z3p\n",
       "JT0qLYSKY96vSTf6T+cEnDqYZ2r86sDzQhAMtr5ymIOlOp0Fc2lIHizUHEueGNLNCeBpxtp7sAl5\n",
       "p7pzZsXNkxNhGtpM1VnZYreKY4+rG4RUfOie6zvs4a6QlqP3ufUcS4d8ai3OtAn9BOwkd7UQ3FMh\n",
       "vVujdiMz66h6qrTg64rDbsJ0fbmKLtEH7ZP71JYAN4btCjJgM7ini3rTxj9bCDAZ06OxRkNO7otm\n",
       "qYVwph/lGywfc7/U0CkF2LMSqczUFzqchIDGr/eZ+JSASanm5KqAJyzfFAsGQf7ZfrGpVHgluv0S\n",
       "qYz9L6L5GWrLRVwPUuZjW3OX1p4RG71O/hVuFglZsFY07DfbRTtmwbpoPwUvdOxE3EAtUJtfeQzF\n",
       "JrTI3lLRqh5h8o/oR2fJRaYaQxyDtqV9DED2arkG086LpNavtFjPjX3hNCL3rbmTSlkzwQYoHYjp\n",
       "BHKp+om6MODEn+xoUhbYDFQtSWqUitwMvcMvgAAr2n+QZeDyc8ZqyKA2eY873KhEum1+DWUX0BLn\n",
       "9qPAKffBv/gRdU+Ooph+DdOc9gBffs7Q69aCBHrQ6AxGtq9Hy1Mss/AWyk4M/ySH6hs5Y5zR0Pmb\n",
       "wRvADM53yn2YB9bML5LsujQiJv79K/y1tat30Yv4tN7EHuiJ7FmSZK5edw0jYKuiMNHHAgFfCiZL\n",
       "Lffuxzn40CPb6gRWC1zztThkrB2sIsyUWRGRtmed6iBNVn7TW+vyTYaoSjZRopNJBB0Ksdi0Ty4I\n",
       "2TQpeLYSsbxeO+XmZ39q13fDrWmQWTkD6Q5OQRJE0cBWBNCsEQfA1PHLjGjD3ra15aYbEs8nWpxJ\n",
       "RYKFKxHtBTLcOg6hDmMPrWqh+Z1ULJg5hfRpwLJ2BR5601H/lj8hFV6SshP+WwCbzeZg3GyiNiM3\n",
       "VBmckGEHVlme7XIz+FvRu8N8jxlZDeADR8nwAaElBAPET/u0xDbgBh9AQBXnocJoZhfxuTt+v2iv\n",
       "HtvXrj4phMo9QdJE+/G0+lFsGyT0ixIiQJGKe5uWyeXsh5OxY/Qv1q32uvXnaFZmplU0CQ000yCw\n",
       "zicJlj8yqAKbSY+fhwaP0myKixtzBc5ivQNmfJq8sgcs6HbTorGAJp5lEMrRidLAIC7ERXu0pXh8\n",
       "KxEcuRV8uoD5wS340qGiK7aIznWXmxcVV80UYQPLxBWlDvTx7Dw40eW0yLBsP149V9olYYnwFMLp\n",
       "+ee8uxVwwtFwF1dRi6dLF2ztuWp49GQNfvHj08rmXcf4nBdXRcW2yGQCpdQVfVBTEGw49WMQjQ8M\n",
       "tN9GgK5vTqYSp6GvcWRe9OdmwmXODt84JDy0+TMaX9O0vjDH6MKa73PuphHN7qwKdQ8cTcNrNRCN\n",
       "NIHB2KBSnD8IJLQGgVMoiYucyPw4GxVjkRLvKHpbWbixLucsbRXs3aeBOB+EXerNq9F3l3rBK/FZ\n",
       "HLlV99wKVb68cMPfztxRsZXJCMpI8EEQYb8hMuTWj9/O5Jl5qP5/ZknxeV+fcsISS6BZodcFoaMc\n",
       "GMrRtXOucUApqh6a0Dg4qZjmOEmxOpLVWoT0pU422riAltf13WSNczu4UJ2/JRKW+ayn53ZRDqS+\n",
       "tlyfE3EF8X1BHso3Bj07QPkc9+q/U+QoXkDV+Gj5DfOM5xARc5vb0ehYXERwe/aSw5nQ0eHIpobB\n",
       "rwCWIBxHoMeLO2+qtykSrWtyluxPMK9cbdeomBP4XfdnmSYsWw3d8aIzlGjLuZpUH6l7eE2YNimx\n",
       "bVSljqPl7yizny+ZSmfR2x9oFCyNlFWtlWiZnmW5MDwzUUdtVA5hSH8Hp3EbqjlT09tRBdSlOrgF\n",
       "g59RTSflGQQtpQl1XNIuBjr/83H/ZqnqWOTXvKSI5SWPDUMhrSxeZPxAGIj2FIEHYvVpMWYXIVe0\n",
       "BBgb2/9AbNpiBvnX0CRnnkxiNaWd+2Uz7QeXCdFHz09K9A6K23HvbW841uPz8GHF7bLxWQm0PBee\n",
       "JVfOtzaSfbQlaqmccGy1/HkHlI3ZWQsUbjDhGC17JCYRmdxYqmgGfTGZhgBm7rGDgqwJLI/NpCq2\n",
       "irrn0n7MZK7xJEbKPzA+mFcJo0eZv/MRcoyE0fx11LuSHLNGRUtaBhpBSSVwcxIFO8qNXl31COUX\n",
       "sZsDkMSHjGSeFLyJioIRJ56HKd+x1VYTDFOFKtJBO3UTXx8fqLxXM+fFUc4sLlFnUEqcPU5Zpd9b\n",
       "CCVw2f7j7Ik9n+ngDrDsRKTgxcKP3IyS3FrAWyCu/o9ifrRaHC7Mqqppo9j7zy0jGusXLPRdMjjl\n",
       "U+P57hJOSCm8AmGXEoi8Tucf2/N322UYpVJXWog1Rz68lGSfQojFqoZGVnJOdE/MgpGUSMMZaTq6\n",
       "d/AM4U3JQ+eXiv2Sufe6JyBns5Ct6Jvf+Zv2sFPE5v3qyBBpH6K8Qnk4nzD2XLD2oqNp00s8V8IV\n",
       "SuZ8h1WUsdF8XT/cUocw8lGyMQnQp8uqmNgMKbDcuqvQj9DwCWtCoV89XLCIOQYn+FpJkXHPcTDi\n",
       "xpO4w4SF6UfGZ+8DWQkcR1/n3/O18WfR7xS+ltrnCXN5lBapuMutansaP4tjHeQmR8bOjMLjyyd4\n",
       "eJJDOKcjKZrfP9xT/O1haGhG0QE3j3af/jrn5NF/8KIikDcx5jrZay36PcZgtyNiyaiNxus6ik4e\n",
       "G7KoMbA4Y/EkAxQvYj2ul8yxU80niS2gbENBRc8l/tsUbdGvyLxWCfimCatex1TaS9QP3efC3/X3\n",
       "DYjziKdxcpmY/5QfvuPxbgNx5nfjjpQi7fqRr+ay0yxGCkKveoUHi7vV+qwzzb0C33bwknyR/kRE\n",
       "CpDyd8U9PPGZUk+c8HEV5E48Ea2nIoD9tatqrxpU4Ndg48L9HIOkTVkmyyCtT2sLH3/H1rhBstsn\n",
       "JXP8hlldezlPeiTE/6LY+dx4hcH0DJiZal1+/jsBNJ6mGGWBhPbIrmLkT7VoPSKojTtpSQTAUqV5\n",
       "Ipj31C7RpbuRVqlGKs7QIj6SvrcoXvR91SOwRjABu7FMmBdkLlHkbH5ZXA3mb3PXpVS3+zO88t7c\n",
       "ZETvVm1u5eunn29auEovyeECUY0bBkPPHz+VKZU0J5jqisn6J+zv5Q26jYoKoU+D39vSL3qlwzP2\n",
       "91tdzaqOrUhVoypofn+smTpxKNgAIVwAzZGBwlMBDoFzJCzL3xVgaxY9JBC2uyozVKhL8fnCRj6c\n",
       "pUImcI07hCvWGfvPh+TxS28JMExfSg9EuLghs4azq+80Ue4gDk23ae1u+K2CRtO51tnAFHBw5pAN\n",
       "6P3xIR8HYZuFG4/WvRaRtb7h3hcdBLxkOQfyvwCdJ3VdOQuii4D53RccOHdcKBmVkTJiR3woO0fz\n",
       "YYBDDVdPIczT4d8BSMVmYdilA5j6k0RJMWm3hIhGKIZdlsUB/u9mJ8AjrWydaBPL7U0aJGx9Y8m7\n",
       "9Tle9rDnTuXlBnpXlcegzaEIWcnHCv4a3EHPpw0PlG1BxLXSPX+32UgxUh2ZHKWl4s2T/NhZQnap\n",
       "gUFcNyu2kv/p9WaKP3oWuwhPkddu/2pVKStiizQPWdOmdiK6+OlcHMDycg/6PLJTDJjRpYzjvQLU\n",
       "hLgbrrOdoJdNBsAQ3ZEAUzil2v5+6iuFmouieMucXBsrog9w7e9s6SXOagJJQJE/XGm3jOzRjUpI\n",
       "qIzjvwcHI+qU//Q09P2hBoBksPaZWQLHrEF09KL9oNGKYIdggJw6/6zuiHG4+wyTNKJVbh7WF3zj\n",
       "pCTG4kf7H7bFaVIWLh852pLk6WRXzO1DC/4PLVY9IYDsrotRecYhvcW/CfZmjuD+g9CH1+OkgHKj\n",
       "FHJkDM9QGsQ2TqPcTrTKFckS9HWYAIS1uSbCfcZVgyC7G0m+wUTDE7HmB1Qv4KIcELrLMOqh347S\n",
       "RmXp6ISMdJoDDycIONbV3+mQE1CTgsfh2TfX7IB+7kYNRQF8P2liPje9r58mSHRGviloTrTixNFl\n",
       "qkb0ZxLHntTRGefHOfj2yfXTMeEw+d088gedv1IcLzf/SuirVNkW5E/0TPx1cO1QU4pbOEc4EZpJ\n",
       "TpsACOSsFRIWYEJqGPU/713U2jOmr3XK4Fa6KIahBzLsXI3Wz4F3Dd+OfU+6wHfYlFgaj+4jnVu+\n",
       "ukBdMTtgIjUvNAraT8RbJcKOL6vwOSFoOf6mKNn5hv13c/iS7dWLYh9th5FpWwBTvVTx0PquB3Nl\n",
       "7+34vIn3X2NpdrgHEGWk362+thg2z0K4X40aGBFHoc2JL3TeIIQ5nOFFhH2j0c0rNe66QHE5sFl4\n",
       "BAYzKIBNvF/O2j1decdBxdpQnuMeBdQQsgQ8N+1Ka124g2EU2ZaTnKTNtsBT6OK/lvEjPhetbRDm\n",
       "9Z8GxhAy/AOyI2WPwne5KwBP+Bx07V+UJx34eUnstto/tsjk2T4MdkNQ4s0Dg+V5fZDUnXuDNrgx\n",
       "1cYs54M/fHlZHiIkcSHIAWlI5xjzz58MphIyLc2lE9telPUQsLQh3KD0PFfNRg/TzuHs4kN3w1MG\n",
       "aReRC5yTzZhSbpR5RLYTIFqTD/Hm/cP+QBj8ibSD4Rlm9GgkkK3TJKvIIRkeNVNzwADZA06bo+i1\n",
       "2gl10xpEuSRmfGkCcGxGRhyB01cEFR2YZT2cW23AZ6me3/dbqZTzr74HfhiyuHv/ThPtde7AvZ6C\n",
       "kEVgtROKGrAZ9PnPZjQFRgAjuXDYQ7dZB8CmP/cqXvsTJF8Cy+rQXdONcugzu2FenKXrPXfPsH+x\n",
       "Bx8FoykBO5YOyltPlv4rz94ym4Ule6AA/BkcvLfIVh/V3oblcPO/uQlAbWrxoAuGBSasEbOxK+SU\n",
       "2KWTG1wDKbQBeNgRwx25YJj/oHNfeZluUqkgeLRMbMW8cvtFCBLHsR9V68pfyhGOvnJ+f/zV3eap\n",
       "yepiWusAAAUxQZ5ialPC/wE29vAZHrbACxPFnOvFF8z41EnVy9j448Kcxibt+2UrzNJwg/bf0gYJ\n",
       "9IPVcJXdvAm535CitBuXMhesTB7YC+siZfQYErgTD1aQWcXOKR2iHSccZu3Q24yVsF1FzfXkZ+QB\n",
       "QAr9O2ka0JmDyD0jtQSD6RzqlbJrNLNZDg3ye5Mwp+yYGln7yy1PDroY4/re9Y7v7ORN6aNi2HA0\n",
       "ZYZCo1B5o/au7wtcDEcdZ1Vsr8DDRD2V6RBR9Pm1nslJt+2c4Swyel59yxh3q+V1JWXPJw/x9PKL\n",
       "c4TW/jiD4BIIQNAF21oGzI1yFVUu1xyZ3XWetAh4EdDhnKrwIArMYx2aSY4Pr5ZCrG2p7OtKeIea\n",
       "1rN2Ms1D0Udj02/5XZd4frHUWnj2zQV5XIVqeHgAsRZpOyvhCc4cvcF8R2g9AOT5d2JNu7fYwiYa\n",
       "+/BgJ9N0qK8vbTb3CEKQDNNCJcuIXykhy8SPacbj6ba5furqot1ec0WdLIjHf8Cgx08gYks/1rR6\n",
       "4hoEe0eAXlLJBi//r5OIHxkxbhE1NfWMk5uPQzr7ApzX/aWXuPOrww0KZ1Af0311dNnbhhB7ScwM\n",
       "5B371tkG4fk/lY6gdMSY94bgk4l1F0Xqn6ZFXU1wN9f7rP8Xu4+TvtYZWBwmhwQ9IHbBaRyBSkKe\n",
       "PbH6pfzMxM56DTv3aa4gxEXKJ7TrdFZL+N2AgbZtnKqCMFwZqAWyFJ3HqG7RMeeDsG1N5dKgSEmE\n",
       "8WRktAl0wTJD0RMzua9aGQ6JzpsBBlcqogfMPV6Bq/pMg031oRRXCQIhRo1WHoQVGWf33D5Fzbit\n",
       "vcAZs1Zu5p6r5Xp7bsGEQGfqN7AfHQvIWNx+Q0bTW5Z3tUnaoppdSRqqv8viuDsY8B7QLPhIl0vc\n",
       "fRp/ktOs/2DEOXOVu7ZoKs/YPYvByg8SjwNAWFiyZjsPYfqNZCwjL1l7D0gV8whZ3+S6guvSCbt6\n",
       "nMK6c4mmgj6g3quBxdZcMhfg+FxPzyI9BBlBILGgCEamw+e1Jv+7nHR2KTZX6pWcY13oq3c7KAov\n",
       "+PjPzCTFUTwTs3UIlUkMkyBRimU92v3TMKIcaKG5yate/KwjL49P+3Pi/HZxRqPcBFkNE7Ox5d38\n",
       "KEKrgzsmObwWt8cAVaSy4kMikJ2pa98x4FpvCH8f87rsSEtAmAd0+r1eDd3sgB6/2zI6cyCdodQe\n",
       "KHoXEW49udUclsH55SAGO2sib4xfHWSHqCmLmLssvqSy7sVVxrftQpOrKXoCQMHLToi2p4Se7Ml4\n",
       "KcR/FDbNCQLymqoF04ltYSw/gQasyKNnh2CmpoTYp58I87lfqEQhf73qsMnD/w9QgY1th2JsNmgy\n",
       "H/Z71pP56Mbf+0QR4d6UHnxQ4wjMeYi8DtopAJ+pCh4XJt6OoARj7cTpNJ00C1SjUm43Whi3jd03\n",
       "gNQq8JZXfu2MFeUIourpMV8yH5fqCZ64mhaiiGLJrPop0bOOfgFuAl4Hyzv2qPBxtF4al5Mpc/Ex\n",
       "jqUkOLndbt5K1R15dxn4/SiF87KJI3/s1HDJbE0t5kQAX4o+eCpFN1iXs8QNZZziZURiPwHPP5ko\n",
       "CkChKHJIgemblIket9LbVfAPRHmRUiFwa8PgOliPq/bPI04wYFKCqgrb0JwZlB+B3MyKG8Wix412\n",
       "lQH/1iaWAgs5OP5NYk4MYg2NocWmTY3GuyCePyfDFmkIJb2jTpzFdkQS/DYyJWuQfpunqcg2NCqu\n",
       "vX8P4sLP8OfDKjLi3kwlLyyOFhMlIiNbwP6AAAAEswGeg2pCvwIK0TkfTosDHt9Qft8isoG9hAAi\n",
       "gUXujZiHpkQAWxLLzvK+XD3ENMQxed+IsF3gUsl5giSIswceEubBn8NXhI2XnJmSv7fDFR2vQ/ub\n",
       "Gs9CjUY3cGK8JMC4XwXtK3sg0M6O1j03VizJzsqTBiQ+rD59RgJ3BBLYjvSiO/xiKzpos3CEfYe+\n",
       "mhZLGv45p1yDUYTVsdedxuSfLTWYDwXWNYk5GlUMuBDCNtCTSY93+Hml5/D3csAaH19T5howG9nX\n",
       "U8zMsWVmc42EidNlW66ywVSG5+pb1zVStm8h0k7oetDua3AaacY0iVUHWzUiEtiKMMnS+Kp7+105\n",
       "NljNV6EshfUu5A7VP3/1oHUv8wtG1I77gRTac7sM1SL6BZ0GykaJkZgVlYpvDKUKgP0mmdaX5o9G\n",
       "vRx03tYI526EMiKBjsEHtse0XGMM5nrEhg3Ql8a1dPkIGSpbe9RTMPvqgZrDTpCbh+xrTTF9cRzG\n",
       "k4tFAdtc2kDFywD/XNk4lTF818jzz+3QW+j4FnPWG+ro6DBPZFuYVvPIL5OuRkWau2ev2nrAw/OI\n",
       "xuwkSOnpexT0PC5LbOQ2Gw+02W2f7/gLODBYgLzclpbdeQiFxDxZzfJuLcNAPtTpw+HwP7sIzCoA\n",
       "vIryiWCeXrLIPz5wTSBxaK7sA9wBIAVmfQ3SpOIf3SoPCa9AmUd52JaQmX/zkj17cey+Lnw0Jgf3\n",
       "ICF2+wSWROph18P8/7dL2hr7dGjUeZAOTWsodSsSa7vjunLJUtb3uwd1nGjq27FyFY2S3MW5aK1l\n",
       "CawewZz46WiBs5wpDum4oEENcf91eje8bYAlxX39ly8w+c7225y6yjrOqY1o3Lla+Lsbd7MjybfS\n",
       "6zn+rhqLTTxxcYei1EQLJkD7yYLm2MQ1gVz6fUeMvq7kgOiYLfAjO6+1SDopXb1iO5gJS4ux/5Er\n",
       "dq13HTlpop9wyYH2lyBTbkxdibZUaEnfXQ6PfP/0U1mWzh0+W/34s8Xlk+a0gZbTr/h17yeD2McC\n",
       "2TGiaTqWymT93bS4b/xCPS83rKjBSIzSbpPd9l7rjzEHYOQ09NaTOsWlhYIWjdh9gQ9IHWA5yBLv\n",
       "Cf5hShBy6W+4OA0glgvUcA6KbmAeRBO/RTrmKudpw4kQYM0esI8fsCZd5XmIZ+6/vfjGgientcGK\n",
       "YTU1Cfb0MZFBtcnQH13xVV7TAPVINzprkSxteU9eqoQUB8BC4s6N3bgw4NuhdGALc0mbPsNacxrE\n",
       "Dx5trm917Jew6qdLuUqrW72/tjKDHwDYSKr3ItyXLhE4WRmCL3vBCWs2zQWatDR3KE6l2E19c9Rq\n",
       "F9nc6U8dbIxRRgXyw9UPj8aXZdn1PLfcVTWoozzoBe4JbadKi+1RwQ3jxC6b3tVdttfDl73RULAv\n",
       "JkYbRVNzZ/ADvwUNahswWJDKJPfOP6ODWlUm3N12f9UWCgC+7zcyXnwYLGG5f16CU34D/B9IjS9V\n",
       "ELLmGrmLnLXTe5YSry8kaL+BdU10iUXgVoKUz+GcB5qZdqS8y0mzzHxKegEUBx8ghHPl2OaURgXF\n",
       "SwJWfIy/gasPDoiwMVOsyJKkX1T/o2E9nLk3WbdCB7cP05t1eQAADxZBmoVJqEFomUwIf//+qZYA\n",
       "oNzadE+iH5ttvphKAHG9MRdZJU29P5K7EdNAihM0Rvy2fkIuaQ46mikjGITZvAKa1FAmFjVkYqQ2\n",
       "8OGCu8Uykbf7izc4HyFMrrFDIllQqUda2DzPoLUtnDdc/vr9J6Ca/vBpf6jNHl77IetrvUT70KZ4\n",
       "DpI9+m947ZyUaGmYuXQM9tp/Q1KFmUSQbeW/EHc5C98EX8+B/CAxWRaPO4/gCCc/M6QL5K5aD2T8\n",
       "qRaMDEp4QyMKZkOq83Z1yxhJ2U07KlhE/OlCBC/sIT5OkG2nx0jQpCcsk75yQp8elRfCccxd2kAR\n",
       "RHfCbJrWrtZIeJ7Lxfco2gHg5d1mIMJ0PY8AR67/15vcFPsae/gmgsMa8zcFNLWNV/I9th9/Ixvz\n",
       "wGdq7yNre98lnR4AdmtEjzR3aXyH6NoNos/MPOUIXNTz3SMdI5hWuTHtmiHNMR/m9J3qQ9wCB6AK\n",
       "ADvCKDtES/Syeh3MnKO+L4PZVTwgoyUJ6NbkYo9PzVvHvUdkm6lRlNcfRk4wWIiNacbmYPci181a\n",
       "l5ER7YD1bK+kuA4PMT7dzPffrF/xVY9g3L/i9rHRlx+qo+3ZSsfiMmTeJvbC5zk22JKd0m6ZibMT\n",
       "ZVZYf/uVtci6+NNkH9ir67S7u9lOrqfEfUSxIqeaju+fifp2f5LlCgHS4gdCsIO6Dov2PNkgIcm5\n",
       "5JURo2vhRbSdp+32LVVmGeu1lIamW5kVIFg+ISqZhlC3hTI8lRFCalOFf4f2VTWjWCj8R0Q9odjR\n",
       "sgfmplffuWyOEd3pvOlWZLGArwpdRJ18+uxzuFHOtom/+4MFk1NIrOthQQAGcm6boc/DRl6ALE3d\n",
       "vgtIcDdiHj1BOLfFtTsaC7Wvw8JzLxA+E/jwMWbaxM/odCZBjH/a93n4qboJh7tCRywHWIujxCnA\n",
       "FLj6/OsIq15fRPiVvARPtdGJoEEwIp8myNhu7wseERbdu5R+S0x8L4XvU5TH7ol/H5En+MZ5/Ayi\n",
       "lnvGP2Pyk9Y7Hbkz9+TD8b8mMs0FsteMsx4ajso9gXRZ5P4Vbfwh3oNZVn40dan3z4tagVi9WY2k\n",
       "IlvucvbNCqPhTFD01aLU0tRnVEK9BdNiv3oBKjmj4/XBzHUAAP+Au/T9Z79JPJFJ89wMH10cVkNK\n",
       "yaQJS1vEmYr9ISVcIKUpLC/Tb3yHotbNy1C8EiDoRANEQytPXSOX7QIHk8DmYNGYKc3tWxxTgUR9\n",
       "kEMAFFBuDbnqAMTTKzh7uKwaXMGOqEa/eZyy/93rDhWmeqp6NCvL4dKS51KBEi4yTQnfT9ctNESL\n",
       "Pq3Yam3wPir8dLKRxeRSj3LbW/H8D/I8f0Rvn5+WQHlX/eX3+NbTKN+YVI7z6pcOmifa268vpIYl\n",
       "3zwqDxRiD50HLlJh9QxhCeM/k1w9qT2hskVAvzx1YBuyo7i1Wxn9lys5Y4YUo4Lcc+Zg6d09SPFB\n",
       "WVpWaTnZQBWcRYs/ikcyK7fIVMdwbXGbanD6RXz2v3Cxukny4tRB2OVdY7Jox6a4qEHW/4LeMIxB\n",
       "ExQ3TlwoWCNgHudswv9E8cRF4xRfeyJL5e6+puupXE2s2bdCIZ0I3dJOV+6iyYlNagB//kGR+kBd\n",
       "xknXZgfD5fTJes+13lL4JJF/euGxf+vxI/QT7C1Fkk4eoejjPLPzHsYr7sFUHNOUEu3WNAaauM6S\n",
       "hJvUyrMUDyiGuSZZBuAOx3kFBaOJfzbVSNvAQZUtliRzPEstXzrbgVK/etp2L2hI2oixiYlmHPsi\n",
       "LkqJis/dFovTMjgPVIgdndNdLyDXOP0mwm5ycYobZYAZyEQuWJsFV/VeNr9mJXs+PLPPWv/g+nu9\n",
       "DvCmZmgjKI0tpFFEjODUqB9PRS4j33TVBqce24wkylbpgyjf/5Q2eUH+PZNS0FpyuVgtyECj31bw\n",
       "MoKM01wlKIo34gpedw62rwluneaEVICySOaRC3DzphhDL92Q6i+pQMwz3Hwnm4hCLZMku33+N9LG\n",
       "RHVc4SkH0KGNEubcDVJE7v6kykJJ0jQiV4IUdlmSAghkX6FUk0vBmUzQr85PUE6Fxbfh4TMXNtQb\n",
       "T+aGzWUol22BYA+qWS+6/plUCh53vBPQ4VssJPpMgJCs/fSDiIjtNwyzjwAEkI8Mq5UB+1KhVBon\n",
       "myLtSwZlBu1O6zH1VkV4m/s1Hbt2kFSzWRm1sx18Exmhq/I396Uq0M3b7E6VAiHjVdyGeHLByQOy\n",
       "jV8G6jRgPu1LWTBp3PYgZs7oCB68zsubbTd40r8P28oGqWm2n49VUdB36CtXOpoXcoZTWchReLra\n",
       "BZ/7GM4Yc9bJZp8JwZwgXGCSLif9CsXdzoyvWAoc8o9g0WxML2ypqogR0ZZ+5FEEsyXTaryAzghK\n",
       "k/2PA9mTEA7sSVNfEtN1an322pE4Akh7aiuuA6LoJ+lWMeXoGl8lZeznE9GKeUcHUkhHHJU9OiZw\n",
       "Aq2CcvYPMRtHLEuBY5TEV4Dg0moWMoXz3k+cRnYrdD090Q4uoNGihqfTPSc4zKhdpmnkgsbamhhf\n",
       "I+VwL3JIgXD01+3MEe1uypNgJsMhybSV3RGs2pbdIPJ1d0WCinQ1ikXyTF+RSPztoaby6/OgnkEh\n",
       "podQhY3V/inrp7Xw58L5AK3luGijfL5nXGylrkN1Easg7riNI8wT2GeHMcXiicyPk7M265ke2RMQ\n",
       "VgzSMioV/Qqiim0tyWreg5Ex3V+fhLNGsHBPf9g4tPU7KGjhsoJioZ0Fus1tfxwcu8kNAS6PQvv/\n",
       "JSuu15jcp3mto90yQHERlWHKJONyvnNV03q777vzwzjmyKTZh6WA7nDO3fuFsrdwisDlZcyiH2rs\n",
       "dp2oaGzJkRnDxwbvNaJMHf7I7IY1Jf1uiM4iS9oYRCXLjWPEH0MAD0Bx/rUOGPnEOqlNhK3EAjBG\n",
       "rz8dLp3wZrH8MZBwbVf65KeZ6MBHb6SZoJwVf1+Oyy4A7hDPiXWeTMHPOCnRwS7tctWjyAfhgcfS\n",
       "Ge0yvcBfVCUU3dT3EdDDzy5wnKFWkhPyx7JVUe1LSuj1H4O4N26/AU2TKFfI3XNY5ZQRIO4i5AIJ\n",
       "5B8distN7fVtMkzqX3KenDFYoXfWJXD9B5/aqQ+ZJ8TD4ruE1OfpO0gBMeeEzmN2Wq+Urqkikn8T\n",
       "UKERv+QcOfq2V9aFdsf8ZtBwv8PI2pxJN0w0Qzy0DYuJfjj0TJP1Gh1uG46mWbMDQIBDCqHJiE+3\n",
       "uLs63kBb4MeJVpy8a6cHqNA8HRksAnH3J6eGMlXVUHOaP4I/6ZNsdlmepQ3UxJKPu23DkECLg54X\n",
       "ArPBPJxJvhp9akzv1trJxGqwF/mIzNCX+BlnqunKcbg6qRTwQOvHUxYSi0y+t3BRzWcoKggl4k4T\n",
       "YhhEK7aJJDta1dnew0mvSJjvLi/Am11HY2CJUpwskHccYpq/ewEcH3lqj74ypDBGoTk8QJX0ae7V\n",
       "L+S1lYzwn6s76cVMYmDgDqEF7gnxrtuJqSn30l4TpFLzr/VKFKx0UJqxQhaJx1udkGhrX/FywcMS\n",
       "zEwuDN5HkcAzoqN43xvqW9E7Hw/47iTat2v8V3ssjR+c8S4HwpCjYxbx4zSn+VSDo9z0AGU+l6rV\n",
       "jIU58iaA7UNsPSS/Or+zVM4eJ8BPXyPECVaUzf0kHAtVjGwAqDGS5mXzFa+DaQ4P3rPFkyiC01bN\n",
       "Szc2jtuFlZ6zco5W7/VFRNwZHwP768XDXNoJMGSP0dvPyH1iIRwLx1J/0+yKgGvPH6I0Lau8WTX3\n",
       "hWbFEcvb4ltOvdipWG4p11jzk4Y0h4Fe8dmPKE7mvptS1pBwO4UdGJ6Xo33zOoKdbtyNMVtqT+wt\n",
       "olw3nnKVi/52B0MUctpouo19WsS+xcmKIAUS4KSnAJ2cUO919w47TDu47QAbQHCKh2iZ8/odIU1Y\n",
       "c2yvq92eF8SFdEjqTUc3kR6hU+gwvAEJR9hu+++bpEQCAgh2cTp9KMugVaoQkjP3WA+iMSUMbBGh\n",
       "lhK8D4c5u7S7UsTnLOsVxWpLN/HlyFLClrkv8ewfbWRE0Y2P8snDOPv2XrTePmzlUdkt82gZ6LpB\n",
       "w8aDgdhMuBoEjSnQG9xRqC/aTexX0PzpPkprCOHQqooxvt0crdYzA1mkdbAO9yjZNWV8Ggbvm9c1\n",
       "5FOV+R8Q2svICiwOPx4qN2AUbi3oLRrLhKPoAhzy3JwAJlbqyaLwen3IuYARdzDPCtY/Qla9wSXw\n",
       "GoYasNoDJ588hmxv4P3OkVdOz6n3G3K4vBWAu/tq3nWfZF3fI0c+X2gJan6brLqCfgFLAHRecf9r\n",
       "TVZfEAsavfXEQfxWApgR+5Rx5xXBtv+BCrzr0Nnr6zeZ0gQ91Ov5VTUAuj3IBsa9qaGTEP51wm/L\n",
       "NsSJeTag8qVXhIwGezCR/MZe/X4NjX6fmLNieqxLF3ZkAqqG60eCCTbYB1MB4Vc08KyuJ0tKw76u\n",
       "aeOVrWlXm184KOwo7Svox3W4cowbdgIVHvDcebkyWHs+Atf9hKn3JXjDklfn9MYnBvVG2ZiRbjBg\n",
       "gvpdcuWdAJ9vVnqaVGIVS7qK7ne4K/KR3hYfZpMHaPx8C4aVXnXsEhVRWYCujdotaric6Xd9tkBh\n",
       "scX7rXv3TOPzkmDrhw+giKef3GAb/km/tvxKtpcVxIYl40b1oWA6rSMWpOCgp+D1do1Ux2Dsf+JC\n",
       "BjaPWr7oL6ryan+gcSeSQUXvuHmfjMJ9VcUIRI7T+vgG1YaAh/4EY1u9bPLoXL2C7bIIIxMGs3dn\n",
       "Y25yMAvA9fM+bKp6oSUt8eYs1LUj0cRhl4Yj2Sq/2407tPtmygdOwcasam+kG8IQ72Lu2ALthfIH\n",
       "8RCDPMizkiKHQQBbF86jZhs87+O4QcpjNOaX2wQjPOLxzRTjo1NT5Z0FDrbk+VQqKOJ5+1Yh5twV\n",
       "sHz5Fq+pdHoYWjUZSxpwpcONM5+z0+m9SH6Np1Gfwu6tcQU4BvdrfwE3+RB1I/jjJ8EOB09Rv+b/\n",
       "uiUAidjEberpk2oP0JrDjXTXplO7NP2bYqrhuHs0FZz8qTYMSanz50/XdeYSq9Er8xONLQ1UgBeA\n",
       "a2PBQsE8FxUPJJjWYFDN7HhCD4Xs13LG96OY01nQvHaoSqqhrt41cKlffUBTiytr8vOTm7oGo0V9\n",
       "7t142aPfDCgcl6hGtNrXNvrvsGv4ihhBfy+RAAAOwkGaqUnhClJlMCH//qmWAKbnf/wleU1q4e/V\n",
       "pjSMhdXw0oFgi5U94QjmWPFOu7hjQuMtwEY8L7HHOnDfuvMwueX77Fk8Y+FxXtK+moSAP4QerwVL\n",
       "XWvAGurZf/j+V5R2QBYB0MyNGERmlR+pJMAU5aqm4M0UbOAbdfFTMsPR27w+wocMGq7bSiAFc7eR\n",
       "nEY6dX4iwvwAbpQOaMHdsnLuTjrgtsx6goHCTNeRYI3y35pDjyeXeHfMnPlK01QXQz4M7bkIn92u\n",
       "mnd6PbRn9xDPjxB58KvIfnEqxKPKMt/GCcf1N4DZsMHm7SBHAcUilWAOWHAdL5emYQHyJk1s4fR/\n",
       "ryzIjEPsAwaNI1Mz7FC5V+BohrmvJEk/ZYk1n6rJ8aCUxN2NxPk5SSbZoRNzFgKofYX8V8DuNkyc\n",
       "fG248TG/AD+07vImgNW2RlwSXPJM2ToHKfuNnnxLMH/leJyzSyCrebgjq8S7e9np9adeM6Es6cFe\n",
       "zWImvdo8C1rV4TLRLoVLAT79VZuNE0Ou/elAm5DvT9SVDkM0iOgTcZa96/kc9MFlc0ncXOg8h+kK\n",
       "GhJB/ZBBemHjVwm5XjSF/G6zj/3f8A7okBZlPhCv41yumugtnypfxXNSz6orUsLaPp6CgJh4Q252\n",
       "EJiyMOsS/+QVQZZyzYfjSsySEy1NgFF6vTlkzOqg2u+dyoVKd+5g3fY++Taqq9ZPCCAuiRwnqIOJ\n",
       "Fdt/+svsRQzC87QjZccYAuDZeJ/9kLZ/UlxIeiu/Ts0PQVGYX0zd/0BbOMlr6AJU8CltWj6qpdeI\n",
       "FQk+hNJYtm7PC0Am1MYr5EQuy/dsz8sMG6DBHwe1L/jo9NH0GS8ZayL3CgeVREwd01t1TInLu5uA\n",
       "Wcdbr0c1lRxVS9pF5YOPsKYvgzR05cjxwBvHxdreIO6Eg+CTg4krFdD9q294QFWkNrHh42oWAFkG\n",
       "CzS1pmfwIdrDKy9UNq8a7Cl7IKvSUxV0qlXbn7ecW90jt/71B37XhgqpRIHA2Dd7uDz6qPr5rBYr\n",
       "5kPha3VvZTYqmMbsb8X+8NYpCI+hpnft572wMzBNJO+INKiTcTGcQzZ/lyeDwzirTzPXWWCB9YIM\n",
       "pS6W7UyHHSuASf7F7aNY+hNc3CCbsEKgCBb05jOGUXwtcDuV3ygAA1+D8bj/T2LySIpDe6muqkzR\n",
       "IHCea13BKEWN5qNCgI2pKa2GaxUTFK7giOL/KOtO6Pxn2xU9vijtcaO0n97YJrTqRcq3GfusQwSu\n",
       "7DdtLtw8DKqUTwXHZsoOr/uljmCKL7P1Hg71XnGB58UB5WSrQ+rfd2OZ0aTW29hmxI7Kjh1B1CgI\n",
       "8h5NOMmh2DVnyxOcagmceBudjP05QEGj/SH1yd2oZ7WzckJMTUIYfbcGN6rYX2ivjPpQjBLFWvLN\n",
       "OQU1bJK4T0mD5tKiAt8Vlrvu2C8tfeyoAEbH5Bcv009AkDaIYGVX122UQswSla2SA2hIBGyeCVyc\n",
       "AzLCovNUDqb06/erz+2vxEAUPwqE+HXLt32+kOvFPtGt0H+k10sl1AUlKsN5z4FVDYrGHV9TPbNi\n",
       "r+TXWT58czuh40xByo7KTsQ5i9c+5f4ek7qGUf0gGz5Qj8aiVFwWKQ2GXAgQ+Hm1Ha1adnFwyRqa\n",
       "NSalab7u2WcDEHo9Xk9XXzmSwSQi0VMFU87QtTKOD4DYz62IZSzEyCcwEA1odmqqco2daQ14pj5F\n",
       "/lzlNDJ5iTLTWTYpwhK+l5zVsUwju0Od9VQJhK4OyNrRIy7TDFCbe8GLvixbrBLeWA3izASh0FYW\n",
       "Li3vaedqLcj4e3Ym9b2Hxzz89ydPqmSTtK+00coUdm3ZtbBwTE8cRLdIKrbs+SbSnmkQbKDGUJm2\n",
       "mQhYeoTI8eILtmd9AgNX9SUNAYT++A5bXqQk2DljfVvHSqV47bNEO05mJSNmStow0uJznpTKlNmT\n",
       "20D663K6PM3rwYyQhu4qjMPZtAB8ALRLznyhMS+pXPs7sy8pyeEAsDchhK5MznRvvbNZ5n/M4eaO\n",
       "BBG0F6W7l0APJbRTqaYxIbgbBgooxFBVKyvsa0U/e8CRM+TOXVYt5aVuE0jjmA/146AV9ztW+446\n",
       "+yQ2gMm30sfsDkulWIIUPcOT0iMX8xaMbf6wWcmASQe6n4vSFz6eevO8DgRbsHEcDO28gKaPu4Pk\n",
       "I0ieSOnlJplbLs8Q07N0XgVazoyC4C+bo18JgyS3R2Rea/DbPwN7QrQXwpHX1lavr/BlcbYD1C1a\n",
       "p5JlOxJPjk7rLbaP3FlwYbjj/OqO9bRQgoUiMifiGNYrvDxZDj32Bph1JSusNF3pZQH99+GjqwuU\n",
       "BcuuamviAwJfEe7Vjz/eO1etiQDLuaXGvzAykRZnZ+uUoLIwKyuh4QdonQIRRiaLMfZSSCNKZtqx\n",
       "2pM/oL8NEKqNQDePMXLVg8w2O0Rlkx9g8inDtvolDUHSL69c3gnlRSmjRTFfL65Uap7wUeBr6Y9i\n",
       "DAo8xoVd44xncbr1fh34G1F8Ykzg8TFVRnP7o1Sw7dNliJiWzbZXQJZoiVnryPMxV2DaM1ZICAxe\n",
       "xAiqE7hbfdDNXyaatYNuTB+G4WfZhc482PS7m6nq0bRwtAekaJWuHGwdYhOTR0Ioh1XTw26IyN4y\n",
       "nXX1nu4CQp007cOFSz22p0LP/82bkAJZhEXbZjpKRxNixandQIr8SqMc9vW8V/uxlqIkisU4goPd\n",
       "wE0uPK5Ffv06CowNQbkbUsaJHS2TyWsD00Q8BOtqIzo4J/q6CXjjGbLKgJAuap94ikJQ8oM9yFKe\n",
       "JDj8sRZWfrkjdIpcdaQwTl2ImZQhFgCn5wLSf6PVfSgaGWdsbwi6Eongt4trLGzCVAqPvGlLHEr0\n",
       "TmbEJ9rNW+Y6Bj80lFV9avBckuBzmpaJEcoUx6kT+bJih/DIcQ8JDvgoY2AjvZgnTCmV7r4c6kEh\n",
       "8Qil3F//VVGAMbi9Fy/Zg8VQ29nz9/KujqOufHY+F0udCrhXWozV6Mc6/DJx8zYcijHP4Shzl5LS\n",
       "3PO8L5MaSdxLVjwvVoQvVAHTs9bV8wieLxfy4hW8sXvK6u04/rhuY35ISwjlZHB6ZVx5rZlETD7P\n",
       "fNCYzCrtohXF555oZru5eN3gwIGZzh7Bm8Re/rBrHRHn5vatxNSbgSjG8hUJBT+1QpiACoC8crJ0\n",
       "0It+aDQW3zAw4PnaM0W+FZubhy78c3aUBHBV2I7FG/n72M2qor/6YXeumVyiTPeSMiHo5iJOMgrc\n",
       "hRZbtPDv74w2mtn8gdkW7EOTectba+uVoLUgrB+3/VwCh2Oq2WPUnfH+m2AgE9NiUnHjgYKo2FQl\n",
       "7/tEGwldYAGSCDLiIvCUAEH83XcBKBSMC4F9heYiKLWyiRotfTjUPH8huE7K5bdtgmTBzFtRj18W\n",
       "oXipsKYyK8HMzphPcTTjm5cU1vIvSwplebEEf/+Y0VhdZX0OlrWt8ulDeotpaqYHg4gTdh9YwmdT\n",
       "NsXQY4FAt1xuvahxvdYEm9NXQYpSsD6dDvzFVaZoNF518fcR1mn3oIocu6l0X7vTsIQqdEx8e9Ir\n",
       "wmvW2ibfvtiiNFvr8ONMpLA5jWabf3y96k7ZNZ5kD4phQfoPfBZ3g3eEqeyxukSFwbU6WaqKAX16\n",
       "IMj9egLbSbA9L8sBEaUfHnVsWA7rVx39t6ka8I1Xsus/UQ/Lfmtl/Nzp7rmC0dlk1J0VC4NOHuiM\n",
       "Iu7ezVbiLHz8l5HdzTLeshL7KKh7O6UfNbP3cSpM/q69ZFp3ltixQR0VrnXH1zMJebEf6uAz2/vH\n",
       "S5tlnOAFc4iVEhKKsl22VU6NuHBxYjOsT7q21uZtSXXLgrooRkOPf4FCrUQxCcWmFMgjvzbrv0Ik\n",
       "SEFY/cddojiQXXlcT9xDt7hQkpTpa4m9BXxL1yKVSMnSs0lRgfcyumrHg54x9X37SepCL9zg0gsp\n",
       "4vjD8fAt2SPMy8QGJG37jJxaELJliw6kEKtF5FHq++uxTZmbXSzZDd1XuENkyq1XXkDGwMbuBRIy\n",
       "pTaUHkam3b/sSBuQt0Ns8DFqHbUHcqUICwix3l99jkYVZPW+hhQ1WFEIv27nmK0Y6ap5pWwVq+Ji\n",
       "bW5gbXGsCFkrUf/+Hp72EP51/u0HAtJREPV5ZAR8OkjGw1hlzD0YqduWImR7eF6lx0haz0g7k0qa\n",
       "QywUMR0k8KwOVznOeHsTyh9xjrwM3+CxhIYxs6S2z2tUWUEQjqvDyRVSE7uSbxWftM7P/wNjEjVW\n",
       "H1q7woGicPxlVkgwWPAuQmdvfero4WusaNiiLNrmxgNKnMJUdj+hbLjRDdXQKfccYAopp7epc+wf\n",
       "VypI1EVGqwUBSS0yJS+jOYNpWLKrfiZRd2OOl5Vbn59rgRY2KunBJi2EctdGDRBF7U7ri7DTZrG/\n",
       "yNF5S7RcYnPU0e10MtRvy3YXrX0z73PIUcV/KPiqMb+eqN2cT4qKmvyhSDS86nT5aJgAJWJukGt5\n",
       "/49Jqn2HPjPk20WXkw45uNkrIStWO3tOP88F1uA1LOnqS6lGsaNxJTh9g7+vDtHU5M87kEANNMyu\n",
       "rGRIn3pnlhqWlt2uH5dLs6g7U8N/RpB+sb4w/XmngqzLvGQuy/OzgIoK1b9LtVs5O514y5MKCrL3\n",
       "5ORfpCBCgxJZaNOXYOG86ykhafW4CWV7j2G0SJEo9Fuks2KECSDKsfa1sryTi18BFIafVE/tKiFU\n",
       "ZcgVM7FpN50FB4LWRruPGM6Kmlf2cleZ3CTEfpRJjL1F/Uf8JTVrSmFatKBl9rAhdRpd4haEQPFD\n",
       "yPxR8ARwwIfpwpU6xVa/XXccDX/F5/gYax7EewJsDZ2+wEgehQd+SyKM0HnJdd0N+U4eRvJ/+4dy\n",
       "zpGJUQ0bHGdy7Km3NY82A67j8QAxmwyD1v1mXHWpHhzXQZU3KMooH91zoUKgYUVF4n0SrkgrbbQI\n",
       "Hb10HD3P+Yosqq9PLE6YV7DnJt5FzwP9xA443WmaxqqC+X0ny6w8SV1DFFnIdqwSDc2BnIIParYz\n",
       "5BZdPOjl18RaSPI+k7gPovfW037MIArwNUx4Vfuyfj5RuRCy3TfI1nwe+rXeImkAAAZKQZ7HRTRM\n",
       "M/8A4DZ6fxQ4TuJkImFbKBTOLa31OoImkBHslhtE785kU6oAETx6rpjWc9WoeYE9YxA1C5j+ha+A\n",
       "8AOtZktP0WrCVAWJFqpFuVT0mQ8EkOPKPYZs2ew0A3MTooSUe71n0oCAB+R3uh3e8rVwPypQWE0Y\n",
       "nDEE7ZyxuzrLFWEDgYx1MR86/9dPf2PmyHMeJhGtnDHI2gajP7eR6MR4cXdMH3wk303/Qffs4Wqw\n",
       "aBNeqdgN4U2y9a0qL8UjFIzh4I1RhazJu2dQNJ7MFWzqzZRVojDV4zkRIq7pYJqlFi+sFB9vHoyX\n",
       "am8IBgA7Y6zr9SiB4N+TaXTWADc0+ZIy9vH0J4YI0uVk7Rp16esf3s7Bw0Li75Ddz4nWCcf+TVKq\n",
       "GnJXYHeeFl1gDZvl1Xuc1C7GGUL9kw61T+KanV+KGkTj8ggH6cH1iUpT18rfcze2OEClo89YI0Ic\n",
       "+Let2SRXXSZ0XjTixmKo0GMCHxtbU2zJkXveB2U5JEFw1D2RHu4K8zSLn0jG5WMpUDkNoSZd7zPM\n",
       "LN0k/VYE1fULqKqNjYHTeBbb35WtLR4GJeSI4ZmszRC4qXA/0IIcGV/hg/Pur1G7s2SCfFBLyduc\n",
       "Pw9CCJbQqjARUkiZ8EhJ8mmNRc9P+HVsnIhk2MjCTYET0Z4cT+hzz1bQih6aFoOUx86jOZPIEW4a\n",
       "5RO4cRPsimcGANXQSi7DA0WLFmCMnrO6sbvwARARTtg38NCjDAToyQcXW+XM5mDHuR9hrcYbgE4M\n",
       "d3z6AxVWStP+OWcD9LILqMUkQYsILMjzbhSQ0ORM5ktysSwGXNTxG+Hq443AU+zt2zIBtGTnrcrl\n",
       "R4FGrfvIA9mcg0fSZTCl6UCwSDf1swf8itd5/H1oU7ETgOnrougLKvxwGa+304htJEyVFAsCEuOn\n",
       "TzTptkPG8LAJIGgkJatJiFoP+ye/Tv0Dj+Ul+T9zlD3B9Kwnrk1BJJVk421TdETYnNHjns20HNT+\n",
       "Mw2H4QQjdGL1u/uwsgdWozTKven2UvWST/I9zjqOQeasr9JosnL9YHc+siSCasIXajFI8kwh4MFm\n",
       "6bI/nhdkq/K3D3lnctvzMA1ahtXgrpbPJRTcqD2F9z6tLPvIRv3YZikFCzjOh2v0/yohNzMJAZQh\n",
       "5348uj34SoxzwfrJjJsN5vMjIKPa58eej8iLSHGrm6yqE/Noih7PJ7Yq6FnVjghVTvGkBQrjacle\n",
       "Murr22pq1tzlR9XmF+bFRl1jAffrKwtMWtmuEmeW6sX0QiLAXP3eaLmfhthh83hii7Pyhdypycy+\n",
       "4wm8kOWgoIsOmCzY5xjOEl+/+KxUtBpvOHlxFx/NJJLqTXlJouDblIwmKXZW5tYDXMcliW+2U5pq\n",
       "Dr1Hi7spP8jKwnFm8L6cdXqzfXlO8TYpvW0So7kXNTuVMPoUpE0bKye2K80qwMNOD54+TfiKkP6q\n",
       "3g5zBl2kggX+dz9EqTNl6/XmpLYqm6kgoSHE0AK38AX1y00nPxCORi1J0aeCX0BFSaqweg62N5mO\n",
       "VhU9Xn11P4jJ0VU7J9LTgqEkC6fvT4r3ptPVoi/4ECaF5QFfqL/B1jUFEstbcZ7VDdRMV1BstIz5\n",
       "R8W5OO03qXMfskqeXmPPhsqERRwzhsUmniKKaF+i0x3VMlARsFPJA37hLjzca30EpS/5qtpfieHW\n",
       "eXzc15kuGsnAr/Yjx+12Edik37M51Fz3fz7yTXn8C2NxAYqbzPKB2Nx3n5epl6rUEazu91h/bq68\n",
       "jyZL8/IamxZ8PVZlHgakHRLUPapVBsumCwNI4gmJM5UF13Ny3E7g/3+MI7oNWgcMIhPn6rtuPfot\n",
       "VbPZ2mp/gY0DrnNO5FkdDIbL30tNI+lpaNDwJ17YJ9nPZaU1wh4LVZdHCpkr8+Ggw2DY0PWgC3xW\n",
       "TN/QeDn4O8FiQ/RVEq/aa9IAcY9RLlZVbJ+JJ9OcBr9c2i/5tg9txK6PaS/Rp25ve88q3XqnAKtz\n",
       "lRN5x5ASabOcn7AhQxbtLE7eRXwpGXwA+bzB4DgAX2dR+PDCvsJoogy97Bew00cJJdezjQY8jVZ4\n",
       "VFRrL4kTzdtMnxsYJHYlK+a/vHY8UStg7j+FdX4CEObPtcvHL45oK8HoFHXHveKEqktjwZG+5NJE\n",
       "27MEG0sGTCMAAAP9AZ7mdEK/Aab+xA81Z3QAQ0d2NIC8n+Y+i91kvRbRjqzvlOuIO5+4NzWTg8xW\n",
       "IH2bXUm932FuxpadXhCfX+LWmvaLhRBQZLAn9V61aSYY/l9x4LyMWhRTesvl6Y0+/Jbik0YVv8wz\n",
       "tzdkLDhhr+pLs/94tG8YLvJ8pgHR1iwObEy1LwCB6Gm+iEGEQy+sSkwTK6VGxT5VCSeVdFTykEg3\n",
       "5P+7eOzWO/hVrjj6oPn5rsiD4f/iyx+ejgv1w2y7V8mLz+IiiN1opruCCnKncN3sAakMaEOcT72i\n",
       "TaQfVRDV8Xp5SeTNXfILHbnTpSbQCdW30nk5oSFjx+xOAJe6ej5nGAINHT4oGzb/om/j5Q6u683I\n",
       "MrL1/4xR8d8OwjERbSsHYH7N+4CRTmV3xQnJlkcPOaq1/4nO02t3xAexebG9iF6VULoq08u5hRpm\n",
       "/CrHYkHigcocsSnLpH9B7IgxMrAGVFCkVs4qo6jLMAja9nVqjgDB8gZ4oCL4n5KYWp8zhrkF0w9z\n",
       "6Od6QwtKte2jz1XRY391GH3C3JHn0H/uLS6FVsJkXp+WJe5qLxN0coPNV0NI3rb7dE927Gb5134I\n",
       "I4MX8C4shwvcoiuEamuYnW+hm+O2fuIOgZA3RDqfayWl0gI+JDgrZHeNn20YiFrPc7FuIl+upOG5\n",
       "xWJF9xDLPeI9/jTQmYthbQg8OM/VmRPdYyJA5l37Cm+IHcDUovQ+Nj4qbGXZEgeM0CWcykaocG73\n",
       "ID85edeEnL6v2IAnQUpoLQdK+B2MUBs8jUkf0WlUqFrDZy3MqFI87cCfWRphulyi6Y6o1WwTlNmu\n",
       "9lwu0gA8bKUar3+vEMqIADNXWxpBSCLqzsY60g/HgJy3Nbl8cZwb26pNh3RJMf6VAn9+/KKQVXcU\n",
       "dJEYl6K0YFXa4hjwUhAZ8Vvu14IIYZyehSCzAsWWUpxhBN/Ms+RvelA0XCq5gaTzqkeNwkzbMlJM\n",
       "uOFqkzkqUPwwik7pnHQRfWv0h7ry3QpNpHVq7QGpcKzGuPcxpEzvObzbwLoQL2g9zlV2s4UJLHhJ\n",
       "uNchcNSVdqkgf6pbdj++Xo1tP0TyTUmMJ1/zv8/Q0yfJAx1b8AywzPkoRLywqdq/o5zB7rTlL6Gs\n",
       "Ax+LvGiMAlQ2yPHnnpnO68CtROVgt0i3jo2q4UXAIHOOmRQkwcOw15HQtVnFh5WaJT6WceqJjzoX\n",
       "oMaqP43syb+Dx/F2PlQJzAaTebn6AC4zVWdxmGqVCIosZN0wP8pU9MRsMD044Qq5e4DgkXbbxl7d\n",
       "Q8yhvBd2jnjB6zrAp+3HWTpRjzjS7Y/cGDHMEC8/kdPegbTbBv5z/tyzIuijLY28CueTrWxUxtfp\n",
       "4+pmvjFVfAAAA7MBnuhqQr8Bp3TGbRT0haACKsyvhLuvrlG0Pd9fdg4u2UYGszII8+TgvnfMa00I\n",
       "tG6/vRW9aWyqQOGDN79T0T6iZI5hdgGvAjd6Unh8ffngzOh8k0Ik1JHzBn3SDo0jqfPwpSYyERxD\n",
       "dFOIdl5n2d1NW0G+E48LPwuXVhPEhhEkrKDkU16twypUjBKsoRz13cfLvzFa3BdHp0njBHmjrq/I\n",
       "enL5/3KZ1u8Yem9Dr3vLTmZ23LYJNHZdEC/2kmmRImhs1gmF8xHFjh9UlzVIX+l/uYEkqxYbbkfx\n",
       "si40Ost50Y6ApGI7mS7A195VWxWCOM4G/uf10Z8STgAVwcb35AZoJgVIlRNFuAG+JzNtQOnm5Bus\n",
       "YITSOyLdsBeouD5afuqhg+WDUDw9yyuV19HzDWhfESJUsBfWjt1EyNlet1hhJYMBSDnxeKkX7LT4\n",
       "sGEIZSsANn1pjco1/CiUngkrcNFVkEWIPzuqGWf9p9PVMGOGaPYDc9vQX1HPdjET4mr/dqZHLbxk\n",
       "A8yk+vdC/g+yZ0PMsa0Jaio+heMOgq3+Sk639H2G3BStpT2AOAQriBryfx5ZFuYuBbM/uLO9QNKz\n",
       "tUESQxs8mWruCWwzmmUFfBjhoUaqRVKLWTmkIPjI3uzDOpiDARAiuBIe0NYRJgBEPjvKyI4dHWD3\n",
       "8gPinQLe9K2wdDusCmRRu6vIhD8sN3inSk//ypuJ3VAPMNSS85hAzj3vLTzquNlicRdCB6CZXaft\n",
       "g+ssb1A9Aa5juBreK1duMsjNUC6Nxla2xOEw7d2LdlwzIQcgPRNdMzFApJHXZs3EepvLYXWMTmxr\n",
       "fB6rSnVeFU6sk8Y0UBhCDqVvykpYCnXfFP30iQliGTIhsbNmrrth1FZPaNttWIik7pDkmlYYpOTA\n",
       "YYhWrQqdyt4q6z3Lsv/WZgec9KsHTtu6+lqSLIuVuRQ04sNFW+4Ob4D1JjUGtuRtl6E0N4ZYsiAi\n",
       "9/hrZWNBH25eRe2SqQBT0UOT/rpnOI6dy3pAfEx+68314XJ+oZ/kyAzUckQvmoVVPsaY0/1CBvNr\n",
       "GkzGzZHDuBD8pG4phNYBidG6UynvyB0rltS7zQ13gX2MTxChhgDSpgvOQaA3Jo+9E/TazrrfM037\n",
       "aWNoFcBHW6JbZnS6zIbjonUMl4yhqmtNEeAF4617XITZiH1b2gUHeuKhe6TxLYQc2CM78hJ2UK2w\n",
       "ovFN9wKKqeqBzA9knKWeWA+zOyOoHKnxdXldpaLwE1snuLnwrSHtFWa4mHE9SAAAEGRBmu1JqEFo\n",
       "mUwIf//+qZYAsMJem1zvqmXlhcgCrS2xORohu54NZlv8v33MVAUsRyZ2Zd6LidjW7rDcMcmytQNo\n",
       "SpSXmDNgUlzzN9uynKP6GuwoCpCqAWOhe0rXqTO84FDdhuAmYHbK37Xo9En+aWzyKdLrqmzzD2u7\n",
       "1ozx6E5pkyjiSbmeo9Y54CJyQ2uKdJYOBy0IyugIMnszgmLTD4pgPT2s8Qy+snzFpqPWEO9L+irG\n",
       "IZqYo8X1Dy5ldrvhTV3Rlf4/1+Vg1RDLGhiUHSlWSosddVA1ZcE8h1+VfAuU+IMjd6I5aJqjByeK\n",
       "0YfbDA4ybqNe/UKX1hXUInmHiV3le7mVoaA+tRjFQTdjllh7cNMJgJW3GXjE2cJg8hYyaajeuAd4\n",
       "Q9s/kVupfZhLGySXoMCyA/92ovxcrMt3uGztwBvB0Bh551eN2+9ptfo1hkkFCZcO6iVh+qTuFeuR\n",
       "haUIF/D3YAdgAjWbodX6uoh44bp8L+ctTUxRknsETk+NppghjbSJTRgmubpc8A/5pe2m5HOw1aDd\n",
       "1LRWE9Czza3PeGF/Ftd3AxACUpIJFPfi4N47slGYRQcYMJcidmkMDJl0GMl78jJjJholjVdXs9y2\n",
       "YI6PLTGn4M1tysgqAfbkO2P6nynrW0ztYA2BuiGDYmBXctAuCd/pg+LIyIgGo5zjxElxK/eFAS5U\n",
       "I2yq+vxBjHqhxw8Hxe/MybywZMW7Cm0NDAkDinb8oT5HkD6Ib0L6ELW4QphfGJuDntjW2ANTlE26\n",
       "8cFmx2BE4amoA/BJXrhB57/k6y/eCULaphmJS211FRt+i52Z36Lly0pkJ+cbsBOSgzm93EX24V8o\n",
       "AABeS1pe5lGWuuhkVr9dgMDTiSj/MfYHawtGlQY/3rJdf8xK+paVEaXAMCJu3hj0+GNY7fp1vHV/\n",
       "+1wmFx9QQgkkaOsS0S+ZKoQOBbDu9PUIzcRKlcDLTs0VTJK2j6RSGiwb6tM//dgLGbQUmjQPwSs0\n",
       "rxP+751qdNpUQFX3UVG/I76HCx0HJH90YFt5OX3DWs1F/7V1KwQUQHZFB+RnOSJVctX0iWyzbCdl\n",
       "eQEXs89h9JnHT7H7pwpmtULtOHWqwvPloPcy+OK5II23AFi+Nt5E22yg8iBWynipuP2h+Y2Gfymu\n",
       "FfpbFx32n9QdsucNf81vsiuYBlwTyqDYm5uyCxESUMRi+i6mE84sOyviDe6DlOt62sI1x0WYdFvn\n",
       "Yokihel3jNPvPWTtuEh8SnDvzpCNahgpPGH1X9o7+Tb5totlu7glGpaODN45+lhO+l4XjCHpjZF0\n",
       "mgp9JXEPIzVwGKWHfG+00vK4TNK1gNOLsEycJ/N3OK9/g6EpEX2ma3vfy96k5Kan+9Tb0SMmCvG8\n",
       "T4sQYRKSt0qY7wKKxzb6ZZNGp2X5z1Er+YqGV6pC2nnRKtxElzK+iok61vwH2xKSN8oMnQgqwIWi\n",
       "0wvuypiQEikwdgwI39jfIuj+YvcUPS2GNvuCd40qevREK4mOxMS0P7zR2im8q5mLpGeGJ1DS4X+y\n",
       "vUZFSatRDcmJO/mRIomGt1VKmOdKwmkJHCwnm0izdIGK3dzTXAJ8dh+B8/Zml0KEaPszR0BzKe59\n",
       "iNJowqqVM8LseMJ7B8oaBc6OSpdsTotxmITMxq5FxSgNkFqVYpsYeLF0kHZKmZp63L9WGPLnsbCr\n",
       "PPdxI2wrDtBKSTwkMA+NamrM8JxjXQAWxcjEWH8GTluQ9m47QH0Mihf4arC4U3s8Y0qlyiQuXiJZ\n",
       "rmiBmo4HCtbNDboNd53B30jem5SUFAKmayQdQ+BW6+Oi5MBg9+R+iLm/2PjlQkK32Ta23WS1+w8s\n",
       "DOupDgR+HIrCnv9tRBGjRr+Gu2KNCNBmKd2sMJyxZEdOD5VU1taDfJizxDCacvvsFvblMeTAAjaP\n",
       "BFk5nR5LVszLreMhi1lX+D73xMc3OXTqGyZZOyQIcfCTg8ilZH20FX8/d/dbG0uOGtFi9GDMLQyX\n",
       "fxH1oNyDzDe6KT6D4Qe6lhMITdva6gKrGbEL11hRgEaf8dBeHFR7NgFb1W+w4RNOGtL+1plfWTPd\n",
       "sSsFssbcgrDAWw0cTbH9zw7ZdMlG7rqFxE8cdnRmOVLwYqRFCama2ou7YiiN3K0vxPPZhE4O0ifX\n",
       "U9nlCdCjrGcErPm0NnbBciRnmtFjn9Y1Rc3qoqcWV0CtQ2lo+5tRXLFvVjfD4Kne8gj2qXjSRDTf\n",
       "k3LOsfMeCXxrEkq+vSdtIvp8kK+l4mv/OMmQLfKVYkXwKZgm9JDfh0hGRaufBBsJzxYk15A8t2nA\n",
       "suHuIEQXymyzFOXVkopYTPy/2a7HCpUE0dewRJj4/OZf5Ul7rfxJcXfNJUwtGkMRQKlQ8ROTv34i\n",
       "sIVBnywfCF2HOpI0ZYEyxu4FJgziCn3JsVxlfqSkrb1BbwNs3Ydz6Lm28O9MmM6VaNZRxp4iNuHd\n",
       "IEWEIs3YiVAJ1SsxhpiA0IGSoDKHT3UN8Wv2rAGwJz0fz8RC/+Syd0Hz1ZRuE/5ZXyP+/SsikOfC\n",
       "9+wPWCDDiR1s8UGY6sJNmBveg0PtMkWZaMk52WfXy/X3DoDDVuVm2achTHVr1mDhiP1wqZt8aH+O\n",
       "IMNrXfYntK99agK/nhEfzelOzAYmohPfpmS6DejDj/8gb/SwyFwWB3sRcruhEXQCDspgPjjf3+IV\n",
       "0UwCSAPTWCt+rWVAuR8u0a/jzR5pcDbXsEBSPtHLTYCa+v72Sd6u9lpnLSWdin6w7Vv7v4m36Byc\n",
       "mQLm+wUk2NOmOhg4l4FL7kgogCxyagTVKHZvEJpwnb3sm+8YayQ4xrfI1In5PuAe/z7MDe2XksAq\n",
       "x8UaTyKRY/dXxqFmQwMpqAm7qLExSjPe4VR6Ra5l9dyQHc6Vx64vJYiJf1ozM7Drxmq1ing/p0Km\n",
       "fqDU3E2PlJrE/NJg1Jvl7WrmNrbxk5T/Jg5GdF7VShyeCmbAjEzTlvCWwx4YQa4R0T2aIQbjSw3O\n",
       "fBLsBOECg1/5PhW9PbGd89puLQA6S6zFRhYO2XJvvgcKmTInkFxA5CKvvQnw+VGfQtZUC5QppJMj\n",
       "mMu/nod7oYLTpVarmkYGqcNowdkXvX6fIpPnCRTqmlIYAObnfrA4cx4ruzFUF3vBPkmrhlGACKdQ\n",
       "A+vvIAvnFzpI4EdUPnxz0szh88gnWbaedmqfQqYrsW4cljlMIkzhZjyfRkTsT88je2Fpxv4AvyqK\n",
       "1VcBCYsYgvqusc5CKvopqST9O/9Ct91iUSuvdAFzR47F4NLOIjYh6MlwbVJA4PtDLLdKUqWkSMt2\n",
       "bR+9e7IIDncaTyvTdyWzrtZbU5DhQeonDT5QeE7a39VrSRlEd4/vHdr28XM6C7o9MSpA96+BIAXb\n",
       "kTwsu5G0eDOIV2gMMrpJFWZucNkA53pt9L56jhAeBgNuK6TXnhelyKtkkLoaY/igxbt1NfnltB6m\n",
       "tzmOWwdklIy5bwzo7mZOODSwul9hYdmLDXLVx9wW33agj7BIOQq7D7crz+3q3t1hb7LTSVXWj6Hi\n",
       "70bO91t2+NB+HRHBd9nk631BDwDdpEiW3sUxXvjOf0AQBwXe4w0NuSdiLZC+xsKScrcAnXnHvz1p\n",
       "HdMKbQ9TdWbcBqDt12vzczmdxwJJJBWUED5P3KAB9iWmptb74vrK3OG6x3aIAkg8qvVboh4V94/i\n",
       "5GpRnhisZj/WFssspihNU5JtAulUfws628+QeiqPxHDuhstxGzpHTMkKboOJaeaRPXPbLdl2QYTV\n",
       "ZPNYs3V8tpfAaE8gSpBlwZPAPDIW5gojho1FU23Jjjv1ETYtnegECwNHllLO3rnTrTFSFdoAqRKW\n",
       "LBbWXKoHHUWzHSjrFS+rNh+5Y833rYCeeUqlzUT3p3pfZski9PWKFcokiBWS8NcBpDbW3zWjTgX6\n",
       "4Q3wgQJN9GM70OlrHfZU05i4d/U9lbPTkot9fzkBEws0Ifg8g0e+93T9vV2LWmEWrJFkwlCn9j5G\n",
       "90o8Z65S7Fh66dNP4qzloaDjOaRkwLz0DwMG6d5FqzbIpOdgNoNZFKZV9/5XBbMjwMYGDfYi6MtM\n",
       "OPtVfhf3VoK7In4noV+/G7gZeFGZck3aTFtagKXSZZnTtVSjIULJvZjsmNviPZlxqbZdUsQ2sC65\n",
       "PzIEu7CJV3Xs7sjZkS10+QPqk/wb1myDG2oLfq2ONiWZHLOc7RI8aDDw1cjQihZ671tiF+PTyIBd\n",
       "3eT5bvmOZlk/0Dv8eLT/6jfy6DHpW1s3Fzq9kkPicc5Aph4HiZO+pvXksiy83LFDTwWUx8DOcAxX\n",
       "ckJU7HpuN+EHSalSRkN5pbY2vmUeXvpCGQPEeOe6sMcjrNMsl3Gw81xLzUxZ+1ChDLo3IF5xXgY7\n",
       "/Y16kcDHu06uCImE92DMBV55OV61BF9yVZFkS8bbrBXNoSab7qReE4HXCGQ6y44vU/l6TepQd93r\n",
       "cvjfypjCrNS2NgBp4JCsgE258myl3+qWVx5LXkWH8Nhg8fMFdJjXVnf+8oTjCCYcbPWqSvmaoVqb\n",
       "3fRjX5Lg+/G/3BVVcEQWC62uMkBCsc68WA5qMhFbzjAb+6qIj53Co2LbbF/fNvBscvNWh2u9abMn\n",
       "GRoRQzS6NwXZvh/IuEGBbMG44Tit4RC/RjoomalDE7kFEDi3yZDHV5J7D7Xc8crUC2qOj/pu/9JZ\n",
       "TM3THR/M5hLFUphBXWWzlMDSBHrJ3NO7cQzxOJwxMeGB1skmT9beaHypHkLSl9aEoXi6ymN8Szq1\n",
       "HVkHCtyxpTbN7G2HeKn9tpfT0UElihbJ/kWH5BMH6Cm3cHz/kiEzglxkv/1Se/4VD6zcZu1yOboL\n",
       "Wo8/WPNb+AUYVBrTGO8P8G1MMP0go0ITW18GUJQ3zP3eAouCnaqYXeINEM7yXOyxtRW2MGUUlNLN\n",
       "lV87Xlo64CdBVlRkK5WnhMR7ymRmoZ841B+p7C3YoIpbbFC2qKrMJ7khDz2zzcVXFMD6TwYzDqOn\n",
       "kdFg+EUlabYtMgUDdM54urTnZSRBYkOtKG7PzFHBqT34FdiBxYysYPFNuHN2YWSayBW63YBdRUGZ\n",
       "UJ6f6GLH9JeyHxXGi9EmBwcagzAFXQtsGntR/mhDsalhepcHXU+p+ZbExZbZhULU95rS90/hvweP\n",
       "tdH+9QCkQrygipFpmHnGHgOqKSa19yROAD0dP6JeAOcFVBLYAOtQAO8zKPfS874v4W4kshZJxYWg\n",
       "pe5IW6vj9JcQsXgwxzHvPpqt3fH4rXEmCcYL6ghRSEk5NrQ6NV7AUSGGxKvnu3Fj7GbVLxtmD8IZ\n",
       "B2/8CqsdFHk+Ssa5WHMgV1QSxaRgV8gAQMa1xLeiNEf0cBbziRg56IRXWqexUdiNU41+sBzNCjKR\n",
       "P8fPvuIzrRzhZutmM+xGUiBAhR4s6cylyEDLW+C7i5Sdec1KPAVbr1wZVxs9Nqe2L072ove6H/yP\n",
       "MwSN5fMOMju6Xd1IHlnLcnpu895aLEvQ5IWawkhrbapBDcw4fYwZrdS3Y8V38K3pDLCFMbA/Hb5s\n",
       "0e5t3GiXx1wav28B6agnf6H2enzpyPq8o6BgX1DXt9unLUN+6fZ4/iXS7esC4Blokoh0idlFz/I+\n",
       "cvl0u3rZU5Z+1DwjEPxCFWiTZtmCPaf1DmMi2QAABP5BnwtFESwz/wDisE97xFkqHnLilT24WbsQ\n",
       "CFkjkGoACKXHV5GMmLbIO38hPhXEwTldCPr2rGEB6260/oLGSWZdf/r0PhulVrhpC2mauo4YQTWm\n",
       "Ke5mh/7DQ3EpSSM/xpzLnrPErAYJYL5kYOVtpDJbnI9QO5nmn88k7kHKuedfaF8BgjEiwqU6Bmu9\n",
       "MJX2yujlfRUlbR4VEydPe0dc40h6cfnwJHf7bH/8BA5NMSC9QqubxXTrAU2ftwzCJM+Vkv4W34kF\n",
       "lOLGCKaGO2QHZRhtFuxLJh69DPloqnfEYFekH+85bzAT/nQverBMHBACQhw0VYiYo9rVj+Ok7bHv\n",
       "DuLy34b8GlGK7CVJGcXLUFhUAurykInjXoGhMxv8G8a+8cpwAxTUzEA6cyaA4IMGGsJ/NNiTk5lt\n",
       "WYDlOU6jJfTBOWdKePE1OpNYQkxDu471XrjBjJ1E1PM1kV746Tb4+f80IXXjCnHlSv/eWh4kylc8\n",
       "D396jRAUtLy/1bQ+wK/zmkic++g54jX5qYJ4SUZqoqo/BjOQ3T3NPfGEaJf5ctIieGzanFWHZoO9\n",
       "A0NmFzSRd4c4P8p67E3mpOx16wXCTxrd9Ip0TCXCfm9JA2dfzB4z7Fbn59/GpHf66S1OKrt0A1+2\n",
       "q7UQlPxWVayUQTj+GefgTv0Lr2xnXIJB+IudxH8RtdEYUZY9dUKJkQ1Zbzs60WcYjnrsup6CwKv8\n",
       "krCt64y0QzLLP/ceVUykj0Zk729dIrhVY37HwwvkSOz1yNM/sbWzFQsdVo7knBJuDiwXoPMSJOA3\n",
       "mHlaH+SyGpie6pz/gZ58BYoKWbz7TNWTeZ9FuiI+P6pU/tMtSJVYzDfyAyNndDO+G17VKjNFEfAz\n",
       "2KQQyeorBSWqMTmh6nX0J6vOpi14KhcRacHDyjBPqOujEIef3SXjJw9Q82aXBLlpL9IowyjHI4eq\n",
       "4CsvXF5+ZzVs5Skf+cml2qnx4xYUHa446cVrYDoOwPH7Mke5+2Uf7sfOq8lmNd0AY2h158rlCO+s\n",
       "gyKBwvhE1tCfLjKbPlG1xENY+2tTsIKuVXGnLyeTbnkP426pmx5SfnqdtwB7920M30GNMuCU/XQu\n",
       "WA2RKR0RyWbG/KdktujA3ihXtjilgB1XpdjPGKhz/rc/W6z7BMgWyTvu03R2jtS4vY4gqhFRijNj\n",
       "eCO7DbcLEUuV7z+c9ERakJYgmXasPXd6KR2V1/9vzl56ymvNOrf7C95a3x1r1gIjppQPbPzcZ/SM\n",
       "5mJSum/GvgAGuIaPI49QCxHi/pU+UqGoXaaeRrCsE8W/HKvw+f/eV3ItnAQhhGun6BDoEFlD7imc\n",
       "iimLkF69S822LQtPBylmBJBLXUoq76cOa5hcPpi6c1l0qYhDN6esijlncXxtYo32CYTTOraGMd95\n",
       "/QaTU6V5Q9l9L5WN8EBFSZfHE1zDBrG55w9gltAI+6dKekE53cG/JJJRQVyf9BsY1UkVoCuKY6Lp\n",
       "Rn7AxwSxtPNdC3OKAUa755ZSs5RFMS0YaL2mOCFc1Y8NFEAURUcuCHsRHjpv959V8ryq75Hhe1qm\n",
       "nZx29DFycUunkr/T3YSPzYDN8DTIIqkqGcOH4TeBDOZDsqgDrxX5TJDTyAxI9px2COo2wn4d67iW\n",
       "yzK5B0L6RSdAsfisduWIgryL4XzKxIAG5OdRaDJCtcx9eKW0ATxuvIH/VI3f+CEi9t2TQz8HoiQA\n",
       "AASkAZ8qdEK/Aab+xrW/p5I56zIAaKjq3Mc9tX3RRtUAOIJXWpYzLSK73oOObI7zQlLOgs3u+wvU\n",
       "RtjkKguNTAwXjqA9yAoGIAf7kbU+oa1lgHiT8crHfrsZm1iBrdtQqzA2xknyxV7gjUyjL0xGmHaX\n",
       "x/07GMqtbiYQaDfUAcpuuh4wv3ZS9RAquI+/SVmLBx3yhfDnhHcPKsZx9CWgrBSaraGlrESgueFO\n",
       "HqiRrqBBV97MhmDwSXZCBHPQqwpeTDgYheIbYk/U9kg7aZwK8M/GmvJm/qb2gk1D+ELVbf5R6XiV\n",
       "iY+iKK1RleAA17EZbU8LlNnzDoxpZjAMEEhm4M4xeAgduIOfXzA6Sqwz37jt5f6aY+DBHf0kg1QD\n",
       "wdRZdKRnzZk0P2Is7LuR9i9nswMy1roHkQVqfVdB5wlLXHhh2X7YEKK+bsu602I7E/0nuKml2jUF\n",
       "xh0ui47HA8SQdaCy2ssVN+MmDizP3esRu0ztC7QCWLYcQ9wAMDl9wipxs3feoWciPh3fYUczPKoD\n",
       "bMgJ6qFKHg1a4hlVETDxhaxyhUTpEVm6diRREbJq0FRkDsSau6Leo2ZXtJxOfuiy5Vy4ZmNymX3i\n",
       "Ob97mCHFtXCxGvSK5ZwXau21C7UK5wtCDmnX9dxjI9HeXJq5eKyeox1Zq10E5gtULiuFytsyYrWG\n",
       "7Qu8V8xprj2h5rnRM88SwpNGjs7yOCEdVX2XpXMCPIJ6VnNUnNli/InP3WbCF8H69Q2SzGECiLlf\n",
       "JFZnLfT06gL89fETacwsWi8VQXyXRoTIdfleah/jsDS99mh2iSprPcCjR23Usw/hjoZ6nBTu1tuZ\n",
       "uD+7iIi/IfUHbvWHt464wxzoUMVIxZPLM50wms62HaJFIJ41z8wwWg6n4T6I6FtSpcabT7OY7n1g\n",
       "fIel+8zk6AnKk0kIAhWFUMyEEFgTl1m6gIk7PNQVXV9x44PnVA373ghBm7phjG5X2zctU5JUpSDp\n",
       "vpz+g7Dm7WTZ4FqUlvCmZh9ChwGCSF6/EVbt+3BTfnWFaXJdOk8qy2jmxQaruaXiELGz9tP/40Pd\n",
       "AEpL9vHyZ2d1QHH2AmQwKjl+XpqDjZ/c1JAzvq6GQQzg5unaXBqm4WIve/t61ekxnbjx4teasoAC\n",
       "9+zW8bCMtyKflpUrKwsNh7GXdT8UKwjjYLFkQbiTR7hyNtVgwmcoepEj5XHTrPriWL0wWlpg0+xA\n",
       "6PBSV66mvtC0jyiLrGwgIDJoLUxY/PL4pPyQ97zMGFFuQeDb0ytLjAd8Vnju7Xt2sWU7mjX8i4/D\n",
       "njYP3RVPwnce7R8FV1P/2DpBIBWSQ4it9gqkPGyKH6dlPFAukz7XgoA/dXWPkmnfYmrK4C4J5qFh\n",
       "GbjSqKFnkpd1RfzIWK/gKA3KsZrd8qoR6J0YN77hBiwoLt+ctxJv6ZteSos54RAEUxMu2lwhnPnJ\n",
       "LF3NhATkv+LnF52GrERvKTuWRN07LyXStSDd4EDANYXtWXI4S028KXzbAFkuxIRfGdpSF9QnJUV4\n",
       "ZABND2OmF3fZ1YLjfuh0pploYRp2xab8xSvQeQQ1zgY2UzgNzHFJ/Wa96Dfrayq+7xlMAAAD4QGf\n",
       "LGpCvwGndMbHSoc0CuDhfYYAQjehiJaJj2MIXECx/ti3TwcsCcsUCg3/9HEZi/YxrPunTdcyoe38\n",
       "cT1snHbUw91kIs8Kkt58nq8lIx8MViIDivCIrTs0Rdj4ROQJO3jw+EShBuEEZRGk0nokL4EFugXQ\n",
       "y3goc1Q9iIl0qkZl+4e+/nnxEMDkdHNThA38hUA8+0SgjI9MKk2bYwpYyV6LdSHVQ16Q/Hnj84mJ\n",
       "gPuKkxDn53HlE8SIj7Nb2jW+nY+XBAzOugl95QwIfkwAxkUIJPpc8HqDLxAZ+U3H7Da8QjhU8o1p\n",
       "A5gSpFBQO01ItFRjczrNLL8lN9dF2b5/C7d+iCWEpInwnyfRMvEOA/ZApNlTqw38QDqzuXAM8O2P\n",
       "uAYgv9KyWXXPjIAmYWYwx5kOJRLarSBqCCWQtEe1SHKcJpmWV1vJ2Grl8qobdtLID+tQqGVlJFbH\n",
       "53tA048X9uY+IMVW2EG4XMAf/l45horADRy/pLpsEhEtn9TEPt+s3WphzsVTEXOpy0wja5ypoAuE\n",
       "Zdke8NYFxFHGjfj6S4TYLeRkhXeRRzPpXDGkQvmU8NWuX3eNM0PY9/kXgalubppSD6HWz0McppuC\n",
       "1K6koHGmlwM7iALNZGa4hIjazhRqU80ig9UQjB9wv5YtJTR3ZVOkYqFE4W0KNxljgh6AgXhLsaHy\n",
       "i5IDsJzemjj+stNTAK57sNZfAUh03QTfAipREQ6mB5uwtXYhackKEEItRwG73F4AOFyStvPfZV7T\n",
       "LTGzpu9T5Zr+VR7/M19OB42bU95tNSfkDEY5LE3fKvK3sVjzSQGurnE6aHL9FYcXM5/KUDOBHKtY\n",
       "MZQzW413062vHcIqaKV2wUiQsjoAZ49e0DCfg2Wp+7RHRTzdicMdjqOH0/ap/5qECZ8Tu7xMues+\n",
       "GIKa/zZRKQ8t1tj2oEPSLacBm7at4dUnZFmQ6FL3eDdpPhMkPZadQhbeeWGUmPuDNEaoASF0KFFz\n",
       "tJ/bG+x3PI9wnes47wtPQ+wBQ9U8/YILKeosPm62skxeV4NrW7nEdWDGEvKe9597O/7QqlWpX9pR\n",
       "84ASK/snGC68oX3uYQ4jKdNsPLPDMhjo3IF8g/acqEFi/YfrV0gT3bj2p4PnMO0gR++yfr0ojdqX\n",
       "jnl5FElehgeY+eVNk5lugwKoIuNBghmP6hMWO1RtnNZWDFRj7pAK46TB9t9u5ZHpOFGvCIgcb40d\n",
       "5CkQucUgdBXe7/TV87EijNsHZtdZel6LgDRqciUC5pRnNUJucMZvmpUlPO0HZf636prDd8DB7DpB\n",
       "4NKc0kbpNkAHfhLKNEvCVKZtB1dhYwAADmVBmzFJqEFsmUwIf//+qZYA2rKFMoRzMCCaSngAAgn7\n",
       "GqdybmijVOn+Q1GmsO4nWq5LOqNVgq0AGkA2EUFtB5jhXUrALjm/ZMljDFv+WZFJXwcWZXWrfH65\n",
       "bt2v1Nt2+rnoX7JiqKYP4uR41WsAsaZJBq/Epz1OKdQOMwKMjJ4+F+PpRl9BMScksqq9anXs/seZ\n",
       "IoPfZTQ++8RJk5t/JAoidbUveV6foyhKO5CI3ipybyV82N1SiCegRNCMstqgx7KhrSPndSc5V4rs\n",
       "5jlXpgAf+39B7CwAs/Ya9eE3nFxsd5bz1JSupXlZH+gpac4AsGBtVpYPMQ+VLgF9s5TIoOhdVz/B\n",
       "SJKut8fSOPYRrc6Ksvln/mhqNTAxxxT76iSwEvjMqbVIXbq//IRJL5ztEq29z0QiPePgas++xbqf\n",
       "Y+iRintpFEKKe6epEbAHBzjjWZUt5P8VRlIdTFOp5ofby0QWM0BNFc9pmrqYNyqqwx6e7mIn5zsV\n",
       "OjfVY+djy9747XNnVVC8JbU3gpZI8yc46AEGnx2O6oqjzL2r/mM9gPSmHMIlyxr8PzjUQA8cHqUh\n",
       "CfVAah0vz3p3Z7y2cxEkg1FIoCtNvsskWtumTqawjNUaYe8ZEu33123dRHqoD4+rESEDA52QD9+8\n",
       "/u/hab9RvzmdpF6OLvQVixqL8KTzH3PG5P1HGXk6B5XD2EjyUtaC4vbjY90ZWWgXT3hgIH63pkQR\n",
       "y20ZfpAzajCHabWsLddwtB19L8uLB5vZXU+pvtTeS4Qb9w0R8W3x8YEd31eg306kT9RQipBP/LNl\n",
       "9+rC9xl0qdd/DfL2MI/J5jlo7p2yV2DMSVgihP07CGPqzhPEZvW37TAsQDtZlgbFAYTWvGMF/zNr\n",
       "FAg98zYT9DDA5TORqPhKKKD9+jO67hFcDieWJlBpI4nQ5q3r84xhN3Vo3cjt167ItNGDTWt5X8Tn\n",
       "x7Iz99bYpEv8as9fcYWpH8TvcgKD9xtopTjEf+poSbt4ifob9cymdNkKbWPylGlt6TAcw8/u5Cnh\n",
       "d8wAiXIQ5ROXKZw4tEByJh0RY4D8mbpubZNFQ2UHHCJtE+YQxzftykfvex/4xyNUmNa8PDQaRIXY\n",
       "MySrPOivaY1v06KkxgUjDVePK3m2XjPiXeoMC/j6aBSk+6+qRusjcx24G5WZxvYO3qZCubJi8CpY\n",
       "wNY91Mphjdt6I+SIiy22fkBEBBPuesP5MWbmvt5aXnYXbt0rY4PSeIp5/6XZ4PFvh6uCTI7q/3b9\n",
       "Gp2Wt2a3rK5dNI9adjZ1+x9Im1Sob4erGF1ZLarxxO0mTswFsprFO7bXCJfY1Q3KTgztbA5tLzp1\n",
       "ctO5Q8yzM6IBHXf+KWwzIO6mHzcflHikmohINjG2l3RJpiTLEHxu2vPuTcR12NBiLRDiu2v2LhO4\n",
       "7XhAVfO8HWwyFfhU+zpgrWILJiYWqi4sfU3UWk/9Dp+KhpoyX/gdIkOYKzvVgmtFfZ1ceW5KXo5f\n",
       "HtWe1A2gr/yEhzU30uJLeFhPQB61OP9XTEZcUILvY5R0IzDvoLrY1gtGLC95iGlsHNOKCjzGfNJI\n",
       "a5SJuSJlZtFz3YdDH/dqL6/7N+t5aIY6h/SDtGkCPX03DTvu3PR4lsDlgnhZ9y0fgwa0bFozS3eZ\n",
       "PcFC8jt9eusiU17Tcvht9LtSOPJIlmn3BL+WvMoBrIQOIL3U4gxwnkye1dfv6jOYDn2pYBXxCBuk\n",
       "EPSLNkLFmO3+VIdqBa4croXYRs90e+upJNLhufiDK0Xx+16/jQwbJrjIxzhX7dky5DEknETzD2KE\n",
       "s857V0g4fTc2Iuj7/AToxmJeABm2RzEfXoQ+IpORPpOF8luuWfz289zWPuOWk3su1RypkxoJCU2A\n",
       "h3W49vufwsuUOYfPoaIwgC1t8Wy2bOA0GG+cMd6/cyhP1kEnum4W/SALkVI7zDSLiAsM34JK1nuY\n",
       "6YAqmtbkFWgs/PuykfFjDFAIKfpmwz7/h/06S/UzFlEMd32o8RGm9L+4r7PV9nrVR8be8wYcSKhj\n",
       "h+upsWJDLSZTDHJzBn94bAjeHQ0bmebtaAOAGQrgJdrVkSfgchA6JPNLpbHeyluEzXhFv/kWdjMM\n",
       "wQ+mGrw3kW016S8+wfTs5oOY7ZiuN1YBxC162yCWp9cmaoIE0kIGBi/U6udhxxFSx9mOyELeFGWa\n",
       "e6gH7VtBq1rc9piuRnBbYl1+2Oje++cuS77tM0xWLDy7uoP6IHOEZnOhGloJdjESDGMw3XrIhdQW\n",
       "Iq1qLuw6pt9Uo23zDDo39kKVmCIvjPARLUFPl5R3+BW1dfQ2G/MQtvU+4DZgrtou5TGzcfrpZMrw\n",
       "gPY77ncpjBL34mFsSJEkNMnUPfsKknDQmDCZLt7ljYUvsCYMbSaFNBAWBsuaIJdstaMjjkeMsmOw\n",
       "ZFL/JCGmBWl+/AlPoCsZDAEcgaKC5MTprsde3WJHzVV5QjlsQeXWP9Msbc8/17EHyRYRyxKzorFc\n",
       "17v/bZlg3tNLi/VxenelAHHOD6K1AayAc5DWqPZewjI4rYNqBk8i9cTgIzJcVR2P81Y7OpAytYbe\n",
       "r93iWIgsO43RDswiZmabPQHKotqnM/QVt75ZV8Luvp+t1BFls2FrICDz0Uwrbjiyc3yrYHBAVTSM\n",
       "iGqYiEe1qCMwnkdFMKJC5+zPL4dMkLiZQw6BheYlL6xVhDHU7zAhSC2fVtsmVXjFfoHwkBZ01Msy\n",
       "OGd7ijIePUaJWeTaI0luc1GmQil2CBgEuRibsKwqq7TqdmqHCUY7HnRKTFJm3K89ylQI3X0LbERa\n",
       "+GVF8Yzbz6SOamJsNIhany0qcBCGFk2vlCLUefk/Ae76jeFuRN8j6miE/YZ5CeBqojXAab4ZxHWo\n",
       "Yx3WOK0dOU81I7FIXb59YYvygwfOOsMTNwa1WdwIBHMk2dTCWeNp+3R8XN1yUauD+LCWgoXC/bgA\n",
       "qcke5w8GqAykMvL3Ibh/ZrE/cZ/CKdhJ+6+UzRJPnGQ77SmJueaQB8aL8S3Z4gH01CZ3AINYMBKb\n",
       "WkpX9za/Y1VjEbK6suJ1S5wXiB8oVddXiFcO72T+X0PKBFm+43OcvNpwCqvnmwMYn4VWCo84CPCR\n",
       "B7JTA5xcU1yRqEXdImZNb/OMzptZSH6JmvtoPvmzvuu1/iReiMhxeSR5kEVTDzGNHmUKeBSiuMbq\n",
       "LY0qoTOFBo+KpW4W5B89sN/3zbRnV8IgC1TJ+ziUuEXUPOVtJuWveB0AzM+UaWqFajwgk4ycxxnU\n",
       "TW8FnhHfXoE9iVkE5RZhE2w1u9wYstl89LsJFJiQx1Rl1ys4hTW18Wt+xQBkiUZQ7IPhtrlnKWtE\n",
       "QfxfVcCIHEIrrh30/kJF/IdPPilHxSERqKzuMyPY4ZlmgqmguV9KdY2zFI0+nh7IU44xdJZSqV8I\n",
       "EJnC0VFe1sBfFUnavfx9bPCwkhlUo5QT9VZab1W0h0L0LBmGEEMmp5oEQUGQ7RUrKvUpk6dBbtV5\n",
       "2+qe7lXYQWXbWyLihYKtlUIEg+WMHuiBAk0hdzB3LqMSrzgnvS9OtS0TJXdag6L5qbEmrVEhhAqp\n",
       "JKzZ+r3TyWuyJ5at/DW2Xe8X3Y1L716UwhMCkhsst28Dxt5UGYRdpP+z3QpvPEuwlMfTZYC0SSaV\n",
       "bAde5Tfz1/iUtaCWqv33aDpn3P8eWmfoK7BWqZjHEVY5+OIXjm64lXdzcGQBsWi+IbvR8JWvpaDv\n",
       "R0uk8XRuZEJKx9qc/Fb10gjdn9ug8ljBtmVZXVm2oPALPdB4EKy9cdH4a4H8wt4o1yVNDbC00S7+\n",
       "7d/8mXFpg4VrvcJHJi6a0MfSGwjf9z/93DEedcRHgqFrhxN77bzwINbXQvEfSamnE7bV1LZ1CMq/\n",
       "3VmXBXGeAN9phPgX/+zCchSAMobB1xSXBN2bd3LqEB4FcaOhDWEs00wCM1WrVZJJcIef3T3oGgr2\n",
       "dqI59Qao/6aCDdKBnerBMlbR6tabjF/q9QG3d5lN8+xsu7YnlQ0g0IXVGJyNZgxRNWIFCzQ7KSqL\n",
       "dgYiWKFR0BO3JTjitCB9h+sMUtsry+8J/e3L70QLwwqmYsScqSa2/+3Wlq2Z2xz9XB4is0j69A9q\n",
       "qv0iArcMUXYrMrHYbxo9zOmL7c5UZ3WITM6+RLEJSlPlHNIbaNkYzWGDbY6t9a6L3/2kzLNWjRi8\n",
       "o1HgbJkiAQqgoD64/wn6/gNLlxOnvakL3y89Uw5wTKRb6GGV/Q2Ub82sY09bsbTq1OabQRLEsNRy\n",
       "GCCl5A0oTh8dAmXMkY8jVkHk5hWPqA2RB7f5jOx9hiSPSyqkSxKkg4J41vxcm38WPX9u8ZsHdfjy\n",
       "J6e6Z6icE2dbSSd+FxGMGAwKKG2jLWu67vF0HOb1p+r88T1t+QsQ2HPlK1inMluOO7kFs/yYGNg9\n",
       "Fqa0ma9v2yMQ+EW67FfafaXZkQR0Op/LCLf1Nx3vwAWWuDkUMz7Wiqbih+K7FN4aoZsWGrNMl4KV\n",
       "0s3/fogT5hK/HTvgp8WIwOIePXIVKUZHJ7D4MgeHqMhAPfisLSipv68ZpJJ6SeIFvhVENwyqpTn4\n",
       "zksYnNCqEnqHmm9+GT1tzFHDmTHGf4Ppuu/BrQzToyzE7ezmhz9gbhQOsq/UL721bk5H7BOODVbK\n",
       "Ji+XN0Vq3NB2PTmSuwgZSkh61J8wJas5GybijvYfQ7yXnYmatUvq6TP59JrmWHgOgKPrFIQN/uLQ\n",
       "rJ3Qj80U5uKSH1EQINKWw87a07n2fDecZl2XxTh9yjiD4ZHTogQTZJLpjgiqvTcv53xrndGMUL8j\n",
       "d2LmlOujeA3YgWUzkNh1hj0VZxGnIkoZzk+vBCIFMprDKNGMqhwqdg+LsFdPahln/LCxf1Vp2442\n",
       "nb2vHidsghnnmim4JHINkCY2Fqa9q3JPdWk9pDWfkWO0b1AzJITXLN0/nVAVoTvSDVVQqB2cdWvK\n",
       "skqHK3nBAAAFpkGfT0UVLDP/AOKwT3xKsivQKCL5JCBaTijSABooV9yI7GAz+L/+IOP9TXPy0/ha\n",
       "CKzb3YxqT6uaWhaQJqMYgdqMzLv9mSyqsI8X4kCZRlEZcAkP8JYoKsL/PVZLcErYPegvcab3fGTX\n",
       "SwW/3goleGtnZ8zGP12stYOgZksMw9fxwPuBKE1fOqfowbb1CD+LeH4toZKhmMntUSUAf/qVdX9Q\n",
       "tT1WbFHuTlFC+nPr3LdEhwPZuW0T/0yAK8jtbIDTUU7F31WxRJz5yOJ3P/ESZGdh77n8ypBML/tN\n",
       "hDGCOF9KJGtGFQOZXEmkLeeFl0cxCbSI7P55gpIZW+UYc/hNNvrwnfJspt6Ex2A34gq306whw8UL\n",
       "GjfpRXwwfpuQXnp6xRyqT3SZ7epXO1K8f9tgKGvmItlqEv0wXAFV2InFC4abwuvLXxqDfycxu1cl\n",
       "2KacfEPD1qhIgf9Qd+27HhJSrsRvwT4rhDT30E2Hs6NItkmtjGv/m1imXrmdoLd8+AF0meb9oTWh\n",
       "GZdz/uTlvZ47KbXz4NY+jhSfMBrlptBSKRnjOwDkAz5lgebXBPCiNTaLPoBPBjtTAnVvohYI/nxC\n",
       "QiVvg8KfsMuvxR0IQ2JUCisOOvF4r/TVLkvyW5/A34uL0HBiK5fg1iLVRC9+/YjOZ1cteaDARkAC\n",
       "02gYgI19gm3x23mCu5+VPTbyPIFo6aAeOvsooxt0nqeQxril3qdHR/nnW+LRLyYi3kvKyYzkfcV0\n",
       "H0eKJuXuwtZ4qhLP11lKaRMZuh8IeGEntl2oy/OfSTpWynZSZsMRLMOXyckKKe+jPGN0SGCzqPkP\n",
       "3PCJNmjcK1CzJStOX6Vr5bIt6+dma+9P2BSS7KVgZpfUhuFE4vKXnTumecm1OTUuN31JaFmPKy6g\n",
       "sBHOKyGxgLYwGJL0/vZX5IFwOvlGTSDLn/TPgfn89fz+EgeO7D7QRdFYllFgYOJ+aaa24nf1WwjX\n",
       "m7HQSDpYXLFg88rD/HvJ+UFvbcYacQw1Nu8IerHtURJod2B5080IpXa6aNDpcn8YXHji8ODzoG/R\n",
       "iE+aK/OibO0IBt2EIjJ7XG3jK3KXhVxq6Rp2Z1XTR+RXeB/p4eaJS5CiXRkLEnR2MiBPxKjMiOdE\n",
       "7C/jDDwIlMdAd9P+YNvjyCQD+L8p7qluY10Ccfdg/V2LclJsLoOyjyiRCBVsH9PdsFIPQo+mwk0f\n",
       "hjeIfGQA3BlBvUMvjSNTM6iLJjzJ2niWbpXBBIVXOnyEowZTz3JLqkL6dhFj9PszXAIuoo5zXD0c\n",
       "1SkMoA4F/aZJRV7EL9tUwNXVaSlJeJsKTXb4W+tTlfU/xXoG3rCowRt7mXkLGSMpwtDO529lgHyO\n",
       "/uDJoysLSv4T72urHfmvR3XFHnJZmmlRWxqeCzRLfi8aa9WAdaEQJW2sORQrCoVs7CKCA/EBEOps\n",
       "aO6PIbRxNvIOMyNcN+lzQ8N8bZd1lnovS5Ad77o6M4XSlaoshErz3xam75kER/LqHUGLwuz6/L4S\n",
       "5i1/ye5eQvqFO7YF0yF2OVd9gn6LpAhXoqPwYOSbJajLP//pZtdSmDB1MAFo2Gwd9zRsX5mvU/SS\n",
       "01xLEAMNnVIqggwDag1hag811peDTYuu+lFsEKz91IZLE7nrDngX+McoC1G/dAId5+NRuPWCgaCE\n",
       "bm/8iCSmdMGQNHc369DT2ohWkH+71HOiH6+BMT8wEMiZ/hYdW4q/dun+/96SkKgC2rX/A3XEff12\n",
       "gVnEXPkIha4Eo1+QRJiPP76gTi70eOuwkozEFwMEk7rEBndmzucpktCDkkB5sLppgKbzK6FhHeno\n",
       "AW6nfQUBcG2sgjAhCPVXNH3X+7sFZnk1ChgFOcyJNJEbvJ+fzQbY8D/wNab8vIxxZz+FlwlWlCjV\n",
       "6c0ZJIi+Y1cASnH+LCTBe5d1APkqO8uilWiOVNetQQAABAkBn250Qr8Bpv7Fj/SqegBpsXzIRIF5\n",
       "iO/RNQgpYjJEmbkkp86NXyaCZWccjFomHk8IeOLeq7Kb6i0mqMwvHUB8+QDFLAl/DkRrGh0un2nG\n",
       "JukAkh368SLta4ijViDMaAa3i9ukTEv3zOT7wv5MMWN/ZtA7nu4kl614AqE34nePPh6UNHN06FJT\n",
       "+kOU26SseRELvfVvYyK3lpvuv38t0CeK1kSrO4sP16SmBU3BfTUrDs6qmDcaY7VENCOW5p4WlhE5\n",
       "xrspGv4DsHwsjEz1DGxLYwUsckp8ggo3jFb27Z1ufv7UrhltSloKi+6uOVAx0SUrjWTPSIgma02Q\n",
       "pywP0YISFtCWW4RGyuiH+V4IdbCP12HcnAo+ftb5pgcuxdOKWGcn/uQCmpiGUHGSDnd5V/IQdIM/\n",
       "3IYQeIoIVjDKIhK3MC+UC1FB7I0eg+AhIzXdo56KLkLQ7cbyZzgDPq0GNfswWO5pIl373Tg53GGW\n",
       "Di0v8yCUMiYzkehaRJxHGVEzG/oD7NhB5q9PyL/oy6kmKtN5HFcCqagD7VBXhyHoTRTxgL7WW9Cs\n",
       "OWpHSB4XBp5n9Gga/Rv/qBGD4knCbhozUhuBU6wqZ181JZ8MyK341XSUfEdV3V0WlbUJhQntE20K\n",
       "jrg5Wyxy7RJBW4DZA22IIhapC0dDTtA2ZKhjlfaxqa3fovdsaAqrKVJkixV6Yw+5Aj1V7RHE8uWW\n",
       "yfiFCJOxEU2ap1hLUINOzZ8V24vZsfymA80NtBpPY6iaKfqJWym9aCgYH+ERaSjW+CmlGApqakVY\n",
       "jbLiwPpioYYV1+dmPHt8Ttqh/xexxQh3o0lKcIxiqBHCjgg76Q3egeUDqhb+7hc5ExU14hhR19/T\n",
       "4rNz2lXc8B0sG3m/PyTiJKNaebo0RAGzJhVPCKcrNpOA236BGTtCXXy7xPXeGeQgdHJgYgV2f70C\n",
       "NKUGVnw98GkhSMBJ9fZ/hOTobBephsTvM+KZl8Rxbo855g8tzKgtee8MikhuDPsgzmshmUxXhyJi\n",
       "H52YoRE2CEiz4bDARgOpyFy1vddomTMUKVtp9XvQlbY3erjPMyvspG3ZbsJZx3T/ya+oYGe7+U0s\n",
       "opHmnVurzeXHWAWEeNTZePrOahyyRYITCoV69HzCB/3ome65NRlSQujwYcGysMdkdOVrrvd3np/W\n",
       "gSad1wNkB0VnaoO7xVlA/uiVRTM3ZRRvdhMYea8BtpPs9GyiBmlGZijrgiVoMYA7kUPfK1c8OIWJ\n",
       "yyPJf4nVdSpJrIC0hGo+GbJuJ0BXbeWfoH/UXkWviNbkwElcIPa7uJN/S42dkrqyvzVLL7gF2iFM\n",
       "5wiiGxxRhI0hmLTiTOSE4pfZXpKBVR4AG1HPMN9gqjvPb8p0hpOBNGJAAAAEIwGfcGpCvwGndMZB\n",
       "ZWQq4xbQAEMh1kf95R6iEB2DwL0Td6tTNPoCoKhnSXcC9tDT/JcH9CAKmjBqeT2uMPL/daM2E2vX\n",
       "OwGf5pandL3TagmdDm60MHXZsmundw2rNcgwLmat49234C6LPYbYC1N2nV+Hr4L2E4kg6+cbW+D0\n",
       "N2qrfyJkDKBNogdsVWqY2Bm4HwjoVN4CpidathJi/RiDZH+PBPL021V1HXgKI44U9qxBvjm0gX+H\n",
       "iIB7XEp4TJztiVoH9N19VhvnXf+18NG6RQces9JhwtIY/nuw+EKi1rwjjH+yK0eIiWbytyIVr5Qq\n",
       "UnD6x8Z+6Jbhw1xvsVIjdkkyjbeqxhRVd0OQy2NhbmRDOCOZGyUNI/rmkA9o2kfBQimW3Xy2pU7E\n",
       "jHhkoWGUZl5oBsPpyvdIuhglpKj1rRZxZzSSzfzPAoTkZU8Wqgp1amgTpqbba78UlEecYEU0+b7E\n",
       "8icVc9CpcuYkiTAqFU+7tyr2/l/mgPOzgAronPfIOMjHTJ6TEt1WuhS8qU9PDXoQU6KCkaoGLGsl\n",
       "1W5qboJEN5cZWuHhHaK+23deOP910+zSLZspEZ95Ssj2innvSih0qIqXUoJy2bGi6N0W/77//G1x\n",
       "Nf3Tz/dEsKADl/fCjXogv2MXTyYK9olTsZncNKAl6mxbpolCHjD1UGfFWZZ1IySej10EAOIso2nw\n",
       "K75qVr4a8Wx6UV9tkU/yfecYCsHeOmnEc1I56bC/kvo/k7sxoa4s3ILTavW28qnIsa4L+EYGzcC7\n",
       "vfv0IyrL2V4PD3szDntkquZCZQRzDajP3UEXK6Y8GItQz1Q1bbBjWNDOS2Lvy24dyXGSKqLM18Pz\n",
       "KexL7B0JGXI+wtR2Mhtp5ua5hvEXlXw4oXdyZSNXkNFjs8JSAKUDk8KFBoVQt5b+1sEswe/FAaSp\n",
       "oHefFRZlNX5dp8PaBoTXba5or1CQQlMSQHiAEclu3JkPuLNYmVeM+dAbbrP+tFqTzw6y/UBdiHHK\n",
       "3VcO1CH9Mp7MsKSKw3R0K9emEpWfl7j1W+t9WiKXyLol2iIP9Y7x1dP6Ymb2VTRDOy7D+pvVhZhG\n",
       "ekWabPUBzGfAkoy/9xj/8m2b3HyFeGD104dlRPZXkQWD5/UNujpx1RUmkMn7d+2XbBXC10N2Byu3\n",
       "X+p/rUmzEii6FZFVVZCHxBwko+GvbOyeVsuCnvMr2+8AT9ucshRO0unJLbKtR9+4AhbWzyHLTthY\n",
       "fA+oUJ0rZ8zIVYUu4Ba5OT/IA6DSW3tfXk/4oOWZWVquZotmfjquSwCjK+ZAfnNB2+uEOc6bcsaY\n",
       "oQtodaaTh/zIII6t5sTJCo+6JoMPaBTguHOchI95yBmuP3jgSPw3syeM4a+rMeT28/R1v7LWLqCw\n",
       "n66n3VLi+QDaUlNBi5kB3yXx6aBDVAAADi9Bm3VJqEFsmUwId//+qZYAsI6zuZwzuNkS+xRjAH/+\n",
       "2WABz4Aedmjo+NIkfKgAGkqNvCw/reVOTReJ3VczbhMPGybVp1IBMNlbk95g4Rp1QpfFONhchF7q\n",
       "Ss8CyQ72UsKkZPUgWe7MSyN/Mjnj1HB0rBafJdhNZas0qKtvP9UhUJcQBeuIanzsdWSm4eX4p52j\n",
       "Dg5XvZzzaGGN0EpFbO4pWqEluFAPVqpiZKipj/PVbZ5wMTiIt8remN0dVfsnKXe3iijmXKdk2A9F\n",
       "2CjV7b8JpQ10+LKBG90Se1PKlk7evClhRTwmJzf5WX3ZzqsyjtWniKaZJMp/9Kt+rJT5DPZwv9vF\n",
       "c86lQfRPoNvRNAMJBTUqzjcqJN/b0T/HiTNehCAA4t2onDEzZ3u5e7HAhzb/XcFtawc6VfKJXguT\n",
       "M2zIvHJIqVbt9KcS6p5oYB8Nkekddy+ZE+bKEnK2k4kz4jG9vo3M0RugE/ZUv6V0FZ7gyR94hL/n\n",
       "1mCSxMEl1ltkuoWSGxlm3vZUwLWwN+aXbHE7jenGpuMDdtRQ+aVFAmSUODHrlQjY/gXlujf+7Oeh\n",
       "3H6HhhKWiK5Z8UOKcqOi3Dxq9ZzvooYhOQEzymloiY2tEznxquOuSka4AE7iv6Hn89otz9eiwWM6\n",
       "PoJ56cyMsFXyzZPjjNr+7VnE8hxXqjtBjaTBFm/Tl3UH/VCRz3bCZPh+7wPez8yqJZIhBts+MR96\n",
       "0ujkxTMPaHlU34+Kg4uKUTH5HbNk3giizy3GjJg/bfLCrSMdmAMepzCLXlFwPZQ6o0EvKG+AvH0K\n",
       "RCms4d9lzM8iDbR3PYmJM8tAC2MCMdcHHJLQmZK7GVUoGuBjI9rRjwk8iNd68iZd7un5GJnZ1yky\n",
       "ij3ALlXDxZL45Un7Km6asjPJitneWoCWuv8g3w4RjkGOjIfo+eZUmOo4MVyoeAcJdo0qlwd7MhEH\n",
       "iOAoA1FT/LQicMn14oaH7tfk03lctqXJx3NpTQH8YTG+rPH1D/43o2rTYLUTqCmftgC63p4/4e2u\n",
       "N1IYW5lEM/wxSWA4QcEUwn7A8SO4E0cegqHpIWuqL25MS1k7O5OsphraFlTZU2EUdoVwPQt+lZ24\n",
       "YLAeZavXuIYim/wI82ZjAwrnf3tbPZ85Jnwil5wBjev206ZUnyeADEb+w9DjX2rdKtQWtI+poS+H\n",
       "f+AhvdWwX5E+P/BkeLMvCbjZp9K6pX6G7krP+14m24O52xtQEnYqb4saO652WLIFP0jb4S8n13Xn\n",
       "+r0XWnl9vsZjJ+ptvHWOEXdmQLsoM+N2JaLV3ISMJmbm9X8MoptqErsJIMagVHnuGmTSKJ/HvLMT\n",
       "uJcV4Ndx8vmbgJqRRDPXk5X+pVdJGo67/ul3UR0zDWCne6XqJqWHb3rrqzwWqlrtz/23FDyUDDk9\n",
       "S/d6QdoJmRVpwtv0PPYGiQEtylbh76pdmyrpgdbt8B+7y7Kyfrzen++I4K99sFaX41RPsisyl28j\n",
       "+BTYGbpLUZaqKagG+AzYotDU//eIY9/O3wBNXifGsxipj6EAOZ3zi8H0so2yQ34oRat4hoOrI0Vs\n",
       "Jj2qH1rjgaQn3dwB3v1ps9YDpcpahrWbKrm9vK7ES1hg1ZQSy9sGpVl/Yi2hlp7LGi/CB8Dk6zOM\n",
       "9WwOpMsV/CIwVKiwriqE/17BnmYgi1llPxDO2L/goSiMDYYL55/trHOJYuk4e76EoQXEIKf53VWT\n",
       "DZLBBO/nnLob1Os5jYnHDYwA7kP+rdxX43alG7Wccp4NKT7qdGlVbEKbrFGfIdLEbFT9yAvLxzsv\n",
       "2Ltmcfh9C5R3AWliMDrg5MdMtjxa+H8zcZ5u3D5/O1v75MQo5U6avqgM/6uGJD29azgjWdRUEsCO\n",
       "JxymX5wft7SV7nAcyaeS5ldvOkRfB53oTqUXxb2SePfzUmOp0e/IBA+7U+eLMXigjHY6P3259blv\n",
       "fQS71lDfXp5rafGwgvMuZ7/wJRWvlpICZeijsw2Cen3+WqjK37+oeLmXMCj2OM1udkpthjIWhq1R\n",
       "owP/+KC9AcR2WEDdMa9G19KQrxAiV8+qusuzwDxfuUSIh4BtAyzBsEJjuQiNEtSAMnPTmmZc+kYu\n",
       "P9+PIJ/dEPxFLvGEMXkampXVL5MNTsnhUshAwiPiDmJ9xcmsT6Ow9lKlsj3L/qD+qSdz8C7UXuEL\n",
       "GJM4lR/bPGEJD23zrLBryfCJ4Qt6GxM9GFv6O4AKJqknPKiEfdTvutbzv1VdnHp3MQVbKgtnsetX\n",
       "A/JrkVX8n+XeRaxUJ7lG3ITvRl8VMDoSXjAGwank5zl28l/gGbawSmrzZIG4LQ4oMVS0GeKIzKyL\n",
       "ZyA05yPwUqUT5a9znBSPvAQ9i0PvYMVUrhTpv708dRJwUnDxdz9YWt3fMfyR1XUH+JTUD9XYzGpw\n",
       "J8O06J91q1VfcU+sWp7wfN0QSwANC3BJ1XEHt2k42F4TubT2Q7AF/rJ93Rn/3enjSiLD7sCsgru6\n",
       "GPFNDuEJX7noXW0ExYbf0A38pwDpA4sI12Dbda+hdsGicpIYom5m/mIKoE/4pPHlqjKShS66rB+9\n",
       "8Y5LlYW6kCrBA1kaKqoQ95azDmIbB00j/sqjm8sopeE3s7QTdSK6s7ZPoNT+UBYbWfwM5bF0xIwy\n",
       "xjRTNOaHEIy5rJKX5ewX/Wi4G812+OxEGmCsaJON6oqDjwAtac9FAC2P6+3oMcaZWg8JGgRnWmGl\n",
       "3BoRKcBCP3pVa6Qy4ts2fbjpkOfYLi9DmPqwbilgaWlzjP3pZ1cBz3F+BeP3nk3LVoqU5qGepUkO\n",
       "BVSP/h0K8jphFBpMFza7ByiS/eopQYM7V6TT0wqAtDyxY4ZXqXkoqqPWauBvk1ALrqd6/wwk+s5f\n",
       "vN41tkNBYF44lkusfDimpi+9RbJ5fZCQxLR1kbmNyA5hyX2B6ZWFTE+t75+COnzSNefjO5Jk/nxo\n",
       "DEgb3ogFzO6iqg/e3rYVr/qf/MIPrwi/u0mpcKY0x5LpGsuETeqsXeTf5L/3ZvEr/CwzuAD6gbf+\n",
       "E/oLcv3/DosHZDiSSQGfbnpMnMOP2ZZCo+bpTmQtR2NN3GKtz2c/tiK4zjRIbIkQtUySOqFwxfSS\n",
       "YYKJ1iwmdWVcP1VrZs1E2INHK25QZC4GoRC5KJTo1Wpv+VPJdwG296wFS2DLmB2cMObbmgxgq+GI\n",
       "fvZ2gOjuEF6QuhfyLCU/HYCWiVOU7FPLTTN52FUhVhTyCswElufUT27jF5/9Manv33sVE7tHJCcQ\n",
       "CF0ylcU8lJskOYDMNp0Bt0VGxS87WhKhT3fDQ8TNUfWF28d+Y/+YvzJwA9mASfL6MnYwA/P/OAeA\n",
       "14jTx2lZC8x7Yz4f9IzJWzkcV5RNZokEmFIiXFYGXN1m644ZLi9jdaUEV65nl60sozTi3t26H5/O\n",
       "gLO5OYFVnKlaiOBE3YRy2Jc9NvrhrM57CqGlOvgJnRhQOgf0nMKYLJB7gPVRd+27IHUZFCfbmNup\n",
       "RklH8C8/Lbk8zRrCcqlrQ/uh/xO70CNfVIdk/UhfVikGPPlilnwhFsukI/Ae6ewMzYvXVG5OPRfN\n",
       "gvr2Rl0mAui5h1pCskbQqvWlnpH/yv+J1OC/cjG0/bkJXOiDPnGMURPqcgx31VRggAAAH9yFZUry\n",
       "LzOsMR7Wzqjtr6HeEeQgaaScfvYEV3w2zQ0mrs15nV+koWvvIb4MSslCh5EDP35ZkIMPQy58deBT\n",
       "PAvqJ9Nx//cEiHd1mBot9OL0gzNG3qKjlcm5rYFc9QCUtl/xRQfpLZoAXZadk5tro9gRMGSpT/e2\n",
       "d8xzYGZlHOCVTYVf3A2iXQHypp+q6AUFe74OWsKbLN6+2aXZzoaCWIdduWPVaSa/t3eqtQBJ8w10\n",
       "TFdjeO4ar5DYLfsdZBewnAZ281Cdk+r6s5k7ZDiiZVLmvVQQE6wvXKpf1DFUZlgHJXcaRFO+5voH\n",
       "W78TRRtbGSLJ8/X+nFLwggk3v9823uxokMCECYlYTPTFTmpS5kLKNhcIN7D3cqRczXHiK9d58W0w\n",
       "YXGBEQ8el3sbr+6Acpm3d8mC29XDvtpJ2m/Dte1XWaqxjG2RkgbpcYg9Oukzceg/JtY1TRQpzC87\n",
       "Uvddgys4TruvMCejoROHmFrWtx00E9zlHmCk0etXQb3AGFL6fB9H0n9PIfnNOl2B9v6XSkT+x2Fq\n",
       "IEJtAIqBr1FKqqRwZfi7tQu5WFf7O9oHjmuTdYC9apw2nH8AuW7DcdcbKD4wA4uOwUN01apCOsBK\n",
       "4hbYFhG2INDr7coEbyOECLmEmCiD+CU5229BLYDvXRofPROJcl4lB7Px5r2Mm7e/MXKBI53Aoac+\n",
       "k2ArIhYLCITFeYPShNYUz14VLTP3EiKa0UlYWITnO7IbcW7MZKQ6bNH+YjzP+xA9ham8tuGktNk8\n",
       "5fDe0717JVTeuBRHDNauITf5cZXi0+yQQYAyYAJst6IqKAjXBCwudt8qC2IapKQJUg0UL/9JFgnp\n",
       "r6ZV90/DxEC9RvCsqKs+YHrVwG8sbraA7fYmiZXseidbuB3F2Q6xk3p0o2bCj9LScVGYHB88gZyT\n",
       "h3q7gdsOLjIsAO+ZNrlnwX1PfIe/iT1twcAq+Eoo5UaeSxKZs98BNSsFRrF0wo54uYPtJCGFgp24\n",
       "7Ok3p8jZBr28E1bIJVfZz5mGUW2VbAqtEa0T19+eQTnqzHuQnWXQECjvavyVsFFtf6N3gFoCcO4U\n",
       "xveyr3wAw+dETcwmWeb4WDBQqly09feVxLGWY7fnv1rRAaXb1GEPhVtLyhPLx5fnnHPz2o+H8ORz\n",
       "mowRRAfTr5ny5M8jvGxyboabmog+zvrZ054MIouYq4yUSuTJPEZdylgDP1BW2xIv7xSvAEJ8SWaf\n",
       "7MjrR+2dLWVPAAAFfkGfk0UVLDP/AOKwT3wiT8eRNoWXzGrSE2B4Cgy1OlVxWOPxPlKAG+miefhi\n",
       "9XYrtIL9T98WxcklYFQfRwA6tl5tZdv5S9gaD7UxMnnEEEz3C1l16mt8SlLgRHrohs1ZwGS/D7+o\n",
       "I/swjD6i5TRiEe4HnKYSO/Kat5KpPk4CLqHcLXC2m0GCHc0rupXJWd20X1kYscKT+MkInOCiDn7W\n",
       "beR7lSBx2GyPbV26vQQYOzWgQNqdvPtvBy5DMmGWzmQl5dvcxEH9Rzo2ATr5kQFkMbkrU8bkRr3q\n",
       "w7yraNPPMrO8FXxgfUIr2jSosgCPO46fzsNyHb4UFChEeoebXBhzDYrqwoBhAtVzveynlo7/jVqy\n",
       "UJWe+yTydypsH1GZaHsxf1KELH48c1YcnBx0O/RYzkVd4p3Ha51X7MwC+yaeBa5OZep9A2v0eX69\n",
       "EJJ98WldV5SPkbFncMgUghZX/329FzIZCuKQtSocM/QwMem2WabnJjTT33be1WuETAfzjgsp0YWT\n",
       "uyjLV2mFouSyMWE+4j5dJLmagVAxxUN5ULOKPbCu4jAb3FkYsmhNmwluZ84OgtNxemJnnjrA0Pcw\n",
       "bH987NQXLZ+KqOV8I9gFsyMnM746KhHboxzJPbPcCuYJ0RZVBPUnDBIU77MzaIBkGPgNEIpEb7LM\n",
       "fJ/HsZivc4eOHeZ48ABOPnsZjpv+DienAziIdwvhiIs76P0LGRfr9YEeYkDVB3KaUbDKebdvyX+h\n",
       "HMJiGJ+WXfU8Eyb+ljxzXDSjpAdeNhQiqeIFYJtGrvmUvte37HqR1f5RVBbsfHD54UFeBR+WTIta\n",
       "su2miNkqbY/PIBBvjpUqfwLsr9+onSe9U7rN14UP7B9YG8KPIu/e2UKH/M1fdqxq+EM0ka3mu0Wq\n",
       "gYD9SfgnrAQvF59Lc4oxM0H0J43zA76JKSE/9X1fk0UlUmYebjaLIMHzjXzTm2wIImmxsU1o88Ys\n",
       "g2VhhtUB4QxHV0fKODvwLWO6jh7ezWM/JBPh4jHHQ5P6FvHAqpDog0DH8QYeA9ECsktYsPkZ3fkk\n",
       "reeUTq2IkQt2+WBuT4WL+Un2SwDK5LAVlRQiIs/2JjxCLn2Jpp7ujHNXNhQd3GnZK6AubqFfcS0j\n",
       "6Ek2+kY5l+z2XNBQd5YqUJeV35BWZrbhawoJud5SdHNtVikkrmu/QUeaw02fqZXKPS/fx7XZOxF2\n",
       "geFSc9Sw1+Gy+NMw4gBNPwRmxLjKRl+89LlK07/HDMUQZ+bg7HyVVwpFzNK+7NDk01QPpyMU3zcX\n",
       "KfXw9vUjYQFgmkRMlaS/GRl1hcBeeLCRaJqG4YMEBxJGZ5ZYV6Syj65vLhwShAwFLHDR0I63wWQb\n",
       "FraM7tDeaAUrwsROdsCbU8b6+wCgHpvSF5os2oIZLusX2kuPmUBp66e63QNri1fz13a90Gdu+hc1\n",
       "++wtPJ+d9SH5z4yxHmubLwbHe5tccIoMT7+9WJP89LOs2rImh2wyXtV7vhIhjJLIxWtp94TE+oIc\n",
       "PUMVyh9gSN/N1WjUyOySC8ZyVyj+nuhfi7fwHZNWDd1n1uBdJC8BWFDIn3iO0LjuS1Ajku3KtLe1\n",
       "Xo7pAqeVhVUSkQeXcFqOLALJKQv5BNO0ZTu6pf161/7HuWo/koaHhpf8IYDU/WMO49kKeyJXI8gb\n",
       "MzqFSzKu6HAPJHyZk4+faRpes47EAQUAReexoESrz7b8QnQlgPqfnen2rUEjJDmBBf4yVI393O0T\n",
       "Usi5SdsSW/MftUGKT92Kcq/AE5VgaO8QBNkMeJJWrZpiqakRTljKtiWZyvYRlt2xKkfqtYpU1hmp\n",
       "PoLUzDbDuz1H3wH1Oe14FLVA86cF1akAg1mn8ncfB9co3JZOa/kvEPQFh0r3WK0kJMTsAAAEJAGf\n",
       "snRCvwGm/sPesaXQAQ12p1z7T/82T///rrbqwEj2lbteeM1v3ix+d4G+cCHpbC18xIAnX8rVCcWr\n",
       "Qu7JyD4GT6wxgWCHIk0z4pAVLEKvZsg7sqMCOFmxTVLOWKHCTAH1rKu9ObZMVHyG7mKrVDS1BgX3\n",
       "uBXOHT1hokJbc53gtcy6Pgwhegs0AA5QG+18KDBNP70OnDtLNAdfxp8McP9wmCBXET10j/xpJ3gA\n",
       "HcAGFCOZ+xy7awbvjfHLYKzXPgRy4Hjaxc7icSemXbpH2ytjlW6a/yhbPYBNKSUIdr2i5JZMpHFV\n",
       "DeuwukyxjfetzQG+huBS8dcAJOsNTqwkc3o4ZWa2ZfE89Ik370yDwdWwh7XW7FdpeRC41HKJu3L5\n",
       "ACzzmFrj+UFyL4zqPTRruZX0QXDpH6Dx6nkIJw8q5RCqeadqmde6SGGPNkBErHDpT7BZ4xfMMupv\n",
       "PZWQAWbFRsDomtbpYdUyN9hgDwbYxZsmBiuFO9ftmpCqv0SskvRNlPstCmaErYnx6y9zvGOBC61f\n",
       "KA8HZGT4TB+79MrLkqj03k3ksAtA4fr19Dn0NagrrLMmW19NAGMzf3itwq5Yy+CGgCZ16VHbDSDG\n",
       "gu1RaOwzCu1LVenFanRbLK7QAfl4gji+im54ic0UZpFK3QyMTgNYr5colTbIrnp1q5ZA+Q9WH0gL\n",
       "gMJVYP6H9ivUYQdR2CT3uypxn8CMSIkh4Rpg2PyAUNlA08GDxP4jDjyolZB5ntALH6acTX3ekbW8\n",
       "/DPXbOOJL/b7EC4MBMhUUPOv8M8pu/j6tOqnKfxKaIr5L1R3RWy1bpWhsO9Zb/jhM15BnqQr6rCo\n",
       "P8j63Hm7nBJ6zBWHjFOdN1uo6JHK88MEeBLs27wOD6M85pc9mK+tYOBLcSb84j+nhAWzs9/ufVHx\n",
       "JQiq0sv4hpz88WLJgtmQP3IitA47Z9HXflRDrYxzQcXTjyXWP4dG4OCgHL993PNMLBHB5ElU0k4n\n",
       "8Hyjl6kC5Eq9JGA7aIWfDFJp2Rb9i+QebA9n8PZEaLt+HgCdf+SXGbwuRzLdEMyG/e3FMZTVnL6D\n",
       "Q4ErTEIqrJLUBVnQIbdbomfnjatQssZ6H0ILQF7rphm+YUYig8jSn33jQLVbte54fOi0qOGrVES2\n",
       "mgWtqFowlkNLGS3HeU5p6qksV3bXj89k+xZaa3AIWcGB8VFyFLpdhNnXIH68wq6ipFeGC4OmEj/h\n",
       "LmkU3UnGcrfFoiX5udd+yvxAptKPuRxb1Yp9hqNyXljmHe4/Qw56oSO12pV7LwF+jPGjNpcjlbIh\n",
       "s7K6SQ8wnJnpUoj7M4j4KLajbuFLTE/+of9u4x5bkL2t6f/lE9FhQ12ooTPOAMjvt6thfcbvLxSa\n",
       "obKYuORKEBU1E5gPukB1j/+Neqi5eJdbMvW+++NMojAAAAPjAZ+0akK/Aad0xkFSFGTGAwIAg0R3\n",
       "vpnr2PWg4WGFQC86JdW/Luo951LRh9kjOLsvjo6da8bhaTCP9Ce9vC43Aamp1XZIJMmrjeoGogpV\n",
       "7VHnnh4kXiO84RUnQZupFO3Z7vuQ5LCZ3+TFPbbmnylj1Nte3L3DwazktYiycP+ReGGJGh2WTTuy\n",
       "nUjli+PVxJxrpIP+9t1P0njLETCmKeNpYLAY3Fc8lO/3zq7yF50dQZ0Xu1knLRNw5+L5tVxB6yGU\n",
       "xja7zpCDt45QvGh922jG87Wv/jv1EO4sITiwG+3THKMPL0jLgPrYN4gONmsYgUmNrPsw795rbi0U\n",
       "F7UAiBj9UFSU2frbujR41UzxDX079T/L2W3N5vX1fEq+stTl2ox8U9FLDu3mouXTglJnPKR/bF7d\n",
       "DS0A6UZermqwTW88a6e9+A9njfH6rjUuYNVTukHCCe9EQkQVDYvvTJp8l1clsM0COlsV3uqvXbbO\n",
       "jd8yHNpvne4sHWyAW1SZEFSzwvDi/IM8Xq8Sbr2yQ7XDt3vQXXGfk6qQFyyOtsdSVJHrfwQdDb7K\n",
       "KQdxUo17jZ3CNU/B4yCVwEpVgE6rWpv1y6gtDJR/+0hfzBNKYVTcxGQOoRXQrPgdvMew0xYA3Htv\n",
       "aLPO2WEYn7caTQr7Lo4cl3VheuhJctcLFZLZrGC3/8N727DI3YM78vKkzzSS0palA27kelKqTizk\n",
       "9mAO35jhWG1hE0E9XvQObusDZLl1NbTGpuao2kilwxv1LqBIbO1NS+OHQXloHtC9Hnw5zrHtuj1k\n",
       "NTZHXY5dr6KKrd/qBqWgXnZOCYg8o0Gp3xlOh8NuCzJ11S3e1gGt41F0MWMzFs7atCexKzD5fNGv\n",
       "7pmqKQbDZjb67KFtSa1dHaZkcE4hv/VATJJUrXta2cD/AECr4y5/kYswja9vSJ1fHrzVqOyW9gxw\n",
       "wUOKhibtBTZ3FvgPCrofwxC4K/FkphFGKVa0iZg/2XVwDZXTYyJVfxhwJPo69J7ueHVqxflqzOs/\n",
       "hsOA3JAOjwuxG4HoJghPo9lpI6aCNhcXWMD88cBut8iU7+dRN13kMpc+Uk0OR4Ms85HSDQZPrlVW\n",
       "9PJ8zJwhc9ltMI51nT7ISPhVDoIVeMWvoR917mzaRgLDhg0QznW2WJGAS2CVK3AR2NzG64tSTmoO\n",
       "qnjYgB1cWBoqNBD5mO4qI/Zm0LPev5+vfdILWl6YvS6ycIPjlY2uqftUsCa73tnDP83KY4AdWQr1\n",
       "BLslvTfkJ7LSfLD06p9Ye7A3OmXRUyCzgyQXYpFq9DUGNDcoO0nondyzIpDPi0p6eFX1ls0XR2M1\n",
       "8iLnNoEAAA42QZu3SahBbJlMFEw///6plgBtAjdUGACrS4Vcpj2Dlk+Cvs/sY5CwMr4TjawFdfM+\n",
       "uiyB4XlsZtn7S4t/uoP6WjxiBfthwaJN1whR+bblfgGkfovEwqbv1o4yEoYxxIeq7/DWw9cynBAB\n",
       "dv10WHl+GERXVqIzA/6Fx1nlHJYo70cGttyrGSrHYaAF6QUbaYn/G78ELxFKVwrdyxeG+Ks9HdvB\n",
       "oj3EyaA1DHtXekf1tPD5l2Liz7DZB9016drNzYst0Xt6CEZpX1p09CnNS/YYuUPERvEMrgkjgFHE\n",
       "zxT26LpDDY5L/ICJBwUkGavF7v4X50CtAEfdLJKkrtx2oLXEDSxa/nxUWJ640Huey3cAg6lR2jZs\n",
       "By6GBerTFaHZKx1cSs5ebjgDpAMESSSXYcZHruIM35IF+Xc1Rz79e5uUag/mjX0ZpeEkv//sH/4z\n",
       "x9pAHlikwKghnV5byhYkxi7pI+IJeXFMpN2wH8Frv+PV1tktG3IOL8iLOcHzIIXy3nJ6/g3gNqkr\n",
       "v5qQHjPGSBCEZKTfRUIBu4wTwmqs42z2qnnLIEmUw1JptXu5Sg/9cTEj+zSgD8xXx6Srp6Xg/ZGj\n",
       "LxfFRx9H3NwTKiKW9f8fjbmzg3G4CPGjwbtsrhgnNz+nMqchGAhUEKtsZrzheepSd98T2OYB4svY\n",
       "jPhLL/Tgo9/8D1tg+qGPP9NO3aCd+5uyDtI7X6bUEiQmzks6SkBKhGzxivCqaltEYRjnQ3IqE9fE\n",
       "ORkFzynYIlgLlvNC8t/SuIBlhwmIN5GxH7IEFyoHqdVSAqPS4D8VgitxyiLycr/o6Z3N01hMq3qd\n",
       "Mdj1P7OnWFdjLhouiOSkL6CY4QbMql6o0lbOtIgwSgngZ3oe7JNpa+qANAYJxGn+8IgwJ0y04qQy\n",
       "szT0x5/SqFFzIif7sJy+NZShDl9LnDAlos2oiZ2IQ4F3X6dbaZYLwkAsXrskQoqk6+d/UHV7cNZT\n",
       "ZTIuGlpfbDBEn8dUSzu2SpN4ICpTxsoueFVf/tHdXB/gB+vxrwAnFG7NhTwjuvywxMqizyYQhNQ8\n",
       "/YOzYTRNLa+Xnls80COWprN/Yp421Sgg5YV3Lv8I5osCOgmrVyDoUqFeW1LdT64xpJTJ5jKFBUyG\n",
       "QN/j2fT9Wtsg8OdI1/SHLQ/QXtnRHZ9KzgNZB4WLOY9NN0LVw9BCpFWgLiOvSe1CXLn4w8ZX2XZH\n",
       "yX97Qmm33vCfsgWYy4C3d50bWWwGmXyiZPGH42rSH9g8YvDXCWDMwiq1faAWXEICIow14m2yTpsW\n",
       "d/iO1sW8c3CHgjJJZiRZrR+gYcMl8h5xOg1O5oAQMj9N0wOGz+svdL/GFDkb45XIgovcP3psYF3g\n",
       "f+0fjq+M0pj1hmWvhTDbpLnKh9tYRkjlSCUcEv+SGkPo2kTKurWMeYzWTIugJQUD3V7SbzhBCUnq\n",
       "ZvxsOE/I3up3D/jIW+oypZhbzcJ/9e6Ap3nrml7db7cfiYCb4rR27y2cGSMw0oabvMC28E8q7jBO\n",
       "jgzFKKOalVJo5x9lVvjbadeuXx2oqboC8GSg6uGbg6bokaGyRpORwsqlpcymSGMCTkXYuqkvcAwc\n",
       "o7es0nSUJ9BLpMbEbhCp9RShhKrH+kS5qrhkIDkDAMG4X4R1q8JzwhV2KtclQtb9XBefAqA15G4S\n",
       "wNfdeDGYqKCSTeeyOvQYtECmJ/u6POL3awiDdarUpr5KJb2lKp/5tIL4oKbLYDic+6FJOb8VKMHD\n",
       "1ST92gmbqwvBjMWwt/6GtILOeerzept8gdQ+aRvmdBqFvUyWDCbYPbf08l3jSycMM/i3on29lfyw\n",
       "obeVvSeHXRPyQvDebEezxvByijFc2tkzUKy/MIz5KepXh+rfyZvxbwTnJh4mkJt6862Qi8Qe7eN3\n",
       "xcUoa4IEO2a5NyHukIrgvzwUtWIs7fuZR1JoZmHTqjcWOLi6V5ZwFuJW1ZTrYZgMYCBErn47DMMf\n",
       "tYN0UDR6TrKmTp6C6MZ396dYlp8R7AYfRVwWtTob0ivJbvkOkSkeCpoN6eO+AR6zbh5YtxRoDFtc\n",
       "01bDPgtEh8UTvDa8PtuOd+bvqzsYWbscfrgEzMNLFUWWFcbW6Sw3r58U8N+1M2bw3fNlbZuawiYd\n",
       "R27Ir3XzRSzk2LkzXeHVqJ+mLqaENSIGmUteDC/CfTqOudd2G0IWXthqwkx3p6Sug+iVXBomryF+\n",
       "0N5C9Jture3YV1dFBMXqf6CpjLKQcl6Dyw542xfpsXtusINYAbAyiffPZ0drR455ulXXrMgQpY/Z\n",
       "ZJyVy8VIRWAfgik8OyLGkrUEQeWwYBtR9zrfAyp2bCUYgIiwsPdXlMHsJMXHMLhJV58uryw8Qyj7\n",
       "YR5gLSkEkewyyNH7sliuh8jM5ue/ijWlH366X5ZxpuqgXRY/m0j8jQwvYUEoodRc8N2kpVZqK7r2\n",
       "1JMRpnU8yfDzP9FOOc7L0o3Kz18itjh2cj8OiypV0jJK9zIMabTzo1ZbLGuj1rAKs8MZP7hnu/5B\n",
       "wfpwK1RC9Aukep1lhmZQJqsZo0wLBqUrD37CFMc6cyZd5ONj2PoSq1NIQlwB3rJWnoji82tpi72s\n",
       "jkxgLyzQVMLv44uvh95N3WYTCr0dF8EpKOV6g6bJJ958bhnqyoAAABS6rVw1hCJ8hw0LtZL1Ke+u\n",
       "i+MOXXvP3Hx4mNQhTnlX/UaPSSHR2+pyQdTyXQETN54zRU5xZgPgXIvNHaK1AMOgGm3obLd5fk01\n",
       "rjTrHkM9kHs5vZ0hgbIGpLOttb/4pGpXJSzyc4dLwHDFLM5G+U463bzIWHlwb1pPqLt/JiDJqiCd\n",
       "SD+R9hqFqWSGX7Tww9YRtA+wfiqGHpnRAfZkpFRu7ygiFj8wPzVMrMYsad/UOnssj4QtgjW6xo2t\n",
       "02zkz690yLyANmr2tGXiM+TM8cWzfzaNd8KehpuEhFGOLJ1TCtQqGYk99wR07d2qg8Bzh7KYhDF9\n",
       "4P6/ICmLvqUN9+MilMzrNva+5TpBsBbp/iTimiMVgE66cVp+w0475Rqrq1Wc9OSH+IO1apzETMWj\n",
       "OqCay+XsbS+/nsex9QmTOsMkZKP7q17He5Eo7+0OTP+566mLuOkCwc20DGOzXL+tmEbZ0YO5gjNo\n",
       "0Xo3X4mU3+N+UkyggWkNeiJP7z4LqcylXg5Mfo9m5a2Uf1jgvBEof+Bjf82xTmDFoyOhpcXYrtvL\n",
       "pHXT4bXAQ0LzYmTOtiStFZRb6Ey9C6l9gWJ/VWnlceffdNrqcD2Geh4FIwPPZy6fOYQoHB3olSHU\n",
       "qgEjVtAyUD4HayDZ0XWFu9w9v1ch3abtNMoSPwtwBvj/aq9PjEMD3zQyTzWaZ6JC027IgWJ4i8uD\n",
       "vLkiNnBXlv6lC5U/311+kgMRvdL+D/CCnibvCwB8gYIRNYa/8kmf8a8G9mPZsYZ7Rtl1sizaXnQ0\n",
       "8Hd2qzb263Jf8+HRQbjhgZnUZurnTyzFElvhwrxrAtJamdaEUIrvhXlSkMLCSxRn9sr8sfJuQihZ\n",
       "6KRWVu39+/V8PvCLl4EAdubvbdMgPVwEBNNf3gfewefSeIEaE3643cuuvdaxsafzWx49GNMvzxFC\n",
       "AZ3tubDInVfbIsXNRJihko45ch50VTGbwaBBDFJS/K73MIoshPkdfOOZALUE4+mPVKTkmqfu7B96\n",
       "1XxLcQp3bi3oeQO0RD0b35oQNRs/DQ1e5w2O/tZ65TGwfCLSi2wMkOs8XmHbsZT5eAJHnu0vtXev\n",
       "kqXNturjEoFDnQibj+GavjCdGs5GT1Iz+HwkRBfewaehTsV1OAMS2sP77aiORLNCBWnEOuDKMj9v\n",
       "zGNIMMbs5kBYaBkoJW4rbeaUnDdyCajs+YXnxeqv1RJnCTKAKrBrNCW8Mvd0FYt8IYVlopVb1ZST\n",
       "Kw2z4MN2yK283b1KbPMhIlMs8KTB7+xxva/wFO2sMuxk/fEthFsjzSinGOQZJpqQJv/exGXlJJKk\n",
       "Ls5ir3Y3sIWi3Li+t4vQgN5a/5v+13bKYVGq5D2Caaz8zPehwmqLcJr4Cjm1Nxgn9mXh6z9uw6DA\n",
       "50gFXKQ8u1qrU14+vPSc8NX+/sLuZlpbGt9PDWMZEt4AEGUu1L7RDvcpYvcEXHQT62tCCI3fzh+2\n",
       "0MyvjAeU9/0PUvxQbPlmFbCjHNi7Ot9znaiNqCrXabrwOHd/ySwuO2HeM++ZS6wBznekwPdmGhYB\n",
       "if1pzgh0AkBVpYPHLVo9DzVOqfqQzkSORZrqDsJQcD9B9CySDIeXsRynS4XsAcXOgT+5t/XDOpxs\n",
       "xo+I0ylF1h30uQ4FC01o8HlZOrCIHAzufFUm4G94GOIIfEQlwpm3l/aTWNZuFXjA8nMlVpgIWzwo\n",
       "CIn5gtYlOMMTBsH7SBljxBuWKnXBLIdJoeCJ/DdlczWZszdIkZQJMykGNSNW3qm6ziGsjKhIUepd\n",
       "pkCWgsPqPgm6ucQot4E2gIJ2KNhIkgtlj8MjHCeexMbwum70MOFLN/plWtA1oOq3AEDaQCsCaf6a\n",
       "r8XghDsaYtPziiVJLpOcsLVHumMGocDdAjKsVs9B6HxLKx+9E4tHYkKP0tPJTs39Gb2kE0DSwfS+\n",
       "1gr/QmmgRi57JHYB6AkMBDp5D/zm/ZrF9KLCDcbnJ5s42pXuFJARMZFuDuOY/tZnm751aX4nHEfM\n",
       "tuKINg8tys3a0qgrCw2q5xhwteg7CusINDkLrY6c9tRrkMKsTg7jCyCEkeBncJ+LkjrFpIJQCO3Q\n",
       "G+9nBGXWHKoMjs8fMrCr/hflYgw4CTdU/BEFrEYK94VnA3kHvzBKOoer9jNjnCQtcqOhmhIOYgxT\n",
       "cAKM3jsYQSp7jZ/oCnVdENeYYvz+I/LwFc5pz8Ix/Ph9fOYNR40wsQo0cXA9bmyOJUoTVv2/f6AA\n",
       "AAQYAZ/WakK/Aaew0V5rbDgEAGpJnwJq/B+lbGDOZVwfin2NCRrRWqJ1Xs/LwT2irlSNIZumiDgj\n",
       "lQ4Kd3khfTsJD7ZJ/CRYGT2ms2315WE8IEcJJuTaFcu9rzSgS5ZVdALFqwqJGeya6gNHXC8JfIIo\n",
       "uC7uQ+suW8AnbQxZENQ+eJsiJ1yfjnnisr3PgKrIlCYJQKMAgycgpctGivXDOhjSceWQfpNwk9cu\n",
       "pVJ8xqndocXvuc5PiMIbhmQ8WS8qMPqyFwMQVzDLEMs+qWY9XnUm0JBovRNWt04wbe+Iw4tTPLxz\n",
       "i3Lmfv9EriO9hV42izFi5ygappABKX9BNwwMrtpPNl0coWeMoGzYU9/NU03qMi3mAlb0O2+QltO0\n",
       "21yzFZxQW0sA8lzPYujAEgT/xkrbGPtPUP8bO2DCRmfUgg9gS96kHRkV5gOmmg1+F2I+OSVH0tgO\n",
       "Nm9m20SidRJ7taYVdyP1QzCkUite1dOxpHEqKXsZutQpGfkzwhXE6+6+SIEycUcLtQ9pHckyBGk3\n",
       "YonWk6KR2NKbpo49puKtnpChVKNgSB/P6WYXKL89raCYuNcYkzh6o8ZHj7fMxAKFUJFBSjqFwb7D\n",
       "QgUeuCvpOMS16XYD9wVKowOIqIe6lUHgG0TtrNNuJ3UN0ohDEgFTWeLGQLmSMxgD3XN0L9nhMSGQ\n",
       "7h/GKLBy8g73FTakv5spKzsF42PqTExpSD/Yd6QdvDW6Xf9YvIDgur6FwoSog6r2EK4V/cAAWyob\n",
       "Sldv8X5HwNb47C0svrUgNXgGmoJe/5QyDpEXamc9uWtXkrUwKk3SgsgRd3o0a9HaUlhlmi4V6S4m\n",
       "XN9K9XrX5z7fkl7QKZlc3vm7kKjgYsTmGF2aXQIhxVSD72a9ojYpAsdYeDIB5miyQU4s3DLC/fP8\n",
       "mY0moLfE8MaGx5ZrrUOxwSE2iGDSn7WTGrUk8DERWBYcBGPpWS7zl5i0KUhm/2UVhWyyFyaxqmXu\n",
       "PLUXt8mHc0TGY4PoZImUdMmRuwngamQSzl91k5KBhp1RjkvLmMZeHf3h6e2beudo2l6n7Tfbc/M0\n",
       "k9LQcsKPaeVQ2Uamep+eqF9vW0ROxDJaXBestEDQ9oV8FvLOjl0hm1ze95MTAb0hWVFomR3Uh3vx\n",
       "6fPYT7nYO3ABsQJWB2WrimsIkQga/jTEVnWzFgaaIWe+4S86I0A76PnEW1JxjVG3UagvdDy2qWMY\n",
       "Xaj1hTI/CjuinBP21SgQfiZFx8jS3wwMMFf9/fqsN98tzoTPA2yMiv3mE3fiEjZhYCUcPspUYoHm\n",
       "Rx3pgZilc+qBtLElL8GfbHhJVqBAEecOUV0hydJHu0djxXfFwgEk42CeFmyQ9Pyf3hT4gi3c/wWj\n",
       "aTMoDXGkRxKQrXZNnKSIBl57oU2ctudx9wAADTtBm9tJ4QpSZTAh//6plgCQLpRaidjL5HHo7BVR\n",
       "qIhxYPaN2kKOVMALo7WwM6u0u+hMwFbf3vcIo6+iZpH6l7Mct+Sf3t3CSWqkyoeyrYizpW0aDaBN\n",
       "jWYZ7Y2hrHTL2KTxJ4Q97NLOAVYu8538PWdx8cmSDw9v2bOYiD27vWNuPBdWOkFVAyXxTLQ4mPLF\n",
       "yz0iZP4J6zSzBZYuiWAth7Y+1E5hFXiC/EIor/VVqQEhs3IGF+6fxcST+Y2EhUW2dATxTmvf2YUr\n",
       "zVaRdmI9EX2kbQ027kGOGgIxTbRUWBKI7VVoq6n6iO+eRQ8hyDcOj5AwmqmGhoCLx3uIgwRG6UWt\n",
       "cbD7mSdZgC+wVswx4Xrkv2xSHoIoVGv8bnllzy9wuDz9hiYK+rg/Zw31DIafvL5MlQ7Q/5fhiRMy\n",
       "pyqXwcRwSUjhpp+gcdprLdfSAj+xYVuLCBF2dwXBb2EUwAAPitfP5niQORziXs86G2qH0jhq+BW9\n",
       "yVWZhvx2nQjwJYNrJ5rX9XIAB8Y8drULjT/3mqoAum1XjVqxyFFT5pFAkP5vcHZbxxlSeL2Y7mZf\n",
       "pEFxtEdFKJI7BpbuW9LZClPYI0O2p7wOTIlXICqctuzhfC81PFWCFJLPvrpeNtXfJmyJ0Tgr98Tr\n",
       "zxDeGTTV79O4HP8xZ4yQ2BCnklCPD0bx4ei8sB666f9gRjTJdG4luy0ReuAoaLJ7iWKUDb5GBZW+\n",
       "Bldj7zuvHnE7FAVukU5c87piIYP+buM8L6irWhHhZaT5MKnWdZXs2HUwHZ/y+ibHs1uHNR4AiSwx\n",
       "nW8Iadeulc0izGLmfSca94egNiR1IXaJeYR12OUfRSX1QW3CJLlLlgvYfZSsExswOhzuUG4/6mf8\n",
       "ffVMh8uF94VFn9NtLtCL/3zw/fcUEcS690wLm7Y4BdnjIZm+WpdT08+TMl4dSYaxA/TRFDNrYXBk\n",
       "AotEzPsnqEPuz4P4LL2sjVi9Mmm+7hegnklMxjFA/L+pHqycvxV9Y1A4bs4JoHiBXR7tI0gIWaoZ\n",
       "xxmMOHkZDRftEd3Pqix5N8VGWWitPH6mtjWC+KRfTDQ+EThkykNtnABpJboTQAg1YsJ7ok5Aos0z\n",
       "jxgO/JjtEDMS20dJjkcO/zxJFk9sVV3d6KRB9GXn8dJvOEN8nyyrG5OsZJ9JMiIFTiVIj/xYPv91\n",
       "MLCwxJD6cmONSBbI3W3KKOZ/SMI4TXsq5UeNhdFj802G3M8aEEIRUpIMz1tvbXkCmMrasXLx4Y9/\n",
       "qPs5Utj1CJAIYYAz63Hk27kwRRJ9UcLv9haRpGed9NkpWuphYnS/aqUKqTsSxizulFbEt9Ca+zBD\n",
       "tOZxONR+YGVIZtae+iaAcQPdPNl+yL682Y8MHhOV2uWEg8nYUniK0LBMKJ4gbpsf8+PdxCWkDn+e\n",
       "3vgxrRjElzVyumVKNtZR9m3ymwvrW4m9gq5+1jqGN6bxxgpfVEauMUqZ1Gckw4TYPVaG7Il833qM\n",
       "p3BL4d7l5KPOUkJMnyJ8rOQHkU3fGTAPWL4OplDYR4zsO1Tb/juqUqbNyGosWyFSqS8fOyLxmpKM\n",
       "fP93E8FO5x8aISsZbPWId3zJw5twlsagGge5as5GDqJn2LhhIFubwrPcAm3PtHBFbvc5fngd5Noj\n",
       "LLZ3aQo7yP28BcI02/vXMT32GRTRoLHuid2WRdIHuGzRODofnbEIxNDyOYaZNqbbAIxWBvZEagyh\n",
       "uGQ4SoHtcQ/7H6r3IibWn1oRs6ZWTB5grXjkIiyt7EgTRTzB+Hb2/02HqWvIKks2vWnR4Xj3le1Z\n",
       "SKqO0oie3kR1zchKpurCvOt6SsdwKqals5GTu28rZADpa87AfNbqFrYSUX0/4PhpDY/dHXZ94iDh\n",
       "sr53zfepzULskavKEz1yXA17UBLoO5R9rWvPQ9RStTj3jPOXVYjWicXGIJL5gr7IEhdgQaV/raZG\n",
       "BdsXam+BNi9IXg+ocexMdfWlimNK255nY5yWJhRp/wathA1VyVwkXVaXfEkL4lMnQhFEBAoSaXsh\n",
       "VWc3m3iMHPus625ur7f8euDrJf+z66sGVN1iDjEjNyzlrS6WfXGz3Gpbld3GHEa8s7vgh+tNjv6D\n",
       "Je1M+6ezIUMoGoS3zm7l0JUKm3gnWT0dZ10uhXjiIY/xJBRe0gnwadZ2bgJ3dMvVY3xZWQxtNljY\n",
       "E0ffdwDKlRIakkwYmDzdAYAzYqU0O/NAqahKu7NA3LFlrFUN+6iUJSlnC02iC4ffBU5DPdBPpIFF\n",
       "q4KUETZc7zHEsDqFRJTCPvU98s0YW8FhBqFn1aiqiwRAzcDkG6moaBiSLc9qd34Qmr73wQUFC7DI\n",
       "m/tPzEB92rvcenkAuNHPa6ONns1c4dlVqwG6keUxLPa34/w3SUrL6tdDym+G+5rx5YM2Njjz+xsr\n",
       "BY47vCkf+98NMa3gqMfQ0cuUfNVL60Nqs7qnDBppxQW4ORLo8XZgjpM/EKpQuH6jeiLs3zF8qKbw\n",
       "BrSHpFktbwgGTFVEsua+UZNgXj60KjkQp3pLZiEzCp8RuXPqhPYB/sbeRLDAjt9weCpAPmKQJyUJ\n",
       "X3mNKN5MuP7OLFjW8VON+pa5EB33k7jYh4Z6O36QqTi13znyMkIm9AzgkUzv0P/6g9emwh93Uvxi\n",
       "D9uhOJE9mU2PtC0G6iEiL2NOiOfmQFW5dihFyAZdP1ICX2HAjM41DR22hO8BTuuh7m95rNv7vgJP\n",
       "92V4mXRCj1NDOqskmkEwoei+KbZjFrG0u8qv5QrK0bSuL/e6NJ05HV1TCarJLiTlulCp27QnIvZ2\n",
       "5qWA7fOns7AcS4KAiF6cnCmmw/Ao2N/my6WLtLNOmv0/2QqwcQQcVFWMD1lXSpMyxImvjKOHxu+k\n",
       "PRNfRRIkGm6/jAM9csAAnYeu6g2ndbFyI8S2S7KzUoQTnS2aWZiQDaHrv7gm+D6Ycpd6MMG5UWwv\n",
       "QBepLsGe31+AFH+OBwIEgQglohKG31Mfgyph81OBK0Us5Wn/GkSDgFfoYpb4CpjRtwGgkWxUD+qA\n",
       "MAlpTkGbrL7JscchfPcsUUt07Zl/cf6sEwxd9crnHy/q+xHc7cfT0UtDxh5I7QsjTaSMXAYHaSbT\n",
       "AAhehJTskycum+St+ZmjKalqwDIf/zDC8qks+pqpvqVu5xUUD22NSrgRLxVuMyVArQ3ZjeyIeOtW\n",
       "lh+iJVJ+m+lhlZcgMFotabkt63nW/skUSoiBx1s85sHgysAd0ulmMmHj4SKU0FLI7WfrBdGsvQH4\n",
       "17PwT0RZnbFkGE6dLqrfRBtdK0xCc/UdXPsLTRUV9oD0+5GKYZQ7fXch/MSYx+8zL8DhlGQmsJfX\n",
       "+aR6zDLD6ZyTueIfkoklu9/dX9+oFgqoFO/XH5U8U8DUgpVnetWzE0HFP97f/2BqhEJHqomOcGvR\n",
       "HjwGB6DdtfKN/FXnRKVpqV961eqmE8PRYAbsmieoqEMqOtxBeQBE/UnAvROaifJR/+RVLeNKvecG\n",
       "KBrobMvHZwRraOiYpbZ468n8BF0BGiZUDTODvMM7l58Wmj5t78Apwjj85CJpFDzzANlR7nk6H7lT\n",
       "BMJdn4LGFnW111r+iWEFyMFkc5dZVRq3pTC0BJIQzCJAlzrSFYNpg2VsBhjoMRdxmFrZKESBbE+n\n",
       "aLYMOLEYDx9IGFR/CyWbqqeBVyRSA2OzAzOptNMTYIfHqe4YnO5ib4jAWhtEAM8obDkF87LsLOp9\n",
       "8CzbuHgubyjgw4WoUl/oQUROsjYMwJagBdCZdPg/8ppztD8jfNseK6gUau2CBYHyxMowTymOx9Pw\n",
       "2IpBz+fk+pdlNuq3uG4EFm8pH19FMVaawAj23x0G3nQp+oHf/oaFiulUZjeslR8gkrYgPRtLqMNd\n",
       "LGK9qfUJJ3FT86E4DeGKJdQF8pGSo/TiYNY5hxpw+5VF3iEWuo4bmpI4yTUX1FgKsoloD3v2ZrRX\n",
       "desjHNCc4jltcxFMoRnZKZknL03Caa8HeyAeDtNzf8ZoWeGDCIYNEEXMg//X6+Wpr47Mf5kQmdon\n",
       "iCJSFuzof+AmiYm4s7e8YUujFoF2mUzSoSU8b0JqdR0254QdGRHL4CmEoBrVsoVEaatKQnK32v7N\n",
       "m5ZSuru0u2fNcoCk7JFxuuIzsBbyrX3kZiURbGHkNWGKel3KyR2NBBoiwX3XS5cuAJhvAgJLZdc+\n",
       "15UV8dkjFQkgoPO1k4Ig8UfIa/z0TfbH3y6hvAItjtJxom9887oQ98+x6M40b9Khp6LJ7q1jufyN\n",
       "fV7kOHVDCppDRD/UQoSk2iFgSgsJZp6YJfQRvDf0DOINR37WmpC6KGQKCM5PPbKlLUNHdfvI413P\n",
       "RALL2HFd20WLt9tJKZTdHl/tHCqPAq2oPJcbjg24+lfjlJc95HTSiwdF2leP7OiLlULxTqsuS6x/\n",
       "wvSek5+E2/aNdUtV9BriDhYN90BVdMUZFEzQohAhBGbstB7WY92JW+9vUvgnk59JupSeloGEV9yb\n",
       "Q6aekVvcpYQxtIqYtu0NeYewCFqH92qcOOLQOwhVKzgnmB6HqJnMeAe9dzWTTccu/S5DxeEAAAaN\n",
       "QZ/5RTRMM/8A4qNNrjHHxiS4Lye8ziLkWfLjSZC2OvokbW4buwAVJ6uQfB2yj/uCcKsUB6zBIAW3\n",
       "bl4vHDSDBQP2Llw+luUoGa7rJahyDD2o4oe4OLZFLgfcA7xbwD+TvMm2qmVJDa1fv9732hXUsnNo\n",
       "skB43Q15et/Kovt8OUQh7SeJnGJEWJu5OZ3RSeklLSCpW1i3X7gG2EzvQeJDCSjok6x2BLe+pHBw\n",
       "2UBBC5m5yYhpYHCGKcfWP2bqEP5dAPvDSzDs478MYJxMAU9VSggckaK4CEpZ5TLckpA06DEj7SPu\n",
       "CSpIW3hAlLDE13VwJ/wjF4ogz9mH7SOtagZ1ZOpFXTeR99i+gv298ViwcodFP0v2D67AdDJ8ZJg5\n",
       "FKkYE+cHHmxZt5KtOjFHQOTeCCJVD84pM/RqAHCQAVTqMpDSue9V44BCEZCALb7WTn03ljAQ9fy8\n",
       "6IKsI+kwvVTzRsGZuf6YrJrFLDVgU+xMtMIK/9Xo/wNhG0dWcGolZlUVylufThr6pAOqI5ALIYKQ\n",
       "IULtKycTjAX4U+lzSMb/a6TtSAgJoKioUE6RIEPruHFdNhhrxonrB+iWELrsLsvdNuJs9o5VciAi\n",
       "EUkPBRvlfB1v/KNoqNFli4MMaKh/tIkxUKdcHK68zOQfHGCtAzLsR3+NxxUZ0ySRoBNKfph8mZSa\n",
       "fPgmyg7SBO35cT6gDJV9gG2Mr3vZrhY/3PwOlE3acRZ2SKeTUcIVtIG1YGcZ/YC+c4rW1QP00BYn\n",
       "848mUypFJrb5HbDeG7x0ShkH4Eu24lhyioqfCukvXLh7FNSzICR6e4NXgE249jcAkgi6GX8L/2nl\n",
       "FiJ2C1MUu9ASU6gfDClN0FWQD4WL+GYctONOMk2av0Aqih7rNXfS7HyEnK7k5sq/LNhL21PULS+V\n",
       "KdqMLeL3CNI3sLGwCBRahNNF6HQ/OTfaLqTsaOq2Kdo1YAUXfwI/hakvKc1Ba4q0MLSwbtsorGDA\n",
       "axBypUpqDaJ5KAqV1yZLCa5v2FrbeD/sntEQ7H89o2BsMol2mGdoT840APwngVQc/VKnpiVg1xEc\n",
       "pxhjKUCZ2/I6WrZxsQ87IIl3virPhEia0c1rOa85BEHOhGtFgIp+t8lo8oiDByWYdrODZs4J2Ytc\n",
       "k/z4aY1lG1q9iY84qnbHbOVn+rIs0/VtZMCNDfWWgS24bNqszxhGDmMqUEX6EzvCbxMBi3ahEfXQ\n",
       "s9ZhcV4MLo2hWG1cHTFfptLYEcN2JawcNpAWcmyUxhZTrdbFTevYuu38/u3k1KPKnZHzWeoiAepq\n",
       "ZNa2Mvc/v6aMNHQvwQuegu3807Fbn7I+D4idcaIJtPkMmNhngiH89fcJrNR9+mMMVaVfRiFqNvA2\n",
       "p4c+ACUeY7XE+U2TxzdUNWC5jOdzGCTRRBjwTEXlWuQsbpPJP/Y24iziCs53MajZ7WCFmzxx5zXk\n",
       "zAZ1pYpzwS+oVxO9DcMBfbXEOSNLJ+oocsuoOQONsfsk5qZ6RpgS2iqnM0AT/n2HQN9tp+cP1kVD\n",
       "DzzFvbxDUo5IzZszTwiky442v7HoKWup7SImNhirfNQBM1delCRBex9KjJeQIzZSXg/DDUEAzZBD\n",
       "FDFWj3Wio3Xsen2a1eQHf9yEVMB71BwroqJyL2yYc78IKfAEtBZIY9PEqyfSFZ37XnWRAQBtqtqk\n",
       "u5mITRohyjEwx1H+vL8z55OFzdaPpMAaj5/xTvE4IUPHa+G66r7/P2pmAZd0THQMq6ZDrYD92+Pr\n",
       "rWq2LnW0ZZyLW/wZ0DOi8NktWBMsjxC4lr0HBd0DLCzP65wPkVz5KS51KbbfeRNE3W3rI4KKN1EL\n",
       "9wB/IHzIOE7EMAwB8DEnKQ5SjrQK/XURl8+vBpwacUs/i6jumcSc0Kd1l78y2HGV8z7Do52u1yit\n",
       "1mPmkMoh7zLpAmoGucpm3N+ejZ539tHBOTstwnEA42U+9hiR+0+FciZSqepYYc7zAXZr0yAs18U1\n",
       "4cxFutSR/zJZvc+Y7wh/D4kXk2Ay/dcB3IiQa4FpW+ngLMvP8RLqi/KwUYl70iCgjRVj7enxZ76G\n",
       "8wEP50LR2a8OKULgXkbPccx6evhMrSFE8baSUWbr1dX3mgHiyvi1qv9VSDa+yz5FkFV5U2v/lfau\n",
       "WXPCr1EaHKS4p0pxj7t+3vJM/xEESI/mSQZlHeUYy3MjcuvcEvYZcl4YWqX4TsL4zIcOsvqRFnOX\n",
       "DSM1+e7DO6cb6M82PX/sSWMJyn/zkJPiAAAD5QGeGHRCvwGm/sTdwH7StfO78ygBCZRCZxE2iAzv\n",
       "GZ2YpVs7Ni97iUJIrYQfHTYtjD96EAlp6GzjOTInj+iS6wJJ3m4RQK2sS+O43g4yfAun2CdzFgB2\n",
       "bso06jBo8oQ0DtZ6WerQ3FnyyQmtul3c4kUwHjqYOZnQgrJtrQZLysS+n/s4CLsskbetBVp2ypgR\n",
       "WS0+irac0dAp8kuxJ8yBiCltdu6N9ARjv+W/uxthiWihA6vgy541ckBXw5a7+1sIJNmM/O0/rhZU\n",
       "zITV6NBn6HVYbXy0QDzIi/NwaawORIbRlAjKjrG4BPyLU4H73C45offHdQI7r2TxNdPIWWaFhZuS\n",
       "wfrfjkAjo1YyrCbLf7+QERPJV8yZYHoEl5scMwYso79SS8+TnO4HqxZ77q0wfVjhAnMw4Lq17+Ki\n",
       "FTI8apmoyR81XqnvzdofmHmlNYwk4RziQi+jGBJ9EjrWjPU91nLP/SgwaIp2Y7Ewa2rTJE706XV7\n",
       "1RItT8+C3VqniAzRdkk0UJIovqzsP6gsFE/Ya2EGQGNIr909eFHdM07DMILNALENuUax1zMQuyRx\n",
       "0jlxoov+fAqq/V63uHddDs6LmREL96d+dpXaCm9gwJh4ipsdMVQclHI+jVSEOP7b/dPCl0LRHHrl\n",
       "a1WlCQn3TT9nHHD7tzF5N+egI5fIzQaVbs0rJBmGgzoz/KyUR0xme/vzVfN52KEMDXna263I4nQk\n",
       "V0xeejCWGnDbrFkqYSa9fhM3wvU7ZFTS4E26jCoiwCGXf9XeZVzcmcl0hzdOYnzAPrrYIjpEURZQ\n",
       "B1hW3ZCo5gn31U9uE3344+rrT1BMQMXHkibtu6zQOHOcLArrdbPPyUzynX62KT5T7qNAfbdpU5HJ\n",
       "OeTnBcXxuEe0owGxC+l3yZAUe2xoJtRDmqkrEzjA4eDIlhdO9wHSHdZ6m9XDqxVdLG7nu/kr6EsM\n",
       "HKKZC1BxSdz55bgbHfmFava21EhbOLPmGc93QXGTYUHGblxF/NDoQmjjpEhOgeZMW8eRFmPbYMjm\n",
       "+iL2SuAb4LIkBM7bc8Rd/6DLfPTRWjLxR0w8KqW4WZwS4MW5RxbYdlRTOJ1gCEoxqoZxJHwbV8i6\n",
       "rn1Sg1ASQnmFcHmU4+qlR242C30sx8nNESvUgZhVNLymoKbmPOhWF+3sT9bbKQClq+XKBopRJxfn\n",
       "S7qS66UMjnBY6ztQ4cIMdsRcPEKjAZ+yd/1b7ZNkIPKfr3rPFAogO00CQWPe4YCixMVV/PQhEHva\n",
       "mhbdCfspBjTuowfQToRaIMHL5C6RQWR0+A7SkUBa5OdnQO7UGOSWJPm7jcf3LDRIiPq5vbYMLTkA\n",
       "AAPlAZ4aakK/Aad0xxoBzkXkAQ4JwQPq+dSgeGRPNnKUborSX4h19sV6y3kvp+TsKtlgdZBfI3kd\n",
       "8DukjfIVs1p/NW98la/dC9YlFqSQpMu8O6OZealUl6hslsuXwNkgpVJp9IYHwGnpi9ohTAcRPQ4n\n",
       "8UEVhJKo5JaHB7yTQwN1Wc4kCvO3Y7TUHLqmuYkRGnWniHCbCUHWgrQDlgzgXnAtp+K9GZWp5JaY\n",
       "pP3Fw95eEKbgodhGZk3jG6FGbij2AWjzuxASIKBCCf9vqYZ91RxzLl6mVleYI9rPo6naHC4g10On\n",
       "3MjfNg/7atRjd5e9e8T9QxCK/3zfQ7t4wCbQIm+dI5Db3BngW+EjQ45HMPIf7knhofCX99QR3Dv5\n",
       "Olp7FyL9uwSA2RCNeneVnRi4hQePqYea3SjNiP1TuhPqoi+DgEzncBqkVvvuMwLo3wAgeUBq1wqR\n",
       "cfrudMkVkcPWd6aXLe2VbrrdjYHnnjvi0ihW/xFPBScHzgNaFz0xpDPTaceZu/chlUAsDDegaViX\n",
       "1nFzStDxNoqlPkGYuUHzffFJvgwFsyzutiem/TLc2waJeoevkawtbKsfNDatriP0+nillua0mr1v\n",
       "Lu1tNQex6Vl5u8hBOYFkVmZgBZAsUWxQVU+WJ3nbSxqVQXT0KRM34H1kf+fROW93yADvqkFbtSlB\n",
       "JDKPCxoW4Iba11SHGCsWYx4Clt4C4Ihb6MvfywQ/jiYTOXoHGeEBPcWm7XLqq338QDCgJQP+tilK\n",
       "HVdMeoxRU4c8xkZRqRPz4rPmKGYdVOwYoXmvSAbnvGWxps1ftXOfISRS5ya1o/UjmCl+/BOp1QyV\n",
       "VScV3vKDm3QvUfDwoH3VKyfIddtxdrdL1viFkwWuG0T6VMml/OUIZsyoT7aZ3t7qLWdIMB6qLH15\n",
       "teJxIHz0EFO017mMkySx6r8+utNXLjnFVyiyxIw+I4aNgA9jhfoei0n2fVErUG/7DU2t6rO2e5AH\n",
       "eXsN41afcSkt102kLJDnDEX3oJ+z2Om3bhcyGB2dwRkKrkwcbOYRTSpX2nFYExQPcRF/4CjQQUYL\n",
       "R61AmUJy4xzJCtvxMVnrL8UnsSL383vfBCSce9XIjJEDHg9ciGHDs+B5TFPC3+40aocLoDllV/Oe\n",
       "5ZrARtN/o/bt+kyQh/SPnfVUow6hcAsVcMQnEU0VnusBJ2gz82wRrGJX0zK8/8WIH8PMafjbH6pH\n",
       "vMQhVKNahlmc80xG1stE4Y2emOvjQ1DenxOgXABMrFa0FhW7YdCkf17IxBX1SjPi+W7nTbiiwb5F\n",
       "NMlQ5kvaoCkgO1Z0nBYFKsG2c6DE5NXLt5K88Jd7RAAADhpBmh9JqEFomUwIf//+qZYAbQJC5S0Q\n",
       "kAG4QEJUTgHBofpNpofFh6ckF30+HyOKEut4mCoDUpIVPBVwrP6mXYROVaXmqtudBk9zqNCfGPCX\n",
       "JCRebB0Fs1xqpt6eWzaFOt4pkVvNOLn8wlRw+qyiTMDUzWwkIk8aVXSssJxpUZf2cC2ixsxKY9KG\n",
       "/k8fpakx28GumE9GSH/Ms+t0Byi1Dk3mPCIs6bUxtxxUJIhVhufm5LHBDOvvyKXdEu1Ss8a8e8rQ\n",
       "VN/t4n9719O64njLg6/QZOmlqbGJV71taprP8QYAxbF1y0Tq+ylJYjDsrC1Hl+h10aoKK4Es8Fm3\n",
       "3lNUdvVqnec5hYbPOUJyd8yw/2/NyEYGAKHywnCBrOEi7wdQ0K0IQZWfPJb70dbGVA0OinZlbOiA\n",
       "EevbR4m0F7wcbGQW1bkrif+en9+vMBtpu4cdIf8a33kydMYhYWQvy2/h0ZpVjL+1BKx7rE6RbmiI\n",
       "cNg+YshDXSy/n8bgdXTflR2UIZSkPZuPIor5C+jERqGJoLCmFy8diRnzq4MHg8KWSfKwc+FaJfTw\n",
       "URFIqdWMFF553f0t8v7FLNdlXnFXGN7KLeHMQRaFrmP+I4W7uMsSWtQhEwxRVOsjgSezjIQE5+d9\n",
       "gXyeBbY1UxGN0lS+eui1KiUDdjpahzP1QMw9UvsuqJg8HXYD4pNiSZ78uKk8J5JMGBVbtz/e1GB0\n",
       "LUQ7EOTnFrZqSchKDe9OEFBCxVaNjvcc0VJ9Cv4J5q/UcjtifTadZiWpxuOhqS6E1uGMkLbWaLPx\n",
       "tA3Jpz6liOxmWMnyskvVDI6AxEDmqVHxICfJbmEg+atsWifsjMxPqOqKZbulpvEn68n+vJa2atQ1\n",
       "cIUaGSl7rUTQBZEQmZ9R5lwq09Cf1hC5Qj91AY5jRBCew1+ht8xtWaCQnvqcZ7iH0ycPTggyW65a\n",
       "sxAzT4OpYS9RCzK95s7QdiAzhhk+9Qe2SMbMHwQZ6P+vyZrcKUG877tbqSRw8C4KkpZVUjGQnaz/\n",
       "zHMkXCLquOgGx4oQAEQhJopbptC79GiA15r1CDpK4WvVQK1YekSCnWmq8TzQ49DTqqOKy9nPSB74\n",
       "2Y+VOWv84pXckcNC74NktGGjtWj7kM529y82wk7R93YMtS6AXwhGJNVS046sfMwOBqjYcrv4E/2m\n",
       "fdzGQ78l+a9u8j+4PvN/xhtPOMRDJ/46R17KJYpPTdkBCYyrN8twamy+AoxNIkoSbP0bWrCpz9aq\n",
       "Mvgjgua8AZNhjnZ6Xc08+ZWsQoKiAVQWixN3Bwuojvbd9zGbaQ76ppzFiPC/LPVaxf1dF/dmrriA\n",
       "hoQkiB8w4siHUyYH/xWjQGa6HfQhJMHmkTP+bQ1k5gmwIk5h8pwfkIRlrrCHJRZJ8h81MbhHwrkZ\n",
       "VKFtIXVkwhlvu3hLSWVOz31BiOFJJaeGTbrsapBQsIDqYBGD1AzF6NA4BQzrRjlNeTmONtG7F45u\n",
       "hiSCkjU4kpCHoSYMQ/s9cJzuCRdwTaDey+vucbcjzHR9nf7LXFiOiQHcEwEUCsZ8OKz1hWj2kYL2\n",
       "fZazQyXW6LGW+prhLeBWnIyyEWTgYZatJaic9tCTIbUQAZ5wgOOQaLy4Nd1Wk2J6XAzyBW7zcMMe\n",
       "Hh4KP9wh94IrJpZs6WfokNPcauTmOKcq499mgcIlgv7+uTXBCN04dRtX/CWk8HP4iXf/EsN5iAEE\n",
       "AEu+27aOIt5nNA25Z0Zh0oYeuIQVTebmakfxMiu1wZgC7Bs0/2GVv5kCuvxuV7saBy8z2H4uda12\n",
       "WFavsJQa3nijT97scG2HDgWSw4Vwl0BlsJf7YSPZxgN5qTz5zEUK4bfDQunQEA+B9ZAwIwKuAEHe\n",
       "gtbsN1euXKt7DMR3h97qpb7m3Tx4Ak8wvu3WcBUdaH/XdvUoIcakJG9Y8yRXmYweip+NmWeX8zNP\n",
       "Fi/uLdWvROmZJ3P5HR9DYoU7jqD1YNMPixzYezIKQ/81tRE+in92/VhlhRRz8ThNefxB1ql7oHow\n",
       "JJ6LESrD2sH+ctJBeiz9u4HC6a9rhRUIeAdo/gfuWh/2lp84la2des718uTzjl2bCvW+IMsrEo3i\n",
       "qKIJVqfvCTriBg6PV2V5yUfsyvywRESMoiZWqklK/FIjrvybcqk8wftn2Sn9MT6/uQuysxluKF19\n",
       "xpblCwTj/LWN9DQaCGl+mt6K6QbVgjDvx52waJuXJSqqkptKJ4talWg+DNUapNjUvDPXTWciTCrM\n",
       "am9HPZSqg8Di5wIUbCaSUczdH/gp/VpMplSDoZW1pvG5IZTunHUh4h481ZNNvF1UCay82p6CATFw\n",
       "rdaBP+iBw8WY920BPFFJ0RLDDPlelL8zywr9c16qLmYNoW9XGFRjQFQTiVRk3XMTDeBevmBV9mAz\n",
       "kdjifk0pTbi59lEFjbdevABZ4C29QceAH3u7WMbejS9kqNDvTBWWLHBfPy0LTZD7O63WcQojmDp4\n",
       "nEB+1u02Mp5TFHRoKsibD56p1cnTfhPzEZD0dSKgh7YqLwcJyaOLxJQn+65/K9cuZNQAVDGZ6PRf\n",
       "w/BfWUSvmIwSmsKX6mSRvhQuRXhrq8EgSjWabsk7d6VasstHGvW9eUucbuAAOJ1DC8F3fD+Lgo3R\n",
       "b3INjW6ekhBeU4IjnpD8HTWWecqwAUCJhoXCk7IYZmqzjUoCmkdcMKvdgs5entz/uOjvayOrmX/4\n",
       "wfcu+tg3Jjai8C9T80nUE2ibA74rQB5zBBFl9RtedN1snbkniDf9TUGMRv/Xv1F1j0SATYnbaz+t\n",
       "gfGpDOepVoUETSD5p2duFKFxElvnqDz+wJKSJOouRDU0TcYoAB7kP/veiM53tEN80PXO9iXbmuMY\n",
       "3l95h1jEyojOufzEcLx0WijTwecqdH7H4VDuLlo0gDbZmrp8PuGu16U/CV2Y9+1+OwWwpVZfSX0I\n",
       "ZmDeVs3cftHuG6IJDDR+wwnEpf0/tH5zuCSPYvJ3bMfL28Oczwj1nBLcm69q2dIPKf+aaAbTdA2/\n",
       "nDh8CCiUeH7csdmaBcw5wlGg4523bn8AqzzctRi/BtZ6cCIsEL/2x0eJ8RvMKs1rL8033XzFOX2+\n",
       "mIVo3IQHaH3ExdsgDMl8fBEdNTeoWDE4eX8lnurGeLUG6ImWXED036B/ixyiTCXQ8aap180vtvHz\n",
       "baF0Bp5k+LG9yPfsTDn7Tw/Z21A9RXDcneumWTmP6w2YLY+DfEGwRavbg5VJhBBuTC6kdAwmzMXK\n",
       "MuoMW1SJ+hOp8uPTirD8XN7Su2CTh+xRt9D9ahtbARINkje9/IcWQp2F9x73EZ1AWBCjFm/QsmL2\n",
       "PZxJEOXFjqSRjKc+2A9zz5/cx2dWB+Mjv/W+lIByZaiIVm84UMgnv12ab7EqtCSd56xw1MIs371I\n",
       "ttCI5bcM3xp21r//xWWf/BQDTgsBeoP5FM2nKeyh93U/9ernLES/3gFlkxQvxq4u/f6hEBnL68x+\n",
       "luqv398IO11SgcfRoiGyUUh0HmIyU/WbsM45FkL7ZfBE/V55Xl4CvMKSmY43EQIOXkgy3KVA/gyK\n",
       "07JLeLjaaax8AHtbDBlVV9tpLjIlx6EE0NPJHeHdvMHFOfd76EOk3kJkQY3r2JPwv39pOxMvE9Ul\n",
       "tA/lHmeCVaXJYvpzrK6BtOe4C4eRBUMj6rmO/u4KqUyZe7air7/mNTPsQ8beH5o7SrIlNrsLDgWZ\n",
       "kW8A0S1Bn/w/6sqpk/etQC49U4Emb+BLvc4+nOrSxBageJw0fIYwxxnJ2fbL8bOD1PJgoW9WV1XF\n",
       "exheCrkVja7R/tU4u0vD1D85pwvW24XAoSXKVvxkVzD0EzoXDg81QpY8HxjJGsPA9ky11h4IxZuH\n",
       "zIFbIZvM0POZnS9ZC8C0wy/D6W5DM2SW8jZc7Np/QJ3UkvTguUfyRGU7jYn8V4/3ZYLUQi5tnGuy\n",
       "YGlV0kWllffB5L4q9sjaWYLKuyR47DC2mpBch01/0dPBzCLtXD9hCYCyesYPTHZzpq2FLLaDgHUF\n",
       "9/6cdgjqGoya2pmND0jkUq6g5Asm0/lyb5o/zGkMo46UYBZQGzQ9XLPX9HgpvweU8osXc0u5oREg\n",
       "4xwkNGUOvfgtoSIAsEaI4ayjPP4hzsJnVIrhxQl9ir1owrb5LMtVU4l3ZBhNra1fK2QqVyyHrKKG\n",
       "KXmbnTFQUUn76yXdXDEonleMY0SZZnG6Hekb7qXLC+jhbOHiVC/hF9myVH89KNQITIw6YGiwf+2X\n",
       "q1L2sCosaFS7Fe8AsezapvJpHIBj4C5JjaWfKbwneQTG5XqghWxdFIZb6q3xVCAEF/NPqj534WPc\n",
       "JpkuXjiRVceSrqUwaiL0BuZ/QS5/MRT0tUQOCbTKUGPGdCXvol5cEFa6VEYA1ymHGZ34oCz6wWnD\n",
       "/mYHOdOeE1/vgQebDKtHTwIm5uF6kYi0hR2m//eOB37ayZsGcueYEIxcVtw9n4jI5MP8B/2/Ij1O\n",
       "arrNBFBBtoGoW+kwlb5GvsAOTalMOIAJYsL8GvFMRw89IasISvQ1KunFwCmlixExYrLkqMq7NEgD\n",
       "nrbv1HQQCNuT6b3iNlDyfDwdtiIY2GG/W2qFEqb6BfNF0LM1efTNBesrKhOcnCBH0Yh7AnFqwO+C\n",
       "+Z8UQm04LNn2FKUTe69Qq+UBxPZTnS+6A2R3O2nymVpQqvmELIeDxNcHsnVbOH+CZ/Qql87P80Jc\n",
       "FWa9bOkQWL3tf6BEQ42Pvx7/bSEnrDehW49KDjXTnJ7TZ9THaqVsWC2IO06GPKXJyL2J5OEwsZyO\n",
       "Eu+02nFGIOmn8KuxTmMf9EzmeGwHQtDNidV/Udsei3DfHYXiSamH2AAi2fYyO8lTwkfEUA+BAAAF\n",
       "g0GePUURLDP/AOKwT3vEWSfPM87TlqdAGsp9QABEbmDpBFlwyhBckpUrCTOZJD0teN7x9JJtgeAo\n",
       "ej2i/iCcTGXIF8IUhj1FrryDWWIxNsRBabPlxdPohXD0MIKSRp9xbYY9v/FxUG/V7RgNrGRpDNtw\n",
       "FSqa298usDs0GvHF8jqFfEIACufrDkhX6OmkF1SZRrxz62b2xsNlowsTM61yE4Pzx0zDzly5OAGv\n",
       "eFxDqO28mGFZLI20+SkheZRLoE0+x4n+dwqYLtg/RtdfqiOhaaUf5Q5m5RXhhvZpmj35zjEhCBYk\n",
       "XvsTKDVl8lk5taaeo/OIPA0fENznCc7juywkocaCqYQalrFNF+C++xG2727FSEzT2CZjpZRxp1vY\n",
       "nhukkcsqnob11KVvUUVHnSS72k1q8am6ij2PaHBZJvbDAl6TO8+R5ykgxy+INrY6UdKPI85hEP2d\n",
       "SGEtJjMUIfV7J8OwEyeE6LmNaeRO4CBvHeel7wpcRUjC5wb6Z85wJwdoA/cceIQzvvDBGY7LXH4S\n",
       "fhcSbbDchIK4+E1OV5fhhmmE8XkuTQrxcH9mRj8qV9K+8r0ROtAUOepEjq0U2cepVc2KQiNGEwRv\n",
       "ZsWhmBABmM6tzpxnL6Cr4CB6YOZAKcePU+8dkw2xj2ZEkeOQiHlB2xr0a/2iVLIBKnmE7TIAcylk\n",
       "xhqC6npdbV77BRq9gssbeq2Tdgct68aJo67FDd0PxG9a9DCbUPRWAiNoH6HWgKRGwVdLSCQ3OrSa\n",
       "ny0CZNfMIwUCTuqa+bAdFd+4mTww/JY7SwjYDi1JvWgQxz9kl94QzLEHId/nHYUgKAJfrryz7acs\n",
       "sEapeBPe96ig1pME60ROgZ3fgKZ5WXLSSwBpPrrvt7ofc/OR6wa1cABmOVs/6ymUhepfYf7V/YxK\n",
       "K5Jzcwh+E6cdQXh9rO7HNGArZRTSyDpeb5w/M5Un32H4HD3mkUqn3dZ5SjHrmx1MmsDahlOuvaoc\n",
       "iwv1+Q4RZHHebeQZg9x7xCiZUQT8YZgwWbyr8MiRWoQLyIpkrX9XyhTsFFTZ8JttkTZN2aqZychC\n",
       "FxfAEt9r5ukyLjvFTYnOsXVnTzWh+Wn/V/pF/DPtSuPUBo2sv164zPqJenvWQ+BjDGOuukMMM+63\n",
       "bVPb2BC1EP2pviFN+Mru9Ly8Ci2AgHahtZeeLKZTPW3AlsNHeZQ4JDkoqsCv5tGr/AW6V04jekRN\n",
       "oH7HfnyT3O6E3bpUU11X8AwnjiP9Z4/4sai3Z0f/lW2Q2N5cwjcX99fF8IVpD6ujAbsjDvUaFwif\n",
       "QJj1Ivf7ckuXasRyGiMKbL2GhlXEqyyolJqySVAOyWxpnoBzkPxZ34CP6322A6G+y2jBnZd4brDD\n",
       "/zP+Uog9B8L8nCdkLqZjoEqPLt2PliWH6ya45yJ5UxzPtstNK8Ns2rKN96Xl/8INkluOHcdD3Ro/\n",
       "SGPJp8brbsvp/cF+swKSC0LY4s2RjQ609ZJKjDGD3yqrgQOboawTPpDEArjYJ/WZV5+MPwNzY29T\n",
       "es7va4wCOvS8O0ACZn7TsHMN4id7AL4nse5yJPOpex6WQFpP2zTDB3P7jP34KoB2WY3QyLfW6G+O\n",
       "WlFDlAH4Pm6ZK7CLWVMr6r6Rw6+7SWzCK4XrUNOqRpwb8b4jnjep4ceVtnsndY7W5fdmLCvIIrK4\n",
       "gzeuNN3v8JXst0nxkVv0M567k4zY7ntt6OUK+co9W6EdUVyPF6CdL5i49wNWulwn8rLver+18n3J\n",
       "6LBvQFGkM+2NwLd4l1pM9HWfvlDlzdMHS0GD6u089YdLZ56ALmaW6oQ2d0FPOgutyhfvwG73m5hf\n",
       "P6/bTT4V1bM+9GjmuumYNanPoSULsjg6QPTEX/dfIuC8KKAZg83v5DmddHEAAAQQAZ5cdEK/Aab+\n",
       "xsttxnc8Kr4cZx4ACGRBZwHGeDNEz0MBZfZBECefZJ7Tcha0AOn6g50PZhP1Oe/zpo1lw1XE3H2p\n",
       "dX8KQh8jAdppLfdi3Ie3TJ9Jfrq/sznlPGHOPe1BSh240YdATOgHxOVFJSlEfZSAQoKHewt5/me2\n",
       "1X+KydQJS9iz4hgdewlprjh00y8B2NY5ygQqus1IyjLHuBWrdmngolzf7VVu7awQBac0HuZt/F9z\n",
       "bUCReioILmnoj3iEQwxGZFT0sM5VyaHyZaBoDHhfmCjbTllf1Y7i1Cv5HPFCYwEz6prLQLqXCLuY\n",
       "mEeMsVEPoDr5hhrMWFbhnNFo4BWRwyoH6dNyBbwfDchoZPEqug0skAqFu28AwTVE0Sh495AeTboJ\n",
       "1mo/LaPSq4I5hpHvx3ctko1mc8tzoyGPp/O8DSbdMl6adSpN+WdrGXMceyeRwhMb5gnfzepDr30r\n",
       "DG4hAHTeiB8e6IwdyD3aiHz9ftSfc+GErgBeFZojPntuy3Qpe4hmrdDdi52aNTfykDnnGQkCWXsW\n",
       "naASpGz+hbFOMxDR5fGaa2MT+yj81I6ByJt/QErFAoKXJsr53Z9XeFxbhMO4HvG5nJg8hmxCE5j3\n",
       "ukKTXTOTf40wO0aoNPi0Ju82kqq2IoQyql93Zg11ruRpOtPzlfTeLehJxdWc/jQEDpPdryYgAwOW\n",
       "kanSmT8/1FlnRgbBWZmFfyuioXJzWvMZZyCp2UV6Y3izii7erg19Onkdkua0/OSzXPtIC3JOhXLg\n",
       "NFS4fFzym+F0wSf6QSvcN1+MQXbDHO4ut2jprD/snjEDcZWy2pH/j+w8XPjUk+A50aC0HYGzbqEY\n",
       "T5okFf7SREkFK1JnfzDyucBa+uwwYECsS5HyxLcD1ZFdWEQfbEEcQPxlBE3qXHZ2UovkLGyNAAAz\n",
       "8A2Trx/2IdJ7SEecOzagoh+jEMxYzM/7/cXNGGuy8Mop1gw7lCSFRY/2MJNsbjZrLo0QSFP7HnTo\n",
       "x0SMxhEPXBGxcqTPeGPydNF8WLYr5emKfFZZCDotY+JO1HeI3xTJZrdVNZG/7viwiQPfUfhm7chg\n",
       "JYaC/uQduUuJry35Zsez4jhS9gSmG0p/BJuBbDqw1wVNq8m6uUYi2TnZp/skPay/Vd6+nwrmgEqy\n",
       "SOMegiXCWtO+rTaAUKGwS+58kWEsmHhkDKJVVecatnYX68XG8lpS/aPXNBWWChgERcJKezTi7Ctz\n",
       "v1E7hTx/cC4SV1yfnhjdYm0uACtzDxaam8gTF0Llof0aDImf6NS4pQsWfQAx7m1lnVHIMvaZGMu2\n",
       "dmrz9nr/F/NXuavAIRnEPkVtsBpw7bJ8L6gczyNAbpy78KFSmvTJhdwpC5VLOTPWf6lpRG4Yp5RE\n",
       "nscLcWAAAAPdAZ5eakK/Aad0xT+MyEcgB96GC/Gb//Gj7vNLXqrjLbxY1S39U1FuOBQdlU5LlIpV\n",
       "TGLGZk+LCpsi8rlXsB1JnoYlWgBU40qkP3wxx+3bXpfk9Js5D3zbW3hqz1EkyLtfhKuaxEN8nND8\n",
       "GiVfyv/nD2dWx48Sdv3+PZAVIY9a/26h/JQnbLaKrOhSpm2nnGWGJLyqlQkcynfjzID9VLQ4Cjfa\n",
       "MCCRaA59QAGpU4LyxWlv/wecFj9nMPdl9hri2o1Wm6oidrJxFVClL6jAf3XJAXMVcsKltyBESDij\n",
       "2AJDn9X2W/OikliW4gIr678+eCqBm/RRRyY/tvPZmLG5rJ08qAZCK/WUV/o0jaxFxzQRRLbjHDGG\n",
       "psgsPgNiZZ+QWP2zoLJG7KDJDbulXQI+pA0UwdozsfFgB6trNk+Hm5Mu0l9jkawwhlehU58OTN9Q\n",
       "OJmFc6XILWNPs2qRt5qaFOF0OFmp9mg7n4+KvcvEoeTDh7fjTpqc+v7Ls53E0hfDkLHigYWVddWF\n",
       "yhEhXhMipm5W/rZCVw63U06z2SthBDzGzYPkMya6MN2E7p5ypsIPWWg5HaS8aIPXkmE5lMbHScv9\n",
       "kh75O8uT4Kh3LpiZWwn/ikO6cFk0OSMFJbO3JQvDNFZvjNF9ZHE35vrV//jsAe5M0O/rfNdz6k5L\n",
       "EY3ZKNFdQyRHen29mqSM8708tqMYM40IyugnBiRldqp34663+XrKk1o5U4OpKGlLHnBYVyaan5KI\n",
       "ZbO3MwjPaP7VefDa4hkYG7z2kTLxcK0RtbD3yS4JOq6QyQm+b1zEhyrNFzpF6IFwEe2NTm1nAC//\n",
       "YZ8NbxUtbFFuHy0gafYzLftQt/yAZgSZ4EEUc1xAndhdj3UqRNuIDV9+cz8dnhuPkXYT88OXd9UE\n",
       "RvpBNd7VexxZTak5Qii6lL4bvTRl/O4Z3J0erwOEfcuogc6ykzOb8st6cEB7QwfoINU3aNRvsnKN\n",
       "nWZQex7SItW2fM27wcW+MUxWj/Gg6dxA/sIvYPmBuqhLBdbFU9t6MW+g9P6irxDsM4fuw40tv9Tt\n",
       "GVkCqiqBfvfgvr+8Vqcn2l0vJ4sYEkgXabtJOW5ajpNukue+AvJTSPekOsuA7DpZZwbwc5Y3n8hV\n",
       "nhR2IDQGJMxws9OAuCvlrph+Wv/lWvTfGtG+szpyGC5xLU2xKOhHHRjlLLqN/riDNn//+e0N1U7v\n",
       "gZkPybOdjn3q2PJlOZMBXX26DwomMd1fJToAK5Pp/uQLL9AyKwKOscmyMeUjScZJ9H456NQ4jsqq\n",
       "hQJSADVIwqRm+e17lJrSj9u3EmnYJDGUUk+VKpAAAA7WQZpDSahBbJlMCH///qmWAG0gg+qDABVp\n",
       "cKuUx7ByyfBX2f2O33ET/Y2buHuzNXrsjquL4vrAdNOyYP4x2S4ES5i2I7Cfc3rU6uzR/jGccrIh\n",
       "l/NjUNd6+ake2elm5pSehcS+kkk20gzSo7W40qoMUY8tL5a55S0Oi3wvjwaPhrpqFQ0EQs6kb2GY\n",
       "s55Zl1vXiIzX9qsh1n15SJdosD3+SGhyiNoX+kbh4IyPYtXDKO9WrW6rpQffcAFt8hkC1Q/iRl8n\n",
       "BUop+I3wVfekEUlV+fg5pumkMgfIFwI26yfZBaJ2RhhjBmTbQq3ctSO3NX/6MB8AShV8C2iFv63g\n",
       "m1vJ+7Y1iAm3Xrlj5hKwBNCK4Kv7jzMXeop6Malc2JvgX7Sq0W6EkA0bz5kaE4zubwL9DhDAbKaA\n",
       "PRiXk8IbEFgAsXu4HBFlgJOnVeeoiHJ1kJBMYMsEWpcQ+wOM5yHRbCobEiS2ODrnSS/5yDUCZUqU\n",
       "JxDQyMw0S7A/EX5N0VP1N6fMmM22gdOvmrViO30IfKZUhmRhXnWxHWcGfHSIARExyAUUP74nUVn9\n",
       "3OCp256cilW7JifSzZdIGeQaneLnnOs32XmFj45fttdfS4bO9RX9T9NdVnABhiPSna6D8dlAmMaJ\n",
       "aWDPtyIMQakppLR9Ypo/SsTj9lm5F/Pc/lvgKtOAnjJlqvEABPFynzBByXtsmLr0w3fbOH//c0x2\n",
       "s/Y9nrGXgb2Liksp+igTCfFfW9a/huy2l//8Th1ayJJbzzzZoAyoVoG+DzW6eT3mxOTf845FoMkE\n",
       "sMzzyX+N5agwJNsLwLfL8BGuzZkFX565Y3nEeCEwa9BN5IPWR0PxLITCl2ZPAeKbuto0pnCSQKsI\n",
       "BpdH0BQ3OMnE5KcgRWwPMYAazVuzeMcW1sFPcHshVtofpWXNHdIrdvp25PVK7lsjdxf2EFHqY4Qi\n",
       "HfBXmiU7NJHlJhELxhuLZP634Ql+6WTvn2mxe4iwTE1WktzyGbcgnUnCMWwSd+IUMIJ/NhsQuPCl\n",
       "fqrlHhu+IFrOuUf7rR785gkplkWiSdpxYPE+V5xj2movCEBHfln4ChjUu8f46N9l9mEj45cVzuB6\n",
       "X9E20uOBlsg8v4Y7m6aQt8VfO3mPAP8eljs+ia/Hy5gwPJx2lZlgy+76GfcZx1hm1pJJa0YQFvrk\n",
       "PQkIYCHMem9sB5HYEQjlANp053XH8fkxm9fD4bY4yY0FVmOasBbXOIUZnhkT1py3AmKshpseqLYZ\n",
       "1HNlpyAl/61Lrz3rIr4kT+9xI2SSN2IxNuMM8yz0agddfw+MTvrzr4XGnizggWgFNBNb/hE0FgqR\n",
       "cB9pz+cvTiUVTuKH3SyIIeCaDnbnUOOyiwIAjTuz1Phm3RXl4JT1xzrKghd+LUJ1u2qKVDanv+gN\n",
       "DVB4NARlQHGkp0yYPPhUffI3hjbv0UZZ49tHN5pyNcjSxY04jjySzlsS9MA1gRzHuKKfwm2by1uB\n",
       "fRVDQviyiIZPg/5b6JNkcovT6X4welLqreSbaU0cmTkBafQ72SUjKhkaV4dO7So8MrzzuviEy+mb\n",
       "yRpn065NeFoeJ9aUmB3Vp+Ov/INTjsZ3CpSLEwWksGc4SHJt1IAaIHbKzaFfIRQF1ziLNl/WoXpM\n",
       "IyxNwu06zcIR+uTTs84Am41SKJlox230VoYOw5Nys8X3I/MrJfhcaqjH1qu7KgrM3JdDClNz/7kj\n",
       "TIIic1zTBFA2F3wj+tWrIusZw9YYoK3Zec0GnT9xmF1LF1ujqvDNw5lKqMuOa3EXzL+0AE4ANiHp\n",
       "PNGwDD3QwZ68WlkxoNPg8VJf+4YALANj0/PqWh/V1NQnvJgPfF7CZtw8VEooqHzerRM0pd67ixwO\n",
       "mEFb8pMYroMl/zOuXDbfFmnQiuomSvgBXVvV1DmCJOns44JQQDZdxMGe60QcUW2uvjVeDTyWtnEV\n",
       "Xm90RxFmJ/awDCxv+vsEPmCqaR8LRF6lLdlfZtk57snqFjMHy+px4I5/scbrXIpHF/8lKIUQOqmY\n",
       "z0gNGcIilzuD154xd28/sOeuu5STa7JGpar/+oeRTOz/7NabDEAmLfYbBj3EEhjc+6QLoV3UzLLP\n",
       "xC0ivE594yL9Nl3iUbraNhV6escqHvKW3sEOH04hnq9oG+N2pfBuWnLpJtwTktjkPg0m1yFbT6rJ\n",
       "WV/dnByZT/vulYNMnXI90rloBNDgS9mpGA52ddIj/4pi+e/n1KkL/FzjZTb5znDLJxAr9ha6++03\n",
       "sclQZ0drcVxfSza/8A39XiFX4A1qs28pmPoMezDH/Ek+pLUqOdLT5GO4SqdJrxaC/Bl5FFQqq7He\n",
       "QmLYXYaVTgxUSSE/4B/WyZ5QeSRvln2labfWHuIlGz7XeVHv4qfg+rvjSIGUz3FjfPlcT3SwOv5T\n",
       "bJk7d7/HE0Z+YwKhDstGULqPtPP99ddK3XC89YHWDJVl5/0V2U4f1QHqGipntgUhkOGP1PaEIl7E\n",
       "UKGQ4vustHFcBM6Auu7f0A+pAsbmxgjUvQuadJ3oEKJnKEL77DNt9PFOA1sAL5leTEfIVtrxnYIc\n",
       "uSQrb724WSFjcdkUEzsYDEZ2outzeXR8leDW7N1ygiLPFgpkwGmQADyabV7Yeyc8kZxFDSyQOLUc\n",
       "u71rsdBeHy0VBPqZaT167PCC5KEs1+sUeDHa0lKv/91i/sJ1UxhuuqTsQh4jRv6YFyqnCeMRW0Up\n",
       "aOUxVFm7u5eYb69H67Xt0suB6JKJDqyUqRfPiIM+slvWTVzvHi8V4jU/3xZfnvFqukdzE2Zt6lyK\n",
       "PNKmQ6ZOTFTrLI+fCtvqhwU8tthywi5Abu0h2H3b/GmIWSJUDS7o9a0Huabp+oi/ZVlnxKUoNAIP\n",
       "sv3eOwi/VKG6YSlbXB6nZipfgsbZUg8fF+BJi2JPq7BHMFhVRYW94pcFTNaSC+4ZFutf/xyYhfOL\n",
       "9XgT2LvcfrPf6cBCsERGR5H5EXd9VMrp0xH9npJct++7I3/T2erJFMpKoJcLKTEx4ElSkocAjSjI\n",
       "qt0gPjir76IxZhCdfR67cBmreZ27qWJeOnQUP0dvEXrX3/sIHOthH/HsBEQzB29MynCqRBkbVPby\n",
       "oI+a2Pm+GPf0lmLEx+AvctfWDbOnFSSD/VelyVqWa3nRfXx/pIRaiZloPJttKw6wmK3OGHXQ39tC\n",
       "rnfRdsi/dmtqWCLX9l0OSWDTpBLXg+x1w4QzVGXQ87vDopprpX5c2D4ww+9icgzXMGJj7XnXojDa\n",
       "+mUQrkE5DR+bQOn3oJCkC1tPksTSYtcmsHbZYOsbBNh12NkWxXA0GSe/9Y/s3DVIxza+3G4oWTFO\n",
       "FQwuyS8cUP7C+eTX+8CNkUQv1kmd21v4b4h8wY67cmLK1++o87kFBI0Dz+dzPbJd4lechWwp0vCm\n",
       "5LB5e008EWHd4F0K4o+08+JSxbWtWZiro/3phR2cCWGkn+3T4f0ZHzoybPzVneTQtbOfdsRNoO8C\n",
       "Ps/CudujJY3uInEuP68QT7WLtRW34GyjHNVFIuZoSedb8Sxnnrscz0d3NvfXaAQRNqRc3YidDzgV\n",
       "2h//qe3fbXJZUecVbT99cNKhfc8Rtbulv5efjDzrogsyEYQheRgb+wYPeKqILxb5qbM3RfU6od2a\n",
       "OztYTZgtd3lpDYKKDXUWVNHV9Tk3LCRelyWICShE5ihec8+uB/wsEgNVZj5+Icuf2z1JHlIOaeNT\n",
       "2heLAVfPiYBfN3UybKI5W+9n8EHoAw2FIhlRlLc0WgJfmEj6et1AyXPfA1DTyxY3QCx8syseluEK\n",
       "pdn6G8b0an3meRChEgdHSro3nJpOteslUKNjZXYrOspaYZI+5tiWOG3klji4FOtvx39DyO/LGxkD\n",
       "7+JuHthQ7z8BgIMQLELO8Evvf8vVB9pm5LK3dFQqUEME7B7Q7hQjOnW0wS4649DrVnkE3lpEZBdo\n",
       "GOhVfh9WeqfL2F7VLOcBGQ7yrzpF3/bPFH/h4q9M6XWRahvIaAZA+wpjzzJCjh5FrPzXXQmzoj3X\n",
       "UOXfY3XF4HrdS5HJoUGbVkkOfPlBhAU3T7S9BSgAOiI7TFsC6lAAT5Skoc5iRxYrQ29jRzpY3FRU\n",
       "U0YtUyrxuZkBZkJu84XLeQhh24B3KSbt/CedgOsgKX6XB9dF++Ft7IovA011d3BxdA/J4af4VvPA\n",
       "Un0hfNB99LaFLpU+1ZSZDTDF4JYSq07wY2cWO3SRJFwoLAPGts02J3ZTQs8sXmR2JHe3k8RTOq+u\n",
       "CacnMXN9C/uFh3B7/MQvZepPhQkY7/+tB3sXIJqqNZv68P9MlOq9ehg30Rq6YYkJTlfSvV+YbCeb\n",
       "kRbhKRpA7oToF3wd0suYSsbir1qVtCqYbKxY+rfzlBAXzd4+vaiIj6LODCpp8g9h8+CqJKhwP8p3\n",
       "jsQHbwIeuNtp8C7CV1nAHTSlzMLZkLO9RK9/Ix31rN8m21ZqrqZFkIR51AZIuOut/b/ED5N8YY0m\n",
       "j3iT6V1zBEGsLc9y5+ejZeoXOnzncGWfZvOPQAjuICdSCFUEoxhL/lWaUvEVhUezqErX8mdS5hd7\n",
       "+FRx9rgmXSa+4EON7ljt28OX2Uhy3ZTIou5dgNn9iQUtzYI94BQno48onOI2WhKmBblCMZrREtP+\n",
       "lTg7hjhk0hcWbCKHRVSMEPgW7H2j7uNi2f7CClSV2KOd/tJP5KwQPKM23YeUyXVPVodOSRBU1X5M\n",
       "bXAnbGsunwfTe1MJ3wnZi9RlqxhZiJAjKCXRQia1IRKlXO2HArLcQO4DDSI7gHEoMZGqiQXUrmN2\n",
       "U/acgbD49Z6qZWBzPJEgBpk3zRUOk5nJuDZ9QEYbld66VAElsGlltGWdvdfi14uSN2ZyE3/oY2ze\n",
       "m+QUCnTISVdKGzhGw+AlWuxd13XjDV2nRKS7RPJP5gna4Af8sMppt1JTbYLGEXSfw9ABIECUw8yF\n",
       "qUSV/LN+4Gl6Dp5QR7XkDSO17CWfIQR4c7ygm4TI9+jh7mHIRvWJ/fv5rjaeU63N8wCpdBW7Xs9g\n",
       "QB+vRdeHV9F8WSQP50Hj/efsTx9dazWtol/QvNfQPlBPaUh4Ax2WminQZ+aq4jCUWsCI0eZT4Ot6\n",
       "NECA1VIS+Es7ODyfAAAFgUGeYUUVLDP/AOKwT3xKsivQoW8wH+oF8jpxADVhfDg2pE3ERMzpwDVy\n",
       "kUt6r0hkG19kqwJO5pU8JYdYC3M2IyZwrEhLHIB2LMNVQaI/RLBhtRQp9/Fc/rp2StZ8Z+150Z8i\n",
       "XUJtkt7UUFEJb3RoHYG2PNaSoXBH67VGDgVlL3rzHl49VAzaWS07VPCn8TSUvd26hqvyqebcPYru\n",
       "RIyIbrefYBRD+xDBGP0T98ZmI7bPGGj7vecPCpaVTZ1xozlf6hiSVyJckr7w042OVP3eSHhcCBvq\n",
       "+LZnAW5AWfB1Jf7bVn2J4IJISg8r6B8UceHhIlFAi9r99tQPP5w4506PDdPuh565FdByyrra0ksW\n",
       "Ihh32FcGu+5nBtl9lUQmDAZpbEUeSUh+PAP6Uu5E8R0p2NB0SCuiVfbSKpiHDKKT/MCtbj0N7Ri2\n",
       "nIDLBCaxfya1GrNOBnH0b8IWjkIFAkipseAfyT5UbLMoixmfWv7ny6JPONk2LDGKyqqq7D2qHnIF\n",
       "miGCsb3J4gpAhC4fsrWbhYi2XPODeQGIDG5CiXAoCaGxUlziYIE2qObN/w3HvpepjWST21nzHoaF\n",
       "Re4obOa7ssFgVhtbvlTxDjrrNuTMOKtuHd2/CRob2ExUjVpdCX3wchNuzs7myxcA5tmlMgXbCDz3\n",
       "iOnxU8oSulTKozGxrgkrvg1beMYz1GcOsXvaGSQRX4A2Xy72R4BYaylcczbiSy2DTyTsKVpvso0z\n",
       "opB6P2rYbnVXr75KXpBtLAk4js+i6/0Q+UgoHRhumebTakaECgJcucLf2aezqxqRkN+Ist5i3mUd\n",
       "dbhGtBjDSMkOvg+k8dumoYVvxgPYyhV0tMVxqwfqQvu0OfGauXIW5o+T0K8KgCi66K1b0p6bJTBr\n",
       "tiCEChilH0wyHGdPiYQXT7JsdtZP7cY4r3Czs8OT0HWvtmEXflJiDLehXh9bMPV7zjjciyMTmnu2\n",
       "yAEARhHqWE5OFAFB+AXDDb+HQMQukR0WM+XJO4lR8h9R3MGdZAMA3oBMPYGyCYb2wlR4GoWIjy2h\n",
       "UdDUl1E8SiIyq/Y9DtwLQfDnrvyTf44m8nnWdJgDtNRaDezi3Tsjp4d4KDVddjKvRdSxY/Cd3MzC\n",
       "wYAfAvM4qKgudcSU25RqqpuNz0pV8uRtYw2Bz2ox7TbqvsVlomAR9ARZ78wRfIX6Xe9mwdqIJTat\n",
       "46cKpeoRBu7bl/8fXKvEp1ly4xEEr+Lwm5yoASqSz6TN0BBEdAGpGTjSntCq+LdXiPMaiXTxv+wy\n",
       "RIggfIJjMOUxw957U333+1dzM291Sqiy6zlHeItmTZJzAp0Tl7PPOTeZ7eBglt1d9Gx/WsibyhO+\n",
       "wQCDIw3CwPT9w7d0XP90lIeC41ezrZUTrnNWMIGom2zlDR1tAR/Pp6F6NhbDLco39+2lkvSW7Pql\n",
       "Cj91Byrlq51hxJ3ry4ApG7uPRFXYLH8/6HWNzn2e5ov/DFhTtJg5yVLK0zTqx7pFVI6jltn9404w\n",
       "bFBmjJWlyZWQEkOsEHPWkPz5Fe1wlEEWozNHQZJ567MvdccqRaSG9qDrTShRSfW/08ftdY/bH+O/\n",
       "p7SkxgkNDHl5bdKSzX5PoY4oNy1DkuWWsMPdQZENrtR4jbuph2BnabYhAcIyHmiABYjSOg33NS0V\n",
       "ZwdW6HHpU8G+Ga7xu/U9PsAImaHhilEfy3ipD6/JTf5GKQPBg9h1198zzcKCJTeekNfredjp2+wv\n",
       "jtGck+/PdFsE3BhhhB+hhLNxyuC3EacB458XoFGcyy7InsXW++ZG8UuldqNUxFFwI4i+h7ytbaoz\n",
       "7fmUJ/mxetGaapCzI2/ypAllW+JXawM/d8Cl/KDEdUKYaWDEBW27nLMGATjpt760SBzFWz2AWF10\n",
       "AAAEOAGegHRCvwGm/sWPWB0AgA08udw1h3yTIXhBYOENJ+IcRGEkTnQ0sWSv33EKMDILvbtmDUIl\n",
       "IsMkL7kwuF2MiJmQug3qMCspFezMUDDZfygc9grwbLrbOOyzt0/dXAl3xUdLkBorbXdq7JE/qS3W\n",
       "2IBJiuwQlmVmcRQ5A0Oiodn/pIVI3HoluKthnZGTTkup4H3SxkpaaeNTnxBHyIgAaBZDZd5RIk74\n",
       "DA0o733hcseMq1w4BZimge+FjL83ZD2+D1sIV2frRqtc4mhZ6mxwF46yFv4tUVbEMbtLUKb+z2qv\n",
       "YGuXu48pDtQ4NonLIg4o329U5yQK/hX3rF+8M9726SQtPSVP/He3R1RxSb88UP2orm8Ypq1co3n0\n",
       "C8gqTfaxcnRrrO2Bo0ZWqgGvRtA7gf4NAP/raIRV4PPmY7QpKs9TOxEj5d2j/OwyEuQEc6lhxMcZ\n",
       "vS4K4wipSXN1kHFiRlAArL+iYv7h64gRELn3Bul2Xw1QepJ83RXtEszLAQMrWjJamSKcqjzrbyjB\n",
       "znfkvI6eGyHLN0UqUAv8IO8N8MciNqlmz/eNqtF7c8gr120AXQ8fUDd2MMuwabrAFpln3hVjj35A\n",
       "He91RADTmepMMqaSqShqR1iGsZZSQNxXcVzG87xI2Mm2MVkgtK96CXqIJA8Ywmn7m7wvHC/4iDFZ\n",
       "v+sY2Om1E3Z8/gM2Np67YetjX9J4w4hpvhapAtFWAw+py1t2ioj2dgEYBdvdTEgIEAu1Xbgft/kG\n",
       "+1erQPUZC1e4HuELYDZkMYweBaz75EC3aepR8W/KgvbBUVb+ksaWUtUpEJ1kR8QMEpGwU2Ewn/9+\n",
       "WD6afYBCs5QJDshwxpJgbruD9ET+Jeawk0nopJxC2Lwm94VQPcwe91flgnjSRv2LfuBxPp1/qdEP\n",
       "qH8zu69C6pKMmkmLeRCsjG2ge5dNfub0eM+0u/p1qL6PXilKy4Z5KwBziDbtXAxKl144WtoxYATg\n",
       "jSu+ZY7SJUVdT8NNzYuJtfIdPoliUlrXeozvnT9pmT23+kC18HUwPzG1mU627LUjDTGDmoCGDLY3\n",
       "tGDR03lJZD0nY3ZLGNZP8CjxZJ8UoV+SqpaX/3eyYOrXQ1MpGd2oWY0I8bkAkgLIRSCQ8/GdabMa\n",
       "OTaDLmB7X7DAcvSLlvSuzZApqgkQRSKgMOL9E8NkZS22aadO25h6jetbcfdtFkbpNwjsGkvmTtxb\n",
       "AV8j89letpJbLfCwD6ca+umwiLiWMd2S9qaNaZSR2q1RSI3h3qtxkx3Psk4RwTBX8Va2RNggVh4U\n",
       "x1aMO8tpov2EYdjOtGGegQfk5lb8NF5qXzjlWtPOETXLfvRx0WpWpIGFcQQMeJLws1A+kQPGe3D+\n",
       "x0R0M9KGTuVRlOxJ9jf9oCWFAubbV8+hglVx385SHCIu8rdTuhtzusn+O7T7QUEM4W3VUSFM8pnp\n",
       "WQAABBgBnoJqQr8Bp3TGyazQMQ3LqsAId2XEGeouog5SoQf9bGIzYAeu+TJZYL7aFHOs+Ve1c6df\n",
       "TjARdd5hmgDdJvLhTTp4x74MWXoytuymPx7nbxJxVJp2kJH/zesMKp22hML6LACVBlGZN6iijRUP\n",
       "jn/tCKpO1uUHCIrPz01Vz/uG2kkWBgw8KNSncOI4AWc4gAEg3/lBqqo9foV/ulggrpTRpknUYjsB\n",
       "bfsL5iiI+Udm8lI5WQv9Mio53uVUoRHru5wsNXg41cgvvBwGlh+3jzC3C0h/lTAL84I5nfxTeWPw\n",
       "r4ZTyaEy+6WJ0pRoOm0E5KM5AuferHHF4looHNJbJLoHYyQAQM0jKPEZANUSLerTPqfxSYhKBrXy\n",
       "BLzJoBUpFKT1z7dXy+bRMqJR2LuhqIK1Nz4ioWY+XsHrj+Vg+0rpdYvvhb5e1iWXPk6SzHrr7WqZ\n",
       "Begw4/2n/FiYoYWu6nqSV9lWbdUDDj5jdFw+pgGh6A1WcfxjjLgh+XTjIfnBW21mwJeUnIJFcw9o\n",
       "a4evRoOy51BxYNpIGqINFbR4Zmuyw7dwNMk1hzGY1p3AxEU7PYpylJXokz324xNo9HnKAYT+kErM\n",
       "H0jqJPOZ9jqt0g8kokcRL1iFr9GTcPG5+Z4inXL6wodMd36EutqPZLcJSRcSnFtLkbCEvDGCnOGP\n",
       "JZPvwlISU9nDVlopFGxO5eu0Q5ZT86oTTy96YLN3/iBBE8phE1wl6n8++dIROnS33N5zFtZVoNPA\n",
       "AgE61d76Lg9YId/qttcmuTeFnfAh7Kh9sIPW48nDFzFBmByVtrVCIAONuewWk/sAqAeUQSZbjqud\n",
       "Ume+eraNFDU0Qw1U+ckLUdJFOki6qC305im5pBUV3Wkk1jeOneSNsQnfK6399422SFxOZhJUnY9E\n",
       "mGh3y97Qhdg6iFp+8asJxLgXMyGQcmcVylNZvPrqYeis7brHyqbjIkx8irIOnVm4kp+Fam+qmd51\n",
       "S2nFRrPCY4BH34Ln/TqSRaAPbsgjsOIzHerFmdcGwauwV59+qG9/Cuefat8saWsRVywNB9oDjoYD\n",
       "h95pqdxlpdTUiptuaTOWRzEyWPjhQ/Ex7VVV/0GT8yFtuNXanx6LEeyBYGZxMoyRfcAFrWO1YsQG\n",
       "WJtzeZcaWPBRwxWQkIwJaYUP+wOB2rL/68x9gxQxcgRzYhoAWmHQOKQHidQEGwTx4y4LbAcE4cpw\n",
       "H+K8MY2++7S4ngqS8/O0wQ3XqLPnCHBS0g/sXvN0he1K5LgSgNZ1m7e0RrgqjsuQP7bYAGM2NHoC\n",
       "l8XzzDFTwH9d/qziswRRHVkRFRvUEEvswOBARfoa5nZQ5USSVeK7r0n/zFS+/xwjWHgrn3Cczyvg\n",
       "BlyQjQvyFgGmM2TtoCgBLPY/MpBstfwaw0CQAAAN+kGah0moQWyZTAh///6plgBsrmCIhHvkxnwA\n",
       "BOaI/IXKAr08sEPaaGUZ9OeSfHucSOOXOBJsZimS544bEZ9wFgGxXWrSHvd5Bm53JnRbnW6GohTR\n",
       "X70SKvgndPlHJycvfpVrv4kNPlP51ZCRnpCEU75RJiLcizy2ijNkkdyftKPd6ohaG5dNEepoK4W+\n",
       "hgFOZUGMbPdKjUsnllSYmiyUGjjkBnDYxeO/f7exJo3nf+B5tRgFcwZY3+PbBspTEveOkHr9vlwg\n",
       "1uyHWL+KtEoAd4tmtytiUwVBVq6Tcxnw6ELmaG4fI9F5VA7t4gpyiCOurfDSLAnJLNcPDYNVJTsS\n",
       "As/DjZUAIc8DmWDByiJmQhKX59ss2aPLYo9XJhGBDitV60RSJS/EUkm9gjsFJTr3zjNx91SDI3jv\n",
       "dhbqUUfA4+JhkkNvatkY7Oti/6O/Oi5/OE7auDLG9d64bkHWkxLdUhHi9WwkjrxFgstDIxu07VGp\n",
       "sv57/nCcvmZxr1gZxsZJtv8AqR1tUMpzQdKiOQs5XPg3AsGh8b2FAOWHqcQXgHS3uqiMCuaAJSsn\n",
       "3z9UU+UX0LzB+hZPN14RSsBEn97xD3rciDQbgbOzyaivjyEFZs9pLMSgWfmJVK9J66TmQWoA/l5K\n",
       "syFjL6jcXlksdVdSdXht23uSWp2yTUM0adpedMhC70jsdJtdP+G4UbQey/IgZj+AjmXTK1KB7nkq\n",
       "0ccL1vJRUA6HgZu78NoMorZPNahrrmjMWxd9e3V/Gvf7WfvI8O69nXnWFYEEoKvEpyiLxyK2PuE4\n",
       "qY9KTXbyPnaaCLeU1aCwuTpNCyXsGyQGjPe2BuihzFXgUBuUSGsaCi5w/7uv2KM96rV14KBkOYiO\n",
       "Aa3/xQyttNaeWrCLBGSZ97ngPKHqJkZviu85fL0ZJPp/McJDoQvsaqWDILMFsnggmD7zVCyUP8xQ\n",
       "WK0ubX95xa93XSuQrFw3g7ZdCNR2XGfUaiRSVOwikLnXdFvOYwJWy7DsLaq/gCEExDbEdC8v/CAW\n",
       "10Sv5xBAz5uclLUCHB7B4GaffxlxbaMQ1piX3jljLzLj1lW5iL09J/LBvAtGM07p+inQXvdOcXZH\n",
       "huARyd/w4cEeOkX7A9pGNghlj5g/IFDwiwedUnyn/MylWti4VOFi1DGqwaA0XLgalxwRgLO4SD6+\n",
       "Tr7cx+bsx+oKaoVxs4lxtCptqw46vZW/S81OfovbwGXQHLoFSJn67ZUyWu2DHDeSvoxGOWhbh38z\n",
       "va4CyegGYS0ExtKUinEXbPoPjGyxN9/ijmkn4ynaTgdP1UjeC2bCop3qYxBNEznH+v7ry1/1ioro\n",
       "uuzOfBx4dsarEVWYMyKnULiOto9Yny02FpG+9GeIqOePS2wDs3mfZ6MjYiNZ/Jr+sM8N+Ui0TEqn\n",
       "+TJ2X9FIhvhHsvqCU9cH1NtIOI8A7hh6vZ93I1SBYKIiDY9sK2oKMcmIRLut29wiuvd2x41+KTMr\n",
       "0444NVlvIXhmkuWsgf331HqhwekQBQEAHxWXopJNiY3EwcdR8wfDt5G9X02PmkyhBj1qZr6Sa5jQ\n",
       "kv3oajTgtm8CLInd5gwivy6mGHBHjIkapl9GpytNrYjtPpDt+QdpE5f7nNeCM7TpZ78ZjZbKdneh\n",
       "1xvJO3GtHIcAHvJTFhOvBz2yHN7HeTlgX4iR4yegYnPr9hB1EJQrzSfLpf3BHH7jlW5H0FAZS6Dp\n",
       "icliI18HQiQsrh4UEyHCFDvIb1u3KXxyG3U2r8PFI8XlRpKEIWllK53d9aHjHy1fWL/f7JuOWjMX\n",
       "Ug5/R+c2bnpJoNMVrdj63sjShhJLasSxKs7d7FmyDhCS6+NKby3LnA0U4uQMCmKgw3jviZWXLTAM\n",
       "VWsgr06wqJWt+KzY5wjj00cXScbBuwzKw7ZcEoTta2Abzj5bNZpl/E8XxpCSBK3JfSMqNCKaDUSx\n",
       "gumMFshMC/fcNoTf2ffq/8QMSlTp/GG5jcnB72lZJLEADrYTKschubJfeO2B1fR5F/DWGozKYd9z\n",
       "lblt4eJnoRnfsvbm9tkzqi6sEwBfDkzDGPEcmYRMqdjpDdtu4TWbj3xWFFhlT7WPHvYJPCEoKV9H\n",
       "sV8ujrQOYAymRjDgRaxdabqh06Aaue5NbiE0YQ2fAy0/CG7ycOd5fnzvrbu5fNg0LKtIdbEtNQXU\n",
       "6t8jsNQODUagpMEZJkM1UW2BQ3GnnQs9jLkwHSsgvYoZ2eBeM4JOFm/z+wQKNX0IXjAM3RO6vvZ0\n",
       "SeYzf1viqHF1UUMoLYNQUrgAtIQuEtME+JyQFj9xB5tyr+KuwIIYLTX2kq9PSVhg9uMLrW1eSMz5\n",
       "M1dlhR0QkO+e+RwbsJ5K4+hsGpu8Uz5z3EJ4QjKNoBFx5KFlPnyZGTzjTMql8zOm2cqm88Tdjg04\n",
       "92opO4J3frCVBiJAVZEnf68N9O6bC2+9tXsoXXSjPVeOPfRI+LUHepVfLhZMQcpmwDCYYJsqt4RA\n",
       "EhIJszVFoc2x+zZY0suYP2lp/hlNtCSHUMQBNyoWl9LiZzeVHRcoQwTvTQJgjNB2G+EJ8TRU1B2+\n",
       "INlUP04gjnUttJnyLaLO4hcG4l+OBqkBg+4lLsV/lfLaK01GhFb+clTmLhXj7opGXTpwkeCyreDe\n",
       "B2UlnlZkAw3R/uM/lwkUW0y5rfKaA/2dNFvV54HV1wuq3u/lBDGeh+iRSyW4QdltgjtkcwosAOMM\n",
       "cmqpaefW0aSuVBSutI3ATNTRqRY9Fwd6RWC5gQZfF+X5kgNS1Hqq2e0IEmdiVxSx4MnlByavjJje\n",
       "oVcYELM+FHekxvA44ZGXWMJUneYfAMVB8t+fJcxfIWjGH7gad9Vmo7nOJ31WR7xK/OJNSmWU54GL\n",
       "q2Ygx/zUgkK/+a+sg/s681eUrEBjG3Oc+IVHDf/+BkFgj7R0ewSbZljERsMNwj2K+LfPxws9GCHw\n",
       "hyZB80LX68ttjIY45pIT6fLDcqT2Iy1bEHuCywMMAvpQR3VVXN5adzb2ttAIehKKWreCuuKpLKbY\n",
       "cl4Ai9VrcMy8fKhrrSk85IT/tc3MSbRoxWleX1Ng8hcDepnFEhPU9t7tf7HrstdnC26m3S5GTVmQ\n",
       "Euw4xSac3fY4OBjhp8wgCYL6l4FhG3BgXBtaVeUSBu9uIVgLxERzzGmleYdfez6Oj1JEuhpLCbbc\n",
       "NYq1mV5uqwKD5aVovBQqgJKpYBAtT/kOCYiwjQ8/keIfIKaBN5pJbGo6px/H+idV3im5mCUxp4QY\n",
       "atAu2f7CqvQfYt88nNdEkcuJcA3pTYILEFMO3n2xRZvf7qt7lFr/+xgrAQmoJ1T93RKwhpbT3DAP\n",
       "gAjcGl76nwXmwbmr+B1YvbwpL8WODtYE1H235WTM1zqiu02u5j/8y81zPMVw3UXGAKeS3CaxW87X\n",
       "Yeh7KXoWTrP+X0rlEx+zyEA/VuBL/Ihodgh/Q9EpBGWHjTCu6QfacjUiMruFgy4uxJdGOJUuNdCt\n",
       "OPjhJ5+BmNOQTxrQO3GL3lkJ9LcBjG/7lxePolTi4anLjQ6TDggVmcMHLzO5RXGQoLUkMOSp42te\n",
       "aLxZpHYfaW4dcaMSOhtYE3ls+7UU2DbeapDMPIYXB47xJb04lqwEIqL3mUKr3jWul8kkGknLmrua\n",
       "LD5rwBA9NFBO1Es4gK6tK4Pj4uSazJcq0XY+JaSQL2KLGS2+Y2mBQ/eUlROs64QjG521kEm97mNC\n",
       "LWf+wk0O3e5pIPuWJxtHs4I9OAxlZ0Zwvi4b9mGuDLZDkCO0ma1R53RtLuw5/BN/E79n3eaFxkx2\n",
       "ax4YLlv0pWOmtN14LwA0pk+7k7hHarAY8ClsmaZ4VM7CR7y57p7gX2Tke4fbRsFay57d6VV0Zhr6\n",
       "pl7TX5FPcF6IOSnqVW37SEopLtabSiD9FAfaTmcetwbsefa/DxlU1k2Z03Rj8cp0cGn2GM0/93kZ\n",
       "POvWSFDqncxlguNMcJW/j3Vskrx8mX82eOJSqZcEpPCm+2IeP7weEcSHEij2XnoTDOu1ULT2tlG/\n",
       "cA5qO7NTwTEFnYvTsNVm2EnjjQbZ0CTsJhpCcaKL+op4UPK2ooqYpGWXjqYRolUWx3q9AcLPfVEv\n",
       "5SzbnN0Kby4E+FiDu8sh0UPjZxmXRAMaidIIR6LtDlbW/coNIVB5FaaiXrm2O+Pbzx3E/5PkMg2u\n",
       "7tgJr8IAUYe3zFPP0w1goZKhKGKrsVC61xHBsEOW29FkmnBA7PpMIuACOcyWPIZ53xG4Nrb5Q843\n",
       "rtSvNZ9w0GJk6zkn/oNzHYRsMWf2g5yoDBXA4OI8LHJPpxYb9Okqo3XXUBHhtR/AGoZitWHyeoFk\n",
       "1khwY4DXIhJme68ufnqmCzBlcebthd8P+A2lR4tBEEWZ2a8M5fVAxiM6+4uonTwocj9W7YJtryCn\n",
       "XJxrwidXXoDm35A631FskfXhhUHqxxR9rQ/8LRNa+h8c4iiWTrqBNCs1292hClL/Il6FZVyRzCZE\n",
       "ukEqawvldYa7XEi2OI0Q+Yvsaed7xRjuSYQ9YLoMS53nnzpZIIVr00u4ME80lPDja4x03ln486WM\n",
       "3BIc5OI/kPPIxhFGmGZPapeGxClmIQnGBnfBI4qLYeSiyyADLkmDotn0bBuPzc2EheO/0N6UaylI\n",
       "0oxf+2krutwsGc9vzjzI40/Go4J+OQvNBhtaXCDYZ9uGd2N1VZCU1INKdTNL58E38Cbh8LeoTs/g\n",
       "+Mtv/im84IRRR/ANOAjvkhWaQjPHN8Yh9btiNQTfqZuSxLVcPYAS3vHMCO3VFNfRxJPL9OGs5uWD\n",
       "EB098nq60Ljzhr6Q7BxMxjvRAAAGGEGepUUVLDP/AOKwT3wiT8YkuC8kzUUZnINoAaQpMAReWn8M\n",
       "5L6T/W46fFcGPB8/T9JBWdC+9S6uxv+fzNhPXWSlqtsLviR9uSV/FVbsGxel0hd2u0QuIyV8Ppz6\n",
       "t6rjynrAbUfrLYloTbO7yBu6gQfferGyqcSVddwVvUGetDK/qQhLtHNUH1ejpYTnoRZfVRmml22i\n",
       "zUgtVOisfUSt55uzKCjPLG4dOzrCb6ddpbWmupPTHcFCkgAHEQoEPthhtemGpAc2szvkp/SZnqJy\n",
       "HHupLe6An9RbatMiTHG40Q+LjWegzCvCT5LscJTjZpQfG669bPTZ0csXDMvm8qlH+EJgTv8HQOgZ\n",
       "4binzZN/8//TRxZaNKNYren08d7E0cabTW/mO4Fr1EsKpMdX3ndqHBQfmjkX3aaISqHJqAbrwAbh\n",
       "44RK2YxBFiAW+wQMlDLArtBPQkccDpXKBhxmWPDfUlO6KoX/5srvF9Yo42dSgqKP/oROs5LX/E8Q\n",
       "+g0oUtO9OQNWPD6OOs2FuO2Wb9iMD9AHPac6bFgVaCHUFEKtGn+qazagSeUZEnjLb3jUaYuPMrZN\n",
       "OI1DDWG7+sqMxoIet1pdlYXy0AsNIa2lM9+Gc/Poa6CVENRQA5pvFOsXaDWyvRbMN8uqdrhHIRVt\n",
       "Kl1LTPklHpQIrQclGrEAcCoVMLWxk+1gSn31xt1bKgU819aCyRl+fL94/nBnvsXeu/p0cGBflxEB\n",
       "oiZ7QV0O+pWkPQ2YjovVNVbST/oayyN4lbU81sdaXaOwt9Mc9N3d8mtUUU9Bcw0PfS3JTA6GRlBG\n",
       "kvfwyQUqHlHvpsCyZQdwAXfrC4fDzdeNgzl0189bKTkYvQLdd0YyBX1DfZhgSH5KS7U7uuCBtb2o\n",
       "6T3HiJF4GxN0GqOmj7Cdn7rq9TvrSh2ROlCLVoBBNC2h9w1XgZ6pKR+djPcEwAHk7MDx0obRShzU\n",
       "l406ckacoaJMNG4EaWbDYf0q5Orx6gHQjZz9x9o3Ryrc076maWsa9G0pDmU0X2x2Nf/yxnc90WK/\n",
       "IWnbwySPw8qOswvjkquuhsfMse2hO727AMASX9S+fhYEF3mMcm8dbuawUFkt/jxCgDT1u/EkzqmK\n",
       "iJKLx9YEClZsR48JLtdXL2bQjTIBHECksKCv9S8JrRR4NXSSPHMlTlduhp6cYsWDGMa58+T454e3\n",
       "uRiZ64dL8fQ4Kl6I3+uIMmgl1+BNDL30PMplnIi2tk9vDTO94XbrQGdMMg2k5LX7u7Ht5i5gIjk0\n",
       "S6u9nqmCBWhbu7R6eCHSkGmPImQVtRtuakU8+aM5W1TwyFJfHQzE5kdMSr4WE7RxQ2HokCPr9sFQ\n",
       "h75rrt8eH50fVY9ROCyXy4dJtoexib5Ry2o6D5LeBMXQtTrwKNbR4plXWAp2zfCP6Lc1Jj2Vs5VP\n",
       "NctVLEDRBu8PnfSFh4XX6oJu/99cgkeTVLEK2nBZ8ogBA/Lu9Rj50Xunhag9VKMAcYU4WdgRPov7\n",
       "u7bsHwip932zkn/3Hq2DAah5Kx9vLspvKgMad03teRCt8vN1aGbRGCA9okVP7CkGSZT1hKWWn4/z\n",
       "pnJr4DTX+AvVSlsvdy6CLmed5CprTfu+ygOZV9+fXSxKQyJqpZpufDsUEtKK9fk2JSqVnoDDtdoa\n",
       "JDsmSa7n1WNfR4k2/5l3XIjHLxrmllDQ2snYACwHpjSGqp1DODxzxGZxIJF/L/sSvdWsLd+auTfP\n",
       "1rcemCR9GeOK+AULCXN6AOXBThUHtC3HumOQyKdCNmVmZjTWcW9AFe+CVeq+izu409re8a5wnW98\n",
       "BIpO8kfq3g9DNRAv3DrxqzlROvgnzFbbYOPp0PnzjuNYzvhJ41WRMYr0uvxAmA2gQ7vy2RNI+Hdh\n",
       "vxeGVu/zv5qjOlQWQcqc0BrFG/w9GkhyOulloUyD2bgZOlY7O77JkutdxD+jk/PsmVtL5qiy3V7r\n",
       "sYMZsmO0sfW23feZdmbbaQleDE6RdGaPR3YEmCQiHMIEXiDQztqu/6mzpG2sSs6l/LF42GTwqd9+\n",
       "M7p7zP1Y3pr3QmXoeB7P3NoQLBFl8XHLbKs+w6K/oPkY4sp/RF+/X36jlwAAA+wBnsR0Qr8Bpv7F\n",
       "DzhvvB8/Dv7twBBn/h1MOpUX3LlQsVRYG56jGGTT8CkFnnZb9AgVfRyVOlMU+hsutMtDDs6Vp64d\n",
       "xblA9/55vbD3YnTeyk78nD82C0q+AZBcp/pKnXe+shc0QbSENIEwaz1b9dHLXOo6unYuEUMfStQs\n",
       "KC98xeJOcV2XDEnkAzvOQW8OBrFdzUclExtv/excLsGIQMJCoFcfi7RArujd4P4KfuPxPtxIs9g3\n",
       "aRbkejVVdSljzMFAQ6olDHKI4W02bPbMmSj7LfISSdEGBj7hgrZM3Gz7A9Z5U/KZSA1MT4bVP+6J\n",
       "jElwmmvHLIPJliAl+WmXhopr8QSUqz2oMu9/dF+1orU6D+cQuWn9nz3xYxmGYFvbg7LC6b4AKcNu\n",
       "qXNgUuNX12cplWumcdReA1YTIhvyv/vv0OMAU/tqTN/UrDAbQIytVPxEWqU6WTEPZxfsByynA1gp\n",
       "YF80KBljPdJVviBNGtZHdEijNt+ojTr8lSVRz4xVLOmwK6DSZ4G5GcpZC46Q6mM97gZEBAIpDTUe\n",
       "YtGaRHVowWSw1IcDagmc8XfqKmR/+MDmn/dT+kkEaidwlJO2Mt9/Iz9MBhi6gLErShojMIfGitDk\n",
       "mB0Uj81WU7fndJGh8a5nsScgq7lddPpSeqQOtZZpbJ5YwGwEDbYq7DfmTT5yhp1G3ki94VgLRzJ/\n",
       "voXAvA2th21pvMwwVn3YFRSnDlFb+kOL1AO62vyZTmKQZ0/36NbWxynZ9LzaVgV0o8MQMejcu3Xo\n",
       "cxn9uaT/ssp5UusawkdbV+sH7kGXb4RhEcvM7ScMA4j68xaY2GrO9Dqavs/44Pt4tznCQ9OmkeUt\n",
       "96q4grm2d6ukRTaqMReVQ6XzQAcb7pvqC+XKgb62Y3WbQR8p3kR6hvg0JworJrPVs1qxNxw8tl81\n",
       "iacvVHOGqLf7IGU0s5Dd4Yz/gTlCGGUDX9xlJ1orqmdwvQiXKi6i6SM6wai4LsXE56UQZaQhSpzB\n",
       "gufOiMZXjYg3Nz+54L9FCESzzJlQ5Q333TCEGA2sIGgu47adfzKpvJEt64HmF1K0HEip3koS2MON\n",
       "qP7W+YVzdp4vT47wFRHK/CObnr9Ay0DvSrzzTgGykg9aavmstKoALXw3rXO8JsUT5hs5JdVuFIw/\n",
       "yHoHuJd40fPUZYbxzfu4dDzj+C0pzbd0gvFUDBaK4/gTCDeyCS/0Aub9K8S0sLh7XteB9JQix8kj\n",
       "7gzCU/JSdMoLJQ5EwdvwU5TLnefkE0lA55luz4VhKzIVS7FJYngVu9USMqsQUjFVOi3jlw08zFQJ\n",
       "AA1J0EZ+eGD5RJnZT8S8DBuIEY5cZeLdiQAABDYBnsZqQr8Bp3THvH8wAQelw2wmAG1uHRp7BlEM\n",
       "pW5LLwxV4z/cSAP9r3fmoJo3UChfK3+A5H92R05Hj2zCB7YYQjQp2cZhKQwQ/gWvcooCuEHz4rAA\n",
       "mfo9MzOH6kytNfaokj2wNXXFOXeVQVMSpnWnbabl5jZWWcwbWh+ReqUlpAsaFzCvice6HzXj3vx5\n",
       "Ak8S3QMbD4eG7eU6BPjDV8IY1FtKKUUT4dVLBMzdA8WvCEh6hPNCskOOHWtJOmNUfzyV8Vu91hZs\n",
       "OM+x3I0YBlGhG9yh2iJIfTpDspXEpsK/GNsbnfHxdYFysISQ5HjAXdR5jD+txS/4UvBkTgbJ/wqD\n",
       "3Pfv+2Zk6bN6FIX45Zbgqk5C1ECZk9hRXD4sVyiOEdRRsG7G2Ek02/inoFRfGAUZIZyWjboOubfM\n",
       "ZimMJ8Ow3NuWoo1zhzyAiseIQxVgRHCNq0ahMxZVhpvi+BiNzP3t87prUrT58l6rjwW9n7ppTGyK\n",
       "WmS8mkSn5iwSb1QHFoLzPeM2ruS4jnVdKIp049LvT4vOAyUsGiF2/emzZ9QnuMuCxWY/QNTmUC2o\n",
       "HA6qNT9bYwWsqmhhpoFahj4K6GoDzj9NLyV7mSUFqxrnurhM9t8YByNnlKRhyPpIo12n0RKRngnK\n",
       "/2kwFdigPdYXeMDeax8cx/D0st2U1NtGq6baL/5u9N3eGs26koV2dUMvKMirb+EOLZtstWNtjhhr\n",
       "nT60ily55Brr18j+ie8X/hpJG8QxWcejvMDHZ0avG1CU4qeFDZwQujpzwBb44R9+SI18+fk7mcr6\n",
       "OrA75KtfYNoE2A2K5gRzBnDANOfZr9WprnZ8uuUkcCiYo6f+bfi5jnoNRfljcZoyMnYCi6SjQunp\n",
       "xaX1Yb3hK7oG9JL/O9GG8VHpxtBh5hZYCK189rvHbjzzGp2ErAumgFmvzc7LnRgH5XqcLOM2seHC\n",
       "n++rq2r1xL+I2vfS6pdzMdIMhsGHYkkPk12RiX0H4uTPn+gQzjcA3R+BHECdYhYqhx/MFuUahw2c\n",
       "osapWNCqzVjPHVn0CL6cio8n3cJ4lCmyWnbxQDC71OCJKuAzRkOMkvEmV9j+DQ5HCWNKBtkh0Rr7\n",
       "/nqF8oQv3ra2T0uqXw7sKIdg0F0iXdEotugLdxpmR4fsgD0Yh7udmqZPdGZyPOfDC/9xLDCFQpAv\n",
       "PNleKv1ESVDZ167HoXeyGbRUqo9kmS7QjasOGbXE7UsyUkEc0NDfQ4QrxmsQ6oNuAB9v5LzQhJXr\n",
       "tzDW8pMXRK5W/g/A195MnFWDgHMgr1EAzAjWdYMRMWd/5asEPVCZd0b9QmuC1FgXl4kKXUt0IGqo\n",
       "if5cjUv3MHr5A4Y63Mk3zIj/bu3lhIu894j87sPrAipepwSSzHdoeJnmP8uboO61PM4bgaB+o6Km\n",
       "Z72IgTlAXy01Lc4BYFB8eFKY3IH1rLVBAAAQKkGay0moQWyZTAh///6plgCcLN0Q3bGYpLgBYUCh\n",
       "p0fLk+H6TaaHxYenJBd9Ph8jihKEeUF97un4wycxaW2NzCsshG7M1ORkveyoP4CJz/epiG9GOs98\n",
       "suiw87y9uijWXTOHIpMlfrhC39atM7Uyx/aqjBcPhOmG+gV2oCGPJCblwuL1xRHkw7x2qFlaewSr\n",
       "2JWxEvSrAcotQ5N5jwiLyAsLAlYO6RKWoZpiLzrZD3Q/9wawpAgwS73NCi+8aogMOTebVvvk7arT\n",
       "toWiJeYeDIAkZzcb11kcIJT8apMDNrRYNhIkC6GCLxulUz4dc0RG3S84yZ5Jtw4eQgvYzCiLLnyk\n",
       "RULvibJrWwM7QcX0s4vIt2j7QY3Q3qfnQLerxY2SUHDpRMIllDNgeTnSnkDAiqrhazS4GwRI66hs\n",
       "ZWCYNUz6vJh+uoE4BjsBskaEbeJcqcayzOLkqXSdt5ft1ae8/xgTvOtW5Ziee1jMtjXsbvTi4Qkq\n",
       "RMNqAxSkirVJE3hBa/MFqGBhNvU5pWgX19N/jQmUGcF++eNEKyX1puplQ7Jk5gSui6EpxXd8noJp\n",
       "6Pfi+D46OiBmnKwn/SOoBINJgySTCE7sWy0DaAiJhXHoBuwCP4PUymbNDBhfRSt6iuXk61BRN+ys\n",
       "SHEZYUH7soax6eut2We/7MBEc757oeVQyzS8PZcj15FfsDzOzsY13bstzgUolQ2GsyNnnt8Vl2Ew\n",
       "z3RVkQUKM6ohZD4pjPwz0LoFvOhDLmNEKABFHHCqud0yTm0orHpMvaEQBcyJyeox8E9KDM5xy5vY\n",
       "YAXHUYDNBKh5NBWt6xRZ+1/CTzvr5SnvnC7K6h5aURKq936YgUpZQ1gcHI4Rqncl8AF6WAJuSY+P\n",
       "0dKNoHMxdIJXhgUITrLWJosiGxInDrdKrXyMEJ51CWiWa1rR8L9vQEAapZKMZuzIiTNfnA9q5kN1\n",
       "pahgU5OrV+TQxrfuO0bsexMQD9Js614WZXQP5//yksbeA8lIw1D9kYG9LR3+nlmGJYk9lA6JyJ60\n",
       "5Tm6JqLkJUZeDjAl78+JdQSLwo66R3AfQ6DHgWbND+wkg046W8EL/7Nc5cfOhldmxz7bB5/faF2T\n",
       "fOX2UU423WmKNxnN+rukg1+bH5p0DAHczZWx/Xr7K6CyRHZUhU0lGs3SmLVEHKnD5QnhyDuDLThW\n",
       "J6FEYXC2TGuvR1lO86jAw9mn8MWRTs2s4W6vvZ7PuxhS4OK32WUgO7BLA4vjHFppAUPNIOwLlRtw\n",
       "azjdO++fPm8TD25XkBTurJK0ce7MnobGQfhK7lQcVuHaP3+Xg7BJiiETaqxpROLAP4MMqM7K9Spm\n",
       "u6PWINEhGnQQmgIDKSOV+OwrQzxpSNwz75uOuDOejHiA4ou+ZLcghYXuOG00sB+HrkLT7DmsuQi8\n",
       "wqJKgNkYVAm1FSo5Ogosh1cxkGs4x7MuFgqWXcaRawBfp0AWnW/cVINzJehA/YKHRFfl5j+bBV58\n",
       "cxCTmDZeLWtPngsKrwEOi17TTx5xBn02dGCWjczTsZXlVTwcyZja4nXF3AjZfmtckeaOSpLVUdE0\n",
       "Yx5vY/crNdZIgTvrL0N4h0I755k3K//ZUECTbxcuF7TPBEa8Oc6IJZWi/UhpY6yGGADxurXMfNVH\n",
       "B5d/6uOewg9TM8E4zZWnkesIUCVG98KXpsJ/lqwl9hCBzdFfD320LdWZbopmw7ghFGAxwxtx/xfO\n",
       "msvGppU80GUP9wS57vkHnumG4HnoMG+fyghTJeu2kE7hDTSnHjUoaSAK9qWp4BoLyYBXaiAq3JL/\n",
       "mP/GNmcf58jI5HQ7e4KHuhsy4sTRYqTAzt/zCyC2sUd6gYEa66U3MieLbgIuCi1DXpxYvSb3bkAj\n",
       "m4F+kuUPcz3ru1dSCOn+YYe9Ij6b9qaqh/HOs29+xh11q3BCHlDybb1ku1W3U21WHFrJGMfXZJpZ\n",
       "QL94OyJuodnSWV0d67ywo/jOwi3jJZVida6ZVWJkdd5K69TYOYl8vHa1uzrUk8Vkd6KS5G9DTT35\n",
       "hFX19mkbdG/663zv7Z5JRl26qeUmZ7DW1eW1zlyzcOewXd0ySRdEy89ljJ8MuGAxMgF1Fe4S77mJ\n",
       "83qOSCyo60RHQeJ2OnqBTZkh88YfYkc/0Ba1OD6bGWMXU04fUz397qdnQ7oLMv1HFUS0wkVAAnZp\n",
       "f2iwvZVfVKuTtSe/oRoUOLhTHPuKjPETkEpyR/YMvzqluhNaIe+FBQz4AFvaQpr+p/2m49a+GH7J\n",
       "10tY4L15jXJBR7dppmF8eS9YyCGwI5fLEMIYDx67MgU6ccfrc17mLdjSTTI3U5+leFqQmPXCcnvD\n",
       "uEGIUGfhlUCf7phD/crRTp8rAsSbTjbqNJ/ccBNNhWmI/eDea71wVJdiCeU0aJF7XDLoE6DOc8mm\n",
       "GZFDkuoy5pjnGsXsComH7MoLykJVAWuAW+85z2y19PDJDdmscEE7E4A6h+l9HCWIngMyVsR6D9rk\n",
       "s3x3lf8+OFZvAKi7IqOIHOdaHqqGxl+F2Mi5p0iwDlAlK+rHBLiWJeIlAxryUdPWKRoCfOdqpsVW\n",
       "3JpTlRwpclzG7rulga9zDthzxBouZcTzlsBLZoVCfQIQiREk+LquvrgSwtS2UXxLeZHOjrmW+BW2\n",
       "50GUAG7t3nF1Hj+rFIrbk80FwkeZLwVb042SWTp0C/0FpcTEJ+BURRib83LUnRO4I1M7TUtBGe0Q\n",
       "Kr9LEjaVjZyM4KzAOzOEN5aNpp0JF/0xzd5kSFD2lzCkL370HqXtH9pRoS715qosz19MbXE87Wzb\n",
       "QnGMfeLA2rfqVKvjrjXcDyJrl4MqPbtu9Ew20lCP+xOlXhzqS4as/XlKSxDaxBB/yaFsHue0PeZL\n",
       "pyNJsbBRmkUMn6XN84OpVg3yX2WJsu0Q6WhwBfzodgC/abE2fih4ZYgM8q/ZoTWQZWA6UBJxoY1T\n",
       "F64sXKpR7JRV04u6l6GXNkFwBDrKcCAGcIf0pK7wEpixjIgGxx4r3S1m4j+zktbmfOd3kN9owL7a\n",
       "tzax3c2iFj0/C/hQdfBDtylqGproqXY3CQ1/7zhzauCvj8JTUAFtk8cRVwKT+mN/4worDVQ8CeHh\n",
       "X2AA6uz36g5dXwekabSrhjAsEk6g23gBBtDmqQHckHs3sp7GTUtBxL5hI1+bkyOwHCbncUrQK9ei\n",
       "HSrJQI5CvAZk797xaaYUppEPUfSZ6GSLJ07IlyWUI69tyJFrK2DolrUjOQyCpNu2+PRaXGtFpNOv\n",
       "px5sjMxBEQOzgrpDXla1rrncdqh/0tgRj/K8T98NVCmohKSTjqETXDp9AGIS7qfIfpTQofJoX0c2\n",
       "fIYidd945e3c4Qjjvz4yV0Yg7nmqeAwgJ8zBSCu+5TFu6tnJNf3jjj+JR+I+vGznSxY+NNejeDvh\n",
       "PN80T9/ZDpxJRKMgpgywhLKUb9jYBEHqUF1bHSi/NMqe1HN7tbcHfBn/oOpXUJNXlFpM5dUlR4IW\n",
       "ihY1JAAG3/6X5NdkPhhR21lM1fsj5bH3ymdaIkax3rlBu8o3hefux4WA39D0pj2cOnHqg/2oCD++\n",
       "3OBgFTzfN1PjVVXcJVoY7mW+QK8cLutitOJKYPOyWMOeUT3WBLqOKldwzaddYzs78n7Ma6yesDkC\n",
       "penWEKcPfG+MAGktR626vQYuHPuAq8Dp5rRbCbBw0HnMpnEwVUL6oitJEMLU7qsO3L4hSLYeSjBx\n",
       "yILmrR9leB9jaJqdGZsEv1dhuFjmvMeTD0IojUFKGdlo0wohv5H/OBk+xgF+UYJmIztWXe5WkChy\n",
       "iOlJxGSo6Y7yhgVU/sfYxxaBXidRtYfv0q1qJdaZZzbEQSVlAjXAI31CLeO6LcMnJZcWeDe7hsX0\n",
       "+t8uRimkmaAPRx41vo/X2MHX8G/rT2fVdbsQ7oiUE9Er3gLr84GDB5yh7KuiGN1u1XUKr9j7XsuF\n",
       "kGdH+Hc1Ci/WP0meiw6Y5kJ3BeO44iYFW/sWbL/3LvmcmWHQRUqJp4mnIhZva954VaIYUlSQgTO8\n",
       "ERkOZUWX0+Z6a+b0aY6J4N83zkquozXvonpBzhkbuYMDqFQHC+MaMzQgfkStCq1g3ej9LA1FSldd\n",
       "rWaQiKERP9Bta+/GsaNO5C6Ag22sO9Ra5OIjp5zZiiCLDF/oGEvI1eGGnjmS6Zicjw3K74bYT9TC\n",
       "rs31ZxAoQv92mTf9Z/Yt1rC2RAgJWNBTOPgjViKzyTXFYUyYAfkyMuyivY4Z4RV5Djd5BKSibysF\n",
       "mWkm/KYCGtz4zcd9Paqh8p94L8bZAU7PRDOuAzr9GOPMFyQZdfafVtW1ovPlwYT1v5XMecqKG1KN\n",
       "Xeu8itlGceV0aWfi1mG62j63GssnWpZUqLJ1icQO5LWVWcLYIYkKhw3rlUZnQSSL50Ewk6eZqWfm\n",
       "LOjjy8XoVrvPCqc2ROH0qvEhrK8JWPcYN7nKWJRDMIafkdXlG54t4ARq52ukiTFm7wYflzn12bKl\n",
       "NMiaiA3jueQReW7cR/cSSJ35Cgacx25S62bwnZDMBTH71x0aPFXHdX3qOtDzZkyuqIq7Ac2iRGWy\n",
       "c4wdQj0v6RoY+HKu7fYGQNCgr1NZdhfsMfqkyB241/bkvsXgWX9PVQrjyOfIB37eFME4UV7sVVz0\n",
       "OXxrB8REbvlPxFkeGFZrgeWg4Em4xKmsD356eDwi/X0T/PFq9H0qerje+2bX5PKOuRi9cxUoIBJ3\n",
       "22qEtHYhkR1wDEdJLbeRGnOdkYoUlENFtyTQow9YSr2MJcqcjBe9hAzVV7uqT8SH6SQHVLLipRn1\n",
       "N4dVwkUxrB52mNEGsno6aXgMxDQc/YTSm0/8/Tv7ZN7KubGuWnfdE5HSzNTElG5IBT724l0xYmcn\n",
       "C6jwHs1icAwaHjbIJN36d4ZHFT9O6c+8MA3jK2DUMbgkmaK5a7PaliX2QOqMiSCQ0UXXOQ5TSmMb\n",
       "oxeMXizH6Z3SW4tcquWV90cVAp3Q8HjRk70FodWScnp1GC1pUIoAVNiM/dJaKbk+JlfieT6Bhjlr\n",
       "aktFuuSFnfeGYk8ahWXqHk7BsW30XUNXf1YhRCEwWJb0iu40QjvcXvO+X/zJv9eCBDQELGILovVY\n",
       "bQDhH9L9WdwEiwG8RpK7lCM73Kys2n59kv57ZWTdcMcoOr4OBv7JpPVRT9WxiRbZjiXAL/n/fTi+\n",
       "z7le6pocPk3c7+VcjgecGaLuKijmdSJGJAcJVA8tNT8lLQFabHkqx/fh/nDuFWUjPt3nV4iOdJrI\n",
       "p175b4wolm3BZ0JDvOotGIiZi1EAT9LIJAcd6l0/F26QTDayQUsIsusu96aZG9nQVtYtvEBq+cxh\n",
       "UfSpScmB8YCe3JSgk4gN9+M1rL6oGmOZZVO431ALJNTCv0HyjZU4QjDyB15Y8C/dNACXaxDGCM+8\n",
       "GNy8zXMspmyB6blJUXTRwoFk9OH7dnO+bAJw+Mi3jQ+GqDOYU+l6IR15xlA+1Dmu55R1ZO3gURqo\n",
       "b+lmJWIHPIIBMd7ntMRJicrdb1eWgARn9VtGUyUdHRl4PqzcQhONm3391DME8buOUAnf9LGbQIWz\n",
       "Iq37RtAAAAX2QZ7pRRUsM/8A4rBPe8RYvQb/afpqE9UikAOlsAN39MvLqNKmeDZTjqLDZPB/GotG\n",
       "sn39sfpmWbBQmOtnVxvoJdH1WOBkOjLDwyQHgNiv4+aTw0Rf5OYvjv3mkXVpeXsrPEdOmhkUT1DJ\n",
       "N/caUUP2SOtrAVgOtZ2/jsO5FOlrtTPLA8cs5CUbC+MIShGJt6J+u4LhI4lTCAUTDv8oMHtddyGT\n",
       "mynK2knhEPf2Ggr4JiKij4dbGzDO1ChbSKSDjk+7xcpnDmMVybfh6noFVNxb9Fg80i5yVBKUDTH0\n",
       "Y/3nARBRP1l3SD1ukqU6FeJjwfWhhmhyuSNKUT0O7btfoh/vvKhlPduOkFQlOcqH5rUjJOdgg7Ma\n",
       "GeQNdtV67lajn+yvaSIErQ4km6890j3zxGRsT6XFO9jKjn3sAK7bLY0mqiFj1ywVVi+16gQHDLcF\n",
       "5efV05UdhNDYfYXqNBhqFV/JKQ5NVWGVyuP2qebjElju+a5DnMKWbkirxNiZn9hhQUgjwLHXtdVw\n",
       "NkKdVq+0+xvbFM3gToRPARgctMTE+qviCM/h39FMWPGihNNab/+kZgxu/f2G/FpF2crEX9jTqbD9\n",
       "G0P9t7RVS/ONjMx02IG+KGt89Pfaj4ICRPPKfctHc5pWEdMKMCNuPWotfQCyxEShG4nCNhe65ABo\n",
       "yRDSMzxPA8TfAFD8ax5dUNVq3M/wxPdLeMbSNGDviC97zezF6XCPhET3TRFMR5qyrIT2BV+s7Ukc\n",
       "nee2l5eAh+Ej9Dqht5DVnXbmaUTLIPTTmlD+dKkchOh4RcJEhuJZsYrcWK1iSCUIohqSDkcaTUfA\n",
       "qjw/e++BsHCP3MhNYrhScWUNCekjExwGqEd+u2eMjKK+RMuo6a+/DUhQVgsxOEoWNGjvVj9GnvI5\n",
       "exQinT0yRWHDGjqOP1vV4Oyl+lcoCFw+wT81M22kezrCKBFcEWlo6q6gs0Erojlsgv2553X/tlpf\n",
       "cbc4uEuX3p0MVugWLqb1/TSlP5su9XvXbtnLgdvxYtCksrXZ5YU3fzKgZfHYMshn6tqbA9bFHz5c\n",
       "EaJ1EYdrSlkMVBclyHxbA3A/h/4bI6nthxlN5gSfvR7zSKArjUjv7emQgKIsUKLutckxpS6Kq2sK\n",
       "E8XqVqM9HzUHMdSDbMNmbNDTJFMjOMa/7TB5izqHVwz2DCqQ1+KvCr5+L+cfA/xBCzXfSNYMmHWY\n",
       "fORZDR5H5RUuORq78OQrVJppcvJGV9LjQ+F07ZhDX2DFrrZRE39+P90trdeOMuNqB4aK3piWcAgq\n",
       "W/8LU/FxhqHPqHnBjAB7TMlAcLkeJJ0NO0F4n9na0NxpYs7Kh09e5LGcwjrQBYIYCH/NL8uLEqnV\n",
       "8WLE6D9MpcgwDzNB2Knn2D4zADFrn5rJ/GtZc3CgWmzQ7xdx0FcY3i5pC75ToRzETVJIuzDjnux3\n",
       "hbNZaek43FXm6CWDxCBRufzOKZWOBLThl4QaR+jU7SOC2CrVzRdWfLEiasFQ6JUdgpgxHVx+pBKW\n",
       "aHBJLJjgfj2Ge0RFirlXbeg2LQa4ZOlP7Nm01oR9S3S2VfUlWAj4JI9Dznjd2zUdDBw2ulLG+VvH\n",
       "7HVSvZuly8uOBtz3r1KeUoV0NUI+HUNa/ZHVGXdp7dqK82stNPX5Q3L52jmcrBGPNHVekCpwaKFb\n",
       "NxbL5+KkgGrEhWb2eA/lBtAVz3n3mTeztv1cX6u1hvSlGPGLTVEmatyUK1kvWpmD2hDyQwaTkGv7\n",
       "z/7liDmFck/KbuoCaHbYnRKGSlXR+Oyyff6Fd8gvtXNU0dB4Tkz3qhMWRLS7517dzUgXzIYyj+U1\n",
       "sJArOx0fgTb8lu6g5poVBGOgyGIqij3Ob0eV3WHysN9aab50pMdcH37tqqFbBWx1qSzpAOHOGJTG\n",
       "X56ca1eRhVYKN5UpKE78QXZbDXKSO2qR9UfjHmFsPDOY0PII8Xlpf/mtB33qR89O+uvU3mTjHHYs\n",
       "5TQH/Gjm3lVLLr4Ugb3F04/L3E8VFejh0aVZhOxh1HmVpboAF4rPsLMxJCBeHkunAE5F4HMAAARc\n",
       "AZ8IdEK/Aab+xsttxnvZtpGkEwA0fTTW2i/MnptWlOqB880t+3idP6T7UXzle55YAsPVIsa/JdaZ\n",
       "A3/VOuyqbq/gNP4HMqXTr26m2162X3aRX9jECH4RHJBOPNBZ/TcEERPYdV9qN7MPsJ9PQwH3tRe8\n",
       "bm1VgMImSRO1Z3pzd5ExCrieksuv9f+lu50Kc9HkPlSBcfw3fU4+XKp08GIOs8RiQWlxz59S3ES3\n",
       "nm29nVqZ3QZLnLaA6NI4UDlophUUIli3rFUddl1vA0off0ADYNRnH0Ku0UQUUPZ7bHoxft9mIxRV\n",
       "9q+Oswd/GOdyzwzJZ6PALWyC7j/ZxkzdPsmUZOmDuUzKFQpgtZjvqRe0Z1gJuKRFZqtEzeH5edAs\n",
       "rikGHIA3HKaRnSOjJ/u0QX6Bkm4ysYmgkmflGNps0auC7s8Y2T33sF6LwKT0sTFn3Jc3Ax7dOtFl\n",
       "83mJnyOyKvqvdkT6dK6yNc5iZKRWsq/u/JU+97k592nxvS58g3OlyNP6RRGIFcUWHn9IBF10wXqw\n",
       "G7hQiihmU8BnYtxiyHqz43hZ37MqroQCQiyUSbUAlDrorXCNDIMj0ZERvLePR6BUfM0yNxq6CB8m\n",
       "HMvR1JWS/qpyYCtHONZ9gcH39ezZ60Jv04Px2NWN7mveWrxKUNbNGrkm/MA5E34+RIzOULAgwB5F\n",
       "OX4W7lum5AcymCT0ROTssBfOLtbLMGpr02DulrhyeAOBB3nXXlDtUbdxLg4Cra0mkrCtHg3OTsab\n",
       "kKFQAUWHpkIo352WLrGh4335+EcpC1FIeqitkqBFIahdI+D+yWn51+IdDg2WSuToLvcuCHL2It0y\n",
       "eokGlwgpTHh/NjJQnZg1oiySunLeai3/3fUEZu6CV3DoaS+4CblmbYwErao46UsPHfHvZ/QLyfbP\n",
       "SSoWxevNF3dZheF5viC/xbHjij63DZYW4l3pOK8ArJx418Cr3ErchD6vEQwmR8m89+6RPBPIg9Xj\n",
       "Btkkh8TugCrka90hPQwKuwfuUksgquQdDnVxRi3maDIxWf9oT3TxhAcSGEjZUwvThyz860hJAz0u\n",
       "4iBS7C/WbWu6p6AtrbCKAsMM3GZfk1BYfqlGvnUB1WCkxvCJIIwRs/gMqdjgbc/1uea/Au2LjWDE\n",
       "J2XX9LN804OFCTWG+TY/EaVwacu96W0JpU6T1eo5cFQCO8UD+xnkoAdWbSYjL6kU3eNaJUA03UEt\n",
       "XdBembGim+HAeaJzHLMGWNxIQFfwi/lCXhCXb4En+7z/r8aOmhMDUMpn6qDoGvGjvrHWadeHiUng\n",
       "89qs74is4ouguc11ugg0kAo3WTtoNQsKtMIK0i0A7GFCcdwEUUyWDkSDRvGMpQfLttLHV36b5SEH\n",
       "kjakKHt/qrs6svNe3spZuWb6XygzElAQ0gtbw3eawvrOqCd5O2PRNi5KZkNnHhOMHW0p5WenQ7EM\n",
       "KxNPAHfj6vdCm8VrjsXFcPAcRXFvD/Q2/KIyEtVSQropAAAD+wGfCmpCvwGndMcpe6rf0DnAAIZF\n",
       "PD2hCabvNLXqrjKcjfGlKK88dfn+AQj44tdNeSktcMkC84Ulhmpo/MC3Uc3Am4POOaowxJ3a60dx\n",
       "pqMbtl4oZLdZ1SzVFe/xrzRTNkDph9KWgiTYUInPsgGdd+WaBctMewd/snmpF9nVX4VT6Wrv3aL5\n",
       "vjVR1WtDvhiOmZ0LrqD17gRtIxvFIRHY84MoriFqJKuWj7CpyEosAym4IOVyt3A8UYr8V+kEeSta\n",
       "VUiEIDyCPNzOEGqfqssFuWHzsLjuR2bmuVyrAbFbv9AzhxLj+Ok7uVegN8JDwz4DsxKu/PDhp3iH\n",
       "8ry7li/OBqkZn7ZINTgtIO4VFDSbg4vo9YcsUeX2Dusoz050eeV8F05gLtjqmtRJdikFp51Jh/Ut\n",
       "B64mIQ/ACQ4pc+KDj9+ELJ6d+syl2Z/C9BXm0St6ILF22Q/PqdWrZ+L4YNANR4Vez4k7gC4BX3rn\n",
       "64BB8KL4eUfPKQsHvsKOXIEesvyQfjZRGGc7O4KurE/1F6G66p+zSCwHk3Iwtj+cT45Sxz7HyyQq\n",
       "KJf6ZPnkLuv1oISnbOs4kGRmu5WusVQx4CId1PDZBTR4ErtsYoSsnuG2/D2+j2Divq6XePhfLkCY\n",
       "x1H3zpoKNn8jdjOrMo4HfRaQzTHYTB6hRtT72dHsb1IMD8HlEqjWdQ9heZCqu/s+jnfUb1xBhEnb\n",
       "1R1QbVAhe44vld+W9SA9ydMKjVaZf86L1hUycOpmVsJIPUE3drmsiX/tRJSVl0by93sR3FjQcKnr\n",
       "JwIfV8pnbZDp1JNbGFA19hzryrCRBJOUnqKYYXnYV9dLLvdZydzc5F3AYIb4teUtDNiqCqyWLFyI\n",
       "bfxklMryX8ut+QnAlZVR3MQuH7UEfLr9AGAwLoc+PugHjzyO1dvNFiA1ZnDhMwT5rmg2KgbyEDcv\n",
       "oiJR+quixsIoZe7n+s5Zi9sMMpqZ6HjKVlQYQOVIhQN515su2MLnhVjll9yfqpwhpn6x6ucgIDTo\n",
       "itxOx0qjNb3Q2f64mcPPXfElA84ZBzsF+ap250VsP9BNrr+0rTri3cnBDuUVUwsxZmSwe9OJ73ZA\n",
       "tM5w6ypFOJkUll4+isJyLaNd6iFzwMFu98aVyZLuThL1q65KH7ZkrAZqsbUP24FanFDHF7tFZIh2\n",
       "5z+57PxiEIMLyeBfyxaKCx2XM0wstrhj5Qn4Z57KvMhjPbi1OHb8ou82NyghC8FRjCcsnVP1ALV/\n",
       "zZcFXVe1RFjvF+viZMqLQBTtt1GWSGUqC6nQVk9kG5Ol0fo4ul99H82EjBmcejtuEVGE8f/s7K8Q\n",
       "p/42wnaRBPgXq1mrgAmpx3hBonV612sGpvw+1aQwAAAOxkGbD0moQWyZTAh3//6plgCcKnQQ1XXR\n",
       "zQBzAwHH/EeSQCBBaH32E4NOBOw2ucOoHkAZcFKpiEixuZttsW4UF538O8QhLvedin7RM2dceRmQ\n",
       "Lgr8JW/kiN20sBiKgoIxj20I/wgxvTldDSFIWYktTQM+sbhrtTXUcpcsAKdk1gGFmzMFLNKYPdUZ\n",
       "saBoD8BtiArVM/VNsyGIwfr+syaeIdLh4V3bFWm7QVpAnD9kmYCXakkt3vCDcW6/BZnhoSF9LeOU\n",
       "Ho5gOgxG0M49LyI73nHyqQ6izvFDNsLgvW9Ca9TKraUstuwkscC472oNjsImmmNH0G0QJGnOGSRl\n",
       "px9mhuFBqQqA6eAFvzXxcb18jEM7T85oZ6p09DZ3A+xoAWgrIcUvf3BLqQngfsyfShCuqJdKM/Wf\n",
       "EvX2swrY2ztXm0trWskS57i9XbmWZE5VRFiHRwPAfki8xCD9ApFbDxuKlJ55cfn7la39Zu7twSnd\n",
       "I5jdMUEdcIF+ay3p7Q+8hGS2bR5+gRirh/mD/wYpjqsTR0IAX6tsg83WAw2EsNK3vEw9nCGj8o4a\n",
       "Ec38ZtfXNunUIh+JIRSfXo1zardV+RINvxceWR7M+7+UlkQMLJNGGN3u7ppvaUTg2eQIFs3f29ai\n",
       "6uso1zLvw5NPpKuk9SpkdWan4b4RwiYJZ432uViYtvjpcurPXf23iNV35pBs4rM0g2q+3rG36AXQ\n",
       "Ve66I9nxqgloX/4+fv1hvgOgZKTDLTfuJcT/I3M5sQSQ74ZNi8n9+XR2JVYjTyRSQ2ksiNocCbZc\n",
       "/+DrYsTIYmO97vef8gJrvhtPbdPf2jnjv7FDU1hc6pAn0k+OiLQpqUPUy+Kc3Mgw/6kYE/KGR1Wh\n",
       "B/CHjtU5OzrDjdguACRuiYejfy2NRe9SY2Mo8Bz7nWRHID3dtb2lpB/KsHYuk+1yB0hwowQ2ea0c\n",
       "Y7Q9sm/n2D3Zd8PZCVgzgRGllykG4J4UwMM3Q5DligF1ZTUYenQOdiJ3tcUT+WgFRghF7VuNi1CW\n",
       "cQ4TPYjnAaQNzT/SoECZRl3CTjjEMRKqTWWHMsPMpKBht+b3wnSMljhTq9SHjNj5zNVkrl6m+0Q/\n",
       "0E6JtWX6eXMBTK3bH72BPHPEaetC/zrwlPbjqS6vyWFkvZv4P6kSenVL+rNore0e9BszgIKQ3Jzv\n",
       "QxNk1a7mm2ke0DtRMXPSzOuiUDj04pjSLWYh+e4TJLhQzXl8A0GRVmOPa2AsKhU87lCvxwzg/N9M\n",
       "TqhBf73YhFFMYG16W+BEfQViex2w1pZNxaLH+gI7VmPl0ZyM94MzK+oTVpNDKaPLfxszrTz61Tef\n",
       "4pkiF9ejm7AglCX4uQwevbwChS7mv+3tix+8RzO3aMziUmHHFO5tY3jN//HqXXD0Dimz2PJoFwXz\n",
       "CCgpkG6nLZpq8taEUOoB9/myza2oZ47EEtgt7Bffq/qQJrUD0IoU+97Zs1gx11yb6HdIli+kJf4v\n",
       "FfiVG8+MPes5EA4gj6cWoZjtsS4lnBk6Fxmyq1DgxbuZB1beY9paoTVUXRCqyxJ86Bv/BCTQjTrJ\n",
       "ZRqFe98Wl9k4GKhRZ+xjPaEBPg/OTfyzO/f7tK2kqUfNpC0kZD0h/rO4oXB5ukSE1LQXdhbjc+jt\n",
       "7+Pjwjb4P/xkhyJ3qmeTd/ZacWXtNTYXWtvyQfhWZ524a3Ie8eiKsYyKqrzf5NwsWcww8ahBHbiB\n",
       "o0LkVj/QbraT6kcdLF4oFuXv4neKJufvrHVwxm1Z/OFGy5//X+K/BVMgcAznUXoVHwPkygjdIifo\n",
       "5OBDPQkGAUrEIykGyY25yQ5mx+xsoOHeflauqyuVMrjVs/KpTo/zHOBBw6gLWmLkhvLpYgBbVXJz\n",
       "Zz5bssq4DuLvsNDFh8EVc5mrdYsh9530bpG30FatMdAPxLytg+DkENVJD0H+r/Gt5CrD3AxhUq0i\n",
       "Cowx4DbMwKHz1fN5sch+AIq5HSDaEkmtSU/DQuwYCwzukiRxkLjp+ctO1R3L1tJK4vT5d9LQJH72\n",
       "4d2wwnxFYqzPq7k8qvEKEnUnuTnL4GfYR/DhkAtRfuNDq5zFChdCbSx5hVczgTIo4Vd142QR1WWO\n",
       "/MewzAgZrWu5Rih5ddvG4pjQY46C/ZmlGMq0c/Ixj/6h+04QjMtNL9QWcBAKRIzwLijE5a/vbkPq\n",
       "C9PZBtF6UhqqZeb9t6Kxzehsu+0Ks4AwEJK/UuQyWlruudrSGLyTy7Fw5QO5jm0A9VDgaeiXFVxs\n",
       "BrGhFi1ezDGtXDOhUIL4lQB6s1dZKoLdoJckpd7Lda+gB7hmtpCJJvoVMdgauNR3QOOj5qYFglKs\n",
       "mgmmhEwK2HPVK3zq7h1ad6QVu4eBG5YS2Pqfr6kc8ve8sX2C++eY8xJNbSGceFEM0VZThLjYz/d1\n",
       "6ltrIpISyKfZGWz1iOD1c1wGNNbXzaxTKoBKXR+vpj9gsT7gTa8P70k1Ip9kUIMnPw1gmJUt9YAw\n",
       "ieIADYoccQ6S1Xb06m1WaCcuXC68Q2N9CefAB5lPzlsSmMH/bu3TTC5dbw6yS+6I7dMA90kWuJQW\n",
       "AadsFVGxpROSxIFdIXjuPfAwEZQzFRMnu/La1OOaSbvjHK0tm0QSKzxWJLU+Y/LJkYvl/X4zXNCl\n",
       "Qq9lsWu4mGkKJw+meXxIWRIg5PuoQgcLysgFJX/96xfU7JUgwv1HZJukIb66U+h9I6vBxsyrThsb\n",
       "yb6ydm3m7QL2SpHigSLSdQvlDuxW1i+FWZ8AObZ4zQyL/1AvzzATRePCVx/Z3+v49OMjEr9AQlRe\n",
       "+rpSbxLhnbs3j1A8PTjtP9GZxnTYFKDXPitPryCiGJvnrPy2frr7kf+jaj3DY6uyBj378TVbuJJv\n",
       "RDEyu8IIPXOoD6QxGZqeSvHGx9Gx8U7Rejv1eEEm7XQORIsimS+B8LLritzQQXg/yCeUw5zesYiS\n",
       "LIfy+kYkGtS3Q1TGYkt6yP45IjZ6BLMFKTEsGZXvmF/dfy+VrgYNR4VNoIxShQGMh8nS07wqqycL\n",
       "RHw+fzOVAm4Cg6iDHeOefmcEyrSEdgt/Ogr1RAadWGsFdv9rEaH34RSep77hPRvCB0cw1YFdwqHv\n",
       "prWt4KkW/2mYQomhFyktYbVSR0hRzo2/4Gih0khnfd8Gtm+XFOGFQ/yyF0+MMJHK11kEkvbu07oR\n",
       "Caa38NPJihjD5d/lI2i59ZFy8Jf6ffvUSTYDqbbEPQz8Jdgy2QuNCkBLGbrzBC8WpomJ/wYOetLl\n",
       "QZ/U9w8IG7swOQslODZSH6/5iYRF29PJozVvc79aS+5w3xmHdiVphRHjw86cSzYYxhqRQAq2TRrv\n",
       "H2HBPPR6FgCcNFnwtEuDC3u7mnle044kIboe+/SNDzL5XZiUEW/mWPeNSFZ2dp3Z6Eg1vwTo60QP\n",
       "qnrvnhiE/MDME3kVLmbYSRnkCLbrEzHO8psJimACNelBtJUDVaNbdZUPNHP1777jB3ScO82KOp5X\n",
       "n9r49I2Ak5vTSqOdYLX3nOGeQsCiEynN1MrxFVvsevRzZMeZBgCgWMuEBCwNycDKn503mDMOTDfs\n",
       "sDr4Rkx3/eLENbD8bflNXHolbsXcIrm1cO5UmFNGjOmeMdmY1OI1o63XYv0NHDt8TUKrb+ufOIqw\n",
       "UcWsO++C2PywQBNklNHXUQ6NO8VEkz6+quVbZln10ryxWPq1EchigCwaQawbJhdXbcKwDiKnL/3o\n",
       "GDr5BrpxosNudJhNTP3lh291GslqUjCA934xIa+pkzcmnPD9d/+p6WF2rWwUR95qN+oBh4zGfbY5\n",
       "bV0OFxUU84hMDw27YR5tiR5LSJSFcXzCJQS+4wLoflwkXQgkkAF4XYuVrHQDhoi45ulQYhcA2jws\n",
       "BI9G27Vnz7ycWLc2D5MmJu/Oe1PNU4oTJctX2T9KWoLkR+nTV7qAvVJelvhmZweEQ2U+fQfWCcFL\n",
       "XrCa1qg3pDZdGaufHuBpxm22O0s0s2+hQHRUy8D26m4wMwaqT20L5fS2lLtCI65vDzMbtWtGTWHW\n",
       "V2caR7DxM4DhQBA0oqVsRzy1O3KtHXuG//0yZVIVscriucY/jVmGPHcvgFbAhOWZYb0Oy98TkswP\n",
       "X3QhwP7yFnW3sRzgg4toK31QojILoi4CzlSBmBusoBuVFQSD24I9rS5GHpTUjkIYBKn6E6dBwmCh\n",
       "RsaPfWelBWyqS8DqxgOosSghIwfDCKCEOrrldneOYIbBw2NTMOhmB+QWnJ62yWIw7kHQpZmehk83\n",
       "uH8u6VwN+oEN6P8WY3J5lNV09JfY5ZrZhxU9bSSQpuxEJsvAVjG8CsONdLW3Mj+uDj0ac7mfRmT3\n",
       "UToaAVNhhZzRSg9ZMCx7o3fJjzSVc9T5sX7plqa5kgLwrRDgqXrFKVIPz16kwCLIEB5hrvXOiNAl\n",
       "5IrxGjVWDL1gA5UZErG0yftHi8UyM77MEnPlfII62IYIKH7DiyLyKm2iKkS6a4+xI5eW5b7zMOoM\n",
       "sKXNcHx2wQ74OzLq5PBtOLgIpeCj1Fu+IpLPwDw8Z4uwnfUfQLEvOoJc8fRp0XOmRfgXIADvYuFd\n",
       "2AcmC4R3MlSXn7jfqWBuhKnjqHneWzdZ5DcOobZI+9hnc5sK4CivYm+cFA0kQPm17iqDqysCEJrz\n",
       "q9V11gbPcWODGmYiFeLvny2ick0fqJplA/+8/1kbb/erB7jaRHXCH0+Vyw57CP9wD82gSe15ILVN\n",
       "Qn3FAC7EOSiAD477Rgkp6LZPxhagnxGE8kLvBNvGoTBXQs+P5aoBxYhzUuqXV3PkcmqLNq7Ar0Xz\n",
       "TQUrBArA5AD6K8p9IoAg6bo4JcJFpL472UqETVemqzLuowym4nBRSGpmtSXnSivpMy9miuiBirlG\n",
       "OQJKJenjzk+PFUcwLtWzGQH65FKRtnMbRm1P4zMp8AIfodQaFPH0NvfkqkKarkhEi0g5F17/Xqsy\n",
       "f7SrRX9+AAA68OGDMCNma0rufGQYyUnlwcYASexcdCGIAsd8pIX9IFI+ODN9eMODuxOTWw7UuO8q\n",
       "CqbuLfO8EwGK3MwiqcVJdgnpFPDAoZ0DJt7PZXht9mtNrdGayDY0PYQauywODGOLR5m0g7kwAAAF\n",
       "ZEGfLUUVLDP/AOKwT3xKsivUBkRQyAIfzc1QONlhjFsYpmDitEEMYnp5AuOq/YlLmtK2R0k/UaHx\n",
       "5usTD41QAh7nEVKOtG8aq94Krkqgjkph9BJrU+aJrmCXChNFSQIdygcz0PVdC1fGHgu9FHOW8X8g\n",
       "Buca5+IRdh5Kp1NSYA2rB/gPHy+agfNzVc0qk2VWRBpGNpLrMTqOeKsrbOqZ+SuI0ueBdyI03Huf\n",
       "zaYbhRby5OqCJrnxWXRedX/kbDZoGCB0Pn0fYajCvQzDNdbGy7rjg5gPqF5XJbsrOvtvWY0PnhXG\n",
       "4sgj9oRSguBaxK14NYmlWoHXES4/bs3hOAVNiQScTPe1t9mh0Q/9Eh887H9rfxhqf/ap4BsicBvz\n",
       "y5mOw06Ts5pjXGkf/bLpwwAy4Fhj3POma0QTPS7LFrYaAyastkIXd7WQZFzWGWM2lrAw7k7m7bQJ\n",
       "rRFPWnEdndANRVNWUsMuL/yalH4UtcDQYHeKOUnatnglqi1rKC0KL0c+qx5rctqQ6g7TUXjASju9\n",
       "+6HerB4CD6kFO8jo741PDm/mBOrG5RKcMZmBDhFemxn6fQjtK3tqpdHNBLIjvi7It4P7gakaBuaw\n",
       "6w1O2UOwi3J3dDw1THZTcl/Hj4yts6v/e0sMENpomRB0wOjwOjRY7CAmxHWbYE/LetgCWyB0OCUS\n",
       "Go2NYBndCrmI05l+yWkc9JuuEzpZ9mb3FqDviDp6jnTECjX66hRDzTrJBdnHK/c2F07qMCuzDF5k\n",
       "xnHNTEkoBuHENki/rRhmvQBzfqI3Tek7hvGCp/Waue4HNWV/NMb5d40COXPXRmj4q9la3aok9V4D\n",
       "vME0wn6oGZk5HOvm1cRJg1DjI+x/ECLwtqVRYz/lCVXAbdBLEqGiyl02X4OybrRyOa2IIeSyzqFO\n",
       "7VwbQdeyK25N0bPrTHXJKwpNP++9aSZxXABR2QBak6vZc2bYVH7OBVynTizMO9YbmowlMDBeS9Dl\n",
       "6VmiBk4rUXXBJAt+aif0rTlsMmq3vc1XSSx0p+S+SjlxWsWsonu0Yn8+hsx5IJOfWvpuwEDZYb0v\n",
       "8+kQ9OqYkwBOMA13N8BHEjrJ0c4N7Lc0sFNM3CB90dY8IF3cFJIqcjdQ9jjafLzgnTYX0bmQtHqS\n",
       "xpMfi+qKrDIE07N1lIrQOW3FJ/TavCSibChzovPsqRbeZT5j8ZXRotzHqv633Ry/iwDDaKrlvQeg\n",
       "s4BtG1rhcQXSy62K/q2dvbPjmekd8Tt2Yi1MfyfU3fL6Lf/IrX7vl63cT68Q4llPB72RN9/Bd7h7\n",
       "CHU3UAQ55Glcdik2TfWlsTEb0vSA1XgF/8Qb61y6qNVVOc+f8i3IVtQ2POXUPXhobgxxoYrO3rlb\n",
       "Hp8SskXzhwlhELckXFKYAsytP4nc/xu/5a5lNJ9lACdrEi8th/aa9YI+W9D2mOcAnfkfuz12x39b\n",
       "7JavR+sZymFvv5VatPHkw15ie+qh46rTEundCOPBooUNUtMocyMhSMTTwes1gqOd0AXa9crDeFV6\n",
       "HKAI4oYTLTDB7DqE/IAFQuXPrwtse3e2ypmndrQRCa4NVd+dCBd1O8iSMaOX09C/vgcxuQYBIav7\n",
       "zPsiyh/oW6u2UVNWX/ED0tcHBvo4bZnf0T03NQL/LItbLNaVGx0dgJOrzSJX0lDC4wcQ21CxTlQt\n",
       "LKtwbBy51quo/xe6j43iLOEbVZ3Z8JUiSs/Znx1CrRXUNNX1Smp1CAERXnxHynyhhJLpuUXN28jl\n",
       "tY4/hnJfy8D9oQcQLy6pRKiKDtaBuPw9QLjHsvvwsqa9zheRAKkJHvFn6SGH5GzRwxO894eW7Mbm\n",
       "v0lQXiotKqIeCYjtsQAABEgBn0x0Qr8Bpv7Fj1LCrIANPLnb5+uUIR8o7rKWvv+ne34/cHeqOZha\n",
       "rF4B+BA6zbBF3BGQ+jHBxdXNqT6RpOuZoM+NSld2soEHJ2F1OLIRqpnlSUAqaZvTk/jHslvyusmd\n",
       "65hFDfwo8yynQudVAS79hZsgZmgKEFSHcK4AopWsIXy3DAq+9qdtkt18uoe04q8g6PLC+fWo38Va\n",
       "rZ5Mq0d6kFgnqjvflDVpcG9zWF7mooEYR84pFkoQuKqzufXxsrcVCGpiZ+H1Fw8Awnxrn5Bq9E3X\n",
       "FFEqDgiyDnQ5r+t745g1gYMqPxYgy47jQg/Vu2v6822ZnhjGh6JwTX0qm5fTS87BAWFDSVBQZhgN\n",
       "VlbL491+W9Ef1dpjrt67A2lwXEUfrJLwsUB8Gmved75iLK+MpiIusk1Yskk/GeLtspBzYdw5mCcf\n",
       "q/f1cGCXU0KyhJkXP8BPFItC9Sk7lqeNRXVfxi+uTvxMN+s+P0sD+hJzMHvyM9yH/JJkPqEu8HrT\n",
       "U8vAnzH8BbQK7EyWtHaZLVaPK26ZkoHkuN6DGz/4cxegXad7VNIuCg1659dUJgJ4w2wuUskiELXm\n",
       "S7IVOYjPJN58b4xgb33aR3+FrCjptUfRane/gEP7gVNUGZXPe1w0EUFoCtUOeU/i5j0+CL4v5S4/\n",
       "3dTtWI7q9Roh+YrrmzP+KnBjH8vxFoCxDk8VJW6MpDpvVzR6ijX9ui4TCLfyarwc7DCCrddQifyg\n",
       "0qboA9NDhyW/GQKsZKy+QL9J/hQyjDOE9PntH1ra168G4108DnOvD7aF0dN6VFXYfPKLk/uOkrHs\n",
       "ZVM2DgSGLOWtGZ4YApThiH2hG/WfSLvvY81CQRfaXC5P8Hwt+6CaM4Bep2kopw2mnkOvJ9jmqvGF\n",
       "v1HfiIInlXO0AznWSS0IYogmbElFwA2A9CBJoIuGur8vzxR/4gvsrrc4KdCL2JtYzXc+VC/MdM6Y\n",
       "vyAofuYOJil+m6zt/gmT8VrFABPdZAQKttF6SoT1Qp1jutX4L8jCYPF03jAiKV1FaQEAkz5HLZRW\n",
       "LJrHltupa6vk1/ku2RMfpa1rwQ9MRN1xra942PgyWOJwSBHodQcEyQsH3eZjos/vd8SCAcTf0q9l\n",
       "cfvbYLzaZ+dsimH2He9Clo5NEp7axkX1G4BBe6xxItDInmuhSjJ1KmGOqLpQhat4f6Va/Z51YOJq\n",
       "5+Zed3Aj38VH3gTHtITztsvQT9odxJSyrrkKmp5Ip3g+m5FEERmQptWmIvHTZsqKdfWABq5o1ByR\n",
       "UDVb8bATXBRSly48giXSs7Lshq595Io/mZo42aLBlfv9eCjXKpjkI2iGEmfGqKXKOy43HVkwVANA\n",
       "cGM+SoF1fBZEpBAE8iHU51vUAAvBtPZEbzXJ8NKlzQbAU+a6T6L8LtpAXdzSPqFVl9JQL6R9Ndmq\n",
       "xrWqdg/aFnrhXmcNYG6jQf4EUswMXxXbldnAZTO5AAAEVQGfTmpCvwGndMbFFId1YJCTggCEdl44\n",
       "wYvSDMjsmgmVnHIr9CzzL1E+z2roe/XnI5YS9MLjLL5YYBFZkHrTiSsDWNr5YB13m2VP2MYoIKPF\n",
       "KBrqCCHygFHW9CEAHKPPztDljr/DlXK/gpgjBjvaVHCu0NExUDdjwUO3DrrdXIkZoJtu51SJj3C9\n",
       "BsW+RWxBNqxMBbGqvxCsqKQNw0kTyYH+BRclLO9P9Ipangv3aWyK9Ya+taQ2McAjUnVtkv1/ij4w\n",
       "w3ZV7m6FJxXcqMFw6g5nl/zjXrnmwTCOfh2q+etfGHSQaTK6RMxIAoPn25eC/1J8NniWv1p/T9zd\n",
       "8UDImlxIXHaGmhzzPfB4C8uvBIOISyx8iBQS0ikntYDidBd/3GPMY7Va22/cCGY9I6QK8GT5QcMi\n",
       "MDH7ZYL1cdqNkwJM4/Z6wvpg5hl+PyU1Rtu/5/hRm5WB9A1hQ7Qw33vkA4bBr9jAVKrj1EE3uZSZ\n",
       "wzinmneOHomLkUa7tz/lXY+wckeN36I7cZjhK/dXhhJaa5a9nwqjmhcQ1KpX3Yw1WNN7To5K8Gfe\n",
       "YMquKeSF1JT/xL6yzCO/exai698fZxacgyfjLzAhJeny8RDpyLhG8ICpdDW9plFZMH+YKFKRkRq4\n",
       "io2X9BMtV/Fy8FbreuDHzSSvbKSX5a2WCgYcdVR2D7YO9uLdW+9OrhFujmrI7tiKGyEa/ruv7Yz6\n",
       "9Cjg/mZClJr92701VNloHKzVEeM+1D7PNNqx7AkEL2BZFphTBhkdAopHLsu8tk7Y/AB4Ho6CZBzW\n",
       "nOy2OSFR0WhX+hQ6Ymn4BUUjnDmUNsx16Hf5TGH35C2Ocqpf1r9GUmkyRzGY57hGoY6NiXhkG/qY\n",
       "za1A8uWgp2EcM5bFB9GggIP0Hdo03D/ao/DUnKLNPgwSRgR26JwQneIe/HoS2sC5FzdIcZytSi6D\n",
       "Nz+YBPZUKLjR+V+WSWlTHFTbrJoVfGodS3FV5XS06hNOBo3kKnByDCgE9Av93BHfQnVw1+O6otCB\n",
       "wrJ1Rk11gXPsWsFBp2XKBekaCr7KcpGQGdIWwSityXqYvwrythaGNGjF4KQZFlpX0/I5sJHHEbAz\n",
       "s714gVYGDEwcVw91HBiF51dYxarqVzI6yJc4t7R+uswA27HHfiCkdf13kQHjzV3p+F6nC23uiuLp\n",
       "+2DPKR6qE0eM8QZITKHQp3/dYm12BGbyO2Qiu+Xg1uQIEQlS9F5ufnemA6j8AA5iPlkVvfSCGWGz\n",
       "goK6Bha8VubA2oRn7KTvfh+XM82N3eW/EjShF5i3OwoDon0mr6ANwYs+S9O8Eqse25RqKR0RZOzQ\n",
       "EFBOymaofoBQlHlmYmhXU9/oDEiHb8UbVOTs9gilKSQasdNLzfMHyACIj1A5TkiX2+WpiAWLGxQm\n",
       "D38KmstOamHT1O8ucJd3RCMKBbn1iYf+/JOyoXk4SpEn7XhpkmaChujgnFQfF3f4LHG827Wt7xTC\n",
       "0O7PAAAMeUGbUUmoQWyZTBRMP//+qZYANoDBWwpgBtqDb48LD7NoTdhry/XuT7gRQvBsus+ng4SO\n",
       "v46htTQ03eSxuiTRGIXS1dkqw5rAz7LOTzvrkJz+vONViyqa/CE5YMOJJBlaE6jMS/5iyk8b8znt\n",
       "SyyyDNi/NciBM5OA/CXHBzaA/ynxxhFWUr9at5+Bp16OlfQBmnE3cSGNcr52ISpAfVh/L+Uh+M+n\n",
       "X/3Wbaft+rDZuXnGO5Yxxp5Zxi+hQ1kivkZ9ssMEcatgN5vjlhFpy74ez4Ecdc3dy4G38UcjST+I\n",
       "PjApyPeoIdyRE0ETiY/NN1kz074y86K7+R3S5Rql3mKq5O5q7qgZbx8MW70xqEXrL1wZi3J14wAT\n",
       "AnAieGV0hmn1yRvR17+ehK4jvVLbBqrHreHTWsM5DHHf5mMHoPNXI7xl8YQ8SaVyNdCdPl/3lgjM\n",
       "d+jhvL2eMunHS+vQljYL1CZS6evO0bjmGCZQf5EIsHK7bNXh+Nsxa6Hzo0E4ktxAeLwjvcAvgz5g\n",
       "pPXr7yC15iQvjhKBiHTP9HPO6DvTCLyOVNtIPUSsWf9jJ/0Lm78YNbsn4kqnUSLimoki37j9TXD+\n",
       "GXqQp0UxBjPOy3NUkRHMrlvxBG7545ww2q4MYVoEBpQoCN3UZ6T5AGXSfn8y7oiCcOVv2L7h4z0G\n",
       "fgmb528SjM8tE+D3uddB+RFMf8hCLzD/w6hSadygIUPV/bhhjzL3KCfMN/EiD/txNlzq48FajrEj\n",
       "aUD7+Yd6z7i0I0VXFZ0O6KbID8uXDtxQYRLE7gF44mKdIsLI4bQPcupt2R+PcsUwPF6V3mfrpimz\n",
       "i1SnphO1rjS09mHjWfDKuGesfFgXNQVBzhCoO9VVWoL+ywVAePnxC0RYZxaWiNfHnl8oDQHDV9yW\n",
       "dW/P8np5WKs+A7b47FGncwQxCbcGNORHjzDaQnZVo6WZamMv4mbGDlkbwYaH6Nl/XkHXN7B8iufM\n",
       "12ZjFSBHcXyl47f0f7RVPirAyJxToCvra51V7yllgeknHxTPpUhCsZQJGwDv4pnCBmB2ENpbcFVx\n",
       "KSEjFrhbWpOPzQ84puA4Fma1xspyrAXua7+nZKNdcjm62mOsgzp/ZyDJKUjZj6cYoSqJkwgwwE53\n",
       "8KvbxrFqPteU5DG9R0FOcH2wSU9IWS8qDor6zbCtSzhzR9sgX5ha2ZIHMJkzxfXOHFcMejAi8kch\n",
       "nKb7rsBYb2VY/VTWGD7VDYrpFf1iWhvu4RdcWUhrdvTmTKoV+Wkv48qeqmdRklOXj6p+g+Hhrg2Q\n",
       "Slcm7Ef9CII1HNUa5eCP8PcmJvlqFeabZQVRU7g+bDuP5UH/GX5ZsJ/9fi4nsIW+w7Cf6xR73Pe4\n",
       "2ryCvOYZu4LFhhT+AGyqlulxkIGkGj6rM5jI4qfzD2BLn6ZIljXjvXBQEVwBM+olJnvlWB693V9r\n",
       "u65u5QJFvXgUmhDek9Z682QkOItr7oJ6kRRgm0h9O3YZDHXx+a9ZQ3u+YKBq85vlidr6lFh+pR49\n",
       "xFTwiAFE8K6SGI2NfaUfCuKmesyfViMc/LXMg87MU+1pIJ4Ua20iajk6IaT8F0l3dTJ+SPVMS74q\n",
       "z2DIQhdvKchqLSyJS4ZJNQ/ONhMBL0tM4xRuGCsVEsrvT713p1UXqrVUi946OFivdEBn+Y7gUV6a\n",
       "4Nglle0EMB9pdCUAmqwKK26qIyuGPur5xXsYGAUZ5JZVRa46CbMdBsskUoBfP5PWhk+JfY9JWS9p\n",
       "obW6CdoOfiT/b5xiR2u4o5mBDuyh3+Yp4DOpV3uj27vve8V1tXRz+fmhzIFWxZ0vp5QNm3Zo/sc+\n",
       "2P5k2rf5EMm//p2R6D+H0b/FXru8UtrbCHkeDeGtGH8V5zAZ6Zfyy+2Ae3YqbqF+HC9E30MJVRlx\n",
       "9miioEFae71WbBxJfZ1s715v9RRkZ/YlV9FDtYAWzro521DJ57EfpJE5W2tW+xu3pOrD9o0H2F4A\n",
       "qjPwt0rlH5OIi8PaVea/mPjkbZpnMuRsy7LZ7P0ve+uHp4HMqggr42qgo4+shIIfx5LkK+TFzI6n\n",
       "kF7kcw7btLgyo+V5z+YdowvKQlAmHKwLegRFl9g7SJpdOdEiUc4ESfCXrwkDInN9otq/DojDbWs6\n",
       "0pF+Myy7UV8Fm5k3YS50Xioi02CDY5ZyKKT8UEzXIAHLyHtUdNtP0kcKGG6P+xN4HfGJRHhb1XM8\n",
       "YixUCh9yr/iFj3ynP7G2mK55MUsvVqvSgkZrE0aeA3i3FlW/P8s7vsYJrLIo2NQnupjyv8vkL82S\n",
       "plqjrgkMbO0y5UduN5n6uPpkRl0Lb/A0pN7hU0utk4YEEh9FOx+TeXr7layARoHHhjLWhkJOZ9wd\n",
       "Ec3o539miBNzzUvCsHtCzegLoGU8JKBgAPlcqZU5EU7GloWnciT0VgLORBpDubhtFsnqnXb9/jrM\n",
       "fc6KPKkRteIxerZGzMr/vv/U81o9eAETsXThXl4bgnYRhwhEeyF5duVPEdk3YC67WPruUJiFRLuR\n",
       "H7RsD2vtDpTquvzk6f0fN1XQM/vGT6gO84JFvWK1A9EWUhz3q2XF6GRcT2/l4xVCWtSoB7ol2EdC\n",
       "pIBUs/3gVZ6VwtpHNwKp3xa9FtL8j5n3EgoDFdHR+oIA3sy05UVjT0jVZd1ZusN1SHWEofhRgQ2+\n",
       "NkPx34Loevl/PdyJ4fZLyiYIQ7JdZ/ZVMMuRDytoknZqVNHz+fBImDnPNmnrGznhST+b2lV4qAu5\n",
       "710rYlIw6LBvGv5au0Z/iAyBEXEr238O9RXzm/UeFehS98HJ2huI12G4N3EqZklvqglD0O+A8ieS\n",
       "NEI2rwaL+SgMV/Csm744IgxTh5R9bEISmvkVvDC6W0nF4qMsg5lnG3pHSerR+ByRbCzFUwhF3z4N\n",
       "VQfVM/PnmBc3H3a0/c7zXeO89KnKcfFEndU2rlVZUpV9r+AOsxvwMZAt755+3/rsdOc6OU955wYy\n",
       "+9jxLiW/TimyUA4fqxUdgjO8mSU5VcmgiOUP9g2ZnciC2uNOzkSJ5YzV1pLP9p0VecAX1tSbzgrH\n",
       "TQcTd/a/z5LWaEnIu6t2zrW+yNIFsj8JedEpxU4AGcy0Bp9GOYUwHDf3yrNrVKxtv06b8FWK9RSH\n",
       "2aprjFPbRQrQq6cqSmeSo+ovSPpvLOELMwc3zy+J/0k2KSd9eyTycRD1JWsttA3WARqB2uVmdebu\n",
       "5KkCwrZqLiwicBNxaqJZjM9trb/J3EaLrELWpXW+d8zbYBAWw+NLnPRp2kB07jXzKAWDN62bx0fQ\n",
       "hSTpXh+ke3vRNLcgmMG49a56jjrSwtwDP8vihLadjk1OjL4gVYzhpmAMkEhlW+U1LMdeHEzPsrZW\n",
       "Wqx1cnePxQAeS0F5cLTvpz6i/kolM00UoU7q/KxBhJvOpUtMHOw97hWSUjoaLicOlzomzYBzj57i\n",
       "wDIcJmI34Mj9TNXtyU0mkklRHFRI4CO9mTo7WBzQ8Tk3sHLXv/yvdVLm1yo5ci7FYkqJ11FDppch\n",
       "GzXZMowy2HxTKIWBdWwxWtL2CNG0wPPkESGbGwDRvbE70Ito9jcwl9Lf0MjE/Ob0ohjcJEcaVh4d\n",
       "Zgu/3+exhkH5LcoIyb4myyYCiK7CoORYm8g+i6hpuUS9O7xqjpPD9dF2rBPhuKm65hMKaLyvFnfj\n",
       "cEDPWEi/8FbfgGZnj5HUCd9cITnju5K7DC8Vq3D8ZmyLE2HbKXgDWd4ixibY1g3VBRurd5wcGGbq\n",
       "V+UlZGgpu/L6+WAdiZ2H2mqfkUdQ8t9VLw9zsW0YF7XL3c5ZZ8Zl0BZr6N2kDWt3vMlnMBqfmgFQ\n",
       "Fff/GtJRLG4/VmmgEXaZJvyWm6JF0+eyWdUVtDClT7A6rdGlfU4fEoUDcX19VMfIQnKoslWNk2uF\n",
       "V1agURLJKqzCBDLlVp4qtsGZ6sNJDH7DtU+CTbuWOFf030jLQZWxTyGMu9+ebMMdCErN8ti2HS/7\n",
       "mHQR+TYAYimeH+9jQfcU3HC2DMDQmFZG0bC4AnBx43GnGcsWJ6ifhaHQNVxlFV/l2K3ktodMZXCe\n",
       "IPesIkEcDnKnCCoqJSZkwAE9jydNZ/aFPuJwhOdhRXdLYmqhOxmTEcX5TJTxf4dRRrgrdglUoOKK\n",
       "VD447au0Nr3ZCk6KgYzEY/lz/mWodT72JCSCT05KDQopMZig9DUigojvr8A+aYgffi++6WyShG/p\n",
       "c/x9QuVRJyXRlC0+Le/48GrmHap2wOB6lRwN0FL7A8ADOu/qci+Ah09jkOhVaMZ4KdbAaoO2NPcx\n",
       "42RnyJgAw1AAAAO9AZ9wakK/Aaew0UJbD05bZxqv0gADaoJSGDbW0q1rsZ+HoSnlcgYtA+0UY5kj\n",
       "Sohxg0Pl6vVnivj0vEwf4Ay23mmkqI1x+x7OIXqaG8pQ3WJ6mu7F2Z3a7ukdcaCvcu0jJ6k+6u6g\n",
       "9bgW8s99uJK9USGxbFRrFX7m8ojlDQcexgj+ETZ4Etp3fs/F31IXYKPdhaZegF2mDugRsnFLhdmh\n",
       "fK4Juauych9Zwmjv24x5ERYO2rJXTrrkZjexeMuS0EDSwkltAghj9j5ydFpfO4WslPXy56SgJ8ER\n",
       "HcZ3VS5+gqiVfTRUDuewrWEfS36Ir89GDE8MCIzAUZ7P3icfkiXiQIMukNbrS1aOI5gAmCf3967u\n",
       "/YLKMd20VOk9yYQkxjSnADmwkhhdpB3dNXitHjC16d2s+SUw9ryoWYwPIOeXAwhmNXCBwaBlAJHJ\n",
       "V8Cj3ekorIdz5FOPuVvmuSEKqi7HcStWRLNi7qhGfUIaBcILVhIjgr10Irf6GVOonGEPkyVcP1Za\n",
       "F/Aq27kbBx0oUtBhB+dP5i/5os4+M8out8qC5uo86zoKNOYOQHs4W2YkDdZ2R/9Ts54WY8mrxluC\n",
       "CGe1D2vAbtU5rkD9QUSSnfFd+mcfh7eWra+E9fUWKADyu4+Sg/TE8Y8ZMMnKEf7Fn6EJ09upqRul\n",
       "o4nJDNdCeMYqeQ790yMY73ar1gLXf0HviE4aPEXCn8kTHNeNrnkQu7ITI1YfpNZMl1gYVV9Om7Ny\n",
       "8XhB2QMPGinaUG+8+2Tgvff6ESltb3mo1t+F8CZ/VYBetQIXG6TFXlvrQJIgeB6eRH0uw5DGWvOw\n",
       "6G9rAFmfY1Ht1PYjPk+MS1BLgRbfISMNlZEheDdr4xQpKRHFwzlSI9iEeKkfokM5/EqH60v3h7FW\n",
       "D3S1eE1YXnRdjk36VTECHOb/Kl1mfD+zxyLQBN8VVxY+dtAHHaSN85CJntxw8uOboWVWfN6XPvFV\n",
       "ebMkbIf8HydpZRYtRoR8ACC3PuO3i40PSVzBuPVMGIr9ZB/r3ZH5qChctd7R2XqBDGE3jMDEfAPH\n",
       "eT0/++Lf4Yy7bU8emoo5oWfeXFmf47K5tqKnk3J6OT7mPL89zU5ycNTxLSXFjigs+cyTK1ghCATG\n",
       "9HnvkXm7OFJbrMhsKweR0cjVj4jz8l9gaYzTZBC4Jb8dWfJCHh/3N1GdF8wTTUhiz7686Ux0eRIR\n",
       "IPnhp5s0urFvrETQnWS3O8Vko6reQTcQ3ZqPELICx5ngsPrLI4BgfIF+yTrMZbv7IJ3sVv6ujewg\n",
       "AAALREGbdUnhClJlMCHf/qmWANx5SC+asSg2v9jXGAK8KbKIqFxzhIg5d06c53YxJBVJWhkqH9E5\n",
       "4W3IBqY0xqNv/0lk1hh//6JCVtSHGs80LhIFqo1MphQpThZ5K+1WY+hUNQYZOnt0WHVpBMBja5QR\n",
       "+qcOOjO3NaRvL4QNO46XICALu9sObcVDxGtsizSKalPQMoi7abBY+2k/C+3K8QXXlnD/X234Mtxs\n",
       "Cnc2aKjIE1htebMJGc2BKyJWLvnrhbWeSZ98LX8mVtl+I0k6qfzVS8XZDYrtX4CRddtufMhyAY8s\n",
       "LTFSLpY/WD6bAzZOX0ASqQb0l88CyKJ0RjAx8NARSoZbvZRzVqdlh+YmCbG2Jj4BxKpJjopjIzF+\n",
       "RIBdtHbpoRWpQI17LbH/opJTnuAKFxIVkIBjPkkd/KwuZGjeQqqkf+2eeuscaQg1VjI1Ubtnrt/3\n",
       "b20DER2Vur4nATFDm28m6ajepmy2zMAguiuzCM6UGBgoj5xxBvf7Fmsnwg0gt88r6yVxlPESGAj4\n",
       "SuGCzVg1i8CxatdVhjn4OcNJtul1dWyoYr7z0rWrAEjIuJjOI7k7DANTsD2NUzP5Zf7b6i14qJPv\n",
       "VOVF7hICo34L0hnlXOzoaVgGrRnhZ5qjINDCgwgPQx8GlmertTAjeQIYf3YD0Fq2mExLh4tHZ9rZ\n",
       "ATqdGGzxfFiOyWvdx43W2Rkj8ZJlaOfbBmzquV4RSV6PK0E9FFcMtAN50t+DoGOgF0ymbfdRXvl2\n",
       "dqeH6A9IY6oCehK9sa55KxI5qR+lks5xDC7E4nUuEDIAXXGhGQ0fRFE8zfHB2Plu06J+xU0CFxc/\n",
       "l8LthpsUjDt7hIQ6e4mNrLq7ijUM046EICtwWSXE92Ef3C7ohPSZG991DAVWvsqoJGbu2fyJBk8O\n",
       "5JJYS4V/DYRY44kJNHwdLKYSu3Jy0fNVch7IUcKNg1ZXaNGudMucNo1o6PqADR1Lkbe3jicc+qW0\n",
       "9CZa77PNSiVr7xaQkHLTXLUqrVaMN6PUCcVWstKrv2MuQZnw21CJREfiJY8tgd66dpwkFdIkWYfr\n",
       "Py5rFihwgum+bdcomGTVNmizOSZaUYJWKpMApMCMO7+fFlo5lb9Kvwhph6j3yjZP+Xtr/yKaNZbr\n",
       "ff3wOFCZyg7b+LIwLC3cTDP+ZvnWLxUv2hAmBUaCEBUkWBH5kbohaIDjXbfYywrmjC2ZTlJ8XjGt\n",
       "T43M84VDaUNg5HtNZvjbdAliqNNxIVgqwxTBv7u0bVYL4+/6eZnK1Cmqxqliz/UFPUzt4bKOvazr\n",
       "CqvDxCrQs4s5bJZ4tdZTOSzXVFkDdCmvElCcRxz+LRoY4NCPfXIYxV74BtoW8t0d1qhgPDM91xSj\n",
       "7nutHYAJxhlPwfnhWVwzx3f2imSvo3g1UnACLgbu4GxRKZ3LGX+w/SXPAeruWc3U/83r5GGe8QF5\n",
       "JgG6LxgcSu6cakWVnzVGi+lN7W3vayPDJ5l1atIQFLYlhR+Ol+ewXU2C/WEW1BqrED9yHLKOz869\n",
       "fWXW7GDsGpgZaHts9NpMlQEbqOvTP1SpRjGs86Q7X5aNjYBj+vVR1zPE4mYzwHhYdJp/rKORe7yP\n",
       "dTT0qE/iVBJjPQoXpJxJSoXnprcTooaT8konZMqoZdapvF5Hha5nUubQcDPd7zwnfdaddCwoebSt\n",
       "WCeJMrHjxI/o1yBeb9us9vZD/GMwJgAPhtfKBbW31Rw3Cxc4OcjMBqFeQFYvdZa23y7LrrjBjDDI\n",
       "Bu8orW0qvLaeO7cMpaEnJLWFv6ETKOf9kNlOtXMq3H4H8ufAAOcrCQcHInTa8qU+iy8mWM31GAeP\n",
       "7c+eIKhnH2s5PJ5L11gbeqf76coapN6bBVgnmOXUrS0CzuyK9VK2a2RDJL6GQVCRHRmqr11g1tqi\n",
       "YwWs1lMR4ZLHH4/+0DnBOw+8r7m41aH5QwtlonOSXSAc3XLgBVFFYAnTGbdmgbgL6dCIrBCLzGdw\n",
       "EzJg3N6UKeLZjG/AAI8N7OJWFlfbFdJyzyzzNRsUT6zDpwjYqEnRHht507JL1trZ7cf9gHwjA04I\n",
       "PeCUCU9tc2MbdbG/T5WBYvVy1xB0P2r+hvwTMWJLQnU2g+xDvdoCRDSn/c0GFJosOrQWLHdFkoEY\n",
       "FzuqjxPedcWcMhgwd8ReVbw17X0xryR4ltXqOrtCXrW0HSJQThEKZwyghrkqcg2Oe+fhVZpPsLd4\n",
       "Z8MAUJeZvfvAN1YMocmD4iFv7P1d1lavr8DZzOswvJWX8HXyE905ZOzY6rRxdOQg/DhYyAyKrxxb\n",
       "y7Dga54ag68yxyI13RBssXA2wCVmQFiWZTH+sZAzt8GyMO6EfpIAm0sxaIwfaIrttGXhVTY4rMb9\n",
       "oIZ8e0ZOYV0sRazbz/tghfshK1pF5lbCKlC306gXRbmRoMfN/b9UOHTjJyjA9Nu+tcfZmFFNhcjF\n",
       "nwah7sFl/gBNduUb7QD0lQ4HDXaGNHMDcLGJo8SGeUZLrTUXHFXfkYAoGgJoexOrGGFhrUN1w/Q+\n",
       "NQPJGedTef+jqAA8mSwhlQShJ6zl+a7nXjTdF0ZB6JmSUg12XzRFZ1vYD9Tt1ctFFw7w6szI2CzI\n",
       "bnfBkQHsjHj24DedtYzOFSBud5JvtEtbIh+NqMgtuRtCtjrd0uYfXwHibKIDEmtks382P9WdlIOg\n",
       "Dn+flvWvnPG+zQbNahI1kfRWmIGRkqpbXCsalGt7I+kR6FDnQjV8DYG8ad42aKmWLSDvApcK0uk1\n",
       "k6qBSCMVDh1yE13+PafWcsCe+q+IlXHaTNFTd//7e3qcAUUWihXLXbONMmhTLGfV0OKnHeeHdpHi\n",
       "ecXmA6q6hs0Jo61n/vEq1hWdSoQ2/s6d7C4pGZQ6buMfsLbOmVzVyc8y1ajBw0IDefQ/55Iy2JN2\n",
       "symjSJKK3G9RP0N9+wEzkMPEsVcZmLuuQpR/EGqTVvVJCOrAlucD4VgzHUsbyTYYkShDGCPdzeNx\n",
       "2eRCpsJJwCNgFMGq1H1zjERCHB1FkZ767KZYuBzDV7Z3+vkdqj1GjvsFdHIKyr9CKaYow6uwGr+E\n",
       "D8xXS4cBAmkvS4TyJYH3oCmolXU6FiQwexZWFIWrWfBS1wJxsVaw14Xf6sFcso1wUUknD3otLK9k\n",
       "LEcKGkv084FkPxmgi5NwDJ2p4RH43u27w71TkJzM5r4El+Cx1AQlnTAJu+GPlILPnxxHsCJ4uZK5\n",
       "6U6E3eDVuqqPZd3snH9jtSbGLY4cUwZzrCT0cVIL9zraZlZsjCpYWF/d8kRdlpjoefvSmveP5nAw\n",
       "rV2oyuqJUlEP4G2F9kdBHTyMAyw329fHvFU2Y6N9atJi+2+HcY+nh+r3gozUA0jeV6f+Lf2sHFtY\n",
       "VrLWsIr6UH99zzuV6TUmqOGNFBDc34XQnXAWfG4eDpzJ/I+Nht9hBAMIIlET9eEArLmzqSw7EF++\n",
       "YODIbvlhsnpY3FIFEoadBq+xcOUEricmXkbOnpYlWOuc1ED8Q/accTfrtB+bU5rVdmTkUgxbCRSQ\n",
       "ANN5fZA0u8DH49I8evSmmfNA/WgMgayWC6NqnJTt/BhmoE+qHzOf9WGHHG+fNKGztSizvOQOu9Xm\n",
       "VuRsznp2qYvSzZmflzyN37GLD/nkTxOwlHmPFsSekkgzQJ9JZPJSyMXr4ydX/i2J+RMJ4VXZYwFg\n",
       "QOra8FR6pIjmJlocDqzhBp2F9j9B12RbPT4WVfCnt6+x5E78hJGGvHZbTqMYxA9QxfNqOHiPA0rf\n",
       "ApWd4OgyW4vilCUh9oTW4DLhsQmRqBQstjJduv+b7fsqD6QxW0ia7yVlDgdhRFLJRl852+55F0HQ\n",
       "s0iEdRvLjZQv800Ar7K6dqg48atkMx07Vc5WVgiEcNs9y69h7okAAATEQZ+TRTRMM/8A4qNNrliC\n",
       "WLcSMCqM+CAG34Xu9amE8s2956pn9Lplak422zLvTR+VGBtRpWD4x+X3qWn/FjNZEGT2MTkR/Aek\n",
       "Uy+df+fIVjtvrOlenMvon8y9Wp/S3bmO8YzGW8ChLq6orpkWeEnItLUEQ4aJktmYALllfE46J3th\n",
       "vuJXtyNcEsQjdgtnz3Wy26QDXvvfq9EJbsGWyYsIuKKFP8x6FnGhGGsGVpv63m4rguxSz948w/Ii\n",
       "puwfG/YOkoiZUbtvzqftjMHqf6gwC7+pwMYpa8U4bZFBKvQKbAibeflxDqMbWjmzbmSEsoW+L9gE\n",
       "QWd2frOQ62540TLG23Db2wrgOcPvYg63nU+SgxvJS3rle295sb9hvoLOTkC1zjp0HX/m5vdxBiTF\n",
       "QZzllVNCIJ0/Sc6UwyfAsEXaQrM2jGa2vyb031TGxroUi+4M4n+igI+dIZmS8zcjHpSIQoQERiXa\n",
       "WArxKx5sX1REn4DpNlTBDf8hsi/UuHHwSV9DHQXTrc/m63e6PI37hkAEqLDEU+gTU0V6WhTBw6tA\n",
       "LxZvT9ZxIndTv7EzUhk2Z1UlAg5jPYjMlt8G4VvhekrMgboKMFnqsQC/aFYIhHZSKcGwrDCEyq6J\n",
       "uT+5tBBJHzBJmqmX0jNgvmTPMfnCom76wTin77Q4+TdV2sh+F7fT8cB38g5ywP+HCZTRp3dwXzGz\n",
       "r0gE0f1ZfzTy0eS0ujrcJ6rQxJ0kGii0nDs2do55d7xpzSP4SeORRZw+tI5DZbHxNhCnD37k4phO\n",
       "ceukvyWJunks051Bwcs+xO9o5aypyIFd+EtRC6Rd8Dq0uMC41HYPKYNlZ7e5KHk2Q8if/Xh+XP5O\n",
       "NTbplJ0N2RL+KT1D6ufm85e+Yyix0EPSXSUueyULkfAOS0v9c6/LABqAc/XVvPtkNGuhu5Ox8Hv7\n",
       "cwxsy7xSLM9L9Cz4HNLPDoszx5QIFihZPsWyWHLOnEyIT/Tq5gatmvp3/sdJ7ExZ2nG1qRXhim5A\n",
       "h75hMKO2qK8P3SAB7bYkvRYDreEpyC/jWrJkJZQsWZaxo+OvGdp1DpDe8ZpJkZ7hTMXPhcOcBR7q\n",
       "83TvPJPEp/t0xEr2bPTJZo0bNP5aCSEknpojuY8FNpom8SBMs0ak07WmPQn1DWrHKG+TEiiyDDRZ\n",
       "KXoyUI6kUzTglhsNygdYmUwAkpnNtjvxfm11uahP9zIuq6j9DShQShyg22l4Y9ew/Ln0rmG90Bv8\n",
       "Dwk+p45PdPUlxTetMUFd0MGARYb058ANwk0o9piU6c2NqoJnXhee9X524ayGCeOLnf5HBggOr//0\n",
       "3Dyr0m3p0p/ey10NW+8pw/LqxGUhyRP+KfXAgSpVckgrK8kJmNmkMD1gOzBskEI6XL0za7rRGpZv\n",
       "m3EVEXTaxPr85wOlJP+PxSrbo7gad2ynsSQzbl9tUBpeB9ThXAT5yV/FQi643q+5jWF3HllxGiE3\n",
       "n3K97ZA5J9/WZMlVfHSg6DNEaY8BmLHaPIgmW3ZlTtOOi2sYW2w2NPiyjIdT0kWtpOpvAMs+gWqm\n",
       "4iMUhB5XmbHjMj4/cLXHku5jqc7RagoSJG9ENMmmm6IJkz6RjQwhQMbsZFPO290sU9s1XsO8tARf\n",
       "3rkwYu1cpIAAAAMMAZ+ydEK/Aab+xjx85wClAECszaa3cK4lIPWdil/LnvgANgbJIyLgUZOYz44C\n",
       "DB+mq7sOSqqPXvkdkS/voALOJMNdRxjUxwW3Ergt0UhiUi/QLdgF8p1/1G4/KKMJ0fasiaGjlvi/\n",
       "aYT2ZwaIxqsXkeK4n4MFXjKt91VIND4hN5xRrt7v16eznfHL4iyNSuZ9A0V0qFHT1IW4uPIpNGgy\n",
       "DgOEMdtnxeblBrY+zXpNMp+dX4M4sGI8WX40iHZ2kZZjHLJEg5TYn2aHhc/hs5ta8FLVgpjsMv/8\n",
       "UwPj2kckj7w35Bf2As4zb5Is3rhptSazMPkO+vco3UDGRTvIfDf9p6XUEDdoK7b48fU1tBC/Dx8a\n",
       "H0ve9OWFDXKI2sDHrRZhwn+KdYeQb7L0ALgoqOz3QlA+b9lbUtdIiPvbhFBSmncA3dijma6BCVMR\n",
       "Fxt9wel4qTNTt4upbVF4WacPJ4YYaJQNRSklkaT34boGO4gn1hgtHkVFVDyHycuvmQQBmiKk5zpU\n",
       "uDnKHbaXJ84JHkg3d9EbuEeI3OB0xPNHI18ogPokBh6oa3JRQ6ShJ6IqnrZBewgGWiUQO68yM3XB\n",
       "vLuDKC/B4xK1+VpktDZaAa3YA/XlCQJlby3xU127z5JHM2DCq9wfYsCgtqjMShM2W2uqnFdc4pii\n",
       "pYI0jDppZM5bps60IsaOWtmZqHAC3XOXrDqPHfomMqS9VdinZlRTybcwctwgNI/dOwoRX1YCG0gZ\n",
       "yW0ki2cMFoaejXepYHNHHVG92qUu7uUhvV8ybn9VsDhh5B0gBmq3GdNOYzw9iI+RwQUt41qzRVGH\n",
       "eCa2Fa+slziGzJCj+SXLPBBvyMCXcbTIG2/75ykrEI9HQlk9QS6tREBd4P3MS7pR1HYYftH2qsDb\n",
       "0Mhc8GwLNFZE+4iBzZ62ez+QNJSbrfoNJZY1VjQfwaof2++N466qm5NPrbJYxf2ad6+9ee/Ciw0Q\n",
       "uffReSQO05Q2TQFU0cJzSoip9Hy1bOc0G43o76+FP03CxQEqEDcwdg+9c9MDVZV20bowAAAC5AGf\n",
       "tGpCvwGndMbI9mJb2xIAO4aAINEFN4ya2MTiLNaeLa89qasbDaKNGFC02mEpxW2idgbt99s/zvsF\n",
       "wV424Qa2Z65E1znJiX6SeRhxYfCnr0/KYqvjZl4ckiCm267lGb66RBo9UgbawhqClE+dENap1rkx\n",
       "aGADs5LplN/BsConEqLMlnU37LgR7YnrpFgCKV4m8httPMej2kkr1Yr4HRd0QoEcSQnUqkAA1Qej\n",
       "cpNlu0Q/YxymcxLtaKNNUiibyefj6jN1Ob0rM8DQqYopt13VZq58jBWe+w2YN+idTs103tc0rQAO\n",
       "akzFNMceUmA9M5/79u7d+XgE+b8FGIHMh6lDyHFsYXzFkV3PrarKyU0Ib09i15CrXRy6bJn/hibm\n",
       "khsIkkRgci1ZbFf+9ra9QdGWm9IaGoSgmo8XMMishmEoL0rOvDgLMNPax08EyvoqnnSdJOKI1WO8\n",
       "gOhgDcYTFsjf3SkptHBsO90M9iOvffeJKTIlyc95vQpzOlNAVTAjsySvSZ0dCFW2gliOfsEEWW5u\n",
       "LUYvKYyrFlW2OTG1FsER+vnEIsB7bug6i/5Jmbh7kyyV/RjGfvljRqHXb+bM7hiNgk9pXBKmOMV7\n",
       "T/bdUnnn2krhYgeKjghwvl+Egge0tskLSNllYsYWP7QmlEJRWo9bchIEvrnreBzmO1q5zrBOVZTe\n",
       "zykF50i825KYi3zKSxK3oCGb2PZ3yHTh77iMQBD7y4wsunRuo/XwLwf6BakEP4XwzuSWk0wd9P9d\n",
       "z5wLwLQQrmtIDSjHshZPGQ2sRkOmPSGgc7zwxoG/wgCo6l6hqLB/MA1NN4FmAmzHkjfVhdz/925j\n",
       "A7VyeOnTgQzQchjmaqv7SBQnueJCJfFhqv+Gbh7U04lQ01gpLEhpJWIGazY/IbXLvhxuQsQXZY/9\n",
       "+EtAUhon/OBfWQogsI4LgCS9oikGjqJLfftYvQbBSXPwf3vTVtHGg14rjUdgngVG/Ym2plwJAAAK\n",
       "6kGbt0moQWiZTBTw//6plgBlXwCThzG3MOJrgAGskIbN+I8JLn4niIx8od2K9VJ/gfq2DTyQ55kD\n",
       "b1Ssx8xGKJ1Ncjvav/+PVylAGwp8355WaP3Jvcet6rTc5c497MSw+VCHsKjeLk6CfU30UXBoKusR\n",
       "TNab5ZVNdGcpZkg+KwyGnnzEKUMIVw3lyPKSdrtYvHmOIY85A1XaQ4cxBmIWUKLgDGwZqXJtci8z\n",
       "bb2mm90td4IUspJNmhG0Ui6GOnc9wfq7Pm48LMKzDsjoG9DjuRHqLctoBIXg53323ecbJ6SDkVal\n",
       "zML/a8mFWeUshlkfUjNBLqyeTGIIxlYtE8MDatD1rN+/kWacwTjj96F9DbzumYGmLT1mkN5SLsXL\n",
       "vF5EdcieSHi4eprUl6QiRty1Zvu3KvjEHQOWaXyrDjAsBNbC1TY0/KYhxe1HFLZ5HJdxFYf7+eKe\n",
       "mHTe11Qo6bY3ADUsvzpxXkXwNhZz1qiFsHcp2+4X6PyqbxYR66dkeSofObjC1dg1qCN7FjR2A4Mf\n",
       "PJ2ERRN293XQmditmwXCf6Xq4ReaeQLnUcXg/2fJQgRcLFrFfXCMfqbQiqYBuWKODQ1MtRiAgtO3\n",
       "2vTXBxjKhmr08ZfgDIglVRBFhgSE16bNEySUhggG0xDfH83UE3djW8IAFzz4F6oEEyTxoWPzv1vd\n",
       "3w0MGPrpplba6bv/d9+IuXvSxYVcSpz3mHk8yCGUZPZyzNXiw9pLJaTee7pkeIcPH1gOFLeLa3Ix\n",
       "AabxHJ03Vu92iq7yGABNWF4UhjYoRXnT2nXqdRtXQDAd/DgRh81TKhrMuzk2BylNNTTSHOR/SBke\n",
       "W217VltXpg296zsOW1JVf5ZwiS9WbBrggO+brPpDa5jvFROmwcZIhcZ8tekeFM4LYDQHq+tEU4Ey\n",
       "FMa4o37htH0NYuTgpqOeTwZFBXTcomx6Po7ii0plt7NsqURBfOA9Zm4PNTJyFaRLl3Kpx+SLNo0B\n",
       "BfJuEJQr9EyYi5EVnBis7VQ1d4RXPUnCrhX7vwUqk/CK80samwBa4VXaEmCU7p7I0R7txiEZ65Xo\n",
       "58+HlvfTshUtGwimhGNf/+Qiq+oRSy5KLxeMWwN7s208M7oYvcp6QKoYh3P4MCyXx1si4BoZKFJH\n",
       "BExCcWmRn0amszcdDG/iLG0hmf7KacKSDX3IyCeCLmHRJ0hbWHn8ogBUbJgUZSZLYYDAAo4H0oHo\n",
       "s+1YngtTT/HxD5o2x6cC6AMrQiglEBWXYJtOwbKfW5RTjBJZpzN3UvMB4eESV86eqYOapEfcXUK7\n",
       "NbD9z1V3YR+VCxkHJyfgZrCuqdEPIBS0MBtdxuRbpIsqFgNdN/72QSIJdMue6Fkglg26yXD74Qfq\n",
       "JlSXifMnNh1ldq+ZEl2dB4d6G7pGT287Dd4u/+FzPJisbxRSEX2NKJY/yi8Uw8oRpCW/7Aq27Vh5\n",
       "GrxDPP3m1DFV0XulCGqy+W2ox262SiTTOYXuQohJhMrZtvLamqoubBcnsuDRqR/MlZHDkErigAGT\n",
       "a8wB/PzlHP+oow8mr2YIqfegelTnEQ+8Y6xVL2Xwz7uOoSCsq0qWoLYTB2JVUeNKqTic4rhWil8O\n",
       "0nwpdPXUasj/ZlMotfVbJNMbj42efL39rUF1xmaGyBQvDRk1f+3aPje264Lt/wxrbj2NB4T3lbef\n",
       "3l74X1cSt+vnBQagNsXxp8ls3AyMBJthHkIMOhh8GT0qc8xIZzsS+J/XAeBcv8lbo5fxhX9ARj9E\n",
       "bbcp7psQpw3KYz8EnlDPkgPHNBJktlKRgHY96ZW3LXdTotyS8BfMmQaKxaeOGFWMwcsLEwPXeXRv\n",
       "KbEMk9r+K+a+k94qpOSxFC4SgyLcJWaVi/7jrYEXdVxfefapmGmHRE9VMFB+pit9IWhbRM82B5bA\n",
       "zF7G5JWy/s3JOY7xLmaAnRwDgzJbnR1zPEMfqly4EKlFMxFBrsC9SVEEnNW7S9eFzJdNMob/cTbc\n",
       "XWDZwXvP85CKshszQaeijF540VSzrkdJ6tvOMu5DYknCZVv6E4Miggi74jjcHrOcW3uEEs1Wp3q4\n",
       "YEip2BVL6+o4Lcb+Wlu30Ga3xQoRxtvVKdX8WUCvoOfi7pjR2o5r9fdTc/FkXIsDkrxHVn0ctEZN\n",
       "+Wp1lRXSvdx3dlaCjFMO9UZWGawM+xvPV3yyvfESj0ojW45oyW7b60G76edQQpR9N2qbxUAJb9YA\n",
       "2CMApM+95U8h+20Jp0MS4bRMigjYl+EXxQ4UMv863zfzfYb3StMeXacObrRURIHPEpJCQyOEEhG9\n",
       "kDonod2rTwO4bHn+o+cOsEFqspKaQAY38ZyRYrNxwmmEGQmmzFbnm2TG3zBqeV64D42WRjLGssLG\n",
       "kAt1Kb62lzllX2yy97Bkri5MTRyI8tz2bvb1grZTGyskKpZeSI3nyA/spMtSecPsBMUcPL7wlpE0\n",
       "pdx+KZkHzJPt8cl3NqoLir8I5q3+I1EKnWa/EQikBr8MXVRh7sWZ9lMGZJw02wU5bTYb65iY3Pyt\n",
       "jJnQdS9xgxyjZ9ZQNInZiEUM1mLfCqYT6B0le9Mk2QVoXXFUEVuTlzP4t1e8NHlwBwKbl+qP74M6\n",
       "EyQomuardbf8s9YSdxECsvJa+CuOCTmFdGGt5Pfp4ej0lSSnG2hPSXy5NQJfLnL1SmG2hgWrqM12\n",
       "YQwKhH0xs/xn7HHNvnT1sHW33CJuPbkTWSfCE3/ONVEE8S5mtNQOS6lycwYBYAy+Tvg9aHvgpOCq\n",
       "D7jQqoFCCrr1SqccZFROE0cOwQsJbZIDXg6D9YFVKX5qgbwlPa6s+UZHfyeX6lfVeA+AaTDtBUjt\n",
       "OJYECF3ufPwwRg221t7sCWmfXCBNeXDO4sDQ8qBvMrz3VeNkNwEnFprVOsX6onOJDUW/XL6g7CQx\n",
       "Df3NBg/xWn3TYsJUR1rj+xvPn4FbgtYpZppS8dG1vlS/ayWsAufWDAMY71hr5E4AAgqH676tSgz2\n",
       "9QKws5HZweSW22+lKukrNGpquUnpeR5ioOYOa4HTlFlPWLr3TQ08jnbzt/nMbncij78zvF26Sae/\n",
       "FqfzbgoJ3y+TMOJSrUr90fi2vFQUnJQ1G2rH5sxKMWnktjVZppgsZ6fSVDE+0ocF1wPdA4LG8Qxd\n",
       "HtLrtB/82YfgcQz//Ec6yvC4k8SYcSlqF/ScJyOc1/x/lVpDRuKrVNYlF0x6OusKPmBvZdW4op4l\n",
       "eE0cOnG/yGdoZMtN9xTq/Viy4be+Lqm95E3x9w91sftCNqbMd0ktTLi9BaMNZXKoN4FGlVFy6lZD\n",
       "/V3eMhfYC+FLqiD5VPFiiR5fLC8eD71GvBgEweUQcOUDbvwfFbw5DQGl4eBr8aKyFl2d3G5gLPHI\n",
       "i8ql9m3de7tVf+sWeOtg0786ho4weM2NU03o6INf86VwSIOxFrJBxiEmrgTQmqQd7mNd73hCs57s\n",
       "9cE33YR/zCavZHZPNpJSvxB6H9PAn1Wsl8FsfDNqTf7riS4MBI3BLNCFxb/5auBBbZgfxOZ5GNpP\n",
       "odLO3qI8ntc1Bu4OoxIqryWrsKixpMbCD7GpQVUQZzNs39QRF/ampHXmq9rskaSkDjxT/2wq2rfm\n",
       "7AGQhXnWCLZp1yTM2bMV/W682H1bya4rPZdydTkiehR4vhtRcM1SPRrcEkzfF317CcbHK3BJ3LoD\n",
       "4PHEaGvOuRRJ2Uq5WFaqY53vLakhPL+6vE1H/m6Gr78MEmkHRfurczfPAzW1JqbywzVcgQqTO5iZ\n",
       "PswAAANKAZ/WakK/Aaew0bObrWAgcKZFACKI3fpWfgU3wjooX9PNB017kxuv2GvBC77ksgcFXnLR\n",
       "l+wUHnA6JD+8AqHImdgsJvaxMZk0NqtPB3mFT+iE0nuB6AXoQ0ciumG66uXi7pUIXTgEjMNKDVBF\n",
       "aNMJdZTpzrY8+8O1sMq//dKuV88AgFODVSthapkSS8TwKWCyZwfbhdNxk5rBtfN54ATfQChdQF3T\n",
       "BzfYpZoGzxCUUt+p72N5z7AeYMSxWKnOnVHTAPhYW7A+KbuUrrc/y4DY2NDEd6HPnywesWnA3ju8\n",
       "2OONKwP+tWNdC/4jxDKWJARwm5qWDvkUCJ3/f0G1VH//6I9h1+PuEgMdGNexJ89oLEzEAAgQ8RCU\n",
       "If6RVxZLYMoRsxgnGGEiMTJlL1oPS/50cUCiiIUgPfDHfz7mVB/kl7JRBlq44IBBXmMnfgR+pEEV\n",
       "GSPyMFsX51EPWiy2Jh/il5raklm3qEZTn+zMz+VL59iZLCFy1ypMiXZOxY8fjygRSa99LqNQwtQG\n",
       "FOua8zIKepODbF9KrLKKv0Cq7tIVlIXiAfzsZJB5GowOiuRKDy3otl1Q8Wc5CUxNaf15RcEW9g0D\n",
       "GSfWpAnuyMxHUAj5I4mtepIw+xBNd8+UXrOsMMpszFTzFT/UhwzOIS9Ghl3RyioAreJ6zcvHhnxs\n",
       "hxwz/0Y3NWc+/cYc7EybYQJbAZNwaOqic3uel3suKPWUC7U15gywZGCTyF75LfWHxs2Fy+y6Cfe5\n",
       "B8wqgO5lQIgD3CuBngxTSskVpKY8T3dVPIOKe70GPK54BKMnl/Z1qcm9ShkawV29MB/EPQ5ucPc3\n",
       "ypHmHpKL6to3pw/DamY72CxuAVLh0BvP+rSzSxl3AOqhzmtcvM3Q4INNGkr3Ur1i79xRCF6aUkPY\n",
       "Pn+zw6U/inKDgfiK37CXVf/yRAzZEjR69bWeeO5P+b0ArSI7YlYJQbJQwfZSptUOv4d0AAkomSKL\n",
       "ehkY69WEgD/3blutPazzkgJTTZi82jtUxk1ja190whZfokEBTCOTgZiRQ8qoVYEWG8R5FYenM0lX\n",
       "JK5u+4UfEuXeX4/v+H4wOCfS8GKjVzu93Ed9OzkCz784LC+8R1pyET5LhTTQGXS5tUEAAA/QQZvb\n",
       "SeEKUmUwIf/+qZYAbSCD6oMAFWlwq5THsHLJ8DTL6++/hgeZ3bN3D3ZmuJ3XFfaj2O+BqB4rlUhS\n",
       "PzMIS1p1Swo51ZjvZm2novdxXCLBQGFG0Zd3LMYyDef5x11y+8aHNzYR/qVnW+cbK4kFrUNtAiCs\n",
       "yF7NxkHwcQpUBCYesqXO2jQsGPU5GHDRN0OiJanh8T7QVWQdtzfh5j+w/Ot/89gJ5VgbYImm0WhW\n",
       "xDFRx5dFqppuVA8FiqSYf3D82JTrDmFljuzZjac4se84+0c0by8MWc1SHMCS7UaLKGTp/Gt3e3co\n",
       "eGCq8q8GgDD1xHUqowa5XNPtgjEh5FJMowKe4UiH3jeHZfBzt6mMrl7Z4Qr9GZKyXHBQqpmpE/yk\n",
       "+7GUSjqHHVpRqYsmgpTz6/wa8xwdpO2zzVDh5yz/jVG9nYlOpqSlnUqsvD4YBARXrr/NvbToH2Gl\n",
       "4O9dk8YAIhhsEKPhtGC9KKK4nb8ot7LzXlvObx51insi4KiUMN/E2iAtROn9aCDvjlNxtSwXfjmg\n",
       "bhyAWB+Dn3WW5+DhKO5X2tmGbbRXksWCp5DjNkS8M7akorr9QtKunfHoEjQLV+WxFDP3IZk9ehqB\n",
       "L4Vsn5ImOJjA4KpBBCEOPzBH0Dq1xY8xCA09QlwKAttNoqkJ2ZTGoGkCn3qVO9YW3EevmpqqOxrw\n",
       "or5NaYRcY3Od/ozgwpyxp0m+1MpdU7xETvXWpWLEkgfl/YsfgymPmyFCL/dJBA92k8ZIulQEuQ36\n",
       "PtVoGpXY7dMntxPZU4AGgehUEwA6eQkbhEiMxY95gZSjdpK9JgCKhlLfJ04qHd4Ak9mMi4A33lMc\n",
       "DXdy/UjILeqVGk9lagNErNIpz4Hx8w4LPnw7+wCaiJaDAXvv7yjI0gIeI15llXpL3C/MW/OzR9O7\n",
       "5dF6yR6cd82RI+T2aO+pH9f2i0kKZzI2TZ8Bdutx757JzvSFpySN4DTQCKsm/1yBT0Wuzj/fUMTj\n",
       "VkF+BGHFSXa1tO1xRBehZ07B5a78QEL7wQ2YwNIHryLrX1Jjy/+hx8QHZc2D7CDrvmY/1boGptvm\n",
       "jul5O0M4xnvCcmTEtfEgNV5Bx/8ghjF+j4LWML6CHw1nCdXaWMyaDZpA/eHDnNLYdA4tsmq8kHts\n",
       "dkCRS7JpZbN3QUgfFBAQaKMouhFPJaWJGS6oWeFBxJamlhRsLbJyJoLNuTZ8txIw3gaYI9dhkhTa\n",
       "JcPQINLuMG61F8AqlFmoO6UuFzLfFbA+tdgo5/j8OvpIUSEsM3npGiVkS1/qzaDGPgncTn9RCEkj\n",
       "KGrBVHImRTvY3cXeYgOuMlouRrCMkUU9lsfyzqfEdV3OY4seReM2wYoDidKzyR9pTGVpmAu9IZzd\n",
       "TVCLOk4zV1rerHZMpdZpaI+lI/SrXoLnPi04SCCB3Q6ErqM5xo25OKv7LdlWvxZQkabRetwuKtf+\n",
       "s23BWFiGiIqHerSPVXUCvNALLywtxbVPpqrxFG0dRX+KLeeUeL2mk7CC00S2N5QLQJeDTVpk8IWA\n",
       "NG8LiDwa211M1vHIED+TMgYB5cfus1ASBABOq/eGxZfxdeJqa3pZAGvF/n9tEM9bBHUdO218VQvl\n",
       "yxqVo1Rgk7lXbaFw4BaEe31g3rkq3nwEcsvMSpmtimfSTO+wn8eyvHdTcS4a1Snjs645IH8qbQLT\n",
       "92roDPsKpE5HPxXwEvp3SMLkeBRtcEbuX+p/2oLH0EryAnyMcyzX0laP50xHYA/8Ze+cEpAZWmHD\n",
       "dGGDZxxxI7nrnI+6yCl6ew9Hk/+0iX7YHzCZ+7UeY1v91bDPS168TCu/kt/KIBjKnYadOmr1t1ld\n",
       "M0MV28D5RW1umswv/oRrYp4sJtYy5zJGWmOBdtSdz6qQa9Gqe9yeu8Elh4KOD3SqTkvKg9mEqu+Z\n",
       "QANr6rf0S1q3XFW7d5gCg5waxJ3dEXggKOln/t+bysPPWf2/TJ1l1ex8sdzeE0uVykWE50GU60q2\n",
       "N939aQCLGtB4DTkNzUSw9SPIopirgH5VnxzHKMVqUARn6kS8n5JMN2YAWE7yExyJ+PyZDBnTKS00\n",
       "TbFItBKvsso/4Kke9RpZOPmThT1N/Wh/MZUAN77lM7GCi8Bg+PcSr5K8k1Yfk8/Q29AqK+x0wOkX\n",
       "596Ox6M1BwIAPIjzgmqaf4lXi42bWBB5+koqAQP+yxdVECSHZaDQ2aSYrW5B1KjR2S6suNCYySuc\n",
       "IjC6h7ye6Ujh5yT/F/YsyDFAPtOHCmWpF1c50BWOBAYBwCc7W6WnQvLIk6e+CA2iDzdCJMUDkRMf\n",
       "pvxr4UJlKiAPlJv1hwuxWjAHv4pSDrO9iGMzBhjDIH02seWhnkouuTOdJhyiGZiFvhKcFQjzJxOv\n",
       "1R+btCA0PdzUzcIZSBcuDZ8YbOyu71+sU80UBKg4TUowEdDgXKAAeNFrgZcXrPn2flHBEeuE/T5e\n",
       "MqRywMqS7oz0TGM5kmgNvBYqpDJSEc5dAfFEOfSMF0dYR57WOTxyLL8vjFvKs5NZ9yvt5C/RBKuu\n",
       "vm5GHumxB70Pk7tJupT1936SGfNxn9FvGTbeDY8U85/f/9f5pyRX3rcyqFH3HznuyIDruOxDEvqg\n",
       "a7B0fvktSNFnJ+HlqWArbGxoYQcyuxLBkL6FXI+CwoabT1LueHXHZ4j05gIZcfrJCrorRHmCAd7v\n",
       "Rg8OyMVXZSJWJuXqjuZyNCScZCeRBT+WAnWjBpNxKUXBup6UQJlw9rEd7i5kkHNCF4FQanrLfDWp\n",
       "2dQa9FFUW9T8BjI19Q2y5VCvup418DGlwR6cshznfQ0Gq1G4iysysfa+TBK4c8PHEKXgkS+Q6Urn\n",
       "ZH2wmuVMJb7/dBzWCXTcCFhSCxcVJTja9s/Yw1kcqgV2HG+A0e2HjcVPp8MhWx5ncmyWWH39CN2P\n",
       "F/r4zyvoPW+g5fLcar1kfi7kEfLItgUi7cvX7OoOhjVLn+sbmLDC6OC1bUwNtzNQHg8xmgZIZHZ+\n",
       "rDn0vDvGDWIScwbppOLN8llxmLuiuh/2Io5rXMVcj/XXip0fgH6znzVjm03eBDwHPfZ+3nVMo55I\n",
       "8vuFCKOO5fMWFTUhw4Nr+rBBq7W1iha6PwFLm6WCs1haPzGhK8g5JJcfqWVurptzgOD7QKtZXw1e\n",
       "wMyzFw+PIYVSMeLI1OUob3jnuxOQ3x8tiuIYGtDXJ8aNd3s2qYP7IUiOu27Xya5lZfPNUB4EX+Z0\n",
       "+Y/njTWkDEZ4ixh4641Mt7qGHiTjxLWH2kK7w+yX2o4Mr6bBtgU2s8NTLrVJI2cLj3/282BpWeZb\n",
       "k0XzX+UI5fQSS2mU6d/X6vSeBAWTZR9O7mvt9qBJekAG5XldkIBTSWZjiBc+tC4HrN+3G2d4ktHZ\n",
       "QaVqCBVGfJpFsEw7w1mbScyD4qLhvjleugiWWPkwrx4Ga1UPOX2ImDk4zRt46d6IDGJBYgsmOwMY\n",
       "k/6L4/sHtdiZjZ9T1K24JC63cC2P+bmTS7TQL6EVnW1GTqUdXkRruppNdgQZSRqlGynm0gizLs4D\n",
       "lQUkyC36wlW7CpxSM54eZcv7j1dMfMgwI7Y2prC0RfjPK38M8XXpMwnp2VjuPbB4WRu8EeImce2x\n",
       "6cN6D86NY3t0lCdzsB/oK478ZLwUJ9PVelc29ri9SYmCkvR6t+1j7r01bHf28HqjuPfD0DKhuFvM\n",
       "vX43rR6FPuox1+N6jI47EP0zwbI31rgpanArWP2Ygik1GAAAZCRobnpWB9oPunoYi4CD5yxw4IpZ\n",
       "BwWpHd5NNeOOcQLNIxAFA19qBRvwaVbXCCIDdH9F5U/mp8Q2xmuwPlOS3BDoM8CKEyBLQiximGDE\n",
       "EC27uBfZ6ON8JcCrlSqK8z8arfB5L4EyqO4uW0ak1kLti8XjOg/umsIcp3XXLt2KfOhcJR5Rq7hg\n",
       "0h6hh8gJ1Qm84uFXIlFkGkawBGy2bn1jw0SY+RNSzafHkq7p+TfUnz/2NSsDkJ8J9odjzYklO6ao\n",
       "Ka+APDDZWzJitIWFFiKdDUPsLDXoIe7OifdI/GFMq3zqWxE1CLEECaloN2U+yTVOHP2mzGU35oNx\n",
       "xsebkYOMuIpJp9S1skgxZkpq0CiwfXcFNQzuOgU1LpJQfkQLUIjzU6yBt8dbB55mgzCCFH3zLJiZ\n",
       "0MCganRR2oCd8Gm7gF3QQL6cJM6q6sw/hXsivBadsHu3dujiULTKdnhvZ5zEpVCIvCUkQRTjan5f\n",
       "FNyH6+oL+RQXaZQTWZvV4qbULqdAp7kDHt04Xg92XwA1nEB+ihI5rYd1MYPek8FfQgLsjEmRAswP\n",
       "KlLoJXezGztGqn2FlDKe4J6KWnVQPuHsq+del44N1TyUEvzBsm4Q9d/J9lM9a1XLoqkQiYwj+8X9\n",
       "vQ+RvpL12CAzAznw+19BMEl/pv+EA0cgo+Wd6LG3r1ReqgPaiiZWNp5BX8vGmRqeB89y8Uv92mCo\n",
       "mFJtBdtzw/1KJjdVfHfWl/tl312trO5MMGGx1OACM3eMtwseSR1SBd/3nM6fJ9oH15xTDVqbFn6z\n",
       "09qgH3u9VZOyMhxUwi1+azRQtDKf+QpB3IwEB61p3jXxXrCJiHXvNVpqDLXxbo7a3sJFQlQUOtEY\n",
       "phvX5jzg3z3HGMdkBq67ZOibZlu3x1Siqc3CGktKxyYmIzKit+vcMjeWh5xCq9bmpl7AO0KvasI2\n",
       "Txbx/7aouj/yA63NE2o6uwFA+cLul+LwlHJHfmQDTP8tOUzDHyQoKq/MgULTcnZaqzFdpcb87/io\n",
       "gpepDF/ZtEz7PQIFnDCS2BhgGZO2mllIV5139pF5mi3Jg/Uyoy71OmT/TT26bx/61WPE/rb/RW92\n",
       "ZuiXLZr/xSZUlxoeFfQrWtpW10YhFopiZZ0rnYQLPJTFFaB6/i/+IatoyeK4OphmGsEvTk88wjdf\n",
       "0KqhDUngMtG/i6eyctsEnaYxEaX9hQkmd2R77g/d4+Am4+GmQlrs2m4qwfuHvW2hFucEDLt3afKF\n",
       "RYauGAgwAex8rnRH63uZg9H4CCrr4eaHWntkLBkMgtMC4JjE+kN8xBn6I9T9LCN4EnOuD3SIBQjJ\n",
       "683W1AVSYpzGJ5YVMBQwnCgCwMBDfHPM2wsYclK8u86iQaau2vXMrj77pJDg4utRtwe9zcTE/0b0\n",
       "8RimkAYSMEk5YAAjeLMSZDjAx5FkJNITxQpSKwBN2cdP1+aCmKEkDfY9y2tP28on/vQNDY8hCbqr\n",
       "4mf1Jj2vw/vpn5Awr1xrsnLdPcofAqxn+936BfsZeyhtCHdtlKSx107126C/QEenRi5hdXoMc1Wn\n",
       "+geTMNLOqP0LUPDasnPcfdWvGWiJ4shH8iGheK/l9vn+3a5eJ9IFyA5v5xUCCXwSlqHDuvnhVkNA\n",
       "9AKpYCImSiSWszv+XiSJZ7p0KmIfmMCpAhnnw8bOHnvtc3xO6P38EzeNDwUSlT6tfnI7Y5wBbQAA\n",
       "BWhBn/lFNEwz/wDio02twHkrhVZAaYQi/oAWn2ixIxFzi1i9vTx915sRjYKVkxLg0g9betBMIPEB\n",
       "s8rilQI+9n1tgHBXgRvpYXf227tvdDzL4YNIkc0/siYveNfSoyRM65ZXQZCN1bi7w/90KrBPJ3Af\n",
       "byYqAQTAkEXlfSfoGLboZCM9hJZJcbohsrc0Go2JddTDW8ntUxkRaIGwHCLrEb/GVaypAlE4H4yt\n",
       "yA+WGlihuT+KZjdEvlp6mT5Ael2ix2gO4IcF9kcXsNlcWCwzMrAplOdSA6ZKOA6lCjQZ4S+c/0NM\n",
       "bpxpyB93Wo7qP+voGSeiIo+/5kZYWNne+0n/vw2oGPBq/nXXJ0VAeH4Rzum5ZApZME6gsu4aQz/O\n",
       "AEiHGWWABlQsgoH5wqlsLYzNjtl2Icimpu4BTkn3UqKP/zRF47IOuIqWV1VKFmLiu+ABp1cx6XXP\n",
       "uqAxvkP8+XFXD5ociLCE9xRQI0cO9fAo1bV0GFh6C5Rp3P9nCNZrlBuXUsDJrAeOWdoGIirQVSAE\n",
       "Ir6NpcFPeMy1z9FVXRTLLGTMWAJ8ACBDQmzmToo6CYUo66eH/INueqZb66+0F7T9qTTD/WxZDld9\n",
       "06465vSaG2kyP38TFufSfVItr4lDA6c9sAoRZre1/KQsqSH3VXtu2VyQXhIlhGdzT3QFcDdQ+wJZ\n",
       "Ik3y/Yuavl+0nO+kHIKXa8ScjW2E4yjJNMIGPR8YfdsFFInmM/qTYzl8IH7kUTU7J+IWTGbtkzLc\n",
       "3Gso/UDI7fYy1uUGdcxVxNl1jedZn2ZP0BqkCmymXWvwy/QqZ42ujwC0yhYsvOBF/uWEsAoJhD83\n",
       "Xyjn54kZnGPQnpDTOQFOkfvy6QEpPdN7WwR+OkFU62gutUrWIqhhuLnUW0DlyuCh3Yy0T01eQGEN\n",
       "/+F/mVt5SqBtpiSr35IQsV0Jbln7UrhEwEj0IISKyAkXP3TAm18egwanD7eUvlsmMXFNR0MA9swG\n",
       "JdvzStwqxfoYC49RNwuURyTsgmTOcRDW7uw8duuIq3lSntqSgKkU+hH9UBYopuY/3KOCa3TgHE+t\n",
       "UeTxja8Q8rBKIZeijXMCR2Jq0JbLfBOK3qNKUI7AUjTMooB2uscGWxrlTc0EkHG76p5uaR/3djk6\n",
       "YtS1CPWHLT3V/i74GcKqi93mVuME/jB1YPKMOjTJmpJ9uz1jol/nB40Hk02s5BTOT6/9PHBaeywM\n",
       "gFzYsoR52wGlnev657J2N6RKctJndpXqLlxJytHHKjbmX9/3gctSJXpD4g31YCwDHTvh9YpUEila\n",
       "8h+JdJ/jBKaQ/zTe0rrl8bqIy+K2Y+OhIfT6g9NRJZ99WclN9DYojiAEqesFDySeGCL88zQpEPWy\n",
       "qlrVOp2p8X277KbvwhI8KoVdq+ERXtLBuDbTTrnOXCpSR25anjMUjke2C8lrh5R0mJd6ggLzzEcC\n",
       "TcYwRlzv7jGsJTLGGsuOLk1Ld4ahCaby6UZYO8ogBxCz0bxCd/NinJNw4OqkrBZz+Tpmn5Y6dedL\n",
       "VzfGNwwY0zHEOupepV6XEEV89dK0BcDf5xM+O/Ylstrb0tW07SMvj9ATK2KVyqpNgRbKPdCw7xqg\n",
       "waKDW69vaZ1uuQww0Ejc8qRtYGJKnBNfNF9bpqBnHV4AYSHYjTclYOTxfeoBV9sgpB3HLa+BH26E\n",
       "tmVtJey8TCCC+zGEqYjqBHiUfO3/A1AEfcduYAjfBgU4icqoepxorpMJTQ+OqLLSk+P9Jne66iwp\n",
       "poX4fJR6yzLA/wml8poQXF34gcAKIKeVOgxfBk7PAAcwjCgcUVWJq7pcbO1j8CTi6IwPfMZ2ojYT\n",
       "g6Gn75qS9XMQPVqfkciA/TJQAAAEGgGeGHRCvwGm/sSPan9baAIezK+ChlZvPbdclF9LQbSD/70A\n",
       "44Y+kjt1B30TMXhVhu85uUUhWToF/GR1gdX8ewCURkRIjYh0wT3o8Zky472u8nwLjqUh2f9DCz5b\n",
       "e2EA+RRyG2DRXm5tNUPr1hsTo61yb11JYwCZ/V3JRN+fnS4LWXluLoXlSHYprjY5hfiaM9dNJpW7\n",
       "8xQPCD901uHDq4GeJ61VMCSWUfYrZALlitKeATbHnKt0sRtHiuA96GK/+9VnHCvbnjb2bSPPIJK0\n",
       "QNiR9JSaKQPTXFsOLbr3qELB7V81RxQ+QT8Tc7w4Qv4D0isrrEzQkhrVZmRbVU4YADZ/bxhSGwPR\n",
       "MHveryatewsuBeLoFvH+ltJq5NjyvorM9N8SaNq4TdV9H69qQ8QOyuP1VViSPoZ7JMTb9SjuGM5e\n",
       "MThu89FytSJtHdPFQ3SEBhUDy6Jaw78/RV91MeMdnOLIrhL4fvfgNR7G6RUYEuUHKg74F1AwYj8E\n",
       "YmUwQlq8ib7w78DMgSpMHKV3bsW7KIiDvQI/GtK14Pk2Kw513WBuJA18qJbTjc0lYeofxYnN8HHh\n",
       "ktdD//z7sCwRaKboLG512/57XMv0w3UN2pzRkknyZNYWeGT7YF4o766hLqvBQsXo0J9HAKm9SA6X\n",
       "GFIpl0fu33h8sCPdD5kMa/o3vo6yGYnEPKgdh6wI8yXARpMxw/j7mqbmLWIA1fYiEAfOyfs5ygjT\n",
       "+ktRNT3i7S5Vv0ikvfSp9I04Lou2GBK2FiB2WPYKyl+uDrn8xxanfB1k8Xea9oJudvLmcUxZLb2x\n",
       "dowivjHHreMoRf5CN9yn5/Mm09LpU4LDTTdmYC0uuezIgopbJXV/0SK96QZrUbU2RwSAN45sOvpA\n",
       "ouihkRH5U+eyUVb41WFs4ESj9aNsKm6KTlX1miPOfar95R06cIHObJCjPkNLzCv7DUmJGi3QL43C\n",
       "5v3yFVpEMOWSuVw6EfhhasuJdSPwnvqBjCPaLYfUuwFxeCqLa66m4lJtPZO5MlaMLORdESikZD1j\n",
       "0SE2uEJj7/Z6NXCb6hoQ7D6jWTbkkrl6lrb2omiQrJzdhwT5CpptnwkVkgK4t8oEwnrATdJMjgON\n",
       "7F5wCvYtUlQc8Sp7Lr8DNqf2W7hCeVcQEAYp4ZbjGxWf5gKBFspdKP8/dWlwXdh26SYoAVaDrjoX\n",
       "gspEMTZDEUVt85GfcWYaUbB0THgxGBOt3bWkMW6/WmVx5fheFcuIcECgnSACARN3NmlqY8fI3/qE\n",
       "N9L+tEKjFvHBgjy5yyCfGQ34h3e3Tv4nukZdnXXBC7Vo+bhm9ecd9dPRdtGnIX2S3mGxcnVLLFxg\n",
       "4GLBskEN5ez+CYRv/fNS3LtY5GFlTNCTO/Lmgkn4FXbznd+HJKbNtXuzNI78hQAABToBnhpqQr8B\n",
       "p3TGyazQMRRvqsAId2X4C4hYJ3lBzZIOxkVgL0Yd0OaXPVTwI3kuKSloRvdpRnrkdLCuH9WDiuJK\n",
       "vArUe0Q8l58WhLXtp+6tmd7eo0IPJXY6woeQLUtzfYasW/sz8B6kKJ9e3CPhTTKgKJG1cPMZ/iAN\n",
       "YFcZHZt1Fy5wGSn/D9Kjbq9TAP9PwiUwi975aIH93pVa+mVM+HPBcB6bsbosNTa296kUdiM/DCt/\n",
       "SkycHZ6CvDivBUracwGCo1ZG0puPJqT3Kp9G/b2jUfmXEmvqOlkfFPBs/8fRLFgQuHoYT89WplAF\n",
       "ZJt2J1OjBC3X5Ye5gDGOGioYFtH/hRsHs6df7dT1qWp55oAxepjdnbexCDFnDA9thIamorFBIkPU\n",
       "fQ2OZqcgkm1kCzGHirhl3NvcWP99vNZag7bUAoHVtIhn38j8dOcl2FjUPmKlYhYO0Bn+Ww0GO2hh\n",
       "noGJpTFbqu8k0ajT8C23jVBTi23X382wgZ2/fxJ2QZnZuQT+bxnIOT381I8Rrf/GbAhtaYNjFq5t\n",
       "LPwFiRFyXvK9aAwvdcGSKBUpPJEBVLoxSJTuwzFPxphfkM62uToDwcYDUcYugcItlwsshN7Ud8gN\n",
       "5fsC8nNxPQ7MYjupqC5RbSkXJstROsF/pbX+o3Z0Bg1qRa29AnbL9ztPdvyM8eCoEAc3bez3Vn8f\n",
       "yq+0fJ/IY21zI3zqUdfKIVJr3H3H2h619eSK+a7pHhCyqZfX4a0lKg7MLGwbrYgj0dN5ad/Os8CC\n",
       "z3veGVjscx+h2w2SrVPeTVEtxjIZRlH5cFOyRQy5OzrGwz/mnL6eOyIk0HdKWFfpX4XubaFE7igS\n",
       "nO6q46cFvEvOo1vuhoDqBENszESO/npyV1vKKjrDxoKNSSl3JsQsgi++nAsRn9lhu8gaQu0WvxAl\n",
       "OxyK3d/tEXIGgtpHwQmMeFol5OfYNblegjdX73JF1/3APyJyV+JmW0OByqeVe4bOicJ3zV+s2rSC\n",
       "8ScuZZCWdQ16shXrLnw9STqoYE/eOCXiAgh7Eeh3/pF8zSWyPCgtZZX6ggVHKEpje8RpDXZk1ZFA\n",
       "9I+VeqBQUQbKYrqE7dK0Hzs5obwgU1Pu4VvDxl31sIcR2D2KtMLLYtHBcqlDASwdWSbv0qqxYF7n\n",
       "e/qB/goubymnd/2bW3aU+cIzkVskt1a/lQanaKsi2Le7lIkNpn4qq+3o3SkZI5a1amIm43/HVUFB\n",
       "iJ4dpValLrDHi0JaDaxmvF76PvjnE1MYHUElX27CvN1tmv0hUqWTo0T5MjoJOC0WiTnzbqMlj881\n",
       "JgaIAeHhKu0vahzvUBMxVLJxGRw3We6WzTibOzCHFLsO1ChkyBw0s7m0ccT61LzyY55dIhQ0z7rG\n",
       "l3yGpp5KZ/LVkuwxejmSptDJxtcRXORV0MX+3ouJDRqcGvXu6ryHQfZ2te7F95elbNUDu5Y7c5Bl\n",
       "a5ByW35BRCWOOp63+jyZm2kSVRJhpIuazT+2Eqge4bQpvzrWlZZ1M5oz2x4KpYE7foaj9MxpgllM\n",
       "rzKGCGCCXCy4P4cu1Gt28WkAcB1+9c/4WeFHfzT6r6mtEEF7Bgf9nUhHr7KjzbNSotC26rN2hnQh\n",
       "WvKMINOXVJ8l71YjU57U4TgJ8jliS27QyIoNxUvAGIWlDIsk9S3WYRBr4t9ClLJ5E+X5WbVOgDOK\n",
       "etfdAVMmFirFIr2pXTLavTbU4uvaIoG+LAarpC5YnHKodXCR+GYx4RmokN27Dd7KbR22mS9JnROx\n",
       "Bx7H7i1AziVEJxJitgWzQCq43YAAAA+fQZofSahBaJlMCH///qmWAGyuYImTsHtD7QgNoAJoxCXs\n",
       "b0xUxwUg7f57hunUsfcmPzrB4PIWoUwu/tP22AEsh3pn/EFoBe1BqPs25YFtLNij5o02SHa7pFTT\n",
       "DNG6uxqNszxSlRMeUFriPQNqhRgKytSMIMN0z/tcS3bZkjaVz8aVbVCsqhUYedev3qTXqfr2jFeR\n",
       "jbhDMFOBgX+uK7iQBVxInHBQCP9H9BiZEHY05reD1i5cJRLucMX/V01WMQd+XgxdlVriawMDPdGi\n",
       "3pSOAJt9hVwQJBhfHUlPEo4SE7JsraQlK9teG3KOPX8O0mDgzxSzWCQUtlHe/hpLeq+KU2KjY7jR\n",
       "65mYh3t+TQNslZHt/0GbGUQ7DLeAsvbKI6jdJ8el8TWyKgcrT6MBlclpLj/4eHw/bSlyy5Ve55CF\n",
       "0/7d+6rNSsMflAWZyFf/Bjd20XIhnC96acx+rtTJKpNDj9IoZiFkKt3X2nEkGizVBvaPnFq3QJga\n",
       "o0Sjw63gf3aR3+m3DwIKM8bA2exklW7Jj7FLFK1Sc73Y8diu7LdU/8gYjewGbyxMXwuvesebMIFQ\n",
       "QsfFvnvieALkufgCAn8ZqfKoMd1asSEoIUJpZ/OaukfXmNle75i/zPwZBcEqU8XGN4qLPFDs7IKo\n",
       "pCW7XeyYIKBKeM0uAjFTFaZQ/uU9hR1+jQd3d1OxlTW+TpsiT/l6VFz/8twdP2y9Y7lT+3n7mRKC\n",
       "hgMM+8E3+HUESTyulbROCZeJ0uHSHe+TMAJySdeakvNQVPI6QEVtiixLUeYoZ0sCIKc3DpRrYTW/\n",
       "i2NAdEwqseql/9dOaHq2Wfg73X6Mr5qRYuZpFiN/qLsMrYGFqgySh7rvri2n6tLqF6/pcKZllAfN\n",
       "wo64TICBRcMhq1n/9CXq1pJ3U3G8CROmuSVJAs3Jd5Q0UUv/1rqwWl1bPRYSqcx1UTngroWJWKiR\n",
       "J2xj1A/pGFryO1q28eM8+CPySRdOye5TB4TWRi4H2xiTH/vCe0FOFotI5OciW7EYjvJHeBM9cSrL\n",
       "bdOmaeC4qfO1LZZ7hngMBHArmnX6TbObnZKgjzb715NZzA4E5g8iwElSu4Zijt14BeP2PF3tX9Eo\n",
       "6qGIXgF3KGcViIzbcXOC14imxHxorBMvtZkzwNJeVXaF24mDB0B9ylhpSF53ipHZ2dzhmFVzDAyA\n",
       "0aHPHUSM61O93bMXW+2G1G/u1DAvM5zymoWSvv5DvI67JLCVD0NRduYxttlXqhawr1f0KxmYx8EV\n",
       "sI2i9bnHee6tF4JfNaCH0jMN9MD5bbBDlQCSJe6+Gf9kTvxQS1qdAkrLmPjGaXhSliouk0t6sIfC\n",
       "Alta2HvX3BU2YxEb61eDvIAyimrmIUaT6IWMcfEnTGW1MX+jnABqk7soIgle+dyrhDP0OpsEETKd\n",
       "hQ8FqDbrKm/FMRaH4gfTdKmqJq0krO1w2TTFnBPqoQ6Bwa3S8M41T9ZZYG5wCMfJAFCivAHRx4CK\n",
       "3JCGN5DUbewkshR/OjQLRV8ALX9kqdhjcYgA7OXcpV+ZCDgeiGBNi5LvcpU+DLniwxpH2rZXt8lH\n",
       "/mdAWi19OmBORX0TSJh/1q+teU4Dfj0iylP2KR9j78PiB2qOf6XD3LJrZfe52NVbaHjhHVEVq5BT\n",
       "R9EZzImNq14HF734FFAkzR+LgUX8BtacOXYfYDaVPuKVAV451U+BP0SN03RtHYdBKHnsJ6ETge53\n",
       "hDABRhB1XC95fahBSbyDWa1FwXxu8Re8LpliPYxxWs6/2AMpFXFZAe6/sFvPEHT6v+YA2J101x1f\n",
       "LFPoH0fSzyg1qmBH53eHj/iLBsvUPDx4YltWzlvBuhF/Awe1TTDQp/Hd7JgRdhcrucAb2JyRRqwF\n",
       "2nIwISbNkmqjyeFvQ4veaUy+wdJ13fO1De8ksYNYbqrbEHyDRMGhdmsqY7B93rp9NMGCxGfYRPN5\n",
       "0fF6OKXodattV4Zs6D22YRWO8mMXrgZGUc3br0P4XAo+xh5UVp7UXImTSvuWtsPsfquvM57Sn6Ne\n",
       "cZqm0ZxjexjPmmunkli4VJ/ttoO8h8yj0q11QNn0z6ywHMvgoRo8jN0h6dfoazV65ZZEQwEAr3ME\n",
       "hqApX020sXB3PmdQqRwYcGS/L75EPLYgr9nAPkjtnJSE/LAiw/tc4PafpPw/SwVqsfg1QLU4/R3p\n",
       "jZYL08kvxuD06u6CsuJePQQBANdhUVASF5R/8hT8gRTTwn1J/Jo1Ok1Leiy/WXNLsSVFqrCea61D\n",
       "B1ZENoMOCxDemUdryNDfdTar23/pIRI4yuJiRh1WbVPNNrCg/+bHVbqFDqQSm2eo24UDmYY2CYpV\n",
       "OLX+F6ciF7PY5Lrcni8iV4N1Rma0onauHLSn2XNIijH+0SY2ollgLW/uPCY95ue2p8oAiFoRoNll\n",
       "xwghXCBhDZvFzBe3o2NqOPCasxw5O5sXH3WDS354c3DaL2nG+MRZWP9lRl1KOlrFAaTA2G5MOq26\n",
       "O0t0CFgv3v0r1d2cBrQJgMngSV0qa07odrxiXSwlwZC/dbfZnnoda6nnPmP5o3W2Gmn4BiYBNbAL\n",
       "y74u4O4fP5hptbe+VDM6MNLuqxCuxxp4jgaZd78tyR5iFuXIRT/CEIh/fAnWLby1qLFfL9z1vzv2\n",
       "PqpSKFqa8hryPFR6oyOpPNZ3n7Z2t4CzHeXydsG1VpjDjphePaF6nAImG6eFHLGILTIlOAoXoduF\n",
       "6PABEk6WKKWEeBRIFHNQ4lXqo0cePvl+hx6a8NEgINg0LLF0MtxP3+I7u/CuRz7ik963dOpVThvF\n",
       "e2AfZ3fRRfpNk9cSt9lBW2ZsCPFDWexuUaQvRTusyARPdCIabVDM8nMz8HBQhyRaQs8JGjBQJXa6\n",
       "JdosVOODfRd0q0l3EtLgHP7vF3A9hJ45V21+H2X3zsG0LxxXgtk53xmnXipttMu9W2+5Y95rcTQe\n",
       "YWTonu10sUgA9wmqo8uZjJw5eIiRz+JIBCCvWhiEmK/3rfneKsNB5nqfHxmdZ6HmZEYi/W0aKpgj\n",
       "88NTpuoQNi71ql7EUSBB0dlTCLf8uyBgVhAPvbtzN0gIKuTGMGCjUKS07EFfVn46h7td8UlmHgkG\n",
       "Ulc53UTPJhXUfFOb42fj5AZp2qCjwp4JP9BCOYY3YPFUUvZowmIrIcb7YZPAW3scsSYxLpeOsSJw\n",
       "uzAlVynJwPBZdQys8BGdbBNslqh++F1yIO+HSq1iPISdOt+SoWl/X0DZm3nPfeUCTCFvmi6KB/sS\n",
       "1PvKuaLMBXtBm6BVik4sPcicOKhnKdaA9/EvL9E6CNPnB+SyK3aQQ/wtQHMxiOjtJLa6UdhHZ2La\n",
       "EkDwk60sG6tC7GbOiSzAydlt9zZom0jacIpvllLLeNZeuxvEjce3yrIqEvKd3pnPhn0v1LBx1Asy\n",
       "Oxth5ryHs8VQ5h6eCXE4izScuksFvtWeRH0bRKy9Qbc5KXRA31oBH7t9XW6X8zxwRC0lL3UPfx6n\n",
       "b+ATmfPzTPMltNPDhVVFcyrHF0iNVbwugKq3uGB5kFzrHVrvXjpn8/oqB/9ocT/FYHp7J4BGPeVO\n",
       "3lITZDtpdg5V52SlUssxsSlplRmJtu4uNb7SByltcfnDCBdKhOnUnbrvYGDRPb50ggvPxFp0EW6p\n",
       "MfeEcjhjVmvuX94nOPxrqZBOm1SwBBWjf3LMG9xbqgG8dULw39mbcuIvZ8vBha0SE0Rr43m5jwlo\n",
       "w/+uEZRWc540gM+a8aE/tyeZPt++bGeirhmBbno5vOoqmx+kD0YPpd8RUK8NYGfkQK30BwACC/jj\n",
       "GvxRkvHiYoAfw4YJWSujL7a4Jnw43KxvF+H/v4ZuUqOlNASVIiUBzNVmUIbt3CTMWei1HJ40BPyk\n",
       "oMUEZpnhw7pt4WXN9t9655TIbJqW0EF7CknpN0RDbi357nerb92Pe7RnSEw8TygWozE26UIJjiGD\n",
       "9j4rKzF0afxRcKE0pkHAIBNy1r5e/dhWj+95D0kOyKoX6JDypACZcOOjEWBJBaqqXRkdpj5VGLDb\n",
       "sCbksKLQPcVSbf3qsHAVplO7/cPTbCQk/mD1+7SC+P/r09vGj4X9hv5YZypxOOoEU7FWLpXrr4AE\n",
       "7eJTximuw4EC0ULR/U+n2uXaEON11dLY220Rrecglp4gDh6hukTECr9XGBavgTGfYF2grpMoc+5n\n",
       "DuJd/RkI2HEEjJS1okGAGbWLDee6syqy8N1s5owXvKnhyrBYo9SSGKhPCCSkf4ltZvGUdm+glhZJ\n",
       "hj3MR55Zr8rvoJyhjAC1KU9EosmgtvvAlAokngdjeHDE9UvT1QZZTian63e1kJc1Ff+sLeZ0ploj\n",
       "IewDWdkfcQ02ZAIaDFTSrONVd6eF5o8dy079bWzx1rqAcsYHoLKRy8goEzU/LQnLTp2pt/6H4lc8\n",
       "G9ebyZLqAx7tt4U7RowpcOU37oIqzkaKPfHfNwGMARafAQ5GOFX/FXqmZL5D0JYu+qeIc3+ItXou\n",
       "fUIQCOasdiU9mjc1xxRJ26jrWGx+MYx42lItyGx0Y1d+ITzdbF+QGYcgsTuXZgdgQiQT1rb0zC+X\n",
       "gSnqpe1KzVyQ7eR+6zOf18ATMXnkZN2cKG/Uv/jtatdektfLJVucdK42I2PUTU+EmnjfcaaUnL8M\n",
       "Pc+1bqqWWOoXP/a1660jjCtQ28vxpAHJXm/4u19vzJAEhaUHOUPG8zYcPr2MkCbQEERB/JRtwqES\n",
       "c/I1PkAO1hArfv0LOwblpMFiOJ9qE5cX2X26sMsJYI2LSItAUKPt22UOl1RwYY/j+SwKIZAM5vBz\n",
       "YZ+qNT0N19tjeFwE0soLi+4gIhlWZz/1y9dV0T2W8okz397ggrneA4iXI/R7bB2UCq0yUezfTCgM\n",
       "bNd+3+xIdHXuZB+vfq2codsH9+N2ymvxEBti9bDUc5iwXnFWYx6AQ9Itaq8/OugOlc+ntMtHkRBZ\n",
       "JCLYTAG4lxcfHhM1qYrt7Hf19/8GKigIoT334vdeMc/kMu7w4UNiz8k3yiTP6ZjlEOVCkmX6xFpR\n",
       "847l2rhynRqLTj26aF9+7rpKWH96t+4kYdxeofVyDxv0V3DU1xgJrxQG9nptmr2gTuIPy+g3EdA0\n",
       "qpCsUwF0QgGPOzh3oYO+31USbPyRHTU/5mYbO5ilpEGxOUIr3TZNWafk1C7yaSi1NEIZDlB9dqir\n",
       "c2qjlwDGx59cKt05tDGWmn/XSdRvi7VmDhRfKlW96PU/MgCSzFQxGf2QI3s1WVbkUrFEKIzlCn7Q\n",
       "ryHgmZOaO7rGqO3Rb0xcJB1OPOlatkqKVHVzv+n9k62CQXSbgJPS/aKchIfT8e7yhejmPqezr6NQ\n",
       "HuvKw0+Mj8TzZVXXc8OsfXX0OnfDSNOojGzQseuB/cCtAAAHAUGePUURLDP/AOKwT3wiT8YlOAUc\n",
       "/EANTmFIoW2gAGWTsAxL9UReD8U1aqTW1uEB+ZQoOFWFG9xdI3P1O4aAKmPN4h8Td15gCVSTPtlM\n",
       "KiaeGmeWOOqTWA35kzNaqpuU89MLnaEd5rxmm4ma52TjjsHhI68VNSSOolXaOfzRecJk+zW1FJaI\n",
       "A8llgHuIryAzJUift5aHOVFwwhOim5LvlmtNuztpLg9qO03FHZUb+L1sYtDwkCJ9OcoZsBXrm9k3\n",
       "noAitji9VTy/zFc++f0F8AxGEeTX/oKe1AaLp0hWKnQHxtN2StfgWvFfkR1LgLHMSBLJ3pI3ty5F\n",
       "O041foo7ig1lAzVg7dM1vAqkFsg/a14v2yPPKeK6Lg7FhtDOXXNgjwlzk/ay5jDz6PvlqjdfNvpY\n",
       "u07ANhCH2K1xpEsS+P5EvnGmTPQkxVWUkmRROoS7nNZNOjk7VdLNY+PwTrRZb6SjU2XY1sXqNqxt\n",
       "wvIvkbOijBUZTQmNA7m2I2HhCUcO6zHUOPPw2y2rgBErtaDdFIIhwNA4EL1Tq8nzeGOqpMEskLY2\n",
       "4DLQiiiyTnpr5Dd7rFdzYGxJgv7RUkTkljKU5kboqWLyCeDGMeHQnVM4ykwsCH5+eBU21u/ziBJx\n",
       "CH2o/gS6zwigIeox6iVSCbp+o5sj/unhDFzuWZHIScphnSNJv94YLYzWOkbjxqrB6OfvCzKAI+3p\n",
       "XIpnE9yVcGfkzdrS3p/tAKGVM+X8lRF06cXFfFGzac8515fdUtYzIrx+RRykKwLkaiXO89GX4ohQ\n",
       "Ob7NSZPe49yaK+91ggnScblERS7l4fWO+aiYRWJ7WVhw5YuDFad4QlGeM/hHotVRqaA9PQBetzTC\n",
       "FUspfRHszSv/a366k/i85VXvCaL2YySrCOul7ZrXvgbI/mRlj9bLDqrfdVs5wNgsf8cMi0pJch3L\n",
       "nwzN6zXCGEw9XQAmFvXBqyhSRBwElCy/ZoyCxgpwR2QG7OdJFf6bScQc/pV13B19SIBWLOl4bByV\n",
       "jsFLmkQHDQzzAdV+NuaYDSC9rqiEXiPh9v0be74yhiyUMOpdclkAT/pv2MfXwUzXx52LwuJioaB2\n",
       "UNDbcTrtrRu2KmzIQHSgutn5I9J7PeWo8Aw0gtYcmaBvYHu8c9V8kc9+cwkrllWcv5bX/EZM/Bi7\n",
       "4eAaicSmz24TNSVXuhttiiJTM25ahHLH1422pPyD9gpoPLnIEewFGwL8/C8idAv7YXBn9DWxlXCw\n",
       "Bsm0+dlWKlzvr3xTzHFmoVnddXdWEH/ka00DcIliGm/eGOxMPnlLGl8CrjoGFmXeE2W/RK3cXhS4\n",
       "zfJkEuonc3eXu5BF4V5J6+MYhEr6R7A6pvZXnSXdNRIXuPO0iZ+UA56L5WoOkmsd010kiIWTaKrA\n",
       "B1Sbrl9n4SqM+8N/WOpEANgA3kV3dG9w2c2HLjPH1D53tGuTzTl5CyuUC0seVMJRtvVLlmz/sY5E\n",
       "kEXF5iGArnCWmuyITRu3Px5zgQP4KrcVizcS5tzqMnZTYtgopScisrTqlwVcjcm7o1flXXTcCnM9\n",
       "y7IUrUxvEqf3OxZoZKPol+GJ4cmjnvq4I/9QbKyDFI4d3sFE8dfhbwI+txqSNLi+QPFSJnyTllYt\n",
       "o1TLrHVynukEUfgQu04Vk1U5pkzYq1M334VwYTXcX8pfCoHqd6YSuGK9wVjqSMvEIDl17aAIPzbC\n",
       "sY/G6N+lKw7Lz8QyuA0dLw+wP+0ypP3OEbQy7wgvNheZPwW3yRMjcQx1i2YW5uIq+eoPcw9vByS6\n",
       "cy3753YNiMlFq07b5OwjGDlFoKnyK3MtI9RcHsyGu/jN8UbOKDUVHu/Nb2AC68sRhjp1wYZ+ZpQP\n",
       "AXH3+ICkms5Wt7QQe00PjOsjC953fldIEw9XE6Efk/QdKc5nfexui4XGmdlIEvsSQ/fFkcoaUNA4\n",
       "4IhSaBTzN59tx81cLFc/SPUCZ9uW6T2LmxxXn0D+5xc3b4XXJ+o3v+RZS53t0S79H58te7RrQ/ky\n",
       "cLxUSCZDsG9/dB9+uV4yztdtI06XO7Pk6V1zk1/FlHSY8zcntrSWRr6P+D9GRGbQ03R4WFNNJKOU\n",
       "1OswCtydi8WFDa8XYFpf7RVWuY7WUwDfhQzDi+VYBgDxeCjh7qoX6ymXk/jPmh+fowERjy7V+eM/\n",
       "9XqLLmLbg9mfaeF0/fFUpn1fSHswZOaMxBBCR3cJ9qboOxbjeWuVpJIFsRwu1a/G9w/rwiPiQ/Ly\n",
       "U5k/X0+qP+i4GAA0D0AL0H69GI7yD6dNmTQeTcXH4NPpA3ARoK/0QrMf7a8xfPlhUMFWBfFm9whE\n",
       "KtWJjbtdFH0SmjCJicEZciFdTAYH1aM/dcPJT2vOfDUR10uxlYlnWFh6aMD40XmK4qCoKy/iQTBP\n",
       "5foaJKI5AAAElgGeXHRCvwGm/sUJwoUbOnumT+qKg/FACKj4g6MW6TXaBJ1ytiWP8chNP/umL7sR\n",
       "8N1/LFECGW+x4qRprmDIJzf3sVuOr+Cca2edRhT9+hzpRW13g0q0bsXYnSUZn1I2yJY8d9g/kO5k\n",
       "aAiKr6kHHKIj8tPYQTLG0uOiT1YqWjvHE6TX6GfjNKXTIAXKdU0HdVHkbeAw6/qxyzO4w+h67GA2\n",
       "/4qbxY5Jh/wUYgTmNunKwMPtrOv5ntlgrDncvDxLNEsZbrlbHwYPAn2tyKC3D80tssNK4gAeKwLs\n",
       "96OuZbRoW0/P6Zk1LsUZriMaa7LRoNLhNQErQTFjETcmkgi9nJjgR+CzeDbAZcNfYLRocO36jNve\n",
       "a8Qm2e5oGjSb/yelEEvIODMoFisfDJk/j8oPIjJKuRg8RrRTMMIM32CQCuZL8E94qy1/LlLqNY7C\n",
       "s+HOCRnRmCTChijS6GvjQd9yN+yeE/oiOW5Xh6CDEqw5FbyOEWdJ+LXJv6/9LdFmmx2PN4sQfQz0\n",
       "LizBZubqwJEPFk1RDkHOtyaMqXKoOXLJJzKShRfae9QB6jrYJEjgx8xSrpACY7G+Vu3TqdgTe3ta\n",
       "SSZgfqw2cxrbtwO4ggwfuAeBwlPmqyiJyxzK04ZJDc2br67Ac4fCegEKAjWoKIfij39QPYhPhSXP\n",
       "4bV74rNHPFlcFnXytMbsgN08dVXhFIsNS6gkgmXDxq+WSN2A8Jx+Y8m0sAXha8qdOj8Nf2nsZ+WD\n",
       "GqRDgo/fcJbDKYaMRvIgFfNt6ZLXV2i9GL1V6R7zLlh/8uNGR66rPv6Qi6OoiKIYHiu36q2pePyu\n",
       "rWsphsWlUyBtq/UOzXa0OApfu1t1eHUi5AWYYZ8Sl/QN3Ow9dsBIT85vUkEKYydFXhLj9GKJ9KsM\n",
       "hd2Zgeci2UldK1pQZlaQc4QQ7AW8qcNYMqbH0ZTp1PpS+B41K6nQ0vW0rxHFgGuZzvLztYPAh4M7\n",
       "HqCkxdbK8TxvUn08K0KLrlQMaIkbYV6Nqozz69mibXKGUKAJFGMke50MMhv7A/1k8dmcv7ZlffOg\n",
       "PlOzEqxfx3H1fMe5pFRk6N8lLE/uTd98LeOQM3nFGXmHSW04bkGmsr6CzxsdDQCuinknq26WP6w4\n",
       "Az+TIM9UKuLLY32R+Xaql4ULKcsQ5cTtT8Zr8dkywEKJ13G2L5z4SF5HhPRLWID4b2vpNsvcwxT0\n",
       "u4r2zzLWIKuk2k833Dx65UWiBE3NKdx9H5yAHavdUJndu34ErgX8Vz7b30iGCSo1Jwe/dKiCQoIa\n",
       "1DU9ldCtBYmIbk8VStPtradf9fToeLWolWDm33b0ZWGofmqNW+aKuwijrvItHLtjCnF5jf4Anqhc\n",
       "wDKfxdmHuwEHFrBCeysQVnvaCzWMPIwLkGhMEFTdhXT0SBcyYIEelBD5mbcDh7miJ/avwijaMLXX\n",
       "w3BjeTXtLzpfthpBnV0SgbvQJKlqIio5eDnUP57BmCVCPNCCV/p0sZ4GzEgRTKePtxERO/qblIFq\n",
       "YJfgr2IWGWfth18nEW+RmUMDEYR7n+M3FjRzYssIr4oJXt289tQDHxxxJ4AAAAOjAZ5eakK/Aad0\n",
       "x8FcTRPfTIzegCC7BCkld0mfFclIPmCxzOt/pezXiNVLFtbHFV4jpLS4tRl38rW1XzljY2dJT9fw\n",
       "3NLWXZkK2q1ZMqn10OekqCiY/fTHmXzjK3H8f/z9INPH0Hqa/XisMIGT6lwSgxPV4f1AYHIYLYdB\n",
       "2MfnsjZnvD8ieFG91yqdEvZN6/0P9e6DPa1j5iSm1cPGC/hd11rZs75fBApzLlDa5SFaAFoBRQGV\n",
       "Erj+wDqG0THcD1Vx85v82JMjsD+QyliEh3zwdrI//aHQTkkBIJkq+8sEGhfkdObwoU+NNLKXdbRs\n",
       "KSlGf2PDcrHvBD/9KH9eHyau5uHEBTIAfE95zeqPM5WOUkQnLaqH8HSy6uFVMI4SYXkM8XXoT42z\n",
       "nu9zNSY9i2ZDcBuRrkvQUfTYUXl8KMK7MX3/qH8dNIaadI7FA+hEW+9T/JGb+N97i7ybRS+nT0Td\n",
       "+GTIqF7o7fdUziSUNTr8L4cJpVZ4vrIAKOru77QNw2M2MWXvZmGzC6AfCoGPtKc9l+oRhGv9cKoY\n",
       "T69LfuE4YtVBZOmWJ48ipEtafhsg+aGSWc2I6QONQ1AQv8TOmdmg0B6+t/BX2kxjHFMuKqbM/6dy\n",
       "EwlT9I+hWC52CngNYc+4GyeFMimLjn+3IRtMbdpp9BTy922SC9QD4yCZkaCjwL9dacJQGAC+Vm0d\n",
       "n7u+6Am4H665OvkQWmGbwvCWMA2s8K1BcusOB306YEDp4c+wN1oZyN/G2j4W6aAW4fpR1lMVBDr/\n",
       "TQV6h8cHkDf8bDqbcYC9h51JdJEdcCsoJlRGGHs6n4/7i2mEDKzrvXZ/tuozId/wRrTu2Wa+TIK7\n",
       "zgDFlwcStxeBns0QXk1+5sPRm6Io2PveVTD1M4AcGvEI+6RwBNBlbaQdXN/Vf/Vvs4xrJQdeJmLP\n",
       "qzW/Ukv4qIc0CRZlvHHMV1rf/rjySFD/h3PxxNH9W0uAgLojgQH2xVA4CijLNyxvQbBVvwKGf/rP\n",
       "j2pxSpPam9K375Xeo72FIkThvHO6zsUwQmsyZX95C0odJd6S5mwBiV/2CuypmEFN513x1XkKRD7M\n",
       "d2vnjImL+F+h5CU18GUGdFkiul3P7hnH9CbHFK+vc+2l43E2ro8llZVIXE2z+t2LHKXHtvUPuzRt\n",
       "SmCat5SZ6BA5v7qfiWqG2MBF5ov/TTYTMSDPxOnLf/l3ZrUTuoFqg3Xcli6FlgQux/sxBePnxEri\n",
       "AGV+78FzfBSy9AAADTVBmkNJqEFsmUwIf//+qZYA3FnP4CKelyFvybIvMvLlyJL0CFrHT6uumFT2\n",
       "NMBFkeFW9HM9SzfwNR3xCSCROiJZ5qMrasCBnbZEjZpyZmtI1cXn2fVUTR5HEi9KR7ciqCFTZf/+\n",
       "kzjLcuMCIEjRzmRYjl/R4JarC4Yr6S0CbMq5saiRYpZuvg2yinI/81QKvzUmqgdA0r2vE2t5olpk\n",
       "tppTWKTZI66GSH33LqMg/WOhnRG5D3GWgrdAy4QxAfPUPdZDMXj9u8XH5TI/TeUvlyFxru8bckwJ\n",
       "rlNG1Fn1Nsxa2I++NocFk4073AZb4/NQ2UgQoXKlRh2S4AsrNdlbyZ8TkSt9FsUrVKID3VXtvqJs\n",
       "qQh0oURHGzqxKBisSqWl0czq0VzhgXUJxaEXUnXumBbtUbRctPBfazzyAIgWsdRcWCqo4sqpv9k4\n",
       "OKlXL30IAM5EWfW/hAGbPLgNw0jfvactAJ+CUbQn8y6xshpRvXCx+7nPvWowegnx2yfL8yGyTdth\n",
       "8F31y9yN40hfSn993Z3EFvDJTSz+Oa8scJOAiCmTebhHeyc1JlhAToVWy9IqOSGauUjkgMISU7AA\n",
       "2j+ixhmQuLNp95Tl2HPpu4ZXKc38mfjiiNrkHU6KIzMkORDgmOB27AZdtlYy4REtbZsnLvYZBI9l\n",
       "FgTzJY1xhhgAbxJFalCgeVQATpmH4GmM2VAf8kOzOBXMYXsJEja3YyqKbOKIuDhzf3vKnCkMHe0A\n",
       "87PGM+SNx10K1Wwki7aUZgqsDEm0RAwTOGb3VrAEMPvFcuCLVZpM3p2VB3E4ISRV/i/HSlCIjbor\n",
       "7818T/Kp3FQotzBC72CFSPsDvRw2P7KClfxwis7biT/566+S9IH//u3yUXquoJQ9TrGSF02mEwAv\n",
       "MoLYHOSwMyEDrPifM4wUxgOGwerJGNr737aTePTT5n81/4aPB36MJFWR6YFfUX/8i6yJzqnikhgv\n",
       "jrVSXqokID67V+aXCvBOnu7rxvL+2cTPzixi1d16TPJHGOwzSX9p41bsccuDkIoSviDFIAw1hQGB\n",
       "ZcuKYvhopQ1ciXnzryEDRuIYsr4yMikkgqahplpzHu0f2K6JcDRTusTnsBrTgQnOxatNMOoEKwfq\n",
       "SenWo5+rfx8+1BeuVvDi9BIXUct6pOcdvVxazZvk4493JxIOpzKh7HBezcdhLg+gmiiYi4b41PmW\n",
       "QfhoIlowru77eLhgCDgQFboGgWBTWDG4lSKeyJ6xMA7qFz/MjY/4uPQWWAcg3e7zq82+JSiLKVga\n",
       "WmmPBQa7Ko5wasuQdzYd4Ru9F8nTn76FhdsW1sYLymVm8TwSj+fyqw1oBMgmVaGoumF8mp5EVJJ6\n",
       "86YJhJfRsRst5ol8hiWh3YBeXJmPPuNBO7HSn/mfYQ+cXLW5BTXc4tKS1ar+cGvRcBlxWPtOQWG8\n",
       "vnWTm5DWxe/D9UJx1Fy2+UFKXyhLp/IsfwTv6Z7UAxJOw5/rN0unSutKOsvRZ/1tPojjzso+qpPU\n",
       "4CycXJcHKc/XKhAYYc4UtpI4X78V8ep56VB4U1WyKtcaC2rV4oYmh1OXrV6dp9JVrFsFT9K33pNU\n",
       "6jjZvo0ojVhjkiOqwIWy8kyONzKq54cKGfWj8aA4ST71BavWqfNXnsoWpCivHA/dnhsrDNhVrjft\n",
       "UGKilhVwUC0k7wnJ6dUFgqZy1lFLt7EKz26GfYxYuEVqnswqiubZJUbF9uyJDyMChTlo5ZF5ve9X\n",
       "xFS2KoNIJdWInuiPWmaj70JQJ9h9a/cGwXB21jKCJUH2Ii24WZzmoaqKIiQYL2FlVe1W+Ou37Yg5\n",
       "DxV/OeWoZoWEB3XoHLvjHRIK1hkC+GKkWTHtSBbcNJHgXGVYOZAAXvxuqrVcxaKVxxa9qt85+Hcd\n",
       "F3j6d3vsB2y5v4CaCbcED8vJGHChzk7xvwxAM5T0N0RMY/eD05NObZMqtIeSfGhr+ucOOeEUoRwg\n",
       "PrNIyx3nfzaxC7iwIceAxo+muKG8WzTjEWniw1/9VpUJSTJQKAppmpPQNez86JvQRLtMFokCE7im\n",
       "2MSi0YPKTbnwzrY/Bma28LTFEzVCoSxYrMLgYlEV8g9EAXqljvXk/klczWavl7QTO6ArBNUXT0K7\n",
       "npf5/18JfSgo4h1cdltid3m7LaHWYbHV33a2FscLkzgjHEdmEuG4pCBBGasetLuqsRaADY4iXH65\n",
       "BQFMFw5h1r+ZI+FAEYro2aRzd8N2dNInO9jSmSY5PVdMtaCXeHGUKkwCGaoUXKgpty8YDmNqR8nr\n",
       "sVQhAZzMkom0sENaAfR89br7IDzMxmgyuiIp+SixxGt9jXiI30lw8wvfCHQArIN3S+hMyYfnGT9j\n",
       "GOlD+dJuEe5wKfnUXSd9bgme5R3l5hPMKEE0uWBO0ooWs710oY6p2WJZa/7VJE96L0ANPbDGqkME\n",
       "hH7Y+PF9namLeFwjwMYdhdKC1mpq+0pU/Q1qI0Jv0OpS1SlS94J89vD8MM09S5fie/UgcIbmlsl9\n",
       "plE49fJVwSxo900wxe3rmv+PYFxnUQGCabN10+bpTWua2swB9ohMPVZqacIzlMA6HCNuRutJHyf5\n",
       "DU+VeRTNkT91bYxKbQpcwiWQDmFckiG2xgYj2wJAPmO4FOz0SV5CvqObY4SWRnPUE3NhSCUtjjFE\n",
       "bqFh09cy1CDCiENwNG3AeduYXHRlDDpo9WZNTiT2cJsV5XQriYfWRt0rW9qIkf+hf5SXO7pEZpL8\n",
       "F/jbs+CaDVtemqtYIcYHD0I9zDF5etVoN9nR4iSyPrVQwJRgs3RSilb871qyswlRE2os38uTjFFP\n",
       "llAI3KvbxXxau2poKwPcHSjpP00BTlNP002/ceTOHXBDHrGmA+P0NEHtFymAEDuX5vq7rbqG/Fjk\n",
       "wFckAq0xyryYI1khlbfgwPtqIDxYaq2u0q29vGVR6H7RU1D4E8s3XZJn9//XjaFoFREcSi+mjYxp\n",
       "RCEmUUgg24ia9s9ReCzdBMzwI2pJZGkZ6ad9KTGeKd2JZHgeoSgGvplWBhoGOa/nEYu+nNSdDxxJ\n",
       "3CEF/DboU156LrOH9lnBI0fOFofePQ8rf/w1DEWRLHZ6Nb95gLr3bFe5sWHdApGVdoOXQuIcy0dp\n",
       "hZIj15uR3G0r6jiCEQI19SXZCCbFUqyoaGNvLALouw6MPIY2C95nQrHYXNWvZVVYZ0E7SIYCVlMw\n",
       "DvNTJFqGKN2IM8aT+FHrfesWamVIE1Ca1ADL6DD6HGy4ChClFBTit6eFiYjP+SQB0zXynUoNLMEQ\n",
       "TsgK58zRz4fzR0PHT+MO2xBfyBoLTYfViSla/6rypO5kuI1HU/hcAYhI5DJaU3BBgpKQ1lWjCZoy\n",
       "h6XAZQYyoZ+J5FAYOC6nF2zeU9SUFhZNtyI6qEB7q9hkw9MQ7XBiCrxgGvW7Am3NB/T+OGS+EbGe\n",
       "iI0FcEgwpL4Nrdsk3VHCz2K3HdxRwH4oh83YI/45MNEC2/iGYF9UC0eyWJ7dDWR2wa6aNMPx8EV+\n",
       "NY6B3IaibpPc6Nb942POsNNR74N5y1g6aAZ7dWzU5pAtIx7HG/NrsidiE3jZ1OBgbZDzZWxn/lF5\n",
       "joK22c3hflUfcjtxSNWJzK7BdMGW2QpKxM3eGCc6Zk2WVmkjPSUE3ZEavWI0ENvat6RXcmplvb4R\n",
       "scNp7qPVm+PMAOT7SalDJIXyR8vl9zPlK+DId4A4YR4f+kWYpv5g43Y709wkO8TEWdyI7ingtNK7\n",
       "hP0d9uTKPRx2pztMqn6MnS72+JWH6bWeNye/m7aH1GOY+WquBpUF9cGSLciCGa628KIdAbBrlBk6\n",
       "0FSlLhyZ6YZS/EyHSmybUslcH2i2vrTB6xnPpkj+O+hTf6ZnnzgaCFnZIDxjigz/JwuR82benkD4\n",
       "m5abJtrfao6tyklp+BAesLCYrFTDthBLoud7BOjKZVpPDCH1ZNDv3C0a2oEk2+HCCxX67PM1tiL4\n",
       "BLTwbrxxl6GkKy/CQGA+a5PqPPuthAAAKX2nj5i/UBLTJPVdKSH9WiyfBeSdvuJHYL3V8lm4cy3r\n",
       "8mEkk46iZC+me9uWxwGm60IGTQ2FKzvXS1i3dAgpg+tF8FwI5nOFGA3L4y9M06Zsv3UW86Ay5eFS\n",
       "+1/csyi/a6mj1oe/LgQS6cPlKW5RcZ1DDoAbe73Djirf7R4Ieh1UeBNhrV9RV4HMkm7PE6HcBZ9u\n",
       "hGNY9E6BmWLEvwYFa5DXMUHxic6Ih9z51L8qBcriMxGBxBsOGj00A5LwMHlcfKfsYdzFDE12lkIM\n",
       "OWJvyb1GuA9VW839eQOXhqmi9gpAyhM0FpXDljfAGvVVGVfgQrUAxtYi2CoBE5/MRHWzUmi/x/Gf\n",
       "ZMT7kvS1whaAtuqPa1KvK2zfyJqQl4/AlMjZV2FeAoLpnMzDWhWdgwB5wi6t768d0uq6W+r4V3IC\n",
       "Y+1x+tEWO4c6p9vTndb3k47u4crz1LxS77WE5aN257zA74dzjvcGJKlv6sDYgBdOThmoO1/xPNMD\n",
       "0c+r1Xs8A2jeT7o4vAkK+sOGifu+brrKvfGOuxWFCSkAAASOQZ5hRRUsM/8A4rBPe8RZJx8QsLhA\n",
       "6N4IAgMYCtjk/7tO9bRR3zqtnHfzodJMPPEO4bfFqB8t7lO55lFcA4mG3WS8XcspV2WxtpHvkYzS\n",
       "MpEVS7A2WKKqqPq0wjbEQfJ9uibd4q7J8eIkrLeZMydsQdKRiOws9NtmRIC7I+ScXxP9EyOrQuVW\n",
       "8w1S4gLBhvtMhKusGjhJuVmDhZ2dtYJT+cTe2W+rk+eqA/U9JInqH5BglLRVGew9hCoCCTx7dIhm\n",
       "j4pJwaXJhoAt3CFjfbz0j9yKLC+duN5F3ZGtjs2lVEY1P0s4lYnvcJQcusoASpx61xPXoEBSmMru\n",
       "THUCryoWDcOo8XQxYBqGWtMZVtTUv4aQf9jLfTVlF9DYO9tomQt4maQeRUoYy4bj/2WeLO0p9BJX\n",
       "9ULFTA+wwcs6U+E4haRqoglY/Vr/6GITszod3IpGlS9tiP5ysdBJp6zqdSc6RjHvaZaG2NwktDbH\n",
       "WylAo7fRqwy/P6x0QOJZUPeCpYIZGX+dDtSql0rN+wMCwQtoh4+f763c6gn2FZeEBhoxvMnIGYBo\n",
       "a0vQjxDdbkOqzX3G75Ajb3jw79FpGaZWPniezF6XRtCHOfLMmHaC9LkvJa9AgUDWsNuu/+Uwpnb0\n",
       "fgkiSD0CCAm1QV/GFNN/SIALU/xfajVAOUDqmAb8uCVN6viGjAiq9BHtJMzBs/LNoOrLHidRdky5\n",
       "OQzkeJOC/0EIkuurlilAMqO0zYh4iq2tfhMrHrnDXgx84N70rBg7Rw0JsRUZIJZjhNTxB2dJfKgc\n",
       "orxuTJaHoWZ6KE3ctkZcD9ASf8t1BfYEFgagej975ojFPX2HIH4kBuc23OfFikUHcpfMRJIhmOZb\n",
       "Zb8Z+DuaML+V/AMAMK+T+3bFdD/Bp9m26WO6UjupaMdUAcZ0NU8D+nwRCQEkny7Ac180xAJ67T1P\n",
       "7QDgC6cv06AgxwwlzR+pMC013M3zIDMlTv2TgppUSej7NTT+PcyLex8kKKJVrmcsTzXx9QnAwY+S\n",
       "bpUwbPo410Waj8gytx+WkLV3WIsmxbCT1NUFkfqh76yhtfR+wsN2gs+wMjg8mx5W9O0BJtzvRxXa\n",
       "yT1YfQOktAjB99hw+/9obLZeBGzpl2yosagSdBZyowCZ4F+OB85UBsI1gq6rbsYf+23PMNqMtm/q\n",
       "PoB8NS9KEcqEPM25jj4CqQwTOfikGrQLNgyLAvVEnYE/zJ/aY6zwWU1bPGy6rCFgQoSTCbJZlc6y\n",
       "w5nbfJXsOLSXf/eTvdZyC6VfMN91vCmrRs6QzGxhDixOt0tjBpOFJm9+dJ9SL2rNfcK2irm2oi+/\n",
       "PHqp6XZnjvyRS9iPD6enhVNITTAR6o4eJhx+g8jlzAEEltqrdOre7gggtpORJSVpfCy+ocsstyd+\n",
       "xf0b6MPca6pRedWHAxHfkxUjbu5iKbvVOS4FcmqBzK4tVr4uJxG7361ZJDN9aR77RjSAiB6joIzk\n",
       "Edz1DRdiTuSpur62hDQA6Cb1hXvZ4WVqQe91nvS7sMPomJkwdtDELdzyHmv6yDbufinHXojuXquM\n",
       "AOv9y2wAAANcAZ6AdEK/Aab+xRRvEmbpUagAgtTgdeVpv59L+DIaUf73Oifg27o8njTl3ngQcSvI\n",
       "vm2lZsM/ekqH+IjOf29KhdjDrAcY+1jbCc3Qyng/kZmcDz6AutB5QIAAAGvN5517tUDQkXV47HKb\n",
       "S+wVvWXwwJNXshpAaVVsJYrcTNSL1pOTZQFTrEBB5HiUI3W0MrFhuZ6K5evDpkfSec4iHoQZJTCm\n",
       "mkgkI9NtbnotZk48AlYDaXxMcqTIe1j6Jtn2TrnowyAjXQ5KT7haB22GEhoOxAC9FTyp522hlzmj\n",
       "fypZIHFz1PKCl9XSi+SJcnmiU5dmlVerZd4+zo68GFlqzL70m3zM5NHmJCz8YZWqAIi7u/N446HA\n",
       "oM0ex4bXt7uFnrf/GafJSkmF5/ORWI6adH7sVwYIxOHVoFTH+grlAgyEsuF/Y/+63HPFvHOeJuWF\n",
       "NrEtnG+DbuNq8pK4ZhFeaAq/UwTf8sl/ZmrX1QriIIku7tf9iTr2PmQ4WAO/23+moK2HpY6+Xyyf\n",
       "szImGn7w7bYOIU3Oo1Cp5iVqCsFy7ueOdBrJoUgQZiJxy4c7oIxjSalrDQBbr7tOCcL8KNM5Ksyk\n",
       "/D5yRkUFcY09MXI8Fz1QHqm7GaJHdaA/cgP+ADZiGJdWrJHqiD5Zj0AC+3Nkvb9JgSifLD9I5eeG\n",
       "T7nM5c/tWNdaflCZ45wRlOXIB84DUzl+tvYF/KYxxHgCziTPBEZGmojArLlaDvdB3ejH3UVARles\n",
       "oRsey+YPKx8x5eAUi84pw72QPIaOIyOKDizN8WaRwOxr0SPMk3e9dIKQnZE9RobmH+HQelxhhItZ\n",
       "fukSQGEKlqZWkaVXPLMywW0yZ1+FiayW6dJilD/8dmvTrwwKIMPE97cXswSNr6M2u51EIpR2o/EI\n",
       "W9CH8Bq0V/K3EPhsZK109YQkiXQ9i3UizKWCHvCgHS3wiU6kE8qQnf9FigRVwhWgo4q89bjf90+0\n",
       "YzbBOoujZs02L05Stq5Fa9nZxiuKnslz0Sibc9Spo9BNDELzjvu2tbTHJrK/fcMbT5a8GgUNs+Wr\n",
       "sTTfRieatuh3H0VqsWLnH1MrNg00OcgcuvGx/yeMQYa5DDMgIS3FY/tD5SfQb6i2zGTlEey+mkok\n",
       "hEpJ8wifvWVPWD5r4EEAAAOWAZ6CakK/Aad0xtLn6ejbVRiNlACHgYswszM5JuHE4wzeRaqt6wu5\n",
       "TlUsxZTWfRsa/bxdE0MuGb7Fa4mfm8VOuS6FCmu242RbcXV2UaVWpypKubzf1OpEIW24ChxuSJsZ\n",
       "FwvG9zFRWda2mHBIP0A0DPgNKkKwHKTlA2kjuSE6iFe0SPZQ2z66Bufj04BlfzCGM7c+SJFZBBgU\n",
       "NTWkvk3jUAz3dAwXENzwrjcS8rc9WQkAGtWQSGiznfRnebMEolIWOUqL9zqGV9r/5ZEjLDK/VgyY\n",
       "YLOE/3VQXiEiUpTlTDAu4bDx4Mqzuu6+bLMJUgsg2pnc1EquU+IeBtzGwNJaRF+EWA6mCQsEaKDr\n",
       "gzzk8mwjhmBUr90IACzH9wC+EmhL/+zVnnYUGwLUHTr1fqZPjuc3TgR+JpkF6gIwKz2z5AafwcW5\n",
       "vRBxj+kQtkKnIv9IOkUQTvjDUmyA/YByPB8YSxBuMeWG4smB0fvGP6zDJXKWDBe8YUmoXk6i2zha\n",
       "16lpVLsJfmifJraYSTPKdJDSyGbQDdNZEU9tD5IY968ebL44trPhaspveOURTuPiWCboaQ8Cxnkl\n",
       "Hj0u/bw08N3EPjbPOuJMopyNjy29AndC1uJjyW1LwCeVYuPvB5BajmZlDCod8kdrF267T5sMH6Nl\n",
       "MMVgWtuWgqd0sQtWrHE6vX9eHVyWNu4R4LbnKgRAko13JuSc2QIguKBdImxNdJ0Ip+jTTGkIkZmz\n",
       "QfeGt5jLbVbSXATeKjmqh9e0tEEN6zrZlKnK+8HmWfW7D/Xts6DZ3br7LLZj1X3P77FczoqPpOEd\n",
       "0jYfvVt6uiT2PUvaSAw1MkO3jPfaCO25QuGtkr5VKNLFdGcRKDNQpmUhm2BFMXXvZDj9hpnae3YF\n",
       "sl7lguUfmTJ211BgU7BB1RqWJfhYL5FsBUFAI7e5LrNGejgnKIDxMm/kfxW1PhEiPCkL6gRTihBE\n",
       "hDCvcPGPvda8A2IAn2aNa/1Phm47VNH+IOZAZieNGZXVuZqbnwFFntYkbM1ksptXhQvPPoptIQ6R\n",
       "19qlKy/GDRAfW7iMLk5NwY6W++WTnUzQZ6jgiheq/TyU9s3+AM5JPyHhJ4q6K/H18jETKc2HLeQb\n",
       "PY/FX9tm+LTIWEWNudJw+SF5Yxy338V4P7qHLeU2S60yrHK97H1STo+10/klOA4urspBJBT+aWsv\n",
       "1yW7QX2g0dOL96MDXFhMwC3HBSWGzUWVAAAPX0Gah0moQWyZTAh///6plgDR3Qix8kOb23jFPUhT\n",
       "diQAUbCVXZSSuV/rSMeMReZZfdNH/j3E/qpMHjrfHaR6DuT7IKpscdsdmQ37v3bz6VO5rzeOfD1M\n",
       "uVjAM94xDByiPVcTBCDGiz1epl49rL8ggE7HX6f6T286nUZ2Q0oQAlLip24mjST+so6seH0Sl+Ms\n",
       "P91dyVzAypfC5BYaEjn+MDnRcP7eFSXlDYWi9BcrfpmQPCyOTL/4JHHzHjRLfXk+a7q8vbvE3DHe\n",
       "nCAfRed+QLQZTdyqxyApctBPlQfO5MIWLLdezz6ozzXJYPb5IieFH5DBdxVnGHoKkoG/RvBT9/gz\n",
       "s48DQhwY7sDwySYGIHJiJiUOO0Z8asj5WNdSqo9TQo7Z7Yo6K4dlfNvQwXxAMdplQvPQ6q/MdCl9\n",
       "Y2Ry2vW+4KvgBOGkNFtY3yvfp53IUM1FFgKy6f90qyGMgjZ8hNuxkzz6yJQp8SsuK4jjgzohMFlv\n",
       "MKbRTSVBdPA84km+qpnChRRiZ/nJ1Uf4KhH+HYZys+PHNXlKJNzYPfoE8k8Zwdhds4dHhqR3Jc2f\n",
       "dNhNZkyIVVCItAFHt0rU1RMrvcGqOpyexcMABZkfaqVB+DEHbXJFAHo3SFTf1nZYIJc+aFKPJ2zL\n",
       "rlxqZ8OYrWQj7pksZDW+uqzimSJ1RUPwVllDmR4hczmZuGOo4EsUOKXeQcANuctK8mMg4+Dv3n51\n",
       "S+NNF6xdzPRE2SNl6OVIXdE5BDwPnRhgzj+d9FQihYhwpLXxB+D8ezZUWWnRnHz4nLSsKLpfQ9+g\n",
       "Y0YN52oJr0fY4Ba0IvHeeWvEimAFukUgArF/VVd9hqCP2s5gUj/n8fKsNJPY5Gst5h94IFRhL+CC\n",
       "Q7zk/uKZBgXQMqJxojNQFkNjMUL/PD0xlGAIKv9+zAS0uf+R3vJJ8MXbAsKHw6e45XoGRxCegBap\n",
       "n6hg/SA8KhOo7mAmEqs6OFi/P5EL8E887TqBIOVrFaVwmtEhKbUwniIlYHc0U7hcJghnZpb8CkPp\n",
       "dFAgxz3BpSC74wuXcP+lzLL8/Gou9x7nd2pZgt0uXxMtZM8Yhv6qHt6JeqhucfFPIPJ2lF9AaIQ8\n",
       "AzRfmaKeRbfvTY2/brNZCd6Sx83ieqJZnHtmVAuXt7esftf9zbB1wT/100NXJ2Kl2n1GhGFdwJjw\n",
       "JNSmPiD2BDvUWvGCSRCYl3iauikhb20f0WlPpdUYz5T6GrA96WNwULcszZtH5UZU0nGYizkMNyMd\n",
       "5n0xbfyUK019StI93NLf9m9nknyIPg/2SwK8zbWpP0U6Suex48OuA394FO1fZCVevMqIyriRf2lX\n",
       "xYJ1hokrcjBiQb66hrbQam99GPs64EBBBzPPep+MwnfLVEjisSI4q3skRtoBbtjqGvWPpmAvHLTw\n",
       "AWGkBXpYNEjCyn6rvm/OxwtA2Rcy/SCSL2tGs+WKVtpwth+QEk2c+pvuGiVNuQwNExTtvkZ7XOqu\n",
       "Ei0U+LZKHBZU9dSN+jaofDuVDw7Noff3TzkHA2RdnIR4p30ciwdQEL+UpI+cGJBZI/eNsBCitdYG\n",
       "W37taZ2pFbqrc4yWf0ayhJHqxP4tCGfVCCgdIZtt11CnZY01U+qc5QLJoj2orP/IsxEsPH8XEgwh\n",
       "xwtW6KlOk70ev9oxV4X1AAthbQAcq+e3GEGBUeoQT2lLLMImVkroLhFIkPOW2miJ0hlQMBTs27Ry\n",
       "mgt/RP8LEM7yqn1ZANqnZJP3pco8s6fsGR2h17TSX7R9tZjjZ8Om/vWL7c/h04wrTfTx77+pCi5e\n",
       "ern5nfO9kdjbqfOTlJf2BBqt2uoQApTo7YqSlzTVV8sCDMsGZPkUAFgiPjba9WP6JNOLWN+hqSZz\n",
       "GWbWPLB8LghEsB18WQMWPFZ/56ro51OJ4O0YmAvNNafYr/Lv/fcRqLN+EfaMdsxeXDpRNTq5Glcu\n",
       "Ww3H52t5G09JcwzmSfOkIZzZQ1sqZgrjiFJV1pWUph6Wz+byop3qrCcT35ORD54WWxqrL6hWgS9N\n",
       "+zMeU74+/LhowpK0QmM4F5ywfjiN8sLscPGg47EiNqjFxUO7hfQNlyaJxNXehANyZ+EET49MrU3m\n",
       "0XmulaB3sphNGlVnPgA2E+ZIKMEEdwzHBHyGlds6ZlCNj4/gmrlL7CN067sAC9+OKjzmizX8H84o\n",
       "mstH4HRIP9Z2+xcNMRUzsvN/G0aF7gdxjk7IrhpL58SWjd58twr0heNiXmDxK0JgKjU2tHZAYiVT\n",
       "O+jbxOQOj71F6Ja3Rupj6oDYaaGEyxRCakZRm14m98nBUBY8XzVnBIAhSz2lFNAlGSYF4o0VNYG4\n",
       "NUyrjLj9SPLJx3M62tjBi/wVwO6S9uuJrt4JTYTBIqt6qCUbNa5eWK9CiA0umevfTAKHPWDT4U2H\n",
       "eUqHJH2oQsmRPL5cKsxfUQkzmnQFtfeN962+kzVIBOKlHiRymH/4Tr08v7cmHv9+0s6LBQcbFqRh\n",
       "PeuWpo+3neWJaFqLw5KmPNhnT0juZ1wU7gUDXeJ8WU0Bb9AM8cQshBC4WWZnaVHNsEMXs14akwBU\n",
       "rtVQGLA6bS9xmGH6OSTBO9JPYN7vQuNK1Sou73+4k1uJZVsT7mFv5/d8GPP0VyS8Pj6Wre/Zpm7z\n",
       "my/jVCu5p3wpR4TicroIjIz4PTBO1GAlZcym/p0uPbuuurfr9duvZeyseJ0xQpcPo/P/oiiH/OtH\n",
       "t6wW2ru1cTXd3XOHyCsl8fAJGK3o30M9uL6Iy85PZmVfECktMdbdMLn3BEC8YInH6W80ONKSdwsv\n",
       "RX3TZ81CWu+b0Wl61rSyrqyfclSzoE+7gaOzbl+Y+FbNpk4E/ldjCXzEgnTmlkVXs26KfsszD4BJ\n",
       "nmeGBc5ZndQ69cABXlHVw1CobzO1roFOAkkJ5DZqWyDOTd88ejQEU3O6gRKO32Y4M7HnPbyzwxQY\n",
       "tO3NZoS+j7Qz5w6VL8+e3gIUuNdgoG+quz5IFt3uWSJIIWAT3Pqq4h3UlzQKDjqDbGviMgrUMOfA\n",
       "S93nWPQDv2MUaurc2jU/CRcsug/3adXDHa7owujYdTH0DAcHTBdB5io3xb4AagYCovs5aF24JM14\n",
       "ISBfXX1fqs34BtrdgNtcDPNjE+Zr9HsSlCxE6CqssWIy4q0jnMlTj0Ow9J4XDwR1vVEDvbCNvLh8\n",
       "HrWzWcO9vl/X8FFea+PdglyFjWeyDJDZgdeF1Ez8ZfbtJKNtcuuKss3lO1eRLhmOH44ollY+Bewi\n",
       "ZhlMJdUE8Pn6pH5735DIhLKniHOV0EhNBJhQd4NJS7N2HJ5GyzC7MJXd+yY1UYPEb6NbLvgyDT7J\n",
       "AH2+fgHpzN/v7vOI3yRNSCt5tpEAI/Xa9QXJe2pfta2FV6iW1RwDwfRG8TJwPoBNG79Q3XQX1Ui0\n",
       "s+avBHgyIG2uBIw3UkTgyLN1jTjZD1ypBxh7tQVmxKS1SuD5s3obZADAGiEhKxOcViQ2e1MDWcni\n",
       "x1pXc2QcmquNH2QAC83qPOFGfO4KDakF5TcAXIF8DnPbn/Y9KGC69+FnkuNLTCKhqYz0TePQSulg\n",
       "iYwR0NvFh4kexPjtZuWZaSZBTOoYF5a7+2Iyor8oKU7DtaDruUEMa+33SwhxercuuAx7splnx7Sl\n",
       "naHxsHJwnF6z91mKPSHSH2SNYslbFv8oBRxsIHS4Wu7NqeGDBzVS0GxOYOfuVqrhU1s+lg7rDiDG\n",
       "gScqMMu9Ess9s/jmhj7nS09P4WLPDkP7K3ALL0gNqlmhuvCoXjicjKU31UoOXXCIPk8ZKPvWDj8w\n",
       "20clKoUPOn5vac2p4KfoOe+YtsF+3vI71FAV9Hkk3JgF79Jp3rK1bHhn+jwlC+PitlZgb4vx7Wa1\n",
       "9trmjPisl71Ld7yn3f+fKuZ9wuCKmi7NI/t2Jd1q+D0UGrPYjxoAdxUFrYRPnSRLnnvCpuv7swI/\n",
       "Jqgmz6NbKsjZYfsy7LGSW8QKAqDU8qYLiC0Jt18S9z2MAwtzeRwqPD63WZaYxn5wv5Pi2+pumvPX\n",
       "GnbLgHeVBeQfV9du20EmKslF4NRrio0sk6jtA8QW+Fm6iXesBc/deXHXh4MnnJFc0IE6ZA6eObtI\n",
       "KZCfe/wgYQKPqWgZ/qElunos6w6HlkzNc4bhLeuWTBJwKnNnHFE+7jUQoN84M0ZxLVvvVaofue9R\n",
       "CnrcIJENON2AMvswV+6IJTl3wWpjQ03o5cFjf+p98k36BwHih/RRUZMXbML2prp+PD/ASMB3R1Xg\n",
       "S7LOL6A/ZdeG8Wzh537JNMOKr3LU6iPdVxFiGl6pUzlCXeb9bw7zAFPsE+wmSWWKuchx+oQgBOyF\n",
       "1VstLfTUzuqXnL2vr3o6Fu1+ug2aqFxMKWDwOrlBfePXi5YrvvRhNnrqZUZtgAKUGkBV+DUAyxDm\n",
       "8zu2S1Ej6qUnqWGv4u2/EuxSXM7FVrV92phEM4mxYrC87JSzk5yk4cw9JsvjfUi5rhU51cMUxQmb\n",
       "aMRP6kP4mcc0i+yk8vWEg8i2xA9s62VLXSn1eMv33YwsFDjrTMjpXoxudSBGgYd+6BREmKoJDrNV\n",
       "+mI7K5CuNBK5yfP3BgfqgFOvbOMiIk3J4IwIzI3qhf2iYOppIFwax85yq6ZuqtJA/enG+2VzbaXk\n",
       "3yI6VPCnYdGwaZkOy7zVI5lqzLJWc7cubaYXCq472Vdv4WZ89lEtdjqcCzcKmrJCqVqf0s/QJqjn\n",
       "4vx36Bsr09CUBd04rYE29fwXu+6a2g311v5A5FrDsaK1lTLhmqMaaPuzsB3bdjpeIze9g3g0xIXH\n",
       "/vcgl/RV+zbkEMNKm1gsNYdHEMDKakEwy7MnfVa5aJYbfMwy8+DcEOi9dwGcnoPecUh3LFAVAiHk\n",
       "7agKJkLp0MaPIzG+ChKKgC8qwkNr3G/Mj6dE+yK/e4L0XJGpBwCgrYachY6wXQQ4Ir2lve7ilGsc\n",
       "7xFlNx9HkoOMfniVszHCSSjG8cfZExdvmV3IXBqZ52+0jlFlKVczsYh50FIRXyy/XrIG2Xw/jutB\n",
       "U23wBJPEksfdlnJAj94CNfdJmlkVh7IM7C9oNIetrtvHNUhC3r50o9YPkd9hjXRMeBRTz//QWVta\n",
       "wkhSepQ7AJfHkZgDQDtl/LuVvz6C2jreSOQM3bS+NXOldu1MA5fPTAVlJy1wY5O89Ttw6yWOVyEy\n",
       "y6r9j/UGs+V3Upy8z7eyk1P+i6+/xR933adab42fHfTt49K1Uzf0pMGl6Gv64cqnLrC2+ICV2HI5\n",
       "D2T7k7G1Mgy/jd6OYv9uliYod/1Ul6AqxKkoyN5xAAAGlUGepUUVLDP/AOKwVAmph9yben97Yj8G\n",
       "URQAs9FtDkgrfSUMCt68dSQSfb6v5HehFmTwVjNQUROQKwIblqRyGVxKNHuMFYcJ2EuOuyazis6h\n",
       "9aJgDO+LPluStoV/TqLkPL8VRnr5Vf+usSjoWoVUsk7gwzKY+9rpcpFelHv7buNryXiccjoiWSX5\n",
       "l2duMR90w5nD8LVMnRPN7Ot9oO4N0REdH8i7RYwPQz2/8MQuM8lbzXgPxRhv9G0HMp4UV9ApJskh\n",
       "/n/DKPf6/MudFPbXI2BSXOvClvxKZdZtkXkSjovwM0xN1IAf+79SBQODf790gJZFAtkFmALusaRO\n",
       "/qHStA7gSBhWn8pbToQGeFJ/ueIDD7FKPt7p1ByapenekZ2w2bEyjrpQ/foiwQipkuqfYJ0XJMm5\n",
       "bkhM69BQ6yOUFbovobKncvdQpjobdIWg7vMhdSV8siuOKLQkNvmX4JqhBEBIT7ijMB+juhJ7Dk31\n",
       "B3Ay9WDhAKBNL6/YxwsHB0zPg9DBBvoce8AKlVzVwsTqm1bZ32GzVDM/ru3p4mG2b7PW1hM9jlDZ\n",
       "pPeX4CQ7EShTZyuuBiZfJWtM7R6Bif/0E76CGsktEC5ZrLjqOLXbke9gSwm9PiEFrqOqJTua/3ng\n",
       "Ck7Vy5Ch3Mn0ghQKW6QjLJVCeDi0KyG/HYoE537onJ6SSJ/eJH29WcJufVBhk2jXwCwxVwf9mQCs\n",
       "XApY4DzEUU6aT3iJIVphhNwOOOFiFjfWWbo2BQymlO7eoTvua6hjHhDQKapEVY7neCOJrmzGBcv5\n",
       "fR9+RKtCXoUb5919tPEb2PByjZ77wzLi8A8WNDo8uO5HIVw08ArHhQB5FvwRNwL5rfKnKhFaYXaY\n",
       "K5qNz061H7zHd//bXuSurEnkNkiI2BA2QKKxNK6dsWOGkmsehmQrpGFHAKpuFCxQaCs4vnzJ/4Ll\n",
       "1o+zM78omzo+ggpTalNFUdGyp/KonnpED7xOYmsoCXs41/YMdmzCRJl/ix+fkun+74/P5o5sgiLD\n",
       "wNTebyGVF8WR71iIT3NGujqRY9MjSztV+1H1I8LjlepziqfjLfctldqt6e5RiA5JfUdOGWABkwdG\n",
       "qgEj0fYLeYm8o6FebPk9sOzI2uD1qHabHo4zxuffnX9U75ztl53SizuUgKkmsYRcp4nEjD2YQgEc\n",
       "+VNdQ9od+KBOfjSmmA9tyPGSwGNRgDHrIS34b5SwePrRkCOoqeOFAdCeXmDeMuF7nmmQfcL1WZiK\n",
       "c+LXIzFAdADwbvkB/8P5p4IUcBr5ArrMXj7FeFSqOa/EVW+EHcYUd65epbqNx5gUTpsYcMGL7ET9\n",
       "YCeRopKUDUthpbFC06g/7nQOljxF3Av8NwzC3ncCW9zWdi6xGKazpAkhZaBflpx3aUM6mEJnXf9e\n",
       "dq05FD71weug1s02kBjLSc12BZmIlI3IL2Wxgm4v8zKkVbZRoBv9K5inpan4xP/Sq2SDz2eDvpfq\n",
       "Hj46x9UJwDYMlgr0p/bvjcFb2OG2pRW1X9hEAKAg3pBBsUKc3EynX9boYyi3uKScu0KQ9ANlmBH2\n",
       "sHMMOnkmq7GbKKDUMN00cti5Jq/V9+ZYFgTQA64uJUJvobMNQcQAws2fqcDimo3KAtSUWavtuARf\n",
       "1nAbycbgFLtZXOkz5apwG7Gj233FgGe4oAeVbpLQB+zsNUHHoRxIBRWe6yxG21SMd+uzE3ieyXZJ\n",
       "9bCtRTXLK6RwQ6bSkqnEcaTezbrdQmFEJYD2sEIIMBIWfRKpNmy8gm9bLlYn/cu/jUceuo5N0zth\n",
       "KsRUvzucGzTsIPCLk8om6dLnZhU9ZAdK/ix4J+P2OYHQOCFnUeAA0z6ro6gSPX1m2qqFG8dnFLvG\n",
       "/HJSUamLYpL6d1mxR9ot5034YAQ9VJsFTXKZyTYzaqw3/oumFlFPZS0xQ/i9nLoF7yEnTvYxompz\n",
       "LQ2USgmnkD93ylOHa9CyLBb8MTnYp3vLKb4yChbAayln9xHEvtU0R7aL9bhjACZW7ODueK4LCeZJ\n",
       "RIXjlydp1Ly3b+RMyXuzOIeH0p6jyT7mSnqN1eHxMZZMHH+kjx02RK+N0Y3SkTU3Yy9mddS9XUW1\n",
       "F309I8fFbCAc4aXq235+r7ztncNpN3trt/FTYvg/fHj8gCBfzUmFTutPYjR1SwOYnqT5QM+WZwtT\n",
       "nmYBOarrEgFENeB41rM/ASP72+0koA+/ubs+Kcp/xT3yvbW/vqfV4LEo635P/a+OANGQZeBEYCkd\n",
       "xAprIGorPMxBAAAEQAGexHRCvwGm/sUUhb+0KVwBD4gCCfzjkpsAqnsOpWnyA5y9Cz9rki7ziWup\n",
       "pd24FCA/T0otSKYTUTEvo9UDjtbvpxgpUN0Tc2a1605q74RweWFCuq4dXyJEOJKE/MatuPyOx5t4\n",
       "feFDIAK0ZLaEXhoogjdD/425/90JA3GAnSC54yBXlVB3EA2OrJLU81V9xY3Br7yEabW80bL3uJX/\n",
       "3pubbfZbskXMQ8uBaTyErVx4m8GmbVb8Pv0YaKZqsiMZyX2ocUlaZ7F3E85msQldkNOjGRjeVLAm\n",
       "iRaJD6l/M8I9n/ogl6deATDVRKGkCcbypVdFhcJuSZbY4Ax29nfskh8q2hzFlVYmk2rSDx9M8R8/\n",
       "tLAgMbgUelJ7vcoqISDcLUIRU0sZ0WN1voodnrfJ/yqlPqdvrH0jKNTT0k1djNhw6J6jz5+ceVj1\n",
       "O1r9g3Dd3HyrEqGRfpcDEfAQ5s3rWKObpRy5zHi+0hvwkBUDNH+v+EI5byi6nczEyjXjqvJhSmzJ\n",
       "Rj7gcJ2BZRbFbUO/Q+yr7BoEqKLOXTMRK6orsGdX1JWuCzg0pI5QE2nZaS5vKWqyzl3LoVhOq1OG\n",
       "2smIyvLVCbziXEQ3wV2AqBFZHKVmygCnKawdxmYSPnBpQ7ahJGaGawpalXnE2idXUem1UM8K89pU\n",
       "cxUqJtksib3x9hjZrHKa2F944Bbd22EVqNjH96YYKcOAnVIk/AEs17CgIo6ROMHHGMU4mI94J2EN\n",
       "xZZaZYqk3iTfYO7pRvkay+zxZOFYWqvmaXmPhUO74HjJCA5YXLqmD1H3vmkjT5FqppDiqsRVTle5\n",
       "5rca5ou+8r8aPmjfVM3s7ON8EIPHnoMtG3k+M/5uhCo0Z0ZQ2tB6/wZFDS0sbnz+Eo2dN8C8jX2g\n",
       "ps42tPdxAfXEjYqQt7fT5muSCpEOBxe0e+tSa8h/J4hW7ydHBKBW9dPJfyVj4E/dEWNyZgiTir55\n",
       "d8qUvi4sGOQ/zVU7en4/oYnM2l6p/JZOjHHdfmv2W0EbXWGD7O8Ty5/pkyJMNw2XurvZSbDO582l\n",
       "tuTuNVAjgtdqsxd5ZdP0EUYdLeYPw2ZjBXN/qFlok5DKStmqxC4mPOQgHK3hhWIcoSmiVoiu/R67\n",
       "6q5IbOrJwVGsiAOHhiErEOu3Qk4K0Ic68XBjJ5DaHH2cZs0H/MlOdSCtRFVdJZPLmPIxClSB7sca\n",
       "sHHkJ7x6mdvrIQkuQ8TZdGFDu/t1en3trU4fw0CemwfymJZSenUP9Kb5xvmQP++R3CeA6ZehQO4P\n",
       "SoRJKeHV+f/53QlkGLZ+CFogO+6mqTIjesugYlTMRmZiJIAzlRjAS0S5EzZk5iBRS7k3AsRKgYe3\n",
       "frvT2wY9OGl5G+FiF/JRYNI3hP2fIcOAqX6RYBcl5flCicqZLijrO22wmqrrvfqBPilT2kteqUnZ\n",
       "hlXqIm703F/svJkB7SZ8QzedAAAE2QGexmpCvwGndMb5T5kRACFfsr6zCvQqpr2Mj3oeWmr1TpYI\n",
       "10mqLW1KMJcWPws8yU0i//ZlYRikgtlSKjvjP+LMtZyJx6eqpZXvTF+YITcjgCihcuu4WvgAn8sP\n",
       "lT/Mhkx8q9wm8KsHguFQkNXjQhYxYXI+5/vyExFdpmYAgRtvA2fFf6cTzy4a3swvDJiVcgDvycQq\n",
       "qHZApsEV6ZIZbeQ5pYpSJG7crXWy1MUav+PCXMGQQQM5253UniyPgxfqTBhIZAGguFf2hKbxkxaW\n",
       "X5FXVAwc9XEgErMq0lT/cbFenNNFwZZIgA16+2wZ2693lfDaMLdvPL4khGyq9E1duODOoDkXWXs5\n",
       "EnBXm5S93xHt62hQvcpEkyqaUAcDb0V0gvq50hR6ZtYY/c+48UsH3fQh0/COa8tHAg0c4s/gdm2J\n",
       "uNjAoBc5Glv+ZGwuLVwhk7TqPIZLu5hvSfO4yAXLGpGDBNkVIRodiUCcOecEOUWQxNmCM0OIsOip\n",
       "J5qr0pUANz0mVkjtUOESl0oKb7/Ff6CdSRxTjotsp453pWpZo2HaTPg+1ugWn8bAZAw6NDiKOEuR\n",
       "6e6lWfygiBjJthLYuuuiK0gsFkWCQv31+/kFJKaMSHfJkvwZs8+coXCeLvWIqQG4DSUI4QHfolIf\n",
       "2EiqXR1n9yD5cwShHD2DJQMS336DVCIg2F/j99EoE+O7Bwcjajv/tDcDYl4gRFUSguDSP2DLXd7j\n",
       "6ySb6cU/CZtFWcFmorhFcFPdfyIjFE8T7nnpg4EaLM7/eIh9wYrN51Dhcat6WvAdyYjMu6F0WwHW\n",
       "4lF5RJ2DjX2zD3F8MRcOB98wLoiBUpdwQWXUXAB5qmw9E0LyQhpAAL4iovmYHxsWSTy1srVH6xTn\n",
       "ZvRNmekUIPJEw64pmkV29sqcOUCgSKQWjtBLQH/56OgG/ayKwew7Vfg3wjOsdcnjFJKntsC25Oz/\n",
       "btRXGZeOaiXCMU/Tgai+hjq6Sz/AnqLJecpnNAQxGQjNJjFjgk+x8wUei1mSb6IzYiPzkhAvzR/g\n",
       "7hqxaex6vYeh0RhC7ZPF00/eRl/r2K451qF+/RaY5JYkYriNohdt6C/Trr349InfNpWsuOrUTbqt\n",
       "xaAKA8Sn2iR5r4DkqY8GfKiPskKHjQsZvyg17yq210GgBgffdmn3cdptBJy4orAltecus/Ff59QY\n",
       "jLeh3bitpwPvvZPjs7ofViNFgDKydnsLwHOAoQZhIw0AxlQiva/3kThDznvWcNxxNkfFQ50v+Cz1\n",
       "QIy5tdl1HzYn2CydklGB5HMjNcEQZy0K9qqBytfwEkP43LK7mOv+Ur+LDqnM174ksdCGy3Qv8bU2\n",
       "WDGadEFxWfqN5+4caazND/GFH55G7J987k4KofTt+m304WZFtnfyD4u9tf3oNqA/RFGoHWpEbjmx\n",
       "qUhYnzszyJvBT6iheJNGXR38Aznn343l9HAWoAkYeZOKJp4YwkOGxUuR29GAFDEeA/3+EE+GWG9b\n",
       "8dPhGYQOIvWqmV15hPrwwZaYuEnxx0zyjHvf+0Ql7xi8u1V5BoWV2uMYHdawZejSCyVyFMSmco51\n",
       "nwz/ECiFwJPRV2AK14l0PpCcjxhxjvYNWDlVjHq1mI+iHvukZCLtTiD3PXMS9e5w2bup040r3n+H\n",
       "5sQi2cYYanoTAAANtUGay0moQWyZTAh///6plgDjpvDk3vYo8nvw+oqURO2AD3v8j1G14D5DTALR\n",
       "rNgK3k1CbQ6ceMMBKq1WG09f96945ZE7x+MIkYoNNzpr/dzmG5tv7JGxu4773lPw/eDs0IGUAD0K\n",
       "6KhA5hDCqVYb0v3wMqCw6gIDpBVekBU5I+OznQdN3C77ahFmKDNARKHGDb53TFEnc55oyY5dOQwr\n",
       "qMytD8ryAPvr/azq5IQK2wCFM3ggWe7bmm6sIi7Vckxx5iW6kUZG7MVgPMFi7lWpQfTX9rvg5EFX\n",
       "RPnKVRl2gm8hKkUWB4yagZvsD+JmcqrwOiRkxSAVlZXosknJQgGvv1DMJXwIxx9QYHTQao/nfFOz\n",
       "WQWIRn4kwU1ISHSLg64hYX+ZqB0TfAIzCmEDJcOBkhxM1SUyvRR+clQ4+uQWS48Y7LjMV8KkqLGj\n",
       "nJHqhNig68CEcyDizGw5vuBWB5Nbm64L/T1fn6ZaNGIJGntOQYU+kb3AnS0Nr8RYlt95CRkD3HhD\n",
       "PPcx+WQMEfyh4aFyhC2tUZILJI8mouOZUMFBZPKBjtSz2o/poV6BSZU1e3XkLTCKyrYIaNURHTyo\n",
       "eJtBDtjcgalxhtun6HFVMo/EcnP6GyCGFdB1Wiq3QR6Gy2Ft955RChpS+OZLASji64Rd39VXV9ck\n",
       "CffcMju1VbWWDSkiA7S6fp9OFD713L3bwPcco7wcipq+cwer+1SO7vu94qxovWDsFsxdl4yezO4M\n",
       "G0auph7GoiEwTJY30d1COLWjblL/Ayx2URhC6VJaAN8Eo7onybfTdMsznETkPoiRDbysMK2Cd8eg\n",
       "tZBPIabZSYNUjbxvrslEXwxIBV4D+iPuU0Etw/Ns2+uNkmeWdBTOzqyjHXbGHXUF3o+zYwEDuO2i\n",
       "7hP0pIAEWkJnc01JAnk6cOp+NHnQHpzdVBnHYBt8VxLW+9suLbyExXXZ7gioOcdrGVO92sFunC/S\n",
       "PWVZ79ObIoAd6ZUz2AlZ8kG1XtV6sn71duj/Mbhj3mkvzcwf6fEsD+jnH+81C+8r1OvrwoYiL7oC\n",
       "vS22DZZSV4zw4HqLrvrB2OjsqOwGDrUSTiDf6VDSlvLd4BKkPeKBFvKD2t9e41I9FaynvqKgpEfB\n",
       "IIpLuBuFJovOjMf6bLpQR7KgheRRi5Y8EOGBC8dFZwHEIIw6lMyqnnYi6ItRh3WhZPJn9sF84AIA\n",
       "CceUVckMAyFuC/MVOHmciCKAZpfPyW2fug/mu+zUM8bRrZMX7jPRzOJNJGEpYV3YARx6Yi59jNhS\n",
       "Pbq3xwcikY+6eYVzjIxc08g9ADuA+NRBje6UsKArls+lKmN+Kfe95txhnbhTObcLpCteHYn8Jo4r\n",
       "N7qmzZ00C6OCWKFyAVHm3+xHSBRVw3Mcv3/kgqhnnCUtB1OdgSLaGMVWbKvD+iaLDWqDvPPP8i1v\n",
       "tzDZmrVtWsvz7LcKlQDZE/ENC8PrqFhgkC4RyFM3U1oZSqnU5LYnXo2IsGxPcZmITZL/njoHPkVK\n",
       "eQQnVYxcA6j/jMR2269oVyasxWrO4E7MAYNHWxkkqDwh3jtnqd0qVzWak6MMksIjcwrxbDzQ0Zru\n",
       "fdbzUsfbch1WrN2LzEVnApqjh1blBI9XlFoxoKPwHUeQbXEglEw7pqRxaEyha+BqfMN1XqLpIgmi\n",
       "MgnYxOHPxqqNGAgITvF9atWaWq5zsPZ8BWlfwrkeI0CINHaaqLvKVcoqK/33xQDeedui/9LIiJZ6\n",
       "s4dXPXLQqyyNccpbaRDJwX6sL73Yap82j4oh9jtU1oK4cLLLNVEMRr3pFaFewOFa7SkXcIsaMrdD\n",
       "yHlCHl/pVwGCETbTrRF2cafMhE2IlBhphkXjF2jIhNmliHQ9LM4tDwgJNnJWUInI9Fivzofpb0nw\n",
       "czgp0udmEwDcN8Z38IkWvHEKsf/myhQEFvclhDsZPNgyD+yDyrq9rR5lWgqZrFYQFsB8aqgOf+3u\n",
       "1aV+av/+jsnxyRX/5J9jEtz2P/+cMKPuuA8RqFOBUabuQVHbWxBZjIPmvenSd63+wGyJwdB+OZ2w\n",
       "FrYwXGsx/bvms7QfGkToVVBJ+JwyZfktWxgKkbG5tKaNetQ60SGx6saz9Ijr6Ca4aGzbOYz5pzaC\n",
       "N3rvAvgDJVUrgmZkOha1016z5u5apSqWcWjzXicM8faNOgrvQ45HpyhT9eDT4D0fc+otiURRLE3P\n",
       "oBTp7KMuQW/8iWNRTwKYd26KhWvhr8bGs79OJk0u+IIgh/QwHc5GrdfP179qIukBzeyvPIhMve7U\n",
       "YOqXMtoM/uEgTiM38ZBjuCwuuBFO7fpOg/bTTF9SkIQsBYG+foa74vT+uqZs5rlpugD7oXShnoXL\n",
       "XYaYYYmDw2Se7wHwzXWli4lnGrvL5uWVOCqiLMyqHilF9n3kQM7L1b/mW/6Ux/iNlRe2fKK2sUB+\n",
       "1qLQx2o/7GF14Yj8uF5fHO4vOsTEH61X3qA8evOm/4cJ5S8ChzjzR4KuSHIkszITE90IUsQF8RFO\n",
       "TXtMPSgRlW+FvOugxgWHYx4LlSangzBbV4M5C1oafJdpGsFDa44JkEUrixz3sMJM3tYNEMRFD1kj\n",
       "nBUhyTkBEFq8vqrQC+C4SieaSuZfZPh+ot/pjjYTNY7sYMVhe/myDbJRfIXQgymt4ksNkQehqhXR\n",
       "vf08SpjCL7GyaY7tdlPmjE2pCZ5uxdy+d4m8GirIzptM5kLbQO4zb7ob0fnxtfpie4rIb3ejoRAI\n",
       "tX3F7gVbWPiWK9qAOOlbO9w5/t981On8IUX7VMT94N9+LR1boSxP6VCQ6cGKsvmc/KYHdu9NWemc\n",
       "ib6TlzlhrRYoR8R5JsmZqhTWccIIim4hzQGG1kxTgty1C5BlLhhr0tdf5A6Vw/+elXiNY2UyUza8\n",
       "0UZiM6swpbxvTyf0tDSTU9O8pRWEHPMVg6d4cq8ZbE/vu0FHeRvo8BRrNq4w20LvOZLgIGiGXqlF\n",
       "X0hkD4pmU9Hkxwm9WWCnzGpLXcIqHnsp5Tfhri3uRjSN7zUzFYghU25qBKawp+xIf5oYg0gwudx8\n",
       "+trtzq4/386OkXdIm+G9DMRdlRLAblbxttiHObHX5CQDEz76FIRlwiP15sgwlIMXUOb9umJaNs0z\n",
       "FDwRzR3SRMM1cH+7oLxQmIidQCNnFTLmfTWyGAGRIoOTEwq7qN+lSA6gQDDdpB0uDJk6r44WqMiY\n",
       "XbeNZ6EQEbOPNs+wgq9EAT19H+FyMoCq1l51Sy7JCe+sQZ6oUf5GMfolS2RlhBAgQ3PqubFSwgTF\n",
       "MHKVKvz6VjfSKM796wMicJR1wDEainxA001tAXWgY+pw4Qo/TFeweaeTvqnIIOVEgvlC4/lUAL9H\n",
       "Dop4nxqwZ4ryBc2Ou9EBnryCvWIcBaSgyPy2JPfEsd4e/kQMQp87qDKGSbJHL1zbDmfQO65pQqlV\n",
       "2jnO1upXrbwNIlTj0ZGncB05XJ5DHHRvuqVsb7irV+fp9btmanmcjQeM6N6kXyjpizKnoYenX3D+\n",
       "X/Axp+qrJtXCf/sHD5QD1MLSFfAfhQEMjaD12KUSmqeJEP5u61ldyxccvvoKvOBE7bwzaNgFRnhG\n",
       "0yxWe/j3+c94ewfYS8x2GvZtejSJyJOqHwrodbe3dZnVooB5Ga0AmfL0sXGudRzcnrUS8aOIx5T7\n",
       "aL87uiJW3hc2/Ot6PynTFyHdshdmbIpzhQdmUd50oUBm7rvyp9BgODMd2k2Bg/hnts4VCA/L9lMw\n",
       "CxMY3aGpVUMO+bjOOxphPln31PMDbr0Pa9lamp46y8k61ulTWrhlmYVM0IgmGvqQmK1J1YnF+r5u\n",
       "/+8LN3/566KoqmRMC0NEUTGHkiprPNfpJ5MC48vF4lUPrbQaLv/2mSaNw6VIMXOY4FaS6VdKbHY3\n",
       "cSvggSibqVzu20LZhJNYZtXsdp9I8Jr2Lgm8CdSJVaDYd38s9ZxIY3+iCmiokxOFHW0Gc7pNogw0\n",
       "cbQheabxwypL3J5g6Sy3CpfXi9rhdMFyZ6YAlVYjYDtRoKHBewOfRMIkrAkGc2qpLen7sq5Kmkfy\n",
       "zxXgzNfKr32EYqMc4vJLwmlsBMDAkN/0B9S2me1Ws7OKkQ83bXN4jqnEI09L5r/qBuGaydHO4ffU\n",
       "qE9FRTQqp26l5y4uRJN68RZY4BG0DmPkns7OD24IKJEsH2Sd8AoabbV9bOi4Hkfl7xI0xB4pIyDQ\n",
       "pJH3f/Qgk5f1Cg7RBnAYClFJjvUPsbpkhiOPbW06GQRURXkiv/mPsNYUx4wRWh+ePPbhkkUwGv2i\n",
       "NN7SdfAgaYSncUljqel4vzQ/452aC9XCU8x1znNx6vxTkY+GPmntHOuMs1JYFz/1xAdNcue/DJRT\n",
       "L3SOqqfZITdPolxRyVZE59F6NHI+Y54Dj+xMpqUoOgs4LP4GuaOTXQwhR4/et1Jxmqs7f5ntJ8hQ\n",
       "Zb9LQZ6grLPUyfchmsXSG4ukK4W7TVV4DXTVOpAsCaIwSIGfAsJVCUJvV/2Pjg0aCfZMq0JY645V\n",
       "E7Ob/8AnpI6DwcQoOANNccItd4zsZ66Q6LlhiZocYtOPcInbFNiMAkUsmMi41x6DjpFYj43+/WJ5\n",
       "lBRTfKsGMvu1GoFK9poPsaOi4V5uRoFx3JnXlw77/EbJ+YM3tUDOYbd68jtKVxuu6j3DXaaIvq8Y\n",
       "iC57ZZcf08f9ECpz8hjnWWvvzYAjFujb1I7UXRlXPAF50abfMYmwQ7XHfWI0AAAEokGe6UUVLDP/\n",
       "AOKwT3wiT8Yky2LVDIAhcmKmqovjgVDQgLIxyQwWHoB70FKT02zS8A8YIkl+vgZVZtdR+j6RcKVg\n",
       "uBXDctwX3V02g0hTqvC1IYPGln9wWp5PlqOyV/gAsUlx6mjkityvlx467iG6rY1YzoZecmse1Pfj\n",
       "MVwrBGqH06bueDMx3RlCMQMRmeL1lmuna52iyTIhzksUkyFxn56zMBmoLbYeZ2ZlYndhcRDlp0Ol\n",
       "zHtgaCdv6bDeuh/h69y+WSdlEGgT4358XScy22ZHcH5DU+UH64/LGPiG2CuGf8d+26LGHeTT9iId\n",
       "oU5ybQz/mT2c9jE0Lo6+7QQ0H8SQJEQL5CS2rR95BdEfgDuIgCQe5p3Vf+zokHJBd4GcV5Z/KLDp\n",
       "kNo1Mi8zfZLs2Z9DcMONew8gGmj6rdJEtCLglGCO/+veEAnaGtCVf/X5eTvSjmCEmHrRpD3BvM69\n",
       "2ZiRtYqSXvqZ9XNvmcQB2vweEjAKtXnzyeeDuOSFe7EBUrBtS/iSUOamrRSoSN/GK8f1Tu5gqgRP\n",
       "S1x0qUmXl28uw8/cCKvpGAYSbNC79B+0IfABjxpJVhZZL3+qrQ5C/6rCTKwHPUwoR267peIRC5aJ\n",
       "9kOF78VVuiQDuEVhX9xKc/K4+5WHQUv5Gr1JfOcQlJrnqFeMzkWaIL/MY3JR9eW20/jWneDHBHq8\n",
       "hWpyl35CW20vqgaZPb9tpwjouyBhRCGPipgjWHfEn7BaOA1xiQJAydyDSqh6NOLs6Quvw9NE3mAQ\n",
       "xdFT7n17NvRekqZf4IqFnlwRWRcAUtFmcMlQYXBQ7LTjeefikffl9kqjJHiO7ungPQMFbxWbX/BI\n",
       "SIpGBzoAJIWFGZ5MSAyRUmFr7cmayVVPNt7sEg0gW9oN4qwpYWVaEwwVjrk82qhXpqbZYSLU3Pzu\n",
       "VeHUgXOKs5J/cYrSeeS6J7hcdfFpw5P/EuXrB23XWgujMbPxps9YrndGj6d4Y+5DNVQnnWEyocvW\n",
       "93CrNMQXcirjmt//wttstLLrLj8gYtUFkP86kA4kNqg6XwfaDU3GY2OUtQvacVBbQVdStH8Kvi1n\n",
       "cK0REZGOekArEvdXbFgE6/bZzigPMgAN00r0TLK2b+rdg4iwjJl7SpXUHLQX9h5Tf4Sbgnn/poeZ\n",
       "5GhsiGJfmpCvzGKB+bbgXYe5RaHrvKqtdJvwSygYZnRVCnyV57NYHHsCXboFEdea4SdE/G/0AcXg\n",
       "QOtEkb81CNQE4HW0hSne2SUacCREhNA9ISxszSBx/n6nytAN3lRfNBWDHZUX4uBSIt5m+CL9u80G\n",
       "GAinwNFEeAJPuWgG5P50vLMCA4v24QbYzc8sTrmCFpMZ2lmi07pF1yVl7M2ADzUIrTAK/XU80D7I\n",
       "6uYVVDMUP+DL+lW5olOeEv8yRrDV9c8Ry8Vi6GbX75KzYjApZCZ66idBPDau41hjtOFiE5pk19sG\n",
       "6JSZ5RZ2Kv7fX3KhZrDGF2uFOhJh0briTtidMQdEznvdvqcZUKd7x7l6nAHMGjuvo3KA1oqCfCld\n",
       "u/o5D1J27n/o94ZJgctj8Hxk6n00KLEjmkXw+tiHbSVU52/npIAAAAMlAZ8IdEK/Aab+xQnHJiti\n",
       "rUSP+LwBBYlCZn28JtHRLwZ34RzmQn6yIp7vDSdU3EOSXBN3DoCvJegmW2uaPC8R0kz45Bh+H1v8\n",
       "0pqcehWna7v9BN8k0XU1eMV5v1193s0YBm+FWnBQPd/0XxXXk4zKGevPy0xlmTmd9QbLar+wEBw0\n",
       "JbbViXBHAtFQ93J28WY3ODhk0ooQw1bACLtCNcmcDELcASMniuZfo/FnYYYfGHHyxEG/bnvVwy8J\n",
       "i2cQi+RuSnapCONrYWI28t46REjtT7wJ9XxS+xPk+E35eUssIRVv63FXCTudOF7sol3DrF2FoCPt\n",
       "NNRMH/QTdgpInEcFFwgT1hCW3vny51Qu2l6U2g7TA5m2bSZ95y6roF4BVvZtDNB3gxfS8n+wtta0\n",
       "7U1S0BiRTAorxUDUghvBAwCsJ3bLCsFD3zw9OSqsDZOJeBqPs72becwvG1tms+jts5pC2OCJR76p\n",
       "ISLvzwycOi+98iK1oDLeInXVg+d/5kOgFQsV1Fl12NQQ3Pyr+EAs2UGXf45CTrDWMiw/H/4xgqsK\n",
       "gV28CvlMMDFf4q3fSqc7E7uaUYo87yGA9av+56JpFVVhyI8AbrKtrO0DlRZ77GZJzVDrEXqKr4An\n",
       "FZ8XNf0G1N8K5Z1Wzwx6XQoi5c8YoLozAFjbckAhMFfzIM+CkNeTtU0Xroyld+HDq6qs5XnGLuUW\n",
       "qw9Ebtp6yKD1DzgqTvptqM9I9JFCcrVliGU7l5oNmOZ0QUZZ2WxDAX3ISaYWUf0+/kFNCPovrtpZ\n",
       "7Tjgfl/M32qdNowah8L2VPmU07Jso9x0pmLlSzavTP8wK268+YYQy3bX0Pplkn+AG15BrLtTDtbT\n",
       "SijfjEMQl6R8NwBw4c1T5sIylEbMdk78u38oz8MHfjcsQ/Zkx5kAwV0GKVDSs2A3E4FdTo29pxj3\n",
       "vhG62t+OR02acHKd3nF6yBzNI6GXRKgU2MuusiQz7pYupnb8J/fdJV1ypFuXoC6cPSL+qetA9TyU\n",
       "3shn5UUVSKc2/AfS/Kkd/rz/OeGBTbnJVNeGlqlo5w8JqcRYxh690MJuVr7IKKwkpwAAA2QBnwpq\n",
       "Qr8Bp3THIZKNegBv9WjWeWsCcOmMa7W3Pppu3tQZUnPuRmKlUY3sTzPIKCsbXaGG4Oi1eQiMaOFA\n",
       "CGCktOZLsz3KbAr1XWOaizdk9bikBWRzMn9MjOAnv48rvfoxg8iKs7gM60P6je+VT2kpGCh9OBqi\n",
       "mVqMPUd6RDfmd8VvOm9z7qR0Vvis5cKNdmqcySKIoqB7CfHe9BmZgbEmyYg4ubHpFnsmq6QTbqdL\n",
       "ashv9RZqryvXngWHC4Pw8SPBZxb5qunSx3eXUPcq4T2TBjJzWjx+f/HMycV65/xV3txH1GY+LGIV\n",
       "ykMFxIqDINy3paWZEgBGI5rc8OZzRvoM/1mwr1iZEpw55FMCCm5MYnqs5GZFT4Ytmo8a5wXB6V3Y\n",
       "r3gjD2Etq9lztcXugc8XFBh082FfHQHA29DcL1AY2TF/A5WwXx1cuEDA9DIu7QMs/9oisQATWOXL\n",
       "3ZECH6TILsPp4ll2xFofX4fTnWoWykAS8dKC9Z8uKbS/fBBOiHdTzI/xhx4nwhDB/AK9Qc8f1OB0\n",
       "gr8BuIMmJsP8cIgOe5mza2htCfpNMcPB5CEW9XTU4tWI9s11iutrrtnFcfGNQ1Lm83ICYvfJSl6Z\n",
       "S80SPFkmW0XOAq1+i1H2tkiGQm4Uvv9ps5EI1pHzVzbsjY9H5oD3Dh5WGaP2U3NdmkFSehNeCtI6\n",
       "auZJUKEN51WkdzeWfcJ/K156KjbV60IUBp5qmoXVHbhk2/uk3scSo9UCfgB6puh4wu6H6rCm8lE0\n",
       "0oX3jJsGz/ToDWhn3TfGoHQXefLxuwpqYBUUMvBfS/OKY/PFVr1kWO3amOnMWjIPzV5zCUj6B8OW\n",
       "AnwQJYL/xeQOt41RAvy+yN9flAF1Me/8vmBnlF7NBxXOoUhuIt33u9qx5VVmiwk8+Psb0S5q5VZ7\n",
       "fxXIi+8Gxhegx/gB6kVPw3GnwQw0bE7NddwfygRoQuGvPHfRvrRgmn9UXH18MxlFNGRwb644T0RX\n",
       "fc104CxYwjmv5mDNRK06OTEjMkwbbJjAC7BuMe90mmVupe6iEk7hHOTNI86H7pyCRdES6XqZfVMD\n",
       "YacTc1DurLRYVDjFXviNMo7eHoGdvDrJ9Qz1lIUey/XLoLoZBwwYvbsYG5oxpoL4N0zfZhKCCxdK\n",
       "OeiZwNOI6TzgAAANkkGbD0moQWyZTAh///6plgCcLN3fY/fQjVIDffvADXlCEqJwDg0P0m00Piw9\n",
       "UMqsenw+RxP57GY2We34VSFnu2WFdsUBBi9SD6XM/7PykAkwkAHuM5Zl/ftus6WAUBo5w+O+v5/n\n",
       "4XyUXTenGCIlj4bs3lzQIRLtecJ5zS1frm5App16SDKixmNWMjSBxGE0O5srXIG5xMPzpDyGdpET\n",
       "GqnhvpHC7tBOUN5NUB2VaXQTEiyTOCB1Jm6aMyGQLxuBKMVIMDPsuUA56XwjF+5Y31y4Zg++fKXn\n",
       "R51fJ+1cBnuwXoLydfoHjRS2XZ0fzZLuhvSoKsnLgCa02ZMuYDT7UHh4XANbxb83yI5Uj5ccib8s\n",
       "Yb142ZXKgykIM8gVuX0kTTzHnx5PMz/+FcnPUBw3eitudZIz4jE0BOdBqpn5nCImUkPUEF8A/aBC\n",
       "pU6NeVk6cfQhUtt5xRwNy3+9d5MJKadVzNKIoZCXH11J/gRKcZyT9UXRA32pMo8dt6csz7N/IGjN\n",
       "5beqTU+GwrpkaR1k5T+l33AfevTUSuZn1cCGDOOc2g634DfOdeDa1QFHdNFFITB2a6r+88HNGHpW\n",
       "L8gLlNUACrBzz9eENxvIsztj/3W0Tx1sgqzM/rJmAZt74/g5Rx2DMVvsefKPyfkpv+G5n3jNoOMx\n",
       "rPfL9u0mX0kosY0LaIo5pnkvjS16EO6+H6EoXfyU4lVSkK6Af2y9/iOhjEnKd6iyB9OG64hTVPjg\n",
       "KQP3Jc4AiQAvClcZ/DTF/B68x9wBxdzzOV7p6mfe0aoCH5i4efbXpTvAlC0WRgvbFRSR15AlkhK6\n",
       "kL+fm9RU5IK+xMTHc6fqM7IkgCR5kjd7bj0WvUxj/XucPRWLJWBr2oEozWmFLf/+QfaphtGmepJx\n",
       "QVTVVWMPn6dSI430KbgJInzB9dkPqYJw7fdYcMtxEAqvxcDkJr7wYuh4yJ676Rn1M16JUYruTbfh\n",
       "bc6mU9dVw8w8bZtAFipdWSEuPH49aqUaZ2JPEycgUfENdtOCr4dmMMHN/+cDDqanJDYdnUw5ipwv\n",
       "zkv5HxJuEN0D7bwJQmHMfefxDZNiHIvx/zXpV8ZVL4dufvO5b6s3ZAXSBFuXHL239RPRm9m76FQO\n",
       "l8xv4dC09RaqNh13HT5UsQn4/5s8HQ9DAkFGuecUQzhPOmYt38B+Wyl4sCv3kqmmS+2wQ01302Tj\n",
       "4daBSdKTLlwkMAuY1Ln7sjcdE0BkVC3rYEF45ynuvIroc93GzVKiSdT1VXqhICSgooUGHZd7yb41\n",
       "lmXLFeUdSbzAeQgPgCJ42ieL6vmT6iVNp6nxw2Kf023xKtaATrtYvV0Zxsuy6kajlYkKybXDCwFT\n",
       "Ie4RIYjGNse48X2C7QqCL+YVh0h/lLyATB8gldXFA/1yAyH1UPV2Kmtvzek2CFx9Xmw3I86SpzY4\n",
       "2keBd7uQ1ouNJqgfTri9+cw2NlhOtza3bZBZls/ZTAfs0L/Ilwk5MwDeSgrQs1YIVHCXuhP/S+eg\n",
       "dxCqADqyrdcQodR55PQaKjg2uleD+KMDsTtxXU3R2MbVP+zA0T8qIfAYMq6iq6a44evRAb7hfCc1\n",
       "oqQ6F5YG+ISyteHZmmel94TmoMDk7naWpft+QF2zwritfdlZD42nF4jot/9uxoXnVagMvyEsfpnw\n",
       "V4ZQquNqeR6uOpVzQ+RyVkgkeVfjZ1mYSXlmbniJafjkIWyqy3Pu3saq4o5Igc0AuIrWu4+1y/q0\n",
       "JZILURhz5WOrJD7TrnOvNcBbhdHBkcMRM9LEhD0tOt0CZnA+DZpN9YeuPh9uU0fUAAD6F6qgSpbz\n",
       "O74Hk00iGVo3gaiQD/2gHEI0+qATYOS1AhNHz7hC+4dgLQJZq4XhTBpMfwYQkPb+2rRqv6cvDs/X\n",
       "hY8ENNE0kPfB4BB3BoBmwB4bM9+6kTDAyv3YY2cI2H5CVt7AqloHiXOmB7iKREMASgvz1PABCCKQ\n",
       "NSkL/wnBYuLaNGBWhEpPDzvrCwoMCcNpGF7fh+ozxqPNuJB1q1ofoe3rv+TR/C9e/uYjp9ZVCQUH\n",
       "LKlo2bQ7QtKdfoUMn+SZvwMpZ50+AVGhiMiJV0+Vjp/AFYfcMyF13HzyTgWD1T67CuutFhJo2q+i\n",
       "TRmXjSk/sjaiJ3uGaclAfEI/uEAy+iNkBg5n1SALYEq5IQXO4N+yODRd1QsIO6looFMC3crX3g24\n",
       "GN5ogxUOg+iapYCWoz5tmtgomv6zkXjAze2d9it8L+Ci63x46zj+myFmIvRV7oQBDDG5BI6pwI5y\n",
       "4fl671uGckQo46tNgzG2ktBOzmKrEnNhTl5zU4rnGtUoCFdsrOACGrlHJc67bYUkent2zHGyIZwi\n",
       "62RJ+ZDpatCr6+5JrBxhySp1P0e+1Ny6+Q3lor768NB+B6ruxcBwIQnfUSvZSyJlZiDEqlzCQRKd\n",
       "KRpJDevaentyUUCwpBln/0SmZD2ckeGmfJZlALmXeg7ga76biqT05h9GIiCbCPigigtLuudfCfbd\n",
       "YHAjYa9XXNGpoq/C2U4fbn8yXzw69f7rDugy7vWxUPNJSfaHM5GW2ZVRwWEC8HJUNi4D7gQ0ydIX\n",
       "9m7AM9FAx3DwaywTdA832Dbar3W/Krhd+nKGXr/LgGmJ0pBlHLwewTanJzyOj8uv1TVytrwVaSrD\n",
       "+7xJYRo1PmqsUiN0P9pCJdKNqYIphOhrFJT2zTQXGOTKIRsyaZ5d+C9R9nk7FPwJKQulknKGkom3\n",
       "1NNXFbL68yVf9+EQCM902oWgcqw/CESxDuv3pMgxc7Fp6VbTjJ8ISkJqu9kV5t1YwBadI2GHoP5S\n",
       "PjEbjHuabQY7Yd0IlpIHZQNKQ4qoJ++flVp25jQQYbh9XxUnFr2iS1Ng3f3iioSB39QQ/0fHuBXO\n",
       "nhtoqIPhic7n5r8kN8hA8r4D/7FXe+OUdbEM8vfdgePzwOFktp/2q1FXCN4ASnskkAVArLXCZLDP\n",
       "3Nw3J+9gWNY6bnCGZwT3nsbnWvp752/sKWit458zrzDJ3pRcDLckv8WzUNxcvXZ8SNmUG2tTKIJG\n",
       "RhGSZBuZGQhpBpqRuxjq4mADfS9IitA37UkY1QAJynFOtcRdE0iZ8brq1RDyoLI6IFXLC6vpVLNH\n",
       "gHWZI/xrOU9djGX8qI6llOZXHbkhnYj1dS8s6Fvj4nWVUQ+NHqwO5rnHBeK+Px2UJHjvg8Lq+f4g\n",
       "F+G+G9HYgsl4ikKYVVYm1XnTlGNSNP1wgTlrlta9WkfHxiRacAjUDdjqpkCkpRSM7mMtqwtLIL9U\n",
       "RacnmrZWfw/FdkmHOAJf4WBEuCt3Y/QjPxZ3RShDD7DgfLcNoi1PCxawSFERhre434egBCRES8Jm\n",
       "D3PJFNxgVqBwCNMQXM1E7MjqzXeVtAKnCRXn5dclCWT9DvgxDpdEP+wB8w0ADjCtDj4f7Gq4b6oG\n",
       "3JYtIUFISX2LyVi5nPzCx94agywB3T8JKVo1oGlTkqza3h5qDn3krxBgmISxxsoFNr6IY/wsB4qh\n",
       "02oVsy+nUVp6T8G3tD/DjWsEyw2IF1xzcQhm/eYQP1a6LvZF3JxvvwBmroy1VvjcJ5iq3N8G3l8C\n",
       "+sR8T9mzgWCcvM0SBLg7lwegwZT/9eoop/c0XIIp1vr68RznR1inZXp9CuTwXp5NV4zK9JtJLlXR\n",
       "GZswJglM+SzuU2Qo0Q5irccXpcAsjlQ+o1UUYOyyGtIjjZmpsomgs2wDuL72XBoCBV3yIm2v3MfZ\n",
       "jLAWX1k+fuX3AVEUjisPFebu5OQnGZz9lZtNxFQyz5RgLi/o3E84N4Ix7vGi0Jv+eEOWfMW6KoAT\n",
       "19M5/67QNgtycDafzj6qklIfXvKMZa2TQKXoJ/Zk1cgHimhXrDJ0fyY9LJcJLmY721mIoNWwA5hS\n",
       "9nRzZtx3FHFz0IIepaiLTTcPuweQeaYNd5wwlNn9FWKnKX8WotmHZm1Ni097rLyE3Va3eLXIAERl\n",
       "JSHJPpdUXjQETM2HBl8nxq6ntgtqm5kTffsiee5pwspLcrSIzKgdP+Bufce3O07MKvbE2X+uvDGx\n",
       "AueFW0cm2z9L1YbBStyXLYWB5SHoiwsIyUDybxW/apFI1P+7TJEy+KfA4AXjEz6AuyUDk5SQUAp0\n",
       "gj4OaAnGRDhD+/2Nha1dVgtzUh9hFOLw+Qr5e37nScdjVfvQcLCuhIWpQvMHnxAozdOgcQnq4ZFb\n",
       "pkSav9ZVmswsskAW3YWwPTGEQnu+mBD7Fc3WcMJ5CT1oy9URN7uuJxmGsa8Wr81DQAu80M7vGg7+\n",
       "5OFu1+NNdIUwnxoRJdPGznZizTYlmDCcHYRnlNJw0yeMzAXb/Yvfpnb6V9Z9SgoZWdXrV0rsy7fM\n",
       "daaeLw9pcLMJjSI2ti/QUSVlUcsQ/IQzpvHF8UxJPVa3Ke0m95HZNv7uubWV03gdqjtGeaaGYCKZ\n",
       "X3Tc8+Oae8K2pcbJbktt91DX7ZvMBnEKWl+oVPD+E4HgWe7o6/d8lgpy9pum1OyVTw+zXlApf4dh\n",
       "FzpNQ6Vkf/bcsBz+B0lONqpzpqrnILOCr+le6Au28NheynVjNRTs/z13n3a0g2K8B/gIcq0V0wzg\n",
       "o6dsmiL+W86WMWWKmu60jyRUE+OWQLZlG5Htd2P8gEazPjACqckVfEYQt31MwHA/GOHEqfaWHqjX\n",
       "+NGKGucYPonegAAABsVBny1FFSwz/wDisE97xFi9hdiAGkFH6MfL6ICAdrBaAcmTpATpdOKtpanL\n",
       "czEExTGO/oMynqUXO2B0/j/OYruzpU9sVERNhBnU2KLfqPQAhUG7oTD1XL0Qsl5YkasKo9p2cU66\n",
       "5RENTHEQxOLLpKvK7rWP+xGtOJi7a5EdFHNl/o9lnh5WcbN+8AFmcR45EmSRMtR0sElolgG8LvT+\n",
       "NpCGQS1/5qw3iJqE+4J5qlRnWYKG6sCFpwwu/RjCK1cn4G4VGe6P7fvihynV8zoLmWpmE9beqhIJ\n",
       "mTteAaNnMua3xp+yA1fHwfLhbc3MqHBXtcz/yZN0KvUJgTfybuhXqFN9H48IYGJCUBz+BOywiqsh\n",
       "6WBWyFzL/cqiON3HMlhn4Zb42aFg8Uzd2YloaV8F1p72l3Lf6NoyJBi9gjrw9q+/GHh43cMxfcKz\n",
       "KE2PpmW0W3FFtFiYUcrgNOnPxWv6DDIbmNHGO3uML9mm2T9ghbAkXEPb15F5ll5hxpbdp6CrMHde\n",
       "ObHWhtPHDS26mXK+1tEX3wEa8Z9mXLyRK3j0lqvLw/i3VdgqWVUWD8MNBjSe/EB3kSo56IXnfpwi\n",
       "udIdC+1+iCX+1kYDQSkKAUBV446lcMXnamY6bodr4DdrnA8Q6KBRsyak0/sA/49S7ve98/3WFYck\n",
       "gyYJzfsDjiHlmY/KKKN38s7/jVtqOse1uakboJ6SrAdexxojHuEh2g2LF65Ql2czNSTjLhmHEm6h\n",
       "cxxFqgW0tk4UTqPpQiQJGiKIxwRYNZw4f5TJpGJ7X5TKwcbrlfeno7F1dp6Ov1GTUHN9Fca1GCel\n",
       "8VTcq/mYccpHXFEb3oAuw/3tNgWTwEvEJZrcWUMWxcnWF2/8hOng3WAlju/hFUW4s7i5BRYwq1PJ\n",
       "VKOOqaUJuwViXv97zcOzEPRyt/47LFICGfZzn/tpRDREbwEInv+9QCvjZgs+8rJLx9rdIGLd3GaN\n",
       "oIkH0A/Y95+tVjshF10naMnIlVSQaL/Ppbo7HS9KbgF1rwtM8ahNgW29TG/UedUlAkBf/AWgdswX\n",
       "2nFgvtT8iQQ3Jh9303O+B+n4XaESaOtV4hLKFhIbUImIQ09v0AVzfpsMJivptisusLqLimm649Ym\n",
       "+PdbyP1uisSRyYyXrNAkcYCc0L656mdxAS7Z3/uJ3mu6syTilGPCLA7srETl/IZxLYk3Qq6yF6PA\n",
       "5ohyppFcFKk1zneLDFn424LZcoWL/fkSEd2toVI//Pmzu6sVFZX+Ayn3CZhKZyxQcbxaBsrllojG\n",
       "U+4bElwyM4d9y+GvQFowguSgQrbClFEjIQo2U6qTXCoVi0LDnHH73rm3MkkuFSpcbIf31MfUfre/\n",
       "tKKkkWmFrNszR35BwGN9Msp8pTz7eXT6E0/W59xzqKiNeX7OT3ruycClj/uB5ZBT5oUPogGPIDJn\n",
       "jFl5pQDESHDG3G9BsZMh26EuXiRtRQV6YmdGRwYhOvXLxLnPzuETPgROOtCKis+fr3bkq1QR3B9O\n",
       "j61NS708vneb6mjPGRfQl+VDklYTcImUiW0q4yiOFPddpJraDClGgJ1BznKSb5Nhe7BGoPgFdbyO\n",
       "/TFfuuswZgCUxI3i9O+dXNtOnKyjePOzwsuc0qkmZNRyF6gOMeIMcKptfBuEdtTg/awmavn2BgSE\n",
       "PjrL+wLI/Ctil+MPprjvg3JtLVj60MPmHc4HCLukvyyip8tYb/L76tSnY3+Fi5U92gkQt9zGlvCb\n",
       "aW9ZE0i8TMTFrm6qBWRvYgFsDrSPjPh9wVdZPH2HKptKkO3ZvhMpZqcA2VRRKO603B5JbjkmoKa0\n",
       "+V6erg6KMNkjkscHGZaG7UU8QDX4h4ggfmWtMaakGVStUuSZeyv8vKS+Cg+ql4fBAXSkonVlQXvC\n",
       "W+QXLYtXHCY5LnSJVpTROnCJmYlWgufYUDgFRUBVMNpjDI7fpMnAK3ZbTvcLF/YbJxN5+SKEXT+w\n",
       "17nQyckc1e24dbLiOXV+QhfPPbvygEk3SHzMmnpGRuTJXeHKOwiB5dZKjqzxhsejIlB2fGuId8BI\n",
       "OxWQKfOZ6jkEQCAWUytAuc2HUpN0zAHvRA3xPIRiaAxej24+3dILASy6tLG0bldhl6+iM4hPbcMP\n",
       "GdBmLN5031lglWnBtisErti5WFYpAvsdXvdrMf4Y00tW2FGo974QmgFeNl5EKertbDcmDxEhyEpW\n",
       "Qo2saoNW/yh44yJ07IaWxbd9exRTgRIRmkMY1c1Y436DrstHTy+jGtnIODasZ71XVLxasay66BxB\n",
       "AXOcC2QYyZdEZZpfVc94iz/oWdpo2HbL0YNyF+rqCX0Lt2g2TwAABMEBn0x0Qr8Bpv7FFE4K4lt0\n",
       "ZV1QA2XMCjVuOFM5zpbrPlLrklSuvAPnws+UAUR3Wnfau9uZPCa5ur6fZk3nAv4TLWM6Nvkl6Rae\n",
       "jQb/epn61IztQ3qbsq5BdLvcHFQToeMbQCkZG4hToffcO3fICFLyKKUNA5GSqsTyljOkPQ+yiCLo\n",
       "vxVjS37TcwfAJ/lE01lPr3E3YJQdtJy3nve6T109u7920A0hRVe9iDJ1IzL96wyH0d7xWHX3876L\n",
       "JEgG9j2i3s8Fu2l7OoDwusxYxeVxG1wjqE/XFe1Qc+hxZ+B6SXWbUH1+XS1Iu5/iyRL8iLRIRB61\n",
       "wDeZw6sgZIcWmLQLua1cdTineCrN3laEp5u+sEnNTDs+UdjehulCnHUIq1R1VaCjpnx4MMaEP7B3\n",
       "Y2HUt20e7QvcQPjJlzYfnn5zjRFn3UTu2kgd5Ckl+5Cu+Fa1VaRUrWLfuACfkMT7OmJp82iOc/3/\n",
       "w4KDzrNSUla4g7T+B47oPe8Qf7X/dpxyQXFaWgCcz+QfI+iZnOvxzL2bjb36OKIVxRgK0GMYmqUd\n",
       "uBUmo5ldUmC8G6AkwyodHha5FnOx8QONvypUeYPQeJbQIG4GLZQiJTkjMoas31WZGCisKqire3J6\n",
       "JX6T/d1xTun6H59YRGl3DXNmvsGpXbwc3GQcld88BN9HOzSq1XYLwTmdWKG2OhmR5YNgpkmTJjos\n",
       "l2cZj3nAbR0ILMz5Bc+h0babzg0y2rFnTLCF4gDKECxqgAHVtj8l/rYWpCEoEFABTumEAmK6xy7r\n",
       "hrbcYgqccnKKYCfvHvatVI1ZECl5gGBpghkXdN4wiypyqWahX4Q3n0U/woSzQLFa5haP9SBgUZhd\n",
       "5GtLagpDEiL/43205BYPjqZKWB3ByUdM7hF869tyBrBPnvNWuO21hsbJwbe7zSl6s4Gq4KgbvbI4\n",
       "Auq/RqKRmNG2Ebx1UT+ML0rVaVnz/Rr6FppuSz0/q3U6cXpRRG5MrcxUsmT3vUbnlZ7CB2uFXXTf\n",
       "S7n/t6Qk7i1csXg+ijPvdBjrLCkeQfaORvxFCj8rs8t96o7RI40aqOnvbHL16rgc8TRkVF1DF9no\n",
       "G4LZKH/dZ5osGshns9ucfqjLgwK64QwRp8S/6WBluPFvfq5jzv2XX5Z3yyascRzlSNs24Z+rCNVo\n",
       "mrrHIA0Mna8DzZ+2VIrCQ9ASC0UhqFLaIQ1Gn9y6ts0yN7RjRQ5Nwpes5CrBgJfGIMF/75etARk7\n",
       "LTLQy+wk7dwgXlAIRRMOnEBaFeZQXGQLhuWv3CX8X0srt/9RkrYWG5KCVXB6MXaB9QYtI0koA1UR\n",
       "yxGaJcSfkIVWkUm2B5TKVu0sFGazXJJ/muG7o2Ep+6RGYCC9GY/dyZogGs0mQu3qL+d2TZxqOFD4\n",
       "F1rk3ZNzhk3r6Wfxcu9iYcGXJA0k2V2CRHM2knwGnR8894fbNA2WvLAw/uCiKxLmP8jysxPXk5ut\n",
       "jwQ3mGcQo4qriQ3jfWUS19iTVPv0aWxDhwkZ1uu2krsK0WaFgxXgeQ4Y2qdVSdWpQY+EU5zL85jA\n",
       "c/e6gTn2hymLDwjQGzkPQR+hDKm8rN+yh29TvVynsTsjcnx+Sa8CEDET4I0lQo7gCxrsbvSJ1shX\n",
       "XfTqgQAABEABn05qQr8Bp3THLEB6GtIiAAQZkJ9o2FkCq9QXirvpczjQonFjsSX9RZU6dtOPFGPx\n",
       "D9wVF5x6BJo5MQTysKv73SXj4/YoG/O4l3oTH8td41E9PZU7T44RKL4xq4UYk0Zfn3PM06lJCMfB\n",
       "gaUQMg4BkvRucjoOGElEwN2ngbI2Il7Jj78YBrzBrfrWrSb6JwgJl3t1P9Vr+hUsz0V5VgEFru7B\n",
       "H5Kn6LXm5/+zFfiMAMlJN5WLic+RChk/fFY1BH/ncmQXxgc9P4tg65BPYHh8nhrMwpKS62/JQF8h\n",
       "VWWeCE1AmW87A2acMStdisjmWybUBSjwq2CP6xhq+PpO6SWLENLNX0dFOsGUXgy8wcvdkAghkvjk\n",
       "Kwd0QZeB6MN5Rf18O5Q6tuoAOzLMjUQmHhQWD3Ed9r3ITr+d5ZNxVjEGC9SIUmz/TzzCa8FAqqgv\n",
       "rxY8+JJjcc21XO0DkxDxYB56KESxhiWFdfWmGZz8wNfRKLUGoVXoseuh98UUQCk5VdEe1qWwE+91\n",
       "LRGBtBBRMg6efSucH1dHPw4+hLKRVfe4bqMYfzUcyd6a8ISArpg8pvX7Y7l6rjxICJDsTeJkz7cG\n",
       "rr/AB+jrnnvc/IQXGC2G9oROiTnNUf6jziXU62vGrBTlh5cERnah80DUpO4qKYfYe6Skrcpy1nz+\n",
       "x9r7QA0wxMTjP9E6JVeNRX9EFEw+j4qFqdklROj1xNpkAFzNDghl1SGKdwKKBSHtDroEo//ADlol\n",
       "Txnajl7LNJRROmOzxG+/x6cwvU27rmbo0AsIeYpylwc9t3bm8CAvQXouH6D8xgoZmF9dBpjx1IZm\n",
       "PncrB1+pA/5HAKbS9FFR5dm6WQupLXKyyYnD0aqZjDoq8VsXpRk4beyn0izvEEo8G8BT7EVNxiO/\n",
       "QGz9XKvo74zz0yEhotX+byR2M+L92czTqoAsHVPfqFr8gby1zg+tI3wpZlFIOROQRMe/arjB4rnc\n",
       "daOuCkgG+TnijBE9gpZDaxvuFu4/T7u/4fcFI4GXwe+dfYGz6IkhaL+MtfnCMEDE0Xsq+3NGkZ3o\n",
       "zv8mrZ1a3Z5LFB/R9G3kNXqY3UAzD7oygLxqxaw4CU6gAo5zEycmyuRiGaGwdMoWVsWguZXiJ2DI\n",
       "qmV9QQeT9ri3d+6EF8Sv/WePoVMXGCj47M+3VHexPEcrnbQjbcsuQf3kxFE+Odby3j+b18on0NHU\n",
       "xV2Ox/x12Ga274PDY0c4vONCPu4G6r+yR5pch0J659m704n0H+32Rcho6zW3DXZ2XyWyFScbCrkG\n",
       "yiI68z8XYnnMfO+0tCF9/KIs50yJ/rYFj+x6Fbyz3PQ+zvaAIFxwKeWsFlYjvKBcscIGKhrwH3P6\n",
       "L0upVDkeE9k9IhmTh7XRfuQLZEL7BYV0brKEjbyJ6jg7OnfBokpsNfJWugotznZwjdIQ54/KEULY\n",
       "zlrJl+DZKTzk4WnYEQAADXhBm1NJqEFsmUwIf//+qZYAnDHmpDSdDcKgCNw6PulvhPvblReFowg/\n",
       "z+7xkDrmrzxj/5Xf9rKbHlFErMw8HfBQS5e2//aZspvFCmLO6GUcHPzjK36T818b2tyYVvYb03+p\n",
       "MB32LGkYwLbEGq2v0JGX+rNAyanKb8lkxiIuJO1NfWHg3HzS8IV/AJkfaMGt/AkWKVHBaGR/+yMt\n",
       "kM2ABkP/+Szqwm+W34G0VMw1DLlPFtHJ00EqWkE7TktOxJz77LT06GAGzgIau0q20Si1rkhEPh2B\n",
       "BbDEOziQ81GPHU+5cdJ1ffKp1zgWdJAU8GmI0g8mqbgmbUNCccwg4ao0/GtFG8QhTXHG3LUwwCT0\n",
       "3SYpPBrFWfCIdp7Ck55sUN1om0YD6yo4kJezLOxbcP3rJKpGrOwtvmX4y2jGZfGfITXkq4LvqhNs\n",
       "9tHQBMccY3bsr92DqnGCjXrtgpMfTQvr1xCYplRfPjQLuSjOyfZiCyczep1LyVx7Flrm4Oa8Lx2y\n",
       "qMb8jW170jTUCP4UONleqDRsTlXFRnw6e9RjPDRwCmKMxO+bnErw45tfvNEuG9F/GEB14VVdZi4E\n",
       "WiMeZmvDlN8DNUyvFMthOcvZWuKjxZXNaNH+NYlYa8buwFFYtlR5/S5RF6eI9/Fkg2NeUUwYiErF\n",
       "7HqDaKNpt5wIjiQgumZUuORvmvshdeywD7IPb+AUg1XLYTRDURJ8LQkOoJLM8KlRJJHnhmK7SKja\n",
       "t196pFHYJT/iBjjYcnSqTMZXjLlchSwTW0ZCDzq67yZUAVaZ2qTiyK7lrRH4Dze5HW4xWZZ2LTLd\n",
       "qaQpEJxRvCWfCeLs0JH4n+RQSkLNQkkBRQhmbwBzFZZY70RTq08WYPlKck7IvckJnglrm1piN6tW\n",
       "MJZB3g28fDAYSqpkisRofm6i4q1Nz0+jjx1Pp4sZPNMknlJzU5EsjU3q5RlB+luALPLcS2VI6xGF\n",
       "IFcuwvrLjT2gkRDDseQ+UFtFODG12dI34VPKD2OvUKmPDWct2Wpy2etka1CtF8U7rAW94RYi05LL\n",
       "9IP/gV38Q+PW5PVDH04pdv0XbkumlPzLHNHGLswI2CfwtZw0xkc/ldQLOuL/RXm6mycT/aTL5AAw\n",
       "lkWF8tpIR9r40IzssNUsZRJffIALyws6hgwwGAzv9K53zz7INLDT+EO6DjgXRBUOj73Trn21xS6q\n",
       "vWXbB52SW86vFHWaPCV8Ac52ioReHnfcVk2SNziYxAAcbFG17Ld8tGDhF8JrGujA/LWlNJkuwaII\n",
       "zPPP5SUpatjHLokUYtN82iXF9WbsauntwrgXk09KORNYlmLMiI67zaQIdBvFQvuciriXJ3ZADX9g\n",
       "TRcndl1ShudB/H3lsiTvwZZZdwCW1OouLDZgZrDyGPUGJraKszeNW5kFYHieAg9aZ+lNZ/xRxOIn\n",
       "lviHre/+unM0av8ZcCsufPcRlohLGXSRoLBbTq3uN1LsA7+l4kSKhXLucicLJJY5O8VBIUfZCOcD\n",
       "G5G7Wxd3BrDOEgkbkuEiA/6wDRueh6Qd6ocWAAiV52EKwk5UZu+YyNdzn7xgpmRFDhFl0V7hEWrX\n",
       "ll1DV0IpeyKAg8DIiNm5sYaBduavNeta9F3oZ8jPum4U1WcH+h9JzKCj/fenpY5OxnxFpNgLmffl\n",
       "qJO+P9IJe27UxwJ3hS28y0U0Ch8qT2XXr76daWetEtjk1z9PmfUVNBYWeVuChnv46FBUSjzP2ca4\n",
       "V1RYM9Jus0jIgrMZp36wn3EoNOpxwWB7rIRud5RiLXkaYRMDEJo4q29frAqiTj4hYCv7AOS7XUO/\n",
       "xX4uMfVJrmYNhLWQXIWPUYhsFjq3YQNHkiIRvvLPJy0+UwL3hWLqcV3/hWt4qCvc+0p42kB5/bYR\n",
       "2Ga7TftyAkDsjb+mSERifEnpYp8fvmguNXwwI+E6Tp4t3YQXqK5Nc7YIVJJipV68AjlOzCkhlrNT\n",
       "YPv9OI3hQeRMeUCnIPGgjKbRuZ+kG61W80hh/HcdNoF3sXdR4B3j+GlIMreUYvHWhgx/SZJhYg0P\n",
       "ldh5Roj8v5T7++Revz8Fn+Kt3I6D2LwiW4B1W/C6fDGwFUWDPMNaYkUGRA5GK72AvZ2ZhuT8VKsu\n",
       "XshnZkgK/AWMJoSzK5S/ML6cE8HDCyeupJ9c6pqliF676/g7yKugWG5Pzc+5NyTXTa1M7YM3FXNq\n",
       "4nl30FJWiVnnWRHqS/MRhFABd69HoxGT1+GdLes23SGQSfAX2t3BGig7bMvOHEK3Zxxi23QlrDiy\n",
       "xRbPSfSUzHAq7SoDDH/zGeMgeMPqMkML6g2FvQ+o+lwGfDmNtOtjkIaYHTFRHpedG8NpteyNnxqf\n",
       "dl9q7seCfEC1wsKIA4FoAegyc+FCxCmlC+ZfCjXWBQOYsjTFruuuj8eBLk7wh6+Ry6oxhu0c93wL\n",
       "n9/Tyfi04Nr1A2G3Twpdk8KHaWmO8oasj6QHzrPzHrsWZ437nPYESfjS+PqEEG9+F3cVMtq153dj\n",
       "vPsJTjyzgp9hxKtgOJtulvTfaA7dh1nssExvZx7UWg9XsEZ6h+f+0ziE6+JbcaNKvhOaasa2bB8Z\n",
       "S3ETWNs+avYz7i0HnfRyn/mFPFqaRAiBez69kdTpLUyPQZmPqGQtNkIwttjVP74j5cEhyRvjaaQx\n",
       "WeQUhJhnghROElsCeatpNInpMsHxlg+kgoRlShJlM9bJcHyWYNpD1fvLAWZh8gTkAT9kFULA7DuP\n",
       "mlkgQ5e5yY3yXAuhWuHJCT7EK+YXJiuWhi5uZpgK+z3GTdAGvXjCjlUAUXTq55pu62g/rCiEp+2f\n",
       "Lc6vPZFheLSfhtT2/LCq2H3isX/pehkfmUq9S9GlEShPJXbK6RLyAE/QZk1SOkULkzulBU/a9lR9\n",
       "35gfZA95/a8kVv+YuraQoxNIrOamQA+/twBDnblO9v5Po3bjdrsDOLVJsRQqW+3Qq1zQrDS1PR4f\n",
       "DeLA/6NnuJifReKUIXA6mDvo/ZXf6CwceWPDOYEMFIaw3wPW9Qfe4TssluZsuVR9FJSyI1I5qS1w\n",
       "/02v0lYaI2Ql8eGXbFBNpgnai8eLUp5fh6QRgHt9r8wlhYUni6lefHWbArlpGGAf3D7CN5xGnihJ\n",
       "SAJukFijo7+vJP1Tl0nk8k8Yg5nLdU/sOuniE2XciFAS9W5U9vx3ddAolyM7upCnCSY0+XyFgUMo\n",
       "faXg6sgFgkPGxdr7/TySNGmk4U07tnotPNCGp5HCVpN9yU8nbC/t8MBCOnrVGhc2ISGm5B5TiB9M\n",
       "M+VRbA+4oBioP7b265oSL4gUHJ/YS763kXWLljKlwmim6Akx2tYpg7KhyszLkp9MQbYf1MWKJajB\n",
       "15vFKNVu17VvD9Wx/LXOiY1UN2pofwFQI+4QU+Rr3jE3mMWR2oH4HLJ9uJq5wF0+dJAh9un292Za\n",
       "+4rjPKHZYz506tSJsyGhdqJa2sDiauOkDmdc9ERS9pV4GJODuzhgW3CJUVErvOTIq6/n5krscnEO\n",
       "KX0A1scciqehwlyZZ0zveMrrf7e1BU5NOZv6XxcZFayXP81S+xYUGoG6KC9lpnWR4LQqGhcp5hEH\n",
       "dpGWEkv5SQV0QnhswrfSklz1y1ycGhRezOcQadO1Bl+mGG2rZz2lqvDrwjbFgYz6+SovP89+rMpW\n",
       "GgI3Bgzc84E6ctiJwS7UKbNSGubIopqxVq7PUF/1avKwRdSZcUbcLwtPj/V7AhWn2bUOEzf5rjLa\n",
       "uOLvAzp1oWFazVa/rj5i0N5/Q40VkifRVEUme7nkwXiKkTBt7zuT+vD5VI01jJr/bC43Qc86bbPO\n",
       "r1i7C2pN3GCQxmJPpz2gFrQpJWMgFzwJ3hf6XSwirE7/pUekUKPp4FlWJHXQcAmG11WF1AH2pdDL\n",
       "oFgnkoM8mKgKF56xJqOqNCMYcBsZ8NihrKiB+fUEOnL6+ESSuFxo+UTTNAWDOV986jTsdBQ/j//8\n",
       "OxLOLER+SvFuSbKyirhugjonBAjB7eJmbBU3WqpGOr/Ta8MbIcODPc2sLkj9ONyxVe/iJqG4XI7I\n",
       "Jbkv38MTLAWttwEQ0ZlP155DPey2Pz5l4ri9MFOZFhimMZm1NHoKbY1PbhWuOwU34LxZ7KA3qDmV\n",
       "V8c3BQlOHL784+ilNBln8enMvwQf6+dXa33QWjWLuqY6XCrjFcwD4ZEvGajYUlHNFTOoW5xMiaUD\n",
       "2Tb29AT7oEu3LI92ZFwbtJSSVvI1GLwk0Qt5GCdNkKfgQIKXVxXIdq5a6GlHJfBUcN3JM+JI2YuC\n",
       "aARviVP1MI+CRxtTTANac5C1VlORF/y40Opr6tFcqi3Mp1X0nfgBV5yKqXuRePTMghnRAwnqA+O2\n",
       "zmdv1goL1+lAkP86X8N4cseO5Z52Vra0SSgRtchvP5yoC5cg1FZJn2s3d3Gzdd2elvsIiwW6OUuv\n",
       "fIFibWDsKsejwe4pA3f3z9/SoxuOVqvPpW6Tq2m4d1ntSKOcXl3OjD58UmcXb5+nEqNdvS4rGn3n\n",
       "8rT//v8F+YqK22YpoyQCXGAIphWzC9tDMHuRmWWu1ZwGp0lgCQ8LcjSyf15fah85z8151zzhQxy4\n",
       "DRJeHcs2A1wanQ2szot6d0vGGpf9y6TP1FaTbCSYLoaPkMuqJjNfgZy6V97eAAAF0UGfcUUVLDP/\n",
       "AOKwT3xKsicc2A22KsyAbDwQA2p6ZZFdh3AIC437Ifo6h4vVixMcv+J2GHF+6Wb/JPyNOb0TY9Yb\n",
       "WuAPRCyGTpVj+qSHfo02tEw8oShQxivPEiEs9x0Fh9qBRnzj7efgQ4QXAQmzyJWWH4NT5oKALemL\n",
       "yA4IogQksCR9y1f+GU0i8JUyNcGN+Z4tZz7TfmBWC/cTO0HCA/wtL1Z4JeAaRjfvBBt24sbv+3Nn\n",
       "S3R+Yb2wtKG/Xl/wo6AhNmW/j9F9THZunvB4+Q00qbjJ58HXUxQhVgUbx2OYFdMb0Dq+PFhgTXLz\n",
       "jlC9KQB7gtYtItXl/NTjV081eQ6sSHOQwDDg1EFePfq2jpIRYntgZ63y/87fwKChEm4s2LAmi49p\n",
       "LPfD/PXy5KAMjE7NCnww/GP4uhjJ+fOCIIIPSwPHJPm6BlLyaBzRcbnqnwoe2ZMX8SKy5IbODHIj\n",
       "fgI2NULRO1Nd9vq5gaPsTlhjLrHt1rjZNSr0qXWHy51/W4zqbEK8+r2n4sK05kz65xe5zxWDXdh+\n",
       "m8J3gPAxKOlWc/z/gAlLgsUF9yKLGFId5BkIrgYAnAAVJwe2KBBnntCBF8Ud5/DyIlAile8WHAdX\n",
       "lDPPW1lswCFVxULIHwTw3MJ/SLspRNeXqC8HX/G4adRuu3wQZFSI1qzUmBnwZZkqM5/yYPPygN9H\n",
       "xhiZu+gxKyOk1Bd9UturQKcRSlagawpPJ+Xlx+jhqIKgdo1qHZ3dvdlXwqfa+0/G9mm5Ux68j1Vj\n",
       "reGJ+g0ZU+iZ8XUkJ1LIFbiRX87oj7dtySv2HKARCJc8d+mJMHljBVpnpwRAK8k5JPLs/sxxBuGO\n",
       "pY2lIGqJwSPwLaoEcy+wT0dvZKpP7tlvqDvQg8NX275De7aqNO8OgHf9VfX04CJ+/g8L8uO3bVxC\n",
       "0iG3tcJtI/TdcNs1VCYvoagTnVU8I6QkpNzrmogs0fjyvyM//LQqoA6z8PoGXg9L+PJc1UwH6H+r\n",
       "bXiTmwZENceeCIM90EEXMANkVgPMov6NJg3eax9nSjlt6pBptrVTBblnhnXdm0nbMnf8t6ilay/q\n",
       "aX3dTH5/tvKsLusb/PPNGOwx0NV1zgv2t7Miv6qtl6c4SmTPEeIBL4As9HECmbSSRp8PprHKSN/J\n",
       "AVk+VtfwNP8NO3tpBnf0PHC4p+vGFRPzp44sCVXaexC8XgQxLdmztEM8B45dyoqI4E+y0XGZ7+YC\n",
       "82/IUVsi4801zQZVsW62gfx5wuN4oV3t6w8FqqoB171Hqk9l1iqbevSs8KcQK+XF5Luha12UyLpz\n",
       "Ra6rT/L0V/lVk6TPIFz0s8O31cbFA+qd9jEkihty4RppbCaRY5btEp23bZ5qC97XURaAPebsLbkA\n",
       "mz/kE/o70fluemddxAH55IUz0CpdLzKzGNJ7Wgg1p3P0YhtcH1QISeK4DNAp2dXVJ46R80ygDvg/\n",
       "5dP7+wk1Q52m12vsAVzh5JrEJipBPpo+LPJ/XXMYcLqrMOo9KpB4bj1McUdj9zax+vWC9F8O/sC0\n",
       "IZTym/hVFgYuOCdOjwt1qOnhOdCi/f5NCKWUzusuzPzDFEompLPgqXreHagpMHQo3g6Ifbuo7pnX\n",
       "rAyt5QoZBZyVxwd9J7v5di3bQ+Ytv4oyh2OV3O+8cTS0Hg8VUDBRR8ABCbQN2HhD/F4ZOIHePSdD\n",
       "gzwA3WlMIYgR8Hi1W2qKWSXSiAM4e2LzTr2MxNmK2rpEr1prhJSjIHEHqrBZEHmecN8Nmwaa88uJ\n",
       "jakQAe0bkawr6TgKF5fJuRWaxw/I0l3HRCQzCHX7Q4a9tvOzdAgyXJlZDulsu3ptZ6NgwCtokGtx\n",
       "KPs/V6fz+Me7yBESizO2nGYrdNmA5wFaq9Q4NWQ2aZXt+fv9SlL/IT1EK9MIFYVg9K1CcvWiPIh+\n",
       "51Z5bkUu80jHr6GWKG+xu60P9aoVSjcoALKvfz4hAJ6UqWLG36HPKLLeF+bUHTkqgPGTz5R+57QA\n",
       "AANbAZ+QdEK/Aab+xHcVhs+PNQA/5/TXCKfUZGLBg+dq1/23ApgF8nyKVdws3xbN2C8ZbBIc6Ky2\n",
       "eDxPSpDUp7eXZRhjkLuvveVuPX6N2BvGJouznR/1F7TKCsOpju2OpA0o7CBeqBbVlO4OEd+L+dvA\n",
       "Ha8EvjW++IHc3gPMaINQFgsCT9HRKUP9tzwjeSh/o+9E0sqmO4fIYrNArenOIMhW/kZnEleyLh0v\n",
       "Gryt/P+uSHYrH5jYp4ODfy8gWcL5qkHh9rA6RBNd/BUG22Z0Cv79p7YUV283AUceaqOeb5uCsJIi\n",
       "IpraOyRcTZ6cZYAtW0+NF4FBsiERB7wnTPuqiIDgqUrlEeqUUha7sSNdA39k4M4ii5kqLoPDOIFU\n",
       "zxc7lftSuH/ObFhmH9JkqaSft0WvrA7ZO9UVInPGEqdIPK51roStyU8ktuusRGuvw3nMXoPW1obi\n",
       "YRlRorp3E9fS+7cWtX55ozCS3l2Ouu75aAhqmTh7hivFqd37C7ZGeil5il/sVYe6GRVoIVIB7ZyA\n",
       "FZ35YdOIj1FbWkITngl92o+bn9EsTEz1SS0R+DeC4VDzwRgv5fq9CMC0SNbRoalS4ocx3HWpZRvT\n",
       "IfdKwqZP54i9F6GmfDy6tXTiCKNO6YP3xeGGwqNvhXA+ZX/JjayZzIDo/pD4u1CfVfTXVkcI8FDK\n",
       "PBsGHBaAK1lt9IA+6WxR4+OKr+wQxaQz/fzbygJEmGPIbeBwkVE4QKQ5WJjLAUDckWg9Q9VzT+L+\n",
       "ziNMjU8htsACVukRzXz/1p7NRfULm2TAGoazZflHHBixhfrNxb+mfNQZbKeHuTrs48Nz7ijVIWkd\n",
       "rRWvGoHh5D6o0FjwPQJ64upm9Fs+Tq1B5H2Y8tBxw58+q+Q8/RtKxSxPp1LxZg/tZ6iaRX7P6mWk\n",
       "F1pMMMKtVzb9FHtG3vyyqX7awpzrpgeKhhFX3HCIUpwbR/VO3VkjSdACYcWA5IDoQvBDCER7bhKC\n",
       "RhxzQtXBnChPV7dRTeQBi1T0oU5DTttrtoYcnHV5be5RhnDCl//3Pj0ppwlljz2WoLN/ksIhokHi\n",
       "zGNEsmXYJ7OK+DtoBhVRi7wFhHulFsvUKXRQjXce1oCmcbgjMBME6nNgX+8UMRec1T5g6+so2XIZ\n",
       "y5FKOcofsQAABFoBn5JqQr8Bp3TGxRSHcUglOYMgCEdlyZhTuvKiUp4TmpP2UsGs2FpTl3g9MY5V\n",
       "pbHOnTZkqDubaapl3tSx7+plNxsf/u0Chb0Bn1cJ30mcjvZLfCa+bvjgTSVmt9mSL6KZbSG9yu9c\n",
       "3Aa6VAVxHvrES6RRQGvtX0eSXZ2s8FQJ0DyA4Vhd5rDacPlud1NtPuHiYNHgUa1B3Z+dVz5Pk2AA\n",
       "zE4yHrZpQhovprlL/v6PItxeXJQrNM0FjvS8ssttcAMun2+3BDd3I3TP1o7HKKcdvZrEqrYTICmo\n",
       "HyrWCb6tJQseECajTw9PWVo2AlboAubXM8HUOErb5JtKURzcMf6KbFrB1EKX40EzfzJThDR8IPH8\n",
       "JcSMN6DnTw4LDUvQ8DtxodBVqsTy7LfV535BkZFvmmwGa+Dw6sq9V7iPDOMfULhs3qr0ruef8yJw\n",
       "5bAip0uUJqcABcIn+d5a1Y3oqJdmAiwtUzxvFlH7UL+Ox24FDPKFQ+8wHCXW4xiHHhyhhPkOnKFw\n",
       "q9p0DW1sLHBmUB5Eyb1jLshH2WgjuevkLc7EyioJBdDHCiRiD3TW9KHS1iBttv2SYS8DJF5tkt9K\n",
       "mgH1dB3/HdiiBsMthJDib0w9R8TVwFLo3HWm7ipQuRrVYoZ7xbcb90Uc8aq7N0/ylM7eM0jKHhja\n",
       "kRZNcrFMOZ5q1E+ok1ZOHA6+PFoMnYTozDGSfjynlclOnT49QKO+gEZe0qTgI62mjzFCkZP5B5vg\n",
       "dJFHahvphc9qesSDpyKZaeE5HPNTvjgxPhMQD9ZDz3vOhKnCK9plgbC4hO/vW4fxPQY+7UjUYLgV\n",
       "po25Z8wW+LXX4YOjkYQzorp0+xNN+1KGhXjckBnorLEY0WqtRG0jaYr0yLzFlxeZwftXcOLmriOQ\n",
       "U8kN/PtEC1oMykAyey99I9ng8b5e6K0v3idIIxEJ1SAGDE2IglD+wfwM9PMSIBXhQ1a+Iduea2PL\n",
       "N/JazGwuwz79d5+ItQZsdgDHCkfjVXqDwaFQR/4BufS83v8uSmk3t/+pOIIKsDo3xspDy3Rd9Qtx\n",
       "/jYUclJd4hiDTPKO/xdAxq456uHs6P7iFN6CEJlxcTxzDvwSQHOW1//IsbIHDPhA890nAcnZVmbH\n",
       "FCbCG98RhovbTN9602KwiwfwgI/4WgJ7eZQ9Xuny/rcZC/5Q95DhKBsvYJTUyCXEI+OHyPgDUyr2\n",
       "NPj5ojO70GsPnenChDyLaQp6Fd/Pd31pcvwwlC2qWytFq36ZgrCo3B41+ek9cVGjoPECmILYbBD6\n",
       "K0LGyTtoZ9QQkfOKTFuPFm62TAEj7NMiur6cif1PnovyXS3zFcvTAQgbiFH2qwwDNoYQzb/0ZjyH\n",
       "YnZXdME82k5L/ICew/R1THuXUCkR4l+cE6RXkSsrPYqilCyXpyGubuq12VAIKOL9nSZi5lndoSBZ\n",
       "3cro4w9VDbLWAtygajrC/4jSVWjeyX28bYpz+vRhvxSUzwVpXdn/l86mAAANwEGbl0moQWyZTAh3\n",
       "//6plgCcKnQNna+mHMCh/9vBlAALqY3gSJ1RIQ5Mk3sELw0+mF8zEuzAID/SpkhCn6Q/qnrwrkDs\n",
       "8Um3J2XTOPn5tPfwowoX1fgD50oC39HwTgyxzYjpJ26XdhJMb1Ov11MdgdRb3oJQmZCNlFypdaoB\n",
       "oQUfZJd7+I8NRUWLjT84bkFqx7f9vXzux4Lcf8P5PDoTJas+8wn8ni/VgnoMf8rMc2M4tXEPr+CH\n",
       "FTJenSicA+jsxienK0Vyz/ASUeGtSdmGuGts37YaBpEZIU18sEDVjcj1dVNiMawV+hV+0ir0ZOZJ\n",
       "rOt+ACu3QqCBm95EMOdiIYMgMfTkzSFM3HQ4aPR3oQ+H+8OER+Lu0EUc+vgtrNF6J6Jp2gunyI8y\n",
       "qTESoX+GXQnU90TdjSn48rcLFecJP0xZw14OaMAo87+HSIAL9AcctajdX05V16NHeqc8VMx7FBWx\n",
       "h+8sqLRXubEm7dEP+fmOwBktIR6pCtWDX6So0ybzJwGJI9Qn5lIXu6b+wCIrMJsnWOUYfwEZtpxr\n",
       "kWXgcmEeCZBNwxkYhYoKC2xIEuzemqjL1oXLIpxig7zDDBkCAz+aKb60S9cjhVlNiI/idqW40Xgh\n",
       "kSN3vscB29VrLGFYBeURHzrc78986j+93exSENq1eRYbg5XaeLu9voZjpOA9TmaiDmglhvbqDl1i\n",
       "XxOAwkOyCXJD615ySehfB7zRgYHwu1N8xUmOhI13ETjNOrxvWsttMyushn3uBu3KLyTGT2ghqpBA\n",
       "BJ2OY/L9DZfulktBljFteLwNrjoaBb8XnNGJPJmr0Fl2r0PQKHJJqNM6Ok+MMEEpOoegk4RdSOVN\n",
       "3Q96NCDsshNKOYvnEFhfUK/uY9pRXxGFvmUPpCG59uhRHg8yty1LOA9bzKDZCkY3MKYSeAWuE/kP\n",
       "aYDR9vL5avWxxbv4jkbVY2oy/pV89pym7Hs3nST9yz7iSWT+2BE/8Sl9zyJwNKtMt4dSA1o6Sm1H\n",
       "/aDM9P0oc4HROv1pIP3L0PkQ04SV0J973QhRbdn33zixs88IVdqcd6/mG9tTPqlLnWn4hyLg059/\n",
       "6Md7xcXg2LlGb42B2kfi7PhjD3QE1cC3JQdPX30qtM1dlWK6UsSDdFlL7++FGNdDCoakAk9sAyil\n",
       "ixJp9sMX24+sq88AP8QcbtOu/aXudM+8R2OlWDfBzhlPnZQACYBRm3yIBibn+qtX3XaIvsKmLN3W\n",
       "LuOhQdMfhRt5LDbaebetWTkwML1ELhK26cd/ppwcZMhzc1IedkIZy4dwk7CW0A4PNOm9Igk9HAeS\n",
       "bi6+JOnipnMQ8NRDq69HULN+A6zfDbnWN4cZ6H5t5Ejcy6bxALD6wt3ogQR0cInbHXydfxiENlu/\n",
       "eMlCZJWeqPpxOqEI2nelZJETeEbYABP/E6VOuyDCQ2zNneiIjg5woEuay+3Qr6kHTfZ6PBzzjRXo\n",
       "12akbQRsCBRJy2rtvJa28KPEbac0Rpwgq3zrUjkz2N5xISsCwuR7UOKOuLQZ/3PpX8F9jic+8/Q6\n",
       "o9cILnNPt0QfIYK6qxnQ1908VYU3wH+o2rA27Ry9kDg2LI5bSr44AxQcRbzKSsHs27nlVB854MQO\n",
       "O3qGLf8bZ3LQQxtr+aLM4ST5Y+IIbzfu1d9HnLARz0AygDz7I3THcpbdTNhnfW5EIzg9fqrYNhlt\n",
       "rYctWJMWJ07w68jV9Tu+mwobJDYtV3uqSQeT3YOeji02kwxtzRk3IL0hVPb4gvJb06029iPfWHAl\n",
       "FUDDsW+lNC3fuRUYZ0+ZjwPIhVnqYdNMUdkMVP5dtmshHlsVRpJsLH4zcY9kd0PkGx1eKifAdlEB\n",
       "posYj5gVG/dU3WYNQaiEj8jPva4ZHIe4nM7Uw/tbKuQ0bEnjm9uJez1i3wPzQZajWMsxg7Lr6Wkb\n",
       "SJnM6s9RlnuecUE2PtGMyvLSrA6d3H5W/rhT6s6MrNuneIVrYennCiu3OylSIgoTSjNAlCId3I1W\n",
       "6Ipd0oEC8fVVpSxs9EBIp6WDfBFBCYAUU++WmkxnnaIXKlK7Ke6knpt08FkKQMejQqnSmNMdX2T/\n",
       "YANJEnvA+jhdBKyfdkRy1Z015yq0pnRMJwfAwsfOTlRoCuUaKl+kIzpxslozITlMeOIUgNzlyHdE\n",
       "qGsStWgLutQKGAfQsWiZWvl7SmqUcnpnO8XpHwFDElF9R9Qd5yvcfbe2VuJ9bzF2vNUghvsCLhrn\n",
       "MmX3/d3GuSF7ijrWDS6cTUMyetntfgGLiU033Ep8ic0a2SXHjaNbfuCejeWrUrfdvPkMuK0NQnx2\n",
       "/AsrL1T5Et9lvf8qDuMBolvXdSiOrunqM9VbrDKktWljaW9I7PiTiFqnUd6nsQB1zxhoHRaSixyE\n",
       "Yvnrhmbr/El5GPxN3/4GI2PKO0sMOt697xGB2vot8gYmqBYtfjNpsXyX+XwEGULBEThWhVMEApYO\n",
       "/xxWU24jLoJV5z0BOaQ3R3tD7X4RaUwhcMJLFHl0jhsdCeh3M/TTKvDyPZXsJxYYkzYY6CKdJnU0\n",
       "9JMhgJOgxJNTRTutuOPRrXxMiG8bIygqgWjzI6DRJ8vOeakPMB/aX7xxsCYilkvAIULTm6sksYGV\n",
       "jr5eIfxKv/rnJTe3pEhdOTyMZCbgw4/TijblnSOOzuQjwe/4x/F60yEI6HOpd7RQhquokJOcfSql\n",
       "nn+obrOnu7m57KKkA1J8ugf1R+I3kyN9W24mv+nY6FgulNs0KEm0exMMofj7YTyn7nUlY8/C4oBv\n",
       "6BkaRb8qIOLmnlJLQmLdME49LdJHXtb2SSRjyc5gRyYITOHGV4+mzIOZj+jRAIqJJpQabhkwkcUI\n",
       "7358hGCBi+Acau4t56BJPxuKQjkcjM6zIzpMzzn55G2FNuwS5Bov0pIdW09DIOGZRli6TGASOgzn\n",
       "OIFfr6Dn5QA0pAILJc127eg/E+0ZPXK5XG2H7PkPQ4oC48Yx5H++lg9Rm6ZpTloq70rm7Bi1A98Y\n",
       "1P7jfPBMZ3uxVmg99l0wdQxgy8EXu8JsPbJAuesmxcPCc2zRUlLL8wn1QkBWN8hZWaJH/Jltk1Fc\n",
       "ZChVTb1Sgc9OMsyPhpOvcpZHxMngOASFF1oWH/h0RtCpdjDGYLW0a23Q48Ciy6w8H7E6IFhlyBxz\n",
       "VmweHVqfn48XAeH7EJUDO1STz0q5LwVU0BqybVE9P6EqDSMI7zibEcSqRkzpVh2NXOgTzs615ykf\n",
       "VT/R4wNxHoimHi0qkh71+ji/Acjv3703y57RP+1me/E02+KG8V3194viMlnGLC+0Oxh2HxjDzD4l\n",
       "lICHmjd5rMqqSvE1l1svFWoYxjl2VU/D3GWMjK6BeJI1cVLd2II3oBVgu0aKWxlN8jPLund4IHSe\n",
       "JQvEdFWeJMAcfs3cAKQc0zGnX61IDOPvtRjdFKF/pJqAnXC/OIE3dBFJHl864NVwXmY4X6F2w/Bx\n",
       "6josZEAvwgzZseKRYf/zB4ivbcOqdvydT8mV/xkSQBPanXfvBldFzqfVa85A/BdSVYnHMhvb9JYE\n",
       "S16/h2WCvDnZATJhsJ809YObKgPjdA/WjIK0mWQ8M3HQejVy5gC+L5VildeuxwIPMGwIRW3ESTWF\n",
       "+w09QbXUhx+QyqzaNMbC2uWYeZtZ0Bq7Wpxi1ElvcONnWHDfDRou6kaU0GFGT78o5wTm82Ccs6Z2\n",
       "ZEpfvuXhWTLiQsPGiVls97V/nsUUGseXPvvWBrwr8Ul6MyEWeN+CIKK3qE2cLRghoMCPYa8u1cXl\n",
       "jvQJU3oRzRf6aLo45FO5cG+FUfA+j6Xebib3aGhtx5OuXFWoemTffe7zIeXayuji48K6Ytr/599o\n",
       "sm5btcnWiL+kkTEMjerl414ohVW1iuBJIUBfNEQbbL+H33sMwfLucEz+4v19ni08rBxPXbd45cPU\n",
       "9WU2UFrPmvzDXBwZ9iCX41KeCchTeNOBsfcOy0boEr4XyxFGuUCeuErX1uPd/NG9RNHfqFiP2bmF\n",
       "smPnREa5lDg0TqrkeMLJqtThIUgQzlJ68VVC+WxDITKD+N1gRaM+hWI3b7UPTfSSUZfmn/EUUA+m\n",
       "Jb9G1gRfFRp9e5paA4FlUZeH2nhEBIiDu5x7veG/pKsgVvyFyI2m6wF5KUzp67palMDZlCxiFicF\n",
       "RzuGfjOowbbrfBbfYGlV+ERLf/pr0iIgASywrZNxd82oOIV2r9GQ7aZwJhvVOXMoAwQF5CkSImJ9\n",
       "bPkX4mkCdypRKXFiLhbfv9AhI1BhXoYD41yFuSX7/BDI+XnFYo4352wRkhIYLlao7OX82Tm0rQ/6\n",
       "n/lphU/gdYbW9/EqvzSsr5GgAMS6uiCrsD9Vjom6XV00iWA16y0agckidh0zCjEejhjwBsjJ+m7q\n",
       "CJlsf0ejIVsQD1v6fSKsR7j0QxYyBqBuuyIhKn5cgryT7ZndKU58GmfAhhWC5VGWnVwObBEPbyXE\n",
       "9T95i/A9oazIeb4LK1KZbfABN80cUH9HvxpSFz2s23jhrdftn4RA5NXW2U814Ete1BuqdKCnjfH/\n",
       "jY/yN3htohUTJ+rLu/DMFDvRMn7v1jMrGgZco2RJHCUiD00SRVYjbme+lv62GtfMUxAFUEOyZOEg\n",
       "pY8NPGAsNWIJ7MGRsszBhFf0haOfh82VC2c/VxZ0AD7TAI6vqkqnrBu0VEkKZKmmz9GJhr/bzQoV\n",
       "CM29T8hhf941u1tCjKBz7w2q53mvOGEya1o7ARvY3oAAAAUEQZ+1RRUsM/8A4rBPfCJPxiTLXpz8\n",
       "MqwigBvSOT1rIdX3MYeqGrq9fPqyQa3onMh41agjNldD8Giy2pG0GrkIp+AAwKUiBcxdbghzYuct\n",
       "6mmgvcHvVhZRjI3A6RG9Ahnbyh9l8SxBZFk+7qCz8oE99Z1a677WVruU3pl8QrM1tNGF0oxGXC3F\n",
       "CYLtU4JGBElZJnkzBDcVyPjQaywVwdadPUdjky03+UkaSJ82ZKpMnV/sYL/BfQcAVsK6zSpjA9qD\n",
       "MrYvjroPktaJtAh00Gtm2BO1wWJpORZh08FvoTE2yKIUsIbVAynGvzuc+BA0Phtuiv09er/lUM9v\n",
       "wIvfUm3d9Rc0rZ512Xqy1jPigDPV5lZDjhjkEQn+OeT0xXlvKAIX3lk8Iz+pipdwQRO0PMwHLX2N\n",
       "yow3etG+L0ARkyYFsUKTy40dO4xhJN452GFc0YbnqSVf+ZmSIMVhG9+rIGVInpkLnzk+1/AAjHTs\n",
       "lOlNIwFVOxP6VAr8wlU8te/yTgZkXujACDljLglalO/yLZvRVmyDMYu6a1ABk/U47XrWV+ZpoXv0\n",
       "wThNkev9pBSqZK5YX05Mvi57k487RMFibS3pzMMLGTnD689pf2CwXxogDuxItLalEx43iIM/M58J\n",
       "3QbhHD+UFTFrvLt/fd1St5g7v6W3LzP4c8nVbwKB4Y1SQwaIksy/pVgKnD5JNcQh8J+TvGItXdSD\n",
       "C0OTDdlw52/363uZF3VxUtrfE4a3jeelqbZy17+TdfkTL34rEgMX6xFEGgkWEXZd3v9mXKRxl76V\n",
       "od52N1Tpbbv+ppBTlc0zsM7Cvrlp2kTECTYVjYL17I6vofmGWNB17NZjTNYXxLndwZDu2Tehmriz\n",
       "Q1A2HLHC7LTchIAlW9fw44cpZIQndarYUx0tRmR/T0pZDHX7QVHqaSmkJoJ5DsXW8QD6LJYNlThe\n",
       "leCprcLROjrfA2sE0I2LqJRXh6qftUQH7oG/0cH1YrofFmxwucmvY56ZvPR8PkiFMR5x67bEWugc\n",
       "tPQKxpmc9Fg87FyXe2wXA1pSU18My5zVH996/oBGUog8H/mFR8fn1d6uVKSMa6zg7si/vUMH+Kpz\n",
       "w+Q0ZtS6gbTEmM292dM7azfbAiTfDIe70ZFPqfsO3Vc2VgLIAO8IxWFrWLTG3lL3eiJ3Yg7u4sTg\n",
       "6RWAlhsOq6UrAaZU+uioGbD5VpyN2ZzlQntR/Jeau5Qq7eYW1tGpQW/hnizVDDOcZr7PbASGljgB\n",
       "klWLC0Kz8gVDfRM7qqyU/os8AWaEerhs0oCw+ZLXdmiYgtE7SA2uq6KPnFQfh25bZ9I0vYC52IGI\n",
       "J4XM4C9o4GmdkPfLqllw5tprHkLwtmvb/UtNNYO7+xMVtLekVd2Op4mbnBDOi1B2N/gAj6gBgfLh\n",
       "91SdhacXX+svvQdsAXPbGhTHpGe8YuJ4Dy4Egzy+LZV8CxxQuoXKQ+oLhfiNgCZgt+E+UfChypZ6\n",
       "oJC98SfZ7HaklfXjeLfg3Sd7u2AxYWmXmeu4p4dye/Bc6WK6lTRyucDbc1vLEUIBTfJ/RVhGIqrx\n",
       "Yz9hV73vC1ApJoRAbB7lfTveOw3nS/I8A/9/+0A0/WJ+J4H16BgQt+GzNwNEgEyh1+FS9zaVbSeB\n",
       "/0QWawTQaoEpb2C2DcXEfA04JWeN5kUQca0BIvFTzvaCgycfa1JForJmucCbpuwbeeKojP+P9g+8\n",
       "K98fYL4RKpBxAAAE9QGf1HRCvwGm/sUJxxPdk+Ky6KxYAQjeh1E8qmDSZHVaGzWanv6vQPk3X5qK\n",
       "sKpBMgYrUxDC+JVuT6hA04Ko8U25DmlS9w0vKHXA929/MlDYJO8osZDt8Gg5/rP+oSkbOKzer+bW\n",
       "yXOOmG/Wl3QrGo+yJpuXcCHP8/4wRh7pNE90BwCYGBIo8cnbMpadLP9zVcUarCa8Fl1xbTJSOV7S\n",
       "x8fDcr/+MpOPHRBKCyC+K0Wbt36+YrVaXwhCcXWQKb4lCRVm/HlaW/cH6btRuOILAz+OCV/OpmNC\n",
       "pRCJ5D9i7hmT3f7/OClqozKuiiQmOtZLC3C8WFwoh5VJ0HGhaE/7XS+QrIOEvWAnoGaokjE46qbY\n",
       "DK9CHCkGuaycxoZ0jBA97RMaubcKkxJOzheleGds5Net6c98zGZH1hV41+NOzFMX+NLFtkhjHscu\n",
       "8jXoOmpKR+njImETcYYMNdj1pqnMOqI80bUfQiipexnb6nGusy08virkzK1lf9/6jX/DPRHvGHeu\n",
       "f7LhTUABqD7tCDSGzDGYjZMPjTSlIMjSi3HN7PvVS36Pwyz/hjo5HkVxyr71tvt+FXGhlgJeWquy\n",
       "huyPesP9g/FJ7eGESD1RH4F3Qxd3dpgExou5TWjX3mRj64SHQCTH/2T/Mmw2JRGWitIlTPq/mcuv\n",
       "kaC8Ql57pPJ//2uapfXS7SfgasumMMdfgN2wkCgpesp8f9UrC3o1ekvtrrEtpsV6DY236doW3jvz\n",
       "WdFXPFp4nAbjynIJ1z9LRDaNl7ngoR1mi+tZtJnyamMSwXoVRZHud0ZGeIYOE58MWC2uFXStgyUl\n",
       "hZPnZKNHMdoy+AyzOezqVBM+aR8myr+bm/T8B/BTabioGfA/VTioDBfOovinguQhfDrd551m++QF\n",
       "sqAda7H1G3moZZ9BwVCvwtTthdML0OTEfdauLkd4J2EzHmiRwoD8htWgF8oIVhbfK+M6F0Aw1fgF\n",
       "17G+uviMsa7ANvC22Z6nSiFbQrFnDw+GvVoZZiiInD+vYDNv/1Hk13TjhQHGALbfO1Vrr83Jd/Fl\n",
       "LJNy86vf99rR3dDBbrF/vUWB3P1iJ6UueI3FFcr1Ic1P2z/bfk6g6diXeQWR7tx9SUj4BXlmM+vt\n",
       "x2F+bsS6ZmDFRrdceWJ77P/fGZwYwgEDEHdvmMCr0J6pX/vEBUFAVZuLkjkct4AtK0oDRNWqNYQE\n",
       "QdIzTZpYHEFve6YF7KM/+48XodFdyXRuohwL20YP5Fo36Bol957YjEnzopmF3l5xnkNc7mp7Sfe/\n",
       "INNVPdFG00PJrfZXa8eKwSjXd9wQHwOmp5+RuWQrN9gpthDymmf2oCFGZoxY6uixGevmHsm0WcFu\n",
       "1jWkzvtOADS3nQkdcjhRLu9VrYSuOYA6L1evs39RIenslCicGM1H7i1w6NyJ/+Da7lUJxyMkB1hS\n",
       "SzXAvaLetCsIthSiqvV38BNmOZ6khX5/dCd+37M32wJyLNztAb2CQbgolOJ/xguH5q91b2Hn3D2Y\n",
       "rn4Sbq/g0jc+RRhiSgyn7ufdnUf1Xt1WgcA/9wkyiwKGWUY/DumZ2gQH4oGtXdzVoQK6Xon9Vbao\n",
       "W/A4/r64A34JTAF0GqHSJBRfXSYdVmfYKGevzddp+WqZ/YoiiFfbIvD0F2xdYVXlw/d8y0Hfrak8\n",
       "Gwj40/2bwq7OmeUTnx+Zy2qD76j7rMUXqrYJgAAABEYBn9ZqQr8Bp3TGoUwctsd6KsAIfIrIrdSD\n",
       "V35uADJVvzTkaBYQ7GtPFR4FffE5jUUJC6kpydFXhESjrRgve43UqzESYUyvLR6wXB7d2sThNYsl\n",
       "OXf7n+TLkTc4ttQE9uGY94kd+mUo0l1otyvGnPGiULgg8AmzRoyuHTB/z3xA3IOdOoh//jUqRb2U\n",
       "fj03edPxU19NyQ+jx2iz/0YxnXi2bfFoegOLhzN2TPapIAklSYP12ySEr84rIpwxi6o8M7t9BK7k\n",
       "SSFklu2oF8m+Kohg0J6Q4Ucpu1sNuaYtIUTLhdjG7ZHYyU3IT15jO0rEOzehMlwd1b5DwSI7ZqVP\n",
       "ypx9NmAqhE/yrVd8DwWz48yiJNgs4XVfTNAQZnSY1tmJhF4e85gAkpCIpKRFLLfEbtHOpRJilAvE\n",
       "K4Ix3G3ryCGqBGsO5KZ/TOAbwKEuX5z/G9oueqaKzYlP4XLT0JFogmNtgCp8y6PAWtQ5yv+stF99\n",
       "rcs3vRaI1QfZoZPrG+GJfu5GDejJJ8u/Hfunu53voxLIaxvepBH1lHBiJ4Zs7wiiXTpQEmzgo+Cb\n",
       "g6aVLKEuAg/OaNAAQrpoWZCc25PqjnjRHGocWx6+lgxKZHGpGP7z3jB15HjPOPTwRqV7L0rSC06n\n",
       "1KZlerIt8pLnVbpMwEc/6TeyhxFh4LInIjxTC8BjhlogfQ/RrmJrcI41Q68whp/i1G7uAIDYCJ6h\n",
       "xTbGETDKJEmBvbXmq880C33LdlL+Dx39DfNmPz8QsdtZgBXYwUb7xgr3Zvx62rGviWEuZ1l2nC++\n",
       "Fs7kgyXo2/w2cVGuxiZEMVspeg8UJfJXc73pWhySXVWP2Mfb9IHpPTFmA+vawvtu53VUZL2RpnRb\n",
       "CAtxvEEorNOwjizh5k7EGtS6xhrWULMLjnGxkBD7Amq6HPwMI/VVXPMDv3K/U34hxinjb5A0v/Cv\n",
       "2a9GgJSUq/apdglNKAPgkz5sG+IcWtXwwrF7wypQ9ieA2rRxGp83fR4edNYtTOiWEzqyMDurweoG\n",
       "Uh2JHeq5xY6pNkAlI6tNDs0ikO1+8uvpByXV99ZBEJBpcFZlPpTDM51Rpi0KOIqR22NydnVEQKUw\n",
       "uszPoflVk4Fmp9P9qhHE5qXVx/vVEoEVzCxAk4HegPlrNqPyeGzb3tbrvVmsmAXxD5sc7jyoKByU\n",
       "SyaK+E/X7n0PwZHeywr7M3urqre9r4G5v0w9q/6uRZFL6Z13s5dtwYL0/vXLU95sjmcUVus907A8\n",
       "rSEB8aeOuLmD4/NmOGsOAf4v7x0Bp2nbBui7dW6Qy5dQaNkB/fegXv7cqPKqyL2RLhezB8RyHJcs\n",
       "J8WPzlJJgAosNI3ZkdGrAhHxIynNhoPjkE50Taj7Ao0XxGFIn98BB5siapg1cJRfXL+Faq9Al4ww\n",
       "hmwloCR5o1LTRVGS1CJDtcFdEdcoACqb97LFXcZ7ZwbUCGv++mJHboM96wAADKhBm9tJqEFsmUwI\n",
       "d//+qZYAbKEF+W9DfYABsnMysQps045UNlDN8FgSvJ6ET4YjzjNwta1yCzhgCRpt6eDn4ZKZqqlD\n",
       "aSEzejYlfXg+vpqwLlVZc20owhyQsZNLDH8Ezlsi3+u3oo46k2Y8aQ2Qb27pG1zZbfzgbFKFQejp\n",
       "gm3fJUzTeaxvzfCX1F0Sll2IFpE99FnKEYnj1nQT/OECXnZ19CnOBtcVc3YNd8goYm6xVanom2P6\n",
       "5WUDW4yzs9XmMbAbqOrrvIQBLGymWN7G0bypB2DzlBDebSykkvt7auZ2DAvqdA80MA086wGmjAoX\n",
       "rC5eoh0dxYGxU96upLFrUFJbgWIAesWQElEbfZ+JRiX+6wXATcs8LG1VgVLtAdLS0kZKYLe5KlgV\n",
       "hV/VLbw0zg5K6YbP7vkqQM6/EhovgSPfE/yc64L1G6iTBGq1dp/vPwPmHoLA6oavF0tkCqUWfR5y\n",
       "Z33CJeL3HGC9wTmVYFmkVn9ZlsAP1sFGVVfBxCfetr4KHoJMs0qhYzYA9X21Ktm55icqZWWiKdab\n",
       "eB9PsE83eF6AAQhG9cZOSJVtchmXWQHGWl3Vawll4knznQBb37gC0yoqu7jQ7AwJvGT5utaPHJ+p\n",
       "+m2ZFbx4J7cxKLeeBzcnfNgTHrQDQM0jFZz3a84veF4Vpiric3yzwxYgivRam+q6bnsjCH/E0GeX\n",
       "3pZOmstV7aNkuBzAaK/zaY70wDKTfA1KLdUZnbwmxC21RS7Jkz5kM2Ki6XIoGuMAQyY7gqP30MC7\n",
       "A+ravrAAoqLYt87avhTmbikVE1SuZzC7wlNjDu2RL2MMh0DzJO1kuWm01VQxbORLkFctyU0qlvUQ\n",
       "TgRmK8mCpDz/4dshGolbi54FX8MbwrCmjb6XFz84wFlVj+T8deGT+nNnU3/TzI7MrxfjbDsk37lw\n",
       "0FUMJsOp8f3ht2H9wu68C1sNZpKBZfOC8W4PFQrcJ+EP9brXOI2FUqe7L3+Bt/6wa4ZYmdK6xst9\n",
       "7YFO2LC0ECcHwuw7qsXHoVTZq/zwBeKJuOedHyOLEb1ckyuJRRyuYLS6Q9aE0f83zEHcW34+l8Gt\n",
       "/cmJ9xiYQvaN6+IhEHiWqtGk7lgTBaunwn+xpv80QyUJ7P2Vfd6iMC1EHrS7sNze4JmJc6LJelYI\n",
       "miVGViQ6qzGJo/1JU6mchGjZUODVqqRAZ+VbP2/o42BZ6D26goK0Hk6yH4GPQ/LMcYwHErS4+T5z\n",
       "+Goog6K5Z193Ij4WJdKk+Da8b7nDEQ+wORFuPfifszH4qyoKyNfvlCBMrFBtSVWQ1VHppksLS5SP\n",
       "uqfUYS5n1z/lanr7ghKzFixfxal629lMlF1fYvFQRQFlUWyh1/DSgsJ3fwMjna1I2pQ6nO6yMUBB\n",
       "2xyFli7kctdnBWWPIn43kYCRINOm7N39IfcsmM1ihTY9werRNaNn6rlZ/EtmiJCq6hrfBGNxtXVM\n",
       "zmhoF4DVQpzgaOm4kv97r6jg6Rn0LIGSrnF7phpeadGnKpBQjX7Kk5KtxG0RMUTsbCIu/Pt0REGx\n",
       "7dAg80R4gG1wum4TUkRxT/+SSo87kESXPHBiBqB85nzntzPjSqT++cYSsDpbqJLIHkd1TJ/WJsc3\n",
       "+AG52+GsYNwhFtXd5S4HPN7mpaCtBj6qOZIGVYFvuP20K1MVcHskYWUep7u5IHB3D1i+u5zuR6sL\n",
       "K2X50LRItWWCGNEaxs/x//imj02uGrYFpt390B1I07gxAndq/AUIquDogF71X0/h6jE9ffJtnBmp\n",
       "lwgULbJIsmEuxR5mSRGByVRIigUtJiAVbUggg2d93H3UvoniIpH4NLLBPwqbBzOVBlqXql4UM7Rf\n",
       "woWSTSx0lUHtjtL3WSG1ITqBJF8EHZQ8dmpmgKsYA5FTXKCRDOYXnfGIgUyYYiX6g/boEcbXMhk0\n",
       "6o7T/GYGA5EygAPr2SuHJtXl3+9HILMmxjsINqwGUXBggKxPr2o61aWz9E/uLXd9orvo84eC7Slk\n",
       "7SY28DKWeT+0/+lDazsngAAqi8QLYgy9BtO+7RV+vGGWRTNjMol1rSqh/z2iCMUrayPJUuEGex4d\n",
       "gpdWudgDrNo+j7rH/V79TjxuNFbgpsZdyzajrpbp+4JaL8M9f/ld5xzZgj26M/QK3EzOMk135wnN\n",
       "2GhfIP060MSEZKcxSCDTr4DgVpWLrLoweebxxO/aEFjme4rWLkSaAtMzRjLA8VrbApDTDZ40fyE9\n",
       "44hh31+b8aFC4SiM+DcaDnPMueVbUyPKolQ0a/NyuLKOARIhiGQ/5z85vFPMEjbCQhW+lCfJI0y6\n",
       "qAp9zel5deu/6rlvNPfbpteAGKqqWKc1+zrI6Fkz90mX+mJjQSRwTwpYOszVaqKsFGK+rqrQphDr\n",
       "DKxfJikWgpe/LDkbuvlS1TL0CRAHLPHW5oDmw7qP7on95Ax2A06wNNGbxxBWyOTtEmJdyXAp8bXj\n",
       "NzX9OaKnDK4pcuvvWNS6a2bsNRHxfRy9Qzr2VgJtv4/+2Qn0TBW9XhhO8WOF0NHBOXvroHRd1Gcf\n",
       "h6SdZHYIxw1ZFUX1Z6h73Ueke94nsxmozYowHQysgWKW4s/aiLFpicAk5VvPaR/v6WN+EWYMZ9/r\n",
       "IgjRPYJtAtRTJZTnU7L+ToEr81nHEoZjaO2cMeGZB8LXGpq41UGihRFukPUCxr+4c/FrUEzCWMqN\n",
       "uBstnMR65/f0rgQQRz9dtUngKiGrhHN0+3F15t926k4kctokf3T+rE6lESmdarvgfVUK0x1eCW/Z\n",
       "+rO2Lp+hHYGPe9nuQp8wcJfUCvJyQGaQwD1EzMtUwR+4tNDGy4Vs7EVXGQIb30AbWBWDrZdP5wLn\n",
       "QNDq9cq64RYkWj8w+4JFKcdwKoiJhfrLTzqow71eeHK8cOTPMOEgXfNc6beLOiR2lfnbt/gecYBK\n",
       "h+z7PWl25u8AselcL+mXmJlSGkRmxxm0v6iE5I7RmrqtmThkXb02szRY6+vt8tniX0b+xv+i413W\n",
       "L8VVYCK8awtKqNzLU1Wp3R5ZoB22fjVozgvZtx547O2TGGfYcZhTU75ERUey8sz3QtdzApp3NXvu\n",
       "x8Hp1iSpcj3KB/Ri2lny6VW95X3V0GFolH9W263h7Nh/0Xytpbg5uumdNmJzNW2xbVjj0Ag50VQr\n",
       "7olR+wKPGnlyKBKkoLEL4rLqxxTZ5a/WnTxOVwY2SjdLtCzY7qNdqXNTQcWFQ9KR5tgEGWdbdcuz\n",
       "g0Z1l4Ci/jXn4fXmvOJTfQzZHqeyDBKlYd1qA8cj1HyjFZ5GgWKmaKPuu9ngVNZi1Rd+c+imjyvZ\n",
       "yPS1gywyRm3N8KgqmWLcIVQbkIP/UdlvoFr4KGXs9NmQycKbHGhOiTpiNolC9cz/Ea3uKXlrHosi\n",
       "owBp0G+TEErcfs3muYoP/zaVNPiuEZyuRfT4Io20aqxXXWKqw3gSdSPguV7NjCLPBXD9bXk2ONJs\n",
       "VyXmf4xQGp69HwFWyCX0LOsi8ir9Mz8gdZXuLZAPuQRbo26Sym6s7sbN+4o2Lg2jPXIBxlZWg1Co\n",
       "QJ0wzwFA95vvu+ufhX1LIWRt7mTNN3syBoQXR20EBFaP9dsdTriWHKuBqwo/VQxnhgMF/kBkA65V\n",
       "RIObFJiXCgUW95uRHgZ5cqtza6mDP5aoSthptrZipDpMvY+3dtbFgmZsk/CaD2vyQsCdSacfrFPb\n",
       "poM0QzQJHYcbRQlTb7xml4lUFyYN1PKUerof1fjErvgmbyB5fTP2DQpFUYdMPm1hv6SSNp9BdeWP\n",
       "35r1qQg3nIcBjPAR53P+k0VrRcOoV75lDAHLLe4SZOi43r029jT3unGG7huIor9N26b1d6k3ivCj\n",
       "SQp3vT2rLX2BCQ6h9shRap8y+BJ69G5Dw/NGqv/ajwpE2ycdhCY7bl6d9DZerBgXRRVDnqUAptWk\n",
       "Z+I/u/Pq+e4MPF/tuFhwbNbMf8yHx1nHWA3gZRNcOTTt8aEO1EHs1E/u4ftGT4XtCf0MXQdUz3+u\n",
       "1x8mjGh4hbWmpOCFhknpTZJiCxz4qJALLz09R6145Htxa0lw94Dnr63lmLbaqcyVyX6a5tMhqXFp\n",
       "PhQ1E6kqqUODRF2W0O0KsuhyZrA0SRgZcPRwu/+2IORFOnIv6aq6ofmAXLzDL/sUQhIlfJZ6flPb\n",
       "1F+ZM7oGmdUDcfiBT+6WTTmsagITj5r0CfNouSNbjxp15iABRApZsf7z/b1RmjBUD98wMdNIOzVS\n",
       "2UM53S92VvjbH3RJwQSeNGhDiMYgTxq9iBbkFWbZx1Xy05npvrTI12IhaJIotlOoVXRPSdH8cKl0\n",
       "v/lM1SGq2PFVbfuNUjhPBhWlqnmmUOEOOvFY33dsTw25IizwB7UAAAUkQZ/5RRUsM/8A4rBPe8RZ\n",
       "J8rTXcSoAVnBgMRISfdYN0qS8jHpkhlz13Ldr7nNIAMTwyzYuTZpD4/lDFNdcCd0FaUjbvbi647R\n",
       "3rrbngxe5vzSaf7MuEi9cWQVxquGH81NMSUP7BRTTVw32e9bhMtnG2Np3RQeA/FB6PZdbUiy6A8K\n",
       "2nGbQkczpDpRewB2csTbwOkf0fHET8ZIkZvJumhoj9k7of3ZmspIfJL9I8L/OuOdTGoeeRiRWCQW\n",
       "mfoNsB1bKA0HrcK6926+4qk921TqnLiLD8W/c6WVJ51zjPOSeKwEn+moAatzyOJNarhxWXM/hbXi\n",
       "WFN/neOV9U+pvwQmyufFBSVAqIplZCKOpCazn8LhI0PL4R6rjUd7p8DWXTWqWFRhBTyahWzGsCws\n",
       "SaB2XRXodeKQsncLkjhq5fEI+MBi3Odnb8y3FLgZgw86hrsfTgpbigZLOlZ0ns4+V4Tgwcm6WR5X\n",
       "Il4UrUphoC4Pd9/DIgvOaXVnNArUDF9hUJMI+uDDZVtVV9OvJYFEP3kwjJGALtqfh6TwI3OOPuQA\n",
       "AhzbrSiK7AoVgOBEjcvfypEjl5elw0LfKTbxgieCQB1LULt7WbuTACjonxGFjunn7OWsMlCPMCfb\n",
       "1fGo9iH/GHrXgrEkkE5tr6IQYQbFKZpdaAWV1ocx6G5ac0/eVySjvFtmU4cCJTz4/UaqexUTzteR\n",
       "iBsmF243DEAdFbobhRboFFIcBEvnkPU773MubRZN00Bod1vTBokYhAhYvJhxN1EcmzFwi/weV5DN\n",
       "102bmWM5zVLdCVKr++S4eU25qCHyBraB8D1vc3hUKAPd7UUswTP06h0V2aLQ3yuV0b9DSyaVONuw\n",
       "z6UQJBnW7BBv1myvJigUzj2hkdDc4n/BUnCuDuDu6bG5TUiALRSC4qLkQ9IQd7+lM1B0gyQ/nnzZ\n",
       "/UUkAoOiVo9sMybLgwJlr4X35xCNH03fG9OXkvZ4wANMTze1NA8H5SSIttn+aCdL3CcbI1c7WyTF\n",
       "ZKIL08WFx0+0eAwM+IwV+bBTE/U2hMW8gJSgtjenOsTqXdIEyFzW2hckxP4bD/YYOSm4Kdbe+fac\n",
       "wrJa7FH7KELH5Do8IONYols18duKrjRj6QRaufDy19SB/ykRHeeIZORFOCjKtSNyCUpTBUPZVdI2\n",
       "3ALK5qaq4X4IR5Gz7d5HLS8S6JyMMHQJIz8i2Nq3p+kTe5VXC6yuPecLRbGgjbXw2naTy4C1D271\n",
       "/lxWeJzKKfEaMvxagvJgqcz7Odu6yxlw76UJG5lNKI4bfNetgPhyaHKZGp4oxcbH1ehpKfUk1bbD\n",
       "9dS2yIr4+9qGKmnk7Hntx24mHb8vcEBc5uue7T1JxFxqsW0kf87hWfqSEdcTsU1X8vwX6+R5E0X1\n",
       "tmCiuCaT2m0TlOGdiW2ePUKSqpUY4gq0le9bbd2oYDZYm6fe6WQM/XqGfKm71C0vJexpmwFaMqf7\n",
       "H8+gdENbluCLhdBhpGMT0OoHNNq84DGqp3FRfdxmouMaxc9YThxLTYTA9fo0UuPN6ZaSpTO0gugr\n",
       "Pyx7VSuzXi4uSy9++Auj6t2FWmq0rN7sNjuKkZqaUdKC+qe1M70s0iM7G3h8Q1dJZ1s6UHYfLRKd\n",
       "yPhimVEuEODznP711LbWbVP72iYwwqyY80P+t8Vf30nDpw+dVg206i9zGcjzgxsNGRa8uvV1Gjqd\n",
       "dibmvoMXmvJNqccQUZ505bI2ZwU7f5QqCe9KOf8NmZC+8gLSJqlZ9ekaw/xUWcAAAAO1AZ4YdEK/\n",
       "Aab+xYg0FVdoExAPMMAILP4DuBw0u3NFIltyVVwzJ8IN4tW2JEhLk7bUgyRNuM+a1/rpYfnIeDNp\n",
       "2edSHKhXnVwOqJ1JXL9zmR5HTWg8kvjb4/Zq05wYCrGK1yO+nA8IGrlm1aluEGdJ2g9RjhnWALox\n",
       "q7QsweqfKeoJIE/E8YDs7wYoSSi+KKfKMy/w9k4YuLNrX19c/G0cOPw8KtKw8FH4WufIflEA8tNm\n",
       "U6lwv2rNDf4bg9MdHLUZobyDuj9YaFdC9c13HJH0BFUgr9at2cydqKcZq9rsLv6udEcT4NeOVDsD\n",
       "L8r0IxFAjkBNWpDKWRQcQXlP/QgMUcqazF5L5KRIuzugnHf9vQZLFK6pFnTC3mEbyr7l14q9UwTQ\n",
       "qehhQGbBkQYnFeOrGTz/p97u6f/LG0nbeNhHKCbM0yAffqpRE7gOgLEqK0DRtq4lj/nXN4cZYtll\n",
       "DpitIVlAmebO9v4uVPwzm4I0PSOhJ2E3M21w8/QrEAoqg2Wqcbg0hMrhX3g2FwLFV+Z9CO0O1SZd\n",
       "sBQIzzYTr2JVUlg9gwrEZOQK4XVYTyodSsMzfQJizh9gRGU07BCcYqZxKLzKMCZzvNSoAsG9eFRG\n",
       "sIMjWa1qOTa5fc5kcLlRKjv3jJOlQgdYo1A2CHAI2eTWR3B3DAzT3dx6gcP2J4R3rE5dtPZ+93NG\n",
       "y3MENvJtzdBdkcRzUmYE7bnUzMz040ILugBtu8jX0cDdeqWWK5wyaPeQ48+HTooaQY9PLyHwli/X\n",
       "QXo1fn/B5mjqpiUMB2oefCAcy40zupwPpWDXtdh12cOO/+GUQzNQtrG3vu3jgiD7Dc22f2hQvJdt\n",
       "qXGq/VLmPPHGSO5dYKzcnx6nHErm9l+PwTD+BfxshsEGkL8AURwwOmJOAjhnKtmdjIszg6z1fnqj\n",
       "+Zpu+7naF23Dqa9t1YZKpNKZSsjU60iKExsGCm8+eWk5vBVZIaFJ7jzvNdHRMUwGfXiZcWZPAVRn\n",
       "nYkD9Ii6kjzjVTyZvnw0Xny2bTkVmLihRetFqvRLEAkMPPmTwHqy+j+tDmTuxQvSkv4rtu4WLouw\n",
       "XA/WHU/yfCnC7eEGb2Rlyk7NVWCRUXsSZ6GetfvJFhNg/1qu2mB8+6uWNJEODKwx55OkD8UEbCQc\n",
       "SyuF2fZwLDNbpIjrkxIGHo6T486JW0S8fxeXzlMwNBsAy0iA4o5zdYc1oeGyk2d+UkvFDG4ldWNe\n",
       "7LBs/DiaVXAUCXRA+aU+LhV1I7mHKheALv2Yu5FXMQAABGMBnhpqQr8Bp3TGb2d8CusgCJdN4vvd\n",
       "j49MlN1NAUqmkzTboJIU4V3gWPdZI8lIyHX33yMQwY/nIY6ZCy0ZWdfjWBo2CmK/NjnMTFpgwuRq\n",
       "63LhkKE5QdHduTztK0WvyMnJzElfMdGWr/3C9uCO1+uRJ2Azdha9CcFPBKm8dlbCM3Xi4nFqxt1J\n",
       "sDsIAxjFhbzY+rDQrVr/c5xG/wFKblL1osDxtawgBU+YBMQcd1qvGG63Dt7gm3y4Ngwbcf/Bb8en\n",
       "KMVBV7kQ/hsCY1cVDQDwXdlkVsIMQKtMj6zOVgluUrSq8RVJqyf1MgQxAvFMzLLD1w0ee84XLa72\n",
       "a0KMS13PIv1vkc4MrO02UeB8adpIk0dcYmiNrYbYBHiLcRFnyEEQEqVhi614ZyuWa5X1mUhh11ga\n",
       "JxmJ/7NXmHRH8dVhlPQKTrPpOcWY1Mm7Zq7cU2xvEWjRPw+l/lOTrecQ1/lzj6rvF+zsYyZ2zVwR\n",
       "smUMRmoGEw5mUbAQHvwaekEUutbH4mQgYWVFwBuX211VeXYl6pcj2PumD+lRdYPBBpk4Qmvr0y3r\n",
       "DtG/28WzkpUxYY82pZPwAWxcmfL6SWpwoIgWBcgSSfbpeYDB6S1qowvqalnsGVn78TeTLScQBdqg\n",
       "W5W2ZHQZqEat/WNGpsEAWCNzz21HBzDGPk/q5GXULbyjscVdvOL9L08TAO8tbeFWgKPKQxKWIsq7\n",
       "Y59NwhGPnT+TreXhm5PFPVrHiGHfaQGA7/lOsDriLeNkjt+3AP77Bhw1EST1NU7WhD2xpaZcJaka\n",
       "0qCQib1BBnpa9dGOm/Ch8GGJtQGOxjtXkepyNKG1xLKtoFnOWbFZ1teqaOiIgwzgAACRcvTsNjXc\n",
       "k+N0UcQMZFuxmmM15g2J1krI8GExER5k263smIZPGAuTIT7tbQ1DzYaLoNqatj+ka3AAiZQqJ5G2\n",
       "dnHylVYT5NRE5GHvWi0B99nkshcctSjTRUz6VvfFrcqMCxtrSBFLriAmxZvj5YbIMF9wQeZEzdRx\n",
       "Gi62EU1q/uZGtFW2/YyXbGefxVZlULKDsL/NubvVcWnX8QiqWmcLyIru/YdvMEBAvcLA0yIOOzZK\n",
       "3Bd9kMSzJSsTXmmOvLZkWv9DdhJRae5qiOOrYzke1MVYQAXKAPoAVgqRPHb4qOi4XpNeyVSbNEbq\n",
       "igPW+i71cx9/dd1ToZ47qpgIoecWtsDHUg2pFduK9stR+Vh+PIg8PBOACuJ9/k72kPPaMj9Ecox3\n",
       "JZPjNJWVcqgt2wVcX9NdL0Eh5gQF9VgcAxyDJW0LGgf3cFt3ywJuACAZYOUNR5uNFoWHw8BhDlI/\n",
       "iw6fnZqzSItjEt87XBw5JznIoEkwSpkBT1vM8Gb0lU7AMyE+KqkfVZd/mfLCHFJ84+loABbuhVB1\n",
       "bMROc6bN+8Mc5KTxrRl8rINRKKZIxx75Bjoy8Gr1E1LeyO3rQWW3/UBRTZWoyf2aFWfnFTxajFjO\n",
       "vrCMX0aZECBO84W5uQeseB1fAAAMKEGaH0moQWyZTAhv//6nhADXwD4jX4ADN9LCUdTNiHGF+qLg\n",
       "o+Ew+l+9RDYwq5eY5tut6KmBgbbSr8rKdzhznhz++OJMUEgKzPpEGPduKtgHn6MAeZ/6Mz21S67q\n",
       "sHN3HROwmqK9OjH4+yHdOU5hGNL6jTXjTw1yNyK0nwRbHtlwKwB2jaJr7AACuGRhMFJ5vmEskZPE\n",
       "bXeniA0nadWeEc0rgaRpNWurSIcW9eC7CjsDhmQBc3z7ElTdEFX02xci2X4cM/m5CQ93hGYO3/jZ\n",
       "h1oRT8mbQ5UUG4bQ76D1TiNJKJa7zauMS7NbzxQnyj+qL8JwTMqS9pak0aDOWC/LZABv7DZs6O/E\n",
       "6qN2AMc8uYliJhTw5e1Ig8lyn8gy3k20UJsMRgauUi78CD0ry6FZs9uc925k42XjacFJexVGFhIq\n",
       "tBeqErGCzLYeV1TB1jCwIg0fjj3uCTmTS0yAfYu6TLJsuCu1YBWfLp8/gbkVBvlx6TDgJGe7J8UZ\n",
       "Arrxi2RRZlgXqNP7XvFQe2VYvrs832Mwb597/1YlvknCtns7vx73o+hzYzIiC8YiPwDXBwFotvgm\n",
       "rxNjk8xJ4j0uyCo4IThlVICgE81fNj7o+jSukTb6QY38VUPeSPOgXxqyKMOkN5Qa6JETe/n6IyU/\n",
       "FoN29BA7OVJn1fB/BUoN3IxFLQYe6a4A90Y2dRRlXlDg+VWlXm0R4LwBYU73ri99xtig5PnW/kY4\n",
       "UG3ptuZnnjXIc2hguDQNV/Z1+GRFtcxYy1E/e09jZVybThgVsI+12aMMt9fxHezM44Y/vtrX/pUp\n",
       "g2zh8R4d7aehrfjm+fzEO2zwgHw/67CxCK8ERDq75YNqMaqPliNh6LG18Vx2z9GxoIKd/4dCJ7Cy\n",
       "y4d+Wa0tjKlM6amb+Lr4VlgLelhk8DbMS2T2TRSv3qXsQXY2t3EHeJDa9i2RQD60Mbp3ySuGtiRH\n",
       "F2Q2Pi2+xPhGsaYFZzgxrm5kPTviWEDMNYlIs1uPVG3K3IraQ2+fGvmKWqKDTMXU0A86CTKuNbOp\n",
       "VkRCC5+SazKu7P9M6XkEznb8hl4zgMlFEzy9lzC5b7Q4YJ7mKwdxW3ScXkHV8h9+/wJY0QUT4S93\n",
       "MfMSHkRGqsIoNOOiaWHYyiNHEfsTTn1VpLFoNRWkpjVAnhlB8yLZPAHRcyp7Ub2eOMnlwUvknirg\n",
       "0QVXwki+N1I2439R+rzwrRsKWr6ymLR3gYHy0HJcdOj6w0z00Haszz75dVQFceKQ6GlfoQeWhGnp\n",
       "ie5kbi6c/GUyqF9GWAP/Tn4sHSNX4pbyVtw2smmrBu47g0XihwZJ0rEhLx6WHYU/Xf1DXzkhKsDc\n",
       "iU+avRe12h70TA0/YSyYXCLCHbBZGUSntY8t1focYPKUYziRQwvzSOX+OVYZWzMko6xCxkXlIdZz\n",
       "UUlxfy98EEUfa+acbk7dPKw5V+NPXdivF50RWcsPGrGe6ysWTnGkXdfcrnw1t4owH25dbVxf/aKy\n",
       "sHhvhmWo6gfDHcW1jzWHS8ffhPc6zBOZv+E5fKAzvN7lyp+O8WN3977hwf2E9Q3JkdvhbmdTEm9p\n",
       "jHZfTAMv8/ObAbTCZrBoCtV2fznDBR/fMCKr/i0LC+aQZroq+7t2BlH+DgYpSoroSXefyCMafmJ1\n",
       "k/7tCqV8PTqfoNea9DTUKSHjI86ZHMWI8ztEueddz6mDEsIAztYorTLR8Ny8vn5Trt0/kwyA5HbD\n",
       "V169bDwXE7oJeAxXaf+dGs3GwFtAfTnY6tLho9QmJZTIRvCcWJLEDoAsPJyOE5FxBdPcK5uhI5zX\n",
       "cDWJnim2PsqmzSS49REVdSZJh9KrnYqht+abaoKTCuD6i52NmFMeMuS/aXmwwtETomFueJWSx/6y\n",
       "veRwjIEPiYjjGgJnN0ARIKLbKOPCa9WYl4s3g7goLyG/lm5YFHCF0K3ralZI5sqgB+SCqNmc84qH\n",
       "kpHT8AiRIdb4gEB9dPs/dIhPt3UwyYU/yUtQT7JSR99+GoY3FMVO0ZXN2oDTfP/+1AxdquSImAqI\n",
       "zR44mEn6Xc5N4KEMNJ7mejbffvysVmeOvhzR2WgMM1fTVtRJ0t7G81HbSYn5AEFVnuXw2iH7t2KG\n",
       "84AHzt8gt6cxGSuKScGY8cML0P65+n6OyIsD3MVc5nZRXppgWx/uPoZTo2ZJxucEwpHkj35tA2mb\n",
       "imKYIlhCk/BaiZFsDy/VBdqQ+S/r0b3Zz+i1kMEEQZ740ZaTByTC3Dpz1EKPG70WdnQiQ53L3dAC\n",
       "7HJwRtFqhyIPsXcp8bUD24h3aB0kiukYQSYyHfTe+SjPxe2WmLHFwEC5t9t3dDPRggTktEKvajRB\n",
       "bMAm4JsCTnt/+pkRSmylOijpoWyZVF/wWrM0bzelKC5n+9qkqcjlwnObKbQ8H3/N/9HnEE3x29Hz\n",
       "C4bQ07/e9keSJ8fS18gCi1VV+I/zAf5vkF0uozoEJLT0ppJ7p+LIvG4GexYk/V7L+Z32lCrEHoo7\n",
       "dgGp8Fck71MwZZhPuSlFrQ5GM/XDugMD2vii2iN42KgphkX3OgcZqgai7+sIEUii0RD6XH49nu6D\n",
       "2o0H86iWo0/LITmsnwPe5dOlZib9y512nFebBM2rwB4MT7cfONCKN3bzd53lpgZJxEmt/Ng8WeuI\n",
       "Kv4i5V0R1MhlPyge/KtbQfehnqqu+Yp4QBFWybB/2MkDmUlIM30wMCSi4FEQUCpTikcVciNZz4oj\n",
       "nCc/z2jQ8rp5MRAiFqoJMOlUMAEvcIVJs1K5hUvUNqk4yayEP9dvqqlTebGteK+SKdJCvElq9uST\n",
       "dfSHKwaDlxBBTadTzekypbYcleMi/oOjZR1Mgu1tTQtpRAHDrfpNFpSxw+HBt8OkgiuQTVKlqX7U\n",
       "4Ej3TltWiSfgwXeazg7+91aHolHF7vw1Sg2+GymMFNiX3xMrtOBTfz2W2SZItiUH17ReeGqb6MSw\n",
       "gWzyId0RgRH0rgYnDbJeGUygW9TZMXU4ljR7BbpiIHSX6NSePyB4rxzsduP4c12MGQdaL89tgwff\n",
       "QRqhQ4/hbI2Tqodom9SPPtLQLCHzNLYtcA4EgMN1TBjNWUn88o9HObxOh+7tylX7vSH4vzrzP6cq\n",
       "CrOmVl887kGKpp23SkcSF83FQeHOwq4xUfJCJHodyfDOAJMQhceN4es0sT+TwQi4NFxx6n02T1V+\n",
       "1AbWwz/ASvC/zp+SbvN+SpcIcBMsyqGrjxn4IkkOIxSTHgidcwJqU0d3BTdvLoVrWI+VXZgRGr4g\n",
       "HqxFr3kqPcxdZ82ubr8oQIwOSdmAQHi4v011fX/mvqnJRACD1RHJ0Ygv535xCln7u8xi3CZvKEje\n",
       "j5oB7qUXQ3Aha+hw+HtPjonmzRssbRQir+mNPFSpN0vsR3iRIldWzZke8x+FB2HOD/6dMu7FV9nr\n",
       "H49vQSJiVBiw96A23K751xeT81j78rw0Im13KQJa6EXIDI25K8d+YXR6t1OFnRK6dirmZWdSASxN\n",
       "MuSLHtlDUwp5qKM59JkImfelH67utYCC0gcrFdh3l3Ho7xXQTfnBYtJPrXHvoVwG9+igrHNEXp+z\n",
       "xlND43d6YSnjQWyX1J3JUCO075JhEamXvDSRCpUpYJUXBroRLh65oWicG8tg4mvbcO0k/1olJdUw\n",
       "0kco/am9Ow+4R2aj9Wp0oVSLd5dzdw8eyyLe5oPVQGqvOBTW1lHF8CMvWKYJlIzg5UJAsZzgspOm\n",
       "y79JcEYkk2Z8WbbZ5OBKpx+4csTX2UF2G68EibTJ+XYyUyLG/H6Hf5koo04pNp99blbG8nNfvmym\n",
       "lNlzE4eufK5DCh1uiv1KeIrR3P3WLE9T0lWVUUYQYzWJnTud5iP0QgDZbG8lmoktqB5jC9Cg68UZ\n",
       "fkahw7aGjNgno7QlGuFzTGWQNKABCsTQH3Q3HI5WAmA3If5wGgvCLl6AqxiZ+nTOLMNbJ8Kj/Fty\n",
       "liLCEgJ0zuCoI3JqezVMK9ymyQ+F1DSjlFIUbHuCE4Y51n09lr/xTL2fN1C2DNMRmkTIoxbe9QCX\n",
       "m3agRrF0tghEIs9ehSMa8D6xAv5zppQM7/xNd1AOmsT/pgw5p0SKKg9g/8u26sZqOu9TeqwBAMi8\n",
       "1BZFxRyEiyvbD9oluIdF7pQNEGKZJhH2w1FAS1nKOwjte8WhSKsMK/TVUupFb1aMU3vDhk9PynEA\n",
       "AATcQZ49RRUsM/8A4rBPfEqyJxzYDp/ciyHAA0mWt7dPjkUHJX7mph3Rd3i0nb6ia/Fv3cPX/JSI\n",
       "y4SDX4qYvU0z2WbTNRzkBPYCLo6pZ0fvMFBJgjx3sPX8RdyAnzCR9kspSx9Z5L5nPxS4sh427vl1\n",
       "O3BXBFcOrev9uZqkUlhToM/y+gqfWEo2nddBYOqSlzgxjW8EtHle3f+qbrpDwTHp56DjyepMlin+\n",
       "WuyeeJPdwgZAsCswhPBfJ2SMBiudWR+Skje525SEIYYR+ZaqMzbzEUonKlDdeDe9PrGVGUEV8Fpe\n",
       "/OYVrwoglHm3uf06MH0umVZisTTFj83Mq18m+ITHB6Hafog69ssqiPFiEToMI20aeKhZf8flYW/w\n",
       "9TPoUKzEJpBfWOIemJ6589QkZLip/wKDGCU5q2uFL+l351a1qwMqUHe2SEaIY2SePIS35jzAXH39\n",
       "/f0DBddlo7cxU0/R+0bXlt0f6m992OqeimZ0W/DuLPtGnn5TKHtsxtBlKbDunez9yY50eB70KQbO\n",
       "jyOM3TRYjYW9vdrcnt1lYkRpQ/BjENfa5Ak9LslXdmWReuke2oPTxlnjdOC3N4yVTJ+PouGwnR2e\n",
       "Kaw1SeblgYzRJoSGvTKcno7/c61etdU8LWS0HsrgeGRpQnuBsS9hP5mPCswNea6u4baB7+A5b8rf\n",
       "1qxYaFum9/4rXf4ZDUaoBBBbSSf7+VrzQ8Bx/jADFKGHnLnUmVaj11PVI19QrYbksx0kNiFtJahs\n",
       "N04+JOOdaM1ccUgXliOtF+KzZcSqMVMH2nV/mYtLBQTHIdlSgcUR2fNjqALMqpBV2OVE90TfgwCe\n",
       "KixlOb+KWE5S2jgBbfRq98IvUMVmeOj/i3K4XuMldS0nNsqqxWKBoBn6/CcTieiSDbTE7A1xkAeQ\n",
       "AQG+vl8VEnR+1Di/pVc9TtI8GRNLLJyVJLiwL+7sNcCj2dA/ZP9CsvVU8s84b8RNkEz4VE9+j8AH\n",
       "xhQ2ng3iAB47rHeYz49t8KGjnm6K2rDcxyfjB+yxcJFp/ppfElEUWLLqt2Q5OGjxOGnwEOSaWcUX\n",
       "Bfyoft4LTNPvA2WppufIq3kgPJubPZFpVNogCyjUELDNJceqESNn0H43nZkGeoSgC3KU5mC+YcCf\n",
       "+O8Wr4j9KytzwPfswKdxvC8rtP39EdI+3wTbadEwQ/N/r/C0l57WPRZUP6yfmBlKOvdbOvO6UgJN\n",
       "uCWLvTKZZO+CuVYpX/rURVY9+mFJLhYsu2HTGovrJ8cU5MW4OiM+nkNJEtsTEiAiNJpGaW5PZweP\n",
       "b+lN1dHAlrYxThzvO5FL5T6ZspWS8D4FTKDfVUoaEzBEb6JGCS5eLWqj2GP37Ds/tZvagCrbm0ea\n",
       "ruf32EcqMMCvdMWD4PiRDCRZkvZHaBu5k3Jnupctd+v8q/yXw5orWIWKP+pEKT6I/tHMJoqYcqtm\n",
       "wXt/gXwKH/PcpC9m9CSWWcqTzefMN509IlG38SE+jS66xc/HJ63rENSsk4ruVIICapg3MqenFcBb\n",
       "1FTIN9WpB4WfwhcsS9EU73KyLnzbD+LBPVKQXxGxUl3HZgkxKczI6fXkCdFjJbPqiHBuAa+OKuWa\n",
       "KK4cGLd3OwnSONwJINMtPYZirPTscUDsynf5aK11AN/YXSOEfk6ufhc6LGn028HBFSkAAATRAZ5c\n",
       "dEK/Aab+xFHw0W4dqCoAbLNq20GPYO9YGoVKd/mn720/9+AwMHgFhXbUwRGqWe09DGN90SHyq315\n",
       "m0V6iSmM5dX5+SxIz5CswMaNGQx+XjGWOQMqE7Hev3i9mAwk0M2W14tJ9UJ/+7pz/paSaJqnhBci\n",
       "lknCFxGJAU3DzvTCGL5Eaq3zhOk4CksXmPVG3sOURNK+N344OgSw9m2JqtrKDDsWO7aXXgh+gL3C\n",
       "68kX2+gdqIo5UjDVYgZLwTc81XCMvihXCqiGXjlxqM6XwbG7V0B0n4O2dvRpX4e9qa28Iqj4pO0G\n",
       "PJbQoR71MaHxjXfPzbN4Wup92F9arm5v7fFpCuqoepwfCNR/OMKhji2lm4YF9UfPEEgfkNkz0wrt\n",
       "s5dfakts9bUsnnkhNTG4jIsSivaD1DmTQtVFfiJ8XJNxY1qyzT67y2ex/jPzzjRI+rNGWqKDNbRR\n",
       "TVqgevIN7/ra4Eoc2Ch9DNDNYwX+1rJBzGhAb9a+jKc2UqYbRrF8OC2c27PRPi3Lso2UUCEuXJEU\n",
       "umBs/UKdBSr8+pULAY6Agz1TJpj4shjvmg/+vZ9RGhqfpDtsdyHPJyRTfiQmb9JkAruzxqu0lt3r\n",
       "vbJcBaFGxZPWdvDAkjxoX+4GoaZko5O9W51VuSkVqjwpGA6Ob2aAaFGUG8t7jNJuOo5MBET40T5F\n",
       "LdZPOcMfkMzhJKulQiq2f+xwt/tzf5D1r9iCxtXGgm/xk/fuUtWT3lk+uojKbxY3zqox7UWwPZ+i\n",
       "aSPJiZSIiPfiNpDLJNJAVx+V7oWKRDhMULmmQGKecCtDhzhEhgVMtCD3tba2rrFQ0dJLH2zPMcRX\n",
       "9zq8T5lS+xNqNDQs9soeXKYjF9Q2Hh5xtwI4cBuMlBJjQ2PyyFmf3vK83aFFv86EYnSQsCDCnvyF\n",
       "jgNbbzr4CP51JUl+H5wVESqsR+cMQYats0ublP6Zdyew98AlhKWNklQbok5rGa+XpTAFo0MYJ4ZW\n",
       "rQ5mhyVc47q2F6TWyWORYmPAYlkIjqnv7zkf5otJshOARQ2zs5qvuMqVCXJzq2zkZpnds8olHFYb\n",
       "VxP79jdaTpyDLo7YRUMlDiO33lntKnCLLzWw9PaMQSm1NR4jLFqhl+/i7Mp9N4xw/E7/draUN5HE\n",
       "gyhCWkDk01eLJQCkeiYQ8B49EXYG84E3qnUI4SLAU/3KBKZNatXyQyPOb5vKZpN4hbIXbfuBJXHu\n",
       "ICriu959qqQdQqirktfsEBY57IIB30mSCsjN3yYw5Zu/LU+3JqUc9+muPink3G0+pV8HuqUCbIIn\n",
       "81NZTjeOPrbEUJhT5QC0AH8J/cnQ/LHO7exxXqxy5KNVs2CuLkbdXhD/PZcf0izbZmM9KwitnMe+\n",
       "daIX9qJo9xUP3xY9k6u1nxoA9QVDA0Ur92ylpErB3exSp1LOps4vSk5Ojgy/SPLTN2BAC8Zg9iCc\n",
       "JZwWu/CAGjp0B2LoBJNZhD7akynX50yc9msJYHliPnEokwsvQsegg2M2sAePAx+2zOy7HjxLvWW3\n",
       "8WeoLPtccmPh40oMriNAxVpX7nf/hsTJar39C0HKfv0ympJ3V1OqRluB1HJAMw48am9P7PxRnnjR\n",
       "RSpo+mLMuCaMRC4FJxr4H6aBe/stG6Z+rHWv0Agf08UwAAADxwGeXmpCvwGndMbGC3UxUJgZAEI7\n",
       "L9bNGnB3OipXGftAyKzD2P5lZUAMqw4/C+DjLz2CIMt0azf6khGbHw9HMJurwBtWxOHOXw48+LhC\n",
       "7uARMe0hMF47wmjbyyNT/lVcWLhxcGTBFC8fg40oGF4YoqB7PNP5CHqas+5LZZxYRIMJQFOqyGe6\n",
       "eD0olsirkq5tzusu4Huk6p5J7yBnSBmwDMER2GZZK0bajAMvn+pqmO5NUuVNJgBX5ncYuIj4K2lc\n",
       "37b7cEvt71Aeplg9SBghdOQSSgYh67aiOB5Hp4Gb8cpiaK/6ra0pmNw54Kro0IZqBOgjqhTLSlQ7\n",
       "xRPCQMtMYcGVfZB44cRAuDC5YCs/Mymo8wJ/9GtROjAKqxzypVXzFxMEsg22M9QFTvNFvg6MfBw/\n",
       "shYXz4Da8qoaQZhJmhThXUhpskB4Tnjyr8OGfHbXK5foJvpK55ZFoYlyF1TL40neL9vnufssAT8w\n",
       "HyextpP9Kq7DqMt9gFImqyJ7VUOUPHvwEp52T2vqzL5eu9W4oJchI6xm+n8knhV3l5F8GGe9zIOT\n",
       "Rf0nPmvTGve7s3DDSfCXwY5rvd8iXTZbejm39UQOBGGQ0CZv4BEUPfCcTNIj4im46jASI7f2p3QI\n",
       "Wm4rL82roWZy0jdm5F74OXxzTrAMHQ6Xa5fMcDOYBOFb9+jroKc7D6yJdpjjpeDcoG9xiipQK991\n",
       "INSIAmCH9PZjTUnPgZtG672Unkv4TQr4x7ptezPZBs54k2lAmLEJASDdr8MRSj5hAu1dRWmMUxp+\n",
       "YABof725SDpDYNf2OEzD2Wjo4rcxe6wylmE2gJ9WIvMRbC5GpVr8v79vCwywpQZxX+pntoxKIjY2\n",
       "/aklm3SO1kUBvOMUNN2PrHSb70P2H/5Mca2zkwYH+Kap69PKXAwqj5ItVTVgDoIaxqirPDgDl89Z\n",
       "r5/VvD1R/fkoejsXO7m6hI/NL1IsnwqlRLfsFcKTicXs17RZz+x6D7umktyIIZprrSlcfVis5YKB\n",
       "yrHHku46F++km2mnSAFg+v4W71/8zxSg5YcvcXNa6rdZwqfzGuSAUDj17mhkpLIDNCMfMYN0Ses+\n",
       "ROEWFfABG2yq8TrDWy/mi5AbL/47Y9PxywnCWXwNSg5tsoJRebEYBtcOxEmUqUxmlDjS5Kqm43Yf\n",
       "bvP4qjB/QGL8rytaqcyU8bz9dm1zBdzbbV7Nj0xcyRhIR6dl1Ok0HvBqXqd7Fom/I8tZlthZrPF5\n",
       "xHF7pxXkzroRoo0UKukrudKsC59y0/KpZH3bNbpI2Emvp3YAAAcXQZpDSahBbJlMCFf//jhADMzt\n",
       "mgklCAAIubm0nke8oWwSTVcGUtJjOayEZ9vjSmUqw72gE9bVqR0h6IGMGXKFhYzxhBmohcQXU/Zc\n",
       "r8mQG8enLsNVlCyGy5hEryxTCl93Qupu2x+YS/bYGFF5yFQSXeoANxVDh47JjsSHTghh8VG8oRcT\n",
       "6P1EAi5LI+1XhrWrmk2DYWoX/OlXWcBfIB7zE5aKhkvup4ft8TKvcbcA6lEfl8XqqXEn6k5UjGbg\n",
       "NqQz5bF7xf/hUWeKoiB0g9zJzgsY+B+yvpITmuN+q/QiGRzUcxyuREFOZixBHw2uiExwydLGEdQo\n",
       "ar/fBQNLO3fglKhooDt4nGDvTUMIATi2onUFh9bYakwLxERNWnqMyO5rdtF7igGIHhszb5te2+bA\n",
       "UIJbNrNIjAAeJrqUaz3zjblXRmq8HsP8UJXnPp1BGxpTLPpKVt2avZKk8xxIVIy35Doh43YLnvTP\n",
       "zPchzEBDe8J4x6kHYLij52ho3KZzemkzCg8/oAOTw97EICCRpuYoQzMOO85PFOfNzQtr3/G+gAs0\n",
       "dLYPGxiVaELuwHs+zdx/x6cNMUya0Q+gBLmhQv/CDG/I/tdv49FbMKH5S9KUPreaVnKxefbgTV6N\n",
       "0CSpFjDpaMsYA/aZiyyQtQp9QthpGIOx1uv1aVFmMiTvKbxwl1C4WXaLaIi/GoEGLF+c4BGGp5RT\n",
       "Ad433AsS5x7rvrEewmzWZpxcPL+AKO996fFedkSRADLOxh6UjbdyCfoL5uCB4DJ6AFafQEE+71PH\n",
       "F8nK4gf9J/PyowGODKvbU+4SBAcusSuZJRHX8LY9waPF4CVmZ/qpVXAafE9Wo4L8ljx/tfq7KxB+\n",
       "nhGOceMf2pT1KOxQTka0n0c/QLK8oZyCjktm4Bega9xm3rXT3FbZ6pwnp9hXfT3y25fSkWEoZHMG\n",
       "6OxzgvtNlO3zghA8jR2IXnTXm6t09q6YK41zNRmlFO4GSbDVMlLKZQ5v78iyW3Y06Dg8fRi0vNsc\n",
       "YhPQHFCFM/88pQ3MFf3WrI91DqgwZSF0jta6jw/o9fO/FGuBi4CG+bYKCsmPYurVFu/i2dhVB654\n",
       "hxz0LuSYcSeqQH4HPa5BhVcamWkQiY7Qg8/Nu+0QY1zV0VzwXS0ErULZOYbEc+u/5F8RLSy1wUXS\n",
       "UgFh6v9KQ1YOb16V/uMCKT/fak6oD14dJE3gMTmsv6KtA2XIZPTqYPOXLaw9VUOuE+2eUj/zZlcu\n",
       "cwzat157ch1Jg/IswddHKY74Cah2btwA4aksvdT/rkt+jB6KfZVdpyBNfnRGZOaV3fsp+zDT93d8\n",
       "iM41CY6yWVBWOZ2mw/JuFxtMBLWj5q9S27NLiLgF4OsWRCFzD2kwQgnp+gjPl23hFBCBAL64zOOE\n",
       "yftih1gFwYKwlyBvan34BDgi/V5i8dSqtOW4GDZbP0CmdfCZ74QwstNh+95K9Taf8/BMK2dc2eh3\n",
       "M6JFeM077YyhfLw6LFAf3JF0OGv1pzm8t6az0+GzkO7YIOw/Y3ZiG0nZTaRbWUv4qdKE97pvNe+j\n",
       "jJgsCH+uuDgoGUMJaq6sehE8i7o97BqvwmgV53NKbJSjiiX3bMKpbEgOS11HAPI/sWpNC4UceaZ1\n",
       "BkCfhA/1lbMr56HOGqAxEZ3rMHHWazlxHb4yYyP7jXKUspssYDjgB0NXS5OyRyuOKsMtrvH9EYjW\n",
       "NKuKnvVjxLocj5GpMTtw0RFncR8pZmEhztIc/5UlYI+yDIHBhZasMMCoUULQrWimHz5O6KT0sjS1\n",
       "mEEysqFlwWf7A/Hjb3PhWxYrRXeIysx/LP3NgQmuCv65USPj3oQgkMfWmqpUXjeaS5PG/blaVo0J\n",
       "il4gBTo6J157lLk9dOZSqZU6/kc5y6Ak/jvc+MIvdaraX/1sdNKkfT0ZLAKy6IGD511L7OfbL0n6\n",
       "Ul/LWwaZOJQzxNdAjJfu5Rn8lfiUzAhSzUYEWCCUs8uFBf70RBJrsKvkm9EwFl/W9pZlfTYse2xP\n",
       "mqKfyqgy/gH/T6Uk1oARPPEWnmOnqCnhpV8cLnFH0c+67cCTj3qJ+yBkcRsweG8+hTa0QOQbHtfi\n",
       "OaPO0qQwib6pH4X/juk8rqphbLowjcKVm7lL8mkFc64NisMR0Q3iGzCTJdg70ydiGCNR+rXTN3OP\n",
       "b92UuLg/zVSje3heRcj1vPhrOTJr86rn5dgMEdBwvXJR1ESVcdJ6YBKRgGA0DR3x2+AkDXIFQCJP\n",
       "N7ts0CT8SOz/KUUZ0fSaUHBF73coS5UgcqjdDoq5NAuKfmOFbrhAeDAeLy2uqYiPZ/q4cCzGV4r6\n",
       "IfW9FkiJkeIwm/KX9HXMY0aIYMx8j7RrSNDXP4dOppmvTYIsl0/worknZa6TYyrt+ZcKFQW/+YH6\n",
       "mRct5SaWlt5EdotHNqU1eVNfVfWZx0yJgI49rB+5AAAFzUGeYUUVLDP/AOKwT3wiT8YlOAUc/EAN\n",
       "HmKf2C/7l31gjFIPLFk+qYkvkL2y9G2M4VZ0wSw1zaBRP9RZ2HW6mLIDsHhY6fymu4pZJSU1dHrL\n",
       "63pvTKsgfZ8FqMo3dYgme0sff3XjotNOIqQJGwVMtYFqViBlxDWk/9DCDP9Vaae+8IPbqGxlg8eX\n",
       "fDV1VFqX3vn4KQ1x6KsConiPV8DW2is8ajIsMHMuYIRUPz4Bg95mAVly7mjxRzELFih/U6/GmKKr\n",
       "rxf18abgci5qFCXvXYOy4uBr7Cw82QDgLRbcq5W0X4Y1Fp2xdqXN4BU+vn4f4nRntJTIpwepxoVn\n",
       "ySsBAMKg+J6ZouzHhUg2lw7wtoJdpaA9J+HF+SeqhLnoxudEtUSGlLPsXdMozXrVA4WVM25om3dz\n",
       "gkfFP01ixCttnyH+4z4MvIj/YARX9H+kau/umdLaYWZybo578RW6wI51/zvOgzUxJrEOybUe5Oed\n",
       "tVKljw9joFGYEpbNPdHBH7i7kx5QkSBxH+2UuWRUJq5uWlYTdkAF1pGMi3sRHPvk95e70pCH/nq+\n",
       "qSRTQJAAp8KJNkdkk/QRE3QRr93GoFVND+HY8zhu9XMljogvghiO+T1ZBDdHOHqTLTc3OzfI+vH9\n",
       "xKryYYAK1QeXAnt/W0ujCd9+TDe12yQcQKJg8CZi/UUV1PUivJe1Ivw9XtA7mVYNRAwiTOQvSUr6\n",
       "GgZt+sE6E64Zm404fxQetEFTsebhePAUuECnpR1HXMqkiIa4NQir90NyHZLv70NlXdCsEOHlUi9N\n",
       "uYHHliR7lf8SOXxhmKMH0Mo/+kLeCA5iRuR74J89hfP+jvhR5OQhIfKR9ywVHsbouc9d4h0sQ3Cm\n",
       "L6nV1cTse1Z/Edcl+vqLmjk9n7BzawzWPxGlC9pymbrnCn9wGQgeHuBw6SvoX/rnLu0EHlwj5bul\n",
       "LWWxu7ABQFYUbsN+6hjBSpR/8MjeKvq7oSgAWk//E7iAtR99bYIn3mO+d2lC9tk1OSy50SLuzLx6\n",
       "QzU4AKv1Zx8SISQ2l8YaEeTROppbpBAZsUecMWwUUWWrbsSrXl9K10/KlGTP0Wehz50ofv0gw8Z9\n",
       "n6bSJd4mJOOCzivm6Aq4ERfBAhL7ZtLo7+CLT74yR3LXEn2MxQAEIeS/VDR8yIzL1RqiCMLw8UyG\n",
       "cNrq/02rfBQ6/f9Esp98q+1RVXj5+QxO5ujroPktaO1WAMxm1Er0+e88DDUpXqZQ8zo06fE1rfZ0\n",
       "wHcQNU3qms5fKqcJb4E2BXTkNtSRXEaevyYCNREEig71ygeR43DHb4IZZHPsMWCRoDmccSNyOKXK\n",
       "5FFqMZOjkp+z7ZV5Gdfj8PNZuogtX+zojDXpPszzOvSCmedrUJtfL07I/v/YKhEjvza/bgut/eNy\n",
       "ii5xFobmmju/GDxuivBvkjfxgQyzxWPPrQH/71zlmgcjua3H9CWbGzpcpmHT9EBApw7+/sPaJ6Vr\n",
       "hAgw1nbacji7NOVdCcWxRL6Y6GESQBqjb/DPHvrzhqYkKLc1lMuyqdzwaFUXpshfw3zYFKZcA0uB\n",
       "wW9LgowDmNQwp2gj2xlcHffBLHpRa46Ab9NwmgCATqo0b1n8knKxZEeZ6NCormG0ZLesnTnowvZk\n",
       "MQt1F1v2GTE87OcJ9qGuENsY6ucltxWCf0tGi52BMcOF/MxsoykdhSs0BGDeysZaoRtX8NoiBtcX\n",
       "5oq1xoXQ+FPLK9K7K1rpz/6AH33yiFvbrwVYKPVbWHO2XV8sWpr4y99MhH6LyDjSsjj9vhPn8mCH\n",
       "bDlDIKl2BQ8EfOrTJh4Gj4AXjOSMcUqgWle+sLtMitfgjXnA9mkuo8qwsCTpxJ84zd6O5ABx0TyV\n",
       "Gqc2CHjRsNi941MimCQg8t1BAVuLXShg6IKb62e18gTHvrK49hwOGVs7i26q6m0vpTatSJ7xQt8B\n",
       "gdZ2P2Jy8LeYuvbiP+erNtvMti5gIV+N2ZNsf62WKLNP4IFHMgAAA9cBnoB0Qr8Bpv7FCccTNDCA\n",
       "ACDIWqYF245OLuCqfNbvYBJ62wokmXyufICBMV1sTBBCwDPNg2WbMG7Js84FWLdN3pDfJugavz0M\n",
       "iXgYk9DylRR6v3VUmapP/e2S5W16k7OAvHbJf7Ks6+zsXks8BWSqZ4D4k+cMR0rBEj8l9e63hPyM\n",
       "92fwgZrY4rZnfxDHB3iAQwi7lFImqKDE5ZlFA3yE1a18DBamyWJYkJ2bjRlXQ9vRPgoUF2sWsU+p\n",
       "ZxdWi6Bd6mv/Zk0rwqFlm1hQ4v3BKIoZfRiYena/hbzHTSoJnPEZ7hoOodYIhf+tv1BU13Hh9yzA\n",
       "csbcOaIjIDYuTQV4w/EdbsTtCUoSfUwWgp4X5O5kqjibfF7VixjXZBUMBVc+BHWMFyVSfiKPRdTq\n",
       "a6DQSxaMD4oKPuFuOo8do2xJR62qzcpwp5Oh3I8sMBEzgs8sD+tFlR8yM+7dFszT/8lrfHl+B1J9\n",
       "5Jnfgsh4fKNi1At6R056XwfhJ2ZE0PSXfMqU9gk7rGdjLyDC8iyVZXYNPYJp2AvSxJJ3E9ftvBCF\n",
       "YY/CBKxgypWswWo9zkRzn9gikbX9OHR86yPS1JYb2ak0/uejIsB8WvqHCJQW3cO/3k/BzMfw43k5\n",
       "+9sknMmpGbouD3Z0czZC8EjgQiPePYgxUqQn79YPyHYNLNQnwZVgggrqxVCsjq3+evZdCxgpDXN1\n",
       "uY7Z+iE/v5D0FbHCRXo7hqg6inT0Y0of+dxxqPgGCGw/5Xym0myeTqfPde6d8Hdj6FMokqtvGO/0\n",
       "5zQBll9PDPp1r0wvb9pa+GpM+qCLccCK+bZqdwO5DGiv3NFO3nwHWuk8DfueqaltYyasm/6Q1G6/\n",
       "s7ZjBszhuAjeQfj0U5w1qmL1MtyNWb9twPKZbAve17/4B+3MTi/nJUnyPUmvJOAg/CxnWpQe5Yg6\n",
       "ce0QhxnAskgjY8Sb2HMLweCwlAOb3gY3eCCUa6NRVgBtmYf5mbqqnrbjkEoupWmyAUvNpJ6DAFBd\n",
       "0Jq17rFTo+hhWQo2GyBDqdLhPQ5Q8vKwwhLiKHa0EAZv1ZCQTBS8o1TZOB0w4pjDBmwIzqxhwWnE\n",
       "Je4/FXfORdmTb7TGC/QylCjAgLumt+eI2CLWWdCE4Az1G5J2dudgrvjCI3/kqDdS8b3n54JdBGJx\n",
       "RFDL6m1tRM96F1N8R/DPmSUuD2fu0pr/W+fYdKEjYzB9rFRTcSWrpLvRQcsf/SPsZZ0QTnME1e+E\n",
       "wIqckhpFRBdZQjMC5h+guxXxm8LPp5NC4DFQnE21tVttg4XoomtPWEOlOY67tNiZ9oOUDuT88QAA\n",
       "BGUBnoJqQr8Bp3THwUmF3GgAIoVGi5yq1X0iE0Q5xVKFi8AxRFYY3ynVY5AIByUyStuLf0tE870v\n",
       "G03YPuOoAWNGilg0Mei9WajQnJ9izGqG44SXtxwwRbBX+ik7pBDo8HOdwb81EMq+0uYJKpyfhwqR\n",
       "Eqxy8jqxuHh38tkkS//axi5mlEUo7nkNc8a8vlT0lyu2xwV/rVXxfyn7+f9ZupaF+eGfGjFAof8n\n",
       "BDwMOZHJkJaMa9DLJTL1tRIc814iDA9DkXMV2U2YTF/EzyqygUyzpomCXjCjRT2dew1yfYYJ9qzF\n",
       "WFl3o+PMTchum0fTzXNaT64z7Ttzxr2ugM50DLvng4tVtdXjw4nRGE3yt0+oGbSRs+ch13P1Dzcr\n",
       "7bFQkjOmWYBh7w0hqRrvR5uMq3zyE+o5BLobv3GOztHe/TrHKkNLPeMlnjYV6VG88MZyWRFdooeq\n",
       "dzzTEwx8DCrXpzpef8KJdYOECrmDvPlwRj7UGuZPWOkS9Ohfk2zbLBDQl95OgpUvkLHpiBWFrgpD\n",
       "7scVSPqKiiq5vfClY3A7LhdtsIgScenKceSDq1pkcgH9Fa0N2VPN5zE4LtxOz63nadUSdc6rXwJQ\n",
       "AtgOeKEP3D7Bv2uS780QkOhT1XVvHpSH69a2rKjiRjJnbka74GQN8Q/6yfHwh3m+xANBRjPYgRLa\n",
       "Lb3teIm40DzePuo+3OUZnzYGG1fozaxdy5kbeoy2OinL11AdVPfUpLbg83oMGL8zRon9Y/nL8+MB\n",
       "kO92CSfJITCZk3a3lCa0fgnxmfNtXb8T5AsvuSDvef/EC5ufk4+0TRIpuzx05iop138NTzthnrwH\n",
       "nGtzgRTVMGPcnlG1DbAOC4mTtBr903cCs8DVBvhgnhtDw3s4UswIPiUTSr1M3gjmLb8BB1BSEdON\n",
       "52WoFPawZM7D6Lj70FOCBiB4QQ9NqW13qE0+InRgGU/kCAOi8UAE3SGNcuYVMBRUANNQVoH5YSXs\n",
       "y3fIa3A64OxhaBV2Fbc5yqERgW82G+FyDDDRlLaJwVzj0QoZTzhRv72tu/GPXh/Pvw19lq9h6LHn\n",
       "kvqRXjmad4A1S5R8e0n/cxAd9cf1iUT+YQcqUe/opIMxNQ0XR21HR4/4+UzQ0kOGjsJWi9JC9a6Z\n",
       "Lq7hpChpM5Me8dLk6dCYTlBQVnJ/yyuAY0kBulMbAhaQWvO49QRYzr3VT5gpCVTO82C0GnKWYMjg\n",
       "35giEJMEMhGEPa9ee2WB5ypxx6svFW+kHVda3E1/KtVbuCBA3EhBru7MExlAHrifeRYEk3XysDbe\n",
       "WmhcQHidlAfRiul6qDRcP/uKSG2Y0mJUneIiwIRafctmXOgC6jYv+BNbTE1Qui1wdjW7JWOWwO+K\n",
       "pFz4tcyd0AiOuPf6qYbdyfjqFRuGkjFePQFRkEOr2NIO3W/EV7TpX2DgyW/VyZftNrbBuu5IZ0A4\n",
       "zeE2UTPPrul56OlPDNmSdaaXWjgYL+RtlDuhd4a940HCzM7+zHzbTvDpiWgAAAfObW9vdgAAAGxt\n",
       "dmhkAAAAAAAAAAAAAAAAAAAD6AAAE4gAAQAAAQAAAAAAAAAAAAAAAAEAAAAAAAAAAAAAAAAAAAAB\n",
       "AAAAAAAAAAAAAAAAAABAAAAAAAAAAAAAAAAAAAAAAAAAAAAAAAAAAAAAAAAAAgAABvh0cmFrAAAA\n",
       "XHRraGQAAAADAAAAAAAAAAAAAAABAAAAAAAAE4gAAAAAAAAAAAAAAAAAAAAAAAEAAAAAAAAAAAAA\n",
       "AAAAAAABAAAAAAAAAAAAAAAAAABAAAAAAbAAAAEgAAAAAAAkZWR0cwAAABxlbHN0AAAAAAAAAAEA\n",
       "ABOIAAAEAAABAAAAAAZwbWRpYQAAACBtZGhkAAAAAAAAAAAAAAAAAAAoAAAAyABVxAAAAAAALWhk\n",
       "bHIAAAAAAAAAAHZpZGUAAAAAAAAAAAAAAABWaWRlb0hhbmRsZXIAAAAGG21pbmYAAAAUdm1oZAAA\n",
       "AAEAAAAAAAAAAAAAACRkaW5mAAAAHGRyZWYAAAAAAAAAAQAAAAx1cmwgAAAAAQAABdtzdGJsAAAA\n",
       "s3N0c2QAAAAAAAAAAQAAAKNhdmMxAAAAAAAAAAEAAAAAAAAAAAAAAAAAAAAAAbABIABIAAAASAAA\n",
       "AAAAAAABAAAAAAAAAAAAAAAAAAAAAAAAAAAAAAAAAAAAAAAAAAAAGP//AAAAMWF2Y0MBZAAV/+EA\n",
       "GGdkABWs2UGwloQAAAMABAAAAwCgPFi2WAEABmjr48siwAAAABx1dWlka2hA8l8kT8W6OaUbzwMj\n",
       "8wAAAAAAAAAYc3R0cwAAAAAAAAABAAAAZAAAAgAAAAAUc3RzcwAAAAAAAAABAAAAAQAAAyBjdHRz\n",
       "AAAAAAAAAGIAAAACAAAEAAAAAAEAAAgAAAAAAgAAAgAAAAABAAAEAAAAAAEAAAoAAAAAAQAABAAA\n",
       "AAABAAAAAAAAAAEAAAIAAAAAAQAACgAAAAABAAAEAAAAAAEAAAAAAAAAAQAAAgAAAAABAAAKAAAA\n",
       "AAEAAAQAAAAAAQAAAAAAAAABAAACAAAAAAEAAAoAAAAAAQAABAAAAAABAAAAAAAAAAEAAAIAAAAA\n",
       "AQAABgAAAAABAAACAAAAAAEAAAoAAAAAAQAABAAAAAABAAAAAAAAAAEAAAIAAAAAAQAACgAAAAAB\n",
       "AAAEAAAAAAEAAAAAAAAAAQAAAgAAAAABAAAKAAAAAAEAAAQAAAAAAQAAAAAAAAABAAACAAAAAAEA\n",
       "AAoAAAAAAQAABAAAAAABAAAAAAAAAAEAAAIAAAAAAQAACgAAAAABAAAEAAAAAAEAAAAAAAAAAQAA\n",
       "AgAAAAABAAAKAAAAAAEAAAQAAAAAAQAAAAAAAAABAAACAAAAAAEAAAYAAAAAAQAAAgAAAAABAAAK\n",
       "AAAAAAEAAAQAAAAAAQAAAAAAAAABAAACAAAAAAEAAAYAAAAAAQAAAgAAAAABAAAKAAAAAAEAAAQA\n",
       "AAAAAQAAAAAAAAABAAACAAAAAAEAAAoAAAAAAQAABAAAAAABAAAAAAAAAAEAAAIAAAAAAQAACgAA\n",
       "AAABAAAEAAAAAAEAAAAAAAAAAQAAAgAAAAABAAAKAAAAAAEAAAQAAAAAAQAAAAAAAAABAAACAAAA\n",
       "AAEAAAoAAAAAAQAABAAAAAABAAAAAAAAAAEAAAIAAAAAAQAACgAAAAABAAAEAAAAAAEAAAAAAAAA\n",
       "AQAAAgAAAAABAAAKAAAAAAEAAAQAAAAAAQAAAAAAAAABAAACAAAAAAEAAAoAAAAAAQAABAAAAAAB\n",
       "AAAAAAAAAAEAAAIAAAAAAQAACgAAAAABAAAEAAAAAAEAAAAAAAAAAQAAAgAAAAABAAAKAAAAAAEA\n",
       "AAQAAAAAAQAAAAAAAAABAAACAAAAAAEAAAoAAAAAAQAABAAAAAABAAAAAAAAAAEAAAIAAAAAHHN0\n",
       "c2MAAAAAAAAAAQAAAAEAAABkAAAAAQAAAaRzdHN6AAAAAAAAAAAAAABkAAA38gAAB9YAABLlAAAF\n",
       "NQAABLcAAA8aAAAOxgAABk4AAAQBAAADtwAAEGgAAAUCAAAEqAAAA+UAAA5pAAAFqgAABA0AAAQn\n",
       "AAAOMwAABYIAAAQoAAAD5wAADjoAAAQcAAANPwAABpEAAAPpAAAD6QAADh4AAAWHAAAEFAAAA+EA\n",
       "AA7aAAAFhQAABDwAAAQcAAAN/gAABhwAAAPwAAAEOgAAEC4AAAX6AAAEYAAAA/8AAA7KAAAFaAAA\n",
       "BEwAAARZAAAMfQAAA8EAAAtIAAAEyAAAAxAAAALoAAAK7gAAA04AAA/UAAAFbAAABB4AAAU+AAAP\n",
       "owAABwUAAASaAAADpwAADTkAAASSAAADYAAAA5oAAA9jAAAGmQAABEQAAATdAAANuQAABKYAAAMp\n",
       "AAADaAAADZYAAAbJAAAExQAABEQAAA18AAAF1QAAA18AAAReAAANxAAABQgAAAT5AAAESgAADKwA\n",
       "AAUoAAADuQAABGcAAAwsAAAE4AAABNUAAAPLAAAHGwAABdEAAAPbAAAEaQAAABRzdGNvAAAAAAAA\n",
       "AAEAAAAsAAAAYnVkdGEAAABabWV0YQAAAAAAAAAhaGRscgAAAAAAAAAAbWRpcmFwcGwAAAAAAAAA\n",
       "AAAAAAAtaWxzdAAAACWpdG9vAAAAHWRhdGEAAAABAAAAAExhdmY1OC4xMi4xMDA=\n",
       "\">\n",
       "  Your browser does not support the video tag.\n",
       "</video>"
      ],
      "text/plain": [
       "<IPython.core.display.HTML object>"
      ]
     },
     "execution_count": 96,
     "metadata": {},
     "output_type": "execute_result"
    }
   ],
   "source": [
    "# Show the animation\n",
    "HTML(ani.to_html5_video())"
   ]
  },
  {
   "cell_type": "code",
   "execution_count": 97,
   "metadata": {
    "slideshow": {
     "slide_type": "skip"
    }
   },
   "outputs": [],
   "source": [
    "# Save the animation\n",
    "ani.save('masses_for_{0:02d}_modes.mp4'.format(N), dpi=100)"
   ]
  },
  {
   "cell_type": "markdown",
   "metadata": {
    "slideshow": {
     "slide_type": "skip"
    }
   },
   "source": [
    "The last command saves the animation as a ```.mp4``` video file. I saved a few and uploaded them onto Quercus."
   ]
  },
  {
   "cell_type": "markdown",
   "metadata": {
    "slideshow": {
     "slide_type": "skip"
    }
   },
   "source": [
    "A few comments.\n",
    "You are not required to remember them at this point, but you will later on in this lecture series on waves and oscillations, so might as well start early.\n",
    "\n",
    "* For some modes, some masses don't move, or hardly at all. Likewise, some masses move symmetrically around points that would be associated with zero velocity if they had a mass on them. Such points are called \"nodes\". In-between nodes are locations where the velocities seem larger. These points are called \"antinodes\". We will be able to visualize them better with waves on a string.\n",
    "* The distance between two nodes corresponds to half a wavelength: every two nodes, the motion is periodic (spatial periodicity).\n",
    "* The larger the mode number (or the frequency) is, the more nodes there are, or equivalently, the shorter the wavelengths are. As a matter of fact, the first mode has zero nodes, the second mode has one node, and the $n^{th}$ has $n-1$ nodes. This is a general feature of standing waves, again better visualized with waves on a string.\n",
    "* Modes with more nodes are called \"higher modes\", those with less nodes are called \"low\", or \"grave\". The terminology comes from sound waves. Sound waves with larger wavelengths sound indeed graver (lower frequency) than sound waves with smaller wavelengths (higher frequencies)."
   ]
  },
  {
   "cell_type": "code",
   "execution_count": null,
   "metadata": {},
   "outputs": [],
   "source": []
  }
 ],
 "metadata": {
  "anaconda-cloud": {},
  "celltoolbar": "Slideshow",
  "kernelspec": {
   "display_name": "Python [default]",
   "language": "python",
   "name": "python3"
  },
  "language_info": {
   "codemirror_mode": {
    "name": "ipython",
    "version": 3
   },
   "file_extension": ".py",
   "mimetype": "text/x-python",
   "name": "python",
   "nbconvert_exporter": "python",
   "pygments_lexer": "ipython3",
   "version": "3.5.6"
  }
 },
 "nbformat": 4,
 "nbformat_minor": 1
}
