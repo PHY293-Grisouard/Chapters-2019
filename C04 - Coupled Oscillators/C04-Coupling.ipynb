{
 "cells": [
  {
   "cell_type": "raw",
   "metadata": {
    "raw_mimetype": "text/latex",
    "scrolled": true,
    "slideshow": {
     "slide_type": "skip"
    }
   },
   "source": [
    "\\newcommand{\\rads}{~rad.s$^{-1}$}\n",
    "\\newcommand{\\bnabla}{\\boldsymbol{\\nabla}}\n",
    "\\newcommand{\\eexp}[1]{\\textrm{e}^{#1}}\n",
    "\\newcommand{\\glm}[1]{\\overline{#1}^L}\n",
    "\\newcommand{\\di}[0]{\\textrm{d}}\n",
    "\\newcommand{\\bs}[1]{\\boldsymbol{#1}}\n",
    "\\newcommand{\\ode}[2]{\\frac{\\di {#1}}{\\di {#2}}}\n",
    "\\newcommand{\\oden}[3]{\\frac{\\di^{#1} {#2}}{\\di {#3}^{#1}}}\n",
    "\\newcommand{\\odel}[2]{\\di {#1}/\\di {#2}}\n",
    "\\newcommand{\\odeln}[3]{\\di^{#1} {#2}/\\di {#3}^{#1}}\n",
    "\\newcommand{\\pde}[2]{\\frac{\\partial {#1}}{\\partial {#2}}}\n",
    "\\newcommand{\\pden}[3]{\\frac{\\partial^{#1} {#2}}{\\partial {#3}^{#1}}}\n",
    "\\newcommand{\\pdel}[2]{\\partial_{#2} {#1}}\n",
    "\\newcommand{\\pdenl}[3]{\\partial^{#1}_{#3} {#2}}\n",
    "\\newcommand{\\divr}[1]{\\vec\\nabla \\cdot {#1}}\n",
    "\\newcommand{\\divrb}[1]{\\boldsymbol{\\nabla} \\cdot {#1}}\n",
    "\\newcommand{\\grad}[1]{\\vec \\nabla {#1}}\n",
    "\\newcommand{\\gradb}[1]{\\boldsymbol\\nabla {#1}}\n",
    "\\newcommand{\\curl}[1]{\\vec\\nabla \\times {#1}}\n",
    "\\newcommand{\\curlb}[1]{\\boldsymbol{\\nabla}\\times\\boldsymbol{#1}}\n",
    "\\newcommand{\\lapl}[0]{\\vec\\nabla^2}\n",
    "\\newcommand{\\laplb}[0]{\\boldsymbol{\\nabla}^2}\n",
    "\\newcommand{\\cplxi}[0]{\\mathrm i}\n",
    "\\newcommand{\\unit}[1]{\\mathbf{\\hat{#1}}}\n",
    "\\newcommand{\\thrfor}[0]{\\quad\\Rightarrow\\quad}\n",
    "\\newcommand{\\and}[0]{\\quad\\textrm{and}\\quad}\n",
    "\\newcommand{\\oreq}[0]{\\quad\\textrm{or}\\quad}\n",
    "\\newcommand{\\red}[1]{\\textcolor{red}{#1}}\n",
    "\\newcommand{\\blue}[1]{\\textcolor{blue}{#1}}\n",
    "\\newcommand{\\mage}[1]{\\textcolor{magenta}{#1}}\n",
    "\\newcommand{\\stirling}[2]{\\genfrac{[}{]}{0pt}{}{#1}{#2}}"
   ]
  },
  {
   "cell_type": "raw",
   "metadata": {
    "raw_mimetype": "text/latex",
    "slideshow": {
     "slide_type": "skip"
    }
   },
   "source": [
    "\\DefineVerbatimEnvironment{Verbatim}{Verbatim}{fontsize=\\scriptsize}"
   ]
  },
  {
   "cell_type": "markdown",
   "metadata": {
    "slideshow": {
     "slide_type": "skip"
    }
   },
   "source": [
    "$\\newcommand{\\rads}{~rad.s$^{-1}$}$\n",
    "$\\newcommand{\\bnabla}{\\boldsymbol{\\nabla}}$\n",
    "$\\newcommand{\\eexp}[1]{\\textrm{e}^{#1}}$\n",
    "$\\newcommand{\\glm}[1]{\\overline{#1}^L}$\n",
    "$\\newcommand{\\di}[0]{\\textrm{d}}$\n",
    "$\\newcommand{\\bs}[1]{\\boldsymbol{#1}}$\n",
    "$\\newcommand{\\ode}[2]{\\frac{\\di {#1}}{\\di {#2}}}$\n",
    "$\\newcommand{\\oden}[3]{\\frac{\\di^{#1} {#2}}{\\di {#3}^{#1}}}$\n",
    "$\\newcommand{\\odel}[2]{\\di {#1}/\\di {#2}}$\n",
    "$\\newcommand{\\odeln}[3]{\\di^{#1} {#2}/\\di {#3}^{#1}}$\n",
    "$\\newcommand{\\pde}[2]{\\frac{\\partial {#1}}{\\partial {#2}}}$\n",
    "$\\newcommand{\\pden}[3]{\\frac{\\partial^{#1} {#2}}{\\partial {#3}^{#1}}}$\n",
    "$\\newcommand{\\pdel}[2]{\\partial_{#2} {#1}}$\n",
    "$\\newcommand{\\pdenl}[3]{\\partial^{#1}_{#3} {#2}}$\n",
    "$\\newcommand{\\mde}[1]{\\frac{\\textrm{D} {#1}}{\\textrm{D} t}}$\n",
    "$\\newcommand{\\mdel}[1]{\\textrm{D}_t {#1}}$\n",
    "$\\newcommand{\\divr}[1]{\\vec\\nabla \\cdot {#1}}$\n",
    "$\\newcommand{\\divrb}[1]{\\boldsymbol{\\nabla} \\cdot {#1}}$\n",
    "$\\newcommand{\\grad}[1]{\\vec \\nabla {#1}}$\n",
    "$\\newcommand{\\gradb}[1]{\\boldsymbol\\nabla {#1}}$\n",
    "$\\newcommand{\\curl}[1]{\\vec\\nabla \\times {#1}}$\n",
    "$\\newcommand{\\curlb}[1]{\\boldsymbol{\\nabla}\\times\\boldsymbol{#1}}$\n",
    "$\\newcommand{\\lapl}[0]{\\vec\\nabla^2}$\n",
    "$\\newcommand{\\laplb}[0]{\\boldsymbol{\\nabla}^2}$\n",
    "$\\newcommand{\\cplxi}[0]{\\mathrm i}$\n",
    "$\\newcommand{\\unit}[1]{\\mathbf{\\hat{#1}}}$\n",
    "$\\newcommand{\\thrfor}[0]{\\quad\\Rightarrow\\quad}$\n",
    "$\\newcommand{\\and}[0]{\\quad\\textrm{and}\\quad}$\n",
    "$\\newcommand{\\oreq}[0]{\\quad\\textrm{or}\\quad}$\n",
    "$\\newcommand{\\red}[1]{\\textcolor{red}{#1}}$\n",
    "$\\newcommand{\\blue}[1]{\\textcolor{blue}{#1}}$\n",
    "$\\newcommand{\\mage}[1]{\\textcolor{magenta}{#1}}$\n",
    "$\\newcommand{\\stirling}[2]{\\genfrac{[}{]}{0pt}{}{#1}{#2}}$"
   ]
  },
  {
   "cell_type": "code",
   "execution_count": 18,
   "metadata": {
    "raw_mimetype": "text/x-python",
    "slideshow": {
     "slide_type": "skip"
    }
   },
   "outputs": [],
   "source": [
    "from IPython.display import Image, display"
   ]
  },
  {
   "cell_type": "markdown",
   "metadata": {
    "slideshow": {
     "slide_type": "skip"
    }
   },
   "source": [
    "*[Book: chapter 4]*"
   ]
  },
  {
   "cell_type": "markdown",
   "metadata": {
    "slideshow": {
     "slide_type": "skip"
    }
   },
   "source": [
    "# Introduction"
   ]
  },
  {
   "cell_type": "markdown",
   "metadata": {
    "slideshow": {
     "slide_type": "skip"
    }
   },
   "source": [
    "This chapter is a pivotal chapter in this lecture series, and from past experience, one of the most challenging as well.\n",
    "It makes the transition between the behaviour of simple oscillators and wave behaviour.\n",
    "However, these two things look very, very different.\n",
    "Where does the connection happen?"
   ]
  },
  {
   "cell_type": "markdown",
   "metadata": {
    "slideshow": {
     "slide_type": "skip"
    }
   },
   "source": [
    "Here is the pivot, and pretty much the goal of this chapter: when two oscillators are coupled, i.e., the motion of one oscillator is influenced by the motion of the other, any motion that ensues can be thought of as a linear combination of two orthogonal types of motion.\n",
    "The features of these orthogonal types of motion can be found by solving for the eigenmodes of the matrix, corresponding to the $2\\times2$ linear system of equations of the two oscillators.\n",
    "Each orthogonal mode of motion evolves independently, and its evolution equation is that of a simple harmonic oscillator.\n",
    "Physically, the most visible manifestation of one single mode of motion is that all parts of the coupled system of oscillators oscillate at the same frequency, while a different mode will have those parts oscillate at different frequencies."
   ]
  },
  {
   "cell_type": "markdown",
   "metadata": {
    "slideshow": {
     "slide_type": "skip"
    }
   },
   "source": [
    "If now an infinite number of oscillators are coupled, the number of orthogonal modes of motions are not to the number of two, but are infinite.\n",
    "This model can be thought of as a model for a continuous medium, in which waves can propagate.\n",
    "The superposition of this infinite number of modes can lead to an infinite number of patterns that propagate: waves.\n",
    "Once again, each of these modes satisfies the same equation as that of a simple harmonic oscillator."
   ]
  },
  {
   "cell_type": "markdown",
   "metadata": {
    "slideshow": {
     "slide_type": "skip"
    }
   },
   "source": [
    "It is the circle of life, PHY293-style: from oscillators to waves, and back to oscillators.\n",
    "Hopefully, by the end of my lecture series, you will have started to understand this concept."
   ]
  },
  {
   "cell_type": "markdown",
   "metadata": {
    "slideshow": {
     "slide_type": "skip"
    }
   },
   "source": [
    "Finally, throughout the chapter, and in order to simplify the presentation, we neglect damping unless otherwise stated."
   ]
  },
  {
   "cell_type": "markdown",
   "metadata": {
    "slideshow": {
     "slide_type": "skip"
    }
   },
   "source": [
    "# Expectations"
   ]
  },
  {
   "cell_type": "markdown",
   "metadata": {
    "slideshow": {
     "slide_type": "skip"
    }
   },
   "source": [
    "## Remember\n",
    "\n",
    "* a normal mode of oscillation is when all of the components of a coupled system of oscillators oscillate at the same frequency. It is an object that is shared globally, by *all* of the components of the oscillator;\n",
    "* that the modes are completely independent when the system is linear; they all have their own quantity of energy;\n",
    "* the definitions of eigenfrequencies, eigenmodes, eigencoordinates. And that the 'eigen' prefix is equivalent to replacing it with the word 'normal';\n",
    "* the determinant of a $2\\times2$ matrix.\n",
    "* in the case of an initial value problen, and as for any second-order system, the future evolution of the system can be predicted if one knows all of its physical characteristics (for pendulums, that would be masses, stiffness(es), lengths and gravitational acceleration), the initial positions of each element of the system, and their initial velocities;\n",
    "* any solution of an initial value problem (IVP) can be written as a linear combination of the $n$ eigenmodes."
   ]
  },
  {
   "cell_type": "markdown",
   "metadata": {
    "slideshow": {
     "slide_type": "skip"
    }
   },
   "source": [
    "## Understand\n",
    "\n",
    "* what the process of beating is;\n",
    "* what a degree of freedom is;\n",
    "* how projecting can help solving IVPs faster."
   ]
  },
  {
   "cell_type": "markdown",
   "metadata": {
    "slideshow": {
     "slide_type": "skip"
    }
   },
   "source": [
    "## Apply\n",
    "\n",
    "* a systematic approach to retrieve all of the eigen-stuff is to solve an eigenvalue/vector problem. Remember how to cast the equations of motion into a matrix equation, and how to proceed to find all of the eigen-stuff (solve for the roots of the determinant, replace $\\omega$ by $\\omega_n$ to find the eigenvectors, maybe normalize).\n",
    "* how to use initial conditions to completely solve an initial value problem;\n",
    "* how to use projections to solve IVPs.\n",
    "\n",
    "I am probably forgetting a lot more.\n",
    "See worked examples, tutorials and problem sets."
   ]
  },
  {
   "cell_type": "markdown",
   "metadata": {
    "slideshow": {
     "slide_type": "skip"
    }
   },
   "source": [
    "# Coupled Pendulums"
   ]
  },
  {
   "cell_type": "markdown",
   "metadata": {
    "slideshow": {
     "slide_type": "skip"
    }
   },
   "source": [
    "## Simple Pendulum\n",
    "\n",
    "You have seen in the first problem set that the equation of motion of one undamped pendulum of length $l$ is \n",
    "$$ \\ddot \\theta + \\omega_p^2\\theta = 0,$$ \n",
    "with $\\omega^2_p = g/l$ and $\\theta$ is the angle of the pendulum with respect to the direction of gravity (See King fig. 1.15)."
   ]
  },
  {
   "cell_type": "markdown",
   "metadata": {
    "slideshow": {
     "slide_type": "slide"
    }
   },
   "source": [
    "![Fig. 1: King 1.15](SimplePendulum.png)"
   ]
  },
  {
   "cell_type": "markdown",
   "metadata": {
    "slideshow": {
     "slide_type": "skip"
    }
   },
   "source": [
    "Let $x$ be the distance of the mass from the vertical axis (see King fig. 1.15).\n",
    "We have $x = l \\sin\\theta$.\n",
    "In order for the SHO model to be valid, we need the oscillations to remain small, i.e., $\\theta \\ll 1$ or $\\forall t,\\ x(t) \\ll l$.\n",
    "In this case, $\\sin\\theta \\approx \\theta$, meaning that an equivalent equation of motion for the mass is\n",
    "$$ \\ddot x + \\omega_p^2 x = 0. $$"
   ]
  },
  {
   "cell_type": "markdown",
   "metadata": {
    "slideshow": {
     "slide_type": "skip"
    }
   },
   "source": [
    "## Two Pendulums and a Spring\n",
    "\n",
    "### Qualitative considerations\n",
    "\n",
    "#### Setup\n",
    "\n",
    "Let me use the example of two pendulums of identical lengths $l$, at the end of which two identical masses $m$ hang.\n",
    "The masses are attached via a spring of stiffness $k$, as shown on King fig. 4.2. \n",
    "When the two masses are at rest, both pendulums are vertical, and the spring is neither stretched or compressed."
   ]
  },
  {
   "cell_type": "markdown",
   "metadata": {
    "slideshow": {
     "slide_type": "subslide"
    }
   },
   "source": [
    "![Fig. 2: King 4.2](CoupledPendula.png)"
   ]
  },
  {
   "cell_type": "markdown",
   "metadata": {
    "slideshow": {
     "slide_type": "skip"
    }
   },
   "source": [
    "Let's call $B$ the mass on the left, and $A$ the mass on the right.\n",
    "$x_A$ and $x_B$ are the horizontal distances of each mass from their respective rest positions."
   ]
  },
  {
   "cell_type": "markdown",
   "metadata": {
    "slideshow": {
     "slide_type": "skip"
    }
   },
   "source": [
    "I will show how a systematic mathematical treatment of the equations of motion reveals that there are two \"natural\", i.e., normal, modes of motion.\n",
    "But first, let me introduce them qualitatively."
   ]
  },
  {
   "cell_type": "markdown",
   "metadata": {
    "slideshow": {
     "slide_type": "skip"
    }
   },
   "source": [
    "#### Antisymmetric Normal Mode"
   ]
  },
  {
   "cell_type": "markdown",
   "metadata": {
    "slideshow": {
     "slide_type": "subslide"
    }
   },
   "source": [
    "![Fig. 3: the antisymmetric normal mode](pendulum_syn.gif)"
   ]
  },
  {
   "cell_type": "markdown",
   "metadata": {
    "slideshow": {
     "slide_type": "skip"
    }
   },
   "source": [
    "Imagine that at $t=0$, $x_{A0} = x_{B0} = A$, and both masses are held steady initially (no initial velocity).\n",
    "Since the motion of both masses is initialized in the same way, and both pendulums have the same natural frequency $g/l$, they would naturally oscillate in perfect sync, with same amplitude and in phase:\n",
    "$$ x_A(t) = x_B(t) = A\\cos(\\omega_1 t). $$"
   ]
  },
  {
   "cell_type": "markdown",
   "metadata": {
    "slideshow": {
     "slide_type": "skip"
    }
   },
   "source": [
    "The spring is neither stretched or compressed, and therefore plays no role in this motion.\n",
    "Here is why this mode of motion is what we call a normal mode:\n",
    "**all elements of the coupled system oscillate at the same frequency**, $\\omega_1 =\\omega_p$ here."
   ]
  },
  {
   "cell_type": "markdown",
   "metadata": {
    "slideshow": {
     "slide_type": "skip"
    }
   },
   "source": [
    "#### Symmetric Normal Mode"
   ]
  },
  {
   "cell_type": "markdown",
   "metadata": {
    "slideshow": {
     "slide_type": "fragment"
    }
   },
   "source": [
    "![Fig. 4: the symmetric normal mode](pendulum_asyn.gif)"
   ]
  },
  {
   "cell_type": "markdown",
   "metadata": {
    "slideshow": {
     "slide_type": "skip"
    }
   },
   "source": [
    "We can come up with another type of motion, for which each mass will oscillate sinusoidally with a well-defined frequency."
   ]
  },
  {
   "cell_type": "markdown",
   "metadata": {
    "slideshow": {
     "slide_type": "skip"
    }
   },
   "source": [
    "Our initial conditions are now $x_{A0} = -x_{B0} = A$, with zero initial velocity again. By symmetry, one can expect that the motion is now described by \n",
    "$$ x_A(t) = A\\cos(\\omega_2 t)\\quad\\textrm{and}\\quad x_{B}(t) = A\\cos(\\omega_2 t +\\pi). $$"
   ]
  },
  {
   "cell_type": "markdown",
   "metadata": {
    "slideshow": {
     "slide_type": "skip"
    }
   },
   "source": [
    "I.e., both positions will oscillate $\\pi$ rad (or 180$^\\circ$) out of phase, and with a single angular frequency $\\omega_2$.\n",
    "What $\\omega_2$ is, is not trivial at this point, because it will include effects due to both restoring forces, i.e., weight and the spring tension.\n",
    "I will derive it soon after, but at this point, I want you to remember that the type of motion is a normal mode because **both pendulums oscillate at the same frequency.**"
   ]
  },
  {
   "cell_type": "markdown",
   "metadata": {
    "slideshow": {
     "slide_type": "skip"
    }
   },
   "source": [
    "Could I find a third normal mode?\n",
    "The answer is no, because there are only two degrees of freedom (the positions of the masses).\n",
    "Is it obvious?\n",
    "Again, the answer is no.\n",
    "The definitive proof is a basic result of linear algebra.\n",
    "In this chapter, I will simply show that these forms of motion appear naturally out of the equations of motion, that no other normal mode is apparent, and that any other form of motion can be described as a linear combination of both forms of motion."
   ]
  },
  {
   "cell_type": "markdown",
   "metadata": {
    "slideshow": {
     "slide_type": "skip"
    }
   },
   "source": [
    "### Systematic Derivation"
   ]
  },
  {
   "cell_type": "markdown",
   "metadata": {
    "slideshow": {
     "slide_type": "subslide"
    }
   },
   "source": [
    "![Fig. 5: King 4.7: the general case](GeneralPendulums.png)"
   ]
  },
  {
   "cell_type": "markdown",
   "metadata": {
    "slideshow": {
     "slide_type": "skip"
    }
   },
   "source": [
    "#### Basic equations\n",
    "\n",
    "Let us now drop any symmetry assumption.\n",
    "The positions $x_A(t)$ and $x_B(t)$ are just what they are."
   ]
  },
  {
   "cell_type": "markdown",
   "metadata": {
    "slideshow": {
     "slide_type": "skip"
    }
   },
   "source": [
    "Let us first focus on mass $A$.\n",
    "The weight of $A$ projected on the direction of the velocity is $F_{WA} = -mg x_A/l$ (see Problem Set 1).\n",
    "The force of the spring on the mass is $F_{s\\to A} = -k(x_A - x_B)$.\n",
    "Strictly speaking, this force is aligned with the direction of the spring, but if the angles of displacement are small, we can also say that its projection on the direction of the trajectory is the same."
   ]
  },
  {
   "cell_type": "markdown",
   "metadata": {
    "slideshow": {
     "slide_type": "skip"
    }
   },
   "source": [
    "Newton's 2$^{nd}$ law applied to the mass is therefore \n",
    "$$ m\\ddot x_A + \\frac{mg}{l}x_A + k(x_A - x_B) = 0,$$\n",
    "or, after division by $m$,\n",
    "$$ \\ddot x_A + \\omega_p^2 x_A + \\omega_s^2(x_A - x_B) = 0, \\hspace{5cm} (1) $$\n",
    "with $\\omega_s^2 = k/m$ (recall that $\\omega_p^2 = g/l$).\n",
    "\n",
    "The same reasoning with mass $B$ yields\n",
    "$$ \\ddot x_B + \\omega_p^2x_B + \\omega_s^2(x_B - x_A) = 0. \\hspace{5cm} (2) $$"
   ]
  },
  {
   "cell_type": "markdown",
   "metadata": {
    "slideshow": {
     "slide_type": "skip"
    }
   },
   "source": [
    "Both equations are almost the same, except for the terms that result from the spring tension, which couples the motion of both masses."
   ]
  },
  {
   "cell_type": "markdown",
   "metadata": {
    "slideshow": {
     "slide_type": "skip"
    }
   },
   "source": [
    "#### Change of variables"
   ]
  },
  {
   "cell_type": "markdown",
   "metadata": {
    "slideshow": {
     "slide_type": "skip"
    }
   },
   "source": [
    "It is not obvious at first, how to solve for $x_A$ and $x_B$ with this coupling term involved.\n",
    "The method we use is a **change of variables.**\n",
    "Define\n",
    "$$ q_1 = x_A + x_B \\and q_2 = x_A - x_B.$$"
   ]
  },
  {
   "cell_type": "markdown",
   "metadata": {
    "slideshow": {
     "slide_type": "skip"
    }
   },
   "source": [
    "One simple way to make them appear is to sum and subtract eqns. (1) and (2):\n",
    "\n",
    "* $(1) + (2) \\quad\\Rightarrow\\quad \\ddot q_1 + \\omega_1^2 q_1 = 0$."
   ]
  },
  {
   "cell_type": "markdown",
   "metadata": {
    "slideshow": {
     "slide_type": "skip"
    }
   },
   "source": [
    "This is the equation for an SHO of angular frequency $\\omega_1 = \\omega_p$.\n",
    "The antisymmetric mode of motion that I described earlier on was also oscillating at frequency $\\omega_p$, because the spring wasn't stretching or compressing, and the presence of said string was not modifying the pendulum natural frequency $\\omega_p$.\n",
    "And since it was characterized by $x_A(t) = x_B(t)$, it corresponded to $q_1 = 2x_A = 2x_B \\neq 0$ and $q_2 = 0$."
   ]
  },
  {
   "cell_type": "markdown",
   "metadata": {
    "slideshow": {
     "slide_type": "skip"
    }
   },
   "source": [
    "*Note: why do I feel the need to introduce $\\omega_1$ on top of $\\omega_p$? Because in general, no frequency of the normal modes is equal to one of the frequencies of the uncoupled oscillators. In this simple case, yes, but I do not want to give false impressions.*"
   ]
  },
  {
   "cell_type": "markdown",
   "metadata": {
    "slideshow": {
     "slide_type": "skip"
    }
   },
   "source": [
    "* $(1) - (2) \\quad\\Rightarrow\\quad \\ddot q_2 + \\omega_p^2 q_2 + 2\\omega_s^2 q_2 = 0.$\n",
    "\n",
    "Or, defining $\\omega_2^2 = \\omega_p^2 + 2\\omega_s^2$,\n",
    "$$ \\ddot q_2 + \\omega_2^2 q_2 = 0. $$\n",
    "Recall the symmetric oscillation mode: it was characterized by $x_A = -x_B$, and therefore $q_1 = 0$ and $q_2 = 2x_A = -2x_B \\neq 0.$\n",
    "I had also mentioned, back then, that $\\omega_2^2$ was not trivial, because it was a mix of the influences of gravity and spring tension.\n",
    "Indeed, here, $\\omega_2$ does contain both the influences of gravity (via $\\omega_p^2$) and spring tension (via $2\\omega_s^2$).\n",
    "Therefore, this mode corresponds to the symmetric mode of motion."
   ]
  },
  {
   "cell_type": "markdown",
   "metadata": {
    "slideshow": {
     "slide_type": "skip"
    }
   },
   "source": [
    "#### Comments (to be remembered!)"
   ]
  },
  {
   "cell_type": "markdown",
   "metadata": {
    "slideshow": {
     "slide_type": "skip"
    }
   },
   "source": [
    "* Modes of oscillations cannot be thought on as simple oscillations anymore, with one object or easily identifiable quantity such as electric current describing an oscillation. It is a **global** concept in which **all** components of one coupled system of oscillators oscillate in phase, at the same frequency, as if described by a (D)SHO model.\n",
    "* The oscillations of each individual component are not independent from each other, but **the modes are completely independent**: there is no trace of $q_1$ in the equation for $q_2$, and vice-versa. It means that if one initiates the coupled system in a funky way, and the coupled system does a weird dance of oscillations, the degree of complexity is actually finite: one mode has a certain amplitude and a certain phase, and the other mode has a certain amplitude, presumably different, and a certain phase shift with the first mode. The pattern of oscillations might look crazy, but there are only two modes, and they don't exchange energy from one to the other as long as the system is linear.\n",
    "* $q_1$ and $q_2$ are called the **normal coordinates**, or **eigencoordinates**, of the **normal modes**, or **eigenmodes**. Their respective **normal frequencies**, or **eigenfrequencies**, are $\\omega_1$ and $\\omega_2$."
   ]
  },
  {
   "cell_type": "markdown",
   "metadata": {
    "slideshow": {
     "slide_type": "skip"
    }
   },
   "source": [
    "It is as if there is a physical space, in which physical coordinates $x_A$ and $x_B$ exist, and a dual space, in which $q_1$ and $q_2$ exist.\n",
    "Both spaces describe the same physical reality, but because they don't describe it in the same way, the \"dual\" space may be more useful in some cases, including this one."
   ]
  },
  {
   "cell_type": "markdown",
   "metadata": {
    "slideshow": {
     "slide_type": "skip"
    }
   },
   "source": [
    "When you start studying Fourier series and later on Fourier analysis, you may call this dual space the \"Fourier\" space, or \"spectral\" space.\n",
    "It has nothing to do with Halloween, and everything to do with the fact that the visualization of the physical reality in this dual space is called a (Fourier) spectrum, which looks like the display on a sound equalizer (and it is not a coincidence).\n",
    "I may use the term \"Fourier\" inadvertently, by force of habit."
   ]
  },
  {
   "cell_type": "markdown",
   "metadata": {
    "slideshow": {
     "slide_type": "skip"
    }
   },
   "source": [
    "### More on the Independence of the Modes"
   ]
  },
  {
   "cell_type": "markdown",
   "metadata": {
    "slideshow": {
     "slide_type": "skip"
    }
   },
   "source": [
    "A bit more algebra, because I want to drive home the fact that the two modes are independent.\n",
    "If the coupled system is initiated somewhat randomly, both modes of oscillation will coexist.\n",
    "They both are solutions of two different SHO equations, and their expressions are therefore\n",
    "$$q_1 = C_1\\cos(\\omega_1 t + \\phi_1)\\and q_2 = C_2\\cos(\\omega_2 t + \\phi_2).$$"
   ]
  },
  {
   "cell_type": "markdown",
   "metadata": {
    "slideshow": {
     "slide_type": "skip"
    }
   },
   "source": [
    "In physical coordinates, this translates into\n",
    "$$ x_A = \\frac{q_1 + q_2}2 = \\frac12\\left[C_1\\cos(\\omega_1 t + \\phi_1) + C_2\\cos(\\omega_2 t + \\phi_2) \\right],$$\n",
    "$$ x_B = \\frac{q_1 - q_2}2 = \\frac12\\left[C_1\\cos(\\omega_1 t + \\phi_1) - C_2\\cos(\\omega_2 t + \\phi_2) \\right].$$"
   ]
  },
  {
   "cell_type": "markdown",
   "metadata": {
    "slideshow": {
     "slide_type": "skip"
    }
   },
   "source": [
    "Meaning that any motion can be considered a superposition of the two modes.\n",
    "For the motion of the antisymmetric mode, $C_2 = 0$, for the symmetric mode, $C_1 = 0$, and in general, $C_1\\neq 0$ and $C_2\\neq 0$."
   ]
  },
  {
   "cell_type": "markdown",
   "metadata": {
    "slideshow": {
     "slide_type": "skip"
    }
   },
   "source": [
    "Here I show that the two modes each have a certain amount of energy, and that this energy does not get traded from one mode to the other.\n",
    "The kinetic energies of $A$ and $B$ are \n",
    "$$ K_{A, B} = \\frac12 m(\\dot x_{A, B})^2, $$\n",
    "their gravitational potential energies are\n",
    "$$ U^{(g)}_{A, B} = \\frac12\\frac{mgx_{A, B}^2}{l} = \\frac12 m\\omega_p^2 x_{A, B}^2 \\quad\\textrm{(see PS1 or King § 1.3.2)}, $$"
   ]
  },
  {
   "cell_type": "markdown",
   "metadata": {
    "slideshow": {
     "slide_type": "skip"
    }
   },
   "source": [
    "and the potential energy stored in the spring is\n",
    "$$ U^{(s)}  = \\frac12 k (x_A - x_B)^2 = \\frac12 m\\omega_s^2 (x_A - x_B)^2.$$ "
   ]
  },
  {
   "cell_type": "markdown",
   "metadata": {
    "slideshow": {
     "slide_type": "skip"
    }
   },
   "source": [
    "The total energy stored in the coupled system is therefore\n",
    "\\begin{align*}\n",
    "    E & = K_A + K_B + U^{(g)}_A + U^{(g)}_B + U^{(s)}, \\\\ \n",
    "      & = \\frac m2\\left\\{(\\dot x_A)^2 + (\\dot x_B)^2 + \\omega_p^2 \\left[x_A^2 + x_B^2\\right] + \\omega_s^2 (x_A - x_B)^2\\right\\}, \\\\\n",
    "      & = E_1 + E_2,\n",
    "\\end{align*}\n",
    "with \n",
    "$$ E_1 = \\frac14 m \\left[(\\dot q_1)^2 + \\omega_1^2 q_1^2\\right]\\and E_2 = \\frac14 m \\left[(\\dot q_2)^2 + \\omega_2^2 q_2^2\\right].$$\n",
    "(Recall that $\\omega_1^2 = \\omega_p^2$ and $\\omega_2^2 = \\omega_p^2 + 2\\omega_s^2$)"
   ]
  },
  {
   "cell_type": "markdown",
   "metadata": {
    "slideshow": {
     "slide_type": "skip"
    }
   },
   "source": [
    "As for the coordinates, each reservoir of energy, $E_1$ and $E_2$, is uncoupled from the other one: **there is no exchange of energy from one mode of motion to the other**.\n",
    "This is true for any system of coupled oscillators, as long as the linear model is valid."
   ]
  },
  {
   "cell_type": "markdown",
   "metadata": {
    "slideshow": {
     "slide_type": "skip"
    }
   },
   "source": [
    "# Beating Phenomenon"
   ]
  },
  {
   "cell_type": "markdown",
   "metadata": {
    "slideshow": {
     "slide_type": "skip"
    }
   },
   "source": [
    "When a coupled system contains two frequencies that are very close to each other, and the two modes beat with similar amplitudes, we observe what is called a beating phenomenon in physical space."
   ]
  },
  {
   "cell_type": "markdown",
   "metadata": {
    "slideshow": {
     "slide_type": "skip"
    }
   },
   "source": [
    "Take the solutions we derived earlier in physical space, but let us assume that $\\phi_1 = \\phi_2 = 0$.\n",
    "It can be physically realized by choosing initial conditions appropriately.\n",
    "But more importantly, the phase shifts won't fundamentally change what I am about to describe, so might as well choose easy ones.\n",
    "$$ x_A = \\frac12\\left[C_1\\cos(\\omega_1 t) + C_2\\cos(\\omega_2 t) \\right],$$\n",
    "$$ x_B = \\frac12\\left[C_1\\cos(\\omega_1 t) - C_2\\cos(\\omega_2 t) \\right].$$"
   ]
  },
  {
   "cell_type": "markdown",
   "metadata": {
    "slideshow": {
     "slide_type": "skip"
    }
   },
   "source": [
    "Let us also consider the case $C_1 = C_2 = C$, because it is the simplest case that can illustrate the beating phenomenon:\n",
    "\n",
    "$$ x_A = \\frac C2\\left[\\cos(\\omega_1 t) + \\cos(\\omega_2 t) \\right] = C\\cos\\left(\\frac{\\omega_1 + \\omega_2}2 t\\right)\\cos\\left(\\frac{\\omega_2 - \\omega_1}2 t\\right),$$\n",
    "$$ x_B = \\frac C2\\left[\\cos(\\omega_1 t) - \\cos(\\omega_2 t) \\right] = C\\sin\\left(\\frac{\\omega_1 + \\omega_2}2 t\\right)\\sin\\left(\\frac{\\omega_2 - \\omega_1}2 t\\right).$$"
   ]
  },
  {
   "cell_type": "markdown",
   "metadata": {
    "slideshow": {
     "slide_type": "subslide"
    }
   },
   "source": [
    "***\n",
    "\n",
    "This went fast, let me do it more slowly.\n",
    "A bit of trigonometry:\n",
    "recall that \n",
    "$$\\cos(a+b) = \\cos a \\cos b - \\sin a \\sin b$$\n",
    "and \n",
    "$$\\cos(a-b) = \\cos a \\cos b + \\sin a \\sin b.$$\n",
    "Sum those two and you get:\n",
    "$$ \\cos(a-b) + \\cos(a+b) = 2\\cos a\\cos b . $$\n",
    "Subtract them and you obtain\n",
    "$$ \\cos(a-b) - \\cos(a+b) = 2\\sin a\\sin b. $$\n",
    "\n",
    "Now, consider \n",
    "$$a - b = \\omega_1 t \\and a + b = \\omega_2 t $$\n",
    "$$\\thrfor a = \\frac{\\omega_1 + \\omega_2}2 t \\and b = \\frac{\\omega_2 - \\omega_1}2 t. $$\n",
    "\n",
    "Using these formulas yields the result.\n",
    "\n",
    "***"
   ]
  },
  {
   "cell_type": "markdown",
   "metadata": {
    "slideshow": {
     "slide_type": "skip"
    }
   },
   "source": [
    "Or, if we define $\\Delta\\omega = (\\omega_2 - \\omega_1)/2$ and $\\Omega = (\\omega_1 + \\omega_2)/2$,\n",
    "$$ x_A = C\\cos\\left(\\Omega t\\right)\\cos\\left(\\Delta\\omega t\\right),$$\n",
    "$$ x_B = C\\sin\\left(\\Omega t\\right)\\sin\\left(\\Delta\\omega t\\right).$$"
   ]
  },
  {
   "cell_type": "markdown",
   "metadata": {
    "slideshow": {
     "slide_type": "skip"
    }
   },
   "source": [
    "Now, what if $\\Delta\\omega \\ll \\omega_1$, $\\omega_2$ or $\\Omega$? Then, \n",
    "$$ x_A \\approx C\\cos\\left(\\omega_1 t\\right)\\cos\\left(\\Delta\\omega t\\right),$$\n",
    "$$ x_B \\approx C\\sin\\left(\\omega_1 t\\right)\\sin\\left(\\Delta\\omega t\\right).$$"
   ]
  },
  {
   "cell_type": "markdown",
   "metadata": {
    "slideshow": {
     "slide_type": "skip"
    }
   },
   "source": [
    "Because $\\Delta\\omega \\ll \\omega_1$, the curves look like an oscillation, oscillating at frequency $\\omega_1$, constrained by a sinusoidal envelope of frequency $\\Delta\\omega$ with a much longer period than that of the fast oscillation (see figs. 6 & 7)."
   ]
  },
  {
   "cell_type": "code",
   "execution_count": 58,
   "metadata": {
    "slideshow": {
     "slide_type": "skip"
    }
   },
   "outputs": [],
   "source": [
    "import numpy as np\n",
    "import matplotlib.pyplot as plt\n",
    "from matplotlib import interactive\n",
    "interactive(False)\n",
    "\n",
    "def plot_beating(k, l, ratioA):\n",
    "    \"\"\" This function creates two oscillations, and plots each of them\n",
    "    separately as well as a superposition of\n",
    "    INPUT:\n",
    "    l is the length of the pendulums, increasing it increases periods\n",
    "    k is the stiffness of he spring. Increasing it increases the difference\n",
    "        between the two frequencies. \"\"\"\n",
    "    # basic quantities\n",
    "    # k = 0.5  # spring stiffness [N/m]\n",
    "    m = 0.4  # mass [kg]\n",
    "    g = 9.81  # gravitational acceleration [m/s2]\n",
    "    # l = .5  # lengths of pendulums  [m]\n",
    "    C1 = 1.e-1  # amplitude of mode 1 [m]\n",
    "    C2 = ratioA*C1  # amplitude of mode 2 [m]\n",
    "    ftsz = 11  # font size on plots\n",
    "    lnwt = 1\n",
    "    t_end = 60.\n",
    "\n",
    "    # derived quantities\n",
    "    t = np.linspace(0., t_end, 2048)\n",
    "    omega_p = np.sqrt(g/l)  # natural frequency of uncoupled pendulum\n",
    "    omega_s = np.sqrt(k/m)  # natural frequency of spring\n",
    "\n",
    "    omega_1 = omega_p  # 1st eigenfrequency\n",
    "    omega_2 = np.sqrt(omega_p**2 + 2.*omega_s**2)  # 2nd eigenfrequency\n",
    "    \n",
    "    q1 = C1*np.cos(omega_1*t)\n",
    "    q2 = C2*np.cos(omega_2*t)\n",
    "\n",
    "    xA = 0.5*(q1 + q2)  # position of A\n",
    "\n",
    "    Domega = 0.5*(omega_2 - omega_1)  # Delta omega\n",
    "    envelope = 0.5*C1*((ratioA-1)*np.sin(Domega*t) + \n",
    "                       (ratioA+1)*np.cos(Domega*t))  # C*np.cos(Domega*t)\n",
    "\n",
    "    # 1st plot: each mode individually\n",
    "    plt.figure(figsize=(6, 4), dpi=100)\n",
    "    plt.subplot(311)\n",
    "    ax1 = plt.gca()\n",
    "    #ax1.axvline(0., color='k')\n",
    "    ax1.plot(t, q1/2, 'b--', linewidth=lnwt)\n",
    "    ax1.set_xlim([0., t_end])\n",
    "    ax1.set_ylim([-0.05, 0.05])\n",
    "    ax1.set_ylabel('$C_1\\,\\cos(\\omega_1 t)/2$', fontsize=ftsz)\n",
    "    ax1.grid()\n",
    "\n",
    "    plt.subplot(312, sharex=ax1, sharey=ax1)\n",
    "    ax2 = plt.gca()\n",
    "    #ax2.axvline(0., color='k')\n",
    "    ax2.plot(t, q2/2, 'y', linewidth=lnwt)\n",
    "    ax2.set_ylabel('$C_2\\,\\cos(\\omega_2 t)/2$', fontsize=ftsz)\n",
    "    ax2.grid()\n",
    "\n",
    "    plt.subplot(313, sharex=ax1, sharey=ax1)\n",
    "    ax3 = plt.gca()\n",
    "    #ax2.axvline(0., color='k')\n",
    "    ax3.plot(t, q1/2, 'b--', linewidth=lnwt, label='$C_1\\,\\cos(\\omega_1 t)/2$')\n",
    "    ax3.plot(t, q2/2, 'y', linewidth=lnwt, label='$C_2\\,\\cos(\\omega_2 t)/2$')\n",
    "    ax3.set_ylabel('Both', fontsize=ftsz)\n",
    "    ax3.set_xlabel('time [s]', fontsize=ftsz)\n",
    "    ax3.legend()\n",
    "    ax3.grid()\n",
    "\n",
    "    # make these tick labels invisible\n",
    "    plt.setp(ax2.get_xticklabels(), visible=False)\n",
    "    plt.setp(ax1.get_xticklabels(), visible=False)\n",
    "    plt.tight_layout()\n",
    "    plt.autoscale(enable=True, axis='x', tight=True)\n",
    "    # plt.savefig('BeatingIndividual.png')\n",
    "    # plt.close()\n",
    "\n",
    "    # 2nd plot: adding the two, the beating phenomenon\n",
    "    plt.figure(figsize=(6, 4), dpi=100)\n",
    "    ax = plt.gca()\n",
    "    ax.axvline(0., color='k')\n",
    "    ax.plot(t, xA, 'g', linewidth=lnwt, label='$x_A(t)$')\n",
    "    if ratioA > 0.99:\n",
    "        ax.plot(t, envelope, 'r-.', label='$C\\,\\cos(\\Delta\\omega t)$')\n",
    "        ax.plot(t, -envelope, 'r--', label='$-C\\,\\cos(\\Delta\\omega t)$')\n",
    "    ax.set_ylim([-0.14, 0.16])\n",
    "    ax.set_xlabel('time [s]', fontsize=ftsz)\n",
    "    ax.set_ylabel('position [m]', fontsize=ftsz)\n",
    "    ax.grid()\n",
    "    ax.legend()\n",
    "\n",
    "    # annotation to highlight the envelope period\n",
    "    if ratioA > 0.99:\n",
    "        T = 2*np.pi/Domega\n",
    "        ax.axvline(T/4, color='k', linestyle='-.')  # the t=T/2 mark\n",
    "        ax.axvline(5*T/4, color='k', linestyle='-.')  # the t=3T/2 mark\n",
    "        ax.annotate(s='', xy=(T/4, -.12), xytext=(5*T/4, -0.12),\n",
    "                    arrowprops=dict(arrowstyle='<|-|>'))  # the double arrow\n",
    "        ax.text(1.5*np.pi/Domega, -.12, r'$2\\pi/\\Delta\\omega$',\n",
    "                verticalalignment='center', horizontalalignment='center',\n",
    "                backgroundcolor='w', fontsize=ftsz)\n",
    "\n",
    "    # annotation to highlight the fast oscillation period\n",
    "    T = 4.*np.pi/(omega_2 + omega_1)\n",
    "    pp = 20.5\n",
    "    t1 = pp*T\n",
    "    t2 = (pp+1)*T\n",
    "    ax.plot([t1]*2, [-C1*np.cos(Domega*t1), 0.13],\n",
    "            color='k')  # the fast period mark #1\n",
    "    ax.plot([t2]*2, [-C1*np.cos(Domega*t2), 0.13],\n",
    "            color='k')  # the fast period mark #2\n",
    "    ax.annotate(s='', xy=(t1-0.2, .11), xytext=(t2+0.2, 0.11),\n",
    "                arrowprops=dict(arrowstyle='<|-|>'))  # the double arrow\n",
    "    ax.text((t1+t2)/2, 0.135, r'$2\\pi/\\Omega$',\n",
    "            verticalalignment='center', horizontalalignment='center',\n",
    "            backgroundcolor='w', fontsize=ftsz)\n",
    "\n",
    "    # finishes\n",
    "    plt.tight_layout()\n",
    "    plt.autoscale(enable=True, axis='x', tight=True)\n",
    "    # plt.savefig('Beating.png')\n",
    "    plt.show()\n",
    "    # plt.close()"
   ]
  },
  {
   "cell_type": "code",
   "execution_count": 59,
   "metadata": {
    "scrolled": false,
    "slideshow": {
     "slide_type": "skip"
    }
   },
   "outputs": [
    {
     "data": {
      "image/png": "[encoded data removed]",
      "text/plain": [
       "<Figure size 600x400 with 3 Axes>"
      ]
     },
     "metadata": {
      "needs_background": "light"
     },
     "output_type": "display_data"
    },
    {
     "data": {
      "image/png": "[encoded data removed]",
      "text/plain": [
       "<Figure size 600x400 with 1 Axes>"
      ]
     },
     "metadata": {
      "needs_background": "light"
     },
     "output_type": "display_data"
    }
   ],
   "source": [
    "plot_beating(k=0.5, l=0.5, ratioA=1.)  # for pdf export"
   ]
  },
  {
   "cell_type": "markdown",
   "metadata": {
    "slideshow": {
     "slide_type": "skip"
    }
   },
   "source": [
    "*Below, on the Jupyter notebook, you can interactively increase the values of $\\ell$ to decrease the frequency of both modes, and increase $k$ to increase the difference between the two normal frequencies. You should see that as you increase $k$, the beating phenomenon becomes less and less visible. By that I mean that you will still see beats, but they will be less long, the \"bursts\" will become closer and closer and the phases when you see an oscillation and phases when you don't will become less cleanly separated. You may want to increase $\\ell$ just to make the phenomena better visible.*"
   ]
  },
  {
   "cell_type": "code",
   "execution_count": 60,
   "metadata": {
    "slideshow": {
     "slide_type": "skip"
    }
   },
   "outputs": [],
   "source": [
    "from ipywidgets import interact, FloatSlider"
   ]
  },
  {
   "cell_type": "code",
   "execution_count": 61,
   "metadata": {
    "scrolled": false,
    "slideshow": {
     "slide_type": "subslide"
    }
   },
   "outputs": [
    {
     "data": {
      "application/vnd.jupyter.widget-view+json": {
       "model_id": "1ec1f51b88bc4e62bbc89485b8955cf4",
       "version_major": 2,
       "version_minor": 0
      },
      "text/plain": [
       "interactive(children=(FloatSlider(value=0.5, description='k', max=3.0, min=0.5), FloatSlider(value=0.5, descri…"
      ]
     },
     "metadata": {},
     "output_type": "display_data"
    },
    {
     "data": {
      "text/plain": [
       "<function __main__.plot_beating(k, l, ratioA)>"
      ]
     },
     "execution_count": 61,
     "metadata": {},
     "output_type": "execute_result"
    }
   ],
   "source": [
    "interact(plot_beating, k=FloatSlider(min=0.5, max=3., step=.1, value=.5), l=FloatSlider(min=0.5, max=2.5, step=.1, value=.5), ratioA=FloatSlider(min=0.0, max=1., step=.1, value=1.))"
   ]
  },
  {
   "cell_type": "markdown",
   "metadata": {
    "slideshow": {
     "slide_type": "skip"
    }
   },
   "source": [
    "***\n",
    "\n",
    "*End of 09/23 lecture, beginning of 09/24 lecture.*\n",
    "\n",
    "***"
   ]
  },
  {
   "cell_type": "markdown",
   "metadata": {
    "slideshow": {
     "slide_type": "skip"
    }
   },
   "source": [
    "***\n",
    "\n",
    "**Worked example: King p. 84.**\n",
    "\n",
    "***\n",
    "\n",
    "*Beyond this point, I will not follow King's book closely. You might notice that in his preface, he mentions that his book is designed for a first-year class, for which eigenvalues and eigenvectors would be too advanced a topic. It is our strong opinion (all the instructors involved in PHY293 and 294) that we need to cover this topic in this second-year class, because it is foundational for a lot of other topics that will be tackled in the rest of PHY293-4. If you want a book for help, I can recommend John R. Taylor's \"Classical Mechanics\" (University Science Books), chapter 11, which I am loosely following.*\n",
    "\n",
    "***"
   ]
  },
  {
   "cell_type": "markdown",
   "metadata": {
    "slideshow": {
     "slide_type": "skip"
    }
   },
   "source": [
    "# General Solution Method"
   ]
  },
  {
   "cell_type": "markdown",
   "metadata": {
    "slideshow": {
     "slide_type": "skip"
    }
   },
   "source": [
    "In the previous case, we had only two coupled oscillators, which meant, two degrees of freedom (two normal coordinates).\n",
    "It was simple enough that we could solve it \"by hand\", by defining simple normal coordinates, and adding and subtracting the equations of motion."
   ]
  },
  {
   "cell_type": "markdown",
   "metadata": {
    "slideshow": {
     "slide_type": "skip"
    }
   },
   "source": [
    "But as with all things in linear algebra, difficulty increases rapidly with every equation that we add.\n",
    "For example, what if we coupled 5 oscillators?\n",
    "Not to mention the infinity of oscillators that approximate a continuous medium.\n",
    "We need the systematic and powerful approaches that are offered by linear algebra.\n",
    "And in particular, we will eventually need to use the eigenvector/eigenvalue formalism, which many of you find difficult.\n",
    "It is, however, a necessary step, and a key aspect of the theory of waves and oscillations.\n",
    "So, even though I will have to keep it in mind, my best piece of advice is to brace yourselves."
   ]
  },
  {
   "cell_type": "markdown",
   "metadata": {
    "slideshow": {
     "slide_type": "skip"
    }
   },
   "source": [
    "***\n",
    "\n",
    "*I will not cover the discussion that follows in class. Reading it may help you understand why and how everything works, but it is beyond what it traditionally expected from 2nd year students.*\n",
    "\n",
    "## *Results from Linear Algebra*"
   ]
  },
  {
   "cell_type": "markdown",
   "metadata": {
    "slideshow": {
     "slide_type": "skip"
    }
   },
   "source": [
    "### *General results*\n",
    "\n",
    "*Linear algebra can be messy, especially when it comes to whether a matrix is diagonalizable or not. \n",
    "Fortunately for us, I will only use a few of the most basic results of linear algebra.*"
   ]
  },
  {
   "cell_type": "markdown",
   "metadata": {
    "slideshow": {
     "slide_type": "slide"
    }
   },
   "source": [
    "1. *Finding the eigenvectors and eigenvalues of an $n\\times n$ matrix $A$ means finding the vectors $\\vec V$ and scalars $\\lambda$ such that:\n",
    "    $$ A \\vec V = \\lambda \\vec V, \\oreq (A - \\lambda I)\\vec V = 0.\\hspace{5cm}(3)$$*\n",
    "2. *Equation (3) has non-trivial (i.e., non-identically zero, i.e., oscillations with non-zero amplitudes in our case) solutions for $\\vec V$ if and only if\n",
    "    $$ \\det(A - \\lambda I_n) = 0,\\hspace{8cm}(4) $$\n",
    "    with $I_n$ the $n\\times n$ identity matrix.\n",
    "    The determinant of a matrix is a scalar. Here, it is a polynomial in $\\lambda$. It is called the characteristic polynomial, and its roots are the eigenvalues.*\n",
    "3. *If there is a number $n$ of eigenvalues $\\lambda$ that are all distinct from each other, then the matrix is diagonalizable, and the set of the corresponding eigenvectors forms a basis for the space of solutions. In other words, if $\\vec V_i$, $i \\in \\{1\\dots{} n\\}$ is the complete set of eigenvectors, then any linear combination of them,* \n",
    "    $$\\sum_{i=1}^n a_i \\vec V_i = \\vec X$$\n",
    "    *is a solution of the original problem as well. In all our cases, $a_n \\in \\mathbb R$. Note that with damping, we could have $a_n \\in \\mathbb C$.*\n",
    "    *Furthermore, is $\\vec X$ is a solution of eqn. $(3)$, then it can be decomposed as a linear combination of eigenvectors,*\n",
    "    $$\\vec X = \\sum_{i=1}^n a_i \\vec V_i,$$\n",
    "    *and this decomposition is unique.*\n",
    "    *Note: this condition is sufficient, not necessary. Namely, the converse is not true, and a matrix needs not have all* $n$ *eigenvalues distinct from each other to be diagonalizable. But in our cases, they will be, so let's enjoy it.*"
   ]
  },
  {
   "cell_type": "markdown",
   "metadata": {
    "slideshow": {
     "slide_type": "skip"
    }
   },
   "source": [
    "### *How does this translate into our results?*\n",
    "\n",
    "* *First of all, we will have $n = 2$ for two oscillators;*\n",
    "* *the eigenvectors $\\vec V_i$ will have some connection to our normal modes 1 and 2;*\n",
    "* *the eigenvalues $\\lambda_i$ will have some connection to $\\omega_{1,2}^2$ (they will be the same actually);*\n",
    "* *the eigenvectors, in the abstract case, form a basis of the space of solutions. This is a mathematical manifestation of the fact that any motion of the two masses can be decomposed as the linear combination of two modes, as we saw in the previous section;*\n",
    "* *solving $\\det(A - \\lambda I_2) = 0$ for $\\lambda$ shows the way for solving coupled systems of oscillators systematically. Finding the roots of the polynomial, however messy it might become, will give us $\\omega_1$ and $\\omega_2$. Once we have them, substitution into the original eqn. (3) will give us $\\vec V_1$ and $\\vec V_2$.*"
   ]
  },
  {
   "cell_type": "markdown",
   "metadata": {
    "slideshow": {
     "slide_type": "skip"
    }
   },
   "source": [
    "*The math will become super messy, but the procedure is well-defined, and easy to make systematic.*\n",
    "\n",
    "*Resuming the normal course of operations.*\n",
    "\n",
    "***"
   ]
  },
  {
   "cell_type": "markdown",
   "metadata": {
    "slideshow": {
     "slide_type": "skip"
    }
   },
   "source": [
    "## Coupled pendulums"
   ]
  },
  {
   "cell_type": "markdown",
   "metadata": {
    "slideshow": {
     "slide_type": "skip"
    }
   },
   "source": [
    "As an illustration of how powerful such an approach is, let me add the extra complexity that the two masses are different, and equal to $m_A$ and $m_B$.\n",
    "I hope to convince you that while it would have made it difficult in our previous approach, it does not represent any extra difficulty with the eigenvector method."
   ]
  },
  {
   "cell_type": "markdown",
   "metadata": {
    "slideshow": {
     "slide_type": "skip"
    }
   },
   "source": [
    "The equations are therefore\n",
    "$$ m_A\\ddot x_A + \\frac{m_A g}{l} x_A + k(x_A - x_B) = 0, \\hspace{5cm}(5)$$\n",
    "$$ m_B\\ddot x_B + \\frac{m_B g}{l} x_B - k(x_A - x_B) = 0, \\hspace{5cm}(6)$$"
   ]
  },
  {
   "cell_type": "markdown",
   "metadata": {
    "slideshow": {
     "slide_type": "skip"
    }
   },
   "source": [
    "Now, define a vector\n",
    "$$\n",
    "\\vec X = \n",
    "\\begin{bmatrix}\n",
    "    x_A \\\\ \n",
    "    x_B,\n",
    "\\end{bmatrix}$$\n",
    "and two matrices\n",
    "$$\n",
    "M = \n",
    "\\begin{bmatrix}\n",
    "    m_A & 0 \\\\ \n",
    "    0 & m_B\n",
    "\\end{bmatrix}\n",
    "\\and\n",
    "K = \n",
    "\\begin{bmatrix}\n",
    "     \\frac{m_A g}l + k & -k \\\\\n",
    "     -k & \\frac{m_B g}l + k\n",
    "\\end{bmatrix}.$$"
   ]
  },
  {
   "cell_type": "markdown",
   "metadata": {
    "slideshow": {
     "slide_type": "skip"
    }
   },
   "source": [
    "You can check that\n",
    "$$ M\\ddot{\\vec X} + K \\vec X = \n",
    "\\begin{bmatrix}\n",
    "    m_A\\ddot x_A + \\frac{m_A g}{l} x_A + k(x_A - x_B) \\\\\n",
    "    m_B\\ddot x_B + \\frac{m_B g}{l} x_B - k(x_A - x_B)\n",
    "\\end{bmatrix}\n",
    "= \n",
    "\\begin{bmatrix}\n",
    "    0 \\\\\n",
    "    0\n",
    "\\end{bmatrix},$$\n",
    "or, more simply, that \n",
    "$$\\boxed{ M\\ddot{\\vec X} + K \\vec X = 0. }$$"
   ]
  },
  {
   "cell_type": "markdown",
   "metadata": {
    "slideshow": {
     "slide_type": "skip"
    }
   },
   "source": [
    "This is our new equation of motion.\n",
    "It strongly resembles the SHO equation, and its resolution does involve the same steps:\n",
    "\n",
    "1. assume $\\vec X = \\vec A \\cos(\\omega t + \\phi)$,\n",
    "2. substitute in the EOM and solve for $\\omega$,\n",
    "3. use initial conditions to solve for $\\vec A$ and $\\phi$."
   ]
  },
  {
   "cell_type": "markdown",
   "metadata": {
    "slideshow": {
     "slide_type": "skip"
    }
   },
   "source": [
    "### The first step...\n",
    "... implies that $\\ddot{\\vec X} = -\\omega^2 \\vec X$.\n",
    "Moreover, $M\\ddot{\\vec X} = M(-\\omega^2 \\vec X) = -\\omega^2M \\vec X$ because the algebra is linear."
   ]
  },
  {
   "cell_type": "markdown",
   "metadata": {
    "slideshow": {
     "slide_type": "skip"
    }
   },
   "source": [
    "### For the second step (solving for $\\omega$),\n",
    "$$M\\ddot{\\vec X} + K \\vec X = -\\omega^2 M \\vec X + K\\vec X = \\boxed{\\left(K -\\omega^2 M\\right)\\vec X = 0.} \\hspace{4cm} (7) $$"
   ]
  },
  {
   "cell_type": "markdown",
   "metadata": {
    "slideshow": {
     "slide_type": "skip"
    }
   },
   "source": [
    "Let me recall one of the most important results of linear algebra: **A matrix equation** $\\bs{\\textsf{R}V = 0}$ **has non-trivial (i.e., non-identically zero) solutions if and only if** $\\bs{\\det[\\textsf{R}] =0}$, as I stated in a different form around eqn. (4).\n",
    "Physically, trivial solutions are zero-amplitude oscillations of each mass position or of each mode.\n",
    "Trivially speaking, it is nothing."
   ]
  },
  {
   "cell_type": "markdown",
   "metadata": {
    "slideshow": {
     "slide_type": "skip"
    }
   },
   "source": [
    "The matrices $M$ and $K$ both contain elements that are determined by the physics of the system: masses stiffness, length of pendulum and gravitational acceleration.\n",
    "The only parameter that can be varied is therefore $\\omega$, and it is $\\omega$ we are solving for."
   ]
  },
  {
   "cell_type": "markdown",
   "metadata": {
    "slideshow": {
     "slide_type": "skip"
    }
   },
   "source": [
    "Mathematically, this step corresponds to finding the **eigenvalues** of eqn. $(7)$.\n",
    "It looks different from eqn. $(3)$ though.\n",
    "However, we can cast our equation in this form very easily by multiplying it by \n",
    "$$ M^{-1} = \n",
    "\\begin{bmatrix}\n",
    "    1/m_A & 0 \\\\\n",
    "    0 & 1/m_B\n",
    "\\end{bmatrix},\n",
    "$$\n",
    "i.e.,\n",
    "$$\n",
    "M^{-1}K \\vec X = \\omega^2 \\vec X,\n",
    "$$\n",
    "which looks like a standard eigenvalue problem. The two ways of writing it are strictly equivalent, the form above would appear if I divided eqns. $(5)$ and $(6)$ by $m_A$ and $m_B$, respectively."
   ]
  },
  {
   "cell_type": "markdown",
   "metadata": {
    "slideshow": {
     "slide_type": "skip"
    }
   },
   "source": [
    "We will also need the following formula:\n",
    "$$\\boxed{ \\det\\left(\n",
    "\\begin{bmatrix}\n",
    "    a & b \\\\\n",
    "    c & d\n",
    "\\end{bmatrix}\n",
    "\\right) = ad - bc} \\quad\\textrm{(which I expect you to remember!!!)}.$$"
   ]
  },
  {
   "cell_type": "markdown",
   "metadata": {
    "slideshow": {
     "slide_type": "skip"
    }
   },
   "source": [
    "I am going to do it by hand once, but the real advantage to this method is that it is fairly easy to ask a symbolic calculator or symbolic math software to solve for it. I will do it later, but for now, it is instructional to do it by hand."
   ]
  },
  {
   "cell_type": "markdown",
   "metadata": {
    "slideshow": {
     "slide_type": "skip"
    }
   },
   "source": [
    "Here we go:\n",
    "\\begin{align*}\n",
    "    0 = \\det(K - \\omega^2 M) & = \\det\\left(\n",
    "                                \\begin{bmatrix}\n",
    "                                    \\frac{m_A g}l + k - \\omega^2 m_A & -k \\\\\n",
    "                                    -k & \\frac{m_B g}l + k - \\omega^2 m_B\n",
    "                                \\end{bmatrix}\\right) \\\\\n",
    "                         & = \\left(\\frac{m_A g}l + k - \\omega^2 m_A\\right)\\left(\\frac{m_B g}l + k - \\omega^2 m_B\\right) - k^2 \\\\\n",
    "                         & = m_A m_B \\left[\\left(\\omega_p^2 + \\omega_{sA}^2 - \\omega^2 \\right)\\left(\\omega_p^2 + \\omega_{sB}^2 - \\omega^2\\right) - \\omega_{sA}^2\\omega_{sB}^2\\right],\n",
    "\\end{align*}"
   ]
  },
  {
   "cell_type": "markdown",
   "metadata": {
    "slideshow": {
     "slide_type": "skip"
    }
   },
   "source": [
    "with $\\omega_p^2 = g/l$, $\\omega_{sA}^2 = k/m_A$ and $\\omega_{sB}^2 = k/m_B$.\n",
    "It is a second-degree polynomial in $\\omega^2$, which is not technically hard to solve, but this is a lot of symbols to keep track of."
   ]
  },
  {
   "cell_type": "markdown",
   "metadata": {
    "slideshow": {
     "slide_type": "skip"
    }
   },
   "source": [
    "Let us define $\\Omega^2 = \\omega_p^2 + \\omega_A^2 + \\omega_B^2$.\n",
    "If $m_A = m_B$, then $\\omega_{sA}^2 = \\omega_{sB}^2 = \\omega_s^2$ and $\\Omega^2 = \\omega_p^2 + 2\\omega_s^2 = \\omega_2^2$, which is a good sign.\n",
    "Let's plug $\\Omega^2$ in the last line of the set of equations above (and remember that is has to be equal to zero):\n",
    "$$\\omega_p^2\\Omega^2 - \\omega^2 \\left(\\omega_p^2 + \\Omega^2\\right) + \\omega^4 = 0. $$"
   ]
  },
  {
   "cell_type": "markdown",
   "metadata": {
    "slideshow": {
     "slide_type": "skip"
    }
   },
   "source": [
    "The determinant of this polynomial is\n",
    "$$ \\Delta = \\left(\\omega_p^2 + \\Omega^2\\right)^2 - 4 \\omega_p^2\\Omega^2 = \\left(\\omega_p^2 - \\Omega^2\\right)^2 $$\n",
    "and its roots are\n",
    "\\begin{align*}\n",
    "    \\omega_1'^2 & = \\frac{\\omega_p^2 + \\Omega^2 - \\Omega^2 + \\omega_p^2}{2} = \\omega_p^2 \\\\\n",
    "    \\omega_2'^2 & = \\frac{\\omega_p^2 + \\Omega^2 + \\Omega^2 - \\omega_p^2}{2} = \\Omega^2 = \\omega_p^2 + \\omega_{sA}^2 + \\omega_{sB}^2.\n",
    "\\end{align*}"
   ]
  },
  {
   "cell_type": "markdown",
   "metadata": {
    "slideshow": {
     "slide_type": "skip"
    }
   },
   "source": [
    "You may notice that $\\omega_1'^2 = \\omega_1^2$ of the previous case, and that if $m_A = m_B = m$, then $\\omega_2'^2 = \\omega_2^2$.\n",
    "These are our two eigenfrequencies!"
   ]
  },
  {
   "cell_type": "markdown",
   "metadata": {
    "slideshow": {
     "slide_type": "skip"
    }
   },
   "source": [
    "Also, $\\omega_1'^2 \\neq \\omega_2'^2$. Therefore, based on the general results from linear algebra that I recalled earlier, we will have a basis of eigenvectors to decompose all our oscillations onto."
   ]
  },
  {
   "cell_type": "markdown",
   "metadata": {
    "slideshow": {
     "slide_type": "skip"
    }
   },
   "source": [
    "### The third step (solving for $\\vec A$ and $\\phi$)"
   ]
  },
  {
   "cell_type": "markdown",
   "metadata": {
    "slideshow": {
     "slide_type": "skip"
    }
   },
   "source": [
    "#### Polarization of the Eigenvectors\n",
    "\n",
    "We can actually separate $\\vec A$ into $C\\vec Y$, with $\\|\\vec Y\\| = 1$.\n",
    "This makes it easier in the sense that we separate the amplitude of the mode, its strength, or weight, if you will, which resides in $C$ and which is calculated with the knowledge of the initial condition, and $\\vec Y$, which is a feature of the matrix $K - \\omega^2 M$, or of the physical system, and does not depend on the initial conditions.\n",
    "However, requiring that $\\|\\vec Y\\| = 1$ is not required in order to solve a problem! I do it, but some textbooks might do it differently."
   ]
  },
  {
   "cell_type": "markdown",
   "metadata": {
    "slideshow": {
     "slide_type": "skip"
    }
   },
   "source": [
    "In this case,\n",
    "$$ (K - \\omega^2 M)\\vec X = 0 = C (K - \\omega^2 M)\\vec Y \\cos(\\omega t + \\phi) \\quad\\Leftrightarrow\\quad (K - \\omega^2 M)\\vec Y = 0. $$"
   ]
  },
  {
   "cell_type": "markdown",
   "metadata": {
    "slideshow": {
     "slide_type": "skip"
    }
   },
   "source": [
    "Let \n",
    "$$\\vec Y = \n",
    "\\begin{bmatrix}\n",
    "    a \\\\ \n",
    "    b\n",
    "\\end{bmatrix}.$$\n",
    "Looking for the relationship between $a$ and $b$ for a given mode is called looking for the polarization of that mode."
   ]
  },
  {
   "cell_type": "markdown",
   "metadata": {
    "slideshow": {
     "slide_type": "skip"
    }
   },
   "source": [
    "\\begin{align*} \n",
    "    (K - \\omega^2 M)\\vec Y & = \\begin{bmatrix}\n",
    "                                \\frac{m_A g}l + k - \\omega^2 m_A & -k \\\\\n",
    "                                -k & \\frac{m_B g}l + k - \\omega^2 m_B\n",
    "                            \\end{bmatrix}\n",
    "                            \\begin{bmatrix}\n",
    "                                a \\\\ \n",
    "                                b\n",
    "                            \\end{bmatrix} \\\\\n",
    "                           & = \\begin{bmatrix}\n",
    "                                \\left(\\frac{m_A g}l + k - \\omega^2 m_A\\right)a - kb \\\\ \n",
    "                                -ka + \\left(\\frac{m_B g}l + k - \\omega^2 m_B\\right)b\n",
    "                            \\end{bmatrix} \\\\\n",
    "                           & = \\begin{bmatrix}\n",
    "                                   m_A\\left[(\\omega_p^2 + \\omega_{sA}^2 - \\omega^2 )a - \\omega_{sA}^2 b \\right] \\\\ \n",
    "                                   m_B\\left[-\\omega_{sB}^2 a + (\\omega_p^2 + \\omega_{sB}^2 - \\omega^2 )b\\right]\n",
    "                               \\end{bmatrix} = 0 . \\hspace{3cm} (8).\n",
    "\\end{align*}"
   ]
  },
  {
   "cell_type": "markdown",
   "metadata": {
    "slideshow": {
     "slide_type": "skip"
    }
   },
   "source": [
    "* Case $\\omega^2 = \\omega_1^2 = \\omega_p^2$:\n",
    "$$ \\begin{bmatrix}\n",
    "        ka - kb \\\\ \n",
    "        -ka + kb\n",
    "   \\end{bmatrix} = 0 \\thrfor a = b.$$\n",
    "*(Notice how the two equations are redundant.)*\n",
    "Therefore, $a=b$, and since $\\|\\vec Y\\| = \\sqrt{a^2 + b^2} = 1$, $a = b= 1/\\sqrt{2}$.\n",
    "This is the antisymmetric mode.\n",
    "*Note: that the masses are different does not have an impact. This is because the frequency of oscillations of each pendulum does not depend on the mass, attached to each one. Therefore, in this mode, the spring is never stretched or compressed.*"
   ]
  },
  {
   "cell_type": "markdown",
   "metadata": {
    "slideshow": {
     "slide_type": "skip"
    }
   },
   "source": [
    "![Fig. 8: the antisymmetric normal mode](pendulum_syn.gif)"
   ]
  },
  {
   "cell_type": "markdown",
   "metadata": {
    "slideshow": {
     "slide_type": "skip"
    }
   },
   "source": [
    "* Case $\\omega^2 = \\omega_2^2 = \\omega_p^2 + \\omega_{sA}^2 + \\omega_{sB}^2$.\n",
    "I just use the first line in eqn. (8) because the second line is redundant again:\n",
    "$$ -\\omega_{sB}^2a - \\omega_{sA}^2 b = 0.$$\n",
    "Therefore, $\\omega_{sB} a = -\\omega_{sA}b$.\n",
    "We get it: if $m_A = m_B = m$, this would be the symmetric mode, with $a = 1/\\sqrt{2} = -b$.\n",
    "With $m_A \\neq m_B$, $a$ and $b$ are weighted by some coefficient, i.e., $a = \\omega_{sA}^2/\\sqrt{\\omega_{sA}^4 + \\omega_{sB}^4}$, and $b = -\\omega_{sB}^2/\\sqrt{\\omega_{sA}^4 + \\omega_{sB}^4}$."
   ]
  },
  {
   "cell_type": "markdown",
   "metadata": {
    "slideshow": {
     "slide_type": "skip"
    }
   },
   "source": [
    "![Fig. 9: the symmetric normal mode, in the case $m_A = m_B$.](pendulum_asyn.gif)"
   ]
  },
  {
   "cell_type": "markdown",
   "metadata": {
    "slideshow": {
     "slide_type": "skip"
    }
   },
   "source": [
    "***\n",
    "\n",
    "*End of 09/23 lecture, beginning of 09/27 lecture.*\n",
    "\n",
    "***"
   ]
  },
  {
   "cell_type": "markdown",
   "metadata": {
    "slideshow": {
     "slide_type": "skip"
    }
   },
   "source": [
    "#### Eigenvectors as a basis for all the solutions\n",
    "\n"
   ]
  },
  {
   "cell_type": "markdown",
   "metadata": {
    "slideshow": {
     "slide_type": "skip"
    }
   },
   "source": [
    "So far, the connection with general linear algebra results is the following.\n",
    "$\\vec Y_1$ and $\\vec Y_2$ are eigenvectors of the matrix problem, $\\omega_1'^2$ and $\\omega_2'^2$ the eigenvalues (or $\\omega_1'$ and $\\omega_2'$ the eigenfrequencies) and $\\vec X_1$ and $\\vec X_2$ are the eigenmodes of oscillation."
   ]
  },
  {
   "cell_type": "markdown",
   "metadata": {
    "slideshow": {
     "slide_type": "skip"
    }
   },
   "source": [
    "Based on the results from linear algebra that I recalled earlier, it means that all solutions can be written as a linear combination of these eigenmodes:\n",
    "$$ \\vec X = C_1 \\vec Y_1\\cos(\\omega_1 t + \\phi_1) + C_2 \\vec Y_2\\cos(\\omega_2 t + \\phi_2). $$"
   ]
  },
  {
   "cell_type": "markdown",
   "metadata": {
    "slideshow": {
     "slide_type": "skip"
    }
   },
   "source": [
    "#### Amplitudes ($C$) and phases ($\\phi$)."
   ]
  },
  {
   "cell_type": "markdown",
   "metadata": {
    "slideshow": {
     "slide_type": "skip"
    }
   },
   "source": [
    "As with every initial value problem, it can get messy.\n",
    "Let me just do the cases we investigated before, i.e., the worked problem on King p. 84.\n",
    "\n",
    "In all cases, it was assumed that the masses were released from rest.\n",
    "We could check that in this case, $\\phi_1 = \\phi_2 = 0$.\n",
    "It was also assumed that $m_A = m_B$.\n",
    "\n",
    "The first example was $x_A = x_B = A$, which meant that the antisymmetric mode was selected by the initial conditions.\n",
    "In vector form, this means\n",
    "$$\\vec X_0 = \\vec X(t=0) = \\begin{bmatrix}\n",
    "    x_A(t=0) \\\\ \n",
    "    x_B(t=0)\n",
    "\\end{bmatrix}\n",
    "= \\begin{bmatrix}\n",
    "    A \\\\ \n",
    "    A\n",
    "\\end{bmatrix} =  \\sqrt{2} A \\vec Y_1 + 0\\vec Y_2.$$\n",
    "Bam! No need to do any sort of math, we know right away that the symmetric mode is zero."
   ]
  },
  {
   "cell_type": "markdown",
   "metadata": {
    "slideshow": {
     "slide_type": "skip"
    }
   },
   "source": [
    "The second example was $x_A = -x_B = A$, which meant that the symmetric mode was selected by the initial conditions.\n",
    "In vector form, this means\n",
    "$$\\vec X_0 =\n",
    "\\begin{bmatrix}\n",
    "    A \\\\ \n",
    "    -A\n",
    "\\end{bmatrix} =  0\\vec Y_1 + \\sqrt{2}A\\vec Y_2.$$\n",
    "And again! We know right away that the antisymmetric mode is zero."
   ]
  },
  {
   "cell_type": "markdown",
   "metadata": {
    "slideshow": {
     "slide_type": "subslide"
    }
   },
   "source": [
    "### Numerical resolution"
   ]
  },
  {
   "cell_type": "markdown",
   "metadata": {
    "slideshow": {
     "slide_type": "skip"
    }
   },
   "source": [
    "This bit is outside of what is expected of you, and will only benefit to those who read the Jupyter notebooks. As a matter of fact, the pdf export of this part will not be intelligible, though I will try to do the demo in class, time permitting. In any case, it is hard to realize the potential of the eigenmode method without realizing how easy it is to implement it numerically, and how it is possible to scale the numbers of oscillators up from there.\n",
    "So, let's give it a go."
   ]
  },
  {
   "cell_type": "code",
   "execution_count": 18,
   "metadata": {
    "slideshow": {
     "slide_type": "-"
    }
   },
   "outputs": [],
   "source": [
    "from sympy import *  # here I import the entire symbolic math package\n",
    "init_printing(use_unicode=True)  # to print pretty"
   ]
  },
  {
   "cell_type": "code",
   "execution_count": 19,
   "metadata": {
    "slideshow": {
     "slide_type": "fragment"
    }
   },
   "outputs": [],
   "source": [
    "# we need to declare some symbolic quantities\n",
    "# omega_sA, omega_p, omega = symbols('omega_sA, omega_p, omega', real=True)\n",
    "g, l = symbols('g, l', real=True)\n",
    "k, m_A, m_B = symbols('k, m_A, m_B', real=True)"
   ]
  },
  {
   "cell_type": "code",
   "execution_count": 20,
   "metadata": {},
   "outputs": [
    {
     "data": {
      "image/png": "[encoded data removed]",
      "text/latex": [
       "$$m_{A}$$"
      ],
      "text/plain": [
       "m_A"
      ]
     },
     "execution_count": 20,
     "metadata": {},
     "output_type": "execute_result"
    }
   ],
   "source": [
    "m_A"
   ]
  },
  {
   "cell_type": "code",
   "execution_count": 21,
   "metadata": {
    "slideshow": {
     "slide_type": "subslide"
    }
   },
   "outputs": [
    {
     "data": {
      "image/png": "[encoded data removed]",
      "text/latex": [
       "$$\\left[\\begin{matrix}m_{A} & 0\\\\0 & m_{B}\\end{matrix}\\right]$$"
      ],
      "text/plain": [
       "⎡m_A   0 ⎤\n",
       "⎢        ⎥\n",
       "⎣ 0   m_B⎦"
      ]
     },
     "execution_count": 21,
     "metadata": {},
     "output_type": "execute_result"
    }
   ],
   "source": [
    "# define the mass matrix\n",
    "M = Matrix([[m_A, 0],\n",
    "            [0, m_B]])\n",
    "M"
   ]
  },
  {
   "cell_type": "code",
   "execution_count": 22,
   "metadata": {
    "slideshow": {
     "slide_type": "fragment"
    }
   },
   "outputs": [
    {
     "data": {
      "image/png": "[encoded data removed]",
      "text/latex": [
       "$$\\left[\\begin{matrix}\\frac{g m_{A}}{l} + k & - k\\\\- k & \\frac{g m_{B}}{l} + k\\end{matrix}\\right]$$"
      ],
      "text/plain": [
       "⎡g⋅m_A               ⎤\n",
       "⎢───── + k     -k    ⎥\n",
       "⎢  l                 ⎥\n",
       "⎢                    ⎥\n",
       "⎢           g⋅m_B    ⎥\n",
       "⎢   -k      ───── + k⎥\n",
       "⎣             l      ⎦"
      ]
     },
     "execution_count": 22,
     "metadata": {},
     "output_type": "execute_result"
    }
   ],
   "source": [
    "# Define the stiffness matrix\n",
    "K = Matrix([[m_A*g/l + k, -k],\n",
    "            [-k, m_B*g/l + k]])\n",
    "K"
   ]
  },
  {
   "cell_type": "code",
   "execution_count": 23,
   "metadata": {
    "slideshow": {
     "slide_type": "subslide"
    }
   },
   "outputs": [
    {
     "data": {
      "image/png": "[encoded data removed]",
      "text/latex": [
       "$$\\left[\\begin{matrix}\\frac{g}{l} + \\frac{k}{m_{A}} & - \\frac{k}{m_{A}}\\\\- \\frac{k}{m_{B}} & \\frac{g}{l} + \\frac{k}{m_{B}}\\end{matrix}\\right]$$"
      ],
      "text/plain": [
       "⎡g    k     -k   ⎤\n",
       "⎢─ + ───    ───  ⎥\n",
       "⎢l   m_A    m_A  ⎥\n",
       "⎢                ⎥\n",
       "⎢  -k     g    k ⎥\n",
       "⎢  ───    ─ + ───⎥\n",
       "⎣  m_B    l   m_B⎦"
      ]
     },
     "execution_count": 23,
     "metadata": {},
     "output_type": "execute_result"
    }
   ],
   "source": [
    "# Compute M**(-1)*K\n",
    "EVecMat = M.inv()*K\n",
    "expand(EVecMat)"
   ]
  },
  {
   "cell_type": "code",
   "execution_count": 24,
   "metadata": {
    "slideshow": {
     "slide_type": "fragment"
    }
   },
   "outputs": [],
   "source": [
    "# A bit of refinement: we can substitute k/m_A by omega_SA, etc.\n",
    "# but first, we need to declare those symbolic variables\n",
    "omega_sA, omega_sB = symbols('omega_sA, omega_sB', real=True)\n",
    "omega_p = Symbol('omega_p', real=True)"
   ]
  },
  {
   "cell_type": "code",
   "execution_count": 25,
   "metadata": {
    "slideshow": {
     "slide_type": "subslide"
    }
   },
   "outputs": [
    {
     "data": {
      "image/png": "[encoded data removed]",
      "text/latex": [
       "$$\\left[\\begin{matrix}\\frac{g}{l} + \\omega_{sA}^{2} & - \\omega_{sA}^{2}\\\\- \\frac{k}{m_{B}} & \\frac{g}{l} + \\frac{k}{m_{B}}\\end{matrix}\\right]$$"
      ],
      "text/plain": [
       "⎡g       2       2 ⎤\n",
       "⎢─ + ω_sA   -ω_sA  ⎥\n",
       "⎢l                 ⎥\n",
       "⎢                  ⎥\n",
       "⎢   -k      g    k ⎥\n",
       "⎢   ───     ─ + ───⎥\n",
       "⎣   m_B     l   m_B⎦"
      ]
     },
     "execution_count": 25,
     "metadata": {},
     "output_type": "execute_result"
    }
   ],
   "source": [
    "New_EVMat = expand(EVecMat).subs(k/m_A, omega_sA**2); New_EVMat"
   ]
  },
  {
   "cell_type": "code",
   "execution_count": 26,
   "metadata": {
    "slideshow": {
     "slide_type": "fragment"
    }
   },
   "outputs": [
    {
     "data": {
      "image/png": "[encoded data removed]",
      "text/latex": [
       "$$\\left[\\begin{matrix}\\frac{g}{l} + \\omega_{sA}^{2} & - \\omega_{sA}^{2}\\\\- \\omega_{sB}^{2} & \\frac{g}{l} + \\omega_{sB}^{2}\\end{matrix}\\right]$$"
      ],
      "text/plain": [
       "⎡g       2        2  ⎤\n",
       "⎢─ + ω_sA    -ω_sA   ⎥\n",
       "⎢l                   ⎥\n",
       "⎢                    ⎥\n",
       "⎢      2    g       2⎥\n",
       "⎢ -ω_sB     ─ + ω_sB ⎥\n",
       "⎣           l        ⎦"
      ]
     },
     "execution_count": 26,
     "metadata": {},
     "output_type": "execute_result"
    }
   ],
   "source": [
    "New_EVMat = expand(New_EVMat).subs(k/m_B, omega_sB**2); New_EVMat"
   ]
  },
  {
   "cell_type": "code",
   "execution_count": 27,
   "metadata": {
    "slideshow": {
     "slide_type": "fragment"
    }
   },
   "outputs": [
    {
     "data": {
      "image/png": "[encoded data removed]",
      "text/latex": [
       "$$\\left[\\begin{matrix}\\omega_{p}^{2} + \\omega_{sA}^{2} & - \\omega_{sA}^{2}\\\\- \\omega_{sB}^{2} & \\omega_{p}^{2} + \\omega_{sB}^{2}\\end{matrix}\\right]$$"
      ],
      "text/plain": [
       "⎡  2       2         2   ⎤\n",
       "⎢ωₚ  + ω_sA     -ω_sA    ⎥\n",
       "⎢                        ⎥\n",
       "⎢       2       2       2⎥\n",
       "⎣  -ω_sB      ωₚ  + ω_sB ⎦"
      ]
     },
     "execution_count": 27,
     "metadata": {},
     "output_type": "execute_result"
    }
   ],
   "source": [
    "New_EVMat = expand(New_EVMat).subs(g/l, omega_p**2); New_EVMat"
   ]
  },
  {
   "cell_type": "code",
   "execution_count": 28,
   "metadata": {
    "slideshow": {
     "slide_type": "subslide"
    }
   },
   "outputs": [
    {
     "data": {
      "image/png": "[encoded data removed]",
      "text/latex": [
       "$$\\left[\\begin{matrix}\\omega_{p}^{2} + \\omega_{sA}^{2} & - \\omega_{sA}^{2}\\\\- \\omega_{sB}^{2} & \\omega_{p}^{2} + \\omega_{sB}^{2}\\end{matrix}\\right]$$"
      ],
      "text/plain": [
       "⎡  2       2         2   ⎤\n",
       "⎢ωₚ  + ω_sA     -ω_sA    ⎥\n",
       "⎢                        ⎥\n",
       "⎢       2       2       2⎥\n",
       "⎣  -ω_sB      ωₚ  + ω_sB ⎦"
      ]
     },
     "execution_count": 28,
     "metadata": {},
     "output_type": "execute_result"
    }
   ],
   "source": [
    "# Or it can be done in one fell swoop:\n",
    "New_EVMat = (expand(EVecMat).subs(k/m_A, omega_sA**2)\n",
    "                            .subs(k/m_B, omega_sB**2)\n",
    "                            .subs(g/l, omega_p**2))\n",
    "New_EVMat"
   ]
  },
  {
   "cell_type": "code",
   "execution_count": 29,
   "metadata": {
    "slideshow": {
     "slide_type": "subslide"
    }
   },
   "outputs": [
    {
     "data": {
      "image/png": "[encoded data removed]",
      "text/latex": [
       "$$\\left [ \\left ( \\omega_{p}^{2}, \\quad 1, \\quad \\left [ \\left[\\begin{matrix}1\\\\1\\end{matrix}\\right]\\right ]\\right ), \\quad \\left ( \\omega_{p}^{2} + \\omega_{sA}^{2} + \\omega_{sB}^{2}, \\quad 1, \\quad \\left [ \\left[\\begin{matrix}- \\frac{\\omega_{sA}^{2}}{\\omega_{sB}^{2}}\\\\1\\end{matrix}\\right]\\right ]\\right )\\right ]$$"
      ],
      "text/plain": [
       "⎡                 ⎛                        ⎡⎡     2 ⎤⎤⎞⎤\n",
       "⎢                 ⎜                        ⎢⎢-ω_sA  ⎥⎥⎟⎥\n",
       "⎢⎛  2     ⎡⎡1⎤⎤⎞  ⎜  2       2       2     ⎢⎢───────⎥⎥⎟⎥\n",
       "⎢⎜ωₚ , 1, ⎢⎢ ⎥⎥⎟, ⎜ωₚ  + ω_sA  + ω_sB , 1, ⎢⎢     2 ⎥⎥⎟⎥\n",
       "⎢⎝        ⎣⎣1⎦⎦⎠  ⎜                        ⎢⎢ ω_sB  ⎥⎥⎟⎥\n",
       "⎢                 ⎜                        ⎢⎢       ⎥⎥⎟⎥\n",
       "⎣                 ⎝                        ⎣⎣   1   ⎦⎦⎠⎦"
      ]
     },
     "execution_count": 29,
     "metadata": {},
     "output_type": "execute_result"
    }
   ],
   "source": [
    "# And now the finishing touch\n",
    "New_EVMat.eigenvects()"
   ]
  },
  {
   "cell_type": "markdown",
   "metadata": {
    "slideshow": {
     "slide_type": "fragment"
    }
   },
   "source": [
    "The line above is to be interpreted in the following way:\n",
    "\n",
    "1. There are two different eigenvalues, $\\omega_p^2$ and $\\omega_p^2+\\omega_{sA}^2+\\omega_{sB}^2$,\n",
    "2. each of these eigenvalues appears only once (this is what the \"1\" numbers mean in second positions),\n",
    "3. the eigenvectors are $[1, 1]$ (antisymmetric) and $[-\\omega_{sA}^2/\\omega_{sB}^2, 1]$ (pseudo-symmetric).\n",
    "Note how python doesn't care about normalizing the eigenvector norms, and that it used a different sign convention from me. It means that it does not really matter."
   ]
  },
  {
   "cell_type": "code",
   "execution_count": 30,
   "metadata": {
    "slideshow": {
     "slide_type": "subslide"
    }
   },
   "outputs": [
    {
     "data": {
      "image/png": "[encoded data removed]",
      "text/latex": [
       "$$\\left[\\begin{matrix}\\omega_{pA}^{2} + \\omega_{sA}^{2} & - \\omega_{sA}^{2}\\\\- \\omega_{sB}^{2} & \\omega_{pB}^{2} + \\omega_{sB}^{2}\\end{matrix}\\right]$$"
      ],
      "text/plain": [
       "⎡    2       2          2    ⎤\n",
       "⎢ω_pA  + ω_sA      -ω_sA     ⎥\n",
       "⎢                            ⎥\n",
       "⎢        2          2       2⎥\n",
       "⎣   -ω_sB       ω_pB  + ω_sB ⎦"
      ]
     },
     "execution_count": 30,
     "metadata": {},
     "output_type": "execute_result"
    }
   ],
   "source": [
    "# I can even do it with two different length of pendulums!\n",
    "l_A, l_B = symbols('l_A, l_B', real=True)\n",
    "omega_pA, omega_pB = symbols('omega_pA, omega_pB', real=True)\n",
    "\n",
    "# New stiffness matrix\n",
    "K_2 = Matrix([[m_A*g/l_A + k, -k],\n",
    "              [-k, m_B*g/l_B + k]])\n",
    "\n",
    "# new eigenvector problem\n",
    "EVecMat_2 = M.inv()*K_2\n",
    "New_EVMat_2 = (expand(EVecMat_2).subs(k/m_A, omega_sA**2)\n",
    "                                .subs(k/m_B, omega_sB**2)\n",
    "                                .subs(g/l_A, omega_pA**2)\n",
    "                                .subs(g/l_B, omega_pB**2))\n",
    "\n",
    "New_EVMat_2"
   ]
  },
  {
   "cell_type": "code",
   "execution_count": 31,
   "metadata": {
    "slideshow": {
     "slide_type": "subslide"
    }
   },
   "outputs": [
    {
     "data": {
      "image/png": "[encoded data removed]",
      "text/latex": [
       "$$\\left [ \\left ( \\frac{\\omega_{pA}^{2}}{2} + \\frac{\\omega_{pB}^{2}}{2} + \\frac{\\omega_{sA}^{2}}{2} + \\frac{\\omega_{sB}^{2}}{2} - \\frac{\\sqrt{\\omega_{pA}^{4} - 2 \\omega_{pA}^{2} \\omega_{pB}^{2} + 2 \\omega_{pA}^{2} \\omega_{sA}^{2} - 2 \\omega_{pA}^{2} \\omega_{sB}^{2} + \\omega_{pB}^{4} - 2 \\omega_{pB}^{2} \\omega_{sA}^{2} + 2 \\omega_{pB}^{2} \\omega_{sB}^{2} + \\omega_{sA}^{4} + 2 \\omega_{sA}^{2} \\omega_{sB}^{2} + \\omega_{sB}^{4}}}{2}, \\quad 1, \\quad \\left [ \\left[\\begin{matrix}\\frac{\\omega_{sA}^{2}}{\\frac{\\omega_{pA}^{2}}{2} - \\frac{\\omega_{pB}^{2}}{2} + \\frac{\\omega_{sA}^{2}}{2} - \\frac{\\omega_{sB}^{2}}{2} + \\frac{\\sqrt{\\omega_{pA}^{4} - 2 \\omega_{pA}^{2} \\omega_{pB}^{2} + 2 \\omega_{pA}^{2} \\omega_{sA}^{2} - 2 \\omega_{pA}^{2} \\omega_{sB}^{2} + \\omega_{pB}^{4} - 2 \\omega_{pB}^{2} \\omega_{sA}^{2} + 2 \\omega_{pB}^{2} \\omega_{sB}^{2} + \\omega_{sA}^{4} + 2 \\omega_{sA}^{2} \\omega_{sB}^{2} + \\omega_{sB}^{4}}}{2}}\\\\1\\end{matrix}\\right]\\right ]\\right ), \\quad \\left ( \\frac{\\omega_{pA}^{2}}{2} + \\frac{\\omega_{pB}^{2}}{2} + \\frac{\\omega_{sA}^{2}}{2} + \\frac{\\omega_{sB}^{2}}{2} + \\frac{\\sqrt{\\omega_{pA}^{4} - 2 \\omega_{pA}^{2} \\omega_{pB}^{2} + 2 \\omega_{pA}^{2} \\omega_{sA}^{2} - 2 \\omega_{pA}^{2} \\omega_{sB}^{2} + \\omega_{pB}^{4} - 2 \\omega_{pB}^{2} \\omega_{sA}^{2} + 2 \\omega_{pB}^{2} \\omega_{sB}^{2} + \\omega_{sA}^{4} + 2 \\omega_{sA}^{2} \\omega_{sB}^{2} + \\omega_{sB}^{4}}}{2}, \\quad 1, \\quad \\left [ \\left[\\begin{matrix}\\frac{\\omega_{sA}^{2}}{\\frac{\\omega_{pA}^{2}}{2} - \\frac{\\omega_{pB}^{2}}{2} + \\frac{\\omega_{sA}^{2}}{2} - \\frac{\\omega_{sB}^{2}}{2} - \\frac{\\sqrt{\\omega_{pA}^{4} - 2 \\omega_{pA}^{2} \\omega_{pB}^{2} + 2 \\omega_{pA}^{2} \\omega_{sA}^{2} - 2 \\omega_{pA}^{2} \\omega_{sB}^{2} + \\omega_{pB}^{4} - 2 \\omega_{pB}^{2} \\omega_{sA}^{2} + 2 \\omega_{pB}^{2} \\omega_{sB}^{2} + \\omega_{sA}^{4} + 2 \\omega_{sA}^{2} \\omega_{sB}^{2} + \\omega_{sB}^{4}}}{2}}\\\\1\\end{matrix}\\right]\\right ]\\right )\\right ]$$"
      ],
      "text/plain": [
       "⎡⎛                                                                            \n",
       "⎢⎜                                                                            \n",
       "⎢⎜                                   _________________________________________\n",
       "⎢⎜    2       2       2       2     ╱     4         2     2         2     2   \n",
       "⎢⎜ω_pA    ω_pB    ω_sA    ω_sB    ╲╱  ω_pA  - 2⋅ω_pA ⋅ω_pB  + 2⋅ω_pA ⋅ω_sA  - \n",
       "⎢⎜───── + ───── + ───── + ───── - ────────────────────────────────────────────\n",
       "⎢⎜  2       2       2       2                                                 \n",
       "⎢⎜                                                                            \n",
       "⎢⎜                                                                            \n",
       "⎣⎝                                                                            \n",
       "\n",
       "                                                                              \n",
       "                                                                              \n",
       "______________________________________________________________________________\n",
       "      2     2       4         2     2         2     2       4         2     2 \n",
       "2⋅ω_pA ⋅ω_sB  + ω_pB  - 2⋅ω_pB ⋅ω_sA  + 2⋅ω_pB ⋅ω_sB  + ω_sA  + 2⋅ω_sA ⋅ω_sB  \n",
       "──────────────────────────────────────────────────────────────────────────────\n",
       "                    2                                                         \n",
       "                                                                              \n",
       "                                                                              \n",
       "                                                                              \n",
       "\n",
       "             ⎡⎡                                                               \n",
       "             ⎢⎢                                                               \n",
       "________     ⎢⎢───────────────────────────────────────────────────────────────\n",
       "      4      ⎢⎢                                   ____________________________\n",
       "+ ω_sB       ⎢⎢    2       2       2       2     ╱     4         2     2      \n",
       "────────, 1, ⎢⎢ω_pA    ω_pB    ω_sA    ω_sB    ╲╱  ω_pA  - 2⋅ω_pA ⋅ω_pB  + 2⋅ω\n",
       "             ⎢⎢───── - ───── + ───── - ───── + ───────────────────────────────\n",
       "             ⎢⎢  2       2       2       2                                    \n",
       "             ⎢⎢                                                               \n",
       "             ⎣⎣                                                               \n",
       "\n",
       "                   2                                                          \n",
       "               ω_sA                                                           \n",
       "──────────────────────────────────────────────────────────────────────────────\n",
       "______________________________________________________________________________\n",
       "   2     2         2     2       4         2     2         2     2       4    \n",
       "_pA ⋅ω_sA  - 2⋅ω_pA ⋅ω_sB  + ω_pB  - 2⋅ω_pB ⋅ω_sA  + 2⋅ω_pB ⋅ω_sB  + ω_sA  + 2\n",
       "──────────────────────────────────────────────────────────────────────────────\n",
       "                                 2                                            \n",
       "                                                                              \n",
       "                 1                                                            \n",
       "\n",
       "                     ⎤⎤⎞  ⎛                                                   \n",
       "                     ⎥⎥⎟  ⎜                                                   \n",
       "─────────────────────⎥⎥⎟  ⎜                                   ________________\n",
       "_____________________⎥⎥⎟  ⎜    2       2       2       2     ╱     4         2\n",
       "     2     2       4 ⎥⎥⎟  ⎜ω_pA    ω_pB    ω_sA    ω_sB    ╲╱  ω_pA  - 2⋅ω_pA \n",
       "⋅ω_sA ⋅ω_sB  + ω_sB  ⎥⎥⎟, ⎜───── + ───── + ───── + ───── + ───────────────────\n",
       "─────────────────────⎥⎥⎟  ⎜  2       2       2       2                        \n",
       "                     ⎥⎥⎟  ⎜                                                   \n",
       "                     ⎥⎥⎟  ⎜                                                   \n",
       "                     ⎦⎦⎠  ⎝                                                   \n",
       "\n",
       "                                                                              \n",
       "                                                                              \n",
       "______________________________________________________________________________\n",
       "     2         2     2         2     2       4         2     2         2     2\n",
       "⋅ω_pB  + 2⋅ω_pA ⋅ω_sA  - 2⋅ω_pA ⋅ω_sB  + ω_pB  - 2⋅ω_pB ⋅ω_sA  + 2⋅ω_pB ⋅ω_sB \n",
       "──────────────────────────────────────────────────────────────────────────────\n",
       "                                             2                                \n",
       "                                                                              \n",
       "                                                                              \n",
       "                                                                              \n",
       "\n",
       "                                      ⎡⎡                                      \n",
       "                                      ⎢⎢                                      \n",
       "_________________________________     ⎢⎢──────────────────────────────────────\n",
       "       4         2     2       4      ⎢⎢                                   ___\n",
       " + ω_sA  + 2⋅ω_sA ⋅ω_sB  + ω_sB       ⎢⎢    2       2       2       2     ╱   \n",
       "─────────────────────────────────, 1, ⎢⎢ω_pA    ω_pB    ω_sA    ω_sB    ╲╱  ω_\n",
       "                                      ⎢⎢───── - ───── + ───── - ───── - ──────\n",
       "                                      ⎢⎢  2       2       2       2           \n",
       "                                      ⎢⎢                                      \n",
       "                                      ⎣⎣                                      \n",
       "\n",
       "                                            2                                 \n",
       "                                        ω_sA                                  \n",
       "──────────────────────────────────────────────────────────────────────────────\n",
       "______________________________________________________________________________\n",
       "  4         2     2         2     2         2     2       4         2     2   \n",
       "pA  - 2⋅ω_pA ⋅ω_pB  + 2⋅ω_pA ⋅ω_sA  - 2⋅ω_pA ⋅ω_sB  + ω_pB  - 2⋅ω_pB ⋅ω_sA  + \n",
       "──────────────────────────────────────────────────────────────────────────────\n",
       "                                                          2                   \n",
       "                                                                              \n",
       "                                          1                                   \n",
       "\n",
       "                                              ⎤⎤⎞⎤\n",
       "                                              ⎥⎥⎟⎥\n",
       "──────────────────────────────────────────────⎥⎥⎟⎥\n",
       "______________________________________________⎥⎥⎟⎥\n",
       "      2     2       4         2     2       4 ⎥⎥⎟⎥\n",
       "2⋅ω_pB ⋅ω_sB  + ω_sA  + 2⋅ω_sA ⋅ω_sB  + ω_sB  ⎥⎥⎟⎥\n",
       "──────────────────────────────────────────────⎥⎥⎟⎥\n",
       "                                              ⎥⎥⎟⎥\n",
       "                                              ⎥⎥⎟⎥\n",
       "                                              ⎦⎦⎠⎦"
      ]
     },
     "execution_count": 31,
     "metadata": {},
     "output_type": "execute_result"
    }
   ],
   "source": [
    "New_EVMat_2.eigenvects()"
   ]
  },
  {
   "cell_type": "markdown",
   "metadata": {
    "slideshow": {
     "slide_type": "skip"
    }
   },
   "source": [
    "*Note: the result above is so long that it will not display properly on the pdf version of the notes. Which is the message here: the result is so long, it is not practical to handle it symbolically.*"
   ]
  },
  {
   "cell_type": "markdown",
   "metadata": {
    "slideshow": {
     "slide_type": "skip"
    }
   },
   "source": [
    "Obviously, in a practical setting, we would be using a numerical math package, not a symbolic one!\n",
    "These excruciatingly complicated expressions would become mere numbers, which computers could crunch out."
   ]
  },
  {
   "cell_type": "markdown",
   "metadata": {
    "slideshow": {
     "slide_type": "skip"
    }
   },
   "source": [
    "***\n",
    "\n",
    "\n",
    "\n",
    "# *Other Examples*\n",
    "\n",
    "*For the sake of time, I will not cover these in class. You should be able to do the masses coupled by springs by yourself, as a practice problem. It is something I could ask in an exam, and the problem set should feature several derived problems. Ocean tides are outside of the scope of this class, and only serves an illustrative purpose.*\n",
    "\n",
    "## *Masses Coupled by Springs*"
   ]
  },
  {
   "cell_type": "markdown",
   "metadata": {
    "slideshow": {
     "slide_type": "slide"
    }
   },
   "source": [
    "See King fig. 4.11.\n",
    "![Fig. 10: King 4.11](CoupledMassesSprings.png)"
   ]
  },
  {
   "cell_type": "markdown",
   "metadata": {
    "slideshow": {
     "slide_type": "skip"
    }
   },
   "source": [
    "#### *Equations of motion*\n",
    "*Let both masses be equal this time, and let all the stiffnesses be equal as well.\n",
    "Equations are:*\n",
    "$$ m \\ddot x_A = -k x_A + k(x_B - x_A) = k x_B - 2 k x_A, $$\n",
    "$$ m \\ddot x_B = -k (x_B - x_A) - kx_B = k x_A - 2 k x_B. $$"
   ]
  },
  {
   "cell_type": "markdown",
   "metadata": {
    "slideshow": {
     "slide_type": "skip"
    }
   },
   "source": [
    "*Dividing by $m$:*\n",
    "$$ \\ddot x_A = \\omega_s^2 (x_B - 2 x_A), $$\n",
    "$$ \\ddot x_B = \\omega_s^2 (x_A - 2 x_B). $$"
   ]
  },
  {
   "cell_type": "markdown",
   "metadata": {
    "slideshow": {
     "slide_type": "skip"
    }
   },
   "source": [
    "#### *Form of the solution*\n",
    "*We are looking for normal modes.\n",
    "Recall the definition of the normal modes:* **normal modes are modes for which all elements of the coupled system oscillate at the same, unique frequency.**\n",
    "*Therefore, we look for solutions of the form*\n",
    "$$ \\vec X = C\\vec Y \\cos(\\omega t + \\phi). $$"
   ]
  },
  {
   "cell_type": "markdown",
   "metadata": {
    "slideshow": {
     "slide_type": "skip"
    }
   },
   "source": [
    "*As before, solving for the eigenvalue problem will yield the $\\omega$'s and $\\vec Y$'s, while the $C$'s and $\\phi$'s are determined in a second time, with the initial conditions.*"
   ]
  },
  {
   "cell_type": "markdown",
   "metadata": {
    "slideshow": {
     "slide_type": "skip"
    }
   },
   "source": [
    "#### *Eigenproblem and solving for $\\vec Y$ and $\\omega$.*\n",
    "*The previous system of equations becomes*\n",
    "$$ \\omega_s^2 (2x_A - x_B) = \\omega^2 x_A, \\hspace{6cm} (9a)$$\n",
    "$$ \\omega_s^2 (2x_B - x_A) = \\omega^2 x_B, \\hspace{6cm} (9b)$$\n",
    "*which has the form of an eigenproblem.*"
   ]
  },
  {
   "cell_type": "markdown",
   "metadata": {
    "slideshow": {
     "slide_type": "skip"
    }
   },
   "source": [
    "*Indeed, defining \n",
    "$$ M^{-1}K = \\omega_s^2 \\begin{bmatrix}\n",
    "                            2 & -1 \\\\\n",
    "                            -1 & 2\n",
    "                        \\end{bmatrix}, $$\n",
    "We can write the above system of equations as*\n",
    "$$ M^{-1}K \\vec X = \\omega^2 \\vec X. $$"
   ]
  },
  {
   "cell_type": "markdown",
   "metadata": {
    "slideshow": {
     "slide_type": "skip"
    }
   },
   "source": [
    "*We find the eigenfrequencies by finding the roots of the characteristic polynomial, i.e., of*\n",
    "$$ \\det(M^-1 K - \\omega^2\\mathsf I_2) = 0 = (2\\omega_s^2 - \\omega^2)^2 - \\omega_s^4 = (\\omega^2 - \\omega_s^2)(\\omega^2 - 3\\omega^2_s). $$"
   ]
  },
  {
   "cell_type": "markdown",
   "metadata": {
    "slideshow": {
     "slide_type": "skip"
    }
   },
   "source": [
    "*Thus, the eigenfrequencies are $\\omega_1=\\omega_s$ and $\\omega_2 = \\sqrt{3}\\omega_s$.*"
   ]
  },
  {
   "cell_type": "markdown",
   "metadata": {
    "slideshow": {
     "slide_type": "skip"
    }
   },
   "source": [
    "*The mode, oscillating at $\\omega_1= \\omega_s$ can be qualified as \"antisymmetric\" again. It is the mode for which both masses oscillate in sync, and the central spring is neither stretched or compressed. Therefore, only the external springs stretch or compress, and their natural frequencies of oscillations are simply $\\omega_s$.*"
   ]
  },
  {
   "cell_type": "markdown",
   "metadata": {
    "slideshow": {
     "slide_type": "skip"
    }
   },
   "source": [
    "*By process of elimination, and because the system is neatly symmetric around the central $x$, we can surmise that the other mode, oscillating at $\\omega_2 = \\sqrt3 \\omega_s$, is a symmetric mode of motion, the motion of both masses being symmetric with respect to the central plane.*"
   ]
  },
  {
   "cell_type": "markdown",
   "metadata": {
    "slideshow": {
     "slide_type": "subslide"
    }
   },
   "source": [
    "![Fig. 11: the symmetric normal mode](spring_sym.gif)\n",
    "\n",
    "![Fig. 12: the antisymmetric normal mode.](spring_asyn.gif)"
   ]
  },
  {
   "cell_type": "markdown",
   "metadata": {
    "slideshow": {
     "slide_type": "skip"
    }
   },
   "source": [
    "*Defining $\\vec Y = [a, b]$, we can find the orientation of the eigenvectors by replacing $x_A$ and $x_B$ by $a$ and $b$ in the system $(9)$, or in only one of the equations since they are redundant.*\n",
    "\n",
    "*In the case $\\omega = \\omega_s$, eqn. $(9a)$ becomes $a - b = 0$, or $a =b$. It is indeed the antisymmetric mode.\n",
    "Normalizing to have $\\|\\vec Y_1\\| = 1$ (*which I do, but isn't necessary!*) yields $a = b = 1/\\sqrt{2}$.*\n",
    "\n",
    "*In the case $\\omega = \\sqrt{3}\\omega_s$, eqn. $(9a)$ becomes $a = -b$. It is indeed the symmetric mode.\n",
    "Normalizing to have $\\|\\vec Y_2\\| = 1$ yields $a = -b = 1/\\sqrt{2}$.*"
   ]
  },
  {
   "cell_type": "markdown",
   "metadata": {
    "slideshow": {
     "slide_type": "skip"
    }
   },
   "source": [
    "*Any solution of the coupled oscillator system is therefore*\n",
    "$$ \\vec X = \\frac{C_1}{\\sqrt{2}}\\begin{bmatrix}\n",
    "                    1 \\\\ 1\n",
    "               \\end{bmatrix}\\cos(\\omega_s t + \\phi_1) + \n",
    "            \\frac{C_2}{\\sqrt{2}}\\begin{bmatrix}\n",
    "                    1 \\\\ -1\n",
    "            \\end{bmatrix}\\cos(\\sqrt3\\omega_s t + \\phi_2).$$"
   ]
  },
  {
   "cell_type": "markdown",
   "metadata": {
    "slideshow": {
     "slide_type": "skip"
    }
   },
   "source": [
    "*Any problem would the completed by using initial conditions in order to solve for the $C$'s and $\\phi$'s.\n",
    "I won't do it."
   ]
  },
  {
   "cell_type": "markdown",
   "metadata": {
    "slideshow": {
     "slide_type": "slide"
    }
   },
   "source": [
    "\n",
    "\n",
    "## *Ocean Tides*"
   ]
  },
  {
   "cell_type": "markdown",
   "metadata": {
    "slideshow": {
     "slide_type": "subslide"
    }
   },
   "source": [
    "*For your interest only. This discussion is based on the following two articles:*\n",
    "\n",
    "* *Arbic, Brian K., and Chris Garrett. 2010. \"A Coupled Oscillator Model of Shelf and Ocean Tides.\" Continental Shelf Research 30 (6). Pergamon: 564–74. doi:10.1016/j.csr.2009.07.008.*\n",
    "* *Arbic, Brian K., Richard H. Karsten, and Chris Garrett. 2009. \"On Tidal Resonance in the Global Ocean and the Back-effect of Coastal Tides upon Open-ocean Tides.\" Atmosphere-Ocean 47 (4): 239–66. doi:10.3137/OC311.2009.*"
   ]
  },
  {
   "cell_type": "markdown",
   "metadata": {
    "slideshow": {
     "slide_type": "skip"
    }
   },
   "source": [
    "*Every continent is surrounded by continental shelves, i.e., regions where the ocean floor is relatively flat, and relatively shallow (less than 500 m deep).\n",
    "You may easily realize this by looking at google maps in satellite mode.\n",
    "In contrast, the \"open-ocean\" is in general much deeper (5 km).\n",
    "Because these two regions of the ocean are much different, they can be thought of as individual oscillators with respect to tidal forcing, with their own resonance frequencies, and their own damping rates: damping is much stronger for tides in shallower seas, because the proximity to the bottom creates much more fluid friction and turbulence.*\n",
    "\n",
    "*Some continental shelves are fairly well isolated from the open ocean.\n",
    "The example that is closest to home, but also one of the best examples in the world, is Hudson Bay.\n",
    "It is very large (over 1000 km diameter) and shallow (about 100 m on average), and coupled to the open-ocean via a series of very narrow and even more shallow straits.*\n",
    "\n",
    "*One would think that such an isolated body of water does its own thing, resonating with the tidal forcing without influencing the other bodies of water.\n",
    "This would be neglecting the peculiar properties of resonance, and in particular that even if the coupling is weak between two oscillators, if the forcing provided by the first oscillator to the second oscillator happens to be at a resonance frequency of the second oscillator, the second oscillator will react strongly.\n",
    "As a consequence, the coupled system will have a fundamentally different behaviour than if the two oscillators were uncoupled: modes of oscillation take over, and the behaviour becomes global.*\n",
    "\n",
    "*Arbic and his colleagues were interested in paleo-oceanography, and in particular, what were the tides like during the last glacial maximum, were polar ice caps were retaining a lot of the world's water in solid form, above sea level?\n",
    "Then, sea level was more than 100 m below what it is now, and the oscillators as well as the couplings between them must have been very different.\n",
    "They realized it was very complicated, and that the slightest changes in the coastal configuration could change the global tides radically.\n",
    "Take a look at Arbic and Garrett 2010, page 2: they push the analogy as far as drawing two masses linked by springs, go over a discussion about damping, plot the same resonance curves that I drew in chapter 3, etc.!*\n",
    "\n",
    "*The two articles that I am citing are proof-of-concept kind of articles, where they run numerical simulations of ocean tides in which they artificially change tiny bits of coasts.\n",
    "In particular, they block Hudson Strait between Hudson Bay and the Atlantic Ocean, and find that the tides are completely modified everywhere in the Atlantic Ocean (see figure here, i.e., fig. 15a, b, c of Arbic et al. 2009, reproduced here.) and even as far as India, were a 20 cm increase in tidal amplitude happens!*"
   ]
  },
  {
   "cell_type": "markdown",
   "metadata": {
    "slideshow": {
     "slide_type": "subslide"
    }
   },
   "source": [
    "![Fig. 13: Reproduction of fig. 15a, b and c of Arbic et al. 2009: \"(a) and (b) $M_2$ amplitudes (m) near Hudson Strait in nominal (unblocked) and blocked Hudson Strait experiments. (c) Global map of $M_2$ amplitude differences (m) between the blocked Hudson Strait experiment and the unblocked experiment.\" *Note:* $M_2 \\approx 2\\pi/(12.4 hours)$ *is the name of the lunar semidiurnal tide frequency.*](HudsonBlocked.png)"
   ]
  },
  {
   "cell_type": "markdown",
   "metadata": {
    "slideshow": {
     "slide_type": "skip"
    }
   },
   "source": [
    "*Such considerations illustrate how delicate it is to predict adaptation to climate change.\n",
    "If the sea level is predicted to rise by metres, what will it entail e.g. for artifical ports, which have been designed to operate optimally under present-day tides? The changes in amplitudes and phases of tides might render some harbours less optimal than others, some breeding grounds might change, some touristic destinations might need to be redesigned...*"
   ]
  },
  {
   "cell_type": "markdown",
   "metadata": {
    "slideshow": {
     "slide_type": "skip"
    }
   },
   "source": [
    "***\n",
    "\n",
    "*End of 09/28 lecture, beginning of 10/01 lecture.*\n",
    "\n",
    "***"
   ]
  },
  {
   "cell_type": "markdown",
   "metadata": {
    "slideshow": {
     "slide_type": "skip"
    }
   },
   "source": [
    "# On the Orthogonality of the Eigenmodes"
   ]
  },
  {
   "cell_type": "markdown",
   "metadata": {
    "slideshow": {
     "slide_type": "skip"
    }
   },
   "source": [
    "## One Last Bit of Linear Algebra"
   ]
  },
  {
   "cell_type": "markdown",
   "metadata": {
    "slideshow": {
     "slide_type": "skip"
    }
   },
   "source": [
    "The last bit of linear algebra that I will be using is that if a matrix $\\textsf P$ is real symmetric, i.e., all elements of $\\textsf P$ are real, and $\\textsf P^T = \\textsf P$, then the eigenvectors of $\\textsf P$ are orthogonal to each other.\n",
    "That is, for eigenvectors that have been normalized ($\\forall i\\in {1\\dots{}n}, \\|V_i\\| = 1$),\n",
    "$$\\forall (i, j) \\in \\{1\\dots n\\}^2, \\qquad V_i\\cdot V_j = \\delta_{ij}, $$\n",
    "where $\\delta_{ij} = 1$ if $i=j$, and $\\delta_{ij} = 0$ otherwise ($\\delta_{ij}$ is called the \"Kronecker Delta\")."
   ]
  },
  {
   "cell_type": "markdown",
   "metadata": {
    "slideshow": {
     "slide_type": "skip"
    }
   },
   "source": [
    "*Note: the generalization of a real symmetric matrix is called a Hermitian matrix, for which* $P_{ij} = P_{ji}^*$ *, where the asterisk means complex conjugate. The result above applies to Hermitian matrices, which will be very important very soon, in quantum mechanics.*"
   ]
  },
  {
   "cell_type": "markdown",
   "metadata": {
    "slideshow": {
     "slide_type": "skip"
    }
   },
   "source": [
    "In general, what the dot product is depends on the vector space. In our case, it is simply that if $\\vec Y_a = [a_1, a_2]$ and $\\vec Y_b = [b_1, b_2]$, then $\\vec Y_a \\cdot \\vec Y_b = a_1b_1 + a_2b_2$."
   ]
  },
  {
   "cell_type": "markdown",
   "metadata": {
    "slideshow": {
     "slide_type": "skip"
    }
   },
   "source": [
    "Let me re-use the example of the two coupled pendulums of different masses.\n",
    "The matrix $\\textsf P$ corresponded to\n",
    "$$ M^{-1}K = \\begin{bmatrix}\n",
    "                 \\frac{g}l + \\frac{k}{m_A} & -\\frac{k}{m_A} \\\\\n",
    "                 -\\frac{k}{m_B} & \\frac{g}l + \\frac{k}{m_B}\n",
    "             \\end{bmatrix},$$\n",
    "and the normalized eigenvectors were \n",
    "$$ \\vec Y_1 = \\frac{1}{\\sqrt{2}}\\begin{bmatrix}\n",
    "                                     1 \\\\ 1\n",
    "                                 \\end{bmatrix}\n",
    "\\and\n",
    "\\vec Y_2 = \\frac{1}{\\sqrt{\\omega_{sA}^4 + \\omega_{sB}^4}}\\begin{bmatrix}\n",
    "               \\omega_{sA}^2 \\\\\n",
    "               -\\omega_{sB}^2\n",
    "           \\end{bmatrix}\n",
    "         = \\frac1{\\sqrt{m_A^2 + m_B^2}}\\begin{bmatrix}\n",
    "                                           m_B \\\\\n",
    "                                           -m_A\n",
    "                                       \\end{bmatrix}.$$"
   ]
  },
  {
   "cell_type": "markdown",
   "metadata": {
    "slideshow": {
     "slide_type": "skip"
    }
   },
   "source": [
    "The projection of the two eigenvectors onto each other is therefore\n",
    "$$ \\vec Y_1 \\cdot \\vec Y_2 = \\frac{m_B - m_A}{\\sqrt{2(m_A^2 + m_B^2)}}. $$"
   ]
  },
  {
   "cell_type": "markdown",
   "metadata": {
    "slideshow": {
     "slide_type": "skip"
    }
   },
   "source": [
    "Therefore, if $m_A = m_B$, the two statements \"$\\vec Y_1 \\perp \\vec Y_2$\" and \"$M^{-1}K$ is real symmetric\" are both true. In light of the linear algebra result I recalled above, this is no coincidence.\n",
    "\n",
    "Cases in which the matrix is real symmetric correspond to a wide range of applications.\n",
    "In these cases, the orthogonality property simplifies the calculations greatly, especially when the number of oscillators becomes large.\n",
    "The reason is that it becomes very easy to isolate every mode.\n",
    "\n",
    "Here, I divide the examples of applications into two classes: initial value problems (the free response), and forced problems (the driven response).\n",
    "\n",
    "*Note: there are relatively easy ways to generalize these results to non-symmetric matrices, because $\\vec Y_i M\\vec Y_j = 0$ if $i\\neq j$. It represents an additional mathematical complexity level that, while not that difficult, is too much to deal with in the short amount of time I have.*"
   ]
  },
  {
   "cell_type": "markdown",
   "metadata": {
    "slideshow": {
     "slide_type": "skip"
    }
   },
   "source": [
    "## Initial Value Problems"
   ]
  },
  {
   "cell_type": "markdown",
   "metadata": {
    "slideshow": {
     "slide_type": "skip"
    }
   },
   "source": [
    "Recall that the free response of the coupled system of oscillators can be written\n",
    "$$ \\vec X = C_1 \\vec Y_1 \\cos(\\omega_1 t + \\phi_1) + C_2 \\vec Y_2 \\cos(\\omega_2 t + \\phi_2), $$\n",
    "and that at $t = 0$,\n",
    "$\\vec X(t=0) = \\vec X_0 = C_1 \\vec Y_1\\cos\\phi_1 + C_2 \\vec Y_2\\cos\\phi_2$.\n",
    "\n",
    "The velocity is\n",
    "$$ \\vec V = -\\omega_1 C_1 \\vec Y_1 \\sin(\\omega_1 t + \\phi_1) - \\omega_2 C_2 \\vec Y_2 \\sin(\\omega_2 t + \\phi_2),$$\n",
    "which initially is \n",
    "$\\vec V(t=0) = \\vec V_0 = -\\omega_1C_1 \\vec Y_1\\sin\\phi_1 -\\omega_2 C_2 \\vec Y_2\\sin\\phi_2$."
   ]
  },
  {
   "cell_type": "raw",
   "metadata": {
    "raw_mimetype": "text/markdown",
    "slideshow": {
     "slide_type": "skip"
    }
   },
   "source": [
    "### $M^{-1}K$ symmetric\n",
    "\n",
    "This is the only case you need to know how to do. "
   ]
  },
  {
   "cell_type": "markdown",
   "metadata": {
    "slideshow": {
     "slide_type": "skip"
    }
   },
   "source": [
    "Finding the initial conditions for the modes is merely about projecting onto $\\vec Y_1$ and $\\vec Y_2$:\n",
    "$$ \\vec X_0\\cdot \\vec Y_1 = C_1 \\cos\\phi_1, $$\n",
    "$$ \\vec X_0\\cdot \\vec Y_2 = C_2 \\cos\\phi_2, $$\n",
    "$$ \\vec V_0\\cdot \\vec Y_1 = -\\omega_1 C_1 \\sin\\phi_1, $$\n",
    "$$ \\vec V_0\\cdot \\vec Y_2 = -\\omega_2 C_2 \\sin\\phi_2, $$\n",
    "because $\\vec Y_1 \\cdot \\vec Y_2 = 0$."
   ]
  },
  {
   "cell_type": "markdown",
   "metadata": {
    "slideshow": {
     "slide_type": "skip"
    }
   },
   "source": [
    "*Note: if $\\vec Y_1$ and $\\vec Y_2$ are not normalized, you need to multiply these right-hand-sides by* $\\|\\vec Y_1\\|^2$ *and* $\\|\\vec Y_2\\|^2$!!!"
   ]
  },
  {
   "cell_type": "markdown",
   "metadata": {
    "slideshow": {
     "slide_type": "skip"
    }
   },
   "source": [
    "Take the example of the identical coupled pendulums, with $x_{A0} = A > 0$, $x_{B0} = 0$, $v_{A0} = v_{B0} = 0.$\n",
    "We had $\\vec Y_1 = [1, 1]/\\sqrt{2}$ and $\\vec Y_2 = [1, -1]/\\sqrt{2}$.\n",
    "$$ \\vec X_0\\cdot \\vec Y_1 = A/\\sqrt{2} + 0/\\sqrt{2} = A/\\sqrt{2} = C_1 \\cos\\phi_1, $$\n",
    "$$ \\vec X_0\\cdot \\vec Y_2 = A/\\sqrt{2} - 0/\\sqrt{2} = A/\\sqrt{2} = C_2 \\cos\\phi_2, $$\n",
    "$$ \\vec V_0\\cdot \\vec Y_1 = 0/\\sqrt{2} + 0/\\sqrt{2} = 0 = -\\omega_1 C_1 \\sin\\phi_1, $$\n",
    "$$ \\vec V_0\\cdot \\vec Y_2 = 0/\\sqrt{2} - 0/\\sqrt{2} = 0 = -\\omega_2 C_2 \\sin\\phi_2. $$"
   ]
  },
  {
   "cell_type": "markdown",
   "metadata": {
    "slideshow": {
     "slide_type": "skip"
    }
   },
   "source": [
    "The only way for the last two equations to be satisfied with $C_1 > 0$ and $C_2 > 0$ is $\\phi_1 = \\phi_2 = 0$, in which case $C_1 = C_2 = A/\\sqrt{2}$, and the solution is\n",
    "$$ \\vec X = \\frac{A}{\\sqrt2} \\vec Y_1 \\cos(\\omega_1 t) + \\frac{A}{\\sqrt2} \\vec Y_2 \\cos(\\omega_2 t) = \\frac{A}{2} \\stirling11 \\cos(\\omega_1 t) + \\frac{A}2 \\stirling{1}{-1} \\cos(\\omega_2 t), $$"
   ]
  },
  {
   "cell_type": "raw",
   "metadata": {
    "raw_mimetype": "text/markdown",
    "slideshow": {
     "slide_type": "skip"
    }
   },
   "source": [
    "### $M^{-1}K$ non-symmetric\n",
    "\n",
    "It is actually fairly simple to generalize the results above for a non-symmetric $M^{-1}K$ matrix, but you are not required to remember it.\n",
    "*So much so that I will skip it in class!*"
   ]
  },
  {
   "cell_type": "raw",
   "metadata": {
    "raw_mimetype": "text/markdown",
    "slideshow": {
     "slide_type": "skip"
    }
   },
   "source": [
    "In this case, $\\vec Y_1 \\cdot \\vec Y_2 \\neq 0$, but $\\vec Y_1 M \\vec Y_2 = 0$. Therefore, instead of computing $\\vec X_0 \\cdot \\vec Y_1$, etc, finding the coefficients entails computing $\\vec X_0 M \\vec Y_1$, etc."
   ]
  },
  {
   "cell_type": "raw",
   "metadata": {
    "raw_mimetype": "text/markdown",
    "slideshow": {
     "slide_type": "skip"
    }
   },
   "source": [
    "Take the example of the coupled pendulums, with $x_{A0} = A > 0$, $x_{B0} = 0$, $v_{A0} = v_{B0} = 0.$\n",
    "We now choose $m_A = m$, and $m_B = 2m$.\n",
    "Therefore, $\\vec Y_1 = [1, 1]/\\sqrt{2}$ and $\\vec Y_2 = [2, -1]/\\sqrt{5}$."
   ]
  },
  {
   "cell_type": "raw",
   "metadata": {
    "raw_mimetype": "text/markdown",
    "slideshow": {
     "slide_type": "skip"
    }
   },
   "source": [
    "Then, \n",
    "$$ M \\vec Y_1 = \\frac1{\\sqrt2}\\begin{bmatrix}m & 0 \\\\ 0 & 2 m\\end{bmatrix}\\stirling{1}{1} = \\frac{m}{\\sqrt{2}}\\stirling{1}{2} \\and M \\vec Y_1 = \\frac1{\\sqrt5}\\begin{bmatrix}m & 0 \\\\ 0 & 2 m\\end{bmatrix}\\stirling{2}{-1} = \\frac{2m}{\\sqrt{5}}\\stirling{1}{-1}.$$"
   ]
  },
  {
   "cell_type": "raw",
   "metadata": {
    "raw_mimetype": "text/markdown",
    "slideshow": {
     "slide_type": "skip"
    }
   },
   "source": [
    "You can check that \n",
    "$$ \\vec Y_1 M \\vec Y_2 = \\frac{1}{\\sqrt{10}} [1, 1]\\begin{bmatrix}m & 0 \\\\ 0 & 2 m\\end{bmatrix}\\stirling{2}{-1} = \\frac{2m}{\\sqrt{10}}[1, 1] \\stirling{1}{-1} = 0,$$\n",
    "and same for $\\vec Y_2 M \\vec Y_1.$"
   ]
  },
  {
   "cell_type": "raw",
   "metadata": {
    "raw_mimetype": "text/markdown",
    "slideshow": {
     "slide_type": "skip"
    }
   },
   "source": [
    "For the coefficients, the procedure becomes\n",
    "$$ \\vec X_0 M \\vec Y_1 = mA/\\sqrt{2} + 0\\times 2m/\\sqrt{2} = A/\\sqrt{2} = C_1 \\cos\\phi_1, $$\n",
    "$$ \\vec X_0 M \\vec Y_2 = A/\\sqrt{2} - 0/\\sqrt{2} = A/\\sqrt{2} = C_2 \\cos\\phi_2, $$\n",
    "$$ \\vec V_0 M \\vec Y_1 = 0/\\sqrt{2} + 0/\\sqrt{2} = 0 = -\\omega_1 C_1 \\sin\\phi_1, $$\n",
    "$$ \\vec V_0 M \\vec Y_2 = 0/\\sqrt{2} - 0/\\sqrt{2} = 0 = -\\omega_2 C_2 \\sin\\phi_2. $$"
   ]
  },
  {
   "cell_type": "markdown",
   "metadata": {
    "slideshow": {
     "slide_type": "slide"
    }
   },
   "source": [
    "## Forced Problems"
   ]
  },
  {
   "cell_type": "markdown",
   "metadata": {
    "slideshow": {
     "slide_type": "skip"
    }
   },
   "source": [
    "*I hope to have time to cover this sub-section, but I am not sure I will be able to because I have one less lecture than in previous years. In any case, I would find it heartbreaking to delete all of this, and it may do a good job at consolidating what you learned in Chapter 3.*\n",
    "\n",
    "Let us assume that there is some periodic force applied to the masses, and recall that $m_A = m_B = m$:\n",
    "$$ m\\ddot x_A + \\frac{mg}{l}x_A + k(x_A - x_B) = F_A\\cos(\\omega t),$$\n",
    "$$ m\\ddot x_B + \\frac{mg}{l}x_B -k(x_A - x_B) = F_B\\cos(\\omega t),$$\n",
    "which in matrix form can be written\n",
    "$$ \\ddot{\\vec X} + M^{-1}K \\vec X = \\vec \\Psi\\cos(\\omega t),\\hspace{5cm}(10) $$\n",
    "with $\\vec \\Psi = [F_A/m, F_B/m]$.\n",
    "Note that the problem is not an eigenvalue problem anymore."
   ]
  },
  {
   "cell_type": "markdown",
   "metadata": {
    "slideshow": {
     "slide_type": "skip"
    }
   },
   "source": [
    "The vectors $\\vec Y_1$ and $\\vec Y_2$, which were eigenvectors of the free problem, form an orthogonal basis for any 2D vector.\n",
    "Let me repeat this: $\\vec Y_1$ and $\\vec Y_2$ lose their special status as eigenvectors, but they still form an orthogonal basis on which any vector can be decomposed.\n",
    "Meaning that we can write\n",
    "$$\\vec X = h_1\\vec Y_1 + h_2 \\vec Y_2.$$"
   ]
  },
  {
   "cell_type": "markdown",
   "metadata": {
    "slideshow": {
     "slide_type": "skip"
    }
   },
   "source": [
    "Let me reiterate that the projections of $\\vec X$ on $\\vec Y_1$ and $\\vec Y_2$, i.e., $h_1$  and $h_2$, are not eigenmodes of the forced problem. \"Eigenmodes of the forced problem\" makes as much sense as \"free oscillations of the forced oscillator\" in the case of just one oscillator, i.e., no sense at all. Note however that in this particular case, $h_1 = q_1/\\sqrt2$ and $h_2 = q_2/\\sqrt2$ if $q_1 = x_A + x_B$ and $q_2 = x_A - x_B$."
   ]
  },
  {
   "cell_type": "markdown",
   "metadata": {
    "slideshow": {
     "slide_type": "skip"
    }
   },
   "source": [
    "The forcing can also the projected onto $\\vec Y_1$ and $\\vec Y_2$:\n",
    "$$\\vec\\Psi = \\Psi_1 \\vec Y_1 + \\Psi_2 \\vec Y_2,$$\n",
    "with $\\Psi_1 = (F_A + F_B)/(\\sqrt{2}m)$ and $\\Psi_2 = (F_A - F_B)/(\\sqrt{2}m)$."
   ]
  },
  {
   "cell_type": "markdown",
   "metadata": {
    "slideshow": {
     "slide_type": "skip"
    }
   },
   "source": [
    "However, the crucial point here is that $M^{-1}K \\vec Y_{1, 2} = \\omega^2_{1,2}\\vec Y_{1, 2}$ is still true, by construction of $\\vec Y_{1,2}$.\n",
    "Collecting all of these comments, equation $(10)$ can therefore be re-written\n",
    "$$ \\ddot h_1{\\vec Y}_1 + \\ddot h_2 {\\vec Y}_2  + \\omega_1^2 h_1 \\vec Y_1 + \\omega_2^2 h_2 \\vec Y_2 = (\\Psi_1 \\vec Y_1 + \\Psi_2 \\vec Y_2)\\cos(\\omega t).$$"
   ]
  },
  {
   "cell_type": "markdown",
   "metadata": {
    "slideshow": {
     "slide_type": "skip"
    }
   },
   "source": [
    "Projecting the equation above on $\\vec Y_1$ and $\\vec Y_2$ yields, respectively,\n",
    "$$\\ddot h_1 + \\omega_1^2 h_1 = \\Psi_1\\cos(\\omega t).$$\n",
    "$$\\ddot h_2 + \\omega_2^2 h_2 = \\Psi_2\\cos(\\omega t).$$"
   ]
  },
  {
   "cell_type": "markdown",
   "metadata": {
    "slideshow": {
     "slide_type": "skip"
    }
   },
   "source": [
    "Therefore, individual modes can resonate, just like a simple oscillator can resonate.\n",
    "This time however, the complexity of the possible cases increases.\n",
    "For one mode to resonate, two conditions need to be satisfied.\n",
    "For example, for the first mode to resonate, we need $\\omega = \\omega_1$, just like in the simple oscillator case, but we also need $\\Psi_1 \\neq 0$."
   ]
  },
  {
   "cell_type": "markdown",
   "metadata": {
    "slideshow": {
     "slide_type": "skip"
    }
   },
   "source": [
    "In our coupled pendulums, the first mode (the antisymmetric one) does not grow if the forcing is symmetric, i.e., if $F_A = -F_B$, in which case $\\Psi_1 = 0$.\n",
    "In order to induce a resonance phenomenon, the frequency of the forcing has to match the corresponding frequency, and the forcing pattern needs to match the polarization of the mode, i.e., the \"shape of the mode\" (i.e. whether it is symmetric or antisymmetric, or whatever the pattern actually looks like), somewhat.\n",
    "\"Somewhat\" means that the projection of the force on the eigenvector has to be non-zero.\n",
    "For example, if only one mass feels a force, say, $F_A \\neq 0$ and $F_B = 0$, the pattern is not exactly matched, but $\\Psi_1 = F_A/\\sqrt{2}m + 0/\\sqrt{2} = F_A/\\sqrt2m \\neq 0$, which is enough to trigger a resonance."
   ]
  },
  {
   "cell_type": "markdown",
   "metadata": {
    "slideshow": {
     "slide_type": "skip"
    }
   },
   "source": [
    "All of this is true for any coupled system of oscillators, and for however many degrees of freedom there are. It is also true for non-symmetric matrices, but the mathematics are more complicated to describe in the short amount of time I have."
   ]
  },
  {
   "cell_type": "markdown",
   "metadata": {
    "slideshow": {
     "slide_type": "skip"
    }
   },
   "source": [
    "Of course, everything you have learned about damped harmonic oscillator resonance also applies to the modes.\n",
    "For example, if there is damping, the resonance curve will have a certain width:\n",
    "there can be amplification for frequencies that do not exactly match the eigenfrequencies of the free system.\n",
    "Each mode will have its own damping rate, and its own quality factor."
   ]
  },
  {
   "cell_type": "markdown",
   "metadata": {
    "slideshow": {
     "slide_type": "skip"
    }
   },
   "source": [
    "For example, an atom in elemental form or a molecule can be thought of as a coupled system of oscillators.\n",
    "Atoms can move around, and energy levels of electrons can change, adding all sorts of degrees of freedom.\n",
    "This is how the atmospheric composition of the Sun can be determined from an absorption spectrum (cf. chapter 3)."
   ]
  },
  {
   "cell_type": "markdown",
   "metadata": {
    "slideshow": {
     "slide_type": "skip"
    }
   },
   "source": [
    "The reverse is true: every molecule has a specific emission spectrum, consisting of the emission of light at the resonance frequencies of the molecules.\n",
    "One just needs to excite the atom or molecule broadly, for example by heating it, and measure which frequencies are emitted by the atom or molecule.\n",
    "The more degrees of freedom there are, the more frequencies are emitted (cf. emission spectra of hydrogen vs. iron from Wikipedia, reproduced here)."
   ]
  },
  {
   "cell_type": "markdown",
   "metadata": {
    "slideshow": {
     "slide_type": "slide"
    }
   },
   "source": [
    "![Fig. 14: Visible lines of the emission spectrumm of hydrogen, by Merikanto, Adrignola [CC0], via Wikimedia Commons](800px-Emission_spectrum-H.png)"
   ]
  },
  {
   "cell_type": "markdown",
   "metadata": {},
   "source": [
    "![Fig. 15: Visible lines of the emission spectrumm of iron, by User:nilda (Own work) [Public domain], via Wikimedia Commons](Emission_spectrum-Fe.png)"
   ]
  },
  {
   "cell_type": "markdown",
   "metadata": {
    "slideshow": {
     "slide_type": "slide"
    }
   },
   "source": [
    "# $n$ Coupled Oscillators"
   ]
  },
  {
   "cell_type": "markdown",
   "metadata": {
    "slideshow": {
     "slide_type": "skip"
    }
   },
   "source": [
    "While I have illustrated this entire chapter with two oscillators, all the qualitative results apply to any number of oscillators.\n",
    "Right after this chapter, we will study waves, which can be thought of as a superposition of a finite or infinite number of modes, which arise from the fact that waves propagate on a continuous medium made of an infinite number of coupled oscillators."
   ]
  },
  {
   "cell_type": "markdown",
   "metadata": {
    "slideshow": {
     "slide_type": "skip"
    }
   },
   "source": [
    "I actually hesitated between making this section the last section on coupled oscillators, or the first section on waves. \n",
    "Ultimately, it does not matter, as long as the transition is clearly understood."
   ]
  },
  {
   "cell_type": "markdown",
   "metadata": {
    "slideshow": {
     "slide_type": "skip"
    }
   },
   "source": [
    "I will illustrate this point with identical masses, coupled by identical springs (cf. King fig. 4.11, reproduced earlier), because it is simpler than the coupled pendula, but complex enough to illustrate the principle.\n",
    "With two masses, we had\n",
    "$$ m \\ddot x_A = -k x_A + k(x_B - x_A), $$\n",
    "$$ m \\ddot x_B = -k (x_B - x_A) - kx_B. $$"
   ]
  },
  {
   "cell_type": "markdown",
   "metadata": {
    "slideshow": {
     "slide_type": "skip"
    }
   },
   "source": [
    "With three masses $A$, $B$ and $C$, we would have\n",
    "$$ m \\ddot x_A = -k x_A + k(x_B - x_A), $$\n",
    "$$ m \\ddot x_B = -k (x_B - x_A) + k(x_C-x_B), $$\n",
    "$$ m \\ddot x_C = -k (x_C - x_B) - kx_C. $$"
   ]
  },
  {
   "cell_type": "markdown",
   "metadata": {
    "slideshow": {
     "slide_type": "skip"
    }
   },
   "source": [
    "And with $N$ masses, we would have (I now index the masses with numbers instead of letters)\n",
    "$$ m \\ddot x_1 = -k x_1 + k(x_2 - x_1) = - 2 k x_1 + k x_2, $$\n",
    "$$ m \\ddot x_n = -k (x_{n} - x_{n-1}) + k(x_{n+1} - x_{n}) = k(x_{n+1} -2x_n + x_{n-1})\\quad\\forall n\\neq 1, N, $$\n",
    "$$ m \\ddot x_N = -k (x_N - x_{N-1}) - kx_N = -2k x_N + k x_{N-1}. $$"
   ]
  },
  {
   "cell_type": "markdown",
   "metadata": {
    "slideshow": {
     "slide_type": "slide"
    }
   },
   "source": [
    "After division by $m$, we can turn this system into an $N \\times N$ eigenvalue problem\n",
    "$$ (M^{-1}K - \\omega^2 \\textsf I_N) \\vec X = 0, $$\n",
    "with\n",
    "$$ M^{-1}K = \\omega_s^2\\begin{bmatrix}\n",
    "                 2      & -1     & 0      & \\dots  &        &        & 0 \\\\\n",
    "                 -1     & 2      & -1     & 0      & \\dots  &        & 0 \\\\\n",
    "                 0      & \\ddots & \\ddots & \\ddots &        &        & \\\\\n",
    "                 \\vdots & 0      & -1     & 2      & -1     & 0      & \\\\\n",
    "                        &        &        & \\ddots & \\ddots & \\ddots & \\\\\n",
    "                 \\\\\n",
    "                 0      & \\dots  &        &        & 0      & -1     & 2\n",
    "             \\end{bmatrix}.\n",
    "$$"
   ]
  },
  {
   "cell_type": "markdown",
   "metadata": {
    "slideshow": {
     "slide_type": "skip"
    }
   },
   "source": [
    "This matrix is actually simple enough that we could find the eigenvalues analytically.\n",
    "My intention, however, is to show you that from a numerical point of view, a $3\\times 3$ matrix and a $N\\times N$ matrix are as hard to solve as each other as long as one understands how to use the methods of linear algebra.\n",
    "Instead of `SymPy`, Python's main symbolic math package, I will use `NumPy`, Python's main scientific computing package.\n",
    "Unlike `SymPy`, `NumPy` only understands numbers, not symbols."
   ]
  },
  {
   "cell_type": "code",
   "execution_count": 32,
   "metadata": {
    "slideshow": {
     "slide_type": "subslide"
    }
   },
   "outputs": [],
   "source": [
    "# We already imported NumPy, but it is useful to import\n",
    "# NumPy's linear algebra functions separately.\n",
    "import numpy.linalg as LA\n",
    "# the following two packages allow me to display the animation\n",
    "from matplotlib import animation\n",
    "from IPython.display import HTML\n",
    "# More about animations: \n",
    "# https://stackoverflow.com/questions/43445103/inline-animations-in-jupyter"
   ]
  },
  {
   "cell_type": "code",
   "execution_count": 33,
   "metadata": {
    "slideshow": {
     "slide_type": "subslide"
    }
   },
   "outputs": [],
   "source": [
    "N = 4  # number of oscillators"
   ]
  },
  {
   "cell_type": "code",
   "execution_count": 34,
   "metadata": {
    "slideshow": {
     "slide_type": "fragment"
    }
   },
   "outputs": [
    {
     "name": "stdout",
     "output_type": "stream",
     "text": [
      "[[ 2. -1.  0.  0.]\n",
      " [-1.  2. -1.  0.]\n",
      " [ 0. -1.  2. -1.]\n",
      " [ 0.  0. -1.  2.]]\n"
     ]
    }
   ],
   "source": [
    "iMK = np.zeros((N, N))  # creates a NxN square matrix filled with zeros\n",
    "# for simplicity, we set omega_s = 1 rad/s\n",
    "# I will fill the matrix in a somewhat clumsy way, for pedagogical reasons\n",
    "# However, there are functions to create tridiagonal matrices automatically\n",
    "iMK[0, 0] = 2.  # top left-hand corner\n",
    "iMK[0 , 1] = -1  # top line, one to the right\n",
    "iMK[-1, -1] = 2  # bottom right-hand corner\n",
    "iMK[-1, -2] = -1  # bottom line, one to the left\n",
    "if N > 2:\n",
    "    for n in range(1, N-1):  # this loop makes filling the matrix automatic\n",
    "        # we loop from the second to the penultimate line, which are all the same\n",
    "        iMK[n, n] = 2  # diagonal terms\n",
    "        iMK[n, n-1] = -1  # lower diagonal\n",
    "        iMK[n, n+1] = -1  # upper diagonal\n",
    "\n",
    "print(iMK)  "
   ]
  },
  {
   "cell_type": "code",
   "execution_count": 35,
   "metadata": {
    "slideshow": {
     "slide_type": "subslide"
    }
   },
   "outputs": [],
   "source": [
    "eigvals, eigvecs = LA.eig(iMK)   "
   ]
  },
  {
   "cell_type": "code",
   "execution_count": 36,
   "metadata": {},
   "outputs": [
    {
     "name": "stdout",
     "output_type": "stream",
     "text": [
      "[3.61803399 2.61803399 0.38196601 1.38196601]\n"
     ]
    }
   ],
   "source": [
    "print(eigvals)"
   ]
  },
  {
   "cell_type": "code",
   "execution_count": 37,
   "metadata": {},
   "outputs": [
    {
     "name": "stdout",
     "output_type": "stream",
     "text": [
      "[1.90211303 1.61803399 0.61803399 1.1755705 ]\n"
     ]
    }
   ],
   "source": [
    "eigfreqs = np.sqrt(eigvals)\n",
    "print(eigfreqs)"
   ]
  },
  {
   "cell_type": "code",
   "execution_count": 38,
   "metadata": {},
   "outputs": [
    {
     "name": "stdout",
     "output_type": "stream",
     "text": [
      "[[-0.37174803 -0.60150096 -0.37174803 -0.60150096]\n",
      " [ 0.60150096  0.37174803 -0.60150096 -0.37174803]\n",
      " [-0.60150096  0.37174803 -0.60150096  0.37174803]\n",
      " [ 0.37174803 -0.60150096 -0.37174803  0.60150096]]\n"
     ]
    }
   ],
   "source": [
    "print(eigvecs)"
   ]
  },
  {
   "cell_type": "markdown",
   "metadata": {
    "slideshow": {
     "slide_type": "notes"
    }
   },
   "source": [
    "The `numpy.linalg.eig` function returns an output, that is different from the output of the SymPy `eigenvects` method we used earlier:\n",
    "\n",
    "1. the first array lists all eigenvalues (repeated eigenvalues are simply written multiple times).\n",
    "2. the second array provides the corresponding displacement amplitudes of each mass (the so-called polarization relations of each mode). The way it is displayed above, each column (`eigvecs[:, i]`) corresponds to the coefficients of the series of masses for one mode (e.g., all $a_n$ or $b_n$ for mode $n$), while each line (`eigvecs[i, :]`) corresponds to the coefficients of the series of modes for one mass (e.g., all $a_n$, $1 \\leq n \\leq N$, when there are $N$ modes)."
   ]
  },
  {
   "cell_type": "markdown",
   "metadata": {
    "slideshow": {
     "slide_type": "skip"
    }
   },
   "source": [
    "It is still a bit obscure at this point, and plotting the results will help.\n",
    "But before that, I want to sort the eigenfrequencies from lowest to highest, because ```numpy.linalg.eig``` does not necessarily do it."
   ]
  },
  {
   "cell_type": "code",
   "execution_count": 39,
   "metadata": {
    "slideshow": {
     "slide_type": "subslide"
    }
   },
   "outputs": [
    {
     "name": "stdout",
     "output_type": "stream",
     "text": [
      "Sequence that would sort the eigenfrequencies:\n",
      "[2 3 1 0]\n",
      "\n",
      "Sorted eigenfrequencies:\n",
      "[0.61803399 1.1755705  1.61803399 1.90211303]\n",
      "\n",
      "and the corresponding mass position amplitudes are\n",
      "[-0.37174803 -0.60150096 -0.60150096 -0.37174803]\n",
      "[-0.60150096 -0.37174803  0.37174803  0.60150096]\n",
      "[-0.60150096  0.37174803  0.37174803 -0.60150096]\n",
      "[-0.37174803  0.60150096 -0.60150096  0.37174803]\n"
     ]
    }
   ],
   "source": [
    "print(\"Sequence that would sort the eigenfrequencies:\")\n",
    "seq = np.argsort(eigfreqs)\n",
    "print(seq)\n",
    "\n",
    "print()\n",
    "print(\"Sorted eigenfrequencies:\")\n",
    "print(eigfreqs[seq])\n",
    "\n",
    "print()\n",
    "print(\"and the corresponding mass position amplitudes are\")\n",
    "for ii in range(N):\n",
    "    print(eigvecs[:, seq[ii]])"
   ]
  },
  {
   "cell_type": "code",
   "execution_count": 40,
   "metadata": {
    "slideshow": {
     "slide_type": "subslide"
    }
   },
   "outputs": [],
   "source": [
    "# Various quantities\n",
    "t_end = 2.*np.pi/eigfreqs.min() # time array spans one longest eigenperiod\n",
    "n_frames = 100  # number of frames for animation\n",
    "time = np.linspace(0., t_end, n_frames)  # time array\n",
    "max_amp = abs(eigvecs.max())  # maximum displacement of any mass in any eigenmode\n",
    "L_inter = 3*max_amp  # distance between the masses; this makes sure that it is enough\n",
    "L_tot = L_inter*float(N+1)  # total length between the two walls;\n",
    "rest_positions = np.arange(L_inter, (N+0.5)*L_inter, L_inter)  # positions at rest\n",
    "\n",
    "# prepping the coordinates on the plot: for each time step, we will plot the positions\n",
    "# on the x axis and the mode number on the y axis\n",
    "x_positions = np.zeros((N, N))  # N positions for N modes\n",
    "y_modes = np.zeros((N, N))  # N positions for N modes\n",
    "for mode_number in range(1, N+1):\n",
    "    y_modes[mode_number-1, :] = mode_number\n",
    "\n",
    "imagelist = []  # list of frames to eventually animate\n",
    "\n",
    "fig = plt.figure()\n",
    "ax = plt.gca()\n",
    "ax.set_xlim([0., L_tot])\n",
    "ax.set_ylim([0., N+1])\n",
    "ax.set_xticks(rest_positions)\n",
    "ax.set_xlabel('positions')\n",
    "ax.set_yticks(range(1, N+1))\n",
    "ax.set_ylabel('mode number')\n",
    "ax.grid()\n",
    "for t in time:\n",
    "    # We loop over time to animate the masses\n",
    "    for mode_number in range(1, N+1):\n",
    "        ii = seq[mode_number-1]  # this will select the correct mode in the list\n",
    "        x_positions[mode_number-1, :] = (rest_positions\n",
    "                                         + eigvecs[:, ii]*np.cos(eigfreqs[ii]*t))\n",
    "    im = plt.scatter(x_positions, y_modes, c=y_modes, cmap='copper')\n",
    "    imagelist.append([im])\n",
    "    \n",
    "ani = animation.ArtistAnimation(fig, imagelist, interval=50, blit=True, repeat_delay=1000)\n",
    "plt.close()"
   ]
  },
  {
   "cell_type": "code",
   "execution_count": 41,
   "metadata": {
    "scrolled": true,
    "slideshow": {
     "slide_type": "subslide"
    }
   },
   "outputs": [
    {
     "data": {
      "text/html": [
       "<video width=\"432\" height=\"288\" controls autoplay loop>\n",
       "  <source type=\"video/mp4\" src=\"data:video/mp4;base64,AAAAHGZ0eXBNNFYgAAACAGlzb21pc28yYXZjMQAAAAhmcmVlAAB3/m1kYXQAAAKuBgX//6rcRem9\n",
       "5tlIt5Ys2CDZI+7veDI2NCAtIGNvcmUgMTUyIHIyODU0IGU5YTU5MDMgLSBILjI2NC9NUEVHLTQg\n",
       "QVZDIGNvZGVjIC0gQ29weWxlZnQgMjAwMy0yMDE3IC0gaHR0cDovL3d3dy52aWRlb2xhbi5vcmcv\n",
       "eDI2NC5odG1sIC0gb3B0aW9uczogY2FiYWM9MSByZWY9MyBkZWJsb2NrPTE6MDowIGFuYWx5c2U9\n",
       "MHgzOjB4MTEzIG1lPWhleCBzdWJtZT03IHBzeT0xIHBzeV9yZD0xLjAwOjAuMDAgbWl4ZWRfcmVm\n",
       "PTEgbWVfcmFuZ2U9MTYgY2hyb21hX21lPTEgdHJlbGxpcz0xIDh4OGRjdD0xIGNxbT0wIGRlYWR6\n",
       "b25lPTIxLDExIGZhc3RfcHNraXA9MSBjaHJvbWFfcXBfb2Zmc2V0PS0yIHRocmVhZHM9OSBsb29r\n",
       "YWhlYWRfdGhyZWFkcz0xIHNsaWNlZF90aHJlYWRzPTAgbnI9MCBkZWNpbWF0ZT0xIGludGVybGFj\n",
       "ZWQ9MCBibHVyYXlfY29tcGF0PTAgY29uc3RyYWluZWRfaW50cmE9MCBiZnJhbWVzPTMgYl9weXJh\n",
       "bWlkPTIgYl9hZGFwdD0xIGJfYmlhcz0wIGRpcmVjdD0xIHdlaWdodGI9MSBvcGVuX2dvcD0wIHdl\n",
       "aWdodHA9MiBrZXlpbnQ9MjUwIGtleWludF9taW49MjAgc2NlbmVjdXQ9NDAgaW50cmFfcmVmcmVz\n",
       "aD0wIHJjX2xvb2thaGVhZD00MCByYz1jcmYgbWJ0cmVlPTEgY3JmPTIzLjAgcWNvbXA9MC42MCBx\n",
       "cG1pbj0wIHFwbWF4PTY5IHFwc3RlcD00IGlwX3JhdGlvPTEuNDAgYXE9MToxLjAwAIAAAA74ZYiE\n",
       "ADv//vdOvwKbRZdqA5JXCvbKpCZZuVJrAfKmAAADAAARsG58lw15q9IkAACvW99I/TP+YBnVCoMl\n",
       "ztxOUV186mCaw0RH5TG+Fs3gGU9vxDhr1mt81BnqH+GOtxu84WsI3/F5Wz00/5IZG6q16qQSgGMi\n",
       "mGxk0zgv29TeI8vO1dvBZP0cVyS7TkMDiSvsJTEBFQj/sWvpMn0bUcsl1DMtnPjL/Inss2Ueh7H+\n",
       "rX0DntMd26CMPq+/Vb5zOFl03rT0/77lgsqVuNkqKaWVZUF9Y+j+8U6KZ5lkWKJBKxQsOiWM8hdT\n",
       "bkEGEaAWtXuNYTWFZTxk2KEt668GumpBqSUxYJ1xIVN6RXUL/SaroUpL732foZjXczBtLYO3A7fO\n",
       "leQDB+/OvAeSwVPoyEc30Crh4K///icmU4tK3k9PPM/fYN6cjO6vR/HvLxTQ74Of78pWfekY50Wu\n",
       "uoHn529dulm3L1P1m8hlI15qb8poEaeNyTeIpBS+p3sHhwOqdt4o8crIROmZj4xPY312wn8ej4Gr\n",
       "ufn/SO1lyLqDlQcKi+L7BVXa2xGfDi7oJBjmJmH7OLqmdExQ10ybul+0yPx6SLXZeX1U6mrWIcEn\n",
       "eCVs4q+ZNSzvo9lYLfMZ7LjqM8VtWTI3uuuheb8rqQH6EfQoDrMZn0IOtJraX9/lTyE4JGh60Zzc\n",
       "y5Xq22OieM0KfxW8hmJ8Cz4Dn9CkJw3MV1ZOPgNOfA2KYBHtgmRFIdF0Xu7yQ+z4/Bkw88WeOJDS\n",
       "/G9jhucpES6i3krHfY5E+DSpNxBqx/fD0aeiz8Nc+hR6fuyNHE0r3TUrhDPOHwrJJ3aH6yc2pk2B\n",
       "riDB+tv+2pX2UKVnPIs45zOEgQNRzeYtPjEKj04uO63sQ3a2oVV+hdDCjUfhgNjtYT2px/j52RvK\n",
       "PnI+PevElpO4hmCYdRrOabDxH/TfYPdiQSSVBsHSemU+wgKk9Nc29HL2FJWkV8+5CxjjBnhJ6Ek4\n",
       "UQiEqXakc7z378eg7ehiiQqqlW9+C3AQIp0xY0ofEvdEIj7k+FInkn0VZsacpTOlnfS2XQNzCfM+\n",
       "ha9oEO76LsV6ZxqS13RAAQF+erac6UXbXbNmK/VVl/avYuQyVGtrWUJxqGg5JRxXmFqAzshqs+0H\n",
       "FFNAClb0r7Hr2ss1jCq/CKify5wefRUcE81HHX+5NC0W8YNRHGTgEdESP8b28vDtd0Aol5z/He/d\n",
       "xnaVFp+UX4NTFLsfkzl9OLQClPPE+TFbICet66PhT2Vm4MEMUImf5vJaEP1DZ8XJwwLwRxiX3DQO\n",
       "IzBD/im5v6z/vSJq6GzWQaijvwdiv858OcDFAEoPTWVxgD8ruByMdBZ6CBT7v7OHOGdn9bbTJhMA\n",
       "t0k/lrnexEsZJMxMqEQFRCKGM7Mz+iaxdybxS6CbKeLiXt+DrTI8W8I0LhY8+VrSfN98iObgoMh9\n",
       "NuWJjWm7p6fL6rbI9x04W1TwbGpsf0/SFIwuusY7Qzsc9ShaD06jTZ9rrTB3fnWmdbuMQcWGfTtw\n",
       "S2PU5zJe5bQRpwUokFHSx/1/rtECxZXf8Lp49J+AqonlR2EGLovG4NOGCONmbn7tBT3dbfeWlhaC\n",
       "Jk5aABUCb00HWi2GpSqivHvr6iBv/7MW2TATddQQ3Y6OylxeQHDigsnkmhyMf7mV6xkwyQOcc5Xt\n",
       "JdlnPtq6BBQ73nWrbrALk3P5J+/oVqEW57NiPj5eBHmLMuxQ+iSVR1EnDRdLp9zvftClseyIt9JT\n",
       "Xs+1NiyBPwYAS0RSxZY70uZHSBCOv4vGNRv61skzKt+JbwfaNFA3XcS4NYOd1WaEEPVYQutq5ejo\n",
       "BG3areUMpLUqmZ6phM8OXwajqR/V/jzMzsXByAMqHYmXbKrLBHnOz8jUe/96CJzsJbpxLh/54frX\n",
       "NVsi33EU9snBFDx3SvlvT5N7YodudeKNtQg3VaAUSzT58igthBDJ8FLojokiWFCODRg2TM21oWCS\n",
       "vRbdppUvvBJyHsnTAO7LX1oYpHbnILEohp0c98JH+4FFyxckJsV/ZTCKXzcN4ROvUBU96vRlR/ZN\n",
       "5zIaUn/rMYJyKMPlS75gZtKuPYH/yvAeKJdpvhXBwzkKu1grlnH9HjT+pXaZNzjz9IoJbgOJuesC\n",
       "ZNEFQ2oFJ2GkMx5XyeAmlK7fSjv60Hwiu/ng2f0qoPEaj+506qrqLJ3ZfkFFscMn5KrA+3GHP9dn\n",
       "HNO+EyFImVDEE2xlmAv+634fw7YzONltWK//sP6xRMM9zeI0QwGDtcKXqaTnBTFfO/5f6E0y9Hm8\n",
       "BcBiX94MK8+TSBx01MEKkxTqTaFLFkO66zNwYPxOyRDRZi2FyOVaEkX5SELDDlizOhKFIg61yapo\n",
       "Hosqh+dopT886fo7u+HgEy/6R7xq5WAuQMp3s1S2zQi/ulaiUCzQAbjXxZ2dY0BmFmHIMxlaTQVw\n",
       "bsneC+gl3b0/3KT+oQDEZn7wVFxeUXgaCF2kg51TrMzL0Ph4iv+pORpdeR7lMH9irEunrAcnGkUD\n",
       "t4qW2ESWlRx735qgMvT2jbEbmipwq6f6OKaGSZY7s4hP6J1qkz//sG727PDNTyQeksg8M+of95XW\n",
       "Tc3DRxsr2FSF1Zj3SJ50IJm7OayijU4zuUeCSIexaTBOsJrly6NrKZ+7a+ZfWs4khUfNl+qN34vq\n",
       "ZbjO1Bdn+onHUy1G6h7I65CuCtlQEwYRaFTXKjjWLE+YtG5sxMMFi16HvYAAj3HKroWHsjKRdcxT\n",
       "DY/TdImWtwWHbqgjWLcgjDW5S6dh1M/VdnUmU4yPf+S570yQf4gImuLuB45f7ytN554mnO1Vn6JH\n",
       "bsaYhMDmyewkBnl+rJV27/QNxdeUCfpZyqnfbqh0jvWQPm9yofeT7UsY/U7XofvzYoXZ4qYNxdKG\n",
       "wlFchUc76Mz2sK3ho5kqsEncJJk7h80NYWyBbQaC7ioZUUNezaOr5Hp+3wGuC37nRjaOeywcGaKc\n",
       "BlDFUHRP/P8zd98SpKp+ur6+UZgLtkhU3vt3thJ5zH6RrYeDySPPNJNKe5VeSr4nKywlgf3c1NuB\n",
       "MfhxfPGm3A/DLPXXlwvPBO9w3AzXsGZPrvKGRNpQoGHOoT4Ffli1x8ZGMsWpkywzJwn+oxk3qblr\n",
       "fnUo58eiqAPRzhcaZyOfQHFlbMuzn6tOwuu0rnEIQ+6wccfisk4JCsMmdQqLVJMZId1QH/5nY6xc\n",
       "KyDgHQzxRUvTNX9yYsiB/8zLQVowqLQTwh+6lGAciWRcWSYkzQ/poZ2nfoXN/kB86KL3f3MP3Bw4\n",
       "AgLoaj7rv5tD7b6YakmTmAsCNmZJXRhQQhLuJVA5WwA3fJPmqUza+jh9uK0GkAulcjyy0Czy0wM4\n",
       "4s5JeaZVshX/fPe0AxfjimrraUWpveiE2GEEvevWmdC+lwP29YKEdD3ExyGLXUUp0Eif2r+zEWs0\n",
       "2mM5j1npauOuZvU1DVn3wKRYSJoTruOkCNbLgSNMzq39gacQAZwZAwPQLoVKlogPanN9yLA+4nPD\n",
       "FNaPeCSXZ776SNL5pbp6QUcmG2k5p427eKXtyc6WcLioO1hT8jY8DMjCh8ZM3yjO3YuiH3Z9SIvh\n",
       "sUslMXDj/1uPUF+f5DpU+AKR/MhbaebVAFqnRdrfq+44BQKbVO0iwZerDAeq7/D8tRfnH/mz51co\n",
       "crPsIapEhu/xzB7AJ0ZeBpNEFvJ1QOY+hSw/PH3sAK0/G4N3vxp/X5MquP5LCUpkuGCSsSW2iM5C\n",
       "vVL/l6PMrQNivRCJHGqn+K9ZKxYmyvtuzwxc8qSjIjYq+JVq01m/4PizgC8+kWRpjE1gkm0EdbWQ\n",
       "VDXp1UDzsVW/XDD9vL7tHNK8UGSphoxC5KFLT0bqYx8YtUBz+Cm7JQ2QXF1e6qT8hlmBGHEam754\n",
       "6LC/sjP3oTNXITEQ8aRE/NRoDz1X5eZGz5C2HCXw4mbynTopTC6yV9xEJ+Vp+Fgyg83VHXFgEFZU\n",
       "fXoS15QDZRZe6sJH3SK9zCCyjaBdQ/rFB3yLOmymy+5humeCaLR3Ho/J0AKu/JVWFyvP5SaAtaVQ\n",
       "zHTwaZAAAtJAPBmTry+8GTg8MJjZyPcdLYUOHkfizdoq1FQa1PHuOY7c1dty25n7Lmqar9QZKkWe\n",
       "+FZk4qoeM6ulMz4oQ3Z9rZ/Ioku3EUvZoBH63NclwM9hPZf3HSxBnPJUWtorgP9WkanqXLU6gfi3\n",
       "fIG0UpXs7xRDDtVmE6vGVZzsJvF9N4goHyXoqYi55gTQQm/O6vvSZ7115Q95L+DnLQWKjGp2AQzG\n",
       "sOc/M8V+UWTZJRGOSq1v9lXbagbnkHe6hbun41MaJ4DpCWOXUg9pY2bJfU2k5VCL+IyOD33pS8vY\n",
       "FMAWxXxKtobD0gLs2/m6y0byuiuYOiu6XZbwh95FXoTVNlwjYsLj7hJ/kT7MrqujzX+BhMNYqCa5\n",
       "UW5Ke4+QjDsl+5dklkbJjMeC+oO2hZlQRNd+UUWeVfBqMQjeoD9M6v78WGxdaEGdIzvQQJRvFyGB\n",
       "awMc5LgoQZ+jx4yE0iUOLemix8vOWIkciHxiZK/viaxJFsqGSUpuxH0VIQU30MXvit4yl/Stc0aA\n",
       "O8U8vJelGg2UERTbxetGq+qLrqQJ1/bwhnBh0Q61fl9LN3J9mtX/FwnFLMkWnZWVprZ3ZWwwAHnh\n",
       "d/zhdVbt/2O+ZlyrOarahw/tiP7CjmkHT0SC2pF/qO6ulLFo+/kLfCBxdZ7yJ2mMChZ66HLz1U8i\n",
       "hpmxG6tcY55+Esv6Shu1mvA8JCaQkYen8ImwHwax+7niRnZ/Nz/NbyNI3m6cQeGQOWBj/64DqAd+\n",
       "VNnWrZ1pV2g4rDRGjRtnK5DO/Qn6GrVTIvPbPpTQaVTYgpw8P9OT9bJrvHhIl/aXoeC5sJtqUsfW\n",
       "WQ2ZMg9UP4x/vT3OqSf5uTOO/wl8fonmkXbnwT/pCfWGEwy21xH25lR7yiAjtq5m/B5l6f6qVkoQ\n",
       "JvLJJbxBy6nq9MHyZ/J0ixHPXqBEZtvCgbGxIhu5QBoem9e/hs4iWhE181GLY69s8nifzlLDjhtl\n",
       "YRQ1q+dNN2n5CgxhmcJ7VvOax7cNpADqfCKVBFvI+n5o9Ard8MHlqHdtD+5z/5pAWGFHiH7rQ7lY\n",
       "487Ix2X9foBoQQAAAqVBmiRsQ7/+qZYAvChuALXP48zewIsulvc3O+smVASTxH9j/ixlI5MFcqla\n",
       "AfwmPwJa1vQpxi5SdNBcS6PWmeyS0DWSYFW6YMxO0xTsrIbD4T9iQtSm6raJdi/6GXpwrcJRKFvK\n",
       "94CzuTzy5S1T9wqMGQcokHuFJ/n2u9TU3/ySh56BTJPW5nGdMtlLn+ZTMrb1+2t0WRThR9vNvhR1\n",
       "VX4XOec8ue44nL/hJQmN/K+UfctOMmV86MtmpKDvZQelpPiVaySV2lNenlITC32o/ujCQ1/IBTdg\n",
       "BFsUBrlIYvOppjFsnZF9FoeoCXyqeqUzeZRCSlAyv8L9xBoBNra5GWcL67JfLnqX5q+VFNcZClsi\n",
       "dBAlR/D/9Lq3yySzSmnlImDCbdQ0tPkF1lLgtRvuBHxzeGahseAmA/mBOKTJIKf5E0cxSBZd5KJS\n",
       "cSCRVeTcWkphln2NNmeXL/ijXDsGakF4nAk2KhbSRiKGrK/b1gaAIeV64HFwvRQyqTB437zqJStr\n",
       "u12NEf+RXgiVIJhDsLNIVhkoynmqIXGd67HvO+cvpSFUjoVOoo3mf//6WqYTTKsgF5PISWth2dxX\n",
       "zt7E764N5srAsKd8L1H09s4WrDUaC5IbsT7Og6yK0bwlPHm+uUJw/HHa0nYXFBFYB9pBh+gicaW3\n",
       "+RKxHw+nqvpMugHFa7bCeGdExMY/xsrM7+bVOHEWULtJou+kpD/o0DxvYLh1BvMUGL9EN6D3mxk+\n",
       "GklloHdhprrcTm2U/dMgbg4FIG0Afu0B2088kIcjZ0M5rSPb3RbG/lJQZodmkUSCmB3NuMfkEMwk\n",
       "lTH2dccm/IJDLiH3PhxVY/3IzFiIb/oYRVd2CGPOovUPyO5bOThUveSU7sje/gVTD61FcD4ZompK\n",
       "QUZaE3PeHAAAAIdBnkJ4hn8A4q+wCZ4HtCuKjqjQRSCLCDCzXVOUiLRj27Cl6sUFw3xP1X0OtyUC\n",
       "I/DNyvOpQ38zcqJTQiwl7nKGVi5F+VqSmEXwSwuCieDst/FS4q/uO8c1ZsHmueqHOIPwZXhEALAo\n",
       "eZIerk8IojI8KBXaRWtdwSGk6CliRC+1HgsP8ixdyAMAAABSAZ5hdEK/ASZ0dMC5xUg+FGlIMBxn\n",
       "zugR7EZf9rEruU4c+Jf21GBgvXw/j0Xcdfh6AMLFauKNYWTUjeBH4871hes6tW7hNN9OlEha5baU\n",
       "q72dQAAAAFIBnmNqQr8AVBTYXsgtLtPOdlOlEq1poSFeYNg6KFw4pKkNdOUUBadfl26f3F+8Au13\n",
       "uO9Z1Q7yU8DQ14DuO4nXM5RNbV7gkWV+ax+4SoqzU8jpAAACBkGaaEmoQWiZTAh3//6plgBb/gHH\n",
       "n2TegD2AEIJe6b379yCntAnhLNXNebi7SN+AK3wG9G8OB1XFfmbob3/9eL9zGUHGkyqD5i9+239x\n",
       "AayOytaYLpCOdvRXHKc8QnV0XlQ8iOy6vWTO5Fn+z48DuSQQDPskLMg+HZrl9XHDlNK+KcLtI34Z\n",
       "fZgwEihut0RQQ025EyACMwt+VOQsL/d+cFfSXIz1m5fjM9VXalAqE/yTJ5f/3f/mpzPGmopPsIHb\n",
       "iHIf0LW0QaM2/ikJNB2DreX1WHVSj8xtk3teBdbJgorBQ1UxYDs07+7qfWrsCQVojMfIBYx89Yhu\n",
       "I6hhr/7B+M6wi9iUSvy/FjEatlJYAtqowCcj/Ec32XZEdEYpfC6sT35DINSXv42knwuMNP9upktm\n",
       "8w4PXQLMhtmTIw/sFd1j9Pk2vr6JAnEem7v7mJBgr6pzTalqyYRN0mKo5n/Wu5UHj93QaFdUOCoR\n",
       "1tMvuxccgLhMfL9u5mlif8pIKnmJERYrzvlGqb3BcDSA1+UPm+c9xK5G19c2B4WLONfAqcatbQ6Y\n",
       "BZefh7ttSZiYvP8RgeaTTgyDgKVPVGx2jLsm40OmQXn3U+bL3mio9wUb/SjE59NQZQKHKTaBk4PQ\n",
       "x7MWwtY4kkBxWU3XZe/IDK7BQM2Qp9xNTHklWqMzZ/5RMmSwMyT1ADZhAAAAs0GehkURLDP/AOKw\n",
       "TzPbI+gtqXKrd/FYpMtb2Q+bkAFz6l1GEnAf5wvJ13kfc9F8mysAjcUFpSpG4HeuSgPPz7+BCgQa\n",
       "EP3Zn8r00eLHs+HPfak6ReEDj8Xdsp6TRVbVY5ENlwFxEzUFGZhMq+lzO4OYkFv1n9eWhz83KzOe\n",
       "SEfOk2EXJDi8dI2518dWs6izHpo54yHVcrMIfVZr/06CWS+E7VccUhnSzm3O5+SF0mu9TCPhAAAA\n",
       "ZQGepXRCvwCSuiludZS28lcP/7iDimvLIAiUp254bOPRDFGgIFUh2lXc2vyG40KHJixc8Invw7+y\n",
       "tvZ5E9fxAPUPyJUgNZfQa/YpCkBZ9TJEj2FzGTi2XJi++qaoiPCo0QOmEGPBAAAAogGep2pCvwBR\n",
       "frsbugAcPkpmSr24E+7YeTBslubjoegowgiHcPOi9c+nVaNa5KX57esZElUm/p0cmTdZ9PhNSD0r\n",
       "ltoyKn7eEz953o+CE7bCdBTip6smLGIaWx38cIBMYk7PNTXq10c8m/XbLQ/tjnEWqfoMG0w7ajil\n",
       "PWKUDma+3nfoUD4hKF693RFzXD4jYcQgYskVzWQFTK3Q6aKy4xX4bgAAAi5BmqpJqEFsmUwUTDf/\n",
       "/qeEAGSM0pwP6gCrAyk4M57B/Rp2P+7JFFqJZ0XqUTqPX/EDO/xqTb8YpN73XGLdY3GY8wiTcRmd\n",
       "6JmojqvxCGbYgf12GhFmBDjmG78eaRfpJUOs0U5lg9XRCbb9MZA32hsAMuovK9WCx1zAsmihwndF\n",
       "gRjMpsfn7gyD99g30vBRKpyvGce7pNd15R3xHTQFz9DbPDv4fmlAM667isJZeSrSTjOdeeKLwt9V\n",
       "5T/DuiubDPxlruFLFrdCTaMyekp42+GB+RM+2w0ycaxzP8+BW2xxxZhVzOk6n7cZXf8Im+nK7G3D\n",
       "4qjkSu/BpkIbwJXdgniQxEMI4HGOC9MiP52rRQ9SLNTlSqLldvLRky+CQzrHrWUbObE+SPC+xQqo\n",
       "6A9ZPJ4Udpm8wjC6/az8OsWU+/SN1ByAQUeB/6je4Wh/Fp4lC6mk5M0T+t7gAHh/Sw9qDb07+Ldl\n",
       "xyYffwroxxXphG1VHRQKf9z2QcQPwy4Tfi46ymvsacCbAMIE3uN08Z96wpRISinKtSdmvbwSLXQU\n",
       "gMmi0n2tyTTk664/GARXyDUJRTBOkKRGjIR/VRXB/7t2EGfiNnZ6c6mGAyeU9B0sxh7lb3oJZHwb\n",
       "Ok3uVAWNu9z/yvBKoaYKvMvdOPwyfU+NQqMUTvJ2UrZX8jiJ9IHraNdGvqtT124YzmAbjkjB3EP+\n",
       "5PjXyyaEb45X1Y0U5aSl/tsg/tPfSK/73WUMxD6StQEAAADSAZ7JakK/AHbr10NlodNnwBB0Y72d\n",
       "xT8NS5MVJDrV1607kuII2DUfe0Xcki7Y2v8t/odX/eNvaKsHOyudDNvYO/JwnN2ZSG4f5Z6sH5fS\n",
       "CClR3ADxAlb7Sh+N27+SjSI1nsmTLibrPHasF/9uNYiqO6jz+RMl5BX2iEyWQz6gKUmeb9cZD0DN\n",
       "UZ4Q1AZth5F8EXIGvwm53+5Dpzh3JU6ckT/HtcSNZYG30gIVypvb4aetdDboQr7kqSmJCdFund/U\n",
       "exunj6LZ0SDdqo00kPhQpC8xAAABjkGay0nhClJlMCHf/qmWADKSYJAEbxjVyzx1tFQR3mQ6GKcA\n",
       "JGzTX9BX4sfiNJ5Cpr7XUK6k+wu/o3s9LAalTACR0Mm2/ilhsezdx9qvms46Cn4l+Fg6DJhpNUv3\n",
       "ycUHHwhMix1TOxhQf1yZGRPuJeX+//EGtF15qasO9aAItjss4Oh0IoLD2I4vrDR25yWG4IwTMnKG\n",
       "x0jAc0HHK26/URVb92bf+vj/wDwwssObW60H7RxoRlJ0lvu7zuzDvM0m9iFr5hv4U8cWO+099FVk\n",
       "6XP1OTMhFB5zOePuVEO0TEoOnm+bg0VS0QYM65wYxQy/QYN7D7xkZgCDQr1Z2sU1IuMvRTa9yxBu\n",
       "bHASyA636KA29+WIKRdsujHEsYpN9grzgP9JePmrI7S262LAAMHulckKuKgiqPfX9YGJnifRchJt\n",
       "Tyl6n1gp4qvZEChngcLwjDmQrhkoP5tiPHZYBJHqSIuk5RJmxFhRYYonDdI6S5YM/ZdsE1kg1vO2\n",
       "mfRfaP35AARGP19yXr8C6KpzvgrEAAABpUGa7UnhDomUwU0TDv/+qZYAMts5L20g3QCDpbrkN4uJ\n",
       "2y1AUiDJDp9tNNOvkb6aU84BYz0dqaGmj9EfGAEDbreFZvnBBmzdXflorEKRj19Q+ZanqgUZtT4Z\n",
       "e8WETHvmvwqbfnwP95xbIVfw4PyImYYJ2r6VJ8fU/KahVEYK4jgvwWRYpewr8l5pXoM2esOXgOv8\n",
       "5wkVQdGlDDUyb6Bt+Ac8Y5Nli5oziXi3Rb1p2sF+MU9rUVa18oPocHn89+J9OQm23su0MApPgFux\n",
       "VAUzLciK7j3Pa+kemH+e3GT1g/HkQhjWxdH7/QCphYh87BVg3r7anApNH9wQ+x9RqMBWhiqvfhKj\n",
       "qYfdopNEbf4l+tZU774zXNnrkDSVDXkxfIWtZufqUhntpxYeHHrsLdTtckylFtd/ueHeOgf0V0V/\n",
       "knAAAMztidDrXu84FlJQo2C9tGZW9JhYSGYjVgu/UvaZp5ulrBErivFO0IPAJlpJHebtvhg34trh\n",
       "cu8KO4AS4oCWLQlzd7y5C2/hLqiH8AEE+72B7y9okKlnew2c6j8c5F7R7UWULLYAAADFAZ8MakK/\n",
       "AHazHyS4dzyPOWaomv2ckdzy/6uca9RERqHl97wjABGR2ty34oOSoK8/ukZXfsIgPauSPBzeOloF\n",
       "GfmruBCpTgJ/29Ph99Ey8ig+OBYjxspSaQDuyjeeAPs5bhiLYzOjknGbY0SB1WzSDzG3Zw8CMpJC\n",
       "z/uX/Z9DShY83wMGrvugBs9pFwyS1Yy3lQ7VW5bpUq+FrWSs7P+XhNb5CouuWjNuYQgu5moQoOdv\n",
       "owY/+CS4oa0zAw+NQtADurJYsYEAAAF0QZsPSeEPJlMFPDv//qmWAJwfadJkmITcAg1Sf3vqhLgq\n",
       "4s0XlEjVzcDTggcksfR9Ylhysk1buNX8hnTlidfuFU2Q6gqbyn9s9AcLdJ7e/d5qFxtbLLQ5f8Mf\n",
       "RtV6RKYXYmSIVYGSp/oNZGIVJkSV2GtIm3LdCxmcnDuZBBfGVbPWOt7TqD7QCLf8ZIKhzz6t6gsA\n",
       "i0QBcmXHUzoJX1YS45hOxMUBG+mjk/ope0w5BCGf5c2divRJT1bjM4EJMk0wOv7OylBJ3rrLwwlD\n",
       "h9uwBP6oIRnZEhUIiJws5dBF02ig9r9QXQl3UtZHlNV77pU8KCazv+ZNzV27qzKM3svs+mvwCvEK\n",
       "uIVtT+kYyGdepWMgtmEWgxj+LYDm286ognkuidEe6peoMGh4fyCAIn/9f9IhaJ7IsVf0/Us5juPE\n",
       "MPdF7Y4uVGqKRR8W9rX9CWKi1CtUq4EeyWb85vHlOKiNEPU3wwZIZ68FyKt76wOOYS6rb621AAAA\n",
       "swGfLmpCvwB2sx8v+ZCoarcfuG15H0oIzJU2Zu2Qt6EonbdzDAA805gAbcKfET9rdBHn1+veI+Kw\n",
       "Zb+47wx9NWDX5R51s+khZnvajDRm5XJU23jUTkKontiGpg3gKFqQ7To6VRAyhLPbcCsJMrvbI3Gu\n",
       "GZju6CsJ27WhwPEZp+kClpuklUQNiiCRxCRFAJcnEhZOHukZLnhle2ZNCEqTgSSd5WTbTPfgV5dB\n",
       "4LTBM11WC0bJAAABAUGbMUnhDyZTBTw7//6plgCgwWVzH818AyLxs8+WYWgC9PXvzAbJDH2mcKpz\n",
       "Q0fLT1vYsUDq5ONAETxwJXrPqVUQvVROLkGytLljj+ndL97emKSicp1S1NxE3rqwseBrxK7yrLnP\n",
       "H4ma8NwG2C5/m+sCrq92oRbVhg+KhZET8nR654j/+srj+dmmfNc60t89KPAidt723gDPo6B/OyxR\n",
       "w405W2AAdgBstVQ3MKmEAhqEKg548MteOm662sgjZ3uNM8Xa1XO9xSNBFE8xGukxZTM9nO4VLipO\n",
       "jZrzbuCYCONfBfi0iWn5wYc8p3f5cLrYTQcQPjkY+08fbbbzKLqWq7ugAAAAjAGfUGpCvwB2sx29\n",
       "OcnK/ujHYPLY8WK2DNXX5YU09vVE18FmNI1DI4mMPuVx8o+rgkGw2pq1uzWLSABtRi5RurwKamhA\n",
       "wzRBWdo7VyGDE64aTSpSTSJ2vAwE5wApnPHGUOfGJteIkS735RSO/6ibRK7khr9ltnSaOohNZwrb\n",
       "9dt9OmhzrNV7zifB42WUAAABTUGbVEnhDyZTAhv//qeEAGHc0cTE0bFjXv3BE1OJahpKo2xIkCXa\n",
       "1GFyUavH7SJgSEYsM3ecyMwpDMVD6OT9ZynYh6vHRJbUDQGMSY+vNzbvkiaU8GjyGXta8Rx3U4Ek\n",
       "PxG/gsAE5/RuiliVnN4gmzZozbDA7ozsBFvZbrb+3x8IrocGWFz4XmCbMEwOvuJzeHvuW+pmAW0k\n",
       "YmeC/UIv3aaUtIGoXoxxu3TPF7d2X5+49XmNnLnd19dxqymv90jY/E1CXUp4hmcCsxSaE7PJJxjR\n",
       "zRCEgF5hgmL7zNgcCOyTQcU4lw9juXICofBVOs4SqlGkLes74KVYXBDOHdjFSGvE02ovtt9mzGgd\n",
       "0UQqPZltqW7RpshEaBtL+rnLg8+ChaeugD/OpQ1B3oVW5nU+66AgweXcggIYeEONWhFVrwSGlgif\n",
       "mi9G1ZVw63YpVwAAAKNBn3JFETwv/wE2sfnaLaQXXp5WMvsdWhl+we27RrYq9bxwO2cC6C/rZjsb\n",
       "Vc2gydRv4dvKTtzIoFecgxvBAAXQAlxZoSz9GWiblKdGOK+1HqOJ2m2jx3nEQs2sHXuDr1D2H5+f\n",
       "Xu7GSsszCAnT6XuaxyBo97r9C/eZ+gfGHXDYx1LAKCAHy6wrdA5AZrz+GQYkxzOSVzQ8FVyl2onM\n",
       "QVS9i4BsAAAAiQGfk2pCvwBPuFlBuzFx1D+EtlFof7QlSdCJ4GGriVU4jmdtmFgzCi60GgcTcA/f\n",
       "UqvVfREuTGq/MoO21ZaeR5NWeKFTOGO7AuPEDkYmW7SnCOOAVh+t9zhd4rC/fZ8TmOw0LBzzo+kG\n",
       "iWGWB7yBoWgB7swJkcVfmPx/S70no6Kl7pCaVpd2GMvAAAABG0GblUmoQWiZTAh3//6plgAykmCQ\n",
       "AtOMZTPZtV6a9ASo9HPNfgzINED768sXm8SNvFMah/b/Z+yp7J2bV8b6ngE4uv7bcDD5I440qAQ9\n",
       "shrVkSJc0LtOOVM9gHQeHg6q+ga4XOPxczEDqdrBMv1O+P451zv+k3gM3Cgp3QmTqHP2W5UYTw8y\n",
       "lpgsSSTVyGo3l/h46KYgnINhRLmXSftFFYOOEjqO4nILvf/cS8lezGHUOj6BP5Zr41qerKccie6B\n",
       "nrSZzq637QARV9YlOlZeG3lcyCSa0+FJABdVE9e9/TPwlEj09etKMkD06ep8zX+NUVHYEMq4im7D\n",
       "Ob6LKeU4joBU8WMHAyk88TD/yWGoDnVmZGHltmVSOyZbq7MAAAEqQZu2SeEKUmUwId/+qZYAMpJg\n",
       "kAJT3QLj/dFV6rj2qmevTgcU3uDE1r0ToTUGS2+1iCFqHdbk4npFhCtPhANU+olvOT4pG6Kg5AUT\n",
       "Yiy5r4Rdzb2so4yd3W60F1Ih2OWY4mPUpKubbCnYvjlsUfSvFhmVMpX/G+6XRrR+vS1sZS6P9ENq\n",
       "WObd2koY/UCOP3w5c4dSDMlmvH6dQMqo50lwpSk6SzjCWsLK32nx1uhTElEZx+jPCBcg/E9YjMkx\n",
       "94/fN5+X0h+87zNVRmf7pPFWUgup+ls7UXiRXM5LoItqxh571dTcd3MPItEFVSavY4r2c9WeyPjl\n",
       "J+vzIWmxZpWrqw9PnTZpsd3gDJYRBKtxRpcA1OGLZtsSCWpr2cgmxfmkxtL4A8s8DEc0qAAAAmxB\n",
       "m9pJ4Q6JlMCHf/6plgAyilaOWluAAft9tDbC0Xd7S0mdBsXruU8fHS+eNd9AhVkbKH5AinH7RkDP\n",
       "5NLpTE7q/g7zflosrZyQbeyrC7zGvvmf/GKaWK+IzIgWJUNYrcXKmHXRXS0DjZlGAdz8aOpIq5I9\n",
       "b4aO7GSSgiK+9W50igTI5hKETfXByxCF4ElBWPSr5+VqcZbX50yiN9Q+c+jtdHAOA4AoJCKfnJIh\n",
       "3/X6RVKawRdhu97bNIKmkvetinqfGmJWeqXZzK9jP36XQVWVmDPGWEhEViOmbT92hyr2PtIEeo3n\n",
       "sqH1gZwXQLaaNY9cIw5EcU0HHBrXZiBNOoXUyolE6ulGOspsisDDogoLbqAsccJOMwV7NdRDj0re\n",
       "600jzbYlS8M50UbS2ki3vqj17YST1HgevXkr1swJnA/0yu6hsR8NXDgAt9oGU2ezNFwnd3jbv47X\n",
       "N5IEtKSsyjZnKRVlgqQ1bFaL6UtAJ8jPokrVQMA22mPmiROjZWfcuGe+ATTGlWHKHyolbpJ6x+9c\n",
       "ubHrgpZQbpbjY6EjbuU9om8fddw26yjdIoI+z06KAz44g0qsZm9k8fsIS/Vcn6jytYSxd6MM9Ml4\n",
       "p/fkPH0PJDilfB+HXnFwycN4ZAPuWrnf/e16VDXJNSomchXD8nRXNnpTb6QV4dUArO7KN9JvnCKD\n",
       "h68wy6Hugia/2lifnyjd/Yl5g8I8qb+lNhcrR6n36vu8O/y/54tVVesRDr/tP7RsULOYEuotIBXU\n",
       "pzggYyn/sVXqZcfmUp6MYUDhoPbQdSK6RKn0nHSM9+bQB5tQXdg5+NEjpnsLyAtMQQAAAVZBn/hF\n",
       "ETwz/wDio00p0kPp2PZ5BcABrmime7mdB+M0EVYQlMLi7SG2jcmwW2bbEEGUsAQHrrmHFjiKOXwq\n",
       "xZFmNQdOR2Z8rOyv84d0p+gVVL4TjrLk/UiKhfNudHr+7t41Z/l5I6oYfGQxeHqWgaAGI3O8orgV\n",
       "fJrYo+q59kBrbncwHmt2pnSuiofhHiWAHPkEib9u9BlwgfHYC8Gfjfvo9o+twy7V3XOVGGnkbfRA\n",
       "u7yTpoAEHaVVS1PL8XCSAEMc7Q43MY5n/0lOG0/1RrRZud0nF1sWGd+q+18x4ZYQgy3DwAkL/x3i\n",
       "zgE7kOrYc7O59NVAu+dQHHKIKNz/vp98AjJUp0qD0xr4hGpK9nlghlJDpgYRbNw7OuQPpkYWv/1s\n",
       "wS+bKLC3uNJauFWi+FBumYah86gi9W/l1BvlxK26UPMYheJOqmv+SIhw+Wi1nxN/8xOw0kEAAADS\n",
       "AZ4XdEK/AFGugmbnAA2SY7ueZJ2IYpyGkLtNRY7glhQEvA6BWFV23pIBPmNQoNNtwaXjqAIqoxZz\n",
       "Xe9NmqiNBXlhrtH2WDNYqFbCj6YmNymYVGEu2jEv/Hbv/l3UNBDoH5YfpY0f1w8+xZ7EjNS5AExt\n",
       "k9zh/Sxui9iYRhOXsaRYlfQWqTeHbMZVewRWjy558qU917R3ov+M3zo0SZsk08+ibQVCd9jDcQP9\n",
       "zXv92uL5zyCRUutPdquCOpUKVjW70s/T4y8mY9BLAXGmrBxgzJpAAAAA9wGeGWpCvwBRZdpXtgBG\n",
       "B1hSWd6l6X1z5h0kdu5bI4oR3uaQdVVtYHjIZBRL4ExX/sPt2n8cLqEjdtRVouR/tLELTCoEQWXg\n",
       "Qv3X8QjChVY0v6zWT3s9KV519oZb6cGqVzbRDfcSVC/ECDOQKuSiLPezF51IcYxJW9K7LmJJY+5n\n",
       "A+XOIJXD3+J5IEuXFXqv171Rye+NnNvoL5YGLDo2Gq9JJJVUNz3T/kPik/pCPr7hr21NFXlPfz86\n",
       "C0gVIHfYZxWhMTT3XQun36+/NQHvTQUrtRz8VjpcKiaoIyq9GUE7QRu8raE4j8tajY+x9BBwNJZr\n",
       "DEgKlhEAAAIaQZocSahBaJlMFPDv/qmWADPQLN0P3uAHBTj61TD1mwJ6u3uP6qUTOcFfyVvytyIA\n",
       "LrzQhLaq8SbxRAMrgKdESPvD/wUazytdtFw5JNKu6u9ugccRGq+4RaU6GQwtklOBmPVNcqrhUHXi\n",
       "TCa5bBBNhpbxMA4oxLkye/mrrVxFWB+qnC6FX9Df5EpwfWMxb8GbaQ6h9Sz5uWwHuIDvrizzVzon\n",
       "4kCGKhVtVIdUc0DswT56w6OMupIzTnhCIiNZU/CRMoiQ54n9ps32Go4qWacQmrKs3wnQVR9ZufDk\n",
       "RublRY4N9kX4crVT0PGug6d42fWZsb1rhZVDRDhTsUBdtkAArvHvxOebi6eYn1m30cJR+l8yqsiE\n",
       "kr7y6rz/khnJPpIBnH3PqSacnjkojPuT8igJWOIIRm6imoH9I7W5BJXOQVQhn7utkgtw9ubR+fXu\n",
       "R2i9DfGSG+Kf6Q3zsA1orJnrgV8P75nzXCTXGJZqkm7zEVEtlJvUoQw6baKU1uAsFxlXyWUPUmYx\n",
       "ntaK6F6qvxM18tffKAKyKCqIaCh1wK3QhlhykfziA38r3xDBFnU0nPgGw+4KmpDchNv75gEclHFS\n",
       "MisomqhFw0nDy7cpngd814sBEZhVPSctFNHxb2NcAyc/wOK7x8z4zZjH4ihl6W2m+vi/g13ufjKM\n",
       "HQNtvzAe/l/N80pfQBnj7vGGOS+N0Lqw9xi6vgb9lTRekAAAAO8BnjtqQr8AduvX9LmrwI8JA8IW\n",
       "sg6bg1rGxgCJSzkT1xWEZgihXeC3ldfKySKCIuxbunlm7V6tVayF9VcS8cs5ZGrho2vDpgyE6+0g\n",
       "wL+FOR3uiKYVFJpBZhVfIyKCsVXIDaCYz4FbR4tjDy+58ZEAShgNr8PKY+wJOIMn30LSAeomhkLm\n",
       "QlnJ/2OWGIVBHD9vTsYycrP5zvl/oei1SN+VuZkLOm+1sLzZmKGIyTpPbv1HiYdQugMNNu7b7L98\n",
       "i1syYCS+U4JnaLyMjt3XDIMoq01gn1ipnkcK4Vh14PHNRtTQS9X6pyAFW3jhGfx8xQAAAeVBmj5J\n",
       "4QpSZTBSw7/+qZYAM9aIbp7vkt6UeSfuC7TdAHHAX94JRXR3CWmrcopHrTrHTsGKxj6CAv6+7Ug3\n",
       "3IWOyrG4rgHcz2ry+mbT91+3uGwhoA3aiu2dwO+sJiOTktK698UuU5r5PsIoReomeMBY6siPJcsa\n",
       "K9niYkEbbdRETzNmj0pL+vDIC54gbxNlalBjWFY5Iw4LvWw3MelbMxPjLAH2FguqR69cKKYb6sL8\n",
       "tE+xII8XoPhTo282G7pGfBJy5VOX9LwL/yW0JqXtZK7wmC8d7kdkz2OkJzkEOFHlEErfaUw7d4HR\n",
       "6L0uNul6GzExejvsi1BU7nHhp4sPbODGwLdUfLamDc5AaV38ityFxEuY1UGO9ij1DCKZ84EB778z\n",
       "OiU18fjg9qByLMuOPQZC8O+sFNmM+zlI2EdV7kWXw8WvIOBBHeVZJIcZwjMxk+KMxOqR/F7NvzNi\n",
       "/qoQ2MUjoL1yOcfoUWSHBxyhKR62xC5TtqU1aApje0ObNLXOHAMmrazz+YozAKDuKgnI9lXb9T33\n",
       "NoaW9e/NyGq0Qw+i41DcxZdfgUsQhejYVRq4pNO3QJoEkzaxHGcMpFniJonsCt6N1aM/lUCP1ENi\n",
       "12y7W3tzQeS615KWHBF3b2tdXbObnd61gQAAANoBnl1qQr8AdrMg6yJLSxo8A19l1ki1XBZPo0IA\n",
       "jWK4BoPblc7MpxMAG1GLkk14KKm61YeRXxrNmLKQpLMQgWYg6+oQp6IWv8SBgYdEuwprrK1qEK8o\n",
       "LdB4SrihIlQopzfUbek8fFPPz13shGBy2X+5UbFi+tXz5wHG31auWWgMd0Pj1r150ZQ/wujeOG4m\n",
       "PtW7tXlkwUUDAEKdAHSt7RTMgRnWLAVoj3r5vZaW0cCKb9nWzbzBQU80Xzs729kSx4vRRceoxvS5\n",
       "xjaN/RT5xlRvApYhXNs0yNFKgAAAAaVBmkBJ4Q6JlMFEw//+qZYAM92BB2oAWTUAgfoMXFIe5Oka\n",
       "6DhfdE3DjVsrgks650uCku5RFcEePMX7QA8nS4YNTsDlS0WDv7rfXkJTi+ejzgTwy0PO6xIztSaI\n",
       "4rbx+7wsCLz665D7sv08FK1NnQsjbp1wLsB3HyTq6c4vf46TqryZeW/+yuuFc6rWV666s02eTpVi\n",
       "ax3/kCkRBxFRJO8WVh2BQWuBjjgWhtVEpi6d9qXASYnqi5q4wnEato+K0QOLmsHmWcpf35vRL4og\n",
       "jk+fd5UEe1ucnKl1fa+6NwzlzBRq5ZJuubUR7BKCEpF3VUkiu005qy+47nsYtBuB8EF3zMK4X6xm\n",
       "pM3dJnQLZuanPPSIez90saeiCLgdwO7DXyublo8WD7euColCmGEqUfPdDqBDIAEA9e6eR9jdzpDK\n",
       "t4YE5cT6JPPt3xEt2Kc93KcV1kLx7XWCsLOZBR1ch+IWatiBjLtsaCAYlC6R5OJlzzYKKsV5hXn3\n",
       "5z0ZiD0cJ0Veo679zNHeEI0AEJzzfxWAab6hCmXnYljL60mDXEw0V1W5OllgAAAAiQGef2pCvwB2\n",
       "sxxu0v2KOdRVTzcpdJT+dO/WKBZyK+ZIwDDVwAHGpezH9IDnH52rdpON4CbsCLFVJzh3uhjaoBqy\n",
       "bTziNbKXzrSAwJ0A9WSk7kQHmCmx3RxP60ycFCCH5kG1MR6ZVXGmcnrNOlrhoUREbO2TMwwHgCJn\n",
       "w6Egdu4AVXwR0B1GrMFJAAABoUGaZEnhDyZTAh///qmWADPWb9xaYQxrJK7dmne/eZoHW9jJsany\n",
       "6k8SiSgCXXgpJUDXTjiOdCnw4F9gP5zYtGKSrsQeIbJ3/GpdvpLVlGB6jsj6hcvuX/Ldcn41TVnb\n",
       "1pekK/PYmegLDPrMTjRYu5wzQxOdMNf9ONiFkZ1J+Z/+CMtlSvr2LhHAmWtTKcUrzG18omoxHCst\n",
       "DPbonW8p7TSi4e5uIQAm2hkvLF+ybz/qnlzC9gyfV/+otHzYFk+Rjq2H+1F5WuZRHJnEeIhbVyZe\n",
       "eNi0UrI/ZIlsUkDpWHexmz4AmnSSQry6dKxEUDIyXvUxQtg4SKwgaJ5AhHf/2nDGNMKnzakrngYU\n",
       "9KlIk0qs4HzTbiU60UuxRAv6JmQC1N30uByLYOjCZIUIgYYw4wCHPJJQi7syJl4XxkAnXpsKsl0+\n",
       "KjPAvl6yNWDpq1ahAlemAZv22ar6Z/8Bw/8lebuclQtwI04bgWnLj6vxu++YoXAhI0E0qoA4yLzj\n",
       "XlVpftfMTnuZv0UNpb2rHWeIw+/FNlXbYk9l+b9lYFC2ogcxxwAAAKFBnoJFETwz/wDigfXrWKRG\n",
       "ynH+5uCeT7lEnlaqWt+DujqUM5ASFQZ3R5nAfDcUQNh3cieqSuLLFWcaa5CvEF4gRT7MPzyIHd3Q\n",
       "RUPEDKd0QAm0j+xt5b0sq/0H4j+sFn1SDmZMpLq5F3qtEBI2L1HuoQcAf1lESbwvJjX7UB7rjTcc\n",
       "D102Gvzt9C4MrmxcL0WiAzTGbsCPbW9zKmGO/aEXdQAAAGsBnqF0Qr8AVDJyEOo0h4tvWo6a0RrV\n",
       "uqDbDzt58UVZ1hImzkDDMR0E4qXft5GgNPb6k3QAknPWvf2Hb9lFgbv4OpJj3Yg0BKF3inQckGBr\n",
       "F3fLT6YdSSiDZGAMq5N9Sciok2h8LJkFCL8BegAAAIQBnqNqQr8AVDhdACEr54/pABw+d1jit35H\n",
       "+B9Jy4GkjurIVYBSYHuSoqhZLmiaPpMUGr6vIAh7vKzIXuVgaSFbSY3t0SPze8GKurdPD7MR1zxk\n",
       "o3s25pHDPXEcxFxqtPTZWluyQlSAvJfyKocHB24xKooNPpFTjbMRH+7Mv3CagQEkNmEAAAI7QZqo\n",
       "SahBaJlMCHf//qmWADQfD+NlSAEOJe6dv8/f3ImqGSc1Lzx2hdpHDuRgeXxa5CERCVGl+Jq3QLiL\n",
       "GItEKPzWM7thZ9yi9XzkJ0uz20a0Ix7rqZemBDKg1rdgqjBiYVRTE7qh3DmwvHL1P2II8jDPvr0j\n",
       "v/lRr/pDmYGuRZa6U5n42Jak483+VNjAwkHzdN7XgWrkVQS653rtnJiOWpW+G7lzm4exASQg08jO\n",
       "7uk/OH36Owz4ZpYqXATmfXtsQGeA/Rob/kj/TYQWzRRPZNeuV4o5LkNYFlZBcWM3Kb+ug7rYnafK\n",
       "nWQwtmkldLgsKTFAMpxW7fzQCV9kPCs4CpIFLUoLhXjB7sJNPi7lSHQgB2veKk7xmQyey1I9PgLe\n",
       "Ca0nGi9ijbe6di/r+zFaHQhqj+7Qw2gBHgrwyoi5+rmQjjKlfWkYdwKKGcjjq+//ozwmw3jb7lO3\n",
       "X3EwK29r26/vDVWrznRPFVvn1drbIq9HqhSOJz59bunGU4LJhFJWcRRONdsManok1C2IqZY6eYSY\n",
       "PvjO5Zu6QDRyeZi3CdENAkuwiHxNT1lnaiSA22enbdGTOhmhwqrDDSHTH/1MtAJ+B3g8pwUM9AjO\n",
       "HXzPT0rQTtz/xSyZ9m4VjhHadwNFVKb+eCdtshhaABG1yf/+/pHUB8A0+zpaqVgMATCA+CIvoHL3\n",
       "saX1Wjf67m65E5zIHjMPjRIxOSgNhszQb4k/OQvf/pikGahhjomSBV7gK0TvFLquhH5X9GB1QQAA\n",
       "AQVBnsZFESwz/wDisE7r5NVvTc42AJRU/h7QPS1AAs/GYoVRXrCNqxGsftNMwbdvoE9dxbVmYXaa\n",
       "VWmoePMx/KfT5z954/NynuTtZTCJMDig3P27dtrpRGfKibwtErq6kqPmP1YRPavVOQDEQLr82igJ\n",
       "SUNmtFoe/IbOiT+ocC+lz8gRdxkiAVQ3uJiIBhw5g0vWQODConibiyLVePfa8djrK7z+tZSYJEZY\n",
       "htasw+jEq1xxLtCKN93UDrL1x6DK19ox9Tu4jG44reSskxEWk6vv2/hjYih4Izd/TW8nWnYubHko\n",
       "MfzfF3WAwgoImd+jd/WplusXg087LdKZrypos3yMsqsPOs8AAACSAZ7ldEK/AFQtZuydsQ0tjUJ8\n",
       "TtxVvYgBGQjRNE71NMbKeJ+hZn2RnMijk2AezXZwq/cYEyYdluW/HkqDDfp9XmdxH3X5hxPCy6CV\n",
       "5hejm5XX3YYUU4vEKLH35850EbUHVBfkYHYAsyl/QiYUOc3AX/NEbeg0OcKjc8x9j4qnAdYr2/do\n",
       "se+nyDWChRX3Xnywh4EAAADBAZ7nakK/AFF+swPoIAg5IDnmNbPwq1hfx4EBJUF6PnWQGG/VKkCG\n",
       "bECguFYJU6r/zuG3o6jZDVX9saD9ghWiG1FJSkvgGEJaXRZTI4cjZN0f4rabdEQppZjcKenXDXum\n",
       "wsgoQoWpAqtvFTAmvJHAKTSX4Qel+Jk287Vr68rBkuOaNWCe9U8YtkoqdjK1o3ASVkOPjon4A4Zw\n",
       "mVjm5etyGI239LYQBVLsXRpRJLu4prvH0M9XfrGbERW9JglpNmQpoAAAAjVBmutJqEFsmUwId//+\n",
       "qZYAMqekmsFACuopDZjzSRnBsdtAGiketOsdOhmjyNuRaWAdRLUVjjYtnyfBuhKCACWF6XQ/56Dg\n",
       "94OvZV+4MJgqDyd9AdsJCcr10spF1GR6dWduQE1fMKuC6rbudxBCpQTIvx6uNrWF/NOArJ4UsT8e\n",
       "UwBT3KpYrWw0258gqSQtu6XZoX/a/qO229GkpJU+fWwFVo7wcTkdR/VxiCcBRdq6ugw97ndEileF\n",
       "uGBp+Z4q75tFdlKHZYfKoZTDsJo8xkjUw813aFcoBi5DDRy8NVhmb6IBEX+ifcsNMhSog1O/4e/N\n",
       "zoi9r3ZU4fhAwNdGupmwd7L3AfrYShNg1mWnDGTVSOyOG64fEo8ipYGUcAAU6qZWWfOVauNHiqZj\n",
       "oMIwC7z9ZgPY6w+tZphDSlGTXwp8bS3UIo1pV+Of70nN3m8ZYivB3+vdoFHonobgu7J/oo/KcOJu\n",
       "Dl80tS8sahxgAEKX7staB3DIy+WmVY9ttftEE2XUvDggZ2e5fWabo2XBz1Y5Nild7XkZidwJ0wjK\n",
       "x3tAjhNGKLgmZ34Qjo+wapXxSYLsnGKF7SME5WWfoZJ47SlYi5bhFrPiS9gRuulpf7Z7TiQexg7h\n",
       "zmedRCykuyatSu0IjjvjLRtdOc/jdkpeNulLo0KqpzsGbKHBl/h1Yn3cT7OVDJ6U48aUOX0ID01S\n",
       "YfQ6mX6DuJ0DsrXVY+HoJvCENZ19q5SY2hhhbytDa58cYmWC8kVMAAAA1kGfCUUVLC//ATbzmlJv\n",
       "slnILlUAPyMjlUkgirbKhW05aSWYMJNUoNUtmarinakl2fbmpJMpchg+Bh9Q733e72/Pu/NKvTby\n",
       "tLn6LbQ/RXR02rpx2yc21N76X89b3Pj6yfNjBI0+v6B8U2IYruA69InosaW7fP09r7POreEsr68s\n",
       "IsBl5/ZkjQpO1GZdZF7WWzxDSirXHDk9g4V1TpYc6dYPP4+9uJzQC7Jsc3eQhuW7BzH7mV3WTLhK\n",
       "q3q2wxvB2VGOGpgA+UnuMRaA3mCIxEnPu1DA1vUAAACLAZ8qakK/AFIZowBDqomemu99qKEMPEto\n",
       "5o2TTqC4VMh+U5GD7sbweMFHQ0ffyXgru0qP3BB+Fs7zLpVgQFOKstsIRzVH1Q917B9qOAb5OoAl\n",
       "V40zEM0pnyRo78n6qbT3sBtMyZfcTlQO7aRGerDpj/F/1xrocYE6JLZT08Yleqt4bqd3EUVPYQsM\n",
       "+AAAAd5Bmy5JqEFsmUwId//+qZYAMts5L20g3QCDpbrkN4uJ2y1AUouK9eSmNp1OKQqPwIQCdmni\n",
       "7meLu75Pawp+4NoSc1cDwSqbx3h1P1eladdyRcV2cAalbgCvf1JYIRYukQtZFqLssdZrqikIXzI4\n",
       "EYcxrIb5S8bytPwwCqkr+/691DdpO/QNXkesbSO+/NxrkyblT6gbOFEsAIpCqwox0s1Gbm3/R59B\n",
       "h9vWjpyX/NSucpWK3v7OnKRMZNzC3cIRR3AAxtlGgtSA6uZTfUrufCybEv2ZXmzZdXVO1cu8mGov\n",
       "LyQZ6tWzmCO+xhsJ4Y05CPJ6fGkRBC0ONxCYRAZiTlcSp8CmZRKLuSBAr+a8FhBFFX1iMUZvJXDH\n",
       "TOis+OT+WGQs5lXHCpHdMAKEdf5LJJwBL+lVvJdsUYasU4j7dtli241PsonBTGqBABMndo2qXXu7\n",
       "Xd3DsKrnai1cxvbUmcHuMUe08hYUy92ra7HRh+KE62P2lkbn7On3m5gxcRcbD7WFRLusLMCBhU76\n",
       "iIDbe6EQL5NUcurvHSaAyPMwqxer45wgQDjjn/OGPYYmw957xO1lBCiDXi+aWxfft37FeZMB84xy\n",
       "g3ymb/EHHsOld8v2pczWI3AJb3WXlt1+5BlQAAAAYkGfTEUVLC//ATbzmlJvq5GUKAqKCXa3kIWx\n",
       "UY0nXbthtJuoZjG4/9uxeU0zWVLACwJqDw3drdn5cO6p9kp87Pgeeq/nT2TbOziBLLwNhomYobls\n",
       "uzM8Rz42sHg1ZnBS0vefAAAAXwGfbWpCvwBR2iFnb08NiKKS2CqXV3PFA5dU42R+VZIWyAr9M4Ai\n",
       "VcJp902FBGUfvvDWLeF1VHkKc0z+WjJQ9wiwFTAtDeIeuxTugngv3aNdxBg4hwl/ZX88G+pgF0Lh\n",
       "AAABekGbcEmoQWyZTBRMO//+qZYAMVCvDb0AZjt1MR3x+egB0ruUvmJl7UZS9DKp1pgxyD+gaXff\n",
       "QlqoCiCjQlIhwHb/Z4YiG2KXaAENy/xwxdbPHUxKn0S0mjChaMBh3TIr4DhPCgdSB4lWdA6Fx/Qr\n",
       "kczJ/P+tG2d73j14PUKVUvEMLUUn015gImyEYpn2O/C6B135KN0bzgMsN/5Z2CUBtDiPZRvUtVLT\n",
       "6Y2VPWdWOgJ3K8kqzVPgaMyLXx5/+FH5l+FEiyrq98lHLtLBg240k2A7CH4akO2yfx2/EwkW57a8\n",
       "0E9rW//D53gWmTKsRbLfGmXTOJmMi1KV9b68rktH2P5f/G8UJLm7zcDAQ2f+SS/NQ8zY9rmtIo1K\n",
       "qeB2xpnrlD77nfsUqr8RlSa54mNoq8ukyUJPHJcwrCuPDjHkupAyW5hnYn5sUa7MXCoTPuY8EoI2\n",
       "ZcFQdsP5dSxSlBwh55Vh/r1oNAlNuhdKxcR6/WOVbtB3tqRz7ZCbgQAAAIUBn49qQr8AduvXF4WR\n",
       "fLGwjpl58lcxHZCWYrOVCD+OKSz/QAbUYpdNa3/R1oiybq0C6SM5eyFHeAsDRMEt4ePz+HHAV6DJ\n",
       "ZXImWHsdLT+jJbIwfxGbHC4ZEJ6G65lbv4kdWeqmaSy7aAQurcNaD6Sa2bPDXW7EjHZhznt9CP1k\n",
       "uYQcY11IAAABF0GbkknhClJlMFLDv/6plgAxVvBfephz84IGkeLQBdLaoj6HnX4Mi+9YVZ4Oz05k\n",
       "qqDMl16jE/iGoBszU1sawtgn8jxZDAW3ushPzcr9InBBQFylZH+WyoD+4n/P4+A/L/g778FwZKmq\n",
       "FspJIJ9tuCf7qLkRs2TYh/HDZKI5yITjkZmg6ry3iN9jER4L9lKefOVzfW7eKquvfYGG1LFO+M/X\n",
       "jqC42dq/XtWhpyy6deXSNAc3WDiWhv2IeFwlQcbuwDhfBQEQaFXmpkvEqsorZmfAjHLLUnW6KaTv\n",
       "ZE8nLsKy9EhC3Qnzh+3xFDYCnma3WSvrobAHRT4kOf3dzR26RChWYVf9S89s/KjKro3n6MGuRxkX\n",
       "LIOxQwAAAHcBn7FqQr8AdrMfMSgfxc5gxv1SRTWub52ejVlkAAbUYuSTXgpYvi3jZWWGCZToVnmj\n",
       "Q6nxdXt1PW15XjbETrm9CLQqskfMXSHxBUF/ujpU5jcHCsFFFpaVAm+7Gm+LCHt4vZWdvF5cEJcZ\n",
       "vWv587RnYd2S9uQScQAAAQ1Bm7VJ4Q6JlMCH//6plgBKfmJuAFtoALlGvPYIxHFsMus/OOBOkCpe\n",
       "j+xol+NAWHjRU3EJstoo/fdB3bCsIHGiKSkarjLGplZnhLUQUgmX8A8dPrfghuV7TBJY6UhV19Hr\n",
       "8fE9jV7POuvC1gvcOJHwcf6xpJqtzUNNiMdy72bv7PfY64gbZTa1qdiF0HkKEuyYPYPAOm+jA4oX\n",
       "Tt2M0hrV3AJ+98esFRi/HBadlt3pS+I4sQZJsqf/v6VrxVSny46H8IFPFjisAAiZrj6wMJiCx+5p\n",
       "MfeDq5oIRoZVcJP8Zo9/+0Zp3dVsFNgfe4rbi9TK7AQW2g9JWZDRdsxi2SPaq2X/Bc6tjnRkIOCD\n",
       "gAAAAGdBn9NFFTwv/wE2sfnamJse7YXhi62DSUbRPgFt7x0wy3PGCNM5Oc7r2rqe8eZOkMIVSh0X\n",
       "hMgA4fuLYxYQ+Rsi4HcU05Rap0QHB/YOhJlwGCTur2//TGHkHSHMidSVQI6Y++hwBgI2AAAATAGf\n",
       "9GpCvwBR68+PCwBCB5vL4lAexAYxPWFuSP2fIsHas8Pry0KXXylrO1sABYDU7MzmpiDK24UZSTL6\n",
       "Oq2kQ5nJBUp6mWK9OS3xqRMAAAF/QZv5SahBaJlMCHf//qmWADKXVOgAnJL7gIRxnBAkvUA3x09f\n",
       "VDsTuNqTjF24E/Yrj+EtWD7FZ4KmBjH5cbhIz5WkfbX7JRSjD71rdv2+6eYj5wHB+OaIyiY5SF3k\n",
       "F89JhPI1i8FrRenqK+2R7FI9avWZnVZQY+0OfZnFnU9ymdTOcj7cB5HGhVLW4ILAfJNxVNnsBLdQ\n",
       "Aqb7S+P3Ke11AvcpM6GxwxGcK5EplWCbsHo1cUkaV9vsk5wfvon7sRdQEwxwOyQwsX7HebARhrbN\n",
       "zE1lXkqIljqOx5ydUpWRXHV1B21+Pq1nihj2V84Toocmgc8XRpLVLlCo6zlf2swNGfg9Xrqufuvg\n",
       "l3bxsqj9m0Pyz+lrOSJ8hFePptFDOizxyJCm5cXoA/WMSY+QHwoQdZVtHgab8we3ir8K2dFzc+T5\n",
       "+k7oxmouNB4312V5c3iAFYNXP6As415Rn7CF4pirylNuGrAwhyckJ4fUlfBB5TDFKI4ogbmKN9Cq\n",
       "dQeqaLgAAADAQZ4XRREsM/8A4rBOhjXfNsyQA+8Ej5S6gpgDP4hOf+ptWiR70fROCOVQ3UP9sXaW\n",
       "cYq+Dn8jKpY3vPfrOZ2Nm0xg95wGwdKCIQzAGHpVt/ldzuw9z01fX8EPmJw5qfeHxPsZK2zz6u71\n",
       "NsWcAdHXGUQq0onVoB1jPLQZ04HkZ77GHuWiQuTPWKWSi6emyrz71X6uo63iawk3QRzLyNHRGqeH\n",
       "tG7WMOYMiCDZn6pfCMwswTLkAbD8wpQq2Sh4iw8pAAAAWgGeNnRCvwBPq9nH4kWAmudyJLsnr48x\n",
       "ACtxTvFIAtvwzQIhFb8AQkn7qH7jTYrR25uuethOZoxIfPIvy/mVN0AC3B5q6OOpOlAAKO/2y8XW\n",
       "tB3n6zRDpMTL8QAAAIcBnjhqQr8AULf1VDa0GwAIDK8e8I6byHE9iUtaR5BM8A1hLcuevbBdKrYw\n",
       "gorpjp9CLeeT3PNmpoK/OHBAQf6Z5xNa5S8XWvSawSlbf0ElLHHg3IhDxEuckZibBzKNRWp+5Xvp\n",
       "L5tm4v/qUYKQP4iJcgpsPIdIR/zCIp9/RCBBCU+QaDIhDoAAAAHJQZo9SahBbJlMCHf//qmWADQb\n",
       "P+4Hv3AFWDAcyZqzJAPDQ80LPyDb/dK6lE/B+nYkAh5W1rALXKrtNzcDXNncvzQbMXxcVyeWawE8\n",
       "5bYMX+5WwAdMTHY46E7QdUCZhLck2MZdSQk0F06Zuu7mfmi+CBgrNRHVpsK9rCeYKJHdZ6OnoWuV\n",
       "MaGglz4t7tS3Dv9tXFfTn/XyfsqTZaJnmUSWOqpwKDklpwkGfJigKRUP9vNOS19h8t6mwi0gNSHu\n",
       "+yZRClYDbOAlB/RrXIfHEfZM27gMjDYcpDrVwcsMcxtSkXck8W4ntcW/309iMhlIHaPQJQ5OFNlA\n",
       "JMlyT4843IMcWfP5ds/TH4EGT4ghUN6uJDP1fRbN1uF4flgWdjSTgu7EjcYFuS8OfEPHbJAEnPYv\n",
       "AAaLcd3uKHwn5NKa0TBWj8pP1lG6l1ZWXjvTnM4ToXibu7uVHAiloCk38FC9JB0Oj16h9GavIScY\n",
       "VsY5JJmRsCD5npIyzUvZLJkTkfqK2dqNCh3uY8SDc51MwEL2mV7xOo/cvm/bgrJqEJAmx8H1Ljap\n",
       "xR9olXams39jRxgXrrEz2Jqj1JgDFrk+7lv/u6KJACxu6Fotknq9IQAAAKBBnltFFSwz/wDisE6L\n",
       "3RZ9ZWxts7+zoy22VWwhh2FgBaLWhP7QrxUHCvOd8vcLKV4V7fuBKRlV9ZfwK5BpA6ePaZ1nJ5pZ\n",
       "FQBCuWB3HsM6ZP3aJxNYTnYVb6wYU+HuSir8ZV1ie2aKyyYozefly01ILdCGHgN8QO95y0uChvFR\n",
       "p8gH+AUpb93JniO0rV5Wu3PXB7qIsvyynUISDEr0oIqgAAAAewGeenRCvwBUMdyEwfOqTVu3fNP7\n",
       "WAId0FRw3kWw8nfP+sLrscnMTEl5CugZ4DhNjXq2wFYzmgjUiZqugXFgKIp4KyFlUnl/oaxsYh3T\n",
       "pIpeBID1v8zWHFdHlE8SLnfZ/Sj35Ukz7lSvq3Sm9iT5ipTLrxEqV2Uh1B635wAAAF4BnnxqQr8A\n",
       "VBT5bV1hgo/j9jaEhmFf0X64faZcpQIbDSDVXuklXQh9YWUsaL181HaV1663EQKurMQe1nyioNhq\n",
       "xiBngwHhSj/moGgsuXakEuUFygM8S4gFsTb1mCEzAAAA8UGaf0moQWyZTBRMO//+qZYAM+hkLtyB\n",
       "ae/kAcUrFUEFymD3zMo7eFCSGfVD5nLwRPe7IbzKHzMBYmXVs4Pve/FUxoT+nfTX6eWzkCICJmKM\n",
       "zKdzfNnBJMGlmn/gcGN3f9OCeGOpvx797LpTaGlgm+pF3y2VPoFaAG/BfDQujjkdgFOPDZ8PCZsc\n",
       "GDe3uIJn3M1n/EoLPRwAfcVPr2kX1VxCUHsqohcNZNz3tK9zV//mMxDqIYcntrIYS1nqri0YrIda\n",
       "jFWbMXTF/dtTLZDHT42D1KB4bkywnEcYLg+7HvVwWaXS5hnnotpw5QIyP331GOAAAACKAZ6eakK/\n",
       "AFQV8lzKd+opsZ3JXMFu8AYv6BBi0EwcW1uq7O/hJGBs6SOniAFe4lC8DyD2aBz0CCBJc1d6VZAM\n",
       "Gbs5Q1f2gepJ2q1LHXP6eXTIp+PsMDJq6sD3rsIsJLcoAxszf2YG07dk6zmVgrM2nv/Z8d/cugwf\n",
       "+asorPZLjecTC+QKdofE3AGBAAABt0GagknhClJlMCHf/qmWACt7GV+alhF2QxsJzcEhJjgAJHr7\n",
       "6EtVIMJW1sgwJcFWZpwU+V9+fG+NeLR3vvoq18LV5GOCd/EEN7g5d353kPgRXIxEeAQiADObll+H\n",
       "0D3HCl5l6rAC2J8t5VcWVjyeakwoijgHH/MAIGjDIae4UzjwEVws1vfL0jlfm1+wLNpf512oRUoT\n",
       "+UPYrCcrzrAWvCyxxK+ugDRrfIykEYXbemaGvMljznkqh/miouCWWds6SzLvFrX4ZviuJlcqKtJL\n",
       "25E8YBsdT9nu5nwxaNaxIDSOdJvlnnGDTmbvc49WlaAdHT0s592pHiRH0f6NHYRVMXLIkltRVfs5\n",
       "vj571l+TbB1gbNoI8A9gzX0GX5ycVq+Uj6/nbhI94bGSmfaCOTjN4dnGwflgL0hosOFoifsTeMNg\n",
       "0rv7im32fVdvOWmaGSto4jcakbnZZpDkdFXf4paFU/HqKnZQYBxOUZshOjOok9Kw5/LPPt5bcarj\n",
       "slQ6dhjWkDy4ReQE2Ksq7DZ+qFYA8/NXWoSRGpqEJM53onBkgkT3V/gAqjaulV5HKK+evcS4JKVw\n",
       "TOncN6EAAADoQZ6gRTRML/8BNuLodldRpmkn3x9li3kxRySZXY6vkx2x9oAg8gPjW7boeaiqgQvS\n",
       "kLDLl2FtL9BH8K41mj6y2AbPCzFuPodCOvcwwcZXx4XMJdZ6XRLbkQG7vjcqZrxXxm/AOF25iczZ\n",
       "38ejhojhOmECCEF2V27+UB9oZocWfeWGHBXi07VR32xHL8PQylTK1lMxgMkICQd7eBq5Yn4aWCS2\n",
       "9F3g0akq8+BkDTpaH1wJQ/WuvHVORt52oNIeKVbfGMMmh65yveokiFMsuCk0hyGQG3Eucmlgbay6\n",
       "4RcEj56cKgyuyXZEHAAAAN8BnsFqQr8AR3XQelNlv96TSOQCsP609ahzMANYAXJJrwUsXxkjhREZ\n",
       "vMLPgV0gnQxGHAUL2Yz5gLudiVQ8rn9yC/7uL/dPKpDNts1oqk+9tPT+dUqRRt+C5mf+4CVEP1UX\n",
       "2LIpoRkYEn8l01ZqRL6eUNsJc51ngCcMBYNzyht7XppXu5GofQJVRqJV7Nt9Z4K6JuMf2ASGsf2+\n",
       "XjzkD/KxMs9lEZA3a1+wvpQXqQyb1z4T/CE26uWVH6G1wByzbLXFw53cu1tmTJs7oTbPXBDeVIwf\n",
       "eLa5eWW9vequxwspAAABrEGaxEmoQWiZTBTw7/6plgAz0AAvm3wAqfXEVhEyxk1qgEKAQ6bfAp2T\n",
       "eWh9rGVxbRlVzimmlJrlxFRamM7Ff7s1I4BLS00hFk72H9HaSe/TSNb7nI9FGpdc/ph4GRpqLnEF\n",
       "iUMJ3QiXtz+f7KzFATE9mx4/OVWVtC4kvt5P8yAyzLGSLZxTE/07xvoCiwdE/wV76uSSH5yc1vD7\n",
       "9yQ2x4Ets1NCkDdTEV8uQo54wUY9OOBatHUavuHrZP9F5UTqXUFayWDjwMzgoIsTXa+ExTAFDc5f\n",
       "K7xFcPEpJHWTEpcsJsrwEfHyV6pSJ3plFMOhIZ03aqshUBaEl9kWsQnjdHZ+yIx5uhNgMcHTMfQY\n",
       "wQfDMsCUt5KMZ0sssT8jKB26roNPhTuZSe3X/wD9yO6dif3pYtfCugDdyhmJpwdH/1jT/cT0QP5/\n",
       "pvomm6rY7gpVzEDOwhK9l75NWrhywzNiUQ2BW547zzTkFis8WqEu3gfFDN8/pCCHL/82DChQ4Vtr\n",
       "0fcN66ONIqbbwed8QbZpARF1Qa8bYi9acw81/uRFdwtIeids9b34+2W0etI2AAAAzAGe42pCvwBU\n",
       "KclF2W19qBlRS0uu/LrS7n/Qvr5oZpn4MjXYIpDkFZyF0dKVgBa3F4Dpt090yzegKAg/EcxVXL6H\n",
       "qaYdjVY5uTGXkmjHD4QwS6PYP6sFvEjA2492TpisgOHZpxlwHTD7xKBR9EXaezjhAl6H4yZJjfRZ\n",
       "N2unuW4cE3c2EcSA6sl0B54T7TF0lRjyipk9pwQtqoEJxXwT5ZJRJkItuY/YGXRQnfPfNzsnw6Jh\n",
       "48VonpMSg/w9HEnyUWEt4Oet59e/HFml4QAAAaxBmuZJ4QpSZTBSw3/+p4QAZuwOaK2tLLuPadH5\n",
       "2JKa8xthilY7UANsbH5HioRXHsocGv8KS+xyGBg/vV1SrKpgk8WmNuLya34LVPsbMpECYoAaQGwY\n",
       "kCyHy/+TNjqmIkwJ2N2PrJwCKaJzWDWw4WcLVfepMfzzG/HF7mHK+0jJbqVSD6a5FO2RERZWK9sH\n",
       "uOjhoGqF4B/ZGsuPtH/O0pItv94dkzShodKFvqEPzvtmfgpoO3au1jSuMJFuBmwhCAQJkHQWl44l\n",
       "ajgJrmW7qKLfKvhcF+H4564UbHymh7J+7k1taUrdDdAa7xZt81O5RF030Zt9lnokdEZd/AY8IxQu\n",
       "hFWN0R2iC9DFvEkCggjmy0qjcplUfhSpjJFICJmN3D4uT30v2UbEP2H0GbX3ubGuM449kkl2gH1H\n",
       "lRup8mJJFEKHd8Ar5fUVpSqleI9IRvsEBUYEUZzas9ENLFuvNYbWITvRaIrz1tNPCpbq9AoLHg+6\n",
       "mDK8cJKNwYrQuo8ZYNTvyV1kAMzwP0WQZ5wa3E5cmgc6CPPYxNyQ+ZTzJmcJTTwFjrx0UpOmqVg+\n",
       "YQAAAKMBnwVqQr8AVClsF+459sorRTi2AWNAAIyFXjyGTV6m7oGC/sn/rdvC5/JOia/wXGfD9Kd7\n",
       "CGZPFBAzNSEebt1zFNDGY+17tP65FCRAeJaei2vD0WyQ5pPa6RkZ0uiFfgJQa3ihC4kX9EC3iwsP\n",
       "67mhbG16yCSJXN3IH0E9NvKng0TNZOzQtAQWlHXH2QtK4pdGrzY00oTy2BIVKXchzd8+aDjhAAAB\n",
       "aEGbB0nhDomUwId//qmWADQfD/Gxs/AALIJW6UuuEXDqC4BfQ7IXb0U6IhLmVWwnIR8ispwZcEgw\n",
       "Yx+fNtYPkC6qgRTuqNS7xHxWoNsW0WWtNl/6KfLR3kK+MGeE2ISutYD4HCuLSJaiAwt8rEW7bQ0x\n",
       "I4he8Hflxs3/W/P0U04GglYrCURaVWsCE/BMIgDrRzjkU2rHGp0YHuAMNVy2hM12+L/iNM20xDFb\n",
       "Mv4FPRvoWk79Wk6y6pr7Xft371LeBODUtvF21vLfF4JNJBeqcvQninP6x31oZ8liLG4QUjkm9qDD\n",
       "kySW+WdtcPpijgUXxar2fI/koS4lP1vsq3FY6ugXgMR9fZ9OkZLItHLF8ZJnXB1t89h/9x0521gW\n",
       "Pgb6A+L1ndBTJmlPVZsf5LrJt4v0b3CaHG0kBihxolnqCDWTn7cqxmcEXCGEe+jNNKp4/fSeV15F\n",
       "cVI673ICah2WipTwGy3mkLzG6QAAAfdBmyhJ4Q8mUwIf//6plgAyoLpwUgBXd6pUKWLU6Gb9bGXv\n",
       "CCnuRB7LF3OVmnz6PsERPrcX4Ou+8lUF7OAdmq/qGDQ0YrdsMDfkqVD8VcZ6zkV3vtKJsmpKRVMV\n",
       "7Z8+XdgMFX/b+qmo5hQujua/A78ZaZy4dvU4Ws9Vt1f7i4XgOxsHAMTn0JzS8eOhyys+2RkQYGjW\n",
       "GD108b7SciqpgAn58p8TlcumtNma3ojTXUcOb4VRcbomNk8jfDQ7KD5kI05MAbm2LZDYZOI3TEai\n",
       "2vUDZng2q9nxDGL8JJUfQxDKHR4PXatDRYAx1lMjPpFjaonkBKZXSZIu8Oo3K8TGWBYYd5GZ6Z9h\n",
       "fr6/H+kAYyuyufDPZ279F3gbYAZjOvwsJoTDdskXGPN73S5GFSfLHInRDndT83sexRKFnGdvxnil\n",
       "Lyx4FyPpClRVNKvT+b2UF2/+5w6vXGx54W+v8G3wZbYfnTAj1rJ9w8pzzisUiAytTeqxcLmUg/Qi\n",
       "srMM4zJrWj+5+/D0mRgkQ861lzZsNhkcOWPPG3Rx11xVjv7CE6XfA12dd5jknrTFazM1cKOZ8Lfb\n",
       "L9/t3W1xttRirR5Kht4Ol9asbRVgrs2j+EfGTIWAcDs+O7bUsv2JJj5yVQQuJX19ksTM7ypp58RJ\n",
       "ssd5cd3VvLFlhqlL9AAAAntBm0xJ4Q8mUwId//6plgAywrXxqIAWwW/+YL7aB4DjYYRzbuLZoSn6\n",
       "QmFdt6+lt+fvRJnInjI6kolo1scXtffcZSLtKrxm3bD7yJPjVO/pXS905pOzbIwFoaQDIsji581V\n",
       "bdHsAlPgGGP/mDjmBp1pT6aDcl2QB5U9S3k7Sqvu9PbtpJ5stHpxEJJhGzP79mv6KyLwCVcsPSRZ\n",
       "YGbZC/SZg8FmL59cS4DxVrahbJxrRaHT+gQhyY9mqSuebhZk8J3YfCdccDgLYbqx+hJ2LFpK2wpE\n",
       "r/hxp/3VB5R/sFhvF/zV905x2rSnsadcpti5cOkt64gqwFXe+H3MIR5gMCPXH3175BGF+8E3FGnl\n",
       "3dbf6xZqX7oBBT3pi3JATf9h732rDUNEzpe4j42wtpi1JdgczWIb8Bv47LWaOy46VUc5fhk8F71Q\n",
       "E2tSuCemWrEMRdaggT0cgRB8dz+FcGB4KXE7rLKgofHP9QVXND+aIp9aJiOj94MsAAcjTrMCF94E\n",
       "c9SxzBPhQs4xXqqXzSnlgACGC8rR2OabuRZitVrMxgLXa8MGGPH0x2D1JfONdlpPH2NeyfF70w6d\n",
       "EmpU3Tjfwe93tlf+bbeZZ8ft23dB4ZJYF2QqQYj89LxRihf3Q4IZt/sTTyNSaoUR15Ol52FBY16x\n",
       "/YO2lzc1TvfO4ggd4Qhu8n6jhqcJf+1Xqr0hfNK7ckCRPGTU9Ix5u3OV21JPVr5+ARNVmKJGZmFX\n",
       "FSbrhT1IpOxltcvoeJjbw4cXmbD5/ZfEqmgZpbfK6agFnG4MPQThgP/AuDhigPVe7Dk8YtLbo61n\n",
       "7wc5RuDSIsIEW+LCrvndFWzg6SQa6FgccAAAARVBn2pFETwz/wDigfWGKLasj6AGhNa5FUjNa4ha\n",
       "FO9ZTC4th88W56dMUkjGULERRMDxC5wRgWzD8tJHFfK4S8gdb8uRVZXul1cxjaK/RwPoCgvMBySi\n",
       "czDUqCvFVjV4G6cJ1U7OGkSWbAeUxFLHeJPupTGbKKOmgcl7DNqxJz/vy3qyN3Febi8AmKzlcpnP\n",
       "QX7BU6+cq6/nQb3F3rmIruRgWyQzKwmKqAD73kji5ndN6PUBQhwsteNxrvBBvQdTqqSLvEPwazUq\n",
       "u6CwP5toInmk1LOp8VDLgX8YctO6Wa0Wz5Mowfg01Cu9Agh0jF3B3jQ/+Be0jq02/n9R8tCn+PVC\n",
       "EfrSKQZO1vFFoo1jpVmpOYJOYDbhAAAA0QGfiXRCvwBRf7BAXoAbTbh9jOYCre1Fg96/aR+yFkCP\n",
       "SFaJqpf220sgh0NCWFsapl3YRXnG/IDyh3uHAmHMvcp4DtcR1Dz1/HXpuFeFmwv3ZDHmw9rGtu4R\n",
       "7pS5mB/KM9Fg/6yHFRFcAg7U1VdPbbg56tUkazk+ZPpYjPwHX70nmuhvKUMW7m6vjZ/X54xy3YpX\n",
       "rWDJ6AGyFK7n3cSoELlH/fejTmjQVv7DnlmHz5CpWdC+HPjd+63c5jeOQA5LX17sVrw4LzyTkNsS\n",
       "b6iKYMyAAAAAvQGfi2pCvwBSFywAirL8r8iZZXxqGvTCRQv/aRIbGdDUHnC+B1i/e+MuUT8YFbFq\n",
       "nMWBCxSoBfhCSpqf2ynzhSSTyBoV1W6zECI5+ydiU8uudkcM3OHrMOd8LY3ENiA5gNMH3U+F3FPc\n",
       "N53BZyggmGxJ5DTw9/aPVBXk1l44m5cWYkPtjBdvaxnx4ee0mK6Ri9cwPCWtBvik3XpOPw8aB/sb\n",
       "d3yGpNILku0V24NGyGWkA0cMAeLQaQWi6NMCygAAAZlBm5BJqEFomUwId//+qZYAMpJgkAX+5vTM\n",
       "oCVba0Vo/hV45U9v/SznbpWuRRli0UHUH84HYlaw0iCOVf0naejkl2O77igPYuzh43V46heQaKbd\n",
       "4agbpzWKuwCZYlx5gGtPaF84Jr3ZkAUg2NdTqo9mq/eO511ROq+qGxWRQE1byqzV+PkHVaTBQ5rC\n",
       "EZZvmxcP7v0zf9+hA1ZVkIjFb9plDIbkfTzWYQrldmIwuTmt5Nz903uAv+Zq+/ZuRqKDkpSES8IO\n",
       "hyH8zPgjXOFHVo4nMtPRcTUGsVB9aVV5zm0cG6hBDW8deZL/0X81dHZpihRlpCGOV+mt8XKpYqx4\n",
       "2CHjWNX3nqGtFR1Fqqh0YL9svs9/lNwygvre/97WrFp/tYsmDPj9GSVqL+Mo4EwXoOJwreSPQ4H4\n",
       "f7dYdKEZmO+cxQrpOiH4bCrLbHjFcffNzMwiStOLon6fBqitBHCR78Jb8fa1Dg1gz23dqHt1V6bx\n",
       "6MlGw62d2ojc89kIxgS7BOik0l9OSBsnZaWnShW+zFatQXQO/2G6wDUhAAAA0EGfrkURLDP/AOKw\n",
       "TobsIXUM+QdsC8OAFh35LS1I89JRMfrvhVMYP1tbW/xY+Sli7eqrjwMgxczKXhs1g4XyEV8t2cR4\n",
       "drJqtLguoPiyQAAaizdf1wlg8miTKff9M7C1gbLTodypa3N4MsAzkUvhVDa+YB9Wnw6ujS2cJWHq\n",
       "d/SJizGyG5wnG7r+BqzmPyyoNtQ9v20k9UDtyzntGYH7jGviJ9se87mZUTCAy6e8uqakT57od5MC\n",
       "PhhT3JaeKBWcyfbNSUCjxnE9MQps/bBiOCEAAACHAZ/NdEK/AFHS4rnknMnH8EpilD7XK21/RlnS\n",
       "Vi31wP/1uSZUfi9BIxIqk04pMR4Cqj5qXBRAxKQb2fwr1ErUdyoqRGJDdFqAE4hYlkCtyYVR7A/L\n",
       "6sAO3y7k2N3i/1SH0p12DTUMCdfZxGQ4MohkbOaU45tBKf/1rfl0+nylJrs1Lm3F8sWVAAAAgAGf\n",
       "z2pCvwBPi5CXEH0whBWdRkdYDWkkHQkyCNnnGZFAc0ZEJGk/q13O8veU4YEFVSCpgbTWvcUIklR6\n",
       "w26zJ2VVAVTsPNogATiFZxV1ZTU6RhqPKbn/5vGYrPPx3rFTnK2Q5zVS6XvJvOdhaTM+yXbeV/sa\n",
       "e63Eki5yrdR/hUfAAAABLUGb0kmoQWyZTBRMO//+qZYAMVEbJs92v6DNAA+Y8GjN88oeQeREE5QF\n",
       "cz9qX2EgNH5oA19sHc7CM8RDTYIoavzYK6f+3Vw+EmfnE/78/Wj7MjSfcz4RU8h+i4+0D47rK8yu\n",
       "TM1qTMT5Pd7/Ylold7+DZGwSGHjFWegmRd4hk6PpJ/CxKo96wlDiM8NT7rbk4/TpnloBrNdq+hJk\n",
       "XXZcLZkhEneYeZ3ekExNJKSkFFx4VvCmQGBYv2DY9RRXHcdb63HzI7eBz3b/hK8WASeiUSzJZZnh\n",
       "zs33BtTv8iUeUuCO7lZ85+kVjVqnuM5jbnFPoA0bKhjOYdSdp9SQWrTA4Qhw8/U8JRVHnaHCfWAp\n",
       "SduQPE3d0mr/JXqRIF3Kf8Lzt+bVKSoy3A3eUR9BnDAAAABnAZ/xakK/AE+sK/BLMIHYM7gsN/NG\n",
       "wLmfvXH3f97NqLl3vsdgl8FZT3Px0Q5pqsIp0aY5mEtpPgkm6CzXPtVTAUtdl6/gfNHl4HNA4Hbc\n",
       "jTmfH5Ug3cB+5YQnOHxbkv7+lUT/VHgUkQAAAXNBm/VJ4QpSZTAhv/6nhABkYpagCJrcodaRaARj\n",
       "17S+mPlmF+K3fZqFS9pDhXOECET6o9w2jsB28F48MmzARnTWyfcbdpFDUBXA0kQEIdxmjGhMj8fc\n",
       "gB8nNtYqPSVjKf9ZPOrKX0jMmbDoRfCSoVPjD9sFkIyyQudyvK5vymcM15jRu8GOnfhlIjSlZzOk\n",
       "NcIBef5nB4il7VmMDY+3wXRElxJpXfgRqlOZtlXtwEkBmBvybfPUA5KjSO79OoRzF1gdUD3VcGYw\n",
       "ODyO7vrSsMr/p/wW0nHnPkKlicrQqMCeHYaisxJV/goUjGzjmFZSJVuiqMgfZMrOCQviMKvq/zna\n",
       "LZxKSjDCTL9uIaCGMTGvRrseeZ7jmaD2BN5Na9hV7os/J9loNv5mKdI4mDQVg6p+i4k/lJzY5T9C\n",
       "i5BiliqfXgQOaNNCcm6TGR+36m42VGR/2amxKOlucxQ7Bjjce76Wtpz/dqkAMHBVC9n1YnO5O3Q7\n",
       "wAAAAINBnhNFNEwv/wE24uhwJW3MmmP8A086YRSaFtLrQven1Ik5odAYC6ORVfEEDMABxvUkeOde\n",
       "2vE4D7BH3pgdh30hq5oE00cFP/Tm2qx95ipLbZx0urpfJDUYqFNGvawjvdtmGoPv+HbMwX9ALwNh\n",
       "ajI/gJuf+f67XtYWm8ZOdMK7TpgsCAAAAH0BnjRqQr8AUevPrXcsU8GZZAH4b8LtF2NTOWuyNjTh\n",
       "zOSZwuBwHhwwAb0L2i2q/Nys8MbOyrDJxEKu4Vi1eHPL9YCnIvoFfBrLH45sFjUTFtXwWSMhY/p8\n",
       "j1k/UMSgsQTlLLCP0nL19KZW/cMBar391L84m2evdtfMpjcJ8wAAAThBmjZJqEFomUwIb//+p4QA\n",
       "ZGKWoAbfHfNrrcfMljM4/ZdhaSxcHdxpq5zZzw1BmR97IbOHYDhr79nfLZsyAKHzMJNz0Yee08qt\n",
       "LdOQ9hLz0o9l7ZltKdO3AkQift+5QnESm+cuxRc1DNbxUL7rr3k95fgEJWd+9SltKM4pswT5sD7+\n",
       "0hDUSL9boAV2kW40hhPxgSY0eCilpn5Ovt3UQdS0P3d1wpTAJgcpAs6xCSn228kR4rbo7plLBck0\n",
       "zbL46vLF28Qj2B4lhxs6StSoZEUt/c0Zji4xYzJAIPTy71qJeOmZNAlFiun8WugO+VKP5qJVN/Nw\n",
       "fvpE/lO+Y/RSKs+b8qIKC8XDmlriORyYey6vC0iVtkaA2/Q0LQ8B9Bom8hrm81/QQ7sRHLPGwwY4\n",
       "gfA7YCT0VCpS3QwAAAGLQZpXSeEKUmUwId/+qZYAMpJgkAJJ+MoivihWRFvG+9nLMvxuyzAl5doG\n",
       "M696DLjAhlrIPmu5xrCHaDf8alQtafnJnTxC7M/gztSCeC8Bjvg2hPGS2A7F+tJPpPlo1eUYba+I\n",
       "xa+/6K42cJGKqU4fhC0epvu8Dy/Uw3KU/FykfMTkVF8RH1zbRwXRRoOGyAjnmSyp65MJDXpXzFrC\n",
       "+UibDohyYdmddjGFdKHjmq595A95bBVfO/g3FfgjYpU9UWduq/fDS9yfELLQ7nORGSdsnQlHS/sJ\n",
       "B0swO3fAo4MFaGBsP2cvdtXEyeZ+H94Uor2qh3ZnLjWzOynDOPGcn7OnR8A8pASqhZoDQUtoT/vi\n",
       "/PHbnotYyJ1VVW6GO5oA56Rgnh0u7qDIvSrodZU4jAV4rXZN7Hv47Qthqxl1BBQ9yznr8C/R8E7Q\n",
       "UgxfA5M2YvrooAjrRzG+dWwXWiQJP/3YnDZsFLH88iRj8ZqNXylW+s4O2W59Obx06IF0KoVs2zep\n",
       "xGEjFQFfq3G+ppMAAAFuQZp4SeEOiZTAh3/+qZYAMsKkQPsAJlffQaDZoAudmBRfnuU1/WtB2m2L\n",
       "nbMxukoPgBItJ/23iJwC5MG46WrUvQ7Gnb4Gyr2lpMar/uGHq3RQv7Y/qw1FcX3Q0+/souw0M4rO\n",
       "VX3HH7ZVU3ak6p1fr5zezs+twMftTj1jUbgFMWZzj7QF1pIzC98bOmkyO1eN5cB9cNT7XSa/375L\n",
       "EZUs04kIuZbcdFgiVlhOzuV2veLwaZmOB8xGUnx8HPNTupMYs8SM0C7fjB67ufbOhPNucj+bEAlH\n",
       "/4/RQaEPXCi9bdsyAFacDBMdolxJi9gYSMYtXRAa4shNQVbaF+icq0qKRQm6vIpzKzsxu8hoUHbo\n",
       "nuKGw+gsDDKxFtnSgU3dtPQCbtTJTX9njYrLuglL6iOE94uusQYA0qv9ZbsHl1/DOvb364ZgPD1z\n",
       "n9wvxOVbocQ/CtAitj+ssYLGu6voh4GalCaGq0+9dkys4oXzBrl5AAACRUGam0nhDyZTAh3//qmW\n",
       "ADQbP+4Hv3ANYd95WS/edm6NtLLUd8xdRHYdOol3x3RMwilZxwdK33z1Etv2irbAF529hxs1+s8B\n",
       "+yUXmtwOtjP1w2F+JgUDJhuqy/e8PlwONsOsA1CEM1ZHZ1R5sT3n/5ykPKYO5oE49hD+Crf+Fosu\n",
       "eifuNqXhhWnsYz/op6Xqz9igOdS7GdZLD1aPE9cA3D2KqJ0ZabX++BDBSfk8jSkj26VAaUZx1j4F\n",
       "kajZjMz9Fct1jnfFjD1vjKhU36z2KLm/KJO7H0d5M8Eo1p4NDmKnbI9fsZJKmymVgNb6hNvokkza\n",
       "W+exOIZVpIFkKNLnuIdPXDLYkHgmOeL/KuvSfyzvTlRaenIsShlpP1tR1VMDq/Fg39V8Az8p36Zp\n",
       "/wSTyWE01S5X1GkpnbesatkfSd7vm4ZORmaCondh9IU1T3J8qZHo9KqavY8rAWCaOFZo90CRTJ/s\n",
       "x5BmQ9KFqdHasWU+ALu5lrxcbRG+2u2HZnjZRmL884QtV0SWbszVNWDyVPSI0+tFUxCo+VLRmdlo\n",
       "1s1RK0/3Kq6SwyYhBdveIC2jAmiUmRI5bDhpuGjZNcwDdS1n7xJUoJpWwJhMiHskB62GeOI6XZXr\n",
       "sL+8YMyW4sbsmhGRjbcqj6gP7CKDspaCz4GipKQxvYx9F1bSc/mI4bNYaOS0Kz4znsm2u62zqu8Y\n",
       "gDw3Ssq0erJwQmTDL7/+/BAVecp/Y1Ke7Ssgv1UhtQJi2Dsutmqa078wizok9jduewZbknTAAAAA\n",
       "5UGeuUURPC//ATax+O15ygs5usudZADZcBA4SZnSdSvKrSusAPVWKlqYfFfXIizA+dwpqLV8X6Rp\n",
       "U0CEIlspY+VbDVFvqM41cEKuensusokyr8OcwGu6DCXDM504VeaIi4W7QvZ1UDWN6dukiN0zz/Ii\n",
       "zkldirKkjj2QkOdX1fDBTuhCid27SM2WyENh/v89U9YDVxH7/OnLsLp42yetlUR9lmV6bXsIZ5Ue\n",
       "8+ik5jBRcaGx3YGqS0XZu2lpLQss0DskNGgEs8XJ+0m9Ctw1K6FhVcaQX9+CPtxxgwU0nKu28Vz3\n",
       "j5kAAADNAZ7aakK/AFQrvq+D5ExswAjIVuvRv/eZ67rldNJW2fcgljrz4kJ4mCf6DVbGT+935r6L\n",
       "T2amn9SAd2U5lHQECfAI5Ij/q0qpVZGpm2nPNz9bsbVB6COYVz9RZDWkD60M6Sgi23QxjLTOJHWQ\n",
       "sZJKOBAOthwJm6YJNWM/PNTw5lkDfHG6Z4ymeG8Gpe3H6UgSweVJr8npRKrJg8eXmghRcXVo9iV9\n",
       "kH/0GkzOmG93/e9ig2RmfOMZAzDmQiPljr1jdaBOVR9O+ACnsYDpgAAAAZZBmt1JqEFomUwU8O/+\n",
       "qZYAM+O3qM9Ko5RYQBBhHtHlHXZoop/IeJXgZZga3VFsswCoKawBF9zBABQACpq1LFpFfO+LzJrL\n",
       "6Do8yWnmZq4bRgvv7t22goTqmmXscW1kUd66k4YtBWsJ/Dx1L9Qp5dinLLRDGV5vLF4ed3FGhE8w\n",
       "b6lyM2F6CEK67tuQxatp8vd9kTo5pGXYHx3CThCORUvphgIBLo38mA61LTDB2hjDEqvByV2kKX+y\n",
       "9dmngPLbqG6p+PyKys0v3hjkiWrq530YinHCou2pswM1ZnWf08CovSrfwvMeQr3WkNZEX3Lj73Pa\n",
       "urpw6zXxb9u/wybLFMnLluslYrJKy/S9Jm9v1PAB09t0DhX+1tcUFZ6BsA1hxs+b3Ypy7oeKGpLe\n",
       "W9mSLNQc82BF9fn/Dfu8fhcGZVYIgaluKr1pL8a1leQO5OdMQvXzJaKwst2yN7ZsdD7RJdlJGuuz\n",
       "pSW3uTAfAi+53+lGO3z4rA0uRd5AmakcdCHb7z4Cr8EWt+gYWir7g2VjolPEcX4w2RnxAAAAkQGe\n",
       "/GpCvwBUFLzj6e4NWddZO8pDJSwr5FQ/3qn3jB920wlEJ8/HPqC5SUK6KUV0a4PDNZ2OZvwy/XgJ\n",
       "dKgBM4UwE0/hVjaPVUCzTXAfFDxVShTaotxhVfTAUs8O0E1PiTe9/EFA7QnMOpWSuc1aSRfW78j6\n",
       "F5QQXkJPkVecvMiLLXHqoRermmty2k+8CDowu4EAAADMQZrhSeEKUmUwIZ/+nhABkVwp3xxdYAOf\n",
       "0t22y25dMY4eFgN+yq6fDVhdqW8ddqD9+Awf91pvf/MF8I+lULm7fgAqRw56rTNtlyoN5tz8mmAQ\n",
       "dydDGWm72XkQA7Q5qPXLC0TSVshHR/fA+V7Xhtx+yD7YEkVUjz1qhn9eLjgxr+H4TIrPGOXaM1JP\n",
       "5paVQDRdO3v6HZSAYpJULN9639DsrFP20sDZc4i+T4bwpunvD8lGIaHU0nFvqbWRWKZ90wbcEZt2\n",
       "CJMiAZIBAmtgAAAAgkGfH0U0TDP/AOKjTNrnkQGn+PI/JfI3HB/ApcB87PPBubcMMZkGJzzmmliy\n",
       "osMhmesnXhghFLwurGeaEhdPucZ5BxTUgBLdbu4dQKVeQyCvSu3QKrxTSODQ9WuC6ZuIdFTjx3a9\n",
       "f+wXAq6f07Tvu0dc5FacgOv4jMrj0kkLPOT1OOAAAABdAZ8+dEK/AFQt/SXUj/Mg/sOjqoDWO+1v\n",
       "S+FksqdB8yQ6I3RVTBPOXyV4ACtGcNXoPy6dvyAD8CxJ0CtyXEfrSVsz+vO6/syqkH7m+GSPcsWG\n",
       "abXVRccz9pn79e8JAAAANQGfIGpCvwBUGrl4OvzInlMfjYivqvnkTx4doVZ1DiQIUEZFZAO4vo8R\n",
       "sEK3uNin8664XAKmAAAAckGbI0moQWiZTBTwr/44QAYexH6F760qyVXWA0OcsZepk2M4/Pt0JYBm\n",
       "0BTDzw8wBfx1HbBWCflocARMZbM2tm8+mLJeOG0alhvU7hOT4/oAjdIE0MKTeUA/cppSVOtQbaSk\n",
       "/97ZehgC8MVHmeOVcbEC4QAAAEQBn0JqQr8AVDkp+OGK9cjRlNzaX9ikdfE0M0lakzrR0/EkGaOt\n",
       "UY260g/GQU1UMx8dO+lmRWwm9LXDK4YraZyHrABnwAAAB4Ztb292AAAAbG12aGQAAAAAAAAAAAAA\n",
       "AAAAAAPoAAATiAABAAABAAAAAAAAAAAAAAAAAQAAAAAAAAAAAAAAAAAAAAEAAAAAAAAAAAAAAAAA\n",
       "AEAAAAAAAAAAAAAAAAAAAAAAAAAAAAAAAAAAAAAAAAACAAAGsHRyYWsAAABcdGtoZAAAAAMAAAAA\n",
       "AAAAAAAAAAEAAAAAAAATiAAAAAAAAAAAAAAAAAAAAAAAAQAAAAAAAAAAAAAAAAAAAAEAAAAAAAAA\n",
       "AAAAAAAAAEAAAAABsAAAASAAAAAAACRlZHRzAAAAHGVsc3QAAAAAAAAAAQAAE4gAAAQAAAEAAAAA\n",
       "BihtZGlhAAAAIG1kaGQAAAAAAAAAAAAAAAAAACgAAADIAFXEAAAAAAAtaGRscgAAAAAAAAAAdmlk\n",
       "ZQAAAAAAAAAAAAAAAFZpZGVvSGFuZGxlcgAAAAXTbWluZgAAABR2bWhkAAAAAQAAAAAAAAAAAAAA\n",
       "JGRpbmYAAAAcZHJlZgAAAAAAAAABAAAADHVybCAAAAABAAAFk3N0YmwAAACzc3RzZAAAAAAAAAAB\n",
       "AAAAo2F2YzEAAAAAAAAAAQAAAAAAAAAAAAAAAAAAAAABsAEgAEgAAABIAAAAAAAAAAEAAAAAAAAA\n",
       "AAAAAAAAAAAAAAAAAAAAAAAAAAAAAAAAAAAY//8AAAAxYXZjQwFkABX/4QAYZ2QAFazZQbCWhAAA\n",
       "AwAEAAADAKA8WLZYAQAGaOvjyyLAAAAAHHV1aWRraEDyXyRPxbo5pRvPAyPzAAAAAAAAABhzdHRz\n",
       "AAAAAAAAAAEAAABkAAACAAAAABRzdHNzAAAAAAAAAAEAAAABAAAC2GN0dHMAAAAAAAAAWQAAAAEA\n",
       "AAQAAAAAAQAACgAAAAABAAAEAAAAAAEAAAAAAAAAAQAAAgAAAAABAAAKAAAAAAEAAAQAAAAAAQAA\n",
       "AAAAAAABAAACAAAAAAEAAAYAAAAAAQAAAgAAAAABAAAEAAAAAAEAAAYAAAAAAQAAAgAAAAABAAAG\n",
       "AAAAAAEAAAIAAAAAAQAABgAAAAABAAACAAAAAAEAAAgAAAAAAgAAAgAAAAACAAAEAAAAAAEAAAoA\n",
       "AAAAAQAABAAAAAABAAAAAAAAAAEAAAIAAAAAAQAABgAAAAABAAACAAAAAAEAAAYAAAAAAQAAAgAA\n",
       "AAABAAAGAAAAAAEAAAIAAAAAAQAACgAAAAABAAAEAAAAAAEAAAAAAAAAAQAAAgAAAAABAAAKAAAA\n",
       "AAEAAAQAAAAAAQAAAAAAAAABAAACAAAAAAEAAAgAAAAAAgAAAgAAAAABAAAIAAAAAAIAAAIAAAAA\n",
       "AQAABgAAAAABAAACAAAAAAEAAAYAAAAAAQAAAgAAAAABAAAIAAAAAAIAAAIAAAAAAQAACgAAAAAB\n",
       "AAAEAAAAAAEAAAAAAAAAAQAAAgAAAAABAAAKAAAAAAEAAAQAAAAAAQAAAAAAAAABAAACAAAAAAEA\n",
       "AAYAAAAAAQAAAgAAAAABAAAIAAAAAAIAAAIAAAAAAQAABgAAAAABAAACAAAAAAEAAAYAAAAAAQAA\n",
       "AgAAAAACAAAEAAAAAAEAAAoAAAAAAQAABAAAAAABAAAAAAAAAAEAAAIAAAAAAQAACgAAAAABAAAE\n",
       "AAAAAAEAAAAAAAAAAQAAAgAAAAABAAAGAAAAAAEAAAIAAAAAAQAACAAAAAACAAACAAAAAAMAAAQA\n",
       "AAAAAQAACAAAAAACAAACAAAAAAEAAAYAAAAAAQAAAgAAAAABAAAKAAAAAAEAAAQAAAAAAQAAAAAA\n",
       "AAABAAACAAAAAAEAAAYAAAAAAQAAAgAAAAAcc3RzYwAAAAAAAAABAAAAAQAAAGQAAAABAAABpHN0\n",
       "c3oAAAAAAAAAAAAAAGQAABGuAAACqQAAAIsAAABWAAAAVgAAAgoAAAC3AAAAaQAAAKYAAAIyAAAA\n",
       "1gAAAZIAAAGpAAAAyQAAAXgAAAC3AAABBQAAAJAAAAFRAAAApwAAAI0AAAEfAAABLgAAAnAAAAFa\n",
       "AAAA1gAAAPsAAAIeAAAA8wAAAekAAADeAAABqQAAAI0AAAGlAAAApQAAAG8AAACIAAACPwAAAQkA\n",
       "AACWAAAAxQAAAjkAAADaAAAAjwAAAeIAAABmAAAAYwAAAX4AAACJAAABGwAAAHsAAAERAAAAawAA\n",
       "AFAAAAGDAAAAxAAAAF4AAACLAAABzQAAAKQAAAB/AAAAYgAAAPUAAACOAAABuwAAAOwAAADjAAAB\n",
       "sAAAANAAAAGwAAAApwAAAWwAAAH7AAACfwAAARkAAADVAAAAwQAAAZ0AAADUAAAAiwAAAIQAAAEx\n",
       "AAAAawAAAXcAAACHAAAAgQAAATwAAAGPAAABcgAAAkkAAADpAAAA0QAAAZoAAACVAAAA0AAAAIYA\n",
       "AABhAAAAOQAAAHYAAABIAAAAFHN0Y28AAAAAAAAAAQAAACwAAABidWR0YQAAAFptZXRhAAAAAAAA\n",
       "ACFoZGxyAAAAAAAAAABtZGlyYXBwbAAAAAAAAAAAAAAAAC1pbHN0AAAAJal0b28AAAAdZGF0YQAA\n",
       "AAEAAAAATGF2ZjU4LjEyLjEwMA==\n",
       "\">\n",
       "  Your browser does not support the video tag.\n",
       "</video>"
      ],
      "text/plain": [
       "<IPython.core.display.HTML object>"
      ]
     },
     "execution_count": 41,
     "metadata": {},
     "output_type": "execute_result"
    }
   ],
   "source": [
    "# Show the animation\n",
    "HTML(ani.to_html5_video())"
   ]
  },
  {
   "cell_type": "code",
   "execution_count": 42,
   "metadata": {
    "slideshow": {
     "slide_type": "skip"
    }
   },
   "outputs": [],
   "source": [
    "# Save the animation\n",
    "ani.save('masses_for_{0:02d}_modes.mp4'.format(N), dpi=100)"
   ]
  },
  {
   "cell_type": "markdown",
   "metadata": {
    "slideshow": {
     "slide_type": "skip"
    }
   },
   "source": [
    "The last command saves the animation as a ```.mp4``` video file. I saved a few and uploaded them onto Quercus."
   ]
  },
  {
   "cell_type": "markdown",
   "metadata": {
    "slideshow": {
     "slide_type": "skip"
    }
   },
   "source": [
    "A few comments.\n",
    "You are not required to remember them at this point, but you will later on in this lecture series on waves and oscillations, so might as well start early.\n",
    "\n",
    "* For some modes, some masses don't move, or hardly at all. Likewise, some masses move symmetrically around points that would be associated with zero velocity if they had a mass on them. Such points are called \"nodes\". In-between nodes are locations where the velocities seem larger. These points are called \"antinodes\". We will be able to visualize them better with waves on a string.\n",
    "* The distance between two nodes corresponds to half a wavelength: every two nodes, the motion is periodic (spatial periodicity).\n",
    "* The larger the mode number (or the frequency) is, the more nodes there are, or equivalently, the shorter the wavelengths are. As a matter of fact, the first mode has zero nodes, the second mode has one node, and the $n^{th}$ has $n-1$ nodes. This is a general feature of standing waves, again better visualized with waves on a string.\n",
    "* Modes with more nodes are called \"higher modes\", those with less nodes are called \"low\", or \"grave\". The terminology comes from sound waves. Sound waves with larger wavelengths sound indeed graver (lower frequency) than sound waves with smaller wavelengths (higher frequencies)."
   ]
  }
 ],
 "metadata": {
  "anaconda-cloud": {},
  "celltoolbar": "Slideshow",
  "kernelspec": {
   "display_name": "Python [default]",
   "language": "python",
   "name": "python3"
  },
  "language_info": {
   "codemirror_mode": {
    "name": "ipython",
    "version": 3
   },
   "file_extension": ".py",
   "mimetype": "text/x-python",
   "name": "python",
   "nbconvert_exporter": "python",
   "pygments_lexer": "ipython3",
   "version": "3.5.6"
  }
 },
 "nbformat": 4,
 "nbformat_minor": 1
}
