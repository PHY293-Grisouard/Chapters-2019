{
 "cells": [
  {
   "cell_type": "raw",
   "metadata": {
    "raw_mimetype": "text/latex",
    "scrolled": true,
    "slideshow": {
     "slide_type": "skip"
    }
   },
   "source": [
    "\\newcommand{\\rads}{~rad.s$^{-1}$}\n",
    "\\newcommand{\\bnabla}{\\boldsymbol{\\nabla}}\n",
    "\\newcommand{\\eexp}[1]{\\textrm{e}^{#1}}\n",
    "\\newcommand{\\glm}[1]{\\overline{#1}^L}\n",
    "\\newcommand{\\di}[0]{\\textrm{d}}\n",
    "\\newcommand{\\bs}[1]{\\boldsymbol{#1}}\n",
    "\\newcommand{\\ode}[2]{\\frac{\\di {#1}}{\\di {#2}}}\n",
    "\\newcommand{\\oden}[3]{\\frac{\\di^{#1} {#2}}{\\di {#3}^{#1}}}\n",
    "\\newcommand{\\odel}[2]{\\di {#1}/\\di {#2}}\n",
    "\\newcommand{\\odeln}[3]{\\di^{#1} {#2}/\\di {#3}^{#1}}\n",
    "\\newcommand{\\pde}[2]{\\frac{\\partial {#1}}{\\partial {#2}}}\n",
    "\\newcommand{\\pden}[3]{\\frac{\\partial^{#1} {#2}}{\\partial {#3}^{#1}}}\n",
    "\\newcommand{\\pdel}[2]{\\partial_{#2} {#1}}\n",
    "\\newcommand{\\pdenl}[3]{\\partial^{#1}_{#3} {#2}}\n",
    "\\newcommand{\\divr}[1]{\\vec\\nabla \\cdot {#1}}\n",
    "\\newcommand{\\divrb}[1]{\\boldsymbol{\\nabla} \\cdot {#1}}\n",
    "\\newcommand{\\grad}[1]{\\vec \\nabla {#1}}\n",
    "\\newcommand{\\gradb}[1]{\\boldsymbol\\nabla {#1}}\n",
    "\\newcommand{\\curl}[1]{\\vec\\nabla \\times {#1}}\n",
    "\\newcommand{\\curlb}[1]{\\boldsymbol{\\nabla}\\times\\boldsymbol{#1}}\n",
    "\\newcommand{\\lapl}[0]{\\vec\\nabla^2}\n",
    "\\newcommand{\\laplb}[0]{\\boldsymbol{\\nabla}^2}\n",
    "\\newcommand{\\cplxi}[0]{\\mathrm i}\n",
    "\\newcommand{\\unit}[1]{\\mathbf{\\hat{#1}}}\n",
    "\\newcommand{\\thrfor}[0]{\\quad\\Rightarrow\\quad}\n",
    "\\newcommand{\\and}[0]{\\quad\\textrm{and}\\quad}\n",
    "\\newcommand{\\oreq}[0]{\\quad\\textrm{or}\\quad}\n",
    "\\newcommand{\\red}[1]{\\textcolor{red}{#1}}\n",
    "\\newcommand{\\blue}[1]{\\textcolor{blue}{#1}}\n",
    "\\newcommand{\\mage}[1]{\\textcolor{magenta}{#1}}\n",
    "\\newcommand{\\stirling}[2]{\\genfrac{[}{]}{0pt}{}{#1}{#2}}"
   ]
  },
  {
   "cell_type": "raw",
   "metadata": {
    "raw_mimetype": "text/latex",
    "slideshow": {
     "slide_type": "skip"
    }
   },
   "source": [
    "\\DefineVerbatimEnvironment{Verbatim}{Verbatim}{fontsize=\\scriptsize}"
   ]
  },
  {
   "cell_type": "markdown",
   "metadata": {
    "slideshow": {
     "slide_type": "skip"
    }
   },
   "source": [
    "$\\newcommand{\\rads}{~rad.s$^{-1}$}$\n",
    "$\\newcommand{\\bnabla}{\\boldsymbol{\\nabla}}$\n",
    "$\\newcommand{\\eexp}[1]{\\textrm{e}^{#1}}$\n",
    "$\\newcommand{\\glm}[1]{\\overline{#1}^L}$\n",
    "$\\newcommand{\\di}[0]{\\textrm{d}}$\n",
    "$\\newcommand{\\bs}[1]{\\boldsymbol{#1}}$\n",
    "$\\newcommand{\\ode}[2]{\\frac{\\di {#1}}{\\di {#2}}}$\n",
    "$\\newcommand{\\oden}[3]{\\frac{\\di^{#1} {#2}}{\\di {#3}^{#1}}}$\n",
    "$\\newcommand{\\odel}[2]{\\di {#1}/\\di {#2}}$\n",
    "$\\newcommand{\\odeln}[3]{\\di^{#1} {#2}/\\di {#3}^{#1}}$\n",
    "$\\newcommand{\\pde}[2]{\\frac{\\partial {#1}}{\\partial {#2}}}$\n",
    "$\\newcommand{\\pden}[3]{\\frac{\\partial^{#1} {#2}}{\\partial {#3}^{#1}}}$\n",
    "$\\newcommand{\\pdel}[2]{\\partial_{#2} {#1}}$\n",
    "$\\newcommand{\\pdenl}[3]{\\partial^{#1}_{#3} {#2}}$\n",
    "$\\newcommand{\\mde}[1]{\\frac{\\textrm{D} {#1}}{\\textrm{D} t}}$\n",
    "$\\newcommand{\\mdel}[1]{\\textrm{D}_t {#1}}$\n",
    "$\\newcommand{\\divr}[1]{\\vec\\nabla \\cdot {#1}}$\n",
    "$\\newcommand{\\divrb}[1]{\\boldsymbol{\\nabla} \\cdot {#1}}$\n",
    "$\\newcommand{\\grad}[1]{\\vec \\nabla {#1}}$\n",
    "$\\newcommand{\\gradb}[1]{\\boldsymbol\\nabla {#1}}$\n",
    "$\\newcommand{\\curl}[1]{\\vec\\nabla \\times {#1}}$\n",
    "$\\newcommand{\\curlb}[1]{\\boldsymbol{\\nabla}\\times\\boldsymbol{#1}}$\n",
    "$\\newcommand{\\lapl}[0]{\\vec\\nabla^2}$\n",
    "$\\newcommand{\\laplb}[0]{\\boldsymbol{\\nabla}^2}$\n",
    "$\\newcommand{\\cplxi}[0]{\\mathrm i}$\n",
    "$\\newcommand{\\unit}[1]{\\mathbf{\\hat{#1}}}$\n",
    "$\\newcommand{\\thrfor}[0]{\\quad\\Rightarrow\\quad}$\n",
    "$\\newcommand{\\and}[0]{\\quad\\textrm{and}\\quad}$\n",
    "$\\newcommand{\\oreq}[0]{\\quad\\textrm{or}\\quad}$\n",
    "$\\newcommand{\\red}[1]{\\textcolor{red}{#1}}$\n",
    "$\\newcommand{\\blue}[1]{\\textcolor{blue}{#1}}$\n",
    "$\\newcommand{\\mage}[1]{\\textcolor{magenta}{#1}}$\n",
    "$\\newcommand{\\stirling}[2]{\\genfrac{[}{]}{0pt}{}{#1}{#2}}$"
   ]
  },
  {
   "cell_type": "code",
   "execution_count": null,
   "metadata": {
    "raw_mimetype": "text/x-python",
    "slideshow": {
     "slide_type": "skip"
    }
   },
   "outputs": [],
   "source": [
    "from IPython.display import Image, display"
   ]
  },
  {
   "cell_type": "markdown",
   "metadata": {
    "slideshow": {
     "slide_type": "skip"
    }
   },
   "source": [
    "*[Book: chapter 4]*"
   ]
  },
  {
   "cell_type": "markdown",
   "metadata": {
    "slideshow": {
     "slide_type": "skip"
    }
   },
   "source": [
    "# Introduction"
   ]
  },
  {
   "cell_type": "markdown",
   "metadata": {
    "slideshow": {
     "slide_type": "skip"
    }
   },
   "source": [
    "This chapter is a pivotal chapter in this lecture series, and from past experience, one of the most challenging as well.\n",
    "It makes the transition between the behaviour of simple oscillators and wave behaviour.\n",
    "However, these two things look very, very different.\n",
    "Where does the connection happen?"
   ]
  },
  {
   "cell_type": "markdown",
   "metadata": {
    "slideshow": {
     "slide_type": "skip"
    }
   },
   "source": [
    "Here is the pivot, and pretty much the goal of this chapter: when two oscillators are coupled, i.e., the motion of one oscillator is influenced by the motion of the other, any motion that ensues can be thought of as a linear combination of two orthogonal types of motion.\n",
    "The features of these orthogonal types of motion can be found by solving for the eigenmodes of the matrix, corresponding to the $2\\times2$ linear system of equations of the two oscillators.\n",
    "Each orthogonal mode of motion evolves independently, and its evolution equation is that of a simple harmonic oscillator.\n",
    "Physically, the most visible manifestation of one single mode of motion is that all parts of the coupled system of oscillators oscillate at the same frequency, while a different mode will have those parts oscillate at different frequencies."
   ]
  },
  {
   "cell_type": "markdown",
   "metadata": {
    "slideshow": {
     "slide_type": "skip"
    }
   },
   "source": [
    "If now an infinite number of oscillators are coupled, the number of orthogonal modes of motions are not to the number of two, but are infinite.\n",
    "This model can be thought of as a model for a continuous medium, in which waves can propagate.\n",
    "The superposition of this infinite number of modes can lead to an infinite number of patterns that propagate: waves.\n",
    "Once again, each of these modes satisfies the same equation as that of a simple harmonic oscillator."
   ]
  },
  {
   "cell_type": "markdown",
   "metadata": {
    "slideshow": {
     "slide_type": "skip"
    }
   },
   "source": [
    "It is the circle of life, PHY293-style: from oscillators to waves, and back to oscillators.\n",
    "Hopefully, by the end of my lecture series, you will have started to understand this concept."
   ]
  },
  {
   "cell_type": "markdown",
   "metadata": {
    "slideshow": {
     "slide_type": "skip"
    }
   },
   "source": [
    "Finally, throughout the chapter, and in order to simplify the presentation, we neglect damping unless otherwise stated."
   ]
  },
  {
   "cell_type": "markdown",
   "metadata": {
    "slideshow": {
     "slide_type": "skip"
    }
   },
   "source": [
    "# Expectations"
   ]
  },
  {
   "cell_type": "markdown",
   "metadata": {
    "slideshow": {
     "slide_type": "skip"
    }
   },
   "source": [
    "## Remember\n",
    "\n",
    "* a normal mode of oscillation is when all of the components of a coupled system of oscillators oscillate at the same frequency. It is an object that is shared globally, by *all* of the components of the oscillator;\n",
    "* that the modes are completely independent when the system is linear; they all have their own quantity of energy;\n",
    "* the definitions of eigenfrequencies, eigenmodes, eigencoordinates. And that the 'eigen' prefix is equivalent to replacing it with the word 'normal';\n",
    "* the determinant of a $2\\times2$ matrix.\n",
    "* in the case of an initial value problen, and as for any second-order system, the future evolution of the system can be predicted if one knows all of its physical characteristics (for pendulums, that would be masses, stiffness(es), lengths and gravitational acceleration), the initial positions of each element of the system, and their initial velocities;\n",
    "* any solution of an initial value problem (IVP) can be written as a linear combination of the $n$ eigenmodes."
   ]
  },
  {
   "cell_type": "markdown",
   "metadata": {
    "slideshow": {
     "slide_type": "skip"
    }
   },
   "source": [
    "## Understand\n",
    "\n",
    "* what the process of beating is;\n",
    "* what a degree of freedom is;\n",
    "* how projecting can help solving IVPs faster."
   ]
  },
  {
   "cell_type": "markdown",
   "metadata": {
    "slideshow": {
     "slide_type": "skip"
    }
   },
   "source": [
    "## Apply\n",
    "\n",
    "* a systematic approach to retrieve all of the eigen-stuff is to solve an eigenvalue/vector problem. Remember how to cast the equations of motion into a matrix equation, and how to proceed to find all of the eigen-stuff (solve for the roots of the determinant, replace $\\omega$ by $\\omega_n$ to find the eigenvectors, maybe normalize).\n",
    "* how to use initial conditions to completely solve an initial value problem;\n",
    "* how to use projections to solve IVPs.\n",
    "\n",
    "I am probably forgetting a lot more.\n",
    "See worked examples, tutorials and problem sets."
   ]
  },
  {
   "cell_type": "markdown",
   "metadata": {
    "slideshow": {
     "slide_type": "skip"
    }
   },
   "source": [
    "# Coupled Pendulums"
   ]
  },
  {
   "cell_type": "markdown",
   "metadata": {
    "slideshow": {
     "slide_type": "skip"
    }
   },
   "source": [
    "## Simple Pendulum\n",
    "\n",
    "You have seen in the first problem set that the equation of motion of one undamped pendulum of length $l$ is \n",
    "$$ \\ddot \\theta + \\omega_p^2\\theta = 0,$$ \n",
    "with $\\omega^2_p = g/l$ and $\\theta$ is the angle of the pendulum with respect to the direction of gravity (See King fig. 1.15)."
   ]
  },
  {
   "cell_type": "markdown",
   "metadata": {
    "slideshow": {
     "slide_type": "slide"
    }
   },
   "source": [
    "![Fig. 1: King 1.15](SimplePendulum.png)"
   ]
  },
  {
   "cell_type": "markdown",
   "metadata": {
    "slideshow": {
     "slide_type": "skip"
    }
   },
   "source": [
    "Let $x$ be the distance of the mass from the vertical axis (see King fig. 1.15).\n",
    "We have $x = l \\sin\\theta$.\n",
    "In order for the SHO model to be valid, we need the oscillations to remain small, i.e., $\\theta \\ll 1$ or $\\forall t,\\ x(t) \\ll l$.\n",
    "In this case, $\\sin\\theta \\approx \\theta$, meaning that an equivalent equation of motion for the mass is\n",
    "$$ \\ddot x + \\omega_p^2 x = 0. $$"
   ]
  },
  {
   "cell_type": "markdown",
   "metadata": {
    "slideshow": {
     "slide_type": "skip"
    }
   },
   "source": [
    "## Two Pendulums and a Spring\n",
    "\n",
    "### Qualitative considerations\n",
    "\n",
    "#### Setup\n",
    "\n",
    "Let me use the example of two pendulums of identical lengths $l$, at the end of which two identical masses $m$ hang.\n",
    "The masses are attached via a spring of stiffness $k$, as shown on King fig. 4.2. \n",
    "When the two masses are at rest, both pendulums are vertical, and the spring is neither stretched or compressed."
   ]
  },
  {
   "cell_type": "markdown",
   "metadata": {
    "slideshow": {
     "slide_type": "subslide"
    }
   },
   "source": [
    "![Fig. 2: King 4.2](CoupledPendula.png)"
   ]
  },
  {
   "cell_type": "markdown",
   "metadata": {
    "slideshow": {
     "slide_type": "skip"
    }
   },
   "source": [
    "Let's call $B$ the mass on the left, and $A$ the mass on the right.\n",
    "$x_A$ and $x_B$ are the horizontal distances of each mass from their respective rest positions."
   ]
  },
  {
   "cell_type": "markdown",
   "metadata": {
    "slideshow": {
     "slide_type": "skip"
    }
   },
   "source": [
    "I will show how a systematic mathematical treatment of the equations of motion reveals that there are two \"natural\", i.e., normal, modes of motion.\n",
    "But first, let me introduce them qualitatively."
   ]
  },
  {
   "cell_type": "markdown",
   "metadata": {
    "slideshow": {
     "slide_type": "skip"
    }
   },
   "source": [
    "#### Antisymmetric Normal Mode"
   ]
  },
  {
   "cell_type": "markdown",
   "metadata": {
    "slideshow": {
     "slide_type": "subslide"
    }
   },
   "source": [
    "![Fig. 3: the antisymmetric normal mode](pendulum_syn.gif)"
   ]
  },
  {
   "cell_type": "markdown",
   "metadata": {
    "slideshow": {
     "slide_type": "skip"
    }
   },
   "source": [
    "Imagine that at $t=0$, $x_{A0} = x_{B0} = A$, and both masses are held steady initially (no initial velocity).\n",
    "Since the motion of both masses is initialized in the same way, and both pendulums have the same natural frequency $g/l$, they would naturally oscillate in perfect sync, with same amplitude and in phase:\n",
    "$$ x_A(t) = x_B(t) = A\\cos(\\omega_1 t). $$"
   ]
  },
  {
   "cell_type": "markdown",
   "metadata": {
    "slideshow": {
     "slide_type": "skip"
    }
   },
   "source": [
    "The spring is neither stretched or compressed, and therefore plays no role in this motion.\n",
    "Here is why this mode of motion is what we call a normal mode:\n",
    "**all elements of the coupled system oscillate at the same frequency**, $\\omega_1 =\\omega_p$ here."
   ]
  },
  {
   "cell_type": "markdown",
   "metadata": {
    "slideshow": {
     "slide_type": "skip"
    }
   },
   "source": [
    "#### Symmetric Normal Mode"
   ]
  },
  {
   "cell_type": "markdown",
   "metadata": {
    "slideshow": {
     "slide_type": "fragment"
    }
   },
   "source": [
    "![Fig. 4: the symmetric normal mode](pendulum_asyn.gif)"
   ]
  },
  {
   "cell_type": "markdown",
   "metadata": {
    "slideshow": {
     "slide_type": "skip"
    }
   },
   "source": [
    "We can come up with another type of motion, for which each mass will oscillate sinusoidally with a well-defined frequency."
   ]
  },
  {
   "cell_type": "markdown",
   "metadata": {
    "slideshow": {
     "slide_type": "skip"
    }
   },
   "source": [
    "Our initial conditions are now $x_{A0} = -x_{B0} = A$, with zero initial velocity again. By symmetry, one can expect that the motion is now described by \n",
    "$$ x_A(t) = A\\cos(\\omega_2 t)\\quad\\textrm{and}\\quad x_{B}(t) = A\\cos(\\omega_2 t +\\pi). $$"
   ]
  },
  {
   "cell_type": "markdown",
   "metadata": {
    "slideshow": {
     "slide_type": "skip"
    }
   },
   "source": [
    "I.e., both positions will oscillate $\\pi$ rad (or 180$^\\circ$) out of phase, and with a single angular frequency $\\omega_2$.\n",
    "What $\\omega_2$ is, is not trivial at this point, because it will include effects due to both restoring forces, i.e., weight and the spring tension.\n",
    "I will derive it soon after, but at this point, I want you to remember that the type of motion is a normal mode because **both pendulums oscillate at the same frequency.**"
   ]
  },
  {
   "cell_type": "markdown",
   "metadata": {
    "slideshow": {
     "slide_type": "skip"
    }
   },
   "source": [
    "Could I find a third normal mode?\n",
    "The answer is no, because there are only two degrees of freedom (the positions of the masses).\n",
    "Is it obvious?\n",
    "Again, the answer is no.\n",
    "The definitive proof is a basic result of linear algebra.\n",
    "In this chapter, I will simply show that these forms of motion appear naturally out of the equations of motion, that no other normal mode is apparent, and that any other form of motion can be described as a linear combination of both forms of motion."
   ]
  },
  {
   "cell_type": "markdown",
   "metadata": {
    "slideshow": {
     "slide_type": "skip"
    }
   },
   "source": [
    "### Systematic Derivation"
   ]
  },
  {
   "cell_type": "markdown",
   "metadata": {
    "slideshow": {
     "slide_type": "subslide"
    }
   },
   "source": [
    "![Fig. 5: King 4.7: the general case](GeneralPendulums.png)"
   ]
  },
  {
   "cell_type": "markdown",
   "metadata": {
    "slideshow": {
     "slide_type": "skip"
    }
   },
   "source": [
    "#### Basic equations\n",
    "\n",
    "Let us now drop any symmetry assumption.\n",
    "The positions $x_A(t)$ and $x_B(t)$ are just what they are."
   ]
  },
  {
   "cell_type": "markdown",
   "metadata": {
    "slideshow": {
     "slide_type": "skip"
    }
   },
   "source": [
    "Let us first focus on mass $A$.\n",
    "The weight of $A$ projected on the direction of the velocity is $F_{WA} = -mg x_A/l$ (see Problem Set 1).\n",
    "The force of the spring on the mass is $F_{s\\to A} = -k(x_A - x_B)$.\n",
    "Strictly speaking, this force is aligned with the direction of the spring, but if the angles of displacement are small, we can also say that its projection on the direction of the trajectory is the same."
   ]
  },
  {
   "cell_type": "markdown",
   "metadata": {
    "slideshow": {
     "slide_type": "skip"
    }
   },
   "source": [
    "Newton's 2$^{nd}$ law applied to the mass is therefore \n",
    "$$ m\\ddot x_A + \\frac{mg}{l}x_A + k(x_A - x_B) = 0,$$\n",
    "or, after division by $m$,\n",
    "$$ \\ddot x_A + \\omega_p^2 x_A + \\omega_s^2(x_A - x_B) = 0, \\hspace{5cm} (1) $$\n",
    "with $\\omega_s^2 = k/m$ (recall that $\\omega_p^2 = g/l$).\n",
    "\n",
    "The same reasoning with mass $B$ yields\n",
    "$$ \\ddot x_B + \\omega_p^2x_B + \\omega_s^2(x_B - x_A) = 0. \\hspace{5cm} (2) $$"
   ]
  },
  {
   "cell_type": "markdown",
   "metadata": {
    "slideshow": {
     "slide_type": "skip"
    }
   },
   "source": [
    "Both equations are almost the same, except for the terms that result from the spring tension, which couples the motion of both masses."
   ]
  },
  {
   "cell_type": "markdown",
   "metadata": {
    "slideshow": {
     "slide_type": "skip"
    }
   },
   "source": [
    "#### Change of variables"
   ]
  },
  {
   "cell_type": "markdown",
   "metadata": {
    "slideshow": {
     "slide_type": "skip"
    }
   },
   "source": [
    "It is not obvious at first, how to solve for $x_A$ and $x_B$ with this coupling term involved.\n",
    "The method we use is a **change of variables.**\n",
    "Define\n",
    "$$ q_1 = x_A + x_B \\and q_2 = x_A - x_B.$$"
   ]
  },
  {
   "cell_type": "markdown",
   "metadata": {
    "slideshow": {
     "slide_type": "skip"
    }
   },
   "source": [
    "One simple way to make them appear is to sum and subtract eqns. (1) and (2):\n",
    "\n",
    "* $(1) + (2) \\quad\\Rightarrow\\quad \\ddot q_1 + \\omega_1^2 q_1 = 0$."
   ]
  },
  {
   "cell_type": "markdown",
   "metadata": {
    "slideshow": {
     "slide_type": "skip"
    }
   },
   "source": [
    "This is the equation for an SHO of angular frequency $\\omega_1 = \\omega_p$.\n",
    "The antisymmetric mode of motion that I described earlier on was also oscillating at frequency $\\omega_p$, because the spring wasn't stretching or compressing, and the presence of said string was not modifying the pendulum natural frequency $\\omega_p$.\n",
    "And since it was characterized by $x_A(t) = x_B(t)$, it corresponded to $q_1 = 2x_A = 2x_B \\neq 0$ and $q_2 = 0$."
   ]
  },
  {
   "cell_type": "markdown",
   "metadata": {
    "slideshow": {
     "slide_type": "skip"
    }
   },
   "source": [
    "*Note: why do I feel the need to introduce $\\omega_1$ on top of $\\omega_p$? Because in general, no frequency of the normal modes is equal to one of the frequencies of the uncoupled oscillators. In this simple case, yes, but I do not want to give false impressions.*"
   ]
  },
  {
   "cell_type": "markdown",
   "metadata": {
    "slideshow": {
     "slide_type": "skip"
    }
   },
   "source": [
    "* $(1) - (2) \\quad\\Rightarrow\\quad \\ddot q_2 + \\omega_p^2 q_2 + 2\\omega_s^2 q_2 = 0.$\n",
    "\n",
    "Or, defining $\\omega_2^2 = \\omega_p^2 + 2\\omega_s^2$,\n",
    "$$ \\ddot q_2 + \\omega_2^2 q_2 = 0. $$\n",
    "Recall the symmetric oscillation mode: it was characterized by $x_A = -x_B$, and therefore $q_1 = 0$ and $q_2 = 2x_A = -2x_B \\neq 0.$\n",
    "I had also mentioned, back then, that $\\omega_2^2$ was not trivial, because it was a mix of the influences of gravity and spring tension.\n",
    "Indeed, here, $\\omega_2$ does contain both the influences of gravity (via $\\omega_p^2$) and spring tension (via $2\\omega_s^2$).\n",
    "Therefore, this mode corresponds to the symmetric mode of motion."
   ]
  },
  {
   "cell_type": "markdown",
   "metadata": {
    "slideshow": {
     "slide_type": "skip"
    }
   },
   "source": [
    "#### Comments (to be remembered!)"
   ]
  },
  {
   "cell_type": "markdown",
   "metadata": {
    "slideshow": {
     "slide_type": "skip"
    }
   },
   "source": [
    "* Modes of oscillations cannot be thought on as simple oscillations anymore, with one object or easily identifiable quantity such as electric current describing an oscillation. It is a **global** concept in which **all** components of one coupled system of oscillators oscillate in phase, at the same frequency, as if described by a (D)SHO model.\n",
    "* The oscillations of each individual component are not independent from each other, but **the modes are completely independent**: there is no trace of $q_1$ in the equation for $q_2$, and vice-versa. It means that if one initiates the coupled system in a funky way, and the coupled system does a weird dance of oscillations, the degree of complexity is actually finite: one mode has a certain amplitude and a certain phase, and the other mode has a certain amplitude, presumably different, and a certain phase shift with the first mode. The pattern of oscillations might look crazy, but there are only two modes, and they don't exchange energy from one to the other as long as the system is linear.\n",
    "* $q_1$ and $q_2$ are called the **normal coordinates**, or **eigencoordinates**, of the **normal modes**, or **eigenmodes**. Their respective **normal frequencies**, or **eigenfrequencies**, are $\\omega_1$ and $\\omega_2$."
   ]
  },
  {
   "cell_type": "markdown",
   "metadata": {
    "slideshow": {
     "slide_type": "skip"
    }
   },
   "source": [
    "It is as if there is a physical space, in which physical coordinates $x_A$ and $x_B$ exist, and a dual space, in which $q_1$ and $q_2$ exist.\n",
    "Both spaces describe the same physical reality, but because they don't describe it in the same way, the \"dual\" space may be more useful in some cases, including this one."
   ]
  },
  {
   "cell_type": "markdown",
   "metadata": {
    "slideshow": {
     "slide_type": "skip"
    }
   },
   "source": [
    "When you start studying Fourier series and later on Fourier analysis, you may call this dual space the \"Fourier\" space, or \"spectral\" space.\n",
    "It has nothing to do with Halloween, and everything to do with the fact that the visualization of the physical reality in this dual space is called a (Fourier) spectrum, which looks like the display on a sound equalizer (and it is not a coincidence).\n",
    "I may use the term \"Fourier\" inadvertently, by force of habit."
   ]
  },
  {
   "cell_type": "markdown",
   "metadata": {
    "slideshow": {
     "slide_type": "skip"
    }
   },
   "source": [
    "### More on the Independence of the Modes"
   ]
  },
  {
   "cell_type": "markdown",
   "metadata": {
    "slideshow": {
     "slide_type": "skip"
    }
   },
   "source": [
    "A bit more algebra, because I want to drive home the fact that the two modes are independent.\n",
    "If the coupled system is initiated somewhat randomly, both modes of oscillation will coexist.\n",
    "They both are solutions of two different SHO equations, and their expressions are therefore\n",
    "$$q_1 = C_1\\cos(\\omega_1 t + \\phi_1)\\and q_2 = C_2\\cos(\\omega_2 t + \\phi_2).$$"
   ]
  },
  {
   "cell_type": "markdown",
   "metadata": {
    "slideshow": {
     "slide_type": "skip"
    }
   },
   "source": [
    "In physical coordinates, this translates into\n",
    "$$ x_A = \\frac{q_1 + q_2}2 = \\frac12\\left[C_1\\cos(\\omega_1 t + \\phi_1) + C_2\\cos(\\omega_2 t + \\phi_2) \\right],$$\n",
    "$$ x_B = \\frac{q_1 - q_2}2 = \\frac12\\left[C_1\\cos(\\omega_1 t + \\phi_1) - C_2\\cos(\\omega_2 t + \\phi_2) \\right].$$"
   ]
  },
  {
   "cell_type": "markdown",
   "metadata": {
    "slideshow": {
     "slide_type": "skip"
    }
   },
   "source": [
    "Meaning that any motion can be considered a superposition of the two modes.\n",
    "For the motion of the antisymmetric mode, $C_2 = 0$, for the symmetric mode, $C_1 = 0$, and in general, $C_1\\neq 0$ and $C_2\\neq 0$."
   ]
  },
  {
   "cell_type": "markdown",
   "metadata": {
    "slideshow": {
     "slide_type": "skip"
    }
   },
   "source": [
    "Here I show that the two modes each have a certain amount of energy, and that this energy does not get traded from one mode to the other.\n",
    "The kinetic energies of $A$ and $B$ are \n",
    "$$ K_{A, B} = \\frac12 m(\\dot x_{A, B})^2, $$\n",
    "their gravitational potential energies are\n",
    "$$ U^{(g)}_{A, B} = \\frac12\\frac{mgx_{A, B}^2}{l} = \\frac12 m\\omega_p^2 x_{A, B}^2 \\quad\\textrm{(see PS1 or King § 1.3.2)}, $$"
   ]
  },
  {
   "cell_type": "markdown",
   "metadata": {
    "slideshow": {
     "slide_type": "skip"
    }
   },
   "source": [
    "and the potential energy stored in the spring is\n",
    "$$ U^{(s)}  = \\frac12 k (x_A - x_B)^2 = \\frac12 m\\omega_s^2 (x_A - x_B)^2.$$ "
   ]
  },
  {
   "cell_type": "markdown",
   "metadata": {
    "slideshow": {
     "slide_type": "skip"
    }
   },
   "source": [
    "The total energy stored in the coupled system is therefore\n",
    "\\begin{align*}\n",
    "    E & = K_A + K_B + U^{(g)}_A + U^{(g)}_B + U^{(s)}, \\\\ \n",
    "      & = \\frac m2\\left\\{(\\dot x_A)^2 + (\\dot x_B)^2 + \\omega_p^2 \\left[x_A^2 + x_B^2\\right] + \\omega_s^2 (x_A - x_B)^2\\right\\}, \\\\\n",
    "      & = E_1 + E_2,\n",
    "\\end{align*}\n",
    "with \n",
    "$$ E_1 = \\frac14 m \\left[(\\dot q_1)^2 + \\omega_1^2 q_1^2\\right]\\and E_2 = \\frac14 m \\left[(\\dot q_2)^2 + \\omega_2^2 q_2^2\\right].$$\n",
    "(Recall that $\\omega_1^2 = \\omega_p^2$ and $\\omega_2^2 = \\omega_p^2 + 2\\omega_s^2$)"
   ]
  },
  {
   "cell_type": "markdown",
   "metadata": {
    "slideshow": {
     "slide_type": "skip"
    }
   },
   "source": [
    "As for the coordinates, each reservoir of energy, $E_1$ and $E_2$, is uncoupled from the other one: **there is no exchange of energy from one mode of motion to the other**.\n",
    "This is true for any system of coupled oscillators, as long as the linear model is valid."
   ]
  },
  {
   "cell_type": "markdown",
   "metadata": {
    "slideshow": {
     "slide_type": "skip"
    }
   },
   "source": [
    "# Beating Phenomenon"
   ]
  },
  {
   "cell_type": "markdown",
   "metadata": {
    "slideshow": {
     "slide_type": "skip"
    }
   },
   "source": [
    "When a coupled system contains two frequencies that are very close to each other, we observe what is called a beating phenomenon in physical space."
   ]
  },
  {
   "cell_type": "markdown",
   "metadata": {
    "slideshow": {
     "slide_type": "skip"
    }
   },
   "source": [
    "Take the solutions we derived earlier in physical space, but let us assume that $\\phi_1 = \\phi_2 = 0$.\n",
    "It can be physically realized by choosing initial conditions appropriately.\n",
    "But more importantly, the phase shifts won't fundamentally change what I am about to describe, so might as well choose easy ones.\n",
    "$$ x_A = \\frac12\\left[C_1\\cos(\\omega_1 t) + C_2\\cos(\\omega_2 t) \\right],$$\n",
    "$$ x_B = \\frac12\\left[C_1\\cos(\\omega_1 t) - C_2\\cos(\\omega_2 t) \\right].$$"
   ]
  },
  {
   "cell_type": "markdown",
   "metadata": {
    "slideshow": {
     "slide_type": "skip"
    }
   },
   "source": [
    "Let us also consider the case $C_1 = C_2 = C$, because it is the simplest case that can illustrate the beating phenomenon:\n",
    "\n",
    "$$ x_A = \\frac C2\\left[\\cos(\\omega_1 t) + \\cos(\\omega_2 t) \\right] = C\\cos\\left(\\frac{\\omega_1 + \\omega_2}2 t\\right)\\cos\\left(\\frac{\\omega_2 - \\omega_1}2 t\\right),$$\n",
    "$$ x_B = \\frac C2\\left[\\cos(\\omega_1 t) - \\cos(\\omega_2 t) \\right] = C\\sin\\left(\\frac{\\omega_1 + \\omega_2}2 t\\right)\\sin\\left(\\frac{\\omega_2 - \\omega_1}2 t\\right).$$"
   ]
  },
  {
   "cell_type": "markdown",
   "metadata": {
    "slideshow": {
     "slide_type": "subslide"
    }
   },
   "source": [
    "***\n",
    "\n",
    "This went fast, let me do it more slowly.\n",
    "A bit of trigonometry:\n",
    "recall that \n",
    "$$\\cos(a+b) = \\cos a \\cos b - \\sin a \\sin b$$\n",
    "and \n",
    "$$\\cos(a-b) = \\cos a \\cos b + \\sin a \\sin b.$$\n",
    "Sum those two and you get:\n",
    "$$ \\cos(a-b) + \\cos(a+b) = 2\\cos a\\cos b . $$\n",
    "Subtract them and you obtain\n",
    "$$ \\cos(a-b) - \\cos(a+b) = 2\\sin a\\sin b. $$\n",
    "\n",
    "Now, consider \n",
    "$$a - b = \\omega_1 t \\and a + b = \\omega_2 t $$\n",
    "$$\\thrfor a = \\frac{\\omega_1 + \\omega_2}2 t \\and b = \\frac{\\omega_2 - \\omega_1}2 t. $$\n",
    "\n",
    "Using these formulas yields the result.\n",
    "\n",
    "***"
   ]
  },
  {
   "cell_type": "markdown",
   "metadata": {
    "slideshow": {
     "slide_type": "skip"
    }
   },
   "source": [
    "Or, if we define $\\Delta\\omega = (\\omega_2 - \\omega_1)/2$ and $\\Omega = (\\omega_1 + \\omega_2)/2$,\n",
    "$$ x_A = C\\cos\\left(\\Omega t\\right)\\cos\\left(\\Delta\\omega t\\right),$$\n",
    "$$ x_B = C\\sin\\left(\\Omega t\\right)\\sin\\left(\\Delta\\omega t\\right).$$"
   ]
  },
  {
   "cell_type": "markdown",
   "metadata": {
    "slideshow": {
     "slide_type": "skip"
    }
   },
   "source": [
    "Now, what if $\\Delta\\omega \\ll \\omega_1$, $\\omega_2$ or $\\Omega$? Then, \n",
    "$$ x_A \\approx C\\cos\\left(\\omega_1 t\\right)\\cos\\left(\\Delta\\omega t\\right),$$\n",
    "$$ x_B \\approx C\\sin\\left(\\omega_1 t\\right)\\sin\\left(\\Delta\\omega t\\right).$$"
   ]
  },
  {
   "cell_type": "markdown",
   "metadata": {
    "slideshow": {
     "slide_type": "skip"
    }
   },
   "source": [
    "Because $\\Delta\\omega \\ll \\omega_1$, the curves look like an oscillation, oscillating at frequency $\\omega_1$, constrained by a sinusoidal envelope of frequency $\\Delta\\omega$ with a much longer period than that of the fast oscillation (see figs. 6 & 7)."
   ]
  },
  {
   "cell_type": "code",
   "execution_count": null,
   "metadata": {
    "slideshow": {
     "slide_type": "skip"
    }
   },
   "outputs": [],
   "source": [
    "import numpy as np\n",
    "import matplotlib.pyplot as plt\n",
    "from matplotlib import interactive\n",
    "interactive(False)\n",
    "\n",
    "def plot_beating(k, l):\n",
    "    \"\"\" This function creates two oscillations, and plots each of them\n",
    "    separately as well as a superposition of\n",
    "    INPUT:\n",
    "    l is the length of the pendulums, increasing it increases periods\n",
    "    k is the stiffness of he spring. Increasing it increases the difference\n",
    "        between the two frequencies. \"\"\"\n",
    "    # basic quantities\n",
    "    # k = 0.5  # spring stiffness [N/m]\n",
    "    m = 0.4  # mass [kg]\n",
    "    g = 9.81  # gravitational acceleration [m/s2]\n",
    "    # l = .5  # lengths of pendulums  [m]\n",
    "    C = 1.e-1  # amplitude of motion [m]\n",
    "    ftsz = 13  # font size on plots\n",
    "    t_end = 60.\n",
    "\n",
    "    # derived quantities\n",
    "    t = np.linspace(0., t_end, 2048)\n",
    "    omega_p = np.sqrt(g/l)  # natural frequency of uncoupled pendulum\n",
    "    omega_s = np.sqrt(k/m)  # natural frequency of spring\n",
    "\n",
    "    omega_1 = omega_p  # 1st eigenfrequency\n",
    "    omega_2 = np.sqrt(omega_p**2 + 2.*omega_s**2)  # 2nd eigenfrequency\n",
    "\n",
    "    xA = 0.5*C*(np.cos(omega_1*t) + np.cos(omega_2*t))  # position of A\n",
    "\n",
    "    Domega = 0.5*(omega_2 - omega_1)  # Delta omega\n",
    "    envelope = C*np.cos(Domega*t)\n",
    "\n",
    "    # 1st plot: each mode individually\n",
    "    plt.figure(figsize=(6, 4), dpi=100)\n",
    "    plt.subplot(311)\n",
    "    ax1 = plt.gca()\n",
    "    #ax1.axvline(0., color='k')\n",
    "    ax1.plot(t, 0.5*C*np.cos(omega_1*t), 'b')\n",
    "    ax1.set_xlim([0., t_end])\n",
    "    ax1.set_ylim([-0.05, 0.05])\n",
    "    ax1.set_ylabel('$C\\,\\cos(\\omega_1 t)/2$', fontsize=ftsz)\n",
    "    ax1.grid()\n",
    "\n",
    "    plt.subplot(312, sharex=ax1, sharey=ax1)\n",
    "    ax2 = plt.gca()\n",
    "    #ax2.axvline(0., color='k')\n",
    "    ax2.plot(t, 0.5*C*np.cos(omega_2*t), 'b')\n",
    "    ax2.set_ylabel('$C\\,\\cos(\\omega_2 t)/2$', fontsize=ftsz)\n",
    "    ax2.grid()\n",
    "\n",
    "    plt.subplot(313, sharex=ax1, sharey=ax1)\n",
    "    ax3 = plt.gca()\n",
    "    #ax2.axvline(0., color='k')\n",
    "    ax3.plot(t, 0.5*C*np.cos(omega_1*t), 'r', label='$C\\,\\cos(\\omega_1 t)/2$')\n",
    "    ax3.plot(t, 0.5*C*np.cos(omega_2*t), 'b--', label='$C\\,\\cos(\\omega_2 t)/2$')\n",
    "    ax3.set_ylabel('Both', fontsize=ftsz)\n",
    "    ax3.set_xlabel('time [s]', fontsize=ftsz)\n",
    "    ax3.legend()\n",
    "    ax3.grid()\n",
    "\n",
    "    # make these tick labels invisible\n",
    "    plt.setp(ax2.get_xticklabels(), visible=False)\n",
    "    plt.setp(ax1.get_xticklabels(), visible=False)\n",
    "    plt.tight_layout()\n",
    "    plt.autoscale(enable=True, axis='x', tight=True)\n",
    "    plt.savefig('BeatingIndividual.png')\n",
    "    # plt.close()\n",
    "\n",
    "    # 2nd plot: adding the two, the beating phenomenon\n",
    "    plt.figure(figsize=(6, 4), dpi=100)\n",
    "    ax = plt.gca()\n",
    "    ax.axvline(0., color='k')\n",
    "    ax.plot(t, xA, 'b', label='$x_A(t)$')\n",
    "    ax.plot(t, envelope, 'r-.', label='$C\\,\\cos(\\Delta\\omega t)$')\n",
    "    ax.plot(t, -envelope, 'r--', label='$-C\\,\\cos(\\Delta\\omega t)$')\n",
    "    ax.set_ylim([-0.14, 0.16])\n",
    "    ax.set_xlabel('time [s]', fontsize=ftsz)\n",
    "    ax.set_ylabel('position [m]', fontsize=ftsz)\n",
    "    ax.grid()\n",
    "    ax.legend()\n",
    "\n",
    "    # annotation to highlight the envelope period\n",
    "    T = 2*np.pi/Domega\n",
    "    ax.axvline(T/4, color='k', linestyle='-.')  # the t=T/2 mark\n",
    "    ax.axvline(5*T/4, color='k', linestyle='-.')  # the t=3T/2 mark\n",
    "    ax.annotate(s='', xy=(T/4, -.12), xytext=(5*T/4, -0.12),\n",
    "                arrowprops=dict(arrowstyle='<|-|>'))  # the double arrow\n",
    "    ax.text(1.5*np.pi/Domega, -.12, r'$2\\pi/\\Delta\\omega$',\n",
    "            verticalalignment='center', horizontalalignment='center',\n",
    "            backgroundcolor='w', fontsize=ftsz)\n",
    "\n",
    "    # annotation to highlight the fast oscillation period\n",
    "    T = 4.*np.pi/(omega_2 + omega_1)\n",
    "    pp = 20.5\n",
    "    t1 = pp*T\n",
    "    t2 = (pp+1)*T\n",
    "    ax.plot([t1]*2, [-C*np.cos(Domega*t1), 0.13],\n",
    "            color='k')  # the fast period mark #1\n",
    "    ax.plot([t2]*2, [-C*np.cos(Domega*t2), 0.13],\n",
    "            color='k')  # the fast period mark #2\n",
    "    ax.annotate(s='', xy=(t1-0.2, .11), xytext=(t2+0.2, 0.11),\n",
    "                arrowprops=dict(arrowstyle='<|-|>'))  # the double arrow\n",
    "    ax.text((t1+t2)/2, 0.135, r'$2\\pi/\\Omega$',\n",
    "            verticalalignment='center', horizontalalignment='center',\n",
    "            backgroundcolor='w', fontsize=ftsz)\n",
    "    plt.tight_layout()\n",
    "    plt.autoscale(enable=True, axis='x', tight=True)\n",
    "    plt.savefig('Beating.png')\n",
    "    # plt.close()"
   ]
  },
  {
   "cell_type": "code",
   "execution_count": null,
   "metadata": {
    "scrolled": false,
    "slideshow": {
     "slide_type": "skip"
    }
   },
   "outputs": [],
   "source": [
    "plot_beating(k=0.5, l=0.5)  # for pdf export"
   ]
  },
  {
   "cell_type": "markdown",
   "metadata": {
    "slideshow": {
     "slide_type": "skip"
    }
   },
   "source": [
    "*Below, on the Jupyter notebook, you can interactively increase the values of $\\ell$ to decrease the frequency of both modes, and increase $k$ to increase the difference between the two normal frequencies. You should see that as you increase $k$, the beating phenomenon becomes less and less visible. By that I mean that you will still see beats, but they will be less long, the \"bursts\" will become closer and closer and the phases when you see an oscillation and phases when you don't will become less cleanly separated. You may want to increase $\\ell$ just to make the phenomena better visible.*"
   ]
  },
  {
   "cell_type": "code",
   "execution_count": null,
   "metadata": {
    "slideshow": {
     "slide_type": "skip"
    }
   },
   "outputs": [],
   "source": [
    "from ipywidgets import interact, FloatSlider"
   ]
  },
  {
   "cell_type": "code",
   "execution_count": null,
   "metadata": {
    "slideshow": {
     "slide_type": "subslide"
    }
   },
   "outputs": [],
   "source": [
    "interact(plot_beating, k=FloatSlider(min=0.5, max=3., step=.1, value=.5), l=FloatSlider(min=0.5, max=2.5, step=.1, value=.5))"
   ]
  },
  {
   "cell_type": "markdown",
   "metadata": {
    "slideshow": {
     "slide_type": "skip"
    }
   },
   "source": [
    "***\n",
    "\n",
    "*End of 09/23 lecture, beginning of 09/24 lecture.*\n",
    "\n",
    "***"
   ]
  },
  {
   "cell_type": "markdown",
   "metadata": {
    "slideshow": {
     "slide_type": "skip"
    }
   },
   "source": [
    "***\n",
    "\n",
    "**Worked example: King p. 84.**\n",
    "\n",
    "***\n",
    "\n",
    "*Beyond this point, I will not follow King's book closely. You might notice that in his preface, he mentions that his book is designed for a first-year class, for which eigenvalues and eigenvectors would be too advanced a topic. It is our strong opinion (all the instructors involved in PHY293 and 294) that we need to cover this topic in this second-year class, because it is foundational for a lot of other topics that will be tackled in the rest of PHY293-4. If you want a book for help, I can recommend John R. Taylor's \"Classical Mechanics\" (University Science Books), chapter 11, which I am loosely following.*\n",
    "\n",
    "***"
   ]
  },
  {
   "cell_type": "markdown",
   "metadata": {
    "slideshow": {
     "slide_type": "skip"
    }
   },
   "source": [
    "# General Solution Method"
   ]
  },
  {
   "cell_type": "markdown",
   "metadata": {
    "slideshow": {
     "slide_type": "skip"
    }
   },
   "source": [
    "In the previous case, we had only two coupled oscillators, which meant, two degrees of freedom (two normal coordinates).\n",
    "It was simple enough that we could solve it \"by hand\", by defining simple normal coordinates, and adding and subtracting the equations of motion."
   ]
  },
  {
   "cell_type": "markdown",
   "metadata": {
    "slideshow": {
     "slide_type": "skip"
    }
   },
   "source": [
    "But as with all things in linear algebra, difficulty increases rapidly with every equation that we add.\n",
    "For example, what if we coupled 5 oscillators?\n",
    "Not to mention the infinity of oscillators that approximate a continuous medium.\n",
    "We need the systematic and powerful approaches that are offered by linear algebra.\n",
    "And in particular, we will eventually need to use the eigenvector/eigenvalue formalism, which many of you find difficult.\n",
    "It is, however, a necessary step, and a key aspect of the theory of waves and oscillations.\n",
    "So, even though I will have to keep it in mind, my best piece of advice is to brace yourselves."
   ]
  },
  {
   "cell_type": "markdown",
   "metadata": {
    "slideshow": {
     "slide_type": "skip"
    }
   },
   "source": [
    "***\n",
    "\n",
    "*I will not cover the discussion that follows in class. Reading it may help you understand why and how everything works, but it is beyond what it traditionally expected from 2nd year students.*\n",
    "\n",
    "## *Results from Linear Algebra*"
   ]
  },
  {
   "cell_type": "markdown",
   "metadata": {
    "slideshow": {
     "slide_type": "skip"
    }
   },
   "source": [
    "### *General results*\n",
    "\n",
    "*Linear algebra can be messy, especially when it comes to whether a matrix is diagonalizable or not. \n",
    "Fortunately for us, I will only use a few of the most basic results of linear algebra.*"
   ]
  },
  {
   "cell_type": "markdown",
   "metadata": {
    "slideshow": {
     "slide_type": "slide"
    }
   },
   "source": [
    "1. *Finding the eigenvectors and eigenvalues of an $n\\times n$ matrix $A$ means finding the vectors $\\vec V$ and scalars $\\lambda$ such that:\n",
    "    $$ A \\vec V = \\lambda \\vec V, \\oreq (A - \\lambda I)\\vec V = 0.\\hspace{5cm}(3)$$*\n",
    "2. *Equation (3) has non-trivial (i.e., non-identically zero, i.e., oscillations with non-zero amplitudes in our case) solutions for $\\vec V$ if and only if\n",
    "    $$ \\det(A - \\lambda I_n) = 0,\\hspace{8cm}(4) $$\n",
    "    with $I_n$ the $n\\times n$ identity matrix.\n",
    "    The determinant of a matrix is a scalar. Here, it is a polynomial in $\\lambda$. It is called the characteristic polynomial, and its roots are the eigenvalues.*\n",
    "3. *If there is a number $n$ of eigenvalues $\\lambda$ that are all distinct from each other, then the matrix is diagonalizable, and the set of the corresponding eigenvectors forms a basis for the space of solutions. In other words, if $\\vec V_i$, $i \\in \\{1\\dots{} n\\}$ is the complete set of eigenvectors, then any linear combination of them,* \n",
    "    $$\\sum_{i=1}^n a_i \\vec V_i = \\vec X$$\n",
    "    *is a solution as well. In all our cases, $a_n \\in \\mathbb R$. Note that with damping, we could have $a_n \\in \\mathbb C$.*\n",
    "    *Furthermore, is $\\vec X$ is a solution of eqn. $(3)$, then it can be decomposed as a linear combination of eigenvectors,*\n",
    "    $$\\vec X = \\sum_{i=1}^n a_i \\vec V_i,$$\n",
    "    *and this decomposition is unique.*\n",
    "    *Note: this condition is sufficient, not necessary. Namely, the converse is not true, and a matrix needs not have all* $n$ *eigenvalues distinct from each other to be diagonalizable. But in our cases, they will be, so let's enjoy it.*"
   ]
  },
  {
   "cell_type": "markdown",
   "metadata": {
    "slideshow": {
     "slide_type": "skip"
    }
   },
   "source": [
    "### *How does this translate into our results?*\n",
    "\n",
    "* *First of all, we will have $n = 2$ for two oscillators;*\n",
    "* *the eigenvectors $\\vec V_i$ will have some connection to our normal modes 1 and 2;*\n",
    "* *the eigenvalues $\\lambda_i$ will have some connection to $\\omega_{1,2}^2$ (they will be the same actually);*\n",
    "* *the eigenvectors, in the abstract case, form a basis of the space of solutions. This is a mathematical manifestation of the fact that any motion of the two masses can be decomposed as the linear combination of two modes, as we saw in the previous section;*\n",
    "* *solving $\\det(A - \\lambda I_2) = 0$ for $\\lambda$ shows the way for solving coupled systems of oscillators systematically. Finding the roots of the polynomial, however messy it might become, will give us $\\omega_1$ and $\\omega_2$. Once we have them, substitution into the original eqn. (3) will give us $\\vec V_1$ and $\\vec V_2$.*"
   ]
  },
  {
   "cell_type": "markdown",
   "metadata": {
    "slideshow": {
     "slide_type": "skip"
    }
   },
   "source": [
    "*The math will become super messy, but the procedure is well-defined, and easy to make systematic.*\n",
    "\n",
    "*Resuming the normal course of operations.*\n",
    "\n",
    "***"
   ]
  },
  {
   "cell_type": "markdown",
   "metadata": {
    "slideshow": {
     "slide_type": "skip"
    }
   },
   "source": [
    "## Coupled pendulums"
   ]
  },
  {
   "cell_type": "markdown",
   "metadata": {
    "slideshow": {
     "slide_type": "skip"
    }
   },
   "source": [
    "As an illustration of how powerful such an approach is, let me add the extra complexity that the two masses are different, and equal to $m_A$ and $m_B$.\n",
    "I hope to convince you that while it would have made it difficult in our previous approach, it does not represent any extra difficulty with the eigenvector method."
   ]
  },
  {
   "cell_type": "markdown",
   "metadata": {
    "slideshow": {
     "slide_type": "skip"
    }
   },
   "source": [
    "The equations are therefore\n",
    "$$ m_A\\ddot x_A + \\frac{m_A g}{l} x_A + k(x_A - x_B) = 0, \\hspace{5cm}(5)$$\n",
    "$$ m_B\\ddot x_B + \\frac{m_B g}{l} x_B - k(x_A - x_B) = 0, \\hspace{5cm}(6)$$"
   ]
  },
  {
   "cell_type": "markdown",
   "metadata": {
    "slideshow": {
     "slide_type": "skip"
    }
   },
   "source": [
    "Now, define a vector\n",
    "$$\n",
    "\\vec X = \n",
    "\\begin{bmatrix}\n",
    "    x_A \\\\ \n",
    "    x_B,\n",
    "\\end{bmatrix}$$\n",
    "and two matrices\n",
    "$$\n",
    "M = \n",
    "\\begin{bmatrix}\n",
    "    m_A & 0 \\\\ \n",
    "    0 & m_B\n",
    "\\end{bmatrix}\n",
    "\\and\n",
    "K = \n",
    "\\begin{bmatrix}\n",
    "     \\frac{m_A g}l + k & -k \\\\\n",
    "     -k & \\frac{m_B g}l + k\n",
    "\\end{bmatrix}.$$"
   ]
  },
  {
   "cell_type": "markdown",
   "metadata": {
    "slideshow": {
     "slide_type": "skip"
    }
   },
   "source": [
    "You can check that\n",
    "$$ M\\ddot{\\vec X} + K \\vec X = \n",
    "\\begin{bmatrix}\n",
    "    m_A\\ddot x_A + \\frac{m_A g}{l} x_A + k(x_A - x_B) \\\\\n",
    "    m_B\\ddot x_B + \\frac{m_B g}{l} x_B - k(x_A - x_B)\n",
    "\\end{bmatrix}\n",
    "= \n",
    "\\begin{bmatrix}\n",
    "    0 \\\\\n",
    "    0\n",
    "\\end{bmatrix},$$\n",
    "or, more simply, that \n",
    "$$\\boxed{ M\\ddot{\\vec X} + K \\vec X = 0. }$$"
   ]
  },
  {
   "cell_type": "markdown",
   "metadata": {
    "slideshow": {
     "slide_type": "skip"
    }
   },
   "source": [
    "This is our new equation of motion.\n",
    "It strongly resembles the SHO equation, and its resolution does involve the same steps:\n",
    "\n",
    "1. assume $\\vec X = \\vec A \\cos(\\omega t + \\phi)$,\n",
    "2. substitute in the EOM and solve for $\\omega$,\n",
    "3. use initial conditions to solve for $\\vec A$ and $\\phi$."
   ]
  },
  {
   "cell_type": "markdown",
   "metadata": {
    "slideshow": {
     "slide_type": "skip"
    }
   },
   "source": [
    "### The first step...\n",
    "... implies that $\\ddot{\\vec X} = -\\omega^2 \\vec X$.\n",
    "Moreover, $M\\ddot{\\vec X} = M(-\\omega^2 \\vec X) = -\\omega^2M \\vec X$ because the algebra is linear."
   ]
  },
  {
   "cell_type": "markdown",
   "metadata": {
    "slideshow": {
     "slide_type": "skip"
    }
   },
   "source": [
    "### For the second step (solving for $\\omega$),\n",
    "$$M\\ddot{\\vec X} + K \\vec X = -\\omega^2 M \\vec X + K\\vec X = \\boxed{\\left(K -\\omega^2 M\\right)\\vec X = 0.} \\hspace{4cm} (7) $$"
   ]
  },
  {
   "cell_type": "markdown",
   "metadata": {
    "slideshow": {
     "slide_type": "skip"
    }
   },
   "source": [
    "Let me recall one of the most important results of linear algebra: **A matrix equation** $\\bs{\\textsf{R}V = 0}$ **has non-trivial (i.e., non-identically zero) solutions if and only if** $\\bs{\\det[\\textsf{R}] =0}$, as I stated in a different form around eqn. (4).\n",
    "Physically, trivial solutions are zero-amplitude oscillations of each mass position or of each mode.\n",
    "Trivially speaking, it is nothing."
   ]
  },
  {
   "cell_type": "markdown",
   "metadata": {
    "slideshow": {
     "slide_type": "skip"
    }
   },
   "source": [
    "The matrices $M$ and $K$ both contain elements that are determined by the physics of the system: masses stiffness, length of pendulum and gravitational acceleration.\n",
    "The only parameter that can be varied is therefore $\\omega$, and it is $\\omega$ we are solving for."
   ]
  },
  {
   "cell_type": "markdown",
   "metadata": {
    "slideshow": {
     "slide_type": "skip"
    }
   },
   "source": [
    "Mathematically, this step corresponds to finding the **eigenvalues** of eqn. $(7)$.\n",
    "It looks different from eqn. $(3)$ though.\n",
    "However, we can cast our equation in this form very easily by multiplying it by \n",
    "$$ M^{-1} = \n",
    "\\begin{bmatrix}\n",
    "    1/m_A & 0 \\\\\n",
    "    0 & 1/m_B\n",
    "\\end{bmatrix},\n",
    "$$\n",
    "i.e.,\n",
    "$$\n",
    "M^{-1}K \\vec X = \\omega^2 \\vec X,\n",
    "$$\n",
    "which looks like a standard eigenvalue problem. The two ways of writing it are strictly equivalent, the form above would appear if I divided eqns. $(5)$ and $(6)$ by $m_A$ and $m_B$, respectively."
   ]
  },
  {
   "cell_type": "markdown",
   "metadata": {
    "slideshow": {
     "slide_type": "skip"
    }
   },
   "source": [
    "We will also need the following formula:\n",
    "$$\\boxed{ \\det\\left(\n",
    "\\begin{bmatrix}\n",
    "    a & b \\\\\n",
    "    c & d\n",
    "\\end{bmatrix}\n",
    "\\right) = ad - bc} \\quad\\textrm{(which I expect you to remember!!!)}.$$"
   ]
  },
  {
   "cell_type": "markdown",
   "metadata": {
    "slideshow": {
     "slide_type": "skip"
    }
   },
   "source": [
    "I am going to do it by hand once, but the real advantage to this method is that it is fairly easy to ask a symbolic calculator or symbolic math software to solve for it. I will do it later, but for now, it is instructional to do it by hand."
   ]
  },
  {
   "cell_type": "markdown",
   "metadata": {
    "slideshow": {
     "slide_type": "skip"
    }
   },
   "source": [
    "Here we go:\n",
    "\\begin{align*}\n",
    "    0 = \\det(K - \\omega^2 M) & = \\det\\left(\n",
    "                                \\begin{bmatrix}\n",
    "                                    \\frac{m_A g}l + k - \\omega^2 m_A & -k \\\\\n",
    "                                    -k & \\frac{m_B g}l + k - \\omega^2 m_B\n",
    "                                \\end{bmatrix}\\right) \\\\\n",
    "                         & = \\left(\\frac{m_A g}l + k - \\omega^2 m_A\\right)\\left(\\frac{m_B g}l + k - \\omega^2 m_B\\right) - k^2 \\\\\n",
    "                         & = m_A m_B \\left[\\left(\\omega_p^2 + \\omega_{sA}^2 - \\omega^2 \\right)\\left(\\omega_p^2 + \\omega_{sB}^2 - \\omega^2\\right) - \\omega_{sA}^2\\omega_{sB}^2\\right],\n",
    "\\end{align*}"
   ]
  },
  {
   "cell_type": "markdown",
   "metadata": {
    "slideshow": {
     "slide_type": "skip"
    }
   },
   "source": [
    "with $\\omega_p^2 = g/l$, $\\omega_{sA}^2 = k/m_A$ and $\\omega_{sB}^2 = k/m_B$.\n",
    "It is a second-degree polynomial in $\\omega^2$, which is not technically hard to solve, but this is a lot of symbols to keep track of."
   ]
  },
  {
   "cell_type": "markdown",
   "metadata": {
    "slideshow": {
     "slide_type": "skip"
    }
   },
   "source": [
    "Let us define $\\Omega^2 = \\omega_p^2 + \\omega_A^2 + \\omega_B^2$.\n",
    "If $m_A = m_B$, then $\\omega_{sA}^2 = \\omega_{sB}^2 = \\omega_s^2$ and $\\Omega^2 = \\omega_p^2 + 2\\omega_s^2 = \\omega_2^2$, which is a good sign.\n",
    "Let's plug $\\Omega^2$ in the last line of the set of equations above (and remember that is has to be equal to zero):\n",
    "$$\\omega_p^2\\Omega^2 - \\omega^2 \\left(\\omega_p^2 + \\Omega^2\\right) + \\omega^4 = 0. $$"
   ]
  },
  {
   "cell_type": "markdown",
   "metadata": {
    "slideshow": {
     "slide_type": "skip"
    }
   },
   "source": [
    "The determinant of this polynomial is\n",
    "$$ \\Delta = \\left(\\omega_p^2 + \\Omega^2\\right)^2 - 4 \\omega_p^2\\Omega^2 = \\left(\\omega_p^2 - \\Omega^2\\right)^2 $$\n",
    "and its roots are\n",
    "\\begin{align*}\n",
    "    \\omega_1'^2 & = \\frac{\\omega_p^2 + \\Omega^2 - \\Omega^2 + \\omega_p^2}{2} = \\omega_p^2 \\\\\n",
    "    \\omega_2'^2 & = \\frac{\\omega_p^2 + \\Omega^2 + \\Omega^2 - \\omega_p^2}{2} = \\Omega^2 = \\omega_p^2 + \\omega_{sA}^2 + \\omega_{sB}^2.\n",
    "\\end{align*}"
   ]
  },
  {
   "cell_type": "markdown",
   "metadata": {
    "slideshow": {
     "slide_type": "skip"
    }
   },
   "source": [
    "You may notice that $\\omega_1'^2 = \\omega_1^2$ of the previous case, and that if $m_A = m_B = m$, then $\\omega_2'^2 = \\omega_2^2$.\n",
    "These are our two eigenfrequencies!"
   ]
  },
  {
   "cell_type": "markdown",
   "metadata": {
    "slideshow": {
     "slide_type": "skip"
    }
   },
   "source": [
    "Also, $\\omega_1'^2 \\neq \\omega_2'^2$. Therefore, based on the general results from linear algebra that I recalled earlier, we will have a basis of eigenvectors to decompose all our oscillations onto."
   ]
  },
  {
   "cell_type": "markdown",
   "metadata": {
    "slideshow": {
     "slide_type": "skip"
    }
   },
   "source": [
    "### The third step (solving for $\\vec A$ and $\\phi$)"
   ]
  },
  {
   "cell_type": "markdown",
   "metadata": {
    "slideshow": {
     "slide_type": "skip"
    }
   },
   "source": [
    "#### Polarization of the Eigenvectors\n",
    "\n",
    "We can actually separate $\\vec A$ into $C\\vec Y$, with $\\|\\vec Y\\| = 1$.\n",
    "This makes it easier in the sense that we separate the amplitude of the mode, its strength, or weight, if you will, which resides in $C$ and which is calculated with the knowledge of the initial condition, and $\\vec Y$, which is a feature of the matrix $K - \\omega^2 M$, or of the physical system, and does not depend on the initial conditions.\n",
    "However, requiring that $\\|\\vec Y\\| = 1$ is not required in order to solve a problem! I do it, but some textbooks might do it differently."
   ]
  },
  {
   "cell_type": "markdown",
   "metadata": {
    "slideshow": {
     "slide_type": "skip"
    }
   },
   "source": [
    "In this case,\n",
    "$$ (K - \\omega^2 M)\\vec X = 0 = C (K - \\omega^2 M)\\vec Y \\cos(\\omega t + \\phi) \\quad\\Leftrightarrow\\quad (K - \\omega^2 M)\\vec Y = 0. $$"
   ]
  },
  {
   "cell_type": "markdown",
   "metadata": {
    "slideshow": {
     "slide_type": "skip"
    }
   },
   "source": [
    "Let \n",
    "$$\\vec Y = \n",
    "\\begin{bmatrix}\n",
    "    a \\\\ \n",
    "    b\n",
    "\\end{bmatrix}.$$\n",
    "Looking for the relationship between $a$ and $b$ for a given mode is called looking for the polarization of that mode."
   ]
  },
  {
   "cell_type": "markdown",
   "metadata": {
    "slideshow": {
     "slide_type": "skip"
    }
   },
   "source": [
    "\\begin{align*} \n",
    "    (K - \\omega^2 M)\\vec Y & = \\begin{bmatrix}\n",
    "                                \\frac{m_A g}l + k - \\omega^2 m_A & -k \\\\\n",
    "                                -k & \\frac{m_B g}l + k - \\omega^2 m_B\n",
    "                            \\end{bmatrix}\n",
    "                            \\begin{bmatrix}\n",
    "                                a \\\\ \n",
    "                                b\n",
    "                            \\end{bmatrix} \\\\\n",
    "                           & = \\begin{bmatrix}\n",
    "                                \\left(\\frac{m_A g}l + k - \\omega^2 m_A\\right)a - kb \\\\ \n",
    "                                -ka + \\left(\\frac{m_B g}l + k - \\omega^2 m_B\\right)b\n",
    "                            \\end{bmatrix} \\\\\n",
    "                           & = \\begin{bmatrix}\n",
    "                                   m_A\\left[(\\omega_p^2 + \\omega_{sA}^2 - \\omega^2 )a - \\omega_{sA}^2 b \\right] \\\\ \n",
    "                                   m_B\\left[-\\omega_{sB}^2 a + (\\omega_p^2 + \\omega_{sB}^2 - \\omega^2 )b\\right]\n",
    "                               \\end{bmatrix} = 0 . \\hspace{3cm} (8).\n",
    "\\end{align*}"
   ]
  },
  {
   "cell_type": "markdown",
   "metadata": {
    "slideshow": {
     "slide_type": "skip"
    }
   },
   "source": [
    "* Case $\\omega^2 = \\omega_1^2 = \\omega_p^2$:\n",
    "$$ \\begin{bmatrix}\n",
    "        ka - kb \\\\ \n",
    "        -ka + kb\n",
    "   \\end{bmatrix} = 0 \\thrfor a = b.$$\n",
    "*(Notice how the two equations are redundant.)*\n",
    "Therefore, $a=b$, and since $\\|\\vec Y\\| = \\sqrt{a^2 + b^2} = 1$, $a = b= 1/\\sqrt{2}$.\n",
    "This is the antisymmetric mode.\n",
    "*Note: that the masses are different does not have an impact. This is because the frequency of oscillations of each pendulum does not depend on the mass, attached to each one. Therefore, in this mode, the spring is never stretched or compressed.*"
   ]
  },
  {
   "cell_type": "markdown",
   "metadata": {
    "slideshow": {
     "slide_type": "skip"
    }
   },
   "source": [
    "![Fig. 8: the antisymmetric normal mode](pendulum_syn.gif)"
   ]
  },
  {
   "cell_type": "markdown",
   "metadata": {
    "slideshow": {
     "slide_type": "skip"
    }
   },
   "source": [
    "* Case $\\omega^2 = \\omega_2^2 = \\omega_p^2 + \\omega_{sA}^2 + \\omega_{sB}^2$.\n",
    "I just use the first line in eqn. (8) because the second line is redundant again:\n",
    "$$ -\\omega_{sB}^2a - \\omega_{sA}^2 b = 0.$$\n",
    "Therefore, $\\omega_{sB} a = -\\omega_{sA}b$.\n",
    "We get it: if $m_A = m_B = m$, this would be the symmetric mode, with $a = 1/\\sqrt{2} = -b$.\n",
    "With $m_A \\neq m_B$, $a$ and $b$ are weighted by some coefficient, i.e., $a = \\omega_{sA}^2/\\sqrt{\\omega_{sA}^4 + \\omega_{sB}^4}$, and $b = -\\omega_{sB}^2/\\sqrt{\\omega_{sA}^4 + \\omega_{sB}^4}$."
   ]
  },
  {
   "cell_type": "markdown",
   "metadata": {
    "slideshow": {
     "slide_type": "skip"
    }
   },
   "source": [
    "![Fig. 9: the symmetric normal mode, in the case $m_A = m_B$.](pendulum_asyn.gif)"
   ]
  },
  {
   "cell_type": "markdown",
   "metadata": {
    "slideshow": {
     "slide_type": "skip"
    }
   },
   "source": [
    "***\n",
    "\n",
    "*End of 09/23 lecture, beginning of 09/27 lecture.*\n",
    "\n",
    "***"
   ]
  },
  {
   "cell_type": "markdown",
   "metadata": {
    "slideshow": {
     "slide_type": "skip"
    }
   },
   "source": [
    "#### Eigenvectors as a basis for all the solutions\n",
    "\n"
   ]
  },
  {
   "cell_type": "markdown",
   "metadata": {
    "slideshow": {
     "slide_type": "skip"
    }
   },
   "source": [
    "So far, the connection with general linear algebra results is the following.\n",
    "$\\vec Y_1$ and $\\vec Y_2$ are eigenvectors of the matrix problem, $\\omega_1'^2$ and $\\omega_2'^2$ the eigenvalues (or $\\omega_1'$ and $\\omega_2'$ the eigenfrequencies) and $\\vec X_1$ and $\\vec X_2$ are the eigenmodes of oscillation."
   ]
  },
  {
   "cell_type": "markdown",
   "metadata": {
    "slideshow": {
     "slide_type": "skip"
    }
   },
   "source": [
    "Based on the results from linear algebra that I recalled earlier, it means that all solutions can be written as a linear combination of these eigenmodes:\n",
    "$$ \\vec X = C_1 \\vec Y_1\\cos(\\omega_1 t + \\phi_1) + C_2 \\vec Y_2\\cos(\\omega_2 t + \\phi_2). $$"
   ]
  },
  {
   "cell_type": "markdown",
   "metadata": {
    "slideshow": {
     "slide_type": "skip"
    }
   },
   "source": [
    "#### Amplitudes ($C$) and phases ($\\phi$)."
   ]
  },
  {
   "cell_type": "markdown",
   "metadata": {
    "slideshow": {
     "slide_type": "skip"
    }
   },
   "source": [
    "As with every initial value problem, it can get messy.\n",
    "Let me just do the cases we investigated before, i.e., the worked problem on King p. 84.\n",
    "\n",
    "In all cases, it was assumed that the masses were released from rest.\n",
    "We could check that in this case, $\\phi_1 = \\phi_2 = 0$.\n",
    "It was also assumed that $m_A = m_B$.\n",
    "\n",
    "The first example was $x_A = x_B = A$, which meant that the antisymmetric mode was selected by the initial conditions.\n",
    "In vector form, this means\n",
    "$$\\vec X_0 = \\vec X(t=0) = \\begin{bmatrix}\n",
    "    x_A(t=0) \\\\ \n",
    "    x_B(t=0)\n",
    "\\end{bmatrix}\n",
    "= \\begin{bmatrix}\n",
    "    A \\\\ \n",
    "    A\n",
    "\\end{bmatrix} =  \\sqrt{2} A \\vec Y_1 + 0\\vec Y_2.$$\n",
    "Bam! No need to do any sort of math, we know right away that the symmetric mode is zero."
   ]
  },
  {
   "cell_type": "markdown",
   "metadata": {
    "slideshow": {
     "slide_type": "skip"
    }
   },
   "source": [
    "The second example was $x_A = -x_B = A$, which meant that the symmetric mode was selected by the initial conditions.\n",
    "In vector form, this means\n",
    "$$\\vec X_0 =\n",
    "\\begin{bmatrix}\n",
    "    A \\\\ \n",
    "    -A\n",
    "\\end{bmatrix} =  0\\vec Y_1 + \\sqrt{2}A\\vec Y_2.$$\n",
    "And again! We know right away that the antisymmetric mode is zero."
   ]
  },
  {
   "cell_type": "markdown",
   "metadata": {
    "slideshow": {
     "slide_type": "subslide"
    }
   },
   "source": [
    "### Numerical resolution"
   ]
  },
  {
   "cell_type": "markdown",
   "metadata": {
    "slideshow": {
     "slide_type": "skip"
    }
   },
   "source": [
    "This bit is outside of what is expected of you, and will only benefit to those who read the Jupyter notebooks. As a matter of fact, the pdf export of this part will not be intelligible, though I will try to do the demo in class, time permitting. In any case, it is hard to realize the potential of the eigenmode method without realizing how easy it is to implement it numerically, and how it is possible to scale the numbers of oscillators up from there.\n",
    "So, let's give it a go."
   ]
  },
  {
   "cell_type": "code",
   "execution_count": 81,
   "metadata": {
    "slideshow": {
     "slide_type": "-"
    }
   },
   "outputs": [],
   "source": [
    "from sympy import *  # here I import the entire symbolic math package\n",
    "init_printing(use_unicode=True)  # to print pretty"
   ]
  },
  {
   "cell_type": "code",
   "execution_count": 82,
   "metadata": {
    "slideshow": {
     "slide_type": "fragment"
    }
   },
   "outputs": [],
   "source": [
    "# we need to declare some symbolic quantities\n",
    "# omega_sA, omega_p, omega = symbols('omega_sA, omega_p, omega', real=True)\n",
    "g, l = symbols('g, l', real=True)\n",
    "k, m_A, m_B = symbols('k, m_A, m_B', real=True)"
   ]
  },
  {
   "cell_type": "code",
   "execution_count": 83,
   "metadata": {},
   "outputs": [
    {
     "data": {
      "image/png": "[encoded data removed]",
      "text/latex": [
       "$$m_{A}$$"
      ],
      "text/plain": [
       "m_A"
      ]
     },
     "execution_count": 83,
     "metadata": {},
     "output_type": "execute_result"
    }
   ],
   "source": [
    "m_A"
   ]
  },
  {
   "cell_type": "code",
   "execution_count": 84,
   "metadata": {
    "slideshow": {
     "slide_type": "subslide"
    }
   },
   "outputs": [
    {
     "data": {
      "image/png": "[encoded data removed]",
      "text/latex": [
       "$$\\left[\\begin{matrix}m_{A} & 0\\\\0 & m_{B}\\end{matrix}\\right]$$"
      ],
      "text/plain": [
       "⎡m_A   0 ⎤\n",
       "⎢        ⎥\n",
       "⎣ 0   m_B⎦"
      ]
     },
     "execution_count": 84,
     "metadata": {},
     "output_type": "execute_result"
    }
   ],
   "source": [
    "# define the mass matrix\n",
    "M = Matrix([[m_A, 0],\n",
    "            [0, m_B]])\n",
    "M"
   ]
  },
  {
   "cell_type": "code",
   "execution_count": 85,
   "metadata": {
    "slideshow": {
     "slide_type": "fragment"
    }
   },
   "outputs": [
    {
     "data": {
      "image/png": "[encoded data removed]",
      "text/latex": [
       "$$\\left[\\begin{matrix}\\frac{g m_{A}}{l} + k & - k\\\\- k & \\frac{g m_{B}}{l} + k\\end{matrix}\\right]$$"
      ],
      "text/plain": [
       "⎡g⋅m_A               ⎤\n",
       "⎢───── + k     -k    ⎥\n",
       "⎢  l                 ⎥\n",
       "⎢                    ⎥\n",
       "⎢           g⋅m_B    ⎥\n",
       "⎢   -k      ───── + k⎥\n",
       "⎣             l      ⎦"
      ]
     },
     "execution_count": 85,
     "metadata": {},
     "output_type": "execute_result"
    }
   ],
   "source": [
    "# Define the stiffness matrix\n",
    "K = Matrix([[m_A*g/l + k, -k],\n",
    "            [-k, m_B*g/l + k]])\n",
    "K"
   ]
  },
  {
   "cell_type": "code",
   "execution_count": 86,
   "metadata": {
    "slideshow": {
     "slide_type": "subslide"
    }
   },
   "outputs": [
    {
     "data": {
      "image/png": "[encoded data removed]",
      "text/latex": [
       "$$\\left[\\begin{matrix}\\frac{g}{l} + \\frac{k}{m_{A}} & - \\frac{k}{m_{A}}\\\\- \\frac{k}{m_{B}} & \\frac{g}{l} + \\frac{k}{m_{B}}\\end{matrix}\\right]$$"
      ],
      "text/plain": [
       "⎡g    k     -k   ⎤\n",
       "⎢─ + ───    ───  ⎥\n",
       "⎢l   m_A    m_A  ⎥\n",
       "⎢                ⎥\n",
       "⎢  -k     g    k ⎥\n",
       "⎢  ───    ─ + ───⎥\n",
       "⎣  m_B    l   m_B⎦"
      ]
     },
     "execution_count": 86,
     "metadata": {},
     "output_type": "execute_result"
    }
   ],
   "source": [
    "# Compute M**(-1)*K\n",
    "EVecMat = M.inv()*K\n",
    "expand(EVecMat)"
   ]
  },
  {
   "cell_type": "code",
   "execution_count": 87,
   "metadata": {
    "slideshow": {
     "slide_type": "fragment"
    }
   },
   "outputs": [],
   "source": [
    "# A bit of refinement: we can substitute k/m_A by omega_SA, etc.\n",
    "# but first, we need to declare those symbolic variables\n",
    "omega_sA, omega_sB = symbols('omega_sA, omega_sB', real=True)\n",
    "omega_p = Symbol('omega_p', real=True)"
   ]
  },
  {
   "cell_type": "code",
   "execution_count": 88,
   "metadata": {
    "slideshow": {
     "slide_type": "subslide"
    }
   },
   "outputs": [
    {
     "data": {
      "image/png": "[encoded data removed]",
      "text/latex": [
       "$$\\left[\\begin{matrix}\\frac{g}{l} + \\omega_{sA}^{2} & - \\omega_{sA}^{2}\\\\- \\frac{k}{m_{B}} & \\frac{g}{l} + \\frac{k}{m_{B}}\\end{matrix}\\right]$$"
      ],
      "text/plain": [
       "⎡g       2       2 ⎤\n",
       "⎢─ + ω_sA   -ω_sA  ⎥\n",
       "⎢l                 ⎥\n",
       "⎢                  ⎥\n",
       "⎢   -k      g    k ⎥\n",
       "⎢   ───     ─ + ───⎥\n",
       "⎣   m_B     l   m_B⎦"
      ]
     },
     "execution_count": 88,
     "metadata": {},
     "output_type": "execute_result"
    }
   ],
   "source": [
    "New_EVMat = expand(EVecMat).subs(k/m_A, omega_sA**2); New_EVMat"
   ]
  },
  {
   "cell_type": "code",
   "execution_count": 89,
   "metadata": {
    "slideshow": {
     "slide_type": "fragment"
    }
   },
   "outputs": [
    {
     "data": {
      "image/png": "[encoded data removed]",
      "text/latex": [
       "$$\\left[\\begin{matrix}\\frac{g}{l} + \\omega_{sA}^{2} & - \\omega_{sA}^{2}\\\\- \\omega_{sB}^{2} & \\frac{g}{l} + \\omega_{sB}^{2}\\end{matrix}\\right]$$"
      ],
      "text/plain": [
       "⎡g       2        2  ⎤\n",
       "⎢─ + ω_sA    -ω_sA   ⎥\n",
       "⎢l                   ⎥\n",
       "⎢                    ⎥\n",
       "⎢      2    g       2⎥\n",
       "⎢ -ω_sB     ─ + ω_sB ⎥\n",
       "⎣           l        ⎦"
      ]
     },
     "execution_count": 89,
     "metadata": {},
     "output_type": "execute_result"
    }
   ],
   "source": [
    "New_EVMat = expand(New_EVMat).subs(k/m_B, omega_sB**2); New_EVMat"
   ]
  },
  {
   "cell_type": "code",
   "execution_count": 90,
   "metadata": {
    "slideshow": {
     "slide_type": "fragment"
    }
   },
   "outputs": [
    {
     "data": {
      "image/png": "[encoded data removed]",
      "text/latex": [
       "$$\\left[\\begin{matrix}\\omega_{p}^{2} + \\omega_{sA}^{2} & - \\omega_{sA}^{2}\\\\- \\omega_{sB}^{2} & \\omega_{p}^{2} + \\omega_{sB}^{2}\\end{matrix}\\right]$$"
      ],
      "text/plain": [
       "⎡  2       2         2   ⎤\n",
       "⎢ωₚ  + ω_sA     -ω_sA    ⎥\n",
       "⎢                        ⎥\n",
       "⎢       2       2       2⎥\n",
       "⎣  -ω_sB      ωₚ  + ω_sB ⎦"
      ]
     },
     "execution_count": 90,
     "metadata": {},
     "output_type": "execute_result"
    }
   ],
   "source": [
    "New_EVMat = expand(New_EVMat).subs(g/l, omega_p**2); New_EVMat"
   ]
  },
  {
   "cell_type": "code",
   "execution_count": 91,
   "metadata": {
    "slideshow": {
     "slide_type": "subslide"
    }
   },
   "outputs": [
    {
     "data": {
      "image/png": "[encoded data removed]",
      "text/latex": [
       "$$\\left[\\begin{matrix}\\omega_{p}^{2} + \\omega_{sA}^{2} & - \\omega_{sA}^{2}\\\\- \\omega_{sB}^{2} & \\omega_{p}^{2} + \\omega_{sB}^{2}\\end{matrix}\\right]$$"
      ],
      "text/plain": [
       "⎡  2       2         2   ⎤\n",
       "⎢ωₚ  + ω_sA     -ω_sA    ⎥\n",
       "⎢                        ⎥\n",
       "⎢       2       2       2⎥\n",
       "⎣  -ω_sB      ωₚ  + ω_sB ⎦"
      ]
     },
     "execution_count": 91,
     "metadata": {},
     "output_type": "execute_result"
    }
   ],
   "source": [
    "# Or it can be done in one fell swoop:\n",
    "New_EVMat = (expand(EVecMat).subs(k/m_A, omega_sA**2)\n",
    "                            .subs(k/m_B, omega_sB**2)\n",
    "                            .subs(g/l, omega_p**2))\n",
    "New_EVMat"
   ]
  },
  {
   "cell_type": "code",
   "execution_count": 92,
   "metadata": {
    "slideshow": {
     "slide_type": "subslide"
    }
   },
   "outputs": [
    {
     "data": {
      "image/png": "[encoded data removed]",
      "text/latex": [
       "$$\\left [ \\left ( \\omega_{p}^{2}, \\quad 1, \\quad \\left [ \\left[\\begin{matrix}1\\\\1\\end{matrix}\\right]\\right ]\\right ), \\quad \\left ( \\omega_{p}^{2} + \\omega_{sA}^{2} + \\omega_{sB}^{2}, \\quad 1, \\quad \\left [ \\left[\\begin{matrix}- \\frac{\\omega_{sA}^{2}}{\\omega_{sB}^{2}}\\\\1\\end{matrix}\\right]\\right ]\\right )\\right ]$$"
      ],
      "text/plain": [
       "⎡                 ⎛                        ⎡⎡     2 ⎤⎤⎞⎤\n",
       "⎢                 ⎜                        ⎢⎢-ω_sA  ⎥⎥⎟⎥\n",
       "⎢⎛  2     ⎡⎡1⎤⎤⎞  ⎜  2       2       2     ⎢⎢───────⎥⎥⎟⎥\n",
       "⎢⎜ωₚ , 1, ⎢⎢ ⎥⎥⎟, ⎜ωₚ  + ω_sA  + ω_sB , 1, ⎢⎢     2 ⎥⎥⎟⎥\n",
       "⎢⎝        ⎣⎣1⎦⎦⎠  ⎜                        ⎢⎢ ω_sB  ⎥⎥⎟⎥\n",
       "⎢                 ⎜                        ⎢⎢       ⎥⎥⎟⎥\n",
       "⎣                 ⎝                        ⎣⎣   1   ⎦⎦⎠⎦"
      ]
     },
     "execution_count": 92,
     "metadata": {},
     "output_type": "execute_result"
    }
   ],
   "source": [
    "# And now the finishing touch\n",
    "New_EVMat.eigenvects()"
   ]
  },
  {
   "cell_type": "markdown",
   "metadata": {
    "slideshow": {
     "slide_type": "fragment"
    }
   },
   "source": [
    "The line above is to be interpreted in the following way:\n",
    "\n",
    "1. There are two different eigenvalues, $\\omega_p^2$ and $\\omega_p^2+\\omega_{sA}^2+\\omega_{sB}^2$,\n",
    "2. each of these eigenvalues appears only once (this is what the \"1\" numbers mean in second positions),\n",
    "3. the eigenvectors are $[1, 1]$ (antisymmetric) and $[-\\omega_{sA}^2/\\omega_{sB}^2, 1]$ (pseudo-symmetric).\n",
    "Note how python doesn't care about normalizing the eigenvector norms, and that it used a different sign convention from me. It means that it does not really matter."
   ]
  },
  {
   "cell_type": "code",
   "execution_count": 93,
   "metadata": {
    "slideshow": {
     "slide_type": "subslide"
    }
   },
   "outputs": [
    {
     "data": {
      "image/png": "[encoded data removed]",
      "text/latex": [
       "$$\\left[\\begin{matrix}\\omega_{pA}^{2} + \\omega_{sA}^{2} & - \\omega_{sA}^{2}\\\\- \\omega_{sB}^{2} & \\omega_{pB}^{2} + \\omega_{sB}^{2}\\end{matrix}\\right]$$"
      ],
      "text/plain": [
       "⎡    2       2          2    ⎤\n",
       "⎢ω_pA  + ω_sA      -ω_sA     ⎥\n",
       "⎢                            ⎥\n",
       "⎢        2          2       2⎥\n",
       "⎣   -ω_sB       ω_pB  + ω_sB ⎦"
      ]
     },
     "execution_count": 93,
     "metadata": {},
     "output_type": "execute_result"
    }
   ],
   "source": [
    "# I can even do it with two different length of pendulums!\n",
    "l_A, l_B = symbols('l_A, l_B', real=True)\n",
    "omega_pA, omega_pB = symbols('omega_pA, omega_pB', real=True)\n",
    "\n",
    "# New stiffness matrix\n",
    "K_2 = Matrix([[m_A*g/l_A + k, -k],\n",
    "              [-k, m_B*g/l_B + k]])\n",
    "\n",
    "# new eigenvector problem\n",
    "EVecMat_2 = M.inv()*K_2\n",
    "New_EVMat_2 = (expand(EVecMat_2).subs(k/m_A, omega_sA**2)\n",
    "                                .subs(k/m_B, omega_sB**2)\n",
    "                                .subs(g/l_A, omega_pA**2)\n",
    "                                .subs(g/l_B, omega_pB**2))\n",
    "\n",
    "New_EVMat_2"
   ]
  },
  {
   "cell_type": "code",
   "execution_count": 94,
   "metadata": {
    "slideshow": {
     "slide_type": "subslide"
    }
   },
   "outputs": [
    {
     "data": {
      "image/png": "[encoded data removed]",
      "text/latex": [
       "$$\\left [ \\left ( \\frac{\\omega_{pA}^{2}}{2} + \\frac{\\omega_{pB}^{2}}{2} + \\frac{\\omega_{sA}^{2}}{2} + \\frac{\\omega_{sB}^{2}}{2} - \\frac{\\sqrt{\\omega_{pA}^{4} - 2 \\omega_{pA}^{2} \\omega_{pB}^{2} + 2 \\omega_{pA}^{2} \\omega_{sA}^{2} - 2 \\omega_{pA}^{2} \\omega_{sB}^{2} + \\omega_{pB}^{4} - 2 \\omega_{pB}^{2} \\omega_{sA}^{2} + 2 \\omega_{pB}^{2} \\omega_{sB}^{2} + \\omega_{sA}^{4} + 2 \\omega_{sA}^{2} \\omega_{sB}^{2} + \\omega_{sB}^{4}}}{2}, \\quad 1, \\quad \\left [ \\left[\\begin{matrix}\\frac{\\omega_{sA}^{2}}{\\frac{\\omega_{pA}^{2}}{2} - \\frac{\\omega_{pB}^{2}}{2} + \\frac{\\omega_{sA}^{2}}{2} - \\frac{\\omega_{sB}^{2}}{2} + \\frac{\\sqrt{\\omega_{pA}^{4} - 2 \\omega_{pA}^{2} \\omega_{pB}^{2} + 2 \\omega_{pA}^{2} \\omega_{sA}^{2} - 2 \\omega_{pA}^{2} \\omega_{sB}^{2} + \\omega_{pB}^{4} - 2 \\omega_{pB}^{2} \\omega_{sA}^{2} + 2 \\omega_{pB}^{2} \\omega_{sB}^{2} + \\omega_{sA}^{4} + 2 \\omega_{sA}^{2} \\omega_{sB}^{2} + \\omega_{sB}^{4}}}{2}}\\\\1\\end{matrix}\\right]\\right ]\\right ), \\quad \\left ( \\frac{\\omega_{pA}^{2}}{2} + \\frac{\\omega_{pB}^{2}}{2} + \\frac{\\omega_{sA}^{2}}{2} + \\frac{\\omega_{sB}^{2}}{2} + \\frac{\\sqrt{\\omega_{pA}^{4} - 2 \\omega_{pA}^{2} \\omega_{pB}^{2} + 2 \\omega_{pA}^{2} \\omega_{sA}^{2} - 2 \\omega_{pA}^{2} \\omega_{sB}^{2} + \\omega_{pB}^{4} - 2 \\omega_{pB}^{2} \\omega_{sA}^{2} + 2 \\omega_{pB}^{2} \\omega_{sB}^{2} + \\omega_{sA}^{4} + 2 \\omega_{sA}^{2} \\omega_{sB}^{2} + \\omega_{sB}^{4}}}{2}, \\quad 1, \\quad \\left [ \\left[\\begin{matrix}\\frac{\\omega_{sA}^{2}}{\\frac{\\omega_{pA}^{2}}{2} - \\frac{\\omega_{pB}^{2}}{2} + \\frac{\\omega_{sA}^{2}}{2} - \\frac{\\omega_{sB}^{2}}{2} - \\frac{\\sqrt{\\omega_{pA}^{4} - 2 \\omega_{pA}^{2} \\omega_{pB}^{2} + 2 \\omega_{pA}^{2} \\omega_{sA}^{2} - 2 \\omega_{pA}^{2} \\omega_{sB}^{2} + \\omega_{pB}^{4} - 2 \\omega_{pB}^{2} \\omega_{sA}^{2} + 2 \\omega_{pB}^{2} \\omega_{sB}^{2} + \\omega_{sA}^{4} + 2 \\omega_{sA}^{2} \\omega_{sB}^{2} + \\omega_{sB}^{4}}}{2}}\\\\1\\end{matrix}\\right]\\right ]\\right )\\right ]$$"
      ],
      "text/plain": [
       "⎡⎛                                                                            \n",
       "⎢⎜                                                                            \n",
       "⎢⎜                                   _________________________________________\n",
       "⎢⎜    2       2       2       2     ╱     4         2     2         2     2   \n",
       "⎢⎜ω_pA    ω_pB    ω_sA    ω_sB    ╲╱  ω_pA  - 2⋅ω_pA ⋅ω_pB  + 2⋅ω_pA ⋅ω_sA  - \n",
       "⎢⎜───── + ───── + ───── + ───── - ────────────────────────────────────────────\n",
       "⎢⎜  2       2       2       2                                                 \n",
       "⎢⎜                                                                            \n",
       "⎢⎜                                                                            \n",
       "⎣⎝                                                                            \n",
       "\n",
       "                                                                              \n",
       "                                                                              \n",
       "______________________________________________________________________________\n",
       "      2     2       4         2     2         2     2       4         2     2 \n",
       "2⋅ω_pA ⋅ω_sB  + ω_pB  - 2⋅ω_pB ⋅ω_sA  + 2⋅ω_pB ⋅ω_sB  + ω_sA  + 2⋅ω_sA ⋅ω_sB  \n",
       "──────────────────────────────────────────────────────────────────────────────\n",
       "                    2                                                         \n",
       "                                                                              \n",
       "                                                                              \n",
       "                                                                              \n",
       "\n",
       "             ⎡⎡                                                               \n",
       "             ⎢⎢                                                               \n",
       "________     ⎢⎢───────────────────────────────────────────────────────────────\n",
       "      4      ⎢⎢                                   ____________________________\n",
       "+ ω_sB       ⎢⎢    2       2       2       2     ╱     4         2     2      \n",
       "────────, 1, ⎢⎢ω_pA    ω_pB    ω_sA    ω_sB    ╲╱  ω_pA  - 2⋅ω_pA ⋅ω_pB  + 2⋅ω\n",
       "             ⎢⎢───── - ───── + ───── - ───── + ───────────────────────────────\n",
       "             ⎢⎢  2       2       2       2                                    \n",
       "             ⎢⎢                                                               \n",
       "             ⎣⎣                                                               \n",
       "\n",
       "                   2                                                          \n",
       "               ω_sA                                                           \n",
       "──────────────────────────────────────────────────────────────────────────────\n",
       "______________________________________________________________________________\n",
       "   2     2         2     2       4         2     2         2     2       4    \n",
       "_pA ⋅ω_sA  - 2⋅ω_pA ⋅ω_sB  + ω_pB  - 2⋅ω_pB ⋅ω_sA  + 2⋅ω_pB ⋅ω_sB  + ω_sA  + 2\n",
       "──────────────────────────────────────────────────────────────────────────────\n",
       "                                 2                                            \n",
       "                                                                              \n",
       "                 1                                                            \n",
       "\n",
       "                     ⎤⎤⎞  ⎛                                                   \n",
       "                     ⎥⎥⎟  ⎜                                                   \n",
       "─────────────────────⎥⎥⎟  ⎜                                   ________________\n",
       "_____________________⎥⎥⎟  ⎜    2       2       2       2     ╱     4         2\n",
       "     2     2       4 ⎥⎥⎟  ⎜ω_pA    ω_pB    ω_sA    ω_sB    ╲╱  ω_pA  - 2⋅ω_pA \n",
       "⋅ω_sA ⋅ω_sB  + ω_sB  ⎥⎥⎟, ⎜───── + ───── + ───── + ───── + ───────────────────\n",
       "─────────────────────⎥⎥⎟  ⎜  2       2       2       2                        \n",
       "                     ⎥⎥⎟  ⎜                                                   \n",
       "                     ⎥⎥⎟  ⎜                                                   \n",
       "                     ⎦⎦⎠  ⎝                                                   \n",
       "\n",
       "                                                                              \n",
       "                                                                              \n",
       "______________________________________________________________________________\n",
       "     2         2     2         2     2       4         2     2         2     2\n",
       "⋅ω_pB  + 2⋅ω_pA ⋅ω_sA  - 2⋅ω_pA ⋅ω_sB  + ω_pB  - 2⋅ω_pB ⋅ω_sA  + 2⋅ω_pB ⋅ω_sB \n",
       "──────────────────────────────────────────────────────────────────────────────\n",
       "                                             2                                \n",
       "                                                                              \n",
       "                                                                              \n",
       "                                                                              \n",
       "\n",
       "                                      ⎡⎡                                      \n",
       "                                      ⎢⎢                                      \n",
       "_________________________________     ⎢⎢──────────────────────────────────────\n",
       "       4         2     2       4      ⎢⎢                                   ___\n",
       " + ω_sA  + 2⋅ω_sA ⋅ω_sB  + ω_sB       ⎢⎢    2       2       2       2     ╱   \n",
       "─────────────────────────────────, 1, ⎢⎢ω_pA    ω_pB    ω_sA    ω_sB    ╲╱  ω_\n",
       "                                      ⎢⎢───── - ───── + ───── - ───── - ──────\n",
       "                                      ⎢⎢  2       2       2       2           \n",
       "                                      ⎢⎢                                      \n",
       "                                      ⎣⎣                                      \n",
       "\n",
       "                                            2                                 \n",
       "                                        ω_sA                                  \n",
       "──────────────────────────────────────────────────────────────────────────────\n",
       "______________________________________________________________________________\n",
       "  4         2     2         2     2         2     2       4         2     2   \n",
       "pA  - 2⋅ω_pA ⋅ω_pB  + 2⋅ω_pA ⋅ω_sA  - 2⋅ω_pA ⋅ω_sB  + ω_pB  - 2⋅ω_pB ⋅ω_sA  + \n",
       "──────────────────────────────────────────────────────────────────────────────\n",
       "                                                          2                   \n",
       "                                                                              \n",
       "                                          1                                   \n",
       "\n",
       "                                              ⎤⎤⎞⎤\n",
       "                                              ⎥⎥⎟⎥\n",
       "──────────────────────────────────────────────⎥⎥⎟⎥\n",
       "______________________________________________⎥⎥⎟⎥\n",
       "      2     2       4         2     2       4 ⎥⎥⎟⎥\n",
       "2⋅ω_pB ⋅ω_sB  + ω_sA  + 2⋅ω_sA ⋅ω_sB  + ω_sB  ⎥⎥⎟⎥\n",
       "──────────────────────────────────────────────⎥⎥⎟⎥\n",
       "                                              ⎥⎥⎟⎥\n",
       "                                              ⎥⎥⎟⎥\n",
       "                                              ⎦⎦⎠⎦"
      ]
     },
     "execution_count": 94,
     "metadata": {},
     "output_type": "execute_result"
    }
   ],
   "source": [
    "New_EVMat_2.eigenvects()"
   ]
  },
  {
   "cell_type": "markdown",
   "metadata": {
    "slideshow": {
     "slide_type": "skip"
    }
   },
   "source": [
    "*Note: the result above is so long that it will not display properly on the pdf version of the notes. Which is the message here: the result is so long, it is not practical to handle it symbolically.*"
   ]
  },
  {
   "cell_type": "markdown",
   "metadata": {
    "slideshow": {
     "slide_type": "skip"
    }
   },
   "source": [
    "Obviously, in a practical setting, we would be using a numerical math package, not a symbolic one!\n",
    "These excruciatingly complicated expressions would become mere numbers, which computers could crunch out."
   ]
  },
  {
   "cell_type": "markdown",
   "metadata": {
    "slideshow": {
     "slide_type": "skip"
    }
   },
   "source": [
    "***\n",
    "\n",
    "\n",
    "\n",
    "# *Other Examples*\n",
    "\n",
    "*For the sake of time, I will not cover these in class. You should be able to do the masses coupled by springs by yourself, as a practice problem. It is something I could ask in an exam, and the problem set should feature several derived problems. Ocean tides are outside of the scope of this class, and only serves an illustrative purpose.*\n",
    "\n",
    "## *Masses Coupled by Springs*"
   ]
  },
  {
   "cell_type": "markdown",
   "metadata": {
    "slideshow": {
     "slide_type": "slide"
    }
   },
   "source": [
    "See King fig. 4.11.\n",
    "![Fig. 10: King 4.11](CoupledMassesSprings.png)"
   ]
  },
  {
   "cell_type": "markdown",
   "metadata": {
    "slideshow": {
     "slide_type": "skip"
    }
   },
   "source": [
    "#### *Equations of motion*\n",
    "*Let both masses be equal this time, and let all the stiffnesses be equal as well.\n",
    "Equations are:*\n",
    "$$ m \\ddot x_A = -k x_A + k(x_B - x_A) = k x_B - 2 k x_A, $$\n",
    "$$ m \\ddot x_B = -k (x_B - x_A) - kx_B = k x_A - 2 k x_B. $$"
   ]
  },
  {
   "cell_type": "markdown",
   "metadata": {
    "slideshow": {
     "slide_type": "skip"
    }
   },
   "source": [
    "*Dividing by $m$:*\n",
    "$$ \\ddot x_A = \\omega_s^2 (x_B - 2 x_A), $$\n",
    "$$ \\ddot x_B = \\omega_s^2 (x_A - 2 x_B). $$"
   ]
  },
  {
   "cell_type": "markdown",
   "metadata": {
    "slideshow": {
     "slide_type": "skip"
    }
   },
   "source": [
    "#### *Form of the solution*\n",
    "*We are looking for normal modes.\n",
    "Recall the definition of the normal modes:* **normal modes are modes for which all elements of the coupled system oscillate at the same, unique frequency.**\n",
    "*Therefore, we look for solutions of the form*\n",
    "$$ \\vec X = C\\vec Y \\cos(\\omega t + \\phi). $$"
   ]
  },
  {
   "cell_type": "markdown",
   "metadata": {
    "slideshow": {
     "slide_type": "skip"
    }
   },
   "source": [
    "*As before, solving for the eigenvalue problem will yield the $\\omega$'s and $\\vec Y$'s, while the $C$'s and $\\phi$'s are determined in a second time, with the initial conditions.*"
   ]
  },
  {
   "cell_type": "markdown",
   "metadata": {
    "slideshow": {
     "slide_type": "skip"
    }
   },
   "source": [
    "#### *Eigenproblem and solving for $\\vec Y$ and $\\omega$.*\n",
    "*The previous system of equations becomes*\n",
    "$$ \\omega_s^2 (2x_A - x_B) = \\omega^2 x_A, \\hspace{6cm} (9a)$$\n",
    "$$ \\omega_s^2 (2x_B - x_A) = \\omega^2 x_B, \\hspace{6cm} (9b)$$\n",
    "*which has the form of an eigenproblem.*"
   ]
  },
  {
   "cell_type": "markdown",
   "metadata": {
    "slideshow": {
     "slide_type": "skip"
    }
   },
   "source": [
    "*Indeed, defining \n",
    "$$ M^{-1}K = \\omega_s^2 \\begin{bmatrix}\n",
    "                            2 & -1 \\\\\n",
    "                            -1 & 2\n",
    "                        \\end{bmatrix}, $$\n",
    "We can write the above system of equations as*\n",
    "$$ M^{-1}K \\vec X = \\omega^2 \\vec X. $$"
   ]
  },
  {
   "cell_type": "markdown",
   "metadata": {
    "slideshow": {
     "slide_type": "skip"
    }
   },
   "source": [
    "*We find the eigenfrequencies by finding the roots of the characteristic polynomial, i.e., of*\n",
    "$$ \\det(M^-1 K - \\omega^2\\mathsf I_2) = 0 = (2\\omega_s^2 - \\omega^2)^2 - \\omega_s^4 = (\\omega^2 - \\omega_s^2)(\\omega^2 - 3\\omega^2_s). $$"
   ]
  },
  {
   "cell_type": "markdown",
   "metadata": {
    "slideshow": {
     "slide_type": "skip"
    }
   },
   "source": [
    "*Thus, the eigenfrequencies are $\\omega_1=\\omega_s$ and $\\omega_2 = \\sqrt{3}\\omega_s$.*"
   ]
  },
  {
   "cell_type": "markdown",
   "metadata": {
    "slideshow": {
     "slide_type": "skip"
    }
   },
   "source": [
    "*The mode, oscillating at $\\omega_1= \\omega_s$ can be qualified as \"antisymmetric\" again. It is the mode for which both masses oscillate in sync, and the central spring is neither stretched or compressed. Therefore, only the external springs stretch or compress, and their natural frequencies of oscillations are simply $\\omega_s$.*"
   ]
  },
  {
   "cell_type": "markdown",
   "metadata": {
    "slideshow": {
     "slide_type": "subslide"
    }
   },
   "source": [
    "![Fig. 11: the symmetric normal mode](spring_sym.gif)"
   ]
  },
  {
   "cell_type": "markdown",
   "metadata": {
    "slideshow": {
     "slide_type": "skip"
    }
   },
   "source": [
    "*By process of elimination, and because the system is neatly symmetric around the central $x$, we can surmise that the other mode, oscillating at $\\omega_2 = \\sqrt3 \\omega_s$, is a symmetric mode of motion, the motion of both masses being symmetric with respect to the central plane.*"
   ]
  },
  {
   "cell_type": "markdown",
   "metadata": {
    "slideshow": {
     "slide_type": "fragment"
    }
   },
   "source": [
    "![Fig. 12: the antisymmetric normal mode.](spring_asyn.gif)"
   ]
  },
  {
   "cell_type": "markdown",
   "metadata": {
    "slideshow": {
     "slide_type": "skip"
    }
   },
   "source": [
    "*Defining $\\vec Y = [a, b]$, we can find the orientation of the eigenvectors by replacing $x_A$ and $x_B$ by $a$ and $b$ in the system $(9)$, or in only one of the equations since they are redundant.*\n",
    "\n",
    "*In the case $\\omega = \\omega_s$, eqn. $(9a)$ becomes $a - b = 0$, or $a =b$. It is indeed the antisymmetric mode.\n",
    "Normalizing to have $\\|\\vec Y_1\\| = 1$ (*which I do, but isn't necessary!*) yields $a = b = 1/\\sqrt{2}$.*\n",
    "\n",
    "*In the case $\\omega = \\sqrt{3}\\omega_s$, eqn. $(9a)$ becomes $a = -b$. It is indeed the symmetric mode.\n",
    "Normalizing to have $\\|\\vec Y_2\\| = 1$ yields $a = -b = 1/\\sqrt{2}$.*"
   ]
  },
  {
   "cell_type": "markdown",
   "metadata": {
    "slideshow": {
     "slide_type": "skip"
    }
   },
   "source": [
    "*Any solution of the coupled oscillator system is therefore*\n",
    "$$ \\vec X = \\frac{C_1}{\\sqrt{2}}\\begin{bmatrix}\n",
    "                    1 \\\\ 1\n",
    "               \\end{bmatrix}\\cos(\\omega_s t + \\phi_1) + \n",
    "            \\frac{C_2}{\\sqrt{2}}\\begin{bmatrix}\n",
    "                    1 \\\\ -1\n",
    "            \\end{bmatrix}\\cos(\\sqrt3\\omega_s t + \\phi_2).$$"
   ]
  },
  {
   "cell_type": "markdown",
   "metadata": {
    "slideshow": {
     "slide_type": "skip"
    }
   },
   "source": [
    "*Any problem would the completed by using initial conditions in order to solve for the $C$'s and $\\phi$'s.\n",
    "I won't do it."
   ]
  },
  {
   "cell_type": "markdown",
   "metadata": {
    "slideshow": {
     "slide_type": "slide"
    }
   },
   "source": [
    "\n",
    "\n",
    "## *Ocean Tides*"
   ]
  },
  {
   "cell_type": "markdown",
   "metadata": {
    "slideshow": {
     "slide_type": "subslide"
    }
   },
   "source": [
    "*For your interest only. This discussion is based on the following two articles:*\n",
    "\n",
    "* *Arbic, Brian K., and Chris Garrett. 2010. \"A Coupled Oscillator Model of Shelf and Ocean Tides.\" Continental Shelf Research 30 (6). Pergamon: 564–74. doi:10.1016/j.csr.2009.07.008.*\n",
    "* *Arbic, Brian K., Richard H. Karsten, and Chris Garrett. 2009. \"On Tidal Resonance in the Global Ocean and the Back-effect of Coastal Tides upon Open-ocean Tides.\" Atmosphere-Ocean 47 (4): 239–66. doi:10.3137/OC311.2009.*"
   ]
  },
  {
   "cell_type": "markdown",
   "metadata": {
    "slideshow": {
     "slide_type": "skip"
    }
   },
   "source": [
    "*Every continent is surrounded by continental shelves, i.e., regions where the ocean floor is relatively flat, and relatively shallow (less than 500 m deep).\n",
    "You may easily realize this by looking at google maps in satellite mode.\n",
    "In contrast, the \"open-ocean\" is in general much deeper (5 km).\n",
    "Because these two regions of the ocean are much different, they can be thought of as individual oscillators with respect to tidal forcing, with their own resonance frequencies, and their own damping rates: damping is much stronger for tides in shallower seas, because the proximity to the bottom creates much more fluid friction and turbulence.*\n",
    "\n",
    "*Some continental shelves are fairly well isolated from the open ocean.\n",
    "The example that is closest to home, but also one of the best examples in the world, is Hudson Bay.\n",
    "It is very large (over 1000 km diameter) and shallow (about 100 m on average), and coupled to the open-ocean via a series of very narrow and even more shallow straits.*\n",
    "\n",
    "*One would think that such an isolated body of water does its own thing, resonating with the tidal forcing without influencing the other bodies of water.\n",
    "This would be neglecting the peculiar properties of resonance, and in particular that even if the coupling is weak between two oscillators, if the forcing provided by the first oscillator to the second oscillator happens to be at a resonance frequency of the second oscillator, the second oscillator will react strongly.\n",
    "As a consequence, the coupled system will have a fundamentally different behaviour than if the two oscillators were uncoupled: modes of oscillation take over, and the behaviour becomes global.*\n",
    "\n",
    "*Arbic and his colleagues were interested in paleo-oceanography, and in particular, what were the tides like during the last glacial maximum, were polar ice caps were retaining a lot of the world's water in solid form, above sea level?\n",
    "Then, sea level was more than 100 m below what it is now, and the oscillators as well as the couplings between them must have been very different.\n",
    "They realized it was very complicated, and that the slightest changes in the coastal configuration could change the global tides radically.\n",
    "Take a look at Arbic and Garrett 2010, page 2: they push the analogy as far as drawing two masses linked by springs, go over a discussion about damping, plot the same resonance curves that I drew in chapter 3, etc.!*\n",
    "\n",
    "*The two articles that I am citing are proof-of-concept kind of articles, where they run numerical simulations of ocean tides in which they artificially change tiny bits of coasts.\n",
    "In particular, they block Hudson Strait between Hudson Bay and the Atlantic Ocean, and find that the tides are completely modified everywhere in the Atlantic Ocean (see figure here, i.e., fig. 15a, b, c of Arbic et al. 2009, reproduced here.) and even as far as India, were a 20 cm increase in tidal amplitude happens!*"
   ]
  },
  {
   "cell_type": "markdown",
   "metadata": {
    "slideshow": {
     "slide_type": "subslide"
    }
   },
   "source": [
    "![Fig. 13: Reproduction of fig. 15a, b and c of Arbic et al. 2009: \"(a) and (b) $M_2$ amplitudes (m) near Hudson Strait in nominal (unblocked) and blocked Hudson Strait experiments. (c) Global map of $M_2$ amplitude differences (m) between the blocked Hudson Strait experiment and the unblocked experiment.\" *Note:* $M_2 \\approx 2\\pi/(12.4 hours)$ *is the name of the lunar semidiurnal tide frequency.*](HudsonBlocked.png)"
   ]
  },
  {
   "cell_type": "markdown",
   "metadata": {
    "slideshow": {
     "slide_type": "skip"
    }
   },
   "source": [
    "*Such considerations illustrate how delicate it is to predict adaptation to climate change.\n",
    "If the sea level is predicted to rise by metres, what will it entail e.g. for artifical ports, which have been designed to operate optimally under present-day tides? The changes in amplitudes and phases of tides might render some harbours less optimal than others, some breeding grounds might change, some touristic destinations might need to be redesigned...*"
   ]
  },
  {
   "cell_type": "markdown",
   "metadata": {
    "slideshow": {
     "slide_type": "skip"
    }
   },
   "source": [
    "***\n",
    "\n",
    "*End of 09/28 lecture, beginning of 10/01 lecture.*\n",
    "\n",
    "***"
   ]
  },
  {
   "cell_type": "markdown",
   "metadata": {
    "slideshow": {
     "slide_type": "skip"
    }
   },
   "source": [
    "# On the Orthogonality of the Eigenmodes"
   ]
  },
  {
   "cell_type": "markdown",
   "metadata": {
    "slideshow": {
     "slide_type": "skip"
    }
   },
   "source": [
    "## One Last Bit of Linear Algebra"
   ]
  },
  {
   "cell_type": "markdown",
   "metadata": {
    "slideshow": {
     "slide_type": "skip"
    }
   },
   "source": [
    "The last bit of linear algebra that I will be using is that if a matrix $\\textsf P$ is real symmetric, i.e., all elements of $\\textsf P$ are real, and $\\textsf P^T = \\textsf P$, then the eigenvectors of $\\textsf P$ are orthogonal to each other.\n",
    "That is, for eigenvectors that have been normalized ($\\forall i\\in {1\\dots{}n}, \\|V_i\\| = 1$),\n",
    "$$\\forall (i, j) \\in \\{1\\dots n\\}^2, \\qquad V_i\\cdot V_j = \\delta_{ij}, $$\n",
    "where $\\delta_{ij} = 1$ if $i=j$, and $\\delta_{ij} = 0$ otherwise ($\\delta_{ij}$ is called the \"Kronecker Delta\")."
   ]
  },
  {
   "cell_type": "markdown",
   "metadata": {
    "slideshow": {
     "slide_type": "skip"
    }
   },
   "source": [
    "*Note: the generalization of a real symmetric matrix is called a Hermitian matrix, for which* $P_{ij} = P_{ji}^*$ *, where the asterisk means complex conjugate. The result above applies to Hermitian matrices, which will be very important very soon, in quantum mechanics.*"
   ]
  },
  {
   "cell_type": "markdown",
   "metadata": {
    "slideshow": {
     "slide_type": "skip"
    }
   },
   "source": [
    "In general, what the dot product is depends on the vector space. In our case, it is simply that if $\\vec Y_a = [a_1, a_2]$ and $\\vec Y_b = [b_1, b_2]$, then $\\vec Y_a \\cdot \\vec Y_b = a_1b_1 + a_2b_2$."
   ]
  },
  {
   "cell_type": "markdown",
   "metadata": {
    "slideshow": {
     "slide_type": "skip"
    }
   },
   "source": [
    "Let me re-use the example of the two coupled pendulums of different masses.\n",
    "The matrix $\\textsf P$ corresponded to\n",
    "$$ M^{-1}K = \\begin{bmatrix}\n",
    "                 \\frac{g}l + \\frac{k}{m_A} & -\\frac{k}{m_A} \\\\\n",
    "                 -\\frac{k}{m_B} & \\frac{g}l + \\frac{k}{m_B}\n",
    "             \\end{bmatrix},$$\n",
    "and the normalized eigenvectors were \n",
    "$$ \\vec Y_1 = \\frac{1}{\\sqrt{2}}\\begin{bmatrix}\n",
    "                                     1 \\\\ 1\n",
    "                                 \\end{bmatrix}\n",
    "\\and\n",
    "\\vec Y_2 = \\frac{1}{\\sqrt{\\omega_{sA}^4 + \\omega_{sB}^4}}\\begin{bmatrix}\n",
    "               \\omega_{sA}^2 \\\\\n",
    "               -\\omega_{sB}^2\n",
    "           \\end{bmatrix}\n",
    "         = \\frac1{\\sqrt{m_A^2 + m_B^2}}\\begin{bmatrix}\n",
    "                                           m_B \\\\\n",
    "                                           -m_A\n",
    "                                       \\end{bmatrix}.$$"
   ]
  },
  {
   "cell_type": "markdown",
   "metadata": {
    "slideshow": {
     "slide_type": "skip"
    }
   },
   "source": [
    "The projection of the two eigenvectors onto each other is therefore\n",
    "$$ \\vec Y_1 \\cdot \\vec Y_2 = \\frac{m_B - m_A}{\\sqrt{2(m_A^2 + m_B^2)}}. $$"
   ]
  },
  {
   "cell_type": "markdown",
   "metadata": {
    "slideshow": {
     "slide_type": "skip"
    }
   },
   "source": [
    "Therefore, if $m_A = m_B$, the two statements \"$\\vec Y_1 \\perp \\vec Y_2$\" and \"$M^{-1}K$ is real symmetric\" are both true. In light of the linear algebra result I recalled above, this is no coincidence.\n",
    "\n",
    "Cases in which the matrix is real symmetric correspond to a wide range of applications.\n",
    "In these cases, the orthogonality property simplifies the calculations greatly, especially when the number of oscillators becomes large.\n",
    "The reason is that it becomes very easy to isolate every mode.\n",
    "\n",
    "Here, I divide the examples of applications into two classes: initial value problems (the free response), and forced problems (the driven response).\n",
    "\n",
    "*Note: there are relatively easy ways to generalize these results to non-symmetric matrices, because $\\vec Y_i M\\vec Y_j = 0$ if $i\\neq j$. It represents an additional mathematical complexity level that, while not that difficult, is too much to deal with in the short amount of time I have.*"
   ]
  },
  {
   "cell_type": "markdown",
   "metadata": {
    "slideshow": {
     "slide_type": "skip"
    }
   },
   "source": [
    "## Initial Value Problems"
   ]
  },
  {
   "cell_type": "markdown",
   "metadata": {
    "slideshow": {
     "slide_type": "skip"
    }
   },
   "source": [
    "Recall that the free response of the coupled system of oscillators can be written\n",
    "$$ \\vec X = C_1 \\vec Y_1 \\cos(\\omega_1 t + \\phi_1) + C_2 \\vec Y_2 \\cos(\\omega_2 t + \\phi_2), $$\n",
    "and that at $t = 0$,\n",
    "$\\vec X(t=0) = \\vec X_0 = C_1 \\vec Y_1\\cos\\phi_1 + C_2 \\vec Y_2\\cos\\phi_2$.\n",
    "\n",
    "The velocity is\n",
    "$$ \\vec V = -\\omega_1 C_1 \\vec Y_1 \\sin(\\omega_1 t + \\phi_1) - \\omega_2 C_2 \\vec Y_2 \\sin(\\omega_2 t + \\phi_2),$$\n",
    "which initially is \n",
    "$\\vec V(t=0) = \\vec V_0 = -\\omega_1C_1 \\vec Y_1\\sin\\phi_1 -\\omega_2 C_2 \\vec Y_2\\sin\\phi_2$."
   ]
  },
  {
   "cell_type": "raw",
   "metadata": {
    "raw_mimetype": "text/markdown",
    "slideshow": {
     "slide_type": "skip"
    }
   },
   "source": [
    "### $M^{-1}K$ symmetric\n",
    "\n",
    "This is the only case you need to know how to do. "
   ]
  },
  {
   "cell_type": "markdown",
   "metadata": {
    "slideshow": {
     "slide_type": "skip"
    }
   },
   "source": [
    "Finding the initial conditions for the modes is merely about projecting onto $\\vec Y_1$ and $\\vec Y_2$:\n",
    "$$ \\vec X_0\\cdot \\vec Y_1 = C_1 \\cos\\phi_1, $$\n",
    "$$ \\vec X_0\\cdot \\vec Y_2 = C_2 \\cos\\phi_2, $$\n",
    "$$ \\vec V_0\\cdot \\vec Y_1 = -\\omega_1 C_1 \\sin\\phi_1, $$\n",
    "$$ \\vec V_0\\cdot \\vec Y_2 = -\\omega_2 C_2 \\sin\\phi_2, $$\n",
    "because $\\vec Y_1 \\cdot \\vec Y_2 = 0$."
   ]
  },
  {
   "cell_type": "markdown",
   "metadata": {
    "slideshow": {
     "slide_type": "skip"
    }
   },
   "source": [
    "*Note: if $\\vec Y_1$ and $\\vec Y_2$ are not normalized, you need to multiply these right-hand-sides by* $\\|\\vec Y_1\\|^2$ *and* $\\|\\vec Y_2\\|^2$!!!"
   ]
  },
  {
   "cell_type": "markdown",
   "metadata": {
    "slideshow": {
     "slide_type": "skip"
    }
   },
   "source": [
    "Take the example of the identical coupled pendulums, with $x_{A0} = A > 0$, $x_{B0} = 0$, $v_{A0} = v_{B0} = 0.$\n",
    "We had $\\vec Y_1 = [1, 1]/\\sqrt{2}$ and $\\vec Y_2 = [1, -1]/\\sqrt{2}$.\n",
    "$$ \\vec X_0\\cdot \\vec Y_1 = A/\\sqrt{2} + 0/\\sqrt{2} = A/\\sqrt{2} = C_1 \\cos\\phi_1, $$\n",
    "$$ \\vec X_0\\cdot \\vec Y_2 = A/\\sqrt{2} - 0/\\sqrt{2} = A/\\sqrt{2} = C_2 \\cos\\phi_2, $$\n",
    "$$ \\vec V_0\\cdot \\vec Y_1 = 0/\\sqrt{2} + 0/\\sqrt{2} = 0 = -\\omega_1 C_1 \\sin\\phi_1, $$\n",
    "$$ \\vec V_0\\cdot \\vec Y_2 = 0/\\sqrt{2} - 0/\\sqrt{2} = 0 = -\\omega_2 C_2 \\sin\\phi_2. $$"
   ]
  },
  {
   "cell_type": "markdown",
   "metadata": {
    "slideshow": {
     "slide_type": "skip"
    }
   },
   "source": [
    "The only way for the last two equations to be satisfied with $C_1 > 0$ and $C_2 > 0$ is $\\phi_1 = \\phi_2 = 0$, in which case $C_1 = C_2 = A/\\sqrt{2}$, and the solution is\n",
    "$$ \\vec X = \\frac{A}{\\sqrt2} \\vec Y_1 \\cos(\\omega_1 t) + \\frac{A}{\\sqrt2} \\vec Y_2 \\cos(\\omega_2 t) = \\frac{A}{2} \\stirling11 \\cos(\\omega_1 t) + \\frac{A}2 \\stirling{1}{-1} \\cos(\\omega_2 t), $$"
   ]
  },
  {
   "cell_type": "raw",
   "metadata": {
    "raw_mimetype": "text/markdown",
    "slideshow": {
     "slide_type": "skip"
    }
   },
   "source": [
    "### $M^{-1}K$ non-symmetric\n",
    "\n",
    "It is actually fairly simple to generalize the results above for a non-symmetric $M^{-1}K$ matrix, but you are not required to remember it.\n",
    "*So much so that I will skip it in class!*"
   ]
  },
  {
   "cell_type": "raw",
   "metadata": {
    "raw_mimetype": "text/markdown",
    "slideshow": {
     "slide_type": "skip"
    }
   },
   "source": [
    "In this case, $\\vec Y_1 \\cdot \\vec Y_2 \\neq 0$, but $\\vec Y_1 M \\vec Y_2 = 0$. Therefore, instead of computing $\\vec X_0 \\cdot \\vec Y_1$, etc, finding the coefficients entails computing $\\vec X_0 M \\vec Y_1$, etc."
   ]
  },
  {
   "cell_type": "raw",
   "metadata": {
    "raw_mimetype": "text/markdown",
    "slideshow": {
     "slide_type": "skip"
    }
   },
   "source": [
    "Take the example of the coupled pendulums, with $x_{A0} = A > 0$, $x_{B0} = 0$, $v_{A0} = v_{B0} = 0.$\n",
    "We now choose $m_A = m$, and $m_B = 2m$.\n",
    "Therefore, $\\vec Y_1 = [1, 1]/\\sqrt{2}$ and $\\vec Y_2 = [2, -1]/\\sqrt{5}$."
   ]
  },
  {
   "cell_type": "raw",
   "metadata": {
    "raw_mimetype": "text/markdown",
    "slideshow": {
     "slide_type": "skip"
    }
   },
   "source": [
    "Then, \n",
    "$$ M \\vec Y_1 = \\frac1{\\sqrt2}\\begin{bmatrix}m & 0 \\\\ 0 & 2 m\\end{bmatrix}\\stirling{1}{1} = \\frac{m}{\\sqrt{2}}\\stirling{1}{2} \\and M \\vec Y_1 = \\frac1{\\sqrt5}\\begin{bmatrix}m & 0 \\\\ 0 & 2 m\\end{bmatrix}\\stirling{2}{-1} = \\frac{2m}{\\sqrt{5}}\\stirling{1}{-1}.$$"
   ]
  },
  {
   "cell_type": "raw",
   "metadata": {
    "raw_mimetype": "text/markdown",
    "slideshow": {
     "slide_type": "skip"
    }
   },
   "source": [
    "You can check that \n",
    "$$ \\vec Y_1 M \\vec Y_2 = \\frac{1}{\\sqrt{10}} [1, 1]\\begin{bmatrix}m & 0 \\\\ 0 & 2 m\\end{bmatrix}\\stirling{2}{-1} = \\frac{2m}{\\sqrt{10}}[1, 1] \\stirling{1}{-1} = 0,$$\n",
    "and same for $\\vec Y_2 M \\vec Y_1.$"
   ]
  },
  {
   "cell_type": "raw",
   "metadata": {
    "raw_mimetype": "text/markdown",
    "slideshow": {
     "slide_type": "skip"
    }
   },
   "source": [
    "For the coefficients, the procedure becomes\n",
    "$$ \\vec X_0 M \\vec Y_1 = mA/\\sqrt{2} + 0\\times 2m/\\sqrt{2} = A/\\sqrt{2} = C_1 \\cos\\phi_1, $$\n",
    "$$ \\vec X_0 M \\vec Y_2 = A/\\sqrt{2} - 0/\\sqrt{2} = A/\\sqrt{2} = C_2 \\cos\\phi_2, $$\n",
    "$$ \\vec V_0 M \\vec Y_1 = 0/\\sqrt{2} + 0/\\sqrt{2} = 0 = -\\omega_1 C_1 \\sin\\phi_1, $$\n",
    "$$ \\vec V_0 M \\vec Y_2 = 0/\\sqrt{2} - 0/\\sqrt{2} = 0 = -\\omega_2 C_2 \\sin\\phi_2. $$"
   ]
  },
  {
   "cell_type": "markdown",
   "metadata": {
    "slideshow": {
     "slide_type": "slide"
    }
   },
   "source": [
    "## Forced Problems"
   ]
  },
  {
   "cell_type": "markdown",
   "metadata": {
    "slideshow": {
     "slide_type": "skip"
    }
   },
   "source": [
    "*I hope to have time to cover this sub-section, but I am not sure I will be able to because I have one less lecture than in previous years. In any case, I would find it heartbreaking to delete all of this, and it may do a good job at consolidating what you learned in Chapter 3.*\n",
    "\n",
    "Let us assume that there is some periodic force applied to the masses, and recall that $m_A = m_B = m$:\n",
    "$$ m\\ddot x_A + \\frac{mg}{l}x_A + k(x_A - x_B) = F_A\\cos(\\omega t),$$\n",
    "$$ m\\ddot x_B + \\frac{mg}{l}x_B -k(x_A - x_B) = F_B\\cos(\\omega t),$$\n",
    "which in matrix form can be written\n",
    "$$ \\ddot{\\vec X} + M^{-1}K \\vec X = \\vec \\Psi\\cos(\\omega t),\\hspace{5cm}(10) $$\n",
    "with $\\vec \\Psi = [F_A/m, F_B/m]$.\n",
    "Note that the problem is not an eigenvalue problem anymore."
   ]
  },
  {
   "cell_type": "markdown",
   "metadata": {
    "slideshow": {
     "slide_type": "skip"
    }
   },
   "source": [
    "The vectors $\\vec Y_1$ and $\\vec Y_2$, which were eigenvectors of the free problem, form an orthogonal basis for any 2D vector.\n",
    "Let me repeat this: $\\vec Y_1$ and $\\vec Y_2$ lose their special status as eigenvectors, but they still form an orthogonal basis on which any vector can be decomposed.\n",
    "Meaning that we can write\n",
    "$$\\vec X = q_1\\vec Y_1 + q_2 \\vec Y_2.$$"
   ]
  },
  {
   "cell_type": "markdown",
   "metadata": {
    "slideshow": {
     "slide_type": "skip"
    }
   },
   "source": [
    "Let me reiterate that the projections of $\\vec X$ on $\\vec Y_1$ and $\\vec Y_2$, i.e., $q_1$  and $q_2$, are not eigenmodes of the forced problem. \"Eigenmodes of the forced problem\" makes as much sense as \"free oscillations of the forced oscillator\" in the case of just one oscillator, i.e., no sense at all."
   ]
  },
  {
   "cell_type": "markdown",
   "metadata": {
    "slideshow": {
     "slide_type": "skip"
    }
   },
   "source": [
    "The forcing can also the projected onto $\\vec Y_1$ and $\\vec Y_2$:\n",
    "$$\\vec\\Psi = \\Psi_1 \\vec Y_1 + \\Psi_2 \\vec Y_2,$$\n",
    "with $\\Psi_1 = (F_A + F_B)/(\\sqrt{2}m)$ and $\\Psi_2 = (F_A - F_B)/(\\sqrt{2}m)$."
   ]
  },
  {
   "cell_type": "markdown",
   "metadata": {
    "slideshow": {
     "slide_type": "skip"
    }
   },
   "source": [
    "However, the crucial point here is that $M^{-1}K \\vec Y_{1, 2} = \\omega^2_{1,2}\\vec Y_{1, 2}$ is still true, by construction of $\\vec Y_{1,2}$.\n",
    "Collecting all of these comments, equation $(10)$ can therefore be re-written\n",
    "$$ \\ddot q_1{\\vec Y}_1 + \\ddot q_2 {\\vec Y}_2  + \\omega_1^2 q_1 \\vec Y_1 + \\omega_2^2 q_2 \\vec Y_2 = (\\Psi_1 \\vec Y_1 + \\Psi_2 \\vec Y_2)\\cos(\\omega t).$$"
   ]
  },
  {
   "cell_type": "markdown",
   "metadata": {
    "slideshow": {
     "slide_type": "skip"
    }
   },
   "source": [
    "Projecting the equation above on $\\vec Y_1$ and $\\vec Y_2$ yields, respectively,\n",
    "$$\\ddot q_1 + \\omega_1^2 q_1 = \\Psi_1\\cos(\\omega t).$$\n",
    "$$\\ddot q_2 + \\omega_1^2 q_2 = \\Psi_2\\cos(\\omega t).$$"
   ]
  },
  {
   "cell_type": "markdown",
   "metadata": {
    "slideshow": {
     "slide_type": "skip"
    }
   },
   "source": [
    "Therefore, individual modes can resonate, just like a simple oscillator can resonate.\n",
    "This time however, the complexity of the possible cases increases.\n",
    "For one mode to resonate, two conditions need to be satisfied.\n",
    "For example, for the first mode to resonate, we need $\\omega = \\omega_1$, just like in the simple oscillator case, but we also need $\\Psi_1 \\neq 0$."
   ]
  },
  {
   "cell_type": "markdown",
   "metadata": {
    "slideshow": {
     "slide_type": "skip"
    }
   },
   "source": [
    "In our coupled pendulums, the first mode (the antisymmetric one) does not grow if the forcing is symmetric, i.e., if $F_A = -F_B$, in which case $\\Psi_1 = 0$.\n",
    "In order to induce a resonance phenomenon, the frequency of the forcing has to match the corresponding frequency, and the forcing pattern needs to match the polarization of the mode, i.e., the \"shape of the mode\" (i.e. whether it is symmetric or antisymmetric, or whatever the pattern actually looks like), somewhat.\n",
    "\"Somewhat\" means that the projection of the force on the eigenvector has to be non-zero.\n",
    "For example, if only one mass feels a force, say, $F_A \\neq 0$ and $F_B = 0$, the pattern is not exactly matched, but $\\Psi_1 = F_A/\\sqrt{2}m + 0/\\sqrt{2} = F_A/\\sqrt2m \\neq 0$, which is enough to trigger a resonance."
   ]
  },
  {
   "cell_type": "markdown",
   "metadata": {
    "slideshow": {
     "slide_type": "skip"
    }
   },
   "source": [
    "All of this is true for any coupled system of oscillators, and for however many degrees of freedom there are. It is also true for non-symmetric matrices, but the mathematics are more complicated to describe in the short amount of time I have."
   ]
  },
  {
   "cell_type": "markdown",
   "metadata": {
    "slideshow": {
     "slide_type": "skip"
    }
   },
   "source": [
    "Of course, everything you have learned about damped harmonic oscillator resonance also applies to the modes.\n",
    "For example, if there is damping, the resonance curve will have a certain width:\n",
    "there can be amplification for frequencies that do not exactly match the eigenfrequencies of the free system.\n",
    "Each mode will have its own damping rate, and its own quality factor."
   ]
  },
  {
   "cell_type": "markdown",
   "metadata": {
    "slideshow": {
     "slide_type": "skip"
    }
   },
   "source": [
    "For example, an atom in elemental form or a molecule can be thought of as a coupled system of oscillators.\n",
    "Atoms can move around, and energy levels of electrons can change, adding all sorts of degrees of freedom.\n",
    "This is how the atmospheric composition of the Sun can be determined from an absorption spectrum (cf. chapter 3)."
   ]
  },
  {
   "cell_type": "markdown",
   "metadata": {
    "slideshow": {
     "slide_type": "skip"
    }
   },
   "source": [
    "The reverse is true: every molecule has a specific emission spectrum, consisting of the emission of light at the resonance frequencies of the molecules.\n",
    "One just needs to excite the atom or molecule broadly, for example by heating it, and measure which frequencies are emitted by the atom or molecule.\n",
    "The more degrees of freedom there are, the more frequencies are emitted (cf. emission spectra of hydrogen vs. iron from Wikipedia, reproduced here)."
   ]
  },
  {
   "cell_type": "markdown",
   "metadata": {
    "slideshow": {
     "slide_type": "slide"
    }
   },
   "source": [
    "![Fig. 14: Visible lines of the emission spectrumm of hydrogen, by Merikanto, Adrignola [CC0], via Wikimedia Commons](800px-Emission_spectrum-H.png)"
   ]
  },
  {
   "cell_type": "markdown",
   "metadata": {},
   "source": [
    "![Fig. 15: Visible lines of the emission spectrumm of iron, by User:nilda (Own work) [Public domain], via Wikimedia Commons](Emission_spectrum-Fe.png)"
   ]
  },
  {
   "cell_type": "markdown",
   "metadata": {
    "slideshow": {
     "slide_type": "slide"
    }
   },
   "source": [
    "# $n$ Coupled Oscillators"
   ]
  },
  {
   "cell_type": "markdown",
   "metadata": {
    "slideshow": {
     "slide_type": "skip"
    }
   },
   "source": [
    "While I have illustrated this entire chapter with two oscillators, all the qualitative results apply to any number of oscillators.\n",
    "Right after this chapter, we will study waves, which can be thought of as a superposition of a finite or infinite number of modes, which arise from the fact that waves propagate on a continuous medium made of an infinite number of coupled oscillators."
   ]
  },
  {
   "cell_type": "markdown",
   "metadata": {
    "slideshow": {
     "slide_type": "skip"
    }
   },
   "source": [
    "I actually hesitated between making this section the last section on coupled oscillators, or the first section on waves. \n",
    "Ultimately, it does not matter, as long as the transition is clearly understood."
   ]
  },
  {
   "cell_type": "markdown",
   "metadata": {
    "slideshow": {
     "slide_type": "skip"
    }
   },
   "source": [
    "I will illustrate this point with identical masses, coupled by identical springs (cf. King fig. 4.11, reproduced earlier), because it is simpler than the coupled pendula, but complex enough to illustrate the principle.\n",
    "With two masses, we had\n",
    "$$ m \\ddot x_A = -k x_A + k(x_B - x_A), $$\n",
    "$$ m \\ddot x_B = -k (x_B - x_A) - kx_B. $$"
   ]
  },
  {
   "cell_type": "markdown",
   "metadata": {
    "slideshow": {
     "slide_type": "skip"
    }
   },
   "source": [
    "With three masses $A$, $B$ and $C$, we would have\n",
    "$$ m \\ddot x_A = -k x_A + k(x_B - x_A), $$\n",
    "$$ m \\ddot x_B = -k (x_B - x_A) + k(x_C-x_B), $$\n",
    "$$ m \\ddot x_C = -k (x_C - x_B) - kx_C. $$"
   ]
  },
  {
   "cell_type": "markdown",
   "metadata": {
    "slideshow": {
     "slide_type": "skip"
    }
   },
   "source": [
    "And with $N$ masses, we would have (I now index the masses with numbers instead of letters)\n",
    "$$ m \\ddot x_1 = -k x_1 + k(x_2 - x_1) = - 2 k x_1 + k x_2, $$\n",
    "$$ m \\ddot x_n = -k (x_{n} - x_{n-1}) + k(x_{n+1} - x_{n}) = k(x_{n+1} -2x_n + x_{n-1})\\quad\\forall n\\neq 1, N, $$\n",
    "$$ m \\ddot x_N = -k (x_N - x_{N-1}) - kx_N = -2k x_N + k x_{N-1}. $$"
   ]
  },
  {
   "cell_type": "markdown",
   "metadata": {
    "slideshow": {
     "slide_type": "slide"
    }
   },
   "source": [
    "After division by $m$, we can turn this system into an $N \\times N$ eigenvalue problem\n",
    "$$ (M^{-1}K - \\omega^2 \\textsf I_N) \\vec X = 0, $$\n",
    "with\n",
    "$$ M^{-1}K = \\omega_s^2\\begin{bmatrix}\n",
    "                 2      & -1     & 0      & \\dots  &        &        & 0 \\\\\n",
    "                 -1     & 2      & -1     & 0      & \\dots  &        & 0 \\\\\n",
    "                 0      & \\ddots & \\ddots & \\ddots &        &        & \\\\\n",
    "                 \\vdots & 0      & -1     & 2      & -1     & 0      & \\\\\n",
    "                        &        &        & \\ddots & \\ddots & \\ddots & \\\\\n",
    "                 \\\\\n",
    "                 0      & \\dots  &        &        & 0      & -1     & 2\n",
    "             \\end{bmatrix}.\n",
    "$$"
   ]
  },
  {
   "cell_type": "markdown",
   "metadata": {
    "slideshow": {
     "slide_type": "skip"
    }
   },
   "source": [
    "This matrix is actually simple enough that we could find the eigenvalues analytically.\n",
    "My intention, however, is to show you that from a numerical point of view, a $3\\times 3$ matrix and a $N\\times N$ matrix are as hard to solve as each other as long as one understands how to use the methods of linear algebra.\n",
    "Instead of `SymPy`, Python's main symbolic math package, I will use `NumPy`, Python's main scientific computing package.\n",
    "Unlike `SymPy`, `NumPy` only understands numbers, not symbols."
   ]
  },
  {
   "cell_type": "code",
   "execution_count": null,
   "metadata": {
    "slideshow": {
     "slide_type": "subslide"
    }
   },
   "outputs": [],
   "source": [
    "# We already imported NumPy, but it is useful to import\n",
    "# NumPy's linear algebra functions separately.\n",
    "import numpy.linalg as LA\n",
    "# the following two packages allow me to display the animation\n",
    "from matplotlib import animation\n",
    "from IPython.display import HTML\n",
    "# More about animations: \n",
    "# https://stackoverflow.com/questions/43445103/inline-animations-in-jupyter"
   ]
  },
  {
   "cell_type": "code",
   "execution_count": null,
   "metadata": {
    "slideshow": {
     "slide_type": "subslide"
    }
   },
   "outputs": [],
   "source": [
    "N = 2  # number of oscillators"
   ]
  },
  {
   "cell_type": "code",
   "execution_count": null,
   "metadata": {
    "slideshow": {
     "slide_type": "fragment"
    }
   },
   "outputs": [],
   "source": [
    "iMK = np.zeros((N, N))  # creates a NxN square matrix filled with zeros\n",
    "# for simplicity, we set omega_s = 1 rad/s\n",
    "# I will fill the matrix in a somewhat clumsy way, for pedagogical reasons\n",
    "# However, there are functions to create tridiagonal matrices automatically\n",
    "iMK[0, 0] = 2.  # top left-hand corner\n",
    "iMK[0 , 1] = -1  # top line, one to the right\n",
    "iMK[-1, -1] = 2  # bottom right-hand corner\n",
    "iMK[-1, -2] = -1  # bottom line, one to the left\n",
    "if N > 2:\n",
    "    for n in range(1, N-1):  # this loop makes filling the matrix automatic\n",
    "        # we loop from the second to the penultimate line, which are all the same\n",
    "        iMK[n, n] = 2  # diagonal terms\n",
    "        iMK[n, n-1] = -1  # lower diagonal\n",
    "        iMK[n, n+1] = -1  # upper diagonal\n",
    "\n",
    "print(iMK)  "
   ]
  },
  {
   "cell_type": "code",
   "execution_count": null,
   "metadata": {
    "slideshow": {
     "slide_type": "subslide"
    }
   },
   "outputs": [],
   "source": [
    "eigvals, eigvecs = LA.eig(iMK)"
   ]
  },
  {
   "cell_type": "code",
   "execution_count": null,
   "metadata": {},
   "outputs": [],
   "source": [
    "print(eigvals)"
   ]
  },
  {
   "cell_type": "code",
   "execution_count": null,
   "metadata": {},
   "outputs": [],
   "source": [
    "eigfreqs = np.sqrt(eigvals)\n",
    "print(eigfreqs)"
   ]
  },
  {
   "cell_type": "code",
   "execution_count": null,
   "metadata": {},
   "outputs": [],
   "source": [
    "print(eigvecs)"
   ]
  },
  {
   "cell_type": "markdown",
   "metadata": {
    "slideshow": {
     "slide_type": "notes"
    }
   },
   "source": [
    "The `numpy.linalg.eig` function returns an output, that is different from the output of the SymPy `eigenvects` method we used earlier:\n",
    "\n",
    "1. the first array lists all eigenvalues (repeated eigenvalues are simply written multiple times).\n",
    "2. the second array provides the corresponding displacement amplitudes of each mass (the so-called polarization relations of each mode). The way it is displayed above, each column (`eigvecs[:, i]`) corresponds to the coefficients of the series of masses for one mode (e.g., all $a_n$ or $b_n$ for mode $n$), while each line (`eigvecs[i, :]`) corresponds to the coefficients of the series of modes for one mass (e.g., all $a_n$, $1 \\leq n \\leq N$, when there are $N$ modes)."
   ]
  },
  {
   "cell_type": "markdown",
   "metadata": {
    "slideshow": {
     "slide_type": "subslide"
    }
   },
   "source": [
    "It is still a bit obscure at this point, and plotting the results will help.\n",
    "But before that, I want to sort the eigenfrequencies from lowest to highest, because ```numpy.linalg.eig``` does not necessarily do it."
   ]
  },
  {
   "cell_type": "code",
   "execution_count": null,
   "metadata": {},
   "outputs": [],
   "source": [
    "# this function returns the sequence that would sort the eigenfrequencies\n",
    "seq = np.argsort(eigfreqs)\n",
    "print(seq)"
   ]
  },
  {
   "cell_type": "code",
   "execution_count": null,
   "metadata": {},
   "outputs": [],
   "source": [
    "# here are the sorted eigenfrequencies:\n",
    "print(eigfreqs[seq])"
   ]
  },
  {
   "cell_type": "code",
   "execution_count": null,
   "metadata": {
    "slideshow": {
     "slide_type": "subslide"
    }
   },
   "outputs": [],
   "source": [
    "# and the corresponding mass position amplitudes are\n",
    "for ii in range(N):\n",
    "    print(eigvecs[:, seq[ii]])"
   ]
  },
  {
   "cell_type": "code",
   "execution_count": null,
   "metadata": {
    "slideshow": {
     "slide_type": "subslide"
    }
   },
   "outputs": [],
   "source": [
    "# Various quantities\n",
    "t_end = 2.*np.pi/eigfreqs.min() # time array spans one longest eigenperiod\n",
    "n_frames = 100  # number of frames for animation\n",
    "time = np.linspace(0., t_end, n_frames)  # time array\n",
    "max_amp = abs(eigvecs.max())  # maximum displacement of any mass in any eigenmode\n",
    "L_inter = 3*max_amp  # distance between the masses; this makes sure that it is enough\n",
    "L_tot = L_inter*float(N+1)  # total length between the two walls;\n",
    "rest_positions = np.arange(L_inter, (N+0.5)*L_inter, L_inter)  # positions at rest"
   ]
  },
  {
   "cell_type": "code",
   "execution_count": null,
   "metadata": {},
   "outputs": [],
   "source": [
    "# prepping the coordinates on the plot: for each time step, we will plot the positions\n",
    "# on the x axis and the mode number on the y axis\n",
    "x_positions = np.zeros((N, N))  # N positions for N modes\n",
    "y_modes = np.zeros((N, N))  # N positions for N modes\n",
    "for mode_number in range(1, N+1):\n",
    "    y_modes[mode_number-1, :] = mode_number"
   ]
  },
  {
   "cell_type": "code",
   "execution_count": null,
   "metadata": {
    "slideshow": {
     "slide_type": "subslide"
    }
   },
   "outputs": [],
   "source": [
    "imagelist = []  # list of frames to eventually animate\n",
    "\n",
    "fig = plt.figure()\n",
    "ax = plt.gca()\n",
    "ax.set_xlim([0., L_tot])\n",
    "ax.set_ylim([0., N+1])\n",
    "ax.set_xticks(rest_positions)\n",
    "ax.set_xlabel('positions')\n",
    "ax.set_yticks(range(1, N+1))\n",
    "ax.set_ylabel('mode number')\n",
    "ax.grid()\n",
    "for t in time:\n",
    "    # We loop over time to animate the masses\n",
    "    for mode_number in range(1, N+1):\n",
    "        ii = seq[mode_number-1]  # this will select the correct mode in the list\n",
    "        x_positions[mode_number-1, :] = (rest_positions\n",
    "                                         + eigvecs[:, ii]*np.cos(eigfreqs[ii]*t))\n",
    "    im = plt.scatter(x_positions, y_modes, c=y_modes, cmap='copper')\n",
    "    imagelist.append([im])\n",
    "    \n",
    "ani = animation.ArtistAnimation(fig, imagelist, interval=50, blit=True, repeat_delay=1000)\n",
    "plt.close()"
   ]
  },
  {
   "cell_type": "code",
   "execution_count": null,
   "metadata": {
    "scrolled": true,
    "slideshow": {
     "slide_type": "subslide"
    }
   },
   "outputs": [],
   "source": [
    "# Show the animation\n",
    "HTML(ani.to_html5_video())"
   ]
  },
  {
   "cell_type": "code",
   "execution_count": null,
   "metadata": {
    "slideshow": {
     "slide_type": "skip"
    }
   },
   "outputs": [],
   "source": [
    "# Save the animation\n",
    "ani.save('masses_for_{0:02d}_modes.mp4'.format(N), dpi=100)"
   ]
  },
  {
   "cell_type": "markdown",
   "metadata": {
    "slideshow": {
     "slide_type": "skip"
    }
   },
   "source": [
    "The last command saves the animation as a ```.mp4``` video file. I saved a few and uploaded them onto Quercus."
   ]
  },
  {
   "cell_type": "markdown",
   "metadata": {
    "slideshow": {
     "slide_type": "skip"
    }
   },
   "source": [
    "A few comments.\n",
    "You are not required to remember them at this point, but you will later on in this lecture series on waves and oscillations, so might as well start early.\n",
    "\n",
    "* For some modes, some masses don't move, or hardly at all. Likewise, some masses move symmetrically around points that would be associated with zero velocity if they had a mass on them. Such points are called \"nodes\". In-between nodes are locations where the velocities seem larger. These points are called \"antinodes\". We will be able to visualize them better with waves on a string.\n",
    "* The distance between two nodes corresponds to half a wavelength: every two nodes, the motion is periodic (spatial periodicity).\n",
    "* The larger the mode number (or the frequency) is, the more nodes there are, or equivalently, the shorter the wavelengths are. As a matter of fact, the first mode has zero nodes, the second mode has one node, and the $n^{th}$ has $n-1$ nodes. This is a general feature of standing waves, again better visualized with waves on a string.\n",
    "* Modes with more nodes are called \"higher modes\", those with less nodes are called \"low\", or \"grave\". The terminology comes from sound waves. Sound waves with larger wavelengths sound indeed graver (lower frequency) than sound waves with smaller wavelengths (higher frequencies)."
   ]
  }
 ],
 "metadata": {
  "anaconda-cloud": {},
  "celltoolbar": "Slideshow",
  "kernelspec": {
   "display_name": "Python [default]",
   "language": "python",
   "name": "python3"
  },
  "language_info": {
   "codemirror_mode": {
    "name": "ipython",
    "version": 3
   },
   "file_extension": ".py",
   "mimetype": "text/x-python",
   "name": "python",
   "nbconvert_exporter": "python",
   "pygments_lexer": "ipython3",
   "version": "3.5.6"
  }
 },
 "nbformat": 4,
 "nbformat_minor": 1
}
