{
 "cells": [
  {
   "cell_type": "raw",
   "metadata": {
    "raw_mimetype": "text/latex",
    "scrolled": true,
    "slideshow": {
     "slide_type": "skip"
    }
   },
   "source": [
    "\\newcommand{\\rads}{~rad.s$^{-1}$}\n",
    "\\newcommand{\\bnabla}{\\boldsymbol{\\nabla}}\n",
    "\\newcommand{\\eexp}[1]{\\textrm{e}^{#1}}\n",
    "\\newcommand{\\glm}[1]{\\overline{#1}^L}\n",
    "\\newcommand{\\di}[0]{\\textrm{d}}\n",
    "\\newcommand{\\bs}[1]{\\boldsymbol{#1}}\n",
    "\\newcommand{\\ode}[2]{\\frac{\\di {#1}}{\\di {#2}}}\n",
    "\\newcommand{\\oden}[3]{\\frac{\\di^{#1} {#2}}{\\di {#3}^{#1}}}\n",
    "\\newcommand{\\odel}[2]{\\di {#1}/\\di {#2}}\n",
    "\\newcommand{\\odeln}[3]{\\di^{#1} {#2}/\\di {#3}^{#1}}\n",
    "\\newcommand{\\pde}[2]{\\frac{\\partial {#1}}{\\partial {#2}}}\n",
    "\\newcommand{\\pden}[3]{\\frac{\\partial^{#1} {#2}}{\\partial {#3}^{#1}}}\n",
    "\\newcommand{\\pdel}[2]{\\partial_{#2} {#1}}\n",
    "\\newcommand{\\pdenl}[3]{\\partial^{#1}_{#3} {#2}}\n",
    "\\newcommand{\\divr}[1]{\\vec\\nabla \\cdot {#1}}\n",
    "\\newcommand{\\divrb}[1]{\\boldsymbol{\\nabla} \\cdot {#1}}\n",
    "\\newcommand{\\grad}[1]{\\vec \\nabla {#1}}\n",
    "\\newcommand{\\gradb}[1]{\\boldsymbol\\nabla {#1}}\n",
    "\\newcommand{\\curl}[1]{\\vec\\nabla \\times {#1}}\n",
    "\\newcommand{\\curlb}[1]{\\boldsymbol{\\nabla}\\times\\boldsymbol{#1}}\n",
    "\\newcommand{\\lapl}[0]{\\vec\\nabla^2}\n",
    "\\newcommand{\\laplb}[0]{\\boldsymbol{\\nabla}^2}\n",
    "\\newcommand{\\cplxi}[0]{\\mathrm i}\n",
    "\\newcommand{\\unit}[1]{\\mathbf{\\hat{#1}}}\n",
    "\\newcommand{\\thrfor}[0]{\\quad\\Rightarrow\\quad}\n",
    "\\newcommand{\\and}[0]{\\quad\\textrm{and}\\quad}\n",
    "\\newcommand{\\oreq}[0]{\\quad\\textrm{or}\\quad}\n",
    "\\newcommand{\\red}[1]{\\textcolor{red}{#1}}\n",
    "\\newcommand{\\blue}[1]{\\textcolor{blue}{#1}}\n",
    "\\newcommand{\\mage}[1]{\\textcolor{magenta}{#1}}\n",
    "\\newcommand{\\stirling}[2]{\\genfrac{[}{]}{0pt}{}{#1}{#2}}"
   ]
  },
  {
   "cell_type": "raw",
   "metadata": {
    "raw_mimetype": "text/latex",
    "slideshow": {
     "slide_type": "skip"
    }
   },
   "source": [
    "\\DefineVerbatimEnvironment{Verbatim}{Verbatim}{fontsize=\\scriptsize}"
   ]
  },
  {
   "cell_type": "markdown",
   "metadata": {
    "slideshow": {
     "slide_type": "skip"
    }
   },
   "source": [
    "$\\newcommand{\\rads}{~rad.s$^{-1}$}$\n",
    "$\\newcommand{\\bnabla}{\\boldsymbol{\\nabla}}$\n",
    "$\\newcommand{\\eexp}[1]{\\textrm{e}^{#1}}$\n",
    "$\\newcommand{\\glm}[1]{\\overline{#1}^L}$\n",
    "$\\newcommand{\\di}[0]{\\textrm{d}}$\n",
    "$\\newcommand{\\bs}[1]{\\boldsymbol{#1}}$\n",
    "$\\newcommand{\\ode}[2]{\\frac{\\di {#1}}{\\di {#2}}}$\n",
    "$\\newcommand{\\oden}[3]{\\frac{\\di^{#1} {#2}}{\\di {#3}^{#1}}}$\n",
    "$\\newcommand{\\odel}[2]{\\di {#1}/\\di {#2}}$\n",
    "$\\newcommand{\\odeln}[3]{\\di^{#1} {#2}/\\di {#3}^{#1}}$\n",
    "$\\newcommand{\\pde}[2]{\\frac{\\partial {#1}}{\\partial {#2}}}$\n",
    "$\\newcommand{\\pden}[3]{\\frac{\\partial^{#1} {#2}}{\\partial {#3}^{#1}}}$\n",
    "$\\newcommand{\\pdel}[2]{\\partial_{#2} {#1}}$\n",
    "$\\newcommand{\\pdenl}[3]{\\partial^{#1}_{#3} {#2}}$\n",
    "$\\newcommand{\\mde}[1]{\\frac{\\textrm{D} {#1}}{\\textrm{D} t}}$\n",
    "$\\newcommand{\\mdel}[1]{\\textrm{D}_t {#1}}$\n",
    "$\\newcommand{\\divr}[1]{\\vec\\nabla \\cdot {#1}}$\n",
    "$\\newcommand{\\divrb}[1]{\\boldsymbol{\\nabla} \\cdot {#1}}$\n",
    "$\\newcommand{\\grad}[1]{\\vec \\nabla {#1}}$\n",
    "$\\newcommand{\\gradb}[1]{\\boldsymbol\\nabla {#1}}$\n",
    "$\\newcommand{\\curl}[1]{\\vec\\nabla \\times {#1}}$\n",
    "$\\newcommand{\\curlb}[1]{\\boldsymbol{\\nabla}\\times\\boldsymbol{#1}}$\n",
    "$\\newcommand{\\lapl}[0]{\\vec\\nabla^2}$\n",
    "$\\newcommand{\\laplb}[0]{\\boldsymbol{\\nabla}^2}$\n",
    "$\\newcommand{\\cplxi}[0]{\\mathrm i}$\n",
    "$\\newcommand{\\unit}[1]{\\mathbf{\\hat{#1}}}$\n",
    "$\\newcommand{\\thrfor}[0]{\\quad\\Rightarrow\\quad}$\n",
    "$\\newcommand{\\and}[0]{\\quad\\textrm{and}\\quad}$\n",
    "$\\newcommand{\\oreq}[0]{\\quad\\textrm{or}\\quad}$\n",
    "$\\newcommand{\\red}[1]{\\textcolor{red}{#1}}$\n",
    "$\\newcommand{\\blue}[1]{\\textcolor{blue}{#1}}$\n",
    "$\\newcommand{\\mage}[1]{\\textcolor{magenta}{#1}}$\n",
    "$\\newcommand{\\stirling}[2]{\\genfrac{[}{]}{0pt}{}{#1}{#2}}$"
   ]
  },
  {
   "cell_type": "markdown",
   "metadata": {
    "slideshow": {
     "slide_type": "skip"
    }
   },
   "source": [
    "*[Book: varies from section to section.]*"
   ]
  },
  {
   "cell_type": "markdown",
   "metadata": {
    "slideshow": {
     "slide_type": "skip"
    }
   },
   "source": [
    "# Introduction"
   ]
  },
  {
   "cell_type": "markdown",
   "metadata": {
    "slideshow": {
     "slide_type": "skip"
    }
   },
   "source": [
    "It is difficult to define what a wave is, but it is easy to recognise one.\n",
    "Perhaps the most general definition of a linear wave is that it is a travelling disturbance, although one by which no matter travels on average, and which obeys a linear dispersion law (to be defined).\n",
    "For example, sound waves are pressure waves. \n",
    "At the microscopic level, molecules of a fluid \"bump\" into each other, but return to their original position on average.\n",
    "The restoring force is simply provided by return of momentum to sender at shock, and damping can happen if the shocks are not completely elastic.\n",
    "The position of a molecule can therefore be very crudely modelled as a SHO or DHO.\n",
    "In a solid, it is the displacement of the atoms around their preferred rest position when the wave travels that in turn displaces neighbouring atoms, etc.\n",
    "On average however, the atoms themselves do not travel.\n",
    "I could multiply the examples: swell, waves in a pond, seismic waves, electromagnetic waves, gravitational waves, my very own oceanic internal inertia-gravity waves, stadium waves, and of course the quantum waves that Profs. Krasnopolskaia and Paramekanti will talk about in the rest of PHY293 and 294."
   ]
  },
  {
   "cell_type": "markdown",
   "metadata": {
    "slideshow": {
     "slide_type": "skip"
    }
   },
   "source": [
    "Waves travel in a continuum.\n",
    "Sometimes the continuum is an approximation of a discrete medium, like a gas of molecules or a crystal being approximated as a smooth, \"grainless\" medium, or like a super long chain of masses attached by springs.\n",
    "And sometimes, the medium is actually a continuum.\n",
    "For example, the ultimate continuum is vacuum, which can support the propagation of EM waves."
   ]
  },
  {
   "cell_type": "markdown",
   "metadata": {
    "slideshow": {
     "slide_type": "skip"
    }
   },
   "source": [
    "A continuum can therefore be modeled as an infinite number of oscillators, coupled together.\n",
    "Based on the results of the previous chapters, an infinite number of modes of oscillations can arise.\n",
    "As in the previous chapter, a given mode will be characterized by a certain number of nodes and antinodes.\n",
    "If the boundaries are constrained enough that they force the creation of nodes (like our coupled masses attached to walls or strings on a guitar) or antinodes (like when one blows in a flute, or water waves against a vertical wall), the waves are called \"standing waves\".\n",
    "Their formalism is very close to the types of eigenvalue problems we encountered in the previous chapter, which we describe now."
   ]
  },
  {
   "cell_type": "markdown",
   "metadata": {
    "slideshow": {
     "slide_type": "skip"
    }
   },
   "source": [
    "# Expectations"
   ]
  },
  {
   "cell_type": "markdown",
   "metadata": {
    "slideshow": {
     "slide_type": "slide"
    }
   },
   "source": [
    "## Remember\n",
    "\n",
    "* **The wave equation!!!**\n",
    "* What the phase speed is.\n",
    "* What the separation of variables method is.\n",
    "* The expression of the phase speed for a taut string (useful during tests).\n",
    "* The meaning and definitions of the wavenumbers $k_n$, angular frequencies $\\omega_n$ and wavelengths $\\lambda_n$.\n",
    "* The orthogonality relations for sines and cosines.\n",
    "* The energy of any solution is the sum of the energies of each single mode."
   ]
  },
  {
   "cell_type": "markdown",
   "metadata": {
    "slideshow": {
     "slide_type": "-"
    }
   },
   "source": [
    "## Understand\n",
    "\n",
    "* Why standing wave modes are orthogonal normal modes of the vibrating taut string.\n",
    "* How and why standing wave modes behave like simple harmonic oscillators.\n",
    "* How boundary conditions make the set of possible $k_n$ discrete (countably infinite)."
   ]
  },
  {
   "cell_type": "markdown",
   "metadata": {
    "slideshow": {
     "slide_type": "-"
    }
   },
   "source": [
    "## Apply\n",
    "\n",
    "* Apply boundary conditions to standing wave modes.\n",
    "* Anything that appears in the worked examples, tutorials and problem sets."
   ]
  },
  {
   "cell_type": "markdown",
   "metadata": {
    "slideshow": {
     "slide_type": "skip"
    }
   },
   "source": [
    "# The Taut String"
   ]
  },
  {
   "cell_type": "markdown",
   "metadata": {
    "slideshow": {
     "slide_type": "skip"
    }
   },
   "source": [
    "Following the spirit of this lecture series, we are only interested in the equations themselves, not the physical coefficients. \n",
    "This is because the linear equations are generic, while the coefficients will better be derived in specialized courses.\n",
    "Therefore, we choose a propagation medium, that is as simple as we can: the taut string[^1].\n",
    "Because it is taut, shaking does not induce large displacements of the string, nor does it induce large slopes of the string.\n",
    "That is, $\\tan\\theta = \\odel{y}x \\ll 1$, where $x$ is the along-string direction and $y$ is the across-string direction (cf. fig. 5.8 of King, reproduced here; we assume that the string vibrations only happen in a plane, which means that we do not need a third dimension to describe it; adding a third dimension would be meaningful if we were interested in the Physics, while we only care about the general behaviour of the equation).\n",
    "\n",
    "[^1]: I had to look it up, other non-native English speakers might want to know that according to dictionary.com, it means tightly drawn; tense; not slack."
   ]
  },
  {
   "cell_type": "markdown",
   "metadata": {
    "slideshow": {
     "slide_type": "skip"
    }
   },
   "source": [
    "The smallness of the parameter means that the oscillations of a piece of string are linear.\n",
    "A restoring force brings the string back to the main axis, and each piece of string can be described as a simple or damped harmonic oscillator, coupled to its neighbours to the left and right.\n",
    "Because the piece of spring can be arbitrarily small, the number of coupled oscillators is infinite.\n",
    "Therefore, we have all the ingredients to study the wave equation."
   ]
  },
  {
   "cell_type": "markdown",
   "metadata": {
    "slideshow": {
     "slide_type": "slide"
    }
   },
   "source": [
    "![Fig. 1: King 5.8](String.png)"
   ]
  },
  {
   "cell_type": "markdown",
   "metadata": {
    "slideshow": {
     "slide_type": "slide"
    }
   },
   "source": [
    "# The Wave Equation"
   ]
  },
  {
   "cell_type": "markdown",
   "metadata": {
    "slideshow": {
     "slide_type": "skip"
    }
   },
   "source": [
    "*[Book: §§ 5.1, 5.3]*"
   ]
  },
  {
   "cell_type": "markdown",
   "metadata": {
    "slideshow": {
     "slide_type": "skip"
    }
   },
   "source": [
    "Let's break down the string into infinitesimally small slices, and let's consider in particular a piece of string that is located between $x_0$ and $x_0 + \\delta x$ (see fig. 1).\n",
    "The transverse displacements are along the $y$-axis, and we identify them as $y(x, t)$.\n",
    "The string has pass per unit length $\\mu$ (in kg/m), and is submitted to a tension $T$ (in N), which we treat as constant along the string.\n",
    "At the ends of the tiny slice, the string makes an angle $\\theta$ with the $x$-axis at $x_0$, and $\\theta + \\delta \\theta$ at $x_0+\\delta x$ (again, see fig. 1).\n",
    "\n",
    "Let's do the Newton, $m\\vec a = \\sum \\vec F$, on that piece of string ($m = \\mu \\delta x$).\n",
    "Actually, we are only interested in the transverse phenomena, i.e., $m\\ddot y = \\sum F_y$.\n",
    "\n",
    "Therefore, let's consider the $y$-component of the tension, because it is the one that restores the position of the string to its resting, along-$x$ situation.\n",
    "At $x=x_0$, the $y$-component of the tension is \n",
    "$$\\left.F_y\\right|_{x_0} = -T\\sin\\theta \\approx -T\\theta \\approx -T\\tan\\theta = -T\\left.\\pde{y}x\\right|_{x_0}.$$\n",
    "The minus sign is because if $\\theta > 0$, the force pulls in the negative direction (see fig. 1).\n",
    "The successive approximations I made above work well in the small-displacements regime.\n",
    "The regime corresponds to the **linear regime** of this physical system, the only one we tackle in this course.\n",
    "\n",
    "Similarly, at $x=x_0 + \\delta x$,\n",
    "$$\\left.F_y\\right|_{x_0+\\delta x} \\approx T\\left.\\pde{y}x\\right|_{x_0+\\delta x}.$$\n",
    "Note the positive sign this time, because the situation is opposite as before.\n",
    "\n",
    "The slice is infinitesimally small, and we have no reason to believe that a discontinuity exists between $x_0$ and $x_0 + \\delta x$ (if there is one, then we just pick a smaller $\\delta x$).\n",
    "For these reasons, we can Taylor-expand $\\left.F_y\\right|_{x_0+\\delta x}$ into\n",
    "$$ \\left.F_y\\right|_{x_0+\\delta x} \\approx T \\left(\\left. \\pde{y}x \\right|_{x_0} + \\delta x \\left. \\pde{}x\\pde{y}x \\right|_{x_0} \\right) = -\\left.F_y\\right|_{x_0} + \\delta x \\, T \\left. \\pden2{y}x \\right|_{x_0}.$$\n",
    "\n",
    "Neglecting all other forces like gravity, Newton then tells you that\n",
    "$$ \\mu \\delta x \\pden2yt = \\left.F_y\\right|_{x_0} + \\left.F_y\\right|_{x_0 + \\delta} \\approx \\delta x \\, T \\left. \\pden2{y}x \\right|_{x_0}.$$"
   ]
  },
  {
   "cell_type": "markdown",
   "metadata": {
    "slideshow": {
     "slide_type": "-"
    }
   },
   "source": [
    "Dividing by the mass and introducing $v^2 = T/\\mu$, we find\n",
    "$$ \\boxed{\\pden2yt = v^2\\pden2yx}.\\hspace{5cm} (1)$$"
   ]
  },
  {
   "cell_type": "markdown",
   "metadata": {
    "slideshow": {
     "slide_type": "skip"
    }
   },
   "source": [
    "Again, $y(x,t)$ is the distance from axis at location $x$ and time $t$, and $v$ is the so-called *phase speed* of the waves.\n",
    "It is the speed at which the disturbance propagates along the string, and we treat it as a constant.\n",
    "This is a vague definition at this point, because we don't have all the tools necessary to understand the subtleties of propagation speed.\n",
    "But basically, imagine launching a wave pulse on a long rope (cf. King fig. 5.1, reproduced here), and imagine that somehow, the motion of your hand described a so-called \"Gaussian function\" $y(t) = A\\exp[-(t-t_0)^2/\\sigma_t^2]$.\n",
    "This function means that your hand motion went from 0 at $t \\ll t_0$ to $A$ at $t=t_0$ and back to 0 for $t \\to \\infty$, and that the motion typically lasted a duration of $2\\sigma_t$.\n",
    "This function look like a bell curve and is one of the most frequently encountered functions in physics."
   ]
  },
  {
   "cell_type": "markdown",
   "metadata": {
    "slideshow": {
     "slide_type": "subslide"
    }
   },
   "source": [
    "![King 5.1](RopePulse.png)"
   ]
  },
  {
   "cell_type": "markdown",
   "metadata": {
    "slideshow": {
     "slide_type": "skip"
    }
   },
   "source": [
    "Assuming that the waves on the rope are not too dispersive (we will see later what this means precisely), i.e., the pulse retains it shape, then the shape of the pulse on the rope will be\n",
    "$$ y(x, t) = A \\exp\\left[-\\left(\\frac{x - vt}{\\sigma_x}\\right)^2\\right] = A \\exp\\left[-\\left(\\frac{t - x/v}{\\sigma_t}\\right)^2\\right],$$\n",
    "i.e, it will look like a Gaussian function in space, propagating with a speed $v$, with a typical spatial width of $2\\sigma_x = 2v\\sigma_t$, but also in time, with a typical temporal width $2\\sigma_t$."
   ]
  },
  {
   "cell_type": "code",
   "execution_count": 3,
   "metadata": {
    "slideshow": {
     "slide_type": "skip"
    }
   },
   "outputs": [],
   "source": [
    "# We can plot this\n",
    "import numpy as np\n",
    "import matplotlib.pyplot as plt\n",
    "\n",
    "x = np.linspace(-1., 5.0, 1024)  # a 4-m long rope\n",
    "sigma_x = 0.5  # typical width of pulse\n",
    "A = 1.  # amplitude of diplacement 1 m (just for illustration purposes)\n",
    "v = 1.  # propagation velocity 1 m/s (for illustration purposes)\n",
    "t0 = 0.  # time of first snapshot\n",
    "t1 = 2.  # time of second snapshot\n",
    "ftsz = 13  # the font size\n",
    "\n",
    "y_t0 = A*np.exp(-((x - v*t0)/sigma_x)**2)\n",
    "y_t1 = A*np.exp(-((x - v*t1)/sigma_x)**2)\n",
    "\n",
    "plt.figure()\n",
    "ax = plt.gca()\n",
    "ax.plot(x, y_t0, 'b', label='pulse at $t=t_0$')\n",
    "ax.plot(x, y_t1, 'r--', label='pulse at $t=t_0+\\Delta t$')\n",
    "ax.set_xlabel('$x$ [m]', fontsize=ftsz)\n",
    "ax.set_ylabel('$y/A$', fontsize=ftsz)\n",
    "ax.grid()\n",
    "\n",
    "# annotation to highlight the spatial width of pulse\n",
    "ax.plot(2*[-sigma_x], [0.5/np.exp(1), 1.3/np.exp(1)], 'k')\n",
    "ax.plot(2*[sigma_x], [0.5/np.exp(1), 1.3/np.exp(1)], 'k')\n",
    "ax.annotate(s='', xy=(-sigma_x, .3), xytext=(sigma_x, 0.3),\n",
    "            arrowprops=dict(arrowstyle='<|-|>'))  # the double arrow\n",
    "ax.text(0., 0.3, r'$2\\sigma_x$',\n",
    "        verticalalignment='center', horizontalalignment='center',\n",
    "        backgroundcolor='w', fontsize=ftsz)\n",
    "\n",
    "# annotation to highlight the distance travelled during Delta t\n",
    "ax.axvline(0., color='k', linestyle='--')\n",
    "ax.axvline(v*(t1-t0), color='k', linestyle='--')\n",
    "ax.annotate(s='', xy=(0., .8), xytext=(v*(t1-t0), 0.8),\n",
    "            arrowprops=dict(arrowstyle='<|-'))  # the double arrow\n",
    "ax.text(0.5*v*(t1-t0), 0.8, r'$v\\Delta t$',\n",
    "        verticalalignment='center', horizontalalignment='center',\n",
    "        backgroundcolor='w', fontsize=ftsz)\n",
    "\n",
    "plt.legend(loc='center right')\n",
    "plt.autoscale(enable=True, axis='x', tight=True)\n",
    "plt.savefig('TranslatingPulse.png', dpi=100)\n",
    "plt.close()"
   ]
  },
  {
   "cell_type": "markdown",
   "metadata": {
    "slideshow": {
     "slide_type": "subslide"
    }
   },
   "source": [
    "![Fig. 2: translating pulse](TranslatingPulse.png)"
   ]
  },
  {
   "cell_type": "markdown",
   "metadata": {
    "slideshow": {
     "slide_type": "subslide"
    }
   },
   "source": [
    "While the wave equation has the same form in many contexts, the definition of $v$ varies from field to field.\n",
    "\n",
    "* EM waves in a vacuum: $v = c \\approx 3\\times 10^8$ m.s$^{-1}$;\n",
    "* water waves whose wavelength is much longer than the depth, like ocean swell or tsunamis, $v = \\sqrt{gh}$, with $g$ the gravitational acceleration [in m.s$^{-2}$] and $h$ the water depth [in m]. Onto the deep sea, where $h \\approx 5$ km, $v\\approx 220$ m.s$^{-1} \\approx$ 800 km.h$^{-1}$. This is faster than the speed of sound, but again, remember that waves don't carry water around. It is not that crazy. It means that a Tsunami originating in Japan will take 10 hours to arrive on Canada's West coast;\n",
    "* sound waves: $v = 340$ m.s$^{-1}$ in air; in water $\\sim 1,500$ m.s$^{-1}$;\n",
    "* seismic primary (or pressure) waves ($\\approx$ sound waves) in the Earth's Crust: $v\\approx 6-8$ km.s$^{-1}$,\n",
    "* seismic secondary (or shear) waves in the Earth's crust: $v\\approx 3-4$ km.s$^{-1}$,\n",
    "* ... and for our taut string, $v = \\sqrt{T/\\mu}$, with $T$ the along-axis tension force [in N] and $\\mu$ the mass per unit length of the string [in kg.m$^{-1}$]. For a violin E string (the skinniest I think), $T \\approx 68$ N, $\\mu \\approx 0.126$ g for $33$ cm long, or $3.8\\times 10^{-4}$ kg.m$^{-1}$, and $v \\approx 420$ m.s$^{-1}$."
   ]
  },
  {
   "cell_type": "markdown",
   "metadata": {
    "slideshow": {
     "slide_type": "subslide"
    }
   },
   "source": [
    "# Standing Waves\n",
    "\n",
    "*[Book: § 6.1]*"
   ]
  },
  {
   "cell_type": "markdown",
   "metadata": {
    "slideshow": {
     "slide_type": "skip"
    }
   },
   "source": [
    "## General expression"
   ]
  },
  {
   "cell_type": "markdown",
   "metadata": {
    "slideshow": {
     "slide_type": "skip"
    }
   },
   "source": [
    "We will talk about traveling waves in the next chapter.\n",
    "Right now, we focus on *standing waves*, traveling waves' evil twins.\n",
    "Both descriptions are interchangeable: standing waves can be described and the sum of two traveling waves, and traveling waves can be decomposed on a basis of standing waves, which are the equivalent of the normal modes of the previous chapter.\n",
    "More on this later, but for now, let's dive in."
   ]
  },
  {
   "cell_type": "markdown",
   "metadata": {
    "slideshow": {
     "slide_type": "skip"
    }
   },
   "source": [
    "The key step is to **assume a form of the solutions to the wave equation (1) in which the variables are separable**:\n",
    "$$ \\boxed{y(x, t) = f(x) h(t)}.$$"
   ]
  },
  {
   "cell_type": "markdown",
   "metadata": {
    "slideshow": {
     "slide_type": "skip"
    }
   },
   "source": [
    "*Note: another try, another mathematical trick. How could you come up with it? You don't have to. As a researcher, I can tell that it is one of the easiest and therefore first things to do when one doesn't know anything about the solution. For you, just remember that it works. But remember it well, because it is important!*"
   ]
  },
  {
   "cell_type": "markdown",
   "metadata": {
    "slideshow": {
     "slide_type": "skip"
    }
   },
   "source": [
    "Therefore,\n",
    "$$ \\pden2yt = f(x)\\oden2{h(t)}t = f(x)\\ddot h(t) \\and \\pden2yx = h(t)\\oden2{f(x)}x = h(t)f''(x), $$\n",
    "and the wave equation becomes\n",
    "$$  f(x)\\oden2{h(t)}t = v^2 h(t)\\oden2{f(x)}x. $$"
   ]
  },
  {
   "cell_type": "markdown",
   "metadata": {
    "slideshow": {
     "slide_type": "skip"
    }
   },
   "source": [
    "The usefulness of this form is not apparent until after division by $f(x)h(t)$, i.e.\n",
    "$$ \\frac{1}{h(t)}\\oden2{h(t)}t = v^2 \\frac{1}{f(x)}\\oden2{f(x)}x. $$"
   ]
  },
  {
   "cell_type": "markdown",
   "metadata": {
    "slideshow": {
     "slide_type": "skip"
    }
   },
   "source": [
    "Looking at the equation closely, one notices that the LHS only depends on $t$, while the RHS only depends on $x$ (recall that $v$ is constant).\n",
    "The only way for two functions that depend on two different variables to be equal to each other is for both of them to be equal to a constant, i.e.,\n",
    "$$ \\frac{1}{h(t)}\\oden2{h(t)}t = v^2 \\frac{1}{f(x)}\\oden2{f(x)}x = -\\omega^2. $$"
   ]
  },
  {
   "cell_type": "markdown",
   "metadata": {
    "slideshow": {
     "slide_type": "fragment"
    }
   },
   "source": [
    "Why $-\\omega^2$? Because, for example,\n",
    "$$ \\frac{1}{h(t)}\\oden2{h(t)}t = -\\omega^2 \\thrfor \\boxed{\\ddot h(t) + \\omega^2 h(t) = 0}. $$\n",
    "This is the **same equation as an SHO**, and the solution is still\n",
    "$$ h(t) = H\\cos(\\omega t + \\phi). $$"
   ]
  },
  {
   "cell_type": "markdown",
   "metadata": {
    "slideshow": {
     "slide_type": "subslide"
    }
   },
   "source": [
    "Likewise,\n",
    "$$ f(x) = F\\cos(kx + \\phi_f), \\quad \\textrm{with} \\quad k = \\omega/v. $$"
   ]
  },
  {
   "cell_type": "markdown",
   "metadata": {
    "slideshow": {
     "slide_type": "skip"
    }
   },
   "source": [
    "In this chapter however, it will be easier for us to write the expression above as\n",
    "$$ f(x) = A \\cos(kx) + B \\sin(kx). $$"
   ]
  },
  {
   "cell_type": "markdown",
   "metadata": {
    "slideshow": {
     "slide_type": "skip"
    }
   },
   "source": [
    "Can we write \n",
    "$$ y(x, t) = H \\cos(\\omega t + \\phi)\\left[ A \\cos(kx) + B \\sin(kx) \\right] $$\n",
    "yet?\n",
    "Not quite, because $\\omega$ and $k$ can take many values.\n",
    "As we are about to see, for a given set of boundary conditions, there is a discrete but infinite number of possible solutions for $f$ and $h$."
   ]
  },
  {
   "cell_type": "markdown",
   "metadata": {
    "slideshow": {
     "slide_type": "skip"
    }
   },
   "source": [
    "***\n",
    "\n",
    "*End of 30 September lecture, beginning of 1 October lecture.*\n",
    "\n",
    "***"
   ]
  },
  {
   "cell_type": "markdown",
   "metadata": {
    "slideshow": {
     "slide_type": "skip"
    }
   },
   "source": [
    "## Boundary conditions"
   ]
  },
  {
   "cell_type": "markdown",
   "metadata": {
    "slideshow": {
     "slide_type": "skip"
    }
   },
   "source": [
    "In this chapter, we will solely focus on a string, that is attached at both ends.\n",
    "Let $x=L$ and $x=0$ be the locations of the walls.\n",
    "Mathematically, the statement translates into:\n",
    "$$ y(t, 0) = y(t, L) = 0 \\thrfor f(0) = f(L) = 0.$$"
   ]
  },
  {
   "cell_type": "markdown",
   "metadata": {
    "slideshow": {
     "slide_type": "skip"
    }
   },
   "source": [
    "$$ f(0) = A\\cos0 + B\\sin0 = A = 0. $$\n",
    "$$ \\thrfor f(L) = B\\sin(kL) = 0 \\thrfor kL = n\\pi, \\ n\\in \\mathbb N^*. $$\n",
    "$\\mathbb N^*$ means that zero is excluded.\n",
    "Indeed, because $k = \\omega/v$, $k=0\\Rightarrow\\omega = 0$, i.e., it is a trivial, non-oscillating solution.\n",
    "\n",
    "Strictly mathematically, I should actually write $n\\in \\mathbb Z^*$ instead.\n",
    "But $k<0$ means that $\\sin(kx) < 0$, and the result is the same if $B<0$ (which is weird) or $\\phi_h$ is augmented by $\\pi$ (which describes the same physical reality).\n",
    "Therefore, I will use $n \\in \\mathbb N^*$."
   ]
  },
  {
   "cell_type": "markdown",
   "metadata": {
    "slideshow": {
     "slide_type": "subslide"
    }
   },
   "source": [
    "Consequently, an infinite number of $k$'s can satisfy the wave equation when both ends are attached:\n",
    "$$ \\boxed{k_n = \\frac{n\\pi}L, \\quad n\\in \\mathbb N^*}. $$"
   ]
  },
  {
   "cell_type": "markdown",
   "metadata": {},
   "source": [
    "Recall that $k = \\omega/v$, therefore, the set of frequencies is also a countably infinite set:\n",
    "$$ \\boxed{\\omega_n = \\frac{n\\pi v}L, \\quad n\\in \\mathbb N^*}. $$"
   ]
  },
  {
   "cell_type": "markdown",
   "metadata": {
    "slideshow": {
     "slide_type": "skip"
    }
   },
   "source": [
    "The corresponding solution for a given $n$ is therefore\n",
    "$$ y_n(t, x) = C_n \\cos(\\omega_n t + \\phi_n)\\sin(k_n x). $$\n",
    "Such a partial solution is a **mode of vibration** of the string.\n",
    "It is of course the equivalent of the normal modes of the coupled systems of oscillators we saw in the last chapter.\n",
    "There is now an infinite number of them, because the string is a continuous system that can be viewed as an infinite number of coupled oscillators."
   ]
  },
  {
   "cell_type": "markdown",
   "metadata": {},
   "source": [
    "Like in the previous chapter, any solution can be written as a linear combination of a countably infinite set of **modes**, i.e.,\n",
    "$$ \\boxed{y(t, x) = \\sum_{n = 1}^{\\infty} C_n \\cos(\\omega_n t + \\phi_n)\\sin(k_n x)}. \\hspace{5cm} (2)$$"
   ]
  },
  {
   "cell_type": "code",
   "execution_count": 4,
   "metadata": {
    "slideshow": {
     "slide_type": "skip"
    }
   },
   "outputs": [],
   "source": [
    "# the following two packages allow me to display the animation\n",
    "from matplotlib import animation\n",
    "from IPython.display import HTML\n",
    "# More about animations: \n",
    "# https://stackoverflow.com/questions/43445103/inline-animations-in-jupyter\n",
    "# http://louistiao.me/posts/notebooks/embedding-matplotlib-animations-in-jupyter-notebooks/"
   ]
  },
  {
   "cell_type": "code",
   "execution_count": 5,
   "metadata": {
    "slideshow": {
     "slide_type": "skip"
    }
   },
   "outputs": [],
   "source": [
    "N = 4  # number of modes I want to display\n",
    "L = .33  # length of string: 33 cm\n",
    "T = 68  # tension in the string: 68 N\n",
    "mu = 0.125/L  # mass per unit lenght of the string\n",
    "\n",
    "x = np.linspace(0., L, 128)  # the x array\n",
    "v = np.sqrt(T/mu)  # phase speed\n",
    "k0 = np.pi/L  # the fundamental k; k_n = n*k0 and omega_n = n*v*k0\n",
    "\n",
    "k = [n*k0 for n in range(1, N+1)]  # the list of k's\n",
    "omega = [n*k0*v for n in range(1, N+1)]  # the list of k's\n",
    "C = [0.2+0.3/n for n in range(1, N+1)]  # I let the amplitude decrease with mode number, aribrarily\n",
    "f_modes = {}  # we will store the modes into a python structure called dictionary\n",
    "# f_modes only stores the spatial information\n",
    "for n in range(N):\n",
    "    f_modes[n] = np.sin(k[n]*x)"
   ]
  },
  {
   "cell_type": "code",
   "execution_count": 6,
   "metadata": {
    "slideshow": {
     "slide_type": "skip"
    }
   },
   "outputs": [],
   "source": [
    "# Various quantities\n",
    "t_end = 2.*np.pi/(omega[0]) # time array spans one fundamental frequency\n",
    "n_frames = 50  # number of frames for animation\n",
    "time = np.linspace(0., t_end, n_frames)  # time array\n",
    "\n",
    "imagelist = []  # list of frames to eventually animate\n",
    "\n",
    "# Animation\n",
    "fig = plt.figure()\n",
    "ax = plt.gca()\n",
    "ax.set_xlim([0., 1.])\n",
    "ax.set_ylim([0.5, N+0.5])\n",
    "ax.set_xlabel('$x/L$', fontsize=ftsz)\n",
    "ax.set_yticks(range(1, N+1))\n",
    "ax.set_ylabel('$y_n(t, x) + \\mathrm{ mode\\ number\\ } n$', fontsize=ftsz)\n",
    "ax.grid()\n",
    "\n",
    "x_positions = np.tile(x, (N, 1))/L  # replicate the x array N times\n",
    "y_modes = np.zeros((N, len(x)))  # nx positions for N modes\n",
    "first_iteration = True  # I will want to save the first picture for the pdf notes\n",
    "for t in time: # We loop over time to animate the modes\n",
    "    for n in range(N):\n",
    "        y_modes[n, :] = 1 + n + C[n]*f_modes[n]*np.cos(omega[n]*t)\n",
    "    im = plt.scatter(x_positions, y_modes, c=y_modes, cmap='copper')\n",
    "    imagelist.append([im])\n",
    "\n",
    "# Creation of the animation\n",
    "ani = animation.ArtistAnimation(fig, imagelist, interval=40, blit=True, repeat_delay=1000)\n",
    "plt.close()"
   ]
  },
  {
   "cell_type": "code",
   "execution_count": 7,
   "metadata": {
    "scrolled": false,
    "slideshow": {
     "slide_type": "subslide"
    }
   },
   "outputs": [
    {
     "data": {
      "text/html": [
       "<video width=\"432\" height=\"288\" controls autoplay loop>\n",
       "  <source type=\"video/mp4\" src=\"data:video/mp4;base64,AAAAHGZ0eXBNNFYgAAACAGlzb21pc28yYXZjMQAAAAhmcmVlAAEZlW1kYXQAAAKuBgX//6rcRem9\n",
       "5tlIt5Ys2CDZI+7veDI2NCAtIGNvcmUgMTUyIHIyODU0IGU5YTU5MDMgLSBILjI2NC9NUEVHLTQg\n",
       "QVZDIGNvZGVjIC0gQ29weWxlZnQgMjAwMy0yMDE3IC0gaHR0cDovL3d3dy52aWRlb2xhbi5vcmcv\n",
       "eDI2NC5odG1sIC0gb3B0aW9uczogY2FiYWM9MSByZWY9MyBkZWJsb2NrPTE6MDowIGFuYWx5c2U9\n",
       "MHgzOjB4MTEzIG1lPWhleCBzdWJtZT03IHBzeT0xIHBzeV9yZD0xLjAwOjAuMDAgbWl4ZWRfcmVm\n",
       "PTEgbWVfcmFuZ2U9MTYgY2hyb21hX21lPTEgdHJlbGxpcz0xIDh4OGRjdD0xIGNxbT0wIGRlYWR6\n",
       "b25lPTIxLDExIGZhc3RfcHNraXA9MSBjaHJvbWFfcXBfb2Zmc2V0PS0yIHRocmVhZHM9OSBsb29r\n",
       "YWhlYWRfdGhyZWFkcz0xIHNsaWNlZF90aHJlYWRzPTAgbnI9MCBkZWNpbWF0ZT0xIGludGVybGFj\n",
       "ZWQ9MCBibHVyYXlfY29tcGF0PTAgY29uc3RyYWluZWRfaW50cmE9MCBiZnJhbWVzPTMgYl9weXJh\n",
       "bWlkPTIgYl9hZGFwdD0xIGJfYmlhcz0wIGRpcmVjdD0xIHdlaWdodGI9MSBvcGVuX2dvcD0wIHdl\n",
       "aWdodHA9MiBrZXlpbnQ9MjUwIGtleWludF9taW49MjUgc2NlbmVjdXQ9NDAgaW50cmFfcmVmcmVz\n",
       "aD0wIHJjX2xvb2thaGVhZD00MCByYz1jcmYgbWJ0cmVlPTEgY3JmPTIzLjAgcWNvbXA9MC42MCBx\n",
       "cG1pbj0wIHFwbWF4PTY5IHFwc3RlcD00IGlwX3JhdGlvPTEuNDAgYXE9MToxLjAwAIAAABruZYiE\n",
       "ADf//vbw/gU2O5jQlxHN6J0zH78VuLo0N73OAAADAAA33OZE/sqTBubAAALo8fpH37/mAZ09Sct8\n",
       "jMgUwaxZ4USOFRdrKKwdeyZOeYvi0tW6Gs7dR1iIf5B8RVSqoNCwSZocdpUI7r6z15mj8ReM7ssZ\n",
       "zH0+6zGdjxURA1CDiz0W4KuVeNrVUrMkD6wSPUDkixpsOliZ/1ys7ygZDsWYQMZYjY9tsvrpzvZQ\n",
       "jQ8Nc0NchfobogWU9KoFkEviuTFlRL7pThSX+9kSCJWlZWKoetn972j9Pdo59gFp/9jhzjz3o8mU\n",
       "Pi0+X8SXd9TqEaUGDJ60eNFxaSr3COE6asnzFLEUUlx6bQLUOtF160LphCbCdckAEsImwcVzAISP\n",
       "ErSRjA4quEDai2ZWsWwEx9Q8vXRBGqB0I0CzhID3z9kXabWGyhIR437DI+j6MITDgtRJbI3Du018\n",
       "GC2UYTNlPYn9MX0EpRnZ6HyvcJhDb5mh3Q+YPk4qL+j62qedbYazu/BtVv4VmcuyhVO3nE2BCJCT\n",
       "9iTABmLg5Atap+y9WEKsel1ULe8Ic2jeGU4+ykJN1Kzx/Epmc3kcbw7kVQFavPbeUNDUI3NPl7lX\n",
       "kYQVnOlNl2Rvm4dHDXkHXebiO41olsX0xere67VBjGFyZqpSP2a2czp2AUXcIasbhcFuPZpyNvA1\n",
       "U8gqWSLNk48X3jOcPTIqF5i9frQPv8tJw6wvCtp7AGsM95kyZ/iNuKmzf+zWh62qJ15gMIEGNAtV\n",
       "hCcRi6ts/rFNkXN6irHhNTqjKgSFr9TkciN/MjxCnT36vbO6hTCmKXlYV7IXKmJwybF8X/tdrAA2\n",
       "2IBLEwsau0mS11jaSTMmx2vhIDhwh+6sAcOJpehya7KA+fkGY2wqFemN7x8RCImO125bWSOIHOZt\n",
       "Sh4FhV/DCNIZdLZSJ+K5jmf2DcBU6lANckvIvXZ6Auxn/CiHM1LoAlY1O/iYkpjRUV39k/tO3VHI\n",
       "L2TCleJXjuQgcQv1kuQHJan6iTq4pFF55Te5Sdu6HLR9bKQSWgwdaDCu7VqM/LEoyoj+TcgJ7MQw\n",
       "Bqx5vXMbSugdvaLLj4hoFtMYKDMQy3MU8tthawCYvWLsi209lPf9WiYqE9U65Wt1c9MfCQQsqnnl\n",
       "GFpqkb8rM6qRpwHG+hcUohzRHYBKoUtAMrluajTpvueAGcPltWL/Du+evhY3GrFPlIwxB1ClWm07\n",
       "GORHwy1B+Lvr/kkBOfGKcCWfxBaEa8Ps8u0IWPFFP5rHMiwlNdV40Ph/wKUKOqJ5qkXfYCGTwmIZ\n",
       "V8MC6GHlKg6GqstAmGZiMxkKf4/o0iofoMV5pMttSM60UGWtHVYYxSav4M9RIkGE3Y4OAo2pbRFP\n",
       "7gvrYBGwFfykTTNoOa/4WU924kLbVPfQcKLxMpNdTVxIUhA8gFAeuGqQSgwP6VCl7Q8gJwcLmi7R\n",
       "hdECNBC56i3Qr09lFnymCss/FKNPjoF4X7Dr/EVvvLge0rdD2Cta+cu6qL1XFBSbMjjiAq9Ifv/b\n",
       "dAcFiaX7v0P9w74mF54rKRyqq3kiuamPMh2pRVuvUVNBvMa7m1GFyFKtCtpbJRZ9ftIBrouIUEGC\n",
       "0dT4LU/jJowgosxltVB3lkr8On2OFFUtMqsQg/4cIAeMXtXnnfQx5V2Oz+B3j+YSf1mmE7x3ZGrl\n",
       "+/TLBiHsqi+XJq4uywDoUFNfY0MwU9laayBJaUQ7VBCC4T6zkhpjrVdbZv93V4T3BaYARz+p9Vry\n",
       "pb28B2CMEEC2PwWP+1OwHNNKQnvKFMkjcZCsB8w+3esYSZoAZdvFpif1U1Sl70vZvnxp4C9E7SZp\n",
       "k1nVLqQw91dcyva1sq96vYM5ve5hq6WBGhX7xySoZVTn0aRwIQs9TZ78vEP3dFtJc4mqImVPq1B8\n",
       "zYop0g5wO1ZWdkcejlMfxnqtxTAErrlykhKEteO1ecWaHsuNTMiIo8PuHOqphUWkM+1//9xOJq8Z\n",
       "xXnXt7+DtcWU5xmCP9/jIZNRSqywNPRpw0FO9OqRfS4w/0/yuDnHN4P3NagGS8QPfleEbpPpMZqg\n",
       "4uKZgWIVtiXB0fudD6MZxrLvjmo+jo9jDhcVAbetceHFLPNCGOOricsCXgkp6QhWm5FADK3ip6xW\n",
       "YzvZxnhfecSLKPMHbeQgSsiHUBuZ8zXGmKcvjVGluSZ7fUi/JkeYe10vooBZV+czTRQGI8X8Xuz9\n",
       "WYrQRje5A7N60DN84btzWpPiudYqBNyIfC3SdRWhIVjqMhxfUrNUA3x4YBGIW0En8A7mEyLd/krZ\n",
       "Buk1k0iM7eXGlf3TOvCdqhNTg5dE1JYMfUqK6f2z/Kh8BcGdGgnUxnTtJJcHPC1yzr+//YB4utBt\n",
       "ln9kS9E56UJmzDLJhsXYDIzuuaHQsTzmqySQ6S3GYBTjXHgt66b2P31vG+dnuDd45RGwXX31FZiR\n",
       "Ci/3t7Ubb5z2pjcCTkVmEXefMzxYCUKJiDoTod0ItN3+35BaT2Ete/HLnyNyPHnD/bAQCxce0bNB\n",
       "c3e1D+ZVWI17zpgwdVt74h++rDkQ3UV6ET2fqMVgAig4J2kDJ4g+AViSIAN9522qsvhPm+VHm5RC\n",
       "P7kXhvXlSdyngifiitgbcKeq1FW3YmNsY1mUdNnUi23wf7kjUYrC8jEBX/3IkPxTMX/WFOS/93yT\n",
       "BS9fsafR5cdAToJX+jCn1yMc8Cf799N5DqFGER01BzQGR49umxRnpfzYfEw4BCjQQeq2AmBl2iZG\n",
       "B7YD+xAKPK24TExNyODeZgiHNtyAf608ZdkJAlc9rCrNhsYkPGF+DFBlbp//wJAbidPHdPmB5rJa\n",
       "F41/t2U9SbEjDZQrFhdhNidLFl52StAJuuK46FhuEIHOwm0OqKlAl2n1iCHSglAkJ+N1nORVDkdf\n",
       "s3vF2KD+kXZo3voppxsu0Mdri5l53pNJJDvqUtnSGpu1ahzXS5N7cfmzfovOtfxsnY2gGzVEmwn2\n",
       "zY5CRfz+v2sX4ZOv9LvHdIvO82LTyMRTpolUP76Ssh0PUbSynC1vq30iANk15wyTHQ5Pe2Uyc2Rg\n",
       "TnKsWM/6G7/fxK34S2J6E4axYxVe2VWzd3RFIgu1ONiB+IxVh/ndQ1B7/CGAB3eun2f5O+KG2CGC\n",
       "iKRPXVXjZw3c8b+1GB1isKrohj2RcvfNPoLNpyhnaMv2ESOmCdEZ7L8cNo/+2HECz0B63qzVbn4H\n",
       "dVble64G8LJEmLW5ULlxy7VVBi6aV52dqhvZe6JzHJ2YYVcUItAoPj33pJj/gim2hG5ZPXuJ6GuY\n",
       "kYu5YplkP5H9KF7vZ7tob83e4dOH+Kc6NSkih1IeKDqjQH86qC61BHYVT2e+dtlVYx5GPIrjFte7\n",
       "XUr38uoApINYccSo8zprW4dE5Z4nF3/8DeSxxkGjuHHlBfHtCx5u5M0d3AMczoKNbA/thhFUMTMz\n",
       "iAf9QZM8Wmg6QTIzZr+ssr4N2cbJj6G269votSvxxvm85I4JVmxFTEFucUUE8LtUR1AzNKtK5qTr\n",
       "w90yWNW9yT0p3wIJaiQx28R2lJ/eivm7MFKdcnPaC2l+0IXnjg1YQ5KMiYHWd+CMH+l5mmfR+B+6\n",
       "q1kJOpxJAkdCk0RKfxTOuf05HQb2bzxdoKUOKVBxrWkyJHW1m8JKuUKFOgtbgNjLTRn6v5VS56I/\n",
       "1OW6HDY/0bgs7b2qvTdXrPalQv/DIr9Hub29XpuLO3njb3g/1wkUfOrKq7cr2/62Ac43YJFdI/kp\n",
       "oH4ns1FNarC9UpoOBoEzuIvV0hRCsIGQVoy/R2ShadyQ9YytxpqaU8XSfqmojK/oVVgpsiVOFmBr\n",
       "FF/6nyUkcSr67jQd/3FgQ3Buc2DVUbjohTkL92JF4f0F5vsFtCl5dreRlpu3y8XIBCbhvJfZoPnM\n",
       "hWfguJOukagwSE0bU+FioHaaaYfXsg/NMXdBMAR1kJzl4kEe7f8AwaLbTM9sjxl85jCLXjzspzUL\n",
       "MbbSqdX5+n5p7G09V1eDOydiWS+uXBPG4Ah/7ckpsRb0MbfzMTj9HXhThbBIlukU6B4JkYpqZMCX\n",
       "ZsNVZrYQAi0VRl+eo2qBtFoQC5ezT/lDUJPOW/u7vLREqrP2ApL45Koi5jbTCJBl7F2qD7SoG59G\n",
       "W1jhhQXZDBS/VS0JYMHinwg+xU5OQU0XDDZ8NpUuNlqMi3lUHrEqeYdhf3ch8IWmtrJHigU2i45A\n",
       "funJpIf1v3ao0+cTphzjNefcu/EmRLpnJif1H3sBDod72DbIBed27zjvX5HQPsJTkP2PeaG1GHtd\n",
       "YMqc5smhbCpLd7yrJVZNeaPcG11PCDeZrT7PFBSfHRh+NVBgdf2vQNFxeNHf2rOqYWKvsNtJ8X44\n",
       "A44M/iN9HLXu7GozUrFGzg6t+VvaF7HS98Pr7vJIxd2rXE48cJbDhKWTeQF3XlV3svs3gvai2u6C\n",
       "Jo0QZYeajilYZdHAR6qylF5SnBYxqLKJMop7RPpiw/bParjEoyf+SSDX0cUZ2EHzoG7V15HlYwm3\n",
       "vtFbqLrXRFH0DZIhsxnxlTOgBNO9Qv8NAdC7ZGB2Ohsr8yeb70tWRA3xAzuCKb0U/Z0EkAD8UOWP\n",
       "/EBCNtbUvejB7nXmyQLLTTs7elrO3H8D2qjhLBox8+v7+Kb9s1ytIFgFP6wgxil2cfmOG/2zP5n2\n",
       "/WRca3eeTF6MM05ZSE00P6Dz8LS3XVmfgGl36Rnc5h1YE8Anh6EX/ArsPb6ld+paZMH9Ev3Q8iQP\n",
       "5dHkJAKUeYeUctTlK7xWJb7waTwHToo+hyQahPn23p1rn6JEDkQoIecGC/BjtbAe6A0OYYSFLEAd\n",
       "+wx0p26EPKx5qgIAGSN7tIJG68jgEq711sp5YB3Dlm+Vaq/VF2kK9VU29HdrzcPJzgG3T34xYU1w\n",
       "H4uI9YWKWEObxh3t2NEtcs1EKjLP3Cwbq7WodMinI8Zvx9g9o3bapTs9H2qA2zZ1VswhF6Ivy+So\n",
       "URfV80L2Y7cm1PmLVfOS+fewiEC9ptyarrUwy+rikBY90qH21QId/WiF0ZB0hAtN/w7dZQ63Scv6\n",
       "hjWHboP1L4JOG2P1tSWl+8tNiRWZFlO9WhoIFMVzW0BpaH18lVi2ixirpxYc4sxrRVRWoCVSezu3\n",
       "J3Ez6FuHWV2KRYAb/iSO5VN/urosVEtWjW0Winkvugx/5KwB+udR5uGU/rNe9Cus/dZWGYagQ6wZ\n",
       "tm4PvVcXQYMeJjZbvbxHdqO8VLvNUuzDYWg+osBTNwQgYkyYkcVei0noo+sdOyh1tT0h8K48yBZ9\n",
       "DHnLHa9tP9/63vYRs1pn1MA5xHTH2Nd4T9hhmsGWIo6wtpNYHZnGM6xbkafdt9Ld23Lbk5/ioijo\n",
       "tfyxAhEOHLsDRd63+T/N4U8e/eplB1N+03Taz+i1/P3h4oybrovIwjZ5HcLuCvSHsolXynrB0LRa\n",
       "vzhJLlHynG5rTXspzkKga6MUCNxEQ0fc0qpmEV634IzRdwhG9Iq/xQuJ8q+j8oL8ETnvS5jOn8eO\n",
       "u1IMMg7nSln/Zcjkvr/8p5C3qEaODhIo+7ePdYjFytefFQUDgCt3cPmdPU7e2ZmD4BgL6ka3BCf9\n",
       "pyfVMSTRa1msytXEqxPzP3skOspjcM6du7Qkh/taavCXUk8djzbPhybvd8tKVGeczooel0xjpOff\n",
       "wajq49W7JIgbTfmTKjZ+aYsQGaFpeUO/aijrqVozoxvgZ/Ts0uVlW6ZA/+bM/vPOzfptz3g4dDJC\n",
       "X0Cjw1PCTVUXV7cgJFWD3kQe/Qh/J/KVhKqRnf7JILyO0XzdnGlm4Uc50PkLAjpjpBx6fM8ew3kg\n",
       "SQiX6mcJuMQPJmy1Me3raFfsjDzKxiMIYRPr6BWxiXsQMVY1mvtQ5DEB3sJT1LC+wfiKX+ousJc+\n",
       "cfJiH+V/tXr/Nlr6OzRCm1CmaO1XivDMRMpOCsNf1lxD4HDLxzTiz0TfPh4USy9tlAqMY/j6C6+2\n",
       "zz05WfCaDqsAYoy6Yv17SCeSswQO+EONt7CXfHP/F6GGAUAqcR/yKKZAAlukVMgezbv239eS2h06\n",
       "/9BBYUzymFqDpiydXiGU1druiz2kOwLDaOqlRwP04dKrDfiiqhEZEnelSa7DeDxzOg5dTEi8k2mU\n",
       "zRpJ+EzKW+S7pgR3ruxQ5YXefmx8EodZCGYmn23o1kZ4BF6bsCqQoevCt+S62h37CCh3uPCvDro9\n",
       "CQ5LaJy4f1jCfSn0k4JsZI4Tn/G6IVpB7xvxsqUPLUL3Wgi4kf3spTgEEclEaKguhUu1h8X8/9pL\n",
       "JkPosfAxkUdvPNswRRDVBPM6d8Q2a3BM7BUqcGKdbRoSjvT/6RTiJfZNCzqb0N6sLQNzpvfkvJyT\n",
       "eAIua5dOZDZedBgxEVOid70trPzX99UROrm5dyp/L+HYQDhs2j9tVZyRggvUh/zVxcLtBw33E9n3\n",
       "HhCP82NkWBXEr1q7EnEFv8eUs39SnLT4DOf09//448qqJXhwSwWUnmzx4WMRy0n6qnau1zer3bMy\n",
       "dJA2BipWWGcr5TR14RJzXy5ZWAsuVxYyAC7uCFSd1EGZTzYk1lU3yCm9oWPcDOd7YYE/g35cO/h8\n",
       "SFK9pEFiWZAr6vQ/xRcfgmL3vkTzfgL8CN7E7ScNONmyFLQor5cX+fz5RrR5nzc1MzEO+1mm10V0\n",
       "VCH49wCZ2VF/d6th5Fl2V8X5kaAC6qOldvL9gLCzQu5pSwUCzvtm5DdyRP6+kooXHO3U0gBolpxj\n",
       "NppkhCgIzQGej3MxxS31j2MXe8BbaiuTLaEvAgyz/VSH927BZ1+KKpgJV5NlLJ/DFlDi+ZPPhJRe\n",
       "uU2y/gSWwFtMr/mw9g5wgz6rZzevAdCRwSzJGidthgDO/DWQYTbeYXo3z545kwc8/ScYk/KcNRzu\n",
       "RSRB2+GXHY6pyfYSPXj5P/ajfawdc4GchHV3e5O1dWxGEAR8i4WJ1POJHc9+c/U4QNJt2xwCUihL\n",
       "mQJRpaxXCuIybWFfP7vu5AQjz8K0E9UyGZj1NKbhMQuGdSQJwZ0D3NFMvIeMVKcL8iJHiB9JCIfX\n",
       "y19W4sIaPOUXWC5YOetVLPHuyJHghcoJo1/FED3oMfNcsAUxyVyNVGhO/Gp++II2R6rS6PEw6np0\n",
       "SHmJPbA89X//8NFN7M2jLE7GGdN62I7CZbrsSszM3khcjDdKnMo5dkd1rh74N1rQAcI9/7aL8K3/\n",
       "6x6hJWtgFI/K/omHT41cF/SwY7TYKMYJ1Ht0GslWDOskzxUry2AuFM+h3GiTO4xkbxQyk6ccuzP9\n",
       "ERI3OgzOwXWv5O9LBMwnWYY78+mEdXhnc3PZgdkqNmuVKE91pLNvwFNyT4EAtPUkpX2VXJLNef1u\n",
       "dRC1N1+F4tqoyMyL5nhno8qd7Z0ptcuFFbjRZt7tS7oOv0vhx7LIuYwO2kRcHfgW3ikc1iQ9U8hH\n",
       "v2jQFKZ42Xb6KarkD3QGMjZj5054vnwb46ynBLvX4A+IdxGY7gTM0K4AJLViI8wdl1V3hTkRUTFW\n",
       "t4LXBDKuqsssZq8nQMbUz6hyRRx6d0tPt9qnjQo/p6QQSQ6MrWNWPqPtfC0u86Pmm0TTOmGnxDLq\n",
       "18M301Nr2dKRUAMSDJuq5eTHaGCmfO/NW1l3Rwfv0Sp9XmKD0R5q/8eoprY4UUNfJwnAr9DLcqfT\n",
       "PpbSkHQiWIHFjNdz1z4SulIqmP9NbIZxVirXcuXcxUcrBbXb/UL9i/hA+rRVlW9jPkV+UOkui2uV\n",
       "5a/RVguPUXKR3JkEROW5H+5dlxl6GsU8pAiQZjYIJRS8qRsyp4qcihL6QX7vNxv6F4WpUifl5bI2\n",
       "/B0hkqZhPl05vIoUqwTdlFPtZRl4Mt2icfZk+Q66vVd9tUOr6fkT0Hrc/YPoDBRenJ5ZIFtk5gJ6\n",
       "ceY2eDKbdA3eE4WCEXVT3B/qNadjHM+04mXgHyVbP4xsQ7VwVTlVYmHB/ajbdT+GLBg/iHgVCgGq\n",
       "mn5w0PP+VzCxlrdwuD5BY34HPA8CJ10MsVvQRLQXxwmlaxdxMmKRN8nGAi3kzzSA3Mi+ysyNSmms\n",
       "j38N8NHAcjx6ldcOnWIBWsRfrBsbz2M0EcUuPkpjTCV6Zq+sNh+/H7NiPBhSzZNzNWAZZLR0jUoj\n",
       "1A1QaHPVM381L7Sb91vXzWtfhrZKMbHvVAVe2CLNQwIAPCMXSD9znjIdRrOLwT8kcHmu87tRuijl\n",
       "GrXOBuZJSTdCAMB3N26S0K/d8FDYd293mEwhO21vsQnpswa2/o/YSp7rOeoA1/B9yBhDjyfV77rO\n",
       "qKVwyvN3h6uCtsqDTtkuQQMzKMjNdZLsYhluK4+Fv01L4wJJMYRrVtTXRfPQSw9IWL9I1fGLE4yI\n",
       "t2HgDtUf9juKet2aPrdlikGWX+1CtDcYhoWVUme2H+F/MjC8DOzfqgkIGqE8boWyHnj9Jq1fmTPH\n",
       "gBVjgKmYoecsypmumUsxbIuUjozTY2YYtRxbUl5G5iopXCQWaClAnZUDxkf1dqFSJrJZiC16xr+Z\n",
       "WZzV5+g+MF89YNGchwK3iBVY6WQj+UAhaWzlqDUKv3WHjB3ZwaxxnKCjGlU3QAGRdyCqPVmx97ZK\n",
       "2PVweDu5wAEDWPWf7/jgTkbMz+06O8i5aPfhVCHgqnUdfm017yvQE1ZlZwTxPrQ1C85Q9U/12UYl\n",
       "+oNBOqKmx3BDPypFaz/YVsY6TvRk+0y2Jt+ifQFLkuuVkTy6p/Z6Q+WiqlkYQX0BSyAtjhSn4i7k\n",
       "X8O3f869yY1mGUiqPJvQ6gTivNC/f/9v8zYlj0iOjjIuQwLCZ4Dajed8Un4sn9fmdpu64Xv9IjPk\n",
       "CR9o73a9+iZFFPJpUTqj29Fe87uGBr5a60szhdoEmL6AnKuvweFW+E6nlZSGpkMjFlNY6bGF+BQ5\n",
       "g7rqmTLgsWeAOsb4b0gKMuAC0LS+6wGV8vSKbGxWqBv3JHpB11x8u1L1LO+XDk6YKweyljoFz3tU\n",
       "EmipyNXCu/AzRCemw99J9z4BEqpnGax5FJ6QqJbVWhlTiF4wqnGqY5Y61VSeDzWUWhaXl3penUZ+\n",
       "r6V0gtDjnNYHCb+p+j3kqTU0jkFAAAAs4BY+JKOvJ2f3FV56J1J1ZFrPJrGQHY4kcnqNrBIZnyJZ\n",
       "F/hyzcMeSZKK4jeowvcNzwuZNapVWlpRpS/PwYuY0qlFh1xCrVjBPETwcEVauTYXFqIuxbRnRhIq\n",
       "K96It1n4MoP3O4fST7HFImR6UKKfH+9Plzxxa2Q4MI1YyQ0VoS+wHIT3FE9hOcABmwTlAAAI1kGa\n",
       "JGxDf/6nhAHx7U/xXrHmu6hhF/xVysAALDwTO3C/CnPrO7qNk1qbkix8NeCDYuo407mzYz9cc+Af\n",
       "DzH1Ya5T4jKYOyBxIZIPyDneQqDgZUWfj23yCgb4u8NV+jmFtCN34z5U3uMZXQRYissF6UWk+58T\n",
       "w481XweJF0hb2x+YZQ4raBDitzmJOiKNGEO0n2LhCEA9r4fDRjJe+imB7afPUoJwKY2acywYGgOe\n",
       "SWHbrnrswalGeoDN8fu3PXk7opGDLkVzb65x5mVgAVhvQyGgyKSKxU74BMAzSixQ5EPvZ8YOmylW\n",
       "zdi+TGQMsdN84EATXQY4hbDw/k+PQSW9gzkOJ6gzVJvB3Fi28HB+tbKPcEuLm3/R/ONkSxCAF6dt\n",
       "bcT9b5RUQuQfv2aHG80mciH9xFrN/oWeAL6WFJUacpIK/742jwpgNlNf+PwQ5dIz4j4qT8Zo07/m\n",
       "weZtgEo0quJQY/NVYYWfwCeAC0jOqdK+OWie2sfYSQh/PgB1y2swuAcV9rBe7qpUE1XiiZJSqw2P\n",
       "h/K7nf13BryaSJozKEMi5MwT3qu/XAJ1og2UuFPuRswcCiSdb3dBzfQk89z+QgJwrnh0UxNZoXuv\n",
       "5RA5U7rQpti3R35y9fgbKFGAC8cwhyNT2MfLxp6fTBq3Iw5IgOcHE9V1YuIVBMf9MT3WSeDSaqIk\n",
       "cWV8+0lUTUr2WQD+YdywDZRvmy3f7vl1Mtv+NVALK82MGJ4O7mzCOo+YX8nnW994MOd/icctHtHL\n",
       "cFW9mUGRoSRjmFyK6K5NNe73WPshYRsaxr6s1GNOGkLSh4wK0ooiHEw1khVLRNoOCKDjmHtDNFWK\n",
       "78Yoyaeo9oql47PvxuGN5v26Za1fgcLVyoPP35CtErPepEx7lmjvRXaAGh13eFNM3Hnay3cH2d83\n",
       "wB6NUGAy1FtqgSFaQ/YNjZR3wzVuYrpHPreEDOyUeo3wu1UtD5QwV0wJyQ9NMEPkHDADgOiiBVGM\n",
       "tKDHSuuwTFPKq/tfWhk3ciu6Bot5xPwQ9T3E+ex/j5c4mClNUON/8y5LdXZvMAmSBWlmIsOZITSl\n",
       "iUYnJgGZvQsoDhi6LkIQBPa+FHw+xhSJm98VQMzhlueosPp2SGj04EDe9pXRp96O5+SdWI8xyiJm\n",
       "7hZLk/qX9NYj6LKcRD3YQTPw414qo8KuKWOIP8NvC+bezyEZVqom1ci+1HZPHE1Bct91cQEUNBmX\n",
       "9aaWTsJfsdIiuNq+jxW9gBLdsw5tpBzP6n9FlGZvmfddZXQDMVJIvCEP7AOJV1zHKWb2TWShhmXj\n",
       "k75m7waFuR6zNFu8BGGGVv/KuM9gdJ4fvoN9uZN0340ikOP/AHOIoB6Es21W3UQxC/9cngTSEFK8\n",
       "wlWM8unWnEZemg0i15IxtOohot7exHnOa1RK+gZGItkcasOoNPU90ihTWvGjJj2kyz9sYERnscB8\n",
       "3eiHUEgjGLvqOas/5OTuYN+e9a+d0C+71EfBVYTUvynEzAJVChhtFUboB5QCS/+gUE7Bck/RUW0K\n",
       "ZTfciElwZqoUkLYjK8aSEsrDHm+rCp0v8g/micXceOINlhgKfD8ANEh/2M+NirC+0dhSMP+tJSSW\n",
       "WAXEKL9BMUvniVWBTEfKvmm76kiGZwOH0vZO1RHy4p3er/2TY1tztHJQ3H7XvIsw5ISmqPAZgyO6\n",
       "TlU1NXb8jwxeQwlo0v3i/7jvGcB1u7xkQHZt/3jb0LIEnUSwuurUqiXYkNH3xX03PWYYZblD/+sO\n",
       "y2in5pTAWfLI01r6K8bve1LB35Ac6YIiZB5G0CNy6Tx9WY+vsiCTWp8H1Gnq2RhY1ZnQCRbu8VYL\n",
       "CCmPJpcwevhIQGMK0rYrmtTnoxmxJeZxLLHbSExTuL/Cjalqpq+j2B224dp/x4JQfxaNsqKSasp6\n",
       "9i+RKE/qeoLZd29i3uhRieKQimoKpLoEktQiF70wYK3gdXtgHF3GoWSjTM9FaiSNMx4mlAcjdXTG\n",
       "gU7Ey4+HsrcGxhcDfZebPNOunlcJPHR1DYQl4IB0CAHq/7lKQ/KkSzlB/RTVB3p+ku1/7m6zeN/N\n",
       "LAaesL2/WLMQ51Xzissgra67PMKxm4Y3TVh5N0QBz/Byw2UOVlySjfw2Zqb8oseeig1PJjvgTmYe\n",
       "H/Wk2f1ecfHsHPs0hxPuVkRnBHdnNzxFdQKSl/MFj7iVT/XMvjc4wKHh939opLLJi0p86kizyJnk\n",
       "bT/4PJEKlbB0/c4Fr3ZHZ9Kv5tSsR5/9TyR7ACaWoYSEvTeHfJdxydIS/vXPbb3PCUQLE6Ph5vzI\n",
       "PgK+bLqiT25okeRmv1/U1sEHF7KcEkiTrVL1LY5N8YiQqCLvftimKtzJWczUyMre/o1qYLI4SDER\n",
       "G/nuCCgN39OcqwWUrRn4eDiyi/+zFz/GF+ao9h9kJNRYe6jdV5sGkx7D8sXL0IDDsN8poCsOrEK6\n",
       "aunuNNhfqEvJ5ZfT2rf2Mg+sQna1+CXeGFKaUAFkLHffkm0Tjud/keZ5UdoJGhdQFN/QMNESIXm5\n",
       "ADXttK6/fkS4f2Y6QVoNfuLzLESFL9n2U+VbNYkI9tJxNB6ksR0alrNBza7uHfLJO32/vKO1/Ja2\n",
       "znCB0YYbhcicTPsCu82TQzNgbb+6Qa9YSEL3SQtGbP0QVuATGFy0DMaR5BBVLpFM2gUu5M2fVoYJ\n",
       "b3YNkG/BWsxRnBmBJwSU8a6SAcFoYJho96eFFF6u514mUv10T63s/Kfms9s82AndMNhnIuA+06/S\n",
       "KlrOgQgU3M4s+YWBh1ikudQvOmWh30PvGSNKgCHuEN2zGCJnwiLzHCQ7D1rhUkmG+arCSQ3sr/bd\n",
       "6YCKlbR3BP2rmfAHiBDWe8Q1k6glj9Z14jUqzs/nbNGv6kVyOfZdOYZVMprlWWnejYPyFJYyZ/uL\n",
       "QgUD0LH0m9fEqpI9fygDLUDS8v4sKHKgBZdgWGgOzAMqvwTyLsC1oDRswSprujlJJtfTa/00oTj7\n",
       "ioI51dnnEV/Jrlgvg0fCpj8Lf02A88Ku50K6BsauDulQsQKIgAAABLdBnkJ4hf8A/pzNex9L15aU\n",
       "v5S4AWh4s5umxZ5IKnn0ALRuZdnG3sz3bWzXLEygIV3mHyJk+wisvNpZeyTuminqaV7XTavHy4d7\n",
       "sKY7yGoO7msYwMiZw6YK0Jg649O4bRSxWgvRoNr6UjZAzs1GSJO1RS7tYvPZ5M1uNk/Iyif96Ch0\n",
       "eNGn+6Vcs5El9mPV7ym+osWhB9YdYx2BMZG+8EQ2+AYgadcw5lEJvmbwK99qIXKyhHYo0Uca39A8\n",
       "a0nC6dzoaS9uDN/lt7TFI7HpKW3T1RhMXesOQQGJRwJ4QNe5hqdeljnxl+BqPPwwcyQvQS8ocBdf\n",
       "FOLbti9gXJI4YDzn1etZ5aUa1BQ0r7ORK9r/XFczMDIRHq5GkwJeolmIAHsXcJNOKT11gJnQh8L/\n",
       "BW4FiuFv2NoGIjrNTZfupb/nKg3F2SmQ+iL1nm5ruLQOzHdqpMC7A6HwKqR6Sv0I05xpAfu8YmUr\n",
       "vZWZnVUBO2gz60YTKtaNyeN/j2u4wB2xV03VCrn+/93GFOL7+TQ9PzCCwda64rlnJNNkQZyUqjOb\n",
       "xOrCmHzbRuCClew8twLQkKKx3HlGv2JHSmIpj6bg1zeajWZUeE58OnLtvTRS/xWpohFVULvBC3Ik\n",
       "mRGbpuRoI0fd+x0nrhZEEBnfr4W6BKtXpUJB7Bv2gaZeARMshBSvrQNft5XHTqlTx+cQ/IZB464l\n",
       "gvyGcMkV8GzA+zZ2OXbk5lomyhqK9ICZjPlekCNTcY60rVngdy9yIvumMDGbvivZfhJgv3QSbrH0\n",
       "QHAs/6J//kptBvdQYc/TMnZYTOZZ2heNFw6z+Os3EqUhkRQ7NUVFDsziL0vhxTjn/DpJHr2w8JT2\n",
       "Z28Gi1kJXEQe2vLarPaB9iW4LVYN4kYgpdPzac8Nvh7rrD2X2CYDXtxdTHbdVIxHs3muIOHeqmo7\n",
       "eJcRwyT0DjTkSb5n4d2bpysmOwqdcf7S5UKCIrFmDrXauK9jr9p6yeSt27TrGGlh7P0+Vj7++GrL\n",
       "uy/I34mKr6uTD4WB7cHzqhH6Q+kc3sTJFQQW0crzJQtWqtBFb8lWmOAFw0vv5LqG1IGDNrP5UW9Z\n",
       "+3kok/XhRaSOqnKRk8xlwtmOADEgGgF20usXzCCHgwq7ZgiQLUfqul+BEq+h1fDpjOB3K1myVZgZ\n",
       "90JGF36vdI+gx7R8YzzdV1NZWjVbvBXmAOrWsmjY3zVQyHCRBvtdBaPKOO5iuMk0Xx/jlPOXGWZ1\n",
       "zWkUFYRWhiapf5pzRWDIXd5PQnFkXSAtIE6y//rOVI/SQfq4jQ5TWJdviS1Mf7E6DWhwmxLGij4u\n",
       "PIPwBmRIZeFqrV7YR8/ygsDZ3pjfiwHmF/repAvl9QCYCpM1ee2gHeR92vDW+t/+Dv6z/kelIh9a\n",
       "AgJaaJA/sQAM9rWw7djwXLFWUbe5Cz7yEVNtFmXpMVeewz/2tzUUjwUrM7e9+PLRW9CXLSLTsxWw\n",
       "w0CT1eK5PQZMIBFcE+nrUkNcQJwOXGFhbr7EaepvTVcafvCZYZelVZRK9RPiXsh5HJebud8Ihonq\n",
       "UQome7HUPrFXDKLoZYNKrtjphxAsJR3ZC/DMc/jurVZqZSJdmrp7Uc4FXgW7/dGygI2BAAABuQGe\n",
       "YXRCvwFZ9jnmB/X4lfnAOXYjbK50ZJ1wHnN1KMJGI0klNdGa2lWc9g/7gdg80ANtXbyrWdoVdCJD\n",
       "b2QGEasapbIJf0RUKq/UZIvI2oZTQQRXb0MgNMKuhwI3WuawyNZ3PWf+zQaxt9prLjyHW6yKjsVO\n",
       "Zr5A5xiGjGJY0FP2Xd8tReVGIeje4dn4qQQSsXaq60SuQhZsVqQakrlxH6kgh5trK8Yze6OsgHj6\n",
       "HnOGZA+ECO0HsMho28OawHvRFQ9P1rr+RrSOBQ0jvc4FarJZrbVEcmOOdirrAckNO4YQS9+rMQ3B\n",
       "1FPS+F7CfHQ8OcdHl+r85hmrORQAsuQYyEm660IZXXbTMmfxQ7E1Ycm52C2CubQR66is1Hi/+TT7\n",
       "f3GsNSNa4uUeJ30WCrSK/Pu2ai1UocFLYdoRxG3IcQ2A6aQDbxBHgzKKg+fuZhMxnI+D8Nw0FCI6\n",
       "ZzDkdPfsJIAaP+q8GXdogv3v4VgYCgseEDb3hnonXK/iw8W0Vane8EDrgEKgoZwBipA08EQUw1ER\n",
       "Vz7omVUvwBXjg2TjY/FEOQyYccy5z9S5QFLqtSkpMmJ5CqeX7ygCfgAAA7oBnmNqQr8A+DL8Sjfy\n",
       "Y6v3A/Q8ADRRbQ6bmmj1J94wMatlE+zTGPnBcIR44lICQGExA5emtzRzitlEQZHYNPdNtfJv74r8\n",
       "IS3UUFs661AFtr3Bc0AZWdWprIHkeKnXGQtJiszHDZG+7BYlNviDGtj1CWZj22/8ReGjXjLvOJaK\n",
       "HXruuAbVIxzoZG+y+7/50hPrT4TeB0ryjVXDtf1+Q3XOf0++ZeVD6eqP7s8tqOOljPWx99vLK/wv\n",
       "mje7C8R11pbZHTe8gZ0N0/rx2o9lj8ACuXg6uIj3oWa21kip808FtFarOrnFt2zwbMU3LaPc7wWp\n",
       "UZ3ppGmRJcDE8grVWyyInhcFF8vlZLd2HgI/RqYm7SkgTKklGEEi/kdkzNq51dcBHm1QfQQThHMs\n",
       "m/AmnAb5xHTQj5eGuUbGVZasgtKaCsqJdU3OhT/9Jc2qd2zOPEzQhPn/McmmUHEM85uszKnGQk1S\n",
       "mSeCTnO0A9K1aRsM2iPHs9ZLH4DP0NdiZfyIx+SynmKgAciS7Yk8AMnOYnOXTDuAwRVfLEx5/5J+\n",
       "YCpZwppIt+cZYKNfgqfl6cgG4p2oXGzy3cZWohWpfpldCcJuvEoK966E/QnWvFntTZ9Hnecuwlz5\n",
       "d26H8wuB1WDxt1uo5f+SZ+EcT7zVmtTKdnTb4JdSh4++f+zOxcxIhIHQG3vjoDqCuIbVuuYIzIzS\n",
       "luFWYgTpu1rvtk7YGd1GIHjtfZ4RntOp090JjtgPpjA1qGk+U2sv0jAB0oFH2LcJvvABOdO2bI2c\n",
       "nYjnA98HUetzSKWzuSnUL9g+bmgTZzHvnI9Q6arDMnaScKi/5QVElO+aLjARK7S5s3dudvdH8LD0\n",
       "GJQaWqGOOyrMcymXjtVh2niTrCZuFgkqfEXorkE04J5dxqNgfw7qziGjRl3Iwoka4ErinxTx8AUL\n",
       "nRMj8QxCyzB0HvBAad/Mryix6JbFF/JsObn8tQc2+D3N0fEw+rcfnK52j8GcQnu82wBO5WWK4Wlk\n",
       "fFyL+iDBzHYfD2/HU1gYrJ6Ad9P26kAsC6Oc1FNsob0kHX8htOaL72p5TCHKTQJ2jYuhKIjDSUEr\n",
       "HSa1BsnfaBAe3uxJH+s7n+3BpB/qit/L5Bx0O5baVFKMiFkYum3Nd4hFqd5IENi2iH8rq0O0YalC\n",
       "ryGsXjjwvT1OuMyn8XgjJHraNrTC8jc0DzDbr+FwJ2IYBS2ZjqjGYNDEBa361ojnaJgBzRIepxPI\n",
       "u9CQoA5nTUV2FGIZ6avw5D5yrEr2LjlrO7p6j4EAAAiUQZpmSahBaJlMFPDf/qeEAY3nNwAmr23G\n",
       "jAz/8Hf+0IjQZF58Pj9q0QkpM/05geeH9qB5GGlVtcgRakwlkclokk2k9xLg0ygY2tSdz22cYZob\n",
       "TSM7341klIJqy8vd4qNQQ9asXA6jkFMHo83RFf/w8eNBgF5w/MeU2z1tFIhWCZfg3I5ysYbPcYZw\n",
       "ujVJ734Bguqpf1kMZM+FXqE0u8l44XFhmmtQlU7ZLqugYNN7JE6fEOYtBqoOIz7ykBatRBuTsIkW\n",
       "ykZQYrOcfZWQkRLQwUH+ELb7HW0BhQuD2fKY1g7ZN9LpCM8Og0JfOmWTPW4EGMZ9WMJNlhyOejYS\n",
       "Pc1RP/32o8MungKju+uk0djMXK4Ue0yyvrQ1qc82pcJzObuDZfzowew5N6yj/xT+e4vgQ2+DhiAx\n",
       "jNYmYbqEmisgi25aaS6+VWN7+j3HCJmgGAFfyRMsNqS/CTqH3CqF9TOe9mqnOyPq106TLZg7JXCS\n",
       "JNfgOEhRscsgLj1PCD4fohBtJSJ8RhQjx0GFQ7CIE2vuPHAc95fC1o4JcztwACdB8e8AZ/d+04AT\n",
       "rqLS7D0lBVz9mDXhCNBOHrIIHY3syLMCurhFaGwUruj0TFmVUCcBkg3++T1NK5YQcrHJHGBgC9UQ\n",
       "trf9CPd+tVhX7zJrUi7tV7H9zxaqFSTchNeWA8Z2WBS0rtVwIqbqOyEEDGyinReajgOsAFz864s7\n",
       "O0RD33tcpw4/+Av8G3NbJ1H4rXt8mFsb5KBtgI06kWTOu397YniXq2n+fK+lpjLODhNbesDz9NvM\n",
       "eyGXb0rBoZvuP6ni0enGjLk2JAgkiylhzKoSsP9FizDe1XncIIOaNcPCqhlR349eB2iY4lRXyWGE\n",
       "hyJ4ZICq+B17jBD5uTljREd54mOTLgsGEXmORjHbW93LonKZHeXR1zyXc2ylkD0b8Y1Fk7c23VtK\n",
       "SIl0inxGcF772ae7z6/Yflx3ImgOzAb/JUpDD7J3RdcnP7XX7/ArGsNFE/+yHlbRbGGj/9VxYI/s\n",
       "2YkkVO7wKLNC2Zq7avdm6rBjllD5pCPP9ykWfiuUSy9zO1CVZjjS6UnM3BH6jMvcQrHx8JhprSW5\n",
       "oGDoS6UUIOgAhiXM2MIcHkNX+S0Xxiyy015+voArYwApNGrAZ+um6ZzqKb5Iv50fCpQIrz8uaDqI\n",
       "kEW4nJLYf616dG3kGGX8UcYO7+fbexqA+g57IP6ilgc4OD58JOR87DEFTSsdt4QTTjUMUoRcYjub\n",
       "DOejpN4Dcfj+HDR+qe7DRHpfrMKnm8PMnteO10mtUHJJsTpGEMKzKIdG8lH00cnSiN4Xn0p4LfvS\n",
       "lBpYHZKjh6Aw8KYHar6xNz0L2X9u277KRtXUDbxrOIt+0L6YUxOs9k2KHQr9/ZlHcSGYsJovob7u\n",
       "aNbllOfKkcFKyPnJ3s4FfDPRNuPaqPhWV1PEP+/V+vOfwQz8eIygS4yQzg/KoDbTBz27lJWV2R09\n",
       "lIRmaGAABvVxqjrCiDscOvMk7uQultdftSWt7jy8lXEN0KjH8GI9hrDt/Arzmpxyt1ciD3gH989Z\n",
       "MIGR0LoDqTKTX3c9Qkxega463lAFeYu3YUeWMLUCNgdc4NtQX42eor8DMFTvTYdasAjx2zWgiabU\n",
       "8uuv5M9unUvK5ENsBsCHSSn4dB6fi5zRo+hVFJV/iphlZ9KUgsCJTYBcRVO4aRqX1jhXXWLRIkvB\n",
       "LpRmFx7uqqJTsZoTf9NXL1mTAneOgsNEUAmp5SjTXVu1Z6FSf95L6kmjPmejA8PhHqajITR3cvr1\n",
       "KaQp7PN5+WxWtWnVAkmBy67itIIhuY7kz0WaJ0CImXbuVkcI1NQ7Kh1Xc1gn1US89fSxTm2WaRZT\n",
       "Gs5at0e49js6vvOSVwP+UKVgthAI6/E0x6nVyG6M+u22qQxSH4Jhsen25x4TXwCspp7OmfrqL8Od\n",
       "HVDXxbmkAGBN9TJhCZzNAVR4+erDjZRlsqNwYYvuvA4hkdSGJajg+QPTXg/lMFvu3yIo5l8SY8yO\n",
       "MjbdWy2VJNofwSaJI+JqRwVTarKF7VA/u6giZjUf5MdNLT/TsETb91gVpzrd+12KBJlb9cqUchaD\n",
       "Y3q/BT96HYkL8Btva9/b+1GOfXSrz+Ulr1EXYnMoXVo7rKcxfFtDiR1a4+Lodd5HSQL2KqPD6V18\n",
       "0aR5wmBiP9Up9rFpRS5ZoFfXLk/raa7KQnoVUGrdqwvhWIpmW0o4uw74nPYam7jXtqlSFewl6Jpw\n",
       "7tPRirFswbhOBm6Ih13dpT1mEmFxgk5r+/hUd5jpYgU6PYqBcXizQvQu/eiGTj2Ar/kqvNOnmxuY\n",
       "KhVAkl7nb5ZloaeNaajZItN2xuPpg+FVljWXmSlsEcZhGdGGVXi84tIXj167BDf8mPcb1NQ46U5V\n",
       "TmmYKBpVHX4hZaCgElTFZPQhbFJxVJooJD3cqI6rfBfDjLQGOEpIcJDlkvA+AJ+BAISE7oj18LrB\n",
       "zNhFoeDiyjzfSFDMNxTQddvs8bVjVh6kE3LPcZ9RBePydkxGNEe4wGoUygfO6+NVtYy6b0LkZAan\n",
       "4FDqssxozcUVBX19GchX/7g9IhCDW3KKsC8r7bjto1TTWmyU9lSYvO5UpA6YHk7ytKpoESk5r67R\n",
       "ggSbt2zFGwXyxfB2Y+saqyqPu8YG0QBiGdTxnJao3mT6G/gLZ651cb7qo3sDwI+XGEBmvFKkqZwA\n",
       "m6X+Q6UVqZ1wN/ziUMdS6PiNaEmo+ZWs+HloCQJC0vwJnYJzyUDSMHcmAePk/b+bXJpOefGdZFDw\n",
       "GEKADw/OctklTKaY6ExcD9LUUfqGytJ5vDZ78z0nvUksprc9w2wifp/ClXAhddz51zPFXpstGox7\n",
       "Eda2NGvB5YSXa7bpxmI3xAC22ctkDo0yYm4poXTy9AzcNEC7hiSj2Enx2khT7GgXfQpHvlBc2tou\n",
       "3hejcde1AAADjAGehWpCvwE3DJWhBdoATVi7O2gB6Uk71gD3mwookqBKuSKOWZ4fOOc2GVF6FycE\n",
       "EIxUT/B1nj4o7k5tfzDtGhImCr9IBRmalVOLyH7iIshI3qyACWPtSY5lQIvXL0KU/EXeAVUNSlCG\n",
       "thGVpr2y+y+jrrShbUVoZ/Ee5U4gn+seR3SayMjTzx462fRavPHT0QZNmgn3Q3k1A7yHQRLP6l9k\n",
       "F3KsmoFbsKkXAEPvJhl9wC0CNiYMXN/Dcg36MOizBgS+76pPCZ+Wb37rt0vysZVwO1yDdGboVcxh\n",
       "0UgeTbHU6sbxOf1O3zlq+NtAzzyPu+y5jkEAmHa4kEpVBMz3SCAk6BXdbw1Gipf0DmiesxrI6rLj\n",
       "VUB2gB0coXRVHaTMRi7xix5W050iSgps5N29vSEv65xqvsj3AiVr0mlk47M8SjYBwE9Ai68UDX2R\n",
       "4/ljF6eJ3BATdQpsBSSxcVIs6GRieUeMBNOuGCIoPJtZ9h2aSN1Hw7svT2+gLOYBsBMubCs4/DiC\n",
       "iwYMk2wx3iPcn/kLP3D0SAK+xX77nQpAtYAeEL43NliUCfOgu6PmVNDYiOWdhICtl82k0IpSBuE7\n",
       "bV/25qXBYul874G2vpUa+hrmOVqTZFOtpy3LObSxUKM3Q37Sb8JnO0z5yWEfCTu0wYnAiSiwXGsw\n",
       "6bpqd/Jzpd/aRXSKDBH06nj9K9wKCoWEQMlZ2hiq0heFrshZ/j/NmL3jbBZSjsa0pmxnc1EZV1OO\n",
       "fhz1Aut74/ECU6bAFOEMuxqNJBj0QXAsfF+jYazmDtzT4s4GxFc+5fLOutD9a/csPdY/UZVIKzFZ\n",
       "E0vogxm3pTiFVjuF3c5GP9eRcDsm6v0du18OQNKuhRIo0//CzALZLrALd9N8pY/MN0P3ZlYGTiKA\n",
       "Q0zgpVXGiyj4qAxrzXB3aVHzDBXSa0W9Ok7PHwOu0PE0LyGN6Vm2js62wDdr221ksPDeYM8U9+8P\n",
       "SM9HlbnW/56AaGlcWnUG4v3j2VnFPWSqQhMPJWrUhHNXN0BpzNmB7mUMiONq9+AUhg2xuRrGCI7b\n",
       "zZtCXgRxMFaKXRy89eHUHP6WDXuJH7B+mIWEI37GSDPkHIMEMeab5Slwo1PKFXEUi7eIMIf1sFo6\n",
       "CofzdKwE5xr9hPUoo4Cg64nlRWjruBShYjknpBoevofCgFUuM1qnB1WgmLP0yqT6Z1QWuEa5sySz\n",
       "42pYT16xAAAFhUGah0nhClJlMCG//qeEAY4otfiujUDKRzaAveCUSxjp9ePEpsNHvSSTHAALQ726\n",
       "q8puSFtL+djBc0WEUqUbFUV3SyU1T5o03+j3lyYVfrh7qDD6wXM4uckh3ObV7nkRXTqggTRbh+iV\n",
       "UjM1W2qzXlQHEPeO6CWmd7OcleayUkIClDHQCfdkF0mOYf+d0n7UYDZ1TZaDb+BBttH7W+JaiE64\n",
       "98OMEPz8ft/VSJb1znaSuKpPlRJlNqJ5Sgv12GcAvvY93tNpdb8kGcW4lD/K0aFKJqBibZTYBX93\n",
       "aC0fvx/dHaiHD4igYmDF/zA/fAgZSzDZOl5xMIN78xCD8PtNs8LODvGgfRCVktvfRSFquSSqX43g\n",
       "gJsMQu2gWuU4Mfzq4/oQhcs6/b4FCrzEJI6ulYETdh54toSBuaMyH4q2pgdMYQPsAwkwuYYygpye\n",
       "13CBSCvZxmh5EuHKHEJiZtez5Bwmbhl2cbcT6dU0FAgyzgyzUhwE0rEe96XmpKFFtjXkcky3keZl\n",
       "OX8Wiww8igvCSAB9rk+mMJSK2+zPSbs17Z/y0h9JXIxupvCOEQj4z0NHqTpFhHt3xA7Qd5To5J28\n",
       "EB1TLaZnJ1yawI16fodLQ+xlJgj9EnT8FUD2eYxUTjOtShrVYx+XB+wtoiLRz0/LaT1eP1BQVBhl\n",
       "yM9ujwoEYXYOKutMtKOjQBgK0SLEAYldXX2FtfiMSf+Wck9FPFTuH79WVwPIjQbEAlKN8/Ek6Zco\n",
       "yjq798zOH7liCoxDXBjlB7XZD/1d7YnIZblR55X8S+NOZ4xEdREw+T/19PHcHr+DASIg7iid+pXl\n",
       "c58K30Y7vW8o/la2/GQ8UtLnMDI4RuZpA1fz+3aYq77P6h68WI3PhGRf5BjLx7mlQXwF0XL0aQfB\n",
       "MmkW/XUJTKAy0aQPIF1lCmbu68TySxbkBBCiE5spAyi3X4v3or7FlfQS+BXBn06X9F8ayIIQh+9I\n",
       "u0VFcr6UbcLo10114REdtBE6eFgcAp52H6Rb0ORbhDQzVCIL2wBfb78RmDcPNL6XHp4jpIohPZVa\n",
       "QFVKymlFziUzf5pzc3BgcI+Pv6rn9F3ZorNUglFPwmWd/9PYPJcoTYQPfsUyGROx8//1jZHW8pew\n",
       "JALKcVUhZgXzGdWnXcXzk1OnCGHxOiXAvfZoWvflcm2Jc6jB+z707r0n6Bgh7ODah/SCqUX+Lw6F\n",
       "d0t2FWuxjQiPAHk1AggcuKJ4Jbc/7vSLwX8Jbc3dKLlW8IABUJ1PPn/RCXUbOMAvieBqG0x6Zsdc\n",
       "IBhBqBvGWrSWjbprIAFAXGr2qIBDO/8H6CEFu+pSSJH/jL398fRcw1ZqXODwVMnxYALJ1F58LnA8\n",
       "mlby9ROfbY/YHFD4lj0rzoq5oc4KmfNmeHgQeyRjTplYWoJw/u43g0dhCDo0iDuBS/lXbXjAl71l\n",
       "cg/y8D4+q9HGQEo9neBIMZ3Z/jDEeMH/fSorpsAjz5rNv9LWhJ/uZo/uYEyVtjC5n0KOxxfAVADv\n",
       "X6lPudnVcGS2Hjil9ZEwFgUlu1rVcnsele7FFCvM4eEyfu5ioo0M8oYOxzPCW9NRxLXjtUXJ0WMi\n",
       "ktEc0mFFFevVtIo3Zqmf18fYg5M5vvR77+EfAKJOPcKI0NI7VLmuh5l/3Zo+5RlZzFsP72bvXhWT\n",
       "/N7F2Tz7XSuQgXG0NjJqfAZMoUP5WBeP+iQ2pSdzjZSpgv0HwtYXk4Tb1QPdUi1Od08o6hmYInbP\n",
       "6uq7oC1A4pTpd6IdC1k/gInBUNsZSVf6wiQulO97oWxHYnCDdjxPbokqZkQHaci1eZe8BVmjyjNj\n",
       "n+gm8yBGoRl9eT7+8Jc9LmIoL6oopthbaRdDh1F0vkBGIivOvDgPmyDnXIeYdni7FBTjkdd7uQAA\n",
       "ChlBmqtJ4Q6JlMCG//6nhAHbmn/go1IAIgz8pBLBlxqIwuy3CS5oXxi75E2/KBBa86Cp8ktr73+v\n",
       "WEUy3SFLZq/jAloBjLQ8WEQ+f3+OX1vtbih3Enp/xHh7VwSspHnOcwuVI3QTxZrcA2WNwEmgLUqE\n",
       "imbhdQQBUHmN02rTdZ4MdiZX0jacGtqMEwNWbH5ZWptztG5hh3Pk9WcpCS/e5oS+lEciXk5MVYbN\n",
       "AH+m4hoXUVqoqmOjnS9SU+QWoUXeWy1cQPBc4+d2cGb/NphUqyq6b49Wnvil7L4LdDIMQJCyKdvb\n",
       "RhqZPOnOr6Y1QuUGwyGZJwE+zHB29mdr8QvDMfzEBPMJnXCS2JHf7/r/amNToAHwlQCp77sgBnZH\n",
       "C4+P7iuH4G92UZbHohqdprMEfaWDmq8GvBq/Gh6o4VmEiTwmRwroiMt44ezlgxsFjbTaq9Vh4rb9\n",
       "8z0dTVoSHLlL/NTof0h2pYlgjU1viXxl1k8YocwCtBEZdZSDp31Tpd6MJCEkrQdasaLcRVRNzIRw\n",
       "L5OqN/B3JL0KyZu0u8iM8Qpk1LAWsWOzfZPQKp53yA0cllMZ6jG/fObe4fMi1dY78ehDCc71HIz1\n",
       "G5Jod+91bpefDdFs4ipX729HMvVXAcGn6MLHu53+KCwqXl69P3bGeWOR+4MGyG0pCyLE3D+pCEpS\n",
       "SShw67so8MOo0kuS5qzVWZCkYHHuYDKOG0rLKHYbTyX3wTDZNtSv9vfaBtXT8vM5Rd6nffyViEBO\n",
       "rTHd3xQ+GEIEPb1OS5WxqAM6J/ihCrrnm8YuGchkSI6hzodn64dUqp3EjsqqJdbDMoo9e82prrLN\n",
       "ZuZQyU102qZ3F3t0YOTioBSxEte9vY0EkWKfNCi/JbCU80gr0cudUeFuGnf18rRvETq3DWNjSt9u\n",
       "IC0F0UN1iM0rbYmzMO4oy55/BWGFXUEgHo2BfI+EDMwhtVlx8F/XRx8Gy2BbaICax6aU9tVmS83h\n",
       "nuyt38Q5Eib0aieCfu85h0+Jg3IGG2jj3o4lQrcnnD3HYOeIavRpSTd/E0z+rB2TdAge4QeoPwV3\n",
       "MIs0hYKuo5xc4buI2/pj0whSS/c47kXYyO0kfdfnzbCoKEd12eK1UorqDi1w/r26v9ROmgwhO90U\n",
       "sFJLMPhpN6oV/blYGRONtn3oVmfgG6eA9Rm6nUkvX1jowuall3dzw0kwxDJ2VbJc8lAcv+FQxoWH\n",
       "de7wmmFkXTaMwaTYWO/QihFQ+HFv1NCae/nvf0P8lWo0jnGMjZDKhwx+okvOE4Xd67tAmfOkuMdB\n",
       "XKzo1aQsPd7Z6Z0PBpGwJMTK2bCxpEWIknZDYWWma+HhiZ0ijN26MzLGRgppuIa10qhcSCl+DOTf\n",
       "o85nU9j2mRs2wA6HU/hyrLjO+hHZfKyAYSTON1xIpFrSx1xEzj6IugsF1lYfEYywGb4AQU9PwSSC\n",
       "uq9ocKbOhuwATdM1J9ygvUy8lBU97NsPKSf7X00axGcZEd5euEAOoFHvLYrk7+4P46ap0WRu53YS\n",
       "3TIxQ/DEmm881//au9WjjIHq5YvMnwkrdRzSlzRhLE/jjOMHC7duuyOu/zPhIHezdOoT3jWTno+c\n",
       "icNwCfjwH9RwaaDBvveLT1SaQI0GnxbWWme509IkxW3xGGPOC7eWPzOh7AfwMxr9TpB8IHKdcRXq\n",
       "/orAiTwTzLcLeFTlXbn8exVXPC7rQzQvv9TSgzwPnvrNtGFJJSSycGrgVjyoNpJLdj4tjBgIwl5j\n",
       "C7d2UxewwXL3zfY2GmC1N4/zxPBHjKgw9qkUENtoDdik0h4VZexyXb/aMLekqV5iVgVT8jdXQV1E\n",
       "Sh5KT37ZwWbs3Pdyb8Az1XAWDWOadiHe42/5Bt2kYIJymfPY8lGc+HNDyM5yN++9i+MgCjcrS1yr\n",
       "YPloMndLMfHYBeS9y2lV1irIDwfLNZu1M0xO6f+QgkFC4l2HM62UkySLPh8sYRUrnNTLCMwBCrrz\n",
       "Am+DtIdsOaVYqBIp2rFlYx9BbA6iIdl0TNL99D04o2J0GyKaiPkljkfvE0rwDi1paI1OzqL/XIWz\n",
       "ZtEejU0ocw4lTGkjYdZyLIluUQZk5guaKJ/obroaPqCZE9YZ7lqYGOqrQwu0lHgEcZuf3c/lRM7E\n",
       "sm/B5o4RA7kJA8bgQ6WP3fnx3+qGoqH6EgonF3LNGf7jOEh0PnBVKB29+1+epPWd9x8TXQ4PbFPv\n",
       "Ud4mUV+4AdqhEhrmcy7xHxat2MBgx2PVjsb/uLcOx1ZTXFVp9f2C7noP+OE6lwykhkI48EMsr9Vv\n",
       "1drJcE1W9m237mdDBej/ZkqG9DmGIlgNdhWk0wTRti2poJf3M2l7/j9986MhN4fuAymg1+yej2Tz\n",
       "MIRd/vgRvn3jTvr5c3FZuevWC9qjT/tVtcKGtZMPnNVaDPXG0E6QQX600fjQ4CuDKgnoD2C73+zM\n",
       "7A0wn88YO9xft40waNbOl8k1lr63+gNO99ZVdrDh9k+78OdP5JqjSLfGBAvRAJZFnPYDRD84c011\n",
       "sdGrBjT2LlPAILOnTJaH9UniOhFS09JacWqF8rqADQ82WDYMOt8ThKDBIqZWdKnRko3RZRktWUwl\n",
       "cXldPCXnCH+hkUmJt6oLmCfEi/7XY2F2DlGWZBIUD9fK2Qz7Q0YpJPQHoQFuNxAf7l8MGmm4deDV\n",
       "0FqzJ68c3mzADbStE85V/5BRP0QL2sitiIGbIPxgvAnlWaNK+ebKL6Omxx8LMuyUKUWa+gB+KFdo\n",
       "zm873iIJhk5aNliSo2+u8XSbisD6GfqETXzdVMrCoYZEC0UrIFOTgmZrr/yL6RodMh8g5E6FMedm\n",
       "XePxY+npX/zMylwW2gJKuVcpxrHlZVIFxIyfYltRcBgVWjhuDc3VcAKOlYksG8uBZPyuvgJqyc53\n",
       "vGUwl2sqbxOI3wc+zYw2jCbaFQ6Sr2jmgnZ385rYSWi4u4Hjv23As9f1q89RlgaLx+U5hf8CKRcM\n",
       "F89fSnQWvwxSvg7qHA/EuosrIjpEOFvm25Sz7crlV3WZ4qe8OeDehVh1Kcgryg+4WhX96LTvaJuW\n",
       "m5ou7FTJoVuuy4vddqlIZfe0u8XU2NxyMi5XhV6X2NL9g5G1JJfbS6Jg6Wpp+iTy+ZuhG1Tc1O8d\n",
       "VycAwxilFd7WG+Kd8iLl3FyD8cu/x7W9CRJgu6EriONi1XezBwQITw1d16lmVnWSYJnIF4ik3gor\n",
       "tOcm7J8lFyCABghGD84PYBMOPpDKqGbPqbbJj91+S7Qnn3gksvm4vM08r1We1dzeqjbkNBI/0jRP\n",
       "WSbvUX4tiGa6/AeP/SPMzIJRFn4kQjLHZsNSOeZAQt8DCeAYTUYAh6PrPnzYf7EqG80X53/E9KP6\n",
       "UcpcyhdKvgVcJb+fZ27f24BfaqwW1C26H1tKKXIxrtpdInP8wdI+i4UltoYmsJnbp1OXwaknMuey\n",
       "X62flpuD8mzLR+ZOYUfAe1AIO6U6YAAABQZBnslFETwv/wD4JfEYhfwqS6sO8xYKA1a1zEGkAHkB\n",
       "v4he5q2D2XMu4V88Et/QUXnyTk9qKn7P/klkQQWy6lvx8sy6IOAC6B2H4JOL38tg6h+HF+pqntkK\n",
       "GaERKegqAv+lzCsNExeVd53AUVLJIAq210+nwc/TKYpKADA18RzdZcKEcNpm4eVBO6nQ0I4jprbR\n",
       "LdYXfOubpWh0wvQEStRWucLtAHwu4vwTvldtVU/hs+hzCpG0oZhcsCiHCe7TJmDCB3Yfmi28Xcgm\n",
       "vpizw8pKUMt6ERGvyEGeuTPkJklQLBiCNTY+PoDJdtMn/J+I1w5ys+Ryz3SHWAmglaPZlZTQ727I\n",
       "8iZdCEQYn1eccURzlgnf14ccQz4PfMa33UwBplo9BKNEK6rTxzQvm53jukrF7KSNIE5GbWU27ixR\n",
       "dvpBcOew/J4174FIrkNpUjQ4O8eyYlISikfeQJVpC25HHolSB/QBtYttnaMaMDltADJq5DiURnY6\n",
       "ABTN2VuatoG2raq/bun+MRsqiCwG+itfcgxE73ZMomUH9FAxm3rroKV5weZFgp79rXL/EbOygc40\n",
       "mHtVWd3WDIU8yOf8GuSrJaJgKFFNmO4xUwqUnJ6zkuDRMdIUOhBVw5+uZ7iYR7htSotc8/MoDiWt\n",
       "ozI7Z4gLpzciErSn9ndG0I7jYrUdvARYCnYd6hXHyKhEaG4I2EeLilaMzUnlGPX+BEussettH8nD\n",
       "V0SLTwJKx4hdlEXQN0dWHLPXMaG1DzVGmiUU5EqC2wvPi+7N13Xzw3CRsURmQ0RTw+iH+f05T7BJ\n",
       "GPQvMdOvT9zX3qjBst+b4eLGGk6LiPu7gfD8YBrCDqwtMNJzdwaLPddxTV1NQPZ5v3VbEt4xwKcV\n",
       "mLr0XiC2OigfA/ZbjrzlkHVazCO9y4P5u8ozoAxHT20fOe86OQhi98/Pq3iPEwHnYq3aeedz7v31\n",
       "ys35lLjTvdH8t9vRT6Zas7RAbCZIFLZptB79p84aaMREqXLosHxg4r6+cOh2nGq4OEHwJ5t4AEs4\n",
       "SJlkIj+1BabeMKcJVHVAxo/0K/g5rN6Fwa0TGjvSgD/sD93TbaL+S2E0DyWRw5/1UQTS4h33Z3fn\n",
       "THNjUR4IioqZAeDfnuzhOzbI/wQLex2syfTxzCbokSZtIAZOX36ZXhTAruJihBTT/f73YfbG0ilu\n",
       "sLHD2K24P6FwofLvnzc1HE4J5npMkJPmwSNrkVYjY/9j/4KWQ6pczJiYiVXHPG4cka/Q/pa4KV4H\n",
       "G166gPJPuiaZfanwZINu6P1T+6uLcbHJrCnWhSuGVUOdqTxHUg12REQsP4L1bFJwk3mXDguGL16B\n",
       "QR2PrvBjfFoWCIL2fbtX1vWz753Q7ULeuC020+0SwjxKEgxiakn3Fs3wPQJKzK/WoqL7A9pmnTqc\n",
       "15zfORA/tJBWyO1bOQj+OW+dhB1UqoSeIsVoMxvS6p8NeWSkra4IYSCnfajK169jA9Pit7a8BCHY\n",
       "bID/OqLso0syXiLIVv83w3te53Hve2Ata1RZUids8LCA0cx3AERQwkcMPk3YhfeY6NNi9i7i4C3x\n",
       "Swn+TW7Wlddd6ZKt9S76nsXObj4+K4IJBj6aXJIbrKYj6RIMwlnkdl4ECz5lBJ+15b45UqjI/MJy\n",
       "6L5XUFWfjVxEtyimRFeG8MsV+UzcMmY7FrYYeL/G9Mg0aPj47E/WBl74aj9sO1PBltU/uO1zWGc3\n",
       "oAAAAzEBnuh0Qr8BLnNihRlpcJw51tqoAb8yCGrYNxzg7GPLPX22N1vnKdUk3b+KYwdQcGeHUm/U\n",
       "eyJ7xnU2QepWYiGx+6ru0EnELr7y8FY/w8S8qvcN4UqKAIebYNcfTlLw2zMCJe1G1wPtxnsubH9B\n",
       "oG0MtImNaKQSfyjmU3H1pdpE1B+geWDqTuxZfr27HUxyZJ5ae2rG2nk1Pto4PoX+CIqjcTjJUTBf\n",
       "1kWr59lWHOEX1LZD92n+znbSkL6W0bG4R40hBgDzWuQuGEieI5WiG3fDIua8ORoClxuy0K3gaqdi\n",
       "PigNV5kzwKb4q8eDa081AbR0uKZwDHWMn6u/RigLIYS6jEAdfRJAHijXHMH3SP8m0uw1kixMOADk\n",
       "e3UQp1qxd2ydi0w7pc5FpyW00Q9NBBaaeD6aoZB1HEhdnJ6iTWKIL4LRQkvsSYr+M+19wlMLPRCC\n",
       "IVlU4Dv6XfJyVNsdKqtNDDhDAq52BIuGAOxecuPPuBSMuDHHhh2u77xPk12+TEMpfwT0nSgyc4Z6\n",
       "JIEPNrQXM22MxCbZtBBBxoiqJeTySs7sk3OynKWkEOPFLoin/GgIyH4Zn1/KizQrspp/u2vTcbiu\n",
       "1+vLAAWRf4J219cOX1sTC00UJdhW5Zsqh9DPHVw/SdqErb3Dz10uePm2Jnw8dC0zl7MbS0klg4Io\n",
       "I+cEAaO/kxJJN4D0L9PsXoOH3PhZkXe7J0QGXdIPjrDgYdCME9DurTK9tizy1ab0aHijeKXY75Ep\n",
       "SelY+tW7+2e1Z6eJG1Jhe9YxkmbqJH4be4AKWd7J5lD6f0Vv1ielyL5FXGu8nSiw5oOEZdyrB+1c\n",
       "+D9UDsEVA9YFx29/vdaG9j2Omgkl+dwwbv6q+nunLUffQQ7v5jWVoXOETSQAwymqedjLz2HrxfxR\n",
       "2k7MzhkxyhQoDAlz/Bkqdjya9GeFeumEO09V/F4V134Hpprai4UcCwavzzf563T+msAdQnuDfMmt\n",
       "vqr2HgdEV+d/nm2tHYA+zLC3VKBSjCl555gAGn0Lh7gkQC+X93rtGite6ubL2TGY3l7RZ1TfyPWE\n",
       "9mhSu+l7dBB2dKjlX3uCwPFGKiov7t1lAAADPQGe6mpCvwFar3MznQwXtDCwrov0DRTzwzCiNljA\n",
       "Aqk1/ouvzAVo9PAUEgJ/UjIkS9CfMHBLsMC9qs3+OVRAaXBimn8t05+1W7FXT+WvdFNJsDJLWU55\n",
       "n0TANch3QeP4GWEw7O852z9BkRVbBUyEedfHA9ppd2xM/t58+yzizQF18FbBVTubPjGMWN3gS4Ez\n",
       "hLvQJz4j/XcEhA0udaAFFRZK7kBGj6wVRzktgTw5EqmPNOZTauk1BQQFdteF5qRUde0zBFKGByR5\n",
       "RKB4Ad0kGK8weAiw9pjii13/xazsPYhW96KlZ/fHQyF6m8qP37qVruQl0XrOUJchOW8A3OWNV2TI\n",
       "Jc9a+hYwBkzx/tYiEzu9yH0tiXV50JQkwun2YrHv1vZGbYFC82XaPnWtEyJrPb8gZ+wAKgNvKPjf\n",
       "vAjUt8DhS/L7nJk7BHC0ZNrP/l1rwSawsp1aGsTfbeUGSJRyC5lDA069FOnVBztdbq7TcaG4YTZ6\n",
       "L1HFRPemvMVc/8y46Hwh7zUbwPZKhtsayYBUBTanofKbZPwF0MJUBPxQEGOVNusmdboyfZDLr0ci\n",
       "7WdDloEKjNF28s8ka9vnKklNLc6xtYFtV2oEhTKsw7pB3UPne3ozaoVxRL0vbcyPab+stX4S7IcC\n",
       "E4T6QKbSHmmt/mKu73HAsLeok0vwBivmfdWWX/B+CLzVD44FruZ5FQSOjvkXq5rl3DABi7ZD7SXv\n",
       "rpsXaZH4d7XtBSlIG1a4u7UW+EWDozKj7uBTqQEWfyxWl6tCq7/nTLCkp48OeSk0veVXZdWCoeDk\n",
       "hizgbz7DJz027A6FdUoIKmend4tOa/zJ7Atmj1Iz3Tzh5mPOa6+gHpfcBf3HqaZT6j3BqT5Y5om1\n",
       "c727HtglPSPrU9n9bJwj2T/cUmFvtfnY/36zG6y7oWDVKspzXr6gvZUi6UQBxh+A9V+mZznmDtli\n",
       "8i61ehaThAHsALIYUEl02kQslon9vNsYMr8MoIgEHOBllzngddJFxFvMMSibY/KdXj4sT3SWnEe+\n",
       "wNacfTK/u6dp5J/oQ3xKnL1ulU+6/+KPnHTE2+QE57KhzdAP/KkNxByCDCDJsrJWBf/7RqFU8kYq\n",
       "NYQAAAX8QZrtSahBaJlMFPDf/qeEAeswbgwPIGGowvAkvzTCn5vIKamlVqtHcrheqSgzhbpl4n6K\n",
       "ziRFKPugAQaR1KjcL4OD7GKXImUgc4IyhhUaz45xFSTrWTezb/TZ9CGEcv8mbg9rs+6mNb2OnWvw\n",
       "sp4wWAPsO4Z3UuP7GGkKInemXSf6WH+PbnjA4UKxP+lvkTBrk5MEjNL1YCtlXEWsQReBnu1Im6b4\n",
       "1//6HtACM440L91Q/v4h4mvmzOCGuSLBeh7W+I+dpQ6QVKguL0MmF72joh2FLmvTURQfuB9ZdNMV\n",
       "JYkEStiyaHUFS1uO9ES6jyK4yRCf53aQnSJg4CiuJe0lIhcI63uiDsYD/g/8ytyGZ70ijtcR2ZP7\n",
       "EqshR+7BOb236i9nMfbbJYQOj7EHbZ4uZefSVMuIbeIZTHjib4kFdd3G2min6kl3QQ/FQdKH46A1\n",
       "8qAr5VtYj1OfJU60JF55M4iT4bTIG9JRuXzE+7JfoMuakFsW0VZciqhH5j1p5RnIsKqph0AICjD6\n",
       "khmV5FQPqi3o0sZPTcUPMNH4xmcypDGo7P5JsJ0l4wyx9XtHsT7PSkEsP9u+JtvQ2PZ8PvtdMEe9\n",
       "KdXBQuIhr8T+k3CSl+lUFCsgNJ1CxSPkkG9RU2Vx8T86SaXA6zEfe0UeIaWi3T0LrE6M2lW0xwRE\n",
       "YHDlCKVFuS136VxLda25bRnJaqZzuHSH5LrH0slOWKK8qWGzekeZ1cFduNgllF9XeG9llMP5NDIp\n",
       "NiOnhAhPbjcJ+dQNt3P/rfTAyYl+1InA5zwJjGAtn7XS7x4uKoTKd3/aZbXILlDLZZb8AOetabiG\n",
       "eD++8x+bCrVEEd/beARAqKmQLyyrP/qzaM+zFuRWSHHinWve77cYejxcYkJy4wUBA7an2ZwybvsI\n",
       "+/g24G6KleUcCq+nioXHFm1Nfv/K7ranYHvxrlwWz51L3mK3UXvDgfr/7b0gpwTHYOlZShehVTZJ\n",
       "tOv8qLaoy8oJq2i4cga16qGgB8Npq9cV2MwFyT5FTjce4BkqbpuB3kwj5KDDPWVqjmDfzHXoVwD5\n",
       "Lt4hgcWAqlhTqULBEWYehj0OMJGJypYvvSO3rigyhnGeW4Q2iV8D4Lyk+CbC4CbgKbBeaXYFoSsX\n",
       "q9wikrfMPgs41/rmbMx8X/foHcFk52uLNh6Vw5fahvS+p3JmF0H/Yla+BfSyhhQvKBtSpHesR+h+\n",
       "qfIQy/iQYnpmAFSzH/MtWT4glhwlXANu0Q2LV1MjM/NiM+20yiclR5meKxzJoJtu0DvX6L2V6xCt\n",
       "rvi/wkff6+dQeIXHhq5ofALjotKQ2/hPw6HWLCicu4BVsFoy2KJhJyXHFrnGdzIhjoNhF3WGwF7o\n",
       "AucAC09iuYmfSY3DYyDKMBM+16BzTs17v/3IXvSMlV+vnr3KTcs3H0cofcH+6v6+S0GKraBLQwYg\n",
       "/M/MWBJTeTFYeqLirVK6/oaykritQqa6vyme616VkLZIi6mhu6g/nusXEznxCxpPNSkqU6jVU+Os\n",
       "jCFR+ZZr5ONJCeVnMI9jypE3R55vR1mj+Li2WrHGpUAFkfOcMnlh/G8Of8IJtY5EgQVjppRiBkis\n",
       "02vz3gwqNCEbZrk8W3I0+qQs83PUl3s9bNmw7u3NX+QjvHWI3cyphaSSAzrUM0Wk9uCTRY2kQR41\n",
       "oSUWTKy9L/YRBLxPFwUpRQ6xNRYf0e+DAIKhpvJb7IuZqEYA/uK1w5Qgnbd8qH32eQImymzzSEx1\n",
       "3LN17aOkGTnLLRi5nVLtc/CFp9auYDOD/JGVGiQI0xG9khNtjN9Q40Lohe4h2S+AwzWhT8NUHpo8\n",
       "CNTlNdszVe5XHtNJuvCMumNTj1pe+kNIJiwFFO3QSz4NSJlzFC60wlaZPvyxkmtZsgCUre+N9Fgi\n",
       "5zgYMfTYIcnmqhOi4o/+Sd1qRMu+IImt8APl5axp9zDAjgktcwXmIh8DDdHFt0XRC07FUmgPH5No\n",
       "aLszfNuteNIZPAqrbPbhi7CvFsv7149IXxN6KAWo0AFjqg3Vk5Z/73JoI8qjb4b4/J7qbCdBFrAA\n",
       "AALBAZ8MakK/Aykj+LGIu6oXHI13uG3tUuGhw/hAAgsLHhhDEe3Qkz5s383xACw1b6ty/PYI/og8\n",
       "FClohHtYJoZX+FzWK8vxZ27IDC1EU++NXFh0gn/paQfaGLulOytJ11aPv/NdSaRd+nPwa6/ij9/E\n",
       "IZsrIDC/7mtYEKHkABcdTusU0TlXQQ4D2SN9ytfej98UALmXScK0WhZZGKcPs0Sh+TSZ+kDOCM+E\n",
       "POAyLs1S7gEWYck8gFQ9M7ICFD/oWLuix1BbP82ILXFEcC7Um9Qocq5e+cVCmfME71qoorMJoqo4\n",
       "lhGTcHjKZD7nP/aa5qL03HP0Af9XL1bSIaOLNo4KAdC09GIMNT4GO9jQXNUi3uA0z3dfNsgtYDLP\n",
       "X9f3Uy5UJmAEyuR3GMucgfeYiYgd9wv/MRqTUj3d2ZmXvgnGRGIvPLvcdkUUXy2dqPRmmOMrm109\n",
       "sxTS5JZKTP7QNFHnFFn059lvT50JAYytcXQ6w9aLLIPBvktghX9uBDl5RZyD6/56jK0XY27l4y5p\n",
       "+0eSk2hYTZBTWzIRndE4++0MixkalT9qnaBSOypwAXyUixGytYrMNplVj5Y1Drmb9g9RQ4OXzChO\n",
       "f/eCaTDwcuxE3CqQH53WF5qrVhYzfagoUA0UAKDmhiVIB3Ha5Vqt3+wuUr4D7TNiI9AM/krepKwM\n",
       "jEnYc8OYcrRHq6LVqRKGcd3wNUIxLtPfvQqRlxe+56ATsXaTCxHRm6cp4kDADYSFuAKFR7MKjUGD\n",
       "wlfxxaVhqn9tPfxwytwAFQe+7/kW/+bWwFmCjgVHEII4oraB9ONV/Xuap+ttZaD5ME+iWESCPYl1\n",
       "nTRGzVSxtpPXcIDji2TKe3LKgjppJaxgTkWEFKC2tBtPIFQNriGDOY9hSYOeXVj4e+PucQ64gjMQ\n",
       "WYFJ2or619UJBfiM862P/qXWBo8lid3pAAAIlkGbD0nhClJlMFLDf/6nhBnbKhQmhXxru3EmwOmU\n",
       "wtqAgwUJWi0zIZZAESC+3HUO+5hANEKMxdH8rvkfSWxsYOyiOcHpa9p5k5N1hjSNrfFAiv+gMg09\n",
       "1cF4v/LCLRmlpi9u1/p1quKmkC3IyZexcp/VNYtiLUza5czNF0u8Qn8v4wjfyinjFQ3+Bcq9S0Wn\n",
       "cezHVxCSnxjTrAAWFwYn/DKNUernCSSOlzFJCGnjBeRxbva1HhHKeqeQgSzrg32Tt6glGshqzK5m\n",
       "qDqJgFyTte9Syow7hBy+CBbPn9GBWT3UEVoCm3eEEuvyz6CwPNI2nrQH48yTu9CCr/WcHlR6vXhz\n",
       "N316znlo9rcs9x8VFHIF0InmUzqv4+b6Tifa21davXOA8htRfkVAqZzdYSsyJAgdb0XXPAmg/Z4g\n",
       "6Lsu2RdwIHMxFBtOZNVOF6bYH0r7CHF59IKQZ3chF63erQrSK69WFan4gFTxNP7cRPxLvTwvcoL/\n",
       "S5LEOXWC3KNs+OIY1iQWlJVF3BY+HMN6UVhLdhh4XFOg1vRhg4Ndx/PFnxZ3RByqVr6Igb+auB7z\n",
       "OzG+Z8MevEv92TlrYySJ3NFxL70m3OhbDsdMjEl+SCB0f7I/hbyizpWMjHuQhqd4cJen05HQqOYc\n",
       "E7CdgJ3WohYvPYM8THlPhr5nEhsxRTSFWTQPvmJxD3h6zlbYDdB1/rQQHok5HEqIIveUSvcKaJrl\n",
       "9RwsADixj5ff7+V2TUysevK4IhZfH9rExGzagPqed5dU01RyYeSo06drg1WIyqo8B8lKzi/B3Uib\n",
       "xfjUc9MY4Er2qmDhgP4KEnhmrWiF/O6WfMtZxwFcDtSX8jvf4+j6/UGP0XELu3amkgtbH054QcQx\n",
       "DO/2f0FScj8aLnZLLkeda6a9pOUm657joAKcL80m4sVcejCDj30EQ2OatdRiH1XU2iy9UvOJyVzG\n",
       "tfhETu9AOcsNkDpti0eEUqNCJBUduc3eE8LGG0Wk/4OSP6m4S7mkowyEAMf/El/sLO4b1zng58b9\n",
       "f2dFed1TDEoG0NShuXthLp3BR8Xl1LzxSxi9oUj6VLwYmuVPUEneu+L8xmjAXklk8vjz2nTFs7O1\n",
       "UQJK6g1tvF2pWF4yCVcBRMO5zHedZLtAIrUztY0IMoSPO3qsKQsbX4Us+zvxUD2utAsvIQge7oMO\n",
       "Y+ARWpoFv1G7fhqFQfoD5TlHY/zAzgKbCZkGqR6H9E5XE0JnOsVHui8pGEIhICeltpGvIWXgp+Gj\n",
       "6LaE5rjMZA/+QADZrtDEDEnYpLiySBpydgOTgirRxAwXU0nDkdiRN9QwnuOMpAzgavNdDLfNhhGs\n",
       "wWuR9lMlc1KqrzCpP96AiOyhKH2WgsZVz9DuOdToR6lDng0XDmdELnn+evmJM4wRqV++FIXGcdHC\n",
       "gJJe6+EhwW4drkoHH3ZvBpyRQ/nwe2jw+JmTqRZ88H/6bEFV5Trwd8MrnJCnJ5T3x1/2puP6N6JH\n",
       "Sr7D1K9OLWL/056nm6/rdL9faEMhhxpGzdf2R1Ia10/XvgvkhbwSOrD5Ot48FL19JTmY8M5W8cqA\n",
       "OU+CiCsO8cAt3/ZGhGI+Zzv0riZ7pGKFr87ZBlruLdbwcm+lWPYvxCkAJQw55jjXOIZn2BlT9/yF\n",
       "LN7Z/VD/TjCfEjv7tsSyk6/BVROFZHVpJ+pjp7TvSUGV/vTsH+BEFEKRA1hbFbct4WJ7ZXi0nUn1\n",
       "vfV6AkOxnGyQWTakwAoDzwBy0RFi2zlVCgZ/g3Cctkly6sR7MUE/Jm2z8X9FFXrFQkG9IA9X2qa0\n",
       "iLZnsR/aeyATnApsF094b3tN6TpqQH8AYDZeH0Ew+UvVgQssIrhiBWdFhFmr2cXdU6xlTIqVTSLo\n",
       "Ktf9sWjEqpMV7kb0QQnYXS2Zpylon75OHRAKzfUunCKxE435CdhJTcbikB0vLA63RUBmscpKPZh5\n",
       "kHeJCyRfF7564Ueg54X6FphyEjqxoRZamdOz/lInX8PByS0PLKwuyufFu9Ex+AlfslKI2C/D2jg5\n",
       "RtQZzi+q4Ky0x+Yk6BeX7SAO87Q67p983JFBbR1/1lf88HGtU2yswID/hF/Ua84DKvWAFm2QA9j5\n",
       "Sev4+fn9+1/hKIb7kqu5udxHvrjzlsEfIsunTdznr/Qh7UxRl3pDjZjME6CeVIgSsst/uk+trD1I\n",
       "6AFzGm9kgGT6V3k0AxdUMZLJFvItsTqACJIEeAHA3lQuREpu7pPytNhcehGOLid/SuLe09wKgN0D\n",
       "VCX4AeUDFqJL2oAawMBDWV35Ew5OTytIbVlFkDLURJfIwqLe/bHaaCuyQdNaUTU5ajhhtFRfh1ms\n",
       "DPLKoUB6DQzRBK0iheZV1V+XCVdcpYAsyw8sz73gEky8BlRxv8ir0w7J0tbfiLEkXX/rzqv8M1NY\n",
       "sUp51+++weOGK+lA9SvgkeE2QY1KBcynNVffo+gdDL/GuiZU91Fei2YbXt3pHaHy4CYk3CIlkmFo\n",
       "yh17wsFdl46CcW5cxGKrI6KU+0Tn4P9G8MeaPRKRnnv6WFkAT9EqPrZ2hDR89UYidCzG5mxL1EFU\n",
       "IyP80Qez81f6gJWFvy/YH4+2yxJ8nozeoeb6n2qdpVXhjyjE2m4G6ffQuazd+4I/N/n/ZEr+65DH\n",
       "qZx7dyZ04J4lBwhqMKKMMXI8McJyhhXLYvE95qM/vmAlvET2askinZ3ssu6vnXyYYm3M8wrkaNFv\n",
       "TEXeL7Av10UPQurVMk2pgbTF05+2a02cI6GC5u+p70SAyg+4T3avxl4mizqrUTh1Tmy+YC7/0fxW\n",
       "m/3Q/i6OPUGJTu4fp45//7kAPk07SOl27HFQ3Ub0bbYwQpHqMHWTWbqy6lid9eOgDYCzC8+Nx6mW\n",
       "Mn9TfkAXjeOz+oEnnBoKNtzTXGKEoqKLrJUb5PPaMK4V8+nu6wldXTxqPidVEbBM59bjEY68ViwN\n",
       "GJeBAAADJAGfLmpCvwM93RX9I43cQeaLNchNb4/BkOOABxs6tdw6kjH6YurnOd2qAv+2QkXl70wi\n",
       "GWHM8oGhTd7Q3fwZNLGgVe4mPltKN47saKS/DB9//fVE4LhM1uiOQCvvLahLNXd1M8R2Y//Gapt3\n",
       "9pOzIHbTDXSfYgvO4JoQSETnBmf2UVUdATUIupFrO8n8dPJbFkkZaxuc8ZYq0iAA9RNDRKygadRH\n",
       "M85KoQ9vBEVVbpN+KhLbaTLB0IkQwsi2QOKjZgERTQmK79CYy51JJb91Z2iMoLgHyL5lPHuWqYFw\n",
       "WkMF8QURJ8/4ky0s6QDvqnXmDjqLOjAPfyQd+++exSZsQMcaqIL+u6EjW27jxYlnC2R30u3bHJC8\n",
       "mCZte4lS6GSJcIvuz4V367f/FhxBDf5luJICfjrYbJ8+pQLshJIP/JYYLDIYNmv5fzlV8Qk+ngIX\n",
       "0d72CMLylTu2qbLOhlw1QhIlh8iJYa4Zy40NrOkDbGpUThqfx9icXwtVKUg3WjAELD2T79Th+NuE\n",
       "8Fb1aT3JV9PKtc033PyA4HfBBayYW6C8dp5nDBaGi+8Jh1VAXbRkqI63f+p8eVoRDhD9RWKYm5F2\n",
       "J9i6gSKGV6AQDu6oO7lpB98mJ1oCNDNrZrlnG982rUoe5z34wv8ddRZNpHrdFWoioek6rj2QjD1n\n",
       "qxdq9twQnMfIDNOEP49Sv5vfaDVa/Scg9UpPb2LPk2iPZL5Wj78LXIdXsIFwqKmR4FSF5YS1xUIf\n",
       "BZQkEGGSDZAqOV9sa2XdmYB2GgV48X+hphzprIb5a1LVFAAAAwMLVlSSpPekdrq2SM5+ctBXxKFP\n",
       "ci4BvpfMaHzcsY0s/thovdCyuZED1XpJ681ajdeX7zXg2i6pPra5LuDqyZmqjBuWt/mFGK8at9U5\n",
       "McdK2etFTLRCoqgUl+knbMV/iKq+nMavM8KA7PcYOPt8jVIDELFfRQyN+uoZNxwhRhW+s6TlHHYb\n",
       "7P7BIVrhL5kamNUC6E6RX/HCw+mRGbjGHuLSAHnJ/o1KK/PNNFa+E5GVJ2FcJRtOlrqLsGoBUMl7\n",
       "8nTDWEKJB5bwhthEaQAACJFBmzJJ4Q6JlMCGf/6eEAXS2/+wiVIAAnWaVuNxJAp0mow5s0h9G5Lv\n",
       "08KT39QGZkSyOrDMVgMT++4Ghazkx7/gi2p3H92lUB7HL5DzEXTEEMGPQggfbpXxl4j9XE6D0pUH\n",
       "b42W0asIxHtxRW06HBtxLekQUoEoJOuZaYgpOQ7EwGvtMAi9xQ7tMCQmNbpdFUGr4GgFbCKnq9p9\n",
       "8E6pReyZ5e4sOxHIhhvzghDnBQOVOrE2vzJ0aqjLCAbG6P6ov8YHP+4NqnUuVlaqNmZImrcJuVXr\n",
       "dos+Simfqm9NB8DjtLUzY4v8F53rhDLkN6PyqramUpJZi1zNda+Q5X7nEZVPVB7o0xLfvYr+ky4V\n",
       "oMJGcu2AB050jQE5viWkt+GyxkPIUjy2utC2nlNaxmoe3klJhQ3PIA3gqp85oddkUd/4Axo0G0Ut\n",
       "a6rAex7quOsHQ0nlZ8ABM+DM9Ga2iow9iHpkW48CVCv9WSU6VMsfyItTOBMRc8Ln/zxA/iaIJ19G\n",
       "g7oKNWOC8k4OxG40sP48hR3Uj28yvTp8P6O2vickTtZGL9elIXpB3Df9wmQH1DZFLoL2oYxJBJgX\n",
       "2BudfXabfIBJ1hDRagrDIAS+DjFWuZhtt57idiKs8KHXBfJrNzk3fRVzYvhw4JGXxaO6SiityBB5\n",
       "vYrqH9k5zr2ro3DO1q02DWCqyzDjSpKg4pVqdoYqlx/qNjHI3Y9EMLv4gnhH0LNKhTkWZB6BhZDY\n",
       "/3lizRVNiCQ0HYDI1J9kIdqivdxNr6KRWwcHdj0AVXk5UiP1T6kBaMMShFkGZLDtou8yZ0xBfZ6O\n",
       "oPJsWPjlgZL254Eid28ej33Zgq38gPzJsZ7CIf4FEB3g0e0yBMEqAEY8hxEKyrFMPeQQ/+RBG8fW\n",
       "vl+8qHx/gpH4BdVrAgVaCIujkjkjJBFpzUVp+yNHEcsdm5iVEH1yAWGNcM8XtjoAV6d6ycNzte2I\n",
       "l12rIjbMD7lVU56YY1g/MyHZfxYuIcxxlp4Et9HkBv3PFVXUryPOfBLo5fnycGTyMsnrbwZ0ySQp\n",
       "hxikHysEi7U1FnJ3ht8g44PT1vsd7pnIYVWEMRiTsbq7Zq3jL7qLhbgUvmPrFPMlRWD0Q06ppWxV\n",
       "B63+NY1/rELtMfNjupLUgRjF/H5x5svNPmMIWEBrgcD+bE+s4M4I0rkSHlO/doK/GHSZScX3bzYo\n",
       "BKsl4rxLZa6iP5s7sOv0ofrwrlRsf1ODuwlSAPUAu1iibLNeUFjpGWUqi3Iw9rTfIib4Un+y3+64\n",
       "jFuQPdYi/nPrZbQeFw5K6UpVZpBPROdzAwItQxV3jy2pW+U95a1qrLbNWttnzoK5MN1UBXAj5dXd\n",
       "4LhBt2jxbcIILf6KnF+efD6JlHwvk048jgcCaD2Funa5Gmpu28suh4Wzql4KG6zOcZqSmcweDr50\n",
       "9xcHSqWxDlWq9n8T60/U2OVb5d2kXOR6kMAd0sLNPEE643fgk6BmckdT7vkAZZQKVg9asLO17z1I\n",
       "xFvqHlx/YeNjk9wkGNwIWj/Vi9HzwC/5bFNakKX9+BiVD6954oiHGUw+FBUw3jV0jiCXNIFffixe\n",
       "C7KzpJsWM6Z38X0JfOoH619D/DkkKCOqHMqwFnOOadXRC1V0xNALjsI3VDhVgStxyeJwv+7rEdIr\n",
       "UIe4ALdw4EQ+Zg7oZ97D6eynl90C7NsjzF9EPGSw36HCqv01CgN8AxOpl/sr5rM0jG8+A4YkOdtt\n",
       "c1u5y2NBEyoMn44cFljrm+DRUvFVba2qlvemmojTZaSBoEHyQio/Y0UmbCRjAGZeb/x7BK/yiMLU\n",
       "Ov0KIuPQniRIAF4kOJIFmXbF7tLaaTWmE4etBNbxJN5s65Th1R5kHtdu+wMX4g+ZZCWLiUrZyeVR\n",
       "12DKDATHebWC99ynazHL5o92z3i53fBQZGuVaoLrnC9qSpVXLDlN2w3LxB3klP8InOREp9oVL5cJ\n",
       "6pc00GrOHdur095lNv4xkMcY2+GL1IYQBHypPFACwxu1gJmzcUlPtsZPut3TV7eOvV23C1yOCoKg\n",
       "DWHiIdyXSJauCy2GH2WzuWJYPxTj3FiGE8fsvtNzwp4vFONRnryd+zGJxCT84f9ReEnyCvSGjxse\n",
       "JLIpf2jviCKepINU9RM2TJlMDOe5guOjxAcacURNKzNyK2WX55lGfsJydeMrVCkl+Moegxhf2zRm\n",
       "I3yBKemRuFM9Ti4VPs+o3vWtng5h6B9yPWQ/P/SlaySLM1FgDgMJ/ESSfkGs827At5GTxlW/1769\n",
       "9vRY08Co2+Gkm5BWM39WfRSR+AEzr4b/2gAbzaXfLdwyPopei7PeO0Tcn7jM+DzlycwWQ7ZjZDUU\n",
       "aDIQZJOAkre8UNwpu7/6ROAQXDGWgVv25CRo4wrjowdOlAoF+3iih7xGnrEo0K7u8s8RSwxLBbFp\n",
       "BRSWAL9dgTvONSxGnGSRtoLMRmU8o7uU8Hri0nQm/06WiuHtFMkY3kMVRIyCwAQekoK12s7ATt6K\n",
       "ekHtOlkzSqpl28Y/vXAzwwVd6B1N+mKDWbkFnXGK1jSDtWiYz+PRF1Za0PxmU+FjeyacRaUWmfLy\n",
       "xuUOZID1RatrIpuWb0J0WDGx7gVw2NQI6x1Zcikh1uCu9ajrUrpqPVOPyQ08A47LXCaPBeL0oP8O\n",
       "qO4lgiJsJK3AJmS5dbTHHP0AC0eT/kJZlRwot/971AhuIKYoOVhKE4YC/cqFkUfVxGDJPufQ4tuF\n",
       "5TicfeKW6AymaKpK7NaDxIcplaRUPpaZjC71TNfsy4yP09CMzB4ZxD/uQIktcYgduFAXWwjvgu0/\n",
       "kdR1yxRoVa6md1CQAlkSGXj/CJgWLHdsiDSSy0syi/09Tqiatq+UtucA5SO3oKmG5T1/kKnahPBQ\n",
       "mLh3HwKgKebIOO/ZuX/9wfyld2fd1mFuVxiBbtzilXq5aRResPTkMxde1dwAAARJQZ9QRRU8K/8B\n",
       "LtdyneGosQphFGKK9RPdoAbij66DHy5taHRdwkpV8h0e6k+/Cgj+CsfsQZiT9uBUGaoO1PtNmtwq\n",
       "pSkMLm4jZFtFP1O3R9DkqETe3kmeJWQbwVMuu2g61mIyqowM5gvlLFpAgJ+IVfzpagTJeOq7Lke+\n",
       "HqLRerU9LU6qdA3YYpiTMjf7tNWCnpQ85nlmVAXMUmjAsv2kY0MQ+P8Mlz5Tdcfg4Q3ICAIzD0cM\n",
       "Li1dLyHK8QjGQGylsBbZ+lFFvawpFV7yPL6YivDAfOyn2S8OZ8AhZ7FCvu7s5Z9+OFqqZpBAoz9p\n",
       "CLrRjPooKXrWapDBiPAYFTr/GIFDrKxd62W28EmDj4SxdXi7LfGKOVbSVZZLyeadYew3j+Qm9jDg\n",
       "Oe1yAjT513D5L2jkw8ckZIoTVn9OzM5Lpt4BMYmnYW56OEeV22lAvYVocqEron3yWzvzRlBcfYBu\n",
       "jizJOqkRtLuPyWN6jeGz0XcEMkyT1WCFjRKr0r+Bq3dTb5WytNNE8+UvkpO/z7WgRQG3doFXUWPf\n",
       "DEKUDkn8A8ejJvDg4CNIEGB8AcxsWKutNTcCNwyFWFenG4TJ0fxLtx0+vjrb/1qVHkHgggVTN9Xi\n",
       "odxYdRGrp5UTtmXhC8vuYYNqfYJTeZ/dN0Ev96CYqzAYRVXKyti8MV4a+AksqupDHBRN3j5zkUO5\n",
       "dV2BlzKe/Feh/tQ9WLrBETQWO6+n6/T9IebHjXucAM25g/fUTrIXqRWJOOz6qriOYhIcPBGdJur0\n",
       "KnJiGt7OpRjDxP0OdOR9ZRileLXjjZb/k+VrwIv6rgwR3WwliVs+l4eJvi4kSbAum7tXdPGjhZFO\n",
       "vbVEoXaKftFtGC5J70uMHHHGlkO38RmMgQppJ7PLmUADQhaL4PmAFBOmrhIYEolWgy9pHTzHu3Qj\n",
       "zJsIA1e6/W7ZcSKPKjWeBD7TNqq1YGOpKU/dsZozdSFrW5R+hiaSQjEGA7sj3F2rB4yfoF/5CPqa\n",
       "zaD62RL26p3YHMumcQf7M7Q4KxNAfZ3S9o2xjpMMSAlwRLxc1rLxy7trwLXrXDgj+hN7LR1WSQJh\n",
       "kNvQpx4cTUFNVTSBJjp5xhUxpZYA8y+KUO9ewnkGaVcimz1dLWDPAPnX23Lyxzw1NPtX6O27pft8\n",
       "gg2pbdQ23RNFA/yOyAu7MT8f1K6MDN76OBhfTeGEnE0lPvxqfmwoZ30/Z1T5/E7lMHJpM5vLs3xp\n",
       "9H4CefIdOHS0YPavTAHNCX79wFOnXznZLsi4tTLMqOYbs3B9reTSYxfmoMogd0NwAHoT1P6IV9nU\n",
       "uWQAsA3bV965vp0Q3d171dUfnMb5H0v7cTyWkSO+/jT9+OhTfwSB3uOlp+4Kyxd4hoYkMId/Q+Gy\n",
       "ENEzRiQz2LAK8rkucYFWWkoOsNP1BsT+UJwwy+7B0jw2chrlkSncvNAAty5rOsEumRCU3TdKbfDp\n",
       "bocvBrwAAAL+AZ9xakK/AS4YUoPQnt/ERpxACatpiWRPHCPQefc/w3o3YX4B+Fw+n2rd5eRB1WAS\n",
       "eiDqzdIRXtqfartxmFQCKGade6eS295NeiGYZBRpxbTRInTYtmAEwmp12a9P6H7rOzu1Qpy7uoy9\n",
       "5uWo5o/L6JrYo1DwKRkNBgsAFq/qKkZus9opZdrczu20IVfzliGlCaZOyGce7wJK/aRMfVA2beSl\n",
       "YHeSAsB4Eul038m80DfQc8ZNS/WFy+meu48KtKZsT5mz9aXwrtqohr9XQKAcA9EROXvdh8eiMufa\n",
       "MljvFSnE3HH+El3KGkCiLuWQiXV0iT3xX7NIltm1xD+rQ/5mTxAJAUhRzqAOFquZ2mh1gDLavOV9\n",
       "eX9eU3XuTPo8RrNzTKNqVUbohebYMv91E8AZFABf7MmSGXBETy19rUNyEw5c0+rUIuZcAwb8Anyl\n",
       "nzW/njX8wToSZml7yBBi2H+EVotPG6WNaGncZE8JI9w0YYlnbj7xzJytG/TaxZYMh9REN/1SOY1S\n",
       "sGf4XP+LsrtqLD9vrEuesx9+yxL/rUKsmbn6g50tHCEzDjhJzhhGmXTODBjv5c03fK15kgZilu8q\n",
       "v3JQgQ9Ya4fAPX9/4XJyJL1e+Av/kcxhTUopIDBExF8OalyXImrALN89ywARbANvpqOvvvvJm5O0\n",
       "QV8b1s1VeVtpIgmrD28OK5GtXR04CDNsS0j/onvmEDEYvjCFgeP9rgVydzODpDl9zgd4pruErDLO\n",
       "pel3JXqGcVWEE6GrkwNorNcZFh/vmlWnHrvXzy7gzFHPjfrarOnmdVoVXy3lSqmC0cHvC+ejJlez\n",
       "h5iodq5PRfrwMH3TLwvNew6DqFEXDKug878NfasQ7l/hict2Ig9mf1LebYDmCZ0QBmN6DQ5X6G7f\n",
       "lLoFvJPSG8wmBOCTg4d0bMrOr3Ontia1Ep1DgxMSiSfFbdyAfyEpSqOcfVhou4hOKSGWXMAVP0t4\n",
       "m3KrSBU64tDrC9+tUEAgS9Q6OF+G9+a8E5s6KI9Dc+xh1wAABR1Bm3NJqEFomUwIZ//+nhAFxe3s\n",
       "tUGQwSVQwLP0i/2BLSABy+w7G3VVkRU2Z5qMUEBMTHZxHwKlm024zNRcK8wDf5q0eAOqoumgHdmw\n",
       "ZsJN0JhuE1XiVcOQ0qkP4CqCKPFsFpgAwXNEU5l7MeoVGjmFOXtsRK5H4Hd5QpCsBseMATHUHmkl\n",
       "Yng7KrTji8WWKZ5QGzW8la0ihKvFFnM01zOFTJN3LpDcU44Cmf5Md5R6dV7t+ef2YcQNKXuUoFY/\n",
       "ot3gvPijqKROC44XwjROpgDpPSfB09bKmS7EmMX3v8XWuGcVt5uRJMOnHGrtiM8v28hGfn9i1acq\n",
       "UrX8wb/2GET6m3RYz/XXxD5LttKhpDTnixsZpO9OcWMCc4A7tDsLW8rXEkRASKCKTL35AxZquf7o\n",
       "bOeeZcHSJdxI28c5kbl+NjZCFiCydh0Eh/Pd31scHrCa6zgT0nQHF1Ks67qbqzcVpdxbLHmO9v8T\n",
       "7DMgMgXi12tKkmv5E+Zo7QFHuvihbyo6Ay/ZywVUbppZmuQDtQCeE2wHVRm1EpvlHCes2Kqjppcy\n",
       "ZyxVVBldYsuATuJ5IcZbrUUndb3tPGk+fFE+S4Eh3pyaXhpIFaDDXJcAyx4EyhD8Azuczku6sltw\n",
       "doAtLvu7jhnoJqd6KwnNHudB6leo8FZNBidoPndY52TZ8ftkrCP1M0MDocA6wtJdlsfwK76L58zo\n",
       "NYf8GH2HJyriNra+VNH17bAdXBXzBuRmVd0N4Fy+PiEe+50Q8VsukBNtLHIiWH5j/YpA0Lj0spRG\n",
       "b/fiAcdinZ6sPvxrNt8aFSt5rFkmcJZXkkLr4bXZd7M2bb1gXMw0NdnyjmpbQw+Re9cLQO88GGld\n",
       "+WEGvd3r+0EPbD6zbDtff0kTEmNHwR6QYqAa0KVBRdAC5eKIKcxa9lrS9YRnquW2JerzwFcssUwr\n",
       "BIZ37hHFBpYKsi+UMjJsBeGO+/z0GcLRHfQ6cTQNLCCAj8fyGF6FsMgUTVWLJPN4OwVuPJ+zwOL7\n",
       "zUXvhGxNEkdhtSVUDBwY1YaFFKrSWeqqlIkvb8gAzOw18rYwJZTDjiY97J9qUb+OYBgEqul7dxk2\n",
       "9ol+DO2OCtbRzRJH707U16YpyvDYQFm3qQgoVOCkvuPqS9yLzXH0a4YTiGZVP5SpYlltLg5EI4t6\n",
       "vJJPlfyOWBUkb7Xh4fIs4QVPLeZL605zBhaYHHAy+k1Ls4s9tVV0TMcezn8d5tQJtpnQGImfKa1w\n",
       "TslkSzqFfvsMRzyR+f7BtDSMGVQz6LOIYY4C//Ou9Yfa5Lsp2W145wI3SNijfbsHaJDCrpx+Gcrf\n",
       "FLPussZt5yeCt9G1CKNIF63vFj78MD4YKEAGjBOpoN6Jn7/1e1OvUqjb6159wnru0FOsWJ5JfCH2\n",
       "ZnblxkCdRmhrYI9PRVyUH/JSf5b5llwByWiUFhwKsVp5sw5cpYfEIAf4QnE72ZPQhwP/+vr6hDaQ\n",
       "lZtFuMKn4N0mo0S8C3uRFk/AoeO1WbtbJ8+rvfhF1p8rzJ8DvV7++2ykpWtqVAZaYiSGZx8XAoLg\n",
       "ubqpr2b7P1D9+ovZ42tfixJ2B5phOalhnjpNm/lNM/aXdMlzoGJgm6UOFNt3nlvvHNi/wKKlCxzG\n",
       "jA7U65i+HuDDc3dU5YRWtsrvCZGtGitv6tT+e2gvFQF1WMMmRLAGRC4GkuCwYqo/ZzNXo6d5JA2R\n",
       "Isxrzev1G84kenX8rDLsA5NLIm0ClFxK17SnkHPlvoRCNg/oAAAGgkGblEnhClJlMCGf/p4QBcc1\n",
       "eMK7ylSRy7Ex/8E3Sor/9ycAfABdAewScXKIdauqmEi6rl0lnVL/KZNv6RZuUIyl3ms4Tcd8v1DB\n",
       "FtzNAKLwCVR2bScqjHt8vKbiE54Gn4Af7P6kn/SxXJNV8C74Tj9TMd67nWNYaMExV1ltEKU5Wssw\n",
       "Iph5EjVhWk+Bjm5+6ovSL57ak3XOLXW7dPD9wY+SlC36omjBq1rwqsM2ZbU8jhJFn81/dGKREEfJ\n",
       "dOuB9nFdG06nKG6ECAhtkrUTs0jkpoVnA7hJCSop+6yoH+9rMdj6qtVM0uUGyb8yf9x0haw1D65q\n",
       "1VZgFZRDuD13c9B2wA1vJox1icGd4kVRetmtajC0DTQIq/nuf0rfW/s5dUILuncPZECpfFRatPdp\n",
       "Aj+z4sdoYLSjXZHO8mgT4Qc+Hffp7HDmtV72AcUsqHwJe+Q8QHUR9UPon/5nN46yCIvrwwtZtAqj\n",
       "gon45YiZtZDCRwSVRDX1lixs7Lum9RTkVU9NWDUgY8UPh5TUdl4e5E44RXEESLWbnd1Uw3CZ3ilI\n",
       "Vh+vDEnT3fgZDUsNDkVkXfa0v6qcZPAvlEqFVaKYRokCkbyKAPNG8egCGAkAQAlrYohWd6IwnTE4\n",
       "AANufqemLcAIbPqjJR97M3GXgFjvE7STnpmGsncLheu7xM8a0claJGOcCZqhbO+S5HyhYLe2qRh1\n",
       "vQba/BvSmkoE4NXENj2IBocwTszQtcFFyDbI61TVO6mXjqqvnlvyBVQ2tImne4qh9RadPJC6YEpE\n",
       "A2KGUy8P9EztBfpOyKElnqq3CqWS6PlZZXDMc5GbrKEEf+NHO63/budW7BvxQboM+x9fxBCjOnsO\n",
       "tG3bPdob6W6z5E9J/whCF4QEzi1H1tiyUfBdonsrAprJJ+KtdJh+ymPyoZS4b1IqLakMpohmmgHj\n",
       "7YTzQK1h8YA+HDBvWo3fqc9EDICBvs1xmUXIEcAfY7q56ZDLh0Lv3SSmUJxldapTqRjqitB73tEk\n",
       "MPjkt3ujNqpNtRQ9li8bMNmdOI5LXZFcQp4mNoqGdHweot7DMB7cqYrkqnJb+wpG+TfbY6uIOBYY\n",
       "PrTjEXkbRwNW0ZgMjJARJZvQb8iv/6pyqLyVzmSpOjrC8kzm2Jg2+ZL7OL9EXr1p2TnIhD7M5kDZ\n",
       "PK+DvDGHBWXhFg4c/w/SbH+Tg+l3rzR6qgnafAjZzlD+nyh0wC/rWrpIBoak1j/X3v3K98f07g7D\n",
       "mzMwE1+ls9hHJ3QhpwQI7yQz0Jc9PaMDP9WjS6KnSjDcHL1/O6bQ1XM5LPrxm+Ao9hOvpYfcDlgy\n",
       "IYnUCrVIN//VS/keZTsIfOajYXM1/PWHH3kmlF22GV7jDNR4gEkgNIsTC2LxGgrQSkkdnluZaB+K\n",
       "noJuZBSveK/wRyBpnMu07+mfjA7EQl1oEwIRflKj3vkhbBrvl1QaQb3nF1k8aY/yIeDcqmRrCDQt\n",
       "ncjyFIn6YOWaLxG1Z4WSnPbvw1UjmxY1X89mZtrFnaDHfYZGBNIj+YYUYFrMXZ81CQlsc81mXQYb\n",
       "pU6qsrxx+albdw4VUio6TLtVsOtUqYPeVmLA1VOsCWJXBhyEbgWzpKXncms32VQFO5ais8FPu9YQ\n",
       "ivR6iYiZMZTF470x8eVR271KB7D7x03SKWsiBt2vJUSe5BCL5CzpsO1lFeaRnRGU3/UFX+9LIT0O\n",
       "r0Fn6oRO3e5jsyY5jCN/g5BBswwff4LzYbahLwimTz5UZMcQgc2L97XtAunFXtkXTQ9xEif05yXh\n",
       "ZR2Ee/UU+mLd1O/ogzaO9CbtfQW9vDjajymjhnNI5Mb8jJlUCSTENDwz7dblbtPvLv3yrF2gkjsi\n",
       "MpNaMGPLei9CeuIcw0PeENs9yTd8S1rIJoTEX0OYx30w5paqtLkMTkWi4tIq0oCmsuvPAh/O4Cas\n",
       "Mi+ANJsF3YoPiOFYFNHw4aCvMA3B5zQ0uECY6KPOHMU+Bna0zzjyVh2haGOu5UB5R4A92HmnlT5W\n",
       "YTjPbQlHRDSS6DdpMRNiF9hnzZ8kV2aYqyzLAErSnl/Pv992ferhryjMLbCXhTsH+ECasvA5WX/N\n",
       "4isFj95QaC0cWiJJZXvy0+NbY/yz02Q7THd1ZWVVd+vtGY2VfXDMm7cJJzKVmDVsDJLTv7pUKNjJ\n",
       "hsEUBGa975IAoOcyXoVVrDCfURpEUmuujsD77IBaSWsQsRiAgkObVlNLEInYLDB+HZY7SpgAAAc+\n",
       "QZu1SeEOiZTAhv/+p4QA28VGkAKyy65jGsSFqtNggmKt7zSg954k+M3s+og8eW+4jQImQT80mvmq\n",
       "vez0nZ/MyS+ot124X6EWct4MwBwIVqnmlXU89K8n0qOCeaZevEu37Qv9kfIg7gh2fXCq9hSAkPXQ\n",
       "+q3lkCcmoDZTVEojNSoNA4cxvWsZex3AqJsy+Ya48trxlcbISssKRZfycZPWLkEeibyGK7pxh8EO\n",
       "PKVQKhYssIliqdvYnb2J9cLm66YyH4ZMEVtnC6FKL4txmU2LK1vXORBn82L/ySRiU+/MyQ4m9XkQ\n",
       "fxmwzuc4R1T5fYrpwYaHoGo3kyflCMfR0SFcWk8T9HLmwiQghKKnNB/gZemf6q5bqErcHcRSBFb7\n",
       "GLtY3/JXui8s/n+fGKvF+KXYDI/amPfvlrAJc66P3He/JhDBy8VTj2xB++9eNFx5M9YhD+1NnnhV\n",
       "RaIbnBNtmoLF9pwHCq/qvx5MQORdNihe9/OYxsuW2xOzmInKF51XoCEf2GA1hvJNCgX4D2LTU/0B\n",
       "xylpXznHYal7pIEsPCb/YaZsUSqPfgswV95q2RXxdNlexWirW8VovRp0I3lEUfKtLIp8wz8fUEvr\n",
       "SCJ055+qoniflDksw5ySs35AVYrlKB+NVj6KpE+jI2JmMhjeT3CxmU0+LDpFfGBZEVcr3yMTZXeT\n",
       "YvCdVMVi3ziQJG54GdRW2C863gVRIqVzmsdy0teCkQZloQKOxrxJyFaQy8uRBsn0O0OagsCnOyVC\n",
       "OrD7foYEVooXO4/jzz/whvH4np1+cdVEdwkBxzPtRYC2esdEvqFdZq6q4JR8IJYS7GGWcgWpybfy\n",
       "HZ91dyvaTAFRK+q5BhQoZO7Fw9nQSbLFW1umf/Abt/ppKbNo31LXIiZ8DU1Ca0Bb9qbUVtH9q29a\n",
       "A5rWFmVxqfXEF9oQucntq4clXwaBtl8GQOhz1sECX6Pu6OcZ/rCC4Wiqn/fYNoQqAxPUNbc+n8dv\n",
       "nLu0jPgnwS2iNSQ1DB2kkl3sJDy6oT/7M/zDm64yBsgFdAB+Z+1z/0IEMywNXBEFG2X7FtYv8nga\n",
       "e4N+bK+T5RLIabfA+uKw97u2cnuU5wb94OLGVrlCVq4Xg3kmX9EXyyHpP4+SWeCfmYsOqdG1f31b\n",
       "BL0ZkQX+kLUn4m3Cnp5AvfxSaVgSy+gk77t1NXzOCEc/ttdAApvEePGQ59uq9NgTfBrq3wuSv9sj\n",
       "wn1Ye3B38C9eqqHbvajJGvkxSTppm4IGooUs8nhm6JoFmDMIqvA/H3Lu7ksfodV5y2jUxgKphph4\n",
       "GR3kLLNN0YKQxgL+AYADdUb4BPvNFr87hYpwfZ9qldnzR75Su5GXzOk3dgvVbnR9HJCGU9fk6rgz\n",
       "2ny2t3UDZrFVrXOWXJnyBJ1lzTP2KCVg+LXyoJ7Lrl6UytY8Grfa9rCEmu2VoH/vXUoGi/5fcAQX\n",
       "zazMWqROuWA4CsoObYeVHwDeCOMFzyfNw1E7oItO6KZrKzWqrPJYGM6p5W1n7IJq6woOekwKKb+B\n",
       "AIL6OPI2Kq/vz0Og5Fp2ZU+22iV8tZSknXd2yQvBId/Hr78an76sXTpWqXXw9Id/PuJoVPYwx3TF\n",
       "gMAQD5IGO8E8Z3rL72FrWEQUcYTMm5eUmrSeG6egeRYqIrZpkDtfSI6Pb35TfR9SihHyyvHkbipW\n",
       "oAW1EHBxW2PuZWFlPnDMHxENf5WrRXwSSFbA0EXm+GVrfVrXZYJwWWkpah7tqS8/0hVvF5y4xY5p\n",
       "xpdFA/sHNVnr8LsDNYqpZbs+wz8rozBbxCAqdPUUVr/DT7QDNCB7pRHHXDUV0tRDdHfLIt0+7/4l\n",
       "b1+B+XoWAE4dZLD0EnZXmzT2VBJBV4IynAd7csjuZnJ/3rEgTEOO+mlcu68DO5cXBfL/t7Xv1/UD\n",
       "/2V1eAAZbhR3qoHAt+3zVVu3dsKXW5FaDkmw8xZqcAxL+ThsP052a1K9RfyzRb+PKDs2RR6Q3iay\n",
       "FslmkFi4QHc+IZrb/uWjGvJ+VgXYh/15nJ8Yen58nKatdNg06z1ti+Wtgq7ZM5Y2rEZaM8t7AgQY\n",
       "qMENxqy+sqCTWYk9GNtJheDQF0xv6w5tbFUuR3d2mLnwwKf0LMH2Y6sCdMGlp3d1of5vAxjKkeHh\n",
       "MOZ1OqkDUjhfxZITRDKzaSnMipafUgL3hJBlEofk3xzKJ3DMO4vdiAiKBsY6LB2YgBNTmkyhzyZ4\n",
       "m5Ovu4Zl2HgJ0PfrdFnJT2/H+tqOOEJVRSr9F57dl3RfWLDfsT4zSPW6lhVp7TfgXGPI2cZiJwHR\n",
       "3+KYUWES4LLszUmOk3MI0x6dPAeXJT0dFjYo+m6OISpAUGq6i3nrrlMqVIxp+SDGLMS55CT9IKcF\n",
       "MIJewYC0w+e8WzGsZRzIblSxV46TPr3b6qAI5bxxDboVEpN5vmQFiKwvkFH3wwjk1slB85OJ3MNU\n",
       "Em1ds+6sOZB3hyWMDK8dnpvvN1bdsC3Nf6lGuI8XAAAHQEGb1knhDyZTAhv//qeEANvFLUAJbmxo\n",
       "n9hxH7LsJTHTHiufLzgxyk336LoojbxhRShfaYhG+COxjqLl09MdkUjnD/lEwAj2+iP4dBgQhXDk\n",
       "DmBQuawcNsnT/LVcM9eNlbuEDySeEpq+WRpKxo31NlBrd6GrqbZl+Xv09uIsehZw4IPBbV6KIUlD\n",
       "Z5O/Ix4G9Rp+RTm6PflHJVrHILFM6w8P2MeakC7NnNMca/n6d4CgiNO3gt6GVaOqPya0zVE8gitL\n",
       "EAzUZxNFVSeMbWzQo99LE7dXzBsa4tFcK4mCc3YZW8BzvyYZIO1gFHk2hKwN3bA6TUr0yWblL9dy\n",
       "Oe8gUWl5QawJ7UeIuc4XLmRv21t1TZybxXxzmetO/+k9jp8jyZOEylZv5ecpQd/sWbOjXPEQW7PS\n",
       "7HTJkMiDoq7EUmEZi1J7EYvm70+A1ta62y7TveaRYOa6mlxtO+wcDD1cBAdBkzJZzdfmxmERdyWA\n",
       "xojMRrcNTnC+lPrh2mRW3kmORtA57GqNYQRZH7KVnTbSqxNNHKAMlkVMvxsv+jGVQ+3h6hvY4Bdr\n",
       "hbHtOx9/OMlmFselewrWNmRCk5km3G62/gBqXIHRRNbx84l4md03yqgh3zzp6vT1/e5JPh6Xjat0\n",
       "YO3QC3AURvNIz8qbdMT1dVsI0PwABHaSpCndDVwSWMaHharOv3WuLNWe3CEjvM287cgaVzdzuCWH\n",
       "4OxzH2FSkV16hyKnwbaOHOUw36bb9J69hHgfmD9gRnjQtZST1R1XIHtul076ziSUlFcfFCTY7xqx\n",
       "LMIuwQylXHCyHjsYAXURn3gzwXnQn5ApcIgpxfGB5Pb637TiItLTbQLTwoxiu13DiZ7vDKD4J5V8\n",
       "2g7ojykJWWW42YVNMc6tQ2RRExSHHZ2m5KsdepiZ4DqUUEcryz8tLxsbjIqoTJOomRgZGx8x5tuk\n",
       "hN+fQ4IEKcH8VwYXfPhW9xmKVXPzPstMMOfygo78G/5JIXiqJpjryYqBd/KgrRCAi+FeEr9rMljH\n",
       "aZN5L8DjA/+k0ZhSH4sW1QLq0wsSvgT/Ds61hJvpWNUZY0DB6dr+njHlpjakRbRPkXvZYYS4lT5C\n",
       "FIL2fRk4cdE+CF3gqFfPXDpwIBb3SDCsYLODcKpgBIJ81MEBdDez2FSDagkbaBKyptHW1ZYsrX75\n",
       "XelTQlBwHKMkU2NjmAF5qaoBLDcQSujuKDcg5yMdOCH+5c/aKo9iUcpl/mvYOpIrP7kcZhpAmMeQ\n",
       "l+08OSJCVveZgZAw72LoWYVKdlyqvrz2eJXvSUCqbakFTrk4ETimlB8bJ5Kcdu3VO6T7a1990VJP\n",
       "X8qIYEU61drTGmFlLQw17BWeu0oKn+61vs+scJigHK+gBxDO30XabRf/EY+LnoMCQClqm5Aw2weo\n",
       "G7PZZHLSdF3SJnNgfR7i1RzYcfRvHt13xJCGSHJMZ98cgnX9Z16iPInfqy2lJXPrAt3g+D11GrOz\n",
       "vWAalXuRoAnsgusuMWPZGZ39JM95nIUToajvKVI0javuyGidaCA7yLbiMMgNKNucHyg6Z2bOcNgW\n",
       "GZvQTo8h7LobF4cvU9PCiZdzv0v5ecCOYTsInyUKTVH2uXy9SLnI0Qh8xfnJ/3ZV3v/41TZK+Nnh\n",
       "MIVYvGkI2PEuwn68c2A9Vubz2ztBXmUvLWVGTETmbl1DfI0KF6pqs6YYhh3wSOFulte+xrd2O7tM\n",
       "YHXFoaWoGUQ+GWS7ef7hyAYRkUCQeAKl2vVnlEGfl4najnyIlpFr2ERqjDXhdJQSCCt0rkQClxhE\n",
       "4uv+sVU2wclvciFYu4WiKb9EDRKasx75zgSGwsnKwFHaMkg3lUCglPB54WuHMixJ5ko6l01kmeeR\n",
       "23w4ieKfOOkLpFsQ8iQOVlYg4Z7GnuRJxMbR/exPp+9U0/wNvQoBlNF0XljDWRrve3KJ8q1d+V5I\n",
       "+hCviOn8DgD7fA1QLgUp3fie6Qlq6xEtsmUuQwNkJORJ9rXSHPB643EDz8CGRZ5IFsfnvM8CXLny\n",
       "RUxp/ZNk9DlVKZ/l9WBrZAbs8gNsQK5WW/hZpp69hYuenmDEMDHWP377xzC0qJtABYLKh30u81oa\n",
       "K/x5Mj63VWOnvH4Vzw/IGSKVZg5IQFPJAVRIO+r7SwbdvfL1yg+GqMOtIGrgr+v+KSnydzrPjAbb\n",
       "ISP0D/pt/sV1W/PQecYagb7WSUz432J4g6ikORj01tkXA/gHFn5AwOQKLhOzvTOyEYbcr91GiNII\n",
       "36vohRCULocWR0vXRv/5KDEhBvusy+xHWr3dgvxvYzOi+ZwN5tx4yqc3Rt7JoYuuyfH1d3DtM+UR\n",
       "lUnZeqby7p4/fTEHED+4EihQEAaE/Bo8we/u6XlwuT5eftKYcfWi6IvyC3XatGyBWEvQIIjRS+Lb\n",
       "0SQ0mSgKlh3Rg3HGvow50pcG4r8DuSOR2hKzKDRO1A39/ZNctw3T+z8LUCaN9KfIlKMSvizYowzT\n",
       "9XRB6XDNoPs8AAAJTEGb+EnhDyZTBRE8O//+qZYA+QlFABEHxVqZ4/c8rn/bQlGcs35w0Qz8pfuY\n",
       "giThA8Z1HoN+vpN6h6cEOqrzpphyZbbqh39yxKB35RbMO0CB1pWdafmtj0XXKc/Ad5aDs4oivpn7\n",
       "fQH/L/2OzY5FaaNBPCtCJv0e8wcDt/jSbgK9PGXCgc4IY8fiGiraVWF9wuzRpv+0SQBFNMODXWdg\n",
       "7r5iRoL1l26UwzV4oDV+pk5r+lXVHcYcmGG8bGevSSF+4nyMibUdpMl3W6lD9SwfepLr9EcV9a+k\n",
       "5JT5/vOrK0DaREToMWjt/19fRZHS0G9EYiCq02IdLWp1lHQF2NK+Bi3jG2IWNGS7KPTKbNwTT2BS\n",
       "e0IcnpoJCZHLWcnTJNnaBXe5FSxdL8CPbvylTupEAh5F8X7w/Mxr2ZcankYYI7jbCPD5eWZzFqg3\n",
       "pINVvRlQv6ly3EyUYZFDrvb6kJdBw/N23t0fAboJ50IwD6MhPYhCb2CXUEb9VPbMwxUs89V5vqPw\n",
       "GPcqeS+tVj+9Jyf3DDMGp795EeUa3V1SRkX99KSWSBfGTltbvdnhe/ArtmcivHOtiWcWcWx/M4OJ\n",
       "ZPMkZd0QNpPJbv7ImnVG1HERbOpeXx6NPC5o3w6IEvpjTG2S5Uazxq8H0u1uAdAiLHnIL1+ysBlD\n",
       "PHPn+EqQKIwS+Cb1cUjUUJ0jxbEjzhQjIm2fYrBViv1xlLUeeYxntZTNGLudE38ANhRlSuot3KoP\n",
       "fEe11o6ZTamhLWSculL068Hgt9aK1MU7gd4lxb3UUyruv1QLzQCMwVTB9RnJO1cq7+LExjJtf/UH\n",
       "3V8AlO03E0X/OFnUuGsxv9Up35cS75oBt9xqXiF7G0/BlsAS5dOy04jwSSai84LqRG7j05Dv8AoX\n",
       "zZg/ajz+5J3tQX7sdF0ayc3d++Az0u9dmMw/g79u7j6/yQ4F/unye2AVohD+ApxNrRaEesNcn08/\n",
       "Lri0NR7hVHbqt5pzhKrcuf64oQ9jhNTrYDcPrumcV2x9pctI1PDlwY6pwBw2EVF11ObfqbQ12pES\n",
       "mMVNybHt3I/FxOS4qk+OQwKzzYRjGvm57/lLLUZU0ogloPv/Jh3SM13PQzb1xPHPnJAEi/sTB/si\n",
       "wGZAC8/kmxC9bmKknbJrfoBK7OAO97c15VLrg3rRIAZUxNCH0u3uEJ4Lpzu+Zw8GhTTbQb+D8VII\n",
       "9B654yLAHbg3oTjRRJ9F+w4DaE3TnEYQHFkVO7yukXkwEujw78QwV2Pce/+tSKsmtXwN5czohtSC\n",
       "g++LTBzojm+Mw/IDoe+rfWS86UgGhcao1rE/YVNggOT9IQsUPP8+3LCV9AjaB4ARxJck6Xrzg0UU\n",
       "P4rNm9nLGuH7n2KAaRe8AsrxYPojWwuKQUdv5PguZrdPll1RRU+V9Z7C2MIALuN5Mntioi5YNzFM\n",
       "CbsvQ/efMjj18fhHQiKMyswvtZGvgTpd9phKIMdThb8XzLpRiKBHzUQsaiOSDy7Hewsr1LniGOLb\n",
       "c4yRLpvNqwK8lKPOqydNT2E+HrTdehluqY/2UmPMs3oRNWCmA9E67at5fFQgpbIa0eZ+xNiDgCnL\n",
       "xbGv5FAk6nQix+owKoTX1CGAJ4q3EaSEAuUJjk6Z8oRC8LZZ0TaOswfuzQg2wa0+MYZdN8I8LcgE\n",
       "1DwLVe//P8VUR7nfZjtmJ0Lph4c9cmECp0jd94vnDEplWS9h0dxhHrASoP3flI4k2SKuFpi5Bn5/\n",
       "ErNrJMe7KPMEVhG/jlMP7CATPWAB8575ZMEec4TgT1JvavWPjNFgax6GhGNOZUfIEASf4b8M/gj/\n",
       "88meJbMdf82KGlrPKWhV7z+su99xt5RM80Hfz5AjPdppXyVEB2+sgQjXdEEZox0UY6lxP0cqo+WH\n",
       "9kArlPhztMpmKGxDPpfG1RuiDLazGm2wdCkgbBd+jJCPq0CfjUqhqvExobSM4wfqRFHI7gs+6w3W\n",
       "DgOQC36fHwjnn7H5DU9dXkLphD65WQ+jARkmbdXq+456IAcX8VmKaDiDS6K7z3OUlp5YXq8qDTkZ\n",
       "xrGS/6DzOQ3HXnstZaZZDf3RSRuYqz6iFm6afCps7b/2TwWnQ+zWmxxpEVOamESvl5gMap6L2X21\n",
       "fiDCo8oONbzCp6Ki6wuYExFtgmzA6uAu10E3jbpJbmgWEGaXjFpQR1OlCPZavWWbJe/smgwAvCV0\n",
       "YN8WJd2hWlraFORr70OI0vJnjw4aPXff2MqQbdjo5g/ZFieN+XG2/j0Qnc6DLCFSxeTUj8La0kj8\n",
       "rIN+aUgH70NBSFIJv+RIzf626DvYqoCoH7NIzZPd1ZoyATHeuHCCxuLBH3r0qwtmvrepYJg6YfS3\n",
       "8Z49/VhWmuCJotxZDxZtbr74qW8xB6mW1EzvW4AYjdmcM6v9h+1VNEFYKstiHsqh4xgwZ0UC/iy1\n",
       "Fv1a8wKZXPOP2V5oRmzvuagyW0S49iQDVtXQyRpuPBHdpk2xTxKBeaGNRM6IHL+PHEMyg5vRY4QM\n",
       "bBnh2AlbUTicdIRCQErqLqj6/vs8KhNft5sK27/ZYYRU/ndaj4PxV6yjrEGk1IU/mnDLT9y8EE9i\n",
       "Jkj31Lm+HwBvp0n9JQN4btXVQbr9jZc4FTq3MJkehddJWR5gPB8QOg4X09/4230qiJCaqRulZ4rL\n",
       "JpvsFH3fex8Vei6YiJ8vLu3n55Wy/Aqsg4GOki2D6naMRhErIHgUgIYJYaZJIfWfBNbFy4R8eVoj\n",
       "y10wAMT+VO8Lw02u45Iibg8h77kqEjB1J+hY7isLJtX8tONLITHU/iCTBb5xB+RupZ8ANz7PL3Xm\n",
       "ClMBsVWTtINfrcZIH91z5t8cwi7ZTGvX7lJKjF7dFOaZg9o/WTQFmt48aSVCpzW5gnwjMrhnySDM\n",
       "DTwHU3qTPtgLTX+FRlebQu95M849T5E4Y+x/YpzVugkF+fjnTkFVnIOPcWHCYYlizBnOnMGLxZdl\n",
       "4aTd4Yc8Rrybir7benwo9q1WW2cV6M2kDFOwivjRcxnJ7KQYAOZIlZu2mQKE2MJH8rHzyI2yJhnx\n",
       "WshANksGfIffqZ/gGTLnBFGMMQAGVQ68koGVwaeldaWKP898c/pl7v+/1XghlVya3SafS3o/oV/C\n",
       "ls+dOGOc2ha9R8sREm0HE5vM7/v++eT/2rba+uxsx5QfABwQLQBxnb708n0byGNGH6nJvS412NEA\n",
       "AAIvAZ4XakK/AwFHOmwKZHaVvDeSzIlSbGvpRx7rRQA4ln7swaP9i21qi/SAv00yjxAJ0JTFkmes\n",
       "LD7o/XmFHSwwNHbegoIBngD74GSgsAzPJL15IM6KQ6ThdBHm1piXE63ZCHUfiooYBtGKGsfSO1D8\n",
       "IE7qRurBz7R+InGCNBrhNVZ/oeWz4DEXdNn18mtAUvkLgSQNwF+lxmCgRamDHDNc1r0YDCzZOJmy\n",
       "RwmIErVowGmFDRSHuq/sSz/wa0WWbmSFE4gUBDYjtZpkbtdLz1v5KZyLcMeX2+m5KYOvXW3MwJf/\n",
       "6L5X2erWrEfjQPLXOOyZiPCwUDBmH4kKXWoejCCD2P1OVukOW60L1gP3djBV8sHjCTbAXeAklZAK\n",
       "jZXcWi8lYAPjxhihDCyAQd3MS6zYGMtMSg3srC7UGUZyLvZXEAVjMCr8SdNBFuF3GZm+Eech+O4H\n",
       "0v6wvm1npBjfRJVANrx36iIn8dz6DCgIuKPABggoXJAi7lnVfq4V6eQpr5H38foDGVJ8JejAdkK+\n",
       "3nsdUmdPun+Q/C5Wy9uwXONuI8wK1Cvv54HfKYWqj2K1XO7DORWdVF7Nsap0IqOCQL1+3C8jyyZL\n",
       "jb2VOmhBOcs4bmd5AYlaSn+flAviInX92aNmTOeJtTw1MoRYWxmVW4JZsaWtYFqTwdoM++B9d3BN\n",
       "DFC/yZ5XWfizLJqALWF9Czk0c/3Qo7N+XXZgKAtWJ0IJnkAT7cm4ibpPmZFweqst4QAAAUBBmhxJ\n",
       "4Q8mUwIb//6nhBWcjXOVQa800DymkzFQhq9AC2dXMLBNvCxJdsfmsvXMWoC7OPy5k5QmjmXwnCQJ\n",
       "06EvELlMPJaaNv/5lATeVtJSyh1PvN01CrvUQ3E9C9kbN71FFDbuiRWqYADLyBAaUZ+OSZ3/Gexl\n",
       "W0shBBhaVTqmUE+VkILEHlCUARMBwCTn6zIzdGS92b8wvDQufkitWvJgBMqpUX4LqaA6Aafl/dP4\n",
       "Jxmt/erZHobVw/o/TKyWdY8elge2LwRo4IcM4vKxyd8A0JHyhgRwN5Lzcz2CPKwxBFW0hM20mN37\n",
       "e/FhoB8ZwSNCLqesouPNt2ifNbqBV1FOsAHBfT52f2dG+wNd/zUZo2Z8lNlVgQJbnyvjQ+zXTqZS\n",
       "L2Yci3LaWDL7sD2KCR3gb+bkPydWqbU5YxgtuLO48AAAApdBnjpFETwv/wJWJwD5YLi4GgkrI04K\n",
       "ureSAEzdboB5BsZ4s+eCUV1rcvGdY87exWn6Tp5WXKH75lTsIVxmDTiksM4TpT0ExLepMLVEqzYs\n",
       "+Tk+M0xJpesCjyij7g7YSxwBbykjwVbUFvZyaBH5KzDY+jS27M5qVi/CuJtuiVAaj67aLJFo69UX\n",
       "isFNCa0hvd4FvS2qd5yDOjTPBtUj7MYyQoVosS53T0TjpSEsjRNgJR+KgaMC6OvY38gevsiy3sKQ\n",
       "28/5NFItBJaxtPBJKtzUOI3eO2rQ46pI+gHV1zdf1kMZgpbBXLUv/8U21lgLEWnX2g6aw7mSKe+p\n",
       "xkaWIXHS2Y7uQMU5XNaTKo6diG2qoIHZgSzRR15VC2LlykfAkea0USi8nfxd3M2SA73ua+HLf9Md\n",
       "UjrEoUEz/CleD2tj3/JDlmeuiVJmJcuHqeGzBXLaN7YgGx1mN9eBfzImuNg3y5hLBhQvNuIXwv8/\n",
       "zkgAeTAebSSrg/ZoE9nztWzm/6gOD4KR9LsrA74BOpvG8hpQJhfWAExLnePJPUaGKkmXy/xMJEyt\n",
       "u5MDkDVU/HOUETt8M8J81BvKdGeMzrilzsr4tx3UtGhpuB+hR44oCPgDgSGu9T+hFhfhtLu1B+x1\n",
       "NWOcJyCEOtEL0fTc1Pd0Ik3WnJ2ngpCmsOOYWcewOmWfq4Bvmu6f+ASc9q82n+FmC6Gx7IP/Lk3v\n",
       "o3bP+9TPIiFndP/O/3IqSEdw6h9T1JekabTPoj3iYeHdqLk2frFJEbmBvHf63B3xfB4QwDWwABUz\n",
       "jIke5Hnk657ajICR1izrmSpNrdw0OAUO/TbpxikjjsFXYO6tLbEdsfNa7U2j2hbJsaP2TwUS5Hbk\n",
       "O6cJfpyuo6NelIcPKGEAAACWAZ5ZdEK/AxOA2pUTG8wsUwW4wkI2Ny+3uTIkFkTvkjUeK+ADMza6\n",
       "x4MXWgka4MeJ8KvkfFgDLD1lbW08YNIl8MoBTq/qCgx29Ia+k9vq4OQHpHmI4F/QqZ6y7USUY9eq\n",
       "P1Ajw0TvRNANIWCfhZyAJuNfAA7F3jGgY8IGmJXVUxHYXL/CSonUDH7C25hmzv8+DGi+zqcsAAAD\n",
       "iAGeW2pCvwC061+sAE4Vw7BMtkq23DHlm32Q6/sfiXpOunQeDJiAGn2uYUYOfv2HnaW8doEX1Tni\n",
       "0CoNkKg66oZPySClW1PlGQt/5p3KSbtTJvauMPnEVfxoPwQzIDpTR77D3C+8DxRAQYSo+erqUgYa\n",
       "aY/jmKNSPn9eLq94ZmV2qDYlPsta6Tt3rJhlG4vEjkpxtx+FXSOWXdbEq2oD9EJ0wz4VsAPGqH1E\n",
       "QkN6wLRI+lDixHpnGY4u3MayDbpSLne/BvAGzLaTrS4cUmI5yQ/F45p26AnvqpkO+FhS/20W//OL\n",
       "EQUpsjHxBt/9dpICszZCprk/0XsX8eRb4VoG8IyR4am7qmINrJiti4zjSD1++x7ej8g4ayvafSl9\n",
       "fZxmGYbMnFjUqBngobxRyIpzqI6YYqZP8Hlew/1XAgmccifIFq+ZjEwCmROghd/9DssKHYGXdSOs\n",
       "hvxw254wJSn1MNefiqOd3zaHzUe/SWnQffQHLCieEYxxeUz/H/69Q26OuC3o2+9e275Kg4FUTC7R\n",
       "0Rs/M9mQyqHF1W2D6QSt+8aTMBG3KO5Ss9ngrQOhWqJ3hQzroaPp2ZgdhSIwWWrZ8QAC/w18KxeR\n",
       "dNen2uzP4UFARcQ1zSzjlFBpbr68gAXiT6mUvnB2xumeeH5I+8zwGA3VzygTkx7ozYgn4cmCgNbO\n",
       "ZblG7212lHB9soWlpJjgSHgi7UDKTxZqbxWsH/JPu21BB/uMB85Pbki2YUnRSS2/PQgpklatsSj2\n",
       "7Ie44AYBHATKqDBX69Z0rj4+JYZ3eAMNxPUl+a2Up/wSC18C6OA1FV1SAGUV0MvOGPxhFSuyuStE\n",
       "wYiYFoqMXPjSqQMD3TF1Mr9T8h3YiZSnalnSxZkofhHabTVzWgndzqkFEXJEwLzNNTzJ0oAhpxIy\n",
       "WvXDnXwb2AkxAHIGjpmbqsGDUcllf85gipPeAfCTD95h2Zul0xUcOrb/N4oy6k9MMlTGWYmjCQ2v\n",
       "gNHT0X7L9tltmR3uQkTUKbXEz8jk/bl4VCSSdWZSGu99nomBCSjKRliltAY4c+UWBGwDLXkWW4Bc\n",
       "oBogF9jXb3rMGx95/UQK31hbdDdwE4fSqgWaIWok6Jq0H4G3TC+BOK4HjChwFu3iYEUReNKdAlYR\n",
       "G2pFjlmntY4tJIBu+FB2JHeGKsJNQX7Tou9nvFkY+L4ZLMrtaHRXSsRK8HmE2mqkQMEAAAqFQZpf\n",
       "SahBaJlMCG///qeEAYK53+4h4bwAFR0dtHzTHBBrBEJKGv6oXt++M48J/hIegjBAaqN4Kn3qPHLg\n",
       "wvdB/V+qywL6talU5iRrYj09077kG85c6KW3S+hhnV2oxuxjhUxvActas2OwJldk4A9Q+h0UxkMz\n",
       "E//L2DIemE0/edVIpUIdC0n+CgPTgT5sdldY2Xa91i0/TlofGqqhznn6w8AFhGKcwEmfs6KL2mrk\n",
       "zp2zoO9XstdoT3nZNawgZqO8LQ8gOiZpoypkoxq9j3qAFM4QjGKsGRMe4ulHHZKKpj8sLZ3hrSu3\n",
       "RGL9+HK5H2lJlKOhH/5JEtqh2omA1EWxM6pxzeFlmj5gAnDU+mbJ15fXEpPwi5Ojoo4llwTso8Bq\n",
       "evctmxocFYBZl11p8IHSdrt1aJCfk6vjM6xctfEjvMmlyXLlTyGBtN6ZZZOWJ1Ukh5Io+/3WfCT3\n",
       "E9sD9jJY1U6oLQGUFDJACbijfYM9RuvT9hCWPhNLMEmGT/FNaCZl4OkFIhj9koQIgxGYkYsApOiA\n",
       "Cr0EawnI+IukyBYozOZzK/Ce2h+GXY4+4+CBEvKqt8Fx3CVT3Bn7HxeenU1+G/pyGn67VfG4qM5e\n",
       "2k40Cbr7rqFq/W3riEaKCrUKkXMAkeWjTUG7Qp9I2ChE6u50LBoGESqzUr0qtwVUZIrkpACvbcUO\n",
       "YfIqxxLnDJIkJ13CsUNlu/v0V+nR5F5RVLFuzDdhZiPBXEwxX8wG+Vjh3RYeK2e3aBJ9S/DudMmY\n",
       "gG5aVULU2cUWGzFVVUthMA4DFiNbxJdDeloPlAx/iila4/Xlh44BWP9NVZmrEuLAQfa8EDXN+YmF\n",
       "03Nn04cq9l/k+PCjKyktzB6YMkHb9agCqNKzR9XZCbMUrfAtMdeE0Kq9Nf6fv3tKZDzDU8xAAYmF\n",
       "9HsUcv2qsVgmkWIBlVoFSNlWamMcoFz0vXLLCSaFDWEAGyoaPuVnjcK1YAv6XZ0DIODZpu3stT4e\n",
       "NfqgJv7MUmTg3ukAie/ED6c0bs6tb0ucszZfxiUtwU99owcZePvyev2wYixdL7Mv6DYJX7duanmi\n",
       "xzAHSuE5Oc0ZvI7INseFgT/U1N9G8rkLOtmqhLVwl0ZaKxXGKU6Tsre4F9MVN3xiw8wT6dwLsWvL\n",
       "R3Q4NBjHwBjQLrx8CHI1KlLGi8ckAS85mrzAWIUqprSI342SZCSeVyKLaucTrDmIuKLq5xNuixLW\n",
       "/FnTg1XQbsDDBQYz52wZyrjb+1veSDGf31rh2/6S75nYyHEEocE3t5gqhJQCtLoDxCqp4Rvwdx8E\n",
       "JcosxdAC/AZbzTiuABzyIx8Af1OTkWnE2sXZ/thrw8GM2BEWA3r2CipNyQ+Qlah7hbdd3wPDtPNx\n",
       "bp0bulQ53WSRPWYRtMIsf7pCnyMwx1Lcchwg9UlmcvTn7sMSuFYD0OTrpKJ0svqUKy3CWs/0AsAp\n",
       "BAaUmjU81OQCUCYJ9TUzKKTDSsydSAYnyTgXT7GHQ1pO30/w0cNpX/k9r51HOk40/Xpw5Jxt2D1r\n",
       "6WWs/piRTFQMg4eLC8uaCGInLAkooXQJ5H8VjYFG88PDVuz6FRlNQZDOvtw7MbYY8lDEU4kOIuBp\n",
       "bJubQPg4Y3kVfHyL2+wIQY50ZHYeq3JMwTEvnWFVlE6x7bvbTaKF9ae8f1L6/kZD2HxjL/EO/puA\n",
       "CrXWozWS3uOksEpXlOuwIIySfjc3sJdNNeA7wmkbl+ylVC5G1XrZ5vsbWwqzqHP/QGcZHM6hEH57\n",
       "e9/L7pT2oNH2YE1EqIqFLYmf9swGF43iulgU5awIqtwceK2+xP4vd4OKFyj4THFwd5RG7t2R+ijV\n",
       "A6vxHf39AUWDVufbGZhc3JlhTw52kMp4wqP4C6tBzp3R5UGAddbubcwh1xgV3yeQbaaV4tKq/bbI\n",
       "A5d5vFYpT630c1BIzJsnTnhNb5XmpZ9E6pe6J74q5RarjVxjiBohgh6AOuDL8RykPsAiRQEotggd\n",
       "X/RX68gPv8W8iiXcYoBdA+pz1oh29nI2ahLOKHrK/+xn8ShMJYVvvp0YpyNmIUPK1g51Ma8ux7e5\n",
       "EtzThT7LMy4hkjf9bmRUnGvBIP3ABRf3ZTBGA9JsaMDO9fYl5e4sbb1reO+knFSr6DLIuEz9JQeu\n",
       "QQd+q/WAUuXparenQunFPwntAkuNCyITHFLgsf6GkATkiMOBpUijbb39KyeaThWkPn9uEeM0rd/u\n",
       "IqAfcRR0VnaeRxwot4ieTbHDXZTM9/sLGGPo6eQfjIgF8CalAytUPMZtjm4xJAmG8csh6b5Hbbdl\n",
       "4IiFVHhCtIaCtwJjnd/Wz7F+iX7KAaQUiyhaoNW0cw/D1puXITIV5n6Cp/wJigrykd3Po09feYDd\n",
       "AhjLmq8Ja8G7FwboCjn/ANj71lAN+vg7zPJEzi5CnCL7zxgY97u/l9H8oBXSiqWp2vyFL6Tm9y+j\n",
       "u/kqVbSY2zbwimcyqILIx3wYI1N6n3C9jSlDd95AHkT6U7H/tCJ4ZyYS2Or/12SGHews3q68zXji\n",
       "jtfNz2nIAA17aiL6d9A+vXAnWJKpDAH/1sZkzXrWZTdTKzew5Kl9oZ1WbkO0TPzeucUzHKBLTgcu\n",
       "kAeoQPNkBTL0+v8u9T3+OSDmTfdKLOKfs78i8o29Z4KOzKrNPX3IQZIra/eFeaCHJi6JuptawlCr\n",
       "d1WQBxEiJedU+4y4WG2vkIBtvPltmYwxTYf+COBEnSXyyx4tGEWoX87UuZ34Pq1AYkJxRmZIKTqw\n",
       "xKtxfdwFhZ02wah9Wej3gN7/l6QstMbMKFQUI7fLkX/i/KrGn4b0AaViMAZd9mELBKHXsmM18K1Q\n",
       "uPKj9NYk7qnq3TEQE5izQVBUCQMFGrAoVD8QIOPlY9cnB3O6b332osLq4tnhJpstwP9ZspA8WJzR\n",
       "aVIE73AhpwNRr2QYv2aLV2pH7V8IUoXumRk1/PKhTGok7FCPhNNM7Sriy8DlXvLerixYZL7tC90v\n",
       "szDjiSvztJYve+hHJ3q3DwODFRXhbIRGinPj0qETGNbe/PZSvxcF1TAuPVdMvPANlTJF7QM2aYjw\n",
       "0bTXcWjfwkJIGmWPjz9YPL2CIrvUcfaEvDDqDA4j8ymhp0PpjKJfTeKydoDAhPs4IzSwnphPCSF/\n",
       "LKayIHyNZ44nnxyCnkUu9yIMcIRjK3Wesbr79x+mnpwuiYQghQ/g7X30llKw3Es8dgrq0LlRmF5Z\n",
       "FXWyKefmlT7qba+EqxwuvtgOQkMllToT51ttnR9e68jButM93etuaAe6tZvdzTh69alZDkHwQE+i\n",
       "ubR+iX19gJpbQGLYTq+xYZx5sW4UPeKUEfav2Cj4UaKEBYQsgg9Gf0vzyyshNqktwezeX/JAKdUj\n",
       "fSnlXdDwLmpP0b/+cB88GaZ7lJRxkNqW2fLoEjoojxU+pWeYYQxzi6dHuuOzYTKUX7ZorrP2K4uB\n",
       "uiyp29PbCTfzdetaaAx/W3/gC6kq84pVyeoWf5ninbZ+hFW5EeDyqs7/aEaG5JP04ea5JB6WF8O/\n",
       "c0WtYAHSKAukfiNKS4/sfKZp3pdJ/l4O7UUyPLWGNk+Bnwo9F1DDfTqmym94Mg/7olA0XAwjTTz2\n",
       "fVdVfHtvM1wfZLMAAAQmQZ59RREsK/8BLtdyo+DFCHX4+bDnAhADPjzus7LtIQstnkelfWsnWOdm\n",
       "rVeU/RfLB7Nt/we2O70RAUvPdEE+XElX38b7UGS+6ujS/y0+ZQ+klxiaiJQ4PFZTuZn7aHtd8Dj9\n",
       "SuH1ffBu2EYqrM2VGiue6Or/shGYqkVItVQdnKQhvryIJAqCPj+NXC+IALi5XzUt/ugFJHHv0wvL\n",
       "wnBIAmVemXMo+3ArFv9MqJb7QytilcHbdXoQn4qAX8KKLJLLWpnnFf6KF29chJ/eo29EHigei1+R\n",
       "JhSUgqmh/Cd1rv4056Th0pIii1ZZeyqKr7J9cPc3Vbq2XI2xi6dR5uuzlzhvjFgXOI13Vrif7Yz0\n",
       "stB6wmdxMVJsxJ5Gv9Wz+VLrJKOUYThJ1qI4uIKwpbtSnOjEmEqIrZsu+Uv6rnL0KgMnInjKZNDq\n",
       "XKJbuElk1Yw8W8nqNIuLPbg2XOdYg7eKDks1zU0StahV8mFj1Pp0fsm0wBCkK4n5xkTxGiSPdofw\n",
       "LZrM76PyGILNhzGqkxxjs41lpy+EWqbM6fDaS6D9MG5Z1sdUrBgobi3D6MoOJHZFlKOzxeVVWb0K\n",
       "3r7qO70OK6BVDmnRiS9QSAXONz+/gcjqUzf/KYu1pXuP+PL7xiW7VDEIVY9M4E6am84FuamAhJpp\n",
       "s1NwrRz2iYRTKPT3Vj0mqkX8ZNyvbWi1NAK0q/7h+XBRkOuNkmCEbGzgTXrSl/hIuUEcZVTkDzcH\n",
       "RCGn6ZE1FvDC/T6veDMggkPLLjA27oDvJgn1Zpm1DrDHMhVirlp7uFlmfQaQHDqlQC9wR4QEvKOc\n",
       "PyGEuK9YZyicAA1/YJbH90VNJqTMH1rI1x6HqtcM/m6rSHYEwiW4w/GUBF+NxFe5Gadjobr/NFTE\n",
       "7tQvu4NUJmmYN2agqrtQSwQyypDxgJO9Gmr/RI8eBTg/D47BAGR5NmJvhnNbHoU163UB0TQVTcYa\n",
       "tjdDszs57MF2hksPzRuEGjvpalbbkxdpBa5rHo6474t8zkKdi3q5C4pnakPRuFh+SLlyJhxI+F6Z\n",
       "GZLWCiXQZ4Gp/sHLG4qjr8T3ZJisztLpF9X1geI7eZpARoDCAZuZcAxaeBCng24kBiCUFAqfFbVp\n",
       "4NaWlcxvxE2WFbjOHGEMJAZvYKcHCK8ZevZrP7+iBupscwU2NEf8mtLhGNX+tWktn/pjKuQR4vpv\n",
       "pfOwLM34ACqi5nBFcymlYk0VjNN3R2qiidnDF5zhfepJQf+QrxeyUNftZnRoqJDyC8VUilTHn7dO\n",
       "RRNMUjeyouW4MeC4rn2TloutzkuWuaJI7r8D1YPvoXYU7Ok4tKJeBuDtCcfiKGf1DfY5+GJuwzbC\n",
       "XEG+qZepyaQ+qlesXsqkz6FNd8EtPQnO3D5939vBSA+lvaVWbyEzX4PWTBh5vI360gQQAAADWQGe\n",
       "nmpCvwEthsWyiOVyA1XsEnepBIMe9mApMwUR9VK4atL9+8GrSEuIoASW3FSi9i5uaORUTbO0fawB\n",
       "Z0X9io0HaAkTHQaw6n1V7jPf+oU+GbFF7FOcWVDvdaSMshexvUbxneEnyRS66BXUsPsIQS62Pgu0\n",
       "6QVS2zQu7sLGSRVp6YVejphPcK10UTcp7+bZp0CU0RKMOYbKq5uESKokOYYFwLWbzQKcSe2xFPcz\n",
       "/e0esMuLwiMTsp5NE8DtGQkaiG0KIHsmlAH6nmcQNWc/ROZmb4cwECcsv7p9gXp+/kXjAVe6foya\n",
       "+3Zai0TAX8pM2vEPQmxQ4RQb7EttbwFcGtzTYc7C3WjFRQd4P5HoCsigoVyLDsHSFkMUneLBka6V\n",
       "Azgnqx2Djh3fL9A/wuXC4L0ibr9XvPSXxGlDXNJ002C24LWqcsCs+pgWWLWMidSGW/T30NqlnyCH\n",
       "dEY58Bg9FE8rMDriS3QhfGXiECTLtrEZJ5dgio+NxoD9myn6TVjb9kz7h9NiU+jFuZRFgLNkzZCJ\n",
       "ZqU78wJ8FSWRMTwJv5Wfd4IXeSSgACszmkJeMaw5PsfM3tbKxAjwGxl5jpTeub0ZmCVWpaNcf46P\n",
       "ofgvONFk2k0CJwDHbFXXdjsmLF4HqyXK+kMvSBo1Y8NNQ+Cv2fBwpKLJdjtxHm66JoLbROxpaA3t\n",
       "b7UC129pcmWJzfP3QU9i0l4Ip7aERK6tNMgRq+Jq5EsIwyJ89Rqo6xcTLFUdSCYS0PPxYH4lC6Gh\n",
       "mcegu4MDgKIfDbUwYE3wUXiMnmbIikeb/zEmOhHYr5evOuRcFbZ8PG8Nab5XY5N0Bhxm/0k6bzYP\n",
       "7GwcWu0GsiSMo4+zD9KmrsqU45tXKSuoxs+MsIPtZ9VuyMNsfhLN7e5JOSPpBfujpkdkSN3DZFB1\n",
       "VvdWSd1lUtAcTvndLoVUctRnYWAOk8m3mTIEEfANPde6foHAhJFgHkLpOPulrslwdIkwBlIviLMd\n",
       "rfPG2RzwO7gDhhTOIQuO7Mcy9Z41yLo+4k1s7W5xwJh2vsUUAUW78ycVvLIzA0gKqo8gh8Zc7YGf\n",
       "XHjbPzxbMl+oRLENjfUQXJCHT0Ot2u/eEhcyIJqUg6OGwRMeT5CtSFyFh4EvUUJKUM62QrcBK+QY\n",
       "AAAJjkGag0moQWyZTAhv//6nhAF/tm9MYfQyUMwAlvMsh4AW9cEZyapFTtiw3J9at3jlQIRavMUQ\n",
       "b6GVPNf1wR1dPs0nmLWbM4zvOcUk7ITfRpmTR3NiCih2dTUeZmUyObACNVgZnmX+DQRPZa/OkYNd\n",
       "C+YowKOuPaCrLisutxacCcg5g2NZLwdzGSfKkXfsnaMCT368Uz78vnia27Kz2q0rDvqqXsLKffUm\n",
       "1gjzhvn+U6rQHb5MnQEOZuq9s/P8u7q7Jgkmv06cN2w0coO4NqacOPNNKbdt0E0b/dGE10Zwdpys\n",
       "1rdCRqAA9w4qICv+7J0mkRbt6xDES1pmpRlvrdlWEa2BUp7G2qj5ykMU2Z270qGYMnEHS0eGj8qL\n",
       "tp+433kVSsZ/RKVJ3O4K2sXag2o4PApjqa/HYUcxAYCqcFR8ieLbseji28A11SevD9w7oVCa06XR\n",
       "+GryhgPxqD1OomXDvYjGNKF2MDMDOO0rZKapP/6W6gxMOioPkgvUdMBx2OCmcqtivy95uxitM4JA\n",
       "ttZ+wpv7VoWKTsClR8d+NOEk8GgHYUpThE69gv9369j5iUruolqAVNh77RvMBY4b4s6cufbacxKP\n",
       "/pxBtT/o3g65ZRQ9ULEXjfLWRgpGpNt3aqDYVHWezeGH8vOtxRSO7Wlz/m6nESXQ3YURxnFWcYqo\n",
       "FvTxCAshNrGPZg0CfJ4DyA/AAgB45cWrlEXDBHY9gpVvxUnvwNC4ECpeV1/3jBuSYr8/aPiS/nbm\n",
       "6g73BW6iwiP35hxELIA9MPy+ioYAuinJJ5MPNu6O2dnEyDsIog1fQsr9MY5jcr4wzxdaj95i32OA\n",
       "EdAlCsARcVMT2i4nLQGXOuD9amCvbyoN1cEQYxCBwHPB+1cxk3vE46ErVvOEEjsgfLzQHMQJ/k6u\n",
       "WMo8He4sbH6XkVYrDkzClJC8l7MdkDj2sgTV2Q4ljH5Ju38e7fvLm+o15CSvqiMVkYamzSYLzMKm\n",
       "HKJFkplYEg22uAahCg5L9SGE3S08df9WeN4V9kaaSmZYWxZTfZHeKkQDyF0SWmjtLUg1StUCOOyf\n",
       "cEA00ACstunNFhFA5DydeAM5RPkjemrv6R/OiWJyTeFy21NzdHnoeeHMbGPLGI6OMeR9WbaSTosb\n",
       "bCMI+15EdxYjWYBM2udnvQn4ZL0kkOMD3FD5Nzc/EQlqX5tK5O6CfbtSJvUGWr1OOpZ/E+UAM4hw\n",
       "hLg1zkeuXqf5eykVZHiat3qF4HZhpkNBkgTK+0Pcgdm+/tkWqbNV4xv/FedkRKh2AnRZ31/i7ih9\n",
       "kVFB4hNctCd/SDyNO5/WFzSVJ5bbb3AL4pHBa6XW6EpgmCacGHwsO1vi8V6ulRkJCsXG12Io5SPj\n",
       "+xhQ0Vu2Z3PhLrw7d0JFWVFgSzH8KpmqQcdWkZ8DRGW3GfNlb/OSI9rqcr/ZFO8jIXXfACG7wcko\n",
       "bIwx1jPxoTR25S0W0vqMktTYBv/pQ7BckS2GW1jrqu6/I4DQnG3wx6hUUKH3qm+5n60g7TXbvk7V\n",
       "Qf4v8D4xHxLIRgqYuacjaeOkHg5UMkbCcG/66fePbloQVUHNIg/5Tb0hXt65Yl5wjOVdaV9HIWGh\n",
       "4yztqq3s1IzU8ASoXfZA4SKhKd/aPDJh7bV2Ns6n4CP/M+RJJt3D146lbFARLGrvv5mGDNj2hoVr\n",
       "j/WO6Dn1q/XTRQfLpwMXw1Ju914LQclfv/qCO3vfyK2g3RmOysStdoRWA0Fyz9D2nxPqzoB3fDUe\n",
       "9ijpgw1Cp5r07hr48o5RYLuURc9R74LiRXBnJeNNwJ6n/HSc5bqEb6Xe+eDgjzquTAPqRZh6U6pk\n",
       "i52Q3QoL3/322KkorZlfD9ZaHJhyP/DK6wkR8mR7ZEgY6AuFlA9NOVPz/OHU0zFsJ3/OhtsV1mhE\n",
       "AlXSG1bfuaeTqhxo3eja7Eyi4p5na1YmO/bYDxovWq3SdnKc/PzvpaGwEfuUh7gryg2ANz/KhNwm\n",
       "cErXwY8ZJxG1wsrOFsey5/dyg+YZ+kQI5MtKcoCs8KQCeNG7LHhPvy4BYnUduZrr5JchgpHUOp1R\n",
       "q+zE63ipAaf/rJwx4kfm8sGW71WB/BRemaeY3gAsKSXxBzUCHDZ7RZ6SCz4J+c8gpIox/DGgCscA\n",
       "OVuII2GuONc6Yrz5n9i0RTeVKRxTr+ZCzWnxIkTVnq/DkoRiN8eYUS3+9jinBg8GXRPq1+ztRkw5\n",
       "pbtqfBQCM7BWUQpQMcTnlKEMHKHvPr60kxIskjL4TEGLpnD8WgqpL9m14PBVGPWDkRf+v99+Pxtr\n",
       "aldsh03SHFsZwT2cARgZYWmjgOUwaTheuFxHF0s0tZ0nejI8DT4zLiQtSzaGNLQxd1ivE+0du3Qe\n",
       "Fr+OSh05b42q1TLiEcMw7IhWqFCYpcFxXzXrrN/l8rupiBXKBJncxIE3RLlf5a9KWJGjGj1qe9VF\n",
       "Ag3Va0ZnAz2DTDDeskrNCilFQQ29dn64Z+y9dJYbSwGxqEJSa7OcxpX6Piuv22bKffDBOuPMa7V+\n",
       "qgeVWYSvD9qQZanSnbhY4/Gx19QUm6zkJSoKORbp7zqHgu21YBkEoOQBKGZeZOoQh76IUmKBQeaf\n",
       "N20l7nLEMH3wb0pNTEJOGbAMWM1P/4SBiP/bcHIgetPEvbwxc6xdgiqE0KGPn0eJXpMkzp0v0kyv\n",
       "88mWGI2kNpq/anF/SbrWVQUX11R4xVD29H6dj3X3jKKi42HssmE9D8hK2zC8cK94qZbUw6+q+T5/\n",
       "z7OxJXpPsXYl6KrOOS1tGY+r8yOGE93nu5UJK7ntNCm3n+w0xNYaKOYmyLDLPv4gh3kLq9ONlNFq\n",
       "h1/Rnb7tAlDxKD+mMWezedm7AfxR/rHAZ2b9znWE29IiUgMviDDc/DpsgGtJcQd/0myOiTLIx2Fk\n",
       "Ps74iJQ1YN51Ko2EcjPijjITvPdx9ACaA6UEf3dJvvTX+LPB/Ab7ujmpUEP34v+i54cHCNOMpvLD\n",
       "CQX0Zt5nv2bOxCBmvQtPgyIB5QCoA/zjGwiYZWgMeKJEMqEM+uO0B/271Yz8YgCfwmmEsWa2K9vu\n",
       "l40B7uE7g2H5/c5yR1faZmVBWhBLn9Pcd+CVDxEdDz3YCYKkKiSmwVhMign5wn+kafrD7C9dE8qQ\n",
       "sBGD/+KAdSPNYnzCSfj12kQl6lr6YNhGHFB3Kq60gQ51iXeqWKBDa2f1R18ni7O24MaG4A1fBQBh\n",
       "tmWgd9f1Zfkx/Q88PqoS8YPh/a8wj5onXuG18RkAJ5aylJOVziUntg2uNSJTfZBIneUMAlmwb0EA\n",
       "AAVfQZ6hRRUsL/8A3IX+vioJOJlWFEd2MoqI7586AG4ssMZ4xUo1Ns1dFwqOglRjkd7DBxM7NyCE\n",
       "tR+b4AWACndUcssbLQqnoIBSAH//jjarez++hS+we92cDAEfDbFBsuiUltIG0yfTJRbMk7osrNfx\n",
       "BF07XT4djnmcLAEA6g/bX9o+hS1skMlcX/NxGtjicKKn6HBS0Hp474vI6yVE8Reu/K0YFIPMJ9XB\n",
       "UZcwxSRkFTTatat5nUcmRKWNxVYB8m3sn6YYb+ANuLudQvOJMKAMt/UuGnhTQhvO418JT7cn8fDL\n",
       "CishON6/n7kasfdBAk5NiOshrXGATGBD0rCGkO6/JZskPKxXQglerLqI323bTsmzlfMQ3VqNdoWV\n",
       "CPc23w4XzAIaEZ+HUgeIzW80qjsRK5UyPV0UrolLh7eFD5ZKGhAcgQy2cg0R/cOtbMOUbr3HsoTY\n",
       "XF5oYJCP7Va03iiFLJByOnnqvCnb+EHJxBHSsOy0z4JrEqwiOxn2/llBZjfliCJXS7z8MEHvkknm\n",
       "LwHcYDlaD5ZE0gsGrjayoKUWIiBtvGhhigbySuESRWbsLy1hq8o4KdJ1avLo7+22zza0/9gD9xUk\n",
       "UpGYgCwgyYmOZrelJcARVGnYbCfH1wSnmEiRNQv62QQvOJ0HN2hJ+AT33Lwmzn5QibeEn067YGUY\n",
       "Zew/9h30huwBic2086VkG0kSidq6cuddhXCsEFCCUzKYV35kJxd9y3uVc+svKHiibdb3MJ46ndEl\n",
       "o+tb01CjKkv3IsclOBQj8+y5JBmTFTxfTJWwiE3pka3FHkGLCOsQhcBcrmHKizaQ0Uepf2GLVJKN\n",
       "wL0YeSFVJxbeEN+BSNxqc1fp/+zfRdKYT0mRpw6Ta7uJEbhMm4G+FcBYau5665ir1k4kE5GAhYyl\n",
       "l59O2zxVpAfvTnyAXG7yTSbVmpdhpev+pZSBKTz/+OBAEg9IiIacbZ3zbPBm1JR/4yjURbVhla5s\n",
       "+D7H1OvAOx9w9qlqR2nRj7PkxkHX3CjL5oJQA4goboXThu8zOmEuJ6nICmeH0V0IPsU4Zp5IW5Mf\n",
       "bDeoTfu3slX5llWm7DT9YZEE7HpqNNisun+06iaTtKLPXjMWEkym//wVHZ4PNsxoBPz9ZKCishkn\n",
       "asd63ggAdU+xMOaPqMCLGYDJ91DiPnu5OsyNtTG3kzocB8VQYxiLXCuA++5XEey3Bx9aQKzW0jtV\n",
       "W15IaOsvyEPCas0CEq0M12p1PiFcApItmNA9KDuzFf5AII7qIXMRnPvbmeynw5J3klLKKhdwrYA2\n",
       "OgcYjygxzB5AXEMi8hGhHljfxTO0frQkLjqqmWcHk8hzx6xlwSOQbWJ+1SVtkdbrIf6G94tgpqbN\n",
       "mq9UfQzsgJWyPCNhmioByRT96M32gTtX2w+w1C5Ul4Gg1ARyLCLW6v9vQKp7aqthcgJQ4ZRYPqDl\n",
       "Il8slUjtF2xUKJIBnrUjW8mP7UeywG+OwqWfX0uM4DaMHPCs3eHkyJhz/WWjNB3vJ7w1WdyLM7yE\n",
       "0XTefuGjRVYF2+2SEb7SbfKTW/MWRAJ/HRMmZumObSTmV2qf5pHKmTsBJ2T1F7pLtPr5KNPrJgcn\n",
       "rchqzfV8+SNzdwMrOe9JuIjH7J6NzqzhwLy487Gtc+SZOwQ+UK/phW+ZWZiRbxF/JfSvGFium9xV\n",
       "ovzbo9o2URuS2oAN36Ui/u9jEgVw54pAHRCExtWqiU8sLPLseM5TCGlwVYwE1FuamSxftdiRGp0r\n",
       "ukNV/fHZ7vdL7EuHy42J5RbK/ynH/6qpZ26FF9pGwFTvaG6cTFT32kIwSABkkV8WQH7o1wLgZ+65\n",
       "oTyeiaY2mfaFrAAAA0QBnsB0Qr8BLnhAgBNJi8xbbUStMyUV3XSokJmzUsd/+/8Fe41jJvQlO4qD\n",
       "33J0FE2mCAk1F5yQIKwEL9BunECz/ZVdLKcZEoXh67A+R+qbtbAXLPOcAnz9/Z1bxsvFc0bjPo7+\n",
       "FbPAr6dlWdPifXtj1wzufqsls3rGxuB0b/yoxk0gIdAjLWGwnF/wseU/lFiF3IsYhR6Z+46u/YNA\n",
       "tgjsFdz4iVMZKiLfZGBiu6WyX2hyX1WLZ5ltzDPMxdk1up7AcJBaFvbqmSm+R+F9hfCS8dkH1BHq\n",
       "2LbGCNFHRY1U7OaMu0xUGJF8dfrm7qZ+WkQ5KxzrIxfkG3a8PtXeJ6W/u3OJJJiqyUewgiTguawE\n",
       "fcYw+ZLlXJBX5NIrnm8ALqKmmJ9Cj4BcFgYvo7vs04W6pVZ01tiCesvshkpxWnBzujdxF6QjVuTU\n",
       "+HuoBcEutC0G0Ii2wnD6olc/IO9fAO+mwSxYmC1FzSOrmCQBOerI8lHV9/NNFx3jiaC8pAtQhUa+\n",
       "OGSuNerOsrNNpYK/6Ug9Q0IznarrCwjOzl4n//HAZ6nNhWw+x6C57YnucwMPNxPJomFGZEuhC+GG\n",
       "BmfEXVSK4WBKjBoYxAEA4FsYmf294KGyeJJWQPztjdRQ8o/YX1IkoqaGkS7f9y1DxZqI+Eo0M6QA\n",
       "pQBaCD5QLXZBUTBAfbMWFQixonxa2PdQ47UdQ6NZnTnDBm/emHksabkyQK8QliF518KwXMNUjCdE\n",
       "yEC8PeMgaVYFKTbEjrY0W6SXerx55EfH6CrlTaaYkI9yrAuH0o6YFbiOAWwx9tzbOw9H00krXt3u\n",
       "mm8y66C6cV/Y1a9CmwpzfSA0g/xPo6k/yNouwvB9ZI812EDWLgtS4DMbxKEP+WfkgFmqSX+PTug0\n",
       "ELT2NdlF4ilLLURQfUaRxj6jH9fTuXYucIIQxIp2/hnAdOW/aEqUeWwJksdtijKXnuXU+uptTIMu\n",
       "BcBmM6lcg1Bm02FT2KVTfi/vOySZ9PICgLSXDvWD6SzhpX8Ouf9wC8FbhMIqc40d0oljkIxTuz/i\n",
       "iKEu5pn76QKyQqmUxKANIoX2460LJZ7nYyhkfgmxxDkrAOHAHtmEtY8MmE9VzHl5IpUdMQAAA5EB\n",
       "nsJqQr8AsQirQ/kY6DQArHlVHYejl986bZJ/L+xwZLt4OLnc2xALImjMCpoHJ8lwU1lS5mEKVYig\n",
       "RJXFZdJq11et2pXOODUe2QwTwgjf1O2ZZa04UCPy7wNLPn3thSLnGRaW8Vkxo91Gzcdybzv0tjXq\n",
       "udMC0CTFcdKQaO4RQEjAnwe7PxtOdKtGVnhWR8cm+0ySn4gCuAkmhd5dZWSIcdn/EmjnopAeZTpc\n",
       "oor/bGutNwIcVBzKWe0WwxniztK4Lgfnb3BF/UH1uPsrwTJiTf8Am2mMQf4b+fBPFKvG4Ihas0fj\n",
       "USwGCTiCjAKSgrF8zeQ0yLBp8Id2ev7Q5Wuqflwll2OkejxYC3qkKh9LPgSJv+QyugEKhszsBUqo\n",
       "fWtlf6Ez/Z7A4ZPh8yJv8aOTNATxS5aVDHUaQITTojvDFbBtzkm0CCE/0oJyLuIUUsDwJyHyXBgI\n",
       "rLRCsU0CsIBmgEleWCZ2NGEDvGy1nLDMj4574fc/d5njs285J66U00B9D7WhrlWMwTaWQvCr8Cyj\n",
       "MnzvvNwrTZ23TdWMWJwZtA9cuwDnteiA5bAEAv1Si/YyW3tqbfpxaA6kenCS3GaO4IOJ5JrCxOMT\n",
       "aHUBpCA+T0m3zCDKLWfcBMNifcMuBn2HeMQMcgWgnEF3jDTeiyIYSzi67Xg9OfgPmpssIhbXKJPM\n",
       "0CaXmRrucQubcRrwoCmG1IByNwBNBzkdI/AXOznxd6ZZMMqNtCRkDmQbZmVFeh/7aNYeJdhgU6qQ\n",
       "PnAmKaYB0rS1RWwmZdC79jotpug19MGn/Xssa0mpHi87bHvPn4RpdOuNZ1i1RSIzpyTmb43s9ZcX\n",
       "lgEyTtXDXDxDmL2S3L62FRFVWOBT5TDvR5I6A7/5b1E+Vkr+MWlSoFwhTNgAu9lC9qoqqZiHy0Jt\n",
       "RTlJ+YCblRVFWJFY8DZ9JK7nLLe4wrykTlPcOegsQ2IV9d7j9hAQabKxp/NSYZlB90kIVsGjTUF4\n",
       "s07BMycStAfYFwbB9tuvsJRH1xO2AMEfWJRvWK6GaA448DmTitVEej1AE9Qv/8Zev5Hwql2Blqg0\n",
       "ZTio/xVa218bi80oMCXpLmhe9XxPZPoYHjgMrMr69Vx42tfRLULwLuDOrBsQbpUSo+03WAChFdr7\n",
       "ZKxJ8W9xhbJUOSvRPhMhYDRLie7pGAA9RA3qWmQeUfQpo0MuseNP5onZ3JYa5XNTkRglexPMcU3A\n",
       "AAAGMUGaxUmoQWyZTBRMN//+p4QB6/PKAAb7bG9Qv21iDLqBEGVeTqtD9DNjLR0zTQu3YrTlJVkp\n",
       "FE+bMu0MF43YTdyDiBBOA54Svf4ukLProOeX2okz4JEsRCVFWKFIk1pnCJhUpd/ewUX3XviiErip\n",
       "RA/TZGh9tZ+wAA2b8OfSMAw9zjR4WuprFuXMzbuby/37J1sqSkmeUDHaH/A5d2sKSoqRyDg5hjZn\n",
       "3WfkFHXw42YpOcLPn9083XjU+TuHu7VkeAGRt/gTyZDLvvmw7c964Avd/qBElaztSVNw8jOT9uD4\n",
       "S6zP7/25jRMISa8DQADtKQw9ZgE2GfvU3ANfgJcXK7GmWbZA28/G4OlV1WQ7LnyIw6JtsB9lmoK8\n",
       "/a//qYQqVbyIPSMWhuE9r0ievloac1JHwkTVLRqGJ3vN9YJCmTjkAOYmcnZkSpbToCcOcgNQoyyh\n",
       "nHUPQGY+Jfi1v2fmY02QGrtHHjjHdxnfwdBABIRVM//j7zsxD/MXQ1syJf9tNeKwbMpmj66BW/lq\n",
       "n0oJR7nYEQ9qjdofmbDodLoXarUQrrQkM4TBIYv2MJwTI7Vs6xrb6dwesYxQXWZ6zqQMi8QqlNhK\n",
       "DiRvoCzug4BtHdk4n/Oa6oqEqKJ6bp7zTEZmn9u3PlpOBh8iLoODG8sqm12026U1CprljPc6MlJy\n",
       "quYq5m89+UZ8YmYIqJplgq0hZ0w+JNh4RFl5Cs4lh3k0ksgl6ahmkZrYb7xdD8n2zmBv7GyQS7+S\n",
       "NYGxCg93w9Ty2h8AoeL05D3cg3aSUWi9gx1gQ94qMx9L4l961P1F7E5sBcTDQdOXXWcOFrlTY0U/\n",
       "hIMR56HodZD37mP7Bn7me8Jv8K4RDP54Jg7fOo4RV5ukXlpv38FPDNP6id5iIq2/g/OhnlcyggTj\n",
       "JfTup69ucE65DzukzacJuxBDqohIPq7KS4H7IunlEqB7aRbvstbO/5ABpgwBCn7wIWR+ektjU2zL\n",
       "Zw6isY4AvjwOJlGlI7QnJgix+TgLl7MiQ1m28sSt8F9ouK37I11jTyPPqaRJ9QL48o5yDdZwXcnJ\n",
       "pmduexj/TQbXmX/qpEBXSewgIgMEoMBNf/yEZVfVUcDrKKPc5O3L5s0o3EAAiniojBshEu13fDxH\n",
       "nElmY0QMLff+y4MORULkCPimUDfYXw5C0dNB2ucC3xMIXKEHw+waS4H6nlLkLaxSav+7Y5xulmCH\n",
       "JLhP75DHYryelkGa7wJT+QbOJMdruhT2cLblOqkWcLtGIvN/BFtS6kr5UDJJM6fCtCwiKBe9Fdw/\n",
       "xoacbIzJQZ3SHGfmvuUIssdfywiwRlBlb5x113FKjR6EaPwOra7CkDeR3hILtHtUdu0L9a5uY0U9\n",
       "6rlmLBHPlzd2YyFOTwcrpCCsUjhBlKXzGMSgeN3MwaCsLW+7k5azPxiCCPlpUzHZjCVSoQgWjqvz\n",
       "kDeSYz77koue7TSQvuf1w3hCKFb7wbtcBgTPytM1ik1tu88IHF0xBceOAIhSWW6Py9nbH99raWDb\n",
       "tUAENca5blbp6FJHbrXd4vRqLYXz6s8KPZKIiMgDvCf5uVUw77beZYQoVwBi8ZLYSmSHopP4i8X2\n",
       "WZfBulc1/bf3l26TlUdZSvzFThNXTOyrL1dW+pT1W0gI/r6b0RW6VTG8U0Ewd0ZV1yPAQRQ77Y88\n",
       "mkELiglPWT6w4XkYtg8TWAwgsjqIRLdsj+lMdxgzJY6iX9IfI22dz53hT4AxoA9U8/MUTnCLLlmn\n",
       "RH1E5xZJ/W7ptTrcLXDOV0x1+A8nKi6V7totBQKUnKteDgz4hH3s6qqTry9rHoCe5wbftzddLayS\n",
       "Od8YzDhex8/xTzZgm9H9CQo6mTPJ3ZH6TV9pe2jOlBtD2Efz/8DC5oPIWrK40g//PAzpZsJXktL/\n",
       "wDiDjuQMGlqF84cSKTEHFTwXZ+v+Z0dIE+RGksAJR/XFF8HoQI8HL/hES1Z81GmXlvJrBwbrLZNP\n",
       "T1opAMZDAocu/E2et/joebPixyM/IIcBEz4k17D3YVpuFkYvx7FVAcZfj1/CQKcDQPr4UtIkWvN4\n",
       "3tLodWFVpFCrD1OmmPcN5eX6ERiwtuLIlwpmZS8u8cIF9zgUsJOI0GihcD9+yr+V1M0AAAMrAZ7k\n",
       "akK/AVlxQAPXKmojfhvVh1+mo0eCJpH54jAd+gBY78oqwbV3h7hIXWU2vXwtReQDwlarXM1qY5gk\n",
       "9Knpob/j6/nHQ8InnmvAjlpE+j2Ki7ELuXts8cgjKS7TRclKI7A5rMQFEYF8C7W5jih1coVinrWj\n",
       "2fyeAG6Dj6w4sAXT9IbLCck+AhVSkX3QbaKTEbLMAoci/rD9PKnTkdrhjSjHn4KViSeJk7ZrYaPv\n",
       "ycomOaTThnbA50ZaG0ax/k/IjakzqwsKjn1Cn0DXBS/9OMoqggm2lJ1g+m62k7N9dsC+2b2S7XS0\n",
       "Mzv2qH7xu0CT4cwVo1PpCq90evSt4/wLYWVVMNN/qow2AYf9GclywznBj0B824EX/mV9VAV7JlES\n",
       "wHCTEES5TyrW6JoW4xosRaqR80kfxPDu4lCsIIvw1AFbDmAu7N5h/J6sJaPhDrsqK7thj8yZ/G4B\n",
       "ZdL3NsWiECX6Oxud7QTpweT2RCuNezCLFksGIzNoAAAIghJMV1NEMd1CA22Lo+5x1dYGoOCinA4R\n",
       "QfEWU09NBM88tS20YM+jWxC6gvMlI3ayK3U90L+NU3BfZ4dSp0zAT+7WiKE6JFvONpBMKmkWLEPv\n",
       "hQ3/dG0aZuDqIJ+v5jQgilbVRrJmtAnusDrIGPf8mGuA+9QkSLRR74WCJTs2Nstfssjz4M7RKcxv\n",
       "+Fej8hc1stqAM2wJE6PdKWn/LNBrKZK1+qpb2G7IOaONnxTnzLQkz6dMwb+dJi8Mq58kXlTkruur\n",
       "goAxPTUm7Go9FXO+xXy3qEaZRTMn8IutH6j2GLVpafKs5Ww4+2AdsLIT2i9buPN+cnEb2heS33oR\n",
       "H4Q+tYiTXYmWlRr7jmQ6eOcawYEREyEbvv62a0d5yDRSmlZd2VVpU6IzOV8XW+sRL5BRtuLRy2yG\n",
       "h5PH7XqiiAi4fCHZPW0QtSkiVMZKQ+5V4bB2HmnzaFjmNfR0EcFku5fkMHiBN5UCtDYfo9qYhvrc\n",
       "J63djDSmPKdarqfKggHbaq/UjUVQ1oR2LGrL2Sv0AoFbdNn8CzHSbRpA7xb62hd/JanDTjdFZ0JQ\n",
       "BIgd/xWWoezbsQAABYFBmuZJ4QpSZTAhv/6nhAHsZXzwhRkE2B6TvgBa96nsrjv0Ygg55QHQp4xO\n",
       "FIl+xDkMDDmPAKv76CsqRACgJtXVd3JwvWiqeTSoJd+M17+WY3Zo0CaOr6a1T1qkeNdTI4lcWi7C\n",
       "hHOEGKCGxusv/vlQj0eTqTHxp4gDV+kso0E/m5/XlQACyPNB8WRla4x1D/bxYeF2D819Ie9F6/o7\n",
       "mYQ0dtkkDAAAcwX3+bFr6Aokx9aZiw13pdUkHYkWwzLYwubJ43Zk4JJfv7ZJrFMNYMH0CZ2YXywe\n",
       "kEqKJaoUcBUJnYar+I6VqYdUajcQyuc+865R9jkXKTjnQeUykzXJ3bhqJnf/heGHuJ6M6oCi9tAc\n",
       "KE2OlmfSFGbMZpHOndtQelawMMk4IneGGvHmRE9eGcllKZcboinxcVZPHWHQoof2JiPULTpEPNRL\n",
       "izTFs+gOibdyXiMOOFxw+zutjxDZ8AqJvJ0kTMkP8Bj02bWuSUZEkcxpAB28nZ4+/O17vbKFlTJi\n",
       "SE67UPHfDq9R1Np6VMaCuRVtTWQTmhFSWxoNCSCs4cLR3mZ0D+GbjPkGCAUdzv4wfU6ii8vjWpva\n",
       "PDg8RRXC6fjC9sezKNSe3DsJ25TkUnfbV4Vy8EgJnQeIZfoTZuXGQrjTT98+vGOSxOEKJmxG/21r\n",
       "6lbJl0c8Q79ABUlwOullW9qAOn86YmfLAE1qWqoUGc0jE6oMGXufHRAFHxPs6myzSbfHGayvyBPJ\n",
       "2bWc1rCTHytr3vmkqJkW4MwOzqL9p2H7ovUbzp53vSGcff2Ep7+6KMTR3QfG1JnoeWDpXVsd7kO5\n",
       "ngZTaR9mGaBwhPrap7mKl9QHfB/QqwQaDfz7zV+HS8aSibGC2jFjbXaZm09DMdAIEuEjXcheyHi9\n",
       "uNZeApvlg1wuG1XigzcPT7GsAB8YIPBYJUVFfTMUG5qIJLpY8L+BsF8rEBUlGPhz0SE1nR9RHfRi\n",
       "ayndgKMHe+a72HFiFzlt9NNEcGNXew5ZBgCOiJnB+LZD9lDCd1Dl9zJVme1MaiDGvIE2bv8hGuLO\n",
       "z6SUiFFDOTHRri3nhEHEgbbc1vnKBAypoH1HmLRb9y0Vm9VXdVxjjqNkMWzrnaGFSESbcIoxLq4w\n",
       "PWzzQjq5PUlLH8mcQAbnx3+t+786bt1CL5ZVh4aCo6GWtwWzRJrafADrMpfvs3u9/kJ55hnLPdmu\n",
       "5tDH6NrcZBRZb8h8cZpJ5/7qO8wybdKYbL9vmUbtwz1A/eDyRiUQsNfhdl5V4pg5OK34vp1E6PqR\n",
       "G6aOPWw4htoeCh7xWS9HsZnnXe7LDrJTGtiOIYoq4lO2gX01GKEj0/sCOYk7O5FXxHoEP7lOlrbL\n",
       "wjUo2Hi3lv9vvLI9lqBn20YBicMPv2oX16Ow+3xkAR57L/26AJJaxL5n1iGndqhfdljgf+3MgoQz\n",
       "zNuVDXah8xka5hX4rr8e5eure9FkKiYEkLGnNEkQfJM33kdrb280FJzXHk2oFD3Z3cdo9jnu631s\n",
       "gamTv7nuY/NOZrXvf1o/dWOV0d/h9wEeEWGydiMG6uUSfQKxsc/1mPaHuZXs5xRUWU3KW5rhRcKX\n",
       "s96x2Dib+L/d1DQHaZMYbCn39tXFjlkm54fAuGIBBuLNBgP6ohAty/05azGYXOwFKEvwi9nM5T4z\n",
       "ZLZ7SRLf5TgAdUeVcPcBVZROtN0l0jtvPS4t7UHob9/JBQxKK+9MU2eCwI/Ryfk/bF/G4zv3khaX\n",
       "p8eUFJ/Ss5qr2XCbMofoSI+tFOoiexypQmfUvkS+Y0lh+KxH1s2ZOkr5UCr7Ge7jTXo1/lc5CnX6\n",
       "qexwuetitSFlTeIiWmv/8xs45bLzfAEuIHOu+atI5kPgJAoU6a6AHB71U0Ooid5u9z0uMZouIQAA\n",
       "CudBmwpJ4Q6JlMCGf/6eEAcGsAJ4/bf/YHdjAB+6xToieCbnh3rbay3QS1IttLLcQN5NEpieF4fO\n",
       "VkMlQskNfkzyI9P7wKLjBW880Bzu30zMXaxEyT5STX+lfTKATlI+1wbcusRxiyqABA8oqSejgZRd\n",
       "Ot9fXW3GmQCRUNs5B5TfiNX3nT4l+FKVmpTPAwTjrMO3Mhu9tAr756AOb73xpCcVtn5G8lmCxONP\n",
       "y4GnKOXw4KZS1gv/b6bzNLDACu6buwhIjckDrx9py3sa4Hwrt5b+V7ClNDgFoBilR1Yh1vl7Mmzz\n",
       "1s2uQwNM9om4iXxLw2Z1csZCqBsXHzHsu/l/YcC/yoDnjIytcOqqqB1kPbBiqekKBi57VG3vZjWL\n",
       "YnJH+bEkQeDLwAt38j4x7XR2SMhk1D7rV3PHVoLM0fpMbC2zjRKUC13HL9zkBnH1NU7/JW1drr+b\n",
       "e3A3XIAu5zmzrO5CoKcHd21alwe8yd3Q0cmZDaXxr9h+b968kUlGdvMncbtp5RSc1G7XrDAwpsjM\n",
       "SnWmTBPHqsRDJJq1ERepFA65Igg8bDWU+EsHG7Xobt0vOLJ8uYcD5+rOsiSORHuS6P2917QaEvPw\n",
       "U4NlqKnwy775I6FQaVaHKgC1148SoXcR2c2q4GNii9yJZKvKEp+xfThn8bjMfAwBs434SnhJC6df\n",
       "06h4SRy13DQwqBf/Ixh///9Fq2dfUwU574mD5bAhXABqzkD9wyJW8Hf/V5rIunPQiRH8PTXst4z2\n",
       "1uASfXFFqj2yuJ7a0FEHrVr6g09pTAdjczn8MyaQIzKSyaWVzspo+uu+JLfyosMgc6doMX9B9N3O\n",
       "xK8hQHOxTKYfNSEA1lpfdAiOXPIS3c0gIqeCS9qaEI6tV9B1/3Y97r2P5vQzKAAa7KZR1UAIB3Mr\n",
       "SzMckRbdmsSSxaKruBUTsm4th+YxjOuxPwuEuTcINB3tIV3dpmryBD523xQqc0+gAjid397wzTTO\n",
       "fa4axF/cmpinKLyl9ribJl+iraW39xHGieY5sq3D+c9/xOyLOnY+v/bOsvlZxVXIwAQwH20U+a01\n",
       "60Fb8guYBnTQymetJyLYy4794TcfvjJyttOMAbY7Z4B9VE44R1z/6WK3lpI9BxZoKPVKfhqe9o85\n",
       "4Jp4644TCPiMGfru29Li0NZwWf32xQuaFDP32YbGxDA29VbwMUlp385sRNl6Wjb/tELq3s0Y6yaN\n",
       "CRd9Zr4XgHLRFMZ3qp6Ys0EjRFYDH7Da20OL4v8OoaMpYW27ueCPpv+eJueCPxuKD86E23I+Tgih\n",
       "sOOMdo3sTu+Rwk6mXTmYrjZuhXasc8I8gGnbivaMwS7eg/7S7xlLqANffQSvwO0IJrAHmsd2l0gM\n",
       "KDpKgN2IwKn1wkkvZF3LVJvw60btZOdo1oK1vgC0ubp4xeESsfhCToouQhHYeJVYwKtgiCgTC8vc\n",
       "aIRZGPk83JOtOvvCqmR9rl7K6QIj3m5C04FiMZbOCxMqTidiRzL6ztNhveT5WCe3zmT1Tlnc5r9P\n",
       "ROv7Za5iE0LGguSIxiVpchQ62ErI2V1M4FpytYNffWBYFASnOz4q4hl7yVkcv9L79uBR2CtiSUZp\n",
       "KZayfiXBxrV+QGq3nqb8qoQLEVR+SFyDIj0GlhHeV1bK5O0KVMR+7gdmWsFeAz7ON9QJdgSPerg4\n",
       "jdw7YSIVEIAxBZuvQeP5b8RWBn2cZLxBt3eZTU4AxN+pCruMFhmisH9b0/0rlUhRBforDcLzM074\n",
       "Jl7yP9x6JxFBmQHJGHves/sk13CVzM9Za76VRvW2A58kfEwc7OYtOcLIRiiN8bwzLYXMa6TCmi+0\n",
       "dLzGHEijLIt6r+jG5Vc67PCNo3vLCwvduUFSk8pzSuHuU0yk8Ib9a2ZdLMjWnISWkRO7eawf2KA+\n",
       "+Cx8dt7GildCIrgzVRnRTBo2vBhfxDOo1F02TTJD6Wb1GD5OouIpDybFwWU51wW1mpgUoqAF3FEp\n",
       "x6hO0JFjePBI09UILbhq8dwVnt5WDhlTa9wvlNAbekvzG7HBmPceLkWc8Fuecnp6b6GCkSUL/oBm\n",
       "boczEnILlB+ZNkGea8g3uxbKf5Vdgd3nUqmjswe6ppxPR/jayQftLIhtrKGZh/CXaY+4oVBT/4iy\n",
       "r1if8hvP8UDQLmcQJ54VCS1vqCFA/SvZO8JBL+B8JTEZY/y9SZuHZkZb2dRrpKeVJZPsFfUXpHo6\n",
       "Dfzq7NHrs06h0ZkaEwNArUVn9pIGIsyJNrgWcrZBOYFYvJ/wEn2nTvm/P4GZTsVpEutmMJP6nHJL\n",
       "tNkef3SDI52YwBEBnfoJcJ0kNS3CgUF5ee4hnsGLpY93FVaMVcBfreW+ym8TnyPnqGIyNRgmb/8G\n",
       "dy6lEtOnBMvnlufytu759Xo2+xdAteoDiutn1Z24d9R8E2VIOkzuOoAPRmVdvTf66w/2UFieDA0L\n",
       "KkHELQVMpYdfvVrbimHH+QjvufXB/j5FpcETVEF13tWwAgeJSkhhzJFix6jTV+EuEPQa7faRDO5m\n",
       "/xDv3WAyBtlMBvc9mR1kf2IoU3iH1dgR8BQdywxRb+HyM1FfgDFTy9Wv2s8/ITR1VsUnxYUi8NdD\n",
       "bed++f6YXxP+QxmuwrfaQHXHZkQjneQNozx/QN5vEByMATwtAX7Qj44JGmucq74zklmziy0GsBcS\n",
       "xO7nfQmRCTe1DTPndFfw5fSmPdzG/rMscadlEoQm6Wt/5zekBHTaupIE0XJbADiIH396tEN1FofZ\n",
       "r1RiWwT5TwepRtxXg6dnDYIoJye+X+12ustEcO5CHJMo56+eAN6ssN/Az35Eauvl+x41mOIldtqF\n",
       "b9pZm6RFByJOfnnJYFDhc31YonA5U/fmnJXHN4bqTSaKCuoRB2Zyczd9vgQwhJL9T4DbNu/Fn5VA\n",
       "l7WP83/GphPT6BTTe/UFE4GVS3J1Kv2GeKQSsHQ6ljIrWbrNUY8iyup2NZXuvMqozDJ6VILeME/y\n",
       "fsbJ0AWNiYV9WmGc7/cKGY4RR2IFrNjudPcEDrpSOZeKyS0ZC2f63bo3pUS+hTOYGyKT3B06ZTi1\n",
       "t/l6IDvMKaZnVtHTEqhayb6iZ2KpEN6hNUL9ut9nxMr8fANY2KcAz2m2PynRdjY+nz/L0la+k82v\n",
       "YQ9XYItJHFBaHqA5UMf6Xjt7YUwskwvcGdS0cQiSsjpzle4WnEmYsJIKcFd07X+E08hcLv0dMctg\n",
       "VqFDMHtfQJof80S5eMsCQXT5eHk2gu2xZTdYxvPYjY4mU9wZoxUF26e/9p4uU+XaNRrAfihh+24i\n",
       "WX/sGrC23HLLo+AWYTFS9ZWxLD9jCFZQpYXFZyBtS7KWa/h+grWlvqSQYq3AoGeOcoJLb6zM9m/+\n",
       "HiHH9nMBbNaj4NqvjKSpxugtl9RgFqWSJ335UMx2VT7MUos6JuVQf9RbauqKhh+rzy5gAkFDLLGe\n",
       "IimQ11zrtvp9DLKVkK1C/iYwnVAFfKhpPbRnJ8KEBqXTm2MDByo1jCWbhUd9xZL68oxiDDIYJfP0\n",
       "ndtv7tfQonli7+ZUnRDhSqBvFjVLB/Sii9eTY184aK2Q9rVDtGygKg3BH3Naa6/8VLAko7LnJzmK\n",
       "r4Akprl7kAl5r6AgLWuPb0hqncEeuACGdjNZQ9ZLhuyEg4lJJvT53xVuYSiJaWedInvMZfZ5QIgS\n",
       "1ilyQvLpgy6aTRjXyx7gJz0EeB9v2nlgGVzbqV8i7IyhBbPqp2wuq9FDGqm3wnhw4WWnniplxSi5\n",
       "AAAEzUGfKEURPC//APf72C2HWUEs3Fc8WJR9BlYXiAIYqRXXCgJ8bWO9KcLHPiTaNqZljh4kW3DZ\n",
       "g/m3NUg6ARfTfe9EJwcLpM3O+bcng9DfWNnCc2VD5Ak93hdM7G65aBqNYtztSk8qXCNeWlWMbXNM\n",
       "Eo7b1t7SFhMLm3+8YuSq+OXSCJmECrzpNLZv9xDYML1eZIXbeFwKVKvvOCp/KXwYoYwJEQsgryPH\n",
       "v37iQJosRRw0Ah1dTxNS8C3Mn/Wx9e+wrz7a95TsoUvWKBrRr6wTAojiOBst8nHO7421IafIzzqc\n",
       "qezQkahMlSdw7seF9dTD5DjnetU8QYJEH3epFi1okXJaXI7EQfATel5rGa0Xs5u5OQwhWxkxXBLw\n",
       "1M2r8ooZ8JAubvFwQjafaBZ0kOTfjmB9Y+xpv98EeccfNU3pV0U9laL913act23oKR2OCw2eAA4R\n",
       "CRTfVVxu+Yw9MLYDeRuIaRKrzmHvrF+bieiqegy1OmnFolVHfrpuLIyTIz8zmmcjYChClmXSczQ6\n",
       "77Mb3Tzz8y6XmXjzOrOlLRAMhDojOhd60iaSPJ/CbBQFYP5+BFW6MyiGdv2M3oyrpQZlzamzEmI3\n",
       "BOTRuOBgGzsgXgNy5L/32qtIXWrGZHG1ILgQq7RQVqE/WFchARGXrtpzN5k7f2eM7pRMSQjBGJ1F\n",
       "N9FS8XR73mysHlHuJkAvULMlSX2PNFBr3bUsOEQ6On4b3cacfbXGcguoElDjShirADqSCQ4rul+M\n",
       "EZcGQ9UaflsOuRWEwhhKK8hVdtkebXxNYsPEaMXQaLbEPdmlLdSBtoqakRaF3y95i1USEiW3ltx8\n",
       "L1EpXKnY+iWp9PFR8I1wM9YiO/wgkBwPT4Eh0uK+rotiuBNi4qdHZ9NF8Z0EToZDFUrI4xqDnwzj\n",
       "wSLOtpyoelolhDGzJ8ytf/jUYiU1HLWp7EfWgvxX9aUG6L6eOxSnNyuYKTodC02bA/cjZpyX/Dx8\n",
       "suHxBc1IlIQKR5gAC140+xE1jYk8T7/dTYl4dfC4/1imCjK6LujleSC4c7GgK0GV7p8jeZnNLjmh\n",
       "ANoqQNYt87rRZXIxGR3urBWeX0AIqIRhjUjK33phRDny7RRGHAQ9En1dkvwspeWVRrFgpNFAsgvx\n",
       "JPbPLBeAsUoO5EAQhFfS+aw5MI81+nR2s4oJtsngHXnf9FtJxpJK7eHTiy6Z0sxG2knyi5/P8r17\n",
       "142VE9cvBeDbEizm7Xb6rHYznWVsVUYWaeOqHMqdLHE3ercFFrWoGGE+hvG9N4h6NFGVJCD+IEsm\n",
       "XeTeC610IcdmCkclmN1SWkBrzDMIOi4gj2Tinfgg6gpQApQ91VSjuZZzAQT4jL9pLekn88eoFenH\n",
       "dkMTDovhisMA9RyILE9knQ61H6s+HCVQubVAlysgXjN1jlpdeR90brcJT8C1LypLxHvE0SVORO/R\n",
       "QMtZGni3dDOZPtKcwHvikfUMhbIpYdE15Vcikvt5Anr3w5SoQ7mZFryCDPa13v9kaSGpTMzSNYNN\n",
       "++I5scIFVsob16JdQBwJJVpIauC/0+kDi4jVfAcF+V/FkNLFLbzZi6dkP6IWP9WiWyun3EeYwcMg\n",
       "D5vyu8tFCuWDy9FVNl7VKKVhRTaHyDyfd4foUfRYxKhhEsiYAAADLwGfR3RCvwFaS2O9+LFgJbgK\n",
       "smvbarABxNega80e2duwHYpGAsVS+D//REhUvGedmpw+RzZUGmE3Y/Tw832J7YPO1WRkBZetkwAg\n",
       "Doi06VW1HkjBuhDt9jiFS7/77pxNG1HOkBAR+oLdYMnbzqZ9H2iW1+Uz7Nv5AKdt21r+YSpfPjQD\n",
       "iGCkuMIqRTi04DtefcZUD8Y9iKf8r0Y6kZx/8CHVg/lQxPIlFUca+rsz3k6/QZHCndcYY4Bveo/G\n",
       "phwO/JxuVxpXfp/oGRcbq1xKVuGaMhX/WzKAt7MCXZOXnB4kmwskPJEVph077UwyV9p//FqYMdHA\n",
       "kml/S5pZwCy1zO+XbpEVbcMdMNk9vG0GdELe4EgYQeJLOTUo/3OTn8fBhiZMCkdWnb8DZk0kgofJ\n",
       "6i4drmCJamX4GjFCYLaxz1zE80HVkLNORqitunq+YRLxrsX9JdP/2nDFp/dRMBbC99gLCyAAbATT\n",
       "lE7kvayFCqaaR7iiiMKdkvcNf2ZPC+9nstz5zRll/mHK4e8vCmAyms1JvwGhGrUtD2YYdMMdsz49\n",
       "RDS5VejtWBs03ONxYcLHncRYMyxUWjVvuz6Dp55KdBzthMaIThNx0uFRJXQ3O4oRxpiL7g2oLItR\n",
       "ycjrqN/OpZ4wAc9nczdV6wE+BKQ1uFqNczyLTsRcnhNPq4T4Z2weqoPW8rBY+BWsLUYuIB1YH/RB\n",
       "KBTNGi6ruVpuZvWk6s72H+REUuITjfzTztrkKvVjnkVzExTkULjb2f+Ko1/fXQ1BcBTpNlaw9tQa\n",
       "Jlvvhcy2RswsL80QW+0yBQ+l09KY6ciPS5Wzk00NesJH4dU5ojK0qWxZNIZ0E6/2IjgL2HyfVXa4\n",
       "XSkF0BH7JbuF/V0hpAuEq4ish7GMHwCsFj9278gSyYPiNqgMqCmGa3HOuJPbuxMDJf7oRhoRQF9g\n",
       "hs/oFR5wpE6eJ2ZO0koajGC04PovE/ONlj4I8M2UuxRHfFZR3ieCKj8PdLKRFo0eHYNzK2Ne13Iy\n",
       "5kkHecmLYXokwvD3c1IFIlQn4GxF8VyoaKmP1o5Uei8lLf+1C1U0PWSswfCeNnKzprYKKazTrXAo\n",
       "AAADVgGfSWpCvwEu13Kj4MUIdItKNIdyAIWy+gI54hGp/8gpeiJ7+ENLU6X5HI6dTSj2ShJkqrTj\n",
       "K86cjYmeqpCetLy10sEGJtaRlCBc61ZonyiwBQLlqyCutCgzZX6Mkc5d2ot9x9osu2c/JpFDzDOu\n",
       "2nG9aAqJqjB9y88wS5M1QdiS3i/12poEgG065OixLC28O4/raAK2Y/s/4Isne0CQNpotIzmXz7jS\n",
       "3BpabrNQaguZ5umH9HNNW6pSG9/Bc4R8My4GYW7G4C5vwV2dyfKzBH5iuxwtIVoYjFs2SS849ua/\n",
       "CT26ROK+lbtcq6ZftNbFkzqCduG1aaMOttV+XMLbsQU4zvJTl/n4h4Sz2nAcexfGiNqmP5CGNG1M\n",
       "rEiA1E4TuDjE/2VqHb/5NZU9uvpfcclPFEPo8XfCt2g+1aUpCA3Iu/I14vA42iQk7eNv49IHLb+U\n",
       "ARFKjhCL2haIUCaq7EvqAS2qTlwlGQ2SUxiLuxIfTnqd8gbTd9OVKJNGfTZKQOmHaIbIEMjzmtpe\n",
       "7AFTUdDG5GmkqHLdHtcVRqrHOx5FdTa9+xu/1+igIf5cZ84rypBeUya8eZqkt1TV5DLAgjD+mcp4\n",
       "8N6PGpTX9RUTlJFgytABKr5yun1xF0vOeux/xbjIP5mQtUGd/vCb/4vDjywFFo0hlkCOmXasp3vS\n",
       "Xj3zp5qWxD41/q7NG0SlQkM0oe7OGohzqEkczv0NeS3NOxVFBmPMQkj6SDEqYWgIoHqYdEKTQj2c\n",
       "nOFRXI9Bzp7oTApNQfzX6Q9/NjGFCxYODPD7SVv/3wCwsUj/vgZcEYoJHqAE4V2NT30C+NV86xE4\n",
       "SSWouPzvq6WYc+Q4SUqhRZPAN9UmDTWBghPUhYYE+YTqs+zWV2JPpKlTnzCCe0CggCuv3+zjaZnd\n",
       "IgrM5hbRevLxctCOi1wVRezbtxptP306xSuBt5YSXoLcqnw89Zdh7X+rVhz3TvtscUAtZHN/+/JM\n",
       "ac9XEL9AwuO2NTEG0guikWn9QfzRzMPZZC9WFKufZ+/7GTQcZMU7rJkXStudCBF8YYOe0o+aCgnW\n",
       "tXjo69zBquHx/CUwG4nEwyVLFLE2wNOS+6AG8cAeQl1xIuSh2/VsHDGbsPJuyIFBTTARBqUlS8kH\n",
       "tVExAAAEekGbS0moQWiZTAhn//6eEAYIaqy0JoUPUV0921sqzWTLBpDcLwtCaIAQIdN3iBh63Nlk\n",
       "OWxMqjwULi/hU49dvM3kyrVHBe5SwYXhvp5FNTrY792v3+UsVlkZclq6J3SgNEI/IavOaY1ONAN7\n",
       "9eWKpkjCC/SSgd/3ny3IG+s323shwJeHQkb0oOBrCZ7zf5FL5xI56lGK9wuSirLXD6nyjDijQ0Oq\n",
       "+GHcon9285PuiEqE5thrdOiGOBq3PyVH+puDNz20LNERtf0Rw8v3eZlQEaWcjLa/WRv43jnf79+v\n",
       "330MxX9Rf6mx5rZ+NFnYDW64WKfF9PChmjoLcXEFcZB3JwT7m4fUVKCAYlF8SpDM24R+oBJHkwPK\n",
       "NUmjOmqXRVHg9WBYwPPh4dFBoASkKo9HeAArzDAqMZFeyYqob8Q4Z/Vf9W6tonYAROIWJMkr9tSc\n",
       "s/SitK+BXm9+HNV1NQUOK5vVRxFDnnP9oTExDyN/WA0O4czuqA7qq21RHEAIKQbcr9EHdh3Xj3Yo\n",
       "Yw3VEPyv/TJD5WCIRSmSLSS7jl5Njlbvz6S01oKLmNe86BN5Xqotpv1vibZGC08/00dtTXUIffsC\n",
       "Mw/96G4qjgSzIAyrl/Mvyr4/EdpEGzM/BY4NasRTioiz3ORd+DFDzcsy5UwsjLLmL/vScRnhSH4c\n",
       "DnZ4S3x6xpOjGL+u8GvGI6Ov7vvGTzLX5BiwzdGP/yzamyD0dojKMHslZ1QIVnRlIuivUvQH/ZZW\n",
       "sNhMfTtsURUHU2k7Ggp4ENYbE6Qp1iCmtSn04EJp4lfoujo12rQUBMCR4m5lSxRnRVUX8+CHYmWF\n",
       "N7iEXJAucsxdoydtllRnecAytirMmFi6ZjLUb0Gm769Pmxd45n19lyOflENPvZX2NCk+wCxUhuXW\n",
       "jPvhj5iCM4Y3xS4Czl3l9Pec9XomvuqQEpgC4uMDN0CGzom5jMeqqHVNhFFUVjkM0D8nFy3uGJx3\n",
       "UXFiYHNuAF+f4wBHndbYToct5YEFIYZN8Ajv11wQ1Vk/X6lWmOAQaiDxHCbR0QTifuwozB6wSC3b\n",
       "/CtYPVk5hoaLt5opLwE1GDuM69lEseYtYcnEiG0KeYRitOI3Ox0Vpw9RdBaFNO9IeFzKUjd+pzNa\n",
       "uDPOOIKZDY/wdGb4Xpzkw+xNij80JGWpX5pnjeKT1t6nrHjAxMiWqFaPYaoHngI/zEI5IM3qF/V0\n",
       "SvIFSt9SkiTzzBYxcXs392BnaFxtNcSLSW6FF0VEi1KpHQPINFGuKfbjuOL3jQ769mA1Ob9y/lR7\n",
       "mDDS+KynAuyFxMs+GeuB3emDWGJlSeRy4qQojD3+5FgNIjHmRxwCSjdl3QvvpNGqLaA8TRT8FtPp\n",
       "MHtdxaaPDtoLpPAMt88hdO3e0ICouwUWleJzCOCzwUzfyWeDPgpf5B+rIrTYbXCz3kS0gE2O4Ui5\n",
       "WuCkTI2cSs67HS/WvL9gT+Zq4A+qp69zWZcOrBFdk2foXM1dLyKKWaIUTTc+82N/NIhql1DjYIAE\n",
       "CSPaVQChnFe6RHdfwAAABw9Bm21J4QpSZTBREsM//p4QBf4+2iyeAyp3TUcwow/WwALhsbamgT/I\n",
       "HFcSm3ZfnbBswGEX0MNlFebzFS9n06mq8HTPEsnHP81nTUlao0pGD29m2YfSfGYMNL1hNVyjeEQa\n",
       "yLPcmhF+cAvbfQyCjBPBpxXJ4R0DdkU2hNYfeuF4QDIj70o7U8prr5z28po41wj0L3i/DNvufpb3\n",
       "qjvQotOyg8GAnzfu+AB/Z2y1sie5NysaqutbN6EjOqGO7MhiZhUPVV5qNFcac5f2KKgnhipTslet\n",
       "NjMMENnhd1WWPX4tDg0Nf4a/uCvExlt3OrAR9Lrt069xsbMWyOD+b0Dcb0/LrZ5/9VxmQKgYJnDH\n",
       "I8n6DeKb/N8mumW7YgBr3XpHH1UtJk8RjDJHB2A92EoqcMfaMXuTydTX22C1Ot2SDQCFNeAbS/B1\n",
       "1djdRtiAGLe3QZkovbzdbJdakGEHCYnZVJczFlz4BKxJvFptHJfaWGiGplifzWJpjSoAryBaYi2H\n",
       "e+Ot1kLfz4QoHjc9/34YyLPqKdqbYF359Agl7ESLmYFve6NId2Yg3v+pRsamKDIUrRrrAZY3RCMr\n",
       "KpkZ9urJ7T8kzxDdFmZIG//gL0hAatSK8A0S0BwebBvu1uY5cvUuNsJJRClHa06ix1OUo3TIJ8u1\n",
       "zsvngMiVlYzmQIKuaWBJ6cCPfjGkDIBFWIWX+jmT8eaWyLHCrnR+kId1YDdUrn2WY0eTJvrS9saV\n",
       "ng3hVkobpjeox3EGmErHw/IOgzUPFseFSuj8ZFpyg/47JDG/b4kU9iVUvQbR+f9lyM/X1hcrIqG1\n",
       "orM107nvaXT5KnZf6G7kIZqxABfuWTYPzgsu3t2PIAR5Id5GqNomnD1O3zyMym74/n66IiAin2oA\n",
       "X0kVddrvrV1dX4e8uVNcGBeQcjTbaxonducddE0BsIua1y+YdZDhIX/1faeiwHQIcdDjNYBDgXeC\n",
       "NX/1NPCuTTEHuHyR44bzq9Fs8Jzgpo95c2HiJOs+bGbTIeN1r112uo5S92UVJFRESTY2puJraNh8\n",
       "VIOhEJaP21DIBWGpM9Vi+hBQqtH8WMxOLBY4J5PMbU3cOf/Mu/BGZ3i/thJWzN1/dNTHDK01oxAb\n",
       "GXgBjS/TNxALRSuovoEKqZxcWktQKOs4MTcH5kYEtA7opMEfupBg1yt0Q3Zo6pGef0csigIrFfEI\n",
       "o7WNNc3EVPWNSQKeSyGCz1ZA6StQ+XCY4oH1HCctqcKoNCeltC2H/0tGl+wjKP5HGJxpMiad7tDc\n",
       "Hrblbp+fGftVc7L0wLxQkLby9n2A62xHZ4Z3v7IKaAWoCg3DbJw4Tt5inWTYz9NIq8hKdEF5y8L5\n",
       "6ICXyLbXoxCfQSf9eIt6JWCrwRs+MGDNRlBOhF9UX2iYkx9cWslpdCYMLA1ns412mZ7yzzD8My0p\n",
       "37skhXjWLOe7S6Amp80cRsZMFYS2wz1Kh0zQ0pIINXiSRbnYe4Msjl9z+I+4xV/ji3o1rrzm387h\n",
       "XIfpgv7pi5DTt980Au2NxncNz1BpPiccJMN8+wewBrx5boAP4jT92HUUaMB732GFktxQuLZGiF+e\n",
       "4IeglGwTKNAReuGejsRy2flYEntnhvjrWdrKeJ7hKITK+b8h+AdFvBfzgT2QE22QZnkRcteRPCL/\n",
       "DQVeBiz6q3vafSHOK4s/q/NiSqpNuh9cUnUx03FNTkQW4UWeshM9i2UDMYL0wKpmTPDhlvagz8wn\n",
       "LLaVsrv5DACX2wEYo9rR0aD1tGi6USNuxGjXyuiuYz0iiuiQX7FTWcRgWSJAxPHF043MDrftYeXE\n",
       "N6mYrFmUZR8TIInJu+7U/U3KpBOWKTJ1JivuDo7bykHGB5VDAUSERhNFqTz7viX8y4DpeSXtZ7/e\n",
       "2L5rI1oix4IUA3e84jv4dx+d3xZ4Enk95aZdDahidCYvbI5SaH9Z/Zxgcx7Bg1ZxXoBLBgO45+Yt\n",
       "LGj1GwabPA8Y2TBDujgyEB+tjKb22hFxvBq5P9WNUHHIfY5r/nGK34t0FB9HI3Wv66Rskz7EIhoY\n",
       "rd2m9v8HPLPwpOzB0v18JzAcaqxHdstt00p72yaL54KlDABTKF69BxROpoLb737n40EsJhU9fR7S\n",
       "Be9arDamoAkjZUlD18qwpSMyitYxuBb7o7rQM4UfPrKf5EvWsFWoBt2YGRofn2eBufEpe+17pQFH\n",
       "IJ3+4f//ffxmup4AFfnMObqF9KOiPIbys0zUgp2JOGRlYcN9jr5Q0L/QwnhsU/RDZlbS+uyKBBTK\n",
       "mnN6Tv6k+OUgvJS7HE7QRSp+19UfEfzVQQjETp8N+QZreNkNTczDCgANql8OYN8ODStkQw/a+NGX\n",
       "mFmv7fq8WXVedkVNXy+JKAYnrWo9ueb2fQ5CI95cNwkNNyu8lVuJFdbalPAHtECd1g5SPTPuZ0+A\n",
       "AAADMQGfjGpCvwE2kC5R8/du4lolwB5/hxD6QlKwZp2OD8YMCm54wpfox69gsOLAAFx08fYOW0Mv\n",
       "N0Y/csLPCsBBvjy5PAvrxMQlEST3zncGtqaB6CobE70WXf1HsbjtXbHKHXKIRKvQpD1ZBN5TMJDp\n",
       "h4onoTbWz5CKq0745Q0lw8KEFsmDjsyrg0rUzk2nR71GAB8E8lGbwcsZ1yX+Nn7VV5V4gKAteXUj\n",
       "lVafTHJpsv9VUatMVrZ3GZAn/ZmfIqSV5DfQ8Br/QV2jNIikBPfxnyaTsicggm/cgFJWgmHFT4Yk\n",
       "Kh4dKF/qj1t3mbqPlPrblloBETiqFcA2oZlHfuoB50heKpHo6p5YAaH7/+2LtfgORhIaeXVnKmhF\n",
       "P8DwfjdcxLiPwqDmnKs/1CG2AmD5hMOgkfiqKIDUZ4qvxjZgxalx9UvQbhFlSL1VoaFtWXAgOOc7\n",
       "31SzmrHOQS//RwathW5prH49OHWA6tFZ2NkjoRhWGtFTOTekhmfsga0KNnYcLPtXwKxSEX4Y8R/M\n",
       "rMWrq/Hp4tDTtcb8p2rwPdFqyp9ZpSJFiiDQ8DrO5kUFQY6XAbT4w9GCLiW+6bDWXb1OiASlgqnz\n",
       "LfO5YzqZtk3DVRTASM890lvLNDf9r/10iVq8HXLWXdecIs8+z3RIwOjsPeTvTB32Bg9mquBeVSBC\n",
       "wlrcFSzo4p6KhVej1awUzu3UHRWR0u8s0NcvgndMZpxbQNQTF92z+gezpdq42QkAikpxoNGMV2+s\n",
       "EToiyKrq1nPgX63Sr+nmzGjR4ik2HldTgrNS6jsbEBDjM36Y1S68zwpY35IhN2SSkOYT/uqse/nj\n",
       "C77+U09N+agJfbn4GWdP9W4pUHrK+oXy2E41vQOiE27wuyf2AuXejKyC+Fpd4B4SuVDcCM7t5tp4\n",
       "Yykbfda8/PawmeU3crNqrggUhzepmoS08BsAQ5b7v4wAWJRQaZPPka0I8L19ZJQJp2/fVgTGwWF5\n",
       "ZCPzrJ1ohHtyPgz+y+PDQqdHfqzvfJ+NDEudCN5JSHTW6jys8GL7pevPR4ZEqJPT/+pm/Ki+BrLK\n",
       "jKX5l6t9zNlZJOBTkZFlWpW1nK6HE8sAAAYDQZuOSeEOiZTAhn/+nhADWu7SgA9n4RyMu3TwmHXq\n",
       "mzLARmoalMjRABjVagJdeBsGPR4PikNwqu7bgnpTkGKn7APmH/nxNEPK5b1cK/n/8PmcXCuGav+d\n",
       "IlJH3j9kZ3sbsGhvWlQhfXUj7NnrDG0P3WrQ2QUC7/ISwB0SiJjlXpXXbrUOeSAw6AdjYLGDrTeC\n",
       "Sg5wIoSrHngtNdbxhgoe6t03VVfsS8jyqiq5VinUrpSiRtB6THlz2IcKZ/dCP7LlP7tHxqv56jPd\n",
       "Vx8UzT4JRBofC3F+mg/mRSH6eicTDlySpuUyBsIsOkIB+tBuoMkTHt9+ku3TSrg5b4Q61NLEatcr\n",
       "yAyaLcRfTyiO22ylaEIRi0LAWOYq9sTn3gvkIXJN2I69qvLqYZFmqd3yZiStMXmvzBf28m2YqIbM\n",
       "UecsTcJjuL99ADuL4gTVPP8opW2+wCaUXKt07REPXITkH3kLJODBfhC+nUVosv12yX8mJfjC0ED8\n",
       "cyO++rDX/mauqYgE8iUwFxPdC7e4QkxszoUe3AqhmMfeuIsizl1YFkRTbTEz89wSKaCP4bUQyVpX\n",
       "/Ar98zq28nTLdEDury45zCurXZFfkYRZexnAfyYY1GMDWpFkxvLtrlb0EaEHwsIutr7DOEl097Gk\n",
       "VPpVc5+sdA3wSAWlEW5rgzI2Kr3vqdi4gyoNdbRVVG1h8CJdzQZcPnp9uJDw4A0op6AnNQnRWzLh\n",
       "cJH0ft4ly3rTRW2KLI/9AW6JozKxOEdxcmtUHeujh/MInKBYQoBxxK/yFXkoRhF0RESrlGmTpSl6\n",
       "WCG7va/zUSatp3mI/iJn/y39/YxjAtMr6EIpi7tzQogUtWYXYNSyfQWSAzxdDMHpCfVgnI19Zoeg\n",
       "CYfMVBGIFbcpCfFxn0tYl40/NuXvQP2CGfkMkTHS86/s7AKC+HoqCehi7vRMrzRt3Wl5cuTLgxZH\n",
       "6ScNimUjs/sd6UbrQVz6HeHXP1fSL0K1UXRkmIzFbVHQotWURFykbhWbpvlk1X7rdWvbAQLfW4c/\n",
       "xvRET8ZufsMnIz6rVlY09i37AbIvPRxsJHluTghTfxkD1SDAmizC15z2CpIi2F2v9SfpKfD4Dm1/\n",
       "0PEoefDxy7qn6vLcOq6nJrssOvm5+hHBjc6jyZhoQ8hr5RTul9Imj45X/Tm+9oIaBAAUkO/92q8d\n",
       "d3+gRqQyRYxLaOJoeLeaqTSep8XkiAcdUcKupnDgJ7YsJ2sB6XB5f72jKTmHJZuisAD3fQioLllp\n",
       "ZjGlb2JnMv2kfkTPe1AbagiysufpskSxpmeRKhPH7n1h0+cuusFUCnd30pcbYzV30Vl22XiavAFC\n",
       "WmDgn2CP9plC9durGjYbbccgxF9JIbZ18xcbs4Y/pcV2eP+ir6celvu5Pv1b6mTLIV6rYwBevgh/\n",
       "yjGbeSd42I3OOIc62SahONk23NylnVQN8De/4Tvsd/wPghKTSnRvKtnfjM0PeTVKfNOvafxNq4/K\n",
       "oegoy+kcw6Kw8sRFuuggJAVOIzugg0gnLjcoFzM+2oXnL7ogLb7piVuUZy3AVY7buY08HsZV7VSJ\n",
       "RIiAVnqUopAtUcQEUux5+EPk+I67HlsnfcCELEd3+oLAHUZb3vuM+ZtSad97w1gOzWlMmwGeAWBq\n",
       "CuWtgx3Cina7jvv6IGIgCEJrD/r2YRNotKNdke4naTjlXNkVpvRSBr2WIybaLASJXUu8gZJRrw0X\n",
       "6t5OaD+8gQQ6cW7VgAHTD6I8THvxM0RzxlMkwPlq8hTx8mYw8ZSDN222Sb1HgFV8uBsI/3T9gDbC\n",
       "ySZs1lYnOItRgEQO/2OcuEZnKi9SKvnfBw2qb2JGKIOcBgU1sg4vs0srDAyhTTbyejCVDDJdsvam\n",
       "FR6Jjf8ajJYwmJVbwpZDZXXZ9BfP27uOq9ptfrXIMOOTxUBIV0eYYpGqFKw1A4DXdvJ+y9vJIYVr\n",
       "6FiMgMFJoHShSJvFOC7nv6MqUR6vuWwA/Jvm/ARVLI4wrozd9QNgFRTEbmZftxL01avfyiKq7vtV\n",
       "/K2UNuyoors3YKZo4FW87pHh0c6qOREHGfHBAAAGfUGbr0nhDyZTAhn//p4QA1wkQZt/EAJd8lQG\n",
       "72xkQ6bhQR4DhVrolpZc8AJpQ+YJQUNv1WbRBs6tlXITGnEiyg5bqmvxbLRpKuYyPjIX+45bsHL7\n",
       "F6H0v0dTZ4zj+CK0AxrSGff/pYNtQ2sjxpRkAKBipWpo7THKL9JK1dlBE5DM0PpbVFOVI2LL/noM\n",
       "kSPif60sH+1bNPBqwORy56pxuShyiBjOLARW++5N0AtsbrN5mo/RQdPQifRvc5chutFyFfSSp+78\n",
       "pYIJr0om6NJGnXxH5mRY2pWxmthqNAzKSvzsVwAGD5LG+Gqo5e4xHKVx3tHaDvJzUXh9WfxesVul\n",
       "XwfcH//Az37fOHFQks1NCEvrZGv6MEu+ho+jwiqJ/o3w6ui4wSlkXg5iV9AgXdqb6Jd/8pbhrL56\n",
       "rayLdnteZtF/p+adfUgHKYzZRoD4SyFhrncfzZcyvAsknGx7rD/cFYlANVI8BnOxGd1rfLrbxAtQ\n",
       "lMSssDdDx1gk+hcwPxdSNl7sE/0aimQck5BIqh6tJG8NUHH2x2QSHPhLb+qau0t5FoNCmthPZPwI\n",
       "DLLjSXZNAeTf5vqrJaartRsXhneblQXeEP3F6aicRGMbWX2MSiCjnztH4gzXcRFidP1pLW9b1+dV\n",
       "+QyEUwnCkOHE9xqZ6+ktUoBvehO0n1SUzl02EstKjgRVntvI06OGOA1ILqmGtj3PRJqUWQyQX90y\n",
       "NwbgWG4RqezT9K0veaS3905BXdhhxCfkZkC8KWTgAjhW4XxHG0jcPV5FMQrsGQ+ANBCANDf/GjKO\n",
       "VVXmHDjnU9FRfekqrTygdPbD+917HV/bN/JJC19//oSUSt35DHMYNy4/+Jumh6vK0envyLv7WJwL\n",
       "XyGCmiWgyeFAC5+A4GqlbQcl94mwGjEu4V07oZ/DtG3MiUTptD6bh0ZINPyErYMHHd3999zcHdvf\n",
       "2+fDIbLTrhX83SZGr0gc8ojNsrQK345hf/zUMK1d7juxK73o9EWF6eN0zPXWsDn+LgF3AtzZxJ/T\n",
       "sSPC8qrC0uNUqMIXpJSiAlbyheCEX23Jilho6cAKCRnZyvKQ8ISVjnSvIR6v7Ytmr402nOpq8Flx\n",
       "zL/CvtiwfcSTUtgubNvp42Ebx5Q/n3R7SmMK7kTy8PYAgkb5MOxnT5FfL0IU4KlzUaEfRYQOdsHR\n",
       "uApSpYz1q93qxu07WTJYax1f3167E5y0ftDJ5txXU66E1Hae5uHsk6yHv2acFGx3fNzuVemdxf5i\n",
       "0JdCym7jfjWeRbjST01om12jytRFqcinZt89pcot8klxy2xezlIM1k8U+7ly7ruhYpoQdix2yd4T\n",
       "gFLSrrUt6d9hl864KH8Co0uYuRQEDDjhST8HLVD5lRv2NDwefjGNlDV9M9gkB4r61dDCB2XcaEne\n",
       "UdQcjLqruFuW6EMmOKhovlGMc8mOVnvGwK4u1LSEDmnHNiUdFtH4lrNrTiz7p8x9xFVjcXW+Sq/M\n",
       "X3WpJLYCV1Tg+iB4DOISUikfdPO0DT2buZvnz2+r7EvniYAg3VylJhzBXUS4z1g1TPfOMEwsK7O7\n",
       "tnu3eZra+9tIL1IbjlnNeE8at1+ef5VySVRtpjMtpYd6khnZCoQXa1XNShRim8F4my4kChVR9ZA2\n",
       "XWXdDijKDFuCExK8q5/wVEYPZEzs2lu+9rkoCz5GRLqyM1k8xvYzast6YmA2ndRu5NHgpodhGZrF\n",
       "mfpkECwDrq1V1XlkTStNuKz6uoAw0m17NnSD7txXHobUmP6AwiTdBYgoxl51SeW60ZzfHBYC5Sz/\n",
       "7BVEIrY45bT8cdDRYiEpy/WCftwNAuiU3j/XEKnb86YXUjAW1IuwqQRMXlXEWAjilcjm0xEDbpgW\n",
       "9oKExvxcjpfFlwmTmN2z5Ja78Ai8thH9JmQNHPl8FpP7KrrZ12qF4+29zofRPg/hXRPNZKAA8BCx\n",
       "LgdyEpMDiZ8Dn+SttQNKGhoOnun6cKgi+AC+JYFeMNCk5aR8vHHdHfxuVrx/3Ukwcu5GWi/7P5LC\n",
       "oGyjLfh3nrFzGjGsuR7Y8YA6q79s7OAdrNB8lB5fIi5Gl85sGv6qjr89yheJ8fTCiafArCF7HMZ9\n",
       "k20FUN42WCmmTm/nqsT1jarxdT+D6lENnsQZs69gS/6Iyf6I5G/Je3SnOYrn8FFx/tR5F7Ufpe0Q\n",
       "BGrMFABqE5tSAa1eTG7aT174bLFTS+Ltn3bd07EpLAIgGSOmCuOBAAAFNkGb0UnhDyZTBRE8K//+\n",
       "OEAcDo9oAO9g2pOppzWG/+Ap4/w4kgKn4Si4YLCNFT3b+BeevEym2QVMaUR7k9hf3uZK3RU0xQcq\n",
       "bw0XwiAQuHG1yG9XXTHcgrKtQxk+RYEIuaBewwupdNaFJ1SToIIF82qeDZ5ULEsKLymrQ+4ZFj+d\n",
       "rK2mRuTSMcOABLFJPCufbqW+8GZcHGskf+fGkuT3s1NasQIgcjoDVNI1B7GcvS+U91sNSrz98xOj\n",
       "hLN85xMBx+SxEN15yz1RJj/zzMK32qmv2xJfyP6xfTZFrEWRqsh09glm3vhBo3qD+VOMZSYGgAQQ\n",
       "ou8/LzQSYzq4nO6YVXOaA4VuZGY1T19QQ2p2dhglzaMBHGyL7aPOc4jlPMML67hhrl+MHhRIX8Bd\n",
       "c5v2c6mQPJJ8tBm+nLyzCWgMF6DbY1htxXcVyE9Xwd+ZeDPAH5+G/p0m8oYxtVw+x4wzaSBrFH64\n",
       "vfSrnpqyySyEHEnfOtnKBbIh/IvtiZD/XBt5q0TEJKrgi/35jGs7rujjWZtyG21AwYFTzS93sBhv\n",
       "y9pzXmiTMt4d8xb+sN7WoT3tM58efZqw11KDbGiMtxmFQ/cwNYbZYrj6BK44SK1mvTA87UD0qcRY\n",
       "pydjZpjTa7/I4mGU1tna7+EqpUFWuKf7tszPjdT5qeO6KYUXKn/Wg8HAHFrqDlMUuQNE9ICxV2q6\n",
       "a6oj/j+cVzvl48S1UIBYjuZsQo2Skh9wSVypL50a64H4rBmMKvyUdTaguXQ3BPsCTaALMW7n7uqw\n",
       "UoE9Rfq3Yxv3nVrQpNxl/7fnkIj02w4xjRtiIR1H0P1aLMjqFC71wgFqUlMqq8HIDUO4c/WexRr3\n",
       "yuPj6iuWHyvYaw+4RzIzm0IrWeLvyK7GqBcLilFopvCYdkopbVngNHzVL1/r5S21lZrRDwEMQZC/\n",
       "IT0mYCKB7uNa9LXReTM1Yf6iLYxgb2DhxTT59EKMV7fHfHuaMDVYrY7J6fi7Ivs31opUjlZ64QjM\n",
       "maiAQCoS7Hg3IyzKPIE0Ml3bP6kQwKukLKjlq9Ukjd/CX+WFDRkHGEtVZmXAw+fj+iCEGMZwopKu\n",
       "mcjAC5lX2VQmj426fbhWQYYmqchomBQ+DbG9/BlpMBH0Sghn78h9j2jSfr/qpw0dId0SceqGcjbF\n",
       "N4qlgHuSyCoAOBIVcLD/hHfAYp80NBfiqFioN1rpIsKKp+ij9l8dm5oleiVmiVpe+d1lqf1+fskH\n",
       "Qd+HrHmCr+mLNYqMC0p8VjoT+qtB8ogQh+7WET+x+8N8cMA8cPWPIJF0ovh/sDlueQ3clpXVrwPN\n",
       "VL7JJ+F687zbW7PgXhHVjJP9gdpy9/UhzsQC3FIEPGTtGLdMi90D/NPvtFUEu9S+mw1gUjOY8mhG\n",
       "TiuON328wnW9J1ReV/z7iQ0LrVCHd391vat4POldYWvxQ3BoBjmHjES/tTksv+CBVDzzS6oJLQWv\n",
       "mDXA/4JUiFsltzYFXv+Qf/uEj3++prz+9lYutheFktAG5bdlz2TJSegeGg960khqc/Ptfhc1gG9p\n",
       "u9dis3/oqmLqqXyFfuTopgT96iXoz9bGQkOQFp2PCzmrZLKDjnJuCChjm/ZsJ7M6siZUfG79d3o3\n",
       "+3V15UmGfltX40TEHhEA6lIMpyX6Ztx+H8IEh5YUiwqAjv7ANsIwhDwU3kfebOS4LA/3vXL5FvbT\n",
       "VrBpb7Au/GCvVrHYCq9xCmAhzwxUTqjibTF6pwE3taq+QO+rgW9ysbnavochSVK/9DAkyaD5JAsM\n",
       "ERVvAiQ8VyH+AAABywGf8GpCvwFZq2fizCoACYxiEvCFiN0L0HglIUOHj1MtLyWPYoHKMutarTsi\n",
       "lhzMBU+zZgri0V2gKy+uagq08RXOPlU6GmcQ7ru7Am9DEgkm/7kTcA/BxarlJLPffRMWQakhgsLI\n",
       "2HWzBxS1xVd9e4TOJit1Fhy04VDBUkszndeQhfu+Mj0HBchbyQPwUUAi3NQtg/tkUxQPIgJ4Gy16\n",
       "dfl/W83a6r/+banG2AG746pLrr+s7EQCxNvmueTbRwnEPaEZalsrInNGHJs/9KDfUb1EZF/Lwxpl\n",
       "o6LhBWSXju68TCkTJAi8Nq1qyINWLI/Ea0RcumMJC9QA0jy3T5qif787lJSVeHFuP+ZmIj5nni6q\n",
       "NErflTcEzjqCnwhS3suC9j+VwMZDAlMEaGruS1KIbVzZAFUDOsJ2jUO4KXn426mOhKSlT3Z02MOA\n",
       "ltsF8dOoSMOZ0sHcMPVzgnbM6M94w07RZrW2Bba8sMzZtXKkE3X+H3C9ROg7vDBbzskhYuj64f3r\n",
       "ONGKtMBirSkduGYD40ARhsdxhfXDm5tcWGnwoTvC+1zSXFkS2tnfaMTBfcGumxDv9hag6tF+ilYY\n",
       "crzr1dp17RlMjXuvlsWuIAAABVZtb292AAAAbG12aGQAAAAAAAAAAAAAAAAAAAPoAAAH0AABAAAB\n",
       "AAAAAAAAAAAAAAAAAQAAAAAAAAAAAAAAAAAAAAEAAAAAAAAAAAAAAAAAAEAAAAAAAAAAAAAAAAAA\n",
       "AAAAAAAAAAAAAAAAAAAAAAACAAAEgHRyYWsAAABcdGtoZAAAAAMAAAAAAAAAAAAAAAEAAAAAAAAH\n",
       "0AAAAAAAAAAAAAAAAAAAAAAAAQAAAAAAAAAAAAAAAAAAAAEAAAAAAAAAAAAAAAAAAEAAAAABsAAA\n",
       "ASAAAAAAACRlZHRzAAAAHGVsc3QAAAAAAAAAAQAAB9AAAAQAAAEAAAAAA/htZGlhAAAAIG1kaGQA\n",
       "AAAAAAAAAAAAAAAAADIAAABkAFXEAAAAAAAtaGRscgAAAAAAAAAAdmlkZQAAAAAAAAAAAAAAAFZp\n",
       "ZGVvSGFuZGxlcgAAAAOjbWluZgAAABR2bWhkAAAAAQAAAAAAAAAAAAAAJGRpbmYAAAAcZHJlZgAA\n",
       "AAAAAAABAAAADHVybCAAAAABAAADY3N0YmwAAACzc3RzZAAAAAAAAAABAAAAo2F2YzEAAAAAAAAA\n",
       "AQAAAAAAAAAAAAAAAAAAAAABsAEgAEgAAABIAAAAAAAAAAEAAAAAAAAAAAAAAAAAAAAAAAAAAAAA\n",
       "AAAAAAAAAAAAAAAY//8AAAAxYXZjQwFkABX/4QAYZ2QAFazZQbCWhAAAAwAEAAADAMg8WLZYAQAG\n",
       "aOvjyyLAAAAAHHV1aWRraEDyXyRPxbo5pRvPAyPzAAAAAAAAABhzdHRzAAAAAAAAAAEAAAAyAAAC\n",
       "AAAAABRzdHNzAAAAAAAAAAEAAAABAAABcGN0dHMAAAAAAAAALAAAAAEAAAQAAAAAAQAACgAAAAAB\n",
       "AAAEAAAAAAEAAAAAAAAAAQAAAgAAAAABAAAGAAAAAAEAAAIAAAAAAQAABAAAAAABAAAKAAAAAAEA\n",
       "AAQAAAAAAQAAAAAAAAABAAACAAAAAAEAAAYAAAAAAQAAAgAAAAABAAAGAAAAAAEAAAIAAAAAAQAA\n",
       "CAAAAAACAAACAAAAAAQAAAQAAAAAAQAABgAAAAABAAACAAAAAAEAAAoAAAAAAQAABAAAAAABAAAA\n",
       "AAAAAAEAAAIAAAAAAQAACAAAAAACAAACAAAAAAEAAAoAAAAAAQAABAAAAAABAAAAAAAAAAEAAAIA\n",
       "AAAAAQAABgAAAAABAAACAAAAAAEAAAQAAAAAAQAACgAAAAABAAAEAAAAAAEAAAAAAAAAAQAAAgAA\n",
       "AAABAAAEAAAAAAEAAAYAAAAAAQAAAgAAAAACAAAEAAAAAAEAAAYAAAAAAQAAAgAAAAAcc3RzYwAA\n",
       "AAAAAAABAAAAAQAAADIAAAABAAAA3HN0c3oAAAAAAAAAAAAAADIAAB2kAAAI2gAABLsAAAG9AAAD\n",
       "vgAACJgAAAOQAAAFiQAACh0AAAUKAAADNQAAA0EAAAYAAAACxQAACJoAAAMoAAAIlQAABE0AAAMC\n",
       "AAAFIQAABoYAAAdCAAAHRAAACVAAAAIzAAABRAAAApsAAACaAAADjAAACokAAAQqAAADXQAACZIA\n",
       "AAVjAAADSAAAA5UAAAY1AAADLwAABYUAAArrAAAE0QAAAzMAAANaAAAEfgAABxMAAAM1AAAGBwAA\n",
       "BoEAAAU6AAABzwAAABRzdGNvAAAAAAAAAAEAAAAsAAAAYnVkdGEAAABabWV0YQAAAAAAAAAhaGRs\n",
       "cgAAAAAAAAAAbWRpcmFwcGwAAAAAAAAAAAAAAAAtaWxzdAAAACWpdG9vAAAAHWRhdGEAAAABAAAA\n",
       "AExhdmY1OC4xMi4xMDA=\n",
       "\">\n",
       "  Your browser does not support the video tag.\n",
       "</video>"
      ],
      "text/plain": [
       "<IPython.core.display.HTML object>"
      ]
     },
     "execution_count": 7,
     "metadata": {},
     "output_type": "execute_result"
    }
   ],
   "source": [
    "# Show the animation\n",
    "HTML(ani.to_html5_video())"
   ]
  },
  {
   "cell_type": "code",
   "execution_count": 8,
   "metadata": {
    "scrolled": false,
    "slideshow": {
     "slide_type": "skip"
    }
   },
   "outputs": [],
   "source": [
    "# Save the animation\n",
    "ani.save('VibrationModes.mp4')"
   ]
  },
  {
   "cell_type": "markdown",
   "metadata": {
    "slideshow": {
     "slide_type": "skip"
    }
   },
   "source": [
    "The animation coded above is saved under `VibrationModes.mp4` and uploaded onto the Q.\n",
    "Compare it with the video called `masses_for_04_modes.mp4` of the previous chapter!\n",
    "See also fig. 3 (King fig. 6.2) for a picture of the first four modes and fig. 4 (King fig. 6.1) for a representation of the time evolution of mode number 2."
   ]
  },
  {
   "cell_type": "markdown",
   "metadata": {
    "slideshow": {
     "slide_type": "skip"
    }
   },
   "source": [
    "![Fig. 3: King 6.2](King62.png)"
   ]
  },
  {
   "cell_type": "markdown",
   "metadata": {
    "slideshow": {
     "slide_type": "skip"
    }
   },
   "source": [
    "![Fig. 4: King 6.1](King61.png)"
   ]
  },
  {
   "cell_type": "markdown",
   "metadata": {
    "slideshow": {
     "slide_type": "skip"
    }
   },
   "source": [
    "Here are a few important remarks that you will also find on the captions of King's figures.\n",
    "\n",
    "* Those points where the string doesn't move are called **nodes**.\n",
    "* Those points in-between where the string moves with the largest amplitude are called **antinodes**. I might call them bellies. It is *not* standard practice to do so.\n",
    "* The mode with no nodes ($n = 1$ here) is called the **fundamental** (mode), or **first harmonic** (but really, \"fundamental\" is more standard). It is originally a musical term, I guess, as in, it corresponds to the gravest sound an instrument of piece of instrument can produce. The one with one node ($n = 2$) is called the **second harmonic**, and so on.\n",
    "* The $n^{th}$ harmonic has $n-1$ nodes, and $n$ antinodes.\n",
    "* $k_n$ is called the **wavenumber** of the $n^{th}$ mode, $$\\boxed{\\lambda_n = \\frac{2\\pi}{k_n}} = \\frac{2L}n $$ is its **wavelength**. The units of $k_n$ are rad.m$^{-1}$ and those of $\\lambda_n$ are m (metres)."
   ]
  },
  {
   "cell_type": "markdown",
   "metadata": {
    "slideshow": {
     "slide_type": "skip"
    }
   },
   "source": [
    "***\n",
    "\n",
    "**Worked example: King p. 143. Also recommended: worked example p. 144.**\n",
    "\n",
    "***"
   ]
  },
  {
   "cell_type": "markdown",
   "metadata": {
    "slideshow": {
     "slide_type": "skip"
    }
   },
   "source": [
    "# Standing Waves as Normal Modes of a Vibrating String\n",
    "\n",
    "*[Book: § 6.4]*"
   ]
  },
  {
   "cell_type": "markdown",
   "metadata": {
    "slideshow": {
     "slide_type": "skip"
    }
   },
   "source": [
    "## Results from Fourier Series"
   ]
  },
  {
   "cell_type": "markdown",
   "metadata": {
    "slideshow": {
     "slide_type": "skip"
    }
   },
   "source": [
    "We just saw that if $y_n$ and $y_m$ were modes of vibrations of the string, then a linear combination of those two was a solution. But is the reverse true? Namely, if $y$ is a solution, can it be written as $\\sum_{n=1}^{\\infty} A_n y_n$? After all, maybe we have only covered the set of solutions which were separable, and we are missing plenty of elementary solutions that cannot be written as $y_n(t, x) = f_n(x)h_n(t)$."
   ]
  },
  {
   "cell_type": "markdown",
   "metadata": {
    "slideshow": {
     "slide_type": "skip"
    }
   },
   "source": [
    "The answer is yes, the decomposition exists and is unique, but I will not prove it because you saw it in Calculus II with Fourier series.\n",
    "Just as the existence and unicity of the decomposition into eigenmodes for a coupled system of oscillations was a gift from a linear algebra class, the existence and unicity of the decomposition of any solution into standing wave mode is a gift from Fourier analysis."
   ]
  },
  {
   "cell_type": "markdown",
   "metadata": {
    "slideshow": {
     "slide_type": "skip"
    }
   },
   "source": [
    "Namely, the main result to remember from a lecture on Fourier series is that if a function $s(x)$ of the real variable $x$ is continuous and periodic, with period $L$, then $\\exists \\{A_n, B_n\\}_{n\\in \\mathbb N^*}$ such that \n",
    "$$ s(x) = \\frac{A_0}2 + \\sum_{n=1}^\\infty A_n \\cos(k_n x) + B_n \\sin(k_n x). $$"
   ]
  },
  {
   "cell_type": "markdown",
   "metadata": {
    "slideshow": {
     "slide_type": "skip"
    }
   },
   "source": [
    "And if the function is odd, i.e., $s(x) = -s(-x)$, then it is even simpler:\n",
    "$$ s(x) = \\sum_{n=1}^\\infty B_n \\sin(k_n x). $$"
   ]
  },
  {
   "cell_type": "markdown",
   "metadata": {
    "slideshow": {
     "slide_type": "skip"
    }
   },
   "source": [
    "You may object that Fourier series apply to periodic function, i.e., functions that exist on $\\mathbb R$, not $[0, L]$.\n",
    "The connection is that we can imagine our solution on $[0, L]$ as a \"cropped\" sub-set of a function that would be periodic.\n",
    "In this case, the actual solution and the corresponding infinitely long and periodic function share the same Fourier coefficients."
   ]
  },
  {
   "cell_type": "markdown",
   "metadata": {
    "slideshow": {
     "slide_type": "skip"
    }
   },
   "source": [
    "Let me plot a sketch of what I mean by \"actual solution\" (fig. 5) and \"infinitely long and periodic function\" (fig. 6)."
   ]
  },
  {
   "cell_type": "code",
   "execution_count": 9,
   "metadata": {
    "slideshow": {
     "slide_type": "skip"
    }
   },
   "outputs": [],
   "source": [
    "# Definition of the function\n",
    "# Let's draw a triangular shape, with the top at a point where the string is plucked\n",
    "pluck_point = 0.25*L  # in [m]\n",
    "a = 0.01  # how high the string is plucked [m]\n",
    "s = a * x / pluck_point  # the first part of the string\n",
    "s[x > pluck_point] = a * (L - x[x > pluck_point]) / (L-pluck_point)  # the 2nd part\n",
    "\n",
    "plt.figure()\n",
    "plt.plot(x/L, s/a, 'r')\n",
    "plt.grid()\n",
    "plt.xlabel('$x/L$', fontsize=ftsz)\n",
    "plt.ylabel('$s/a$', fontsize=ftsz)\n",
    "plt.axvline(pluck_point/L, color='k', linestyle='--')\n",
    "plt.title('The plucked string on $[0, L]$', fontsize=ftsz)\n",
    "plt.ylim([0., 2.])\n",
    "plt.autoscale(enable=True, axis='x', tight=True)\n",
    "plt.savefig('PluckedString.png', dpi=100)\n",
    "plt.close()"
   ]
  },
  {
   "cell_type": "markdown",
   "metadata": {
    "slideshow": {
     "slide_type": "subslide"
    }
   },
   "source": [
    "![Fig.5: Plucked string](PluckedString.png)"
   ]
  },
  {
   "cell_type": "code",
   "execution_count": 10,
   "metadata": {
    "slideshow": {
     "slide_type": "skip"
    }
   },
   "outputs": [],
   "source": [
    "x_extend = np.linspace(-1.5*L, 2.5*L, 512)  # x extended beyoind [0, L]\n",
    "s_extend = a * x_extend / pluck_point  # the first part of the string\n",
    "s_extend[x_extend > pluck_point] = (L - x_extend[x_extend > pluck_point]\n",
    "                                   ) * a / (L-pluck_point)\n",
    "s_extend[x_extend > 2*L-pluck_point] = (x_extend[x_extend > 2*L-pluck_point]/pluck_point\n",
    "                                        - 2*L/pluck_point) * a\n",
    "s_extend[x_extend > 2*L+pluck_point] = (L - x_extend[x_extend > 2*L+pluck_point]\n",
    "                                       )  * a / (L-pluck_point) + 2*a*L/(L-pluck_point)\n",
    "s_extend[x_extend < -pluck_point] = a * (L - x_extend[x_extend < -pluck_point]\n",
    "                                        ) / (L-pluck_point) - 2*a*L/(L-pluck_point)\n",
    "\n",
    "plt.figure()\n",
    "plt.plot(x_extend/L, s_extend/a, 'b--', label='$s(x)$ extended')\n",
    "plt.plot(x/L, s/a, 'r', label='$s(x)$')\n",
    "plt.grid()\n",
    "plt.xlabel('$x/L$', fontsize=ftsz)\n",
    "plt.ylabel('$s/a$', fontsize=ftsz)\n",
    "plt.ylim([-2., 2.])\n",
    "plt.axhline(0., color='k')\n",
    "plt.axvline(pluck_point/L, color='k', linestyle='--')\n",
    "plt.axvline(0., color='k')\n",
    "plt.axvline(1., color='k')\n",
    "plt.title('Equivalent plucked string on an extended interval', fontsize=ftsz)\n",
    "plt.legend()\n",
    "plt.autoscale(enable=True, axis='x', tight=True)\n",
    "plt.savefig('PeriodicPlucked.png', dpi=100)\n",
    "plt.close()"
   ]
  },
  {
   "cell_type": "markdown",
   "metadata": {
    "slideshow": {
     "slide_type": "subslide"
    }
   },
   "source": [
    "![Fig. 6: The plucked string, if it was part of an infinitely long and periodic function.](PeriodicPlucked.png)"
   ]
  },
  {
   "cell_type": "markdown",
   "metadata": {
    "slideshow": {
     "slide_type": "skip"
    }
   },
   "source": [
    "While the plucked string (red, solid line on fig. 6) is not periodic, the blue, dashed line is, and can be decomposed as a Fourier series.\n",
    "In the interval $[0, L]$, the two are indistinguishable, and the plucked string shares the extended string's expression."
   ]
  },
  {
   "cell_type": "markdown",
   "metadata": {
    "slideshow": {
     "slide_type": "skip"
    }
   },
   "source": [
    "Mathematically speaking, the rest of this section is basically an application of the Fourier series theory to string vibrations."
   ]
  },
  {
   "cell_type": "markdown",
   "metadata": {
    "slideshow": {
     "slide_type": "skip"
    }
   },
   "source": [
    "## Orthogonality of Standing Wave Modes"
   ]
  },
  {
   "cell_type": "markdown",
   "metadata": {
    "slideshow": {
     "slide_type": "skip"
    }
   },
   "source": [
    "In the last chapter, the linked masses resulted in a symmetric matrix to diagonalize, in which case the eigenvectors were orthogonal to each other.\n",
    "Something similar is happening here: the string is homogeneous ($\\mu$ is a constant), and the normal modes are orthogonal to each other.\n",
    "The \"dot product\" however needs to be redefined, because the vector space has changed.\n",
    "In the chapter on coupled oscillators, the inner product of the vector space was the good ol' dot product.\n",
    "Now, the inner product for two stress-free functions [^3] $f$ and $g$ is:\n",
    "$$f\\odot g = \\frac2L \\int_0^L f(x)g(x)\\di x.\\hspace{5cm}(3)$$\n",
    "\n",
    "[^3]: the physicist's definition of a \"stress-free function\" is a function that won't cause any problem when deriving, integrating or else. The kind of chill function we like to not worry about. Obviously, this chapter is not NIST approved."
   ]
  },
  {
   "cell_type": "markdown",
   "metadata": {
    "slideshow": {
     "slide_type": "skip"
    }
   },
   "source": [
    "The $2/L$ pre-factor is optional and is used to ensure that the functions are orthonormal with respect to the inner product. Indeed, here is a claim:\n",
    "$$ \\boxed{\\sin(k_n x) \\odot \\sin(k_m x) = \\delta_{mn}}.$$\n",
    "Recall that the Kronecker delta is $\\delta_{mn} = 1$ if $m=n$, and zero otherwise.\n",
    "That is, **modes are orthogonal to each other**."
   ]
  },
  {
   "cell_type": "markdown",
   "metadata": {
    "slideshow": {
     "slide_type": "skip"
    }
   },
   "source": [
    "*Note: Similarly,* $\\cos(k_n x) \\odot \\cos(k_m x) = \\delta_{mn}$ and $\\cos(k_n x) \\odot \\sin(k_m x) = \\delta_{mn}$. *Yes, the last one is always zero, even if* $m = n$ *, but the inner product has to be redefined as*\n",
    "$$f\\odot g = \\frac1L \\int_{-L}^L f(x)g(x)\\di x,$$\n",
    "*and the string position has to be artificially extended into the negative positions range. This inner product actually gives the same result for the former inner product, but the first definition is simple enough for our purposes. As far as I can tell though, we won't be using these other two relationships with the boundary conditions of strings attached to walls. We would if the origin of the $x$-axis was in the middle of the two walls, or if we had other boundary conditions. Therefore, it is not completely usueless to know that these relationships exist.*"
   ]
  },
  {
   "cell_type": "markdown",
   "metadata": {
    "slideshow": {
     "slide_type": "skip"
    }
   },
   "source": [
    "***\n",
    "\n",
    "*While not difficult, and even though it resembles a result we have seen earlier, I skipped the proof in class. Here it is, FYI. I am also providing a graphic example below, where you should see that the areas of $\\sin(k_n x)\\sin(k_m x)$ above the zero line compensate exactly those under the zero line, yielding a zero value (unless $n=m$ of course) Don't worry about remembering it.*\n",
    "\n",
    "Recall that \n",
    "$$\\cos(a\\pm b) = \\cos a \\cos b \\mp \\sin a \\sin b.$$\n",
    "\n",
    "Sum those two and you get:\n",
    "$$ 2\\cos a\\cos b = \\cos(a-b) + \\cos(a+b). $$\n",
    "Subtract them and you obtain\n",
    "$$ 2\\sin a\\sin b = \\cos(a-b) - \\cos(a+b). $$\n",
    "\n",
    "* $m\\neq n$: for $a = n\\pi x/L$ and $b = m\\pi x/L$\n",
    "\n",
    "\\begin{align*}\n",
    "    \\sin a \\odot \\sin b & = \\frac{1}{L} \\int_0^L \\left(\\cos\\left(\\frac{(n-m) \\pi x}{L}\\right) +  \\cos\\left(\\frac{(n+m)\\pi x}{L}\\right) \\right) \\di x \\\\\n",
    "                        & = \\frac{1}{L} \\left[\\frac{L}{\\pi(n-m)}\\sin\\left(\\frac{(n-m) \\pi x}{L}\\right) + \\frac{L}{\\pi(n+m)} \\sin\\left(\\frac{(n+m)\\pi x}{L}\\right) \\right]_0^L \\\\\n",
    "                        & = 0 + 0 = 0 \\quad\\textrm{if}\\quad m \\neq n.\n",
    "\\end{align*}\n",
    "\n",
    "* $m=n$ on the other hand, we need to go back to $2\\sin a\\sin b = \\cos(a-b) - \\cos(a+b)$, which, if $a = b$, becomes $2\\sin^2(2a) = 1 - \\cos(2a)$. \n",
    "Of the two integrals that are to be computed, $\\int_0^L \\cos(2n\\pi x/L) \\di x = 0$ but $\\int_0^L \\di x = L$, and therefore,\n",
    "$$\\sin\\left(\\frac{n\\pi x}L\\right) \\odot \\sin\\left(\\frac{n\\pi x}L\\right) = \\frac{2}{L}\\frac{L}2 = 1. $$\n",
    "\n",
    "Very similar derivations exist for $\\cos(k_n x) \\odot \\cos(k_m x) = \\delta_{mn}$ and $\\cos(k_n x) \\odot \\sin(k_m x) = 0$.\n",
    "\n",
    "***"
   ]
  },
  {
   "cell_type": "code",
   "execution_count": 16,
   "metadata": {
    "slideshow": {
     "slide_type": "skip"
    }
   },
   "outputs": [],
   "source": [
    "def multsincos(n, m, first, second):\n",
    "    \"\"\" a graphic illustration of what happens when two sines and/or cosines\n",
    "    are multiplied \n",
    "    IN: n, m are strictly positive integer modes\n",
    "    first, second are both 'sin' or 'cos' \"\"\"\n",
    "    def fct(nm, xloc, choice):\n",
    "        if choice == 'sin':\n",
    "            return np.sin(nm*np.pi*xloc)\n",
    "        elif choice == 'cos':\n",
    "            return np.cos(nm*np.pi*xloc)\n",
    "    \n",
    "    if first != second:\n",
    "        xmin = -1.\n",
    "    else:\n",
    "        xmin = 0.\n",
    "    \n",
    "    x = np.linspace(xmin, 1, 256)  # use L=1 m for simplicity\n",
    "        \n",
    "    fg, ax = plt.subplots(2, 1, dpi=100, sharex=True)\n",
    "    ftsz = 13  # font size\n",
    "    \n",
    "    ax[0].plot(x, fct(n, x, first), label='{0}$({1} \\pi x/L)$'.format(first, n))\n",
    "    ax[0].plot(x, fct(m, x, second), '--', label='{0}$({1}\\pi x/L)$'.format(second, m))\n",
    "    ax[0].set_xlim(xmin, 1)\n",
    "    ax[0].set_ylabel('$y$', fontsize=ftsz)\n",
    "    ax[0].legend()\n",
    "    ax[0].grid()\n",
    "    \n",
    "    ax[1].plot(x, fct(n, x, first)*fct(m, x, second),\n",
    "               label='{0}$(1\\pi x/L)${2}$(2 \\pi x/L)$'.format(first, n, second, m))\n",
    "    plt.fill_between(x , fct(n, x, first)*fct(m, x, second))\n",
    "    ax[1].set_xlabel('$x/L$', fontsize=ftsz)\n",
    "    ax[1].set_ylabel('$y$', fontsize=ftsz)\n",
    "    ax[1].legend()\n",
    "    ax[1].grid()\n",
    "    \n",
    "    fg.tight_layout()"
   ]
  },
  {
   "cell_type": "code",
   "execution_count": 17,
   "metadata": {
    "slideshow": {
     "slide_type": "skip"
    }
   },
   "outputs": [
    {
     "data": {
      "image/png": "[encoded data removed]",
      "text/plain": [
       "<Figure size 600x400 with 2 Axes>"
      ]
     },
     "metadata": {
      "needs_background": "light"
     },
     "output_type": "display_data"
    }
   ],
   "source": [
    "multsincos(1, 3, 'sin', 'sin')  # for pdf export"
   ]
  },
  {
   "cell_type": "code",
   "execution_count": 18,
   "metadata": {
    "slideshow": {
     "slide_type": "skip"
    }
   },
   "outputs": [],
   "source": [
    "from ipywidgets import interact, IntSlider"
   ]
  },
  {
   "cell_type": "code",
   "execution_count": 19,
   "metadata": {
    "slideshow": {
     "slide_type": "skip"
    }
   },
   "outputs": [
    {
     "data": {
      "application/vnd.jupyter.widget-view+json": {
       "model_id": "796d61e1d69d43fa9d58c5291c706c00",
       "version_major": 2,
       "version_minor": 0
      },
      "text/plain": [
       "interactive(children=(IntSlider(value=1, description='n', max=5, min=1), IntSlider(value=2, description='m', m…"
      ]
     },
     "metadata": {},
     "output_type": "display_data"
    },
    {
     "data": {
      "text/plain": [
       "<function __main__.multsincos(n, m, first, second)>"
      ]
     },
     "execution_count": 19,
     "metadata": {},
     "output_type": "execute_result"
    }
   ],
   "source": [
    "interact(multsincos, n=IntSlider(min=1, max=5, value=1), m=IntSlider(min=1, max=5, value=2), first=['sin', 'cos'], second=['sin', 'cos'])"
   ]
  },
  {
   "cell_type": "markdown",
   "metadata": {
    "slideshow": {
     "slide_type": "skip"
    }
   },
   "source": [
    "Note that similarly to the last chapter, these results can be extended to strings that are non-homogeneous (i.e. $v$ depends on $x$, like a whip getting thinner away from the handle). A new inner product would need to be defined. \n",
    "This would be the equivalent of a matrix that is not symmetric in the previous chapter.\n",
    "These considerations are outside of what you need to know for this class."
   ]
  },
  {
   "cell_type": "markdown",
   "metadata": {
    "slideshow": {
     "slide_type": "skip"
    }
   },
   "source": [
    "## Initial Value Problems"
   ]
  },
  {
   "cell_type": "markdown",
   "metadata": {
    "slideshow": {
     "slide_type": "skip"
    }
   },
   "source": [
    "Like in previous chapters, while we know that the general form of the solution is in the form of eqn. $(2)$, finding the amplitudes $C_n$ and phases $\\phi_n$ remains to be computed for an IVP."
   ]
  },
  {
   "cell_type": "markdown",
   "metadata": {
    "slideshow": {
     "slide_type": "skip"
    }
   },
   "source": [
    "And like at the end of the previous chapter, the orthogonality condition will help us to solve this problem relatively easily."
   ]
  },
  {
   "cell_type": "markdown",
   "metadata": {
    "slideshow": {
     "slide_type": "skip"
    }
   },
   "source": [
    "First of all though, allow me to rewrite eqn. $(2)$ as\n",
    "$$\\boxed{y(t, x) = \\sum_{n = 1}^{\\infty} \\left[\\alpha_n \\cos(\\omega_n t) + \\beta_n \\sin(\\omega_n t)\\right]\\sin(k_n x)},\\hspace{4cm}(4)$$\n",
    "which is more convenient for IVPs."
   ]
  },
  {
   "cell_type": "markdown",
   "metadata": {
    "slideshow": {
     "slide_type": "skip"
    }
   },
   "source": [
    "Consider now an initial value problem\n",
    "$$ y(0, x) = P(x)\\and \\dot y(0, x) = V(x). $$"
   ]
  },
  {
   "cell_type": "markdown",
   "metadata": {
    "slideshow": {
     "slide_type": "skip"
    }
   },
   "source": [
    "We now have two equations,\n",
    "$$\\sum_{n = 1}^{\\infty} \\alpha_n\\sin(k_n x) = P(x) \\and \\sum_{n = 1}^{\\infty} \\omega_n\\beta_n\\sin(k_n x) = V(x).$$"
   ]
  },
  {
   "cell_type": "markdown",
   "metadata": {
    "slideshow": {
     "slide_type": "skip"
    }
   },
   "source": [
    "These could be seen as two equations with an infinite number of unknown each ($2\\times \\infty$ unknown total). But because these unknown multiply eigenfunctions that are all orthogonal to each other, we can use projections to turn it into a system with as many equations as there are unknown.\n",
    "For example,\n",
    "$$\\left[\\sum_{n = 1}^{\\infty} \\alpha_n\\sin(k_n x)\\right] \\odot \\sin(k_m x) = \\sum_{n = 1}^{\\infty} \\alpha_n\\left[\\sin(k_n x) \\odot \\sin(k_m x)\\right] = \\alpha_m.$$\n",
    "*Note: in the result above, I used that the $\\sin(k_n x)$ functions are orthonormal with respect to the inner product that I defined. Had I not added a $2/L$ pre-factor in my definition of the inner product (eqn. 3), I would have needed to multiply the right-most-hand-side of the equation above with $L/2$. This is what King sort of does in his book.*"
   ]
  },
  {
   "cell_type": "markdown",
   "metadata": {
    "slideshow": {
     "slide_type": "skip"
    }
   },
   "source": [
    "Therefore, \n",
    "$$ \\forall m\\in \\mathbb N^*, \\quad \\alpha_m = P(x) \\odot \\sin(k_m x) \\and \\beta_m = \\frac{1}{\\omega_m}V(x) \\odot \\sin(k_m x). $$"
   ]
  },
  {
   "cell_type": "markdown",
   "metadata": {
    "slideshow": {
     "slide_type": "skip"
    }
   },
   "source": [
    "We solved one problem but created a new one, which is to compute all the $P(x)\\odot \\sin(k_m x)$ and $V(x)\\odot \\sin(k_m x)$.\n",
    "But at least, there is a road map, which is to compute integrals.\n",
    "If the initial condition is simple enough, the integrals can be computed analytically (which we will do for a couple of examples), and if not, a computer can do it."
   ]
  },
  {
   "cell_type": "markdown",
   "metadata": {
    "slideshow": {
     "slide_type": "skip"
    }
   },
   "source": [
    "## Example: Initializing a Single Mode"
   ]
  },
  {
   "cell_type": "markdown",
   "metadata": {
    "slideshow": {
     "slide_type": "skip"
    }
   },
   "source": [
    "### Analytical Resolution\n",
    "\n",
    "Suppose we start with\n",
    "$$y(0, x) = P(x) = 4a\\sin\\left(\\frac{3\\pi x}{L}\\right) \\and \\dot y(0, x) = V(x) = 0,$$\n",
    "with $4a$ the initial amplitude of displacement (in m).\n",
    "Of course, the first things to notice is that $3\\pi/L = k_3$."
   ]
  },
  {
   "cell_type": "markdown",
   "metadata": {
    "slideshow": {
     "slide_type": "skip"
    }
   },
   "source": [
    "That $V(x) = 0$ means that $\\forall n\\in \\mathbb N^*$, $\\beta_n = 0$."
   ]
  },
  {
   "cell_type": "markdown",
   "metadata": {
    "slideshow": {
     "slide_type": "skip"
    }
   },
   "source": [
    "As for the $\\alpha_n$'s,\n",
    "\\begin{align*}\n",
    "    \\alpha_n & = P(x) \\odot \\sin(k_n x) \\\\\n",
    "             & = \\frac2L \\int_0^L P(x)\\sin(k_n x)\\di x \\\\\n",
    "             & = \\frac{8a}{L} \\int_0^L \\sin(k_3 x) \\sin(k_n x) \\di x \\\\\n",
    "             & = 4a \\delta_{3n}.\n",
    "\\end{align*}"
   ]
  },
  {
   "cell_type": "markdown",
   "metadata": {
    "slideshow": {
     "slide_type": "skip"
    }
   },
   "source": [
    "Therefore, the only frequency of oscillation is $\\omega_3 = \\frac{3\\pi }L\\sqrt{\\frac{T}{\\mu}}$ and the solution is \n",
    "$$y(t, x) = 4a\\cos\\left(\\frac{3\\pi t}{L}\\sqrt{\\frac{T}{\\mu}}\\right)\\sin\\left(\\frac{3\\pi x}{L}\\right) \n",
    "          = 4a\\cos\\left(\\omega_3 t\\right)\\sin\\left(k_3 x\\right),$$\n",
    "which is the only term that is left from eqn. (4)."
   ]
  },
  {
   "cell_type": "markdown",
   "metadata": {
    "slideshow": {
     "slide_type": "skip"
    }
   },
   "source": [
    "Note that the frequency was not explicitly present in the initial conditions, just the wave number.\n",
    "It is just like with the coupled pendulums: one mode, one frequency was selected by just initializing the masses positions with the right pattern (or *polarization*)."
   ]
  },
  {
   "cell_type": "markdown",
   "metadata": {
    "slideshow": {
     "slide_type": "skip"
    }
   },
   "source": [
    "A quick sanity check on the units: $T$ is in N, or kg.m.s$^{-2}$, and $\\mu$ is in kg.m$^{-1}$, therefore $\\sqrt{T/\\mu}$ is in m.s$^{-1}$ (which is good, because it is the phase speed), $\\sqrt{T/\\mu}/L$ is in s$^{-1}$ in SI base units, $3\\pi$ times the same is in rad.s$^{-1}$ (*not SI base units, but it is* $\\omega_3$ in rad.s$^{-1}$), and $\\omega_3 t$ is indeed dimensionless."
   ]
  },
  {
   "cell_type": "markdown",
   "metadata": {
    "slideshow": {
     "slide_type": "skip"
    }
   },
   "source": [
    "***\n",
    "\n",
    "*End of 1 October lecture, beginning of 4 October lecture.*\n",
    "\n",
    "***"
   ]
  },
  {
   "cell_type": "markdown",
   "metadata": {
    "slideshow": {
     "slide_type": "skip"
    }
   },
   "source": [
    "### Graphic Representation: Spectrum\n",
    "\n",
    "Then, there is the problem of the graphic representation of this solution.\n",
    "I could display an animation, as I did before, but while pedagogically useful, it is not the representation that compresses the information the most.\n",
    "After all, if the motion is harmonic, we don't need to display a moving string to know the time information, which is completely encapsulated in the number $\\omega_3$.\n",
    "The only other piece of information I need to know is the amplitude of the third harmonic, $4d$."
   ]
  },
  {
   "cell_type": "markdown",
   "metadata": {
    "slideshow": {
     "slide_type": "skip"
    }
   },
   "source": [
    "A solution is therefore to plot the amplitude as a function of frequency, and the plot is called a **spectrum** (see fig. 7)."
   ]
  },
  {
   "cell_type": "code",
   "execution_count": null,
   "metadata": {
    "scrolled": false,
    "slideshow": {
     "slide_type": "skip"
    }
   },
   "outputs": [],
   "source": [
    "# Let's plot\n",
    "plt.figure()\n",
    "plt.plot([3]*2, [0, 4], 'o-', linewidth=5)\n",
    "plt.axis([0, 5.1, 0, 4.4])\n",
    "plt.xticks(range(1, 6), \n",
    "          ['$\\omega_{0:1d}$'.format(n) for n in range(1, 6)],\n",
    "          fontsize=ftsz)\n",
    "plt.xlabel('Vibration frequency ($\\omega_n = n\\pi v/L$)', fontsize=ftsz)\n",
    "plt.ylabel(r'Modal amplitude $\\alpha_n/a$', fontsize=ftsz)\n",
    "plt.grid()\n",
    "plt.savefig('Spectrum1mode.png', dpi=100)\n",
    "plt.close()"
   ]
  },
  {
   "cell_type": "markdown",
   "metadata": {
    "slideshow": {
     "slide_type": "subslide"
    }
   },
   "source": [
    "![Fig. 7: Spectrum when only one mode of amplitude $4a$ is present.](Spectrum1mode.png)"
   ]
  },
  {
   "cell_type": "markdown",
   "metadata": {
    "slideshow": {
     "slide_type": "skip"
    }
   },
   "source": [
    "Two remarks on spectra.\n",
    "\n",
    "* We did plot very similar graphs on the lecture on resonance, when we were plotting the amplitude (or dissipated power) as a function of frequency. And indeed, we do not have dissipation, meaning that we don't need to invoke forcing to describe sustained oscillations. If we introduced damping and forcing, we could plot spectra of the string vibrations under a certain periodic forcing as a function of frequency indeed, and it would look very similar.\n",
    "* You might remember from your linear algebra class that \"spectrum\" is also the name of the set of eigenvalues of a matrix. While a set is not a plot, there is a connection, because the plot will have all the frequencies on the $x$-axis, and because there is a connection between these frequencies, the eigenfrequencies of the previous chapter, and linear algebra."
   ]
  },
  {
   "cell_type": "markdown",
   "metadata": {
    "slideshow": {
     "slide_type": "slide"
    }
   },
   "source": [
    "## Example: Plucked String.\n",
    "\n",
    "*Note: this is King, worked example p. 155.*"
   ]
  },
  {
   "cell_type": "markdown",
   "metadata": {
    "slideshow": {
     "slide_type": "skip"
    }
   },
   "source": [
    "### Analytical resolution\n",
    "\n",
    "Analytically speaking, it is relatively easy to compute the Fourier decomposition of a string, plucked in the middle:\n",
    "$$ y(0, x) = P(x) = \\frac{2a x}{L} \\quad \\textrm{for} \\quad 0\\leq x < L/2, $$\n",
    "$$ y(0, x) = P(x) = 2a\\left(1 - \\frac{x}{L}\\right) \\quad \\textrm{for} \\quad L/2 \\leq x \\leq L. $$"
   ]
  },
  {
   "cell_type": "markdown",
   "metadata": {
    "slideshow": {
     "slide_type": "skip"
    }
   },
   "source": [
    "As before, we will consider the case $\\dot y(0, x) = V(x) = 0$, which again means that $\\forall n\\in \\mathbb N^*$, $\\beta_n = 0$."
   ]
  },
  {
   "cell_type": "markdown",
   "metadata": {
    "slideshow": {
     "slide_type": "skip"
    }
   },
   "source": [
    "\\begin{align*}\n",
    "    \\alpha_n & = P(x) \\odot \\sin(k_n x) \\\\\n",
    "             & = \\frac{4a}L \\left[\\int_0^{L/2}\\frac{x}{L} \\sin(k_n x)\\di x + \\int_{L/2}^L \\left(1 - \\frac{x}{L}\\right) \\sin(k_n x)\\di x\\right].\n",
    "\\end{align*}"
   ]
  },
  {
   "cell_type": "markdown",
   "metadata": {
    "slideshow": {
     "slide_type": "skip"
    }
   },
   "source": [
    "A useful formula to compute these integrals is\n",
    "$$ \\int x' \\sin(bx') \\di x' = \\frac{\\sin(bx)}{b^2} - \\frac{x\\cos(bx)}{b},$$\n",
    "which is the result of an integration by parts, followed by a simple integration.\n",
    "Ask Wolfram Alpha if you are curious.\n",
    "Do not try to remember it."
   ]
  },
  {
   "cell_type": "raw",
   "metadata": {
    "raw_mimetype": "text/markdown",
    "slideshow": {
     "slide_type": "skip"
    }
   },
   "source": [
    "# for verification, I ask Python's symbolic math package to do it\n",
    "from sympy import *  # symbolic math operations\n",
    "init_printing(use_unicode=True)  # to print pretty\n",
    "\n",
    "n = Symbol('n', integer=True, positive=True)\n",
    "x, L = symbols('n, L', real=True, positive=True)"
   ]
  },
  {
   "cell_type": "raw",
   "metadata": {
    "raw_mimetype": "text/markdown",
    "slideshow": {
     "slide_type": "skip"
    }
   },
   "source": [
    "factor(integrate(x/L*sin(n*pi*x/L), (x, 0, L/2)))  # for verification"
   ]
  },
  {
   "cell_type": "markdown",
   "metadata": {
    "slideshow": {
     "slide_type": "skip"
    }
   },
   "source": [
    "The first integral is\n",
    "\\begin{align*}\n",
    "    \\int_0^{L/2}\\frac{x}{L} \\sin(k_n x)\\di x \n",
    "        & = \\frac{1}{k_n L} \\left[ \\frac{\\sin(k_n x)}{k_n} - x\\cos(k_n x) \\right]_0^{L/2} \\\\\n",
    "        & = \\frac{L}{n\\pi}\\left[\\frac{1}{n\\pi}\\sin\\left(\\frac{n\\pi}{2}\\right) - \\frac12\\cos\\left(\\frac{n\\pi}{2}\\right) \\right].\n",
    "\\end{align*}"
   ]
  },
  {
   "cell_type": "raw",
   "metadata": {
    "raw_mimetype": "text/markdown",
    "slideshow": {
     "slide_type": "skip"
    }
   },
   "source": [
    "factor(integrate((1-x/L)*sin(n*pi*x/L), (x, L/2, L)))  # for verification"
   ]
  },
  {
   "cell_type": "markdown",
   "metadata": {
    "slideshow": {
     "slide_type": "skip"
    }
   },
   "source": [
    "For the other integral, and following a similar calculation, we get\n",
    "$$\\int_{L/2}^L\\left(1 - \\frac{x}{L}\\right) \\sin(k_n x)\\di x = \\frac{L}{n\\pi}\\left[\\frac{1}{n\\pi}\\sin\\left(\\frac{n\\pi}{2}\\right) + \\frac12\\cos\\left(\\frac{n\\pi}{2}\\right) \\right]. $$"
   ]
  },
  {
   "cell_type": "markdown",
   "metadata": {
    "slideshow": {
     "slide_type": "skip"
    }
   },
   "source": [
    "Adding the two, we get\n",
    "$$ \\int_0^{L/2}\\frac{x}{L} \\sin(k_n x)\\di x + \\int_{L/2}^L \\left(1 - \\frac{x}{L}\\right) \\sin(k_n x)\\di x = \\frac{2L}{(n\\pi)^2}\\sin\\left(\\frac{n\\pi}{2}\\right) $$"
   ]
  },
  {
   "cell_type": "markdown",
   "metadata": {
    "slideshow": {
     "slide_type": "skip"
    }
   },
   "source": [
    "The final form of $\\alpha_n$ is therefore\n",
    "$$ \\alpha_n = \\frac{8 a}{(n\\pi)^2}\\sin\\left(\\frac{n\\pi}{2}\\right) = 0 \\quad\\textrm{if } n\\textrm{ is even, and} \\quad \\frac{8 a}{(n\\pi)^2}(-1)^{(n-1)/2}\\quad\\textrm{if } n\\textrm{ odd}. $$"
   ]
  },
  {
   "cell_type": "markdown",
   "metadata": {
    "slideshow": {
     "slide_type": "skip"
    }
   },
   "source": [
    "Let us only consider the $n$ odd case then, and let $n=2m+1$, $m\\in\\mathbb N$.\n",
    "From eqn. (4), the solution to the string, plucked in the middle is therefore:\n",
    "$$ \\boxed{y(t, x) = \\frac{8a}{\\pi^2}\\sum_{m=0}^{\\infty}\\frac{(-1)^{m}}{(2m+1)^2}\\cos\\left(\\frac{(2m+1)\\pi v}{L}t\\right)\\sin\\left(\\frac{(2m+1)\\pi}{L}x\\right)}. $$"
   ]
  },
  {
   "cell_type": "markdown",
   "metadata": {
    "slideshow": {
     "slide_type": "skip"
    }
   },
   "source": [
    "### Spectrum"
   ]
  },
  {
   "cell_type": "markdown",
   "metadata": {
    "slideshow": {
     "slide_type": "skip"
    }
   },
   "source": [
    "Although complicated, we can plot the formula above relatively easily as a spectrum. Let me compute a few values, with $d = 1 cm$, $L = 1 m$\n",
    "\n",
    "* $y_1(t, x) = \\frac{8a}{\\pi^2}\\cos\\frac{\\pi v t}L\\sin\\frac{\\pi x}L$,\n",
    "* $y_2(t, x) = 0$,\n",
    "* $y_3(t, x) = -\\frac{8a}{9\\pi^2}\\cos\\frac{3\\pi v t}L\\sin\\frac{3\\pi x}L$,\n",
    "* $y_4(t, x) = 0$,\n",
    "* $y_5(t, x) = \\frac{8a}{25\\pi^2}\\cos\\frac{5\\pi v t}L\\sin\\frac{5\\pi x}L$,\n",
    "* $y_6(t, x) = 0$,\n",
    "* ...\n",
    "\n",
    "We can easily plot the spectrum for the first few modes."
   ]
  },
  {
   "cell_type": "code",
   "execution_count": null,
   "metadata": {
    "slideshow": {
     "slide_type": "skip"
    }
   },
   "outputs": [],
   "source": [
    "# Let's plot\n",
    "N = 8  # maximum number of modes we plot\n",
    "plt.figure()\n",
    "for n in range(N):\n",
    "    plt.plot([n+1]*2, [0, np.sin(0.5*(n+1)*np.pi)/(n+1)**2], 'o-', linewidth=5)\n",
    "plt.axis([0, N+0.5, -0.15, 1.1])\n",
    "plt.axhline(0., color='k')\n",
    "plt.xticks(range(1, N+1), \n",
    "          ['$\\omega_{0:1d}$'.format(n) for n in range(1, N+1)],\n",
    "          fontsize=ftsz)\n",
    "plt.xlabel('Vibration frequency ($\\omega_n = n\\pi v/L$)', fontsize=ftsz)\n",
    "plt.ylabel(r'Modal amplitude $\\alpha_n\\pi^2/(8a)$', fontsize=ftsz)\n",
    "plt.grid()\n",
    "plt.savefig('SpectrumPlucked.png', dpi=100)\n",
    "plt.close()"
   ]
  },
  {
   "cell_type": "markdown",
   "metadata": {
    "slideshow": {
     "slide_type": "subslide"
    }
   },
   "source": [
    "![Fig. 8: Spectrum for a plucked string](SpectrumPlucked.png)"
   ]
  },
  {
   "cell_type": "markdown",
   "metadata": {
    "slideshow": {
     "slide_type": "skip"
    }
   },
   "source": [
    "The amplitude of each mode decays fast with the mode number.\n",
    "This is because by plucking the string in the middle, we created a \"large-scale pattern\" whose Fourier series converges very fast.\n",
    "We can plot this to visualise better."
   ]
  },
  {
   "cell_type": "markdown",
   "metadata": {
    "slideshow": {
     "slide_type": "skip"
    }
   },
   "source": [
    "*Note: usually, a \"spectrum\" plots $|\\alpha_n|$, not $\\alpha_n$ as I did, as if the sign was included in the phase of $\\cos(\\omega_n t)$.*"
   ]
  },
  {
   "cell_type": "code",
   "execution_count": null,
   "metadata": {
    "scrolled": false,
    "slideshow": {
     "slide_type": "skip"
    }
   },
   "outputs": [],
   "source": [
    "# I have to redefine the two quantities below because I used them as symbols in-between\n",
    "L = .33  # length of string: 33 cm\n",
    "x = np.linspace(0., L, 128)  # the x array\n",
    "\n",
    "mode = {}  # all modes stored in a dictionary\n",
    "y_approx = 0*x  # this will be the sum of thre first N modes\n",
    "y_init = 2*x/L  # the first part of the string; I will divide all y's by d\n",
    "y_init[x > 0.5*L] = 2. * (1 - x[x > 0.5*L]/L)  # the 2nd part\n",
    "\n",
    "fig = plt.figure()\n",
    "\n",
    "ff = 1  # frame number, or subplot number\n",
    "for m in range(N//2):\n",
    "    n = 2*m + 1\n",
    "    \n",
    "    mMax = 8/(n*np.pi)**2\n",
    "    mode[n] = mMax * np.sin(0.5*n*np.pi) * np.sin(n*np.pi*x/L)\n",
    "    y_approx += mode[n]\n",
    "    \n",
    "    axl = fig.add_subplot(len(range(N//2)), 2, ff)\n",
    "    axl.plot(x/L, mode[n])\n",
    "    axl.axis([0, 1., -mMax*1.1, mMax*1.1])\n",
    "    axl.ticklabel_format(axis='y', style='sci', scilimits=(-1, 1))\n",
    "    axl.set_ylabel(r'$N = {0:1d}$'.format(n))\n",
    "    axl.set_yticks([-mMax, 0., mMax])\n",
    "    axl.grid()\n",
    "    \n",
    "    axr = fig.add_subplot(len(range(N//2)), 2, ff+1)\n",
    "    axr.plot(x/L, y_approx, x/L, y_init, 'r--')\n",
    "    axr.axis([0, 1., 0., y_init.max()])\n",
    "    axr.set_yticks([0., 0.5, 1.])\n",
    "    axr.grid()\n",
    "    \n",
    "    if n == 1:\n",
    "        axl.set_title(r'$\\alpha_N\\sin(k_N x)$')\n",
    "        axr.set_title(r'$\\sum_{n=1}^N\\alpha_n\\sin(k_n x)$')\n",
    "    \n",
    "    if m == N//2-1:\n",
    "        axl.set_xlabel('$x/L$')\n",
    "        axr.set_xlabel('$x/L$')\n",
    "    else:\n",
    "        axl.set_xticklabels([])\n",
    "        axr.set_xticklabels([])\n",
    "    \n",
    "    ff += 2\n",
    "\n",
    "plt.tight_layout()\n",
    "plt.autoscale(enable=True, axis='x', tight=True)\n",
    "plt.savefig(\"Modes1to4.png\", dpi=150)\n",
    "plt.close()"
   ]
  },
  {
   "cell_type": "markdown",
   "metadata": {
    "scrolled": false,
    "slideshow": {
     "slide_type": "subslide"
    }
   },
   "source": [
    "![Fig. 8:](Modes1to4.png)"
   ]
  },
  {
   "cell_type": "markdown",
   "metadata": {
    "slideshow": {
     "slide_type": "skip"
    }
   },
   "source": [
    "In the figure above, the left column shows each individual initial mode, and the right column shows their sum, up to the mode on the left.\n",
    "Notice how after three modes ($N = 5$), most of the pattern is captured, and adding the fourth mode ($n=7$) does not improve the solution that much.\n",
    "This is why this approach is feasible: because we usually don't need an infinite number of modes to obtain a satisfying approximation to the solution."
   ]
  },
  {
   "cell_type": "markdown",
   "metadata": {
    "slideshow": {
     "slide_type": "skip"
    }
   },
   "source": [
    "Solving for the initial conditions means that we solved the problem at all times, as the animation below (saved under `PluckMiddle.mp4`) shows."
   ]
  },
  {
   "cell_type": "code",
   "execution_count": null,
   "metadata": {
    "slideshow": {
     "slide_type": "skip"
    }
   },
   "outputs": [],
   "source": [
    "# Various quantities\n",
    "t_end = 2.*np.pi/(omega[0]) # time array spans one fundamental frequency\n",
    "n_frames = 100  # number of frames for animation\n",
    "time = np.linspace(0., t_end, n_frames)  # time array\n",
    "\n",
    "imagelist = []  # list of frames to eventually animate\n",
    "\n",
    "# Animation\n",
    "fig = plt.figure()\n",
    "ax = plt.gca()\n",
    "ax.set_xlim([0., 1.])\n",
    "ax.set_ylim([-1., N//2+0.5])\n",
    "ax.set_xlabel('$x/L$', fontsize=ftsz)\n",
    "ax.set_yticks(range(0, N//2+1))\n",
    "ax.set_yticklabels(['$tot$', '1', '3', '5', '7'])\n",
    "ax.set_ylabel('$y_n(t, x)/a + \\mathrm{ mode\\ number}\\ n$', fontsize=ftsz)\n",
    "ax.grid()\n",
    "\n",
    "k = [n*k0 for n in range(1, N+1)]  # the list of k's\n",
    "omega = [n*k0*v for n in range(1, N+1)]  # the list of k's\n",
    "\n",
    "x_positions = np.tile(x, (N//2+1, 1))/L  # replicate the x array N/2+1 times\n",
    "for t in time: # We loop over time to animate the modes\n",
    "    y_modes = 0*x_positions  # nx positions for N modes\n",
    "    for m in range(N//2):\n",
    "        n = 2*m + 1\n",
    "        y_modes[m, :] = 1 + m + mode[n]*np.cos(omega[n]*t)\n",
    "        y_modes[N//2, :] += y_modes[m, :] - 1 - m\n",
    "\n",
    "    im = plt.scatter(x_positions, y_modes, c=y_modes, cmap='copper')\n",
    "    imagelist.append([im])\n",
    "\n",
    "# Creation of the animation\n",
    "ani = animation.ArtistAnimation(fig, imagelist, interval=40, blit=True, repeat_delay=80)\n",
    "plt.close()"
   ]
  },
  {
   "cell_type": "code",
   "execution_count": null,
   "metadata": {
    "scrolled": false,
    "slideshow": {
     "slide_type": "subslide"
    }
   },
   "outputs": [],
   "source": [
    "# Show the animation\n",
    "HTML(ani.to_html5_video())"
   ]
  },
  {
   "cell_type": "code",
   "execution_count": null,
   "metadata": {
    "slideshow": {
     "slide_type": "skip"
    }
   },
   "outputs": [],
   "source": [
    "# Save the animation\n",
    "ani.save('PluckMiddle.mp4')"
   ]
  },
  {
   "cell_type": "markdown",
   "metadata": {
    "slideshow": {
     "slide_type": "slide"
    }
   },
   "source": [
    "## Some videos"
   ]
  },
  {
   "cell_type": "markdown",
   "metadata": {},
   "source": [
    "I find them cool and instructive."
   ]
  },
  {
   "cell_type": "markdown",
   "metadata": {
    "slideshow": {
     "slide_type": "skip"
    }
   },
   "source": [
    "### Bowed Violin String in Slow Motion\n",
    "\n",
    "https://youtu.be/6JeyiM0YNo4"
   ]
  },
  {
   "cell_type": "code",
   "execution_count": null,
   "metadata": {
    "slideshow": {
     "slide_type": "subslide"
    }
   },
   "outputs": [],
   "source": [
    "from IPython.display import HTML\n",
    "HTML('<iframe width=\"560\" height=\"315\" src=\"https://www.youtube.com/embed/6JeyiM0YNo4?start=55\" frameborder=\"0\" allowfullscreen></iframe>')"
   ]
  },
  {
   "cell_type": "markdown",
   "metadata": {
    "slideshow": {
     "slide_type": "notes"
    }
   },
   "source": [
    "About this video of a violin string, note that:\n",
    "\n",
    "* The oscillation is created by the bow of the violin, sticking-and-slipping (this is actually a real expression) at a frequency that resonates with the oscillation we see.\n",
    "* When the bow is removed, towards the end of the video, you can see that very quickly, the oscillation becomes like a fundamental oscillation, and nothing else, the kink is gone. That's because in reality, there is damping, and the higher the harmonic is, the stronger the damping acts on it. Indeed, as we saw before, the kink is reproduced by very high modes, and those modes oscillate faster. Assuming (and this is actually a conservative assumption) that the damping force on a mode $n$ can be modeled as something like $-b\\dot y$ again, then it proportional to the frequency: $F_{damping} \\propto \\sum -\\omega_n\\alpha_n\\sin(\\omega_n t)\\sin(k_nx)$. Therefore, the higher a mode is, the faster the damping is. After a short period of time, damping has killed all the modes but the fundamental, which is the last harmonic standing (pun intended).\n",
    "* The violin is out-of-tune to visualize a pattern. The string's oscillations are way too large for a functioning violin."
   ]
  },
  {
   "cell_type": "markdown",
   "metadata": {
    "slideshow": {
     "slide_type": "skip"
    }
   },
   "source": [
    "### Chladni Plate\n",
    "\n",
    "https://youtu.be/wvJAgrUBF4w to complement the class demo."
   ]
  },
  {
   "cell_type": "code",
   "execution_count": null,
   "metadata": {
    "slideshow": {
     "slide_type": "subslide"
    }
   },
   "outputs": [],
   "source": [
    "HTML('<iframe width=\"560\" height=\"315\" src=\"https://www.youtube.com/embed/wvJAgrUBF4w\" frameborder=\"0\" allowfullscreen></iframe>')"
   ]
  },
  {
   "cell_type": "markdown",
   "metadata": {
    "slideshow": {
     "slide_type": "-"
    }
   },
   "source": [
    "For an in-house explanation, see the web page, created by our very own Prof. Stephen Morris: https://www.physics.utoronto.ca/~nonlin/chladni.html"
   ]
  },
  {
   "cell_type": "markdown",
   "metadata": {
    "slideshow": {
     "slide_type": "skip"
    }
   },
   "source": [
    "### Fourier Analysis (and guitar jammin')\n",
    "\n",
    "https://youtu.be/u1Lz8pm2npQ\n",
    "\n",
    "I love it and I hate it: this guy makes me look lame. Goes way beyond what I covered, in a compressed amount of time."
   ]
  },
  {
   "cell_type": "code",
   "execution_count": null,
   "metadata": {
    "slideshow": {
     "slide_type": "subslide"
    }
   },
   "outputs": [],
   "source": [
    "HTML('<iframe width=\"560\" height=\"315\" src=\"https://www.youtube.com/embed/u1Lz8pm2npQ\" frameborder=\"0\" allowfullscreen></iframe>')"
   ]
  },
  {
   "cell_type": "markdown",
   "metadata": {
    "slideshow": {
     "slide_type": "skip"
    }
   },
   "source": [
    "### Ruben's Tubes\n",
    "\n",
    "https://youtu.be/2awbKQ2DLRE\n",
    "\n",
    "The first minute of the video is pretty instructive, but the entire video is like a pyrotechnical version of a Chladni plate."
   ]
  },
  {
   "cell_type": "code",
   "execution_count": null,
   "metadata": {
    "slideshow": {
     "slide_type": "subslide"
    }
   },
   "outputs": [],
   "source": [
    "HTML('<iframe width=\"560\" height=\"315\" src=\"https://www.youtube.com/embed/2awbKQ2DLRE\" frameborder=\"0\" allowfullscreen></iframe>')"
   ]
  },
  {
   "cell_type": "markdown",
   "metadata": {
    "slideshow": {
     "slide_type": "skip"
    }
   },
   "source": [
    "### The Walking Water Mystery\n",
    "\n",
    "https://youtu.be/KJDEsAy9RyM\n",
    "\n",
    "The connection with standing waves may not be obvious at first. Jump to 4'15 or 8'14 if you are impatient, but the whole thing is worth a watch. Awesome stuff at 9'30."
   ]
  },
  {
   "cell_type": "code",
   "execution_count": null,
   "metadata": {
    "slideshow": {
     "slide_type": "subslide"
    }
   },
   "outputs": [],
   "source": [
    "HTML('<iframe width=\"560\" height=\"315\" src=\"https://www.youtube.com/embed/KJDEsAy9RyM\" frameborder=\"0\" allowfullscreen></iframe>')"
   ]
  },
  {
   "cell_type": "markdown",
   "metadata": {
    "slideshow": {
     "slide_type": "skip"
    }
   },
   "source": [
    "# Energy of Standing Waves\n",
    "\n",
    "*[King: §§ 6.3 and 6.4.4; skipped parts of the derivations also found in § 5.5]*"
   ]
  },
  {
   "cell_type": "markdown",
   "metadata": {
    "slideshow": {
     "slide_type": "skip"
    }
   },
   "source": [
    "The energy per unit length of the string is (cf. King § 5.5):\n",
    "$$E =  \\frac12 \\mu \\int_0^L \\left[\\left(\\pde{y}t\\right)^2 + v^2\\left(\\pde{y}x\\right)^2 \\right]\\di x,$$\n",
    "where the first part in the integral corresponds to the kinetic energy and the second part corresponds to the potential energy stored when the string moves away from its rest position ad gets stretched or compressed a little."
   ]
  },
  {
   "cell_type": "markdown",
   "metadata": {
    "slideshow": {
     "slide_type": "skip"
    }
   },
   "source": [
    "## Single Mode"
   ]
  },
  {
   "cell_type": "markdown",
   "metadata": {
    "slideshow": {
     "slide_type": "skip"
    }
   },
   "source": [
    "For a single mode, and assuming for simplicity that $V(x) = 0$,\n",
    "$$y(t, x) = y_n(t, x) = A_n \\cos(\\omega_n t)\\sin(k_n x),$$\n",
    "$$\\pde{y}t = -\\omega_n A_n \\sin(\\omega_n t)\\sin(k_n x),\\textrm{ and}$$\n",
    "$$\\pde{y}x = k_n A_n \\cos(\\omega_n t)\\cos(k_n x).$$"
   ]
  },
  {
   "cell_type": "markdown",
   "metadata": {
    "slideshow": {
     "slide_type": "skip"
    }
   },
   "source": [
    "Substituting into the expression for energy,\n",
    "\\begin{align*}\n",
    "    E_n & = \\frac12 \\mu \\int_0^L \\left[\\omega_n^2 A_n^2 \\sin^2(\\omega_n t)\\sin^2(k_n x)  + v^2k_n^2 A_n^2 \\cos^2(\\omega_n t)\\cos^2(k_n x)\\right]\\di x, \\\\\n",
    "        & = \\frac12 \\mu \\omega_n^2 A_n^2 \\left[\\sin^2(\\omega_n t)\\int_0^L \\sin^2(k_n x)\\di x + \\cos^2(\\omega_n t)\\int_0^L\\cos^2(k_n x)\\di x\\right].\n",
    "\\end{align*}"
   ]
  },
  {
   "cell_type": "markdown",
   "metadata": {
    "slideshow": {
     "slide_type": "skip"
    }
   },
   "source": [
    "You can compute (in which case you could use $\\cos^2 + \\sin^2 = 1$), or convince yourself by drawing $\\cos^2$ and $\\sin^2$, that the two integrals are the same:\n",
    "$$\\int_0^L \\sin^2(k_n x)\\di x = \\int_0^L \\cos^2(k_n x)\\di x = \\frac{L}2.$$"
   ]
  },
  {
   "cell_type": "markdown",
   "metadata": {
    "slideshow": {
     "slide_type": "skip"
    }
   },
   "source": [
    "And because $\\cos^2(\\omega_n t) + \\sin^2(\\omega_n t) = 1$,\n",
    "$$\\boxed{E_n = \\frac14\\mu L\\omega_n^2 A_n^2}.$$"
   ]
  },
  {
   "cell_type": "markdown",
   "metadata": {
    "slideshow": {
     "slide_type": "skip"
    }
   },
   "source": [
    "The expression above may look silly to remember, but there actually is physics in there, it is not so complicated, and I would like you to remember it.\n",
    "The energy of the SHO was already $kA^2/2 = m\\omega_0^2 A^2/2$, and so, if you could remember the energy of the SHO, you can remember this one.\n",
    "\n",
    "* $E_n \\propto m = \\mu L$, the mass of the string. Why not.\n",
    "* $E_n \\propto A_n^2$: quadratic dependence of the energy on the amplitude, a super-duper general statement that you have been needing to remember from the start of this lecture series,\n",
    "* $E_n \\propto \\omega_n^2$: looking straight at it, this looks new. But the energy of the SHO was already proportional to $k = m\\omega_0^2$, so, this is actually not that new. But it is important to remember it this way! \"Everything else being equal, a mode that oscillates twice as fast has four times the energy.\"\n",
    "* factor $1/4$: this one can be annoying because it is not $1/2$, and I forget about it all the time myself. I try to get around this problem by remembering that $L = 2n\\lambda_n$, and so $\\mu L/4 = n\\mu\\lambda_n/2$: the energy in one wavelength is $E_n/n = (m_n \\omega_n^2 A_n^2)/2$, with $m_n = \\mu \\lambda_n$ the mass of string in one wavelength. The pre-factor is not as important to remember as the other scalings though."
   ]
  },
  {
   "cell_type": "markdown",
   "metadata": {
    "slideshow": {
     "slide_type": "skip"
    }
   },
   "source": [
    "If we had different boundary conditions, we may have a combination of $\\sin(k_n x)$ and $\\cos(k_n x)$ in $y_n(t, x)$, but the derivation would be conceptually the same."
   ]
  },
  {
   "cell_type": "markdown",
   "metadata": {
    "slideshow": {
     "slide_type": "skip"
    }
   },
   "source": [
    "## Many modes"
   ]
  },
  {
   "cell_type": "markdown",
   "metadata": {
    "slideshow": {
     "slide_type": "skip"
    }
   },
   "source": [
    "With more than one mode,\n",
    "$$ y(t, x) = \\sum_{n=1}^\\infty A_n \\cos(\\omega_n t + \\phi_n)\\sin(k_n x).$$\n",
    "Let's discard $\\phi_n$, for example by assuming $V(x) = 0$."
   ]
  },
  {
   "cell_type": "markdown",
   "metadata": {
    "slideshow": {
     "slide_type": "skip"
    }
   },
   "source": [
    "\\begin{align*}\n",
    "    \\pde{y}t & = -\\sum_{n=1}^\\infty \\omega_n A_n \\sin(\\omega_n t)\\sin(k_n x),\\textrm{ and}\\\\\n",
    "    \\left(\\pde{y}t\\right)^2 & = \\left[\\sum_{n=1}^\\infty \\omega_n A_n \\sin(\\omega_n t)\\sin(k_n x)\\right]\\left[\\sum_{m=1}^\\infty \\omega_m A_m \\sin(\\omega_m t)\\sin(k_m x)\\right] \\\\\n",
    "                            & = \\sum_{n=1}^\\infty \\left(\\omega_n A_n \\sin(\\omega_n t)\\sin(k_n x)\\right)^2 + 2\\sum_{m=1}^\\infty\\sum_{n=m+1}^\\infty \\omega_m A_m\\omega_n A_n \\sin(\\omega_m t)\\sin(k_m x)\\sin(\\omega_n t)\\sin(k_n x).\n",
    "\\end{align*}"
   ]
  },
  {
   "cell_type": "markdown",
   "metadata": {
    "slideshow": {
     "slide_type": "skip"
    }
   },
   "source": [
    "Notice the $2\\sum_{m=1}^{\\infty}\\sum_{n=m+1}^{\\infty}$ double sum (like I need to remind you of it).\n",
    "The factor 2 is here because each term that has $m\\neq n$ will appear twice, say, the couples $\\{m=1, n=2\\}$ and $\\{m=2, n=1\\}$ each appear once, but lead to the same expression. Might as well just sum them once, but make them count twice.\n",
    "We start the second sum at $n=m+1$, not $n=m$, because the $n=m$ case is treated separately, in the first summation."
   ]
  },
  {
   "cell_type": "markdown",
   "metadata": {
    "slideshow": {
     "slide_type": "skip"
    }
   },
   "source": [
    "Before going any further, let us not forget that eventually, we will integrate these sums over $[0, L]$.\n",
    "In particular, the double sum will only contain terms proportional to \n",
    "$$\\int_0^L\\sin(k_m x)\\sin(k_n x) \\di x = 0\\quad \\textrm{because}\\quad n\\neq m.$$\n",
    "Therefore, \n",
    "$$ \\int_0^L \\left(\\pde{y}t\\right)^2 \\di x = \\sum_{n=1}^\\infty \\int_0^L \\left[\\omega_n A_n \\sin(\\omega_n t)\\sin(k_n x)\\right]^2 \\di x = \\sum_{n=1}^\\infty \\int_0^L \\left(\\pde{y_n}{t}\\right)^2 \\di x. $$\n"
   ]
  },
  {
   "cell_type": "markdown",
   "metadata": {
    "slideshow": {
     "slide_type": "skip"
    }
   },
   "source": [
    "A very similar derivation leads to\n",
    "$$ \\int_0^L\\left(\\pde{y}x\\right)^2\\di x = \\sum_{n=1}^\\infty\\int_0^L \\left(\\pde{y_n}{x}\\right)^2 \\di x, $$\n",
    "and therefore,\n",
    "$$\\boxed{E = \\sum_{n=1}^\\infty E_n} = \\frac{1}{4}\\mu L \\sum_{n=1}^\\infty \\omega_n^2 A_n^2.$$\n",
    "\n",
    "If you look back on your lectures on Fourier series, there should be a piece about Parseval's theorem. You may realize that the framed expression above is actually an application of it."
   ]
  },
  {
   "cell_type": "markdown",
   "metadata": {
    "slideshow": {
     "slide_type": "skip"
    }
   },
   "source": [
    "Just like for coupled oscillators, **each mode has its own energy, it does not communicate it to any other mode, and the total energy is the sum of the energy of each mode.** Remember it!"
   ]
  },
  {
   "cell_type": "markdown",
   "metadata": {
    "slideshow": {
     "slide_type": "skip"
    }
   },
   "source": [
    "## Power Spectra"
   ]
  },
  {
   "cell_type": "markdown",
   "metadata": {
    "slideshow": {
     "slide_type": "skip"
    }
   },
   "source": [
    "Power spectra are plots of $E_n$ vs. $\\omega_n$. The result is a bar plot like the amplitude spectra I showed before. \n",
    "The most visually striking differences would be that all values would be positive, and the bars heights would fall off more rapidly as $n$ increases, because $E_n \\propto A_n^2\\omega_n^2$ instead of $A_n$.\n",
    "Power spectra are much more widely used that amplitude spectra."
   ]
  }
 ],
 "metadata": {
  "anaconda-cloud": {},
  "celltoolbar": "Slideshow",
  "kernelspec": {
   "display_name": "Python [default]",
   "language": "python",
   "name": "python3"
  }
 },
 "nbformat": 4,
 "nbformat_minor": 1
}
