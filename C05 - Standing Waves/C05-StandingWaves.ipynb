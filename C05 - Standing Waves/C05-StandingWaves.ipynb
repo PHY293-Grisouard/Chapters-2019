{
 "cells": [
  {
   "cell_type": "raw",
   "metadata": {
    "raw_mimetype": "text/latex",
    "scrolled": true,
    "slideshow": {
     "slide_type": "skip"
    }
   },
   "source": [
    "\\newcommand{\\rads}{~rad.s$^{-1}$}\n",
    "\\newcommand{\\bnabla}{\\boldsymbol{\\nabla}}\n",
    "\\newcommand{\\eexp}[1]{\\textrm{e}^{#1}}\n",
    "\\newcommand{\\glm}[1]{\\overline{#1}^L}\n",
    "\\newcommand{\\di}[0]{\\textrm{d}}\n",
    "\\newcommand{\\bs}[1]{\\boldsymbol{#1}}\n",
    "\\newcommand{\\ode}[2]{\\frac{\\di {#1}}{\\di {#2}}}\n",
    "\\newcommand{\\oden}[3]{\\frac{\\di^{#1} {#2}}{\\di {#3}^{#1}}}\n",
    "\\newcommand{\\odel}[2]{\\di {#1}/\\di {#2}}\n",
    "\\newcommand{\\odeln}[3]{\\di^{#1} {#2}/\\di {#3}^{#1}}\n",
    "\\newcommand{\\pde}[2]{\\frac{\\partial {#1}}{\\partial {#2}}}\n",
    "\\newcommand{\\pden}[3]{\\frac{\\partial^{#1} {#2}}{\\partial {#3}^{#1}}}\n",
    "\\newcommand{\\pdel}[2]{\\partial_{#2} {#1}}\n",
    "\\newcommand{\\pdenl}[3]{\\partial^{#1}_{#3} {#2}}\n",
    "\\newcommand{\\divr}[1]{\\vec\\nabla \\cdot {#1}}\n",
    "\\newcommand{\\divrb}[1]{\\boldsymbol{\\nabla} \\cdot {#1}}\n",
    "\\newcommand{\\grad}[1]{\\vec \\nabla {#1}}\n",
    "\\newcommand{\\gradb}[1]{\\boldsymbol\\nabla {#1}}\n",
    "\\newcommand{\\curl}[1]{\\vec\\nabla \\times {#1}}\n",
    "\\newcommand{\\curlb}[1]{\\boldsymbol{\\nabla}\\times\\boldsymbol{#1}}\n",
    "\\newcommand{\\lapl}[0]{\\vec\\nabla^2}\n",
    "\\newcommand{\\laplb}[0]{\\boldsymbol{\\nabla}^2}\n",
    "\\newcommand{\\cplxi}[0]{\\mathrm i}\n",
    "\\newcommand{\\unit}[1]{\\mathbf{\\hat{#1}}}\n",
    "\\newcommand{\\thrfor}[0]{\\quad\\Rightarrow\\quad}\n",
    "\\newcommand{\\and}[0]{\\quad\\textrm{and}\\quad}\n",
    "\\newcommand{\\oreq}[0]{\\quad\\textrm{or}\\quad}\n",
    "\\newcommand{\\red}[1]{\\textcolor{red}{#1}}\n",
    "\\newcommand{\\blue}[1]{\\textcolor{blue}{#1}}\n",
    "\\newcommand{\\mage}[1]{\\textcolor{magenta}{#1}}\n",
    "\\newcommand{\\stirling}[2]{\\genfrac{[}{]}{0pt}{}{#1}{#2}}"
   ]
  },
  {
   "cell_type": "code",
   "execution_count": null,
   "metadata": {},
   "outputs": [],
   "source": []
  },
  {
   "cell_type": "raw",
   "metadata": {
    "raw_mimetype": "text/latex",
    "slideshow": {
     "slide_type": "skip"
    }
   },
   "source": [
    "\\DefineVerbatimEnvironment{Verbatim}{Verbatim}{fontsize=\\scriptsize}"
   ]
  },
  {
   "cell_type": "markdown",
   "metadata": {
    "slideshow": {
     "slide_type": "skip"
    }
   },
   "source": [
    "$\\newcommand{\\rads}{~rad.s$^{-1}$}$\n",
    "$\\newcommand{\\bnabla}{\\boldsymbol{\\nabla}}$\n",
    "$\\newcommand{\\eexp}[1]{\\textrm{e}^{#1}}$\n",
    "$\\newcommand{\\glm}[1]{\\overline{#1}^L}$\n",
    "$\\newcommand{\\di}[0]{\\textrm{d}}$\n",
    "$\\newcommand{\\bs}[1]{\\boldsymbol{#1}}$\n",
    "$\\newcommand{\\ode}[2]{\\frac{\\di {#1}}{\\di {#2}}}$\n",
    "$\\newcommand{\\oden}[3]{\\frac{\\di^{#1} {#2}}{\\di {#3}^{#1}}}$\n",
    "$\\newcommand{\\odel}[2]{\\di {#1}/\\di {#2}}$\n",
    "$\\newcommand{\\odeln}[3]{\\di^{#1} {#2}/\\di {#3}^{#1}}$\n",
    "$\\newcommand{\\pde}[2]{\\frac{\\partial {#1}}{\\partial {#2}}}$\n",
    "$\\newcommand{\\pden}[3]{\\frac{\\partial^{#1} {#2}}{\\partial {#3}^{#1}}}$\n",
    "$\\newcommand{\\pdel}[2]{\\partial_{#2} {#1}}$\n",
    "$\\newcommand{\\pdenl}[3]{\\partial^{#1}_{#3} {#2}}$\n",
    "$\\newcommand{\\mde}[1]{\\frac{\\textrm{D} {#1}}{\\textrm{D} t}}$\n",
    "$\\newcommand{\\mdel}[1]{\\textrm{D}_t {#1}}$\n",
    "$\\newcommand{\\divr}[1]{\\vec\\nabla \\cdot {#1}}$\n",
    "$\\newcommand{\\divrb}[1]{\\boldsymbol{\\nabla} \\cdot {#1}}$\n",
    "$\\newcommand{\\grad}[1]{\\vec \\nabla {#1}}$\n",
    "$\\newcommand{\\gradb}[1]{\\boldsymbol\\nabla {#1}}$\n",
    "$\\newcommand{\\curl}[1]{\\vec\\nabla \\times {#1}}$\n",
    "$\\newcommand{\\curlb}[1]{\\boldsymbol{\\nabla}\\times\\boldsymbol{#1}}$\n",
    "$\\newcommand{\\lapl}[0]{\\vec\\nabla^2}$\n",
    "$\\newcommand{\\laplb}[0]{\\boldsymbol{\\nabla}^2}$\n",
    "$\\newcommand{\\cplxi}[0]{\\mathrm i}$\n",
    "$\\newcommand{\\unit}[1]{\\mathbf{\\hat{#1}}}$\n",
    "$\\newcommand{\\thrfor}[0]{\\quad\\Rightarrow\\quad}$\n",
    "$\\newcommand{\\and}[0]{\\quad\\textrm{and}\\quad}$\n",
    "$\\newcommand{\\oreq}[0]{\\quad\\textrm{or}\\quad}$\n",
    "$\\newcommand{\\red}[1]{\\textcolor{red}{#1}}$\n",
    "$\\newcommand{\\blue}[1]{\\textcolor{blue}{#1}}$\n",
    "$\\newcommand{\\mage}[1]{\\textcolor{magenta}{#1}}$\n",
    "$\\newcommand{\\stirling}[2]{\\genfrac{[}{]}{0pt}{}{#1}{#2}}$"
   ]
  },
  {
   "cell_type": "markdown",
   "metadata": {
    "slideshow": {
     "slide_type": "skip"
    }
   },
   "source": [
    "*[Book: varies from section to section.]*"
   ]
  },
  {
   "cell_type": "markdown",
   "metadata": {
    "slideshow": {
     "slide_type": "skip"
    }
   },
   "source": [
    "# Introduction"
   ]
  },
  {
   "cell_type": "markdown",
   "metadata": {
    "slideshow": {
     "slide_type": "skip"
    }
   },
   "source": [
    "It is difficult to define what a wave is, but it is easy to recognise one.\n",
    "Perhaps the most general definition of a linear wave is that it is a travelling disturbance, although one by which no matter travels on average, and which obeys a linear dispersion law (to be defined).\n",
    "For example, sound waves are pressure waves. \n",
    "At the microscopic level, molecules of a fluid \"bump\" into each other, but return to their original position on average.\n",
    "The restoring force is simply provided by return of momentum to sender at shock, and damping can happen if the shocks are not completely elastic.\n",
    "The position of a molecule can therefore be very crudely modelled as a SHO or DHO.\n",
    "In a solid, it is the displacement of the atoms around their preferred rest position when the wave travels that in turn displaces neighbouring atoms, etc.\n",
    "On average however, the atoms themselves do not travel.\n",
    "I could multiply the examples: swell, waves in a pond, seismic waves, electromagnetic waves, gravitational waves, my very own oceanic internal inertia-gravity waves, stadium waves, and of course the quantum waves that Profs. Krasnopolskaia and Paramekanti will talk about in the rest of PHY293 and 294."
   ]
  },
  {
   "cell_type": "markdown",
   "metadata": {
    "slideshow": {
     "slide_type": "skip"
    }
   },
   "source": [
    "Waves travel in a continuum.\n",
    "Sometimes the continuum is an approximation of a discrete medium, like a gas of molecules or a crystal being approximated as a smooth, \"grainless\" medium, or like a super long chain of masses attached by springs.\n",
    "And sometimes, the medium is actually a continuum.\n",
    "For example, the ultimate continuum is vacuum, which can support the propagation of EM waves."
   ]
  },
  {
   "cell_type": "markdown",
   "metadata": {
    "slideshow": {
     "slide_type": "skip"
    }
   },
   "source": [
    "A continuum can therefore be modeled as an infinite number of oscillators, coupled together.\n",
    "Based on the results of the previous chapters, an infinite number of modes of oscillations can arise.\n",
    "As in the previous chapter, a given mode will be characterized by a certain number of nodes and antinodes.\n",
    "If the boundaries are constrained enough that they force the creation of nodes (like our coupled masses attached to walls or strings on a guitar) or antinodes (like when one blows in a flute, or water waves against a vertical wall), the waves are called \"standing waves\".\n",
    "Their formalism is very close to the types of eigenvalue problems we encountered in the previous chapter, which we describe now."
   ]
  },
  {
   "cell_type": "markdown",
   "metadata": {
    "slideshow": {
     "slide_type": "skip"
    }
   },
   "source": [
    "# Expectations"
   ]
  },
  {
   "cell_type": "markdown",
   "metadata": {
    "slideshow": {
     "slide_type": "slide"
    }
   },
   "source": [
    "## Remember\n",
    "\n",
    "* **The wave equation!!!**\n",
    "* What the phase speed is.\n",
    "* What the separation of variables method is.\n",
    "* The expression of the phase speed for a taut string (useful during tests).\n",
    "* The meaning and definitions of the wavenumbers $k_n$, angular frequencies $\\omega_n$ and wavelengths $\\lambda_n$.\n",
    "* The orthogonality relations for sines and cosines.\n",
    "* The energy of any solution is the sum of the energies of each single mode."
   ]
  },
  {
   "cell_type": "markdown",
   "metadata": {
    "slideshow": {
     "slide_type": "-"
    }
   },
   "source": [
    "## Understand\n",
    "\n",
    "* Why standing wave modes are orthogonal normal modes of the vibrating taut string.\n",
    "* How and why standing wave modes behave like simple harmonic oscillators.\n",
    "* How boundary conditions make the set of possible $k_n$ discrete (countably infinite)."
   ]
  },
  {
   "cell_type": "markdown",
   "metadata": {
    "slideshow": {
     "slide_type": "-"
    }
   },
   "source": [
    "## Apply\n",
    "\n",
    "* Apply boundary conditions to standing wave modes.\n",
    "* Anything that appears in the worked examples, tutorials and problem sets."
   ]
  },
  {
   "cell_type": "markdown",
   "metadata": {
    "slideshow": {
     "slide_type": "skip"
    }
   },
   "source": [
    "# The Taut String"
   ]
  },
  {
   "cell_type": "markdown",
   "metadata": {
    "slideshow": {
     "slide_type": "skip"
    }
   },
   "source": [
    "Following the spirit of this lecture series, we are only interested in the equations themselves, not the physical coefficients. \n",
    "This is because the linear equations are generic, while the coefficients will better be derived in specialized courses.\n",
    "Therefore, we choose a propagation medium, that is as simple as we can: the taut string[^1].\n",
    "Because it is taut, shaking does not induce large displacements of the string, nor does it induce large slopes of the string.\n",
    "That is, $\\tan\\theta = \\odel{y}x \\ll 1$, where $x$ is the along-string direction and $y$ is the across-string direction (cf. fig. 5.8 of King, reproduced here; we assume that the string vibrations only happen in a plane, which means that we do not need a third dimension to describe it; adding a third dimension would be meaningful if we were interested in the Physics, while we only care about the general behaviour of the equation).\n",
    "\n",
    "[^1]: I had to look it up, other non-native English speakers might want to know that according to dictionary.com, it means tightly drawn; tense; not slack."
   ]
  },
  {
   "cell_type": "markdown",
   "metadata": {
    "slideshow": {
     "slide_type": "skip"
    }
   },
   "source": [
    "The smallness of the parameter means that the oscillations of a piece of string are linear.\n",
    "A restoring force brings the string back to the main axis, and each piece of string can be described as a simple or damped harmonic oscillator, coupled to its neighbours to the left and right.\n",
    "Because the piece of spring can be arbitrarily small, the number of coupled oscillators is infinite.\n",
    "Therefore, we have all the ingredients to study the wave equation."
   ]
  },
  {
   "cell_type": "markdown",
   "metadata": {
    "slideshow": {
     "slide_type": "slide"
    }
   },
   "source": [
    "![Fig. 1: King 5.8](String.png)"
   ]
  },
  {
   "cell_type": "markdown",
   "metadata": {
    "slideshow": {
     "slide_type": "slide"
    }
   },
   "source": [
    "# The Wave Equation"
   ]
  },
  {
   "cell_type": "markdown",
   "metadata": {
    "slideshow": {
     "slide_type": "skip"
    }
   },
   "source": [
    "*[Book: §§ 5.1, 5.3]*"
   ]
  },
  {
   "cell_type": "markdown",
   "metadata": {
    "slideshow": {
     "slide_type": "skip"
    }
   },
   "source": [
    "Let's break down the string into infinitesimally small slices, and let's consider in particular a piece of string that is located between $x_0$ and $x_0 + \\delta x$ (see fig. 1).\n",
    "The transverse displacements are along the $y$-axis, and we identify them as $y(x, t)$.\n",
    "The string has pass per unit length $\\mu$ (in kg/m), and is submitted to a tension $T$ (in N), which we treat as constant along the string.\n",
    "At the ends of the tiny slice, the string makes an angle $\\theta$ with the $x$-axis at $x_0$, and $\\theta + \\delta \\theta$ at $x_0+\\delta x$ (again, see fig. 1).\n",
    "\n",
    "Let's do the Newton, $m\\vec a = \\sum \\vec F$, on that piece of string ($m = \\mu \\delta x$).\n",
    "Actually, we are only interested in the transverse phenomena, i.e., $m\\ddot y = \\sum F_y$.\n",
    "\n",
    "Therefore, let's consider the $y$-component of the tension, because it is the one that restores the position of the string to its resting, along-$x$ situation.\n",
    "At $x=x_0$, the $y$-component of the tension is \n",
    "$$\\left.F_y\\right|_{x_0} = -T\\sin\\theta \\approx -T\\theta \\approx -T\\tan\\theta = -T\\left.\\pde{y}x\\right|_{x_0}.$$\n",
    "The minus sign is because if $\\theta > 0$, the force pulls in the negative direction (see fig. 1).\n",
    "The successive approximations I made above work well in the small-displacements regime.\n",
    "The regime corresponds to the **linear regime** of this physical system, the only one we tackle in this course.\n",
    "\n",
    "Similarly, at $x=x_0 + \\delta x$,\n",
    "$$\\left.F_y\\right|_{x_0+\\delta x} \\approx T\\left.\\pde{y}x\\right|_{x_0+\\delta x}.$$\n",
    "Note the positive sign this time, because the situation is opposite as before.\n",
    "\n",
    "The slice is infinitesimally small, and we have no reason to believe that a discontinuity exists between $x_0$ and $x_0 + \\delta x$ (if there is one, then we just pick a smaller $\\delta x$).\n",
    "For these reasons, we can Taylor-expand $\\left.F_y\\right|_{x_0+\\delta x}$ into\n",
    "$$ \\left.F_y\\right|_{x_0+\\delta x} \\approx T \\left(\\left. \\pde{y}x \\right|_{x_0} + \\delta x \\left. \\pde{}x\\pde{y}x \\right|_{x_0} \\right) = -\\left.F_y\\right|_{x_0} + \\delta x \\, T \\left. \\pden2{y}x \\right|_{x_0}.$$\n",
    "\n",
    "Neglecting all other forces like gravity, Newton then tells you that\n",
    "$$ \\mu \\delta x \\pden2yt = \\left.F_y\\right|_{x_0} + \\left.F_y\\right|_{x_0 + \\delta} \\approx \\delta x \\, T \\left. \\pden2{y}x \\right|_{x_0}.$$"
   ]
  },
  {
   "cell_type": "markdown",
   "metadata": {
    "slideshow": {
     "slide_type": "-"
    }
   },
   "source": [
    "Dividing by the mass and introducing $v^2 = T/\\mu$, we find\n",
    "$$ \\boxed{\\pden2yt = v^2\\pden2yx}.\\hspace{5cm} (1)$$"
   ]
  },
  {
   "cell_type": "markdown",
   "metadata": {
    "slideshow": {
     "slide_type": "skip"
    }
   },
   "source": [
    "Again, $y(x,t)$ is the distance from axis at location $x$ and time $t$, and $v$ is the so-called *phase speed* of the waves.\n",
    "It is the speed at which the disturbance propagates along the string, and we treat it as a constant.\n",
    "This is a vague definition at this point, because we don't have all the tools necessary to understand the subtleties of propagation speed.\n",
    "But basically, imagine launching a wave pulse on a long rope (cf. King fig. 5.1, reproduced here), and imagine that somehow, the motion of your hand described a so-called \"Gaussian function\" $y(t) = A\\exp[-(t-t_0)^2/\\sigma_t^2]$.\n",
    "This function means that your hand motion went from 0 at $t \\ll t_0$ to $A$ at $t=t_0$ and back to 0 for $t \\to \\infty$, and that the motion typically lasted a duration of $2\\sigma_t$.\n",
    "This function look like a bell curve and is one of the most frequently encountered functions in physics."
   ]
  },
  {
   "cell_type": "markdown",
   "metadata": {
    "slideshow": {
     "slide_type": "subslide"
    }
   },
   "source": [
    "![King 5.1](RopePulse.png)"
   ]
  },
  {
   "cell_type": "markdown",
   "metadata": {
    "slideshow": {
     "slide_type": "skip"
    }
   },
   "source": [
    "Assuming that the waves on the rope are not too dispersive (we will see later what this means precisely), i.e., the pulse retains it shape, then the shape of the pulse on the rope will be\n",
    "$$ y(x, t) = A \\exp\\left[-\\left(\\frac{x - vt}{\\sigma_x}\\right)^2\\right] = A \\exp\\left[-\\left(\\frac{t - x/v}{\\sigma_t}\\right)^2\\right],$$\n",
    "i.e, it will look like a Gaussian function in space, propagating with a speed $v$, with a typical spatial width of $2\\sigma_x = 2v\\sigma_t$, but also in time, with a typical temporal width $2\\sigma_t$."
   ]
  },
  {
   "cell_type": "code",
   "execution_count": null,
   "metadata": {
    "slideshow": {
     "slide_type": "skip"
    }
   },
   "outputs": [],
   "source": [
    "# We can plot this\n",
    "import numpy as np\n",
    "import matplotlib.pyplot as plt\n",
    "\n",
    "x = np.linspace(-1., 5.0, 1024)  # a 4-m long rope\n",
    "sigma_x = 0.5  # typical width of pulse\n",
    "A = 1.  # amplitude of diplacement 1 m (just for illustration purposes)\n",
    "v = 1.  # propagation velocity 1 m/s (for illustration purposes)\n",
    "t0 = 0.  # time of first snapshot\n",
    "t1 = 2.  # time of second snapshot\n",
    "ftsz = 13  # the font size\n",
    "\n",
    "y_t0 = A*np.exp(-((x - v*t0)/sigma_x)**2)\n",
    "y_t1 = A*np.exp(-((x - v*t1)/sigma_x)**2)\n",
    "\n",
    "plt.figure()\n",
    "ax = plt.gca()\n",
    "ax.plot(x, y_t0, 'b', label='pulse at $t=t_0$')\n",
    "ax.plot(x, y_t1, 'r--', label='pulse at $t=t_0+\\Delta t$')\n",
    "ax.set_xlabel('$x$ [m]', fontsize=ftsz)\n",
    "ax.set_ylabel('$y/A$', fontsize=ftsz)\n",
    "ax.grid()\n",
    "\n",
    "# annotation to highlight the spatial width of pulse\n",
    "ax.plot(2*[-sigma_x], [0.5/np.exp(1), 1.3/np.exp(1)], 'k')\n",
    "ax.plot(2*[sigma_x], [0.5/np.exp(1), 1.3/np.exp(1)], 'k')\n",
    "ax.annotate(s='', xy=(-sigma_x, .3), xytext=(sigma_x, 0.3),\n",
    "            arrowprops=dict(arrowstyle='<|-|>'))  # the double arrow\n",
    "ax.text(0., 0.3, r'$2\\sigma_x$',\n",
    "        verticalalignment='center', horizontalalignment='center',\n",
    "        backgroundcolor='w', fontsize=ftsz)\n",
    "\n",
    "# annotation to highlight the distance travelled during Delta t\n",
    "ax.axvline(0., color='k', linestyle='--')\n",
    "ax.axvline(v*(t1-t0), color='k', linestyle='--')\n",
    "ax.annotate(s='', xy=(0., .8), xytext=(v*(t1-t0), 0.8),\n",
    "            arrowprops=dict(arrowstyle='<|-'))  # the double arrow\n",
    "ax.text(0.5*v*(t1-t0), 0.8, r'$v\\Delta t$',\n",
    "        verticalalignment='center', horizontalalignment='center',\n",
    "        backgroundcolor='w', fontsize=ftsz)\n",
    "\n",
    "plt.legend(loc='center right')\n",
    "plt.autoscale(enable=True, axis='x', tight=True)\n",
    "plt.savefig('TranslatingPulse.png', dpi=100)\n",
    "plt.close()"
   ]
  },
  {
   "cell_type": "markdown",
   "metadata": {
    "slideshow": {
     "slide_type": "subslide"
    }
   },
   "source": [
    "![Fig. 2: translating pulse](TranslatingPulse.png)"
   ]
  },
  {
   "cell_type": "markdown",
   "metadata": {
    "slideshow": {
     "slide_type": "subslide"
    }
   },
   "source": [
    "While the wave equation has the same form in many contexts, the definition of $v$ varies from field to field.\n",
    "\n",
    "* EM waves in a vacuum: $v = c \\approx 3\\times 10^8$ m.s$^{-1}$;\n",
    "* water waves whose wavelength is much longer than the depth, like ocean swell or tsunamis, $v = \\sqrt{gh}$, with $g$ the gravitational acceleration [in m.s$^{-2}$] and $h$ the water depth [in m]. Onto the deep sea, where $h \\approx 5$ km, $v\\approx 220$ m.s$^{-1} \\approx$ 800 km.h$^{-1}$. This is faster than the speed of sound, but again, remember that waves don't carry water around. It is not that crazy. It means that a Tsunami originating in Japan will take 10 hours to arrive on Canada's West coast;\n",
    "* sound waves: $v = 340$ m.s$^{-1}$ in air; in water $\\sim 1,500$ m.s$^{-1}$;\n",
    "* seismic primary (or pressure) waves ($\\approx$ sound waves) in the Earth's Crust: $v\\approx 6-8$ km.s$^{-1}$,\n",
    "* seismic secondary (or shear) waves in the Earth's crust: $v\\approx 3-4$ km.s$^{-1}$,\n",
    "* ... and for our taut string, $v = \\sqrt{T/\\mu}$, with $T$ the along-axis tension force [in N] and $\\mu$ the mass per unit length of the string [in kg.m$^{-1}$]. For a violin E string (the skinniest I think), $T \\approx 68$ N, $\\mu \\approx 0.126$ g for $33$ cm long, or $3.8\\times 10^{-4}$ kg.m$^{-1}$, and $v \\approx 420$ m.s$^{-1}$."
   ]
  },
  {
   "cell_type": "markdown",
   "metadata": {
    "slideshow": {
     "slide_type": "subslide"
    }
   },
   "source": [
    "# Standing Waves\n",
    "\n",
    "*[Book: § 6.1]*"
   ]
  },
  {
   "cell_type": "markdown",
   "metadata": {
    "slideshow": {
     "slide_type": "skip"
    }
   },
   "source": [
    "## General expression"
   ]
  },
  {
   "cell_type": "markdown",
   "metadata": {
    "slideshow": {
     "slide_type": "skip"
    }
   },
   "source": [
    "We will talk about traveling waves in the next chapter.\n",
    "Right now, we focus on *standing waves*, traveling waves' evil twins.\n",
    "Both descriptions are interchangeable: standing waves can be described and the sum of two traveling waves, and traveling waves can be decomposed on a basis of standing waves, which are the equivalent of the normal modes of the previous chapter.\n",
    "More on this later, but for now, let's dive in."
   ]
  },
  {
   "cell_type": "markdown",
   "metadata": {
    "slideshow": {
     "slide_type": "skip"
    }
   },
   "source": [
    "The key step is to **assume a form of the solutions to the wave equation (1) in which the variables are separable**:\n",
    "$$ \\boxed{y(x, t) = f(x) h(t)}.$$"
   ]
  },
  {
   "cell_type": "markdown",
   "metadata": {
    "slideshow": {
     "slide_type": "skip"
    }
   },
   "source": [
    "*Note: another try, another mathematical trick. How could you come up with it? You don't have to. As a researcher, I can tell that it is one of the easiest and therefore first things to do when one doesn't know anything about the solution. For you, just remember that it works. But remember it well, because it is important!*"
   ]
  },
  {
   "cell_type": "markdown",
   "metadata": {
    "slideshow": {
     "slide_type": "skip"
    }
   },
   "source": [
    "Therefore,\n",
    "$$ \\pden2yt = f(x)\\oden2{h(t)}t = f(x)\\ddot h(t) \\and \\pden2yx = h(t)\\oden2{f(x)}x = h(t)f''(x), $$\n",
    "and the wave equation becomes\n",
    "$$  f(x)\\oden2{h(t)}t = v^2 h(t)\\oden2{f(x)}x. $$"
   ]
  },
  {
   "cell_type": "markdown",
   "metadata": {
    "slideshow": {
     "slide_type": "skip"
    }
   },
   "source": [
    "The usefulness of this form is not apparent until after division by $f(x)h(t)$, i.e.\n",
    "$$ \\frac{1}{h(t)}\\oden2{h(t)}t = v^2 \\frac{1}{f(x)}\\oden2{f(x)}x. $$"
   ]
  },
  {
   "cell_type": "markdown",
   "metadata": {
    "slideshow": {
     "slide_type": "skip"
    }
   },
   "source": [
    "Looking at the equation closely, one notices that the LHS only depends on $t$, while the RHS only depends on $x$ (recall that $v$ is constant).\n",
    "The only way for two functions that depend on two different variables to be equal to each other is for both of them to be equal to a constant, i.e.,\n",
    "$$ \\frac{1}{h(t)}\\oden2{h(t)}t = v^2 \\frac{1}{f(x)}\\oden2{f(x)}x = -\\omega^2. $$"
   ]
  },
  {
   "cell_type": "markdown",
   "metadata": {
    "slideshow": {
     "slide_type": "fragment"
    }
   },
   "source": [
    "Why $-\\omega^2$? Because, for example,\n",
    "$$ \\frac{1}{h(t)}\\oden2{h(t)}t = -\\omega^2 \\thrfor \\boxed{\\ddot h(t) + \\omega^2 h(t) = 0}. $$\n",
    "This is the **same equation as an SHO**, and the solution is still\n",
    "$$ h(t) = H\\cos(\\omega t + \\phi). $$"
   ]
  },
  {
   "cell_type": "markdown",
   "metadata": {
    "slideshow": {
     "slide_type": "subslide"
    }
   },
   "source": [
    "Likewise,\n",
    "$$ f(x) = F\\cos(kx + \\phi_f), \\quad \\textrm{with} \\quad k = \\omega/v. $$"
   ]
  },
  {
   "cell_type": "markdown",
   "metadata": {
    "slideshow": {
     "slide_type": "skip"
    }
   },
   "source": [
    "In this chapter however, it will be easier for us to write the expression above as\n",
    "$$ f(x) = A \\cos(kx) + B \\sin(kx). $$"
   ]
  },
  {
   "cell_type": "markdown",
   "metadata": {
    "slideshow": {
     "slide_type": "skip"
    }
   },
   "source": [
    "Can we write \n",
    "$$ y(x, t) = H \\cos(\\omega t + \\phi)\\left[ A \\cos(kx) + B \\sin(kx) \\right] $$\n",
    "yet?\n",
    "Not quite, because $\\omega$ and $k$ can take many values.\n",
    "As we are about to see, for a given set of boundary conditions, there is a discrete but infinite number of possible solutions for $f$ and $h$."
   ]
  },
  {
   "cell_type": "markdown",
   "metadata": {
    "slideshow": {
     "slide_type": "skip"
    }
   },
   "source": [
    "***\n",
    "\n",
    "*End of 30 September lecture, beginning of 1 October lecture.*\n",
    "\n",
    "***"
   ]
  },
  {
   "cell_type": "markdown",
   "metadata": {
    "slideshow": {
     "slide_type": "skip"
    }
   },
   "source": [
    "## Boundary conditions"
   ]
  },
  {
   "cell_type": "markdown",
   "metadata": {
    "slideshow": {
     "slide_type": "skip"
    }
   },
   "source": [
    "In this chapter, we will solely focus on a string, that is attached at both ends.\n",
    "Let $x=L$ and $x=0$ be the locations of the walls.\n",
    "Mathematically, the statement translates into:\n",
    "$$ y(t, 0) = y(t, L) = 0 \\thrfor f(0) = f(L) = 0.$$"
   ]
  },
  {
   "cell_type": "markdown",
   "metadata": {
    "slideshow": {
     "slide_type": "skip"
    }
   },
   "source": [
    "$$ f(0) = A\\cos0 + B\\sin0 = A = 0. $$\n",
    "$$ \\thrfor f(L) = B\\sin(kL) = 0 \\thrfor kL = n\\pi, \\ n\\in \\mathbb N^*. $$\n",
    "$\\mathbb N^*$ means that zero is excluded.\n",
    "Indeed, because $k = \\omega/v$, $k=0\\Rightarrow\\omega = 0$, i.e., it is a trivial, non-oscillating solution.\n",
    "\n",
    "Strictly mathematically, I should actually write $n\\in \\mathbb Z^*$ instead.\n",
    "But $k<0$ means that $\\sin(kx) < 0$, and the result is the same if $B<0$ (which is weird) or $\\phi_h$ is augmented by $\\pi$ (which describes the same physical reality).\n",
    "Therefore, I will use $n \\in \\mathbb N^*$."
   ]
  },
  {
   "cell_type": "markdown",
   "metadata": {
    "slideshow": {
     "slide_type": "subslide"
    }
   },
   "source": [
    "Consequently, an infinite number of $k$'s can satisfy the wave equation when both ends are attached:\n",
    "$$ \\boxed{k_n = \\frac{n\\pi}L, \\quad n\\in \\mathbb N^*}. $$"
   ]
  },
  {
   "cell_type": "markdown",
   "metadata": {},
   "source": [
    "Recall that $k = \\omega/v$, therefore, the set of frequencies is also a countably infinite set:\n",
    "$$ \\boxed{\\omega_n = \\frac{n\\pi v}L, \\quad n\\in \\mathbb N^*}. $$"
   ]
  },
  {
   "cell_type": "markdown",
   "metadata": {
    "slideshow": {
     "slide_type": "skip"
    }
   },
   "source": [
    "The corresponding solution for a given $n$ is therefore\n",
    "$$ y_n(t, x) = C_n \\cos(\\omega_n t + \\phi_n)\\sin(k_n x). $$\n",
    "Such a partial solution is a **mode of vibration** of the string.\n",
    "It is of course the equivalent of the normal modes of the coupled systems of oscillators we saw in the last chapter.\n",
    "There is now an infinite number of them, because the string is a continuous system that can be viewed as an infinite number of coupled oscillators."
   ]
  },
  {
   "cell_type": "markdown",
   "metadata": {},
   "source": [
    "Like in the previous chapter, any solution can be written as a linear combination of a countably infinite set of **modes**, i.e.,\n",
    "$$ \\boxed{y(t, x) = \\sum_{n = 1}^{\\infty} C_n \\cos(\\omega_n t + \\phi_n)\\sin(k_n x)}. \\hspace{5cm} (2)$$"
   ]
  },
  {
   "cell_type": "code",
   "execution_count": null,
   "metadata": {
    "slideshow": {
     "slide_type": "skip"
    }
   },
   "outputs": [],
   "source": [
    "# the following two packages allow me to display the animation\n",
    "from matplotlib import animation\n",
    "from IPython.display import HTML\n",
    "# More about animations: \n",
    "# https://stackoverflow.com/questions/43445103/inline-animations-in-jupyter\n",
    "# http://louistiao.me/posts/notebooks/embedding-matplotlib-animations-in-jupyter-notebooks/"
   ]
  },
  {
   "cell_type": "code",
   "execution_count": null,
   "metadata": {
    "slideshow": {
     "slide_type": "skip"
    }
   },
   "outputs": [],
   "source": [
    "N = 4  # number of modes I want to display\n",
    "L = .33  # length of string: 33 cm\n",
    "T = 68  # tension in the string: 68 N\n",
    "mu = 0.125/L  # mass per unit lenght of the string\n",
    "\n",
    "x = np.linspace(0., L, 128)  # the x array\n",
    "v = np.sqrt(T/mu)  # phase speed\n",
    "k0 = np.pi/L  # the fundamental k; k_n = n*k0 and omega_n = n*v*k0\n",
    "\n",
    "k = [n*k0 for n in range(1, N+1)]  # the list of k's\n",
    "omega = [n*k0*v for n in range(1, N+1)]  # the list of k's\n",
    "C = [0.2+0.3/n for n in range(1, N+1)]  # I let the amplitude decrease with mode number, aribrarily\n",
    "f_modes = {}  # we will store the modes into a python structure called dictionary\n",
    "# f_modes only stores the spatial information\n",
    "for n in range(N):\n",
    "    f_modes[n] = np.sin(k[n]*x)"
   ]
  },
  {
   "cell_type": "code",
   "execution_count": null,
   "metadata": {
    "slideshow": {
     "slide_type": "skip"
    }
   },
   "outputs": [],
   "source": [
    "# Various quantities\n",
    "t_end = 2.*np.pi/(omega[0]) # time array spans one fundamental frequency\n",
    "n_frames = 50  # number of frames for animation\n",
    "time = np.linspace(0., t_end, n_frames)  # time array\n",
    "\n",
    "imagelist = []  # list of frames to eventually animate\n",
    "\n",
    "# Animation\n",
    "fig = plt.figure()\n",
    "ax = plt.gca()\n",
    "ax.set_xlim([0., 1.])\n",
    "ax.set_ylim([0.5, N+0.5])\n",
    "ax.set_xlabel('$x/L$', fontsize=ftsz)\n",
    "ax.set_yticks(range(1, N+1))\n",
    "ax.set_ylabel('$y_n(t, x) + \\mathrm{ mode\\ number\\ } n$', fontsize=ftsz)\n",
    "ax.grid()\n",
    "\n",
    "x_positions = np.tile(x, (N, 1))/L  # replicate the x array N times\n",
    "y_modes = np.zeros((N, len(x)))  # nx positions for N modes\n",
    "first_iteration = True  # I will want to save the first picture for the pdf notes\n",
    "for t in time: # We loop over time to animate the modes\n",
    "    for n in range(N):\n",
    "        y_modes[n, :] = 1 + n + C[n]*f_modes[n]*np.cos(omega[n]*t)\n",
    "    im = plt.scatter(x_positions, y_modes, c=y_modes, cmap='copper')\n",
    "    imagelist.append([im])\n",
    "\n",
    "# Creation of the animation\n",
    "ani = animation.ArtistAnimation(fig, imagelist, interval=40, blit=True, repeat_delay=1000)\n",
    "plt.close()"
   ]
  },
  {
   "cell_type": "code",
   "execution_count": null,
   "metadata": {
    "scrolled": false,
    "slideshow": {
     "slide_type": "subslide"
    }
   },
   "outputs": [],
   "source": [
    "# Show the animation\n",
    "HTML(ani.to_html5_video())"
   ]
  },
  {
   "cell_type": "code",
   "execution_count": null,
   "metadata": {
    "scrolled": false,
    "slideshow": {
     "slide_type": "skip"
    }
   },
   "outputs": [],
   "source": [
    "# Save the animation\n",
    "ani.save('VibrationModes.mp4')"
   ]
  },
  {
   "cell_type": "markdown",
   "metadata": {
    "slideshow": {
     "slide_type": "skip"
    }
   },
   "source": [
    "The animation coded above is saved under `VibrationModes.mp4` and uploaded onto the Q.\n",
    "Compare it with the video called `masses_for_04_modes.mp4` of the previous chapter!\n",
    "See also fig. 3 (King fig. 6.2) for a picture of the first four modes and fig. 4 (King fig. 6.1) for a representation of the time evolution of mode number 2."
   ]
  },
  {
   "cell_type": "markdown",
   "metadata": {
    "slideshow": {
     "slide_type": "skip"
    }
   },
   "source": [
    "![Fig. 3: King 6.2](King62.png)"
   ]
  },
  {
   "cell_type": "markdown",
   "metadata": {
    "slideshow": {
     "slide_type": "skip"
    }
   },
   "source": [
    "![Fig. 4: King 6.1](King61.png)"
   ]
  },
  {
   "cell_type": "markdown",
   "metadata": {
    "slideshow": {
     "slide_type": "skip"
    }
   },
   "source": [
    "Here are a few important remarks that you will also find on the captions of King's figures.\n",
    "\n",
    "* Those points where the string doesn't move are called **nodes**.\n",
    "* Those points in-between where the string moves with the largest amplitude are called **antinodes**. I might call them bellies. It is *not* standard practice to do so.\n",
    "* The mode with no nodes ($n = 1$ here) is called the **fundamental** (mode), or **first harmonic** (but really, \"fundamental\" is more standard). It is originally a musical term, I guess, as in, it corresponds to the gravest sound an instrument of piece of instrument can produce. The one with one node ($n = 2$) is called the **second harmonic**, and so on.\n",
    "* The $n^{th}$ harmonic has $n-1$ nodes, and $n$ antinodes.\n",
    "* $k_n$ is called the **wavenumber** of the $n^{th}$ mode, $$\\boxed{\\lambda_n = \\frac{2\\pi}{k_n}} = \\frac{2L}n $$ is its **wavelength**. The units of $k_n$ are rad.m$^{-1}$ and those of $\\lambda_n$ are m (metres)."
   ]
  },
  {
   "cell_type": "markdown",
   "metadata": {
    "slideshow": {
     "slide_type": "skip"
    }
   },
   "source": [
    "***\n",
    "\n",
    "**Worked example: King p. 143. Also recommended: worked example p. 144.**\n",
    "\n",
    "***"
   ]
  },
  {
   "cell_type": "markdown",
   "metadata": {
    "slideshow": {
     "slide_type": "skip"
    }
   },
   "source": [
    "# Standing Waves as Normal Modes of a Vibrating String\n",
    "\n",
    "*[Book: § 6.4]*"
   ]
  },
  {
   "cell_type": "markdown",
   "metadata": {
    "slideshow": {
     "slide_type": "skip"
    }
   },
   "source": [
    "## Results from Fourier Series"
   ]
  },
  {
   "cell_type": "markdown",
   "metadata": {
    "slideshow": {
     "slide_type": "skip"
    }
   },
   "source": [
    "We just saw that if $y_n$ and $y_m$ were modes of vibrations of the string, then a linear combination of those two was a solution. But is the reverse true? Namely, if $y$ is a solution, can it be written as $\\sum_{n=1}^{\\infty} A_n y_n$? After all, maybe we have only covered the set of solutions which were separable, and we are missing plenty of elementary solutions that cannot be written as $y_n(t, x) = f_n(x)h_n(t)$."
   ]
  },
  {
   "cell_type": "markdown",
   "metadata": {
    "slideshow": {
     "slide_type": "skip"
    }
   },
   "source": [
    "The answer is yes, the decomposition exists and is unique, but I will not prove it because you saw it in Calculus II with Fourier series.\n",
    "Just as the existence and unicity of the decomposition into eigenmodes for a coupled system of oscillations was a gift from a linear algebra class, the existence and unicity of the decomposition of any solution into standing wave mode is a gift from Fourier analysis."
   ]
  },
  {
   "cell_type": "markdown",
   "metadata": {
    "slideshow": {
     "slide_type": "skip"
    }
   },
   "source": [
    "Namely, the main result to remember from a lecture on Fourier series is that if a function $s(x)$ of the real variable $x$ is continuous and periodic, with period $L$, then $\\exists \\{A_n, B_n\\}_{n\\in \\mathbb N^*}$ such that \n",
    "$$ s(x) = \\frac{A_0}2 + \\sum_{n=1}^\\infty A_n \\cos(k_n x) + B_n \\sin(k_n x). $$"
   ]
  },
  {
   "cell_type": "markdown",
   "metadata": {
    "slideshow": {
     "slide_type": "skip"
    }
   },
   "source": [
    "And if the function is odd, i.e., $s(x) = -s(-x)$, then it is even simpler:\n",
    "$$ s(x) = \\sum_{n=1}^\\infty B_n \\sin(k_n x). $$"
   ]
  },
  {
   "cell_type": "markdown",
   "metadata": {
    "slideshow": {
     "slide_type": "skip"
    }
   },
   "source": [
    "You may object that Fourier series apply to periodic function, i.e., functions that exist on $\\mathbb R$, not $[0, L]$.\n",
    "The connection is that we can imagine our solution on $[0, L]$ as a \"cropped\" sub-set of a function that would be periodic.\n",
    "In this case, the actual solution and the corresponding infinitely long and periodic function share the same Fourier coefficients."
   ]
  },
  {
   "cell_type": "markdown",
   "metadata": {
    "slideshow": {
     "slide_type": "skip"
    }
   },
   "source": [
    "Let me plot a sketch of what I mean by \"actual solution\" (fig. 5) and \"infinitely long and periodic function\" (fig. 6)."
   ]
  },
  {
   "cell_type": "code",
   "execution_count": null,
   "metadata": {
    "slideshow": {
     "slide_type": "skip"
    }
   },
   "outputs": [],
   "source": [
    "# Definition of the function\n",
    "# Let's draw a triangular shape, with the top at a point where the string is plucked\n",
    "pluck_point = 0.25*L  # in [m]\n",
    "a = 0.01  # how high the string is plucked [m]\n",
    "s = a * x / pluck_point  # the first part of the string\n",
    "s[x > pluck_point] = a * (L - x[x > pluck_point]) / (L-pluck_point)  # the 2nd part\n",
    "\n",
    "plt.figure()\n",
    "plt.plot(x/L, s/a, 'r')\n",
    "plt.grid()\n",
    "plt.xlabel('$x/L$', fontsize=ftsz)\n",
    "plt.ylabel('$s/a$', fontsize=ftsz)\n",
    "plt.axvline(pluck_point/L, color='k', linestyle='--')\n",
    "plt.title('The plucked string on $[0, L]$', fontsize=ftsz)\n",
    "plt.ylim([0., 2.])\n",
    "plt.autoscale(enable=True, axis='x', tight=True)\n",
    "plt.savefig('PluckedString.png', dpi=100)\n",
    "plt.close()"
   ]
  },
  {
   "cell_type": "markdown",
   "metadata": {
    "slideshow": {
     "slide_type": "subslide"
    }
   },
   "source": [
    "![Fig.5: Plucked string](PluckedString.png)"
   ]
  },
  {
   "cell_type": "code",
   "execution_count": null,
   "metadata": {
    "slideshow": {
     "slide_type": "skip"
    }
   },
   "outputs": [],
   "source": [
    "x_extend = np.linspace(-1.5*L, 2.5*L, 512)  # x extended beyoind [0, L]\n",
    "s_extend = a * x_extend / pluck_point  # the first part of the string\n",
    "s_extend[x_extend > pluck_point] = (L - x_extend[x_extend > pluck_point]\n",
    "                                   ) * a / (L-pluck_point)\n",
    "s_extend[x_extend > 2*L-pluck_point] = (x_extend[x_extend > 2*L-pluck_point]/pluck_point\n",
    "                                        - 2*L/pluck_point) * a\n",
    "s_extend[x_extend > 2*L+pluck_point] = (L - x_extend[x_extend > 2*L+pluck_point]\n",
    "                                       )  * a / (L-pluck_point) + 2*a*L/(L-pluck_point)\n",
    "s_extend[x_extend < -pluck_point] = a * (L - x_extend[x_extend < -pluck_point]\n",
    "                                        ) / (L-pluck_point) - 2*a*L/(L-pluck_point)\n",
    "\n",
    "plt.figure()\n",
    "plt.plot(x_extend/L, s_extend/a, 'b--', label='$s(x)$ extended')\n",
    "plt.plot(x/L, s/a, 'r', label='$s(x)$')\n",
    "plt.grid()\n",
    "plt.xlabel('$x/L$', fontsize=ftsz)\n",
    "plt.ylabel('$s/a$', fontsize=ftsz)\n",
    "plt.ylim([-2., 2.])\n",
    "plt.axhline(0., color='k')\n",
    "plt.axvline(pluck_point/L, color='k', linestyle='--')\n",
    "plt.axvline(0., color='k')\n",
    "plt.axvline(1., color='k')\n",
    "plt.title('Equivalent plucked string on an extended interval', fontsize=ftsz)\n",
    "plt.legend()\n",
    "plt.autoscale(enable=True, axis='x', tight=True)\n",
    "plt.savefig('PeriodicPlucked.png', dpi=100)\n",
    "plt.close()"
   ]
  },
  {
   "cell_type": "markdown",
   "metadata": {
    "slideshow": {
     "slide_type": "subslide"
    }
   },
   "source": [
    "![Fig. 6: The plucked string, if it was part of an infinitely long and periodic function.](PeriodicPlucked.png)"
   ]
  },
  {
   "cell_type": "markdown",
   "metadata": {
    "slideshow": {
     "slide_type": "skip"
    }
   },
   "source": [
    "While the plucked string (red, solid line on fig. 6) is not periodic, the blue, dashed line is, and can be decomposed as a Fourier series.\n",
    "In the interval $[0, L]$, the two are indistinguishable, and the plucked string shares the extended string's expression."
   ]
  },
  {
   "cell_type": "markdown",
   "metadata": {
    "slideshow": {
     "slide_type": "skip"
    }
   },
   "source": [
    "Mathematically speaking, the rest of this section is basically an application of the Fourier series theory to string vibrations."
   ]
  },
  {
   "cell_type": "markdown",
   "metadata": {
    "slideshow": {
     "slide_type": "skip"
    }
   },
   "source": [
    "## Orthogonality of Standing Wave Modes"
   ]
  },
  {
   "cell_type": "markdown",
   "metadata": {
    "slideshow": {
     "slide_type": "skip"
    }
   },
   "source": [
    "In the last chapter, the linked masses resulted in a symmetric matrix to diagonalize, in which case the eigenvectors were orthogonal to each other.\n",
    "Something similar is happening here: the string is homogeneous ($\\mu$ is a constant), and the normal modes are orthogonal to each other.\n",
    "The \"dot product\" however needs to be redefined, because the vector space has changed.\n",
    "In the chapter on coupled oscillators, the inner product of the vector space was the good ol' dot product.\n",
    "Now, the inner product for two stress-free functions [^3] $f$ and $g$ is:\n",
    "$$f\\odot g = \\frac2L \\int_0^L f(x)g(x)\\di x.\\hspace{5cm}(3)$$\n",
    "\n",
    "[^3]: the physicist's definition of a \"stress-free function\" is a function that won't cause any problem when deriving, integrating or else. The kind of chill function we like to not worry about. Obviously, this chapter is not NIST approved."
   ]
  },
  {
   "cell_type": "markdown",
   "metadata": {
    "slideshow": {
     "slide_type": "skip"
    }
   },
   "source": [
    "The $2/L$ pre-factor is optional and is used to ensure that the functions are orthonormal with respect to the inner product. Indeed, here is a claim:\n",
    "$$ \\boxed{\\sin(k_n x) \\odot \\sin(k_m x) = \\delta_{mn}}.$$\n",
    "Recall that the Kronecker delta is $\\delta_{mn} = 1$ if $m=n$, and zero otherwise.\n",
    "That is, **modes are orthogonal to each other**."
   ]
  },
  {
   "cell_type": "markdown",
   "metadata": {
    "slideshow": {
     "slide_type": "skip"
    }
   },
   "source": [
    "*Note: Similarly,* $\\cos(k_n x) \\odot \\cos(k_m x) = \\delta_{mn}$ *and* $\\cos(k_n x) \\odot \\sin(k_m x) = 0$. *Yes, the last one is always zero, even if* $m = n$. *As far as I can tell though, we won't be using these relationships with the boundary conditions of strings attached to walls. We would if the origin of the $x$-axis was in the middle of the two walls, or if we had other boundary conditions. Therefore, it is not completely usueless to know that these relationships exist.*"
   ]
  },
  {
   "cell_type": "markdown",
   "metadata": {
    "slideshow": {
     "slide_type": "skip"
    }
   },
   "source": [
    "***\n",
    "\n",
    "*While not difficult, and even though it resembles a result we have seen earlier, I skipped the proof in class. Here it is, FYI. Don't worry about remembering it.*\n",
    "\n",
    "Recall that \n",
    "$$\\cos(a\\pm b) = \\cos a \\cos b \\mp \\sin a \\sin b.$$\n",
    "\n",
    "Sum those two and you get:\n",
    "$$ 2\\cos a\\cos b = \\cos(a-b) + \\cos(a+b). $$\n",
    "Subtract them and you obtain\n",
    "$$ 2\\sin a\\sin b = \\cos(a-b) - \\cos(a+b). $$\n",
    "\n",
    "* $m\\neq n$: for $a = n\\pi x/L$ and $b = m\\pi x/L$\n",
    "\n",
    "\\begin{align*}\n",
    "    \\sin a \\odot \\sin b & = \\frac{1}{L} \\int_0^L \\left(\\cos\\left(\\frac{(n-m) \\pi x}{L}\\right) +  \\cos\\left(\\frac{(n+m)\\pi x}{L}\\right) \\right) \\di x \\\\\n",
    "                        & = \\frac{1}{L} \\left[\\frac{L}{\\pi(n-m)}\\sin\\left(\\frac{(n-m) \\pi x}{L}\\right) + \\frac{L}{\\pi(n+m)} \\sin\\left(\\frac{(n+m)\\pi x}{L}\\right) \\right]_0^L \\\\\n",
    "                        & = 0 + 0 = 0 \\quad\\textrm{if}\\quad m \\neq n.\n",
    "\\end{align*}\n",
    "\n",
    "* $m=n$ on the other hand, we need to go back to $2\\sin a\\sin b = \\cos(a-b) - \\cos(a+b)$, which, if $a = b$, becomes $2\\sin^2(2a) = 1 - \\cos(2a)$. \n",
    "Of the two integrals that are to be computed, $\\int_0^L \\cos(2n\\pi x/L) \\di x = 0$ but $\\int_0^L \\di x = L$, and therefore,\n",
    "$$\\sin\\left(\\frac{n\\pi x}L\\right) \\odot \\sin\\left(\\frac{n\\pi x}L\\right) = \\frac{2}{L}\\frac{L}2 = 1. $$\n",
    "\n",
    "Very similar derivations exist for $\\cos(k_n x) \\odot \\cos(k_m x) = \\delta_{mn}$ and $\\cos(k_n x) \\odot \\sin(k_m x) = 0$.\n",
    "\n",
    "***"
   ]
  },
  {
   "cell_type": "markdown",
   "metadata": {
    "slideshow": {
     "slide_type": "skip"
    }
   },
   "source": [
    "Note that similarly to the last chapter, these results can be extended to strings that are non-homogeneous (i.e. $v$ depends on $x$, like a whip getting thinner away from the handle). A new inner product would need to be defined. \n",
    "This would be the equivalent of a matrix that is not symmetric in the previous chapter.\n",
    "These considerations are outside of what you need to know for this class."
   ]
  },
  {
   "cell_type": "markdown",
   "metadata": {
    "slideshow": {
     "slide_type": "skip"
    }
   },
   "source": [
    "## Initial Value Problems"
   ]
  },
  {
   "cell_type": "markdown",
   "metadata": {
    "slideshow": {
     "slide_type": "skip"
    }
   },
   "source": [
    "Like in previous chapters, while we know that the general form of the solution is in the form of eqn. $(2)$, finding the amplitudes $C_n$ and phases $\\phi_n$ remains to be computed for an IVP."
   ]
  },
  {
   "cell_type": "markdown",
   "metadata": {
    "slideshow": {
     "slide_type": "skip"
    }
   },
   "source": [
    "And like at the end of the previous chapter, the orthogonality condition will help us to solve this problem relatively easily."
   ]
  },
  {
   "cell_type": "markdown",
   "metadata": {
    "slideshow": {
     "slide_type": "skip"
    }
   },
   "source": [
    "First of all though, allow me to rewrite eqn. $(2)$ as\n",
    "$$\\boxed{y(t, x) = \\sum_{n = 1}^{\\infty} \\left[\\alpha_n \\cos(\\omega_n t) + \\beta_n \\sin(\\omega_n t)\\right]\\sin(k_n x)},\\hspace{4cm}(4)$$\n",
    "which is more convenient for IVPs."
   ]
  },
  {
   "cell_type": "markdown",
   "metadata": {
    "slideshow": {
     "slide_type": "skip"
    }
   },
   "source": [
    "Consider now an initial value problem\n",
    "$$ y(0, x) = P(x)\\and \\dot y(0, x) = V(x). $$"
   ]
  },
  {
   "cell_type": "markdown",
   "metadata": {
    "slideshow": {
     "slide_type": "skip"
    }
   },
   "source": [
    "We now have two equations,\n",
    "$$\\sum_{n = 1}^{\\infty} \\alpha_n\\sin(k_n x) = P(x) \\and \\sum_{n = 1}^{\\infty} \\omega_n\\beta_n\\sin(k_n x) = V(x).$$"
   ]
  },
  {
   "cell_type": "markdown",
   "metadata": {
    "slideshow": {
     "slide_type": "skip"
    }
   },
   "source": [
    "These could be seen as two equations with an infinite number of unknown each ($2\\times \\infty$ unknown total). But because these unknown multiply eigenfunctions that are all orthogonal to each other, we can use projections to turn it into a system with as many equations as there are unknown.\n",
    "For example,\n",
    "$$\\left[\\sum_{n = 1}^{\\infty} \\alpha_n\\sin(k_n x)\\right] \\odot \\sin(k_m x) = \\sum_{n = 1}^{\\infty} \\alpha_n\\left[\\sin(k_n x) \\odot \\sin(k_m x)\\right] = \\alpha_m.$$\n",
    "*Note: in the result above, I used that the $\\sin(k_n x)$ functions are orthonormal with respect to the inner product that I defined. Had I not added a $2/L$ pre-factor in my definition of the inner product (eqn. 3), I would have needed to multiply the right-most-hand-side of the equation above with $L/2$. This is what King sort of does in his book.*"
   ]
  },
  {
   "cell_type": "markdown",
   "metadata": {
    "slideshow": {
     "slide_type": "skip"
    }
   },
   "source": [
    "Therefore, \n",
    "$$ \\forall m\\in \\mathbb N^*, \\quad \\alpha_m = P(x) \\odot \\sin(k_m x) \\and \\beta_m = \\frac{1}{\\omega_m}V(x) \\odot \\sin(k_m x). $$"
   ]
  },
  {
   "cell_type": "markdown",
   "metadata": {
    "slideshow": {
     "slide_type": "skip"
    }
   },
   "source": [
    "We solved one problem but created a new one, which is to compute all the $P(x)\\odot \\sin(k_m x)$ and $V(x)\\odot \\sin(k_m x)$.\n",
    "But at least, there is a road map, which is to compute integrals.\n",
    "If the initial condition is simple enough, the integrals can be computed analytically (which we will do for a couple of examples), and if not, a computer can do it."
   ]
  },
  {
   "cell_type": "markdown",
   "metadata": {
    "slideshow": {
     "slide_type": "skip"
    }
   },
   "source": [
    "## Example: Initializing a Single Mode"
   ]
  },
  {
   "cell_type": "markdown",
   "metadata": {
    "slideshow": {
     "slide_type": "skip"
    }
   },
   "source": [
    "### Analytical Resolution\n",
    "\n",
    "Suppose we start with\n",
    "$$y(0, x) = P(x) = 4a\\sin\\left(\\frac{3\\pi x}{L}\\right) \\and \\dot y(0, x) = V(x) = 0,$$\n",
    "with $4a$ the initial amplitude of displacement (in m).\n",
    "Of course, the first things to notice is that $3\\pi/L = k_3$."
   ]
  },
  {
   "cell_type": "markdown",
   "metadata": {
    "slideshow": {
     "slide_type": "skip"
    }
   },
   "source": [
    "That $V(x) = 0$ means that $\\forall n\\in \\mathbb N^*$, $\\beta_n = 0$."
   ]
  },
  {
   "cell_type": "markdown",
   "metadata": {
    "slideshow": {
     "slide_type": "skip"
    }
   },
   "source": [
    "As for the $\\alpha_n$'s,\n",
    "\\begin{align*}\n",
    "    \\alpha_n & = P(x) \\odot \\sin(k_n x) \\\\\n",
    "             & = \\frac2L \\int_0^L P(x)\\sin(k_n x)\\di x \\\\\n",
    "             & = \\frac{8a}{L} \\int_0^L \\sin(k_3 x) \\sin(k_n x) \\di x \\\\\n",
    "             & = 4a \\delta_{3n}.\n",
    "\\end{align*}"
   ]
  },
  {
   "cell_type": "markdown",
   "metadata": {
    "slideshow": {
     "slide_type": "skip"
    }
   },
   "source": [
    "Therefore, the only frequency of oscillation is $\\omega_3 = \\frac{3\\pi }L\\sqrt{\\frac{T}{\\mu}}$ and the solution is \n",
    "$$y(t, x) = 4a\\cos\\left(\\frac{3\\pi t}{L}\\sqrt{\\frac{T}{\\mu}}\\right)\\sin\\left(\\frac{3\\pi x}{L}\\right) \n",
    "          = 4a\\cos\\left(\\omega_3 t\\right)\\sin\\left(k_3 x\\right),$$\n",
    "which is the only term that is left from eqn. (4)."
   ]
  },
  {
   "cell_type": "markdown",
   "metadata": {
    "slideshow": {
     "slide_type": "skip"
    }
   },
   "source": [
    "Note that the frequency was not explicitly present in the initial conditions, just the wave number.\n",
    "It is just like with the coupled pendulums: one mode, one frequency was selected by just initializing the masses positions with the right pattern (or *polarization*)."
   ]
  },
  {
   "cell_type": "markdown",
   "metadata": {
    "slideshow": {
     "slide_type": "skip"
    }
   },
   "source": [
    "A quick sanity check on the units: $T$ is in N, or kg.m.s$^{-2}$, and $\\mu$ is in kg.m$^{-1}$, therefore $\\sqrt{T/\\mu}$ is in m.s$^{-1}$ (which is good, because it is the phase speed), $\\sqrt{T/\\mu}/L$ is in s$^{-1}$ in SI base units, $3\\pi$ times the same is in rad.s$^{-1}$ (*not SI base units, but it is* $\\omega_3$ in rad.s$^{-1}$), and $\\omega_3 t$ is indeed dimensionless."
   ]
  },
  {
   "cell_type": "markdown",
   "metadata": {
    "slideshow": {
     "slide_type": "skip"
    }
   },
   "source": [
    "### Graphic Representation: Spectrum\n",
    "\n",
    "Then, there is the problem of the graphic representation of this solution.\n",
    "I could display an animation, as I did before, but while pedagogically useful, it is not the representation that compresses the information the most.\n",
    "After all, if the motion is harmonic, we don't need to display a moving string to know the time information, which is completely encapsulated in the number $\\omega_3$.\n",
    "The only other piece of information I need to know is the amplitude of the third harmonic, $4d$."
   ]
  },
  {
   "cell_type": "markdown",
   "metadata": {
    "slideshow": {
     "slide_type": "skip"
    }
   },
   "source": [
    "A solution is therefore to plot the amplitude as a function of frequency, and the plot is called a **spectrum** (see fig. 7)."
   ]
  },
  {
   "cell_type": "code",
   "execution_count": null,
   "metadata": {
    "scrolled": false,
    "slideshow": {
     "slide_type": "skip"
    }
   },
   "outputs": [],
   "source": [
    "# Let's plot\n",
    "plt.figure()\n",
    "plt.plot([3]*2, [0, 4], 'o-', linewidth=5)\n",
    "plt.axis([0, 5.1, 0, 4.4])\n",
    "plt.xticks(range(1, 6), \n",
    "          ['$\\omega_{0:1d}$'.format(n) for n in range(1, 6)],\n",
    "          fontsize=ftsz)\n",
    "plt.xlabel('Vibration frequency ($\\omega_n = n\\pi v/L$)', fontsize=ftsz)\n",
    "plt.ylabel(r'Modal amplitude $\\alpha_n/a$', fontsize=ftsz)\n",
    "plt.grid()\n",
    "plt.savefig('Spectrum1mode.png', dpi=100)\n",
    "plt.close()"
   ]
  },
  {
   "cell_type": "markdown",
   "metadata": {
    "slideshow": {
     "slide_type": "subslide"
    }
   },
   "source": [
    "![Fig. 7: Spectrum when only one mode of amplitude $4a$ is present.](Spectrum1mode.png)"
   ]
  },
  {
   "cell_type": "markdown",
   "metadata": {
    "slideshow": {
     "slide_type": "skip"
    }
   },
   "source": [
    "Two remarks on spectra.\n",
    "\n",
    "* We did plot very similar graphs on the lecture on resonance, when we were plotting the amplitude (or dissipated power) as a function of frequency. And indeed, we do not have dissipation, meaning that we don't need to invoke forcing to describe sustained oscillations. If we introduced damping and forcing, we could plot spectra of the string vibrations under a certain periodic forcing as a function of frequency indeed, and it would look very similar.\n",
    "* You might remember from your linear algebra class that \"spectrum\" is also the name of the set of eigenvalues of a matrix. While a set is not a plot, there is a connection, because the plot will have all the frequencies on the $x$-axis, and because there is a connection between these frequencies, the eigenfrequencies of the previous chapter, and linear algebra."
   ]
  },
  {
   "cell_type": "markdown",
   "metadata": {
    "slideshow": {
     "slide_type": "skip"
    }
   },
   "source": [
    "***\n",
    "\n",
    "*End of 1 October lecture, beginning of 4 October lecture.*\n",
    "\n",
    "***"
   ]
  },
  {
   "cell_type": "markdown",
   "metadata": {
    "slideshow": {
     "slide_type": "slide"
    }
   },
   "source": [
    "## Example: Plucked String.\n",
    "\n",
    "*Note: this is King, worked example p. 155.*"
   ]
  },
  {
   "cell_type": "markdown",
   "metadata": {
    "slideshow": {
     "slide_type": "skip"
    }
   },
   "source": [
    "### Analytical resolution\n",
    "\n",
    "Analytically speaking, it is relatively easy to compute the Fourier decomposition of a string, plucked in the middle:\n",
    "$$ y(0, x) = P(x) = \\frac{2a x}{L} \\quad \\textrm{for} \\quad 0\\leq x < L/2, $$\n",
    "$$ y(0, x) = P(x) = 2a\\left(1 - \\frac{x}{L}\\right) \\quad \\textrm{for} \\quad L/2 \\leq x \\leq L. $$"
   ]
  },
  {
   "cell_type": "markdown",
   "metadata": {
    "slideshow": {
     "slide_type": "skip"
    }
   },
   "source": [
    "As before, we will consider the case $\\dot y(0, x) = V(x) = 0$, which again means that $\\forall n\\in \\mathbb N^*$, $\\beta_n = 0$."
   ]
  },
  {
   "cell_type": "markdown",
   "metadata": {
    "slideshow": {
     "slide_type": "skip"
    }
   },
   "source": [
    "\\begin{align*}\n",
    "    \\alpha_n & = P(x) \\odot \\sin(k_n x) \\\\\n",
    "             & = \\frac{4a}L \\left[\\int_0^{L/2}\\frac{x}{L} \\sin(k_n x)\\di x + \\int_{L/2}^L \\left(1 - \\frac{x}{L}\\right) \\sin(k_n x)\\di x\\right].\n",
    "\\end{align*}"
   ]
  },
  {
   "cell_type": "markdown",
   "metadata": {
    "slideshow": {
     "slide_type": "skip"
    }
   },
   "source": [
    "A useful formula to compute these integrals is\n",
    "$$ \\int x' \\sin(bx') \\di x' = \\frac{\\sin(bx)}{b^2} - \\frac{x\\cos(bx)}{b},$$\n",
    "which is the result of an integration by parts, followed by a simple integration.\n",
    "Ask Wolfram Alpha if you are curious.\n",
    "Do not try to remember it."
   ]
  },
  {
   "cell_type": "raw",
   "metadata": {
    "raw_mimetype": "text/markdown",
    "slideshow": {
     "slide_type": "skip"
    }
   },
   "source": [
    "# for verification, I ask Python's symbolic math package to do it\n",
    "from sympy import *  # symbolic math operations\n",
    "init_printing(use_unicode=True)  # to print pretty\n",
    "\n",
    "n = Symbol('n', integer=True, positive=True)\n",
    "x, L = symbols('n, L', real=True, positive=True)"
   ]
  },
  {
   "cell_type": "raw",
   "metadata": {
    "raw_mimetype": "text/markdown",
    "slideshow": {
     "slide_type": "skip"
    }
   },
   "source": [
    "factor(integrate(x/L*sin(n*pi*x/L), (x, 0, L/2)))  # for verification"
   ]
  },
  {
   "cell_type": "markdown",
   "metadata": {
    "slideshow": {
     "slide_type": "skip"
    }
   },
   "source": [
    "The first integral is\n",
    "\\begin{align*}\n",
    "    \\int_0^{L/2}\\frac{x}{L} \\sin(k_n x)\\di x \n",
    "        & = \\frac{1}{k_n L} \\left[ \\frac{\\sin(k_n x)}{k_n} - x\\cos(k_n x) \\right]_0^{L/2} \\\\\n",
    "        & = \\frac{L}{n\\pi}\\left[\\frac{1}{n\\pi}\\sin\\left(\\frac{n\\pi}{2}\\right) - \\frac12\\cos\\left(\\frac{n\\pi}{2}\\right) \\right].\n",
    "\\end{align*}"
   ]
  },
  {
   "cell_type": "raw",
   "metadata": {
    "raw_mimetype": "text/markdown",
    "slideshow": {
     "slide_type": "skip"
    }
   },
   "source": [
    "factor(integrate((1-x/L)*sin(n*pi*x/L), (x, L/2, L)))  # for verification"
   ]
  },
  {
   "cell_type": "markdown",
   "metadata": {
    "slideshow": {
     "slide_type": "skip"
    }
   },
   "source": [
    "For the other integral, and following a similar calculation, we get\n",
    "$$\\int_{L/2}^L\\left(1 - \\frac{x}{L}\\right) \\sin(k_n x)\\di x = \\frac{L}{n\\pi}\\left[\\frac{1}{n\\pi}\\sin\\left(\\frac{n\\pi}{2}\\right) + \\frac12\\cos\\left(\\frac{n\\pi}{2}\\right) \\right]. $$"
   ]
  },
  {
   "cell_type": "markdown",
   "metadata": {
    "slideshow": {
     "slide_type": "skip"
    }
   },
   "source": [
    "Adding the two, we get\n",
    "$$ \\int_0^{L/2}\\frac{x}{L} \\sin(k_n x)\\di x + \\int_{L/2}^L \\left(1 - \\frac{x}{L}\\right) \\sin(k_n x)\\di x = \\frac{2L}{(n\\pi)^2}\\sin\\left(\\frac{n\\pi}{2}\\right) $$"
   ]
  },
  {
   "cell_type": "markdown",
   "metadata": {
    "slideshow": {
     "slide_type": "skip"
    }
   },
   "source": [
    "The final form of $\\alpha_n$ is therefore\n",
    "$$ \\alpha_n = \\frac{8 a}{(n\\pi)^2}\\sin\\left(\\frac{n\\pi}{2}\\right) = 0 \\quad\\textrm{if } n\\textrm{ is even, and} \\quad \\frac{8 a}{(n\\pi)^2}(-1)^{(n-1)/2}\\quad\\textrm{if } n\\textrm{ odd}. $$"
   ]
  },
  {
   "cell_type": "markdown",
   "metadata": {
    "slideshow": {
     "slide_type": "skip"
    }
   },
   "source": [
    "Let us only consider the $n$ odd case then, and let $n=2m+1$, $m\\in\\mathbb N$.\n",
    "From eqn. (4), the solution to the string, plucked in the middle is therefore:\n",
    "$$ \\boxed{y(t, x) = \\frac{8a}{\\pi^2}\\sum_{m=0}^{\\infty}\\frac{(-1)^{m}}{(2m+1)^2}\\cos\\left(\\frac{(2m+1)\\pi v}{L}t\\right)\\sin\\left(\\frac{(2m+1)\\pi}{L}x\\right)}. $$"
   ]
  },
  {
   "cell_type": "markdown",
   "metadata": {
    "slideshow": {
     "slide_type": "skip"
    }
   },
   "source": [
    "### Spectrum"
   ]
  },
  {
   "cell_type": "markdown",
   "metadata": {
    "slideshow": {
     "slide_type": "skip"
    }
   },
   "source": [
    "Although complicated, we can plot the formula above relatively easily as a spectrum. Let me compute a few values, with $d = 1 cm$, $L = 1 m$\n",
    "\n",
    "* $y_1(t, x) = \\frac{8a}{\\pi^2}\\cos\\frac{\\pi v t}L\\sin\\frac{\\pi x}L$,\n",
    "* $y_2(t, x) = 0$,\n",
    "* $y_3(t, x) = -\\frac{8a}{9\\pi^2}\\cos\\frac{3\\pi v t}L\\sin\\frac{3\\pi x}L$,\n",
    "* $y_4(t, x) = 0$,\n",
    "* $y_5(t, x) = \\frac{8a}{25\\pi^2}\\cos\\frac{5\\pi v t}L\\sin\\frac{5\\pi x}L$,\n",
    "* $y_6(t, x) = 0$,\n",
    "* ...\n",
    "\n",
    "We can easily plot the spectrum for the first few modes."
   ]
  },
  {
   "cell_type": "code",
   "execution_count": null,
   "metadata": {
    "slideshow": {
     "slide_type": "skip"
    }
   },
   "outputs": [],
   "source": [
    "# Let's plot\n",
    "N = 8  # maximum number of modes we plot\n",
    "plt.figure()\n",
    "for n in range(N):\n",
    "    plt.plot([n+1]*2, [0, np.sin(0.5*(n+1)*np.pi)/(n+1)**2], 'o-', linewidth=5)\n",
    "plt.axis([0, N+0.5, -0.15, 1.1])\n",
    "plt.axhline(0., color='k')\n",
    "plt.xticks(range(1, N+1), \n",
    "          ['$\\omega_{0:1d}$'.format(n) for n in range(1, N+1)],\n",
    "          fontsize=ftsz)\n",
    "plt.xlabel('Vibration frequency ($\\omega_n = n\\pi v/L$)', fontsize=ftsz)\n",
    "plt.ylabel(r'Modal amplitude $\\alpha_n\\pi^2/(8a)$', fontsize=ftsz)\n",
    "plt.grid()\n",
    "plt.savefig('SpectrumPlucked.png', dpi=100)\n",
    "plt.close()"
   ]
  },
  {
   "cell_type": "markdown",
   "metadata": {
    "slideshow": {
     "slide_type": "subslide"
    }
   },
   "source": [
    "![Fig. 8: Spectrum for a plucked string](SpectrumPlucked.png)"
   ]
  },
  {
   "cell_type": "markdown",
   "metadata": {
    "slideshow": {
     "slide_type": "skip"
    }
   },
   "source": [
    "The amplitude of each mode decays fast with the mode number.\n",
    "This is because by plucking the string in the middle, we created a \"large-scale pattern\" whose Fourier series converges very fast.\n",
    "We can plot this to visualise better."
   ]
  },
  {
   "cell_type": "markdown",
   "metadata": {
    "slideshow": {
     "slide_type": "skip"
    }
   },
   "source": [
    "*Note: usually, a \"spectrum\" plots $|\\alpha_n|$, not $\\alpha_n$ as I did, as if the sign was included in the phase of $\\cos(\\omega_n t)$.*"
   ]
  },
  {
   "cell_type": "code",
   "execution_count": null,
   "metadata": {
    "scrolled": false,
    "slideshow": {
     "slide_type": "skip"
    }
   },
   "outputs": [],
   "source": [
    "# I have to redefine the two quantities below because I used them as symbols in-between\n",
    "L = .33  # length of string: 33 cm\n",
    "x = np.linspace(0., L, 128)  # the x array\n",
    "\n",
    "mode = {}  # all modes stored in a dictionary\n",
    "y_approx = 0*x  # this will be the sum of thre first N modes\n",
    "y_init = 2*x/L  # the first part of the string; I will divide all y's by d\n",
    "y_init[x > 0.5*L] = 2. * (1 - x[x > 0.5*L]/L)  # the 2nd part\n",
    "\n",
    "fig = plt.figure()\n",
    "\n",
    "ff = 1  # frame number, or subplot number\n",
    "for m in range(N//2):\n",
    "    n = 2*m + 1\n",
    "    \n",
    "    mMax = 8/(n*np.pi)**2\n",
    "    mode[n] = mMax * np.sin(0.5*n*np.pi) * np.sin(n*np.pi*x/L)\n",
    "    y_approx += mode[n]\n",
    "    \n",
    "    axl = fig.add_subplot(len(range(N//2)), 2, ff)\n",
    "    axl.plot(x/L, mode[n])\n",
    "    axl.axis([0, 1., -mMax*1.1, mMax*1.1])\n",
    "    axl.ticklabel_format(axis='y', style='sci', scilimits=(-1, 1))\n",
    "    axl.set_ylabel(r'$N = {0:1d}$'.format(n))\n",
    "    axl.set_yticks([-mMax, 0., mMax])\n",
    "    axl.grid()\n",
    "    \n",
    "    axr = fig.add_subplot(len(range(N//2)), 2, ff+1)\n",
    "    axr.plot(x/L, y_approx, x/L, y_init, 'r--')\n",
    "    axr.axis([0, 1., 0., y_init.max()])\n",
    "    axr.set_yticks([0., 0.5, 1.])\n",
    "    axr.grid()\n",
    "    \n",
    "    if n == 1:\n",
    "        axl.set_title(r'$\\alpha_N\\sin(k_N x)$')\n",
    "        axr.set_title(r'$\\sum_{n=1}^N\\alpha_n\\sin(k_n x)$')\n",
    "    \n",
    "    if m == N//2-1:\n",
    "        axl.set_xlabel('$x/L$')\n",
    "        axr.set_xlabel('$x/L$')\n",
    "    else:\n",
    "        axl.set_xticklabels([])\n",
    "        axr.set_xticklabels([])\n",
    "    \n",
    "    ff += 2\n",
    "\n",
    "plt.tight_layout()\n",
    "plt.autoscale(enable=True, axis='x', tight=True)\n",
    "plt.savefig(\"Modes1to4.png\", dpi=150)\n",
    "plt.close()"
   ]
  },
  {
   "cell_type": "markdown",
   "metadata": {
    "scrolled": false,
    "slideshow": {
     "slide_type": "subslide"
    }
   },
   "source": [
    "![Fig. 8:](Modes1to4.png)"
   ]
  },
  {
   "cell_type": "markdown",
   "metadata": {
    "slideshow": {
     "slide_type": "skip"
    }
   },
   "source": [
    "In the figure above, the left column shows each individual initial mode, and the right column shows their sum, up to the mode on the left.\n",
    "Notice how after three modes ($N = 5$), most of the pattern is captured, and adding the fourth mode ($n=7$) does not improve the solution that much.\n",
    "This is why this approach is feasible: because we usually don't need an infinite number of modes to obtain a satisfying approximation to the solution."
   ]
  },
  {
   "cell_type": "markdown",
   "metadata": {
    "slideshow": {
     "slide_type": "skip"
    }
   },
   "source": [
    "Solving for the initial conditions means that we solved the problem at all times, as the animation below (saved under `PluckMiddle.mp4`) shows."
   ]
  },
  {
   "cell_type": "code",
   "execution_count": null,
   "metadata": {
    "slideshow": {
     "slide_type": "skip"
    }
   },
   "outputs": [],
   "source": [
    "# Various quantities\n",
    "t_end = 2.*np.pi/(omega[0]) # time array spans one fundamental frequency\n",
    "n_frames = 100  # number of frames for animation\n",
    "time = np.linspace(0., t_end, n_frames)  # time array\n",
    "\n",
    "imagelist = []  # list of frames to eventually animate\n",
    "\n",
    "# Animation\n",
    "fig = plt.figure()\n",
    "ax = plt.gca()\n",
    "ax.set_xlim([0., 1.])\n",
    "ax.set_ylim([-1., N//2+0.5])\n",
    "ax.set_xlabel('$x/L$', fontsize=ftsz)\n",
    "ax.set_yticks(range(0, N//2+1))\n",
    "ax.set_yticklabels(['$tot$', '1', '3', '5', '7'])\n",
    "ax.set_ylabel('$y_n(t, x)/a + \\mathrm{ mode\\ number}\\ n$', fontsize=ftsz)\n",
    "ax.grid()\n",
    "\n",
    "k = [n*k0 for n in range(1, N+1)]  # the list of k's\n",
    "omega = [n*k0*v for n in range(1, N+1)]  # the list of k's\n",
    "\n",
    "x_positions = np.tile(x, (N//2+1, 1))/L  # replicate the x array N/2+1 times\n",
    "for t in time: # We loop over time to animate the modes\n",
    "    y_modes = 0*x_positions  # nx positions for N modes\n",
    "    for m in range(N//2):\n",
    "        n = 2*m + 1\n",
    "        y_modes[m, :] = 1 + m + mode[n]*np.cos(omega[n]*t)\n",
    "        y_modes[N//2, :] += y_modes[m, :] - 1 - m\n",
    "\n",
    "    im = plt.scatter(x_positions, y_modes, c=y_modes, cmap='copper')\n",
    "    imagelist.append([im])\n",
    "\n",
    "# Creation of the animation\n",
    "ani = animation.ArtistAnimation(fig, imagelist, interval=40, blit=True, repeat_delay=80)\n",
    "plt.close()"
   ]
  },
  {
   "cell_type": "code",
   "execution_count": null,
   "metadata": {
    "scrolled": false,
    "slideshow": {
     "slide_type": "subslide"
    }
   },
   "outputs": [],
   "source": [
    "# Show the animation\n",
    "HTML(ani.to_html5_video())"
   ]
  },
  {
   "cell_type": "code",
   "execution_count": null,
   "metadata": {
    "slideshow": {
     "slide_type": "skip"
    }
   },
   "outputs": [],
   "source": [
    "# Save the animation\n",
    "ani.save('PluckMiddle.mp4')"
   ]
  },
  {
   "cell_type": "markdown",
   "metadata": {
    "slideshow": {
     "slide_type": "slide"
    }
   },
   "source": [
    "## Some videos"
   ]
  },
  {
   "cell_type": "markdown",
   "metadata": {},
   "source": [
    "I find them cool and instructive."
   ]
  },
  {
   "cell_type": "markdown",
   "metadata": {
    "slideshow": {
     "slide_type": "skip"
    }
   },
   "source": [
    "### Bowed Violin String in Slow Motion\n",
    "\n",
    "https://youtu.be/6JeyiM0YNo4"
   ]
  },
  {
   "cell_type": "code",
   "execution_count": null,
   "metadata": {
    "slideshow": {
     "slide_type": "subslide"
    }
   },
   "outputs": [],
   "source": [
    "from IPython.display import HTML\n",
    "HTML('<iframe width=\"560\" height=\"315\" src=\"https://www.youtube.com/embed/6JeyiM0YNo4?start=55\" frameborder=\"0\" allowfullscreen></iframe>')"
   ]
  },
  {
   "cell_type": "markdown",
   "metadata": {
    "slideshow": {
     "slide_type": "notes"
    }
   },
   "source": [
    "About this video of a violin string, note that:\n",
    "\n",
    "* The oscillation is created by the bow of the violin, sticking-and-slipping (this is actually a real expression) at a frequency that resonates with the oscillation we see.\n",
    "* When the bow is removed, towards the end of the video, you can see that very quickly, the oscillation becomes like a fundamental oscillation, and nothing else, the kink is gone. That's because in reality, there is damping, and the higher the harmonic is, the stronger the damping acts on it. Indeed, as we saw before, the kink is reproduced by very high modes, and those modes oscillate faster. Assuming (and this is actually a conservative assumption) that the damping force on a mode $n$ can be modeled as something like $-b\\dot y$ again, then it proportional to the frequency: $F_{damping} \\propto \\sum -\\omega_n\\alpha_n\\sin(\\omega_n t)\\sin(k_nx)$. Therefore, the higher a mode is, the faster the damping is. After a short period of time, damping has killed all the modes but the fundamental, which is the last harmonic standing (pun intended).\n",
    "* The violin is out-of-tune to visualize a pattern. The string's oscillations are way too large for a functioning violin."
   ]
  },
  {
   "cell_type": "markdown",
   "metadata": {
    "slideshow": {
     "slide_type": "skip"
    }
   },
   "source": [
    "### Chladni Plate\n",
    "\n",
    "https://youtu.be/wvJAgrUBF4w to complement the class demo."
   ]
  },
  {
   "cell_type": "code",
   "execution_count": null,
   "metadata": {
    "slideshow": {
     "slide_type": "subslide"
    }
   },
   "outputs": [],
   "source": [
    "HTML('<iframe width=\"560\" height=\"315\" src=\"https://www.youtube.com/embed/wvJAgrUBF4w\" frameborder=\"0\" allowfullscreen></iframe>')"
   ]
  },
  {
   "cell_type": "markdown",
   "metadata": {
    "slideshow": {
     "slide_type": "-"
    }
   },
   "source": [
    "For an in-house explanation, see the web page, created by our very own Prof. Stephen Morris: https://www.physics.utoronto.ca/~nonlin/chladni.html"
   ]
  },
  {
   "cell_type": "markdown",
   "metadata": {
    "slideshow": {
     "slide_type": "skip"
    }
   },
   "source": [
    "### Fourier Analysis (and guitar jammin')\n",
    "\n",
    "https://youtu.be/u1Lz8pm2npQ\n",
    "\n",
    "I love it and I hate it: this guy makes me look lame. Goes way beyond what I covered, in a compressed amount of time."
   ]
  },
  {
   "cell_type": "code",
   "execution_count": null,
   "metadata": {
    "slideshow": {
     "slide_type": "subslide"
    }
   },
   "outputs": [],
   "source": [
    "HTML('<iframe width=\"560\" height=\"315\" src=\"https://www.youtube.com/embed/u1Lz8pm2npQ\" frameborder=\"0\" allowfullscreen></iframe>')"
   ]
  },
  {
   "cell_type": "markdown",
   "metadata": {
    "slideshow": {
     "slide_type": "skip"
    }
   },
   "source": [
    "### Ruben's Tubes\n",
    "\n",
    "https://youtu.be/2awbKQ2DLRE\n",
    "\n",
    "The first minute of the video is pretty instructive, but the entire video is like a pyrotechnical version of a Chladni plate."
   ]
  },
  {
   "cell_type": "code",
   "execution_count": null,
   "metadata": {
    "slideshow": {
     "slide_type": "subslide"
    }
   },
   "outputs": [],
   "source": [
    "HTML('<iframe width=\"560\" height=\"315\" src=\"https://www.youtube.com/embed/2awbKQ2DLRE\" frameborder=\"0\" allowfullscreen></iframe>')"
   ]
  },
  {
   "cell_type": "markdown",
   "metadata": {
    "slideshow": {
     "slide_type": "skip"
    }
   },
   "source": [
    "### The Walking Water Mystery\n",
    "\n",
    "https://youtu.be/KJDEsAy9RyM\n",
    "\n",
    "The connection with standing waves may not be obvious at first. Jump to 4'15 or 8'14 if you are impatient, but the whole thing is worth a watch. Awesome stuff at 9'30."
   ]
  },
  {
   "cell_type": "code",
   "execution_count": null,
   "metadata": {
    "slideshow": {
     "slide_type": "subslide"
    }
   },
   "outputs": [],
   "source": [
    "HTML('<iframe width=\"560\" height=\"315\" src=\"https://www.youtube.com/embed/KJDEsAy9RyM\" frameborder=\"0\" allowfullscreen></iframe>')"
   ]
  },
  {
   "cell_type": "markdown",
   "metadata": {
    "slideshow": {
     "slide_type": "skip"
    }
   },
   "source": [
    "# Energy of Standing Waves\n",
    "\n",
    "*[King: §§ 6.3 and 6.4.4; skipped parts of the derivations also found in § 5.5]*"
   ]
  },
  {
   "cell_type": "markdown",
   "metadata": {
    "slideshow": {
     "slide_type": "skip"
    }
   },
   "source": [
    "The energy per unit length of the string is (cf. King § 5.5):\n",
    "$$E =  \\frac12 \\mu \\int_0^L \\left[\\left(\\pde{y}t\\right)^2 + v^2\\left(\\pde{y}x\\right)^2 \\right]\\di x,$$\n",
    "where the first part in the integral corresponds to the kinetic energy and the second part corresponds to the potential energy stored when the string moves away from its rest position ad gets stretched or compressed a little."
   ]
  },
  {
   "cell_type": "markdown",
   "metadata": {
    "slideshow": {
     "slide_type": "skip"
    }
   },
   "source": [
    "## Single Mode"
   ]
  },
  {
   "cell_type": "markdown",
   "metadata": {
    "slideshow": {
     "slide_type": "skip"
    }
   },
   "source": [
    "For a single mode, and assuming for simplicity that $V(x) = 0$,\n",
    "$$y(t, x) = y_n(t, x) = A_n \\cos(\\omega_n t)\\sin(k_n x),$$\n",
    "$$\\pde{y}t = -\\omega_n A_n \\sin(\\omega_n t)\\sin(k_n x),\\textrm{ and}$$\n",
    "$$\\pde{y}x = k_n A_n \\cos(\\omega_n t)\\cos(k_n x).$$"
   ]
  },
  {
   "cell_type": "markdown",
   "metadata": {
    "slideshow": {
     "slide_type": "skip"
    }
   },
   "source": [
    "Substituting into the expression for energy,\n",
    "\\begin{align*}\n",
    "    E_n & = \\frac12 \\mu \\int_0^L \\left[\\omega_n^2 A_n^2 \\sin^2(\\omega_n t)\\sin^2(k_n x)  + v^2k_n^2 A_n^2 \\cos^2(\\omega_n t)\\cos^2(k_n x)\\right]\\di x, \\\\\n",
    "        & = \\frac12 \\mu \\omega_n^2 A_n^2 \\left[\\sin^2(\\omega_n t)\\int_0^L \\sin^2(k_n x)\\di x + \\cos^2(\\omega_n t)\\int_0^L\\cos^2(k_n x)\\di x\\right].\n",
    "\\end{align*}"
   ]
  },
  {
   "cell_type": "markdown",
   "metadata": {
    "slideshow": {
     "slide_type": "skip"
    }
   },
   "source": [
    "You can compute (in which case you could use $\\cos^2 + \\sin^2 = 1$), or convince yourself by drawing $\\cos^2$ and $\\sin^2$, that the two integrals are the same:\n",
    "$$\\int_0^L \\sin^2(k_n x)\\di x = \\int_0^L \\cos^2(k_n x)\\di x = \\frac{L}2.$$"
   ]
  },
  {
   "cell_type": "markdown",
   "metadata": {
    "slideshow": {
     "slide_type": "skip"
    }
   },
   "source": [
    "And because $\\cos^2(\\omega_n t) + \\sin^2(\\omega_n t) = 1$,\n",
    "$$\\boxed{E_n = \\frac14\\mu L\\omega_n^2 A_n^2}.$$"
   ]
  },
  {
   "cell_type": "markdown",
   "metadata": {
    "slideshow": {
     "slide_type": "skip"
    }
   },
   "source": [
    "The expression above may look silly to remember, but there actually is physics in there, it is not so complicated, and I would like you to remember it.\n",
    "The energy of the SHO was already $kA^2/2 = m\\omega_0^2 A^2/2$, and so, if you could remember the energy of the SHO, you can remember this one.\n",
    "\n",
    "* $E_n \\propto m = \\mu L$, the mass of the string. Why not.\n",
    "* $E_n \\propto A_n^2$: quadratic dependence of the energy on the amplitude, a super-duper general statement that you have been needing to remember from the start of this lecture series,\n",
    "* $E_n \\propto \\omega_n^2$: looking straight at it, this looks new. But the energy of the SHO was already proportional to $k = m\\omega_0^2$, so, this is actually not that new. But it is important to remember it this way! \"Everything else being equal, a mode that oscillates twice as fast has four times the energy.\"\n",
    "* factor $1/4$: this one can be annoying because it is not $1/2$, and I forget about it all the time myself. I try to get around this problem by remembering that $L = 2n\\lambda_n$, and so $\\mu L/4 = n\\mu\\lambda_n/2$: the energy in one wavelength is $E_n/n = (m_n \\omega_n^2 A_n^2)/2$, with $m_n = \\mu \\lambda_n$ the mass of string in one wavelength. The pre-factor is not as important to remember as the other scalings though."
   ]
  },
  {
   "cell_type": "markdown",
   "metadata": {
    "slideshow": {
     "slide_type": "skip"
    }
   },
   "source": [
    "If we had different boundary conditions, we may have a combination of $\\sin(k_n x)$ and $\\cos(k_n x)$ in $y_n(t, x)$, but the derivation would be conceptually the same."
   ]
  },
  {
   "cell_type": "markdown",
   "metadata": {
    "slideshow": {
     "slide_type": "skip"
    }
   },
   "source": [
    "## Many modes"
   ]
  },
  {
   "cell_type": "markdown",
   "metadata": {
    "slideshow": {
     "slide_type": "skip"
    }
   },
   "source": [
    "With more than one mode,\n",
    "$$ y(t, x) = \\sum_{n=1}^\\infty A_n \\cos(\\omega_n t + \\phi_n)\\sin(k_n x).$$\n",
    "Let's discard $\\phi_n$, for example by assuming $V(x) = 0$."
   ]
  },
  {
   "cell_type": "markdown",
   "metadata": {
    "slideshow": {
     "slide_type": "skip"
    }
   },
   "source": [
    "\\begin{align*}\n",
    "    \\pde{y}t & = -\\sum_{n=1}^\\infty \\omega_n A_n \\sin(\\omega_n t)\\sin(k_n x),\\textrm{ and}\\\\\n",
    "    \\left(\\pde{y}t\\right)^2 & = \\left[\\sum_{n=1}^\\infty \\omega_n A_n \\sin(\\omega_n t)\\sin(k_n x)\\right]\\left[\\sum_{m=1}^\\infty \\omega_m A_m \\sin(\\omega_m t)\\sin(k_m x)\\right] \\\\\n",
    "                            & = \\sum_{n=1}^\\infty \\left(\\omega_n A_n \\sin(\\omega_n t)\\sin(k_n x)\\right)^2 + 2\\sum_{m=1}^\\infty\\sum_{n=m+1}^\\infty \\omega_m A_m\\omega_n A_n \\sin(\\omega_m t)\\sin(k_m x)\\sin(\\omega_n t)\\sin(k_n x).\n",
    "\\end{align*}"
   ]
  },
  {
   "cell_type": "markdown",
   "metadata": {
    "slideshow": {
     "slide_type": "skip"
    }
   },
   "source": [
    "Notice the $2\\sum_{m=1}^{\\infty}\\sum_{n=m+1}^{\\infty}$ double sum (like I need to remind you of it).\n",
    "The factor 2 is here because each term that has $m\\neq n$ will appear twice, say, the couples $\\{m=1, n=2\\}$ and $\\{m=2, n=1\\}$ each appear once, but lead to the same expression. Might as well just sum them once, but make them count twice.\n",
    "We start the second sum at $n=m+1$, not $n=m$, because the $n=m$ case is treated separately, in the first summation."
   ]
  },
  {
   "cell_type": "markdown",
   "metadata": {
    "slideshow": {
     "slide_type": "skip"
    }
   },
   "source": [
    "Before going any further, let us not forget that eventually, we will integrate these sums over $[0, L]$.\n",
    "In particular, the double sum will only contain terms proportional to \n",
    "$$\\int_0^L\\sin(k_m x)\\sin(k_n x) \\di x = 0\\quad \\textrm{because}\\quad n\\neq m.$$\n",
    "Therefore, \n",
    "$$ \\int_0^L \\left(\\pde{y}t\\right)^2 \\di x = \\sum_{n=1}^\\infty \\int_0^L \\left[\\omega_n A_n \\sin(\\omega_n t)\\sin(k_n x)\\right]^2 \\di x = \\sum_{n=1}^\\infty \\int_0^L \\left(\\pde{y_n}{t}\\right)^2 \\di x. $$\n"
   ]
  },
  {
   "cell_type": "markdown",
   "metadata": {
    "slideshow": {
     "slide_type": "skip"
    }
   },
   "source": [
    "A very similar derivation leads to\n",
    "$$ \\int_0^L\\left(\\pde{y}x\\right)^2\\di x = \\sum_{n=1}^\\infty\\int_0^L \\left(\\pde{y_n}{x}\\right)^2 \\di x, $$\n",
    "and therefore,\n",
    "$$\\boxed{E = \\sum_{n=1}^\\infty E_n} = \\frac{1}{4}\\mu L \\sum_{n=1}^\\infty \\omega_n^2 A_n^2.$$\n",
    "\n",
    "If you look back on your lectures on Fourier series, there should be a piece about Parseval's theorem. You may realize that the framed expression above is actually an application of it."
   ]
  },
  {
   "cell_type": "markdown",
   "metadata": {
    "slideshow": {
     "slide_type": "skip"
    }
   },
   "source": [
    "Just like for coupled oscillators, **each mode has its own energy, it does not communicate it to any other mode, and the total energy is the sum of the energy of each mode.** Remember it!"
   ]
  },
  {
   "cell_type": "markdown",
   "metadata": {
    "slideshow": {
     "slide_type": "skip"
    }
   },
   "source": [
    "## Power Spectra"
   ]
  },
  {
   "cell_type": "markdown",
   "metadata": {
    "slideshow": {
     "slide_type": "skip"
    }
   },
   "source": [
    "Power spectra are plots of $E_n$ vs. $\\omega_n$. The result is a bar plot like the amplitude spectra I showed before. \n",
    "The most visually striking differences would be that all values would be positive, and the bars heights would fall off more rapidly as $n$ increases, because $E_n \\propto A_n^2\\omega_n^2$ instead of $A_n$.\n",
    "Power spectra are much more widely used that amplitude spectra."
   ]
  }
 ],
 "metadata": {
  "anaconda-cloud": {},
  "celltoolbar": "Slideshow",
  "kernelspec": {
   "display_name": "Python [default]",
   "language": "python",
   "name": "python3"
  },
  "language_info": {
   "codemirror_mode": {
    "name": "ipython",
    "version": 3
   },
   "file_extension": ".py",
   "mimetype": "text/x-python",
   "name": "python",
   "nbconvert_exporter": "python",
   "pygments_lexer": "ipython3",
   "version": "3.5.6"
  }
 },
 "nbformat": 4,
 "nbformat_minor": 1
}
