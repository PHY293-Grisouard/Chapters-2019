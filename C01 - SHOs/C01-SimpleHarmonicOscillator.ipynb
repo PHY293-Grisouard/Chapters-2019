{
 "cells": [
  {
   "cell_type": "raw",
   "metadata": {
    "raw_mimetype": "text/latex",
    "slideshow": {
     "slide_type": "skip"
    }
   },
   "source": [
    "\\newcommand{\\rads}{~rad.s$^{-1}$}\n",
    "\\newcommand{\\BV}{Brunt-V\\\"ais\\\"al\\\"a{} }\n",
    "\\newcommand{\\bnabla}{\\boldsymbol{\\nabla}}\n",
    "\\newcommand{\\eexp}[1]{\\textsf{e}^{#1}}\n",
    "\\newcommand{\\glm}[1]{\\overline{#1}^L}\n",
    "\\newcommand{\\psmom}[0]{\\boldsymbol{\\textsf{p}}}\n",
    "\\newcommand{\\di}[0]{\\textrm{d}}\n",
    "\\newcommand{\\bs}[1]{\\boldsymbol{#1}}\n",
    "\\newcommand{\\ode}[2]{\\frac{\\di {#1}}{\\di {#2}}}\n",
    "\\newcommand{\\oden}[3]{\\frac{\\di^{#1} {#2}}{\\di {#3}^{#1}}}\n",
    "\\newcommand{\\odel}[2]{\\di {#1}/\\di {#2}}\n",
    "\\newcommand{\\odeln}[3]{\\di^{#1} {#2}/\\di {#3}^{#1}}\n",
    "\\newcommand{\\pde}[2]{\\frac{\\partial {#1}}{\\partial {#2}}}\n",
    "\\newcommand{\\pden}[3]{\\frac{\\partial^{#1} {#2}}{\\partial {#3}^{#1}}}\n",
    "\\newcommand{\\pdel}[2]{\\partial_{#2} {#1}}\n",
    "\\newcommand{\\pdenl}[3]{\\partial^{#1}_{#3} {#2}}\n",
    "\\newcommand{\\mde}[1]{\\frac{\\textrm{D} {#1}}{\\textrm{D} t}}\n",
    "\\newcommand{\\mdel}[1]{\\textrm{D}_t {#1}}\n",
    "\\newcommand{\\divr}[1]{\\vec\\nabla \\cdot {#1}}\n",
    "\\newcommand{\\divrb}[1]{\\boldsymbol{\\nabla} \\cdot {#1}}\n",
    "\\newcommand{\\grad}[1]{\\vec \\nabla {#1}}\n",
    "\\newcommand{\\gradb}[1]{\\boldsymbol\\nabla {#1}}\n",
    "\\newcommand{\\curl}[1]{\\vec\\nabla \\times {#1}}\n",
    "\\newcommand{\\curlb}[1]{\\boldsymbol{\\nabla}\\times\\boldsymbol{#1}}\n",
    "\\newcommand{\\lapl}[0]{\\vec\\nabla^2}\n",
    "\\newcommand{\\laplb}[0]{\\boldsymbol{\\nabla}^2}\n",
    "\\newcommand{\\cplxi}[0]{\\mathrm i}\n",
    "\\newcommand{\\unit}[1]{\\mathbf{\\hat{#1}}}\n",
    "\\newcommand{\\red}[1]{\\textcolor{red}{#1}}\n",
    "\\newcommand{\\blue}[1]{\\textcolor{blue}{#1}}\n",
    "\\newcommand{\\mage}[1]{\\textcolor{magenta}{#1}}"
   ]
  },
  {
   "cell_type": "raw",
   "metadata": {
    "raw_mimetype": "text/latex",
    "slideshow": {
     "slide_type": "skip"
    }
   },
   "source": [
    "\\DefineVerbatimEnvironment{Verbatim}{Verbatim}{fontsize=\\scriptsize}"
   ]
  },
  {
   "cell_type": "markdown",
   "metadata": {
    "raw_mimetype": "text/markdown",
    "slideshow": {
     "slide_type": "skip"
    }
   },
   "source": [
    "$\\newcommand{\\rads}{~rad.s$^{-1}$}$\n",
    "$\\newcommand{\\bnabla}{\\boldsymbol{\\nabla}}$\n",
    "$\\newcommand{\\eexp}[1]{\\textsf{e}^{#1}}$\n",
    "$\\newcommand{\\glm}[1]{\\overline{#1}^L}$\n",
    "$\\newcommand{\\psmom}[0]{\\boldsymbol{\\textsf{p}}}$\n",
    "$\\newcommand{\\di}[0]{\\textrm{d}}$\n",
    "$\\newcommand{\\bs}[1]{\\boldsymbol{#1}}$\n",
    "$\\newcommand{\\ode}[2]{\\frac{\\di {#1}}{\\di {#2}}}$\n",
    "$\\newcommand{\\oden}[3]{\\frac{\\di^{#1} {#2}}{\\di {#3}^{#1}}}$\n",
    "$\\newcommand{\\odel}[2]{\\di {#1}/\\di {#2}}$\n",
    "$\\newcommand{\\odeln}[3]{\\di^{#1} {#2}/\\di {#3}^{#1}}$\n",
    "$\\newcommand{\\pde}[2]{\\frac{\\partial {#1}}{\\partial {#2}}}$\n",
    "$\\newcommand{\\pden}[3]{\\frac{\\partial^{#1} {#2}}{\\partial {#3}^{#1}}}$\n",
    "$\\newcommand{\\pdel}[2]{\\partial_{#2} {#1}}$\n",
    "$\\newcommand{\\pdenl}[3]{\\partial^{#1}_{#3} {#2}}$\n",
    "$\\newcommand{\\mde}[1]{\\frac{\\textrm{D} {#1}}{\\textrm{D} t}}$\n",
    "$\\newcommand{\\mdel}[1]{\\textrm{D}_t {#1}}$\n",
    "$\\newcommand{\\divr}[1]{\\vec\\nabla \\cdot {#1}}$\n",
    "$\\newcommand{\\divrb}[1]{\\boldsymbol{\\nabla} \\cdot {#1}}$\n",
    "$\\newcommand{\\grad}[1]{\\vec \\nabla {#1}}$\n",
    "$\\newcommand{\\gradb}[1]{\\boldsymbol\\nabla {#1}}$\n",
    "$\\newcommand{\\curl}[1]{\\vec\\nabla \\times {#1}}$\n",
    "$\\newcommand{\\curlb}[1]{\\boldsymbol{\\nabla}\\times\\boldsymbol{#1}}$\n",
    "$\\newcommand{\\lapl}[0]{\\vec\\nabla^2}$\n",
    "$\\newcommand{\\laplb}[0]{\\boldsymbol{\\nabla}^2}$\n",
    "$\\newcommand{\\cplxi}[0]{\\mathrm i}$\n",
    "$\\newcommand{\\unit}[1]{\\mathbf{\\hat{#1}}}$\n",
    "$\\newcommand{\\thrfor}[0]{\\quad\\Rightarrow\\quad}$\n",
    "$\\newcommand{\\red}[1]{\\textcolor{red}{#1}}$\n",
    "$\\newcommand{\\blue}[1]{\\textcolor{blue}{#1}}$\n",
    "$\\newcommand{\\mage}[1]{\\textcolor{magenta}{#1}}$"
   ]
  },
  {
   "cell_type": "code",
   "execution_count": 6,
   "metadata": {
    "slideshow": {
     "slide_type": "skip"
    }
   },
   "outputs": [],
   "source": [
    "from IPython.display import Image, display"
   ]
  },
  {
   "cell_type": "markdown",
   "metadata": {
    "slideshow": {
     "slide_type": "skip"
    }
   },
   "source": [
    "*[Book: chapter 1]*\n",
    "\n",
    "This first chapter should be brief, a reminder of things you have seen before (and if not, well, it's not that hard).\n",
    "I will mostly forcus on a mass, oscillating because attached to a spring.\n",
    "Although very simple, this system encapsulates many features that we will see throughout the class.\n",
    "In particular, a second derivative will appear, and second derivatives are all that this half-term is about.\n",
    "\n",
    "All framed equations should be memorized."
   ]
  },
  {
   "cell_type": "markdown",
   "metadata": {
    "slideshow": {
     "slide_type": "skip"
    }
   },
   "source": [
    "# Expectations\n",
    "\n",
    "I will have one of these sections at the beginning of each chapter.\n",
    "They encapsulate what I hope to convey, and are usually divided into three sub-sections/imperatives: \"Remember\" (the stuff I ask you to remember), \"Understand\" (no need to memorize any of it, but you should be able to read orit or mentally represent it to yourself easily), \"Create and apply\" (what types of exercises you should be able to solve).\n",
    "\n",
    "So, for this chapter:"
   ]
  },
  {
   "cell_type": "markdown",
   "metadata": {
    "slideshow": {
     "slide_type": "subslide"
    }
   },
   "source": [
    "## Remember\n",
    "\n",
    "* Hooke's law.\n",
    "* The simple harmonic oscillator (SHO) equation, $\\ddot x + \\omega^2 x = 0$.\n",
    "* For the mass-spring system, what each symbol above represents (acceleration, angular frequency, position, respectively).\n",
    "* For the mass-spring system, $\\omega^2 = k/m$.\n",
    "* How $\\omega$ (the angular frequency), $\\nu$ (the frequency) and $T$ (the oscillation period) are related, and the units of each.\n",
    "* Solutions to the SHO are in the form of $A\\sin(\\omega t + \\phi)$, $A\\cos(\\omega t + \\phi)$, $A_1\\sin(\\omega t) + A_2\\cos(\\omega t)$ or any linear combination of these.\n",
    "* That the three general solution forms above are equivalent, and can be turned into one another.\n",
    "* That the energy is proportional to the square of the amplitude.\n",
    "* That energies oscillate at twice the frequency of that of the position and velocity."
   ]
  },
  {
   "cell_type": "markdown",
   "metadata": {
    "slideshow": {
     "slide_type": "subslide"
    }
   },
   "source": [
    "## Understand\n",
    "\n",
    "* What the linear regime means.\n",
    "* How the SHO equation is assembled for the mass-spring system, and for the LC circuit.\n",
    "* How the general solution forms above are mathematical representations of the motion (or charge, etc.) or the physical system.\n",
    "* What the $A$'s and $\\phi$ above represent physically."
   ]
  },
  {
   "cell_type": "markdown",
   "metadata": {
    "slideshow": {
     "slide_type": "subslide"
    }
   },
   "source": [
    "## Create and apply\n",
    "\n",
    "* Turn one general solution form above into another, with the help of a trigonometric identity cheat sheet.\n",
    "* Do quick unit checks as a safeguard against algebra errors.\n",
    "* From a set of two initial conditions (e.g. initial position **and** initial velocity, for the mass-spring system), how to compute the complete evolution of the system."
   ]
  },
  {
   "cell_type": "markdown",
   "metadata": {
    "slideshow": {
     "slide_type": "skip"
    }
   },
   "source": [
    "# Equations of motion\n",
    "\n",
    "Consider the spring-mass system in fig. 1. An ideal spring (that is, a weightless, dissipationless spring) of stiffess $k > 0$ [in N.m$^{-1}$, or kg.s$^{-2}$], attached to a fixed wall on one end, and an objet of mass $m$ [kg] on the other.\n",
    "\n",
    "![Fig. 1: Basic spring-mass system, with $k$ the stiffness of the spring and $m$ the mass of the object.](SpringMass.png)\n",
    "\n",
    "Let $x$ be the position of the centre of mass of the object. $x=0$ at rest, $x\\neq 0$ otherwise.\n",
    "Let's also assume the mass can slide on the surface without friction, and that the spring is \"perfect\" (that is, weightless and can oscillate without dissipation)."
   ]
  },
  {
   "cell_type": "markdown",
   "metadata": {
    "slideshow": {
     "slide_type": "skip"
    }
   },
   "source": [
    "We now pull the mass to position $x = x_0 \\neq 0$ and hold it there.\n",
    "If $x_0$ is \"not too big\", the spring will not deform or break.\n",
    "In this case, the force of the spring on the mass is (Hooke's law)\n",
    "$$ \\Large \\boxed{F = -kx_0.} $$\n",
    "\n",
    "* The negative sign mean that the force is a **restoring force** (tends to bring back to origin).\n",
    "\n",
    "* $k$ being constant, the force is proportional to the distance from rest state."
   ]
  },
  {
   "cell_type": "markdown",
   "metadata": {
    "slideshow": {
     "slide_type": "slide"
    }
   },
   "source": [
    "For a Flash animation of Hooke's law, follow this link:\n",
    "\n",
    "https://faraday.physics.utoronto.ca/GeneralInterest/Harrison/Flash/ClassMechanics/HookesLaw/HookesLaw.html"
   ]
  },
  {
   "cell_type": "markdown",
   "metadata": {
    "slideshow": {
     "slide_type": "skip"
    }
   },
   "source": [
    "This behaviour could define what \"linear\" means in physics.\n",
    "Any system for which a state of rest can be defined will respond linearly (\"proportionnally\") to weak disturbances or forces.\n",
    "\n",
    "![Fig. 2: Illustration of what linear behavious means.](Linear.png)\n",
    "\n",
    "**PHY293A: 100% linear physics.**\n",
    "\n",
    "*Note that fig. 2 is incorrect for the spring: is a spring is compressed to the max, it simply stops compressing. For $x$ too far in the negative, the non-linear regime is a vertical line representing an infinite force for too much compression. Also, the sign is wrong.*"
   ]
  },
  {
   "cell_type": "markdown",
   "metadata": {
    "slideshow": {
     "slide_type": "skip"
    }
   },
   "source": [
    "Let us now release our spring.\n",
    "The motion of the object has to obey Newton's second law, which constitutes an equation of motion.\n",
    "$$ ma = F\\ \\Rightarrow\\ m\\ddot{x} = -kx, $$\n",
    "with $a = \\ddot{x}$ the acceleration.\n",
    "The equation above is a **second-order Ordinary Differential Equation (ODE)**.\n",
    "\n",
    "**PHY293A: 99% 2**$^{nd}$**-order derivatives.**\n",
    "\n",
    "*Note: in this class, a dot on top of a quantity denotes its time derivative, and time derivative only:*\n",
    "$$ \\dot{x} = \\ode{x}t = v, \\ \\textrm{and}\\ \\ddot x = \\oden{2}{x}{t} = a $$\n",
    "*It cannot denote, e.g., a spatial derivative, and e.g. $\\dot k$ makes no sense because it is a constant.*"
   ]
  },
  {
   "cell_type": "markdown",
   "metadata": {
    "slideshow": {
     "slide_type": "skip"
    }
   },
   "source": [
    "# Solutions\n",
    "\n",
    "Let $$\\boxed{ \\large \\omega^2 = \\frac{k}{m} \\ \\Rightarrow \\ \\ddot{x} + \\omega^2 x = 0.} $$"
   ]
  },
  {
   "cell_type": "markdown",
   "metadata": {
    "slideshow": {
     "slide_type": "skip"
    }
   },
   "source": [
    "$\\omega$ is called the *angular frequency*.\n",
    "Because $k$ is in kg.s$^{-1}$ and $m$ is in kg, $\\omega$ is in s$^{-1}$ in SI units.\n",
    "In many cases, people prefer to refer to the *frequency* (just frequency), as a measure of how many cycles per seconds there are.\n",
    "Frequency $\\nu$ and angular frequency $\\omega$ are related via $\\omega = 2\\pi \\nu$.\n",
    "Because one full cycle corresponds to $2\\pi$ radians, many people prefer to refer to the units of $\\omega$ as rad.s$^{-1}$, and those of frequency as cycles.s$^{-1}$, or Hz.\n",
    "It makes it less confusing but not SI compliant (both cycles and radians have SI units of 1). \n",
    "In the context of this class, you are expected to quote angular frequencies in rad.s$^{-1}$ and frequencies in Hz, and know which one is which. "
   ]
  },
  {
   "cell_type": "markdown",
   "metadata": {
    "slideshow": {
     "slide_type": "skip"
    }
   },
   "source": [
    "The solution of the framed equation above is $$ x = A\\cos(\\omega t + \\phi), $$\n",
    "with $A$ the *amplitude* of the oscillation and $\\phi$ a *phase*, both to be determined.\n",
    "\n",
    "Note that because $\\cos(a+b) = \\cos{a}\\cos{b} - \\sin{a}\\sin{b}$, the solution can also be written $x = A_1\\cos(\\omega t) + A_2\\sin(\\omega t)$, with $A_1$ and $A_2$ now to be determined.\n",
    "My derivation could be done in these terms, but I will stick to the first form of the solution."
   ]
  },
  {
   "cell_type": "markdown",
   "metadata": {
    "slideshow": {
     "slide_type": "subslide"
    }
   },
   "source": [
    "***\n",
    "\n",
    "*End of 09/06 lecture, beginning of 09/09 lecture.*\n",
    "\n",
    "***"
   ]
  },
  {
   "cell_type": "markdown",
   "metadata": {
    "slideshow": {
     "slide_type": "skip"
    }
   },
   "source": [
    "We want to determine two parameters, $A$ and $\\phi$. \n",
    "Therefore, we need two pieces of information.\n",
    "We always have two *initial conditions*.\n",
    "For example, we can start with a \"clamped-mass\" kind of initial condition: \n",
    "\n",
    "1. initially (at $t=0$), the position was $x(t=0) = x_0$ and\n",
    "\n",
    "2. we are holding the mass still ($v(t=0)=0$). \n",
    "\n",
    "The velocity is $$ v = \\dot x = -A\\omega\\sin(\\omega t + \\phi). $$ Therefore, at $t=0$,\n",
    "    $$ x(t=0) = x_0 = A\\cos(\\phi)\\quad \\textrm{and}\\quad v(t=0) = 0 = -A\\omega\\sin(\\phi). $$"
   ]
  },
  {
   "cell_type": "markdown",
   "metadata": {
    "slideshow": {
     "slide_type": "skip"
    }
   },
   "source": [
    "According to the second equation, either $A =0$ or $\\phi=0$ or $\\pi$.\n",
    "But $A\\neq0$, unless $x_0 = 0$ (first eqn.).\n",
    "Therefore, either $\\phi = 0$ and $A=x_0$, or $\\phi = \\pi$ and $A = -x_0$.\n",
    "Mathematically, both are correct because strictly equivalent.\n",
    "However, $A>0$ by definition in this class, and therefore, it is the sign of $x_0$ that determines which option is correct."
   ]
  },
  {
   "cell_type": "markdown",
   "metadata": {
    "slideshow": {
     "slide_type": "skip"
    }
   },
   "source": [
    "Thus, $x(t) = x_0\\cos(\\omega t)$.\n",
    "Let us plot this (numerical values taken from the worked example of the book, page 9, except for the initial velocity which is zero)."
   ]
  },
  {
   "cell_type": "code",
   "execution_count": 26,
   "metadata": {
    "slideshow": {
     "slide_type": "skip"
    }
   },
   "outputs": [],
   "source": [
    "from numpy import cos, sin, sqrt, linspace, pi, angle\n",
    "import matplotlib.pyplot as plt\n",
    "\n",
    "def plot_SHO(k, m, x0, v0):\n",
    "    \"\"\"INPUT: \n",
    "    k: spring stiffness [N/m, kg/(s**2)]\n",
    "    m: mass [kg]\n",
    "    x0: initial position [m]\n",
    "    v0: initial velocity [m/s]\n",
    "    OUTPUT: plot of the mass position and velocity\"\"\"\n",
    "\n",
    "    # derived quantities\n",
    "    omega = sqrt(k/m)  # angular frequency of the oscillation, [rad/s]\n",
    "    T = 2*pi/omega  # period of oscillation [s]\n",
    "    t = linspace(0., 0.6, 128)  # time array, from 0 to 0.6 s, 128 points\n",
    "    A = sqrt(x0**2 + v0**2/omega**2)\n",
    "    phi = angle((x0 - 1j*v0/omega)/A)\n",
    "    \n",
    "    x = A*cos(omega*t + phi)  # postion [m]\n",
    "    v = -A*omega*sin(omega*t + phi)\n",
    "\n",
    "    # let's plot\n",
    "    import matplotlib.pyplot as plt\n",
    "    from matplotlib import interactive\n",
    "    interactive(False)\n",
    "\n",
    "    ftsz=13  # font size\n",
    "    plt.figure()\n",
    "\n",
    "    # plotting the position x(t)\n",
    "    ax1 = plt.gca()\n",
    "    ax1.plot(t, x, 'b')  # plotting the position x\n",
    "    ax1.set_xlabel('time [s]', fontsize=ftsz) \n",
    "    ax1.set_ylabel(r'position $x$ [m]', color='b', fontsize=ftsz)\n",
    "    ax1.tick_params('y', colors='b')  # color for y-axis is blue\n",
    "\n",
    "    # annotation to highlight the position amplitude\n",
    "    ax1.axhline(x0, color='b', linestyle='-.')  # the x=x0 mark\n",
    "    ax1.text(T*1.11, x0, '$x_0 = {0:1.0f}$ mm'.format(x0*1000),\n",
    "             verticalalignment='top', horizontalalignment='left',\n",
    "             color='b')\n",
    "\n",
    "    ax1.axhline(0., color='k')  # draw the zero-axis as horizontal line\n",
    "\n",
    "    # plotting the velocity v(t)\n",
    "    ax2 = ax1.twinx()  # creates another set of y-axis on the right\n",
    "    ax2.plot(t, v, 'r')  # plotting the velocity v\n",
    "    ax2.set_ylabel(r'velocity $v$ [m/s]', color='r', fontsize=ftsz)\n",
    "    ax2.tick_params(colors='r')  # color for other y-axis is red\n",
    "    ax2.set_xlim([t.min(), t.max()])\n",
    "\n",
    "    # annotation to highlight the velocity amplitude\n",
    "    ax2.axhline(-x0*omega, color='r', linestyle='-.')  # the v=v0 mark\n",
    "    ax2.text(0.6*T, -x0*omega,\n",
    "             r'$|\\omega x_0| \\approx {0:1.1f}$ cm/s'.format(x0*omega*100),\n",
    "             verticalalignment='bottom', horizontalalignment='left',\n",
    "             color='r')\n",
    "\n",
    "    # annotation to highlight the period\n",
    "    ax2.axvline(T, color='k', linestyle='-.')  # the t=T mark\n",
    "    ax2.annotate(s='', xy=(0., 4e-2), xytext=(T, 4e-2),\n",
    "                 arrowprops=dict(arrowstyle='<|-|>'))  # the double arrow\n",
    "    ax2.text(0.6*T, 4e-2, r'$T = 2\\pi/\\omega = {0:.2f}$ s'.format(T),\n",
    "             verticalalignment='center', horizontalalignment='center',\n",
    "             backgroundcolor='w', fontsize=ftsz)\n",
    "    \n",
    "    plt.show()\n",
    "    \n",
    "    return"
   ]
  },
  {
   "cell_type": "code",
   "execution_count": 33,
   "metadata": {
    "scrolled": false,
    "slideshow": {
     "slide_type": "subslide"
    }
   },
   "outputs": [
    {
     "data": {
      "application/vnd.jupyter.widget-view+json": {
       "model_id": "e32e5e127bf44bcd97dbf2b876cdfe66",
       "version_major": 2,
       "version_minor": 0
      },
      "text/plain": [
       "interactive(children=(IntSlider(value=180, description='k', max=540, min=-180), FloatSlider(value=0.8, descrip…"
      ]
     },
     "metadata": {},
     "output_type": "display_data"
    },
    {
     "data": {
      "text/plain": [
       "<function __main__.plot_SHO(k, m, x0, v0)>"
      ]
     },
     "execution_count": 33,
     "metadata": {},
     "output_type": "execute_result"
    }
   ],
   "source": [
    "from ipywidgets import interact, FloatSlider\n",
    "\n",
    "interact(plot_SHO, k=180, m=0.8, x0=FloatSlider(min=-0.2, max=0.2, step=1e-2, value=4e-2), v0=0.)"
   ]
  },
  {
   "cell_type": "markdown",
   "metadata": {
    "slideshow": {
     "slide_type": "skip"
    }
   },
   "source": [
    "$T = 2\\pi/\\omega = 1/\\nu$ is called the *period* of the oscillation, expressed in seconds."
   ]
  },
  {
   "cell_type": "markdown",
   "metadata": {
    "slideshow": {
     "slide_type": "skip"
    }
   },
   "source": [
    "*Suggested practise:*\n",
    "\n",
    "* *What happens to $\\omega$ if $m$ or $k$ increase? You can use the code above, but make sure  you convince yourself that it makes physical sense.*\n",
    "\n",
    "* *What if $v(t=0) = v_0 \\neq 0?$ Solve numerically with the values of King (worked example p. 9), and modify the code to plot it.*"
   ]
  },
  {
   "cell_type": "markdown",
   "metadata": {
    "slideshow": {
     "slide_type": "skip"
    }
   },
   "source": [
    "***\n",
    "\n",
    "I will work out the second bullet point in detail here, but not in class.\n",
    "The only difference with my previous example are the initial conditions.\n",
    "We are still looking for a solution of the form $x = A\\cos(\\omega t + \\phi)$.\n",
    "The velocity is $v = -A\\omega\\sin(\\omega t + \\phi)$.\n",
    "\n",
    "Plugging the initial conditions for $t=0$ yields $x_0 = A \\cos\\phi$ and\n",
    "\\begin{align*}\n",
    "    v_0 & = -A\\omega\\sin\\phi \\\\\n",
    "        & = -A\\omega\\sqrt{1-\\cos^2\\phi} \\\\\n",
    "        & = -A\\omega\\sqrt{1-x_0^2/A^2} = -\\omega\\sqrt{A^2-x_0^2}.\n",
    "\\end{align*}"
   ]
  },
  {
   "cell_type": "markdown",
   "metadata": {
    "slideshow": {
     "slide_type": "skip"
    }
   },
   "source": [
    "If we square the last equation, we get\n",
    "$$ v_0^2 - \\omega^2(A^2 - x_0^2) = 0 \\quad\\Rightarrow\\quad  A = \\sqrt{x_0^2 + v_0^2/\\omega^2}. $$\n",
    "Note: technically, $A$ should be $\\pm$ the result above.\n",
    "Mathematically, we could choose $A<0$, which would add or remove $\\pi$ to the phase.\n",
    "However, an amplitude is always positive by definition."
   ]
  },
  {
   "cell_type": "markdown",
   "metadata": {
    "slideshow": {
     "slide_type": "skip"
    }
   },
   "source": [
    "The phase satisfies both $\\cos\\phi = x_0/A$ and $\\sin\\phi = -v_0/(A\\omega)$.\n",
    "At this point, the analytical approach becomes cumbersome.\n",
    "Let us use the numerical values of King, p.9.:"
   ]
  },
  {
   "cell_type": "markdown",
   "metadata": {
    "slideshow": {
     "slide_type": "skip"
    }
   },
   "source": [
    "Let us use the numerical values of King, p.9.:\n",
    "$m = 0.8$ kg, $k = 180$ N.m$^{-1}$, therefore, $\\omega = 15$ rad.s$^{-1}$. For the initial conditions, $x_0 = 4$ cm and $v_0 = 0.5$ m.s$^{-1}$, and therefore, $A \\approx 5.21$ cm."
   ]
  },
  {
   "cell_type": "markdown",
   "metadata": {
    "slideshow": {
     "slide_type": "skip"
    }
   },
   "source": [
    "Based on these numerical values, $\\cos\\phi \\approx 0.768$, meaning $\\phi \\approx \\pm 39.8^\\circ$, and $\\sin\\phi \\approx -0.640$, meaning $\\phi \\approx -39.8^\\circ$ or $220^\\circ$.\n",
    "Therefore, $\\phi \\approx -39.8^\\circ$."
   ]
  },
  {
   "cell_type": "code",
   "execution_count": 16,
   "metadata": {
    "scrolled": true,
    "slideshow": {
     "slide_type": "skip"
    }
   },
   "outputs": [
    {
     "name": "stdout",
     "output_type": "stream",
     "text": [
      "phi = 39.8 or -39.8\n"
     ]
    }
   ],
   "source": [
    "from numpy import arccos, arcsin, sqrt\n",
    "x0 = 4e-2  # 4 cm\n",
    "v0 = 0.5  # m/s\n",
    "A = sqrt(x0**2 + v0**2/omega**2)\n",
    "cos_of_phi = x0/A\n",
    "print('phi = {0:.1f} or {1:.1f}'.format(180*arccos(cos_of_phi)/pi,\n",
    "                                        -180*arccos(cos_of_phi)/pi))"
   ]
  },
  {
   "cell_type": "code",
   "execution_count": 17,
   "metadata": {
    "slideshow": {
     "slide_type": "skip"
    }
   },
   "outputs": [
    {
     "name": "stdout",
     "output_type": "stream",
     "text": [
      "phi = -39.8 or 219.8\n"
     ]
    }
   ],
   "source": [
    "sin_of_phi = -v0/(omega*A)\n",
    "print('phi = {0:.1f} or {1:.1f}'.format(180*arcsin(sin_of_phi)/pi,\n",
    "                                        180-180*arcsin(sin_of_phi)/pi))"
   ]
  },
  {
   "cell_type": "code",
   "execution_count": 18,
   "metadata": {
    "slideshow": {
     "slide_type": "skip"
    }
   },
   "outputs": [],
   "source": [
    "# Let us plot\n",
    "phi = -39.8/180*pi\n",
    "x = A*cos(omega*t + phi)  # position [m]\n",
    "v = -A*omega*sin(omega*t + phi)  # velocity [m/s]"
   ]
  },
  {
   "cell_type": "code",
   "execution_count": 19,
   "metadata": {
    "slideshow": {
     "slide_type": "skip"
    }
   },
   "outputs": [],
   "source": [
    "# let's plot\n",
    "import matplotlib.pyplot as plt\n",
    "\n",
    "ftsz=13  # font size\n",
    "plt.figure()\n",
    "\n",
    "# plotting the position x(t)\n",
    "ax1 = plt.gca()\n",
    "ax1.plot(t, x, 'b')  # plotting the position x\n",
    "ax1.set_xlabel('time [s]', fontsize=ftsz) \n",
    "ax1.set_ylabel(r'position $x$ [m]', color='b', fontsize=ftsz)\n",
    "ax1.tick_params('y', colors='b')  # color for y-axis is blue\n",
    "\n",
    "ax1.axhline(0., color='k')  # draw the zero-axis as horizontal line\n",
    "\n",
    "# plotting the velocity v(t)\n",
    "ax2 = ax1.twinx()  # creates another set of y-axis on the right\n",
    "ax2.plot(t, v, 'r')  # plotting the velocity v\n",
    "ax2.set_ylabel(r'velocity $v$ [m/s]', color='r', fontsize=ftsz)\n",
    "ax2.tick_params(colors='r')  # color for other y-axis is red\n",
    "ax2.set_xlim([t.min(), t.max()])\n",
    "\n",
    "ax1.grid()"
   ]
  },
  {
   "cell_type": "code",
   "execution_count": 20,
   "metadata": {
    "slideshow": {
     "slide_type": "subslide"
    }
   },
   "outputs": [
    {
     "data": {
      "image/png": "[encoded data removed]",
      "text/plain": [
       "<matplotlib.figure.Figure at 0x7f3050365cf8>"
      ]
     },
     "metadata": {},
     "output_type": "display_data"
    }
   ],
   "source": [
    "plt.show()"
   ]
  },
  {
   "cell_type": "markdown",
   "metadata": {
    "slideshow": {
     "slide_type": "skip"
    }
   },
   "source": [
    "The figure above shows that with some positive initial velocity, the mass keeps going in the positive direction for a little while.\n",
    "The oscillation period remains the same however, and the curves above look fundamentally the same as the \"clamped mass\" situation, earlier, except for a shift in time."
   ]
  },
  {
   "cell_type": "markdown",
   "metadata": {
    "slideshow": {
     "slide_type": "skip"
    }
   },
   "source": [
    "# Energy Juggling"
   ]
  },
  {
   "cell_type": "markdown",
   "metadata": {
    "slideshow": {
     "slide_type": "skip"
    }
   },
   "source": [
    "Considering the energy is a powerful tool to solve many problems.\n",
    "SHOs are no exception, because without dissipation, their total mechanical energy stays the same forever.\n",
    "\n",
    "You certainly remember that the kinetic energy (KE) $K$ of an object of mass $m$ and velocity $v$ is $$K = \\frac12 m v^2.$$\n",
    "The only part of the system that has KE is the mass, because the spring is ideal (weightless)."
   ]
  },
  {
   "cell_type": "markdown",
   "metadata": {
    "slideshow": {
     "slide_type": "skip"
    }
   },
   "source": [
    "But what is the equivalent of the potential energy (PE), which I will call $U$?\n",
    "When an object of mass $m$ initially at rest is dropped in vacuum and travels a distance $h$, it KE is equal to $mgh$, the PE it had initially.\n",
    "Following this analogy, we measure $U$ in our system from a state when the KE is zero, i.e., when the spring is in a  state of maximal extension or compression.\n",
    "This time, it is the spring that contains $U$, not the mass.\n",
    "The spring packs all the potential for the mass to gain KE.\n",
    "This is where the analogy with the dropped ball fails: the PE that the ball had before being dropped was proportional to its mass because the force that was going to set it in motion was the gravitational force.\n",
    "Here, it is the force of the spring, which does not care about the mass, or absence thereof, of the spring."
   ]
  },
  {
   "cell_type": "markdown",
   "metadata": {
    "slideshow": {
     "slide_type": "skip"
    }
   },
   "source": [
    "So, back to our spring. The infinitesimal PE of an infinitesimally small piece of spring located at position $x'$ is related to the work $W = -\\di U$ done when moving it by a distance $\\di x'$, following\n",
    "$$ W = \\vec F(x') \\cdot \\di \\vec x' = -kx'\\di x'. $$\n",
    "\n",
    "The potential energy stored in the *entire* spring whose length has increased by $x$ (the position of the mass) is therefore\n",
    "$$ U = \\int_0^x kx'\\di x' = \\frac12 kx^2. $$"
   ]
  },
  {
   "cell_type": "markdown",
   "metadata": {
    "slideshow": {
     "slide_type": "skip"
    }
   },
   "source": [
    "It is easy to check that the total mechanical energy is constant:\n",
    "$$\\boxed{ E = K + U = \\frac12 mv^2 + \\frac12 kx^2 = \\frac12 k A^2 =  constant.} $$\n",
    "Indeed, recall that we already computed $x(t)$ and $v(t)$. \n",
    "It is simply a matter of substituting for them, and remembering that $\\cos^2 + \\sin^2 = 1$."
   ]
  },
  {
   "cell_type": "markdown",
   "metadata": {
    "slideshow": {
     "slide_type": "skip"
    }
   },
   "source": [
    "Note that when I introduced this chapter, I mentioned that considerations about energy conservation helped solve problems.\n",
    "Here, I just did the opposite: I verified conservation of energy by solving the problem first.\n",
    "King § 1.2.5 has a derivation that derives energy conservation from Newton's 2$^{nd}$ law, which you should definitely check out."
   ]
  },
  {
   "cell_type": "markdown",
   "metadata": {
    "slideshow": {
     "slide_type": "skip"
    }
   },
   "source": [
    "Back to the framed equation above: **the energy is proportional to the square of the amplitude**, which is a very general statement about oscillations. Remember it!"
   ]
  },
  {
   "cell_type": "code",
   "execution_count": 24,
   "metadata": {
    "slideshow": {
     "slide_type": "skip"
    }
   },
   "outputs": [],
   "source": [
    "# Let us plot this.\n",
    "K = 0.5*m*v**2\n",
    "U = 0.5*k*x**2\n",
    "E = 0.5*k*A**2"
   ]
  },
  {
   "cell_type": "code",
   "execution_count": 25,
   "metadata": {
    "slideshow": {
     "slide_type": "skip"
    }
   },
   "outputs": [
    {
     "data": {
      "text/plain": [
       "Text(0.20944,0.0488,'$T = 2\\\\pi/\\\\omega \\\\approx 0.42$ s')"
      ]
     },
     "execution_count": 25,
     "metadata": {},
     "output_type": "execute_result"
    }
   ],
   "source": [
    "# Let us plot this.\n",
    "ftsz=13  # font size\n",
    "plt.figure()\n",
    "\n",
    "ax1 = plt.gca()\n",
    "ax1.plot(t, K, 'b', label='$K$')  # plotting the KE K\n",
    "ax1.plot(t, U, 'r--', label='$U$')  # plotting the PE U\n",
    "ax1.legend()\n",
    "ax1.set_xlabel('time [s]', fontsize=ftsz) \n",
    "ax1.set_ylabel(r'Energy [J, or kg.m$^2$.s$^{-2}$]', color='b', fontsize=ftsz)\n",
    "\n",
    "# annotation to highlight the total energy\n",
    "ax1.axhline(E, color='k', linestyle='-.')  # total mechanical energy\n",
    "ax1.text(T*1.11, E*0.97, '$E = kA^2/2$', color='k',\n",
    "         verticalalignment='top', horizontalalignment='left',\n",
    "         backgroundcolor='w', fontsize=ftsz)\n",
    "\n",
    "ax1.axhline(0., color='k')  # draw the zero-axis as horizontal line\n",
    "ax1.set_xlim([t.min(), t.max()])\n",
    "\n",
    "# annotation to highlight the period\n",
    "ax1.axvline(T, color='k', linestyle='-.')  # the t=T mark\n",
    "ax1.annotate(s='', xy=(0., 0.2*E), xytext=(T, 0.2*E),\n",
    "             arrowprops=dict(arrowstyle='<|-|>'))  # the double arrow\n",
    "ax1.text(T/2, 0.2*E, r'$T = 2\\pi/\\omega \\approx {0:.2f}$ s'.format(T),\n",
    "         verticalalignment='center', horizontalalignment='center',\n",
    "         backgroundcolor='w', fontsize=ftsz)"
   ]
  },
  {
   "cell_type": "code",
   "execution_count": 26,
   "metadata": {
    "scrolled": false,
    "slideshow": {
     "slide_type": "subslide"
    }
   },
   "outputs": [
    {
     "data": {
      "image/png": "[encoded data removed]",
      "text/plain": [
       "<matplotlib.figure.Figure at 0x7f3050532d30>"
      ]
     },
     "metadata": {},
     "output_type": "display_data"
    }
   ],
   "source": [
    "plt.show()"
   ]
  },
  {
   "cell_type": "markdown",
   "metadata": {
    "slideshow": {
     "slide_type": "skip"
    }
   },
   "source": [
    "Which makes sense: at maximum extension, $K=0$ and $U = kx_0^2/2$ is maximum.\n",
    "When the mass passes by the rest position $x=0$ at $t=T/4$, the velocity and therefore $K$ are at their  maxima, but the spring is neither stretched or compressed and $U=0$. \n",
    "Half a period later, the spring is at its maximum compression (if initially stretched), $U = kx_0^2/2$ again, and the velocity is zero ($K=0$ again).\n",
    "\n",
    "Notice how I just described a **frequency doubling**: $K$ and $U$ get back to their original values after *half* a period.\n",
    "The periodicity of $K$ and $U$ is twice that of $x$ and $v$, which one can tell mathematically because $\\sin^2(\\omega t) = [1 - \\cos(2\\omega t)]/2$ and $\\cos^2(\\omega t) = [1 + \\cos(2\\omega t)]/2$.\n",
    "**Remember this!**"
   ]
  },
  {
   "cell_type": "markdown",
   "metadata": {
    "slideshow": {
     "slide_type": "skip"
    }
   },
   "source": [
    "# Electrical Analogy: LC Circuit"
   ]
  },
  {
   "cell_type": "markdown",
   "metadata": {
    "slideshow": {
     "slide_type": "skip"
    }
   },
   "source": [
    "## Solutions"
   ]
  },
  {
   "cell_type": "markdown",
   "metadata": {
    "slideshow": {
     "slide_type": "skip"
    }
   },
   "source": [
    "The derivation we just did can be applied to countless systems.\n",
    "It could be about small oscillations of a pendulum (King § 1.3), a horizontal disk hanging from a tortional string, and many more.\n",
    "They all obey a second-order ODE, and the different physics of each oscillator is contained in the angular frequency $\\omega$.\n",
    "We illustrate this point with an electric circuit consisting of a capacitor (capacitance $C$) and an inductor (inductance $L$) connected in series, with a switch in-between (cf. fig. 3).\n",
    "As for the spring, where we ignored all frictional or dissipative processes, we ignore the resistance in the circuit for now.\n",
    "But not to fear, young waver: it will take back its rightful place in the next chapter."
   ]
  },
  {
   "cell_type": "markdown",
   "metadata": {
    "slideshow": {
     "slide_type": "subslide"
    }
   },
   "source": [
    "![Fig. 3](LC_circuit.png)"
   ]
  },
  {
   "cell_type": "markdown",
   "metadata": {
    "slideshow": {
     "slide_type": "skip"
    }
   },
   "source": [
    "Initial conditions:\n",
    "\n",
    "1. Switch is open, capacitor is charged to voltage $V_C$. The charge in the capacitor is $q = CV_C$.\n",
    "\n",
    "2. Switch is open thus currrent $I=\\dot{q} = 0$."
   ]
  },
  {
   "cell_type": "markdown",
   "metadata": {
    "slideshow": {
     "slide_type": "skip"
    }
   },
   "source": [
    "We then close the switch. Current starts flowing, $I = \\dot q \\neq 0$, and the voltage accross $L$ is $V_L = L \\dot I$.\n",
    "Therefore,\n",
    "$$ \\underbrace{V_L+V_C = 0}_{Kirchhof\\!f's\\ law} = L\\dot I + \\frac{q}C  = L\\ddot q + \\frac{q}C, $$\n",
    "or, written in a now familiar form,\n",
    "$$ \\boxed{\\ddot q + \\omega^2 q = 0, \\quad \\textrm{with}\\quad \\omega^2 = 1/(LC).} $$"
   ]
  },
  {
   "cell_type": "markdown",
   "metadata": {
    "slideshow": {
     "slide_type": "skip"
    }
   },
   "source": [
    "Based on the few equations above, there is a one-to-one correspondence between the mass+spring and the capacitor+inductor system.\n",
    "The capacitor packs 'potential energy' (actually, electrostatic energy) and relases it as 'kinetic energy' (actually, magnetic energy), which the inductor uses to send electrons in the other direction and revert the sign of the voltage.\n",
    "More specifically, the correspondance is:"
   ]
  },
  {
   "cell_type": "markdown",
   "metadata": {
    "slideshow": {
     "slide_type": "subslide"
    }
   },
   "source": [
    "| Mass+spring | LC circuit |\n",
    "| :-: | :-: |\n",
    "| $x$ | $q$ |\n",
    "| $v$ | $I$ |\n",
    "| $m$ | $L$ |\n",
    "| $k$ | $1/C$ |\n",
    "| KE $K = mv^2/2$ | Magnetic energy $LI^2/2$ |\n",
    "| PE $U = kx^2/2$ | Electrostatic energy $CV_C^2/2$ |"
   ]
  }
 ],
 "metadata": {
  "anaconda-cloud": {},
  "celltoolbar": "Slideshow",
  "kernelspec": {
   "display_name": "Python [default]",
   "language": "python",
   "name": "python3"
  },
  "language_info": {
   "codemirror_mode": {
    "name": "ipython",
    "version": 3
   },
   "file_extension": ".py",
   "mimetype": "text/x-python",
   "name": "python",
   "nbconvert_exporter": "python",
   "pygments_lexer": "ipython3",
   "version": "3.5.6"
  }
 },
 "nbformat": 4,
 "nbformat_minor": 2
}
